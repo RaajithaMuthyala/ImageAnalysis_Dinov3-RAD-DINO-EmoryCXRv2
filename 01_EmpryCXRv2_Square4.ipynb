{
 "cells": [
  {
   "cell_type": "code",
   "execution_count": 1,
   "id": "5f11195f-1770-441f-b13b-9357d0c25288",
   "metadata": {},
   "outputs": [
    {
     "name": "stdout",
     "output_type": "stream",
     "text": [
      "1\n",
      "NVIDIA L40S\n",
      "CUDA available: True\n",
      "Number of visible GPUs: 1\n",
      "Device 0: NVIDIA L40S\n"
     ]
    }
   ],
   "source": [
    "import os\n",
    "os.environ[\"CUDA_VISIBLE_DEVICES\"] = \"6\"\n",
    "\n",
    "import torch\n",
    "print(torch.cuda.device_count())   # should be 1 now\n",
    "print(torch.cuda.get_device_name(0))  # GPU 8 will appear as cuda:0\n",
    "\n",
    "\n",
    "import torch\n",
    "\n",
    "print(f\"CUDA available: {torch.cuda.is_available()}\")\n",
    "print(f\"Number of visible GPUs: {torch.cuda.device_count()}\")\n",
    "\n",
    "for i in range(torch.cuda.device_count()):\n",
    "    print(f\"Device {i}: {torch.cuda.get_device_name(i)}\")\n"
   ]
  },
  {
   "cell_type": "code",
   "execution_count": 2,
   "id": "274268bf-29f4-4b65-adbc-e1c83a4131c0",
   "metadata": {},
   "outputs": [
    {
     "name": "stderr",
     "output_type": "stream",
     "text": [
      "/mnt/NAS3/homes/rmuthy2/myenv/lib/python3.10/site-packages/tqdm/auto.py:21: TqdmWarning: IProgress not found. Please update jupyter and ipywidgets. See https://ipywidgets.readthedocs.io/en/stable/user_install.html\n",
      "  from .autonotebook import tqdm as notebook_tqdm\n"
     ]
    }
   ],
   "source": [
    "import cv2\n",
    "import numpy as np\n",
    "import random\n",
    "import torch\n",
    "import gc\n",
    "import os\n",
    "import pandas as pd\n",
    "from tqdm import tqdm\n",
    "from transformers import AutoImageProcessor, AutoModel\n",
    "from PIL import Image\n",
    "import json\n",
    "import time\n",
    "from datetime import datetime\n",
    "from scipy import stats\n",
    "\n",
    "class ImagePreprocessor:\n",
    "    \n",
    "    def __init__(self, square_size=3052, target_size=(1024, 1024)):\n",
    "        self.square_size = square_size\n",
    "        self.target_size = target_size\n",
    "    \n",
    "    def analyze_image_color_distribution(self, image):\n",
    "        \"\"\"\n",
    "        Analyze color distribution of the original image and find the mode\n",
    "        Returns the mode value and the noise color range (±20%)\n",
    "        \"\"\"\n",
    "        # Convert to grayscale if colored image for analysis\n",
    "        if len(image.shape) == 3:\n",
    "            gray = cv2.cvtColor(image, cv2.COLOR_BGR2GRAY)\n",
    "        else:\n",
    "            gray = image\n",
    "        \n",
    "        # Calculate histogram\n",
    "        hist = cv2.calcHist([gray], [0], None, [256], [0, 256])\n",
    "        hist = hist.flatten()  # Convert to 1D array for easier processing\n",
    "        \n",
    "        # Find mode in the valid range (20-235) - CORRECTED RANGE\n",
    "        # Create a copy of histogram for finding peaks\n",
    "        hist_for_peaks = hist.copy()\n",
    "        \n",
    "        # Zero out values outside our desired range (20-235)\n",
    "        hist_for_peaks[:21] = 0   # Remove values <= 20\n",
    "        hist_for_peaks[235:] = 0  # Remove values >= 235\n",
    "        \n",
    "        # Find the mode (highest peak) in the valid range\n",
    "        if np.sum(hist_for_peaks) > 0:\n",
    "            mode_value = np.argmax(hist_for_peaks)\n",
    "        else:\n",
    "            # If no pixels in 20-235 range, find next best option\n",
    "            # Look for highest peak outside extreme values (0, 255)\n",
    "            hist_fallback = hist.copy()\n",
    "            hist_fallback[0] = 0\n",
    "            hist_fallback[255] = 0\n",
    "            \n",
    "            if np.sum(hist_fallback) > 0:\n",
    "                mode_value = np.argmax(hist_fallback)\n",
    "            else:\n",
    "                # Final fallback\n",
    "                mode_value = 128\n",
    "        \n",
    "        # Additional check: if mode is still outside 20-235, find next peak\n",
    "        if mode_value <= 20 or mode_value >= 235:\n",
    "            # Find multiple peaks and select the best one in range\n",
    "            hist_copy = hist.copy()\n",
    "            hist_copy[mode_value] = 0  # Remove current peak\n",
    "            \n",
    "            # Look for next highest peak in valid range\n",
    "            hist_copy[:21] = 0   # Remove <= 20\n",
    "            hist_copy[235:] = 0  # Remove >= 235\n",
    "            \n",
    "            if np.sum(hist_copy) > 0:\n",
    "                next_mode = np.argmax(hist_copy)\n",
    "                mode_value = next_mode\n",
    "            else:\n",
    "                mode_value = 128\n",
    "        \n",
    "        # Calculate ±20% range, ensuring it stays within [0, 255]\n",
    "        range_offset = max(int(mode_value * 0.2), 15)  # Minimum range of 15\n",
    "        min_noise_color = max(0, mode_value - range_offset)\n",
    "        max_noise_color = min(255, mode_value + range_offset)\n",
    "        \n",
    "        # Ensure minimum range width of 30 pixels\n",
    "        if max_noise_color - min_noise_color < 30:\n",
    "            center = (min_noise_color + max_noise_color) // 2\n",
    "            min_noise_color = max(0, center - 15)\n",
    "            max_noise_color = min(255, center + 15)\n",
    "        \n",
    "        return mode_value, (min_noise_color, max_noise_color), hist\n",
    "    \n",
    "    def pad_to_square_and_resize(self, image_path, analyze_colors=True):\n",
    "        \"\"\"\n",
    "        Load image, analyze color distribution, then pad and resize\n",
    "        Returns processed image and color analysis results\n",
    "        \"\"\"\n",
    "        # Load image\n",
    "        image = cv2.imread(image_path)\n",
    "        if image is None:\n",
    "            raise ValueError(f\"Cannot load image: {image_path}\")\n",
    "        \n",
    "        # Analyze original image color distribution BEFORE padding\n",
    "        color_analysis = None\n",
    "        if analyze_colors:\n",
    "            mode_value, noise_range, hist = self.analyze_image_color_distribution(image)\n",
    "            color_analysis = {\n",
    "                'mode_value': mode_value,\n",
    "                'noise_range': noise_range,\n",
    "                'histogram': hist\n",
    "            }\n",
    "        \n",
    "        h, w = image.shape[:2]\n",
    "        \n",
    "        # Determine the size of square needed (larger of image dimensions or default square_size)\n",
    "        max_dim = max(h, w, self.square_size)\n",
    "        \n",
    "        # Step 1: Pad to square with black padding (using the larger dimension)\n",
    "        pad_h = max_dim - h\n",
    "        pad_w = max_dim - w\n",
    "        \n",
    "        top = pad_h // 2\n",
    "        bottom = pad_h - top\n",
    "        left = pad_w // 2\n",
    "        right = pad_w - left\n",
    "        \n",
    "        # Black padding\n",
    "        if len(image.shape) == 3:\n",
    "            padded = cv2.copyMakeBorder(image, top, bottom, left, right, \n",
    "                                      cv2.BORDER_CONSTANT, value=[0, 0, 0])\n",
    "        else:\n",
    "            padded = cv2.copyMakeBorder(image, top, bottom, left, right, \n",
    "                                      cv2.BORDER_CONSTANT, value=0)\n",
    "        \n",
    "        # Step 2: Resize to target size (1024x1024)\n",
    "        resized = cv2.resize(padded, self.target_size, interpolation=cv2.INTER_LANCZOS4)\n",
    "        \n",
    "        return resized, color_analysis\n",
    "\n",
    "class NoiseInjector:\n",
    "    \n",
    "    def __init__(self):\n",
    "        pass\n",
    "    \n",
    "    def generate_varied_noise_colors(self, color_analysis, dot_size, include_black=True):\n",
    "        \"\"\"\n",
    "        Generate a varied range of colors for the noise dot including black\n",
    "        Returns a dot_size x dot_size array of different colors\n",
    "        \"\"\"\n",
    "        if color_analysis is None:\n",
    "            # Fallback to random colors including black\n",
    "            colors = np.random.randint(0, 256, size=(dot_size, dot_size), dtype=np.uint8)\n",
    "            if include_black:\n",
    "                # Ensure some pixels are black\n",
    "                num_black = max(1, (dot_size * dot_size) // 4)  # 25% black pixels\n",
    "                black_positions = np.random.choice(dot_size * dot_size, num_black, replace=False)\n",
    "                colors_flat = colors.flatten()\n",
    "                colors_flat[black_positions] = 0\n",
    "                colors = colors_flat.reshape(dot_size, dot_size)\n",
    "            return colors\n",
    "        \n",
    "        # Get noise color range from analysis\n",
    "        min_color, max_color = color_analysis['noise_range']\n",
    "        mode_value = color_analysis['mode_value']\n",
    "        \n",
    "        # Create varied colors within the range\n",
    "        colors = np.zeros((dot_size, dot_size), dtype=np.uint8)\n",
    "        \n",
    "        # Fill with random colors from the noise range\n",
    "        for i in range(dot_size):\n",
    "            for j in range(dot_size):\n",
    "                colors[i, j] = random.randint(min_color, max_color)\n",
    "        \n",
    "        # Add some black pixels for variety if requested\n",
    "        if include_black:\n",
    "            # Add 20-30% black pixels randomly\n",
    "            num_black = random.randint(\n",
    "                max(1, (dot_size * dot_size) // 5),  # At least 20%\n",
    "                max(1, (dot_size * dot_size) // 3)   # At most 33%\n",
    "            )\n",
    "            \n",
    "            # Randomly select positions for black pixels\n",
    "            total_pixels = dot_size * dot_size\n",
    "            black_positions = random.sample(range(total_pixels), num_black)\n",
    "            \n",
    "            for pos in black_positions:\n",
    "                i, j = divmod(pos, dot_size)\n",
    "                colors[i, j] = 0  # Black\n",
    "        \n",
    "        # Optionally add a few very bright or very dark pixels for more contrast\n",
    "        num_extreme = max(1, (dot_size * dot_size) // 8)  # 12.5% extreme colors\n",
    "        extreme_positions = random.sample(range(dot_size * dot_size), num_extreme)\n",
    "        \n",
    "        for pos in extreme_positions:\n",
    "            i, j = divmod(pos, dot_size)\n",
    "            # 50% chance of very bright or very dark\n",
    "            if random.random() < 0.5:\n",
    "                colors[i, j] = random.randint(200, 255)  # Bright\n",
    "            else:\n",
    "                colors[i, j] = random.randint(0, 50)     # Dark\n",
    "        \n",
    "        return colors\n",
    "    \n",
    "    def add_adaptive_dot_noise(self, image, color_analysis, dot_size=2, num_dots=1, include_black=True):\n",
    "        \"\"\"\n",
    "        Add noise dots using varied colors from the adaptive range\n",
    "        Returns the image with noise and the actual noise colors used\n",
    "        \"\"\"\n",
    "        image_with_noise = image.copy()\n",
    "        h, w = image.shape[:2]\n",
    "        \n",
    "        # Conservative approach: use center 70% region for dot placement\n",
    "        margin_x, margin_y = int(0.15 * w), int(0.15 * h)\n",
    "        x_min, y_min = margin_x, margin_y\n",
    "        x_max, y_max = w - margin_x - dot_size, h - margin_y - dot_size\n",
    "        \n",
    "        all_noise_colors = []\n",
    "        \n",
    "        for _ in range(num_dots):\n",
    "            # Random position within anatomical region\n",
    "            x = random.randint(x_min, x_max)\n",
    "            y = random.randint(y_min, y_max)\n",
    "            \n",
    "            # Generate varied noise colors for this dot\n",
    "            noise_colors = self.generate_varied_noise_colors(color_analysis, dot_size, include_black)\n",
    "            all_noise_colors.append(noise_colors)\n",
    "            \n",
    "            # Add the varied color noise dot\n",
    "            if len(image.shape) == 3:\n",
    "                # For colored images, use the noise colors in all channels\n",
    "                for i in range(dot_size):\n",
    "                    for j in range(dot_size):\n",
    "                        color_val = noise_colors[i, j]\n",
    "                        image_with_noise[y+i:y+i+1, x+j:x+j+1] = [color_val, color_val, color_val]\n",
    "            else:\n",
    "                # For grayscale images, directly apply the noise pattern\n",
    "                image_with_noise[y:y+dot_size, x:x+dot_size] = noise_colors\n",
    "        \n",
    "        return image_with_noise, all_noise_colors\n",
    "\n",
    "class EmbeddingExtractor:\n",
    "    \n",
    "    def __init__(self):\n",
    "        self.device = torch.device('cuda' if torch.cuda.is_available() else 'cpu')\n",
    "        print(f\"Using device: {self.device}\")\n",
    "        \n",
    "        # Clear GPU memory before loading models\n",
    "        if torch.cuda.is_available():\n",
    "            torch.cuda.empty_cache()\n",
    "        \n",
    "        # Load models with memory management\n",
    "        self.load_raddino_model()\n",
    "        \n",
    "        # Clear memory before loading second model\n",
    "        if torch.cuda.is_available():\n",
    "            torch.cuda.empty_cache()\n",
    "            \n",
    "        self.load_dinov3_model()\n",
    "        \n",
    "    def load_raddino_model(self):\n",
    "        \"\"\"Load RadDiNo model from HuggingFace\"\"\"\n",
    "        try:\n",
    "            print(\"Loading RadDiNo model...\")\n",
    "            self.raddino_processor = AutoImageProcessor.from_pretrained(\"microsoft/rad-dino\")\n",
    "            self.raddino_model = AutoModel.from_pretrained(\"microsoft/rad-dino\").to(self.device)\n",
    "            self.raddino_model.eval()\n",
    "            print(\"RadDiNo model loaded successfully\")\n",
    "        except Exception as e:\n",
    "            print(f\"Error loading RadDiNo model: {e}\")\n",
    "            self.raddino_model = None\n",
    "            self.raddino_processor = None\n",
    "    \n",
    "    def load_dinov3_model(self):\n",
    "        try:\n",
    "            print(\"Loading DINOv3 model...\")\n",
    "            self.dinov3_processor = AutoImageProcessor.from_pretrained(\"facebook/dinov3-vit7b16-pretrain-lvd1689m\")\n",
    "            self.dinov3_model = AutoModel.from_pretrained(\"facebook/dinov3-vit7b16-pretrain-lvd1689m\").to(self.device)\n",
    "            self.dinov3_model.eval()\n",
    "            print(\"DINOv3 model loaded successfully\")\n",
    "        except Exception as e:\n",
    "            print(f\"Error loading DINOv3 model: {e}\")\n",
    "            self.dinov3_model = None\n",
    "            self.dinov3_processor = None\n",
    "            \n",
    "    def _to_pil(self, image):\n",
    "        # numpy BGR/RGB or grayscale -> PIL RGB\n",
    "        if image.ndim == 3:\n",
    "            # OpenCV read path leads to BGR; convert to RGB\n",
    "            return Image.fromarray(cv2.cvtColor(image, cv2.COLOR_BGR2RGB))\n",
    "        else:\n",
    "            # grayscale\n",
    "            return Image.fromarray(image).convert(\"RGB\")\n",
    "            \n",
    "    def extract_raddino_batch(self, images):\n",
    "        \"\"\"images: list of numpy arrays (H,W[,3])\"\"\"\n",
    "        if self.raddino_model is None:\n",
    "            return None\n",
    "        \n",
    "        pil_list = [self._to_pil(im) for im in images]\n",
    "        with torch.no_grad():\n",
    "            inputs = self.raddino_processor(pil_list, return_tensors=\"pt\").to(self.device)\n",
    "            outputs = self.raddino_model(**inputs)\n",
    "            if hasattr(outputs, \"pooler_output\") and outputs.pooler_output is not None:\n",
    "                embs = outputs.pooler_output\n",
    "            else:\n",
    "                # (B, T, D) -> mean over tokens\n",
    "                embs = outputs.last_hidden_state.mean(dim=1)\n",
    "            return embs.detach().cpu().numpy()\n",
    "    \n",
    "    def extract_dinov3_batch(self, images):\n",
    "        if self.dinov3_model is None:\n",
    "            return None\n",
    "            \n",
    "        pil_list = [self._to_pil(im) for im in images]\n",
    "        with torch.no_grad():\n",
    "            inputs = self.dinov3_processor(pil_list, return_tensors=\"pt\").to(self.device)\n",
    "            outputs = self.dinov3_model(**inputs)\n",
    "            if hasattr(outputs, \"pooler_output\") and outputs.pooler_output is not None:\n",
    "                embs = outputs.pooler_output\n",
    "            else:\n",
    "                embs = outputs.last_hidden_state.mean(dim=1)\n",
    "            return embs.detach().cpu().numpy()\n",
    "\n",
    "class ProgressTracker:\n",
    "    \"\"\"Track progress and enable resuming from checkpoints\"\"\"\n",
    "    \n",
    "    def __init__(self, output_dir):\n",
    "        self.output_dir = output_dir\n",
    "        self.progress_file = os.path.join(output_dir, \"progress.json\")\n",
    "        self.load_progress()\n",
    "    \n",
    "    def load_progress(self):\n",
    "        \"\"\"Load existing progress if available\"\"\"\n",
    "        if os.path.exists(self.progress_file):\n",
    "            with open(self.progress_file, 'r') as f:\n",
    "                self.progress = json.load(f)\n",
    "        else:\n",
    "            self.progress = {\n",
    "                \"completed_tasks\": [],\n",
    "                \"current_task\": None,\n",
    "                \"last_updated\": None\n",
    "            }\n",
    "    \n",
    "    def save_progress(self):\n",
    "        \"\"\"Save current progress\"\"\"\n",
    "        self.progress[\"last_updated\"] = datetime.now().isoformat()\n",
    "        os.makedirs(self.output_dir, exist_ok=True)\n",
    "        with open(self.progress_file, 'w') as f:\n",
    "            json.dump(self.progress, f, indent=2)\n",
    "    \n",
    "    def is_task_completed(self, task_id):\n",
    "        \"\"\"Check if a task is already completed\"\"\"\n",
    "        return task_id in self.progress[\"completed_tasks\"]\n",
    "    \n",
    "    def mark_task_completed(self, task_id):\n",
    "        \"\"\"Mark a task as completed\"\"\"\n",
    "        if task_id not in self.progress[\"completed_tasks\"]:\n",
    "            self.progress[\"completed_tasks\"].append(task_id)\n",
    "        self.save_progress()\n",
    "    \n",
    "    def set_current_task(self, task_id):\n",
    "        \"\"\"Set the current task being processed\"\"\"\n",
    "        self.progress[\"current_task\"] = task_id\n",
    "        self.save_progress()\n",
    "\n",
    "class ImagePipeline:\n",
    "    \"\"\"Complete pipeline for image processing and embedding extraction with adaptive noise\"\"\"\n",
    "    \n",
    "    def __init__(self, root_path):\n",
    "        self.root_path = root_path\n",
    "        self.preprocessor = ImagePreprocessor()\n",
    "        self.noise_injector = NoiseInjector()\n",
    "        self.embedding_extractor = EmbeddingExtractor()\n",
    "    \n",
    "    def load_datasets(self, train_csv_path, test_csv_path):\n",
    "        \"\"\"Load train and test CSV files\"\"\"\n",
    "        print(\"Loading datasets...\")\n",
    "        self.train_df = pd.read_csv(train_csv_path)\n",
    "        self.test_df = pd.read_csv(test_csv_path)\n",
    "        \n",
    "        print(f\"Train dataset shape: {self.train_df.shape}\")\n",
    "        print(f\"Test dataset shape: {self.test_df.shape}\")\n",
    "        \n",
    "        # Validate required columns\n",
    "        required_cols = ['ImagePath', 'noise']\n",
    "        for df_name, df in [('train', self.train_df), ('test', self.test_df)]:\n",
    "            missing_cols = [col for col in required_cols if col not in df.columns]\n",
    "            if missing_cols:\n",
    "                raise ValueError(f\"Missing columns in {df_name} dataset: {missing_cols}\")\n",
    "        \n",
    "        return self.train_df, self.test_df\n",
    "    \n",
    "    def process_single_image(self, image_path, add_noise=False, dot_size=2):\n",
    "        \"\"\"Process single image: analyze colors, resize and optionally add adaptive noise\"\"\"\n",
    "        # Accept absolute or relative paths\n",
    "        full_image_path = image_path if os.path.isabs(image_path) else os.path.join(self.root_path, image_path)\n",
    "        \n",
    "        if not os.path.exists(full_image_path):\n",
    "            raise FileNotFoundError(f\"Image not found: {full_image_path}\")\n",
    "        \n",
    "        # Step 1: Analyze colors, pad to 3052x3052 and resize to 1024x1024\n",
    "        processed_image, color_analysis = self.preprocessor.pad_to_square_and_resize(\n",
    "            full_image_path, analyze_colors=True\n",
    "        )\n",
    "        \n",
    "        # Step 2: Add adaptive noise if required\n",
    "        if add_noise and color_analysis is not None:\n",
    "            processed_image, noise_colors = self.noise_injector.add_adaptive_dot_noise(\n",
    "                processed_image, color_analysis, dot_size=dot_size, num_dots=1, include_black=True\n",
    "            )\n",
    "        elif add_noise:\n",
    "            # Fallback to white noise if color analysis failed\n",
    "            if len(processed_image.shape) == 3:\n",
    "                processed_image[100:100+dot_size, 100:100+dot_size] = [255, 255, 255]\n",
    "            else:\n",
    "                processed_image[100:100+dot_size, 100:100+dot_size] = 255\n",
    "        \n",
    "        return processed_image\n",
    "\n",
    "    def extract_embeddings_for_dataset_batched(self, df, dataset_name, dot_size, batch_size=32, \n",
    "                                             save_intermediate=True, intermediate_save_frequency=100):\n",
    "        \"\"\"Extract embeddings for entire dataset using batched processing with intermediate saves\"\"\"\n",
    "        print(f\"\\nExtracting embeddings for {dataset_name} (dot={dot_size}) in batches of {batch_size}...\")\n",
    "        result_df = df.copy()\n",
    "        rcol = f'raddino_embedding_dot{dot_size}'\n",
    "        dcol = f'dinov3_embedding_dot{dot_size}'\n",
    "        result_df[rcol] = None\n",
    "        result_df[dcol] = None\n",
    "        \n",
    "        idxs = result_df.index.tolist()\n",
    "        total_batches = len(range(0, len(idxs), batch_size))\n",
    "        \n",
    "        # Setup intermediate save path\n",
    "        if save_intermediate:\n",
    "            intermediate_dir = os.path.join(os.path.dirname(self.output_dir), \"intermediate_saves\")\n",
    "            os.makedirs(intermediate_dir, exist_ok=True)\n",
    "            intermediate_path = os.path.join(intermediate_dir, f\"{dataset_name}_dot{dot_size}_intermediate.parquet\")\n",
    "        \n",
    "        batch_count = 0\n",
    "        for start in tqdm(range(0, len(idxs), batch_size), desc=f\"Processing {dataset_name}\"):\n",
    "            batch_start_time = time.time()\n",
    "            end = min(start + batch_size, len(idxs))\n",
    "            batch_idx = idxs[start:end]\n",
    "            \n",
    "            # Load and process images\n",
    "            load_start_time = time.time()\n",
    "            imgs = []\n",
    "            for i in batch_idx:\n",
    "                row = result_df.loc[i]\n",
    "                try:\n",
    "                    add_noise = (row['noise'] == 1)\n",
    "                    im = self.process_single_image(row['ImagePath'], add_noise=add_noise, dot_size=dot_size)\n",
    "                except Exception as e:\n",
    "                    print(f\"Error processing {row['ImagePath']}: {e}\")\n",
    "                    im = None\n",
    "                imgs.append(im)\n",
    "            load_time = time.time() - load_start_time\n",
    "            \n",
    "            valid_mask = [im is not None for im in imgs]\n",
    "            valid_imgs = [im for im, ok in zip(imgs, valid_mask) if ok]\n",
    "            if len(valid_imgs) == 0:\n",
    "                for i, ok in zip(batch_idx, valid_mask):\n",
    "                    if not ok:\n",
    "                        result_df.at[i, rcol] = None\n",
    "                        result_df.at[i, dcol] = None\n",
    "                continue\n",
    "            \n",
    "            # Extract embeddings in batch\n",
    "            embed_start_time = time.time()\n",
    "            r_embs = self.embedding_extractor.extract_raddino_batch(valid_imgs)\n",
    "            d_embs = self.embedding_extractor.extract_dinov3_batch(valid_imgs)\n",
    "            embed_time = time.time() - embed_start_time\n",
    "            \n",
    "            # Store results back to dataframe\n",
    "            store_start_time = time.time()\n",
    "            valid_iter = iter(range(len(valid_imgs)))\n",
    "            for i, ok in zip(batch_idx, valid_mask):\n",
    "                if ok:\n",
    "                    j = next(valid_iter)\n",
    "                    if r_embs is not None and len(r_embs) > j:\n",
    "                        result_df.at[i, rcol] = r_embs[j].tolist()\n",
    "                    else:\n",
    "                        result_df.at[i, rcol] = None\n",
    "                        \n",
    "                    if d_embs is not None and len(d_embs) > j:\n",
    "                        result_df.at[i, dcol] = d_embs[j].tolist()\n",
    "                    else:\n",
    "                        result_df.at[i, dcol] = None\n",
    "                else:\n",
    "                    result_df.at[i, rcol] = None\n",
    "                    result_df.at[i, dcol] = None\n",
    "            store_time = time.time() - store_start_time\n",
    "            \n",
    "            # Memory cleanup\n",
    "            if torch.cuda.is_available():\n",
    "                torch.cuda.empty_cache()\n",
    "            gc.collect()\n",
    "            \n",
    "            batch_count += 1\n",
    "            batch_total_time = time.time() - batch_start_time\n",
    "            \n",
    "            # Save intermediate results periodically\n",
    "            if save_intermediate and (batch_count % intermediate_save_frequency == 0 or batch_count == total_batches):\n",
    "                result_df.to_parquet(intermediate_path, index=False)\n",
    "            \n",
    "            # Print timing every 10 batches\n",
    "            if batch_count % 10 == 0 or batch_count == total_batches:\n",
    "                print(f\"\\nBatch {batch_count}/{total_batches}: \"\n",
    "                      f\"Load={load_time:.2f}s, \"\n",
    "                      f\"Embed={embed_time:.2f}s, \"\n",
    "                      f\"Store={store_time:.2f}s, \"\n",
    "                      f\"Total={batch_total_time:.2f}s, \"\n",
    "                      f\"Images/sec={len(valid_imgs)/batch_total_time:.2f}\")\n",
    "                \n",
    "                # Estimate remaining time\n",
    "                if batch_count < total_batches:\n",
    "                    avg_batch_time = batch_total_time\n",
    "                    remaining_batches = total_batches - batch_count\n",
    "                    estimated_remaining_time = remaining_batches * avg_batch_time / 60  # in minutes\n",
    "                    print(f\"Estimated remaining time: {estimated_remaining_time:.1f} minutes\")\n",
    "        \n",
    "        return result_df\n",
    "        \n",
    "    def save_parquet_files(self, df, dataset_name, dot_size, output_dir=\"output\"):\n",
    "        \"\"\"Save separate parquet files for RadDiNo and DINOv3 embeddings\"\"\"\n",
    "        os.makedirs(output_dir, exist_ok=True)\n",
    "        \n",
    "        # Create separate dataframes for each model\n",
    "        raddino_df = df[['AccessionNumber_anon', 'ImagePath', 'ViewPosition', 'CLAHE', 'Cardiomegaly', 'noise', f'raddino_embedding_dot{dot_size}']].copy()\n",
    "        dinov3_df = df[['AccessionNumber_anon', 'ImagePath', 'ViewPosition', 'CLAHE', 'Cardiomegaly', 'noise', f'dinov3_embedding_dot{dot_size}']].copy()\n",
    "        \n",
    "        # Save parquet files\n",
    "        raddino_filename = f\"{output_dir}/raddino-{dataset_name}-dot{dot_size}.parquet\"\n",
    "        dinov3_filename = f\"{output_dir}/dinov3-{dataset_name}-dot{dot_size}.parquet\"\n",
    "        \n",
    "        raddino_df.to_parquet(raddino_filename, index=False)\n",
    "        dinov3_df.to_parquet(dinov3_filename, index=False)\n",
    "        \n",
    "        print(f\"Saved: {raddino_filename}\")\n",
    "        print(f\"Saved: {dinov3_filename}\")\n",
    "        \n",
    "        return raddino_filename, dinov3_filename\n",
    "    \n",
    "    def run_single_dot_size(self, train_csv_path, test_csv_path, dot_size, output_dir=\"output\", batch_size=32):\n",
    "        \"\"\"Run pipeline for a single dot size - allows for individual execution\"\"\"\n",
    "        print(f\"=\" * 60)\n",
    "        print(f\"PROCESSING DOT SIZE: {dot_size}x{dot_size}\")\n",
    "        print(f\"=\" * 60)\n",
    "        \n",
    "        # Initialize progress tracker\n",
    "        self.output_dir = output_dir\n",
    "        tracker = ProgressTracker(output_dir)\n",
    "        \n",
    "        # Load datasets\n",
    "        train_df, test_df = self.load_datasets(train_csv_path, test_csv_path)\n",
    "        \n",
    "        # Define task IDs\n",
    "        train_task = f\"train_dot{dot_size}\"\n",
    "        test_task = f\"test_dot{dot_size}\"\n",
    "        \n",
    "        # Process train dataset\n",
    "        if not tracker.is_task_completed(train_task):\n",
    "            print(f\"\\nProcessing train dataset for dot size {dot_size}...\")\n",
    "            tracker.set_current_task(train_task)\n",
    "            \n",
    "            train_result = self.extract_embeddings_for_dataset_batched(\n",
    "                train_df, \"train\", dot_size, batch_size=batch_size,\n",
    "                save_intermediate=True, intermediate_save_frequency=50\n",
    "            )\n",
    "            \n",
    "            self.save_parquet_files(train_result, \"train\", dot_size, output_dir)\n",
    "            tracker.mark_task_completed(train_task)\n",
    "            \n",
    "            del train_result\n",
    "            gc.collect()\n",
    "            if torch.cuda.is_available():\n",
    "                torch.cuda.empty_cache()\n",
    "        else:\n",
    "            print(f\"Train dataset for dot size {dot_size} already completed. Skipping...\")\n",
    "        \n",
    "        # Process test dataset\n",
    "        if not tracker.is_task_completed(test_task):\n",
    "            print(f\"\\nProcessing test dataset for dot size {dot_size}...\")\n",
    "            tracker.set_current_task(test_task)\n",
    "            \n",
    "            test_result = self.extract_embeddings_for_dataset_batched(\n",
    "                test_df, \"test\", dot_size, batch_size=batch_size,\n",
    "                save_intermediate=True, intermediate_save_frequency=50\n",
    "            )\n",
    "            \n",
    "            self.save_parquet_files(test_result, \"test\", dot_size, output_dir)\n",
    "            tracker.mark_task_completed(test_task)\n",
    "            \n",
    "            del test_result\n",
    "            gc.collect()\n",
    "            if torch.cuda.is_available():\n",
    "                torch.cuda.empty_cache()\n",
    "        else:\n",
    "            print(f\"Test dataset for dot size {dot_size} already completed. Skipping...\")\n",
    "        \n",
    "        print(f\"\\nCompleted processing for dot size {dot_size}\")\n",
    "        return True\n"
   ]
  },
  {
   "cell_type": "code",
   "execution_count": 3,
   "id": "c6ca4226-0018-435e-a904-86db268901e0",
   "metadata": {
    "scrolled": true
   },
   "outputs": [
    {
     "name": "stdout",
     "output_type": "stream",
     "text": [
      "Using device: cuda\n",
      "Loading RadDiNo model...\n"
     ]
    },
    {
     "name": "stderr",
     "output_type": "stream",
     "text": [
      "Fetching 1 files: 100%|██████████| 1/1 [00:00<00:00, 20763.88it/s]\n",
      "Using a slow image processor as `use_fast` is unset and a slow processor was saved with this model. `use_fast=True` will be the default behavior in v4.52, even if the model was saved with a slow processor. This will result in minor differences in outputs. You'll still be able to use a slow processor with `use_fast=False`.\n"
     ]
    },
    {
     "name": "stdout",
     "output_type": "stream",
     "text": [
      "RadDiNo model loaded successfully\n",
      "Loading DINOv3 model...\n"
     ]
    },
    {
     "name": "stderr",
     "output_type": "stream",
     "text": [
      "Fetching 1 files: 100%|██████████| 1/1 [00:00<00:00, 20867.18it/s]\n",
      "Loading checkpoint shards: 100%|██████████| 6/6 [00:00<00:00, 109.01it/s]\n"
     ]
    },
    {
     "name": "stdout",
     "output_type": "stream",
     "text": [
      "DINOv3 model loaded successfully\n",
      "============================================================\n",
      "PROCESSING DOT SIZE: 4x4\n",
      "============================================================\n",
      "Loading datasets...\n",
      "Train dataset shape: (109824, 6)\n",
      "Test dataset shape: (27456, 6)\n",
      "\n",
      "Processing train dataset for dot size 4...\n",
      "\n",
      "Extracting embeddings for train (dot=4) in batches of 12...\n"
     ]
    },
    {
     "name": "stderr",
     "output_type": "stream",
     "text": [
      "Processing train:   0%|          | 10/9152 [00:34<8:31:01,  3.35s/it]"
     ]
    },
    {
     "name": "stdout",
     "output_type": "stream",
     "text": [
      "\n",
      "Batch 10/9152: Load=1.63s, Embed=1.63s, Store=0.00s, Total=3.40s, Images/sec=3.53\n",
      "Estimated remaining time: 518.0 minutes\n"
     ]
    },
    {
     "name": "stderr",
     "output_type": "stream",
     "text": [
      "Processing train:   0%|          | 20/9152 [01:07<8:31:01,  3.36s/it]"
     ]
    },
    {
     "name": "stdout",
     "output_type": "stream",
     "text": [
      "\n",
      "Batch 20/9152: Load=1.56s, Embed=1.60s, Store=0.00s, Total=3.30s, Images/sec=3.63\n",
      "Estimated remaining time: 502.9 minutes\n"
     ]
    },
    {
     "name": "stderr",
     "output_type": "stream",
     "text": [
      "Processing train:   0%|          | 30/9152 [01:42<8:46:18,  3.46s/it]"
     ]
    },
    {
     "name": "stdout",
     "output_type": "stream",
     "text": [
      "\n",
      "Batch 30/9152: Load=1.75s, Embed=1.63s, Store=0.00s, Total=3.62s, Images/sec=3.32\n",
      "Estimated remaining time: 550.0 minutes\n"
     ]
    },
    {
     "name": "stderr",
     "output_type": "stream",
     "text": [
      "Processing train:   0%|          | 40/9152 [02:17<8:55:19,  3.52s/it]"
     ]
    },
    {
     "name": "stdout",
     "output_type": "stream",
     "text": [
      "\n",
      "Batch 40/9152: Load=1.66s, Embed=1.69s, Store=0.00s, Total=3.55s, Images/sec=3.38\n",
      "Estimated remaining time: 539.1 minutes\n"
     ]
    },
    {
     "name": "stderr",
     "output_type": "stream",
     "text": [
      "Processing train:   1%|          | 50/9152 [02:54<9:19:02,  3.69s/it]"
     ]
    },
    {
     "name": "stdout",
     "output_type": "stream",
     "text": [
      "\n",
      "Batch 50/9152: Load=1.72s, Embed=1.67s, Store=0.00s, Total=3.60s, Images/sec=3.34\n",
      "Estimated remaining time: 545.6 minutes\n"
     ]
    },
    {
     "name": "stderr",
     "output_type": "stream",
     "text": [
      "Processing train:   1%|          | 60/9152 [03:29<8:56:16,  3.54s/it]"
     ]
    },
    {
     "name": "stdout",
     "output_type": "stream",
     "text": [
      "\n",
      "Batch 60/9152: Load=1.68s, Embed=1.65s, Store=0.00s, Total=3.52s, Images/sec=3.41\n",
      "Estimated remaining time: 533.5 minutes\n"
     ]
    },
    {
     "name": "stderr",
     "output_type": "stream",
     "text": [
      "Processing train:   1%|          | 70/9152 [04:04<8:59:19,  3.56s/it]"
     ]
    },
    {
     "name": "stdout",
     "output_type": "stream",
     "text": [
      "\n",
      "Batch 70/9152: Load=1.69s, Embed=1.69s, Store=0.00s, Total=3.58s, Images/sec=3.35\n",
      "Estimated remaining time: 541.4 minutes\n"
     ]
    },
    {
     "name": "stderr",
     "output_type": "stream",
     "text": [
      "Processing train:   1%|          | 80/9152 [04:40<8:57:13,  3.55s/it]"
     ]
    },
    {
     "name": "stdout",
     "output_type": "stream",
     "text": [
      "\n",
      "Batch 80/9152: Load=1.70s, Embed=1.69s, Store=0.00s, Total=3.59s, Images/sec=3.34\n",
      "Estimated remaining time: 543.0 minutes\n"
     ]
    },
    {
     "name": "stderr",
     "output_type": "stream",
     "text": [
      "Processing train:   1%|          | 90/9152 [05:15<8:52:47,  3.53s/it]"
     ]
    },
    {
     "name": "stdout",
     "output_type": "stream",
     "text": [
      "\n",
      "Batch 90/9152: Load=1.73s, Embed=1.66s, Store=0.00s, Total=3.55s, Images/sec=3.38\n",
      "Estimated remaining time: 536.9 minutes\n"
     ]
    },
    {
     "name": "stderr",
     "output_type": "stream",
     "text": [
      "Processing train:   1%|          | 100/9152 [05:51<9:20:46,  3.72s/it]"
     ]
    },
    {
     "name": "stdout",
     "output_type": "stream",
     "text": [
      "\n",
      "Batch 100/9152: Load=1.69s, Embed=1.63s, Store=0.00s, Total=3.49s, Images/sec=3.44\n",
      "Estimated remaining time: 526.3 minutes\n"
     ]
    },
    {
     "name": "stderr",
     "output_type": "stream",
     "text": [
      "Processing train:   1%|          | 110/9152 [06:26<8:55:11,  3.55s/it]"
     ]
    },
    {
     "name": "stdout",
     "output_type": "stream",
     "text": [
      "\n",
      "Batch 110/9152: Load=1.71s, Embed=1.66s, Store=0.00s, Total=3.54s, Images/sec=3.39\n",
      "Estimated remaining time: 533.7 minutes\n"
     ]
    },
    {
     "name": "stderr",
     "output_type": "stream",
     "text": [
      "Processing train:   1%|▏         | 120/9152 [07:01<8:51:01,  3.53s/it]"
     ]
    },
    {
     "name": "stdout",
     "output_type": "stream",
     "text": [
      "\n",
      "Batch 120/9152: Load=1.67s, Embed=1.65s, Store=0.00s, Total=3.50s, Images/sec=3.43\n",
      "Estimated remaining time: 526.8 minutes\n"
     ]
    },
    {
     "name": "stderr",
     "output_type": "stream",
     "text": [
      "Processing train:   1%|▏         | 130/9152 [07:36<8:47:18,  3.51s/it]"
     ]
    },
    {
     "name": "stdout",
     "output_type": "stream",
     "text": [
      "\n",
      "Batch 130/9152: Load=1.62s, Embed=1.69s, Store=0.00s, Total=3.48s, Images/sec=3.45\n",
      "Estimated remaining time: 522.7 minutes\n"
     ]
    },
    {
     "name": "stderr",
     "output_type": "stream",
     "text": [
      "Processing train:   2%|▏         | 140/9152 [08:11<8:45:50,  3.50s/it]"
     ]
    },
    {
     "name": "stdout",
     "output_type": "stream",
     "text": [
      "\n",
      "Batch 140/9152: Load=1.72s, Embed=1.62s, Store=0.00s, Total=3.52s, Images/sec=3.41\n",
      "Estimated remaining time: 528.6 minutes\n"
     ]
    },
    {
     "name": "stderr",
     "output_type": "stream",
     "text": [
      "Processing train:   2%|▏         | 150/9152 [08:47<9:24:36,  3.76s/it]"
     ]
    },
    {
     "name": "stdout",
     "output_type": "stream",
     "text": [
      "\n",
      "Batch 150/9152: Load=1.72s, Embed=1.68s, Store=0.00s, Total=3.58s, Images/sec=3.36\n",
      "Estimated remaining time: 536.4 minutes\n"
     ]
    },
    {
     "name": "stderr",
     "output_type": "stream",
     "text": [
      "Processing train:   2%|▏         | 160/9152 [09:22<8:47:39,  3.52s/it]"
     ]
    },
    {
     "name": "stdout",
     "output_type": "stream",
     "text": [
      "\n",
      "Batch 160/9152: Load=1.64s, Embed=1.62s, Store=0.00s, Total=3.44s, Images/sec=3.49\n",
      "Estimated remaining time: 515.6 minutes\n"
     ]
    },
    {
     "name": "stderr",
     "output_type": "stream",
     "text": [
      "Processing train:   2%|▏         | 170/9152 [09:57<8:40:51,  3.48s/it]"
     ]
    },
    {
     "name": "stdout",
     "output_type": "stream",
     "text": [
      "\n",
      "Batch 170/9152: Load=1.69s, Embed=1.67s, Store=0.00s, Total=3.55s, Images/sec=3.38\n",
      "Estimated remaining time: 531.5 minutes\n"
     ]
    },
    {
     "name": "stderr",
     "output_type": "stream",
     "text": [
      "Processing train:   2%|▏         | 180/9152 [10:31<8:44:03,  3.50s/it]"
     ]
    },
    {
     "name": "stdout",
     "output_type": "stream",
     "text": [
      "\n",
      "Batch 180/9152: Load=1.71s, Embed=1.64s, Store=0.00s, Total=3.55s, Images/sec=3.38\n",
      "Estimated remaining time: 530.3 minutes\n"
     ]
    },
    {
     "name": "stderr",
     "output_type": "stream",
     "text": [
      "Processing train:   2%|▏         | 190/9152 [11:07<8:43:52,  3.51s/it]"
     ]
    },
    {
     "name": "stdout",
     "output_type": "stream",
     "text": [
      "\n",
      "Batch 190/9152: Load=1.68s, Embed=1.65s, Store=0.00s, Total=3.52s, Images/sec=3.41\n",
      "Estimated remaining time: 525.9 minutes\n"
     ]
    },
    {
     "name": "stderr",
     "output_type": "stream",
     "text": [
      "Processing train:   2%|▏         | 200/9152 [11:43<9:46:45,  3.93s/it]"
     ]
    },
    {
     "name": "stdout",
     "output_type": "stream",
     "text": [
      "\n",
      "Batch 200/9152: Load=1.66s, Embed=1.64s, Store=0.00s, Total=3.50s, Images/sec=3.43\n",
      "Estimated remaining time: 522.3 minutes\n"
     ]
    },
    {
     "name": "stderr",
     "output_type": "stream",
     "text": [
      "Processing train:   2%|▏         | 210/9152 [12:18<8:39:35,  3.49s/it]"
     ]
    },
    {
     "name": "stdout",
     "output_type": "stream",
     "text": [
      "\n",
      "Batch 210/9152: Load=1.66s, Embed=1.63s, Store=0.00s, Total=3.49s, Images/sec=3.44\n",
      "Estimated remaining time: 519.8 minutes\n"
     ]
    },
    {
     "name": "stderr",
     "output_type": "stream",
     "text": [
      "Processing train:   2%|▏         | 220/9152 [12:54<8:45:33,  3.53s/it]"
     ]
    },
    {
     "name": "stdout",
     "output_type": "stream",
     "text": [
      "\n",
      "Batch 220/9152: Load=1.60s, Embed=1.68s, Store=0.00s, Total=3.48s, Images/sec=3.45\n",
      "Estimated remaining time: 517.5 minutes\n"
     ]
    },
    {
     "name": "stderr",
     "output_type": "stream",
     "text": [
      "Processing train:   3%|▎         | 230/9152 [13:30<9:02:47,  3.65s/it]"
     ]
    },
    {
     "name": "stdout",
     "output_type": "stream",
     "text": [
      "\n",
      "Batch 230/9152: Load=1.90s, Embed=1.66s, Store=0.00s, Total=3.76s, Images/sec=3.20\n",
      "Estimated remaining time: 558.4 minutes\n"
     ]
    },
    {
     "name": "stderr",
     "output_type": "stream",
     "text": [
      "Processing train:   3%|▎         | 240/9152 [14:06<8:49:47,  3.57s/it]"
     ]
    },
    {
     "name": "stdout",
     "output_type": "stream",
     "text": [
      "\n",
      "Batch 240/9152: Load=1.70s, Embed=1.65s, Store=0.00s, Total=3.56s, Images/sec=3.37\n",
      "Estimated remaining time: 528.9 minutes\n"
     ]
    },
    {
     "name": "stderr",
     "output_type": "stream",
     "text": [
      "Processing train:   3%|▎         | 250/9152 [14:44<10:03:26,  4.07s/it]"
     ]
    },
    {
     "name": "stdout",
     "output_type": "stream",
     "text": [
      "\n",
      "Batch 250/9152: Load=1.88s, Embed=1.67s, Store=0.00s, Total=3.75s, Images/sec=3.20\n",
      "Estimated remaining time: 556.9 minutes\n"
     ]
    },
    {
     "name": "stderr",
     "output_type": "stream",
     "text": [
      "Processing train:   3%|▎         | 260/9152 [15:20<9:03:18,  3.67s/it] "
     ]
    },
    {
     "name": "stdout",
     "output_type": "stream",
     "text": [
      "\n",
      "Batch 260/9152: Load=1.84s, Embed=1.66s, Store=0.00s, Total=3.70s, Images/sec=3.25\n",
      "Estimated remaining time: 548.0 minutes\n"
     ]
    },
    {
     "name": "stderr",
     "output_type": "stream",
     "text": [
      "Processing train:   3%|▎         | 270/9152 [15:58<9:07:53,  3.70s/it]"
     ]
    },
    {
     "name": "stdout",
     "output_type": "stream",
     "text": [
      "\n",
      "Batch 270/9152: Load=1.81s, Embed=1.64s, Store=0.00s, Total=3.66s, Images/sec=3.28\n",
      "Estimated remaining time: 541.7 minutes\n"
     ]
    },
    {
     "name": "stderr",
     "output_type": "stream",
     "text": [
      "Processing train:   3%|▎         | 280/9152 [16:34<8:56:53,  3.63s/it]"
     ]
    },
    {
     "name": "stdout",
     "output_type": "stream",
     "text": [
      "\n",
      "Batch 280/9152: Load=1.64s, Embed=1.67s, Store=0.00s, Total=3.55s, Images/sec=3.38\n",
      "Estimated remaining time: 525.5 minutes\n"
     ]
    },
    {
     "name": "stderr",
     "output_type": "stream",
     "text": [
      "Processing train:   3%|▎         | 290/9152 [17:12<9:02:58,  3.68s/it]"
     ]
    },
    {
     "name": "stdout",
     "output_type": "stream",
     "text": [
      "\n",
      "Batch 290/9152: Load=1.71s, Embed=1.65s, Store=0.00s, Total=3.63s, Images/sec=3.31\n",
      "Estimated remaining time: 535.6 minutes\n"
     ]
    },
    {
     "name": "stderr",
     "output_type": "stream",
     "text": [
      "Processing train:   3%|▎         | 300/9152 [17:48<10:06:40,  4.11s/it]"
     ]
    },
    {
     "name": "stdout",
     "output_type": "stream",
     "text": [
      "\n",
      "Batch 300/9152: Load=1.63s, Embed=1.64s, Store=0.00s, Total=3.48s, Images/sec=3.45\n",
      "Estimated remaining time: 513.1 minutes\n"
     ]
    },
    {
     "name": "stderr",
     "output_type": "stream",
     "text": [
      "Processing train:   3%|▎         | 310/9152 [18:23<8:40:43,  3.53s/it] "
     ]
    },
    {
     "name": "stdout",
     "output_type": "stream",
     "text": [
      "\n",
      "Batch 310/9152: Load=1.70s, Embed=1.67s, Store=0.00s, Total=3.58s, Images/sec=3.35\n",
      "Estimated remaining time: 527.2 minutes\n"
     ]
    },
    {
     "name": "stderr",
     "output_type": "stream",
     "text": [
      "Processing train:   3%|▎         | 320/9152 [19:03<9:06:50,  3.71s/it] "
     ]
    },
    {
     "name": "stdout",
     "output_type": "stream",
     "text": [
      "\n",
      "Batch 320/9152: Load=1.69s, Embed=1.62s, Store=0.00s, Total=3.53s, Images/sec=3.40\n",
      "Estimated remaining time: 519.4 minutes\n"
     ]
    },
    {
     "name": "stderr",
     "output_type": "stream",
     "text": [
      "Processing train:   4%|▎         | 330/9152 [19:37<8:35:13,  3.50s/it]"
     ]
    },
    {
     "name": "stdout",
     "output_type": "stream",
     "text": [
      "\n",
      "Batch 330/9152: Load=1.65s, Embed=1.69s, Store=0.00s, Total=3.59s, Images/sec=3.34\n",
      "Estimated remaining time: 528.2 minutes\n"
     ]
    },
    {
     "name": "stderr",
     "output_type": "stream",
     "text": [
      "Processing train:   4%|▎         | 340/9152 [20:13<8:37:07,  3.52s/it]"
     ]
    },
    {
     "name": "stdout",
     "output_type": "stream",
     "text": [
      "\n",
      "Batch 340/9152: Load=1.63s, Embed=1.63s, Store=0.00s, Total=3.50s, Images/sec=3.43\n",
      "Estimated remaining time: 513.4 minutes\n"
     ]
    },
    {
     "name": "stderr",
     "output_type": "stream",
     "text": [
      "Processing train:   4%|▍         | 350/9152 [20:50<10:37:18,  4.34s/it]"
     ]
    },
    {
     "name": "stdout",
     "output_type": "stream",
     "text": [
      "\n",
      "Batch 350/9152: Load=1.66s, Embed=1.61s, Store=0.00s, Total=3.51s, Images/sec=3.41\n",
      "Estimated remaining time: 515.5 minutes\n"
     ]
    },
    {
     "name": "stderr",
     "output_type": "stream",
     "text": [
      "Processing train:   4%|▍         | 360/9152 [21:25<8:34:14,  3.51s/it] "
     ]
    },
    {
     "name": "stdout",
     "output_type": "stream",
     "text": [
      "\n",
      "Batch 360/9152: Load=1.65s, Embed=1.64s, Store=0.00s, Total=3.53s, Images/sec=3.40\n",
      "Estimated remaining time: 517.5 minutes\n"
     ]
    },
    {
     "name": "stderr",
     "output_type": "stream",
     "text": [
      "Processing train:   4%|▍         | 370/9152 [22:00<8:31:02,  3.49s/it]"
     ]
    },
    {
     "name": "stdout",
     "output_type": "stream",
     "text": [
      "\n",
      "Batch 370/9152: Load=1.59s, Embed=1.62s, Store=0.00s, Total=3.44s, Images/sec=3.49\n",
      "Estimated remaining time: 503.7 minutes\n"
     ]
    },
    {
     "name": "stderr",
     "output_type": "stream",
     "text": [
      "Processing train:   4%|▍         | 380/9152 [22:35<8:32:45,  3.51s/it]"
     ]
    },
    {
     "name": "stdout",
     "output_type": "stream",
     "text": [
      "\n",
      "Batch 380/9152: Load=1.47s, Embed=1.64s, Store=0.00s, Total=3.35s, Images/sec=3.59\n",
      "Estimated remaining time: 489.3 minutes\n"
     ]
    },
    {
     "name": "stderr",
     "output_type": "stream",
     "text": [
      "Processing train:   4%|▍         | 390/9152 [23:11<8:43:13,  3.58s/it]"
     ]
    },
    {
     "name": "stdout",
     "output_type": "stream",
     "text": [
      "\n",
      "Batch 390/9152: Load=1.63s, Embed=1.74s, Store=0.00s, Total=3.70s, Images/sec=3.24\n",
      "Estimated remaining time: 541.0 minutes\n"
     ]
    },
    {
     "name": "stderr",
     "output_type": "stream",
     "text": [
      "Processing train:   4%|▍         | 400/9152 [23:48<10:02:14,  4.13s/it]"
     ]
    },
    {
     "name": "stdout",
     "output_type": "stream",
     "text": [
      "\n",
      "Batch 400/9152: Load=1.69s, Embed=1.75s, Store=0.00s, Total=3.69s, Images/sec=3.25\n",
      "Estimated remaining time: 537.9 minutes\n"
     ]
    },
    {
     "name": "stderr",
     "output_type": "stream",
     "text": [
      "Processing train:   4%|▍         | 410/9152 [24:24<8:38:38,  3.56s/it] "
     ]
    },
    {
     "name": "stdout",
     "output_type": "stream",
     "text": [
      "\n",
      "Batch 410/9152: Load=1.62s, Embed=1.64s, Store=0.00s, Total=3.60s, Images/sec=3.34\n",
      "Estimated remaining time: 524.2 minutes\n"
     ]
    },
    {
     "name": "stderr",
     "output_type": "stream",
     "text": [
      "Processing train:   5%|▍         | 420/9152 [25:00<8:38:59,  3.57s/it]"
     ]
    },
    {
     "name": "stdout",
     "output_type": "stream",
     "text": [
      "\n",
      "Batch 420/9152: Load=1.72s, Embed=1.69s, Store=0.00s, Total=3.66s, Images/sec=3.28\n",
      "Estimated remaining time: 532.4 minutes\n"
     ]
    },
    {
     "name": "stderr",
     "output_type": "stream",
     "text": [
      "Processing train:   5%|▍         | 430/9152 [25:35<8:35:07,  3.54s/it]"
     ]
    },
    {
     "name": "stdout",
     "output_type": "stream",
     "text": [
      "\n",
      "Batch 430/9152: Load=1.58s, Embed=1.66s, Store=0.00s, Total=3.51s, Images/sec=3.42\n",
      "Estimated remaining time: 510.1 minutes\n"
     ]
    },
    {
     "name": "stderr",
     "output_type": "stream",
     "text": [
      "Processing train:   5%|▍         | 440/9152 [26:11<8:32:32,  3.53s/it]"
     ]
    },
    {
     "name": "stdout",
     "output_type": "stream",
     "text": [
      "\n",
      "Batch 440/9152: Load=1.67s, Embed=1.63s, Store=0.00s, Total=3.61s, Images/sec=3.33\n",
      "Estimated remaining time: 523.9 minutes\n"
     ]
    },
    {
     "name": "stderr",
     "output_type": "stream",
     "text": [
      "Processing train:   5%|▍         | 450/9152 [26:48<10:05:09,  4.17s/it]"
     ]
    },
    {
     "name": "stdout",
     "output_type": "stream",
     "text": [
      "\n",
      "Batch 450/9152: Load=1.60s, Embed=1.65s, Store=0.00s, Total=3.59s, Images/sec=3.34\n",
      "Estimated remaining time: 520.7 minutes\n"
     ]
    },
    {
     "name": "stderr",
     "output_type": "stream",
     "text": [
      "Processing train:   5%|▌         | 460/9152 [27:25<8:55:29,  3.70s/it] "
     ]
    },
    {
     "name": "stdout",
     "output_type": "stream",
     "text": [
      "\n",
      "Batch 460/9152: Load=1.66s, Embed=1.63s, Store=0.00s, Total=3.63s, Images/sec=3.30\n",
      "Estimated remaining time: 526.0 minutes\n"
     ]
    },
    {
     "name": "stderr",
     "output_type": "stream",
     "text": [
      "Processing train:   5%|▌         | 470/9152 [28:00<8:30:54,  3.53s/it]"
     ]
    },
    {
     "name": "stdout",
     "output_type": "stream",
     "text": [
      "\n",
      "Batch 470/9152: Load=1.48s, Embed=1.64s, Store=0.00s, Total=3.46s, Images/sec=3.47\n",
      "Estimated remaining time: 500.2 minutes\n"
     ]
    },
    {
     "name": "stderr",
     "output_type": "stream",
     "text": [
      "Processing train:   5%|▌         | 480/9152 [28:36<8:39:50,  3.60s/it]"
     ]
    },
    {
     "name": "stdout",
     "output_type": "stream",
     "text": [
      "\n",
      "Batch 480/9152: Load=1.57s, Embed=1.64s, Store=0.00s, Total=3.59s, Images/sec=3.34\n",
      "Estimated remaining time: 518.7 minutes\n"
     ]
    },
    {
     "name": "stderr",
     "output_type": "stream",
     "text": [
      "Processing train:   5%|▌         | 490/9152 [29:12<8:43:01,  3.62s/it]"
     ]
    },
    {
     "name": "stdout",
     "output_type": "stream",
     "text": [
      "\n",
      "Batch 490/9152: Load=1.64s, Embed=1.68s, Store=0.00s, Total=3.69s, Images/sec=3.25\n",
      "Estimated remaining time: 532.6 minutes\n"
     ]
    },
    {
     "name": "stderr",
     "output_type": "stream",
     "text": [
      "Processing train:   5%|▌         | 500/9152 [29:50<10:07:39,  4.21s/it]"
     ]
    },
    {
     "name": "stdout",
     "output_type": "stream",
     "text": [
      "\n",
      "Batch 500/9152: Load=1.65s, Embed=1.62s, Store=0.00s, Total=3.61s, Images/sec=3.33\n",
      "Estimated remaining time: 520.2 minutes\n"
     ]
    },
    {
     "name": "stderr",
     "output_type": "stream",
     "text": [
      "Processing train:   6%|▌         | 510/9152 [30:26<8:48:11,  3.67s/it] "
     ]
    },
    {
     "name": "stdout",
     "output_type": "stream",
     "text": [
      "\n",
      "Batch 510/9152: Load=1.68s, Embed=1.64s, Store=0.00s, Total=3.66s, Images/sec=3.27\n",
      "Estimated remaining time: 527.8 minutes\n"
     ]
    },
    {
     "name": "stderr",
     "output_type": "stream",
     "text": [
      "Processing train:   6%|▌         | 520/9152 [31:02<8:22:38,  3.49s/it]"
     ]
    },
    {
     "name": "stdout",
     "output_type": "stream",
     "text": [
      "\n",
      "Batch 520/9152: Load=1.51s, Embed=1.63s, Store=0.00s, Total=3.43s, Images/sec=3.50\n",
      "Estimated remaining time: 493.3 minutes\n"
     ]
    },
    {
     "name": "stderr",
     "output_type": "stream",
     "text": [
      "Processing train:   6%|▌         | 530/9152 [31:37<8:29:46,  3.55s/it]"
     ]
    },
    {
     "name": "stdout",
     "output_type": "stream",
     "text": [
      "\n",
      "Batch 530/9152: Load=1.56s, Embed=1.63s, Store=0.00s, Total=3.49s, Images/sec=3.44\n",
      "Estimated remaining time: 501.4 minutes\n"
     ]
    },
    {
     "name": "stderr",
     "output_type": "stream",
     "text": [
      "Processing train:   6%|▌         | 540/9152 [32:13<8:32:01,  3.57s/it]"
     ]
    },
    {
     "name": "stdout",
     "output_type": "stream",
     "text": [
      "\n",
      "Batch 540/9152: Load=1.66s, Embed=1.64s, Store=0.00s, Total=3.56s, Images/sec=3.37\n",
      "Estimated remaining time: 511.4 minutes\n"
     ]
    },
    {
     "name": "stderr",
     "output_type": "stream",
     "text": [
      "Processing train:   6%|▌         | 550/9152 [32:50<10:02:06,  4.20s/it]"
     ]
    },
    {
     "name": "stdout",
     "output_type": "stream",
     "text": [
      "\n",
      "Batch 550/9152: Load=1.59s, Embed=1.65s, Store=0.00s, Total=3.51s, Images/sec=3.42\n",
      "Estimated remaining time: 503.0 minutes\n"
     ]
    },
    {
     "name": "stderr",
     "output_type": "stream",
     "text": [
      "Processing train:   6%|▌         | 560/9152 [33:26<8:30:42,  3.57s/it] "
     ]
    },
    {
     "name": "stdout",
     "output_type": "stream",
     "text": [
      "\n",
      "Batch 560/9152: Load=1.64s, Embed=1.61s, Store=0.00s, Total=3.61s, Images/sec=3.32\n",
      "Estimated remaining time: 516.9 minutes\n"
     ]
    },
    {
     "name": "stderr",
     "output_type": "stream",
     "text": [
      "Processing train:   6%|▌         | 570/9152 [34:01<8:11:01,  3.43s/it]"
     ]
    },
    {
     "name": "stdout",
     "output_type": "stream",
     "text": [
      "\n",
      "Batch 570/9152: Load=1.45s, Embed=1.62s, Store=0.00s, Total=3.34s, Images/sec=3.60\n",
      "Estimated remaining time: 477.1 minutes\n"
     ]
    },
    {
     "name": "stderr",
     "output_type": "stream",
     "text": [
      "Processing train:   6%|▋         | 580/9152 [34:35<8:15:14,  3.47s/it]"
     ]
    },
    {
     "name": "stdout",
     "output_type": "stream",
     "text": [
      "\n",
      "Batch 580/9152: Load=1.46s, Embed=1.62s, Store=0.00s, Total=3.35s, Images/sec=3.58\n",
      "Estimated remaining time: 478.8 minutes\n"
     ]
    },
    {
     "name": "stderr",
     "output_type": "stream",
     "text": [
      "Processing train:   6%|▋         | 590/9152 [35:11<8:27:46,  3.56s/it]"
     ]
    },
    {
     "name": "stdout",
     "output_type": "stream",
     "text": [
      "\n",
      "Batch 590/9152: Load=1.65s, Embed=1.66s, Store=0.00s, Total=3.58s, Images/sec=3.35\n",
      "Estimated remaining time: 511.2 minutes\n"
     ]
    },
    {
     "name": "stderr",
     "output_type": "stream",
     "text": [
      "Processing train:   7%|▋         | 600/9152 [35:49<10:10:49,  4.29s/it]"
     ]
    },
    {
     "name": "stdout",
     "output_type": "stream",
     "text": [
      "\n",
      "Batch 600/9152: Load=1.55s, Embed=1.63s, Store=0.00s, Total=3.45s, Images/sec=3.48\n",
      "Estimated remaining time: 491.6 minutes\n"
     ]
    },
    {
     "name": "stderr",
     "output_type": "stream",
     "text": [
      "Processing train:   7%|▋         | 610/9152 [36:24<8:21:41,  3.52s/it] "
     ]
    },
    {
     "name": "stdout",
     "output_type": "stream",
     "text": [
      "\n",
      "Batch 610/9152: Load=1.59s, Embed=1.62s, Store=0.00s, Total=3.48s, Images/sec=3.45\n",
      "Estimated remaining time: 495.6 minutes\n"
     ]
    },
    {
     "name": "stderr",
     "output_type": "stream",
     "text": [
      "Processing train:   7%|▋         | 620/9152 [37:00<8:35:00,  3.62s/it]"
     ]
    },
    {
     "name": "stdout",
     "output_type": "stream",
     "text": [
      "\n",
      "Batch 620/9152: Load=1.65s, Embed=1.62s, Store=0.00s, Total=3.69s, Images/sec=3.25\n",
      "Estimated remaining time: 524.4 minutes\n"
     ]
    },
    {
     "name": "stderr",
     "output_type": "stream",
     "text": [
      "Processing train:   7%|▋         | 630/9152 [37:37<8:38:34,  3.65s/it]"
     ]
    },
    {
     "name": "stdout",
     "output_type": "stream",
     "text": [
      "\n",
      "Batch 630/9152: Load=1.70s, Embed=1.63s, Store=0.00s, Total=3.70s, Images/sec=3.24\n",
      "Estimated remaining time: 525.7 minutes\n"
     ]
    },
    {
     "name": "stderr",
     "output_type": "stream",
     "text": [
      "Processing train:   7%|▋         | 640/9152 [38:14<8:34:52,  3.63s/it]"
     ]
    },
    {
     "name": "stdout",
     "output_type": "stream",
     "text": [
      "\n",
      "Batch 640/9152: Load=1.56s, Embed=1.61s, Store=0.00s, Total=3.48s, Images/sec=3.45\n",
      "Estimated remaining time: 493.0 minutes\n"
     ]
    },
    {
     "name": "stderr",
     "output_type": "stream",
     "text": [
      "Processing train:   7%|▋         | 650/9152 [38:52<10:06:46,  4.28s/it]"
     ]
    },
    {
     "name": "stdout",
     "output_type": "stream",
     "text": [
      "\n",
      "Batch 650/9152: Load=1.65s, Embed=1.62s, Store=0.00s, Total=3.57s, Images/sec=3.36\n",
      "Estimated remaining time: 505.8 minutes\n"
     ]
    },
    {
     "name": "stderr",
     "output_type": "stream",
     "text": [
      "Processing train:   7%|▋         | 660/9152 [39:28<8:37:12,  3.65s/it] "
     ]
    },
    {
     "name": "stdout",
     "output_type": "stream",
     "text": [
      "\n",
      "Batch 660/9152: Load=1.69s, Embed=1.64s, Store=0.00s, Total=3.63s, Images/sec=3.31\n",
      "Estimated remaining time: 513.7 minutes\n"
     ]
    },
    {
     "name": "stderr",
     "output_type": "stream",
     "text": [
      "Processing train:   7%|▋         | 670/9152 [40:05<8:36:17,  3.65s/it]"
     ]
    },
    {
     "name": "stdout",
     "output_type": "stream",
     "text": [
      "\n",
      "Batch 670/9152: Load=1.60s, Embed=1.61s, Store=0.00s, Total=3.55s, Images/sec=3.38\n",
      "Estimated remaining time: 501.4 minutes\n"
     ]
    },
    {
     "name": "stderr",
     "output_type": "stream",
     "text": [
      "Processing train:   7%|▋         | 680/9152 [40:41<8:26:59,  3.59s/it]"
     ]
    },
    {
     "name": "stdout",
     "output_type": "stream",
     "text": [
      "\n",
      "Batch 680/9152: Load=1.74s, Embed=1.65s, Store=0.00s, Total=3.67s, Images/sec=3.27\n",
      "Estimated remaining time: 518.5 minutes\n"
     ]
    },
    {
     "name": "stderr",
     "output_type": "stream",
     "text": [
      "Processing train:   8%|▊         | 690/9152 [41:19<9:13:42,  3.93s/it]"
     ]
    },
    {
     "name": "stdout",
     "output_type": "stream",
     "text": [
      "\n",
      "Batch 690/9152: Load=1.66s, Embed=1.68s, Store=0.00s, Total=3.89s, Images/sec=3.09\n",
      "Estimated remaining time: 548.6 minutes\n"
     ]
    },
    {
     "name": "stderr",
     "output_type": "stream",
     "text": [
      "Processing train:   8%|▊         | 700/9152 [42:00<11:13:00,  4.78s/it]"
     ]
    },
    {
     "name": "stdout",
     "output_type": "stream",
     "text": [
      "\n",
      "Batch 700/9152: Load=1.50s, Embed=1.62s, Store=0.00s, Total=3.42s, Images/sec=3.51\n",
      "Estimated remaining time: 481.4 minutes\n"
     ]
    },
    {
     "name": "stderr",
     "output_type": "stream",
     "text": [
      "Processing train:   8%|▊         | 710/9152 [42:37<9:00:21,  3.84s/it] "
     ]
    },
    {
     "name": "stdout",
     "output_type": "stream",
     "text": [
      "\n",
      "Batch 710/9152: Load=1.84s, Embed=1.69s, Store=0.00s, Total=3.96s, Images/sec=3.03\n",
      "Estimated remaining time: 557.6 minutes\n"
     ]
    },
    {
     "name": "stderr",
     "output_type": "stream",
     "text": [
      "Processing train:   8%|▊         | 720/9152 [43:16<8:47:45,  3.76s/it]"
     ]
    },
    {
     "name": "stdout",
     "output_type": "stream",
     "text": [
      "\n",
      "Batch 720/9152: Load=1.59s, Embed=1.63s, Store=0.00s, Total=3.53s, Images/sec=3.39\n",
      "Estimated remaining time: 496.8 minutes\n"
     ]
    },
    {
     "name": "stderr",
     "output_type": "stream",
     "text": [
      "Processing train:   8%|▊         | 730/9152 [43:53<8:48:24,  3.76s/it]"
     ]
    },
    {
     "name": "stdout",
     "output_type": "stream",
     "text": [
      "\n",
      "Batch 730/9152: Load=1.69s, Embed=1.74s, Store=0.00s, Total=3.77s, Images/sec=3.18\n",
      "Estimated remaining time: 529.0 minutes\n"
     ]
    },
    {
     "name": "stderr",
     "output_type": "stream",
     "text": [
      "Processing train:   8%|▊         | 740/9152 [44:32<8:48:07,  3.77s/it]"
     ]
    },
    {
     "name": "stdout",
     "output_type": "stream",
     "text": [
      "\n",
      "Batch 740/9152: Load=1.61s, Embed=1.65s, Store=0.00s, Total=3.76s, Images/sec=3.19\n",
      "Estimated remaining time: 527.7 minutes\n"
     ]
    },
    {
     "name": "stderr",
     "output_type": "stream",
     "text": [
      "Processing train:   8%|▊         | 750/9152 [45:13<12:00:01,  5.14s/it]"
     ]
    },
    {
     "name": "stdout",
     "output_type": "stream",
     "text": [
      "\n",
      "Batch 750/9152: Load=1.47s, Embed=1.62s, Store=0.00s, Total=3.76s, Images/sec=3.19\n",
      "Estimated remaining time: 526.5 minutes\n"
     ]
    },
    {
     "name": "stderr",
     "output_type": "stream",
     "text": [
      "Processing train:   8%|▊         | 760/9152 [45:49<8:29:56,  3.65s/it] "
     ]
    },
    {
     "name": "stdout",
     "output_type": "stream",
     "text": [
      "\n",
      "Batch 760/9152: Load=1.59s, Embed=1.63s, Store=0.00s, Total=3.55s, Images/sec=3.38\n",
      "Estimated remaining time: 496.1 minutes\n"
     ]
    },
    {
     "name": "stderr",
     "output_type": "stream",
     "text": [
      "Processing train:   8%|▊         | 770/9152 [46:26<8:31:02,  3.66s/it]"
     ]
    },
    {
     "name": "stdout",
     "output_type": "stream",
     "text": [
      "\n",
      "Batch 770/9152: Load=1.55s, Embed=1.63s, Store=0.00s, Total=3.64s, Images/sec=3.30\n",
      "Estimated remaining time: 507.9 minutes\n"
     ]
    },
    {
     "name": "stderr",
     "output_type": "stream",
     "text": [
      "Processing train:   9%|▊         | 780/9152 [47:03<8:42:14,  3.74s/it]"
     ]
    },
    {
     "name": "stdout",
     "output_type": "stream",
     "text": [
      "\n",
      "Batch 780/9152: Load=1.69s, Embed=1.66s, Store=0.00s, Total=3.79s, Images/sec=3.17\n",
      "Estimated remaining time: 528.3 minutes\n"
     ]
    },
    {
     "name": "stderr",
     "output_type": "stream",
     "text": [
      "Processing train:   9%|▊         | 790/9152 [47:41<8:48:30,  3.79s/it]"
     ]
    },
    {
     "name": "stdout",
     "output_type": "stream",
     "text": [
      "\n",
      "Batch 790/9152: Load=1.67s, Embed=1.65s, Store=0.00s, Total=4.00s, Images/sec=3.00\n",
      "Estimated remaining time: 557.0 minutes\n"
     ]
    },
    {
     "name": "stderr",
     "output_type": "stream",
     "text": [
      "Processing train:   9%|▊         | 800/9152 [48:21<10:39:46,  4.60s/it]"
     ]
    },
    {
     "name": "stdout",
     "output_type": "stream",
     "text": [
      "\n",
      "Batch 800/9152: Load=1.64s, Embed=1.65s, Store=0.00s, Total=3.62s, Images/sec=3.32\n",
      "Estimated remaining time: 503.7 minutes\n"
     ]
    },
    {
     "name": "stderr",
     "output_type": "stream",
     "text": [
      "Processing train:   9%|▉         | 810/9152 [48:58<8:47:39,  3.80s/it] "
     ]
    },
    {
     "name": "stdout",
     "output_type": "stream",
     "text": [
      "\n",
      "Batch 810/9152: Load=1.69s, Embed=1.65s, Store=0.00s, Total=3.78s, Images/sec=3.17\n",
      "Estimated remaining time: 526.2 minutes\n"
     ]
    },
    {
     "name": "stderr",
     "output_type": "stream",
     "text": [
      "Processing train:   9%|▉         | 820/9152 [49:35<8:31:40,  3.68s/it]"
     ]
    },
    {
     "name": "stdout",
     "output_type": "stream",
     "text": [
      "\n",
      "Batch 820/9152: Load=1.64s, Embed=1.67s, Store=0.00s, Total=3.71s, Images/sec=3.23\n",
      "Estimated remaining time: 515.9 minutes\n"
     ]
    },
    {
     "name": "stderr",
     "output_type": "stream",
     "text": [
      "Processing train:   9%|▉         | 830/9152 [50:12<8:29:52,  3.68s/it]"
     ]
    },
    {
     "name": "stdout",
     "output_type": "stream",
     "text": [
      "\n",
      "Batch 830/9152: Load=1.64s, Embed=1.63s, Store=0.00s, Total=3.74s, Images/sec=3.21\n",
      "Estimated remaining time: 519.1 minutes\n"
     ]
    },
    {
     "name": "stderr",
     "output_type": "stream",
     "text": [
      "Processing train:   9%|▉         | 840/9152 [50:49<8:44:47,  3.79s/it]"
     ]
    },
    {
     "name": "stdout",
     "output_type": "stream",
     "text": [
      "\n",
      "Batch 840/9152: Load=1.60s, Embed=1.66s, Store=0.00s, Total=4.04s, Images/sec=2.97\n",
      "Estimated remaining time: 559.1 minutes\n"
     ]
    },
    {
     "name": "stderr",
     "output_type": "stream",
     "text": [
      "Processing train:   9%|▉         | 850/9152 [51:29<10:35:14,  4.59s/it]"
     ]
    },
    {
     "name": "stdout",
     "output_type": "stream",
     "text": [
      "\n",
      "Batch 850/9152: Load=1.57s, Embed=1.62s, Store=0.00s, Total=3.56s, Images/sec=3.37\n",
      "Estimated remaining time: 492.1 minutes\n"
     ]
    },
    {
     "name": "stderr",
     "output_type": "stream",
     "text": [
      "Processing train:   9%|▉         | 860/9152 [52:07<8:54:38,  3.87s/it] "
     ]
    },
    {
     "name": "stdout",
     "output_type": "stream",
     "text": [
      "\n",
      "Batch 860/9152: Load=1.55s, Embed=1.75s, Store=0.00s, Total=3.91s, Images/sec=3.07\n",
      "Estimated remaining time: 540.9 minutes\n"
     ]
    },
    {
     "name": "stderr",
     "output_type": "stream",
     "text": [
      "Processing train:  10%|▉         | 870/9152 [52:45<8:37:12,  3.75s/it]"
     ]
    },
    {
     "name": "stdout",
     "output_type": "stream",
     "text": [
      "\n",
      "Batch 870/9152: Load=1.60s, Embed=1.70s, Store=0.00s, Total=3.70s, Images/sec=3.25\n",
      "Estimated remaining time: 510.1 minutes\n"
     ]
    },
    {
     "name": "stderr",
     "output_type": "stream",
     "text": [
      "Processing train:  10%|▉         | 880/9152 [53:22<8:33:43,  3.73s/it]"
     ]
    },
    {
     "name": "stdout",
     "output_type": "stream",
     "text": [
      "\n",
      "Batch 880/9152: Load=1.61s, Embed=1.70s, Store=0.00s, Total=3.70s, Images/sec=3.24\n",
      "Estimated remaining time: 510.2 minutes\n"
     ]
    },
    {
     "name": "stderr",
     "output_type": "stream",
     "text": [
      "Processing train:  10%|▉         | 890/9152 [54:00<8:34:47,  3.74s/it]"
     ]
    },
    {
     "name": "stdout",
     "output_type": "stream",
     "text": [
      "\n",
      "Batch 890/9152: Load=1.57s, Embed=1.65s, Store=0.00s, Total=3.69s, Images/sec=3.26\n",
      "Estimated remaining time: 507.6 minutes\n"
     ]
    },
    {
     "name": "stderr",
     "output_type": "stream",
     "text": [
      "Processing train:  10%|▉         | 900/9152 [54:41<11:08:14,  4.86s/it]"
     ]
    },
    {
     "name": "stdout",
     "output_type": "stream",
     "text": [
      "\n",
      "Batch 900/9152: Load=1.65s, Embed=1.75s, Store=0.00s, Total=3.85s, Images/sec=3.12\n",
      "Estimated remaining time: 528.8 minutes\n"
     ]
    },
    {
     "name": "stderr",
     "output_type": "stream",
     "text": [
      "Processing train:  10%|▉         | 910/9152 [55:19<8:34:32,  3.75s/it] "
     ]
    },
    {
     "name": "stdout",
     "output_type": "stream",
     "text": [
      "\n",
      "Batch 910/9152: Load=1.65s, Embed=1.70s, Store=0.00s, Total=3.73s, Images/sec=3.22\n",
      "Estimated remaining time: 512.2 minutes\n"
     ]
    },
    {
     "name": "stderr",
     "output_type": "stream",
     "text": [
      "Processing train:  10%|█         | 920/9152 [55:56<8:41:02,  3.80s/it]"
     ]
    },
    {
     "name": "stdout",
     "output_type": "stream",
     "text": [
      "\n",
      "Batch 920/9152: Load=1.73s, Embed=1.69s, Store=0.00s, Total=3.80s, Images/sec=3.16\n",
      "Estimated remaining time: 521.4 minutes\n"
     ]
    },
    {
     "name": "stderr",
     "output_type": "stream",
     "text": [
      "Processing train:  10%|█         | 930/9152 [56:36<9:12:23,  4.03s/it]"
     ]
    },
    {
     "name": "stdout",
     "output_type": "stream",
     "text": [
      "\n",
      "Batch 930/9152: Load=1.88s, Embed=1.64s, Store=0.00s, Total=4.07s, Images/sec=2.95\n",
      "Estimated remaining time: 557.1 minutes\n"
     ]
    },
    {
     "name": "stderr",
     "output_type": "stream",
     "text": [
      "Processing train:  10%|█         | 940/9152 [57:22<10:31:03,  4.61s/it]"
     ]
    },
    {
     "name": "stdout",
     "output_type": "stream",
     "text": [
      "\n",
      "Batch 940/9152: Load=2.16s, Embed=1.75s, Store=0.00s, Total=4.26s, Images/sec=2.81\n",
      "Estimated remaining time: 583.7 minutes\n"
     ]
    },
    {
     "name": "stderr",
     "output_type": "stream",
     "text": [
      "Processing train:  10%|█         | 950/9152 [58:14<13:06:55,  5.76s/it]"
     ]
    },
    {
     "name": "stdout",
     "output_type": "stream",
     "text": [
      "\n",
      "Batch 950/9152: Load=2.67s, Embed=1.77s, Store=0.00s, Total=4.79s, Images/sec=2.51\n",
      "Estimated remaining time: 654.6 minutes\n"
     ]
    },
    {
     "name": "stderr",
     "output_type": "stream",
     "text": [
      "Processing train:  10%|█         | 960/9152 [58:57<9:42:24,  4.27s/it] "
     ]
    },
    {
     "name": "stdout",
     "output_type": "stream",
     "text": [
      "\n",
      "Batch 960/9152: Load=1.74s, Embed=1.71s, Store=0.00s, Total=3.80s, Images/sec=3.16\n",
      "Estimated remaining time: 519.2 minutes\n"
     ]
    },
    {
     "name": "stderr",
     "output_type": "stream",
     "text": [
      "Processing train:  11%|█         | 970/9152 [59:42<10:38:20,  4.68s/it]"
     ]
    },
    {
     "name": "stdout",
     "output_type": "stream",
     "text": [
      "\n",
      "Batch 970/9152: Load=2.80s, Embed=1.73s, Store=0.00s, Total=4.89s, Images/sec=2.46\n",
      "Estimated remaining time: 666.3 minutes\n"
     ]
    },
    {
     "name": "stderr",
     "output_type": "stream",
     "text": [
      "Processing train:  11%|█         | 980/9152 [1:00:27<9:36:53,  4.24s/it] "
     ]
    },
    {
     "name": "stdout",
     "output_type": "stream",
     "text": [
      "\n",
      "Batch 980/9152: Load=1.79s, Embed=1.70s, Store=0.00s, Total=4.06s, Images/sec=2.96\n",
      "Estimated remaining time: 553.1 minutes\n"
     ]
    },
    {
     "name": "stderr",
     "output_type": "stream",
     "text": [
      "Processing train:  11%|█         | 990/9152 [1:01:08<8:48:28,  3.88s/it] "
     ]
    },
    {
     "name": "stdout",
     "output_type": "stream",
     "text": [
      "\n",
      "Batch 990/9152: Load=1.69s, Embed=1.72s, Store=0.00s, Total=3.77s, Images/sec=3.18\n",
      "Estimated remaining time: 512.5 minutes\n"
     ]
    },
    {
     "name": "stderr",
     "output_type": "stream",
     "text": [
      "Processing train:  11%|█         | 1000/9152 [1:01:51<11:33:39,  5.11s/it]"
     ]
    },
    {
     "name": "stdout",
     "output_type": "stream",
     "text": [
      "\n",
      "Batch 1000/9152: Load=1.77s, Embed=1.73s, Store=0.00s, Total=3.85s, Images/sec=3.11\n",
      "Estimated remaining time: 523.7 minutes\n"
     ]
    },
    {
     "name": "stderr",
     "output_type": "stream",
     "text": [
      "Processing train:  11%|█         | 1010/9152 [1:02:30<8:42:58,  3.85s/it] "
     ]
    },
    {
     "name": "stdout",
     "output_type": "stream",
     "text": [
      "\n",
      "Batch 1010/9152: Load=1.69s, Embed=1.64s, Store=0.00s, Total=3.83s, Images/sec=3.14\n",
      "Estimated remaining time: 519.1 minutes\n"
     ]
    },
    {
     "name": "stderr",
     "output_type": "stream",
     "text": [
      "Processing train:  11%|█         | 1020/9152 [1:03:08<8:42:06,  3.85s/it]"
     ]
    },
    {
     "name": "stdout",
     "output_type": "stream",
     "text": [
      "\n",
      "Batch 1020/9152: Load=1.68s, Embed=2.12s, Store=0.00s, Total=4.16s, Images/sec=2.89\n",
      "Estimated remaining time: 563.7 minutes\n"
     ]
    },
    {
     "name": "stderr",
     "output_type": "stream",
     "text": [
      "Processing train:  11%|█▏        | 1030/9152 [1:03:46<8:39:06,  3.83s/it]"
     ]
    },
    {
     "name": "stdout",
     "output_type": "stream",
     "text": [
      "\n",
      "Batch 1030/9152: Load=1.64s, Embed=1.73s, Store=0.00s, Total=3.72s, Images/sec=3.22\n",
      "Estimated remaining time: 503.7 minutes\n"
     ]
    },
    {
     "name": "stderr",
     "output_type": "stream",
     "text": [
      "Processing train:  11%|█▏        | 1040/9152 [1:04:25<8:39:45,  3.84s/it]"
     ]
    },
    {
     "name": "stdout",
     "output_type": "stream",
     "text": [
      "\n",
      "Batch 1040/9152: Load=1.77s, Embed=1.71s, Store=0.00s, Total=3.85s, Images/sec=3.12\n",
      "Estimated remaining time: 520.3 minutes\n"
     ]
    },
    {
     "name": "stderr",
     "output_type": "stream",
     "text": [
      "Processing train:  11%|█▏        | 1050/9152 [1:05:09<12:08:58,  5.40s/it]"
     ]
    },
    {
     "name": "stdout",
     "output_type": "stream",
     "text": [
      "\n",
      "Batch 1050/9152: Load=1.72s, Embed=1.73s, Store=0.00s, Total=3.82s, Images/sec=3.14\n",
      "Estimated remaining time: 516.5 minutes\n"
     ]
    },
    {
     "name": "stderr",
     "output_type": "stream",
     "text": [
      "Processing train:  12%|█▏        | 1060/9152 [1:05:47<8:29:52,  3.78s/it] "
     ]
    },
    {
     "name": "stdout",
     "output_type": "stream",
     "text": [
      "\n",
      "Batch 1060/9152: Load=1.71s, Embed=1.63s, Store=0.00s, Total=3.69s, Images/sec=3.25\n",
      "Estimated remaining time: 498.2 minutes\n"
     ]
    },
    {
     "name": "stderr",
     "output_type": "stream",
     "text": [
      "Processing train:  12%|█▏        | 1070/9152 [1:06:25<8:27:32,  3.77s/it]"
     ]
    },
    {
     "name": "stdout",
     "output_type": "stream",
     "text": [
      "\n",
      "Batch 1070/9152: Load=1.60s, Embed=1.66s, Store=0.00s, Total=3.76s, Images/sec=3.19\n",
      "Estimated remaining time: 506.4 minutes\n"
     ]
    },
    {
     "name": "stderr",
     "output_type": "stream",
     "text": [
      "Processing train:  12%|█▏        | 1080/9152 [1:07:02<8:19:18,  3.71s/it]"
     ]
    },
    {
     "name": "stdout",
     "output_type": "stream",
     "text": [
      "\n",
      "Batch 1080/9152: Load=1.67s, Embed=1.64s, Store=0.00s, Total=3.67s, Images/sec=3.27\n",
      "Estimated remaining time: 493.7 minutes\n"
     ]
    },
    {
     "name": "stderr",
     "output_type": "stream",
     "text": [
      "Processing train:  12%|█▏        | 1090/9152 [1:07:39<8:14:46,  3.68s/it]"
     ]
    },
    {
     "name": "stdout",
     "output_type": "stream",
     "text": [
      "\n",
      "Batch 1090/9152: Load=1.56s, Embed=1.62s, Store=0.00s, Total=3.55s, Images/sec=3.38\n",
      "Estimated remaining time: 477.6 minutes\n"
     ]
    },
    {
     "name": "stderr",
     "output_type": "stream",
     "text": [
      "Processing train:  12%|█▏        | 1100/9152 [1:08:20<11:13:09,  5.02s/it]"
     ]
    },
    {
     "name": "stdout",
     "output_type": "stream",
     "text": [
      "\n",
      "Batch 1100/9152: Load=1.54s, Embed=1.66s, Store=0.00s, Total=3.58s, Images/sec=3.35\n",
      "Estimated remaining time: 480.0 minutes\n"
     ]
    },
    {
     "name": "stderr",
     "output_type": "stream",
     "text": [
      "Processing train:  12%|█▏        | 1110/9152 [1:08:58<8:20:40,  3.74s/it] "
     ]
    },
    {
     "name": "stdout",
     "output_type": "stream",
     "text": [
      "\n",
      "Batch 1110/9152: Load=1.60s, Embed=1.62s, Store=0.00s, Total=3.68s, Images/sec=3.26\n",
      "Estimated remaining time: 493.9 minutes\n"
     ]
    },
    {
     "name": "stderr",
     "output_type": "stream",
     "text": [
      "Processing train:  12%|█▏        | 1120/9152 [1:09:35<8:15:55,  3.70s/it]"
     ]
    },
    {
     "name": "stdout",
     "output_type": "stream",
     "text": [
      "\n",
      "Batch 1120/9152: Load=1.59s, Embed=1.64s, Store=0.00s, Total=3.61s, Images/sec=3.33\n",
      "Estimated remaining time: 482.9 minutes\n"
     ]
    },
    {
     "name": "stderr",
     "output_type": "stream",
     "text": [
      "Processing train:  12%|█▏        | 1130/9152 [1:10:13<8:20:51,  3.75s/it]"
     ]
    },
    {
     "name": "stdout",
     "output_type": "stream",
     "text": [
      "\n",
      "Batch 1130/9152: Load=1.66s, Embed=1.65s, Store=0.00s, Total=3.68s, Images/sec=3.26\n",
      "Estimated remaining time: 492.4 minutes\n"
     ]
    },
    {
     "name": "stderr",
     "output_type": "stream",
     "text": [
      "Processing train:  12%|█▏        | 1140/9152 [1:10:51<8:23:07,  3.77s/it]"
     ]
    },
    {
     "name": "stdout",
     "output_type": "stream",
     "text": [
      "\n",
      "Batch 1140/9152: Load=1.69s, Embed=1.70s, Store=0.00s, Total=3.80s, Images/sec=3.15\n",
      "Estimated remaining time: 507.9 minutes\n"
     ]
    },
    {
     "name": "stderr",
     "output_type": "stream",
     "text": [
      "Processing train:  13%|█▎        | 1150/9152 [1:11:34<12:04:59,  5.44s/it]"
     ]
    },
    {
     "name": "stdout",
     "output_type": "stream",
     "text": [
      "\n",
      "Batch 1150/9152: Load=2.03s, Embed=1.64s, Store=0.00s, Total=4.09s, Images/sec=2.94\n",
      "Estimated remaining time: 545.0 minutes\n"
     ]
    },
    {
     "name": "stderr",
     "output_type": "stream",
     "text": [
      "Processing train:  13%|█▎        | 1160/9152 [1:12:14<8:44:13,  3.94s/it] "
     ]
    },
    {
     "name": "stdout",
     "output_type": "stream",
     "text": [
      "\n",
      "Batch 1160/9152: Load=1.75s, Embed=1.63s, Store=0.00s, Total=3.77s, Images/sec=3.18\n",
      "Estimated remaining time: 502.1 minutes\n"
     ]
    },
    {
     "name": "stderr",
     "output_type": "stream",
     "text": [
      "Processing train:  13%|█▎        | 1170/9152 [1:12:51<8:14:45,  3.72s/it]"
     ]
    },
    {
     "name": "stdout",
     "output_type": "stream",
     "text": [
      "\n",
      "Batch 1170/9152: Load=1.65s, Embed=1.63s, Store=0.00s, Total=3.67s, Images/sec=3.27\n",
      "Estimated remaining time: 488.6 minutes\n"
     ]
    },
    {
     "name": "stderr",
     "output_type": "stream",
     "text": [
      "Processing train:  13%|█▎        | 1180/9152 [1:13:29<8:19:01,  3.76s/it]"
     ]
    },
    {
     "name": "stdout",
     "output_type": "stream",
     "text": [
      "\n",
      "Batch 1180/9152: Load=1.71s, Embed=1.63s, Store=0.00s, Total=3.73s, Images/sec=3.22\n",
      "Estimated remaining time: 495.4 minutes\n"
     ]
    },
    {
     "name": "stderr",
     "output_type": "stream",
     "text": [
      "Processing train:  13%|█▎        | 1190/9152 [1:14:06<8:09:33,  3.69s/it]"
     ]
    },
    {
     "name": "stdout",
     "output_type": "stream",
     "text": [
      "\n",
      "Batch 1190/9152: Load=1.63s, Embed=1.63s, Store=0.00s, Total=3.65s, Images/sec=3.29\n",
      "Estimated remaining time: 484.6 minutes\n"
     ]
    },
    {
     "name": "stderr",
     "output_type": "stream",
     "text": [
      "Processing train:  13%|█▎        | 1200/9152 [1:14:48<11:34:48,  5.24s/it]"
     ]
    },
    {
     "name": "stdout",
     "output_type": "stream",
     "text": [
      "\n",
      "Batch 1200/9152: Load=1.66s, Embed=1.63s, Store=0.00s, Total=4.00s, Images/sec=3.00\n",
      "Estimated remaining time: 529.6 minutes\n"
     ]
    },
    {
     "name": "stderr",
     "output_type": "stream",
     "text": [
      "Processing train:  13%|█▎        | 1210/9152 [1:15:26<8:25:44,  3.82s/it] "
     ]
    },
    {
     "name": "stdout",
     "output_type": "stream",
     "text": [
      "\n",
      "Batch 1210/9152: Load=1.70s, Embed=1.65s, Store=0.00s, Total=3.74s, Images/sec=3.21\n",
      "Estimated remaining time: 495.0 minutes\n"
     ]
    },
    {
     "name": "stderr",
     "output_type": "stream",
     "text": [
      "Processing train:  13%|█▎        | 1220/9152 [1:16:03<8:17:14,  3.76s/it]"
     ]
    },
    {
     "name": "stdout",
     "output_type": "stream",
     "text": [
      "\n",
      "Batch 1220/9152: Load=1.68s, Embed=1.62s, Store=0.00s, Total=3.71s, Images/sec=3.23\n",
      "Estimated remaining time: 490.5 minutes\n"
     ]
    },
    {
     "name": "stderr",
     "output_type": "stream",
     "text": [
      "Processing train:  13%|█▎        | 1230/9152 [1:16:41<8:10:59,  3.72s/it]"
     ]
    },
    {
     "name": "stdout",
     "output_type": "stream",
     "text": [
      "\n",
      "Batch 1230/9152: Load=1.62s, Embed=1.64s, Store=0.00s, Total=3.65s, Images/sec=3.29\n",
      "Estimated remaining time: 481.8 minutes\n"
     ]
    },
    {
     "name": "stderr",
     "output_type": "stream",
     "text": [
      "Processing train:  14%|█▎        | 1240/9152 [1:17:19<8:05:10,  3.68s/it]"
     ]
    },
    {
     "name": "stdout",
     "output_type": "stream",
     "text": [
      "\n",
      "Batch 1240/9152: Load=1.56s, Embed=1.63s, Store=0.00s, Total=3.59s, Images/sec=3.35\n",
      "Estimated remaining time: 473.0 minutes\n"
     ]
    },
    {
     "name": "stderr",
     "output_type": "stream",
     "text": [
      "Processing train:  14%|█▎        | 1250/9152 [1:18:02<11:38:59,  5.31s/it]"
     ]
    },
    {
     "name": "stdout",
     "output_type": "stream",
     "text": [
      "\n",
      "Batch 1250/9152: Load=1.65s, Embed=1.65s, Store=0.00s, Total=3.70s, Images/sec=3.24\n",
      "Estimated remaining time: 487.3 minutes\n"
     ]
    },
    {
     "name": "stderr",
     "output_type": "stream",
     "text": [
      "Processing train:  14%|█▍        | 1260/9152 [1:18:40<8:22:51,  3.82s/it] "
     ]
    },
    {
     "name": "stdout",
     "output_type": "stream",
     "text": [
      "\n",
      "Batch 1260/9152: Load=1.71s, Embed=1.61s, Store=0.00s, Total=3.71s, Images/sec=3.23\n",
      "Estimated remaining time: 488.6 minutes\n"
     ]
    },
    {
     "name": "stderr",
     "output_type": "stream",
     "text": [
      "Processing train:  14%|█▍        | 1270/9152 [1:19:23<9:31:21,  4.35s/it] "
     ]
    },
    {
     "name": "stdout",
     "output_type": "stream",
     "text": [
      "\n",
      "Batch 1270/9152: Load=1.77s, Embed=1.62s, Store=0.00s, Total=3.83s, Images/sec=3.13\n",
      "Estimated remaining time: 503.0 minutes\n"
     ]
    },
    {
     "name": "stderr",
     "output_type": "stream",
     "text": [
      "Processing train:  14%|█▍        | 1280/9152 [1:20:01<8:22:02,  3.83s/it]"
     ]
    },
    {
     "name": "stdout",
     "output_type": "stream",
     "text": [
      "\n",
      "Batch 1280/9152: Load=1.69s, Embed=1.62s, Store=0.00s, Total=3.77s, Images/sec=3.18\n",
      "Estimated remaining time: 495.1 minutes\n"
     ]
    },
    {
     "name": "stderr",
     "output_type": "stream",
     "text": [
      "Processing train:  14%|█▍        | 1290/9152 [1:20:40<8:19:30,  3.81s/it]"
     ]
    },
    {
     "name": "stdout",
     "output_type": "stream",
     "text": [
      "\n",
      "Batch 1290/9152: Load=1.65s, Embed=1.66s, Store=0.00s, Total=3.84s, Images/sec=3.13\n",
      "Estimated remaining time: 503.0 minutes\n"
     ]
    },
    {
     "name": "stderr",
     "output_type": "stream",
     "text": [
      "Processing train:  14%|█▍        | 1300/9152 [1:21:22<11:29:42,  5.27s/it]"
     ]
    },
    {
     "name": "stdout",
     "output_type": "stream",
     "text": [
      "\n",
      "Batch 1300/9152: Load=1.77s, Embed=1.61s, Store=0.00s, Total=3.79s, Images/sec=3.17\n",
      "Estimated remaining time: 496.0 minutes\n"
     ]
    },
    {
     "name": "stderr",
     "output_type": "stream",
     "text": [
      "Processing train:  14%|█▍        | 1310/9152 [1:22:01<8:29:51,  3.90s/it] "
     ]
    },
    {
     "name": "stdout",
     "output_type": "stream",
     "text": [
      "\n",
      "Batch 1310/9152: Load=1.66s, Embed=1.64s, Store=0.00s, Total=3.71s, Images/sec=3.23\n",
      "Estimated remaining time: 484.8 minutes\n"
     ]
    },
    {
     "name": "stderr",
     "output_type": "stream",
     "text": [
      "Processing train:  14%|█▍        | 1320/9152 [1:22:40<8:26:09,  3.88s/it]"
     ]
    },
    {
     "name": "stdout",
     "output_type": "stream",
     "text": [
      "\n",
      "Batch 1320/9152: Load=1.70s, Embed=1.65s, Store=0.00s, Total=3.91s, Images/sec=3.07\n",
      "Estimated remaining time: 510.3 minutes\n"
     ]
    },
    {
     "name": "stderr",
     "output_type": "stream",
     "text": [
      "Processing train:  15%|█▍        | 1330/9152 [1:23:18<8:21:34,  3.85s/it]"
     ]
    },
    {
     "name": "stdout",
     "output_type": "stream",
     "text": [
      "\n",
      "Batch 1330/9152: Load=1.78s, Embed=1.63s, Store=0.00s, Total=3.82s, Images/sec=3.14\n",
      "Estimated remaining time: 498.6 minutes\n"
     ]
    },
    {
     "name": "stderr",
     "output_type": "stream",
     "text": [
      "Processing train:  15%|█▍        | 1340/9152 [1:23:56<8:20:40,  3.85s/it]"
     ]
    },
    {
     "name": "stdout",
     "output_type": "stream",
     "text": [
      "\n",
      "Batch 1340/9152: Load=1.64s, Embed=1.64s, Store=0.00s, Total=3.70s, Images/sec=3.25\n",
      "Estimated remaining time: 481.3 minutes\n"
     ]
    },
    {
     "name": "stderr",
     "output_type": "stream",
     "text": [
      "Processing train:  15%|█▍        | 1350/9152 [1:24:39<11:26:47,  5.28s/it]"
     ]
    },
    {
     "name": "stdout",
     "output_type": "stream",
     "text": [
      "\n",
      "Batch 1350/9152: Load=1.71s, Embed=1.63s, Store=0.00s, Total=3.76s, Images/sec=3.19\n",
      "Estimated remaining time: 488.5 minutes\n"
     ]
    },
    {
     "name": "stderr",
     "output_type": "stream",
     "text": [
      "Processing train:  15%|█▍        | 1360/9152 [1:25:17<8:18:17,  3.84s/it] "
     ]
    },
    {
     "name": "stdout",
     "output_type": "stream",
     "text": [
      "\n",
      "Batch 1360/9152: Load=1.70s, Embed=1.63s, Store=0.00s, Total=3.75s, Images/sec=3.20\n",
      "Estimated remaining time: 487.6 minutes\n"
     ]
    },
    {
     "name": "stderr",
     "output_type": "stream",
     "text": [
      "Processing train:  15%|█▍        | 1370/9152 [1:25:55<8:05:54,  3.75s/it]"
     ]
    },
    {
     "name": "stdout",
     "output_type": "stream",
     "text": [
      "\n",
      "Batch 1370/9152: Load=1.60s, Embed=1.62s, Store=0.00s, Total=3.64s, Images/sec=3.30\n",
      "Estimated remaining time: 472.0 minutes\n"
     ]
    },
    {
     "name": "stderr",
     "output_type": "stream",
     "text": [
      "Processing train:  15%|█▌        | 1380/9152 [1:26:34<8:15:36,  3.83s/it]"
     ]
    },
    {
     "name": "stdout",
     "output_type": "stream",
     "text": [
      "\n",
      "Batch 1380/9152: Load=1.62s, Embed=1.63s, Store=0.00s, Total=3.67s, Images/sec=3.27\n",
      "Estimated remaining time: 475.7 minutes\n"
     ]
    },
    {
     "name": "stderr",
     "output_type": "stream",
     "text": [
      "Processing train:  15%|█▌        | 1390/9152 [1:27:12<8:06:29,  3.76s/it]"
     ]
    },
    {
     "name": "stdout",
     "output_type": "stream",
     "text": [
      "\n",
      "Batch 1390/9152: Load=1.66s, Embed=1.63s, Store=0.00s, Total=3.72s, Images/sec=3.23\n",
      "Estimated remaining time: 480.9 minutes\n"
     ]
    },
    {
     "name": "stderr",
     "output_type": "stream",
     "text": [
      "Processing train:  15%|█▌        | 1400/9152 [1:28:02<15:29:46,  7.20s/it]"
     ]
    },
    {
     "name": "stdout",
     "output_type": "stream",
     "text": [
      "\n",
      "Batch 1400/9152: Load=1.76s, Embed=1.66s, Store=0.00s, Total=3.85s, Images/sec=3.11\n",
      "Estimated remaining time: 498.0 minutes\n"
     ]
    },
    {
     "name": "stderr",
     "output_type": "stream",
     "text": [
      "Processing train:  15%|█▌        | 1410/9152 [1:28:40<8:25:18,  3.92s/it] "
     ]
    },
    {
     "name": "stdout",
     "output_type": "stream",
     "text": [
      "\n",
      "Batch 1410/9152: Load=1.53s, Embed=1.63s, Store=0.00s, Total=3.66s, Images/sec=3.28\n",
      "Estimated remaining time: 472.1 minutes\n"
     ]
    },
    {
     "name": "stderr",
     "output_type": "stream",
     "text": [
      "Processing train:  16%|█▌        | 1420/9152 [1:29:19<8:15:00,  3.84s/it]"
     ]
    },
    {
     "name": "stdout",
     "output_type": "stream",
     "text": [
      "\n",
      "Batch 1420/9152: Load=1.78s, Embed=1.62s, Store=0.00s, Total=3.85s, Images/sec=3.12\n",
      "Estimated remaining time: 495.5 minutes\n"
     ]
    },
    {
     "name": "stderr",
     "output_type": "stream",
     "text": [
      "Processing train:  16%|█▌        | 1430/9152 [1:29:57<8:08:08,  3.79s/it]"
     ]
    },
    {
     "name": "stdout",
     "output_type": "stream",
     "text": [
      "\n",
      "Batch 1430/9152: Load=1.71s, Embed=1.64s, Store=0.00s, Total=3.79s, Images/sec=3.17\n",
      "Estimated remaining time: 487.1 minutes\n"
     ]
    },
    {
     "name": "stderr",
     "output_type": "stream",
     "text": [
      "Processing train:  16%|█▌        | 1440/9152 [1:30:35<8:11:35,  3.82s/it]"
     ]
    },
    {
     "name": "stdout",
     "output_type": "stream",
     "text": [
      "\n",
      "Batch 1440/9152: Load=1.70s, Embed=1.64s, Store=0.00s, Total=3.79s, Images/sec=3.17\n",
      "Estimated remaining time: 486.7 minutes\n"
     ]
    },
    {
     "name": "stderr",
     "output_type": "stream",
     "text": [
      "Processing train:  16%|█▌        | 1450/9152 [1:31:20<12:26:19,  5.81s/it]"
     ]
    },
    {
     "name": "stdout",
     "output_type": "stream",
     "text": [
      "\n",
      "Batch 1450/9152: Load=1.69s, Embed=1.64s, Store=0.00s, Total=3.78s, Images/sec=3.18\n",
      "Estimated remaining time: 484.6 minutes\n"
     ]
    },
    {
     "name": "stderr",
     "output_type": "stream",
     "text": [
      "Processing train:  16%|█▌        | 1460/9152 [1:31:59<8:23:04,  3.92s/it] "
     ]
    },
    {
     "name": "stdout",
     "output_type": "stream",
     "text": [
      "\n",
      "Batch 1460/9152: Load=1.74s, Embed=1.64s, Store=0.00s, Total=3.84s, Images/sec=3.13\n",
      "Estimated remaining time: 492.2 minutes\n"
     ]
    },
    {
     "name": "stderr",
     "output_type": "stream",
     "text": [
      "Processing train:  16%|█▌        | 1470/9152 [1:32:37<8:05:38,  3.79s/it]"
     ]
    },
    {
     "name": "stdout",
     "output_type": "stream",
     "text": [
      "\n",
      "Batch 1470/9152: Load=1.70s, Embed=1.64s, Store=0.00s, Total=3.79s, Images/sec=3.17\n",
      "Estimated remaining time: 484.8 minutes\n"
     ]
    },
    {
     "name": "stderr",
     "output_type": "stream",
     "text": [
      "Processing train:  16%|█▌        | 1480/9152 [1:33:15<8:06:50,  3.81s/it]"
     ]
    },
    {
     "name": "stdout",
     "output_type": "stream",
     "text": [
      "\n",
      "Batch 1480/9152: Load=1.75s, Embed=1.65s, Store=0.00s, Total=3.85s, Images/sec=3.12\n",
      "Estimated remaining time: 492.3 minutes\n"
     ]
    },
    {
     "name": "stderr",
     "output_type": "stream",
     "text": [
      "Processing train:  16%|█▋        | 1490/9152 [1:33:54<8:09:04,  3.83s/it]"
     ]
    },
    {
     "name": "stdout",
     "output_type": "stream",
     "text": [
      "\n",
      "Batch 1490/9152: Load=1.76s, Embed=1.63s, Store=0.00s, Total=3.85s, Images/sec=3.12\n",
      "Estimated remaining time: 491.6 minutes\n"
     ]
    },
    {
     "name": "stderr",
     "output_type": "stream",
     "text": [
      "Processing train:  16%|█▋        | 1500/9152 [1:34:38<11:43:51,  5.52s/it]"
     ]
    },
    {
     "name": "stdout",
     "output_type": "stream",
     "text": [
      "\n",
      "Batch 1500/9152: Load=1.59s, Embed=1.63s, Store=0.00s, Total=3.66s, Images/sec=3.28\n",
      "Estimated remaining time: 467.1 minutes\n"
     ]
    },
    {
     "name": "stderr",
     "output_type": "stream",
     "text": [
      "Processing train:  17%|█▋        | 1600/9152 [1:41:54<13:32:09,  6.45s/it]"
     ]
    },
    {
     "name": "stdout",
     "output_type": "stream",
     "text": [
      "\n",
      "Batch 1600/9152: Load=2.85s, Embed=1.71s, Store=0.00s, Total=5.03s, Images/sec=2.38\n",
      "Estimated remaining time: 633.6 minutes\n"
     ]
    },
    {
     "name": "stderr",
     "output_type": "stream",
     "text": [
      "Processing train:  18%|█▊        | 1610/9152 [1:42:42<10:27:38,  4.99s/it]"
     ]
    },
    {
     "name": "stdout",
     "output_type": "stream",
     "text": [
      "\n",
      "Batch 1610/9152: Load=2.73s, Embed=1.71s, Store=0.00s, Total=5.08s, Images/sec=2.36\n",
      "Estimated remaining time: 638.9 minutes\n"
     ]
    },
    {
     "name": "stderr",
     "output_type": "stream",
     "text": [
      "Processing train:  18%|█▊        | 1620/9152 [1:43:28<9:52:57,  4.72s/it] "
     ]
    },
    {
     "name": "stdout",
     "output_type": "stream",
     "text": [
      "\n",
      "Batch 1620/9152: Load=2.73s, Embed=1.70s, Store=0.00s, Total=4.99s, Images/sec=2.40\n",
      "Estimated remaining time: 626.5 minutes\n"
     ]
    },
    {
     "name": "stderr",
     "output_type": "stream",
     "text": [
      "Processing train:  18%|█▊        | 1630/9152 [1:44:16<9:54:08,  4.74s/it] "
     ]
    },
    {
     "name": "stdout",
     "output_type": "stream",
     "text": [
      "\n",
      "Batch 1630/9152: Load=2.34s, Embed=1.71s, Store=0.00s, Total=4.53s, Images/sec=2.65\n",
      "Estimated remaining time: 567.8 minutes\n"
     ]
    },
    {
     "name": "stderr",
     "output_type": "stream",
     "text": [
      "Processing train:  18%|█▊        | 1640/9152 [1:45:04<10:07:17,  4.85s/it]"
     ]
    },
    {
     "name": "stdout",
     "output_type": "stream",
     "text": [
      "\n",
      "Batch 1640/9152: Load=2.57s, Embed=1.72s, Store=0.00s, Total=4.91s, Images/sec=2.44\n",
      "Estimated remaining time: 615.1 minutes\n"
     ]
    },
    {
     "name": "stderr",
     "output_type": "stream",
     "text": [
      "Processing train:  18%|█▊        | 1650/9152 [1:45:59<14:03:51,  6.75s/it]"
     ]
    },
    {
     "name": "stdout",
     "output_type": "stream",
     "text": [
      "\n",
      "Batch 1650/9152: Load=2.66s, Embed=1.71s, Store=0.00s, Total=4.86s, Images/sec=2.47\n",
      "Estimated remaining time: 607.7 minutes\n"
     ]
    },
    {
     "name": "stderr",
     "output_type": "stream",
     "text": [
      "Processing train:  18%|█▊        | 1660/9152 [1:46:48<10:24:17,  5.00s/it]"
     ]
    },
    {
     "name": "stdout",
     "output_type": "stream",
     "text": [
      "\n",
      "Batch 1660/9152: Load=2.78s, Embed=1.69s, Store=0.00s, Total=4.99s, Images/sec=2.41\n",
      "Estimated remaining time: 623.0 minutes\n"
     ]
    },
    {
     "name": "stderr",
     "output_type": "stream",
     "text": [
      "Processing train:  18%|█▊        | 1670/9152 [1:47:36<10:08:13,  4.88s/it]"
     ]
    },
    {
     "name": "stdout",
     "output_type": "stream",
     "text": [
      "\n",
      "Batch 1670/9152: Load=2.70s, Embed=1.71s, Store=0.00s, Total=4.94s, Images/sec=2.43\n",
      "Estimated remaining time: 615.6 minutes\n"
     ]
    },
    {
     "name": "stderr",
     "output_type": "stream",
     "text": [
      "Processing train:  18%|█▊        | 1680/9152 [1:48:25<9:48:17,  4.72s/it] "
     ]
    },
    {
     "name": "stdout",
     "output_type": "stream",
     "text": [
      "\n",
      "Batch 1680/9152: Load=2.15s, Embed=1.71s, Store=0.00s, Total=4.34s, Images/sec=2.76\n",
      "Estimated remaining time: 541.1 minutes\n"
     ]
    },
    {
     "name": "stderr",
     "output_type": "stream",
     "text": [
      "Processing train:  18%|█▊        | 1690/9152 [1:49:14<10:19:14,  4.98s/it]"
     ]
    },
    {
     "name": "stdout",
     "output_type": "stream",
     "text": [
      "\n",
      "Batch 1690/9152: Load=2.52s, Embed=1.73s, Store=0.00s, Total=5.02s, Images/sec=2.39\n",
      "Estimated remaining time: 624.1 minutes\n"
     ]
    },
    {
     "name": "stderr",
     "output_type": "stream",
     "text": [
      "Processing train:  19%|█▊        | 1700/9152 [1:50:11<14:28:48,  7.00s/it]"
     ]
    },
    {
     "name": "stdout",
     "output_type": "stream",
     "text": [
      "\n",
      "Batch 1700/9152: Load=2.83s, Embed=1.72s, Store=0.00s, Total=5.03s, Images/sec=2.39\n",
      "Estimated remaining time: 624.5 minutes\n"
     ]
    },
    {
     "name": "stderr",
     "output_type": "stream",
     "text": [
      "Processing train:  19%|█▊        | 1710/9152 [1:50:50<8:01:47,  3.88s/it] "
     ]
    },
    {
     "name": "stdout",
     "output_type": "stream",
     "text": [
      "\n",
      "Batch 1710/9152: Load=1.65s, Embed=1.63s, Store=0.00s, Total=3.77s, Images/sec=3.18\n",
      "Estimated remaining time: 467.7 minutes\n"
     ]
    },
    {
     "name": "stderr",
     "output_type": "stream",
     "text": [
      "Processing train:  19%|█▉        | 1720/9152 [1:51:28<7:40:15,  3.72s/it]"
     ]
    },
    {
     "name": "stdout",
     "output_type": "stream",
     "text": [
      "\n",
      "Batch 1720/9152: Load=1.48s, Embed=1.62s, Store=0.00s, Total=3.60s, Images/sec=3.34\n",
      "Estimated remaining time: 445.4 minutes\n"
     ]
    },
    {
     "name": "stderr",
     "output_type": "stream",
     "text": [
      "Processing train:  19%|█▉        | 1730/9152 [1:52:06<7:44:19,  3.75s/it]"
     ]
    },
    {
     "name": "stdout",
     "output_type": "stream",
     "text": [
      "\n",
      "Batch 1730/9152: Load=1.62s, Embed=1.61s, Store=0.00s, Total=3.73s, Images/sec=3.21\n",
      "Estimated remaining time: 462.0 minutes\n"
     ]
    },
    {
     "name": "stderr",
     "output_type": "stream",
     "text": [
      "Processing train:  19%|█▉        | 1740/9152 [1:52:43<7:49:36,  3.80s/it]"
     ]
    },
    {
     "name": "stdout",
     "output_type": "stream",
     "text": [
      "\n",
      "Batch 1740/9152: Load=1.62s, Embed=1.67s, Store=0.00s, Total=3.79s, Images/sec=3.17\n",
      "Estimated remaining time: 467.7 minutes\n"
     ]
    },
    {
     "name": "stderr",
     "output_type": "stream",
     "text": [
      "Processing train:  19%|█▉        | 1750/9152 [1:53:28<11:38:39,  5.66s/it]"
     ]
    },
    {
     "name": "stdout",
     "output_type": "stream",
     "text": [
      "\n",
      "Batch 1750/9152: Load=1.47s, Embed=1.61s, Store=0.00s, Total=3.58s, Images/sec=3.35\n",
      "Estimated remaining time: 441.3 minutes\n"
     ]
    },
    {
     "name": "stderr",
     "output_type": "stream",
     "text": [
      "Processing train:  19%|█▉        | 1760/9152 [1:54:05<7:45:51,  3.78s/it] "
     ]
    },
    {
     "name": "stdout",
     "output_type": "stream",
     "text": [
      "\n",
      "Batch 1760/9152: Load=1.59s, Embed=1.62s, Store=0.00s, Total=3.71s, Images/sec=3.24\n",
      "Estimated remaining time: 456.5 minutes\n"
     ]
    },
    {
     "name": "stderr",
     "output_type": "stream",
     "text": [
      "Processing train:  19%|█▉        | 1770/9152 [1:54:43<7:51:59,  3.84s/it]"
     ]
    },
    {
     "name": "stdout",
     "output_type": "stream",
     "text": [
      "\n",
      "Batch 1770/9152: Load=1.56s, Embed=1.62s, Store=0.00s, Total=4.05s, Images/sec=2.96\n",
      "Estimated remaining time: 498.6 minutes\n"
     ]
    },
    {
     "name": "stderr",
     "output_type": "stream",
     "text": [
      "Processing train:  19%|█▉        | 1780/9152 [1:55:20<7:39:57,  3.74s/it]"
     ]
    },
    {
     "name": "stdout",
     "output_type": "stream",
     "text": [
      "\n",
      "Batch 1780/9152: Load=1.61s, Embed=1.63s, Store=0.00s, Total=3.75s, Images/sec=3.20\n",
      "Estimated remaining time: 460.5 minutes\n"
     ]
    },
    {
     "name": "stderr",
     "output_type": "stream",
     "text": [
      "Processing train:  20%|█▉        | 1790/9152 [1:55:58<7:46:43,  3.80s/it]"
     ]
    },
    {
     "name": "stdout",
     "output_type": "stream",
     "text": [
      "\n",
      "Batch 1790/9152: Load=1.62s, Embed=1.61s, Store=0.00s, Total=3.75s, Images/sec=3.20\n",
      "Estimated remaining time: 460.1 minutes\n"
     ]
    },
    {
     "name": "stderr",
     "output_type": "stream",
     "text": [
      "Processing train:  20%|█▉        | 1800/9152 [1:56:42<11:52:18,  5.81s/it]"
     ]
    },
    {
     "name": "stdout",
     "output_type": "stream",
     "text": [
      "\n",
      "Batch 1800/9152: Load=1.56s, Embed=1.83s, Store=0.00s, Total=3.96s, Images/sec=3.03\n",
      "Estimated remaining time: 485.1 minutes\n"
     ]
    },
    {
     "name": "stderr",
     "output_type": "stream",
     "text": [
      "Processing train:  20%|█▉        | 1810/9152 [1:57:21<7:58:55,  3.91s/it] "
     ]
    },
    {
     "name": "stdout",
     "output_type": "stream",
     "text": [
      "\n",
      "Batch 1810/9152: Load=1.55s, Embed=1.63s, Store=0.00s, Total=3.70s, Images/sec=3.24\n",
      "Estimated remaining time: 453.3 minutes\n"
     ]
    },
    {
     "name": "stderr",
     "output_type": "stream",
     "text": [
      "Processing train:  20%|█▉        | 1820/9152 [1:57:59<7:57:22,  3.91s/it]"
     ]
    },
    {
     "name": "stdout",
     "output_type": "stream",
     "text": [
      "\n",
      "Batch 1820/9152: Load=1.57s, Embed=1.65s, Store=0.00s, Total=4.16s, Images/sec=2.89\n",
      "Estimated remaining time: 508.2 minutes\n"
     ]
    },
    {
     "name": "stderr",
     "output_type": "stream",
     "text": [
      "Processing train:  20%|█▉        | 1830/9152 [1:58:38<8:01:54,  3.95s/it]"
     ]
    },
    {
     "name": "stdout",
     "output_type": "stream",
     "text": [
      "\n",
      "Batch 1830/9152: Load=1.72s, Embed=1.65s, Store=0.00s, Total=4.14s, Images/sec=2.90\n",
      "Estimated remaining time: 505.4 minutes\n"
     ]
    },
    {
     "name": "stderr",
     "output_type": "stream",
     "text": [
      "Processing train:  20%|██        | 1840/9152 [1:59:18<7:52:31,  3.88s/it]"
     ]
    },
    {
     "name": "stdout",
     "output_type": "stream",
     "text": [
      "\n",
      "Batch 1840/9152: Load=1.61s, Embed=1.64s, Store=0.00s, Total=3.86s, Images/sec=3.11\n",
      "Estimated remaining time: 470.7 minutes\n"
     ]
    },
    {
     "name": "stderr",
     "output_type": "stream",
     "text": [
      "Processing train:  20%|██        | 1850/9152 [2:00:03<12:17:17,  6.06s/it]"
     ]
    },
    {
     "name": "stdout",
     "output_type": "stream",
     "text": [
      "\n",
      "Batch 1850/9152: Load=1.88s, Embed=1.64s, Store=0.00s, Total=4.11s, Images/sec=2.92\n",
      "Estimated remaining time: 500.1 minutes\n"
     ]
    },
    {
     "name": "stderr",
     "output_type": "stream",
     "text": [
      "Processing train:  20%|██        | 1860/9152 [2:00:43<7:53:42,  3.90s/it] "
     ]
    },
    {
     "name": "stdout",
     "output_type": "stream",
     "text": [
      "\n",
      "Batch 1860/9152: Load=1.59s, Embed=1.64s, Store=0.00s, Total=3.75s, Images/sec=3.20\n",
      "Estimated remaining time: 455.6 minutes\n"
     ]
    },
    {
     "name": "stderr",
     "output_type": "stream",
     "text": [
      "Processing train:  20%|██        | 1870/9152 [2:01:21<7:44:36,  3.83s/it]"
     ]
    },
    {
     "name": "stdout",
     "output_type": "stream",
     "text": [
      "\n",
      "Batch 1870/9152: Load=1.60s, Embed=1.77s, Store=0.00s, Total=3.89s, Images/sec=3.09\n",
      "Estimated remaining time: 471.7 minutes\n"
     ]
    },
    {
     "name": "stderr",
     "output_type": "stream",
     "text": [
      "Processing train:  21%|██        | 1880/9152 [2:01:59<7:33:38,  3.74s/it]"
     ]
    },
    {
     "name": "stdout",
     "output_type": "stream",
     "text": [
      "\n",
      "Batch 1880/9152: Load=1.68s, Embed=1.63s, Store=0.00s, Total=3.83s, Images/sec=3.13\n",
      "Estimated remaining time: 464.8 minutes\n"
     ]
    },
    {
     "name": "stderr",
     "output_type": "stream",
     "text": [
      "Processing train:  21%|██        | 1890/9152 [2:02:38<7:37:01,  3.78s/it]"
     ]
    },
    {
     "name": "stdout",
     "output_type": "stream",
     "text": [
      "\n",
      "Batch 1890/9152: Load=1.54s, Embed=1.65s, Store=0.00s, Total=3.72s, Images/sec=3.23\n",
      "Estimated remaining time: 450.3 minutes\n"
     ]
    },
    {
     "name": "stderr",
     "output_type": "stream",
     "text": [
      "Processing train:  21%|██        | 1900/9152 [2:03:23<12:08:15,  6.03s/it]"
     ]
    },
    {
     "name": "stdout",
     "output_type": "stream",
     "text": [
      "\n",
      "Batch 1900/9152: Load=1.58s, Embed=1.63s, Store=0.00s, Total=3.74s, Images/sec=3.21\n",
      "Estimated remaining time: 452.0 minutes\n"
     ]
    },
    {
     "name": "stderr",
     "output_type": "stream",
     "text": [
      "Processing train:  21%|██        | 1910/9152 [2:04:01<7:45:42,  3.86s/it] "
     ]
    },
    {
     "name": "stdout",
     "output_type": "stream",
     "text": [
      "\n",
      "Batch 1910/9152: Load=1.59s, Embed=1.62s, Store=0.00s, Total=3.85s, Images/sec=3.11\n",
      "Estimated remaining time: 465.3 minutes\n"
     ]
    },
    {
     "name": "stderr",
     "output_type": "stream",
     "text": [
      "Processing train:  21%|██        | 1920/9152 [2:04:39<7:35:19,  3.78s/it]"
     ]
    },
    {
     "name": "stdout",
     "output_type": "stream",
     "text": [
      "\n",
      "Batch 1920/9152: Load=1.53s, Embed=1.62s, Store=0.00s, Total=3.82s, Images/sec=3.14\n",
      "Estimated remaining time: 460.6 minutes\n"
     ]
    },
    {
     "name": "stderr",
     "output_type": "stream",
     "text": [
      "Processing train:  21%|██        | 1930/9152 [2:05:16<7:35:27,  3.78s/it]"
     ]
    },
    {
     "name": "stdout",
     "output_type": "stream",
     "text": [
      "\n",
      "Batch 1930/9152: Load=1.57s, Embed=1.61s, Store=0.00s, Total=3.71s, Images/sec=3.24\n",
      "Estimated remaining time: 446.3 minutes\n"
     ]
    },
    {
     "name": "stderr",
     "output_type": "stream",
     "text": [
      "Processing train:  21%|██        | 1940/9152 [2:05:54<7:40:08,  3.83s/it]"
     ]
    },
    {
     "name": "stdout",
     "output_type": "stream",
     "text": [
      "\n",
      "Batch 1940/9152: Load=1.66s, Embed=1.63s, Store=0.00s, Total=3.86s, Images/sec=3.11\n",
      "Estimated remaining time: 464.1 minutes\n"
     ]
    },
    {
     "name": "stderr",
     "output_type": "stream",
     "text": [
      "Processing train:  21%|██▏       | 1950/9152 [2:06:41<12:21:02,  6.17s/it]"
     ]
    },
    {
     "name": "stdout",
     "output_type": "stream",
     "text": [
      "\n",
      "Batch 1950/9152: Load=1.60s, Embed=1.99s, Store=0.00s, Total=4.18s, Images/sec=2.87\n",
      "Estimated remaining time: 501.7 minutes\n"
     ]
    },
    {
     "name": "stderr",
     "output_type": "stream",
     "text": [
      "Processing train:  21%|██▏       | 1960/9152 [2:07:20<7:40:33,  3.84s/it] "
     ]
    },
    {
     "name": "stdout",
     "output_type": "stream",
     "text": [
      "\n",
      "Batch 1960/9152: Load=1.50s, Embed=1.64s, Store=0.00s, Total=3.68s, Images/sec=3.26\n",
      "Estimated remaining time: 441.6 minutes\n"
     ]
    },
    {
     "name": "stderr",
     "output_type": "stream",
     "text": [
      "Processing train:  22%|██▏       | 1970/9152 [2:07:58<7:38:54,  3.83s/it]"
     ]
    },
    {
     "name": "stdout",
     "output_type": "stream",
     "text": [
      "\n",
      "Batch 1970/9152: Load=1.55s, Embed=1.61s, Store=0.00s, Total=3.82s, Images/sec=3.14\n",
      "Estimated remaining time: 457.0 minutes\n"
     ]
    },
    {
     "name": "stderr",
     "output_type": "stream",
     "text": [
      "Processing train:  22%|██▏       | 1980/9152 [2:08:36<7:37:34,  3.83s/it]"
     ]
    },
    {
     "name": "stdout",
     "output_type": "stream",
     "text": [
      "\n",
      "Batch 1980/9152: Load=1.52s, Embed=1.82s, Store=0.00s, Total=3.89s, Images/sec=3.08\n",
      "Estimated remaining time: 465.4 minutes\n"
     ]
    },
    {
     "name": "stderr",
     "output_type": "stream",
     "text": [
      "Processing train:  22%|██▏       | 1990/9152 [2:09:22<9:13:55,  4.64s/it] "
     ]
    },
    {
     "name": "stdout",
     "output_type": "stream",
     "text": [
      "\n",
      "Batch 1990/9152: Load=1.59s, Embed=1.68s, Store=0.00s, Total=3.82s, Images/sec=3.14\n",
      "Estimated remaining time: 455.9 minutes\n"
     ]
    },
    {
     "name": "stderr",
     "output_type": "stream",
     "text": [
      "Processing train:  22%|██▏       | 2000/9152 [2:10:09<12:17:19,  6.19s/it]"
     ]
    },
    {
     "name": "stdout",
     "output_type": "stream",
     "text": [
      "\n",
      "Batch 2000/9152: Load=1.75s, Embed=1.63s, Store=0.00s, Total=3.93s, Images/sec=3.05\n",
      "Estimated remaining time: 468.5 minutes\n"
     ]
    },
    {
     "name": "stderr",
     "output_type": "stream",
     "text": [
      "Processing train:  22%|██▏       | 2010/9152 [2:10:47<7:55:34,  4.00s/it] "
     ]
    },
    {
     "name": "stdout",
     "output_type": "stream",
     "text": [
      "\n",
      "Batch 2010/9152: Load=1.57s, Embed=1.64s, Store=0.00s, Total=4.03s, Images/sec=2.98\n",
      "Estimated remaining time: 479.7 minutes\n"
     ]
    },
    {
     "name": "stderr",
     "output_type": "stream",
     "text": [
      "Processing train:  22%|██▏       | 2020/9152 [2:11:26<7:25:02,  3.74s/it]"
     ]
    },
    {
     "name": "stdout",
     "output_type": "stream",
     "text": [
      "\n",
      "Batch 2020/9152: Load=1.45s, Embed=1.66s, Store=0.00s, Total=3.67s, Images/sec=3.27\n",
      "Estimated remaining time: 436.4 minutes\n"
     ]
    },
    {
     "name": "stderr",
     "output_type": "stream",
     "text": [
      "Processing train:  22%|██▏       | 2030/9152 [2:12:04<7:51:46,  3.97s/it]"
     ]
    },
    {
     "name": "stdout",
     "output_type": "stream",
     "text": [
      "\n",
      "Batch 2030/9152: Load=1.60s, Embed=1.64s, Store=0.00s, Total=4.24s, Images/sec=2.83\n",
      "Estimated remaining time: 503.0 minutes\n"
     ]
    },
    {
     "name": "stderr",
     "output_type": "stream",
     "text": [
      "Processing train:  22%|██▏       | 2040/9152 [2:12:45<8:46:14,  4.44s/it]"
     ]
    },
    {
     "name": "stdout",
     "output_type": "stream",
     "text": [
      "\n",
      "Batch 2040/9152: Load=3.25s, Embed=1.62s, Store=0.00s, Total=5.42s, Images/sec=2.21\n",
      "Estimated remaining time: 642.4 minutes\n"
     ]
    },
    {
     "name": "stderr",
     "output_type": "stream",
     "text": [
      "Processing train:  22%|██▏       | 2050/9152 [2:13:32<12:40:26,  6.42s/it]"
     ]
    },
    {
     "name": "stdout",
     "output_type": "stream",
     "text": [
      "\n",
      "Batch 2050/9152: Load=1.56s, Embed=1.62s, Store=0.00s, Total=3.90s, Images/sec=3.07\n",
      "Estimated remaining time: 462.0 minutes\n"
     ]
    },
    {
     "name": "stderr",
     "output_type": "stream",
     "text": [
      "Processing train:  23%|██▎       | 2060/9152 [2:14:13<8:23:48,  4.26s/it] "
     ]
    },
    {
     "name": "stdout",
     "output_type": "stream",
     "text": [
      "\n",
      "Batch 2060/9152: Load=1.55s, Embed=1.64s, Store=0.00s, Total=3.75s, Images/sec=3.20\n",
      "Estimated remaining time: 443.8 minutes\n"
     ]
    },
    {
     "name": "stderr",
     "output_type": "stream",
     "text": [
      "Processing train:  23%|██▎       | 2070/9152 [2:14:51<7:42:55,  3.92s/it]"
     ]
    },
    {
     "name": "stdout",
     "output_type": "stream",
     "text": [
      "\n",
      "Batch 2070/9152: Load=1.62s, Embed=1.70s, Store=0.00s, Total=4.00s, Images/sec=3.00\n",
      "Estimated remaining time: 472.0 minutes\n"
     ]
    },
    {
     "name": "stderr",
     "output_type": "stream",
     "text": [
      "Processing train:  23%|██▎       | 2080/9152 [2:15:31<7:45:52,  3.95s/it]"
     ]
    },
    {
     "name": "stdout",
     "output_type": "stream",
     "text": [
      "\n",
      "Batch 2080/9152: Load=1.63s, Embed=1.75s, Store=0.00s, Total=3.95s, Images/sec=3.04\n",
      "Estimated remaining time: 465.5 minutes\n"
     ]
    },
    {
     "name": "stderr",
     "output_type": "stream",
     "text": [
      "Processing train:  23%|██▎       | 2090/9152 [2:16:13<8:06:20,  4.13s/it]"
     ]
    },
    {
     "name": "stdout",
     "output_type": "stream",
     "text": [
      "\n",
      "Batch 2090/9152: Load=1.70s, Embed=1.65s, Store=0.00s, Total=3.96s, Images/sec=3.03\n",
      "Estimated remaining time: 466.3 minutes\n"
     ]
    },
    {
     "name": "stderr",
     "output_type": "stream",
     "text": [
      "Processing train:  23%|██▎       | 2100/9152 [2:17:42<21:40:11, 11.06s/it]"
     ]
    },
    {
     "name": "stdout",
     "output_type": "stream",
     "text": [
      "\n",
      "Batch 2100/9152: Load=2.56s, Embed=1.61s, Store=0.00s, Total=4.76s, Images/sec=2.52\n",
      "Estimated remaining time: 559.8 minutes\n"
     ]
    },
    {
     "name": "stderr",
     "output_type": "stream",
     "text": [
      "Processing train:  23%|██▎       | 2110/9152 [2:18:38<9:13:52,  4.72s/it] "
     ]
    },
    {
     "name": "stdout",
     "output_type": "stream",
     "text": [
      "\n",
      "Batch 2110/9152: Load=2.22s, Embed=1.70s, Store=0.00s, Total=4.49s, Images/sec=2.67\n",
      "Estimated remaining time: 527.2 minutes\n"
     ]
    },
    {
     "name": "stderr",
     "output_type": "stream",
     "text": [
      "Processing train:  23%|██▎       | 2120/9152 [2:19:22<8:41:48,  4.45s/it]"
     ]
    },
    {
     "name": "stdout",
     "output_type": "stream",
     "text": [
      "\n",
      "Batch 2120/9152: Load=1.60s, Embed=1.71s, Store=0.00s, Total=3.93s, Images/sec=3.06\n",
      "Estimated remaining time: 460.2 minutes\n"
     ]
    },
    {
     "name": "stderr",
     "output_type": "stream",
     "text": [
      "Processing train:  23%|██▎       | 2130/9152 [2:20:07<9:08:11,  4.68s/it]"
     ]
    },
    {
     "name": "stdout",
     "output_type": "stream",
     "text": [
      "\n",
      "Batch 2130/9152: Load=2.63s, Embed=1.71s, Store=0.00s, Total=4.97s, Images/sec=2.41\n",
      "Estimated remaining time: 581.7 minutes\n"
     ]
    },
    {
     "name": "stderr",
     "output_type": "stream",
     "text": [
      "Processing train:  23%|██▎       | 2140/9152 [2:20:57<9:35:34,  4.93s/it]"
     ]
    },
    {
     "name": "stdout",
     "output_type": "stream",
     "text": [
      "\n",
      "Batch 2140/9152: Load=2.61s, Embed=1.69s, Store=0.00s, Total=4.99s, Images/sec=2.41\n",
      "Estimated remaining time: 582.6 minutes\n"
     ]
    },
    {
     "name": "stderr",
     "output_type": "stream",
     "text": [
      "Processing train:  23%|██▎       | 2150/9152 [2:21:54<14:24:49,  7.41s/it]"
     ]
    },
    {
     "name": "stdout",
     "output_type": "stream",
     "text": [
      "\n",
      "Batch 2150/9152: Load=2.73s, Embed=1.69s, Store=0.00s, Total=5.25s, Images/sec=2.29\n",
      "Estimated remaining time: 612.4 minutes\n"
     ]
    },
    {
     "name": "stderr",
     "output_type": "stream",
     "text": [
      "Processing train:  24%|██▎       | 2160/9152 [2:22:43<9:35:01,  4.93s/it] "
     ]
    },
    {
     "name": "stdout",
     "output_type": "stream",
     "text": [
      "\n",
      "Batch 2160/9152: Load=2.40s, Embed=1.70s, Store=0.00s, Total=4.68s, Images/sec=2.56\n",
      "Estimated remaining time: 545.8 minutes\n"
     ]
    },
    {
     "name": "stderr",
     "output_type": "stream",
     "text": [
      "Processing train:  24%|██▎       | 2170/9152 [2:23:33<9:25:48,  4.86s/it]"
     ]
    },
    {
     "name": "stdout",
     "output_type": "stream",
     "text": [
      "\n",
      "Batch 2170/9152: Load=2.19s, Embed=1.68s, Store=0.00s, Total=4.57s, Images/sec=2.63\n",
      "Estimated remaining time: 531.9 minutes\n"
     ]
    },
    {
     "name": "stderr",
     "output_type": "stream",
     "text": [
      "Processing train:  24%|██▍       | 2180/9152 [2:24:21<8:21:56,  4.32s/it]"
     ]
    },
    {
     "name": "stdout",
     "output_type": "stream",
     "text": [
      "\n",
      "Batch 2180/9152: Load=1.62s, Embed=1.65s, Store=0.00s, Total=3.86s, Images/sec=3.11\n",
      "Estimated remaining time: 448.2 minutes\n"
     ]
    },
    {
     "name": "stderr",
     "output_type": "stream",
     "text": [
      "Processing train:  24%|██▍       | 2190/9152 [2:24:59<7:26:52,  3.85s/it]"
     ]
    },
    {
     "name": "stdout",
     "output_type": "stream",
     "text": [
      "\n",
      "Batch 2190/9152: Load=1.63s, Embed=1.65s, Store=0.00s, Total=3.91s, Images/sec=3.07\n",
      "Estimated remaining time: 453.9 minutes\n"
     ]
    },
    {
     "name": "stderr",
     "output_type": "stream",
     "text": [
      "Processing train:  24%|██▍       | 2200/9152 [2:25:46<12:11:11,  6.31s/it]"
     ]
    },
    {
     "name": "stdout",
     "output_type": "stream",
     "text": [
      "\n",
      "Batch 2200/9152: Load=1.55s, Embed=1.62s, Store=0.00s, Total=3.75s, Images/sec=3.20\n",
      "Estimated remaining time: 434.9 minutes\n"
     ]
    },
    {
     "name": "stderr",
     "output_type": "stream",
     "text": [
      "Processing train:  24%|██▍       | 2210/9152 [2:26:26<7:38:07,  3.96s/it] "
     ]
    },
    {
     "name": "stdout",
     "output_type": "stream",
     "text": [
      "\n",
      "Batch 2210/9152: Load=1.59s, Embed=1.64s, Store=0.00s, Total=3.82s, Images/sec=3.14\n",
      "Estimated remaining time: 442.0 minutes\n"
     ]
    },
    {
     "name": "stderr",
     "output_type": "stream",
     "text": [
      "Processing train:  24%|██▍       | 2220/9152 [2:27:05<7:30:57,  3.90s/it]"
     ]
    },
    {
     "name": "stdout",
     "output_type": "stream",
     "text": [
      "\n",
      "Batch 2220/9152: Load=1.53s, Embed=1.70s, Store=0.00s, Total=3.84s, Images/sec=3.13\n",
      "Estimated remaining time: 443.2 minutes\n"
     ]
    },
    {
     "name": "stderr",
     "output_type": "stream",
     "text": [
      "Processing train:  24%|██▍       | 2230/9152 [2:27:45<7:53:30,  4.10s/it]"
     ]
    },
    {
     "name": "stdout",
     "output_type": "stream",
     "text": [
      "\n",
      "Batch 2230/9152: Load=1.77s, Embed=1.70s, Store=0.00s, Total=4.34s, Images/sec=2.77\n",
      "Estimated remaining time: 500.1 minutes\n"
     ]
    },
    {
     "name": "stderr",
     "output_type": "stream",
     "text": [
      "Processing train:  24%|██▍       | 2240/9152 [2:28:25<7:33:17,  3.93s/it]"
     ]
    },
    {
     "name": "stdout",
     "output_type": "stream",
     "text": [
      "\n",
      "Batch 2240/9152: Load=1.63s, Embed=1.70s, Store=0.00s, Total=3.92s, Images/sec=3.06\n",
      "Estimated remaining time: 451.8 minutes\n"
     ]
    },
    {
     "name": "stderr",
     "output_type": "stream",
     "text": [
      "Processing train:  25%|██▍       | 2250/9152 [2:29:13<12:28:22,  6.51s/it]"
     ]
    },
    {
     "name": "stdout",
     "output_type": "stream",
     "text": [
      "\n",
      "Batch 2250/9152: Load=1.59s, Embed=1.69s, Store=0.00s, Total=3.88s, Images/sec=3.09\n",
      "Estimated remaining time: 446.0 minutes\n"
     ]
    },
    {
     "name": "stderr",
     "output_type": "stream",
     "text": [
      "Processing train:  25%|██▍       | 2260/9152 [2:29:53<7:56:39,  4.15s/it] "
     ]
    },
    {
     "name": "stdout",
     "output_type": "stream",
     "text": [
      "\n",
      "Batch 2260/9152: Load=1.60s, Embed=1.70s, Store=0.00s, Total=4.04s, Images/sec=2.97\n",
      "Estimated remaining time: 463.7 minutes\n"
     ]
    },
    {
     "name": "stderr",
     "output_type": "stream",
     "text": [
      "Processing train:  25%|██▍       | 2270/9152 [2:30:32<7:25:20,  3.88s/it]"
     ]
    },
    {
     "name": "stdout",
     "output_type": "stream",
     "text": [
      "\n",
      "Batch 2270/9152: Load=1.57s, Embed=1.69s, Store=0.00s, Total=3.86s, Images/sec=3.11\n",
      "Estimated remaining time: 443.0 minutes\n"
     ]
    },
    {
     "name": "stderr",
     "output_type": "stream",
     "text": [
      "Processing train:  25%|██▍       | 2280/9152 [2:31:40<12:16:33,  6.43s/it]"
     ]
    },
    {
     "name": "stdout",
     "output_type": "stream",
     "text": [
      "\n",
      "Batch 2280/9152: Load=1.66s, Embed=1.69s, Store=0.00s, Total=3.99s, Images/sec=3.01\n",
      "Estimated remaining time: 456.9 minutes\n"
     ]
    },
    {
     "name": "stderr",
     "output_type": "stream",
     "text": [
      "Processing train:  25%|██▌       | 2290/9152 [2:32:23<8:37:43,  4.53s/it] "
     ]
    },
    {
     "name": "stdout",
     "output_type": "stream",
     "text": [
      "\n",
      "Batch 2290/9152: Load=1.65s, Embed=2.30s, Store=0.00s, Total=4.56s, Images/sec=2.63\n",
      "Estimated remaining time: 521.8 minutes\n"
     ]
    },
    {
     "name": "stderr",
     "output_type": "stream",
     "text": [
      "Processing train:  25%|██▌       | 2300/9152 [2:33:24<16:55:29,  8.89s/it]"
     ]
    },
    {
     "name": "stdout",
     "output_type": "stream",
     "text": [
      "\n",
      "Batch 2300/9152: Load=1.64s, Embed=2.36s, Store=0.00s, Total=4.61s, Images/sec=2.60\n",
      "Estimated remaining time: 526.3 minutes\n"
     ]
    },
    {
     "name": "stderr",
     "output_type": "stream",
     "text": [
      "Processing train:  25%|██▌       | 2310/9152 [2:34:06<8:06:16,  4.26s/it] "
     ]
    },
    {
     "name": "stdout",
     "output_type": "stream",
     "text": [
      "\n",
      "Batch 2310/9152: Load=1.64s, Embed=1.97s, Store=0.00s, Total=4.21s, Images/sec=2.85\n",
      "Estimated remaining time: 480.4 minutes\n"
     ]
    },
    {
     "name": "stderr",
     "output_type": "stream",
     "text": [
      "Processing train:  25%|██▌       | 2320/9152 [2:34:52<9:10:49,  4.84s/it]"
     ]
    },
    {
     "name": "stdout",
     "output_type": "stream",
     "text": [
      "\n",
      "Batch 2320/9152: Load=1.62s, Embed=2.55s, Store=0.00s, Total=4.78s, Images/sec=2.51\n",
      "Estimated remaining time: 544.3 minutes\n"
     ]
    },
    {
     "name": "stderr",
     "output_type": "stream",
     "text": [
      "Processing train:  25%|██▌       | 2330/9152 [2:35:38<8:19:25,  4.39s/it]"
     ]
    },
    {
     "name": "stdout",
     "output_type": "stream",
     "text": [
      "\n",
      "Batch 2330/9152: Load=1.74s, Embed=1.65s, Store=0.00s, Total=4.21s, Images/sec=2.85\n",
      "Estimated remaining time: 479.1 minutes\n"
     ]
    },
    {
     "name": "stderr",
     "output_type": "stream",
     "text": [
      "Processing train:  26%|██▌       | 2340/9152 [2:36:24<8:03:52,  4.26s/it]"
     ]
    },
    {
     "name": "stdout",
     "output_type": "stream",
     "text": [
      "\n",
      "Batch 2340/9152: Load=2.04s, Embed=1.65s, Store=0.00s, Total=4.32s, Images/sec=2.78\n",
      "Estimated remaining time: 489.9 minutes\n"
     ]
    },
    {
     "name": "stderr",
     "output_type": "stream",
     "text": [
      "Processing train:  26%|██▌       | 2350/9152 [2:37:20<14:20:03,  7.59s/it]"
     ]
    },
    {
     "name": "stdout",
     "output_type": "stream",
     "text": [
      "\n",
      "Batch 2350/9152: Load=2.61s, Embed=1.69s, Store=0.00s, Total=4.98s, Images/sec=2.41\n",
      "Estimated remaining time: 565.1 minutes\n"
     ]
    },
    {
     "name": "stderr",
     "output_type": "stream",
     "text": [
      "Processing train:  26%|██▌       | 2360/9152 [2:38:02<7:53:30,  4.18s/it] "
     ]
    },
    {
     "name": "stdout",
     "output_type": "stream",
     "text": [
      "\n",
      "Batch 2360/9152: Load=1.65s, Embed=1.70s, Store=0.00s, Total=3.97s, Images/sec=3.02\n",
      "Estimated remaining time: 449.8 minutes\n"
     ]
    },
    {
     "name": "stderr",
     "output_type": "stream",
     "text": [
      "Processing train:  26%|██▌       | 2370/9152 [2:38:43<7:42:26,  4.09s/it]"
     ]
    },
    {
     "name": "stdout",
     "output_type": "stream",
     "text": [
      "\n",
      "Batch 2370/9152: Load=1.65s, Embed=1.70s, Store=0.00s, Total=4.06s, Images/sec=2.95\n",
      "Estimated remaining time: 459.2 minutes\n"
     ]
    },
    {
     "name": "stderr",
     "output_type": "stream",
     "text": [
      "Processing train:  26%|██▌       | 2380/9152 [2:39:25<7:40:22,  4.08s/it]"
     ]
    },
    {
     "name": "stdout",
     "output_type": "stream",
     "text": [
      "\n",
      "Batch 2380/9152: Load=1.68s, Embed=1.68s, Store=0.00s, Total=3.99s, Images/sec=3.01\n",
      "Estimated remaining time: 450.0 minutes\n"
     ]
    },
    {
     "name": "stderr",
     "output_type": "stream",
     "text": [
      "Processing train:  26%|██▌       | 2390/9152 [2:40:06<8:02:05,  4.28s/it]"
     ]
    },
    {
     "name": "stdout",
     "output_type": "stream",
     "text": [
      "\n",
      "Batch 2390/9152: Load=1.82s, Embed=1.64s, Store=0.00s, Total=4.36s, Images/sec=2.75\n",
      "Estimated remaining time: 491.1 minutes\n"
     ]
    },
    {
     "name": "stderr",
     "output_type": "stream",
     "text": [
      "Processing train:  26%|██▌       | 2400/9152 [2:40:56<12:37:17,  6.73s/it]"
     ]
    },
    {
     "name": "stdout",
     "output_type": "stream",
     "text": [
      "\n",
      "Batch 2400/9152: Load=1.60s, Embed=1.67s, Store=0.00s, Total=3.97s, Images/sec=3.02\n",
      "Estimated remaining time: 446.9 minutes\n"
     ]
    },
    {
     "name": "stderr",
     "output_type": "stream",
     "text": [
      "Processing train:  26%|██▋       | 2410/9152 [2:41:35<7:28:29,  3.99s/it] "
     ]
    },
    {
     "name": "stdout",
     "output_type": "stream",
     "text": [
      "\n",
      "Batch 2410/9152: Load=1.51s, Embed=1.64s, Store=0.00s, Total=3.87s, Images/sec=3.10\n",
      "Estimated remaining time: 434.9 minutes\n"
     ]
    },
    {
     "name": "stderr",
     "output_type": "stream",
     "text": [
      "Processing train:  26%|██▋       | 2420/9152 [2:42:14<7:26:26,  3.98s/it]"
     ]
    },
    {
     "name": "stdout",
     "output_type": "stream",
     "text": [
      "\n",
      "Batch 2420/9152: Load=1.67s, Embed=1.63s, Store=0.00s, Total=3.94s, Images/sec=3.05\n",
      "Estimated remaining time: 441.5 minutes\n"
     ]
    },
    {
     "name": "stderr",
     "output_type": "stream",
     "text": [
      "Processing train:  27%|██▋       | 2430/9152 [2:42:53<7:04:38,  3.79s/it]"
     ]
    },
    {
     "name": "stdout",
     "output_type": "stream",
     "text": [
      "\n",
      "Batch 2430/9152: Load=1.44s, Embed=1.62s, Store=0.00s, Total=3.72s, Images/sec=3.23\n",
      "Estimated remaining time: 416.8 minutes\n"
     ]
    },
    {
     "name": "stderr",
     "output_type": "stream",
     "text": [
      "Processing train:  27%|██▋       | 2440/9152 [2:43:32<7:28:23,  4.01s/it]"
     ]
    },
    {
     "name": "stdout",
     "output_type": "stream",
     "text": [
      "\n",
      "Batch 2440/9152: Load=1.68s, Embed=1.61s, Store=0.00s, Total=4.11s, Images/sec=2.92\n",
      "Estimated remaining time: 459.8 minutes\n"
     ]
    },
    {
     "name": "stderr",
     "output_type": "stream",
     "text": [
      "Processing train:  27%|██▋       | 2450/9152 [2:44:22<12:45:31,  6.85s/it]"
     ]
    },
    {
     "name": "stdout",
     "output_type": "stream",
     "text": [
      "\n",
      "Batch 2450/9152: Load=1.62s, Embed=1.63s, Store=0.00s, Total=3.97s, Images/sec=3.02\n",
      "Estimated remaining time: 443.1 minutes\n"
     ]
    },
    {
     "name": "stderr",
     "output_type": "stream",
     "text": [
      "Processing train:  27%|██▋       | 2460/9152 [2:45:01<7:28:47,  4.02s/it] "
     ]
    },
    {
     "name": "stdout",
     "output_type": "stream",
     "text": [
      "\n",
      "Batch 2460/9152: Load=1.57s, Embed=1.65s, Store=0.00s, Total=3.98s, Images/sec=3.02\n",
      "Estimated remaining time: 443.8 minutes\n"
     ]
    },
    {
     "name": "stderr",
     "output_type": "stream",
     "text": [
      "Processing train:  27%|██▋       | 2470/9152 [2:45:41<7:16:13,  3.92s/it]"
     ]
    },
    {
     "name": "stdout",
     "output_type": "stream",
     "text": [
      "\n",
      "Batch 2470/9152: Load=1.57s, Embed=1.62s, Store=0.00s, Total=3.90s, Images/sec=3.08\n",
      "Estimated remaining time: 434.6 minutes\n"
     ]
    },
    {
     "name": "stderr",
     "output_type": "stream",
     "text": [
      "Processing train:  27%|██▋       | 2480/9152 [2:46:20<7:15:19,  3.91s/it]"
     ]
    },
    {
     "name": "stdout",
     "output_type": "stream",
     "text": [
      "\n",
      "Batch 2480/9152: Load=1.65s, Embed=1.63s, Store=0.00s, Total=3.96s, Images/sec=3.03\n",
      "Estimated remaining time: 440.5 minutes\n"
     ]
    },
    {
     "name": "stderr",
     "output_type": "stream",
     "text": [
      "Processing train:  27%|██▋       | 2490/9152 [2:46:59<7:16:19,  3.93s/it]"
     ]
    },
    {
     "name": "stdout",
     "output_type": "stream",
     "text": [
      "\n",
      "Batch 2490/9152: Load=1.62s, Embed=1.66s, Store=0.00s, Total=3.93s, Images/sec=3.05\n",
      "Estimated remaining time: 436.5 minutes\n"
     ]
    },
    {
     "name": "stderr",
     "output_type": "stream",
     "text": [
      "Processing train:  27%|██▋       | 2500/9152 [2:47:48<12:37:26,  6.83s/it]"
     ]
    },
    {
     "name": "stdout",
     "output_type": "stream",
     "text": [
      "\n",
      "Batch 2500/9152: Load=1.63s, Embed=1.63s, Store=0.00s, Total=4.04s, Images/sec=2.97\n",
      "Estimated remaining time: 448.0 minutes\n"
     ]
    },
    {
     "name": "stderr",
     "output_type": "stream",
     "text": [
      "Processing train:  27%|██▋       | 2510/9152 [2:48:27<7:24:12,  4.01s/it] "
     ]
    },
    {
     "name": "stdout",
     "output_type": "stream",
     "text": [
      "\n",
      "Batch 2510/9152: Load=1.68s, Embed=1.63s, Store=0.00s, Total=3.97s, Images/sec=3.02\n",
      "Estimated remaining time: 439.9 minutes\n"
     ]
    },
    {
     "name": "stderr",
     "output_type": "stream",
     "text": [
      "Processing train:  28%|██▊       | 2520/9152 [2:49:07<7:14:53,  3.93s/it]"
     ]
    },
    {
     "name": "stdout",
     "output_type": "stream",
     "text": [
      "\n",
      "Batch 2520/9152: Load=1.60s, Embed=1.64s, Store=0.00s, Total=3.89s, Images/sec=3.08\n",
      "Estimated remaining time: 430.1 minutes\n"
     ]
    },
    {
     "name": "stderr",
     "output_type": "stream",
     "text": [
      "Processing train:  28%|██▊       | 2530/9152 [2:49:46<7:09:04,  3.89s/it]"
     ]
    },
    {
     "name": "stdout",
     "output_type": "stream",
     "text": [
      "\n",
      "Batch 2530/9152: Load=1.57s, Embed=1.64s, Store=0.00s, Total=3.87s, Images/sec=3.10\n",
      "Estimated remaining time: 426.9 minutes\n"
     ]
    },
    {
     "name": "stderr",
     "output_type": "stream",
     "text": [
      "Processing train:  28%|██▊       | 2540/9152 [2:50:29<8:00:10,  4.36s/it]"
     ]
    },
    {
     "name": "stdout",
     "output_type": "stream",
     "text": [
      "\n",
      "Batch 2540/9152: Load=2.42s, Embed=1.72s, Store=0.00s, Total=4.79s, Images/sec=2.51\n",
      "Estimated remaining time: 527.5 minutes\n"
     ]
    },
    {
     "name": "stderr",
     "output_type": "stream",
     "text": [
      "Processing train:  28%|██▊       | 2550/9152 [2:51:26<13:36:13,  7.42s/it]"
     ]
    },
    {
     "name": "stdout",
     "output_type": "stream",
     "text": [
      "\n",
      "Batch 2550/9152: Load=1.65s, Embed=1.70s, Store=0.00s, Total=4.01s, Images/sec=2.99\n",
      "Estimated remaining time: 441.1 minutes\n"
     ]
    },
    {
     "name": "stderr",
     "output_type": "stream",
     "text": [
      "Processing train:  28%|██▊       | 2560/9152 [2:52:09<7:49:57,  4.28s/it] "
     ]
    },
    {
     "name": "stdout",
     "output_type": "stream",
     "text": [
      "\n",
      "Batch 2560/9152: Load=1.70s, Embed=1.69s, Store=0.00s, Total=4.22s, Images/sec=2.84\n",
      "Estimated remaining time: 464.1 minutes\n"
     ]
    },
    {
     "name": "stderr",
     "output_type": "stream",
     "text": [
      "Processing train:  28%|██▊       | 2570/9152 [2:52:54<8:12:18,  4.49s/it]"
     ]
    },
    {
     "name": "stdout",
     "output_type": "stream",
     "text": [
      "\n",
      "Batch 2570/9152: Load=1.65s, Embed=1.69s, Store=0.00s, Total=4.00s, Images/sec=3.00\n",
      "Estimated remaining time: 438.9 minutes\n"
     ]
    },
    {
     "name": "stderr",
     "output_type": "stream",
     "text": [
      "Processing train:  28%|██▊       | 2580/9152 [2:53:45<8:55:48,  4.89s/it]"
     ]
    },
    {
     "name": "stdout",
     "output_type": "stream",
     "text": [
      "\n",
      "Batch 2580/9152: Load=2.58s, Embed=1.74s, Store=0.00s, Total=5.07s, Images/sec=2.36\n",
      "Estimated remaining time: 555.9 minutes\n"
     ]
    },
    {
     "name": "stderr",
     "output_type": "stream",
     "text": [
      "Processing train:  28%|██▊       | 2590/9152 [2:54:33<9:01:41,  4.95s/it]"
     ]
    },
    {
     "name": "stdout",
     "output_type": "stream",
     "text": [
      "\n",
      "Batch 2590/9152: Load=2.55s, Embed=1.73s, Store=0.00s, Total=5.18s, Images/sec=2.31\n",
      "Estimated remaining time: 567.0 minutes\n"
     ]
    },
    {
     "name": "stderr",
     "output_type": "stream",
     "text": [
      "Processing train:  28%|██▊       | 2600/9152 [2:55:29<13:14:42,  7.28s/it]"
     ]
    },
    {
     "name": "stdout",
     "output_type": "stream",
     "text": [
      "\n",
      "Batch 2600/9152: Load=2.06s, Embed=1.64s, Store=0.00s, Total=4.37s, Images/sec=2.74\n",
      "Estimated remaining time: 477.5 minutes\n"
     ]
    },
    {
     "name": "stderr",
     "output_type": "stream",
     "text": [
      "Processing train:  29%|██▊       | 2610/9152 [2:56:22<9:51:19,  5.42s/it] "
     ]
    },
    {
     "name": "stdout",
     "output_type": "stream",
     "text": [
      "\n",
      "Batch 2610/9152: Load=2.75s, Embed=1.74s, Store=0.00s, Total=5.45s, Images/sec=2.20\n",
      "Estimated remaining time: 594.1 minutes\n"
     ]
    },
    {
     "name": "stderr",
     "output_type": "stream",
     "text": [
      "Processing train:  29%|██▊       | 2620/9152 [2:57:12<9:10:29,  5.06s/it]"
     ]
    },
    {
     "name": "stdout",
     "output_type": "stream",
     "text": [
      "\n",
      "Batch 2620/9152: Load=2.57s, Embed=1.70s, Store=0.00s, Total=5.04s, Images/sec=2.38\n",
      "Estimated remaining time: 548.7 minutes\n"
     ]
    },
    {
     "name": "stderr",
     "output_type": "stream",
     "text": [
      "Processing train:  29%|██▊       | 2630/9152 [2:58:02<9:07:57,  5.04s/it]"
     ]
    },
    {
     "name": "stdout",
     "output_type": "stream",
     "text": [
      "\n",
      "Batch 2630/9152: Load=2.75s, Embed=1.70s, Store=0.00s, Total=5.12s, Images/sec=2.34\n",
      "Estimated remaining time: 556.8 minutes\n"
     ]
    },
    {
     "name": "stderr",
     "output_type": "stream",
     "text": [
      "Processing train:  29%|██▉       | 2640/9152 [2:58:42<7:17:36,  4.03s/it]"
     ]
    },
    {
     "name": "stdout",
     "output_type": "stream",
     "text": [
      "\n",
      "Batch 2640/9152: Load=1.62s, Embed=1.61s, Store=0.00s, Total=3.98s, Images/sec=3.01\n",
      "Estimated remaining time: 432.1 minutes\n"
     ]
    },
    {
     "name": "stderr",
     "output_type": "stream",
     "text": [
      "Processing train:  29%|██▉       | 2650/9152 [2:59:32<12:39:25,  7.01s/it]"
     ]
    },
    {
     "name": "stdout",
     "output_type": "stream",
     "text": [
      "\n",
      "Batch 2650/9152: Load=1.59s, Embed=1.71s, Store=0.00s, Total=3.98s, Images/sec=3.01\n",
      "Estimated remaining time: 431.4 minutes\n"
     ]
    },
    {
     "name": "stderr",
     "output_type": "stream",
     "text": [
      "Processing train:  29%|██▉       | 2660/9152 [3:00:21<8:58:52,  4.98s/it] "
     ]
    },
    {
     "name": "stdout",
     "output_type": "stream",
     "text": [
      "\n",
      "Batch 2660/9152: Load=1.60s, Embed=3.14s, Store=0.00s, Total=5.67s, Images/sec=2.12\n",
      "Estimated remaining time: 613.2 minutes\n"
     ]
    },
    {
     "name": "stderr",
     "output_type": "stream",
     "text": [
      "Processing train:  29%|██▉       | 2670/9152 [3:01:14<9:07:27,  5.07s/it] "
     ]
    },
    {
     "name": "stdout",
     "output_type": "stream",
     "text": [
      "\n",
      "Batch 2670/9152: Load=1.82s, Embed=1.76s, Store=0.00s, Total=4.50s, Images/sec=2.67\n",
      "Estimated remaining time: 486.4 minutes\n"
     ]
    },
    {
     "name": "stderr",
     "output_type": "stream",
     "text": [
      "Processing train:  29%|██▉       | 2680/9152 [3:01:57<7:20:51,  4.09s/it]"
     ]
    },
    {
     "name": "stdout",
     "output_type": "stream",
     "text": [
      "\n",
      "Batch 2680/9152: Load=1.56s, Embed=1.71s, Store=0.00s, Total=4.02s, Images/sec=2.99\n",
      "Estimated remaining time: 433.2 minutes\n"
     ]
    },
    {
     "name": "stderr",
     "output_type": "stream",
     "text": [
      "Processing train:  29%|██▉       | 2690/9152 [3:02:36<7:10:25,  4.00s/it]"
     ]
    },
    {
     "name": "stdout",
     "output_type": "stream",
     "text": [
      "\n",
      "Batch 2690/9152: Load=1.55s, Embed=1.63s, Store=0.00s, Total=4.04s, Images/sec=2.97\n",
      "Estimated remaining time: 435.2 minutes\n"
     ]
    },
    {
     "name": "stderr",
     "output_type": "stream",
     "text": [
      "Processing train:  30%|██▉       | 2700/9152 [3:03:36<17:50:45,  9.96s/it]"
     ]
    },
    {
     "name": "stdout",
     "output_type": "stream",
     "text": [
      "\n",
      "Batch 2700/9152: Load=1.57s, Embed=1.61s, Store=0.00s, Total=3.86s, Images/sec=3.11\n",
      "Estimated remaining time: 415.3 minutes\n"
     ]
    },
    {
     "name": "stderr",
     "output_type": "stream",
     "text": [
      "Processing train:  30%|██▉       | 2710/9152 [3:04:16<7:17:56,  4.08s/it] "
     ]
    },
    {
     "name": "stdout",
     "output_type": "stream",
     "text": [
      "\n",
      "Batch 2710/9152: Load=1.54s, Embed=1.63s, Store=0.00s, Total=4.05s, Images/sec=2.96\n",
      "Estimated remaining time: 434.8 minutes\n"
     ]
    },
    {
     "name": "stderr",
     "output_type": "stream",
     "text": [
      "Processing train:  30%|██▉       | 2720/9152 [3:04:56<7:04:27,  3.96s/it]"
     ]
    },
    {
     "name": "stdout",
     "output_type": "stream",
     "text": [
      "\n",
      "Batch 2720/9152: Load=1.59s, Embed=1.69s, Store=0.00s, Total=4.02s, Images/sec=2.99\n",
      "Estimated remaining time: 430.9 minutes\n"
     ]
    },
    {
     "name": "stderr",
     "output_type": "stream",
     "text": [
      "Processing train:  30%|██▉       | 2730/9152 [3:05:38<7:41:38,  4.31s/it]"
     ]
    },
    {
     "name": "stdout",
     "output_type": "stream",
     "text": [
      "\n",
      "Batch 2730/9152: Load=1.52s, Embed=2.25s, Store=0.00s, Total=4.45s, Images/sec=2.70\n",
      "Estimated remaining time: 476.0 minutes\n"
     ]
    },
    {
     "name": "stderr",
     "output_type": "stream",
     "text": [
      "Processing train:  30%|██▉       | 2740/9152 [3:06:19<7:12:09,  4.04s/it]"
     ]
    },
    {
     "name": "stdout",
     "output_type": "stream",
     "text": [
      "\n",
      "Batch 2740/9152: Load=1.59s, Embed=1.72s, Store=0.00s, Total=4.02s, Images/sec=2.98\n",
      "Estimated remaining time: 429.7 minutes\n"
     ]
    },
    {
     "name": "stderr",
     "output_type": "stream",
     "text": [
      "Processing train:  30%|███       | 2750/9152 [3:07:10<12:56:02,  7.27s/it]"
     ]
    },
    {
     "name": "stdout",
     "output_type": "stream",
     "text": [
      "\n",
      "Batch 2750/9152: Load=1.56s, Embed=1.66s, Store=0.00s, Total=4.04s, Images/sec=2.97\n",
      "Estimated remaining time: 430.7 minutes\n"
     ]
    },
    {
     "name": "stderr",
     "output_type": "stream",
     "text": [
      "Processing train:  30%|███       | 2760/9152 [3:07:50<7:22:56,  4.16s/it] "
     ]
    },
    {
     "name": "stdout",
     "output_type": "stream",
     "text": [
      "\n",
      "Batch 2760/9152: Load=1.60s, Embed=1.78s, Store=0.00s, Total=4.07s, Images/sec=2.95\n",
      "Estimated remaining time: 433.1 minutes\n"
     ]
    },
    {
     "name": "stderr",
     "output_type": "stream",
     "text": [
      "Processing train:  30%|███       | 2770/9152 [3:08:40<9:40:49,  5.46s/it]"
     ]
    },
    {
     "name": "stdout",
     "output_type": "stream",
     "text": [
      "\n",
      "Batch 2770/9152: Load=1.70s, Embed=3.47s, Store=0.00s, Total=5.91s, Images/sec=2.03\n",
      "Estimated remaining time: 628.6 minutes\n"
     ]
    },
    {
     "name": "stderr",
     "output_type": "stream",
     "text": [
      "Processing train:  30%|███       | 2780/9152 [3:09:30<8:11:10,  4.63s/it]"
     ]
    },
    {
     "name": "stdout",
     "output_type": "stream",
     "text": [
      "\n",
      "Batch 2780/9152: Load=1.64s, Embed=1.62s, Store=0.00s, Total=4.07s, Images/sec=2.95\n",
      "Estimated remaining time: 432.2 minutes\n"
     ]
    },
    {
     "name": "stderr",
     "output_type": "stream",
     "text": [
      "Processing train:  30%|███       | 2790/9152 [3:10:13<7:36:46,  4.31s/it]"
     ]
    },
    {
     "name": "stdout",
     "output_type": "stream",
     "text": [
      "\n",
      "Batch 2790/9152: Load=1.66s, Embed=2.00s, Store=0.00s, Total=4.40s, Images/sec=2.73\n",
      "Estimated remaining time: 466.4 minutes\n"
     ]
    },
    {
     "name": "stderr",
     "output_type": "stream",
     "text": [
      "Processing train:  31%|███       | 2800/9152 [3:11:09<14:06:00,  7.99s/it]"
     ]
    },
    {
     "name": "stdout",
     "output_type": "stream",
     "text": [
      "\n",
      "Batch 2800/9152: Load=2.09s, Embed=2.23s, Store=0.00s, Total=5.13s, Images/sec=2.34\n",
      "Estimated remaining time: 543.5 minutes\n"
     ]
    },
    {
     "name": "stderr",
     "output_type": "stream",
     "text": [
      "Processing train:  31%|███       | 2810/9152 [3:11:59<8:15:31,  4.69s/it] "
     ]
    },
    {
     "name": "stdout",
     "output_type": "stream",
     "text": [
      "\n",
      "Batch 2810/9152: Load=1.64s, Embed=1.65s, Store=0.00s, Total=4.01s, Images/sec=3.00\n",
      "Estimated remaining time: 423.4 minutes\n"
     ]
    },
    {
     "name": "stderr",
     "output_type": "stream",
     "text": [
      "Processing train:  31%|███       | 2820/9152 [3:12:40<7:14:30,  4.12s/it]"
     ]
    },
    {
     "name": "stdout",
     "output_type": "stream",
     "text": [
      "\n",
      "Batch 2820/9152: Load=1.58s, Embed=1.63s, Store=0.00s, Total=4.11s, Images/sec=2.92\n",
      "Estimated remaining time: 434.1 minutes\n"
     ]
    },
    {
     "name": "stderr",
     "output_type": "stream",
     "text": [
      "Processing train:  31%|███       | 2830/9152 [3:13:24<7:33:54,  4.31s/it]"
     ]
    },
    {
     "name": "stdout",
     "output_type": "stream",
     "text": [
      "\n",
      "Batch 2830/9152: Load=1.57s, Embed=1.61s, Store=0.00s, Total=3.90s, Images/sec=3.07\n",
      "Estimated remaining time: 411.2 minutes\n"
     ]
    },
    {
     "name": "stderr",
     "output_type": "stream",
     "text": [
      "Processing train:  31%|███       | 2840/9152 [3:14:04<7:10:18,  4.09s/it]"
     ]
    },
    {
     "name": "stdout",
     "output_type": "stream",
     "text": [
      "\n",
      "Batch 2840/9152: Load=1.74s, Embed=1.62s, Store=0.00s, Total=4.08s, Images/sec=2.94\n",
      "Estimated remaining time: 429.6 minutes\n"
     ]
    },
    {
     "name": "stderr",
     "output_type": "stream",
     "text": [
      "Processing train:  31%|███       | 2850/9152 [3:15:00<13:46:58,  7.87s/it]"
     ]
    },
    {
     "name": "stdout",
     "output_type": "stream",
     "text": [
      "\n",
      "Batch 2850/9152: Load=1.53s, Embed=2.17s, Store=0.00s, Total=4.44s, Images/sec=2.70\n",
      "Estimated remaining time: 466.3 minutes\n"
     ]
    },
    {
     "name": "stderr",
     "output_type": "stream",
     "text": [
      "Processing train:  31%|███▏      | 2860/9152 [3:15:43<7:34:46,  4.34s/it] "
     ]
    },
    {
     "name": "stdout",
     "output_type": "stream",
     "text": [
      "\n",
      "Batch 2860/9152: Load=1.65s, Embed=1.72s, Store=0.00s, Total=4.09s, Images/sec=2.93\n",
      "Estimated remaining time: 429.1 minutes\n"
     ]
    },
    {
     "name": "stderr",
     "output_type": "stream",
     "text": [
      "Processing train:  31%|███▏      | 2870/9152 [3:16:25<7:28:29,  4.28s/it]"
     ]
    },
    {
     "name": "stdout",
     "output_type": "stream",
     "text": [
      "\n",
      "Batch 2870/9152: Load=1.69s, Embed=1.76s, Store=0.00s, Total=4.25s, Images/sec=2.83\n",
      "Estimated remaining time: 444.7 minutes\n"
     ]
    },
    {
     "name": "stderr",
     "output_type": "stream",
     "text": [
      "Processing train:  31%|███▏      | 2880/9152 [3:17:06<7:05:41,  4.07s/it]"
     ]
    },
    {
     "name": "stdout",
     "output_type": "stream",
     "text": [
      "\n",
      "Batch 2880/9152: Load=1.67s, Embed=1.66s, Store=0.00s, Total=4.10s, Images/sec=2.93\n",
      "Estimated remaining time: 428.4 minutes\n"
     ]
    },
    {
     "name": "stderr",
     "output_type": "stream",
     "text": [
      "Processing train:  32%|███▏      | 2890/9152 [3:17:47<7:11:30,  4.13s/it]"
     ]
    },
    {
     "name": "stdout",
     "output_type": "stream",
     "text": [
      "\n",
      "Batch 2890/9152: Load=1.69s, Embed=1.65s, Store=0.00s, Total=4.25s, Images/sec=2.82\n",
      "Estimated remaining time: 443.6 minutes\n"
     ]
    },
    {
     "name": "stderr",
     "output_type": "stream",
     "text": [
      "Processing train:  32%|███▏      | 2900/9152 [3:18:40<13:04:47,  7.53s/it]"
     ]
    },
    {
     "name": "stdout",
     "output_type": "stream",
     "text": [
      "\n",
      "Batch 2900/9152: Load=1.66s, Embed=1.62s, Store=0.05s, Total=4.11s, Images/sec=2.92\n",
      "Estimated remaining time: 428.5 minutes\n"
     ]
    },
    {
     "name": "stderr",
     "output_type": "stream",
     "text": [
      "Processing train:  32%|███▏      | 2910/9152 [3:19:21<7:20:58,  4.24s/it] "
     ]
    },
    {
     "name": "stdout",
     "output_type": "stream",
     "text": [
      "\n",
      "Batch 2910/9152: Load=1.68s, Embed=1.63s, Store=0.00s, Total=4.25s, Images/sec=2.82\n",
      "Estimated remaining time: 442.4 minutes\n"
     ]
    },
    {
     "name": "stderr",
     "output_type": "stream",
     "text": [
      "Processing train:  32%|███▏      | 2920/9152 [3:20:02<7:01:41,  4.06s/it]"
     ]
    },
    {
     "name": "stdout",
     "output_type": "stream",
     "text": [
      "\n",
      "Batch 2920/9152: Load=1.51s, Embed=1.62s, Store=0.00s, Total=3.95s, Images/sec=3.04\n",
      "Estimated remaining time: 410.6 minutes\n"
     ]
    },
    {
     "name": "stderr",
     "output_type": "stream",
     "text": [
      "Processing train:  32%|███▏      | 2930/9152 [3:20:42<6:58:36,  4.04s/it]"
     ]
    },
    {
     "name": "stdout",
     "output_type": "stream",
     "text": [
      "\n",
      "Batch 2930/9152: Load=1.67s, Embed=1.64s, Store=0.00s, Total=4.17s, Images/sec=2.88\n",
      "Estimated remaining time: 432.5 minutes\n"
     ]
    },
    {
     "name": "stderr",
     "output_type": "stream",
     "text": [
      "Processing train:  32%|███▏      | 2940/9152 [3:21:24<7:10:42,  4.16s/it]"
     ]
    },
    {
     "name": "stdout",
     "output_type": "stream",
     "text": [
      "\n",
      "Batch 2940/9152: Load=1.65s, Embed=1.62s, Store=0.00s, Total=4.15s, Images/sec=2.89\n",
      "Estimated remaining time: 429.3 minutes\n"
     ]
    },
    {
     "name": "stderr",
     "output_type": "stream",
     "text": [
      "Processing train:  32%|███▏      | 2950/9152 [3:22:16<12:49:10,  7.44s/it]"
     ]
    },
    {
     "name": "stdout",
     "output_type": "stream",
     "text": [
      "\n",
      "Batch 2950/9152: Load=1.63s, Embed=1.63s, Store=0.00s, Total=4.03s, Images/sec=2.98\n",
      "Estimated remaining time: 416.6 minutes\n"
     ]
    },
    {
     "name": "stderr",
     "output_type": "stream",
     "text": [
      "Processing train:  32%|███▏      | 2960/9152 [3:22:58<7:26:38,  4.33s/it] "
     ]
    },
    {
     "name": "stdout",
     "output_type": "stream",
     "text": [
      "\n",
      "Batch 2960/9152: Load=1.69s, Embed=1.62s, Store=0.00s, Total=4.07s, Images/sec=2.95\n",
      "Estimated remaining time: 420.0 minutes\n"
     ]
    },
    {
     "name": "stderr",
     "output_type": "stream",
     "text": [
      "Processing train:  32%|███▏      | 2970/9152 [3:23:38<7:03:15,  4.11s/it]"
     ]
    },
    {
     "name": "stdout",
     "output_type": "stream",
     "text": [
      "\n",
      "Batch 2970/9152: Load=1.74s, Embed=1.69s, Store=0.00s, Total=4.19s, Images/sec=2.86\n",
      "Estimated remaining time: 431.9 minutes\n"
     ]
    },
    {
     "name": "stderr",
     "output_type": "stream",
     "text": [
      "Processing train:  33%|███▎      | 2980/9152 [3:24:20<7:23:58,  4.32s/it]"
     ]
    },
    {
     "name": "stdout",
     "output_type": "stream",
     "text": [
      "\n",
      "Batch 2980/9152: Load=1.66s, Embed=1.87s, Store=0.01s, Total=4.38s, Images/sec=2.74\n",
      "Estimated remaining time: 450.1 minutes\n"
     ]
    },
    {
     "name": "stderr",
     "output_type": "stream",
     "text": [
      "Processing train:  33%|███▎      | 2990/9152 [3:25:01<7:03:10,  4.12s/it]"
     ]
    },
    {
     "name": "stdout",
     "output_type": "stream",
     "text": [
      "\n",
      "Batch 2990/9152: Load=1.49s, Embed=1.69s, Store=0.00s, Total=3.98s, Images/sec=3.01\n",
      "Estimated remaining time: 409.2 minutes\n"
     ]
    },
    {
     "name": "stderr",
     "output_type": "stream",
     "text": [
      "Processing train:  33%|███▎      | 3000/9152 [3:25:57<13:28:31,  7.89s/it]"
     ]
    },
    {
     "name": "stdout",
     "output_type": "stream",
     "text": [
      "\n",
      "Batch 3000/9152: Load=1.64s, Embed=2.34s, Store=0.00s, Total=4.83s, Images/sec=2.49\n",
      "Estimated remaining time: 495.0 minutes\n"
     ]
    },
    {
     "name": "stderr",
     "output_type": "stream",
     "text": [
      "Processing train:  33%|███▎      | 3010/9152 [3:26:40<7:23:51,  4.34s/it] "
     ]
    },
    {
     "name": "stdout",
     "output_type": "stream",
     "text": [
      "\n",
      "Batch 3010/9152: Load=1.66s, Embed=1.74s, Store=0.00s, Total=4.15s, Images/sec=2.89\n",
      "Estimated remaining time: 425.3 minutes\n"
     ]
    },
    {
     "name": "stderr",
     "output_type": "stream",
     "text": [
      "Processing train:  33%|███▎      | 3020/9152 [3:27:22<7:08:16,  4.19s/it]"
     ]
    },
    {
     "name": "stdout",
     "output_type": "stream",
     "text": [
      "\n",
      "Batch 3020/9152: Load=1.62s, Embed=1.65s, Store=0.00s, Total=4.18s, Images/sec=2.87\n",
      "Estimated remaining time: 427.6 minutes\n"
     ]
    },
    {
     "name": "stderr",
     "output_type": "stream",
     "text": [
      "Processing train:  33%|███▎      | 3030/9152 [3:28:03<6:49:04,  4.01s/it]"
     ]
    },
    {
     "name": "stdout",
     "output_type": "stream",
     "text": [
      "\n",
      "Batch 3030/9152: Load=1.59s, Embed=1.63s, Store=0.00s, Total=3.98s, Images/sec=3.01\n",
      "Estimated remaining time: 406.1 minutes\n"
     ]
    },
    {
     "name": "stderr",
     "output_type": "stream",
     "text": [
      "Processing train:  33%|███▎      | 3040/9152 [3:28:45<7:10:40,  4.23s/it]"
     ]
    },
    {
     "name": "stdout",
     "output_type": "stream",
     "text": [
      "\n",
      "Batch 3040/9152: Load=1.74s, Embed=1.61s, Store=0.00s, Total=4.12s, Images/sec=2.91\n",
      "Estimated remaining time: 419.5 minutes\n"
     ]
    },
    {
     "name": "stderr",
     "output_type": "stream",
     "text": [
      "Processing train:  33%|███▎      | 3050/9152 [3:29:39<13:25:04,  7.92s/it]"
     ]
    },
    {
     "name": "stdout",
     "output_type": "stream",
     "text": [
      "\n",
      "Batch 3050/9152: Load=1.54s, Embed=1.62s, Store=0.00s, Total=4.07s, Images/sec=2.95\n",
      "Estimated remaining time: 413.9 minutes\n"
     ]
    },
    {
     "name": "stderr",
     "output_type": "stream",
     "text": [
      "Processing train:  33%|███▎      | 3060/9152 [3:30:25<7:21:59,  4.35s/it] "
     ]
    },
    {
     "name": "stdout",
     "output_type": "stream",
     "text": [
      "\n",
      "Batch 3060/9152: Load=1.50s, Embed=1.62s, Store=0.00s, Total=4.04s, Images/sec=2.97\n",
      "Estimated remaining time: 409.8 minutes\n"
     ]
    },
    {
     "name": "stderr",
     "output_type": "stream",
     "text": [
      "Processing train:  34%|███▎      | 3070/9152 [3:31:07<7:03:52,  4.18s/it]"
     ]
    },
    {
     "name": "stdout",
     "output_type": "stream",
     "text": [
      "\n",
      "Batch 3070/9152: Load=1.59s, Embed=1.62s, Store=0.00s, Total=4.07s, Images/sec=2.95\n",
      "Estimated remaining time: 412.4 minutes\n"
     ]
    },
    {
     "name": "stderr",
     "output_type": "stream",
     "text": [
      "Processing train:  34%|███▎      | 3080/9152 [3:31:49<7:02:55,  4.18s/it]"
     ]
    },
    {
     "name": "stdout",
     "output_type": "stream",
     "text": [
      "\n",
      "Batch 3080/9152: Load=1.63s, Embed=1.80s, Store=0.00s, Total=4.20s, Images/sec=2.86\n",
      "Estimated remaining time: 424.9 minutes\n"
     ]
    },
    {
     "name": "stderr",
     "output_type": "stream",
     "text": [
      "Processing train:  34%|███▍      | 3090/9152 [3:32:30<6:50:38,  4.06s/it]"
     ]
    },
    {
     "name": "stdout",
     "output_type": "stream",
     "text": [
      "\n",
      "Batch 3090/9152: Load=1.54s, Embed=1.63s, Store=0.00s, Total=3.96s, Images/sec=3.03\n",
      "Estimated remaining time: 399.8 minutes\n"
     ]
    },
    {
     "name": "stderr",
     "output_type": "stream",
     "text": [
      "Processing train:  34%|███▍      | 3100/9152 [3:33:24<13:23:24,  7.97s/it]"
     ]
    },
    {
     "name": "stdout",
     "output_type": "stream",
     "text": [
      "\n",
      "Batch 3100/9152: Load=1.62s, Embed=1.71s, Store=0.02s, Total=4.42s, Images/sec=2.72\n",
      "Estimated remaining time: 445.5 minutes\n"
     ]
    },
    {
     "name": "stderr",
     "output_type": "stream",
     "text": [
      "Processing train:  34%|███▍      | 3110/9152 [3:34:06<7:00:45,  4.18s/it] "
     ]
    },
    {
     "name": "stdout",
     "output_type": "stream",
     "text": [
      "\n",
      "Batch 3110/9152: Load=1.48s, Embed=1.62s, Store=0.00s, Total=3.94s, Images/sec=3.04\n",
      "Estimated remaining time: 397.2 minutes\n"
     ]
    },
    {
     "name": "stderr",
     "output_type": "stream",
     "text": [
      "Processing train:  34%|███▍      | 3120/9152 [3:34:47<6:52:56,  4.11s/it]"
     ]
    },
    {
     "name": "stdout",
     "output_type": "stream",
     "text": [
      "\n",
      "Batch 3120/9152: Load=1.69s, Embed=1.64s, Store=0.00s, Total=4.10s, Images/sec=2.92\n",
      "Estimated remaining time: 412.5 minutes\n"
     ]
    },
    {
     "name": "stderr",
     "output_type": "stream",
     "text": [
      "Processing train:  34%|███▍      | 3130/9152 [3:35:28<6:46:14,  4.05s/it]"
     ]
    },
    {
     "name": "stdout",
     "output_type": "stream",
     "text": [
      "\n",
      "Batch 3130/9152: Load=1.58s, Embed=1.61s, Store=0.00s, Total=4.00s, Images/sec=3.00\n",
      "Estimated remaining time: 401.9 minutes\n"
     ]
    },
    {
     "name": "stderr",
     "output_type": "stream",
     "text": [
      "Processing train:  34%|███▍      | 3140/9152 [3:36:10<7:00:41,  4.20s/it]"
     ]
    },
    {
     "name": "stdout",
     "output_type": "stream",
     "text": [
      "\n",
      "Batch 3140/9152: Load=1.55s, Embed=1.75s, Store=0.00s, Total=4.23s, Images/sec=2.84\n",
      "Estimated remaining time: 423.8 minutes\n"
     ]
    },
    {
     "name": "stderr",
     "output_type": "stream",
     "text": [
      "Processing train:  34%|███▍      | 3150/9152 [3:37:07<14:15:26,  8.55s/it]"
     ]
    },
    {
     "name": "stdout",
     "output_type": "stream",
     "text": [
      "\n",
      "Batch 3150/9152: Load=1.65s, Embed=1.60s, Store=0.00s, Total=5.08s, Images/sec=2.36\n",
      "Estimated remaining time: 508.2 minutes\n"
     ]
    },
    {
     "name": "stderr",
     "output_type": "stream",
     "text": [
      "Processing train:  35%|███▍      | 3160/9152 [3:37:49<7:00:15,  4.21s/it] "
     ]
    },
    {
     "name": "stdout",
     "output_type": "stream",
     "text": [
      "\n",
      "Batch 3160/9152: Load=1.65s, Embed=1.65s, Store=0.00s, Total=4.11s, Images/sec=2.92\n",
      "Estimated remaining time: 410.5 minutes\n"
     ]
    },
    {
     "name": "stderr",
     "output_type": "stream",
     "text": [
      "Processing train:  35%|███▍      | 3170/9152 [3:38:30<6:47:32,  4.09s/it]"
     ]
    },
    {
     "name": "stdout",
     "output_type": "stream",
     "text": [
      "\n",
      "Batch 3170/9152: Load=1.57s, Embed=1.63s, Store=0.00s, Total=4.01s, Images/sec=2.99\n",
      "Estimated remaining time: 399.9 minutes\n"
     ]
    },
    {
     "name": "stderr",
     "output_type": "stream",
     "text": [
      "Processing train:  35%|███▍      | 3180/9152 [3:39:11<6:50:27,  4.12s/it]"
     ]
    },
    {
     "name": "stdout",
     "output_type": "stream",
     "text": [
      "\n",
      "Batch 3180/9152: Load=1.67s, Embed=1.65s, Store=0.00s, Total=4.13s, Images/sec=2.91\n",
      "Estimated remaining time: 410.8 minutes\n"
     ]
    },
    {
     "name": "stderr",
     "output_type": "stream",
     "text": [
      "Processing train:  35%|███▍      | 3190/9152 [3:39:52<6:46:42,  4.09s/it]"
     ]
    },
    {
     "name": "stdout",
     "output_type": "stream",
     "text": [
      "\n",
      "Batch 3190/9152: Load=1.54s, Embed=1.64s, Store=0.00s, Total=4.11s, Images/sec=2.92\n",
      "Estimated remaining time: 408.4 minutes\n"
     ]
    },
    {
     "name": "stderr",
     "output_type": "stream",
     "text": [
      "Processing train:  35%|███▍      | 3200/9152 [3:40:46<12:51:54,  7.78s/it]"
     ]
    },
    {
     "name": "stdout",
     "output_type": "stream",
     "text": [
      "\n",
      "Batch 3200/9152: Load=1.47s, Embed=1.63s, Store=0.00s, Total=3.93s, Images/sec=3.05\n",
      "Estimated remaining time: 389.9 minutes\n"
     ]
    },
    {
     "name": "stderr",
     "output_type": "stream",
     "text": [
      "Processing train:  35%|███▌      | 3210/9152 [3:41:27<6:57:38,  4.22s/it] "
     ]
    },
    {
     "name": "stdout",
     "output_type": "stream",
     "text": [
      "\n",
      "Batch 3210/9152: Load=1.70s, Embed=1.63s, Store=0.00s, Total=4.19s, Images/sec=2.87\n",
      "Estimated remaining time: 414.5 minutes\n"
     ]
    },
    {
     "name": "stderr",
     "output_type": "stream",
     "text": [
      "Processing train:  35%|███▌      | 3220/9152 [3:42:08<6:47:47,  4.12s/it]"
     ]
    },
    {
     "name": "stdout",
     "output_type": "stream",
     "text": [
      "\n",
      "Batch 3220/9152: Load=1.61s, Embed=1.63s, Store=0.00s, Total=4.07s, Images/sec=2.95\n",
      "Estimated remaining time: 402.8 minutes\n"
     ]
    },
    {
     "name": "stderr",
     "output_type": "stream",
     "text": [
      "Processing train:  35%|███▌      | 3230/9152 [3:42:50<6:50:42,  4.16s/it]"
     ]
    },
    {
     "name": "stdout",
     "output_type": "stream",
     "text": [
      "\n",
      "Batch 3230/9152: Load=1.68s, Embed=1.62s, Store=0.00s, Total=4.14s, Images/sec=2.90\n",
      "Estimated remaining time: 408.6 minutes\n"
     ]
    },
    {
     "name": "stderr",
     "output_type": "stream",
     "text": [
      "Processing train:  35%|███▌      | 3240/9152 [3:43:32<6:49:52,  4.16s/it]"
     ]
    },
    {
     "name": "stdout",
     "output_type": "stream",
     "text": [
      "\n",
      "Batch 3240/9152: Load=1.61s, Embed=1.68s, Store=0.00s, Total=4.12s, Images/sec=2.91\n",
      "Estimated remaining time: 405.8 minutes\n"
     ]
    },
    {
     "name": "stderr",
     "output_type": "stream",
     "text": [
      "Processing train:  36%|███▌      | 3250/9152 [3:44:25<12:58:09,  7.91s/it]"
     ]
    },
    {
     "name": "stdout",
     "output_type": "stream",
     "text": [
      "\n",
      "Batch 3250/9152: Load=1.58s, Embed=1.62s, Store=0.00s, Total=4.16s, Images/sec=2.89\n",
      "Estimated remaining time: 409.0 minutes\n"
     ]
    },
    {
     "name": "stderr",
     "output_type": "stream",
     "text": [
      "Processing train:  36%|███▌      | 3260/9152 [3:45:07<6:53:11,  4.21s/it] "
     ]
    },
    {
     "name": "stdout",
     "output_type": "stream",
     "text": [
      "\n",
      "Batch 3260/9152: Load=1.46s, Embed=1.62s, Store=0.00s, Total=4.00s, Images/sec=3.00\n",
      "Estimated remaining time: 393.2 minutes\n"
     ]
    },
    {
     "name": "stderr",
     "output_type": "stream",
     "text": [
      "Processing train:  36%|███▌      | 3270/9152 [3:45:48<6:46:12,  4.14s/it]"
     ]
    },
    {
     "name": "stdout",
     "output_type": "stream",
     "text": [
      "\n",
      "Batch 3270/9152: Load=1.62s, Embed=1.63s, Store=0.00s, Total=4.32s, Images/sec=2.78\n",
      "Estimated remaining time: 423.1 minutes\n"
     ]
    },
    {
     "name": "stderr",
     "output_type": "stream",
     "text": [
      "Processing train:  36%|███▌      | 3280/9152 [3:46:31<6:51:34,  4.21s/it]"
     ]
    },
    {
     "name": "stdout",
     "output_type": "stream",
     "text": [
      "\n",
      "Batch 3280/9152: Load=1.67s, Embed=1.64s, Store=0.00s, Total=4.21s, Images/sec=2.85\n",
      "Estimated remaining time: 412.4 minutes\n"
     ]
    },
    {
     "name": "stderr",
     "output_type": "stream",
     "text": [
      "Processing train:  36%|███▌      | 3290/9152 [3:47:13<6:51:26,  4.21s/it]"
     ]
    },
    {
     "name": "stdout",
     "output_type": "stream",
     "text": [
      "\n",
      "Batch 3290/9152: Load=1.61s, Embed=1.62s, Store=0.00s, Total=4.04s, Images/sec=2.97\n",
      "Estimated remaining time: 394.8 minutes\n"
     ]
    },
    {
     "name": "stderr",
     "output_type": "stream",
     "text": [
      "Processing train:  36%|███▌      | 3300/9152 [3:48:09<13:23:04,  8.23s/it]"
     ]
    },
    {
     "name": "stdout",
     "output_type": "stream",
     "text": [
      "\n",
      "Batch 3300/9152: Load=1.66s, Embed=1.65s, Store=0.00s, Total=4.23s, Images/sec=2.84\n",
      "Estimated remaining time: 412.7 minutes\n"
     ]
    },
    {
     "name": "stderr",
     "output_type": "stream",
     "text": [
      "Processing train:  36%|███▌      | 3310/9152 [3:48:52<7:01:41,  4.33s/it] "
     ]
    },
    {
     "name": "stdout",
     "output_type": "stream",
     "text": [
      "\n",
      "Batch 3310/9152: Load=1.56s, Embed=1.64s, Store=0.00s, Total=4.01s, Images/sec=2.99\n",
      "Estimated remaining time: 390.9 minutes\n"
     ]
    },
    {
     "name": "stderr",
     "output_type": "stream",
     "text": [
      "Processing train:  36%|███▋      | 3320/9152 [3:49:34<6:48:18,  4.20s/it]"
     ]
    },
    {
     "name": "stdout",
     "output_type": "stream",
     "text": [
      "\n",
      "Batch 3320/9152: Load=1.64s, Embed=1.63s, Store=0.00s, Total=4.10s, Images/sec=2.93\n",
      "Estimated remaining time: 398.4 minutes\n"
     ]
    },
    {
     "name": "stderr",
     "output_type": "stream",
     "text": [
      "Processing train:  36%|███▋      | 3330/9152 [3:50:17<6:46:35,  4.19s/it]"
     ]
    },
    {
     "name": "stdout",
     "output_type": "stream",
     "text": [
      "\n",
      "Batch 3330/9152: Load=1.53s, Embed=1.62s, Store=0.00s, Total=3.96s, Images/sec=3.03\n",
      "Estimated remaining time: 384.3 minutes\n"
     ]
    },
    {
     "name": "stderr",
     "output_type": "stream",
     "text": [
      "Processing train:  36%|███▋      | 3340/9152 [3:51:00<6:53:51,  4.27s/it]"
     ]
    },
    {
     "name": "stdout",
     "output_type": "stream",
     "text": [
      "\n",
      "Batch 3340/9152: Load=1.68s, Embed=1.64s, Store=0.00s, Total=4.33s, Images/sec=2.77\n",
      "Estimated remaining time: 419.3 minutes\n"
     ]
    },
    {
     "name": "stderr",
     "output_type": "stream",
     "text": [
      "Processing train:  37%|███▋      | 3350/9152 [3:51:56<13:20:55,  8.28s/it]"
     ]
    },
    {
     "name": "stdout",
     "output_type": "stream",
     "text": [
      "\n",
      "Batch 3350/9152: Load=1.54s, Embed=1.63s, Store=0.00s, Total=4.23s, Images/sec=2.83\n",
      "Estimated remaining time: 409.4 minutes\n"
     ]
    },
    {
     "name": "stderr",
     "output_type": "stream",
     "text": [
      "Processing train:  37%|███▋      | 3360/9152 [3:52:38<6:50:57,  4.26s/it] "
     ]
    },
    {
     "name": "stdout",
     "output_type": "stream",
     "text": [
      "\n",
      "Batch 3360/9152: Load=1.61s, Embed=1.62s, Store=0.00s, Total=4.20s, Images/sec=2.85\n",
      "Estimated remaining time: 405.8 minutes\n"
     ]
    },
    {
     "name": "stderr",
     "output_type": "stream",
     "text": [
      "Processing train:  37%|███▋      | 3370/9152 [3:53:20<6:45:49,  4.21s/it]"
     ]
    },
    {
     "name": "stdout",
     "output_type": "stream",
     "text": [
      "\n",
      "Batch 3370/9152: Load=1.64s, Embed=1.70s, Store=0.00s, Total=4.16s, Images/sec=2.89\n",
      "Estimated remaining time: 400.5 minutes\n"
     ]
    },
    {
     "name": "stderr",
     "output_type": "stream",
     "text": [
      "Processing train:  37%|███▋      | 3380/9152 [3:54:03<7:07:00,  4.44s/it]"
     ]
    },
    {
     "name": "stdout",
     "output_type": "stream",
     "text": [
      "\n",
      "Batch 3380/9152: Load=1.58s, Embed=1.69s, Store=0.00s, Total=4.15s, Images/sec=2.89\n",
      "Estimated remaining time: 398.9 minutes\n"
     ]
    },
    {
     "name": "stderr",
     "output_type": "stream",
     "text": [
      "Processing train:  37%|███▋      | 3390/9152 [3:54:48<7:15:43,  4.54s/it]"
     ]
    },
    {
     "name": "stdout",
     "output_type": "stream",
     "text": [
      "\n",
      "Batch 3390/9152: Load=1.69s, Embed=1.62s, Store=0.00s, Total=4.14s, Images/sec=2.90\n",
      "Estimated remaining time: 397.2 minutes\n"
     ]
    },
    {
     "name": "stderr",
     "output_type": "stream",
     "text": [
      "Processing train:  37%|███▋      | 3400/9152 [3:55:45<13:14:42,  8.29s/it]"
     ]
    },
    {
     "name": "stdout",
     "output_type": "stream",
     "text": [
      "\n",
      "Batch 3400/9152: Load=1.61s, Embed=1.62s, Store=0.00s, Total=4.06s, Images/sec=2.96\n",
      "Estimated remaining time: 389.2 minutes\n"
     ]
    },
    {
     "name": "stderr",
     "output_type": "stream",
     "text": [
      "Processing train:  37%|███▋      | 3410/9152 [3:56:33<8:30:07,  5.33s/it] "
     ]
    },
    {
     "name": "stdout",
     "output_type": "stream",
     "text": [
      "\n",
      "Batch 3410/9152: Load=2.51s, Embed=2.23s, Store=0.00s, Total=5.56s, Images/sec=2.16\n",
      "Estimated remaining time: 532.4 minutes\n"
     ]
    },
    {
     "name": "stderr",
     "output_type": "stream",
     "text": [
      "Processing train:  37%|███▋      | 3420/9152 [3:57:25<8:26:55,  5.31s/it]"
     ]
    },
    {
     "name": "stdout",
     "output_type": "stream",
     "text": [
      "\n",
      "Batch 3420/9152: Load=2.80s, Embed=1.68s, Store=0.00s, Total=5.54s, Images/sec=2.17\n",
      "Estimated remaining time: 529.2 minutes\n"
     ]
    },
    {
     "name": "stderr",
     "output_type": "stream",
     "text": [
      "Processing train:  37%|███▋      | 3430/9152 [3:59:38<27:30:18, 17.30s/it]"
     ]
    },
    {
     "name": "stdout",
     "output_type": "stream",
     "text": [
      "\n",
      "Batch 3430/9152: Load=18.40s, Embed=2.81s, Store=0.00s, Total=22.66s, Images/sec=0.53\n",
      "Estimated remaining time: 2161.3 minutes\n"
     ]
    },
    {
     "name": "stderr",
     "output_type": "stream",
     "text": [
      "Processing train:  38%|███▊      | 3440/9152 [4:00:45<7:58:32,  5.03s/it] "
     ]
    },
    {
     "name": "stdout",
     "output_type": "stream",
     "text": [
      "\n",
      "Batch 3440/9152: Load=1.77s, Embed=1.64s, Store=0.00s, Total=4.36s, Images/sec=2.75\n",
      "Estimated remaining time: 415.1 minutes\n"
     ]
    },
    {
     "name": "stderr",
     "output_type": "stream",
     "text": [
      "Processing train:  38%|███▊      | 3450/9152 [4:01:44<13:16:51,  8.39s/it]"
     ]
    },
    {
     "name": "stdout",
     "output_type": "stream",
     "text": [
      "\n",
      "Batch 3450/9152: Load=1.60s, Embed=1.62s, Store=0.00s, Total=4.07s, Images/sec=2.95\n",
      "Estimated remaining time: 386.5 minutes\n"
     ]
    },
    {
     "name": "stderr",
     "output_type": "stream",
     "text": [
      "Processing train:  38%|███▊      | 3460/9152 [4:02:34<7:59:39,  5.06s/it] "
     ]
    },
    {
     "name": "stdout",
     "output_type": "stream",
     "text": [
      "\n",
      "Batch 3460/9152: Load=2.31s, Embed=1.62s, Store=0.00s, Total=4.80s, Images/sec=2.50\n",
      "Estimated remaining time: 455.0 minutes\n"
     ]
    },
    {
     "name": "stderr",
     "output_type": "stream",
     "text": [
      "Processing train:  38%|███▊      | 3470/9152 [4:03:18<6:51:10,  4.34s/it]"
     ]
    },
    {
     "name": "stdout",
     "output_type": "stream",
     "text": [
      "\n",
      "Batch 3470/9152: Load=1.53s, Embed=1.61s, Store=0.00s, Total=4.29s, Images/sec=2.80\n",
      "Estimated remaining time: 406.0 minutes\n"
     ]
    },
    {
     "name": "stderr",
     "output_type": "stream",
     "text": [
      "Processing train:  38%|███▊      | 3480/9152 [4:03:59<6:28:06,  4.11s/it]"
     ]
    },
    {
     "name": "stdout",
     "output_type": "stream",
     "text": [
      "\n",
      "Batch 3480/9152: Load=1.66s, Embed=1.65s, Store=0.00s, Total=4.14s, Images/sec=2.90\n",
      "Estimated remaining time: 391.4 minutes\n"
     ]
    },
    {
     "name": "stderr",
     "output_type": "stream",
     "text": [
      "Processing train:  38%|███▊      | 3490/9152 [4:04:42<6:38:26,  4.22s/it]"
     ]
    },
    {
     "name": "stdout",
     "output_type": "stream",
     "text": [
      "\n",
      "Batch 3490/9152: Load=1.58s, Embed=1.61s, Store=0.00s, Total=4.28s, Images/sec=2.81\n",
      "Estimated remaining time: 403.7 minutes\n"
     ]
    },
    {
     "name": "stderr",
     "output_type": "stream",
     "text": [
      "Processing train:  38%|███▊      | 3500/9152 [4:05:38<13:37:52,  8.68s/it]"
     ]
    },
    {
     "name": "stdout",
     "output_type": "stream",
     "text": [
      "\n",
      "Batch 3500/9152: Load=1.63s, Embed=1.67s, Store=0.00s, Total=4.18s, Images/sec=2.87\n",
      "Estimated remaining time: 393.9 minutes\n"
     ]
    },
    {
     "name": "stderr",
     "output_type": "stream",
     "text": [
      "Processing train:  38%|███▊      | 3510/9152 [4:06:21<6:46:05,  4.32s/it] "
     ]
    },
    {
     "name": "stdout",
     "output_type": "stream",
     "text": [
      "\n",
      "Batch 3510/9152: Load=1.61s, Embed=1.61s, Store=0.00s, Total=4.15s, Images/sec=2.89\n",
      "Estimated remaining time: 390.3 minutes\n"
     ]
    },
    {
     "name": "stderr",
     "output_type": "stream",
     "text": [
      "Processing train:  38%|███▊      | 3520/9152 [4:07:02<6:40:03,  4.26s/it]"
     ]
    },
    {
     "name": "stdout",
     "output_type": "stream",
     "text": [
      "\n",
      "Batch 3520/9152: Load=1.70s, Embed=1.63s, Store=0.00s, Total=4.41s, Images/sec=2.72\n",
      "Estimated remaining time: 414.4 minutes\n"
     ]
    },
    {
     "name": "stderr",
     "output_type": "stream",
     "text": [
      "Processing train:  39%|███▊      | 3530/9152 [4:07:45<6:38:08,  4.25s/it]"
     ]
    },
    {
     "name": "stdout",
     "output_type": "stream",
     "text": [
      "\n",
      "Batch 3530/9152: Load=1.70s, Embed=1.61s, Store=0.00s, Total=4.38s, Images/sec=2.74\n",
      "Estimated remaining time: 410.5 minutes\n"
     ]
    },
    {
     "name": "stderr",
     "output_type": "stream",
     "text": [
      "Processing train:  39%|███▊      | 3540/9152 [4:08:28<6:29:30,  4.16s/it]"
     ]
    },
    {
     "name": "stdout",
     "output_type": "stream",
     "text": [
      "\n",
      "Batch 3540/9152: Load=1.63s, Embed=1.62s, Store=0.00s, Total=4.10s, Images/sec=2.93\n",
      "Estimated remaining time: 383.6 minutes\n"
     ]
    },
    {
     "name": "stderr",
     "output_type": "stream",
     "text": [
      "Processing train:  39%|███▉      | 3550/9152 [4:09:24<13:06:33,  8.42s/it]"
     ]
    },
    {
     "name": "stdout",
     "output_type": "stream",
     "text": [
      "\n",
      "Batch 3550/9152: Load=1.51s, Embed=1.61s, Store=0.00s, Total=4.30s, Images/sec=2.79\n",
      "Estimated remaining time: 401.3 minutes\n"
     ]
    },
    {
     "name": "stderr",
     "output_type": "stream",
     "text": [
      "Processing train:  39%|███▉      | 3560/9152 [4:10:05<6:36:40,  4.26s/it] "
     ]
    },
    {
     "name": "stdout",
     "output_type": "stream",
     "text": [
      "\n",
      "Batch 3560/9152: Load=1.53s, Embed=1.65s, Store=0.00s, Total=4.11s, Images/sec=2.92\n",
      "Estimated remaining time: 383.0 minutes\n"
     ]
    },
    {
     "name": "stderr",
     "output_type": "stream",
     "text": [
      "Processing train:  39%|███▉      | 3570/9152 [4:10:47<6:28:48,  4.18s/it]"
     ]
    },
    {
     "name": "stdout",
     "output_type": "stream",
     "text": [
      "\n",
      "Batch 3570/9152: Load=1.63s, Embed=1.65s, Store=0.00s, Total=4.25s, Images/sec=2.82\n",
      "Estimated remaining time: 395.4 minutes\n"
     ]
    },
    {
     "name": "stderr",
     "output_type": "stream",
     "text": [
      "Processing train:  39%|███▉      | 3580/9152 [4:11:28<6:34:19,  4.25s/it]"
     ]
    },
    {
     "name": "stdout",
     "output_type": "stream",
     "text": [
      "\n",
      "Batch 3580/9152: Load=1.64s, Embed=1.69s, Store=0.00s, Total=4.31s, Images/sec=2.79\n",
      "Estimated remaining time: 400.1 minutes\n"
     ]
    },
    {
     "name": "stderr",
     "output_type": "stream",
     "text": [
      "Processing train:  39%|███▉      | 3590/9152 [4:12:11<6:35:13,  4.26s/it]"
     ]
    },
    {
     "name": "stdout",
     "output_type": "stream",
     "text": [
      "\n",
      "Batch 3590/9152: Load=1.74s, Embed=1.66s, Store=0.00s, Total=4.41s, Images/sec=2.72\n",
      "Estimated remaining time: 408.5 minutes\n"
     ]
    },
    {
     "name": "stderr",
     "output_type": "stream",
     "text": [
      "Processing train:  39%|███▉      | 3600/9152 [4:13:08<12:56:47,  8.39s/it]"
     ]
    },
    {
     "name": "stdout",
     "output_type": "stream",
     "text": [
      "\n",
      "Batch 3600/9152: Load=1.70s, Embed=1.63s, Store=0.00s, Total=4.33s, Images/sec=2.77\n",
      "Estimated remaining time: 401.1 minutes\n"
     ]
    },
    {
     "name": "stderr",
     "output_type": "stream",
     "text": [
      "Processing train:  39%|███▉      | 3610/9152 [4:13:50<6:45:32,  4.39s/it] "
     ]
    },
    {
     "name": "stdout",
     "output_type": "stream",
     "text": [
      "\n",
      "Batch 3610/9152: Load=1.60s, Embed=1.64s, Store=0.00s, Total=4.21s, Images/sec=2.85\n",
      "Estimated remaining time: 389.1 minutes\n"
     ]
    },
    {
     "name": "stderr",
     "output_type": "stream",
     "text": [
      "Processing train:  40%|███▉      | 3620/9152 [4:14:34<6:44:32,  4.39s/it]"
     ]
    },
    {
     "name": "stdout",
     "output_type": "stream",
     "text": [
      "\n",
      "Batch 3620/9152: Load=1.61s, Embed=1.65s, Store=0.00s, Total=4.21s, Images/sec=2.85\n",
      "Estimated remaining time: 387.8 minutes\n"
     ]
    },
    {
     "name": "stderr",
     "output_type": "stream",
     "text": [
      "Processing train:  40%|███▉      | 3630/9152 [4:15:20<7:05:54,  4.63s/it]"
     ]
    },
    {
     "name": "stdout",
     "output_type": "stream",
     "text": [
      "\n",
      "Batch 3630/9152: Load=2.13s, Embed=1.67s, Store=0.00s, Total=4.67s, Images/sec=2.57\n",
      "Estimated remaining time: 429.7 minutes\n"
     ]
    },
    {
     "name": "stderr",
     "output_type": "stream",
     "text": [
      "Processing train:  40%|███▉      | 3640/9152 [4:16:05<7:07:48,  4.66s/it]"
     ]
    },
    {
     "name": "stdout",
     "output_type": "stream",
     "text": [
      "\n",
      "Batch 3640/9152: Load=2.10s, Embed=1.68s, Store=0.00s, Total=5.02s, Images/sec=2.39\n",
      "Estimated remaining time: 461.5 minutes\n"
     ]
    },
    {
     "name": "stderr",
     "output_type": "stream",
     "text": [
      "Processing train:  40%|███▉      | 3650/9152 [4:17:04<13:08:44,  8.60s/it]"
     ]
    },
    {
     "name": "stdout",
     "output_type": "stream",
     "text": [
      "\n",
      "Batch 3650/9152: Load=1.71s, Embed=1.65s, Store=0.00s, Total=4.55s, Images/sec=2.64\n",
      "Estimated remaining time: 417.5 minutes\n"
     ]
    },
    {
     "name": "stderr",
     "output_type": "stream",
     "text": [
      "Processing train:  40%|███▉      | 3660/9152 [4:17:47<6:30:48,  4.27s/it] "
     ]
    },
    {
     "name": "stdout",
     "output_type": "stream",
     "text": [
      "\n",
      "Batch 3660/9152: Load=1.53s, Embed=1.60s, Store=0.00s, Total=4.01s, Images/sec=2.99\n",
      "Estimated remaining time: 367.1 minutes\n"
     ]
    },
    {
     "name": "stderr",
     "output_type": "stream",
     "text": [
      "Processing train:  40%|████      | 3670/9152 [4:18:29<6:21:45,  4.18s/it]"
     ]
    },
    {
     "name": "stdout",
     "output_type": "stream",
     "text": [
      "\n",
      "Batch 3670/9152: Load=1.55s, Embed=1.64s, Store=0.00s, Total=4.14s, Images/sec=2.90\n",
      "Estimated remaining time: 378.5 minutes\n"
     ]
    },
    {
     "name": "stderr",
     "output_type": "stream",
     "text": [
      "Processing train:  40%|████      | 3680/9152 [4:19:10<6:15:34,  4.12s/it]"
     ]
    },
    {
     "name": "stdout",
     "output_type": "stream",
     "text": [
      "\n",
      "Batch 3680/9152: Load=1.46s, Embed=1.64s, Store=0.00s, Total=3.99s, Images/sec=3.01\n",
      "Estimated remaining time: 363.8 minutes\n"
     ]
    },
    {
     "name": "stderr",
     "output_type": "stream",
     "text": [
      "Processing train:  40%|████      | 3690/9152 [4:19:52<6:18:10,  4.15s/it]"
     ]
    },
    {
     "name": "stdout",
     "output_type": "stream",
     "text": [
      "\n",
      "Batch 3690/9152: Load=1.58s, Embed=1.62s, Store=0.00s, Total=4.09s, Images/sec=2.94\n",
      "Estimated remaining time: 372.0 minutes\n"
     ]
    },
    {
     "name": "stderr",
     "output_type": "stream",
     "text": [
      "Processing train:  40%|████      | 3700/9152 [4:20:49<12:59:00,  8.57s/it]"
     ]
    },
    {
     "name": "stdout",
     "output_type": "stream",
     "text": [
      "\n",
      "Batch 3700/9152: Load=1.58s, Embed=1.62s, Store=0.00s, Total=4.10s, Images/sec=2.93\n",
      "Estimated remaining time: 372.4 minutes\n"
     ]
    },
    {
     "name": "stderr",
     "output_type": "stream",
     "text": [
      "Processing train:  41%|████      | 3710/9152 [4:21:31<6:34:26,  4.35s/it] "
     ]
    },
    {
     "name": "stdout",
     "output_type": "stream",
     "text": [
      "\n",
      "Batch 3710/9152: Load=1.58s, Embed=1.69s, Store=0.00s, Total=4.21s, Images/sec=2.85\n",
      "Estimated remaining time: 382.2 minutes\n"
     ]
    },
    {
     "name": "stderr",
     "output_type": "stream",
     "text": [
      "Processing train:  41%|████      | 3720/9152 [4:22:14<6:21:58,  4.22s/it]"
     ]
    },
    {
     "name": "stdout",
     "output_type": "stream",
     "text": [
      "\n",
      "Batch 3720/9152: Load=1.49s, Embed=1.71s, Store=0.00s, Total=4.23s, Images/sec=2.83\n",
      "Estimated remaining time: 383.3 minutes\n"
     ]
    },
    {
     "name": "stderr",
     "output_type": "stream",
     "text": [
      "Processing train:  41%|████      | 3730/9152 [4:22:56<6:31:42,  4.33s/it]"
     ]
    },
    {
     "name": "stdout",
     "output_type": "stream",
     "text": [
      "\n",
      "Batch 3730/9152: Load=1.72s, Embed=1.69s, Store=0.00s, Total=4.36s, Images/sec=2.75\n",
      "Estimated remaining time: 394.0 minutes\n"
     ]
    },
    {
     "name": "stderr",
     "output_type": "stream",
     "text": [
      "Processing train:  41%|████      | 3740/9152 [4:23:40<6:49:41,  4.54s/it]"
     ]
    },
    {
     "name": "stdout",
     "output_type": "stream",
     "text": [
      "\n",
      "Batch 3740/9152: Load=1.64s, Embed=2.29s, Store=0.00s, Total=4.90s, Images/sec=2.45\n",
      "Estimated remaining time: 442.0 minutes\n"
     ]
    },
    {
     "name": "stderr",
     "output_type": "stream",
     "text": [
      "Processing train:  41%|████      | 3750/9152 [4:24:38<12:59:39,  8.66s/it]"
     ]
    },
    {
     "name": "stdout",
     "output_type": "stream",
     "text": [
      "\n",
      "Batch 3750/9152: Load=1.60s, Embed=1.65s, Store=0.00s, Total=4.20s, Images/sec=2.86\n",
      "Estimated remaining time: 378.1 minutes\n"
     ]
    },
    {
     "name": "stderr",
     "output_type": "stream",
     "text": [
      "Processing train:  41%|████      | 3760/9152 [4:25:23<6:59:31,  4.67s/it] "
     ]
    },
    {
     "name": "stdout",
     "output_type": "stream",
     "text": [
      "\n",
      "Batch 3760/9152: Load=1.55s, Embed=2.19s, Store=0.00s, Total=4.63s, Images/sec=2.59\n",
      "Estimated remaining time: 416.4 minutes\n"
     ]
    },
    {
     "name": "stderr",
     "output_type": "stream",
     "text": [
      "Processing train:  41%|████      | 3770/9152 [4:26:09<6:56:04,  4.64s/it]"
     ]
    },
    {
     "name": "stdout",
     "output_type": "stream",
     "text": [
      "\n",
      "Batch 3770/9152: Load=1.68s, Embed=2.28s, Store=0.00s, Total=4.96s, Images/sec=2.42\n",
      "Estimated remaining time: 444.8 minutes\n"
     ]
    },
    {
     "name": "stderr",
     "output_type": "stream",
     "text": [
      "Processing train:  41%|████▏     | 3780/9152 [4:26:57<6:48:10,  4.56s/it]"
     ]
    },
    {
     "name": "stdout",
     "output_type": "stream",
     "text": [
      "\n",
      "Batch 3780/9152: Load=1.73s, Embed=1.68s, Store=0.00s, Total=4.36s, Images/sec=2.75\n",
      "Estimated remaining time: 390.7 minutes\n"
     ]
    },
    {
     "name": "stderr",
     "output_type": "stream",
     "text": [
      "Processing train:  41%|████▏     | 3790/9152 [4:27:39<6:16:05,  4.21s/it]"
     ]
    },
    {
     "name": "stdout",
     "output_type": "stream",
     "text": [
      "\n",
      "Batch 3790/9152: Load=1.50s, Embed=1.68s, Store=0.00s, Total=4.08s, Images/sec=2.94\n",
      "Estimated remaining time: 364.5 minutes\n"
     ]
    },
    {
     "name": "stderr",
     "output_type": "stream",
     "text": [
      "Processing train:  42%|████▏     | 3800/9152 [4:28:38<13:01:43,  8.76s/it]"
     ]
    },
    {
     "name": "stdout",
     "output_type": "stream",
     "text": [
      "\n",
      "Batch 3800/9152: Load=1.62s, Embed=1.72s, Store=0.00s, Total=4.36s, Images/sec=2.75\n",
      "Estimated remaining time: 389.3 minutes\n"
     ]
    },
    {
     "name": "stderr",
     "output_type": "stream",
     "text": [
      "Processing train:  42%|████▏     | 3810/9152 [4:29:21<6:32:45,  4.41s/it] "
     ]
    },
    {
     "name": "stdout",
     "output_type": "stream",
     "text": [
      "\n",
      "Batch 3810/9152: Load=1.56s, Embed=1.62s, Store=0.00s, Total=4.33s, Images/sec=2.77\n",
      "Estimated remaining time: 385.4 minutes\n"
     ]
    },
    {
     "name": "stderr",
     "output_type": "stream",
     "text": [
      "Processing train:  42%|████▏     | 3820/9152 [4:30:04<6:22:10,  4.30s/it]"
     ]
    },
    {
     "name": "stdout",
     "output_type": "stream",
     "text": [
      "\n",
      "Batch 3820/9152: Load=1.64s, Embed=1.62s, Store=0.00s, Total=4.19s, Images/sec=2.87\n",
      "Estimated remaining time: 372.0 minutes\n"
     ]
    },
    {
     "name": "stderr",
     "output_type": "stream",
     "text": [
      "Processing train:  42%|████▏     | 3830/9152 [4:30:45<6:11:49,  4.19s/it]"
     ]
    },
    {
     "name": "stdout",
     "output_type": "stream",
     "text": [
      "\n",
      "Batch 3830/9152: Load=1.59s, Embed=1.63s, Store=0.00s, Total=4.25s, Images/sec=2.82\n",
      "Estimated remaining time: 377.1 minutes\n"
     ]
    },
    {
     "name": "stderr",
     "output_type": "stream",
     "text": [
      "Processing train:  42%|████▏     | 3840/9152 [4:31:27<6:14:08,  4.23s/it]"
     ]
    },
    {
     "name": "stdout",
     "output_type": "stream",
     "text": [
      "\n",
      "Batch 3840/9152: Load=1.55s, Embed=1.61s, Store=0.00s, Total=4.19s, Images/sec=2.86\n",
      "Estimated remaining time: 371.4 minutes\n"
     ]
    },
    {
     "name": "stderr",
     "output_type": "stream",
     "text": [
      "Processing train:  42%|████▏     | 3850/9152 [4:32:25<12:54:48,  8.77s/it]"
     ]
    },
    {
     "name": "stdout",
     "output_type": "stream",
     "text": [
      "\n",
      "Batch 3850/9152: Load=1.67s, Embed=1.62s, Store=0.00s, Total=4.25s, Images/sec=2.83\n",
      "Estimated remaining time: 375.2 minutes\n"
     ]
    },
    {
     "name": "stderr",
     "output_type": "stream",
     "text": [
      "Processing train:  42%|████▏     | 3860/9152 [4:33:11<6:37:14,  4.50s/it] "
     ]
    },
    {
     "name": "stdout",
     "output_type": "stream",
     "text": [
      "\n",
      "Batch 3860/9152: Load=1.50s, Embed=1.61s, Store=0.00s, Total=4.03s, Images/sec=2.97\n",
      "Estimated remaining time: 355.8 minutes\n"
     ]
    },
    {
     "name": "stderr",
     "output_type": "stream",
     "text": [
      "Processing train:  42%|████▏     | 3870/9152 [4:33:53<6:15:39,  4.27s/it]"
     ]
    },
    {
     "name": "stdout",
     "output_type": "stream",
     "text": [
      "\n",
      "Batch 3870/9152: Load=1.57s, Embed=1.62s, Store=0.00s, Total=4.48s, Images/sec=2.68\n",
      "Estimated remaining time: 394.6 minutes\n"
     ]
    },
    {
     "name": "stderr",
     "output_type": "stream",
     "text": [
      "Processing train:  42%|████▏     | 3880/9152 [4:34:36<6:07:56,  4.19s/it]"
     ]
    },
    {
     "name": "stdout",
     "output_type": "stream",
     "text": [
      "\n",
      "Batch 3880/9152: Load=1.54s, Embed=1.63s, Store=0.00s, Total=4.12s, Images/sec=2.91\n",
      "Estimated remaining time: 361.9 minutes\n"
     ]
    },
    {
     "name": "stderr",
     "output_type": "stream",
     "text": [
      "Processing train:  43%|████▎     | 3890/9152 [4:35:22<6:31:10,  4.46s/it]"
     ]
    },
    {
     "name": "stdout",
     "output_type": "stream",
     "text": [
      "\n",
      "Batch 3890/9152: Load=1.70s, Embed=1.67s, Store=0.00s, Total=4.38s, Images/sec=2.74\n",
      "Estimated remaining time: 384.2 minutes\n"
     ]
    },
    {
     "name": "stderr",
     "output_type": "stream",
     "text": [
      "Processing train:  43%|████▎     | 3900/9152 [4:36:21<13:10:28,  9.03s/it]"
     ]
    },
    {
     "name": "stdout",
     "output_type": "stream",
     "text": [
      "\n",
      "Batch 3900/9152: Load=1.58s, Embed=1.65s, Store=0.00s, Total=4.45s, Images/sec=2.70\n",
      "Estimated remaining time: 389.7 minutes\n"
     ]
    },
    {
     "name": "stderr",
     "output_type": "stream",
     "text": [
      "Processing train:  43%|████▎     | 3910/9152 [4:37:07<7:09:16,  4.91s/it] "
     ]
    },
    {
     "name": "stdout",
     "output_type": "stream",
     "text": [
      "\n",
      "Batch 3910/9152: Load=2.68s, Embed=1.76s, Store=0.00s, Total=5.77s, Images/sec=2.08\n",
      "Estimated remaining time: 504.3 minutes\n"
     ]
    },
    {
     "name": "stderr",
     "output_type": "stream",
     "text": [
      "Processing train:  43%|████▎     | 3920/9152 [4:37:52<6:27:47,  4.45s/it]"
     ]
    },
    {
     "name": "stdout",
     "output_type": "stream",
     "text": [
      "\n",
      "Batch 3920/9152: Load=1.69s, Embed=1.74s, Store=0.00s, Total=4.41s, Images/sec=2.72\n",
      "Estimated remaining time: 384.5 minutes\n"
     ]
    },
    {
     "name": "stderr",
     "output_type": "stream",
     "text": [
      "Processing train:  43%|████▎     | 3930/9152 [4:38:35<6:21:09,  4.38s/it]"
     ]
    },
    {
     "name": "stdout",
     "output_type": "stream",
     "text": [
      "\n",
      "Batch 3930/9152: Load=1.65s, Embed=1.64s, Store=0.00s, Total=4.27s, Images/sec=2.81\n",
      "Estimated remaining time: 371.2 minutes\n"
     ]
    },
    {
     "name": "stderr",
     "output_type": "stream",
     "text": [
      "Processing train:  43%|████▎     | 3940/9152 [4:39:21<6:40:55,  4.62s/it]"
     ]
    },
    {
     "name": "stdout",
     "output_type": "stream",
     "text": [
      "\n",
      "Batch 3940/9152: Load=1.59s, Embed=1.86s, Store=0.00s, Total=4.54s, Images/sec=2.64\n",
      "Estimated remaining time: 394.2 minutes\n"
     ]
    },
    {
     "name": "stderr",
     "output_type": "stream",
     "text": [
      "Processing train:  43%|████▎     | 3950/9152 [4:40:21<13:08:40,  9.10s/it]"
     ]
    },
    {
     "name": "stdout",
     "output_type": "stream",
     "text": [
      "\n",
      "Batch 3950/9152: Load=1.78s, Embed=1.76s, Store=0.01s, Total=4.69s, Images/sec=2.56\n",
      "Estimated remaining time: 406.3 minutes\n"
     ]
    },
    {
     "name": "stderr",
     "output_type": "stream",
     "text": [
      "Processing train:  43%|████▎     | 3960/9152 [4:41:08<7:20:20,  5.09s/it] "
     ]
    },
    {
     "name": "stdout",
     "output_type": "stream",
     "text": [
      "\n",
      "Batch 3960/9152: Load=2.46s, Embed=1.63s, Store=0.00s, Total=5.27s, Images/sec=2.28\n",
      "Estimated remaining time: 455.8 minutes\n"
     ]
    },
    {
     "name": "stderr",
     "output_type": "stream",
     "text": [
      "Processing train:  43%|████▎     | 3970/9152 [4:41:56<6:38:17,  4.61s/it]"
     ]
    },
    {
     "name": "stdout",
     "output_type": "stream",
     "text": [
      "\n",
      "Batch 3970/9152: Load=1.76s, Embed=1.61s, Store=0.00s, Total=4.33s, Images/sec=2.77\n",
      "Estimated remaining time: 374.3 minutes\n"
     ]
    },
    {
     "name": "stderr",
     "output_type": "stream",
     "text": [
      "Processing train:  43%|████▎     | 3980/9152 [4:42:50<7:17:35,  5.08s/it]"
     ]
    },
    {
     "name": "stdout",
     "output_type": "stream",
     "text": [
      "\n",
      "Batch 3980/9152: Load=1.74s, Embed=1.61s, Store=0.00s, Total=4.29s, Images/sec=2.80\n",
      "Estimated remaining time: 369.6 minutes\n"
     ]
    },
    {
     "name": "stderr",
     "output_type": "stream",
     "text": [
      "Processing train:  44%|████▎     | 3990/9152 [4:43:38<7:02:46,  4.91s/it]"
     ]
    },
    {
     "name": "stdout",
     "output_type": "stream",
     "text": [
      "\n",
      "Batch 3990/9152: Load=2.33s, Embed=1.83s, Store=0.00s, Total=5.11s, Images/sec=2.35\n",
      "Estimated remaining time: 439.9 minutes\n"
     ]
    },
    {
     "name": "stderr",
     "output_type": "stream",
     "text": [
      "Processing train:  44%|████▎     | 4000/9152 [4:44:41<13:24:00,  9.36s/it]"
     ]
    },
    {
     "name": "stdout",
     "output_type": "stream",
     "text": [
      "\n",
      "Batch 4000/9152: Load=1.82s, Embed=1.65s, Store=0.00s, Total=4.61s, Images/sec=2.60\n",
      "Estimated remaining time: 395.6 minutes\n"
     ]
    },
    {
     "name": "stderr",
     "output_type": "stream",
     "text": [
      "Processing train:  44%|████▍     | 4010/9152 [4:45:33<7:54:28,  5.54s/it] "
     ]
    },
    {
     "name": "stdout",
     "output_type": "stream",
     "text": [
      "\n",
      "Batch 4010/9152: Load=2.85s, Embed=1.68s, Store=0.00s, Total=5.66s, Images/sec=2.12\n",
      "Estimated remaining time: 485.2 minutes\n"
     ]
    },
    {
     "name": "stderr",
     "output_type": "stream",
     "text": [
      "Processing train:  44%|████▍     | 4020/9152 [4:46:19<6:21:47,  4.46s/it]"
     ]
    },
    {
     "name": "stdout",
     "output_type": "stream",
     "text": [
      "\n",
      "Batch 4020/9152: Load=1.64s, Embed=1.64s, Store=0.00s, Total=4.40s, Images/sec=2.73\n",
      "Estimated remaining time: 376.3 minutes\n"
     ]
    },
    {
     "name": "stderr",
     "output_type": "stream",
     "text": [
      "Processing train:  44%|████▍     | 4030/9152 [4:47:15<7:50:20,  5.51s/it]"
     ]
    },
    {
     "name": "stdout",
     "output_type": "stream",
     "text": [
      "\n",
      "Batch 4030/9152: Load=3.06s, Embed=1.71s, Store=0.00s, Total=5.79s, Images/sec=2.07\n",
      "Estimated remaining time: 493.9 minutes\n"
     ]
    },
    {
     "name": "stderr",
     "output_type": "stream",
     "text": [
      "Processing train:  44%|████▍     | 4040/9152 [4:48:23<8:23:55,  5.91s/it] "
     ]
    },
    {
     "name": "stdout",
     "output_type": "stream",
     "text": [
      "\n",
      "Batch 4040/9152: Load=2.79s, Embed=1.68s, Store=0.00s, Total=5.42s, Images/sec=2.21\n",
      "Estimated remaining time: 462.0 minutes\n"
     ]
    },
    {
     "name": "stderr",
     "output_type": "stream",
     "text": [
      "Processing train:  44%|████▍     | 4050/9152 [4:49:33<13:49:16,  9.75s/it]"
     ]
    },
    {
     "name": "stdout",
     "output_type": "stream",
     "text": [
      "\n",
      "Batch 4050/9152: Load=1.97s, Embed=1.63s, Store=0.00s, Total=4.82s, Images/sec=2.49\n",
      "Estimated remaining time: 409.6 minutes\n"
     ]
    },
    {
     "name": "stderr",
     "output_type": "stream",
     "text": [
      "Processing train:  44%|████▍     | 4060/9152 [4:50:42<8:39:52,  6.13s/it] "
     ]
    },
    {
     "name": "stdout",
     "output_type": "stream",
     "text": [
      "\n",
      "Batch 4060/9152: Load=2.33s, Embed=1.69s, Store=0.00s, Total=4.99s, Images/sec=2.41\n",
      "Estimated remaining time: 423.2 minutes\n"
     ]
    },
    {
     "name": "stderr",
     "output_type": "stream",
     "text": [
      "Processing train:  44%|████▍     | 4070/9152 [4:51:46<10:10:16,  7.21s/it]"
     ]
    },
    {
     "name": "stdout",
     "output_type": "stream",
     "text": [
      "\n",
      "Batch 4070/9152: Load=4.94s, Embed=1.70s, Store=0.00s, Total=7.67s, Images/sec=1.56\n",
      "Estimated remaining time: 649.8 minutes\n"
     ]
    },
    {
     "name": "stderr",
     "output_type": "stream",
     "text": [
      "Processing train:  45%|████▍     | 4080/9152 [4:53:34<11:57:14,  8.48s/it]"
     ]
    },
    {
     "name": "stdout",
     "output_type": "stream",
     "text": [
      "\n",
      "Batch 4080/9152: Load=3.27s, Embed=1.64s, Store=0.00s, Total=5.94s, Images/sec=2.02\n",
      "Estimated remaining time: 501.8 minutes\n"
     ]
    },
    {
     "name": "stderr",
     "output_type": "stream",
     "text": [
      "Processing train:  45%|████▍     | 4090/9152 [4:54:33<8:06:24,  5.77s/it] "
     ]
    },
    {
     "name": "stdout",
     "output_type": "stream",
     "text": [
      "\n",
      "Batch 4090/9152: Load=3.01s, Embed=1.63s, Store=0.00s, Total=5.89s, Images/sec=2.04\n",
      "Estimated remaining time: 497.1 minutes\n"
     ]
    },
    {
     "name": "stderr",
     "output_type": "stream",
     "text": [
      "Processing train:  45%|████▍     | 4100/9152 [4:55:34<13:15:33,  9.45s/it]"
     ]
    },
    {
     "name": "stdout",
     "output_type": "stream",
     "text": [
      "\n",
      "Batch 4100/9152: Load=1.60s, Embed=1.61s, Store=0.00s, Total=4.28s, Images/sec=2.80\n",
      "Estimated remaining time: 360.3 minutes\n"
     ]
    },
    {
     "name": "stderr",
     "output_type": "stream",
     "text": [
      "Processing train:  45%|████▍     | 4110/9152 [4:56:20<6:25:25,  4.59s/it] "
     ]
    },
    {
     "name": "stdout",
     "output_type": "stream",
     "text": [
      "\n",
      "Batch 4110/9152: Load=1.50s, Embed=1.64s, Store=0.00s, Total=4.21s, Images/sec=2.85\n",
      "Estimated remaining time: 353.7 minutes\n"
     ]
    },
    {
     "name": "stderr",
     "output_type": "stream",
     "text": [
      "Processing train:  45%|████▌     | 4120/9152 [4:57:03<6:03:52,  4.34s/it]"
     ]
    },
    {
     "name": "stdout",
     "output_type": "stream",
     "text": [
      "\n",
      "Batch 4120/9152: Load=1.68s, Embed=1.63s, Store=0.00s, Total=4.33s, Images/sec=2.77\n",
      "Estimated remaining time: 363.4 minutes\n"
     ]
    },
    {
     "name": "stderr",
     "output_type": "stream",
     "text": [
      "Processing train:  45%|████▌     | 4130/9152 [4:57:46<6:05:18,  4.36s/it]"
     ]
    },
    {
     "name": "stdout",
     "output_type": "stream",
     "text": [
      "\n",
      "Batch 4130/9152: Load=1.68s, Embed=1.67s, Store=0.00s, Total=4.39s, Images/sec=2.73\n",
      "Estimated remaining time: 367.7 minutes\n"
     ]
    },
    {
     "name": "stderr",
     "output_type": "stream",
     "text": [
      "Processing train:  45%|████▌     | 4140/9152 [4:58:29<5:58:19,  4.29s/it]"
     ]
    },
    {
     "name": "stdout",
     "output_type": "stream",
     "text": [
      "\n",
      "Batch 4140/9152: Load=1.55s, Embed=1.64s, Store=0.00s, Total=4.25s, Images/sec=2.82\n",
      "Estimated remaining time: 355.4 minutes\n"
     ]
    },
    {
     "name": "stderr",
     "output_type": "stream",
     "text": [
      "Processing train:  45%|████▌     | 4150/9152 [4:59:28<12:49:58,  9.24s/it]"
     ]
    },
    {
     "name": "stdout",
     "output_type": "stream",
     "text": [
      "\n",
      "Batch 4150/9152: Load=1.53s, Embed=1.64s, Store=0.00s, Total=4.24s, Images/sec=2.83\n",
      "Estimated remaining time: 353.3 minutes\n"
     ]
    },
    {
     "name": "stderr",
     "output_type": "stream",
     "text": [
      "Processing train:  45%|████▌     | 4160/9152 [5:00:13<6:35:32,  4.75s/it] "
     ]
    },
    {
     "name": "stdout",
     "output_type": "stream",
     "text": [
      "\n",
      "Batch 4160/9152: Load=1.63s, Embed=1.63s, Store=0.00s, Total=4.28s, Images/sec=2.80\n",
      "Estimated remaining time: 356.0 minutes\n"
     ]
    },
    {
     "name": "stderr",
     "output_type": "stream",
     "text": [
      "Processing train:  46%|████▌     | 4170/9152 [5:00:56<6:00:05,  4.34s/it]"
     ]
    },
    {
     "name": "stdout",
     "output_type": "stream",
     "text": [
      "\n",
      "Batch 4170/9152: Load=1.60s, Embed=1.64s, Store=0.00s, Total=4.23s, Images/sec=2.84\n",
      "Estimated remaining time: 350.9 minutes\n"
     ]
    },
    {
     "name": "stderr",
     "output_type": "stream",
     "text": [
      "Processing train:  46%|████▌     | 4180/9152 [5:01:40<5:57:45,  4.32s/it]"
     ]
    },
    {
     "name": "stdout",
     "output_type": "stream",
     "text": [
      "\n",
      "Batch 4180/9152: Load=1.57s, Embed=1.63s, Store=0.00s, Total=4.20s, Images/sec=2.86\n",
      "Estimated remaining time: 348.0 minutes\n"
     ]
    },
    {
     "name": "stderr",
     "output_type": "stream",
     "text": [
      "Processing train:  46%|████▌     | 4190/9152 [5:02:24<6:07:01,  4.44s/it]"
     ]
    },
    {
     "name": "stdout",
     "output_type": "stream",
     "text": [
      "\n",
      "Batch 4190/9152: Load=1.63s, Embed=1.84s, Store=0.00s, Total=4.45s, Images/sec=2.70\n",
      "Estimated remaining time: 367.8 minutes\n"
     ]
    },
    {
     "name": "stderr",
     "output_type": "stream",
     "text": [
      "Processing train:  46%|████▌     | 4200/9152 [5:03:25<12:47:56,  9.30s/it]"
     ]
    },
    {
     "name": "stdout",
     "output_type": "stream",
     "text": [
      "\n",
      "Batch 4200/9152: Load=1.71s, Embed=1.63s, Store=0.00s, Total=4.46s, Images/sec=2.69\n",
      "Estimated remaining time: 367.9 minutes\n"
     ]
    },
    {
     "name": "stderr",
     "output_type": "stream",
     "text": [
      "Processing train:  46%|████▌     | 4210/9152 [5:04:09<6:25:21,  4.68s/it] "
     ]
    },
    {
     "name": "stdout",
     "output_type": "stream",
     "text": [
      "\n",
      "Batch 4210/9152: Load=1.70s, Embed=1.61s, Store=0.00s, Total=4.65s, Images/sec=2.58\n",
      "Estimated remaining time: 383.0 minutes\n"
     ]
    },
    {
     "name": "stderr",
     "output_type": "stream",
     "text": [
      "Processing train:  46%|████▌     | 4220/9152 [5:04:54<6:12:06,  4.53s/it]"
     ]
    },
    {
     "name": "stdout",
     "output_type": "stream",
     "text": [
      "\n",
      "Batch 4220/9152: Load=1.70s, Embed=1.62s, Store=0.01s, Total=4.59s, Images/sec=2.62\n",
      "Estimated remaining time: 377.0 minutes\n"
     ]
    },
    {
     "name": "stderr",
     "output_type": "stream",
     "text": [
      "Processing train:  46%|████▌     | 4230/9152 [5:05:38<5:57:19,  4.36s/it]"
     ]
    },
    {
     "name": "stdout",
     "output_type": "stream",
     "text": [
      "\n",
      "Batch 4230/9152: Load=1.69s, Embed=1.62s, Store=0.00s, Total=4.30s, Images/sec=2.79\n",
      "Estimated remaining time: 352.4 minutes\n"
     ]
    },
    {
     "name": "stderr",
     "output_type": "stream",
     "text": [
      "Processing train:  46%|████▋     | 4240/9152 [5:06:21<5:51:01,  4.29s/it]"
     ]
    },
    {
     "name": "stdout",
     "output_type": "stream",
     "text": [
      "\n",
      "Batch 4240/9152: Load=1.63s, Embed=1.62s, Store=0.00s, Total=4.24s, Images/sec=2.83\n",
      "Estimated remaining time: 347.4 minutes\n"
     ]
    },
    {
     "name": "stderr",
     "output_type": "stream",
     "text": [
      "Processing train:  46%|████▋     | 4250/9152 [5:07:22<12:55:39,  9.49s/it]"
     ]
    },
    {
     "name": "stdout",
     "output_type": "stream",
     "text": [
      "\n",
      "Batch 4250/9152: Load=1.77s, Embed=1.60s, Store=0.00s, Total=4.47s, Images/sec=2.68\n",
      "Estimated remaining time: 365.6 minutes\n"
     ]
    },
    {
     "name": "stderr",
     "output_type": "stream",
     "text": [
      "Processing train:  47%|████▋     | 4260/9152 [5:08:06<6:11:59,  4.56s/it] "
     ]
    },
    {
     "name": "stdout",
     "output_type": "stream",
     "text": [
      "\n",
      "Batch 4260/9152: Load=1.76s, Embed=1.65s, Store=0.00s, Total=4.47s, Images/sec=2.69\n",
      "Estimated remaining time: 364.4 minutes\n"
     ]
    },
    {
     "name": "stderr",
     "output_type": "stream",
     "text": [
      "Processing train:  47%|████▋     | 4270/9152 [5:08:51<5:56:50,  4.39s/it]"
     ]
    },
    {
     "name": "stdout",
     "output_type": "stream",
     "text": [
      "\n",
      "Batch 4270/9152: Load=1.63s, Embed=1.63s, Store=0.00s, Total=4.37s, Images/sec=2.75\n",
      "Estimated remaining time: 355.3 minutes\n"
     ]
    },
    {
     "name": "stderr",
     "output_type": "stream",
     "text": [
      "Processing train:  47%|████▋     | 4280/9152 [5:09:34<5:52:59,  4.35s/it]"
     ]
    },
    {
     "name": "stdout",
     "output_type": "stream",
     "text": [
      "\n",
      "Batch 4280/9152: Load=1.60s, Embed=1.65s, Store=0.00s, Total=4.26s, Images/sec=2.82\n",
      "Estimated remaining time: 346.0 minutes\n"
     ]
    },
    {
     "name": "stderr",
     "output_type": "stream",
     "text": [
      "Processing train:  47%|████▋     | 4290/9152 [5:10:18<5:56:58,  4.41s/it]"
     ]
    },
    {
     "name": "stdout",
     "output_type": "stream",
     "text": [
      "\n",
      "Batch 4290/9152: Load=1.76s, Embed=1.63s, Store=0.00s, Total=4.42s, Images/sec=2.71\n",
      "Estimated remaining time: 358.3 minutes\n"
     ]
    },
    {
     "name": "stderr",
     "output_type": "stream",
     "text": [
      "Processing train:  47%|████▋     | 4300/9152 [5:11:18<12:34:51,  9.33s/it]"
     ]
    },
    {
     "name": "stdout",
     "output_type": "stream",
     "text": [
      "\n",
      "Batch 4300/9152: Load=1.83s, Embed=1.61s, Store=0.00s, Total=4.52s, Images/sec=2.66\n",
      "Estimated remaining time: 365.2 minutes\n"
     ]
    },
    {
     "name": "stderr",
     "output_type": "stream",
     "text": [
      "Processing train:  47%|████▋     | 4310/9152 [5:12:03<6:09:00,  4.57s/it] "
     ]
    },
    {
     "name": "stdout",
     "output_type": "stream",
     "text": [
      "\n",
      "Batch 4310/9152: Load=1.72s, Embed=1.61s, Store=0.00s, Total=4.45s, Images/sec=2.70\n",
      "Estimated remaining time: 359.0 minutes\n"
     ]
    },
    {
     "name": "stderr",
     "output_type": "stream",
     "text": [
      "Processing train:  47%|████▋     | 4320/9152 [5:12:47<5:51:58,  4.37s/it]"
     ]
    },
    {
     "name": "stdout",
     "output_type": "stream",
     "text": [
      "\n",
      "Batch 4320/9152: Load=1.72s, Embed=1.62s, Store=0.00s, Total=4.35s, Images/sec=2.76\n",
      "Estimated remaining time: 350.4 minutes\n"
     ]
    },
    {
     "name": "stderr",
     "output_type": "stream",
     "text": [
      "Processing train:  47%|████▋     | 4330/9152 [5:13:31<5:58:13,  4.46s/it]"
     ]
    },
    {
     "name": "stdout",
     "output_type": "stream",
     "text": [
      "\n",
      "Batch 4330/9152: Load=1.77s, Embed=1.62s, Store=0.00s, Total=4.47s, Images/sec=2.69\n",
      "Estimated remaining time: 359.0 minutes\n"
     ]
    },
    {
     "name": "stderr",
     "output_type": "stream",
     "text": [
      "Processing train:  47%|████▋     | 4340/9152 [5:14:15<5:52:33,  4.40s/it]"
     ]
    },
    {
     "name": "stdout",
     "output_type": "stream",
     "text": [
      "\n",
      "Batch 4340/9152: Load=1.75s, Embed=1.68s, Store=0.00s, Total=4.45s, Images/sec=2.70\n",
      "Estimated remaining time: 356.6 minutes\n"
     ]
    },
    {
     "name": "stderr",
     "output_type": "stream",
     "text": [
      "Processing train:  48%|████▊     | 4350/9152 [5:15:15<12:33:24,  9.41s/it]"
     ]
    },
    {
     "name": "stdout",
     "output_type": "stream",
     "text": [
      "\n",
      "Batch 4350/9152: Load=1.86s, Embed=1.64s, Store=0.00s, Total=4.52s, Images/sec=2.65\n",
      "Estimated remaining time: 361.8 minutes\n"
     ]
    },
    {
     "name": "stderr",
     "output_type": "stream",
     "text": [
      "Processing train:  48%|████▊     | 4360/9152 [5:16:05<7:35:06,  5.70s/it] "
     ]
    },
    {
     "name": "stdout",
     "output_type": "stream",
     "text": [
      "\n",
      "Batch 4360/9152: Load=1.72s, Embed=2.25s, Store=0.00s, Total=5.10s, Images/sec=2.36\n",
      "Estimated remaining time: 406.9 minutes\n"
     ]
    },
    {
     "name": "stderr",
     "output_type": "stream",
     "text": [
      "Processing train:  48%|████▊     | 4370/9152 [5:16:57<7:03:46,  5.32s/it]"
     ]
    },
    {
     "name": "stdout",
     "output_type": "stream",
     "text": [
      "\n",
      "Batch 4370/9152: Load=1.62s, Embed=1.63s, Store=0.00s, Total=4.34s, Images/sec=2.77\n",
      "Estimated remaining time: 345.6 minutes\n"
     ]
    },
    {
     "name": "stderr",
     "output_type": "stream",
     "text": [
      "Processing train:  48%|████▊     | 4380/9152 [5:17:42<5:53:42,  4.45s/it]"
     ]
    },
    {
     "name": "stdout",
     "output_type": "stream",
     "text": [
      "\n",
      "Batch 4380/9152: Load=1.76s, Embed=1.63s, Store=0.00s, Total=4.42s, Images/sec=2.72\n",
      "Estimated remaining time: 351.4 minutes\n"
     ]
    },
    {
     "name": "stderr",
     "output_type": "stream",
     "text": [
      "Processing train:  48%|████▊     | 4390/9152 [5:18:26<5:55:58,  4.49s/it]"
     ]
    },
    {
     "name": "stdout",
     "output_type": "stream",
     "text": [
      "\n",
      "Batch 4390/9152: Load=1.70s, Embed=1.62s, Store=0.00s, Total=4.47s, Images/sec=2.68\n",
      "Estimated remaining time: 354.7 minutes\n"
     ]
    },
    {
     "name": "stderr",
     "output_type": "stream",
     "text": [
      "Processing train:  48%|████▊     | 4400/9152 [5:19:28<12:30:02,  9.47s/it]"
     ]
    },
    {
     "name": "stdout",
     "output_type": "stream",
     "text": [
      "\n",
      "Batch 4400/9152: Load=1.93s, Embed=1.64s, Store=0.00s, Total=4.59s, Images/sec=2.61\n",
      "Estimated remaining time: 363.8 minutes\n"
     ]
    },
    {
     "name": "stderr",
     "output_type": "stream",
     "text": [
      "Processing train:  48%|████▊     | 4410/9152 [5:20:12<5:57:41,  4.53s/it] "
     ]
    },
    {
     "name": "stdout",
     "output_type": "stream",
     "text": [
      "\n",
      "Batch 4410/9152: Load=1.66s, Embed=1.63s, Store=0.00s, Total=4.35s, Images/sec=2.76\n",
      "Estimated remaining time: 343.7 minutes\n"
     ]
    },
    {
     "name": "stderr",
     "output_type": "stream",
     "text": [
      "Processing train:  48%|████▊     | 4420/9152 [5:20:55<5:42:22,  4.34s/it]"
     ]
    },
    {
     "name": "stdout",
     "output_type": "stream",
     "text": [
      "\n",
      "Batch 4420/9152: Load=1.64s, Embed=1.63s, Store=0.00s, Total=4.30s, Images/sec=2.79\n",
      "Estimated remaining time: 338.8 minutes\n"
     ]
    },
    {
     "name": "stderr",
     "output_type": "stream",
     "text": [
      "Processing train:  48%|████▊     | 4430/9152 [5:21:39<5:47:49,  4.42s/it]"
     ]
    },
    {
     "name": "stdout",
     "output_type": "stream",
     "text": [
      "\n",
      "Batch 4430/9152: Load=1.67s, Embed=1.65s, Store=0.00s, Total=4.38s, Images/sec=2.74\n",
      "Estimated remaining time: 344.9 minutes\n"
     ]
    },
    {
     "name": "stderr",
     "output_type": "stream",
     "text": [
      "Processing train:  49%|████▊     | 4440/9152 [5:22:23<5:48:32,  4.44s/it]"
     ]
    },
    {
     "name": "stdout",
     "output_type": "stream",
     "text": [
      "\n",
      "Batch 4440/9152: Load=1.66s, Embed=1.65s, Store=0.00s, Total=4.49s, Images/sec=2.67\n",
      "Estimated remaining time: 352.6 minutes\n"
     ]
    },
    {
     "name": "stderr",
     "output_type": "stream",
     "text": [
      "Processing train:  49%|████▊     | 4450/9152 [5:23:26<12:47:23,  9.79s/it]"
     ]
    },
    {
     "name": "stdout",
     "output_type": "stream",
     "text": [
      "\n",
      "Batch 4450/9152: Load=2.48s, Embed=1.69s, Store=0.00s, Total=5.20s, Images/sec=2.31\n",
      "Estimated remaining time: 407.2 minutes\n"
     ]
    },
    {
     "name": "stderr",
     "output_type": "stream",
     "text": [
      "Processing train:  49%|████▊     | 4460/9152 [5:24:11<6:04:09,  4.66s/it] "
     ]
    },
    {
     "name": "stdout",
     "output_type": "stream",
     "text": [
      "\n",
      "Batch 4460/9152: Load=1.65s, Embed=1.69s, Store=0.00s, Total=4.49s, Images/sec=2.67\n",
      "Estimated remaining time: 351.0 minutes\n"
     ]
    },
    {
     "name": "stderr",
     "output_type": "stream",
     "text": [
      "Processing train:  49%|████▉     | 4470/9152 [5:24:56<5:50:52,  4.50s/it]"
     ]
    },
    {
     "name": "stdout",
     "output_type": "stream",
     "text": [
      "\n",
      "Batch 4470/9152: Load=1.75s, Embed=1.71s, Store=0.00s, Total=4.50s, Images/sec=2.66\n",
      "Estimated remaining time: 351.5 minutes\n"
     ]
    },
    {
     "name": "stderr",
     "output_type": "stream",
     "text": [
      "Processing train:  49%|████▉     | 4480/9152 [5:25:42<6:16:38,  4.84s/it]"
     ]
    },
    {
     "name": "stdout",
     "output_type": "stream",
     "text": [
      "\n",
      "Batch 4480/9152: Load=2.97s, Embed=1.72s, Store=0.00s, Total=5.74s, Images/sec=2.09\n",
      "Estimated remaining time: 446.7 minutes\n"
     ]
    },
    {
     "name": "stderr",
     "output_type": "stream",
     "text": [
      "Processing train:  49%|████▉     | 4490/9152 [5:26:32<6:31:26,  5.04s/it]"
     ]
    },
    {
     "name": "stdout",
     "output_type": "stream",
     "text": [
      "\n",
      "Batch 4490/9152: Load=1.80s, Embed=1.72s, Store=0.00s, Total=4.58s, Images/sec=2.62\n",
      "Estimated remaining time: 355.8 minutes\n"
     ]
    },
    {
     "name": "stderr",
     "output_type": "stream",
     "text": [
      "Processing train:  49%|████▉     | 4500/9152 [5:27:40<13:33:55, 10.50s/it]"
     ]
    },
    {
     "name": "stdout",
     "output_type": "stream",
     "text": [
      "\n",
      "Batch 4500/9152: Load=2.56s, Embed=1.70s, Store=0.00s, Total=5.43s, Images/sec=2.21\n",
      "Estimated remaining time: 420.7 minutes\n"
     ]
    },
    {
     "name": "stderr",
     "output_type": "stream",
     "text": [
      "Processing train:  49%|████▉     | 4510/9152 [5:28:30<6:52:19,  5.33s/it] "
     ]
    },
    {
     "name": "stdout",
     "output_type": "stream",
     "text": [
      "\n",
      "Batch 4510/9152: Load=2.49s, Embed=1.70s, Store=0.00s, Total=5.39s, Images/sec=2.23\n",
      "Estimated remaining time: 417.0 minutes\n"
     ]
    },
    {
     "name": "stderr",
     "output_type": "stream",
     "text": [
      "Processing train:  49%|████▉     | 4520/9152 [5:29:25<6:55:18,  5.38s/it]"
     ]
    },
    {
     "name": "stdout",
     "output_type": "stream",
     "text": [
      "\n",
      "Batch 4520/9152: Load=2.25s, Embed=1.74s, Store=0.00s, Total=5.05s, Images/sec=2.38\n",
      "Estimated remaining time: 389.7 minutes\n"
     ]
    },
    {
     "name": "stderr",
     "output_type": "stream",
     "text": [
      "Processing train:  49%|████▉     | 4530/9152 [5:30:19<7:02:29,  5.48s/it]"
     ]
    },
    {
     "name": "stdout",
     "output_type": "stream",
     "text": [
      "\n",
      "Batch 4530/9152: Load=2.63s, Embed=1.71s, Store=0.00s, Total=5.43s, Images/sec=2.21\n",
      "Estimated remaining time: 418.4 minutes\n"
     ]
    },
    {
     "name": "stderr",
     "output_type": "stream",
     "text": [
      "Processing train:  50%|████▉     | 4540/9152 [5:31:27<9:40:36,  7.55s/it] "
     ]
    },
    {
     "name": "stdout",
     "output_type": "stream",
     "text": [
      "\n",
      "Batch 4540/9152: Load=2.48s, Embed=1.70s, Store=0.00s, Total=5.38s, Images/sec=2.23\n",
      "Estimated remaining time: 413.2 minutes\n"
     ]
    },
    {
     "name": "stderr",
     "output_type": "stream",
     "text": [
      "Processing train:  50%|████▉     | 4550/9152 [5:32:40<13:39:08, 10.68s/it]"
     ]
    },
    {
     "name": "stdout",
     "output_type": "stream",
     "text": [
      "\n",
      "Batch 4550/9152: Load=2.52s, Embed=1.71s, Store=0.00s, Total=5.33s, Images/sec=2.25\n",
      "Estimated remaining time: 409.0 minutes\n"
     ]
    },
    {
     "name": "stderr",
     "output_type": "stream",
     "text": [
      "Processing train:  50%|████▉     | 4560/9152 [5:33:36<7:16:11,  5.70s/it] "
     ]
    },
    {
     "name": "stdout",
     "output_type": "stream",
     "text": [
      "\n",
      "Batch 4560/9152: Load=2.33s, Embed=1.64s, Store=0.00s, Total=5.47s, Images/sec=2.19\n",
      "Estimated remaining time: 418.6 minutes\n"
     ]
    },
    {
     "name": "stderr",
     "output_type": "stream",
     "text": [
      "Processing train:  50%|████▉     | 4570/9152 [5:34:30<6:40:17,  5.24s/it]"
     ]
    },
    {
     "name": "stdout",
     "output_type": "stream",
     "text": [
      "\n",
      "Batch 4570/9152: Load=1.85s, Embed=1.65s, Store=0.00s, Total=5.19s, Images/sec=2.31\n",
      "Estimated remaining time: 396.2 minutes\n"
     ]
    },
    {
     "name": "stderr",
     "output_type": "stream",
     "text": [
      "Processing train:  50%|█████     | 4580/9152 [5:35:23<6:45:32,  5.32s/it]"
     ]
    },
    {
     "name": "stdout",
     "output_type": "stream",
     "text": [
      "\n",
      "Batch 4580/9152: Load=2.18s, Embed=1.72s, Store=0.00s, Total=5.10s, Images/sec=2.35\n",
      "Estimated remaining time: 388.7 minutes\n"
     ]
    },
    {
     "name": "stderr",
     "output_type": "stream",
     "text": [
      "Processing train:  50%|█████     | 4590/9152 [5:36:18<7:05:09,  5.59s/it]"
     ]
    },
    {
     "name": "stdout",
     "output_type": "stream",
     "text": [
      "\n",
      "Batch 4590/9152: Load=2.74s, Embed=1.70s, Store=0.00s, Total=5.65s, Images/sec=2.12\n",
      "Estimated remaining time: 429.5 minutes\n"
     ]
    },
    {
     "name": "stderr",
     "output_type": "stream",
     "text": [
      "Processing train:  50%|█████     | 4600/9152 [5:37:31<13:52:37, 10.97s/it]"
     ]
    },
    {
     "name": "stdout",
     "output_type": "stream",
     "text": [
      "\n",
      "Batch 4600/9152: Load=2.72s, Embed=1.75s, Store=0.00s, Total=5.62s, Images/sec=2.13\n",
      "Estimated remaining time: 426.7 minutes\n"
     ]
    },
    {
     "name": "stderr",
     "output_type": "stream",
     "text": [
      "Processing train:  50%|█████     | 4610/9152 [5:38:26<7:11:13,  5.70s/it] "
     ]
    },
    {
     "name": "stdout",
     "output_type": "stream",
     "text": [
      "\n",
      "Batch 4610/9152: Load=2.66s, Embed=1.70s, Store=0.00s, Total=5.62s, Images/sec=2.14\n",
      "Estimated remaining time: 425.1 minutes\n"
     ]
    },
    {
     "name": "stderr",
     "output_type": "stream",
     "text": [
      "Processing train:  50%|█████     | 4620/9152 [5:39:47<13:02:07, 10.35s/it]"
     ]
    },
    {
     "name": "stdout",
     "output_type": "stream",
     "text": [
      "\n",
      "Batch 4620/9152: Load=2.97s, Embed=1.65s, Store=0.00s, Total=5.95s, Images/sec=2.02\n",
      "Estimated remaining time: 449.5 minutes\n"
     ]
    },
    {
     "name": "stderr",
     "output_type": "stream",
     "text": [
      "Processing train:  51%|█████     | 4630/9152 [5:40:34<6:07:57,  4.88s/it] "
     ]
    },
    {
     "name": "stdout",
     "output_type": "stream",
     "text": [
      "\n",
      "Batch 4630/9152: Load=1.94s, Embed=1.66s, Store=0.00s, Total=4.76s, Images/sec=2.52\n",
      "Estimated remaining time: 358.7 minutes\n"
     ]
    },
    {
     "name": "stderr",
     "output_type": "stream",
     "text": [
      "Processing train:  51%|█████     | 4640/9152 [5:41:20<5:38:41,  4.50s/it]"
     ]
    },
    {
     "name": "stdout",
     "output_type": "stream",
     "text": [
      "\n",
      "Batch 4640/9152: Load=1.75s, Embed=1.64s, Store=0.00s, Total=4.55s, Images/sec=2.64\n",
      "Estimated remaining time: 342.3 minutes\n"
     ]
    },
    {
     "name": "stderr",
     "output_type": "stream",
     "text": [
      "Processing train:  51%|█████     | 4650/9152 [5:42:23<12:19:23,  9.85s/it]"
     ]
    },
    {
     "name": "stdout",
     "output_type": "stream",
     "text": [
      "\n",
      "Batch 4650/9152: Load=1.65s, Embed=1.72s, Store=0.00s, Total=4.53s, Images/sec=2.65\n",
      "Estimated remaining time: 339.9 minutes\n"
     ]
    },
    {
     "name": "stderr",
     "output_type": "stream",
     "text": [
      "Processing train:  51%|█████     | 4660/9152 [5:43:08<5:49:13,  4.66s/it] "
     ]
    },
    {
     "name": "stdout",
     "output_type": "stream",
     "text": [
      "\n",
      "Batch 4660/9152: Load=1.69s, Embed=1.65s, Store=0.00s, Total=4.49s, Images/sec=2.67\n",
      "Estimated remaining time: 336.1 minutes\n"
     ]
    },
    {
     "name": "stderr",
     "output_type": "stream",
     "text": [
      "Processing train:  51%|█████     | 4670/9152 [5:43:54<5:40:59,  4.56s/it]"
     ]
    },
    {
     "name": "stdout",
     "output_type": "stream",
     "text": [
      "\n",
      "Batch 4670/9152: Load=1.69s, Embed=1.71s, Store=0.00s, Total=4.52s, Images/sec=2.66\n",
      "Estimated remaining time: 337.5 minutes\n"
     ]
    },
    {
     "name": "stderr",
     "output_type": "stream",
     "text": [
      "Processing train:  51%|█████     | 4680/9152 [5:44:40<5:38:14,  4.54s/it]"
     ]
    },
    {
     "name": "stdout",
     "output_type": "stream",
     "text": [
      "\n",
      "Batch 4680/9152: Load=1.72s, Embed=1.66s, Store=0.00s, Total=4.56s, Images/sec=2.63\n",
      "Estimated remaining time: 339.7 minutes\n"
     ]
    },
    {
     "name": "stderr",
     "output_type": "stream",
     "text": [
      "Processing train:  51%|█████     | 4690/9152 [5:45:25<5:38:11,  4.55s/it]"
     ]
    },
    {
     "name": "stdout",
     "output_type": "stream",
     "text": [
      "\n",
      "Batch 4690/9152: Load=1.64s, Embed=1.63s, Store=0.00s, Total=4.51s, Images/sec=2.66\n",
      "Estimated remaining time: 335.6 minutes\n"
     ]
    },
    {
     "name": "stderr",
     "output_type": "stream",
     "text": [
      "Processing train:  51%|█████▏    | 4700/9152 [5:46:28<12:18:35,  9.95s/it]"
     ]
    },
    {
     "name": "stdout",
     "output_type": "stream",
     "text": [
      "\n",
      "Batch 4700/9152: Load=1.87s, Embed=1.63s, Store=0.00s, Total=4.62s, Images/sec=2.60\n",
      "Estimated remaining time: 342.9 minutes\n"
     ]
    },
    {
     "name": "stderr",
     "output_type": "stream",
     "text": [
      "Processing train:  51%|█████▏    | 4710/9152 [5:47:14<5:49:53,  4.73s/it] "
     ]
    },
    {
     "name": "stdout",
     "output_type": "stream",
     "text": [
      "\n",
      "Batch 4710/9152: Load=1.69s, Embed=1.64s, Store=0.00s, Total=4.51s, Images/sec=2.66\n",
      "Estimated remaining time: 333.5 minutes\n"
     ]
    },
    {
     "name": "stderr",
     "output_type": "stream",
     "text": [
      "Processing train:  52%|█████▏    | 4720/9152 [5:47:59<5:25:37,  4.41s/it]"
     ]
    },
    {
     "name": "stdout",
     "output_type": "stream",
     "text": [
      "\n",
      "Batch 4720/9152: Load=1.54s, Embed=1.62s, Store=0.00s, Total=4.26s, Images/sec=2.82\n",
      "Estimated remaining time: 314.7 minutes\n"
     ]
    },
    {
     "name": "stderr",
     "output_type": "stream",
     "text": [
      "Processing train:  52%|█████▏    | 4730/9152 [5:48:47<5:44:50,  4.68s/it]"
     ]
    },
    {
     "name": "stdout",
     "output_type": "stream",
     "text": [
      "\n",
      "Batch 4730/9152: Load=1.73s, Embed=1.62s, Store=0.00s, Total=4.47s, Images/sec=2.68\n",
      "Estimated remaining time: 329.8 minutes\n"
     ]
    },
    {
     "name": "stderr",
     "output_type": "stream",
     "text": [
      "Processing train:  52%|█████▏    | 4740/9152 [5:49:33<5:32:47,  4.53s/it]"
     ]
    },
    {
     "name": "stdout",
     "output_type": "stream",
     "text": [
      "\n",
      "Batch 4740/9152: Load=1.76s, Embed=1.62s, Store=0.00s, Total=4.56s, Images/sec=2.63\n",
      "Estimated remaining time: 335.6 minutes\n"
     ]
    },
    {
     "name": "stderr",
     "output_type": "stream",
     "text": [
      "Processing train:  52%|█████▏    | 4750/9152 [5:50:37<12:34:56, 10.29s/it]"
     ]
    },
    {
     "name": "stdout",
     "output_type": "stream",
     "text": [
      "\n",
      "Batch 4750/9152: Load=1.71s, Embed=1.62s, Store=0.00s, Total=4.46s, Images/sec=2.69\n",
      "Estimated remaining time: 327.1 minutes\n"
     ]
    },
    {
     "name": "stderr",
     "output_type": "stream",
     "text": [
      "Processing train:  52%|█████▏    | 4760/9152 [5:51:23<5:43:24,  4.69s/it] "
     ]
    },
    {
     "name": "stdout",
     "output_type": "stream",
     "text": [
      "\n",
      "Batch 4760/9152: Load=1.68s, Embed=1.62s, Store=0.00s, Total=4.44s, Images/sec=2.70\n",
      "Estimated remaining time: 325.1 minutes\n"
     ]
    },
    {
     "name": "stderr",
     "output_type": "stream",
     "text": [
      "Processing train:  52%|█████▏    | 4770/9152 [5:52:08<5:28:31,  4.50s/it]"
     ]
    },
    {
     "name": "stdout",
     "output_type": "stream",
     "text": [
      "\n",
      "Batch 4770/9152: Load=1.65s, Embed=1.64s, Store=0.00s, Total=4.41s, Images/sec=2.72\n",
      "Estimated remaining time: 322.4 minutes\n"
     ]
    },
    {
     "name": "stderr",
     "output_type": "stream",
     "text": [
      "Processing train:  52%|█████▏    | 4780/9152 [5:52:56<5:38:16,  4.64s/it]"
     ]
    },
    {
     "name": "stdout",
     "output_type": "stream",
     "text": [
      "\n",
      "Batch 4780/9152: Load=1.64s, Embed=1.66s, Store=0.00s, Total=4.43s, Images/sec=2.71\n",
      "Estimated remaining time: 323.1 minutes\n"
     ]
    },
    {
     "name": "stderr",
     "output_type": "stream",
     "text": [
      "Processing train:  52%|█████▏    | 4790/9152 [5:53:42<5:34:22,  4.60s/it]"
     ]
    },
    {
     "name": "stdout",
     "output_type": "stream",
     "text": [
      "\n",
      "Batch 4790/9152: Load=1.70s, Embed=1.71s, Store=0.00s, Total=4.53s, Images/sec=2.65\n",
      "Estimated remaining time: 329.4 minutes\n"
     ]
    },
    {
     "name": "stderr",
     "output_type": "stream",
     "text": [
      "Processing train:  52%|█████▏    | 4800/9152 [5:54:46<12:05:08, 10.00s/it]"
     ]
    },
    {
     "name": "stdout",
     "output_type": "stream",
     "text": [
      "\n",
      "Batch 4800/9152: Load=1.75s, Embed=1.69s, Store=0.00s, Total=4.63s, Images/sec=2.59\n",
      "Estimated remaining time: 336.0 minutes\n"
     ]
    },
    {
     "name": "stderr",
     "output_type": "stream",
     "text": [
      "Processing train:  53%|█████▎    | 4830/9152 [5:57:05<5:37:50,  4.69s/it]"
     ]
    },
    {
     "name": "stdout",
     "output_type": "stream",
     "text": [
      "\n",
      "Batch 4830/9152: Load=1.64s, Embed=1.62s, Store=0.00s, Total=4.41s, Images/sec=2.72\n",
      "Estimated remaining time: 317.7 minutes\n"
     ]
    },
    {
     "name": "stderr",
     "output_type": "stream",
     "text": [
      "Processing train:  53%|█████▎    | 4840/9152 [5:57:51<5:30:11,  4.59s/it]"
     ]
    },
    {
     "name": "stdout",
     "output_type": "stream",
     "text": [
      "\n",
      "Batch 4840/9152: Load=1.72s, Embed=1.69s, Store=0.00s, Total=4.66s, Images/sec=2.58\n",
      "Estimated remaining time: 334.9 minutes\n"
     ]
    },
    {
     "name": "stderr",
     "output_type": "stream",
     "text": [
      "Processing train:  53%|█████▎    | 4850/9152 [5:58:56<12:10:01, 10.18s/it]"
     ]
    },
    {
     "name": "stdout",
     "output_type": "stream",
     "text": [
      "\n",
      "Batch 4850/9152: Load=1.63s, Embed=1.73s, Store=0.00s, Total=4.57s, Images/sec=2.62\n",
      "Estimated remaining time: 328.0 minutes\n"
     ]
    },
    {
     "name": "stderr",
     "output_type": "stream",
     "text": [
      "Processing train:  53%|█████▎    | 4860/9152 [5:59:41<5:34:36,  4.68s/it] "
     ]
    },
    {
     "name": "stdout",
     "output_type": "stream",
     "text": [
      "\n",
      "Batch 4860/9152: Load=1.70s, Embed=1.70s, Store=0.00s, Total=4.52s, Images/sec=2.65\n",
      "Estimated remaining time: 323.3 minutes\n"
     ]
    },
    {
     "name": "stderr",
     "output_type": "stream",
     "text": [
      "Processing train:  53%|█████▎    | 4870/9152 [6:00:27<5:20:29,  4.49s/it]"
     ]
    },
    {
     "name": "stdout",
     "output_type": "stream",
     "text": [
      "\n",
      "Batch 4870/9152: Load=1.57s, Embed=1.65s, Store=0.00s, Total=4.34s, Images/sec=2.76\n",
      "Estimated remaining time: 310.0 minutes\n"
     ]
    },
    {
     "name": "stderr",
     "output_type": "stream",
     "text": [
      "Processing train:  53%|█████▎    | 4880/9152 [6:01:13<5:19:00,  4.48s/it]"
     ]
    },
    {
     "name": "stdout",
     "output_type": "stream",
     "text": [
      "\n",
      "Batch 4880/9152: Load=1.64s, Embed=1.63s, Store=0.00s, Total=4.40s, Images/sec=2.73\n",
      "Estimated remaining time: 313.1 minutes\n"
     ]
    },
    {
     "name": "stderr",
     "output_type": "stream",
     "text": [
      "Processing train:  54%|█████▎    | 4900/9152 [6:03:06<12:26:38, 10.54s/it]"
     ]
    },
    {
     "name": "stdout",
     "output_type": "stream",
     "text": [
      "\n",
      "Batch 4900/9152: Load=2.87s, Embed=1.72s, Store=0.00s, Total=5.75s, Images/sec=2.09\n",
      "Estimated remaining time: 407.4 minutes\n"
     ]
    },
    {
     "name": "stderr",
     "output_type": "stream",
     "text": [
      "Processing train:  54%|█████▎    | 4910/9152 [6:03:54<6:06:42,  5.19s/it] "
     ]
    },
    {
     "name": "stdout",
     "output_type": "stream",
     "text": [
      "\n",
      "Batch 4910/9152: Load=2.38s, Embed=1.64s, Store=0.00s, Total=5.14s, Images/sec=2.33\n",
      "Estimated remaining time: 363.3 minutes\n"
     ]
    },
    {
     "name": "stderr",
     "output_type": "stream",
     "text": [
      "Processing train:  54%|█████▍    | 4920/9152 [6:04:46<6:34:14,  5.59s/it]"
     ]
    },
    {
     "name": "stdout",
     "output_type": "stream",
     "text": [
      "\n",
      "Batch 4920/9152: Load=3.60s, Embed=1.74s, Store=0.00s, Total=6.47s, Images/sec=1.86\n",
      "Estimated remaining time: 456.3 minutes\n"
     ]
    },
    {
     "name": "stderr",
     "output_type": "stream",
     "text": [
      "Processing train:  54%|█████▍    | 4930/9152 [6:05:36<5:43:41,  4.88s/it]"
     ]
    },
    {
     "name": "stdout",
     "output_type": "stream",
     "text": [
      "\n",
      "Batch 4930/9152: Load=1.81s, Embed=1.70s, Store=0.00s, Total=4.66s, Images/sec=2.57\n",
      "Estimated remaining time: 328.1 minutes\n"
     ]
    },
    {
     "name": "stderr",
     "output_type": "stream",
     "text": [
      "Processing train:  54%|█████▍    | 4940/9152 [6:06:22<5:25:07,  4.63s/it]"
     ]
    },
    {
     "name": "stdout",
     "output_type": "stream",
     "text": [
      "\n",
      "Batch 4940/9152: Load=1.75s, Embed=1.72s, Store=0.00s, Total=4.60s, Images/sec=2.61\n",
      "Estimated remaining time: 323.0 minutes\n"
     ]
    },
    {
     "name": "stderr",
     "output_type": "stream",
     "text": [
      "Processing train:  54%|█████▍    | 4950/9152 [6:07:28<12:02:04, 10.31s/it]"
     ]
    },
    {
     "name": "stdout",
     "output_type": "stream",
     "text": [
      "\n",
      "Batch 4950/9152: Load=1.72s, Embed=1.73s, Store=0.00s, Total=4.63s, Images/sec=2.59\n",
      "Estimated remaining time: 324.3 minutes\n"
     ]
    },
    {
     "name": "stderr",
     "output_type": "stream",
     "text": [
      "Processing train:  54%|█████▍    | 4960/9152 [6:08:14<5:37:20,  4.83s/it] "
     ]
    },
    {
     "name": "stdout",
     "output_type": "stream",
     "text": [
      "\n",
      "Batch 4960/9152: Load=1.75s, Embed=1.72s, Store=0.00s, Total=4.73s, Images/sec=2.54\n",
      "Estimated remaining time: 330.5 minutes\n"
     ]
    },
    {
     "name": "stderr",
     "output_type": "stream",
     "text": [
      "Processing train:  54%|█████▍    | 4970/9152 [6:09:01<5:24:22,  4.65s/it]"
     ]
    },
    {
     "name": "stdout",
     "output_type": "stream",
     "text": [
      "\n",
      "Batch 4970/9152: Load=1.72s, Embed=1.73s, Store=0.00s, Total=4.59s, Images/sec=2.61\n",
      "Estimated remaining time: 319.9 minutes\n"
     ]
    },
    {
     "name": "stderr",
     "output_type": "stream",
     "text": [
      "Processing train:  54%|█████▍    | 4980/9152 [6:09:46<5:10:01,  4.46s/it]"
     ]
    },
    {
     "name": "stdout",
     "output_type": "stream",
     "text": [
      "\n",
      "Batch 4980/9152: Load=1.73s, Embed=1.67s, Store=0.00s, Total=4.56s, Images/sec=2.63\n",
      "Estimated remaining time: 316.7 minutes\n"
     ]
    },
    {
     "name": "stderr",
     "output_type": "stream",
     "text": [
      "Processing train:  55%|█████▍    | 4990/9152 [6:10:32<5:12:57,  4.51s/it]"
     ]
    },
    {
     "name": "stdout",
     "output_type": "stream",
     "text": [
      "\n",
      "Batch 4990/9152: Load=1.59s, Embed=1.62s, Store=0.00s, Total=4.35s, Images/sec=2.76\n",
      "Estimated remaining time: 301.9 minutes\n"
     ]
    },
    {
     "name": "stderr",
     "output_type": "stream",
     "text": [
      "Processing train:  55%|█████▍    | 5000/9152 [6:11:36<11:46:01, 10.20s/it]"
     ]
    },
    {
     "name": "stdout",
     "output_type": "stream",
     "text": [
      "\n",
      "Batch 5000/9152: Load=1.68s, Embed=1.63s, Store=0.00s, Total=4.48s, Images/sec=2.68\n",
      "Estimated remaining time: 309.8 minutes\n"
     ]
    },
    {
     "name": "stderr",
     "output_type": "stream",
     "text": [
      "Processing train:  55%|█████▍    | 5010/9152 [6:12:21<5:20:12,  4.64s/it] "
     ]
    },
    {
     "name": "stdout",
     "output_type": "stream",
     "text": [
      "\n",
      "Batch 5010/9152: Load=1.60s, Embed=1.63s, Store=0.00s, Total=4.39s, Images/sec=2.73\n",
      "Estimated remaining time: 303.1 minutes\n"
     ]
    },
    {
     "name": "stderr",
     "output_type": "stream",
     "text": [
      "Processing train:  55%|█████▍    | 5020/9152 [6:13:08<5:21:48,  4.67s/it]"
     ]
    },
    {
     "name": "stdout",
     "output_type": "stream",
     "text": [
      "\n",
      "Batch 5020/9152: Load=1.83s, Embed=1.63s, Store=0.00s, Total=4.61s, Images/sec=2.60\n",
      "Estimated remaining time: 317.4 minutes\n"
     ]
    },
    {
     "name": "stderr",
     "output_type": "stream",
     "text": [
      "Processing train:  55%|█████▍    | 5030/9152 [6:13:55<5:18:53,  4.64s/it]"
     ]
    },
    {
     "name": "stdout",
     "output_type": "stream",
     "text": [
      "\n",
      "Batch 5030/9152: Load=1.87s, Embed=1.66s, Store=0.00s, Total=4.68s, Images/sec=2.57\n",
      "Estimated remaining time: 321.2 minutes\n"
     ]
    },
    {
     "name": "stderr",
     "output_type": "stream",
     "text": [
      "Processing train:  55%|█████▌    | 5040/9152 [6:14:42<5:22:31,  4.71s/it]"
     ]
    },
    {
     "name": "stdout",
     "output_type": "stream",
     "text": [
      "\n",
      "Batch 5040/9152: Load=2.00s, Embed=1.65s, Store=0.00s, Total=4.84s, Images/sec=2.48\n",
      "Estimated remaining time: 331.8 minutes\n"
     ]
    },
    {
     "name": "stderr",
     "output_type": "stream",
     "text": [
      "Processing train:  55%|█████▌    | 5050/9152 [6:15:47<11:47:07, 10.34s/it]"
     ]
    },
    {
     "name": "stdout",
     "output_type": "stream",
     "text": [
      "\n",
      "Batch 5050/9152: Load=1.77s, Embed=1.62s, Store=0.00s, Total=4.55s, Images/sec=2.64\n",
      "Estimated remaining time: 311.1 minutes\n"
     ]
    },
    {
     "name": "stderr",
     "output_type": "stream",
     "text": [
      "Processing train:  55%|█████▌    | 5060/9152 [6:16:32<5:20:52,  4.70s/it] "
     ]
    },
    {
     "name": "stdout",
     "output_type": "stream",
     "text": [
      "\n",
      "Batch 5060/9152: Load=1.67s, Embed=1.63s, Store=0.00s, Total=4.46s, Images/sec=2.69\n",
      "Estimated remaining time: 304.4 minutes\n"
     ]
    },
    {
     "name": "stderr",
     "output_type": "stream",
     "text": [
      "Processing train:  55%|█████▌    | 5070/9152 [6:17:17<5:07:53,  4.53s/it]"
     ]
    },
    {
     "name": "stdout",
     "output_type": "stream",
     "text": [
      "\n",
      "Batch 5070/9152: Load=1.72s, Embed=1.62s, Store=0.00s, Total=4.50s, Images/sec=2.67\n",
      "Estimated remaining time: 305.9 minutes\n"
     ]
    },
    {
     "name": "stderr",
     "output_type": "stream",
     "text": [
      "Processing train:  56%|█████▌    | 5080/9152 [6:18:04<5:12:15,  4.60s/it]"
     ]
    },
    {
     "name": "stdout",
     "output_type": "stream",
     "text": [
      "\n",
      "Batch 5080/9152: Load=1.57s, Embed=1.64s, Store=0.00s, Total=4.50s, Images/sec=2.67\n",
      "Estimated remaining time: 305.1 minutes\n"
     ]
    },
    {
     "name": "stderr",
     "output_type": "stream",
     "text": [
      "Processing train:  56%|█████▌    | 5090/9152 [6:18:49<5:07:17,  4.54s/it]"
     ]
    },
    {
     "name": "stdout",
     "output_type": "stream",
     "text": [
      "\n",
      "Batch 5090/9152: Load=1.69s, Embed=1.61s, Store=0.00s, Total=4.48s, Images/sec=2.68\n",
      "Estimated remaining time: 303.2 minutes\n"
     ]
    },
    {
     "name": "stderr",
     "output_type": "stream",
     "text": [
      "Processing train:  56%|█████▌    | 5100/9152 [6:19:54<11:38:11, 10.34s/it]"
     ]
    },
    {
     "name": "stdout",
     "output_type": "stream",
     "text": [
      "\n",
      "Batch 5100/9152: Load=1.79s, Embed=1.61s, Store=0.00s, Total=4.57s, Images/sec=2.63\n",
      "Estimated remaining time: 308.3 minutes\n"
     ]
    },
    {
     "name": "stderr",
     "output_type": "stream",
     "text": [
      "Processing train:  56%|█████▌    | 5110/9152 [6:20:40<5:17:49,  4.72s/it] "
     ]
    },
    {
     "name": "stdout",
     "output_type": "stream",
     "text": [
      "\n",
      "Batch 5110/9152: Load=1.60s, Embed=1.65s, Store=0.00s, Total=4.40s, Images/sec=2.72\n",
      "Estimated remaining time: 296.7 minutes\n"
     ]
    },
    {
     "name": "stderr",
     "output_type": "stream",
     "text": [
      "Processing train:  56%|█████▌    | 5120/9152 [6:21:25<5:05:35,  4.55s/it]"
     ]
    },
    {
     "name": "stdout",
     "output_type": "stream",
     "text": [
      "\n",
      "Batch 5120/9152: Load=1.79s, Embed=1.61s, Store=0.00s, Total=4.57s, Images/sec=2.63\n",
      "Estimated remaining time: 306.8 minutes\n"
     ]
    },
    {
     "name": "stderr",
     "output_type": "stream",
     "text": [
      "Processing train:  56%|█████▌    | 5130/9152 [6:22:12<5:20:25,  4.78s/it]"
     ]
    },
    {
     "name": "stdout",
     "output_type": "stream",
     "text": [
      "\n",
      "Batch 5130/9152: Load=1.75s, Embed=1.62s, Store=0.00s, Total=4.58s, Images/sec=2.62\n",
      "Estimated remaining time: 306.7 minutes\n"
     ]
    },
    {
     "name": "stderr",
     "output_type": "stream",
     "text": [
      "Processing train:  56%|█████▌    | 5140/9152 [6:22:57<5:00:53,  4.50s/it]"
     ]
    },
    {
     "name": "stdout",
     "output_type": "stream",
     "text": [
      "\n",
      "Batch 5140/9152: Load=1.70s, Embed=1.61s, Store=0.00s, Total=4.53s, Images/sec=2.65\n",
      "Estimated remaining time: 302.9 minutes\n"
     ]
    },
    {
     "name": "stderr",
     "output_type": "stream",
     "text": [
      "Processing train:  56%|█████▋    | 5150/9152 [6:24:01<11:19:28, 10.19s/it]"
     ]
    },
    {
     "name": "stdout",
     "output_type": "stream",
     "text": [
      "\n",
      "Batch 5150/9152: Load=1.74s, Embed=1.60s, Store=0.00s, Total=4.50s, Images/sec=2.67\n",
      "Estimated remaining time: 299.9 minutes\n"
     ]
    },
    {
     "name": "stderr",
     "output_type": "stream",
     "text": [
      "Processing train:  56%|█████▋    | 5160/9152 [6:24:46<5:14:47,  4.73s/it] "
     ]
    },
    {
     "name": "stdout",
     "output_type": "stream",
     "text": [
      "\n",
      "Batch 5160/9152: Load=1.68s, Embed=1.63s, Store=0.00s, Total=4.47s, Images/sec=2.68\n",
      "Estimated remaining time: 297.5 minutes\n"
     ]
    },
    {
     "name": "stderr",
     "output_type": "stream",
     "text": [
      "Processing train:  56%|█████▋    | 5170/9152 [6:25:32<5:02:35,  4.56s/it]"
     ]
    },
    {
     "name": "stdout",
     "output_type": "stream",
     "text": [
      "\n",
      "Batch 5170/9152: Load=1.75s, Embed=1.62s, Store=0.00s, Total=4.59s, Images/sec=2.62\n",
      "Estimated remaining time: 304.4 minutes\n"
     ]
    },
    {
     "name": "stderr",
     "output_type": "stream",
     "text": [
      "Processing train:  57%|█████▋    | 5180/9152 [6:26:17<5:01:25,  4.55s/it]"
     ]
    },
    {
     "name": "stdout",
     "output_type": "stream",
     "text": [
      "\n",
      "Batch 5180/9152: Load=1.73s, Embed=1.61s, Store=0.00s, Total=4.64s, Images/sec=2.59\n",
      "Estimated remaining time: 307.0 minutes\n"
     ]
    },
    {
     "name": "stderr",
     "output_type": "stream",
     "text": [
      "Processing train:  57%|█████▋    | 5190/9152 [6:27:04<5:09:36,  4.69s/it]"
     ]
    },
    {
     "name": "stdout",
     "output_type": "stream",
     "text": [
      "\n",
      "Batch 5190/9152: Load=1.77s, Embed=1.62s, Store=0.00s, Total=4.65s, Images/sec=2.58\n",
      "Estimated remaining time: 307.4 minutes\n"
     ]
    },
    {
     "name": "stderr",
     "output_type": "stream",
     "text": [
      "Processing train:  57%|█████▋    | 5200/9152 [6:28:08<11:21:22, 10.34s/it]"
     ]
    },
    {
     "name": "stdout",
     "output_type": "stream",
     "text": [
      "\n",
      "Batch 5200/9152: Load=1.71s, Embed=1.62s, Store=0.00s, Total=4.52s, Images/sec=2.66\n",
      "Estimated remaining time: 297.5 minutes\n"
     ]
    },
    {
     "name": "stderr",
     "output_type": "stream",
     "text": [
      "Processing train:  57%|█████▋    | 5210/9152 [6:28:55<5:13:01,  4.76s/it] "
     ]
    },
    {
     "name": "stdout",
     "output_type": "stream",
     "text": [
      "\n",
      "Batch 5210/9152: Load=1.69s, Embed=1.63s, Store=0.00s, Total=4.57s, Images/sec=2.63\n",
      "Estimated remaining time: 300.3 minutes\n"
     ]
    },
    {
     "name": "stderr",
     "output_type": "stream",
     "text": [
      "Processing train:  57%|█████▋    | 5220/9152 [6:29:40<4:57:31,  4.54s/it]"
     ]
    },
    {
     "name": "stdout",
     "output_type": "stream",
     "text": [
      "\n",
      "Batch 5220/9152: Load=1.68s, Embed=1.62s, Store=0.00s, Total=4.58s, Images/sec=2.62\n",
      "Estimated remaining time: 299.9 minutes\n"
     ]
    },
    {
     "name": "stderr",
     "output_type": "stream",
     "text": [
      "Processing train:  57%|█████▋    | 5230/9152 [6:30:26<4:55:32,  4.52s/it]"
     ]
    },
    {
     "name": "stdout",
     "output_type": "stream",
     "text": [
      "\n",
      "Batch 5230/9152: Load=1.59s, Embed=1.61s, Store=0.00s, Total=4.38s, Images/sec=2.74\n",
      "Estimated remaining time: 286.6 minutes\n"
     ]
    },
    {
     "name": "stderr",
     "output_type": "stream",
     "text": [
      "Processing train:  57%|█████▋    | 5240/9152 [6:31:11<4:59:36,  4.60s/it]"
     ]
    },
    {
     "name": "stdout",
     "output_type": "stream",
     "text": [
      "\n",
      "Batch 5240/9152: Load=1.81s, Embed=1.61s, Store=0.00s, Total=4.61s, Images/sec=2.60\n",
      "Estimated remaining time: 300.4 minutes\n"
     ]
    },
    {
     "name": "stderr",
     "output_type": "stream",
     "text": [
      "Processing train:  57%|█████▋    | 5250/9152 [6:32:18<11:43:29, 10.82s/it]"
     ]
    },
    {
     "name": "stdout",
     "output_type": "stream",
     "text": [
      "\n",
      "Batch 5250/9152: Load=1.70s, Embed=1.64s, Store=0.00s, Total=4.54s, Images/sec=2.64\n",
      "Estimated remaining time: 295.3 minutes\n"
     ]
    },
    {
     "name": "stderr",
     "output_type": "stream",
     "text": [
      "Processing train:  57%|█████▋    | 5260/9152 [6:33:05<5:08:54,  4.76s/it] "
     ]
    },
    {
     "name": "stdout",
     "output_type": "stream",
     "text": [
      "\n",
      "Batch 5260/9152: Load=1.69s, Embed=1.62s, Store=0.00s, Total=4.50s, Images/sec=2.67\n",
      "Estimated remaining time: 291.8 minutes\n"
     ]
    },
    {
     "name": "stderr",
     "output_type": "stream",
     "text": [
      "Processing train:  58%|█████▊    | 5270/9152 [6:33:50<4:57:20,  4.60s/it]"
     ]
    },
    {
     "name": "stdout",
     "output_type": "stream",
     "text": [
      "\n",
      "Batch 5270/9152: Load=1.74s, Embed=1.65s, Store=0.00s, Total=4.70s, Images/sec=2.55\n",
      "Estimated remaining time: 304.2 minutes\n"
     ]
    },
    {
     "name": "stderr",
     "output_type": "stream",
     "text": [
      "Processing train:  58%|█████▊    | 5280/9152 [6:34:36<4:58:22,  4.62s/it]"
     ]
    },
    {
     "name": "stdout",
     "output_type": "stream",
     "text": [
      "\n",
      "Batch 5280/9152: Load=1.64s, Embed=1.74s, Store=0.00s, Total=4.63s, Images/sec=2.59\n",
      "Estimated remaining time: 299.0 minutes\n"
     ]
    },
    {
     "name": "stderr",
     "output_type": "stream",
     "text": [
      "Processing train:  58%|█████▊    | 5290/9152 [6:35:22<4:50:21,  4.51s/it]"
     ]
    },
    {
     "name": "stdout",
     "output_type": "stream",
     "text": [
      "\n",
      "Batch 5290/9152: Load=1.62s, Embed=1.62s, Store=0.00s, Total=4.44s, Images/sec=2.70\n",
      "Estimated remaining time: 285.9 minutes\n"
     ]
    },
    {
     "name": "stderr",
     "output_type": "stream",
     "text": [
      "Processing train:  58%|█████▊    | 5300/9152 [6:36:27<11:16:52, 10.54s/it]"
     ]
    },
    {
     "name": "stdout",
     "output_type": "stream",
     "text": [
      "\n",
      "Batch 5300/9152: Load=1.66s, Embed=1.62s, Store=0.00s, Total=4.48s, Images/sec=2.68\n",
      "Estimated remaining time: 287.4 minutes\n"
     ]
    },
    {
     "name": "stderr",
     "output_type": "stream",
     "text": [
      "Processing train:  58%|█████▊    | 5310/9152 [6:37:13<4:59:31,  4.68s/it] "
     ]
    },
    {
     "name": "stdout",
     "output_type": "stream",
     "text": [
      "\n",
      "Batch 5310/9152: Load=1.69s, Embed=1.61s, Store=0.00s, Total=4.52s, Images/sec=2.65\n",
      "Estimated remaining time: 289.4 minutes\n"
     ]
    },
    {
     "name": "stderr",
     "output_type": "stream",
     "text": [
      "Processing train:  58%|█████▊    | 5320/9152 [6:37:58<4:52:38,  4.58s/it]"
     ]
    },
    {
     "name": "stdout",
     "output_type": "stream",
     "text": [
      "\n",
      "Batch 5320/9152: Load=1.61s, Embed=1.62s, Store=0.00s, Total=4.50s, Images/sec=2.67\n",
      "Estimated remaining time: 287.3 minutes\n"
     ]
    },
    {
     "name": "stderr",
     "output_type": "stream",
     "text": [
      "Processing train:  58%|█████▊    | 5330/9152 [6:38:44<4:48:22,  4.53s/it]"
     ]
    },
    {
     "name": "stdout",
     "output_type": "stream",
     "text": [
      "\n",
      "Batch 5330/9152: Load=1.69s, Embed=1.64s, Store=0.00s, Total=4.54s, Images/sec=2.64\n",
      "Estimated remaining time: 289.4 minutes\n"
     ]
    },
    {
     "name": "stderr",
     "output_type": "stream",
     "text": [
      "Processing train:  58%|█████▊    | 5340/9152 [6:39:30<4:52:35,  4.61s/it]"
     ]
    },
    {
     "name": "stdout",
     "output_type": "stream",
     "text": [
      "\n",
      "Batch 5340/9152: Load=1.70s, Embed=1.63s, Store=0.00s, Total=4.67s, Images/sec=2.57\n",
      "Estimated remaining time: 296.5 minutes\n"
     ]
    },
    {
     "name": "stderr",
     "output_type": "stream",
     "text": [
      "Processing train:  58%|█████▊    | 5350/9152 [6:40:37<11:22:18, 10.77s/it]"
     ]
    },
    {
     "name": "stdout",
     "output_type": "stream",
     "text": [
      "\n",
      "Batch 5350/9152: Load=1.77s, Embed=1.62s, Store=0.00s, Total=4.67s, Images/sec=2.57\n",
      "Estimated remaining time: 295.8 minutes\n"
     ]
    },
    {
     "name": "stderr",
     "output_type": "stream",
     "text": [
      "Processing train:  59%|█████▊    | 5360/9152 [6:41:23<5:00:45,  4.76s/it] "
     ]
    },
    {
     "name": "stdout",
     "output_type": "stream",
     "text": [
      "\n",
      "Batch 5360/9152: Load=1.77s, Embed=1.63s, Store=0.00s, Total=4.61s, Images/sec=2.60\n",
      "Estimated remaining time: 291.6 minutes\n"
     ]
    },
    {
     "name": "stderr",
     "output_type": "stream",
     "text": [
      "Processing train:  59%|█████▊    | 5370/9152 [6:42:09<4:48:07,  4.57s/it]"
     ]
    },
    {
     "name": "stdout",
     "output_type": "stream",
     "text": [
      "\n",
      "Batch 5370/9152: Load=1.67s, Embed=1.63s, Store=0.00s, Total=4.52s, Images/sec=2.65\n",
      "Estimated remaining time: 285.2 minutes\n"
     ]
    },
    {
     "name": "stderr",
     "output_type": "stream",
     "text": [
      "Processing train:  59%|█████▉    | 5380/9152 [6:42:55<4:49:47,  4.61s/it]"
     ]
    },
    {
     "name": "stdout",
     "output_type": "stream",
     "text": [
      "\n",
      "Batch 5380/9152: Load=1.66s, Embed=1.62s, Store=0.00s, Total=4.62s, Images/sec=2.60\n",
      "Estimated remaining time: 290.2 minutes\n"
     ]
    },
    {
     "name": "stderr",
     "output_type": "stream",
     "text": [
      "Processing train:  59%|█████▉    | 5390/9152 [6:43:41<4:47:16,  4.58s/it]"
     ]
    },
    {
     "name": "stdout",
     "output_type": "stream",
     "text": [
      "\n",
      "Batch 5390/9152: Load=1.69s, Embed=1.62s, Store=0.00s, Total=4.61s, Images/sec=2.60\n",
      "Estimated remaining time: 289.2 minutes\n"
     ]
    },
    {
     "name": "stderr",
     "output_type": "stream",
     "text": [
      "Processing train:  59%|█████▉    | 5400/9152 [6:44:48<11:20:41, 10.89s/it]"
     ]
    },
    {
     "name": "stdout",
     "output_type": "stream",
     "text": [
      "\n",
      "Batch 5400/9152: Load=1.63s, Embed=1.65s, Store=0.00s, Total=4.53s, Images/sec=2.65\n",
      "Estimated remaining time: 283.4 minutes\n"
     ]
    },
    {
     "name": "stderr",
     "output_type": "stream",
     "text": [
      "Processing train:  59%|█████▉    | 5410/9152 [6:45:34<4:56:10,  4.75s/it] "
     ]
    },
    {
     "name": "stdout",
     "output_type": "stream",
     "text": [
      "\n",
      "Batch 5410/9152: Load=1.72s, Embed=1.64s, Store=0.00s, Total=4.61s, Images/sec=2.60\n",
      "Estimated remaining time: 287.6 minutes\n"
     ]
    },
    {
     "name": "stderr",
     "output_type": "stream",
     "text": [
      "Processing train:  59%|█████▉    | 5420/9152 [6:46:20<4:45:08,  4.58s/it]"
     ]
    },
    {
     "name": "stdout",
     "output_type": "stream",
     "text": [
      "\n",
      "Batch 5420/9152: Load=1.71s, Embed=1.65s, Store=0.00s, Total=4.59s, Images/sec=2.62\n",
      "Estimated remaining time: 285.2 minutes\n"
     ]
    },
    {
     "name": "stderr",
     "output_type": "stream",
     "text": [
      "Processing train:  59%|█████▉    | 5430/9152 [6:47:05<4:44:21,  4.58s/it]"
     ]
    },
    {
     "name": "stdout",
     "output_type": "stream",
     "text": [
      "\n",
      "Batch 5430/9152: Load=1.61s, Embed=1.64s, Store=0.00s, Total=4.58s, Images/sec=2.62\n",
      "Estimated remaining time: 283.8 minutes\n"
     ]
    },
    {
     "name": "stderr",
     "output_type": "stream",
     "text": [
      "Processing train:  59%|█████▉    | 5440/9152 [6:47:51<4:41:40,  4.55s/it]"
     ]
    },
    {
     "name": "stdout",
     "output_type": "stream",
     "text": [
      "\n",
      "Batch 5440/9152: Load=1.74s, Embed=1.61s, Store=0.00s, Total=4.59s, Images/sec=2.61\n",
      "Estimated remaining time: 284.0 minutes\n"
     ]
    },
    {
     "name": "stderr",
     "output_type": "stream",
     "text": [
      "Processing train:  60%|█████▉    | 5450/9152 [6:48:58<11:10:47, 10.87s/it]"
     ]
    },
    {
     "name": "stdout",
     "output_type": "stream",
     "text": [
      "\n",
      "Batch 5450/9152: Load=1.71s, Embed=1.61s, Store=0.00s, Total=4.62s, Images/sec=2.60\n",
      "Estimated remaining time: 285.3 minutes\n"
     ]
    },
    {
     "name": "stderr",
     "output_type": "stream",
     "text": [
      "Processing train:  60%|█████▉    | 5460/9152 [6:49:45<4:53:51,  4.78s/it] "
     ]
    },
    {
     "name": "stdout",
     "output_type": "stream",
     "text": [
      "\n",
      "Batch 5460/9152: Load=1.75s, Embed=1.62s, Store=0.00s, Total=4.61s, Images/sec=2.60\n",
      "Estimated remaining time: 283.7 minutes\n"
     ]
    },
    {
     "name": "stderr",
     "output_type": "stream",
     "text": [
      "Processing train:  60%|█████▉    | 5470/9152 [6:50:30<4:41:41,  4.59s/it]"
     ]
    },
    {
     "name": "stdout",
     "output_type": "stream",
     "text": [
      "\n",
      "Batch 5470/9152: Load=1.75s, Embed=1.64s, Store=0.00s, Total=4.62s, Images/sec=2.60\n",
      "Estimated remaining time: 283.3 minutes\n"
     ]
    },
    {
     "name": "stderr",
     "output_type": "stream",
     "text": [
      "Processing train:  60%|█████▉    | 5480/9152 [6:51:17<4:46:50,  4.69s/it]"
     ]
    },
    {
     "name": "stdout",
     "output_type": "stream",
     "text": [
      "\n",
      "Batch 5480/9152: Load=1.71s, Embed=1.64s, Store=0.00s, Total=4.58s, Images/sec=2.62\n",
      "Estimated remaining time: 280.3 minutes\n"
     ]
    },
    {
     "name": "stderr",
     "output_type": "stream",
     "text": [
      "Processing train:  60%|█████▉    | 5490/9152 [6:52:03<4:38:52,  4.57s/it]"
     ]
    },
    {
     "name": "stdout",
     "output_type": "stream",
     "text": [
      "\n",
      "Batch 5490/9152: Load=1.53s, Embed=1.62s, Store=0.00s, Total=4.39s, Images/sec=2.74\n",
      "Estimated remaining time: 267.6 minutes\n"
     ]
    },
    {
     "name": "stderr",
     "output_type": "stream",
     "text": [
      "Processing train:  60%|██████    | 5500/9152 [6:53:12<11:12:43, 11.05s/it]"
     ]
    },
    {
     "name": "stdout",
     "output_type": "stream",
     "text": [
      "\n",
      "Batch 5500/9152: Load=1.65s, Embed=1.65s, Store=0.00s, Total=4.61s, Images/sec=2.60\n",
      "Estimated remaining time: 280.5 minutes\n"
     ]
    },
    {
     "name": "stderr",
     "output_type": "stream",
     "text": [
      "Processing train:  60%|██████    | 5510/9152 [6:53:59<4:50:14,  4.78s/it] "
     ]
    },
    {
     "name": "stdout",
     "output_type": "stream",
     "text": [
      "\n",
      "Batch 5510/9152: Load=1.68s, Embed=1.65s, Store=0.00s, Total=4.57s, Images/sec=2.63\n",
      "Estimated remaining time: 277.1 minutes\n"
     ]
    },
    {
     "name": "stderr",
     "output_type": "stream",
     "text": [
      "Processing train:  60%|██████    | 5520/9152 [6:54:44<4:36:32,  4.57s/it]"
     ]
    },
    {
     "name": "stdout",
     "output_type": "stream",
     "text": [
      "\n",
      "Batch 5520/9152: Load=1.68s, Embed=1.62s, Store=0.00s, Total=4.56s, Images/sec=2.63\n",
      "Estimated remaining time: 276.0 minutes\n"
     ]
    },
    {
     "name": "stderr",
     "output_type": "stream",
     "text": [
      "Processing train:  60%|██████    | 5530/9152 [6:55:31<4:42:47,  4.68s/it]"
     ]
    },
    {
     "name": "stdout",
     "output_type": "stream",
     "text": [
      "\n",
      "Batch 5530/9152: Load=1.84s, Embed=1.70s, Store=0.00s, Total=4.80s, Images/sec=2.50\n",
      "Estimated remaining time: 289.5 minutes\n"
     ]
    },
    {
     "name": "stderr",
     "output_type": "stream",
     "text": [
      "Processing train:  61%|██████    | 5540/9152 [6:56:17<4:39:56,  4.65s/it]"
     ]
    },
    {
     "name": "stdout",
     "output_type": "stream",
     "text": [
      "\n",
      "Batch 5540/9152: Load=1.72s, Embed=1.69s, Store=0.00s, Total=4.77s, Images/sec=2.52\n",
      "Estimated remaining time: 287.1 minutes\n"
     ]
    },
    {
     "name": "stderr",
     "output_type": "stream",
     "text": [
      "Processing train:  61%|██████    | 5550/9152 [6:57:25<11:24:07, 11.40s/it]"
     ]
    },
    {
     "name": "stdout",
     "output_type": "stream",
     "text": [
      "\n",
      "Batch 5550/9152: Load=1.54s, Embed=1.61s, Store=0.00s, Total=4.52s, Images/sec=2.65\n",
      "Estimated remaining time: 271.6 minutes\n"
     ]
    },
    {
     "name": "stderr",
     "output_type": "stream",
     "text": [
      "Processing train:  61%|██████    | 5560/9152 [6:58:12<4:45:10,  4.76s/it] "
     ]
    },
    {
     "name": "stdout",
     "output_type": "stream",
     "text": [
      "\n",
      "Batch 5560/9152: Load=1.74s, Embed=1.61s, Store=0.00s, Total=4.65s, Images/sec=2.58\n",
      "Estimated remaining time: 278.6 minutes\n"
     ]
    },
    {
     "name": "stderr",
     "output_type": "stream",
     "text": [
      "Processing train:  61%|██████    | 5570/9152 [6:58:58<4:35:54,  4.62s/it]"
     ]
    },
    {
     "name": "stdout",
     "output_type": "stream",
     "text": [
      "\n",
      "Batch 5570/9152: Load=1.72s, Embed=1.61s, Store=0.00s, Total=4.68s, Images/sec=2.57\n",
      "Estimated remaining time: 279.3 minutes\n"
     ]
    },
    {
     "name": "stderr",
     "output_type": "stream",
     "text": [
      "Processing train:  61%|██████    | 5580/9152 [6:59:44<4:36:16,  4.64s/it]"
     ]
    },
    {
     "name": "stdout",
     "output_type": "stream",
     "text": [
      "\n",
      "Batch 5580/9152: Load=1.73s, Embed=1.62s, Store=0.00s, Total=4.63s, Images/sec=2.59\n",
      "Estimated remaining time: 275.8 minutes\n"
     ]
    },
    {
     "name": "stderr",
     "output_type": "stream",
     "text": [
      "Processing train:  61%|██████    | 5590/9152 [7:00:31<4:45:20,  4.81s/it]"
     ]
    },
    {
     "name": "stdout",
     "output_type": "stream",
     "text": [
      "\n",
      "Batch 5590/9152: Load=1.76s, Embed=1.61s, Store=0.00s, Total=4.76s, Images/sec=2.52\n",
      "Estimated remaining time: 282.7 minutes\n"
     ]
    },
    {
     "name": "stderr",
     "output_type": "stream",
     "text": [
      "Processing train:  61%|██████    | 5600/9152 [7:01:41<11:20:39, 11.50s/it]"
     ]
    },
    {
     "name": "stdout",
     "output_type": "stream",
     "text": [
      "\n",
      "Batch 5600/9152: Load=1.75s, Embed=1.68s, Store=0.00s, Total=4.71s, Images/sec=2.55\n",
      "Estimated remaining time: 278.6 minutes\n"
     ]
    },
    {
     "name": "stderr",
     "output_type": "stream",
     "text": [
      "Processing train:  61%|██████▏   | 5610/9152 [7:02:29<4:50:12,  4.92s/it] "
     ]
    },
    {
     "name": "stdout",
     "output_type": "stream",
     "text": [
      "\n",
      "Batch 5610/9152: Load=1.63s, Embed=1.69s, Store=0.00s, Total=4.58s, Images/sec=2.62\n",
      "Estimated remaining time: 270.4 minutes\n"
     ]
    },
    {
     "name": "stderr",
     "output_type": "stream",
     "text": [
      "Processing train:  61%|██████▏   | 5620/9152 [7:03:16<4:36:44,  4.70s/it]"
     ]
    },
    {
     "name": "stdout",
     "output_type": "stream",
     "text": [
      "\n",
      "Batch 5620/9152: Load=1.73s, Embed=1.71s, Store=0.00s, Total=4.71s, Images/sec=2.55\n",
      "Estimated remaining time: 277.4 minutes\n"
     ]
    },
    {
     "name": "stderr",
     "output_type": "stream",
     "text": [
      "Processing train:  62%|██████▏   | 5630/9152 [7:04:02<4:30:36,  4.61s/it]"
     ]
    },
    {
     "name": "stdout",
     "output_type": "stream",
     "text": [
      "\n",
      "Batch 5630/9152: Load=1.58s, Embed=1.70s, Store=0.00s, Total=4.56s, Images/sec=2.63\n",
      "Estimated remaining time: 267.8 minutes\n"
     ]
    },
    {
     "name": "stderr",
     "output_type": "stream",
     "text": [
      "Processing train:  62%|██████▏   | 5640/9152 [7:04:49<4:38:15,  4.75s/it]"
     ]
    },
    {
     "name": "stdout",
     "output_type": "stream",
     "text": [
      "\n",
      "Batch 5640/9152: Load=1.46s, Embed=1.65s, Store=0.00s, Total=4.38s, Images/sec=2.74\n",
      "Estimated remaining time: 256.4 minutes\n"
     ]
    },
    {
     "name": "stderr",
     "output_type": "stream",
     "text": [
      "Processing train:  62%|██████▏   | 5650/9152 [7:06:00<11:21:21, 11.67s/it]"
     ]
    },
    {
     "name": "stdout",
     "output_type": "stream",
     "text": [
      "\n",
      "Batch 5650/9152: Load=1.63s, Embed=1.62s, Store=0.00s, Total=4.58s, Images/sec=2.62\n",
      "Estimated remaining time: 267.4 minutes\n"
     ]
    },
    {
     "name": "stderr",
     "output_type": "stream",
     "text": [
      "Processing train:  62%|██████▏   | 5660/9152 [7:06:48<4:45:12,  4.90s/it] "
     ]
    },
    {
     "name": "stdout",
     "output_type": "stream",
     "text": [
      "\n",
      "Batch 5660/9152: Load=1.67s, Embed=1.71s, Store=0.00s, Total=4.65s, Images/sec=2.58\n",
      "Estimated remaining time: 270.5 minutes\n"
     ]
    },
    {
     "name": "stderr",
     "output_type": "stream",
     "text": [
      "Processing train:  62%|██████▏   | 5670/9152 [7:07:37<4:58:49,  5.15s/it]"
     ]
    },
    {
     "name": "stdout",
     "output_type": "stream",
     "text": [
      "\n",
      "Batch 5670/9152: Load=2.78s, Embed=1.69s, Store=0.00s, Total=5.79s, Images/sec=2.07\n",
      "Estimated remaining time: 336.1 minutes\n"
     ]
    },
    {
     "name": "stderr",
     "output_type": "stream",
     "text": [
      "Processing train:  62%|██████▏   | 5680/9152 [7:08:31<5:23:26,  5.59s/it]"
     ]
    },
    {
     "name": "stdout",
     "output_type": "stream",
     "text": [
      "\n",
      "Batch 5680/9152: Load=2.74s, Embed=1.72s, Store=0.00s, Total=5.74s, Images/sec=2.09\n",
      "Estimated remaining time: 332.1 minutes\n"
     ]
    },
    {
     "name": "stderr",
     "output_type": "stream",
     "text": [
      "Processing train:  62%|██████▏   | 5690/9152 [7:09:24<4:45:47,  4.95s/it]"
     ]
    },
    {
     "name": "stdout",
     "output_type": "stream",
     "text": [
      "\n",
      "Batch 5690/9152: Load=1.52s, Embed=1.70s, Store=0.00s, Total=4.50s, Images/sec=2.67\n",
      "Estimated remaining time: 259.7 minutes\n"
     ]
    },
    {
     "name": "stderr",
     "output_type": "stream",
     "text": [
      "Processing train:  62%|██████▏   | 5700/9152 [7:10:42<11:35:42, 12.09s/it]"
     ]
    },
    {
     "name": "stdout",
     "output_type": "stream",
     "text": [
      "\n",
      "Batch 5700/9152: Load=2.73s, Embed=1.70s, Store=0.00s, Total=5.73s, Images/sec=2.09\n",
      "Estimated remaining time: 329.7 minutes\n"
     ]
    },
    {
     "name": "stderr",
     "output_type": "stream",
     "text": [
      "Processing train:  62%|██████▏   | 5710/9152 [7:11:35<5:16:11,  5.51s/it] "
     ]
    },
    {
     "name": "stdout",
     "output_type": "stream",
     "text": [
      "\n",
      "Batch 5710/9152: Load=1.86s, Embed=1.65s, Store=0.00s, Total=4.83s, Images/sec=2.48\n",
      "Estimated remaining time: 277.2 minutes\n"
     ]
    },
    {
     "name": "stderr",
     "output_type": "stream",
     "text": [
      "Processing train:  62%|██████▎   | 5720/9152 [7:12:30<5:05:29,  5.34s/it]"
     ]
    },
    {
     "name": "stdout",
     "output_type": "stream",
     "text": [
      "\n",
      "Batch 5720/9152: Load=1.58s, Embed=1.70s, Store=0.00s, Total=4.57s, Images/sec=2.62\n",
      "Estimated remaining time: 261.6 minutes\n"
     ]
    },
    {
     "name": "stderr",
     "output_type": "stream",
     "text": [
      "Processing train:  63%|██████▎   | 5730/9152 [7:13:19<4:51:47,  5.12s/it]"
     ]
    },
    {
     "name": "stdout",
     "output_type": "stream",
     "text": [
      "\n",
      "Batch 5730/9152: Load=1.75s, Embed=1.75s, Store=0.00s, Total=4.84s, Images/sec=2.48\n",
      "Estimated remaining time: 276.0 minutes\n"
     ]
    },
    {
     "name": "stderr",
     "output_type": "stream",
     "text": [
      "Processing train:  63%|██████▎   | 5740/9152 [7:14:07<4:27:31,  4.70s/it]"
     ]
    },
    {
     "name": "stdout",
     "output_type": "stream",
     "text": [
      "\n",
      "Batch 5740/9152: Load=1.65s, Embed=1.67s, Store=0.00s, Total=4.61s, Images/sec=2.60\n",
      "Estimated remaining time: 262.1 minutes\n"
     ]
    },
    {
     "name": "stderr",
     "output_type": "stream",
     "text": [
      "Processing train:  63%|██████▎   | 5750/9152 [7:15:16<10:54:14, 11.54s/it]"
     ]
    },
    {
     "name": "stdout",
     "output_type": "stream",
     "text": [
      "\n",
      "Batch 5750/9152: Load=1.73s, Embed=1.73s, Store=0.00s, Total=4.74s, Images/sec=2.53\n",
      "Estimated remaining time: 268.6 minutes\n"
     ]
    },
    {
     "name": "stderr",
     "output_type": "stream",
     "text": [
      "Processing train:  63%|██████▎   | 5760/9152 [7:16:04<4:36:22,  4.89s/it] "
     ]
    },
    {
     "name": "stdout",
     "output_type": "stream",
     "text": [
      "\n",
      "Batch 5760/9152: Load=1.67s, Embed=1.63s, Store=0.00s, Total=4.65s, Images/sec=2.58\n",
      "Estimated remaining time: 262.9 minutes\n"
     ]
    },
    {
     "name": "stderr",
     "output_type": "stream",
     "text": [
      "Processing train:  63%|██████▎   | 5770/9152 [7:16:51<4:22:01,  4.65s/it]"
     ]
    },
    {
     "name": "stdout",
     "output_type": "stream",
     "text": [
      "\n",
      "Batch 5770/9152: Load=1.70s, Embed=1.62s, Store=0.00s, Total=4.62s, Images/sec=2.60\n",
      "Estimated remaining time: 260.6 minutes\n"
     ]
    },
    {
     "name": "stderr",
     "output_type": "stream",
     "text": [
      "Processing train:  63%|██████▎   | 5780/9152 [7:17:38<4:25:08,  4.72s/it]"
     ]
    },
    {
     "name": "stdout",
     "output_type": "stream",
     "text": [
      "\n",
      "Batch 5780/9152: Load=1.67s, Embed=1.64s, Store=0.00s, Total=4.64s, Images/sec=2.58\n",
      "Estimated remaining time: 260.9 minutes\n"
     ]
    },
    {
     "name": "stderr",
     "output_type": "stream",
     "text": [
      "Processing train:  63%|██████▎   | 5790/9152 [7:18:24<4:21:28,  4.67s/it]"
     ]
    },
    {
     "name": "stdout",
     "output_type": "stream",
     "text": [
      "\n",
      "Batch 5790/9152: Load=1.76s, Embed=1.62s, Store=0.00s, Total=4.68s, Images/sec=2.56\n",
      "Estimated remaining time: 262.3 minutes\n"
     ]
    },
    {
     "name": "stderr",
     "output_type": "stream",
     "text": [
      "Processing train:  63%|██████▎   | 5800/9152 [7:19:33<10:37:20, 11.41s/it]"
     ]
    },
    {
     "name": "stdout",
     "output_type": "stream",
     "text": [
      "\n",
      "Batch 5800/9152: Load=1.63s, Embed=1.63s, Store=0.00s, Total=4.57s, Images/sec=2.62\n",
      "Estimated remaining time: 255.4 minutes\n"
     ]
    },
    {
     "name": "stderr",
     "output_type": "stream",
     "text": [
      "Processing train:  63%|██████▎   | 5810/9152 [7:20:21<4:34:12,  4.92s/it] "
     ]
    },
    {
     "name": "stdout",
     "output_type": "stream",
     "text": [
      "\n",
      "Batch 5810/9152: Load=1.74s, Embed=1.70s, Store=0.00s, Total=4.73s, Images/sec=2.54\n",
      "Estimated remaining time: 263.6 minutes\n"
     ]
    },
    {
     "name": "stderr",
     "output_type": "stream",
     "text": [
      "Processing train:  64%|██████▎   | 5820/9152 [7:21:08<4:23:08,  4.74s/it]"
     ]
    },
    {
     "name": "stdout",
     "output_type": "stream",
     "text": [
      "\n",
      "Batch 5820/9152: Load=1.68s, Embed=1.71s, Store=0.00s, Total=4.75s, Images/sec=2.52\n",
      "Estimated remaining time: 263.9 minutes\n"
     ]
    },
    {
     "name": "stderr",
     "output_type": "stream",
     "text": [
      "Processing train:  64%|██████▎   | 5830/9152 [7:21:55<4:21:52,  4.73s/it]"
     ]
    },
    {
     "name": "stdout",
     "output_type": "stream",
     "text": [
      "\n",
      "Batch 5830/9152: Load=1.66s, Embed=1.70s, Store=0.00s, Total=4.73s, Images/sec=2.54\n",
      "Estimated remaining time: 261.9 minutes\n"
     ]
    },
    {
     "name": "stderr",
     "output_type": "stream",
     "text": [
      "Processing train:  64%|██████▍   | 5840/9152 [7:22:43<4:21:18,  4.73s/it]"
     ]
    },
    {
     "name": "stdout",
     "output_type": "stream",
     "text": [
      "\n",
      "Batch 5840/9152: Load=1.67s, Embed=1.69s, Store=0.00s, Total=4.70s, Images/sec=2.55\n",
      "Estimated remaining time: 259.6 minutes\n"
     ]
    },
    {
     "name": "stderr",
     "output_type": "stream",
     "text": [
      "Processing train:  64%|██████▍   | 5850/9152 [7:23:53<10:42:19, 11.67s/it]"
     ]
    },
    {
     "name": "stdout",
     "output_type": "stream",
     "text": [
      "\n",
      "Batch 5850/9152: Load=1.66s, Embed=1.68s, Store=0.00s, Total=4.71s, Images/sec=2.55\n",
      "Estimated remaining time: 259.0 minutes\n"
     ]
    },
    {
     "name": "stderr",
     "output_type": "stream",
     "text": [
      "Processing train:  64%|██████▍   | 5860/9152 [7:24:41<4:31:45,  4.95s/it] "
     ]
    },
    {
     "name": "stdout",
     "output_type": "stream",
     "text": [
      "\n",
      "Batch 5860/9152: Load=1.75s, Embed=1.68s, Store=0.00s, Total=4.75s, Images/sec=2.53\n",
      "Estimated remaining time: 260.7 minutes\n"
     ]
    },
    {
     "name": "stderr",
     "output_type": "stream",
     "text": [
      "Processing train:  64%|██████▍   | 5870/9152 [7:25:28<4:19:06,  4.74s/it]"
     ]
    },
    {
     "name": "stdout",
     "output_type": "stream",
     "text": [
      "\n",
      "Batch 5870/9152: Load=1.75s, Embed=1.64s, Store=0.00s, Total=4.78s, Images/sec=2.51\n",
      "Estimated remaining time: 261.5 minutes\n"
     ]
    },
    {
     "name": "stderr",
     "output_type": "stream",
     "text": [
      "Processing train:  64%|██████▍   | 5880/9152 [7:26:15<4:16:28,  4.70s/it]"
     ]
    },
    {
     "name": "stdout",
     "output_type": "stream",
     "text": [
      "\n",
      "Batch 5880/9152: Load=1.76s, Embed=1.61s, Store=0.00s, Total=4.74s, Images/sec=2.53\n",
      "Estimated remaining time: 258.5 minutes\n"
     ]
    },
    {
     "name": "stderr",
     "output_type": "stream",
     "text": [
      "Processing train:  64%|██████▍   | 5890/9152 [7:27:04<4:18:36,  4.76s/it]"
     ]
    },
    {
     "name": "stdout",
     "output_type": "stream",
     "text": [
      "\n",
      "Batch 5890/9152: Load=1.67s, Embed=1.73s, Store=0.00s, Total=4.72s, Images/sec=2.55\n",
      "Estimated remaining time: 256.3 minutes\n"
     ]
    },
    {
     "name": "stderr",
     "output_type": "stream",
     "text": [
      "Processing train:  64%|██████▍   | 5900/9152 [7:28:13<10:28:53, 11.60s/it]"
     ]
    },
    {
     "name": "stdout",
     "output_type": "stream",
     "text": [
      "\n",
      "Batch 5900/9152: Load=1.63s, Embed=1.61s, Store=0.00s, Total=4.61s, Images/sec=2.60\n",
      "Estimated remaining time: 250.1 minutes\n"
     ]
    },
    {
     "name": "stderr",
     "output_type": "stream",
     "text": [
      "Processing train:  65%|██████▍   | 5910/9152 [7:29:01<4:27:35,  4.95s/it] "
     ]
    },
    {
     "name": "stdout",
     "output_type": "stream",
     "text": [
      "\n",
      "Batch 5910/9152: Load=1.84s, Embed=1.63s, Store=0.00s, Total=4.80s, Images/sec=2.50\n",
      "Estimated remaining time: 259.5 minutes\n"
     ]
    },
    {
     "name": "stderr",
     "output_type": "stream",
     "text": [
      "Processing train:  65%|██████▍   | 5920/9152 [7:29:49<4:16:06,  4.75s/it]"
     ]
    },
    {
     "name": "stdout",
     "output_type": "stream",
     "text": [
      "\n",
      "Batch 5920/9152: Load=1.75s, Embed=1.65s, Store=0.00s, Total=4.77s, Images/sec=2.51\n",
      "Estimated remaining time: 257.1 minutes\n"
     ]
    },
    {
     "name": "stderr",
     "output_type": "stream",
     "text": [
      "Processing train:  65%|██████▍   | 5930/9152 [7:30:36<4:13:04,  4.71s/it]"
     ]
    },
    {
     "name": "stdout",
     "output_type": "stream",
     "text": [
      "\n",
      "Batch 5930/9152: Load=1.70s, Embed=1.64s, Store=0.00s, Total=4.74s, Images/sec=2.53\n",
      "Estimated remaining time: 254.3 minutes\n"
     ]
    },
    {
     "name": "stderr",
     "output_type": "stream",
     "text": [
      "Processing train:  65%|██████▌   | 5950/9152 [7:32:36<10:29:25, 11.79s/it]"
     ]
    },
    {
     "name": "stdout",
     "output_type": "stream",
     "text": [
      "\n",
      "Batch 5950/9152: Load=1.68s, Embed=1.62s, Store=0.00s, Total=4.67s, Images/sec=2.57\n",
      "Estimated remaining time: 249.4 minutes\n"
     ]
    },
    {
     "name": "stderr",
     "output_type": "stream",
     "text": [
      "Processing train:  65%|██████▌   | 5960/9152 [7:33:23<4:22:03,  4.93s/it] "
     ]
    },
    {
     "name": "stdout",
     "output_type": "stream",
     "text": [
      "\n",
      "Batch 5960/9152: Load=1.70s, Embed=1.63s, Store=0.00s, Total=4.77s, Images/sec=2.52\n",
      "Estimated remaining time: 253.8 minutes\n"
     ]
    },
    {
     "name": "stderr",
     "output_type": "stream",
     "text": [
      "Processing train:  65%|██████▌   | 5970/9152 [7:34:10<4:09:01,  4.70s/it]"
     ]
    },
    {
     "name": "stdout",
     "output_type": "stream",
     "text": [
      "\n",
      "Batch 5970/9152: Load=1.78s, Embed=1.65s, Store=0.00s, Total=4.78s, Images/sec=2.51\n",
      "Estimated remaining time: 253.5 minutes\n"
     ]
    },
    {
     "name": "stderr",
     "output_type": "stream",
     "text": [
      "Processing train:  65%|██████▌   | 5980/9152 [7:34:57<4:07:16,  4.68s/it]"
     ]
    },
    {
     "name": "stdout",
     "output_type": "stream",
     "text": [
      "\n",
      "Batch 5980/9152: Load=1.70s, Embed=1.64s, Store=0.00s, Total=4.67s, Images/sec=2.57\n",
      "Estimated remaining time: 246.8 minutes\n"
     ]
    },
    {
     "name": "stderr",
     "output_type": "stream",
     "text": [
      "Processing train:  65%|██████▌   | 5990/9152 [7:35:44<4:08:15,  4.71s/it]"
     ]
    },
    {
     "name": "stdout",
     "output_type": "stream",
     "text": [
      "\n",
      "Batch 5990/9152: Load=1.71s, Embed=1.62s, Store=0.00s, Total=4.69s, Images/sec=2.56\n",
      "Estimated remaining time: 247.1 minutes\n"
     ]
    },
    {
     "name": "stderr",
     "output_type": "stream",
     "text": [
      "Processing train:  66%|██████▌   | 6000/9152 [7:36:54<10:19:38, 11.80s/it]"
     ]
    },
    {
     "name": "stdout",
     "output_type": "stream",
     "text": [
      "\n",
      "Batch 6000/9152: Load=1.69s, Embed=1.80s, Store=0.00s, Total=4.87s, Images/sec=2.47\n",
      "Estimated remaining time: 255.7 minutes\n"
     ]
    },
    {
     "name": "stderr",
     "output_type": "stream",
     "text": [
      "Processing train:  66%|██████▌   | 6010/9152 [7:37:41<4:16:34,  4.90s/it] "
     ]
    },
    {
     "name": "stdout",
     "output_type": "stream",
     "text": [
      "\n",
      "Batch 6010/9152: Load=1.55s, Embed=1.62s, Store=0.00s, Total=4.60s, Images/sec=2.61\n",
      "Estimated remaining time: 241.1 minutes\n"
     ]
    },
    {
     "name": "stderr",
     "output_type": "stream",
     "text": [
      "Processing train:  66%|██████▌   | 6020/9152 [7:38:29<4:04:31,  4.68s/it]"
     ]
    },
    {
     "name": "stdout",
     "output_type": "stream",
     "text": [
      "\n",
      "Batch 6020/9152: Load=1.73s, Embed=1.62s, Store=0.00s, Total=4.69s, Images/sec=2.56\n",
      "Estimated remaining time: 244.6 minutes\n"
     ]
    },
    {
     "name": "stderr",
     "output_type": "stream",
     "text": [
      "Processing train:  66%|██████▌   | 6030/9152 [7:39:16<4:04:33,  4.70s/it]"
     ]
    },
    {
     "name": "stdout",
     "output_type": "stream",
     "text": [
      "\n",
      "Batch 6030/9152: Load=1.76s, Embed=1.61s, Store=0.00s, Total=4.70s, Images/sec=2.55\n",
      "Estimated remaining time: 244.8 minutes\n"
     ]
    },
    {
     "name": "stderr",
     "output_type": "stream",
     "text": [
      "Processing train:  66%|██████▌   | 6040/9152 [7:40:03<4:07:42,  4.78s/it]"
     ]
    },
    {
     "name": "stdout",
     "output_type": "stream",
     "text": [
      "\n",
      "Batch 6040/9152: Load=1.71s, Embed=1.65s, Store=0.00s, Total=4.85s, Images/sec=2.47\n",
      "Estimated remaining time: 251.7 minutes\n"
     ]
    },
    {
     "name": "stderr",
     "output_type": "stream",
     "text": [
      "Processing train:  66%|██████▌   | 6050/9152 [7:41:15<10:16:57, 11.93s/it]"
     ]
    },
    {
     "name": "stdout",
     "output_type": "stream",
     "text": [
      "\n",
      "Batch 6050/9152: Load=1.66s, Embed=1.63s, Store=0.00s, Total=4.64s, Images/sec=2.59\n",
      "Estimated remaining time: 239.7 minutes\n"
     ]
    },
    {
     "name": "stderr",
     "output_type": "stream",
     "text": [
      "Processing train:  66%|██████▌   | 6060/9152 [7:42:01<4:09:26,  4.84s/it] "
     ]
    },
    {
     "name": "stdout",
     "output_type": "stream",
     "text": [
      "\n",
      "Batch 6060/9152: Load=1.65s, Embed=1.63s, Store=0.00s, Total=4.64s, Images/sec=2.59\n",
      "Estimated remaining time: 239.0 minutes\n"
     ]
    },
    {
     "name": "stderr",
     "output_type": "stream",
     "text": [
      "Processing train:  66%|██████▋   | 6070/9152 [7:42:49<4:08:17,  4.83s/it]"
     ]
    },
    {
     "name": "stdout",
     "output_type": "stream",
     "text": [
      "\n",
      "Batch 6070/9152: Load=1.69s, Embed=1.73s, Store=0.00s, Total=4.84s, Images/sec=2.48\n",
      "Estimated remaining time: 248.8 minutes\n"
     ]
    },
    {
     "name": "stderr",
     "output_type": "stream",
     "text": [
      "Processing train:  66%|██████▋   | 6080/9152 [7:43:37<4:01:44,  4.72s/it]"
     ]
    },
    {
     "name": "stdout",
     "output_type": "stream",
     "text": [
      "\n",
      "Batch 6080/9152: Load=1.79s, Embed=1.63s, Store=0.00s, Total=4.89s, Images/sec=2.45\n",
      "Estimated remaining time: 250.4 minutes\n"
     ]
    },
    {
     "name": "stderr",
     "output_type": "stream",
     "text": [
      "Processing train:  67%|██████▋   | 6090/9152 [7:44:25<4:06:14,  4.83s/it]"
     ]
    },
    {
     "name": "stdout",
     "output_type": "stream",
     "text": [
      "\n",
      "Batch 6090/9152: Load=1.77s, Embed=1.61s, Store=0.00s, Total=4.86s, Images/sec=2.47\n",
      "Estimated remaining time: 248.1 minutes\n"
     ]
    },
    {
     "name": "stderr",
     "output_type": "stream",
     "text": [
      "Processing train:  67%|██████▋   | 6100/9152 [7:45:36<10:10:48, 12.01s/it]"
     ]
    },
    {
     "name": "stdout",
     "output_type": "stream",
     "text": [
      "\n",
      "Batch 6100/9152: Load=1.62s, Embed=1.63s, Store=0.00s, Total=4.61s, Images/sec=2.60\n",
      "Estimated remaining time: 234.7 minutes\n"
     ]
    },
    {
     "name": "stderr",
     "output_type": "stream",
     "text": [
      "Processing train:  67%|██████▋   | 6110/9152 [7:46:25<4:12:02,  4.97s/it] "
     ]
    },
    {
     "name": "stdout",
     "output_type": "stream",
     "text": [
      "\n",
      "Batch 6110/9152: Load=1.64s, Embed=1.62s, Store=0.00s, Total=4.69s, Images/sec=2.56\n",
      "Estimated remaining time: 237.7 minutes\n"
     ]
    },
    {
     "name": "stderr",
     "output_type": "stream",
     "text": [
      "Processing train:  67%|██████▋   | 6120/9152 [7:47:12<3:59:00,  4.73s/it]"
     ]
    },
    {
     "name": "stdout",
     "output_type": "stream",
     "text": [
      "\n",
      "Batch 6120/9152: Load=1.76s, Embed=1.65s, Store=0.00s, Total=4.78s, Images/sec=2.51\n",
      "Estimated remaining time: 241.5 minutes\n"
     ]
    },
    {
     "name": "stderr",
     "output_type": "stream",
     "text": [
      "Processing train:  67%|██████▋   | 6130/9152 [7:48:01<4:09:07,  4.95s/it]"
     ]
    },
    {
     "name": "stdout",
     "output_type": "stream",
     "text": [
      "\n",
      "Batch 6130/9152: Load=1.64s, Embed=1.65s, Store=0.00s, Total=4.69s, Images/sec=2.56\n",
      "Estimated remaining time: 236.3 minutes\n"
     ]
    },
    {
     "name": "stderr",
     "output_type": "stream",
     "text": [
      "Processing train:  67%|██████▋   | 6140/9152 [7:48:48<3:58:58,  4.76s/it]"
     ]
    },
    {
     "name": "stdout",
     "output_type": "stream",
     "text": [
      "\n",
      "Batch 6140/9152: Load=1.82s, Embed=1.64s, Store=0.00s, Total=4.85s, Images/sec=2.48\n",
      "Estimated remaining time: 243.2 minutes\n"
     ]
    },
    {
     "name": "stderr",
     "output_type": "stream",
     "text": [
      "Processing train:  67%|██████▋   | 6150/9152 [7:50:01<10:16:33, 12.32s/it]"
     ]
    },
    {
     "name": "stdout",
     "output_type": "stream",
     "text": [
      "\n",
      "Batch 6150/9152: Load=1.71s, Embed=1.62s, Store=0.00s, Total=4.79s, Images/sec=2.51\n",
      "Estimated remaining time: 239.6 minutes\n"
     ]
    },
    {
     "name": "stderr",
     "output_type": "stream",
     "text": [
      "Processing train:  67%|██████▋   | 6160/9152 [7:50:49<4:09:53,  5.01s/it] "
     ]
    },
    {
     "name": "stdout",
     "output_type": "stream",
     "text": [
      "\n",
      "Batch 6160/9152: Load=1.76s, Embed=1.63s, Store=0.00s, Total=4.82s, Images/sec=2.49\n",
      "Estimated remaining time: 240.3 minutes\n"
     ]
    },
    {
     "name": "stderr",
     "output_type": "stream",
     "text": [
      "Processing train:  67%|██████▋   | 6170/9152 [7:51:36<3:54:50,  4.73s/it]"
     ]
    },
    {
     "name": "stdout",
     "output_type": "stream",
     "text": [
      "\n",
      "Batch 6170/9152: Load=1.65s, Embed=1.61s, Store=0.00s, Total=4.64s, Images/sec=2.59\n",
      "Estimated remaining time: 230.4 minutes\n"
     ]
    },
    {
     "name": "stderr",
     "output_type": "stream",
     "text": [
      "Processing train:  68%|██████▊   | 6180/9152 [7:52:24<3:56:23,  4.77s/it]"
     ]
    },
    {
     "name": "stdout",
     "output_type": "stream",
     "text": [
      "\n",
      "Batch 6180/9152: Load=1.69s, Embed=1.66s, Store=0.00s, Total=4.71s, Images/sec=2.55\n",
      "Estimated remaining time: 233.5 minutes\n"
     ]
    },
    {
     "name": "stderr",
     "output_type": "stream",
     "text": [
      "Processing train:  68%|██████▊   | 6190/9152 [7:53:11<3:53:41,  4.73s/it]"
     ]
    },
    {
     "name": "stdout",
     "output_type": "stream",
     "text": [
      "\n",
      "Batch 6190/9152: Load=1.67s, Embed=1.62s, Store=0.00s, Total=4.66s, Images/sec=2.57\n",
      "Estimated remaining time: 230.3 minutes\n"
     ]
    },
    {
     "name": "stderr",
     "output_type": "stream",
     "text": [
      "Processing train:  68%|██████▊   | 6200/9152 [7:54:26<10:04:57, 12.30s/it]"
     ]
    },
    {
     "name": "stdout",
     "output_type": "stream",
     "text": [
      "\n",
      "Batch 6200/9152: Load=1.58s, Embed=1.63s, Store=0.00s, Total=4.62s, Images/sec=2.60\n",
      "Estimated remaining time: 227.3 minutes\n"
     ]
    },
    {
     "name": "stderr",
     "output_type": "stream",
     "text": [
      "Processing train:  68%|██████▊   | 6210/9152 [7:55:13<4:00:36,  4.91s/it] "
     ]
    },
    {
     "name": "stdout",
     "output_type": "stream",
     "text": [
      "\n",
      "Batch 6210/9152: Load=1.61s, Embed=1.63s, Store=0.00s, Total=4.63s, Images/sec=2.59\n",
      "Estimated remaining time: 227.1 minutes\n"
     ]
    },
    {
     "name": "stderr",
     "output_type": "stream",
     "text": [
      "Processing train:  68%|██████▊   | 6220/9152 [7:56:00<3:52:59,  4.77s/it]"
     ]
    },
    {
     "name": "stdout",
     "output_type": "stream",
     "text": [
      "\n",
      "Batch 6220/9152: Load=1.73s, Embed=1.62s, Store=0.00s, Total=4.74s, Images/sec=2.53\n",
      "Estimated remaining time: 231.8 minutes\n"
     ]
    },
    {
     "name": "stderr",
     "output_type": "stream",
     "text": [
      "Processing train:  68%|██████▊   | 6230/9152 [7:56:48<3:49:41,  4.72s/it]"
     ]
    },
    {
     "name": "stdout",
     "output_type": "stream",
     "text": [
      "\n",
      "Batch 6230/9152: Load=1.68s, Embed=1.62s, Store=0.00s, Total=4.69s, Images/sec=2.56\n",
      "Estimated remaining time: 228.5 minutes\n"
     ]
    },
    {
     "name": "stderr",
     "output_type": "stream",
     "text": [
      "Processing train:  68%|██████▊   | 6240/9152 [7:57:36<3:52:40,  4.79s/it]"
     ]
    },
    {
     "name": "stdout",
     "output_type": "stream",
     "text": [
      "\n",
      "Batch 6240/9152: Load=1.71s, Embed=1.64s, Store=0.00s, Total=4.85s, Images/sec=2.47\n",
      "Estimated remaining time: 235.6 minutes\n"
     ]
    },
    {
     "name": "stderr",
     "output_type": "stream",
     "text": [
      "Processing train:  68%|██████▊   | 6250/9152 [7:58:53<10:54:29, 13.53s/it]"
     ]
    },
    {
     "name": "stdout",
     "output_type": "stream",
     "text": [
      "\n",
      "Batch 6250/9152: Load=2.58s, Embed=1.62s, Store=0.00s, Total=5.66s, Images/sec=2.12\n",
      "Estimated remaining time: 273.6 minutes\n"
     ]
    },
    {
     "name": "stderr",
     "output_type": "stream",
     "text": [
      "Processing train:  68%|██████▊   | 6260/9152 [7:59:43<4:02:25,  5.03s/it] "
     ]
    },
    {
     "name": "stdout",
     "output_type": "stream",
     "text": [
      "\n",
      "Batch 6260/9152: Load=1.57s, Embed=1.64s, Store=0.00s, Total=4.67s, Images/sec=2.57\n",
      "Estimated remaining time: 224.9 minutes\n"
     ]
    },
    {
     "name": "stderr",
     "output_type": "stream",
     "text": [
      "Processing train:  69%|██████▊   | 6270/9152 [8:00:31<3:51:36,  4.82s/it]"
     ]
    },
    {
     "name": "stdout",
     "output_type": "stream",
     "text": [
      "\n",
      "Batch 6270/9152: Load=1.67s, Embed=1.70s, Store=0.00s, Total=4.77s, Images/sec=2.52\n",
      "Estimated remaining time: 229.2 minutes\n"
     ]
    },
    {
     "name": "stderr",
     "output_type": "stream",
     "text": [
      "Processing train:  69%|██████▊   | 6280/9152 [8:01:19<3:49:59,  4.80s/it]"
     ]
    },
    {
     "name": "stdout",
     "output_type": "stream",
     "text": [
      "\n",
      "Batch 6280/9152: Load=1.66s, Embed=1.68s, Store=0.00s, Total=4.76s, Images/sec=2.52\n",
      "Estimated remaining time: 228.1 minutes\n"
     ]
    },
    {
     "name": "stderr",
     "output_type": "stream",
     "text": [
      "Processing train:  69%|██████▊   | 6290/9152 [8:02:07<3:49:42,  4.82s/it]"
     ]
    },
    {
     "name": "stdout",
     "output_type": "stream",
     "text": [
      "\n",
      "Batch 6290/9152: Load=1.67s, Embed=1.68s, Store=0.00s, Total=4.84s, Images/sec=2.48\n",
      "Estimated remaining time: 230.8 minutes\n"
     ]
    },
    {
     "name": "stderr",
     "output_type": "stream",
     "text": [
      "Processing train:  69%|██████▉   | 6300/9152 [8:03:20<9:51:02, 12.43s/it]"
     ]
    },
    {
     "name": "stdout",
     "output_type": "stream",
     "text": [
      "\n",
      "Batch 6300/9152: Load=1.79s, Embed=1.68s, Store=0.00s, Total=4.89s, Images/sec=2.45\n",
      "Estimated remaining time: 232.6 minutes\n"
     ]
    },
    {
     "name": "stderr",
     "output_type": "stream",
     "text": [
      "Processing train:  69%|██████▉   | 6310/9152 [8:04:09<3:58:15,  5.03s/it]"
     ]
    },
    {
     "name": "stdout",
     "output_type": "stream",
     "text": [
      "\n",
      "Batch 6310/9152: Load=1.56s, Embed=1.71s, Store=0.00s, Total=4.67s, Images/sec=2.57\n",
      "Estimated remaining time: 221.2 minutes\n"
     ]
    },
    {
     "name": "stderr",
     "output_type": "stream",
     "text": [
      "Processing train:  69%|██████▉   | 6320/9152 [8:04:58<3:50:16,  4.88s/it]"
     ]
    },
    {
     "name": "stdout",
     "output_type": "stream",
     "text": [
      "\n",
      "Batch 6320/9152: Load=1.64s, Embed=1.70s, Store=0.00s, Total=4.78s, Images/sec=2.51\n",
      "Estimated remaining time: 225.8 minutes\n"
     ]
    },
    {
     "name": "stderr",
     "output_type": "stream",
     "text": [
      "Processing train:  69%|██████▉   | 6330/9152 [8:05:47<3:52:23,  4.94s/it]"
     ]
    },
    {
     "name": "stdout",
     "output_type": "stream",
     "text": [
      "\n",
      "Batch 6330/9152: Load=1.73s, Embed=1.72s, Store=0.00s, Total=4.85s, Images/sec=2.47\n",
      "Estimated remaining time: 228.1 minutes\n"
     ]
    },
    {
     "name": "stderr",
     "output_type": "stream",
     "text": [
      "Processing train:  69%|██████▉   | 6340/9152 [8:06:35<3:45:44,  4.82s/it]"
     ]
    },
    {
     "name": "stdout",
     "output_type": "stream",
     "text": [
      "\n",
      "Batch 6340/9152: Load=1.64s, Embed=1.70s, Store=0.00s, Total=4.75s, Images/sec=2.52\n",
      "Estimated remaining time: 222.8 minutes\n"
     ]
    },
    {
     "name": "stderr",
     "output_type": "stream",
     "text": [
      "Processing train:  69%|██████▉   | 6350/9152 [8:07:49<9:38:51, 12.40s/it]"
     ]
    },
    {
     "name": "stdout",
     "output_type": "stream",
     "text": [
      "\n",
      "Batch 6350/9152: Load=1.62s, Embed=1.63s, Store=0.00s, Total=4.66s, Images/sec=2.58\n",
      "Estimated remaining time: 217.5 minutes\n"
     ]
    },
    {
     "name": "stderr",
     "output_type": "stream",
     "text": [
      "Processing train:  69%|██████▉   | 6360/9152 [8:08:37<3:51:41,  4.98s/it]"
     ]
    },
    {
     "name": "stdout",
     "output_type": "stream",
     "text": [
      "\n",
      "Batch 6360/9152: Load=1.61s, Embed=1.64s, Store=0.00s, Total=4.71s, Images/sec=2.55\n",
      "Estimated remaining time: 219.2 minutes\n"
     ]
    },
    {
     "name": "stderr",
     "output_type": "stream",
     "text": [
      "Processing train:  70%|██████▉   | 6370/9152 [8:09:25<3:44:21,  4.84s/it]"
     ]
    },
    {
     "name": "stdout",
     "output_type": "stream",
     "text": [
      "\n",
      "Batch 6370/9152: Load=1.77s, Embed=1.66s, Store=0.00s, Total=4.85s, Images/sec=2.47\n",
      "Estimated remaining time: 225.0 minutes\n"
     ]
    },
    {
     "name": "stderr",
     "output_type": "stream",
     "text": [
      "Processing train:  70%|██████▉   | 6380/9152 [8:10:13<3:44:49,  4.87s/it]"
     ]
    },
    {
     "name": "stdout",
     "output_type": "stream",
     "text": [
      "\n",
      "Batch 6380/9152: Load=1.80s, Embed=1.65s, Store=0.00s, Total=4.89s, Images/sec=2.45\n",
      "Estimated remaining time: 226.1 minutes\n"
     ]
    },
    {
     "name": "stderr",
     "output_type": "stream",
     "text": [
      "Processing train:  70%|██████▉   | 6390/9152 [8:11:02<3:45:36,  4.90s/it]"
     ]
    },
    {
     "name": "stdout",
     "output_type": "stream",
     "text": [
      "\n",
      "Batch 6390/9152: Load=1.80s, Embed=1.69s, Store=0.00s, Total=4.95s, Images/sec=2.42\n",
      "Estimated remaining time: 228.1 minutes\n"
     ]
    },
    {
     "name": "stderr",
     "output_type": "stream",
     "text": [
      "Processing train:  70%|██████▉   | 6400/9152 [8:12:17<9:33:07, 12.50s/it]"
     ]
    },
    {
     "name": "stdout",
     "output_type": "stream",
     "text": [
      "\n",
      "Batch 6400/9152: Load=1.77s, Embed=1.63s, Store=0.00s, Total=4.98s, Images/sec=2.41\n",
      "Estimated remaining time: 228.6 minutes\n"
     ]
    },
    {
     "name": "stderr",
     "output_type": "stream",
     "text": [
      "Processing train:  70%|███████   | 6410/9152 [8:13:06<3:52:53,  5.10s/it]"
     ]
    },
    {
     "name": "stdout",
     "output_type": "stream",
     "text": [
      "\n",
      "Batch 6410/9152: Load=1.78s, Embed=1.69s, Store=0.00s, Total=4.98s, Images/sec=2.41\n",
      "Estimated remaining time: 227.5 minutes\n"
     ]
    },
    {
     "name": "stderr",
     "output_type": "stream",
     "text": [
      "Processing train:  70%|███████   | 6420/9152 [8:13:55<3:45:26,  4.95s/it]"
     ]
    },
    {
     "name": "stdout",
     "output_type": "stream",
     "text": [
      "\n",
      "Batch 6420/9152: Load=1.76s, Embed=1.71s, Store=0.00s, Total=4.96s, Images/sec=2.42\n",
      "Estimated remaining time: 225.9 minutes\n"
     ]
    },
    {
     "name": "stderr",
     "output_type": "stream",
     "text": [
      "Processing train:  70%|███████   | 6430/9152 [8:14:43<3:38:58,  4.83s/it]"
     ]
    },
    {
     "name": "stdout",
     "output_type": "stream",
     "text": [
      "\n",
      "Batch 6430/9152: Load=1.70s, Embed=1.64s, Store=0.00s, Total=4.82s, Images/sec=2.49\n",
      "Estimated remaining time: 218.6 minutes\n"
     ]
    },
    {
     "name": "stderr",
     "output_type": "stream",
     "text": [
      "Processing train:  70%|███████   | 6440/9152 [8:15:32<3:39:14,  4.85s/it]"
     ]
    },
    {
     "name": "stdout",
     "output_type": "stream",
     "text": [
      "\n",
      "Batch 6440/9152: Load=1.66s, Embed=1.70s, Store=0.00s, Total=4.78s, Images/sec=2.51\n",
      "Estimated remaining time: 216.2 minutes\n"
     ]
    },
    {
     "name": "stderr",
     "output_type": "stream",
     "text": [
      "Processing train:  70%|███████   | 6450/9152 [8:16:45<9:16:16, 12.35s/it]"
     ]
    },
    {
     "name": "stdout",
     "output_type": "stream",
     "text": [
      "\n",
      "Batch 6450/9152: Load=1.70s, Embed=1.70s, Store=0.00s, Total=4.87s, Images/sec=2.46\n",
      "Estimated remaining time: 219.3 minutes\n"
     ]
    },
    {
     "name": "stderr",
     "output_type": "stream",
     "text": [
      "Processing train:  71%|███████   | 6460/9152 [8:17:37<4:02:24,  5.40s/it]"
     ]
    },
    {
     "name": "stdout",
     "output_type": "stream",
     "text": [
      "\n",
      "Batch 6460/9152: Load=2.09s, Embed=1.87s, Store=0.00s, Total=5.44s, Images/sec=2.21\n",
      "Estimated remaining time: 244.0 minutes\n"
     ]
    },
    {
     "name": "stderr",
     "output_type": "stream",
     "text": [
      "Processing train:  71%|███████   | 6470/9152 [8:18:27<3:42:41,  4.98s/it]"
     ]
    },
    {
     "name": "stdout",
     "output_type": "stream",
     "text": [
      "\n",
      "Batch 6470/9152: Load=1.81s, Embed=1.70s, Store=0.00s, Total=4.98s, Images/sec=2.41\n",
      "Estimated remaining time: 222.8 minutes\n"
     ]
    },
    {
     "name": "stderr",
     "output_type": "stream",
     "text": [
      "Processing train:  71%|███████   | 6500/9152 [8:21:23<9:20:37, 12.68s/it]"
     ]
    },
    {
     "name": "stdout",
     "output_type": "stream",
     "text": [
      "\n",
      "Batch 6500/9152: Load=1.88s, Embed=1.69s, Store=0.00s, Total=5.04s, Images/sec=2.38\n",
      "Estimated remaining time: 222.8 minutes\n"
     ]
    },
    {
     "name": "stderr",
     "output_type": "stream",
     "text": [
      "Processing train:  71%|███████   | 6510/9152 [8:22:17<4:03:55,  5.54s/it]"
     ]
    },
    {
     "name": "stdout",
     "output_type": "stream",
     "text": [
      "\n",
      "Batch 6510/9152: Load=1.68s, Embed=1.70s, Store=0.00s, Total=4.95s, Images/sec=2.42\n",
      "Estimated remaining time: 218.0 minutes\n"
     ]
    },
    {
     "name": "stderr",
     "output_type": "stream",
     "text": [
      "Processing train:  71%|███████   | 6520/9152 [8:23:14<4:08:33,  5.67s/it]"
     ]
    },
    {
     "name": "stdout",
     "output_type": "stream",
     "text": [
      "\n",
      "Batch 6520/9152: Load=2.88s, Embed=1.72s, Store=0.00s, Total=6.05s, Images/sec=1.98\n",
      "Estimated remaining time: 265.2 minutes\n"
     ]
    },
    {
     "name": "stderr",
     "output_type": "stream",
     "text": [
      "Processing train:  71%|███████▏  | 6530/9152 [8:24:11<4:07:52,  5.67s/it]"
     ]
    },
    {
     "name": "stdout",
     "output_type": "stream",
     "text": [
      "\n",
      "Batch 6530/9152: Load=2.78s, Embed=1.74s, Store=0.00s, Total=5.96s, Images/sec=2.01\n",
      "Estimated remaining time: 260.5 minutes\n"
     ]
    },
    {
     "name": "stderr",
     "output_type": "stream",
     "text": [
      "Processing train:  71%|███████▏  | 6540/9152 [8:25:11<4:18:08,  5.93s/it]"
     ]
    },
    {
     "name": "stdout",
     "output_type": "stream",
     "text": [
      "\n",
      "Batch 6540/9152: Load=2.71s, Embed=1.72s, Store=0.00s, Total=5.99s, Images/sec=2.00\n",
      "Estimated remaining time: 260.9 minutes\n"
     ]
    },
    {
     "name": "stderr",
     "output_type": "stream",
     "text": [
      "Processing train:  72%|███████▏  | 6550/9152 [8:26:37<9:51:47, 13.65s/it]"
     ]
    },
    {
     "name": "stdout",
     "output_type": "stream",
     "text": [
      "\n",
      "Batch 6550/9152: Load=2.24s, Embed=1.69s, Store=0.00s, Total=5.38s, Images/sec=2.23\n",
      "Estimated remaining time: 233.1 minutes\n"
     ]
    },
    {
     "name": "stderr",
     "output_type": "stream",
     "text": [
      "Processing train:  72%|███████▏  | 6560/9152 [8:27:38<4:31:24,  6.28s/it]"
     ]
    },
    {
     "name": "stdout",
     "output_type": "stream",
     "text": [
      "\n",
      "Batch 6560/9152: Load=2.87s, Embed=1.69s, Store=0.00s, Total=6.04s, Images/sec=1.99\n",
      "Estimated remaining time: 260.7 minutes\n"
     ]
    },
    {
     "name": "stderr",
     "output_type": "stream",
     "text": [
      "Processing train:  72%|███████▏  | 6570/9152 [8:28:38<4:20:14,  6.05s/it]"
     ]
    },
    {
     "name": "stdout",
     "output_type": "stream",
     "text": [
      "\n",
      "Batch 6570/9152: Load=2.75s, Embed=1.74s, Store=0.00s, Total=6.08s, Images/sec=1.97\n",
      "Estimated remaining time: 261.7 minutes\n"
     ]
    },
    {
     "name": "stderr",
     "output_type": "stream",
     "text": [
      "Processing train:  72%|███████▏  | 6580/9152 [8:29:29<3:30:07,  4.90s/it]"
     ]
    },
    {
     "name": "stdout",
     "output_type": "stream",
     "text": [
      "\n",
      "Batch 6580/9152: Load=1.70s, Embed=1.61s, Store=0.00s, Total=4.84s, Images/sec=2.48\n",
      "Estimated remaining time: 207.6 minutes\n"
     ]
    },
    {
     "name": "stderr",
     "output_type": "stream",
     "text": [
      "Processing train:  72%|███████▏  | 6590/9152 [8:30:17<3:26:33,  4.84s/it]"
     ]
    },
    {
     "name": "stdout",
     "output_type": "stream",
     "text": [
      "\n",
      "Batch 6590/9152: Load=1.66s, Embed=1.64s, Store=0.00s, Total=4.78s, Images/sec=2.51\n",
      "Estimated remaining time: 204.0 minutes\n"
     ]
    },
    {
     "name": "stderr",
     "output_type": "stream",
     "text": [
      "Processing train:  72%|███████▏  | 6600/9152 [8:31:32<8:58:06, 12.65s/it]"
     ]
    },
    {
     "name": "stdout",
     "output_type": "stream",
     "text": [
      "\n",
      "Batch 6600/9152: Load=1.86s, Embed=1.63s, Store=0.00s, Total=4.96s, Images/sec=2.42\n",
      "Estimated remaining time: 211.1 minutes\n"
     ]
    },
    {
     "name": "stderr",
     "output_type": "stream",
     "text": [
      "Processing train:  72%|███████▏  | 6610/9152 [8:32:20<3:33:30,  5.04s/it]"
     ]
    },
    {
     "name": "stdout",
     "output_type": "stream",
     "text": [
      "\n",
      "Batch 6610/9152: Load=1.79s, Embed=1.62s, Store=0.00s, Total=4.88s, Images/sec=2.46\n",
      "Estimated remaining time: 206.6 minutes\n"
     ]
    },
    {
     "name": "stderr",
     "output_type": "stream",
     "text": [
      "Processing train:  72%|███████▏  | 6620/9152 [8:33:08<3:26:51,  4.90s/it]"
     ]
    },
    {
     "name": "stdout",
     "output_type": "stream",
     "text": [
      "\n",
      "Batch 6620/9152: Load=1.76s, Embed=1.62s, Store=0.00s, Total=4.92s, Images/sec=2.44\n",
      "Estimated remaining time: 207.6 minutes\n"
     ]
    },
    {
     "name": "stderr",
     "output_type": "stream",
     "text": [
      "Processing train:  72%|███████▏  | 6630/9152 [8:33:58<3:24:24,  4.86s/it]"
     ]
    },
    {
     "name": "stdout",
     "output_type": "stream",
     "text": [
      "\n",
      "Batch 6630/9152: Load=1.62s, Embed=1.69s, Store=0.00s, Total=4.88s, Images/sec=2.46\n",
      "Estimated remaining time: 205.3 minutes\n"
     ]
    },
    {
     "name": "stderr",
     "output_type": "stream",
     "text": [
      "Processing train:  73%|███████▎  | 6640/9152 [8:34:46<3:23:09,  4.85s/it]"
     ]
    },
    {
     "name": "stdout",
     "output_type": "stream",
     "text": [
      "\n",
      "Batch 6640/9152: Load=1.78s, Embed=1.68s, Store=0.00s, Total=4.97s, Images/sec=2.42\n",
      "Estimated remaining time: 207.9 minutes\n"
     ]
    },
    {
     "name": "stderr",
     "output_type": "stream",
     "text": [
      "Processing train:  73%|███████▎  | 6650/9152 [8:36:02<9:01:06, 12.98s/it]"
     ]
    },
    {
     "name": "stdout",
     "output_type": "stream",
     "text": [
      "\n",
      "Batch 6650/9152: Load=1.62s, Embed=1.62s, Store=0.00s, Total=4.82s, Images/sec=2.49\n",
      "Estimated remaining time: 200.8 minutes\n"
     ]
    },
    {
     "name": "stderr",
     "output_type": "stream",
     "text": [
      "Processing train:  73%|███████▎  | 6660/9152 [8:36:52<3:30:37,  5.07s/it]"
     ]
    },
    {
     "name": "stdout",
     "output_type": "stream",
     "text": [
      "\n",
      "Batch 6660/9152: Load=1.59s, Embed=1.68s, Store=0.00s, Total=4.77s, Images/sec=2.52\n",
      "Estimated remaining time: 198.1 minutes\n"
     ]
    },
    {
     "name": "stderr",
     "output_type": "stream",
     "text": [
      "Processing train:  73%|███████▎  | 6670/9152 [8:37:41<3:21:40,  4.88s/it]"
     ]
    },
    {
     "name": "stdout",
     "output_type": "stream",
     "text": [
      "\n",
      "Batch 6670/9152: Load=1.66s, Embed=1.70s, Store=0.00s, Total=4.82s, Images/sec=2.49\n",
      "Estimated remaining time: 199.5 minutes\n"
     ]
    },
    {
     "name": "stderr",
     "output_type": "stream",
     "text": [
      "Processing train:  73%|███████▎  | 6680/9152 [8:38:30<3:23:57,  4.95s/it]"
     ]
    },
    {
     "name": "stdout",
     "output_type": "stream",
     "text": [
      "\n",
      "Batch 6680/9152: Load=1.71s, Embed=1.69s, Store=0.00s, Total=5.00s, Images/sec=2.40\n",
      "Estimated remaining time: 206.0 minutes\n"
     ]
    },
    {
     "name": "stderr",
     "output_type": "stream",
     "text": [
      "Processing train:  73%|███████▎  | 6690/9152 [8:39:20<3:25:56,  5.02s/it]"
     ]
    },
    {
     "name": "stdout",
     "output_type": "stream",
     "text": [
      "\n",
      "Batch 6690/9152: Load=1.62s, Embed=1.73s, Store=0.00s, Total=4.95s, Images/sec=2.42\n",
      "Estimated remaining time: 203.1 minutes\n"
     ]
    },
    {
     "name": "stderr",
     "output_type": "stream",
     "text": [
      "Processing train:  73%|███████▎  | 6700/9152 [8:40:35<8:41:16, 12.76s/it]"
     ]
    },
    {
     "name": "stdout",
     "output_type": "stream",
     "text": [
      "\n",
      "Batch 6700/9152: Load=1.63s, Embed=1.70s, Store=0.00s, Total=4.82s, Images/sec=2.49\n",
      "Estimated remaining time: 197.1 minutes\n"
     ]
    },
    {
     "name": "stderr",
     "output_type": "stream",
     "text": [
      "Processing train:  73%|███████▎  | 6710/9152 [8:41:24<3:27:49,  5.11s/it]"
     ]
    },
    {
     "name": "stdout",
     "output_type": "stream",
     "text": [
      "\n",
      "Batch 6710/9152: Load=1.68s, Embed=1.64s, Store=0.00s, Total=4.82s, Images/sec=2.49\n",
      "Estimated remaining time: 196.0 minutes\n"
     ]
    },
    {
     "name": "stderr",
     "output_type": "stream",
     "text": [
      "Processing train:  73%|███████▎  | 6720/9152 [8:42:15<3:26:29,  5.09s/it]"
     ]
    },
    {
     "name": "stdout",
     "output_type": "stream",
     "text": [
      "\n",
      "Batch 6720/9152: Load=1.73s, Embed=1.65s, Store=0.00s, Total=4.86s, Images/sec=2.47\n",
      "Estimated remaining time: 197.2 minutes\n"
     ]
    },
    {
     "name": "stderr",
     "output_type": "stream",
     "text": [
      "Processing train:  74%|███████▎  | 6730/9152 [8:43:08<3:23:17,  5.04s/it]"
     ]
    },
    {
     "name": "stdout",
     "output_type": "stream",
     "text": [
      "\n",
      "Batch 6730/9152: Load=1.58s, Embed=1.66s, Store=0.00s, Total=4.79s, Images/sec=2.50\n",
      "Estimated remaining time: 193.5 minutes\n"
     ]
    },
    {
     "name": "stderr",
     "output_type": "stream",
     "text": [
      "Processing train:  74%|███████▎  | 6740/9152 [8:43:57<3:16:43,  4.89s/it]"
     ]
    },
    {
     "name": "stdout",
     "output_type": "stream",
     "text": [
      "\n",
      "Batch 6740/9152: Load=1.70s, Embed=1.70s, Store=0.00s, Total=4.90s, Images/sec=2.45\n",
      "Estimated remaining time: 196.9 minutes\n"
     ]
    },
    {
     "name": "stderr",
     "output_type": "stream",
     "text": [
      "Processing train:  74%|███████▍  | 6750/9152 [8:45:14<8:42:44, 13.06s/it]"
     ]
    },
    {
     "name": "stdout",
     "output_type": "stream",
     "text": [
      "\n",
      "Batch 6750/9152: Load=1.73s, Embed=1.71s, Store=0.00s, Total=5.12s, Images/sec=2.35\n",
      "Estimated remaining time: 204.8 minutes\n"
     ]
    },
    {
     "name": "stderr",
     "output_type": "stream",
     "text": [
      "Processing train:  74%|███████▍  | 6760/9152 [8:46:07<3:47:30,  5.71s/it]"
     ]
    },
    {
     "name": "stdout",
     "output_type": "stream",
     "text": [
      "\n",
      "Batch 6760/9152: Load=2.66s, Embed=1.69s, Store=0.00s, Total=5.96s, Images/sec=2.01\n",
      "Estimated remaining time: 237.6 minutes\n"
     ]
    },
    {
     "name": "stderr",
     "output_type": "stream",
     "text": [
      "Processing train:  74%|███████▍  | 6770/9152 [8:46:59<3:23:57,  5.14s/it]"
     ]
    },
    {
     "name": "stdout",
     "output_type": "stream",
     "text": [
      "\n",
      "Batch 6770/9152: Load=1.69s, Embed=1.71s, Store=0.00s, Total=4.92s, Images/sec=2.44\n",
      "Estimated remaining time: 195.3 minutes\n"
     ]
    },
    {
     "name": "stderr",
     "output_type": "stream",
     "text": [
      "Processing train:  74%|███████▍  | 6780/9152 [8:47:53<3:31:13,  5.34s/it]"
     ]
    },
    {
     "name": "stdout",
     "output_type": "stream",
     "text": [
      "\n",
      "Batch 6780/9152: Load=1.70s, Embed=1.67s, Store=0.00s, Total=5.49s, Images/sec=2.19\n",
      "Estimated remaining time: 216.9 minutes\n"
     ]
    },
    {
     "name": "stderr",
     "output_type": "stream",
     "text": [
      "Processing train:  74%|███████▍  | 6790/9152 [8:48:49<3:52:00,  5.89s/it]"
     ]
    },
    {
     "name": "stdout",
     "output_type": "stream",
     "text": [
      "\n",
      "Batch 6790/9152: Load=2.86s, Embed=1.73s, Store=0.00s, Total=6.14s, Images/sec=1.96\n",
      "Estimated remaining time: 241.6 minutes\n"
     ]
    },
    {
     "name": "stderr",
     "output_type": "stream",
     "text": [
      "Processing train:  74%|███████▍  | 6800/9152 [8:50:17<9:35:32, 14.68s/it]"
     ]
    },
    {
     "name": "stdout",
     "output_type": "stream",
     "text": [
      "\n",
      "Batch 6800/9152: Load=2.95s, Embed=1.77s, Store=0.00s, Total=6.35s, Images/sec=1.89\n",
      "Estimated remaining time: 248.8 minutes\n"
     ]
    },
    {
     "name": "stderr",
     "output_type": "stream",
     "text": [
      "Processing train:  74%|███████▍  | 6810/9152 [8:51:18<4:08:06,  6.36s/it]"
     ]
    },
    {
     "name": "stdout",
     "output_type": "stream",
     "text": [
      "\n",
      "Batch 6810/9152: Load=2.84s, Embed=1.68s, Store=0.00s, Total=6.13s, Images/sec=1.96\n",
      "Estimated remaining time: 239.1 minutes\n"
     ]
    },
    {
     "name": "stderr",
     "output_type": "stream",
     "text": [
      "Processing train:  75%|███████▍  | 6820/9152 [8:52:17<3:49:47,  5.91s/it]"
     ]
    },
    {
     "name": "stdout",
     "output_type": "stream",
     "text": [
      "\n",
      "Batch 6820/9152: Load=2.64s, Embed=1.72s, Store=0.00s, Total=5.92s, Images/sec=2.03\n",
      "Estimated remaining time: 230.2 minutes\n"
     ]
    },
    {
     "name": "stderr",
     "output_type": "stream",
     "text": [
      "Processing train:  75%|███████▍  | 6830/9152 [8:53:15<3:44:55,  5.81s/it]"
     ]
    },
    {
     "name": "stdout",
     "output_type": "stream",
     "text": [
      "\n",
      "Batch 6830/9152: Load=2.62s, Embed=1.69s, Store=0.00s, Total=6.01s, Images/sec=2.00\n",
      "Estimated remaining time: 232.8 minutes\n"
     ]
    },
    {
     "name": "stderr",
     "output_type": "stream",
     "text": [
      "Processing train:  75%|███████▍  | 6840/9152 [8:54:06<3:05:54,  4.82s/it]"
     ]
    },
    {
     "name": "stdout",
     "output_type": "stream",
     "text": [
      "\n",
      "Batch 6840/9152: Load=1.58s, Embed=1.61s, Store=0.00s, Total=4.69s, Images/sec=2.56\n",
      "Estimated remaining time: 180.8 minutes\n"
     ]
    },
    {
     "name": "stderr",
     "output_type": "stream",
     "text": [
      "Processing train:  75%|███████▍  | 6850/9152 [8:55:24<8:43:39, 13.65s/it]"
     ]
    },
    {
     "name": "stdout",
     "output_type": "stream",
     "text": [
      "\n",
      "Batch 6850/9152: Load=2.40s, Embed=1.71s, Store=0.00s, Total=5.74s, Images/sec=2.09\n",
      "Estimated remaining time: 220.1 minutes\n"
     ]
    },
    {
     "name": "stderr",
     "output_type": "stream",
     "text": [
      "Processing train:  75%|███████▍  | 6860/9152 [8:56:14<3:13:19,  5.06s/it]"
     ]
    },
    {
     "name": "stdout",
     "output_type": "stream",
     "text": [
      "\n",
      "Batch 6860/9152: Load=1.53s, Embed=1.64s, Store=0.00s, Total=4.76s, Images/sec=2.52\n",
      "Estimated remaining time: 181.7 minutes\n"
     ]
    },
    {
     "name": "stderr",
     "output_type": "stream",
     "text": [
      "Processing train:  75%|███████▌  | 6870/9152 [8:57:01<2:59:05,  4.71s/it]"
     ]
    },
    {
     "name": "stdout",
     "output_type": "stream",
     "text": [
      "\n",
      "Batch 6870/9152: Load=1.58s, Embed=1.62s, Store=0.00s, Total=4.71s, Images/sec=2.55\n",
      "Estimated remaining time: 179.2 minutes\n"
     ]
    },
    {
     "name": "stderr",
     "output_type": "stream",
     "text": [
      "Processing train:  75%|███████▌  | 6880/9152 [8:57:49<3:03:08,  4.84s/it]"
     ]
    },
    {
     "name": "stdout",
     "output_type": "stream",
     "text": [
      "\n",
      "Batch 6880/9152: Load=1.58s, Embed=1.64s, Store=0.00s, Total=4.87s, Images/sec=2.46\n",
      "Estimated remaining time: 184.4 minutes\n"
     ]
    },
    {
     "name": "stderr",
     "output_type": "stream",
     "text": [
      "Processing train:  75%|███████▌  | 6890/9152 [8:58:38<3:01:45,  4.82s/it]"
     ]
    },
    {
     "name": "stdout",
     "output_type": "stream",
     "text": [
      "\n",
      "Batch 6890/9152: Load=1.56s, Embed=1.61s, Store=0.00s, Total=4.70s, Images/sec=2.55\n",
      "Estimated remaining time: 177.2 minutes\n"
     ]
    },
    {
     "name": "stderr",
     "output_type": "stream",
     "text": [
      "Processing train:  75%|███████▌  | 6900/9152 [8:59:54<8:14:05, 13.16s/it]"
     ]
    },
    {
     "name": "stdout",
     "output_type": "stream",
     "text": [
      "\n",
      "Batch 6900/9152: Load=1.57s, Embed=1.64s, Store=0.00s, Total=4.80s, Images/sec=2.50\n",
      "Estimated remaining time: 180.1 minutes\n"
     ]
    },
    {
     "name": "stderr",
     "output_type": "stream",
     "text": [
      "Processing train:  76%|███████▌  | 6910/9152 [9:00:42<3:05:56,  4.98s/it]"
     ]
    },
    {
     "name": "stdout",
     "output_type": "stream",
     "text": [
      "\n",
      "Batch 6910/9152: Load=1.52s, Embed=1.65s, Store=0.00s, Total=4.69s, Images/sec=2.56\n",
      "Estimated remaining time: 175.4 minutes\n"
     ]
    },
    {
     "name": "stderr",
     "output_type": "stream",
     "text": [
      "Processing train:  76%|███████▌  | 6920/9152 [9:01:30<2:58:35,  4.80s/it]"
     ]
    },
    {
     "name": "stdout",
     "output_type": "stream",
     "text": [
      "\n",
      "Batch 6920/9152: Load=1.63s, Embed=1.62s, Store=0.00s, Total=4.82s, Images/sec=2.49\n",
      "Estimated remaining time: 179.2 minutes\n"
     ]
    },
    {
     "name": "stderr",
     "output_type": "stream",
     "text": [
      "Processing train:  76%|███████▌  | 6930/9152 [9:02:18<3:01:29,  4.90s/it]"
     ]
    },
    {
     "name": "stdout",
     "output_type": "stream",
     "text": [
      "\n",
      "Batch 6930/9152: Load=1.70s, Embed=1.72s, Store=0.00s, Total=5.02s, Images/sec=2.39\n",
      "Estimated remaining time: 185.8 minutes\n"
     ]
    },
    {
     "name": "stderr",
     "output_type": "stream",
     "text": [
      "Processing train:  76%|███████▌  | 6940/9152 [9:03:09<3:16:25,  5.33s/it]"
     ]
    },
    {
     "name": "stdout",
     "output_type": "stream",
     "text": [
      "\n",
      "Batch 6940/9152: Load=2.27s, Embed=1.74s, Store=0.00s, Total=5.66s, Images/sec=2.12\n",
      "Estimated remaining time: 208.7 minutes\n"
     ]
    },
    {
     "name": "stderr",
     "output_type": "stream",
     "text": [
      "Processing train:  76%|███████▌  | 6950/9152 [9:04:28<8:09:33, 13.34s/it]"
     ]
    },
    {
     "name": "stdout",
     "output_type": "stream",
     "text": [
      "\n",
      "Batch 6950/9152: Load=1.51s, Embed=1.68s, Store=0.00s, Total=4.84s, Images/sec=2.48\n",
      "Estimated remaining time: 177.8 minutes\n"
     ]
    },
    {
     "name": "stderr",
     "output_type": "stream",
     "text": [
      "Processing train:  76%|███████▌  | 6960/9152 [9:05:17<3:12:53,  5.28s/it]"
     ]
    },
    {
     "name": "stdout",
     "output_type": "stream",
     "text": [
      "\n",
      "Batch 6960/9152: Load=1.87s, Embed=1.72s, Store=0.08s, Total=5.42s, Images/sec=2.21\n",
      "Estimated remaining time: 197.9 minutes\n"
     ]
    },
    {
     "name": "stderr",
     "output_type": "stream",
     "text": [
      "Processing train:  76%|███████▌  | 6970/9152 [9:06:07<2:59:17,  4.93s/it]"
     ]
    },
    {
     "name": "stdout",
     "output_type": "stream",
     "text": [
      "\n",
      "Batch 6970/9152: Load=1.61s, Embed=1.71s, Store=0.00s, Total=4.88s, Images/sec=2.46\n",
      "Estimated remaining time: 177.5 minutes\n"
     ]
    },
    {
     "name": "stderr",
     "output_type": "stream",
     "text": [
      "Processing train:  76%|███████▋  | 6980/9152 [9:06:57<2:57:27,  4.90s/it]"
     ]
    },
    {
     "name": "stdout",
     "output_type": "stream",
     "text": [
      "\n",
      "Batch 6980/9152: Load=1.77s, Embed=1.70s, Store=0.00s, Total=5.00s, Images/sec=2.40\n",
      "Estimated remaining time: 181.1 minutes\n"
     ]
    },
    {
     "name": "stderr",
     "output_type": "stream",
     "text": [
      "Processing train:  76%|███████▋  | 6990/9152 [9:07:45<2:52:51,  4.80s/it]"
     ]
    },
    {
     "name": "stdout",
     "output_type": "stream",
     "text": [
      "\n",
      "Batch 6990/9152: Load=1.45s, Embed=1.72s, Store=0.00s, Total=4.72s, Images/sec=2.54\n",
      "Estimated remaining time: 170.2 minutes\n"
     ]
    },
    {
     "name": "stderr",
     "output_type": "stream",
     "text": [
      "Processing train:  76%|███████▋  | 7000/9152 [9:09:03<8:00:43, 13.40s/it]"
     ]
    },
    {
     "name": "stdout",
     "output_type": "stream",
     "text": [
      "\n",
      "Batch 7000/9152: Load=1.62s, Embed=1.63s, Store=0.00s, Total=4.84s, Images/sec=2.48\n",
      "Estimated remaining time: 173.7 minutes\n"
     ]
    },
    {
     "name": "stderr",
     "output_type": "stream",
     "text": [
      "Processing train:  77%|███████▋  | 7010/9152 [9:09:52<3:03:19,  5.13s/it]"
     ]
    },
    {
     "name": "stdout",
     "output_type": "stream",
     "text": [
      "\n",
      "Batch 7010/9152: Load=1.66s, Embed=1.62s, Store=0.00s, Total=4.95s, Images/sec=2.42\n",
      "Estimated remaining time: 176.7 minutes\n"
     ]
    },
    {
     "name": "stderr",
     "output_type": "stream",
     "text": [
      "Processing train:  77%|███████▋  | 7020/9152 [9:10:40<2:48:46,  4.75s/it]"
     ]
    },
    {
     "name": "stdout",
     "output_type": "stream",
     "text": [
      "\n",
      "Batch 7020/9152: Load=1.51s, Embed=1.63s, Store=0.00s, Total=4.69s, Images/sec=2.56\n",
      "Estimated remaining time: 166.6 minutes\n"
     ]
    },
    {
     "name": "stderr",
     "output_type": "stream",
     "text": [
      "Processing train:  77%|███████▋  | 7030/9152 [9:11:28<2:49:31,  4.79s/it]"
     ]
    },
    {
     "name": "stdout",
     "output_type": "stream",
     "text": [
      "\n",
      "Batch 7030/9152: Load=1.61s, Embed=1.64s, Store=0.00s, Total=4.86s, Images/sec=2.47\n",
      "Estimated remaining time: 171.8 minutes\n"
     ]
    },
    {
     "name": "stderr",
     "output_type": "stream",
     "text": [
      "Processing train:  77%|███████▋  | 7040/9152 [9:12:15<2:48:41,  4.79s/it]"
     ]
    },
    {
     "name": "stdout",
     "output_type": "stream",
     "text": [
      "\n",
      "Batch 7040/9152: Load=1.54s, Embed=1.62s, Store=0.00s, Total=4.71s, Images/sec=2.55\n",
      "Estimated remaining time: 165.8 minutes\n"
     ]
    },
    {
     "name": "stderr",
     "output_type": "stream",
     "text": [
      "Processing train:  77%|███████▋  | 7050/9152 [9:13:32<7:44:17, 13.25s/it]"
     ]
    },
    {
     "name": "stdout",
     "output_type": "stream",
     "text": [
      "\n",
      "Batch 7050/9152: Load=1.57s, Embed=1.63s, Store=0.00s, Total=4.75s, Images/sec=2.53\n",
      "Estimated remaining time: 166.5 minutes\n"
     ]
    },
    {
     "name": "stderr",
     "output_type": "stream",
     "text": [
      "Processing train:  77%|███████▋  | 7060/9152 [9:14:30<3:30:23,  6.03s/it]"
     ]
    },
    {
     "name": "stdout",
     "output_type": "stream",
     "text": [
      "\n",
      "Batch 7060/9152: Load=2.52s, Embed=1.69s, Store=0.00s, Total=5.87s, Images/sec=2.05\n",
      "Estimated remaining time: 204.5 minutes\n"
     ]
    },
    {
     "name": "stderr",
     "output_type": "stream",
     "text": [
      "Processing train:  77%|███████▋  | 7070/9152 [9:15:30<3:28:17,  6.00s/it]"
     ]
    },
    {
     "name": "stdout",
     "output_type": "stream",
     "text": [
      "\n",
      "Batch 7070/9152: Load=2.79s, Embed=1.69s, Store=0.00s, Total=6.04s, Images/sec=1.99\n",
      "Estimated remaining time: 209.6 minutes\n"
     ]
    },
    {
     "name": "stderr",
     "output_type": "stream",
     "text": [
      "Processing train:  77%|███████▋  | 7080/9152 [9:16:28<3:24:10,  5.91s/it]"
     ]
    },
    {
     "name": "stdout",
     "output_type": "stream",
     "text": [
      "\n",
      "Batch 7080/9152: Load=2.69s, Embed=1.70s, Store=0.00s, Total=6.06s, Images/sec=1.98\n",
      "Estimated remaining time: 209.4 minutes\n"
     ]
    },
    {
     "name": "stderr",
     "output_type": "stream",
     "text": [
      "Processing train:  77%|███████▋  | 7090/9152 [9:17:24<2:57:07,  5.15s/it]"
     ]
    },
    {
     "name": "stdout",
     "output_type": "stream",
     "text": [
      "\n",
      "Batch 7090/9152: Load=1.58s, Embed=1.64s, Store=0.00s, Total=4.81s, Images/sec=2.49\n",
      "Estimated remaining time: 165.4 minutes\n"
     ]
    },
    {
     "name": "stderr",
     "output_type": "stream",
     "text": [
      "Processing train:  78%|███████▊  | 7100/9152 [9:18:40<7:36:55, 13.36s/it]"
     ]
    },
    {
     "name": "stdout",
     "output_type": "stream",
     "text": [
      "\n",
      "Batch 7100/9152: Load=1.52s, Embed=1.63s, Store=0.00s, Total=4.77s, Images/sec=2.51\n",
      "Estimated remaining time: 163.2 minutes\n"
     ]
    },
    {
     "name": "stderr",
     "output_type": "stream",
     "text": [
      "Processing train:  78%|███████▊  | 7110/9152 [9:19:29<2:51:22,  5.04s/it]"
     ]
    },
    {
     "name": "stdout",
     "output_type": "stream",
     "text": [
      "\n",
      "Batch 7110/9152: Load=1.51s, Embed=1.62s, Store=0.00s, Total=4.68s, Images/sec=2.56\n",
      "Estimated remaining time: 159.3 minutes\n"
     ]
    },
    {
     "name": "stderr",
     "output_type": "stream",
     "text": [
      "Processing train:  78%|███████▊  | 7120/9152 [9:20:17<2:41:45,  4.78s/it]"
     ]
    },
    {
     "name": "stdout",
     "output_type": "stream",
     "text": [
      "\n",
      "Batch 7120/9152: Load=1.53s, Embed=1.63s, Store=0.00s, Total=4.73s, Images/sec=2.53\n",
      "Estimated remaining time: 160.4 minutes\n"
     ]
    },
    {
     "name": "stderr",
     "output_type": "stream",
     "text": [
      "Processing train:  78%|███████▊  | 7130/9152 [9:21:05<2:42:04,  4.81s/it]"
     ]
    },
    {
     "name": "stdout",
     "output_type": "stream",
     "text": [
      "\n",
      "Batch 7130/9152: Load=1.56s, Embed=1.62s, Store=0.00s, Total=4.80s, Images/sec=2.50\n",
      "Estimated remaining time: 161.7 minutes\n"
     ]
    },
    {
     "name": "stderr",
     "output_type": "stream",
     "text": [
      "Processing train:  78%|███████▊  | 7140/9152 [9:21:53<2:42:17,  4.84s/it]"
     ]
    },
    {
     "name": "stdout",
     "output_type": "stream",
     "text": [
      "\n",
      "Batch 7140/9152: Load=1.57s, Embed=1.62s, Store=0.00s, Total=4.81s, Images/sec=2.50\n",
      "Estimated remaining time: 161.2 minutes\n"
     ]
    },
    {
     "name": "stderr",
     "output_type": "stream",
     "text": [
      "Processing train:  78%|███████▊  | 7150/9152 [9:23:10<7:27:23, 13.41s/it]"
     ]
    },
    {
     "name": "stdout",
     "output_type": "stream",
     "text": [
      "\n",
      "Batch 7150/9152: Load=1.57s, Embed=1.61s, Store=0.00s, Total=4.76s, Images/sec=2.52\n",
      "Estimated remaining time: 158.7 minutes\n"
     ]
    },
    {
     "name": "stderr",
     "output_type": "stream",
     "text": [
      "Processing train:  78%|███████▊  | 7160/9152 [9:24:01<2:53:39,  5.23s/it]"
     ]
    },
    {
     "name": "stdout",
     "output_type": "stream",
     "text": [
      "\n",
      "Batch 7160/9152: Load=1.67s, Embed=1.61s, Store=0.00s, Total=4.84s, Images/sec=2.48\n",
      "Estimated remaining time: 160.8 minutes\n"
     ]
    },
    {
     "name": "stderr",
     "output_type": "stream",
     "text": [
      "Processing train:  78%|███████▊  | 7170/9152 [9:24:50<2:46:44,  5.05s/it]"
     ]
    },
    {
     "name": "stdout",
     "output_type": "stream",
     "text": [
      "\n",
      "Batch 7170/9152: Load=1.72s, Embed=1.62s, Store=0.00s, Total=4.99s, Images/sec=2.41\n",
      "Estimated remaining time: 164.7 minutes\n"
     ]
    },
    {
     "name": "stderr",
     "output_type": "stream",
     "text": [
      "Processing train:  78%|███████▊  | 7180/9152 [9:25:42<2:51:21,  5.21s/it]"
     ]
    },
    {
     "name": "stdout",
     "output_type": "stream",
     "text": [
      "\n",
      "Batch 7180/9152: Load=1.62s, Embed=1.62s, Store=0.07s, Total=5.07s, Images/sec=2.37\n",
      "Estimated remaining time: 166.6 minutes\n"
     ]
    },
    {
     "name": "stderr",
     "output_type": "stream",
     "text": [
      "Processing train:  79%|███████▊  | 7190/9152 [9:26:33<2:46:28,  5.09s/it]"
     ]
    },
    {
     "name": "stdout",
     "output_type": "stream",
     "text": [
      "\n",
      "Batch 7190/9152: Load=1.77s, Embed=1.70s, Store=0.00s, Total=5.06s, Images/sec=2.37\n",
      "Estimated remaining time: 165.6 minutes\n"
     ]
    },
    {
     "name": "stderr",
     "output_type": "stream",
     "text": [
      "Processing train:  79%|███████▊  | 7200/9152 [9:27:53<7:26:49, 13.73s/it]"
     ]
    },
    {
     "name": "stdout",
     "output_type": "stream",
     "text": [
      "\n",
      "Batch 7200/9152: Load=1.85s, Embed=1.70s, Store=0.00s, Total=5.14s, Images/sec=2.34\n",
      "Estimated remaining time: 167.1 minutes\n"
     ]
    },
    {
     "name": "stderr",
     "output_type": "stream",
     "text": [
      "Processing train:  79%|███████▉  | 7210/9152 [9:28:51<3:16:24,  6.07s/it]"
     ]
    },
    {
     "name": "stdout",
     "output_type": "stream",
     "text": [
      "\n",
      "Batch 7210/9152: Load=1.73s, Embed=1.77s, Store=0.00s, Total=5.93s, Images/sec=2.03\n",
      "Estimated remaining time: 191.8 minutes\n"
     ]
    },
    {
     "name": "stderr",
     "output_type": "stream",
     "text": [
      "Processing train:  79%|███████▉  | 7220/9152 [9:29:49<3:07:16,  5.82s/it]"
     ]
    },
    {
     "name": "stdout",
     "output_type": "stream",
     "text": [
      "\n",
      "Batch 7220/9152: Load=1.81s, Embed=1.74s, Store=0.00s, Total=5.90s, Images/sec=2.03\n",
      "Estimated remaining time: 189.9 minutes\n"
     ]
    },
    {
     "name": "stderr",
     "output_type": "stream",
     "text": [
      "Processing train:  79%|███████▉  | 7230/9152 [9:30:48<3:07:52,  5.87s/it]"
     ]
    },
    {
     "name": "stdout",
     "output_type": "stream",
     "text": [
      "\n",
      "Batch 7230/9152: Load=1.90s, Embed=1.79s, Store=0.00s, Total=5.48s, Images/sec=2.19\n",
      "Estimated remaining time: 175.7 minutes\n"
     ]
    },
    {
     "name": "stderr",
     "output_type": "stream",
     "text": [
      "Processing train:  79%|███████▉  | 7240/9152 [9:31:42<2:54:21,  5.47s/it]"
     ]
    },
    {
     "name": "stdout",
     "output_type": "stream",
     "text": [
      "\n",
      "Batch 7240/9152: Load=1.68s, Embed=1.62s, Store=0.02s, Total=5.08s, Images/sec=2.36\n",
      "Estimated remaining time: 161.9 minutes\n"
     ]
    },
    {
     "name": "stderr",
     "output_type": "stream",
     "text": [
      "Processing train:  79%|███████▉  | 7250/9152 [9:33:03<7:25:57, 14.07s/it]"
     ]
    },
    {
     "name": "stdout",
     "output_type": "stream",
     "text": [
      "\n",
      "Batch 7250/9152: Load=1.57s, Embed=1.64s, Store=0.00s, Total=5.00s, Images/sec=2.40\n",
      "Estimated remaining time: 158.6 minutes\n"
     ]
    },
    {
     "name": "stderr",
     "output_type": "stream",
     "text": [
      "Processing train:  79%|███████▉  | 7260/9152 [9:33:59<2:51:46,  5.45s/it]"
     ]
    },
    {
     "name": "stdout",
     "output_type": "stream",
     "text": [
      "\n",
      "Batch 7260/9152: Load=1.89s, Embed=1.62s, Store=0.00s, Total=5.19s, Images/sec=2.31\n",
      "Estimated remaining time: 163.7 minutes\n"
     ]
    },
    {
     "name": "stderr",
     "output_type": "stream",
     "text": [
      "Processing train:  79%|███████▉  | 7270/9152 [9:34:56<3:03:19,  5.84s/it]"
     ]
    },
    {
     "name": "stdout",
     "output_type": "stream",
     "text": [
      "\n",
      "Batch 7270/9152: Load=2.52s, Embed=1.67s, Store=0.00s, Total=5.87s, Images/sec=2.04\n",
      "Estimated remaining time: 184.1 minutes\n"
     ]
    },
    {
     "name": "stderr",
     "output_type": "stream",
     "text": [
      "Processing train:  80%|███████▉  | 7280/9152 [9:35:58<3:16:01,  6.28s/it]"
     ]
    },
    {
     "name": "stdout",
     "output_type": "stream",
     "text": [
      "\n",
      "Batch 7280/9152: Load=2.84s, Embed=1.92s, Store=0.00s, Total=6.44s, Images/sec=1.86\n",
      "Estimated remaining time: 201.0 minutes\n"
     ]
    },
    {
     "name": "stderr",
     "output_type": "stream",
     "text": [
      "Processing train:  80%|███████▉  | 7290/9152 [9:36:56<3:01:00,  5.83s/it]"
     ]
    },
    {
     "name": "stdout",
     "output_type": "stream",
     "text": [
      "\n",
      "Batch 7290/9152: Load=2.60s, Embed=1.71s, Store=0.00s, Total=5.98s, Images/sec=2.01\n",
      "Estimated remaining time: 185.7 minutes\n"
     ]
    },
    {
     "name": "stderr",
     "output_type": "stream",
     "text": [
      "Processing train:  80%|███████▉  | 7300/9152 [9:38:23<7:19:26, 14.24s/it]"
     ]
    },
    {
     "name": "stdout",
     "output_type": "stream",
     "text": [
      "\n",
      "Batch 7300/9152: Load=1.63s, Embed=1.62s, Store=0.00s, Total=4.92s, Images/sec=2.44\n",
      "Estimated remaining time: 151.8 minutes\n"
     ]
    },
    {
     "name": "stderr",
     "output_type": "stream",
     "text": [
      "Processing train:  80%|███████▉  | 7310/9152 [9:39:19<2:45:47,  5.40s/it]"
     ]
    },
    {
     "name": "stdout",
     "output_type": "stream",
     "text": [
      "\n",
      "Batch 7310/9152: Load=1.57s, Embed=1.62s, Store=0.00s, Total=4.93s, Images/sec=2.44\n",
      "Estimated remaining time: 151.3 minutes\n"
     ]
    },
    {
     "name": "stderr",
     "output_type": "stream",
     "text": [
      "Processing train:  80%|███████▉  | 7320/9152 [9:40:16<3:04:17,  6.04s/it]"
     ]
    },
    {
     "name": "stdout",
     "output_type": "stream",
     "text": [
      "\n",
      "Batch 7320/9152: Load=2.60s, Embed=1.71s, Store=0.00s, Total=5.98s, Images/sec=2.01\n",
      "Estimated remaining time: 182.5 minutes\n"
     ]
    },
    {
     "name": "stderr",
     "output_type": "stream",
     "text": [
      "Processing train:  80%|████████  | 7330/9152 [9:41:14<3:01:04,  5.96s/it]"
     ]
    },
    {
     "name": "stdout",
     "output_type": "stream",
     "text": [
      "\n",
      "Batch 7330/9152: Load=2.59s, Embed=1.70s, Store=0.00s, Total=6.09s, Images/sec=1.97\n",
      "Estimated remaining time: 185.0 minutes\n"
     ]
    },
    {
     "name": "stderr",
     "output_type": "stream",
     "text": [
      "Processing train:  80%|████████  | 7340/9152 [9:42:16<3:06:30,  6.18s/it]"
     ]
    },
    {
     "name": "stdout",
     "output_type": "stream",
     "text": [
      "\n",
      "Batch 7340/9152: Load=2.47s, Embed=1.72s, Store=0.00s, Total=5.99s, Images/sec=2.00\n",
      "Estimated remaining time: 181.0 minutes\n"
     ]
    },
    {
     "name": "stderr",
     "output_type": "stream",
     "text": [
      "Processing train:  80%|████████  | 7350/9152 [9:43:41<7:01:30, 14.03s/it]"
     ]
    },
    {
     "name": "stdout",
     "output_type": "stream",
     "text": [
      "\n",
      "Batch 7350/9152: Load=1.90s, Embed=1.64s, Store=0.00s, Total=5.22s, Images/sec=2.30\n",
      "Estimated remaining time: 156.7 minutes\n"
     ]
    },
    {
     "name": "stderr",
     "output_type": "stream",
     "text": [
      "Processing train:  80%|████████  | 7360/9152 [9:44:34<2:42:05,  5.43s/it]"
     ]
    },
    {
     "name": "stdout",
     "output_type": "stream",
     "text": [
      "\n",
      "Batch 7360/9152: Load=1.83s, Embed=1.67s, Store=0.00s, Total=5.13s, Images/sec=2.34\n",
      "Estimated remaining time: 153.3 minutes\n"
     ]
    },
    {
     "name": "stderr",
     "output_type": "stream",
     "text": [
      "Processing train:  81%|████████  | 7370/9152 [9:45:25<2:31:23,  5.10s/it]"
     ]
    },
    {
     "name": "stdout",
     "output_type": "stream",
     "text": [
      "\n",
      "Batch 7370/9152: Load=1.77s, Embed=1.65s, Store=0.00s, Total=5.14s, Images/sec=2.33\n",
      "Estimated remaining time: 152.6 minutes\n"
     ]
    },
    {
     "name": "stderr",
     "output_type": "stream",
     "text": [
      "Processing train:  81%|████████  | 7380/9152 [9:46:16<2:30:51,  5.11s/it]"
     ]
    },
    {
     "name": "stdout",
     "output_type": "stream",
     "text": [
      "\n",
      "Batch 7380/9152: Load=1.85s, Embed=1.65s, Store=0.00s, Total=5.12s, Images/sec=2.34\n",
      "Estimated remaining time: 151.2 minutes\n"
     ]
    },
    {
     "name": "stderr",
     "output_type": "stream",
     "text": [
      "Processing train:  81%|████████  | 7390/9152 [9:47:11<2:45:03,  5.62s/it]"
     ]
    },
    {
     "name": "stdout",
     "output_type": "stream",
     "text": [
      "\n",
      "Batch 7390/9152: Load=2.06s, Embed=1.72s, Store=0.00s, Total=5.58s, Images/sec=2.15\n",
      "Estimated remaining time: 163.7 minutes\n"
     ]
    },
    {
     "name": "stderr",
     "output_type": "stream",
     "text": [
      "Processing train:  81%|████████  | 7400/9152 [9:48:38<7:01:26, 14.43s/it]"
     ]
    },
    {
     "name": "stdout",
     "output_type": "stream",
     "text": [
      "\n",
      "Batch 7400/9152: Load=2.43s, Embed=1.71s, Store=0.00s, Total=5.78s, Images/sec=2.08\n",
      "Estimated remaining time: 168.7 minutes\n"
     ]
    },
    {
     "name": "stderr",
     "output_type": "stream",
     "text": [
      "Processing train:  81%|████████  | 7410/9152 [9:49:30<2:32:17,  5.25s/it]"
     ]
    },
    {
     "name": "stdout",
     "output_type": "stream",
     "text": [
      "\n",
      "Batch 7410/9152: Load=1.68s, Embed=1.62s, Store=0.00s, Total=5.05s, Images/sec=2.38\n",
      "Estimated remaining time: 146.7 minutes\n"
     ]
    },
    {
     "name": "stderr",
     "output_type": "stream",
     "text": [
      "Processing train:  81%|████████  | 7420/9152 [9:50:20<2:23:38,  4.98s/it]"
     ]
    },
    {
     "name": "stdout",
     "output_type": "stream",
     "text": [
      "\n",
      "Batch 7420/9152: Load=1.75s, Embed=1.65s, Store=0.00s, Total=5.09s, Images/sec=2.36\n",
      "Estimated remaining time: 146.8 minutes\n"
     ]
    },
    {
     "name": "stderr",
     "output_type": "stream",
     "text": [
      "Processing train:  81%|████████  | 7430/9152 [9:51:08<2:19:15,  4.85s/it]"
     ]
    },
    {
     "name": "stdout",
     "output_type": "stream",
     "text": [
      "\n",
      "Batch 7430/9152: Load=1.62s, Embed=1.63s, Store=0.00s, Total=4.92s, Images/sec=2.44\n",
      "Estimated remaining time: 141.2 minutes\n"
     ]
    },
    {
     "name": "stderr",
     "output_type": "stream",
     "text": [
      "Processing train:  81%|████████▏ | 7440/9152 [9:51:57<2:22:08,  4.98s/it]"
     ]
    },
    {
     "name": "stdout",
     "output_type": "stream",
     "text": [
      "\n",
      "Batch 7440/9152: Load=1.63s, Embed=1.69s, Store=0.00s, Total=5.06s, Images/sec=2.37\n",
      "Estimated remaining time: 144.4 minutes\n"
     ]
    },
    {
     "name": "stderr",
     "output_type": "stream",
     "text": [
      "Processing train:  81%|████████▏ | 7450/9152 [9:53:15<6:25:43, 13.60s/it]"
     ]
    },
    {
     "name": "stdout",
     "output_type": "stream",
     "text": [
      "\n",
      "Batch 7450/9152: Load=1.51s, Embed=1.72s, Store=0.00s, Total=4.86s, Images/sec=2.47\n",
      "Estimated remaining time: 137.8 minutes\n"
     ]
    },
    {
     "name": "stderr",
     "output_type": "stream",
     "text": [
      "Processing train:  82%|████████▏ | 7460/9152 [9:54:07<2:28:37,  5.27s/it]"
     ]
    },
    {
     "name": "stdout",
     "output_type": "stream",
     "text": [
      "\n",
      "Batch 7460/9152: Load=1.58s, Embed=1.68s, Store=0.00s, Total=4.97s, Images/sec=2.41\n",
      "Estimated remaining time: 140.2 minutes\n"
     ]
    },
    {
     "name": "stderr",
     "output_type": "stream",
     "text": [
      "Processing train:  82%|████████▏ | 7470/9152 [9:54:57<2:20:24,  5.01s/it]"
     ]
    },
    {
     "name": "stdout",
     "output_type": "stream",
     "text": [
      "\n",
      "Batch 7470/9152: Load=1.55s, Embed=1.69s, Store=0.00s, Total=5.06s, Images/sec=2.37\n",
      "Estimated remaining time: 141.8 minutes\n"
     ]
    },
    {
     "name": "stderr",
     "output_type": "stream",
     "text": [
      "Processing train:  82%|████████▏ | 7480/9152 [9:55:47<2:19:18,  5.00s/it]"
     ]
    },
    {
     "name": "stdout",
     "output_type": "stream",
     "text": [
      "\n",
      "Batch 7480/9152: Load=1.60s, Embed=1.69s, Store=0.00s, Total=4.97s, Images/sec=2.41\n",
      "Estimated remaining time: 138.5 minutes\n"
     ]
    },
    {
     "name": "stderr",
     "output_type": "stream",
     "text": [
      "Processing train:  82%|████████▏ | 7490/9152 [9:56:36<2:14:57,  4.87s/it]"
     ]
    },
    {
     "name": "stdout",
     "output_type": "stream",
     "text": [
      "\n",
      "Batch 7490/9152: Load=1.55s, Embed=1.64s, Store=0.00s, Total=4.84s, Images/sec=2.48\n",
      "Estimated remaining time: 134.2 minutes\n"
     ]
    },
    {
     "name": "stderr",
     "output_type": "stream",
     "text": [
      "Processing train:  82%|████████▏ | 7500/9152 [9:57:54<6:15:43, 13.65s/it]"
     ]
    },
    {
     "name": "stdout",
     "output_type": "stream",
     "text": [
      "\n",
      "Batch 7500/9152: Load=1.72s, Embed=1.65s, Store=0.00s, Total=5.02s, Images/sec=2.39\n",
      "Estimated remaining time: 138.1 minutes\n"
     ]
    },
    {
     "name": "stderr",
     "output_type": "stream",
     "text": [
      "Processing train:  82%|████████▏ | 7510/9152 [9:58:43<2:21:09,  5.16s/it]"
     ]
    },
    {
     "name": "stdout",
     "output_type": "stream",
     "text": [
      "\n",
      "Batch 7510/9152: Load=1.51s, Embed=1.63s, Store=0.00s, Total=4.83s, Images/sec=2.48\n",
      "Estimated remaining time: 132.2 minutes\n"
     ]
    },
    {
     "name": "stderr",
     "output_type": "stream",
     "text": [
      "Processing train:  82%|████████▏ | 7520/9152 [9:59:32<2:15:17,  4.97s/it]"
     ]
    },
    {
     "name": "stdout",
     "output_type": "stream",
     "text": [
      "\n",
      "Batch 7520/9152: Load=1.57s, Embed=1.61s, Store=0.00s, Total=4.94s, Images/sec=2.43\n",
      "Estimated remaining time: 134.4 minutes\n"
     ]
    },
    {
     "name": "stderr",
     "output_type": "stream",
     "text": [
      "Processing train:  82%|████████▏ | 7530/9152 [10:00:22<2:12:38,  4.91s/it]"
     ]
    },
    {
     "name": "stdout",
     "output_type": "stream",
     "text": [
      "\n",
      "Batch 7530/9152: Load=1.59s, Embed=1.72s, Store=0.00s, Total=4.94s, Images/sec=2.43\n",
      "Estimated remaining time: 133.7 minutes\n"
     ]
    },
    {
     "name": "stderr",
     "output_type": "stream",
     "text": [
      "Processing train:  82%|████████▏ | 7540/9152 [10:01:10<2:11:16,  4.89s/it]"
     ]
    },
    {
     "name": "stdout",
     "output_type": "stream",
     "text": [
      "\n",
      "Batch 7540/9152: Load=1.63s, Embed=1.63s, Store=0.00s, Total=4.90s, Images/sec=2.45\n",
      "Estimated remaining time: 131.6 minutes\n"
     ]
    },
    {
     "name": "stderr",
     "output_type": "stream",
     "text": [
      "Processing train:  82%|████████▏ | 7550/9152 [10:02:30<6:12:53, 13.97s/it]"
     ]
    },
    {
     "name": "stdout",
     "output_type": "stream",
     "text": [
      "\n",
      "Batch 7550/9152: Load=1.51s, Embed=1.67s, Store=0.00s, Total=4.89s, Images/sec=2.46\n",
      "Estimated remaining time: 130.5 minutes\n"
     ]
    },
    {
     "name": "stderr",
     "output_type": "stream",
     "text": [
      "Processing train:  83%|████████▎ | 7560/9152 [10:03:19<2:17:42,  5.19s/it]"
     ]
    },
    {
     "name": "stdout",
     "output_type": "stream",
     "text": [
      "\n",
      "Batch 7560/9152: Load=1.52s, Embed=1.70s, Store=0.00s, Total=4.89s, Images/sec=2.46\n",
      "Estimated remaining time: 129.6 minutes\n"
     ]
    },
    {
     "name": "stderr",
     "output_type": "stream",
     "text": [
      "Processing train:  83%|████████▎ | 7570/9152 [10:04:09<2:12:28,  5.02s/it]"
     ]
    },
    {
     "name": "stdout",
     "output_type": "stream",
     "text": [
      "\n",
      "Batch 7570/9152: Load=1.50s, Embed=1.73s, Store=0.00s, Total=4.91s, Images/sec=2.45\n",
      "Estimated remaining time: 129.3 minutes\n"
     ]
    },
    {
     "name": "stderr",
     "output_type": "stream",
     "text": [
      "Processing train:  83%|████████▎ | 7580/9152 [10:04:59<2:11:47,  5.03s/it]"
     ]
    },
    {
     "name": "stdout",
     "output_type": "stream",
     "text": [
      "\n",
      "Batch 7580/9152: Load=1.62s, Embed=1.70s, Store=0.00s, Total=5.01s, Images/sec=2.40\n",
      "Estimated remaining time: 131.1 minutes\n"
     ]
    },
    {
     "name": "stderr",
     "output_type": "stream",
     "text": [
      "Processing train:  83%|████████▎ | 7590/9152 [10:05:52<2:16:06,  5.23s/it]"
     ]
    },
    {
     "name": "stdout",
     "output_type": "stream",
     "text": [
      "\n",
      "Batch 7590/9152: Load=1.55s, Embed=1.73s, Store=0.00s, Total=5.06s, Images/sec=2.37\n",
      "Estimated remaining time: 131.7 minutes\n"
     ]
    },
    {
     "name": "stderr",
     "output_type": "stream",
     "text": [
      "Processing train:  83%|████████▎ | 7600/9152 [10:07:18<6:30:14, 15.09s/it]"
     ]
    },
    {
     "name": "stdout",
     "output_type": "stream",
     "text": [
      "\n",
      "Batch 7600/9152: Load=2.56s, Embed=1.71s, Store=0.00s, Total=6.06s, Images/sec=1.98\n",
      "Estimated remaining time: 156.7 minutes\n"
     ]
    },
    {
     "name": "stderr",
     "output_type": "stream",
     "text": [
      "Processing train:  83%|████████▎ | 7610/9152 [10:08:18<2:38:43,  6.18s/it]"
     ]
    },
    {
     "name": "stdout",
     "output_type": "stream",
     "text": [
      "\n",
      "Batch 7610/9152: Load=2.73s, Embed=1.71s, Store=0.00s, Total=6.14s, Images/sec=1.96\n",
      "Estimated remaining time: 157.7 minutes\n"
     ]
    },
    {
     "name": "stderr",
     "output_type": "stream",
     "text": [
      "Processing train:  83%|████████▎ | 7620/9152 [10:09:13<2:12:47,  5.20s/it]"
     ]
    },
    {
     "name": "stdout",
     "output_type": "stream",
     "text": [
      "\n",
      "Batch 7620/9152: Load=1.60s, Embed=1.69s, Store=0.00s, Total=4.97s, Images/sec=2.41\n",
      "Estimated remaining time: 126.9 minutes\n"
     ]
    },
    {
     "name": "stderr",
     "output_type": "stream",
     "text": [
      "Processing train:  83%|████████▎ | 7630/9152 [10:10:04<2:08:58,  5.08s/it]"
     ]
    },
    {
     "name": "stdout",
     "output_type": "stream",
     "text": [
      "\n",
      "Batch 7630/9152: Load=1.62s, Embed=1.71s, Store=0.00s, Total=5.00s, Images/sec=2.40\n",
      "Estimated remaining time: 126.8 minutes\n"
     ]
    },
    {
     "name": "stderr",
     "output_type": "stream",
     "text": [
      "Processing train:  83%|████████▎ | 7640/9152 [10:10:55<2:08:51,  5.11s/it]"
     ]
    },
    {
     "name": "stdout",
     "output_type": "stream",
     "text": [
      "\n",
      "Batch 7640/9152: Load=1.59s, Embed=1.71s, Store=0.00s, Total=5.09s, Images/sec=2.36\n",
      "Estimated remaining time: 128.3 minutes\n"
     ]
    },
    {
     "name": "stderr",
     "output_type": "stream",
     "text": [
      "Processing train:  84%|████████▎ | 7650/9152 [10:12:16<5:57:43, 14.29s/it]"
     ]
    },
    {
     "name": "stdout",
     "output_type": "stream",
     "text": [
      "\n",
      "Batch 7650/9152: Load=1.71s, Embed=1.73s, Store=0.00s, Total=5.23s, Images/sec=2.29\n",
      "Estimated remaining time: 131.0 minutes\n"
     ]
    },
    {
     "name": "stderr",
     "output_type": "stream",
     "text": [
      "Processing train:  84%|████████▎ | 7660/9152 [10:13:07<2:12:24,  5.32s/it]"
     ]
    },
    {
     "name": "stdout",
     "output_type": "stream",
     "text": [
      "\n",
      "Batch 7660/9152: Load=1.69s, Embed=1.72s, Store=0.00s, Total=5.13s, Images/sec=2.34\n",
      "Estimated remaining time: 127.5 minutes\n"
     ]
    },
    {
     "name": "stderr",
     "output_type": "stream",
     "text": [
      "Processing train:  84%|████████▍ | 7670/9152 [10:13:57<2:04:04,  5.02s/it]"
     ]
    },
    {
     "name": "stdout",
     "output_type": "stream",
     "text": [
      "\n",
      "Batch 7670/9152: Load=1.58s, Embed=1.71s, Store=0.00s, Total=5.03s, Images/sec=2.38\n",
      "Estimated remaining time: 124.3 minutes\n"
     ]
    },
    {
     "name": "stderr",
     "output_type": "stream",
     "text": [
      "Processing train:  84%|████████▍ | 7680/9152 [10:14:46<2:01:02,  4.93s/it]"
     ]
    },
    {
     "name": "stdout",
     "output_type": "stream",
     "text": [
      "\n",
      "Batch 7680/9152: Load=1.56s, Embed=1.63s, Store=0.00s, Total=4.87s, Images/sec=2.46\n",
      "Estimated remaining time: 119.5 minutes\n"
     ]
    },
    {
     "name": "stderr",
     "output_type": "stream",
     "text": [
      "Processing train:  84%|████████▍ | 7690/9152 [10:15:36<2:01:34,  4.99s/it]"
     ]
    },
    {
     "name": "stdout",
     "output_type": "stream",
     "text": [
      "\n",
      "Batch 7690/9152: Load=1.66s, Embed=1.65s, Store=0.00s, Total=5.01s, Images/sec=2.40\n",
      "Estimated remaining time: 122.0 minutes\n"
     ]
    },
    {
     "name": "stderr",
     "output_type": "stream",
     "text": [
      "Processing train:  84%|████████▍ | 7700/9152 [10:16:59<5:50:41, 14.49s/it]"
     ]
    },
    {
     "name": "stdout",
     "output_type": "stream",
     "text": [
      "\n",
      "Batch 7700/9152: Load=1.82s, Embed=1.61s, Store=0.00s, Total=5.25s, Images/sec=2.28\n",
      "Estimated remaining time: 127.2 minutes\n"
     ]
    },
    {
     "name": "stderr",
     "output_type": "stream",
     "text": [
      "Processing train:  84%|████████▍ | 7710/9152 [10:17:51<2:09:55,  5.41s/it]"
     ]
    },
    {
     "name": "stdout",
     "output_type": "stream",
     "text": [
      "\n",
      "Batch 7710/9152: Load=1.64s, Embed=1.64s, Store=0.00s, Total=4.97s, Images/sec=2.42\n",
      "Estimated remaining time: 119.4 minutes\n"
     ]
    },
    {
     "name": "stderr",
     "output_type": "stream",
     "text": [
      "Processing train:  84%|████████▍ | 7720/9152 [10:18:41<2:01:45,  5.10s/it]"
     ]
    },
    {
     "name": "stdout",
     "output_type": "stream",
     "text": [
      "\n",
      "Batch 7720/9152: Load=1.57s, Embed=1.63s, Store=0.00s, Total=4.99s, Images/sec=2.40\n",
      "Estimated remaining time: 119.2 minutes\n"
     ]
    },
    {
     "name": "stderr",
     "output_type": "stream",
     "text": [
      "Processing train:  84%|████████▍ | 7730/9152 [10:19:32<1:59:44,  5.05s/it]"
     ]
    },
    {
     "name": "stdout",
     "output_type": "stream",
     "text": [
      "\n",
      "Batch 7730/9152: Load=1.69s, Embed=1.64s, Store=0.00s, Total=5.01s, Images/sec=2.40\n",
      "Estimated remaining time: 118.7 minutes\n"
     ]
    },
    {
     "name": "stderr",
     "output_type": "stream",
     "text": [
      "Processing train:  85%|████████▍ | 7740/9152 [10:20:22<1:57:54,  5.01s/it]"
     ]
    },
    {
     "name": "stdout",
     "output_type": "stream",
     "text": [
      "\n",
      "Batch 7740/9152: Load=1.65s, Embed=1.63s, Store=0.00s, Total=4.97s, Images/sec=2.41\n",
      "Estimated remaining time: 117.0 minutes\n"
     ]
    },
    {
     "name": "stderr",
     "output_type": "stream",
     "text": [
      "Processing train:  85%|████████▍ | 7750/9152 [10:21:43<5:28:25, 14.06s/it]"
     ]
    },
    {
     "name": "stdout",
     "output_type": "stream",
     "text": [
      "\n",
      "Batch 7750/9152: Load=1.69s, Embed=1.63s, Store=0.00s, Total=4.99s, Images/sec=2.40\n",
      "Estimated remaining time: 116.6 minutes\n"
     ]
    },
    {
     "name": "stderr",
     "output_type": "stream",
     "text": [
      "Processing train:  85%|████████▍ | 7760/9152 [10:22:36<2:05:43,  5.42s/it]"
     ]
    },
    {
     "name": "stdout",
     "output_type": "stream",
     "text": [
      "\n",
      "Batch 7760/9152: Load=1.73s, Embed=1.62s, Store=0.00s, Total=5.10s, Images/sec=2.35\n",
      "Estimated remaining time: 118.4 minutes\n"
     ]
    },
    {
     "name": "stderr",
     "output_type": "stream",
     "text": [
      "Processing train:  85%|████████▍ | 7770/9152 [10:23:27<1:57:23,  5.10s/it]"
     ]
    },
    {
     "name": "stdout",
     "output_type": "stream",
     "text": [
      "\n",
      "Batch 7770/9152: Load=1.69s, Embed=1.65s, Store=0.00s, Total=5.05s, Images/sec=2.38\n",
      "Estimated remaining time: 116.3 minutes\n"
     ]
    },
    {
     "name": "stderr",
     "output_type": "stream",
     "text": [
      "Processing train:  85%|████████▌ | 7780/9152 [10:24:17<1:54:51,  5.02s/it]"
     ]
    },
    {
     "name": "stdout",
     "output_type": "stream",
     "text": [
      "\n",
      "Batch 7780/9152: Load=1.68s, Embed=1.64s, Store=0.00s, Total=5.06s, Images/sec=2.37\n",
      "Estimated remaining time: 115.7 minutes\n"
     ]
    },
    {
     "name": "stderr",
     "output_type": "stream",
     "text": [
      "Processing train:  85%|████████▌ | 7790/9152 [10:25:08<1:56:04,  5.11s/it]"
     ]
    },
    {
     "name": "stdout",
     "output_type": "stream",
     "text": [
      "\n",
      "Batch 7790/9152: Load=1.73s, Embed=1.63s, Store=0.00s, Total=5.18s, Images/sec=2.32\n",
      "Estimated remaining time: 117.6 minutes\n"
     ]
    },
    {
     "name": "stderr",
     "output_type": "stream",
     "text": [
      "Processing train:  85%|████████▌ | 7800/9152 [10:26:30<5:18:24, 14.13s/it]"
     ]
    },
    {
     "name": "stdout",
     "output_type": "stream",
     "text": [
      "\n",
      "Batch 7800/9152: Load=1.68s, Embed=1.64s, Store=0.00s, Total=5.04s, Images/sec=2.38\n",
      "Estimated remaining time: 113.6 minutes\n"
     ]
    },
    {
     "name": "stderr",
     "output_type": "stream",
     "text": [
      "Processing train:  85%|████████▌ | 7810/9152 [10:27:21<1:59:15,  5.33s/it]"
     ]
    },
    {
     "name": "stdout",
     "output_type": "stream",
     "text": [
      "\n",
      "Batch 7810/9152: Load=1.61s, Embed=1.61s, Store=0.00s, Total=4.99s, Images/sec=2.40\n",
      "Estimated remaining time: 111.7 minutes\n"
     ]
    },
    {
     "name": "stderr",
     "output_type": "stream",
     "text": [
      "Processing train:  85%|████████▌ | 7820/9152 [10:28:13<1:55:05,  5.18s/it]"
     ]
    },
    {
     "name": "stdout",
     "output_type": "stream",
     "text": [
      "\n",
      "Batch 7820/9152: Load=1.57s, Embed=1.63s, Store=0.00s, Total=4.91s, Images/sec=2.45\n",
      "Estimated remaining time: 108.9 minutes\n"
     ]
    },
    {
     "name": "stderr",
     "output_type": "stream",
     "text": [
      "Processing train:  86%|████████▌ | 7830/9152 [10:29:04<1:53:09,  5.14s/it]"
     ]
    },
    {
     "name": "stdout",
     "output_type": "stream",
     "text": [
      "\n",
      "Batch 7830/9152: Load=1.66s, Embed=1.66s, Store=0.00s, Total=5.09s, Images/sec=2.36\n",
      "Estimated remaining time: 112.2 minutes\n"
     ]
    },
    {
     "name": "stderr",
     "output_type": "stream",
     "text": [
      "Processing train:  86%|████████▌ | 7840/9152 [10:29:55<1:52:55,  5.16s/it]"
     ]
    },
    {
     "name": "stdout",
     "output_type": "stream",
     "text": [
      "\n",
      "Batch 7840/9152: Load=1.58s, Embed=1.71s, Store=0.00s, Total=5.11s, Images/sec=2.35\n",
      "Estimated remaining time: 111.8 minutes\n"
     ]
    },
    {
     "name": "stderr",
     "output_type": "stream",
     "text": [
      "Processing train:  86%|████████▌ | 7850/9152 [10:31:17<5:10:05, 14.29s/it]"
     ]
    },
    {
     "name": "stdout",
     "output_type": "stream",
     "text": [
      "\n",
      "Batch 7850/9152: Load=1.72s, Embed=1.70s, Store=0.00s, Total=5.13s, Images/sec=2.34\n",
      "Estimated remaining time: 111.2 minutes\n"
     ]
    },
    {
     "name": "stderr",
     "output_type": "stream",
     "text": [
      "Processing train:  86%|████████▌ | 7860/9152 [10:32:09<1:56:14,  5.40s/it]"
     ]
    },
    {
     "name": "stdout",
     "output_type": "stream",
     "text": [
      "\n",
      "Batch 7860/9152: Load=1.73s, Embed=1.73s, Store=0.00s, Total=5.16s, Images/sec=2.32\n",
      "Estimated remaining time: 111.2 minutes\n"
     ]
    },
    {
     "name": "stderr",
     "output_type": "stream",
     "text": [
      "Processing train:  86%|████████▌ | 7870/9152 [10:33:01<1:52:04,  5.24s/it]"
     ]
    },
    {
     "name": "stdout",
     "output_type": "stream",
     "text": [
      "\n",
      "Batch 7870/9152: Load=1.77s, Embed=1.67s, Store=0.00s, Total=5.18s, Images/sec=2.32\n",
      "Estimated remaining time: 110.8 minutes\n"
     ]
    },
    {
     "name": "stderr",
     "output_type": "stream",
     "text": [
      "Processing train:  86%|████████▌ | 7880/9152 [10:33:52<1:47:52,  5.09s/it]"
     ]
    },
    {
     "name": "stdout",
     "output_type": "stream",
     "text": [
      "\n",
      "Batch 7880/9152: Load=1.70s, Embed=1.71s, Store=0.00s, Total=5.18s, Images/sec=2.32\n",
      "Estimated remaining time: 109.7 minutes\n"
     ]
    },
    {
     "name": "stderr",
     "output_type": "stream",
     "text": [
      "Processing train:  86%|████████▌ | 7890/9152 [10:34:45<1:48:32,  5.16s/it]"
     ]
    },
    {
     "name": "stdout",
     "output_type": "stream",
     "text": [
      "\n",
      "Batch 7890/9152: Load=1.74s, Embed=1.63s, Store=0.00s, Total=5.12s, Images/sec=2.34\n",
      "Estimated remaining time: 107.7 minutes\n"
     ]
    },
    {
     "name": "stderr",
     "output_type": "stream",
     "text": [
      "Processing train:  86%|████████▋ | 7900/9152 [10:36:07<4:57:30, 14.26s/it]"
     ]
    },
    {
     "name": "stdout",
     "output_type": "stream",
     "text": [
      "\n",
      "Batch 7900/9152: Load=1.72s, Embed=1.72s, Store=0.00s, Total=5.24s, Images/sec=2.29\n",
      "Estimated remaining time: 109.3 minutes\n"
     ]
    },
    {
     "name": "stderr",
     "output_type": "stream",
     "text": [
      "Processing train:  86%|████████▋ | 7910/9152 [10:36:59<1:50:08,  5.32s/it]"
     ]
    },
    {
     "name": "stdout",
     "output_type": "stream",
     "text": [
      "\n",
      "Batch 7910/9152: Load=1.56s, Embed=1.69s, Store=0.00s, Total=4.98s, Images/sec=2.41\n",
      "Estimated remaining time: 103.0 minutes\n"
     ]
    },
    {
     "name": "stderr",
     "output_type": "stream",
     "text": [
      "Processing train:  87%|████████▋ | 7920/9152 [10:37:52<1:47:11,  5.22s/it]"
     ]
    },
    {
     "name": "stdout",
     "output_type": "stream",
     "text": [
      "\n",
      "Batch 7920/9152: Load=1.77s, Embed=1.69s, Store=0.00s, Total=5.18s, Images/sec=2.32\n",
      "Estimated remaining time: 106.3 minutes\n"
     ]
    },
    {
     "name": "stderr",
     "output_type": "stream",
     "text": [
      "Processing train:  87%|████████▋ | 7930/9152 [10:38:43<1:45:54,  5.20s/it]"
     ]
    },
    {
     "name": "stdout",
     "output_type": "stream",
     "text": [
      "\n",
      "Batch 7930/9152: Load=1.65s, Embed=1.68s, Store=0.00s, Total=5.16s, Images/sec=2.32\n",
      "Estimated remaining time: 105.2 minutes\n"
     ]
    },
    {
     "name": "stderr",
     "output_type": "stream",
     "text": [
      "Processing train:  87%|████████▋ | 7940/9152 [10:39:35<1:45:01,  5.20s/it]"
     ]
    },
    {
     "name": "stdout",
     "output_type": "stream",
     "text": [
      "\n",
      "Batch 7940/9152: Load=1.69s, Embed=1.71s, Store=0.00s, Total=5.14s, Images/sec=2.33\n",
      "Estimated remaining time: 103.9 minutes\n"
     ]
    },
    {
     "name": "stderr",
     "output_type": "stream",
     "text": [
      "Processing train:  87%|████████▋ | 7950/9152 [10:41:03<5:21:02, 16.03s/it]"
     ]
    },
    {
     "name": "stdout",
     "output_type": "stream",
     "text": [
      "\n",
      "Batch 7950/9152: Load=1.81s, Embed=1.64s, Store=0.00s, Total=6.44s, Images/sec=1.86\n",
      "Estimated remaining time: 128.9 minutes\n"
     ]
    },
    {
     "name": "stderr",
     "output_type": "stream",
     "text": [
      "Processing train:  87%|████████▋ | 7960/9152 [10:42:06<2:10:37,  6.58s/it]"
     ]
    },
    {
     "name": "stdout",
     "output_type": "stream",
     "text": [
      "\n",
      "Batch 7960/9152: Load=2.90s, Embed=1.71s, Store=0.00s, Total=6.46s, Images/sec=1.86\n",
      "Estimated remaining time: 128.3 minutes\n"
     ]
    },
    {
     "name": "stderr",
     "output_type": "stream",
     "text": [
      "Processing train:  87%|████████▋ | 7970/9152 [10:43:06<1:52:33,  5.71s/it]"
     ]
    },
    {
     "name": "stdout",
     "output_type": "stream",
     "text": [
      "\n",
      "Batch 7970/9152: Load=1.82s, Embed=1.68s, Store=0.00s, Total=5.36s, Images/sec=2.24\n",
      "Estimated remaining time: 105.6 minutes\n"
     ]
    },
    {
     "name": "stderr",
     "output_type": "stream",
     "text": [
      "Processing train:  87%|████████▋ | 7980/9152 [10:44:04<1:47:34,  5.51s/it]"
     ]
    },
    {
     "name": "stdout",
     "output_type": "stream",
     "text": [
      "\n",
      "Batch 7980/9152: Load=1.72s, Embed=1.71s, Store=0.00s, Total=5.34s, Images/sec=2.25\n",
      "Estimated remaining time: 104.3 minutes\n"
     ]
    },
    {
     "name": "stderr",
     "output_type": "stream",
     "text": [
      "Processing train:  87%|████████▋ | 7990/9152 [10:44:57<1:42:48,  5.31s/it]"
     ]
    },
    {
     "name": "stdout",
     "output_type": "stream",
     "text": [
      "\n",
      "Batch 7990/9152: Load=1.79s, Embed=1.72s, Store=0.00s, Total=5.41s, Images/sec=2.22\n",
      "Estimated remaining time: 104.9 minutes\n"
     ]
    },
    {
     "name": "stderr",
     "output_type": "stream",
     "text": [
      "Processing train:  87%|████████▋ | 8000/9152 [10:46:21<4:39:35, 14.56s/it]"
     ]
    },
    {
     "name": "stdout",
     "output_type": "stream",
     "text": [
      "\n",
      "Batch 8000/9152: Load=1.92s, Embed=1.74s, Store=0.00s, Total=5.62s, Images/sec=2.13\n",
      "Estimated remaining time: 107.9 minutes\n"
     ]
    },
    {
     "name": "stderr",
     "output_type": "stream",
     "text": [
      "Processing train:  88%|████████▊ | 8010/9152 [10:47:16<1:49:44,  5.77s/it]"
     ]
    },
    {
     "name": "stdout",
     "output_type": "stream",
     "text": [
      "\n",
      "Batch 8010/9152: Load=1.76s, Embed=1.71s, Store=0.00s, Total=5.31s, Images/sec=2.26\n",
      "Estimated remaining time: 101.0 minutes\n"
     ]
    },
    {
     "name": "stderr",
     "output_type": "stream",
     "text": [
      "Processing train:  88%|████████▊ | 8020/9152 [10:48:10<1:40:33,  5.33s/it]"
     ]
    },
    {
     "name": "stdout",
     "output_type": "stream",
     "text": [
      "\n",
      "Batch 8020/9152: Load=1.57s, Embed=1.65s, Store=0.00s, Total=5.09s, Images/sec=2.36\n",
      "Estimated remaining time: 95.9 minutes\n"
     ]
    },
    {
     "name": "stderr",
     "output_type": "stream",
     "text": [
      "Processing train:  88%|████████▊ | 8030/9152 [10:49:01<1:36:18,  5.15s/it]"
     ]
    },
    {
     "name": "stdout",
     "output_type": "stream",
     "text": [
      "\n",
      "Batch 8030/9152: Load=1.62s, Embed=1.64s, Store=0.00s, Total=5.16s, Images/sec=2.33\n",
      "Estimated remaining time: 96.5 minutes\n"
     ]
    },
    {
     "name": "stderr",
     "output_type": "stream",
     "text": [
      "Processing train:  88%|████████▊ | 8040/9152 [10:49:53<1:37:16,  5.25s/it]"
     ]
    },
    {
     "name": "stdout",
     "output_type": "stream",
     "text": [
      "\n",
      "Batch 8040/9152: Load=1.67s, Embed=1.73s, Store=0.00s, Total=5.21s, Images/sec=2.31\n",
      "Estimated remaining time: 96.5 minutes\n"
     ]
    },
    {
     "name": "stderr",
     "output_type": "stream",
     "text": [
      "Processing train:  88%|████████▊ | 8050/9152 [10:51:21<4:36:28, 15.05s/it]"
     ]
    },
    {
     "name": "stdout",
     "output_type": "stream",
     "text": [
      "\n",
      "Batch 8050/9152: Load=1.68s, Embed=1.72s, Store=0.00s, Total=5.35s, Images/sec=2.24\n",
      "Estimated remaining time: 98.4 minutes\n"
     ]
    },
    {
     "name": "stderr",
     "output_type": "stream",
     "text": [
      "Processing train:  88%|████████▊ | 8060/9152 [10:52:15<1:43:52,  5.71s/it]"
     ]
    },
    {
     "name": "stdout",
     "output_type": "stream",
     "text": [
      "\n",
      "Batch 8060/9152: Load=1.59s, Embed=1.72s, Store=0.00s, Total=5.20s, Images/sec=2.31\n",
      "Estimated remaining time: 94.6 minutes\n"
     ]
    },
    {
     "name": "stderr",
     "output_type": "stream",
     "text": [
      "Processing train:  88%|████████▊ | 8070/9152 [10:53:09<1:37:54,  5.43s/it]"
     ]
    },
    {
     "name": "stdout",
     "output_type": "stream",
     "text": [
      "\n",
      "Batch 8070/9152: Load=2.14s, Embed=1.64s, Store=0.00s, Total=5.67s, Images/sec=2.12\n",
      "Estimated remaining time: 102.2 minutes\n"
     ]
    },
    {
     "name": "stderr",
     "output_type": "stream",
     "text": [
      "Processing train:  88%|████████▊ | 8080/9152 [10:54:02<1:33:50,  5.25s/it]"
     ]
    },
    {
     "name": "stdout",
     "output_type": "stream",
     "text": [
      "\n",
      "Batch 8080/9152: Load=1.62s, Embed=1.63s, Store=0.00s, Total=5.09s, Images/sec=2.36\n",
      "Estimated remaining time: 90.9 minutes\n"
     ]
    },
    {
     "name": "stderr",
     "output_type": "stream",
     "text": [
      "Processing train:  88%|████████▊ | 8090/9152 [10:54:54<1:32:12,  5.21s/it]"
     ]
    },
    {
     "name": "stdout",
     "output_type": "stream",
     "text": [
      "\n",
      "Batch 8090/9152: Load=1.70s, Embed=1.63s, Store=0.00s, Total=5.26s, Images/sec=2.28\n",
      "Estimated remaining time: 93.1 minutes\n"
     ]
    },
    {
     "name": "stderr",
     "output_type": "stream",
     "text": [
      "Processing train:  89%|████████▊ | 8100/9152 [10:56:17<4:14:30, 14.52s/it]"
     ]
    },
    {
     "name": "stdout",
     "output_type": "stream",
     "text": [
      "\n",
      "Batch 8100/9152: Load=1.67s, Embed=1.62s, Store=0.00s, Total=5.32s, Images/sec=2.25\n",
      "Estimated remaining time: 93.3 minutes\n"
     ]
    },
    {
     "name": "stderr",
     "output_type": "stream",
     "text": [
      "Processing train:  89%|████████▊ | 8110/9152 [10:57:08<1:34:39,  5.45s/it]"
     ]
    },
    {
     "name": "stdout",
     "output_type": "stream",
     "text": [
      "\n",
      "Batch 8110/9152: Load=1.77s, Embed=1.62s, Store=0.00s, Total=5.29s, Images/sec=2.27\n",
      "Estimated remaining time: 91.8 minutes\n"
     ]
    },
    {
     "name": "stderr",
     "output_type": "stream",
     "text": [
      "Processing train:  89%|████████▊ | 8120/9152 [10:58:00<1:29:18,  5.19s/it]"
     ]
    },
    {
     "name": "stdout",
     "output_type": "stream",
     "text": [
      "\n",
      "Batch 8120/9152: Load=1.54s, Embed=1.63s, Store=0.00s, Total=5.08s, Images/sec=2.36\n",
      "Estimated remaining time: 87.4 minutes\n"
     ]
    },
    {
     "name": "stderr",
     "output_type": "stream",
     "text": [
      "Processing train:  89%|████████▉ | 8130/9152 [10:58:52<1:28:20,  5.19s/it]"
     ]
    },
    {
     "name": "stdout",
     "output_type": "stream",
     "text": [
      "\n",
      "Batch 8130/9152: Load=1.61s, Embed=1.63s, Store=0.00s, Total=5.19s, Images/sec=2.31\n",
      "Estimated remaining time: 88.4 minutes\n"
     ]
    },
    {
     "name": "stderr",
     "output_type": "stream",
     "text": [
      "Processing train:  89%|████████▉ | 8140/9152 [10:59:44<1:27:48,  5.21s/it]"
     ]
    },
    {
     "name": "stdout",
     "output_type": "stream",
     "text": [
      "\n",
      "Batch 8140/9152: Load=1.72s, Embed=1.64s, Store=0.00s, Total=5.27s, Images/sec=2.28\n",
      "Estimated remaining time: 88.9 minutes\n"
     ]
    },
    {
     "name": "stderr",
     "output_type": "stream",
     "text": [
      "Processing train:  89%|████████▉ | 8150/9152 [11:01:08<4:04:59, 14.67s/it]"
     ]
    },
    {
     "name": "stdout",
     "output_type": "stream",
     "text": [
      "\n",
      "Batch 8150/9152: Load=1.70s, Embed=1.64s, Store=0.00s, Total=5.20s, Images/sec=2.31\n",
      "Estimated remaining time: 86.8 minutes\n"
     ]
    },
    {
     "name": "stderr",
     "output_type": "stream",
     "text": [
      "Processing train:  89%|████████▉ | 8160/9152 [11:02:02<1:32:49,  5.61s/it]"
     ]
    },
    {
     "name": "stdout",
     "output_type": "stream",
     "text": [
      "\n",
      "Batch 8160/9152: Load=1.77s, Embed=1.62s, Store=0.00s, Total=5.30s, Images/sec=2.26\n",
      "Estimated remaining time: 87.6 minutes\n"
     ]
    },
    {
     "name": "stderr",
     "output_type": "stream",
     "text": [
      "Processing train:  89%|████████▉ | 8170/9152 [11:02:54<1:25:42,  5.24s/it]"
     ]
    },
    {
     "name": "stdout",
     "output_type": "stream",
     "text": [
      "\n",
      "Batch 8170/9152: Load=1.67s, Embed=1.69s, Store=0.00s, Total=5.24s, Images/sec=2.29\n",
      "Estimated remaining time: 85.8 minutes\n"
     ]
    },
    {
     "name": "stderr",
     "output_type": "stream",
     "text": [
      "Processing train:  89%|████████▉ | 8180/9152 [11:03:47<1:26:34,  5.34s/it]"
     ]
    },
    {
     "name": "stdout",
     "output_type": "stream",
     "text": [
      "\n",
      "Batch 8180/9152: Load=1.75s, Embed=1.72s, Store=0.00s, Total=5.42s, Images/sec=2.22\n",
      "Estimated remaining time: 87.7 minutes\n"
     ]
    },
    {
     "name": "stderr",
     "output_type": "stream",
     "text": [
      "Processing train:  89%|████████▉ | 8190/9152 [11:04:41<1:28:34,  5.52s/it]"
     ]
    },
    {
     "name": "stdout",
     "output_type": "stream",
     "text": [
      "\n",
      "Batch 8190/9152: Load=1.73s, Embed=1.67s, Store=0.00s, Total=5.26s, Images/sec=2.28\n",
      "Estimated remaining time: 84.3 minutes\n"
     ]
    },
    {
     "name": "stderr",
     "output_type": "stream",
     "text": [
      "Processing train:  90%|████████▉ | 8200/9152 [11:06:08<4:04:48, 15.43s/it]"
     ]
    },
    {
     "name": "stdout",
     "output_type": "stream",
     "text": [
      "\n",
      "Batch 8200/9152: Load=1.66s, Embed=1.65s, Store=0.00s, Total=5.41s, Images/sec=2.22\n",
      "Estimated remaining time: 85.8 minutes\n"
     ]
    },
    {
     "name": "stderr",
     "output_type": "stream",
     "text": [
      "Processing train:  90%|████████▉ | 8210/9152 [11:07:04<1:27:24,  5.57s/it]"
     ]
    },
    {
     "name": "stdout",
     "output_type": "stream",
     "text": [
      "\n",
      "Batch 8210/9152: Load=1.64s, Embed=1.66s, Store=0.00s, Total=5.15s, Images/sec=2.33\n",
      "Estimated remaining time: 80.8 minutes\n"
     ]
    },
    {
     "name": "stderr",
     "output_type": "stream",
     "text": [
      "Processing train:  90%|████████▉ | 8220/9152 [11:07:56<1:21:28,  5.25s/it]"
     ]
    },
    {
     "name": "stdout",
     "output_type": "stream",
     "text": [
      "\n",
      "Batch 8220/9152: Load=1.75s, Embed=1.68s, Store=0.00s, Total=5.27s, Images/sec=2.28\n",
      "Estimated remaining time: 81.9 minutes\n"
     ]
    },
    {
     "name": "stderr",
     "output_type": "stream",
     "text": [
      "Processing train:  90%|████████▉ | 8230/9152 [11:08:48<1:19:06,  5.15s/it]"
     ]
    },
    {
     "name": "stdout",
     "output_type": "stream",
     "text": [
      "\n",
      "Batch 8230/9152: Load=1.62s, Embed=1.68s, Store=0.00s, Total=5.16s, Images/sec=2.32\n",
      "Estimated remaining time: 79.4 minutes\n"
     ]
    },
    {
     "name": "stderr",
     "output_type": "stream",
     "text": [
      "Processing train:  90%|█████████ | 8240/9152 [11:09:40<1:19:24,  5.22s/it]"
     ]
    },
    {
     "name": "stdout",
     "output_type": "stream",
     "text": [
      "\n",
      "Batch 8240/9152: Load=1.58s, Embed=1.73s, Store=0.00s, Total=5.20s, Images/sec=2.31\n",
      "Estimated remaining time: 79.0 minutes\n"
     ]
    },
    {
     "name": "stderr",
     "output_type": "stream",
     "text": [
      "Processing train:  90%|█████████ | 8250/9152 [11:11:08<3:56:21, 15.72s/it]"
     ]
    },
    {
     "name": "stdout",
     "output_type": "stream",
     "text": [
      "\n",
      "Batch 8250/9152: Load=1.73s, Embed=1.64s, Store=0.00s, Total=5.22s, Images/sec=2.30\n",
      "Estimated remaining time: 78.4 minutes\n"
     ]
    },
    {
     "name": "stderr",
     "output_type": "stream",
     "text": [
      "Processing train:  90%|█████████ | 8260/9152 [11:12:07<1:26:03,  5.79s/it]"
     ]
    },
    {
     "name": "stdout",
     "output_type": "stream",
     "text": [
      "\n",
      "Batch 8260/9152: Load=1.84s, Embed=1.69s, Store=0.00s, Total=5.42s, Images/sec=2.22\n",
      "Estimated remaining time: 80.5 minutes\n"
     ]
    },
    {
     "name": "stderr",
     "output_type": "stream",
     "text": [
      "Processing train:  90%|█████████ | 8270/9152 [11:13:03<1:23:15,  5.66s/it]"
     ]
    },
    {
     "name": "stdout",
     "output_type": "stream",
     "text": [
      "\n",
      "Batch 8270/9152: Load=1.85s, Embed=1.70s, Store=0.02s, Total=5.92s, Images/sec=2.03\n",
      "Estimated remaining time: 87.0 minutes\n"
     ]
    },
    {
     "name": "stderr",
     "output_type": "stream",
     "text": [
      "Processing train:  90%|█████████ | 8280/9152 [11:13:58<1:19:29,  5.47s/it]"
     ]
    },
    {
     "name": "stdout",
     "output_type": "stream",
     "text": [
      "\n",
      "Batch 8280/9152: Load=1.98s, Embed=1.64s, Store=0.00s, Total=5.49s, Images/sec=2.19\n",
      "Estimated remaining time: 79.8 minutes\n"
     ]
    },
    {
     "name": "stderr",
     "output_type": "stream",
     "text": [
      "Processing train:  91%|█████████ | 8290/9152 [11:14:52<1:17:08,  5.37s/it]"
     ]
    },
    {
     "name": "stdout",
     "output_type": "stream",
     "text": [
      "\n",
      "Batch 8290/9152: Load=1.64s, Embed=1.70s, Store=0.02s, Total=5.27s, Images/sec=2.28\n",
      "Estimated remaining time: 75.7 minutes\n"
     ]
    },
    {
     "name": "stderr",
     "output_type": "stream",
     "text": [
      "Processing train:  91%|█████████ | 8300/9152 [11:16:29<3:55:48, 16.61s/it]"
     ]
    },
    {
     "name": "stdout",
     "output_type": "stream",
     "text": [
      "\n",
      "Batch 8300/9152: Load=2.52s, Embed=1.70s, Store=0.00s, Total=6.19s, Images/sec=1.94\n",
      "Estimated remaining time: 87.9 minutes\n"
     ]
    },
    {
     "name": "stderr",
     "output_type": "stream",
     "text": [
      "Processing train:  91%|█████████ | 8310/9152 [11:17:31<1:31:41,  6.53s/it]"
     ]
    },
    {
     "name": "stdout",
     "output_type": "stream",
     "text": [
      "\n",
      "Batch 8310/9152: Load=2.62s, Embed=1.81s, Store=0.00s, Total=6.34s, Images/sec=1.89\n",
      "Estimated remaining time: 89.0 minutes\n"
     ]
    },
    {
     "name": "stderr",
     "output_type": "stream",
     "text": [
      "Processing train:  91%|█████████ | 8320/9152 [11:18:28<1:15:13,  5.43s/it]"
     ]
    },
    {
     "name": "stdout",
     "output_type": "stream",
     "text": [
      "\n",
      "Batch 8320/9152: Load=1.63s, Embed=1.76s, Store=0.00s, Total=5.25s, Images/sec=2.29\n",
      "Estimated remaining time: 72.8 minutes\n"
     ]
    },
    {
     "name": "stderr",
     "output_type": "stream",
     "text": [
      "Processing train:  91%|█████████ | 8330/9152 [11:19:21<1:12:21,  5.28s/it]"
     ]
    },
    {
     "name": "stdout",
     "output_type": "stream",
     "text": [
      "\n",
      "Batch 8330/9152: Load=1.59s, Embed=1.66s, Store=0.00s, Total=5.16s, Images/sec=2.32\n",
      "Estimated remaining time: 70.8 minutes\n"
     ]
    },
    {
     "name": "stderr",
     "output_type": "stream",
     "text": [
      "Processing train:  91%|█████████ | 8340/9152 [11:20:14<1:13:06,  5.40s/it]"
     ]
    },
    {
     "name": "stdout",
     "output_type": "stream",
     "text": [
      "\n",
      "Batch 8340/9152: Load=1.94s, Embed=1.74s, Store=0.00s, Total=5.61s, Images/sec=2.14\n",
      "Estimated remaining time: 76.0 minutes\n"
     ]
    },
    {
     "name": "stderr",
     "output_type": "stream",
     "text": [
      "Processing train:  91%|█████████ | 8350/9152 [11:21:39<3:21:13, 15.05s/it]"
     ]
    },
    {
     "name": "stdout",
     "output_type": "stream",
     "text": [
      "\n",
      "Batch 8350/9152: Load=1.52s, Embed=1.69s, Store=0.00s, Total=5.11s, Images/sec=2.35\n",
      "Estimated remaining time: 68.3 minutes\n"
     ]
    },
    {
     "name": "stderr",
     "output_type": "stream",
     "text": [
      "Processing train:  91%|█████████▏| 8360/9152 [11:22:32<1:12:36,  5.50s/it]"
     ]
    },
    {
     "name": "stdout",
     "output_type": "stream",
     "text": [
      "\n",
      "Batch 8360/9152: Load=1.63s, Embed=1.63s, Store=0.00s, Total=5.16s, Images/sec=2.32\n",
      "Estimated remaining time: 68.2 minutes\n"
     ]
    },
    {
     "name": "stderr",
     "output_type": "stream",
     "text": [
      "Processing train:  91%|█████████▏| 8370/9152 [11:23:23<1:06:43,  5.12s/it]"
     ]
    },
    {
     "name": "stdout",
     "output_type": "stream",
     "text": [
      "\n",
      "Batch 8370/9152: Load=1.54s, Embed=1.62s, Store=0.00s, Total=5.09s, Images/sec=2.36\n",
      "Estimated remaining time: 66.3 minutes\n"
     ]
    },
    {
     "name": "stderr",
     "output_type": "stream",
     "text": [
      "Processing train:  92%|█████████▏| 8380/9152 [11:24:14<1:05:37,  5.10s/it]"
     ]
    },
    {
     "name": "stdout",
     "output_type": "stream",
     "text": [
      "\n",
      "Batch 8380/9152: Load=1.60s, Embed=1.63s, Store=0.00s, Total=5.08s, Images/sec=2.36\n",
      "Estimated remaining time: 65.4 minutes\n"
     ]
    },
    {
     "name": "stderr",
     "output_type": "stream",
     "text": [
      "Processing train:  92%|█████████▏| 8390/9152 [11:25:05<1:04:35,  5.09s/it]"
     ]
    },
    {
     "name": "stdout",
     "output_type": "stream",
     "text": [
      "\n",
      "Batch 8390/9152: Load=1.52s, Embed=1.63s, Store=0.00s, Total=5.06s, Images/sec=2.37\n",
      "Estimated remaining time: 64.3 minutes\n"
     ]
    },
    {
     "name": "stderr",
     "output_type": "stream",
     "text": [
      "Processing train:  92%|█████████▏| 8400/9152 [11:26:32<3:15:18, 15.58s/it]"
     ]
    },
    {
     "name": "stdout",
     "output_type": "stream",
     "text": [
      "\n",
      "Batch 8400/9152: Load=1.53s, Embed=1.63s, Store=0.00s, Total=5.75s, Images/sec=2.09\n",
      "Estimated remaining time: 72.1 minutes\n"
     ]
    },
    {
     "name": "stderr",
     "output_type": "stream",
     "text": [
      "Processing train:  92%|█████████▏| 8410/9152 [11:27:23<1:06:07,  5.35s/it]"
     ]
    },
    {
     "name": "stdout",
     "output_type": "stream",
     "text": [
      "\n",
      "Batch 8410/9152: Load=1.53s, Embed=1.62s, Store=0.00s, Total=5.03s, Images/sec=2.38\n",
      "Estimated remaining time: 62.2 minutes\n"
     ]
    },
    {
     "name": "stderr",
     "output_type": "stream",
     "text": [
      "Processing train:  92%|█████████▏| 8420/9152 [11:28:15<1:02:55,  5.16s/it]"
     ]
    },
    {
     "name": "stdout",
     "output_type": "stream",
     "text": [
      "\n",
      "Batch 8420/9152: Load=1.62s, Embed=1.63s, Store=0.00s, Total=5.16s, Images/sec=2.33\n",
      "Estimated remaining time: 62.9 minutes\n"
     ]
    },
    {
     "name": "stderr",
     "output_type": "stream",
     "text": [
      "Processing train:  92%|█████████▏| 8430/9152 [11:29:07<1:02:20,  5.18s/it]"
     ]
    },
    {
     "name": "stdout",
     "output_type": "stream",
     "text": [
      "\n",
      "Batch 8430/9152: Load=1.63s, Embed=1.63s, Store=0.00s, Total=5.18s, Images/sec=2.32\n",
      "Estimated remaining time: 62.3 minutes\n"
     ]
    },
    {
     "name": "stderr",
     "output_type": "stream",
     "text": [
      "Processing train:  92%|█████████▏| 8440/9152 [11:29:58<1:00:36,  5.11s/it]"
     ]
    },
    {
     "name": "stdout",
     "output_type": "stream",
     "text": [
      "\n",
      "Batch 8440/9152: Load=1.63s, Embed=1.63s, Store=0.00s, Total=5.10s, Images/sec=2.35\n",
      "Estimated remaining time: 60.5 minutes\n"
     ]
    },
    {
     "name": "stderr",
     "output_type": "stream",
     "text": [
      "Processing train:  92%|█████████▏| 8450/9152 [11:31:23<2:55:59, 15.04s/it]"
     ]
    },
    {
     "name": "stdout",
     "output_type": "stream",
     "text": [
      "\n",
      "Batch 8450/9152: Load=1.46s, Embed=1.62s, Store=0.00s, Total=4.93s, Images/sec=2.43\n",
      "Estimated remaining time: 57.7 minutes\n"
     ]
    },
    {
     "name": "stderr",
     "output_type": "stream",
     "text": [
      "Processing train:  92%|█████████▏| 8460/9152 [11:32:17<1:02:48,  5.45s/it]"
     ]
    },
    {
     "name": "stdout",
     "output_type": "stream",
     "text": [
      "\n",
      "Batch 8460/9152: Load=1.45s, Embed=1.63s, Store=0.00s, Total=4.93s, Images/sec=2.43\n",
      "Estimated remaining time: 56.9 minutes\n"
     ]
    },
    {
     "name": "stderr",
     "output_type": "stream",
     "text": [
      "Processing train:  93%|█████████▎| 8470/9152 [11:33:09<59:31,  5.24s/it]  "
     ]
    },
    {
     "name": "stdout",
     "output_type": "stream",
     "text": [
      "\n",
      "Batch 8470/9152: Load=1.69s, Embed=1.64s, Store=0.00s, Total=5.16s, Images/sec=2.32\n",
      "Estimated remaining time: 58.7 minutes\n"
     ]
    },
    {
     "name": "stderr",
     "output_type": "stream",
     "text": [
      "Processing train:  93%|█████████▎| 8480/9152 [11:34:00<57:20,  5.12s/it]"
     ]
    },
    {
     "name": "stdout",
     "output_type": "stream",
     "text": [
      "\n",
      "Batch 8480/9152: Load=1.60s, Embed=1.66s, Store=0.00s, Total=5.10s, Images/sec=2.35\n",
      "Estimated remaining time: 57.1 minutes\n"
     ]
    },
    {
     "name": "stderr",
     "output_type": "stream",
     "text": [
      "Processing train:  93%|█████████▎| 8490/9152 [11:34:51<55:58,  5.07s/it]"
     ]
    },
    {
     "name": "stdout",
     "output_type": "stream",
     "text": [
      "\n",
      "Batch 8490/9152: Load=1.57s, Embed=1.62s, Store=0.00s, Total=5.05s, Images/sec=2.37\n",
      "Estimated remaining time: 55.7 minutes\n"
     ]
    },
    {
     "name": "stderr",
     "output_type": "stream",
     "text": [
      "Processing train:  93%|█████████▎| 8500/9152 [11:36:16<2:47:16, 15.39s/it]"
     ]
    },
    {
     "name": "stdout",
     "output_type": "stream",
     "text": [
      "\n",
      "Batch 8500/9152: Load=1.55s, Embed=1.64s, Store=0.00s, Total=5.09s, Images/sec=2.36\n",
      "Estimated remaining time: 55.3 minutes\n"
     ]
    },
    {
     "name": "stderr",
     "output_type": "stream",
     "text": [
      "Processing train:  93%|█████████▎| 8510/9152 [11:37:08<58:49,  5.50s/it]  "
     ]
    },
    {
     "name": "stdout",
     "output_type": "stream",
     "text": [
      "\n",
      "Batch 8510/9152: Load=1.53s, Embed=1.65s, Store=0.00s, Total=5.05s, Images/sec=2.38\n",
      "Estimated remaining time: 54.1 minutes\n"
     ]
    },
    {
     "name": "stderr",
     "output_type": "stream",
     "text": [
      "Processing train:  93%|█████████▎| 8520/9152 [11:37:59<53:46,  5.11s/it]"
     ]
    },
    {
     "name": "stdout",
     "output_type": "stream",
     "text": [
      "\n",
      "Batch 8520/9152: Load=1.53s, Embed=1.64s, Store=0.00s, Total=5.10s, Images/sec=2.35\n",
      "Estimated remaining time: 53.7 minutes\n"
     ]
    },
    {
     "name": "stderr",
     "output_type": "stream",
     "text": [
      "Processing train:  93%|█████████▎| 8530/9152 [11:38:51<53:38,  5.17s/it]"
     ]
    },
    {
     "name": "stdout",
     "output_type": "stream",
     "text": [
      "\n",
      "Batch 8530/9152: Load=1.56s, Embed=1.63s, Store=0.00s, Total=5.06s, Images/sec=2.37\n",
      "Estimated remaining time: 52.4 minutes\n"
     ]
    },
    {
     "name": "stderr",
     "output_type": "stream",
     "text": [
      "Processing train:  93%|█████████▎| 8540/9152 [11:39:42<52:44,  5.17s/it]"
     ]
    },
    {
     "name": "stdout",
     "output_type": "stream",
     "text": [
      "\n",
      "Batch 8540/9152: Load=1.57s, Embed=1.65s, Store=0.00s, Total=5.29s, Images/sec=2.27\n",
      "Estimated remaining time: 53.9 minutes\n"
     ]
    },
    {
     "name": "stderr",
     "output_type": "stream",
     "text": [
      "Processing train:  93%|█████████▎| 8550/9152 [11:41:09<2:36:15, 15.57s/it]"
     ]
    },
    {
     "name": "stdout",
     "output_type": "stream",
     "text": [
      "\n",
      "Batch 8550/9152: Load=1.62s, Embed=1.66s, Store=0.00s, Total=5.25s, Images/sec=2.29\n",
      "Estimated remaining time: 52.7 minutes\n"
     ]
    },
    {
     "name": "stderr",
     "output_type": "stream",
     "text": [
      "Processing train:  94%|█████████▎| 8560/9152 [11:42:01<53:22,  5.41s/it]  "
     ]
    },
    {
     "name": "stdout",
     "output_type": "stream",
     "text": [
      "\n",
      "Batch 8560/9152: Load=1.51s, Embed=1.61s, Store=0.00s, Total=4.99s, Images/sec=2.41\n",
      "Estimated remaining time: 49.2 minutes\n"
     ]
    },
    {
     "name": "stderr",
     "output_type": "stream",
     "text": [
      "Processing train:  94%|█████████▎| 8570/9152 [11:42:52<49:37,  5.12s/it]"
     ]
    },
    {
     "name": "stdout",
     "output_type": "stream",
     "text": [
      "\n",
      "Batch 8570/9152: Load=1.58s, Embed=1.62s, Store=0.00s, Total=5.13s, Images/sec=2.34\n",
      "Estimated remaining time: 49.8 minutes\n"
     ]
    },
    {
     "name": "stderr",
     "output_type": "stream",
     "text": [
      "Processing train:  94%|█████████▍| 8580/9152 [11:43:46<52:07,  5.47s/it]"
     ]
    },
    {
     "name": "stdout",
     "output_type": "stream",
     "text": [
      "\n",
      "Batch 8580/9152: Load=1.79s, Embed=1.63s, Store=0.00s, Total=5.98s, Images/sec=2.01\n",
      "Estimated remaining time: 57.0 minutes\n"
     ]
    },
    {
     "name": "stderr",
     "output_type": "stream",
     "text": [
      "Processing train:  94%|█████████▍| 8590/9152 [11:44:37<48:15,  5.15s/it]"
     ]
    },
    {
     "name": "stdout",
     "output_type": "stream",
     "text": [
      "\n",
      "Batch 8590/9152: Load=1.59s, Embed=1.63s, Store=0.00s, Total=5.15s, Images/sec=2.33\n",
      "Estimated remaining time: 48.2 minutes\n"
     ]
    },
    {
     "name": "stderr",
     "output_type": "stream",
     "text": [
      "Processing train:  94%|█████████▍| 8600/9152 [11:46:02<2:17:38, 14.96s/it]"
     ]
    },
    {
     "name": "stdout",
     "output_type": "stream",
     "text": [
      "\n",
      "Batch 8600/9152: Load=1.58s, Embed=1.72s, Store=0.00s, Total=5.20s, Images/sec=2.31\n",
      "Estimated remaining time: 47.8 minutes\n"
     ]
    },
    {
     "name": "stderr",
     "output_type": "stream",
     "text": [
      "Processing train:  94%|█████████▍| 8610/9152 [11:46:58<51:14,  5.67s/it]  "
     ]
    },
    {
     "name": "stdout",
     "output_type": "stream",
     "text": [
      "\n",
      "Batch 8610/9152: Load=1.73s, Embed=1.64s, Store=0.00s, Total=5.24s, Images/sec=2.29\n",
      "Estimated remaining time: 47.4 minutes\n"
     ]
    },
    {
     "name": "stderr",
     "output_type": "stream",
     "text": [
      "Processing train:  94%|█████████▍| 8620/9152 [11:48:00<57:38,  6.50s/it]"
     ]
    },
    {
     "name": "stdout",
     "output_type": "stream",
     "text": [
      "\n",
      "Batch 8620/9152: Load=1.61s, Embed=3.42s, Store=0.00s, Total=7.00s, Images/sec=1.72\n",
      "Estimated remaining time: 62.0 minutes\n"
     ]
    },
    {
     "name": "stderr",
     "output_type": "stream",
     "text": [
      "Processing train:  94%|█████████▍| 8630/9152 [11:49:14<52:39,  6.05s/it]  "
     ]
    },
    {
     "name": "stdout",
     "output_type": "stream",
     "text": [
      "\n",
      "Batch 8630/9152: Load=1.60s, Embed=1.63s, Store=0.00s, Total=5.12s, Images/sec=2.34\n",
      "Estimated remaining time: 44.6 minutes\n"
     ]
    },
    {
     "name": "stderr",
     "output_type": "stream",
     "text": [
      "Processing train:  94%|█████████▍| 8640/9152 [11:50:08<49:11,  5.76s/it]"
     ]
    },
    {
     "name": "stdout",
     "output_type": "stream",
     "text": [
      "\n",
      "Batch 8640/9152: Load=2.70s, Embed=1.70s, Store=0.00s, Total=6.28s, Images/sec=1.91\n",
      "Estimated remaining time: 53.6 minutes\n"
     ]
    },
    {
     "name": "stderr",
     "output_type": "stream",
     "text": [
      "Processing train:  95%|█████████▍| 8650/9152 [11:51:39<2:09:01, 15.42s/it]"
     ]
    },
    {
     "name": "stdout",
     "output_type": "stream",
     "text": [
      "\n",
      "Batch 8650/9152: Load=1.52s, Embed=1.61s, Store=0.00s, Total=5.07s, Images/sec=2.37\n",
      "Estimated remaining time: 42.4 minutes\n"
     ]
    },
    {
     "name": "stderr",
     "output_type": "stream",
     "text": [
      "Processing train:  95%|█████████▍| 8660/9152 [11:52:32<44:45,  5.46s/it]  "
     ]
    },
    {
     "name": "stdout",
     "output_type": "stream",
     "text": [
      "\n",
      "Batch 8660/9152: Load=1.57s, Embed=1.64s, Store=0.00s, Total=5.10s, Images/sec=2.35\n",
      "Estimated remaining time: 41.8 minutes\n"
     ]
    },
    {
     "name": "stderr",
     "output_type": "stream",
     "text": [
      "Processing train:  95%|█████████▍| 8670/9152 [11:53:24<41:47,  5.20s/it]"
     ]
    },
    {
     "name": "stdout",
     "output_type": "stream",
     "text": [
      "\n",
      "Batch 8670/9152: Load=1.55s, Embed=1.63s, Store=0.00s, Total=5.14s, Images/sec=2.34\n",
      "Estimated remaining time: 41.3 minutes\n"
     ]
    },
    {
     "name": "stderr",
     "output_type": "stream",
     "text": [
      "Processing train:  95%|█████████▍| 8680/9152 [11:54:16<40:59,  5.21s/it]"
     ]
    },
    {
     "name": "stdout",
     "output_type": "stream",
     "text": [
      "\n",
      "Batch 8680/9152: Load=1.69s, Embed=1.61s, Store=0.00s, Total=5.25s, Images/sec=2.28\n",
      "Estimated remaining time: 41.3 minutes\n"
     ]
    },
    {
     "name": "stderr",
     "output_type": "stream",
     "text": [
      "Processing train:  95%|█████████▍| 8690/9152 [11:55:07<39:21,  5.11s/it]"
     ]
    },
    {
     "name": "stdout",
     "output_type": "stream",
     "text": [
      "\n",
      "Batch 8690/9152: Load=1.66s, Embed=1.62s, Store=0.00s, Total=5.16s, Images/sec=2.32\n",
      "Estimated remaining time: 39.7 minutes\n"
     ]
    },
    {
     "name": "stderr",
     "output_type": "stream",
     "text": [
      "Processing train:  95%|█████████▌| 8700/9152 [11:56:32<1:56:38, 15.48s/it]"
     ]
    },
    {
     "name": "stdout",
     "output_type": "stream",
     "text": [
      "\n",
      "Batch 8700/9152: Load=1.64s, Embed=1.63s, Store=0.00s, Total=5.16s, Images/sec=2.32\n",
      "Estimated remaining time: 38.9 minutes\n"
     ]
    },
    {
     "name": "stderr",
     "output_type": "stream",
     "text": [
      "Processing train:  95%|█████████▌| 8710/9152 [11:57:25<40:45,  5.53s/it]  "
     ]
    },
    {
     "name": "stdout",
     "output_type": "stream",
     "text": [
      "\n",
      "Batch 8710/9152: Load=1.59s, Embed=1.61s, Store=0.00s, Total=5.10s, Images/sec=2.35\n",
      "Estimated remaining time: 37.5 minutes\n"
     ]
    },
    {
     "name": "stderr",
     "output_type": "stream",
     "text": [
      "Processing train:  95%|█████████▌| 8720/9152 [11:58:16<37:29,  5.21s/it]"
     ]
    },
    {
     "name": "stdout",
     "output_type": "stream",
     "text": [
      "\n",
      "Batch 8720/9152: Load=1.63s, Embed=1.64s, Store=0.00s, Total=5.18s, Images/sec=2.32\n",
      "Estimated remaining time: 37.3 minutes\n"
     ]
    },
    {
     "name": "stderr",
     "output_type": "stream",
     "text": [
      "Processing train:  95%|█████████▌| 8730/9152 [11:59:09<36:54,  5.25s/it]"
     ]
    },
    {
     "name": "stdout",
     "output_type": "stream",
     "text": [
      "\n",
      "Batch 8730/9152: Load=1.49s, Embed=1.63s, Store=0.00s, Total=5.01s, Images/sec=2.40\n",
      "Estimated remaining time: 35.2 minutes\n"
     ]
    },
    {
     "name": "stderr",
     "output_type": "stream",
     "text": [
      "Processing train:  95%|█████████▌| 8740/9152 [12:00:00<35:31,  5.17s/it]"
     ]
    },
    {
     "name": "stdout",
     "output_type": "stream",
     "text": [
      "\n",
      "Batch 8740/9152: Load=1.57s, Embed=1.61s, Store=0.00s, Total=5.08s, Images/sec=2.36\n",
      "Estimated remaining time: 34.9 minutes\n"
     ]
    },
    {
     "name": "stderr",
     "output_type": "stream",
     "text": [
      "Processing train:  96%|█████████▌| 8750/9152 [12:01:27<1:44:19, 15.57s/it]"
     ]
    },
    {
     "name": "stdout",
     "output_type": "stream",
     "text": [
      "\n",
      "Batch 8750/9152: Load=1.59s, Embed=1.61s, Store=0.00s, Total=5.09s, Images/sec=2.36\n",
      "Estimated remaining time: 34.1 minutes\n"
     ]
    },
    {
     "name": "stderr",
     "output_type": "stream",
     "text": [
      "Processing train:  96%|█████████▌| 8760/9152 [12:02:19<35:39,  5.46s/it]  "
     ]
    },
    {
     "name": "stdout",
     "output_type": "stream",
     "text": [
      "\n",
      "Batch 8760/9152: Load=1.54s, Embed=1.63s, Store=0.00s, Total=5.08s, Images/sec=2.36\n",
      "Estimated remaining time: 33.2 minutes\n"
     ]
    },
    {
     "name": "stderr",
     "output_type": "stream",
     "text": [
      "Processing train:  96%|█████████▌| 8770/9152 [12:03:10<33:01,  5.19s/it]"
     ]
    },
    {
     "name": "stdout",
     "output_type": "stream",
     "text": [
      "\n",
      "Batch 8770/9152: Load=1.61s, Embed=1.61s, Store=0.00s, Total=5.21s, Images/sec=2.30\n",
      "Estimated remaining time: 33.2 minutes\n"
     ]
    },
    {
     "name": "stderr",
     "output_type": "stream",
     "text": [
      "Processing train:  96%|█████████▌| 8780/9152 [12:04:02<32:15,  5.20s/it]"
     ]
    },
    {
     "name": "stdout",
     "output_type": "stream",
     "text": [
      "\n",
      "Batch 8780/9152: Load=1.55s, Embed=1.61s, Store=0.00s, Total=5.14s, Images/sec=2.33\n",
      "Estimated remaining time: 31.9 minutes\n"
     ]
    },
    {
     "name": "stderr",
     "output_type": "stream",
     "text": [
      "Processing train:  96%|█████████▌| 8790/9152 [12:04:55<32:11,  5.34s/it]"
     ]
    },
    {
     "name": "stdout",
     "output_type": "stream",
     "text": [
      "\n",
      "Batch 8790/9152: Load=1.59s, Embed=1.62s, Store=0.00s, Total=5.49s, Images/sec=2.19\n",
      "Estimated remaining time: 33.1 minutes\n"
     ]
    },
    {
     "name": "stderr",
     "output_type": "stream",
     "text": [
      "Processing train:  96%|█████████▌| 8800/9152 [12:06:22<1:32:27, 15.76s/it]"
     ]
    },
    {
     "name": "stdout",
     "output_type": "stream",
     "text": [
      "\n",
      "Batch 8800/9152: Load=1.57s, Embed=1.64s, Store=0.00s, Total=5.17s, Images/sec=2.32\n",
      "Estimated remaining time: 30.3 minutes\n"
     ]
    },
    {
     "name": "stderr",
     "output_type": "stream",
     "text": [
      "Processing train:  96%|█████████▋| 8810/9152 [12:07:14<31:20,  5.50s/it]  "
     ]
    },
    {
     "name": "stdout",
     "output_type": "stream",
     "text": [
      "\n",
      "Batch 8810/9152: Load=1.60s, Embed=1.63s, Store=0.00s, Total=5.17s, Images/sec=2.32\n",
      "Estimated remaining time: 29.5 minutes\n"
     ]
    },
    {
     "name": "stderr",
     "output_type": "stream",
     "text": [
      "Processing train:  96%|█████████▋| 8820/9152 [12:08:06<29:58,  5.42s/it]"
     ]
    },
    {
     "name": "stdout",
     "output_type": "stream",
     "text": [
      "\n",
      "Batch 8820/9152: Load=2.52s, Embed=1.63s, Store=0.00s, Total=6.12s, Images/sec=1.96\n",
      "Estimated remaining time: 33.9 minutes\n"
     ]
    },
    {
     "name": "stderr",
     "output_type": "stream",
     "text": [
      "Processing train:  96%|█████████▋| 8830/9152 [12:09:03<29:50,  5.56s/it]"
     ]
    },
    {
     "name": "stdout",
     "output_type": "stream",
     "text": [
      "\n",
      "Batch 8830/9152: Load=1.60s, Embed=2.06s, Store=0.00s, Total=5.58s, Images/sec=2.15\n",
      "Estimated remaining time: 29.9 minutes\n"
     ]
    },
    {
     "name": "stderr",
     "output_type": "stream",
     "text": [
      "Processing train:  97%|█████████▋| 8840/9152 [12:09:59<27:32,  5.30s/it]"
     ]
    },
    {
     "name": "stdout",
     "output_type": "stream",
     "text": [
      "\n",
      "Batch 8840/9152: Load=1.61s, Embed=1.67s, Store=0.00s, Total=5.20s, Images/sec=2.31\n",
      "Estimated remaining time: 27.0 minutes\n"
     ]
    },
    {
     "name": "stderr",
     "output_type": "stream",
     "text": [
      "Processing train:  97%|█████████▋| 8850/9152 [12:11:27<1:21:02, 16.10s/it]"
     ]
    },
    {
     "name": "stdout",
     "output_type": "stream",
     "text": [
      "\n",
      "Batch 8850/9152: Load=1.58s, Embed=1.71s, Store=0.00s, Total=5.21s, Images/sec=2.30\n",
      "Estimated remaining time: 26.2 minutes\n"
     ]
    },
    {
     "name": "stderr",
     "output_type": "stream",
     "text": [
      "Processing train:  97%|█████████▋| 8860/9152 [12:12:19<26:59,  5.55s/it]  "
     ]
    },
    {
     "name": "stdout",
     "output_type": "stream",
     "text": [
      "\n",
      "Batch 8860/9152: Load=1.59s, Embed=1.69s, Store=0.00s, Total=5.25s, Images/sec=2.29\n",
      "Estimated remaining time: 25.5 minutes\n"
     ]
    },
    {
     "name": "stderr",
     "output_type": "stream",
     "text": [
      "Processing train:  97%|█████████▋| 8870/9152 [12:13:12<24:33,  5.22s/it]"
     ]
    },
    {
     "name": "stdout",
     "output_type": "stream",
     "text": [
      "\n",
      "Batch 8870/9152: Load=1.55s, Embed=1.72s, Store=0.00s, Total=5.20s, Images/sec=2.31\n",
      "Estimated remaining time: 24.5 minutes\n"
     ]
    },
    {
     "name": "stderr",
     "output_type": "stream",
     "text": [
      "Processing train:  97%|█████████▋| 8880/9152 [12:14:04<23:45,  5.24s/it]"
     ]
    },
    {
     "name": "stdout",
     "output_type": "stream",
     "text": [
      "\n",
      "Batch 8880/9152: Load=1.59s, Embed=1.76s, Store=0.00s, Total=5.26s, Images/sec=2.28\n",
      "Estimated remaining time: 23.9 minutes\n"
     ]
    },
    {
     "name": "stderr",
     "output_type": "stream",
     "text": [
      "Processing train:  97%|█████████▋| 8890/9152 [12:14:56<22:26,  5.14s/it]"
     ]
    },
    {
     "name": "stdout",
     "output_type": "stream",
     "text": [
      "\n",
      "Batch 8890/9152: Load=1.60s, Embed=1.63s, Store=0.00s, Total=5.14s, Images/sec=2.33\n",
      "Estimated remaining time: 22.5 minutes\n"
     ]
    },
    {
     "name": "stderr",
     "output_type": "stream",
     "text": [
      "Processing train:  97%|█████████▋| 8900/9152 [12:16:24<1:06:37, 15.86s/it]"
     ]
    },
    {
     "name": "stdout",
     "output_type": "stream",
     "text": [
      "\n",
      "Batch 8900/9152: Load=1.58s, Embed=1.71s, Store=0.00s, Total=5.27s, Images/sec=2.28\n",
      "Estimated remaining time: 22.1 minutes\n"
     ]
    },
    {
     "name": "stderr",
     "output_type": "stream",
     "text": [
      "Processing train:  97%|█████████▋| 8910/9152 [12:17:20<23:33,  5.84s/it]  "
     ]
    },
    {
     "name": "stdout",
     "output_type": "stream",
     "text": [
      "\n",
      "Batch 8910/9152: Load=1.67s, Embed=1.63s, Store=0.00s, Total=5.27s, Images/sec=2.28\n",
      "Estimated remaining time: 21.3 minutes\n"
     ]
    },
    {
     "name": "stderr",
     "output_type": "stream",
     "text": [
      "Processing train:  97%|█████████▋| 8920/9152 [12:18:12<20:16,  5.25s/it]"
     ]
    },
    {
     "name": "stdout",
     "output_type": "stream",
     "text": [
      "\n",
      "Batch 8920/9152: Load=1.62s, Embed=1.63s, Store=0.00s, Total=5.22s, Images/sec=2.30\n",
      "Estimated remaining time: 20.2 minutes\n"
     ]
    },
    {
     "name": "stderr",
     "output_type": "stream",
     "text": [
      "Processing train:  98%|█████████▊| 8930/9152 [12:19:05<19:24,  5.25s/it]"
     ]
    },
    {
     "name": "stdout",
     "output_type": "stream",
     "text": [
      "\n",
      "Batch 8930/9152: Load=1.63s, Embed=1.61s, Store=0.00s, Total=5.17s, Images/sec=2.32\n",
      "Estimated remaining time: 19.1 minutes\n"
     ]
    },
    {
     "name": "stderr",
     "output_type": "stream",
     "text": [
      "Processing train:  98%|█████████▊| 8940/9152 [12:19:57<18:34,  5.26s/it]"
     ]
    },
    {
     "name": "stdout",
     "output_type": "stream",
     "text": [
      "\n",
      "Batch 8940/9152: Load=1.72s, Embed=1.62s, Store=0.00s, Total=5.33s, Images/sec=2.25\n",
      "Estimated remaining time: 18.8 minutes\n"
     ]
    },
    {
     "name": "stderr",
     "output_type": "stream",
     "text": [
      "Processing train:  98%|█████████▊| 8950/9152 [12:21:24<52:14, 15.52s/it]"
     ]
    },
    {
     "name": "stdout",
     "output_type": "stream",
     "text": [
      "\n",
      "Batch 8950/9152: Load=1.65s, Embed=1.64s, Store=0.00s, Total=5.28s, Images/sec=2.27\n",
      "Estimated remaining time: 17.8 minutes\n"
     ]
    },
    {
     "name": "stderr",
     "output_type": "stream",
     "text": [
      "Processing train:  98%|█████████▊| 8960/9152 [12:22:18<18:08,  5.67s/it]"
     ]
    },
    {
     "name": "stdout",
     "output_type": "stream",
     "text": [
      "\n",
      "Batch 8960/9152: Load=1.67s, Embed=1.62s, Store=0.00s, Total=5.25s, Images/sec=2.28\n",
      "Estimated remaining time: 16.8 minutes\n"
     ]
    },
    {
     "name": "stderr",
     "output_type": "stream",
     "text": [
      "Processing train:  98%|█████████▊| 8970/9152 [12:23:11<15:59,  5.27s/it]"
     ]
    },
    {
     "name": "stdout",
     "output_type": "stream",
     "text": [
      "\n",
      "Batch 8970/9152: Load=1.65s, Embed=1.63s, Store=0.00s, Total=5.30s, Images/sec=2.26\n",
      "Estimated remaining time: 16.1 minutes\n"
     ]
    },
    {
     "name": "stderr",
     "output_type": "stream",
     "text": [
      "Processing train:  98%|█████████▊| 8980/9152 [12:24:04<15:08,  5.28s/it]"
     ]
    },
    {
     "name": "stdout",
     "output_type": "stream",
     "text": [
      "\n",
      "Batch 8980/9152: Load=1.72s, Embed=1.62s, Store=0.00s, Total=5.31s, Images/sec=2.26\n",
      "Estimated remaining time: 15.2 minutes\n"
     ]
    },
    {
     "name": "stderr",
     "output_type": "stream",
     "text": [
      "Processing train:  98%|█████████▊| 8990/9152 [12:24:56<14:14,  5.28s/it]"
     ]
    },
    {
     "name": "stdout",
     "output_type": "stream",
     "text": [
      "\n",
      "Batch 8990/9152: Load=1.80s, Embed=1.66s, Store=0.00s, Total=5.41s, Images/sec=2.22\n",
      "Estimated remaining time: 14.6 minutes\n"
     ]
    },
    {
     "name": "stderr",
     "output_type": "stream",
     "text": [
      "Processing train:  98%|█████████▊| 9000/9152 [12:26:24<40:09, 15.86s/it]"
     ]
    },
    {
     "name": "stdout",
     "output_type": "stream",
     "text": [
      "\n",
      "Batch 9000/9152: Load=1.66s, Embed=1.62s, Store=0.00s, Total=5.28s, Images/sec=2.27\n",
      "Estimated remaining time: 13.4 minutes\n"
     ]
    },
    {
     "name": "stderr",
     "output_type": "stream",
     "text": [
      "Processing train:  98%|█████████▊| 9010/9152 [12:27:18<13:15,  5.60s/it]"
     ]
    },
    {
     "name": "stdout",
     "output_type": "stream",
     "text": [
      "\n",
      "Batch 9010/9152: Load=1.62s, Embed=1.62s, Store=0.00s, Total=5.31s, Images/sec=2.26\n",
      "Estimated remaining time: 12.6 minutes\n"
     ]
    },
    {
     "name": "stderr",
     "output_type": "stream",
     "text": [
      "Processing train:  99%|█████████▊| 9020/9152 [12:28:12<11:46,  5.35s/it]"
     ]
    },
    {
     "name": "stdout",
     "output_type": "stream",
     "text": [
      "\n",
      "Batch 9020/9152: Load=1.59s, Embed=1.65s, Store=0.00s, Total=5.24s, Images/sec=2.29\n",
      "Estimated remaining time: 11.5 minutes\n"
     ]
    },
    {
     "name": "stderr",
     "output_type": "stream",
     "text": [
      "Processing train:  99%|█████████▊| 9030/9152 [12:29:07<10:54,  5.36s/it]"
     ]
    },
    {
     "name": "stdout",
     "output_type": "stream",
     "text": [
      "\n",
      "Batch 9030/9152: Load=1.67s, Embed=1.63s, Store=0.00s, Total=5.25s, Images/sec=2.29\n",
      "Estimated remaining time: 10.7 minutes\n"
     ]
    },
    {
     "name": "stderr",
     "output_type": "stream",
     "text": [
      "Processing train:  99%|█████████▉| 9040/9152 [12:30:02<10:12,  5.47s/it]"
     ]
    },
    {
     "name": "stdout",
     "output_type": "stream",
     "text": [
      "\n",
      "Batch 9040/9152: Load=1.81s, Embed=1.64s, Store=0.00s, Total=5.42s, Images/sec=2.21\n",
      "Estimated remaining time: 10.1 minutes\n"
     ]
    },
    {
     "name": "stderr",
     "output_type": "stream",
     "text": [
      "Processing train:  99%|█████████▉| 9050/9152 [12:31:32<27:05, 15.93s/it]"
     ]
    },
    {
     "name": "stdout",
     "output_type": "stream",
     "text": [
      "\n",
      "Batch 9050/9152: Load=1.85s, Embed=1.70s, Store=0.02s, Total=5.76s, Images/sec=2.08\n",
      "Estimated remaining time: 9.8 minutes\n"
     ]
    },
    {
     "name": "stderr",
     "output_type": "stream",
     "text": [
      "Processing train:  99%|█████████▉| 9060/9152 [12:32:28<09:01,  5.89s/it]"
     ]
    },
    {
     "name": "stdout",
     "output_type": "stream",
     "text": [
      "\n",
      "Batch 9060/9152: Load=1.78s, Embed=1.87s, Store=0.00s, Total=5.60s, Images/sec=2.14\n",
      "Estimated remaining time: 8.6 minutes\n"
     ]
    },
    {
     "name": "stderr",
     "output_type": "stream",
     "text": [
      "Processing train:  99%|█████████▉| 9070/9152 [12:33:23<07:23,  5.40s/it]"
     ]
    },
    {
     "name": "stdout",
     "output_type": "stream",
     "text": [
      "\n",
      "Batch 9070/9152: Load=1.69s, Embed=1.71s, Store=0.00s, Total=5.39s, Images/sec=2.23\n",
      "Estimated remaining time: 7.4 minutes\n"
     ]
    },
    {
     "name": "stderr",
     "output_type": "stream",
     "text": [
      "Processing train:  99%|█████████▉| 9080/9152 [12:34:17<06:23,  5.32s/it]"
     ]
    },
    {
     "name": "stdout",
     "output_type": "stream",
     "text": [
      "\n",
      "Batch 9080/9152: Load=1.65s, Embed=1.65s, Store=0.00s, Total=5.27s, Images/sec=2.28\n",
      "Estimated remaining time: 6.3 minutes\n"
     ]
    },
    {
     "name": "stderr",
     "output_type": "stream",
     "text": [
      "Processing train:  99%|█████████▉| 9090/9152 [12:35:10<05:25,  5.26s/it]"
     ]
    },
    {
     "name": "stdout",
     "output_type": "stream",
     "text": [
      "\n",
      "Batch 9090/9152: Load=1.61s, Embed=1.65s, Store=0.00s, Total=5.21s, Images/sec=2.30\n",
      "Estimated remaining time: 5.4 minutes\n"
     ]
    },
    {
     "name": "stderr",
     "output_type": "stream",
     "text": [
      "Processing train:  99%|█████████▉| 9100/9152 [12:36:39<13:52, 16.00s/it]"
     ]
    },
    {
     "name": "stdout",
     "output_type": "stream",
     "text": [
      "\n",
      "Batch 9100/9152: Load=1.76s, Embed=1.63s, Store=0.00s, Total=5.40s, Images/sec=2.22\n",
      "Estimated remaining time: 4.7 minutes\n"
     ]
    },
    {
     "name": "stderr",
     "output_type": "stream",
     "text": [
      "Processing train: 100%|█████████▉| 9110/9152 [12:37:35<04:06,  5.87s/it]"
     ]
    },
    {
     "name": "stdout",
     "output_type": "stream",
     "text": [
      "\n",
      "Batch 9110/9152: Load=2.28s, Embed=1.62s, Store=0.00s, Total=5.91s, Images/sec=2.03\n",
      "Estimated remaining time: 4.1 minutes\n"
     ]
    },
    {
     "name": "stderr",
     "output_type": "stream",
     "text": [
      "Processing train: 100%|█████████▉| 9120/9152 [12:38:29<02:52,  5.38s/it]"
     ]
    },
    {
     "name": "stdout",
     "output_type": "stream",
     "text": [
      "\n",
      "Batch 9120/9152: Load=1.72s, Embed=1.65s, Store=0.00s, Total=5.47s, Images/sec=2.19\n",
      "Estimated remaining time: 2.9 minutes\n"
     ]
    },
    {
     "name": "stderr",
     "output_type": "stream",
     "text": [
      "Processing train: 100%|█████████▉| 9130/9152 [12:39:21<01:56,  5.29s/it]"
     ]
    },
    {
     "name": "stdout",
     "output_type": "stream",
     "text": [
      "\n",
      "Batch 9130/9152: Load=1.63s, Embed=1.63s, Store=0.00s, Total=5.28s, Images/sec=2.27\n",
      "Estimated remaining time: 1.9 minutes\n"
     ]
    },
    {
     "name": "stderr",
     "output_type": "stream",
     "text": [
      "Processing train: 100%|█████████▉| 9140/9152 [12:40:14<01:05,  5.43s/it]"
     ]
    },
    {
     "name": "stdout",
     "output_type": "stream",
     "text": [
      "\n",
      "Batch 9140/9152: Load=2.20s, Embed=1.66s, Store=0.00s, Total=5.82s, Images/sec=2.06\n",
      "Estimated remaining time: 1.2 minutes\n"
     ]
    },
    {
     "name": "stderr",
     "output_type": "stream",
     "text": [
      "Processing train: 100%|█████████▉| 9150/9152 [12:41:43<00:31, 15.76s/it]"
     ]
    },
    {
     "name": "stdout",
     "output_type": "stream",
     "text": [
      "\n",
      "Batch 9150/9152: Load=1.82s, Embed=1.63s, Store=0.00s, Total=5.48s, Images/sec=2.19\n",
      "Estimated remaining time: 0.2 minutes\n"
     ]
    },
    {
     "name": "stderr",
     "output_type": "stream",
     "text": [
      "Processing train: 100%|██████████| 9152/9152 [12:42:30<00:00,  5.00s/it]"
     ]
    },
    {
     "name": "stdout",
     "output_type": "stream",
     "text": [
      "\n",
      "Batch 9152/9152: Load=1.71s, Embed=1.68s, Store=0.00s, Total=5.35s, Images/sec=2.24\n"
     ]
    },
    {
     "name": "stderr",
     "output_type": "stream",
     "text": [
      "\n"
     ]
    },
    {
     "name": "stdout",
     "output_type": "stream",
     "text": [
      "Saved: /home/rmuthy2/diffpixeldots/TestEmbeddingsOutput/raddino-train-dot4.parquet\n",
      "Saved: /home/rmuthy2/diffpixeldots/TestEmbeddingsOutput/dinov3-train-dot4.parquet\n",
      "\n",
      "Processing test dataset for dot size 4...\n",
      "\n",
      "Extracting embeddings for test (dot=4) in batches of 12...\n"
     ]
    },
    {
     "name": "stderr",
     "output_type": "stream",
     "text": [
      "Processing test:   0%|          | 10/2288 [00:34<2:09:57,  3.42s/it]"
     ]
    },
    {
     "name": "stdout",
     "output_type": "stream",
     "text": [
      "\n",
      "Batch 10/2288: Load=1.70s, Embed=1.62s, Store=0.00s, Total=3.46s, Images/sec=3.47\n",
      "Estimated remaining time: 131.2 minutes\n"
     ]
    },
    {
     "name": "stderr",
     "output_type": "stream",
     "text": [
      "Processing test:   1%|          | 20/2288 [01:10<2:12:11,  3.50s/it]"
     ]
    },
    {
     "name": "stdout",
     "output_type": "stream",
     "text": [
      "\n",
      "Batch 20/2288: Load=1.69s, Embed=1.63s, Store=0.00s, Total=3.47s, Images/sec=3.45\n",
      "Estimated remaining time: 131.3 minutes\n"
     ]
    },
    {
     "name": "stderr",
     "output_type": "stream",
     "text": [
      "Processing test:   1%|▏         | 30/2288 [01:45<2:09:49,  3.45s/it]"
     ]
    },
    {
     "name": "stdout",
     "output_type": "stream",
     "text": [
      "\n",
      "Batch 30/2288: Load=1.76s, Embed=1.57s, Store=0.00s, Total=3.49s, Images/sec=3.44\n",
      "Estimated remaining time: 131.3 minutes\n"
     ]
    },
    {
     "name": "stderr",
     "output_type": "stream",
     "text": [
      "Processing test:   2%|▏         | 40/2288 [02:19<2:07:49,  3.41s/it]"
     ]
    },
    {
     "name": "stdout",
     "output_type": "stream",
     "text": [
      "\n",
      "Batch 40/2288: Load=1.65s, Embed=1.57s, Store=0.00s, Total=3.37s, Images/sec=3.56\n",
      "Estimated remaining time: 126.1 minutes\n"
     ]
    },
    {
     "name": "stderr",
     "output_type": "stream",
     "text": [
      "Processing test:   2%|▏         | 50/2288 [02:54<2:15:23,  3.63s/it]"
     ]
    },
    {
     "name": "stdout",
     "output_type": "stream",
     "text": [
      "\n",
      "Batch 50/2288: Load=1.70s, Embed=1.58s, Store=0.00s, Total=3.43s, Images/sec=3.49\n",
      "Estimated remaining time: 128.1 minutes\n"
     ]
    },
    {
     "name": "stderr",
     "output_type": "stream",
     "text": [
      "Processing test:   3%|▎         | 60/2288 [03:29<2:08:04,  3.45s/it]"
     ]
    },
    {
     "name": "stdout",
     "output_type": "stream",
     "text": [
      "\n",
      "Batch 60/2288: Load=1.44s, Embed=1.63s, Store=0.00s, Total=3.23s, Images/sec=3.72\n",
      "Estimated remaining time: 119.8 minutes\n"
     ]
    },
    {
     "name": "stderr",
     "output_type": "stream",
     "text": [
      "Processing test:   3%|▎         | 70/2288 [04:04<2:09:48,  3.51s/it]"
     ]
    },
    {
     "name": "stdout",
     "output_type": "stream",
     "text": [
      "\n",
      "Batch 70/2288: Load=1.87s, Embed=1.60s, Store=0.00s, Total=3.64s, Images/sec=3.30\n",
      "Estimated remaining time: 134.4 minutes\n"
     ]
    },
    {
     "name": "stderr",
     "output_type": "stream",
     "text": [
      "Processing test:   3%|▎         | 80/2288 [04:38<2:08:52,  3.50s/it]"
     ]
    },
    {
     "name": "stdout",
     "output_type": "stream",
     "text": [
      "\n",
      "Batch 80/2288: Load=1.72s, Embed=1.63s, Store=0.00s, Total=3.52s, Images/sec=3.41\n",
      "Estimated remaining time: 129.5 minutes\n"
     ]
    },
    {
     "name": "stderr",
     "output_type": "stream",
     "text": [
      "Processing test:   4%|▍         | 90/2288 [05:13<2:06:16,  3.45s/it]"
     ]
    },
    {
     "name": "stdout",
     "output_type": "stream",
     "text": [
      "\n",
      "Batch 90/2288: Load=1.64s, Embed=1.64s, Store=0.00s, Total=3.45s, Images/sec=3.48\n",
      "Estimated remaining time: 126.2 minutes\n"
     ]
    },
    {
     "name": "stderr",
     "output_type": "stream",
     "text": [
      "Processing test:   4%|▍         | 100/2288 [05:48<2:11:41,  3.61s/it]"
     ]
    },
    {
     "name": "stdout",
     "output_type": "stream",
     "text": [
      "\n",
      "Batch 100/2288: Load=1.76s, Embed=1.64s, Store=0.00s, Total=3.59s, Images/sec=3.34\n",
      "Estimated remaining time: 130.9 minutes\n"
     ]
    },
    {
     "name": "stderr",
     "output_type": "stream",
     "text": [
      "Processing test:   5%|▍         | 110/2288 [06:23<2:05:17,  3.45s/it]"
     ]
    },
    {
     "name": "stdout",
     "output_type": "stream",
     "text": [
      "\n",
      "Batch 110/2288: Load=1.71s, Embed=1.57s, Store=0.00s, Total=3.46s, Images/sec=3.47\n",
      "Estimated remaining time: 125.5 minutes\n"
     ]
    },
    {
     "name": "stderr",
     "output_type": "stream",
     "text": [
      "Processing test:   5%|▌         | 120/2288 [06:57<2:03:15,  3.41s/it]"
     ]
    },
    {
     "name": "stdout",
     "output_type": "stream",
     "text": [
      "\n",
      "Batch 120/2288: Load=1.66s, Embed=1.57s, Store=0.00s, Total=3.40s, Images/sec=3.53\n",
      "Estimated remaining time: 123.0 minutes\n"
     ]
    },
    {
     "name": "stderr",
     "output_type": "stream",
     "text": [
      "Processing test:   6%|▌         | 130/2288 [07:31<2:01:57,  3.39s/it]"
     ]
    },
    {
     "name": "stdout",
     "output_type": "stream",
     "text": [
      "\n",
      "Batch 130/2288: Load=1.63s, Embed=1.62s, Store=0.00s, Total=3.42s, Images/sec=3.50\n",
      "Estimated remaining time: 123.2 minutes\n"
     ]
    },
    {
     "name": "stderr",
     "output_type": "stream",
     "text": [
      "Processing test:   6%|▌         | 140/2288 [08:05<2:04:24,  3.47s/it]"
     ]
    },
    {
     "name": "stdout",
     "output_type": "stream",
     "text": [
      "\n",
      "Batch 140/2288: Load=1.78s, Embed=1.64s, Store=0.00s, Total=3.60s, Images/sec=3.34\n",
      "Estimated remaining time: 128.7 minutes\n"
     ]
    },
    {
     "name": "stderr",
     "output_type": "stream",
     "text": [
      "Processing test:   7%|▋         | 150/2288 [08:40<2:09:41,  3.64s/it]"
     ]
    },
    {
     "name": "stdout",
     "output_type": "stream",
     "text": [
      "\n",
      "Batch 150/2288: Load=1.73s, Embed=1.60s, Store=0.00s, Total=3.51s, Images/sec=3.42\n",
      "Estimated remaining time: 125.1 minutes\n"
     ]
    },
    {
     "name": "stderr",
     "output_type": "stream",
     "text": [
      "Processing test:   7%|▋         | 160/2288 [09:15<2:01:41,  3.43s/it]"
     ]
    },
    {
     "name": "stdout",
     "output_type": "stream",
     "text": [
      "\n",
      "Batch 160/2288: Load=1.65s, Embed=1.63s, Store=0.00s, Total=3.47s, Images/sec=3.46\n",
      "Estimated remaining time: 123.1 minutes\n"
     ]
    },
    {
     "name": "stderr",
     "output_type": "stream",
     "text": [
      "Processing test:   7%|▋         | 170/2288 [09:49<2:02:05,  3.46s/it]"
     ]
    },
    {
     "name": "stdout",
     "output_type": "stream",
     "text": [
      "\n",
      "Batch 170/2288: Load=1.63s, Embed=1.58s, Store=0.00s, Total=3.40s, Images/sec=3.53\n",
      "Estimated remaining time: 119.9 minutes\n"
     ]
    },
    {
     "name": "stderr",
     "output_type": "stream",
     "text": [
      "Processing test:   8%|▊         | 180/2288 [10:25<2:05:24,  3.57s/it]"
     ]
    },
    {
     "name": "stdout",
     "output_type": "stream",
     "text": [
      "\n",
      "Batch 180/2288: Load=1.70s, Embed=1.62s, Store=0.00s, Total=3.52s, Images/sec=3.41\n",
      "Estimated remaining time: 123.5 minutes\n"
     ]
    },
    {
     "name": "stderr",
     "output_type": "stream",
     "text": [
      "Processing test:   8%|▊         | 190/2288 [10:59<2:00:20,  3.44s/it]"
     ]
    },
    {
     "name": "stdout",
     "output_type": "stream",
     "text": [
      "\n",
      "Batch 190/2288: Load=1.65s, Embed=1.62s, Store=0.00s, Total=3.46s, Images/sec=3.47\n",
      "Estimated remaining time: 120.9 minutes\n"
     ]
    },
    {
     "name": "stderr",
     "output_type": "stream",
     "text": [
      "Processing test:   9%|▊         | 200/2288 [11:35<2:09:36,  3.72s/it]"
     ]
    },
    {
     "name": "stdout",
     "output_type": "stream",
     "text": [
      "\n",
      "Batch 200/2288: Load=1.66s, Embed=1.57s, Store=0.00s, Total=3.43s, Images/sec=3.50\n",
      "Estimated remaining time: 119.4 minutes\n"
     ]
    },
    {
     "name": "stderr",
     "output_type": "stream",
     "text": [
      "Processing test:   9%|▉         | 210/2288 [12:09<1:59:25,  3.45s/it]"
     ]
    },
    {
     "name": "stdout",
     "output_type": "stream",
     "text": [
      "\n",
      "Batch 210/2288: Load=1.60s, Embed=1.60s, Store=0.00s, Total=3.40s, Images/sec=3.53\n",
      "Estimated remaining time: 117.6 minutes\n"
     ]
    },
    {
     "name": "stderr",
     "output_type": "stream",
     "text": [
      "Processing test:  10%|▉         | 220/2288 [12:45<2:02:51,  3.56s/it]"
     ]
    },
    {
     "name": "stdout",
     "output_type": "stream",
     "text": [
      "\n",
      "Batch 220/2288: Load=1.79s, Embed=1.59s, Store=0.00s, Total=3.57s, Images/sec=3.36\n",
      "Estimated remaining time: 123.2 minutes\n"
     ]
    },
    {
     "name": "stderr",
     "output_type": "stream",
     "text": [
      "Processing test:  10%|█         | 230/2288 [13:20<2:00:27,  3.51s/it]"
     ]
    },
    {
     "name": "stdout",
     "output_type": "stream",
     "text": [
      "\n",
      "Batch 230/2288: Load=1.70s, Embed=1.62s, Store=0.00s, Total=3.51s, Images/sec=3.42\n",
      "Estimated remaining time: 120.5 minutes\n"
     ]
    },
    {
     "name": "stderr",
     "output_type": "stream",
     "text": [
      "Processing test:  10%|█         | 240/2288 [13:54<1:59:31,  3.50s/it]"
     ]
    },
    {
     "name": "stdout",
     "output_type": "stream",
     "text": [
      "\n",
      "Batch 240/2288: Load=1.75s, Embed=1.63s, Store=0.00s, Total=3.60s, Images/sec=3.33\n",
      "Estimated remaining time: 123.0 minutes\n"
     ]
    },
    {
     "name": "stderr",
     "output_type": "stream",
     "text": [
      "Processing test:  11%|█         | 250/2288 [14:30<2:09:51,  3.82s/it]"
     ]
    },
    {
     "name": "stdout",
     "output_type": "stream",
     "text": [
      "\n",
      "Batch 250/2288: Load=1.76s, Embed=1.64s, Store=0.00s, Total=3.60s, Images/sec=3.33\n",
      "Estimated remaining time: 122.4 minutes\n"
     ]
    },
    {
     "name": "stderr",
     "output_type": "stream",
     "text": [
      "Processing test:  11%|█▏        | 260/2288 [15:05<1:57:49,  3.49s/it]"
     ]
    },
    {
     "name": "stdout",
     "output_type": "stream",
     "text": [
      "\n",
      "Batch 260/2288: Load=1.68s, Embed=1.65s, Store=0.00s, Total=3.53s, Images/sec=3.40\n",
      "Estimated remaining time: 119.4 minutes\n"
     ]
    },
    {
     "name": "stderr",
     "output_type": "stream",
     "text": [
      "Processing test:  12%|█▏        | 270/2288 [15:39<1:57:27,  3.49s/it]"
     ]
    },
    {
     "name": "stdout",
     "output_type": "stream",
     "text": [
      "\n",
      "Batch 270/2288: Load=1.68s, Embed=1.65s, Store=0.00s, Total=3.53s, Images/sec=3.40\n",
      "Estimated remaining time: 118.8 minutes\n"
     ]
    },
    {
     "name": "stderr",
     "output_type": "stream",
     "text": [
      "Processing test:  12%|█▏        | 280/2288 [16:16<1:57:11,  3.50s/it]"
     ]
    },
    {
     "name": "stdout",
     "output_type": "stream",
     "text": [
      "\n",
      "Batch 280/2288: Load=1.61s, Embed=1.62s, Store=0.00s, Total=3.44s, Images/sec=3.48\n",
      "Estimated remaining time: 115.3 minutes\n"
     ]
    },
    {
     "name": "stderr",
     "output_type": "stream",
     "text": [
      "Processing test:  13%|█▎        | 290/2288 [16:50<1:55:15,  3.46s/it]"
     ]
    },
    {
     "name": "stdout",
     "output_type": "stream",
     "text": [
      "\n",
      "Batch 290/2288: Load=1.66s, Embed=1.61s, Store=0.00s, Total=3.48s, Images/sec=3.44\n",
      "Estimated remaining time: 116.0 minutes\n"
     ]
    },
    {
     "name": "stderr",
     "output_type": "stream",
     "text": [
      "Processing test:  13%|█▎        | 300/2288 [17:26<2:07:51,  3.86s/it]"
     ]
    },
    {
     "name": "stdout",
     "output_type": "stream",
     "text": [
      "\n",
      "Batch 300/2288: Load=1.67s, Embed=1.61s, Store=0.00s, Total=3.50s, Images/sec=3.43\n",
      "Estimated remaining time: 115.9 minutes\n"
     ]
    },
    {
     "name": "stderr",
     "output_type": "stream",
     "text": [
      "Processing test:  14%|█▎        | 310/2288 [18:01<1:56:12,  3.53s/it]"
     ]
    },
    {
     "name": "stdout",
     "output_type": "stream",
     "text": [
      "\n",
      "Batch 310/2288: Load=1.75s, Embed=1.62s, Store=0.00s, Total=3.58s, Images/sec=3.35\n",
      "Estimated remaining time: 118.0 minutes\n"
     ]
    },
    {
     "name": "stderr",
     "output_type": "stream",
     "text": [
      "Processing test:  14%|█▍        | 320/2288 [18:36<1:54:13,  3.48s/it]"
     ]
    },
    {
     "name": "stdout",
     "output_type": "stream",
     "text": [
      "\n",
      "Batch 320/2288: Load=1.64s, Embed=1.62s, Store=0.00s, Total=3.48s, Images/sec=3.45\n",
      "Estimated remaining time: 114.1 minutes\n"
     ]
    },
    {
     "name": "stderr",
     "output_type": "stream",
     "text": [
      "Processing test:  14%|█▍        | 330/2288 [19:11<1:54:57,  3.52s/it]"
     ]
    },
    {
     "name": "stdout",
     "output_type": "stream",
     "text": [
      "\n",
      "Batch 330/2288: Load=1.73s, Embed=1.63s, Store=0.00s, Total=3.59s, Images/sec=3.34\n",
      "Estimated remaining time: 117.2 minutes\n"
     ]
    },
    {
     "name": "stderr",
     "output_type": "stream",
     "text": [
      "Processing test:  15%|█▍        | 340/2288 [19:46<1:55:08,  3.55s/it]"
     ]
    },
    {
     "name": "stdout",
     "output_type": "stream",
     "text": [
      "\n",
      "Batch 340/2288: Load=1.82s, Embed=1.64s, Store=0.00s, Total=3.69s, Images/sec=3.25\n",
      "Estimated remaining time: 119.8 minutes\n"
     ]
    },
    {
     "name": "stderr",
     "output_type": "stream",
     "text": [
      "Processing test:  15%|█▌        | 350/2288 [20:22<2:07:14,  3.94s/it]"
     ]
    },
    {
     "name": "stdout",
     "output_type": "stream",
     "text": [
      "\n",
      "Batch 350/2288: Load=1.61s, Embed=1.60s, Store=0.00s, Total=3.46s, Images/sec=3.47\n",
      "Estimated remaining time: 111.7 minutes\n"
     ]
    },
    {
     "name": "stderr",
     "output_type": "stream",
     "text": [
      "Processing test:  16%|█▌        | 360/2288 [20:58<1:55:07,  3.58s/it]"
     ]
    },
    {
     "name": "stdout",
     "output_type": "stream",
     "text": [
      "\n",
      "Batch 360/2288: Load=1.72s, Embed=1.63s, Store=0.00s, Total=3.57s, Images/sec=3.36\n",
      "Estimated remaining time: 114.8 minutes\n"
     ]
    },
    {
     "name": "stderr",
     "output_type": "stream",
     "text": [
      "Processing test:  16%|█▌        | 370/2288 [21:33<1:51:33,  3.49s/it]"
     ]
    },
    {
     "name": "stdout",
     "output_type": "stream",
     "text": [
      "\n",
      "Batch 370/2288: Load=1.63s, Embed=1.61s, Store=0.00s, Total=3.47s, Images/sec=3.46\n",
      "Estimated remaining time: 111.0 minutes\n"
     ]
    },
    {
     "name": "stderr",
     "output_type": "stream",
     "text": [
      "Processing test:  17%|█▋        | 380/2288 [22:10<1:56:14,  3.66s/it]"
     ]
    },
    {
     "name": "stdout",
     "output_type": "stream",
     "text": [
      "\n",
      "Batch 380/2288: Load=1.74s, Embed=1.62s, Store=0.00s, Total=3.58s, Images/sec=3.35\n",
      "Estimated remaining time: 114.0 minutes\n"
     ]
    },
    {
     "name": "stderr",
     "output_type": "stream",
     "text": [
      "Processing test:  17%|█▋        | 390/2288 [22:45<1:51:31,  3.53s/it]"
     ]
    },
    {
     "name": "stdout",
     "output_type": "stream",
     "text": [
      "\n",
      "Batch 390/2288: Load=1.67s, Embed=1.63s, Store=0.00s, Total=3.54s, Images/sec=3.39\n",
      "Estimated remaining time: 111.8 minutes\n"
     ]
    },
    {
     "name": "stderr",
     "output_type": "stream",
     "text": [
      "Processing test:  17%|█▋        | 400/2288 [23:22<2:06:23,  4.02s/it]"
     ]
    },
    {
     "name": "stdout",
     "output_type": "stream",
     "text": [
      "\n",
      "Batch 400/2288: Load=1.68s, Embed=1.63s, Store=0.00s, Total=3.55s, Images/sec=3.38\n",
      "Estimated remaining time: 111.6 minutes\n"
     ]
    },
    {
     "name": "stderr",
     "output_type": "stream",
     "text": [
      "Processing test:  18%|█▊        | 410/2288 [23:57<1:51:07,  3.55s/it]"
     ]
    },
    {
     "name": "stdout",
     "output_type": "stream",
     "text": [
      "\n",
      "Batch 410/2288: Load=1.70s, Embed=1.61s, Store=0.00s, Total=3.55s, Images/sec=3.38\n",
      "Estimated remaining time: 111.1 minutes\n"
     ]
    },
    {
     "name": "stderr",
     "output_type": "stream",
     "text": [
      "Processing test:  18%|█▊        | 420/2288 [24:32<1:48:51,  3.50s/it]"
     ]
    },
    {
     "name": "stdout",
     "output_type": "stream",
     "text": [
      "\n",
      "Batch 420/2288: Load=1.61s, Embed=1.62s, Store=0.00s, Total=3.47s, Images/sec=3.46\n",
      "Estimated remaining time: 108.1 minutes\n"
     ]
    },
    {
     "name": "stderr",
     "output_type": "stream",
     "text": [
      "Processing test:  19%|█▉        | 430/2288 [25:07<1:49:00,  3.52s/it]"
     ]
    },
    {
     "name": "stdout",
     "output_type": "stream",
     "text": [
      "\n",
      "Batch 430/2288: Load=1.61s, Embed=1.63s, Store=0.00s, Total=3.48s, Images/sec=3.45\n",
      "Estimated remaining time: 107.8 minutes\n"
     ]
    },
    {
     "name": "stderr",
     "output_type": "stream",
     "text": [
      "Processing test:  19%|█▉        | 440/2288 [25:43<1:50:12,  3.58s/it]"
     ]
    },
    {
     "name": "stdout",
     "output_type": "stream",
     "text": [
      "\n",
      "Batch 440/2288: Load=1.84s, Embed=1.63s, Store=0.00s, Total=3.72s, Images/sec=3.23\n",
      "Estimated remaining time: 114.4 minutes\n"
     ]
    },
    {
     "name": "stderr",
     "output_type": "stream",
     "text": [
      "Processing test:  20%|█▉        | 450/2288 [26:20<2:05:05,  4.08s/it]"
     ]
    },
    {
     "name": "stdout",
     "output_type": "stream",
     "text": [
      "\n",
      "Batch 450/2288: Load=1.68s, Embed=1.62s, Store=0.00s, Total=3.56s, Images/sec=3.38\n",
      "Estimated remaining time: 108.9 minutes\n"
     ]
    },
    {
     "name": "stderr",
     "output_type": "stream",
     "text": [
      "Processing test:  20%|██        | 460/2288 [26:55<1:48:34,  3.56s/it]"
     ]
    },
    {
     "name": "stdout",
     "output_type": "stream",
     "text": [
      "\n",
      "Batch 460/2288: Load=1.66s, Embed=1.63s, Store=0.00s, Total=3.54s, Images/sec=3.39\n",
      "Estimated remaining time: 107.9 minutes\n"
     ]
    },
    {
     "name": "stderr",
     "output_type": "stream",
     "text": [
      "Processing test:  21%|██        | 470/2288 [27:30<1:46:37,  3.52s/it]"
     ]
    },
    {
     "name": "stdout",
     "output_type": "stream",
     "text": [
      "\n",
      "Batch 470/2288: Load=1.78s, Embed=1.62s, Store=0.00s, Total=3.65s, Images/sec=3.29\n",
      "Estimated remaining time: 110.5 minutes\n"
     ]
    },
    {
     "name": "stderr",
     "output_type": "stream",
     "text": [
      "Processing test:  21%|██        | 480/2288 [28:07<1:45:44,  3.51s/it]"
     ]
    },
    {
     "name": "stdout",
     "output_type": "stream",
     "text": [
      "\n",
      "Batch 480/2288: Load=1.56s, Embed=1.62s, Store=0.00s, Total=3.44s, Images/sec=3.49\n",
      "Estimated remaining time: 103.6 minutes\n"
     ]
    },
    {
     "name": "stderr",
     "output_type": "stream",
     "text": [
      "Processing test:  21%|██▏       | 490/2288 [28:42<1:44:56,  3.50s/it]"
     ]
    },
    {
     "name": "stdout",
     "output_type": "stream",
     "text": [
      "\n",
      "Batch 490/2288: Load=1.65s, Embed=1.65s, Store=0.00s, Total=3.55s, Images/sec=3.38\n",
      "Estimated remaining time: 106.5 minutes\n"
     ]
    },
    {
     "name": "stderr",
     "output_type": "stream",
     "text": [
      "Processing test:  22%|██▏       | 500/2288 [29:19<2:03:21,  4.14s/it]"
     ]
    },
    {
     "name": "stdout",
     "output_type": "stream",
     "text": [
      "\n",
      "Batch 500/2288: Load=1.71s, Embed=1.63s, Store=0.00s, Total=3.60s, Images/sec=3.33\n",
      "Estimated remaining time: 107.4 minutes\n"
     ]
    },
    {
     "name": "stderr",
     "output_type": "stream",
     "text": [
      "Processing test:  22%|██▏       | 510/2288 [29:55<1:46:30,  3.59s/it]"
     ]
    },
    {
     "name": "stdout",
     "output_type": "stream",
     "text": [
      "\n",
      "Batch 510/2288: Load=1.65s, Embed=1.63s, Store=0.00s, Total=3.54s, Images/sec=3.39\n",
      "Estimated remaining time: 105.0 minutes\n"
     ]
    },
    {
     "name": "stderr",
     "output_type": "stream",
     "text": [
      "Processing test:  23%|██▎       | 520/2288 [30:31<1:45:26,  3.58s/it]"
     ]
    },
    {
     "name": "stdout",
     "output_type": "stream",
     "text": [
      "\n",
      "Batch 520/2288: Load=1.74s, Embed=1.61s, Store=0.00s, Total=3.62s, Images/sec=3.31\n",
      "Estimated remaining time: 106.7 minutes\n"
     ]
    },
    {
     "name": "stderr",
     "output_type": "stream",
     "text": [
      "Processing test:  23%|██▎       | 530/2288 [31:06<1:43:23,  3.53s/it]"
     ]
    },
    {
     "name": "stdout",
     "output_type": "stream",
     "text": [
      "\n",
      "Batch 530/2288: Load=1.66s, Embed=1.62s, Store=0.00s, Total=3.54s, Images/sec=3.39\n",
      "Estimated remaining time: 103.9 minutes\n"
     ]
    },
    {
     "name": "stderr",
     "output_type": "stream",
     "text": [
      "Processing test:  24%|██▎       | 540/2288 [31:42<1:42:01,  3.50s/it]"
     ]
    },
    {
     "name": "stdout",
     "output_type": "stream",
     "text": [
      "\n",
      "Batch 540/2288: Load=1.50s, Embed=1.63s, Store=0.00s, Total=3.40s, Images/sec=3.53\n",
      "Estimated remaining time: 98.9 minutes\n"
     ]
    },
    {
     "name": "stderr",
     "output_type": "stream",
     "text": [
      "Processing test:  24%|██▍       | 550/2288 [32:19<2:01:42,  4.20s/it]"
     ]
    },
    {
     "name": "stdout",
     "output_type": "stream",
     "text": [
      "\n",
      "Batch 550/2288: Load=1.69s, Embed=1.62s, Store=0.00s, Total=3.58s, Images/sec=3.35\n",
      "Estimated remaining time: 103.7 minutes\n"
     ]
    },
    {
     "name": "stderr",
     "output_type": "stream",
     "text": [
      "Processing test:  24%|██▍       | 560/2288 [32:55<1:41:07,  3.51s/it]"
     ]
    },
    {
     "name": "stdout",
     "output_type": "stream",
     "text": [
      "\n",
      "Batch 560/2288: Load=1.56s, Embed=1.64s, Store=0.00s, Total=3.47s, Images/sec=3.45\n",
      "Estimated remaining time: 100.1 minutes\n"
     ]
    },
    {
     "name": "stderr",
     "output_type": "stream",
     "text": [
      "Processing test:  25%|██▍       | 570/2288 [33:30<1:40:09,  3.50s/it]"
     ]
    },
    {
     "name": "stdout",
     "output_type": "stream",
     "text": [
      "\n",
      "Batch 570/2288: Load=1.54s, Embed=1.63s, Store=0.00s, Total=3.45s, Images/sec=3.48\n",
      "Estimated remaining time: 98.8 minutes\n"
     ]
    },
    {
     "name": "stderr",
     "output_type": "stream",
     "text": [
      "Processing test:  25%|██▌       | 580/2288 [34:06<1:42:03,  3.59s/it]"
     ]
    },
    {
     "name": "stdout",
     "output_type": "stream",
     "text": [
      "\n",
      "Batch 580/2288: Load=1.77s, Embed=1.62s, Store=0.00s, Total=3.67s, Images/sec=3.27\n",
      "Estimated remaining time: 104.4 minutes\n"
     ]
    },
    {
     "name": "stderr",
     "output_type": "stream",
     "text": [
      "Processing test:  26%|██▌       | 590/2288 [34:42<1:41:29,  3.59s/it]"
     ]
    },
    {
     "name": "stdout",
     "output_type": "stream",
     "text": [
      "\n",
      "Batch 590/2288: Load=1.68s, Embed=1.63s, Store=0.00s, Total=3.61s, Images/sec=3.32\n",
      "Estimated remaining time: 102.3 minutes\n"
     ]
    },
    {
     "name": "stderr",
     "output_type": "stream",
     "text": [
      "Processing test:  26%|██▌       | 600/2288 [35:21<2:01:09,  4.31s/it]"
     ]
    },
    {
     "name": "stdout",
     "output_type": "stream",
     "text": [
      "\n",
      "Batch 600/2288: Load=1.65s, Embed=1.63s, Store=0.00s, Total=3.57s, Images/sec=3.37\n",
      "Estimated remaining time: 100.3 minutes\n"
     ]
    },
    {
     "name": "stderr",
     "output_type": "stream",
     "text": [
      "Processing test:  27%|██▋       | 610/2288 [35:57<1:41:39,  3.63s/it]"
     ]
    },
    {
     "name": "stdout",
     "output_type": "stream",
     "text": [
      "\n",
      "Batch 610/2288: Load=1.66s, Embed=1.65s, Store=0.00s, Total=3.59s, Images/sec=3.34\n",
      "Estimated remaining time: 100.3 minutes\n"
     ]
    },
    {
     "name": "stderr",
     "output_type": "stream",
     "text": [
      "Processing test:  27%|██▋       | 620/2288 [36:33<1:39:57,  3.60s/it]"
     ]
    },
    {
     "name": "stdout",
     "output_type": "stream",
     "text": [
      "\n",
      "Batch 620/2288: Load=1.78s, Embed=1.64s, Store=0.00s, Total=3.71s, Images/sec=3.23\n",
      "Estimated remaining time: 103.2 minutes\n"
     ]
    },
    {
     "name": "stderr",
     "output_type": "stream",
     "text": [
      "Processing test:  28%|██▊       | 630/2288 [37:08<1:38:38,  3.57s/it]"
     ]
    },
    {
     "name": "stdout",
     "output_type": "stream",
     "text": [
      "\n",
      "Batch 630/2288: Load=1.66s, Embed=1.63s, Store=0.00s, Total=3.59s, Images/sec=3.34\n",
      "Estimated remaining time: 99.1 minutes\n"
     ]
    },
    {
     "name": "stderr",
     "output_type": "stream",
     "text": [
      "Processing test:  28%|██▊       | 640/2288 [37:44<1:40:03,  3.64s/it]"
     ]
    },
    {
     "name": "stdout",
     "output_type": "stream",
     "text": [
      "\n",
      "Batch 640/2288: Load=1.78s, Embed=1.63s, Store=0.00s, Total=3.77s, Images/sec=3.18\n",
      "Estimated remaining time: 103.6 minutes\n"
     ]
    },
    {
     "name": "stderr",
     "output_type": "stream",
     "text": [
      "Processing test:  28%|██▊       | 650/2288 [38:23<1:58:39,  4.35s/it]"
     ]
    },
    {
     "name": "stdout",
     "output_type": "stream",
     "text": [
      "\n",
      "Batch 650/2288: Load=1.73s, Embed=1.64s, Store=0.00s, Total=3.67s, Images/sec=3.27\n",
      "Estimated remaining time: 100.2 minutes\n"
     ]
    },
    {
     "name": "stderr",
     "output_type": "stream",
     "text": [
      "Processing test:  29%|██▉       | 660/2288 [38:58<1:37:23,  3.59s/it]"
     ]
    },
    {
     "name": "stdout",
     "output_type": "stream",
     "text": [
      "\n",
      "Batch 660/2288: Load=1.67s, Embed=1.61s, Store=0.00s, Total=3.64s, Images/sec=3.30\n",
      "Estimated remaining time: 98.7 minutes\n"
     ]
    },
    {
     "name": "stderr",
     "output_type": "stream",
     "text": [
      "Processing test:  29%|██▉       | 670/2288 [39:34<1:35:37,  3.55s/it]"
     ]
    },
    {
     "name": "stdout",
     "output_type": "stream",
     "text": [
      "\n",
      "Batch 670/2288: Load=1.63s, Embed=1.64s, Store=0.00s, Total=3.58s, Images/sec=3.36\n",
      "Estimated remaining time: 96.4 minutes\n"
     ]
    },
    {
     "name": "stderr",
     "output_type": "stream",
     "text": [
      "Processing test:  30%|██▉       | 680/2288 [40:10<1:37:13,  3.63s/it]"
     ]
    },
    {
     "name": "stdout",
     "output_type": "stream",
     "text": [
      "\n",
      "Batch 680/2288: Load=1.72s, Embed=1.63s, Store=0.00s, Total=3.67s, Images/sec=3.27\n",
      "Estimated remaining time: 98.3 minutes\n"
     ]
    },
    {
     "name": "stderr",
     "output_type": "stream",
     "text": [
      "Processing test:  30%|███       | 690/2288 [40:45<1:34:52,  3.56s/it]"
     ]
    },
    {
     "name": "stdout",
     "output_type": "stream",
     "text": [
      "\n",
      "Batch 690/2288: Load=1.57s, Embed=1.62s, Store=0.00s, Total=3.51s, Images/sec=3.42\n",
      "Estimated remaining time: 93.4 minutes\n"
     ]
    },
    {
     "name": "stderr",
     "output_type": "stream",
     "text": [
      "Processing test:  31%|███       | 700/2288 [41:24<1:56:09,  4.39s/it]"
     ]
    },
    {
     "name": "stdout",
     "output_type": "stream",
     "text": [
      "\n",
      "Batch 700/2288: Load=1.60s, Embed=1.63s, Store=0.00s, Total=3.54s, Images/sec=3.39\n",
      "Estimated remaining time: 93.6 minutes\n"
     ]
    },
    {
     "name": "stderr",
     "output_type": "stream",
     "text": [
      "Processing test:  31%|███       | 710/2288 [41:59<1:35:16,  3.62s/it]"
     ]
    },
    {
     "name": "stdout",
     "output_type": "stream",
     "text": [
      "\n",
      "Batch 710/2288: Load=1.68s, Embed=1.64s, Store=0.00s, Total=3.63s, Images/sec=3.30\n",
      "Estimated remaining time: 95.5 minutes\n"
     ]
    },
    {
     "name": "stderr",
     "output_type": "stream",
     "text": [
      "Processing test:  31%|███▏      | 720/2288 [42:35<1:33:10,  3.57s/it]"
     ]
    },
    {
     "name": "stdout",
     "output_type": "stream",
     "text": [
      "\n",
      "Batch 720/2288: Load=1.59s, Embed=1.63s, Store=0.00s, Total=3.55s, Images/sec=3.38\n",
      "Estimated remaining time: 92.9 minutes\n"
     ]
    },
    {
     "name": "stderr",
     "output_type": "stream",
     "text": [
      "Processing test:  32%|███▏      | 730/2288 [43:11<1:35:19,  3.67s/it]"
     ]
    },
    {
     "name": "stdout",
     "output_type": "stream",
     "text": [
      "\n",
      "Batch 730/2288: Load=1.78s, Embed=1.65s, Store=0.00s, Total=3.75s, Images/sec=3.20\n",
      "Estimated remaining time: 97.3 minutes\n"
     ]
    },
    {
     "name": "stderr",
     "output_type": "stream",
     "text": [
      "Processing test:  32%|███▏      | 740/2288 [43:48<1:34:20,  3.66s/it]"
     ]
    },
    {
     "name": "stdout",
     "output_type": "stream",
     "text": [
      "\n",
      "Batch 740/2288: Load=1.72s, Embed=1.66s, Store=0.00s, Total=3.70s, Images/sec=3.25\n",
      "Estimated remaining time: 95.4 minutes\n"
     ]
    },
    {
     "name": "stderr",
     "output_type": "stream",
     "text": [
      "Processing test:  33%|███▎      | 750/2288 [44:27<1:55:15,  4.50s/it]"
     ]
    },
    {
     "name": "stdout",
     "output_type": "stream",
     "text": [
      "\n",
      "Batch 750/2288: Load=1.69s, Embed=1.64s, Store=0.00s, Total=3.64s, Images/sec=3.29\n",
      "Estimated remaining time: 93.4 minutes\n"
     ]
    },
    {
     "name": "stderr",
     "output_type": "stream",
     "text": [
      "Processing test:  33%|███▎      | 760/2288 [45:04<1:34:53,  3.73s/it]"
     ]
    },
    {
     "name": "stdout",
     "output_type": "stream",
     "text": [
      "\n",
      "Batch 760/2288: Load=1.79s, Embed=1.64s, Store=0.00s, Total=3.75s, Images/sec=3.20\n",
      "Estimated remaining time: 95.6 minutes\n"
     ]
    },
    {
     "name": "stderr",
     "output_type": "stream",
     "text": [
      "Processing test:  34%|███▎      | 770/2288 [45:40<1:30:11,  3.56s/it]"
     ]
    },
    {
     "name": "stdout",
     "output_type": "stream",
     "text": [
      "\n",
      "Batch 770/2288: Load=1.55s, Embed=1.63s, Store=0.00s, Total=3.51s, Images/sec=3.42\n",
      "Estimated remaining time: 88.7 minutes\n"
     ]
    },
    {
     "name": "stderr",
     "output_type": "stream",
     "text": [
      "Processing test:  34%|███▍      | 780/2288 [46:16<1:30:46,  3.61s/it]"
     ]
    },
    {
     "name": "stdout",
     "output_type": "stream",
     "text": [
      "\n",
      "Batch 780/2288: Load=1.69s, Embed=1.63s, Store=0.00s, Total=3.65s, Images/sec=3.29\n",
      "Estimated remaining time: 91.7 minutes\n"
     ]
    },
    {
     "name": "stderr",
     "output_type": "stream",
     "text": [
      "Processing test:  35%|███▍      | 790/2288 [46:52<1:30:36,  3.63s/it]"
     ]
    },
    {
     "name": "stdout",
     "output_type": "stream",
     "text": [
      "\n",
      "Batch 790/2288: Load=1.71s, Embed=1.65s, Store=0.00s, Total=3.69s, Images/sec=3.25\n",
      "Estimated remaining time: 92.1 minutes\n"
     ]
    },
    {
     "name": "stderr",
     "output_type": "stream",
     "text": [
      "Processing test:  35%|███▍      | 800/2288 [47:32<1:54:54,  4.63s/it]"
     ]
    },
    {
     "name": "stdout",
     "output_type": "stream",
     "text": [
      "\n",
      "Batch 800/2288: Load=1.72s, Embed=1.63s, Store=0.00s, Total=3.71s, Images/sec=3.23\n",
      "Estimated remaining time: 92.1 minutes\n"
     ]
    },
    {
     "name": "stderr",
     "output_type": "stream",
     "text": [
      "Processing test:  35%|███▌      | 810/2288 [48:09<1:31:22,  3.71s/it]"
     ]
    },
    {
     "name": "stdout",
     "output_type": "stream",
     "text": [
      "\n",
      "Batch 810/2288: Load=1.79s, Embed=1.65s, Store=0.00s, Total=3.77s, Images/sec=3.18\n",
      "Estimated remaining time: 93.0 minutes\n"
     ]
    },
    {
     "name": "stderr",
     "output_type": "stream",
     "text": [
      "Processing test:  36%|███▌      | 820/2288 [48:45<1:29:00,  3.64s/it]"
     ]
    },
    {
     "name": "stdout",
     "output_type": "stream",
     "text": [
      "\n",
      "Batch 820/2288: Load=1.66s, Embed=1.65s, Store=0.00s, Total=3.65s, Images/sec=3.29\n",
      "Estimated remaining time: 89.2 minutes\n"
     ]
    },
    {
     "name": "stderr",
     "output_type": "stream",
     "text": [
      "Processing test:  36%|███▋      | 830/2288 [49:21<1:27:32,  3.60s/it]"
     ]
    },
    {
     "name": "stdout",
     "output_type": "stream",
     "text": [
      "\n",
      "Batch 830/2288: Load=1.64s, Embed=1.65s, Store=0.00s, Total=3.62s, Images/sec=3.32\n",
      "Estimated remaining time: 87.9 minutes\n"
     ]
    },
    {
     "name": "stderr",
     "output_type": "stream",
     "text": [
      "Processing test:  37%|███▋      | 840/2288 [49:57<1:27:02,  3.61s/it]"
     ]
    },
    {
     "name": "stdout",
     "output_type": "stream",
     "text": [
      "\n",
      "Batch 840/2288: Load=1.66s, Embed=1.64s, Store=0.00s, Total=3.65s, Images/sec=3.29\n",
      "Estimated remaining time: 88.0 minutes\n"
     ]
    },
    {
     "name": "stderr",
     "output_type": "stream",
     "text": [
      "Processing test:  37%|███▋      | 850/2288 [50:37<1:50:55,  4.63s/it]"
     ]
    },
    {
     "name": "stdout",
     "output_type": "stream",
     "text": [
      "\n",
      "Batch 850/2288: Load=1.75s, Embed=1.64s, Store=0.00s, Total=3.72s, Images/sec=3.22\n",
      "Estimated remaining time: 89.2 minutes\n"
     ]
    },
    {
     "name": "stderr",
     "output_type": "stream",
     "text": [
      "Processing test:  38%|███▊      | 860/2288 [51:13<1:28:02,  3.70s/it]"
     ]
    },
    {
     "name": "stdout",
     "output_type": "stream",
     "text": [
      "\n",
      "Batch 860/2288: Load=1.64s, Embed=1.63s, Store=0.00s, Total=3.62s, Images/sec=3.32\n",
      "Estimated remaining time: 86.1 minutes\n"
     ]
    },
    {
     "name": "stderr",
     "output_type": "stream",
     "text": [
      "Processing test:  38%|███▊      | 870/2288 [51:50<1:25:56,  3.64s/it]"
     ]
    },
    {
     "name": "stdout",
     "output_type": "stream",
     "text": [
      "\n",
      "Batch 870/2288: Load=1.63s, Embed=1.64s, Store=0.00s, Total=3.62s, Images/sec=3.32\n",
      "Estimated remaining time: 85.5 minutes\n"
     ]
    },
    {
     "name": "stderr",
     "output_type": "stream",
     "text": [
      "Processing test:  38%|███▊      | 880/2288 [52:26<1:25:06,  3.63s/it]"
     ]
    },
    {
     "name": "stdout",
     "output_type": "stream",
     "text": [
      "\n",
      "Batch 880/2288: Load=1.71s, Embed=1.66s, Store=0.00s, Total=3.72s, Images/sec=3.22\n",
      "Estimated remaining time: 87.3 minutes\n"
     ]
    },
    {
     "name": "stderr",
     "output_type": "stream",
     "text": [
      "Processing test:  39%|███▉      | 890/2288 [53:02<1:24:59,  3.65s/it]"
     ]
    },
    {
     "name": "stdout",
     "output_type": "stream",
     "text": [
      "\n",
      "Batch 890/2288: Load=1.68s, Embed=1.63s, Store=0.00s, Total=3.66s, Images/sec=3.28\n",
      "Estimated remaining time: 85.2 minutes\n"
     ]
    },
    {
     "name": "stderr",
     "output_type": "stream",
     "text": [
      "Processing test:  39%|███▉      | 900/2288 [53:42<1:48:19,  4.68s/it]"
     ]
    },
    {
     "name": "stdout",
     "output_type": "stream",
     "text": [
      "\n",
      "Batch 900/2288: Load=1.75s, Embed=1.61s, Store=0.00s, Total=3.72s, Images/sec=3.23\n",
      "Estimated remaining time: 86.0 minutes\n"
     ]
    },
    {
     "name": "stderr",
     "output_type": "stream",
     "text": [
      "Processing test:  40%|███▉      | 910/2288 [54:20<1:26:43,  3.78s/it]"
     ]
    },
    {
     "name": "stdout",
     "output_type": "stream",
     "text": [
      "\n",
      "Batch 910/2288: Load=1.80s, Embed=1.65s, Store=0.00s, Total=3.81s, Images/sec=3.15\n",
      "Estimated remaining time: 87.5 minutes\n"
     ]
    },
    {
     "name": "stderr",
     "output_type": "stream",
     "text": [
      "Processing test:  40%|████      | 920/2288 [54:57<1:25:08,  3.73s/it]"
     ]
    },
    {
     "name": "stdout",
     "output_type": "stream",
     "text": [
      "\n",
      "Batch 920/2288: Load=1.74s, Embed=1.67s, Store=0.00s, Total=3.77s, Images/sec=3.19\n",
      "Estimated remaining time: 85.8 minutes\n"
     ]
    },
    {
     "name": "stderr",
     "output_type": "stream",
     "text": [
      "Processing test:  41%|████      | 930/2288 [55:34<1:24:52,  3.75s/it]"
     ]
    },
    {
     "name": "stdout",
     "output_type": "stream",
     "text": [
      "\n",
      "Batch 930/2288: Load=1.76s, Embed=1.63s, Store=0.00s, Total=3.75s, Images/sec=3.20\n",
      "Estimated remaining time: 84.9 minutes\n"
     ]
    },
    {
     "name": "stderr",
     "output_type": "stream",
     "text": [
      "Processing test:  41%|████      | 940/2288 [56:12<1:23:57,  3.74s/it]"
     ]
    },
    {
     "name": "stdout",
     "output_type": "stream",
     "text": [
      "\n",
      "Batch 940/2288: Load=1.71s, Embed=1.65s, Store=0.00s, Total=3.72s, Images/sec=3.23\n",
      "Estimated remaining time: 83.5 minutes\n"
     ]
    },
    {
     "name": "stderr",
     "output_type": "stream",
     "text": [
      "Processing test:  42%|████▏     | 950/2288 [56:53<1:47:33,  4.82s/it]"
     ]
    },
    {
     "name": "stdout",
     "output_type": "stream",
     "text": [
      "\n",
      "Batch 950/2288: Load=1.74s, Embed=1.65s, Store=0.00s, Total=3.76s, Images/sec=3.19\n",
      "Estimated remaining time: 83.9 minutes\n"
     ]
    },
    {
     "name": "stderr",
     "output_type": "stream",
     "text": [
      "Processing test:  42%|████▏     | 960/2288 [57:30<1:24:25,  3.81s/it]"
     ]
    },
    {
     "name": "stdout",
     "output_type": "stream",
     "text": [
      "\n",
      "Batch 960/2288: Load=1.81s, Embed=1.64s, Store=0.00s, Total=3.86s, Images/sec=3.11\n",
      "Estimated remaining time: 85.4 minutes\n"
     ]
    },
    {
     "name": "stderr",
     "output_type": "stream",
     "text": [
      "Processing test:  42%|████▏     | 970/2288 [58:07<1:21:59,  3.73s/it]"
     ]
    },
    {
     "name": "stdout",
     "output_type": "stream",
     "text": [
      "\n",
      "Batch 970/2288: Load=1.67s, Embed=1.62s, Store=0.00s, Total=3.66s, Images/sec=3.28\n",
      "Estimated remaining time: 80.5 minutes\n"
     ]
    },
    {
     "name": "stderr",
     "output_type": "stream",
     "text": [
      "Processing test:  43%|████▎     | 980/2288 [58:45<1:21:34,  3.74s/it]"
     ]
    },
    {
     "name": "stdout",
     "output_type": "stream",
     "text": [
      "\n",
      "Batch 980/2288: Load=1.72s, Embed=1.63s, Store=0.00s, Total=3.72s, Images/sec=3.22\n",
      "Estimated remaining time: 81.1 minutes\n"
     ]
    },
    {
     "name": "stderr",
     "output_type": "stream",
     "text": [
      "Processing test:  43%|████▎     | 990/2288 [59:22<1:20:18,  3.71s/it]"
     ]
    },
    {
     "name": "stdout",
     "output_type": "stream",
     "text": [
      "\n",
      "Batch 990/2288: Load=1.78s, Embed=1.64s, Store=0.00s, Total=3.79s, Images/sec=3.16\n",
      "Estimated remaining time: 82.1 minutes\n"
     ]
    },
    {
     "name": "stderr",
     "output_type": "stream",
     "text": [
      "Processing test:  44%|████▎     | 1000/2288 [1:00:02<1:41:21,  4.72s/it]"
     ]
    },
    {
     "name": "stdout",
     "output_type": "stream",
     "text": [
      "\n",
      "Batch 1000/2288: Load=1.68s, Embed=1.64s, Store=0.00s, Total=3.70s, Images/sec=3.24\n",
      "Estimated remaining time: 79.4 minutes\n"
     ]
    },
    {
     "name": "stderr",
     "output_type": "stream",
     "text": [
      "Processing test:  44%|████▍     | 1010/2288 [1:00:38<1:18:48,  3.70s/it]"
     ]
    },
    {
     "name": "stdout",
     "output_type": "stream",
     "text": [
      "\n",
      "Batch 1010/2288: Load=1.71s, Embed=1.64s, Store=0.00s, Total=3.72s, Images/sec=3.22\n",
      "Estimated remaining time: 79.3 minutes\n"
     ]
    },
    {
     "name": "stderr",
     "output_type": "stream",
     "text": [
      "Processing test:  45%|████▍     | 1020/2288 [1:01:15<1:16:42,  3.63s/it]"
     ]
    },
    {
     "name": "stdout",
     "output_type": "stream",
     "text": [
      "\n",
      "Batch 1020/2288: Load=1.61s, Embed=1.63s, Store=0.00s, Total=3.61s, Images/sec=3.33\n",
      "Estimated remaining time: 76.2 minutes\n"
     ]
    },
    {
     "name": "stderr",
     "output_type": "stream",
     "text": [
      "Processing test:  45%|████▌     | 1030/2288 [1:01:51<1:17:21,  3.69s/it]"
     ]
    },
    {
     "name": "stdout",
     "output_type": "stream",
     "text": [
      "\n",
      "Batch 1030/2288: Load=1.78s, Embed=1.65s, Store=0.00s, Total=3.81s, Images/sec=3.15\n",
      "Estimated remaining time: 80.0 minutes\n"
     ]
    },
    {
     "name": "stderr",
     "output_type": "stream",
     "text": [
      "Processing test:  45%|████▌     | 1040/2288 [1:02:28<1:16:34,  3.68s/it]"
     ]
    },
    {
     "name": "stdout",
     "output_type": "stream",
     "text": [
      "\n",
      "Batch 1040/2288: Load=1.56s, Embed=1.65s, Store=0.00s, Total=3.59s, Images/sec=3.35\n",
      "Estimated remaining time: 74.6 minutes\n"
     ]
    },
    {
     "name": "stderr",
     "output_type": "stream",
     "text": [
      "Processing test:  46%|████▌     | 1050/2288 [1:03:09<1:40:20,  4.86s/it]"
     ]
    },
    {
     "name": "stdout",
     "output_type": "stream",
     "text": [
      "\n",
      "Batch 1050/2288: Load=1.60s, Embed=1.65s, Store=0.00s, Total=3.64s, Images/sec=3.30\n",
      "Estimated remaining time: 75.1 minutes\n"
     ]
    },
    {
     "name": "stderr",
     "output_type": "stream",
     "text": [
      "Processing test:  46%|████▋     | 1060/2288 [1:03:46<1:16:20,  3.73s/it]"
     ]
    },
    {
     "name": "stdout",
     "output_type": "stream",
     "text": [
      "\n",
      "Batch 1060/2288: Load=1.70s, Embed=1.64s, Store=0.00s, Total=3.72s, Images/sec=3.22\n",
      "Estimated remaining time: 76.2 minutes\n"
     ]
    },
    {
     "name": "stderr",
     "output_type": "stream",
     "text": [
      "Processing test:  47%|████▋     | 1070/2288 [1:04:22<1:14:02,  3.65s/it]"
     ]
    },
    {
     "name": "stdout",
     "output_type": "stream",
     "text": [
      "\n",
      "Batch 1070/2288: Load=1.64s, Embed=1.63s, Store=0.00s, Total=3.66s, Images/sec=3.28\n",
      "Estimated remaining time: 74.3 minutes\n"
     ]
    },
    {
     "name": "stderr",
     "output_type": "stream",
     "text": [
      "Processing test:  47%|████▋     | 1080/2288 [1:04:59<1:14:38,  3.71s/it]"
     ]
    },
    {
     "name": "stdout",
     "output_type": "stream",
     "text": [
      "\n",
      "Batch 1080/2288: Load=1.73s, Embed=1.65s, Store=0.00s, Total=3.78s, Images/sec=3.18\n",
      "Estimated remaining time: 76.0 minutes\n"
     ]
    },
    {
     "name": "stderr",
     "output_type": "stream",
     "text": [
      "Processing test:  48%|████▊     | 1090/2288 [1:05:36<1:12:56,  3.65s/it]"
     ]
    },
    {
     "name": "stdout",
     "output_type": "stream",
     "text": [
      "\n",
      "Batch 1090/2288: Load=1.67s, Embed=1.64s, Store=0.00s, Total=3.70s, Images/sec=3.25\n",
      "Estimated remaining time: 73.8 minutes\n"
     ]
    },
    {
     "name": "stderr",
     "output_type": "stream",
     "text": [
      "Processing test:  48%|████▊     | 1100/2288 [1:06:17<1:37:32,  4.93s/it]"
     ]
    },
    {
     "name": "stdout",
     "output_type": "stream",
     "text": [
      "\n",
      "Batch 1100/2288: Load=1.62s, Embed=1.66s, Store=0.00s, Total=3.68s, Images/sec=3.26\n",
      "Estimated remaining time: 72.9 minutes\n"
     ]
    },
    {
     "name": "stderr",
     "output_type": "stream",
     "text": [
      "Processing test:  49%|████▊     | 1110/2288 [1:06:53<1:13:29,  3.74s/it]"
     ]
    },
    {
     "name": "stdout",
     "output_type": "stream",
     "text": [
      "\n",
      "Batch 1110/2288: Load=1.81s, Embed=1.65s, Store=0.00s, Total=3.86s, Images/sec=3.11\n",
      "Estimated remaining time: 75.8 minutes\n"
     ]
    },
    {
     "name": "stderr",
     "output_type": "stream",
     "text": [
      "Processing test:  49%|████▉     | 1120/2288 [1:07:32<1:15:30,  3.88s/it]"
     ]
    },
    {
     "name": "stdout",
     "output_type": "stream",
     "text": [
      "\n",
      "Batch 1120/2288: Load=1.52s, Embed=1.66s, Store=0.00s, Total=3.60s, Images/sec=3.33\n",
      "Estimated remaining time: 70.1 minutes\n"
     ]
    },
    {
     "name": "stderr",
     "output_type": "stream",
     "text": [
      "Processing test:  49%|████▉     | 1130/2288 [1:08:09<1:11:46,  3.72s/it]"
     ]
    },
    {
     "name": "stdout",
     "output_type": "stream",
     "text": [
      "\n",
      "Batch 1130/2288: Load=1.68s, Embed=1.65s, Store=0.00s, Total=3.76s, Images/sec=3.20\n",
      "Estimated remaining time: 72.5 minutes\n"
     ]
    },
    {
     "name": "stderr",
     "output_type": "stream",
     "text": [
      "Processing test:  50%|████▉     | 1140/2288 [1:08:47<1:11:42,  3.75s/it]"
     ]
    },
    {
     "name": "stdout",
     "output_type": "stream",
     "text": [
      "\n",
      "Batch 1140/2288: Load=1.67s, Embed=1.63s, Store=0.00s, Total=3.76s, Images/sec=3.19\n",
      "Estimated remaining time: 71.9 minutes\n"
     ]
    },
    {
     "name": "stderr",
     "output_type": "stream",
     "text": [
      "Processing test:  50%|█████     | 1150/2288 [1:09:29<1:37:44,  5.15s/it]"
     ]
    },
    {
     "name": "stdout",
     "output_type": "stream",
     "text": [
      "\n",
      "Batch 1150/2288: Load=1.60s, Embed=1.65s, Store=0.00s, Total=3.68s, Images/sec=3.26\n",
      "Estimated remaining time: 69.9 minutes\n"
     ]
    },
    {
     "name": "stderr",
     "output_type": "stream",
     "text": [
      "Processing test:  51%|█████     | 1160/2288 [1:10:07<1:12:04,  3.83s/it]"
     ]
    },
    {
     "name": "stdout",
     "output_type": "stream",
     "text": [
      "\n",
      "Batch 1160/2288: Load=1.60s, Embed=1.66s, Store=0.00s, Total=3.70s, Images/sec=3.24\n",
      "Estimated remaining time: 69.6 minutes\n"
     ]
    },
    {
     "name": "stderr",
     "output_type": "stream",
     "text": [
      "Processing test:  51%|█████     | 1170/2288 [1:10:45<1:10:47,  3.80s/it]"
     ]
    },
    {
     "name": "stdout",
     "output_type": "stream",
     "text": [
      "\n",
      "Batch 1170/2288: Load=1.76s, Embed=1.66s, Store=0.00s, Total=3.89s, Images/sec=3.08\n",
      "Estimated remaining time: 72.5 minutes\n"
     ]
    },
    {
     "name": "stderr",
     "output_type": "stream",
     "text": [
      "Processing test:  52%|█████▏    | 1180/2288 [1:11:23<1:10:49,  3.84s/it]"
     ]
    },
    {
     "name": "stdout",
     "output_type": "stream",
     "text": [
      "\n",
      "Batch 1180/2288: Load=1.84s, Embed=1.65s, Store=0.00s, Total=3.92s, Images/sec=3.06\n",
      "Estimated remaining time: 72.4 minutes\n"
     ]
    },
    {
     "name": "stderr",
     "output_type": "stream",
     "text": [
      "Processing test:  52%|█████▏    | 1190/2288 [1:12:00<1:08:56,  3.77s/it]"
     ]
    },
    {
     "name": "stdout",
     "output_type": "stream",
     "text": [
      "\n",
      "Batch 1190/2288: Load=1.79s, Embed=1.65s, Store=0.00s, Total=3.88s, Images/sec=3.09\n",
      "Estimated remaining time: 71.0 minutes\n"
     ]
    },
    {
     "name": "stderr",
     "output_type": "stream",
     "text": [
      "Processing test:  52%|█████▏    | 1200/2288 [1:12:42<1:34:16,  5.20s/it]"
     ]
    },
    {
     "name": "stdout",
     "output_type": "stream",
     "text": [
      "\n",
      "Batch 1200/2288: Load=1.75s, Embed=1.69s, Store=0.00s, Total=3.91s, Images/sec=3.07\n",
      "Estimated remaining time: 71.0 minutes\n"
     ]
    },
    {
     "name": "stderr",
     "output_type": "stream",
     "text": [
      "Processing test:  53%|█████▎    | 1210/2288 [1:13:20<1:07:56,  3.78s/it]"
     ]
    },
    {
     "name": "stdout",
     "output_type": "stream",
     "text": [
      "\n",
      "Batch 1210/2288: Load=1.43s, Embed=1.65s, Store=0.00s, Total=3.52s, Images/sec=3.41\n",
      "Estimated remaining time: 63.3 minutes\n"
     ]
    },
    {
     "name": "stderr",
     "output_type": "stream",
     "text": [
      "Processing test:  53%|█████▎    | 1220/2288 [1:13:57<1:06:19,  3.73s/it]"
     ]
    },
    {
     "name": "stdout",
     "output_type": "stream",
     "text": [
      "\n",
      "Batch 1220/2288: Load=1.71s, Embed=1.63s, Store=0.00s, Total=3.79s, Images/sec=3.17\n",
      "Estimated remaining time: 67.4 minutes\n"
     ]
    },
    {
     "name": "stderr",
     "output_type": "stream",
     "text": [
      "Processing test:  54%|█████▍    | 1230/2288 [1:14:34<1:06:39,  3.78s/it]"
     ]
    },
    {
     "name": "stdout",
     "output_type": "stream",
     "text": [
      "\n",
      "Batch 1230/2288: Load=1.74s, Embed=1.68s, Store=0.00s, Total=3.86s, Images/sec=3.10\n",
      "Estimated remaining time: 68.2 minutes\n"
     ]
    },
    {
     "name": "stderr",
     "output_type": "stream",
     "text": [
      "Processing test:  54%|█████▍    | 1240/2288 [1:15:12<1:05:31,  3.75s/it]"
     ]
    },
    {
     "name": "stdout",
     "output_type": "stream",
     "text": [
      "\n",
      "Batch 1240/2288: Load=1.78s, Embed=1.66s, Store=0.00s, Total=3.89s, Images/sec=3.09\n",
      "Estimated remaining time: 67.9 minutes\n"
     ]
    },
    {
     "name": "stderr",
     "output_type": "stream",
     "text": [
      "Processing test:  55%|█████▍    | 1250/2288 [1:15:54<1:30:38,  5.24s/it]"
     ]
    },
    {
     "name": "stdout",
     "output_type": "stream",
     "text": [
      "\n",
      "Batch 1250/2288: Load=1.67s, Embed=1.64s, Store=0.00s, Total=3.77s, Images/sec=3.18\n",
      "Estimated remaining time: 65.2 minutes\n"
     ]
    },
    {
     "name": "stderr",
     "output_type": "stream",
     "text": [
      "Processing test:  55%|█████▌    | 1260/2288 [1:16:32<1:04:54,  3.79s/it]"
     ]
    },
    {
     "name": "stdout",
     "output_type": "stream",
     "text": [
      "\n",
      "Batch 1260/2288: Load=1.66s, Embed=1.65s, Store=0.00s, Total=3.76s, Images/sec=3.19\n",
      "Estimated remaining time: 64.5 minutes\n"
     ]
    },
    {
     "name": "stderr",
     "output_type": "stream",
     "text": [
      "Processing test:  56%|█████▌    | 1270/2288 [1:17:08<1:02:45,  3.70s/it]"
     ]
    },
    {
     "name": "stdout",
     "output_type": "stream",
     "text": [
      "\n",
      "Batch 1270/2288: Load=1.54s, Embed=1.68s, Store=0.00s, Total=3.73s, Images/sec=3.22\n",
      "Estimated remaining time: 63.3 minutes\n"
     ]
    },
    {
     "name": "stderr",
     "output_type": "stream",
     "text": [
      "Processing test:  56%|█████▌    | 1280/2288 [1:17:46<1:02:53,  3.74s/it]"
     ]
    },
    {
     "name": "stdout",
     "output_type": "stream",
     "text": [
      "\n",
      "Batch 1280/2288: Load=1.62s, Embed=1.65s, Store=0.00s, Total=3.74s, Images/sec=3.21\n",
      "Estimated remaining time: 62.7 minutes\n"
     ]
    },
    {
     "name": "stderr",
     "output_type": "stream",
     "text": [
      "Processing test:  56%|█████▋    | 1290/2288 [1:18:23<1:02:23,  3.75s/it]"
     ]
    },
    {
     "name": "stdout",
     "output_type": "stream",
     "text": [
      "\n",
      "Batch 1290/2288: Load=1.62s, Embed=1.65s, Store=0.00s, Total=3.73s, Images/sec=3.22\n",
      "Estimated remaining time: 62.1 minutes\n"
     ]
    },
    {
     "name": "stderr",
     "output_type": "stream",
     "text": [
      "Processing test:  57%|█████▋    | 1300/2288 [1:19:06<1:26:37,  5.26s/it]"
     ]
    },
    {
     "name": "stdout",
     "output_type": "stream",
     "text": [
      "\n",
      "Batch 1300/2288: Load=1.70s, Embed=1.64s, Store=0.00s, Total=3.80s, Images/sec=3.15\n",
      "Estimated remaining time: 62.6 minutes\n"
     ]
    },
    {
     "name": "stderr",
     "output_type": "stream",
     "text": [
      "Processing test:  57%|█████▋    | 1310/2288 [1:19:44<1:02:06,  3.81s/it]"
     ]
    },
    {
     "name": "stdout",
     "output_type": "stream",
     "text": [
      "\n",
      "Batch 1310/2288: Load=1.65s, Embed=1.64s, Store=0.00s, Total=3.93s, Images/sec=3.05\n",
      "Estimated remaining time: 64.1 minutes\n"
     ]
    },
    {
     "name": "stderr",
     "output_type": "stream",
     "text": [
      "Processing test:  58%|█████▊    | 1320/2288 [1:20:20<59:34,  3.69s/it]  "
     ]
    },
    {
     "name": "stdout",
     "output_type": "stream",
     "text": [
      "\n",
      "Batch 1320/2288: Load=1.58s, Embed=1.65s, Store=0.00s, Total=3.69s, Images/sec=3.25\n",
      "Estimated remaining time: 59.6 minutes\n"
     ]
    },
    {
     "name": "stderr",
     "output_type": "stream",
     "text": [
      "Processing test:  58%|█████▊    | 1330/2288 [1:20:57<1:00:13,  3.77s/it]"
     ]
    },
    {
     "name": "stdout",
     "output_type": "stream",
     "text": [
      "\n",
      "Batch 1330/2288: Load=1.76s, Embed=1.64s, Store=0.00s, Total=3.87s, Images/sec=3.10\n",
      "Estimated remaining time: 61.7 minutes\n"
     ]
    },
    {
     "name": "stderr",
     "output_type": "stream",
     "text": [
      "Processing test:  59%|█████▊    | 1340/2288 [1:21:35<59:24,  3.76s/it]  "
     ]
    },
    {
     "name": "stdout",
     "output_type": "stream",
     "text": [
      "\n",
      "Batch 1340/2288: Load=1.70s, Embed=1.65s, Store=0.00s, Total=3.83s, Images/sec=3.13\n",
      "Estimated remaining time: 60.6 minutes\n"
     ]
    },
    {
     "name": "stderr",
     "output_type": "stream",
     "text": [
      "Processing test:  59%|█████▉    | 1350/2288 [1:22:18<1:24:29,  5.40s/it]"
     ]
    },
    {
     "name": "stdout",
     "output_type": "stream",
     "text": [
      "\n",
      "Batch 1350/2288: Load=1.68s, Embed=1.62s, Store=0.00s, Total=3.89s, Images/sec=3.08\n",
      "Estimated remaining time: 60.8 minutes\n"
     ]
    },
    {
     "name": "stderr",
     "output_type": "stream",
     "text": [
      "Processing test:  59%|█████▉    | 1360/2288 [1:22:55<57:46,  3.74s/it]  "
     ]
    },
    {
     "name": "stdout",
     "output_type": "stream",
     "text": [
      "\n",
      "Batch 1360/2288: Load=1.57s, Embed=1.65s, Store=0.00s, Total=3.68s, Images/sec=3.26\n",
      "Estimated remaining time: 56.9 minutes\n"
     ]
    },
    {
     "name": "stderr",
     "output_type": "stream",
     "text": [
      "Processing test:  60%|█████▉    | 1370/2288 [1:23:32<57:32,  3.76s/it]"
     ]
    },
    {
     "name": "stdout",
     "output_type": "stream",
     "text": [
      "\n",
      "Batch 1370/2288: Load=1.74s, Embed=1.64s, Store=0.00s, Total=3.86s, Images/sec=3.11\n",
      "Estimated remaining time: 59.0 minutes\n"
     ]
    },
    {
     "name": "stderr",
     "output_type": "stream",
     "text": [
      "Processing test:  60%|██████    | 1380/2288 [1:24:10<57:47,  3.82s/it]"
     ]
    },
    {
     "name": "stdout",
     "output_type": "stream",
     "text": [
      "\n",
      "Batch 1380/2288: Load=1.83s, Embed=1.63s, Store=0.00s, Total=3.92s, Images/sec=3.06\n",
      "Estimated remaining time: 59.3 minutes\n"
     ]
    },
    {
     "name": "stderr",
     "output_type": "stream",
     "text": [
      "Processing test:  61%|██████    | 1390/2288 [1:24:47<55:57,  3.74s/it]"
     ]
    },
    {
     "name": "stdout",
     "output_type": "stream",
     "text": [
      "\n",
      "Batch 1390/2288: Load=1.72s, Embed=1.64s, Store=0.00s, Total=3.83s, Images/sec=3.13\n",
      "Estimated remaining time: 57.3 minutes\n"
     ]
    },
    {
     "name": "stderr",
     "output_type": "stream",
     "text": [
      "Processing test:  61%|██████    | 1400/2288 [1:25:31<1:22:24,  5.57s/it]"
     ]
    },
    {
     "name": "stdout",
     "output_type": "stream",
     "text": [
      "\n",
      "Batch 1400/2288: Load=1.84s, Embed=1.65s, Store=0.00s, Total=3.96s, Images/sec=3.03\n",
      "Estimated remaining time: 58.7 minutes\n"
     ]
    },
    {
     "name": "stderr",
     "output_type": "stream",
     "text": [
      "Processing test:  62%|██████▏   | 1410/2288 [1:26:09<56:00,  3.83s/it]  "
     ]
    },
    {
     "name": "stdout",
     "output_type": "stream",
     "text": [
      "\n",
      "Batch 1410/2288: Load=1.61s, Embed=1.65s, Store=0.00s, Total=3.73s, Images/sec=3.21\n",
      "Estimated remaining time: 54.7 minutes\n"
     ]
    },
    {
     "name": "stderr",
     "output_type": "stream",
     "text": [
      "Processing test:  62%|██████▏   | 1420/2288 [1:26:45<53:51,  3.72s/it]"
     ]
    },
    {
     "name": "stdout",
     "output_type": "stream",
     "text": [
      "\n",
      "Batch 1420/2288: Load=1.77s, Embed=1.64s, Store=0.00s, Total=3.89s, Images/sec=3.09\n",
      "Estimated remaining time: 56.3 minutes\n"
     ]
    },
    {
     "name": "stderr",
     "output_type": "stream",
     "text": [
      "Processing test:  62%|██████▎   | 1430/2288 [1:27:23<53:29,  3.74s/it]"
     ]
    },
    {
     "name": "stdout",
     "output_type": "stream",
     "text": [
      "\n",
      "Batch 1430/2288: Load=1.49s, Embed=1.65s, Store=0.00s, Total=3.61s, Images/sec=3.32\n",
      "Estimated remaining time: 51.7 minutes\n"
     ]
    },
    {
     "name": "stderr",
     "output_type": "stream",
     "text": [
      "Processing test:  63%|██████▎   | 1440/2288 [1:28:01<52:50,  3.74s/it]"
     ]
    },
    {
     "name": "stdout",
     "output_type": "stream",
     "text": [
      "\n",
      "Batch 1440/2288: Load=1.74s, Embed=1.66s, Store=0.00s, Total=3.86s, Images/sec=3.11\n",
      "Estimated remaining time: 54.6 minutes\n"
     ]
    },
    {
     "name": "stderr",
     "output_type": "stream",
     "text": [
      "Processing test:  63%|██████▎   | 1450/2288 [1:28:44<1:16:48,  5.50s/it]"
     ]
    },
    {
     "name": "stdout",
     "output_type": "stream",
     "text": [
      "\n",
      "Batch 1450/2288: Load=1.56s, Embed=1.66s, Store=0.00s, Total=3.70s, Images/sec=3.24\n",
      "Estimated remaining time: 51.7 minutes\n"
     ]
    },
    {
     "name": "stderr",
     "output_type": "stream",
     "text": [
      "Processing test:  64%|██████▍   | 1460/2288 [1:29:22<52:49,  3.83s/it]  "
     ]
    },
    {
     "name": "stdout",
     "output_type": "stream",
     "text": [
      "\n",
      "Batch 1460/2288: Load=1.76s, Embed=1.66s, Store=0.00s, Total=3.90s, Images/sec=3.08\n",
      "Estimated remaining time: 53.8 minutes\n"
     ]
    },
    {
     "name": "stderr",
     "output_type": "stream",
     "text": [
      "Processing test:  64%|██████▍   | 1470/2288 [1:30:00<51:23,  3.77s/it]"
     ]
    },
    {
     "name": "stdout",
     "output_type": "stream",
     "text": [
      "\n",
      "Batch 1470/2288: Load=1.66s, Embed=1.63s, Store=0.00s, Total=3.78s, Images/sec=3.18\n",
      "Estimated remaining time: 51.5 minutes\n"
     ]
    },
    {
     "name": "stderr",
     "output_type": "stream",
     "text": [
      "Processing test:  65%|██████▍   | 1480/2288 [1:30:38<50:59,  3.79s/it]"
     ]
    },
    {
     "name": "stdout",
     "output_type": "stream",
     "text": [
      "\n",
      "Batch 1480/2288: Load=1.67s, Embed=1.64s, Store=0.00s, Total=3.79s, Images/sec=3.16\n",
      "Estimated remaining time: 51.1 minutes\n"
     ]
    },
    {
     "name": "stderr",
     "output_type": "stream",
     "text": [
      "Processing test:  65%|██████▌   | 1490/2288 [1:31:16<50:39,  3.81s/it]"
     ]
    },
    {
     "name": "stdout",
     "output_type": "stream",
     "text": [
      "\n",
      "Batch 1490/2288: Load=1.71s, Embed=1.63s, Store=0.00s, Total=3.82s, Images/sec=3.15\n",
      "Estimated remaining time: 50.7 minutes\n"
     ]
    },
    {
     "name": "stderr",
     "output_type": "stream",
     "text": [
      "Processing test:  66%|██████▌   | 1500/2288 [1:31:59<1:12:44,  5.54s/it]"
     ]
    },
    {
     "name": "stdout",
     "output_type": "stream",
     "text": [
      "\n",
      "Batch 1500/2288: Load=1.69s, Embed=1.63s, Store=0.00s, Total=3.80s, Images/sec=3.16\n",
      "Estimated remaining time: 49.9 minutes\n"
     ]
    },
    {
     "name": "stderr",
     "output_type": "stream",
     "text": [
      "Processing test:  66%|██████▌   | 1510/2288 [1:32:37<49:20,  3.81s/it]  "
     ]
    },
    {
     "name": "stdout",
     "output_type": "stream",
     "text": [
      "\n",
      "Batch 1510/2288: Load=1.70s, Embed=1.63s, Store=0.00s, Total=3.82s, Images/sec=3.15\n",
      "Estimated remaining time: 49.5 minutes\n"
     ]
    },
    {
     "name": "stderr",
     "output_type": "stream",
     "text": [
      "Processing test:  66%|██████▋   | 1520/2288 [1:33:15<48:42,  3.81s/it]"
     ]
    },
    {
     "name": "stdout",
     "output_type": "stream",
     "text": [
      "\n",
      "Batch 1520/2288: Load=1.66s, Embed=1.65s, Store=0.00s, Total=3.80s, Images/sec=3.16\n",
      "Estimated remaining time: 48.7 minutes\n"
     ]
    },
    {
     "name": "stderr",
     "output_type": "stream",
     "text": [
      "Processing test:  67%|██████▋   | 1530/2288 [1:33:54<49:45,  3.94s/it]"
     ]
    },
    {
     "name": "stdout",
     "output_type": "stream",
     "text": [
      "\n",
      "Batch 1530/2288: Load=1.51s, Embed=1.66s, Store=0.00s, Total=3.89s, Images/sec=3.09\n",
      "Estimated remaining time: 49.1 minutes\n"
     ]
    },
    {
     "name": "stderr",
     "output_type": "stream",
     "text": [
      "Processing test:  67%|██████▋   | 1540/2288 [1:34:34<49:58,  4.01s/it]"
     ]
    },
    {
     "name": "stdout",
     "output_type": "stream",
     "text": [
      "\n",
      "Batch 1540/2288: Load=1.70s, Embed=1.64s, Store=0.00s, Total=3.86s, Images/sec=3.11\n",
      "Estimated remaining time: 48.2 minutes\n"
     ]
    },
    {
     "name": "stderr",
     "output_type": "stream",
     "text": [
      "Processing test:  68%|██████▊   | 1550/2288 [1:35:18<1:07:37,  5.50s/it]"
     ]
    },
    {
     "name": "stdout",
     "output_type": "stream",
     "text": [
      "\n",
      "Batch 1550/2288: Load=1.55s, Embed=1.63s, Store=0.00s, Total=3.69s, Images/sec=3.25\n",
      "Estimated remaining time: 45.4 minutes\n"
     ]
    },
    {
     "name": "stderr",
     "output_type": "stream",
     "text": [
      "Processing test:  68%|██████▊   | 1560/2288 [1:35:55<45:11,  3.72s/it]  "
     ]
    },
    {
     "name": "stdout",
     "output_type": "stream",
     "text": [
      "\n",
      "Batch 1560/2288: Load=1.46s, Embed=1.64s, Store=0.00s, Total=3.62s, Images/sec=3.32\n",
      "Estimated remaining time: 43.9 minutes\n"
     ]
    },
    {
     "name": "stderr",
     "output_type": "stream",
     "text": [
      "Processing test:  69%|██████▊   | 1570/2288 [1:36:32<44:30,  3.72s/it]"
     ]
    },
    {
     "name": "stdout",
     "output_type": "stream",
     "text": [
      "\n",
      "Batch 1570/2288: Load=1.50s, Embed=1.66s, Store=0.00s, Total=3.69s, Images/sec=3.25\n",
      "Estimated remaining time: 44.1 minutes\n"
     ]
    },
    {
     "name": "stderr",
     "output_type": "stream",
     "text": [
      "Processing test:  69%|██████▉   | 1580/2288 [1:37:10<45:06,  3.82s/it]"
     ]
    },
    {
     "name": "stdout",
     "output_type": "stream",
     "text": [
      "\n",
      "Batch 1580/2288: Load=1.69s, Embed=1.66s, Store=0.00s, Total=3.92s, Images/sec=3.07\n",
      "Estimated remaining time: 46.2 minutes\n"
     ]
    },
    {
     "name": "stderr",
     "output_type": "stream",
     "text": [
      "Processing test:  69%|██████▉   | 1590/2288 [1:37:48<44:19,  3.81s/it]"
     ]
    },
    {
     "name": "stdout",
     "output_type": "stream",
     "text": [
      "\n",
      "Batch 1590/2288: Load=1.53s, Embed=1.66s, Store=0.00s, Total=3.72s, Images/sec=3.23\n",
      "Estimated remaining time: 43.2 minutes\n"
     ]
    },
    {
     "name": "stderr",
     "output_type": "stream",
     "text": [
      "Processing test:  70%|██████▉   | 1600/2288 [1:38:33<1:04:52,  5.66s/it]"
     ]
    },
    {
     "name": "stdout",
     "output_type": "stream",
     "text": [
      "\n",
      "Batch 1600/2288: Load=1.64s, Embed=1.63s, Store=0.00s, Total=3.81s, Images/sec=3.15\n",
      "Estimated remaining time: 43.7 minutes\n"
     ]
    },
    {
     "name": "stderr",
     "output_type": "stream",
     "text": [
      "Processing test:  70%|███████   | 1610/2288 [1:39:12<44:42,  3.96s/it]  "
     ]
    },
    {
     "name": "stdout",
     "output_type": "stream",
     "text": [
      "\n",
      "Batch 1610/2288: Load=1.74s, Embed=1.66s, Store=0.00s, Total=3.94s, Images/sec=3.05\n",
      "Estimated remaining time: 44.5 minutes\n"
     ]
    },
    {
     "name": "stderr",
     "output_type": "stream",
     "text": [
      "Processing test:  71%|███████   | 1620/2288 [1:39:51<42:49,  3.85s/it]"
     ]
    },
    {
     "name": "stdout",
     "output_type": "stream",
     "text": [
      "\n",
      "Batch 1620/2288: Load=1.70s, Embed=1.62s, Store=0.00s, Total=3.87s, Images/sec=3.10\n",
      "Estimated remaining time: 43.0 minutes\n"
     ]
    },
    {
     "name": "stderr",
     "output_type": "stream",
     "text": [
      "Processing test:  71%|███████   | 1630/2288 [1:40:30<42:42,  3.90s/it]"
     ]
    },
    {
     "name": "stdout",
     "output_type": "stream",
     "text": [
      "\n",
      "Batch 1630/2288: Load=1.83s, Embed=1.62s, Store=0.00s, Total=3.98s, Images/sec=3.01\n",
      "Estimated remaining time: 43.7 minutes\n"
     ]
    },
    {
     "name": "stderr",
     "output_type": "stream",
     "text": [
      "Processing test:  72%|███████▏  | 1640/2288 [1:41:09<41:50,  3.87s/it]"
     ]
    },
    {
     "name": "stdout",
     "output_type": "stream",
     "text": [
      "\n",
      "Batch 1640/2288: Load=1.72s, Embed=1.64s, Store=0.00s, Total=3.97s, Images/sec=3.03\n",
      "Estimated remaining time: 42.8 minutes\n"
     ]
    },
    {
     "name": "stderr",
     "output_type": "stream",
     "text": [
      "Processing test:  72%|███████▏  | 1650/2288 [1:41:54<1:02:45,  5.90s/it]"
     ]
    },
    {
     "name": "stdout",
     "output_type": "stream",
     "text": [
      "\n",
      "Batch 1650/2288: Load=1.80s, Embed=1.63s, Store=0.00s, Total=3.98s, Images/sec=3.02\n",
      "Estimated remaining time: 42.3 minutes\n"
     ]
    },
    {
     "name": "stderr",
     "output_type": "stream",
     "text": [
      "Processing test:  73%|███████▎  | 1660/2288 [1:42:33<41:33,  3.97s/it]  "
     ]
    },
    {
     "name": "stdout",
     "output_type": "stream",
     "text": [
      "\n",
      "Batch 1660/2288: Load=1.68s, Embed=1.64s, Store=0.00s, Total=3.88s, Images/sec=3.10\n",
      "Estimated remaining time: 40.6 minutes\n"
     ]
    },
    {
     "name": "stderr",
     "output_type": "stream",
     "text": [
      "Processing test:  73%|███████▎  | 1670/2288 [1:43:11<40:09,  3.90s/it]"
     ]
    },
    {
     "name": "stdout",
     "output_type": "stream",
     "text": [
      "\n",
      "Batch 1670/2288: Load=1.66s, Embed=1.66s, Store=0.00s, Total=3.87s, Images/sec=3.10\n",
      "Estimated remaining time: 39.9 minutes\n"
     ]
    },
    {
     "name": "stderr",
     "output_type": "stream",
     "text": [
      "Processing test:  73%|███████▎  | 1680/2288 [1:43:49<38:51,  3.84s/it]"
     ]
    },
    {
     "name": "stdout",
     "output_type": "stream",
     "text": [
      "\n",
      "Batch 1680/2288: Load=1.85s, Embed=1.68s, Store=0.00s, Total=4.08s, Images/sec=2.94\n",
      "Estimated remaining time: 41.3 minutes\n"
     ]
    },
    {
     "name": "stderr",
     "output_type": "stream",
     "text": [
      "Processing test:  74%|███████▍  | 1690/2288 [1:44:27<38:46,  3.89s/it]"
     ]
    },
    {
     "name": "stdout",
     "output_type": "stream",
     "text": [
      "\n",
      "Batch 1690/2288: Load=1.68s, Embed=1.65s, Store=0.00s, Total=3.91s, Images/sec=3.07\n",
      "Estimated remaining time: 38.9 minutes\n"
     ]
    },
    {
     "name": "stderr",
     "output_type": "stream",
     "text": [
      "Processing test:  74%|███████▍  | 1700/2288 [1:45:12<56:43,  5.79s/it]"
     ]
    },
    {
     "name": "stdout",
     "output_type": "stream",
     "text": [
      "\n",
      "Batch 1700/2288: Load=1.59s, Embed=1.64s, Store=0.00s, Total=3.78s, Images/sec=3.17\n",
      "Estimated remaining time: 37.1 minutes\n"
     ]
    },
    {
     "name": "stderr",
     "output_type": "stream",
     "text": [
      "Processing test:  75%|███████▍  | 1710/2288 [1:45:51<37:40,  3.91s/it]"
     ]
    },
    {
     "name": "stdout",
     "output_type": "stream",
     "text": [
      "\n",
      "Batch 1710/2288: Load=1.53s, Embed=1.65s, Store=0.00s, Total=3.74s, Images/sec=3.21\n",
      "Estimated remaining time: 36.0 minutes\n"
     ]
    },
    {
     "name": "stderr",
     "output_type": "stream",
     "text": [
      "Processing test:  75%|███████▌  | 1720/2288 [1:46:29<36:35,  3.87s/it]"
     ]
    },
    {
     "name": "stdout",
     "output_type": "stream",
     "text": [
      "\n",
      "Batch 1720/2288: Load=1.65s, Embed=1.64s, Store=0.00s, Total=3.83s, Images/sec=3.14\n",
      "Estimated remaining time: 36.2 minutes\n"
     ]
    },
    {
     "name": "stderr",
     "output_type": "stream",
     "text": [
      "Processing test:  76%|███████▌  | 1730/2288 [1:47:08<35:30,  3.82s/it]"
     ]
    },
    {
     "name": "stdout",
     "output_type": "stream",
     "text": [
      "\n",
      "Batch 1730/2288: Load=1.57s, Embed=1.66s, Store=0.00s, Total=3.77s, Images/sec=3.19\n",
      "Estimated remaining time: 35.0 minutes\n"
     ]
    },
    {
     "name": "stderr",
     "output_type": "stream",
     "text": [
      "Processing test:  76%|███████▌  | 1740/2288 [1:47:46<35:25,  3.88s/it]"
     ]
    },
    {
     "name": "stdout",
     "output_type": "stream",
     "text": [
      "\n",
      "Batch 1740/2288: Load=1.67s, Embed=1.64s, Store=0.00s, Total=3.85s, Images/sec=3.12\n",
      "Estimated remaining time: 35.1 minutes\n"
     ]
    },
    {
     "name": "stderr",
     "output_type": "stream",
     "text": [
      "Processing test:  76%|███████▋  | 1750/2288 [1:48:31<53:19,  5.95s/it]"
     ]
    },
    {
     "name": "stdout",
     "output_type": "stream",
     "text": [
      "\n",
      "Batch 1750/2288: Load=1.77s, Embed=1.65s, Store=0.00s, Total=3.96s, Images/sec=3.03\n",
      "Estimated remaining time: 35.5 minutes\n"
     ]
    },
    {
     "name": "stderr",
     "output_type": "stream",
     "text": [
      "Processing test:  77%|███████▋  | 1760/2288 [1:49:09<34:09,  3.88s/it]"
     ]
    },
    {
     "name": "stdout",
     "output_type": "stream",
     "text": [
      "\n",
      "Batch 1760/2288: Load=1.69s, Embed=1.65s, Store=0.00s, Total=3.89s, Images/sec=3.08\n",
      "Estimated remaining time: 34.2 minutes\n"
     ]
    },
    {
     "name": "stderr",
     "output_type": "stream",
     "text": [
      "Processing test:  77%|███████▋  | 1770/2288 [1:49:48<33:25,  3.87s/it]"
     ]
    },
    {
     "name": "stdout",
     "output_type": "stream",
     "text": [
      "\n",
      "Batch 1770/2288: Load=1.67s, Embed=1.62s, Store=0.00s, Total=3.84s, Images/sec=3.13\n",
      "Estimated remaining time: 33.1 minutes\n"
     ]
    },
    {
     "name": "stderr",
     "output_type": "stream",
     "text": [
      "Processing test:  78%|███████▊  | 1780/2288 [1:50:27<32:29,  3.84s/it]"
     ]
    },
    {
     "name": "stdout",
     "output_type": "stream",
     "text": [
      "\n",
      "Batch 1780/2288: Load=1.66s, Embed=1.63s, Store=0.00s, Total=3.84s, Images/sec=3.13\n",
      "Estimated remaining time: 32.5 minutes\n"
     ]
    },
    {
     "name": "stderr",
     "output_type": "stream",
     "text": [
      "Processing test:  78%|███████▊  | 1790/2288 [1:51:05<31:41,  3.82s/it]"
     ]
    },
    {
     "name": "stdout",
     "output_type": "stream",
     "text": [
      "\n",
      "Batch 1790/2288: Load=1.58s, Embed=1.65s, Store=0.00s, Total=3.78s, Images/sec=3.18\n",
      "Estimated remaining time: 31.4 minutes\n"
     ]
    },
    {
     "name": "stderr",
     "output_type": "stream",
     "text": [
      "Processing test:  79%|███████▊  | 1800/2288 [1:51:50<47:57,  5.90s/it]"
     ]
    },
    {
     "name": "stdout",
     "output_type": "stream",
     "text": [
      "\n",
      "Batch 1800/2288: Load=1.58s, Embed=1.65s, Store=0.00s, Total=3.83s, Images/sec=3.14\n",
      "Estimated remaining time: 31.1 minutes\n"
     ]
    },
    {
     "name": "stderr",
     "output_type": "stream",
     "text": [
      "Processing test:  79%|███████▉  | 1810/2288 [1:52:29<31:06,  3.91s/it]"
     ]
    },
    {
     "name": "stdout",
     "output_type": "stream",
     "text": [
      "\n",
      "Batch 1810/2288: Load=1.66s, Embed=1.65s, Store=0.00s, Total=3.85s, Images/sec=3.11\n",
      "Estimated remaining time: 30.7 minutes\n"
     ]
    },
    {
     "name": "stderr",
     "output_type": "stream",
     "text": [
      "Processing test:  80%|███████▉  | 1820/2288 [1:53:07<30:16,  3.88s/it]"
     ]
    },
    {
     "name": "stdout",
     "output_type": "stream",
     "text": [
      "\n",
      "Batch 1820/2288: Load=1.73s, Embed=1.68s, Store=0.00s, Total=3.97s, Images/sec=3.02\n",
      "Estimated remaining time: 31.0 minutes\n"
     ]
    },
    {
     "name": "stderr",
     "output_type": "stream",
     "text": [
      "Processing test:  80%|███████▉  | 1830/2288 [1:53:47<29:57,  3.92s/it]"
     ]
    },
    {
     "name": "stdout",
     "output_type": "stream",
     "text": [
      "\n",
      "Batch 1830/2288: Load=1.61s, Embed=1.62s, Store=0.00s, Total=3.83s, Images/sec=3.13\n",
      "Estimated remaining time: 29.2 minutes\n"
     ]
    },
    {
     "name": "stderr",
     "output_type": "stream",
     "text": [
      "Processing test:  80%|████████  | 1840/2288 [1:54:25<29:03,  3.89s/it]"
     ]
    },
    {
     "name": "stdout",
     "output_type": "stream",
     "text": [
      "\n",
      "Batch 1840/2288: Load=1.69s, Embed=1.65s, Store=0.00s, Total=3.91s, Images/sec=3.07\n",
      "Estimated remaining time: 29.2 minutes\n"
     ]
    },
    {
     "name": "stderr",
     "output_type": "stream",
     "text": [
      "Processing test:  81%|████████  | 1850/2288 [1:55:12<44:14,  6.06s/it]"
     ]
    },
    {
     "name": "stdout",
     "output_type": "stream",
     "text": [
      "\n",
      "Batch 1850/2288: Load=1.62s, Embed=1.65s, Store=0.00s, Total=3.83s, Images/sec=3.13\n",
      "Estimated remaining time: 28.0 minutes\n"
     ]
    },
    {
     "name": "stderr",
     "output_type": "stream",
     "text": [
      "Processing test:  81%|████████▏ | 1860/2288 [1:55:51<28:39,  4.02s/it]"
     ]
    },
    {
     "name": "stdout",
     "output_type": "stream",
     "text": [
      "\n",
      "Batch 1860/2288: Load=1.76s, Embed=1.67s, Store=0.00s, Total=3.99s, Images/sec=3.00\n",
      "Estimated remaining time: 28.5 minutes\n"
     ]
    },
    {
     "name": "stderr",
     "output_type": "stream",
     "text": [
      "Processing test:  82%|████████▏ | 1870/2288 [1:56:31<27:26,  3.94s/it]"
     ]
    },
    {
     "name": "stdout",
     "output_type": "stream",
     "text": [
      "\n",
      "Batch 1870/2288: Load=1.71s, Embed=1.64s, Store=0.00s, Total=4.03s, Images/sec=2.98\n",
      "Estimated remaining time: 28.1 minutes\n"
     ]
    },
    {
     "name": "stderr",
     "output_type": "stream",
     "text": [
      "Processing test:  82%|████████▏ | 1880/2288 [1:57:10<26:16,  3.86s/it]"
     ]
    },
    {
     "name": "stdout",
     "output_type": "stream",
     "text": [
      "\n",
      "Batch 1880/2288: Load=1.74s, Embed=1.65s, Store=0.00s, Total=3.97s, Images/sec=3.03\n",
      "Estimated remaining time: 27.0 minutes\n"
     ]
    },
    {
     "name": "stderr",
     "output_type": "stream",
     "text": [
      "Processing test:  83%|████████▎ | 1890/2288 [1:57:48<25:26,  3.84s/it]"
     ]
    },
    {
     "name": "stdout",
     "output_type": "stream",
     "text": [
      "\n",
      "Batch 1890/2288: Load=1.52s, Embed=1.64s, Store=0.00s, Total=3.75s, Images/sec=3.20\n",
      "Estimated remaining time: 24.9 minutes\n"
     ]
    },
    {
     "name": "stderr",
     "output_type": "stream",
     "text": [
      "Processing test:  83%|████████▎ | 1900/2288 [1:58:35<39:18,  6.08s/it]"
     ]
    },
    {
     "name": "stdout",
     "output_type": "stream",
     "text": [
      "\n",
      "Batch 1900/2288: Load=1.57s, Embed=1.62s, Store=0.00s, Total=3.76s, Images/sec=3.19\n",
      "Estimated remaining time: 24.3 minutes\n"
     ]
    },
    {
     "name": "stderr",
     "output_type": "stream",
     "text": [
      "Processing test:  83%|████████▎ | 1910/2288 [1:59:14<25:16,  4.01s/it]"
     ]
    },
    {
     "name": "stdout",
     "output_type": "stream",
     "text": [
      "\n",
      "Batch 1910/2288: Load=1.75s, Embed=1.66s, Store=0.00s, Total=3.98s, Images/sec=3.01\n",
      "Estimated remaining time: 25.1 minutes\n"
     ]
    },
    {
     "name": "stderr",
     "output_type": "stream",
     "text": [
      "Processing test:  84%|████████▍ | 1920/2288 [1:59:53<23:22,  3.81s/it]"
     ]
    },
    {
     "name": "stdout",
     "output_type": "stream",
     "text": [
      "\n",
      "Batch 1920/2288: Load=1.71s, Embed=1.64s, Store=0.00s, Total=3.92s, Images/sec=3.06\n",
      "Estimated remaining time: 24.1 minutes\n"
     ]
    },
    {
     "name": "stderr",
     "output_type": "stream",
     "text": [
      "Processing test:  84%|████████▍ | 1930/2288 [2:00:32<23:02,  3.86s/it]"
     ]
    },
    {
     "name": "stdout",
     "output_type": "stream",
     "text": [
      "\n",
      "Batch 1930/2288: Load=1.58s, Embed=1.64s, Store=0.00s, Total=3.78s, Images/sec=3.18\n",
      "Estimated remaining time: 22.5 minutes\n"
     ]
    },
    {
     "name": "stderr",
     "output_type": "stream",
     "text": [
      "Processing test:  85%|████████▍ | 1940/2288 [2:01:10<22:10,  3.82s/it]"
     ]
    },
    {
     "name": "stdout",
     "output_type": "stream",
     "text": [
      "\n",
      "Batch 1940/2288: Load=1.57s, Embed=1.66s, Store=0.00s, Total=3.80s, Images/sec=3.16\n",
      "Estimated remaining time: 22.0 minutes\n"
     ]
    },
    {
     "name": "stderr",
     "output_type": "stream",
     "text": [
      "Processing test:  85%|████████▌ | 1950/2288 [2:01:58<36:11,  6.43s/it]"
     ]
    },
    {
     "name": "stdout",
     "output_type": "stream",
     "text": [
      "\n",
      "Batch 1950/2288: Load=1.64s, Embed=1.72s, Store=0.00s, Total=3.93s, Images/sec=3.05\n",
      "Estimated remaining time: 22.2 minutes\n"
     ]
    },
    {
     "name": "stderr",
     "output_type": "stream",
     "text": [
      "Processing test:  86%|████████▌ | 1960/2288 [2:02:38<21:51,  4.00s/it]"
     ]
    },
    {
     "name": "stdout",
     "output_type": "stream",
     "text": [
      "\n",
      "Batch 1960/2288: Load=1.76s, Embed=1.63s, Store=0.00s, Total=3.96s, Images/sec=3.03\n",
      "Estimated remaining time: 21.6 minutes\n"
     ]
    },
    {
     "name": "stderr",
     "output_type": "stream",
     "text": [
      "Processing test:  86%|████████▌ | 1970/2288 [2:03:17<20:20,  3.84s/it]"
     ]
    },
    {
     "name": "stdout",
     "output_type": "stream",
     "text": [
      "\n",
      "Batch 1970/2288: Load=1.57s, Embed=1.63s, Store=0.00s, Total=3.80s, Images/sec=3.16\n",
      "Estimated remaining time: 20.1 minutes\n"
     ]
    },
    {
     "name": "stderr",
     "output_type": "stream",
     "text": [
      "Processing test:  87%|████████▋ | 1980/2288 [2:03:56<20:26,  3.98s/it]"
     ]
    },
    {
     "name": "stdout",
     "output_type": "stream",
     "text": [
      "\n",
      "Batch 1980/2288: Load=1.82s, Embed=1.67s, Store=0.00s, Total=4.08s, Images/sec=2.94\n",
      "Estimated remaining time: 20.9 minutes\n"
     ]
    },
    {
     "name": "stderr",
     "output_type": "stream",
     "text": [
      "Processing test:  87%|████████▋ | 1990/2288 [2:04:35<19:39,  3.96s/it]"
     ]
    },
    {
     "name": "stdout",
     "output_type": "stream",
     "text": [
      "\n",
      "Batch 1990/2288: Load=1.71s, Embed=1.60s, Store=0.00s, Total=4.00s, Images/sec=3.00\n",
      "Estimated remaining time: 19.9 minutes\n"
     ]
    },
    {
     "name": "stderr",
     "output_type": "stream",
     "text": [
      "Processing test:  87%|████████▋ | 2000/2288 [2:05:23<29:36,  6.17s/it]"
     ]
    },
    {
     "name": "stdout",
     "output_type": "stream",
     "text": [
      "\n",
      "Batch 2000/2288: Load=1.69s, Embed=1.62s, Store=0.00s, Total=3.89s, Images/sec=3.08\n",
      "Estimated remaining time: 18.7 minutes\n"
     ]
    },
    {
     "name": "stderr",
     "output_type": "stream",
     "text": [
      "Processing test:  88%|████████▊ | 2010/2288 [2:06:02<18:15,  3.94s/it]"
     ]
    },
    {
     "name": "stdout",
     "output_type": "stream",
     "text": [
      "\n",
      "Batch 2010/2288: Load=1.65s, Embed=1.63s, Store=0.00s, Total=3.85s, Images/sec=3.11\n",
      "Estimated remaining time: 17.9 minutes\n"
     ]
    },
    {
     "name": "stderr",
     "output_type": "stream",
     "text": [
      "Processing test:  88%|████████▊ | 2020/2288 [2:06:40<17:08,  3.84s/it]"
     ]
    },
    {
     "name": "stdout",
     "output_type": "stream",
     "text": [
      "\n",
      "Batch 2020/2288: Load=1.60s, Embed=1.63s, Store=0.00s, Total=3.81s, Images/sec=3.15\n",
      "Estimated remaining time: 17.0 minutes\n"
     ]
    },
    {
     "name": "stderr",
     "output_type": "stream",
     "text": [
      "Processing test:  89%|████████▊ | 2030/2288 [2:07:19<16:31,  3.84s/it]"
     ]
    },
    {
     "name": "stdout",
     "output_type": "stream",
     "text": [
      "\n",
      "Batch 2030/2288: Load=1.57s, Embed=1.64s, Store=0.00s, Total=3.80s, Images/sec=3.16\n",
      "Estimated remaining time: 16.3 minutes\n"
     ]
    },
    {
     "name": "stderr",
     "output_type": "stream",
     "text": [
      "Processing test:  89%|████████▉ | 2040/2288 [2:07:59<16:10,  3.91s/it]"
     ]
    },
    {
     "name": "stdout",
     "output_type": "stream",
     "text": [
      "\n",
      "Batch 2040/2288: Load=1.63s, Embed=1.65s, Store=0.00s, Total=3.87s, Images/sec=3.10\n",
      "Estimated remaining time: 16.0 minutes\n"
     ]
    },
    {
     "name": "stderr",
     "output_type": "stream",
     "text": [
      "Processing test:  90%|████████▉ | 2050/2288 [2:08:45<24:24,  6.15s/it]"
     ]
    },
    {
     "name": "stdout",
     "output_type": "stream",
     "text": [
      "\n",
      "Batch 2050/2288: Load=1.63s, Embed=1.64s, Store=0.00s, Total=3.85s, Images/sec=3.12\n",
      "Estimated remaining time: 15.3 minutes\n"
     ]
    },
    {
     "name": "stderr",
     "output_type": "stream",
     "text": [
      "Processing test:  90%|█████████ | 2060/2288 [2:09:25<15:14,  4.01s/it]"
     ]
    },
    {
     "name": "stdout",
     "output_type": "stream",
     "text": [
      "\n",
      "Batch 2060/2288: Load=1.75s, Embed=1.66s, Store=0.00s, Total=3.99s, Images/sec=3.01\n",
      "Estimated remaining time: 15.2 minutes\n"
     ]
    },
    {
     "name": "stderr",
     "output_type": "stream",
     "text": [
      "Processing test:  90%|█████████ | 2070/2288 [2:10:04<14:19,  3.94s/it]"
     ]
    },
    {
     "name": "stdout",
     "output_type": "stream",
     "text": [
      "\n",
      "Batch 2070/2288: Load=1.73s, Embed=1.64s, Store=0.00s, Total=4.07s, Images/sec=2.95\n",
      "Estimated remaining time: 14.8 minutes\n"
     ]
    },
    {
     "name": "stderr",
     "output_type": "stream",
     "text": [
      "Processing test:  91%|█████████ | 2080/2288 [2:10:43<13:43,  3.96s/it]"
     ]
    },
    {
     "name": "stdout",
     "output_type": "stream",
     "text": [
      "\n",
      "Batch 2080/2288: Load=1.75s, Embed=1.66s, Store=0.00s, Total=4.04s, Images/sec=2.97\n",
      "Estimated remaining time: 14.0 minutes\n"
     ]
    },
    {
     "name": "stderr",
     "output_type": "stream",
     "text": [
      "Processing test:  91%|█████████▏| 2090/2288 [2:11:24<13:18,  4.03s/it]"
     ]
    },
    {
     "name": "stdout",
     "output_type": "stream",
     "text": [
      "\n",
      "Batch 2090/2288: Load=1.73s, Embed=1.63s, Store=0.00s, Total=3.97s, Images/sec=3.02\n",
      "Estimated remaining time: 13.1 minutes\n"
     ]
    },
    {
     "name": "stderr",
     "output_type": "stream",
     "text": [
      "Processing test:  92%|█████████▏| 2100/2288 [2:12:11<20:07,  6.42s/it]"
     ]
    },
    {
     "name": "stdout",
     "output_type": "stream",
     "text": [
      "\n",
      "Batch 2100/2288: Load=1.68s, Embed=1.64s, Store=0.00s, Total=3.98s, Images/sec=3.02\n",
      "Estimated remaining time: 12.5 minutes\n"
     ]
    },
    {
     "name": "stderr",
     "output_type": "stream",
     "text": [
      "Processing test:  92%|█████████▏| 2110/2288 [2:12:50<11:48,  3.98s/it]"
     ]
    },
    {
     "name": "stdout",
     "output_type": "stream",
     "text": [
      "\n",
      "Batch 2110/2288: Load=1.72s, Embed=1.65s, Store=0.00s, Total=3.96s, Images/sec=3.03\n",
      "Estimated remaining time: 11.8 minutes\n"
     ]
    },
    {
     "name": "stderr",
     "output_type": "stream",
     "text": [
      "Processing test:  93%|█████████▎| 2120/2288 [2:13:30<11:10,  3.99s/it]"
     ]
    },
    {
     "name": "stdout",
     "output_type": "stream",
     "text": [
      "\n",
      "Batch 2120/2288: Load=1.66s, Embed=1.65s, Store=0.00s, Total=4.23s, Images/sec=2.84\n",
      "Estimated remaining time: 11.8 minutes\n"
     ]
    },
    {
     "name": "stderr",
     "output_type": "stream",
     "text": [
      "Processing test:  93%|█████████▎| 2130/2288 [2:14:09<10:23,  3.95s/it]"
     ]
    },
    {
     "name": "stdout",
     "output_type": "stream",
     "text": [
      "\n",
      "Batch 2130/2288: Load=1.63s, Embed=1.64s, Store=0.00s, Total=3.94s, Images/sec=3.04\n",
      "Estimated remaining time: 10.4 minutes\n"
     ]
    },
    {
     "name": "stderr",
     "output_type": "stream",
     "text": [
      "Processing test:  94%|█████████▎| 2140/2288 [2:14:48<09:44,  3.95s/it]"
     ]
    },
    {
     "name": "stdout",
     "output_type": "stream",
     "text": [
      "\n",
      "Batch 2140/2288: Load=1.49s, Embed=1.63s, Store=0.00s, Total=3.85s, Images/sec=3.12\n",
      "Estimated remaining time: 9.5 minutes\n"
     ]
    },
    {
     "name": "stderr",
     "output_type": "stream",
     "text": [
      "Processing test:  94%|█████████▍| 2150/2288 [2:15:35<14:26,  6.28s/it]"
     ]
    },
    {
     "name": "stdout",
     "output_type": "stream",
     "text": [
      "\n",
      "Batch 2150/2288: Load=1.69s, Embed=1.63s, Store=0.00s, Total=3.92s, Images/sec=3.06\n",
      "Estimated remaining time: 9.0 minutes\n"
     ]
    },
    {
     "name": "stderr",
     "output_type": "stream",
     "text": [
      "Processing test:  94%|█████████▍| 2160/2288 [2:16:15<08:37,  4.05s/it]"
     ]
    },
    {
     "name": "stdout",
     "output_type": "stream",
     "text": [
      "\n",
      "Batch 2160/2288: Load=1.77s, Embed=1.63s, Store=0.00s, Total=4.02s, Images/sec=2.98\n",
      "Estimated remaining time: 8.6 minutes\n"
     ]
    },
    {
     "name": "stderr",
     "output_type": "stream",
     "text": [
      "Processing test:  95%|█████████▍| 2170/2288 [2:16:55<07:48,  3.97s/it]"
     ]
    },
    {
     "name": "stdout",
     "output_type": "stream",
     "text": [
      "\n",
      "Batch 2170/2288: Load=1.55s, Embed=1.61s, Store=0.00s, Total=3.89s, Images/sec=3.08\n",
      "Estimated remaining time: 7.7 minutes\n"
     ]
    },
    {
     "name": "stderr",
     "output_type": "stream",
     "text": [
      "Processing test:  95%|█████████▌| 2180/2288 [2:17:34<07:08,  3.97s/it]"
     ]
    },
    {
     "name": "stdout",
     "output_type": "stream",
     "text": [
      "\n",
      "Batch 2180/2288: Load=1.65s, Embed=1.64s, Store=0.00s, Total=3.90s, Images/sec=3.08\n",
      "Estimated remaining time: 7.0 minutes\n"
     ]
    },
    {
     "name": "stderr",
     "output_type": "stream",
     "text": [
      "Processing test:  96%|█████████▌| 2190/2288 [2:18:13<06:22,  3.90s/it]"
     ]
    },
    {
     "name": "stdout",
     "output_type": "stream",
     "text": [
      "\n",
      "Batch 2190/2288: Load=1.62s, Embed=1.63s, Store=0.00s, Total=3.86s, Images/sec=3.11\n",
      "Estimated remaining time: 6.3 minutes\n"
     ]
    },
    {
     "name": "stderr",
     "output_type": "stream",
     "text": [
      "Processing test:  96%|█████████▌| 2200/2288 [2:19:01<09:29,  6.47s/it]"
     ]
    },
    {
     "name": "stdout",
     "output_type": "stream",
     "text": [
      "\n",
      "Batch 2200/2288: Load=1.64s, Embed=1.62s, Store=0.00s, Total=3.89s, Images/sec=3.08\n",
      "Estimated remaining time: 5.7 minutes\n"
     ]
    },
    {
     "name": "stderr",
     "output_type": "stream",
     "text": [
      "Processing test:  97%|█████████▋| 2210/2288 [2:19:41<05:18,  4.09s/it]"
     ]
    },
    {
     "name": "stdout",
     "output_type": "stream",
     "text": [
      "\n",
      "Batch 2210/2288: Load=1.69s, Embed=1.65s, Store=0.00s, Total=4.05s, Images/sec=2.96\n",
      "Estimated remaining time: 5.3 minutes\n"
     ]
    },
    {
     "name": "stderr",
     "output_type": "stream",
     "text": [
      "Processing test:  97%|█████████▋| 2220/2288 [2:20:21<04:34,  4.04s/it]"
     ]
    },
    {
     "name": "stdout",
     "output_type": "stream",
     "text": [
      "\n",
      "Batch 2220/2288: Load=1.78s, Embed=1.64s, Store=0.00s, Total=4.07s, Images/sec=2.95\n",
      "Estimated remaining time: 4.6 minutes\n"
     ]
    },
    {
     "name": "stderr",
     "output_type": "stream",
     "text": [
      "Processing test:  97%|█████████▋| 2230/2288 [2:21:01<03:52,  4.01s/it]"
     ]
    },
    {
     "name": "stdout",
     "output_type": "stream",
     "text": [
      "\n",
      "Batch 2230/2288: Load=1.84s, Embed=1.65s, Store=0.00s, Total=4.13s, Images/sec=2.91\n",
      "Estimated remaining time: 4.0 minutes\n"
     ]
    },
    {
     "name": "stderr",
     "output_type": "stream",
     "text": [
      "Processing test:  98%|█████████▊| 2240/2288 [2:21:41<03:15,  4.07s/it]"
     ]
    },
    {
     "name": "stdout",
     "output_type": "stream",
     "text": [
      "\n",
      "Batch 2240/2288: Load=1.73s, Embed=1.63s, Store=0.00s, Total=4.16s, Images/sec=2.88\n",
      "Estimated remaining time: 3.3 minutes\n"
     ]
    },
    {
     "name": "stderr",
     "output_type": "stream",
     "text": [
      "Processing test:  98%|█████████▊| 2250/2288 [2:22:29<04:03,  6.41s/it]"
     ]
    },
    {
     "name": "stdout",
     "output_type": "stream",
     "text": [
      "\n",
      "Batch 2250/2288: Load=1.65s, Embed=1.62s, Store=0.00s, Total=3.89s, Images/sec=3.08\n",
      "Estimated remaining time: 2.5 minutes\n"
     ]
    },
    {
     "name": "stderr",
     "output_type": "stream",
     "text": [
      "Processing test:  99%|█████████▉| 2260/2288 [2:23:09<01:52,  4.01s/it]"
     ]
    },
    {
     "name": "stdout",
     "output_type": "stream",
     "text": [
      "\n",
      "Batch 2260/2288: Load=1.71s, Embed=1.62s, Store=0.00s, Total=3.95s, Images/sec=3.04\n",
      "Estimated remaining time: 1.8 minutes\n"
     ]
    },
    {
     "name": "stderr",
     "output_type": "stream",
     "text": [
      "Processing test:  99%|█████████▉| 2270/2288 [2:23:49<01:11,  3.96s/it]"
     ]
    },
    {
     "name": "stdout",
     "output_type": "stream",
     "text": [
      "\n",
      "Batch 2270/2288: Load=1.70s, Embed=1.64s, Store=0.00s, Total=3.97s, Images/sec=3.02\n",
      "Estimated remaining time: 1.2 minutes\n"
     ]
    },
    {
     "name": "stderr",
     "output_type": "stream",
     "text": [
      "Processing test: 100%|█████████▉| 2280/2288 [2:24:28<00:31,  3.97s/it]"
     ]
    },
    {
     "name": "stdout",
     "output_type": "stream",
     "text": [
      "\n",
      "Batch 2280/2288: Load=1.73s, Embed=1.65s, Store=0.00s, Total=3.99s, Images/sec=3.00\n",
      "Estimated remaining time: 0.5 minutes\n"
     ]
    },
    {
     "name": "stderr",
     "output_type": "stream",
     "text": [
      "Processing test: 100%|██████████| 2288/2288 [2:25:08<00:00,  3.81s/it]"
     ]
    },
    {
     "name": "stdout",
     "output_type": "stream",
     "text": [
      "\n",
      "Batch 2288/2288: Load=1.81s, Embed=1.64s, Store=0.00s, Total=4.09s, Images/sec=2.93\n"
     ]
    },
    {
     "name": "stderr",
     "output_type": "stream",
     "text": [
      "\n"
     ]
    },
    {
     "name": "stdout",
     "output_type": "stream",
     "text": [
      "Saved: /home/rmuthy2/diffpixeldots/TestEmbeddingsOutput/raddino-test-dot4.parquet\n",
      "Saved: /home/rmuthy2/diffpixeldots/TestEmbeddingsOutput/dinov3-test-dot4.parquet\n",
      "\n",
      "Completed processing for dot size 4\n"
     ]
    },
    {
     "data": {
      "text/plain": [
       "True"
      ]
     },
     "execution_count": 3,
     "metadata": {},
     "output_type": "execute_result"
    }
   ],
   "source": [
    "import os\n",
    "os.environ[\"CUDA_VISIBLE_DEVICES\"] = \"6\"\n",
    "os.environ[\"PYTORCH_CUDA_ALLOC_CONF\"] = \"expandable_segments:True\"\n",
    "\n",
    "ROOT_PATH = \"/home/rmuthy2/central_data/datasets/internal/EmoryCXRv2/ORIGINAL_PNG\"\n",
    "TRAIN_CSV = \"/home/rmuthy2/diffpixeldots/train_dataset.csv\"\n",
    "TEST_CSV  = \"/home/rmuthy2/diffpixeldots/test_dataset.csv\"\n",
    "OUTPUT_DIR = \"/home/rmuthy2/diffpixeldots/TestEmbeddingsOutput\"\n",
    "\n",
    "pipe = ImagePipeline(ROOT_PATH)\n",
    "pipe.run_single_dot_size(TRAIN_CSV, TEST_CSV, dot_size=4, output_dir=OUTPUT_DIR, batch_size=12)\n"
   ]
  },
  {
   "cell_type": "code",
   "execution_count": 4,
   "id": "72005d76-84ec-49e1-8d57-1782e02bd7fb",
   "metadata": {},
   "outputs": [],
   "source": [
    "import pandas as pd\n",
    "import numpy as np\n",
    "from sklearn.linear_model import LogisticRegression\n",
    "from sklearn.metrics import roc_auc_score, roc_curve, precision_recall_curve, f1_score, classification_report\n",
    "from sklearn.preprocessing import StandardScaler\n",
    "import matplotlib.pyplot as plt\n",
    "\n",
    "class LinearProbingAnalyzer:\n",
    "    \"\"\"\n",
    "    Simple linear probing analysis for image embeddings using logistic regression\n",
    "    \"\"\"\n",
    "    \n",
    "    def __init__(self):\n",
    "        self.results = {}\n",
    "        \n",
    "    def load_and_extract_embeddings(self, parquet_path, embedding_col):\n",
    "        \"\"\"Load parquet and extract embeddings and labels\"\"\"\n",
    "        df = pd.read_parquet(parquet_path)\n",
    "        \n",
    "        # Filter valid embeddings\n",
    "        valid_mask = df[embedding_col].notna()\n",
    "        df_valid = df[valid_mask].copy()\n",
    "        \n",
    "        # Extract embeddings\n",
    "        embeddings = []\n",
    "        labels = []\n",
    "        \n",
    "        for _, row in df_valid.iterrows():\n",
    "            emb = row[embedding_col]\n",
    "            if isinstance(emb, str):\n",
    "                import ast\n",
    "                emb = ast.literal_eval(emb)\n",
    "            if isinstance(emb, list):\n",
    "                emb = np.array(emb)\n",
    "            \n",
    "            embeddings.append(emb)\n",
    "            labels.append(row['noise'])\n",
    "        \n",
    "        X = np.vstack(embeddings)\n",
    "        y = np.array(labels).astype(int)  # ensure 0/1\n",
    "        \n",
    "        return X, y\n",
    "    \n",
    "    def _best_f1_threshold(self, y_true, y_proba):\n",
    "        \"\"\"Find the probability threshold that maximizes F1 on given data.\"\"\"\n",
    "        precisions, recalls, thresholds = precision_recall_curve(y_true, y_proba)\n",
    "        # thresholds aligns with all but the first precision/recall points\n",
    "        f1s = (2 * precisions[1:] * recalls[1:]) / (precisions[1:] + recalls[1:] + 1e-12)\n",
    "        if len(f1s) == 0:\n",
    "            return 0.5, 0.0\n",
    "        idx = np.argmax(f1s)\n",
    "        return float(thresholds[idx]), float(f1s[idx])\n",
    "\n",
    "    def _print_classification_report(self, y_true, y_pred, model_name, use_thr):\n",
    "        \"\"\"Prints a detailed classification report.\"\"\"\n",
    "        print(\"\\n\" + f\"--- {model_name.upper()} CLASSIFICATION REPORT @ THR={use_thr:.3f} ---\")\n",
    "        report = classification_report(y_true, y_pred, digits=4)\n",
    "        print(report)\n",
    "    \n",
    "    def train_and_evaluate(self, model_name, X_train, y_train, X_test, y_test, threshold='auto'):\n",
    "        \"\"\"\n",
    "        Train logistic regression and evaluate.\n",
    "        threshold: 'auto' to maximize F1 on test set, or a float in [0,1].\n",
    "        \"\"\"\n",
    "        print(f\"Training {model_name.upper()}...\")\n",
    "        \n",
    "        # Standardize features\n",
    "        scaler = StandardScaler()\n",
    "        X_train_scaled = scaler.fit_transform(X_train)\n",
    "        X_test_scaled = scaler.transform(X_test)\n",
    "        \n",
    "        # Train logistic regression\n",
    "        model = LogisticRegression(random_state=42, max_iter=1000)\n",
    "        model.fit(X_train_scaled, y_train)\n",
    "        \n",
    "        # Prob predictions\n",
    "        y_test_proba = model.predict_proba(X_test_scaled)[:, 1]\n",
    "        \n",
    "        # AUC\n",
    "        auc_score = roc_auc_score(y_test, y_test_proba)\n",
    "        fpr, tpr, _ = roc_curve(y_test, y_test_proba)\n",
    "        \n",
    "        # Threshold selection + F1\n",
    "        if threshold == 'auto':\n",
    "            best_thr, best_f1 = self._best_f1_threshold(y_test, y_test_proba)\n",
    "            use_thr = best_thr\n",
    "            y_pred = (y_test_proba >= use_thr).astype(int)\n",
    "            f1 = f1_score(y_test, y_pred)\n",
    "        else:\n",
    "            use_thr = float(threshold)\n",
    "            y_pred = (y_test_proba >= use_thr).astype(int)\n",
    "            f1 = f1_score(y_test, y_pred)\n",
    "        \n",
    "        print(f\"{model_name.upper()} Test AUC: {auc_score:.4f} | F1@{use_thr:.3f}: {f1:.4f}\")\n",
    "\n",
    "        # Print detailed classification report\n",
    "        self._print_classification_report(y_test, y_pred, model_name, use_thr)\n",
    "        \n",
    "        self.results[model_name] = {\n",
    "            'auc': auc_score,\n",
    "            'f1': f1,\n",
    "            'threshold': use_thr,\n",
    "            'fpr': fpr,\n",
    "            'tpr': tpr,\n",
    "            'y_pred': y_pred\n",
    "        }\n",
    "        \n",
    "        return auc_score, f1, use_thr\n",
    "    \n",
    "    def results_to_table(self):\n",
    "        \"\"\"Generate and display a summary table of the results.\"\"\"\n",
    "        if not self.results:\n",
    "            print(\"No results to display.\")\n",
    "            return\n",
    "\n",
    "        table_data = []\n",
    "        for model_name, metrics in self.results.items():\n",
    "            auc = f\"{metrics['auc']:.4f}\"\n",
    "            f1_with_threshold = f\"{metrics['f1']:.4f} (@{metrics['threshold']:.3f})\"\n",
    "            table_data.append({\n",
    "                'Model': model_name.upper(),\n",
    "                'AUC': auc,\n",
    "                'F1 Score': f1_with_threshold\n",
    "            })\n",
    "\n",
    "        results_df = pd.DataFrame(table_data)\n",
    "        results_df = results_df.set_index('Model')\n",
    "\n",
    "        print(\"\\n\" + \"=\"*50)\n",
    "        print(\"RESULTS SUMMARY TABLE\")\n",
    "        print(\"=\"*50)\n",
    "        print(results_df.to_markdown(numalign=\"left\", stralign=\"left\"))\n",
    "        print(\"=\"*50)\n",
    "    \n",
    "    def plot_roc_curves(self, save_path=None):\n",
    "        \"\"\"Plot ROC curves for both models\"\"\"\n",
    "        plt.figure(figsize=(8, 6))\n",
    "        \n",
    "        colors = {'raddino': '#2E86C1', 'dinov3': '#E74C3C'}\n",
    "        \n",
    "        for model_name in ['raddino', 'dinov3']:\n",
    "            if model_name in self.results:\n",
    "                result = self.results[model_name]\n",
    "                label_txt = (f'{model_name.upper()} '\n",
    "                              f'(AUC={result[\"auc\"]:.3f}, '\n",
    "                              f'F1@{result[\"threshold\"]:.2f}={result[\"f1\"]:.3f})')\n",
    "                plt.plot(result['fpr'], result['tpr'], \n",
    "                          color=colors[model_name], \n",
    "                          linewidth=2.5,\n",
    "                          label=label_txt)\n",
    "        \n",
    "        # Diagonal line\n",
    "        plt.plot([0, 1], [0, 1], 'k--', alpha=0.5, linewidth=1)\n",
    "        \n",
    "        plt.xlabel('False Positive Rate', fontsize=12)\n",
    "        plt.ylabel('True Positive Rate', fontsize=12)\n",
    "        plt.title('ROC Curves - Noise Classification', fontsize=14, fontweight='bold')\n",
    "        plt.legend(fontsize=10)\n",
    "        plt.grid(True, alpha=0.3)\n",
    "        \n",
    "        if save_path:\n",
    "            plt.savefig(save_path, dpi=300, bbox_inches='tight')\n",
    "            print(f\"Plot saved to: {save_path}\")\n",
    "        \n",
    "        plt.show()\n",
    "    \n",
    "    def run_analysis(self, raddino_train_path, raddino_test_path, \n",
    "                     dinov3_train_path, dinov3_test_path, dot_size=2, threshold='auto'):\n",
    "        \"\"\"Run complete analysis\"\"\"\n",
    "        print(\"=\"*50)\n",
    "        print(\"LINEAR PROBING ANALYSIS\")\n",
    "        print(\"=\"*50)\n",
    "        \n",
    "        # Column names\n",
    "        raddino_col = f'raddino_embedding_dot{dot_size}'\n",
    "        dinov3_col = f'dinov3_embedding_dot{dot_size}'\n",
    "        \n",
    "        # Load RadDiNo data\n",
    "        print(\"Loading RadDiNo data...\")\n",
    "        X_train_rad, y_train_rad = self.load_and_extract_embeddings(raddino_train_path, raddino_col)\n",
    "        X_test_rad, y_test_rad = self.load_and_extract_embeddings(raddino_test_path, raddino_col)\n",
    "        \n",
    "        # Load DINOv3 data\n",
    "        print(\"Loading DINOv3 data...\")\n",
    "        X_train_dino, y_train_dino = self.load_and_extract_embeddings(dinov3_train_path, dinov3_col)\n",
    "        X_test_dino, y_test_dino = self.load_and_extract_embeddings(dinov3_test_path, dinov3_col)\n",
    "        \n",
    "        # Train and evaluate both models\n",
    "        rad_auc, rad_f1, rad_thr = self.train_and_evaluate('raddino', X_train_rad, y_train_rad, X_test_rad, y_test_rad, threshold=threshold)\n",
    "        dino_auc, dino_f1, dino_thr = self.train_and_evaluate('dinov3', X_train_dino, y_train_dino, X_test_dino, y_test_dino, threshold=threshold)\n",
    "        \n",
    "        # Plot results\n",
    "        self.plot_roc_curves('roc_curves.png')\n",
    "        \n",
    "        # Display results in a table\n",
    "        self.results_to_table()\n",
    "        \n",
    "        return self.results"
   ]
  },
  {
   "cell_type": "code",
   "execution_count": 6,
   "id": "6147a88c-b036-41fe-8f16-30b2d14930d4",
   "metadata": {},
   "outputs": [
    {
     "name": "stdout",
     "output_type": "stream",
     "text": [
      "==================================================\n",
      "LINEAR PROBING ANALYSIS\n",
      "==================================================\n",
      "Loading RadDiNo data...\n",
      "Loading DINOv3 data...\n",
      "Training RADDINO...\n",
      "RADDINO Test AUC: 0.5398 | F1@0.240: 0.6667\n",
      "\n",
      "--- RADDINO CLASSIFICATION REPORT @ THR=0.240 ---\n",
      "              precision    recall  f1-score   support\n",
      "\n",
      "           0     0.0000    0.0000    0.0000     13728\n",
      "           1     0.5000    1.0000    0.6667     13728\n",
      "\n",
      "    accuracy                         0.5000     27456\n",
      "   macro avg     0.2500    0.5000    0.3333     27456\n",
      "weighted avg     0.2500    0.5000    0.3333     27456\n",
      "\n",
      "Training DINOV3...\n"
     ]
    },
    {
     "name": "stderr",
     "output_type": "stream",
     "text": [
      "/mnt/NAS3/homes/rmuthy2/myenv/lib/python3.10/site-packages/sklearn/metrics/_classification.py:1731: UndefinedMetricWarning: Precision is ill-defined and being set to 0.0 in labels with no predicted samples. Use `zero_division` parameter to control this behavior.\n",
      "  _warn_prf(average, modifier, f\"{metric.capitalize()} is\", result.shape[0])\n",
      "/mnt/NAS3/homes/rmuthy2/myenv/lib/python3.10/site-packages/sklearn/metrics/_classification.py:1731: UndefinedMetricWarning: Precision is ill-defined and being set to 0.0 in labels with no predicted samples. Use `zero_division` parameter to control this behavior.\n",
      "  _warn_prf(average, modifier, f\"{metric.capitalize()} is\", result.shape[0])\n",
      "/mnt/NAS3/homes/rmuthy2/myenv/lib/python3.10/site-packages/sklearn/metrics/_classification.py:1731: UndefinedMetricWarning: Precision is ill-defined and being set to 0.0 in labels with no predicted samples. Use `zero_division` parameter to control this behavior.\n",
      "  _warn_prf(average, modifier, f\"{metric.capitalize()} is\", result.shape[0])\n"
     ]
    },
    {
     "name": "stdout",
     "output_type": "stream",
     "text": [
      "DINOV3 Test AUC: 0.7124 | F1@0.212: 0.6689\n",
      "\n",
      "--- DINOV3 CLASSIFICATION REPORT @ THR=0.212 ---\n",
      "              precision    recall  f1-score   support\n",
      "\n",
      "           0     0.6823    0.1343    0.2244     13728\n",
      "           1     0.5199    0.9375    0.6689     13728\n",
      "\n",
      "    accuracy                         0.5359     27456\n",
      "   macro avg     0.6011    0.5359    0.4466     27456\n",
      "weighted avg     0.6011    0.5359    0.4466     27456\n",
      "\n",
      "Plot saved to: roc_curves.png\n"
     ]
    },
    {
     "data": {
      "image/png": "[encoded data removed]",
      "text/plain": [
       "<Figure size 800x600 with 1 Axes>"
      ]
     },
     "metadata": {},
     "output_type": "display_data"
    },
    {
     "name": "stdout",
     "output_type": "stream",
     "text": [
      "\n",
      "==================================================\n",
      "RESULTS SUMMARY TABLE\n",
      "==================================================\n",
      "| Model   | AUC    | F1 Score        |\n",
      "|:--------|:-------|:----------------|\n",
      "| RADDINO | 0.5398 | 0.6667 (@0.240) |\n",
      "| DINOV3  | 0.7124 | 0.6689 (@0.212) |\n",
      "==================================================\n"
     ]
    }
   ],
   "source": [
    "# Usage\n",
    "def run_linear_probing():\n",
    "    # File paths\n",
    "    BASE_DIR = \"/home/rmuthy2/GradientDiff/TestEmbeddingsOutput\"\n",
    "    \n",
    "    RADDINO_TRAIN = f\"{BASE_DIR}/raddino-train-dot4.parquet\"\n",
    "    RADDINO_TEST = f\"{BASE_DIR}/raddino-test-dot4.parquet\"\n",
    "    DINOV3_TRAIN = f\"{BASE_DIR}/dinov3-train-dot4.parquet\"\n",
    "    DINOV3_TEST = f\"{BASE_DIR}/dinov3-test-dot4.parquet\"\n",
    "    \n",
    "    # Run analysis - IMPORTANT: Pass dot_size=4 for dot4 files\n",
    "    analyzer = LinearProbingAnalyzer()\n",
    "    results = analyzer.run_analysis(RADDINO_TRAIN, RADDINO_TEST, DINOV3_TRAIN, DINOV3_TEST, dot_size=4)\n",
    "    \n",
    "    return analyzer, results\n",
    "\n",
    "if __name__ == \"__main__\":\n",
    "    analyzer, results = run_linear_probing()"
   ]
  },
  {
   "cell_type": "code",
   "execution_count": null,
   "id": "fb935f5d-15ee-4250-988c-a088f70d9d87",
   "metadata": {},
   "outputs": [],
   "source": []
  }
 ],
 "metadata": {
  "kernelspec": {
   "display_name": "ImageAnalysis",
   "language": "python",
   "name": "myenv"
  },
  "language_info": {
   "codemirror_mode": {
    "name": "ipython",
    "version": 3
   },
   "file_extension": ".py",
   "mimetype": "text/x-python",
   "name": "python",
   "nbconvert_exporter": "python",
   "pygments_lexer": "ipython3",
   "version": "3.10.10"
  }
 },
 "nbformat": 4,
 "nbformat_minor": 5
}
