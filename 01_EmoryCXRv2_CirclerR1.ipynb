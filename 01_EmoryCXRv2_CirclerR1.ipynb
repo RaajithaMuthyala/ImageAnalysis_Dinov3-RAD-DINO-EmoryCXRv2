{
 "cells": [
  {
   "cell_type": "code",
   "execution_count": 1,
   "id": "22c013f2-3873-46fd-9e05-5fb765bdd926",
   "metadata": {},
   "outputs": [
    {
     "name": "stdout",
     "output_type": "stream",
     "text": [
      "1\n",
      "NVIDIA L40S\n",
      "CUDA available: True\n",
      "Number of visible GPUs: 1\n",
      "Device 0: NVIDIA L40S\n"
     ]
    }
   ],
   "source": [
    "import os\n",
    "os.environ[\"CUDA_VISIBLE_DEVICES\"] = \"2\"\n",
    "\n",
    "import torch\n",
    "print(torch.cuda.device_count())   # should be 1 now\n",
    "print(torch.cuda.get_device_name(0))  # GPU 8 will appear as cuda:0\n",
    "\n",
    "import torch\n",
    "\n",
    "print(f\"CUDA available: {torch.cuda.is_available()}\")\n",
    "print(f\"Number of visible GPUs: {torch.cuda.device_count()}\")\n",
    "\n",
    "for i in range(torch.cuda.device_count()):\n",
    "    print(f\"Device {i}: {torch.cuda.get_device_name(i)}\")\n",
    "\n"
   ]
  },
  {
   "cell_type": "code",
   "execution_count": 2,
   "id": "a1e9da1b-3318-4881-aa58-0e56bf6e99c4",
   "metadata": {},
   "outputs": [
    {
     "name": "stderr",
     "output_type": "stream",
     "text": [
      "/mnt/NAS3/homes/rmuthy2/myenv/lib/python3.10/site-packages/tqdm/auto.py:21: TqdmWarning: IProgress not found. Please update jupyter and ipywidgets. See https://ipywidgets.readthedocs.io/en/stable/user_install.html\n",
      "  from .autonotebook import tqdm as notebook_tqdm\n"
     ]
    }
   ],
   "source": [
    "# === Imports & runtime knobs ===================================================\n",
    "import os\n",
    "os.environ.setdefault(\"PYTORCH_CUDA_ALLOC_CONF\", \"expandable_segments:True\")\n",
    "\n",
    "import cv2\n",
    "import numpy as np\n",
    "import random\n",
    "import torch\n",
    "import gc\n",
    "import pandas as pd\n",
    "from tqdm import tqdm\n",
    "from transformers import AutoImageProcessor, AutoModel\n",
    "from PIL import Image\n",
    "import json\n",
    "import time\n",
    "from datetime import datetime\n",
    "\n",
    "# cuDNN stability (helps avoid CUDNN_STATUS_EXECUTION_FAILED on some GPUs)\n",
    "torch.backends.cudnn.benchmark = False\n",
    "torch.backends.cudnn.deterministic = True\n",
    "torch.set_float32_matmul_precision(\"high\")  # inference-only; avoids AMP surprises\n",
    "\n",
    "# === Image preprocessing =======================================================\n",
    "class ImagePreprocessor:\n",
    "    def __init__(self, square_size=3052, target_size=(1024, 1024)):\n",
    "        self.square_size = square_size\n",
    "        self.target_size = target_size\n",
    "\n",
    "    def analyze_image_color_distribution(self, image):\n",
    "        \"\"\"\n",
    "        Analyze grayscale histogram on the original image.\n",
    "        Pick mode in [21..234]; fallback sensibly; return ±20 absolute range.\n",
    "        \"\"\"\n",
    "        if len(image.shape) == 3:\n",
    "            gray = cv2.cvtColor(image, cv2.COLOR_BGR2GRAY)\n",
    "        else:\n",
    "            gray = image\n",
    "\n",
    "        hist = cv2.calcHist([gray], [0], None, [256], [0, 256]).flatten()\n",
    "\n",
    "        hist_for_peaks = hist.copy()\n",
    "        hist_for_peaks[:21] = 0\n",
    "        hist_for_peaks[235:] = 0\n",
    "\n",
    "        if np.sum(hist_for_peaks) > 0:\n",
    "            mode_value = int(np.argmax(hist_for_peaks))\n",
    "        else:\n",
    "            hist_fallback = hist.copy()\n",
    "            hist_fallback[0] = 0\n",
    "            hist_fallback[255] = 0\n",
    "            mode_value = int(np.argmax(hist_fallback)) if np.sum(hist_fallback) > 0 else 128\n",
    "\n",
    "        if mode_value <= 20 or mode_value >= 235:\n",
    "            hist_copy = hist.copy()\n",
    "            hist_copy[mode_value] = 0\n",
    "            hist_copy[:21] = 0\n",
    "            hist_copy[235:] = 0\n",
    "            mode_value = int(np.argmax(hist_copy)) if np.sum(hist_copy) > 0 else 128\n",
    "\n",
    "        min_noise_color = max(0, mode_value - 20)\n",
    "        max_noise_color = min(255, mode_value + 20)\n",
    "        return mode_value, (min_noise_color, max_noise_color), hist\n",
    "\n",
    "    def pad_to_square_and_resize(self, image_path, analyze_colors=True):\n",
    "        \"\"\"\n",
    "        Load image, run color analysis on original, pad to square with black,\n",
    "        resize to 1024x1024.\n",
    "        \"\"\"\n",
    "        image = cv2.imread(image_path)\n",
    "        if image is None:\n",
    "            raise ValueError(f\"Cannot load image: {image_path}\")\n",
    "\n",
    "        color_analysis = None\n",
    "        if analyze_colors:\n",
    "            mode_value, noise_range, hist = self.analyze_image_color_distribution(image)\n",
    "            color_analysis = {'mode_value': mode_value, 'noise_range': noise_range, 'histogram': hist}\n",
    "\n",
    "        h, w = image.shape[:2]\n",
    "        max_dim = max(h, w, self.square_size)\n",
    "\n",
    "        pad_h = max_dim - h\n",
    "        pad_w = max_dim - w\n",
    "        top = pad_h // 2\n",
    "        bottom = pad_h - top\n",
    "        left = pad_w // 2\n",
    "        right = pad_w - left\n",
    "\n",
    "        if len(image.shape) == 3:\n",
    "            padded = cv2.copyMakeBorder(image, top, bottom, left, right, cv2.BORDER_CONSTANT, value=[0, 0, 0])\n",
    "        else:\n",
    "            padded = cv2.copyMakeBorder(image, top, bottom, left, right, cv2.BORDER_CONSTANT, value=0)\n",
    "\n",
    "        resized = cv2.resize(padded, self.target_size, interpolation=cv2.INTER_LANCZOS4)\n",
    "        return resized, color_analysis\n",
    "\n",
    "# === Noise injection (no visualization) =======================================\n",
    "class NoiseInjector:\n",
    "    def __init__(self):\n",
    "        pass\n",
    "\n",
    "    def create_circle_mask(self, radius):\n",
    "        size = 2 * radius + 1\n",
    "        y, x = np.ogrid[:size, :size]\n",
    "        center = radius\n",
    "        return (x - center) ** 2 + (y - center) ** 2 <= radius ** 2\n",
    "\n",
    "    def add_adaptive_circle_noise(self, image, color_analysis, radius=1, num_circles=1):\n",
    "        \"\"\"\n",
    "        Draw circular dots in center 70% region; intensity sampled from mode ±20 absolute.\n",
    "        \"\"\"\n",
    "        if color_analysis is None:\n",
    "            return self.add_circle_noise(image, radius, num_circles)\n",
    "\n",
    "        image_with_noise = image.copy()\n",
    "        h, w = image.shape[:2]\n",
    "\n",
    "        margin_x, margin_y = int(0.15 * w), int(0.15 * h)\n",
    "        x_min, y_min = margin_x + radius, margin_y + radius\n",
    "        x_max, y_max = w - margin_x - radius - 1, h - margin_y - radius - 1\n",
    "\n",
    "        min_color, max_color = color_analysis['noise_range']\n",
    "        mode_value = color_analysis['mode_value']\n",
    "        if (max_color - min_color) < 5:\n",
    "            min_color = max(0, mode_value - 20)\n",
    "            max_color = min(255, mode_value + 20)\n",
    "\n",
    "        circle_mask = self.create_circle_mask(radius)\n",
    "\n",
    "        for _ in range(num_circles):\n",
    "            x = random.randint(x_min, x_max)\n",
    "            y = random.randint(y_min, y_max)\n",
    "            noise_color = random.randint(min_color, max_color)\n",
    "\n",
    "            y_start, y_end = max(0, y - radius), min(h, y + radius + 1)\n",
    "            x_start, x_end = max(0, x - radius), min(w, x + radius + 1)\n",
    "\n",
    "            region_h, region_w = y_end - y_start, x_end - x_start\n",
    "            mask_y_start = max(0, radius - (y - y_start))\n",
    "            mask_x_start = max(0, radius - (x - x_start))\n",
    "            current_mask = circle_mask[mask_y_start:mask_y_start + region_h, mask_x_start:mask_x_start + region_w]\n",
    "\n",
    "            # Works for both grayscale and 3-channel (sets all channels same intensity)\n",
    "            image_with_noise[y_start:y_end, x_start:x_end][current_mask] = noise_color\n",
    "\n",
    "        return image_with_noise\n",
    "\n",
    "    # Backward-compat shim (old code called ..._with_marker)\n",
    "    def add_adaptive_circle_noise_with_marker(self, image, color_analysis, radius=1, num_circles=1, add_boundary=False):\n",
    "        return self.add_adaptive_circle_noise(image, color_analysis, radius=radius, num_circles=num_circles)\n",
    "\n",
    "    def add_circle_noise(self, image, radius=1, num_circles=1):\n",
    "        image_with_noise = image.copy()\n",
    "        h, w = image.shape[:2]\n",
    "        margin_x, margin_y = int(0.15 * w), int(0.15 * h)\n",
    "        x_min, y_min = margin_x + radius, margin_y + radius\n",
    "        x_max, y_max = w - margin_x - radius - 1, h - margin_y - radius - 1\n",
    "        circle_mask = self.create_circle_mask(radius)\n",
    "\n",
    "        for _ in range(num_circles):\n",
    "            x = random.randint(x_min, x_max)\n",
    "            y = random.randint(y_min, y_max)\n",
    "\n",
    "            y_start, y_end = max(0, y - radius), min(h, y + radius + 1)\n",
    "            x_start, x_end = max(0, x - radius), min(w, x + radius + 1)\n",
    "\n",
    "            region_h, region_w = y_end - y_start, x_end - x_start\n",
    "            mask_y_start = max(0, radius - (y - y_start))\n",
    "            mask_x_start = max(0, radius - (x - x_start))\n",
    "            current_mask = circle_mask[mask_y_start:mask_y_start + region_h, mask_x_start:mask_x_start + region_w]\n",
    "\n",
    "            image_with_noise[y_start:y_end, x_start:x_end][current_mask] = 255\n",
    "        return image_with_noise\n",
    "\n",
    "# === Embedding extraction (robust forward) ====================================\n",
    "class EmbeddingExtractor:\n",
    "    def __init__(self):\n",
    "        self.device = torch.device('cuda' if torch.cuda.is_available() else 'cpu')\n",
    "        print(f\"Using device: {self.device}\")\n",
    "\n",
    "        if torch.cuda.is_available():\n",
    "            torch.cuda.empty_cache()\n",
    "\n",
    "        self.load_raddino_model()\n",
    "\n",
    "        if torch.cuda.is_available():\n",
    "            torch.cuda.empty_cache()\n",
    "\n",
    "        self.load_dinov3_model()\n",
    "\n",
    "    def load_raddino_model(self):\n",
    "        try:\n",
    "            print(\"Loading RadDiNo model...\")\n",
    "            self.raddino_processor = AutoImageProcessor.from_pretrained(\"microsoft/rad-dino\")\n",
    "            self.raddino_model = AutoModel.from_pretrained(\"microsoft/rad-dino\").to(self.device)\n",
    "            self.raddino_model.eval()\n",
    "            print(\"RadDiNo model loaded successfully\")\n",
    "        except Exception as e:\n",
    "            print(f\"Error loading RadDiNo model: {e}\")\n",
    "            self.raddino_model = None\n",
    "            self.raddino_processor = None\n",
    "\n",
    "    def load_dinov3_model(self):\n",
    "        try:\n",
    "            print(\"Loading DINOv3 model...\")\n",
    "            self.dinov3_processor = AutoImageProcessor.from_pretrained(\"facebook/dinov3-vit7b16-pretrain-lvd1689m\")\n",
    "            self.dinov3_model = AutoModel.from_pretrained(\"facebook/dinov3-vit7b16-pretrain-lvd1689m\").to(self.device)\n",
    "            self.dinov3_model.eval()\n",
    "            print(\"DINOv3 model loaded successfully\")\n",
    "        except Exception as e:\n",
    "            print(f\"Error loading DINOv3 model: {e}\")\n",
    "            self.dinov3_model = None\n",
    "            self.dinov3_processor = None\n",
    "\n",
    "    def _to_pil(self, image):\n",
    "        if image.ndim == 3:\n",
    "            return Image.fromarray(cv2.cvtColor(image, cv2.COLOR_BGR2RGB))\n",
    "        else:\n",
    "            return Image.fromarray(image).convert(\"RGB\")\n",
    "\n",
    "    def _safe_forward(self, model, processor, pil_list, device):\n",
    "        \"\"\"\n",
    "        Try GPU+cuDNN; on cuDNN failure retry with cuDNN disabled; then CPU fallback (batch only).\n",
    "        \"\"\"\n",
    "        def _run(_device, disable_cudnn=False):\n",
    "            prev = torch.backends.cudnn.enabled\n",
    "            if disable_cudnn:\n",
    "                torch.backends.cudnn.enabled = False\n",
    "            try:\n",
    "                with torch.no_grad():\n",
    "                    inputs = processor(pil_list, return_tensors=\"pt\").to(_device)\n",
    "                    outputs = model(**inputs)\n",
    "                return outputs\n",
    "            finally:\n",
    "                if disable_cudnn:\n",
    "                    torch.backends.cudnn.enabled = prev\n",
    "\n",
    "        # Normal path\n",
    "        try:\n",
    "            if torch.cuda.is_available():\n",
    "                torch.cuda.synchronize()\n",
    "            return _run(device, disable_cudnn=False)\n",
    "        except RuntimeError as e:\n",
    "            if \"CUDNN_STATUS_EXECUTION_FAILED\" not in str(e):\n",
    "                raise\n",
    "            if torch.cuda.is_available():\n",
    "                torch.cuda.empty_cache()\n",
    "            # Retry on GPU with cuDNN disabled\n",
    "            try:\n",
    "                return _run(device, disable_cudnn=True)\n",
    "            except RuntimeError:\n",
    "                # CPU fallback for this batch\n",
    "                if torch.cuda.is_available():\n",
    "                    torch.cuda.empty_cache()\n",
    "                cpu_device = torch.device(\"cpu\")\n",
    "                model_cpu = model.to(cpu_device)\n",
    "                try:\n",
    "                    return _run(cpu_device, disable_cudnn=True)\n",
    "                finally:\n",
    "                    model_cpu.to(device)\n",
    "\n",
    "    def extract_raddino_batch(self, images):\n",
    "        if self.raddino_model is None:\n",
    "            return None\n",
    "        pil_list = [self._to_pil(im) for im in images]\n",
    "        outputs = self._safe_forward(self.raddino_model, self.raddino_processor, pil_list, self.device)\n",
    "        if hasattr(outputs, \"pooler_output\") and outputs.pooler_output is not None:\n",
    "            embs = outputs.pooler_output\n",
    "        else:\n",
    "            embs = outputs.last_hidden_state.mean(dim=1)\n",
    "        return embs.detach().cpu().numpy()\n",
    "\n",
    "    def extract_dinov3_batch(self, images):\n",
    "        if self.dinov3_model is None:\n",
    "            return None\n",
    "        pil_list = [self._to_pil(im) for im in images]\n",
    "        outputs = self._safe_forward(self.dinov3_model, self.dinov3_processor, pil_list, self.device)\n",
    "        if hasattr(outputs, \"pooler_output\") and outputs.pooler_output is not None:\n",
    "            embs = outputs.pooler_output\n",
    "        else:\n",
    "            embs = outputs.last_hidden_state.mean(dim=1)\n",
    "        return embs.detach().cpu().numpy()\n",
    "\n",
    "# === Progress tracking =========================================================\n",
    "class ProgressTracker:\n",
    "    def __init__(self, output_dir):\n",
    "        self.output_dir = output_dir\n",
    "        self.progress_file = os.path.join(output_dir, \"progress.json\")\n",
    "        self.load_progress()\n",
    "\n",
    "    def load_progress(self):\n",
    "        if os.path.exists(self.progress_file):\n",
    "            with open(self.progress_file, 'r') as f:\n",
    "                self.progress = json.load(f)\n",
    "        else:\n",
    "            self.progress = {\"completed_tasks\": [], \"current_task\": None, \"last_updated\": None}\n",
    "\n",
    "    def save_progress(self):\n",
    "        self.progress[\"last_updated\"] = datetime.now().isoformat()\n",
    "        os.makedirs(self.output_dir, exist_ok=True)\n",
    "        with open(self.progress_file, 'w') as f:\n",
    "            json.dump(self.progress, f, indent=2)\n",
    "\n",
    "    def is_task_completed(self, task_id):\n",
    "        return task_id in self.progress[\"completed_tasks\"]\n",
    "\n",
    "    def mark_task_completed(self, task_id):\n",
    "        if task_id not in self.progress[\"completed_tasks\"]:\n",
    "            self.progress[\"completed_tasks\"].append(task_id)\n",
    "        self.save_progress()\n",
    "\n",
    "    def set_current_task(self, task_id):\n",
    "        self.progress[\"current_task\"] = task_id\n",
    "        self.save_progress()\n",
    "\n",
    "# === Full pipeline =============================================================\n",
    "class ImagePipeline:\n",
    "    \"\"\"\n",
    "    Pipeline: load CSVs -> pad/resize -> (optional) adaptive circle noise using mode ±20 ->\n",
    "    extract embeddings (RadDiNO + DINOv3) -> save Parquet.\n",
    "    \"\"\"\n",
    "    def __init__(self, root_path):\n",
    "        self.root_path = root_path\n",
    "        self.preprocessor = ImagePreprocessor()\n",
    "        self.noise_injector = NoiseInjector()\n",
    "        self.embedding_extractor = EmbeddingExtractor()\n",
    "\n",
    "    def load_datasets(self, train_csv_path, test_csv_path):\n",
    "        print(\"Loading datasets...\")\n",
    "        self.train_df = pd.read_csv(train_csv_path)\n",
    "        self.test_df = pd.read_csv(test_csv_path)\n",
    "\n",
    "        print(f\"Train dataset shape: {self.train_df.shape}\")\n",
    "        print(f\"Test dataset shape: {self.test_df.shape}\")\n",
    "\n",
    "        required_cols = ['ImagePath', 'noise']\n",
    "        for df_name, df in [('train', self.train_df), ('test', self.test_df)]:\n",
    "            missing_cols = [col for col in required_cols if col not in df.columns]\n",
    "            if missing_cols:\n",
    "                raise ValueError(f\"Missing columns in {df_name} dataset: {missing_cols}\")\n",
    "        return self.train_df, self.test_df\n",
    "\n",
    "    def process_single_image(self, image_path, add_noise=False, radius=1):\n",
    "        full_image_path = image_path if os.path.isabs(image_path) else os.path.join(self.root_path, image_path)\n",
    "        if not os.path.exists(full_image_path):\n",
    "            raise FileNotFoundError(f\"Image not found: {full_image_path}\")\n",
    "\n",
    "        processed_image, color_analysis = self.preprocessor.pad_to_square_and_resize(\n",
    "            full_image_path, analyze_colors=True\n",
    "        )\n",
    "\n",
    "        if add_noise:\n",
    "            # Use adaptive circle noise (no visualization)\n",
    "            processed_image = self.noise_injector.add_adaptive_circle_noise(\n",
    "                processed_image, color_analysis, radius=radius, num_circles=1\n",
    "            )\n",
    "\n",
    "        return processed_image\n",
    "\n",
    "    def extract_embeddings_for_dataset_batched(\n",
    "        self, df, dataset_name, radius, batch_size=32,\n",
    "        save_intermediate=True, intermediate_save_frequency=100,\n",
    "        resume_from_intermediate=True\n",
    "    ):\n",
    "        print(f\"\\nExtracting embeddings for {dataset_name} (radius={radius}) in batches of {batch_size}...\")\n",
    "        \n",
    "        # Set up intermediate file path\n",
    "        if save_intermediate:\n",
    "            intermediate_dir = os.path.join(os.path.dirname(self.output_dir), \"intermediate_saves\")\n",
    "            os.makedirs(intermediate_dir, exist_ok=True)\n",
    "            intermediate_path = os.path.join(intermediate_dir, f\"{dataset_name}_r{radius}_intermediate.parquet\")\n",
    "        \n",
    "        # Check if we should resume from intermediate file\n",
    "        if resume_from_intermediate and save_intermediate and os.path.exists(intermediate_path):\n",
    "            print(f\"Found intermediate file: {intermediate_path}\")\n",
    "            try:\n",
    "                result_df = pd.read_parquet(intermediate_path)\n",
    "                print(f\"Loaded intermediate results with {len(result_df)} rows\")\n",
    "                \n",
    "                # Verify the intermediate file has the expected structure\n",
    "                rcol = f'raddino_embedding_r{radius}'\n",
    "                dcol = f'dinov3_embedding_r{radius}'\n",
    "                \n",
    "                if rcol not in result_df.columns or dcol not in result_df.columns:\n",
    "                    print(\"Intermediate file missing embedding columns, starting fresh...\")\n",
    "                    result_df = df.copy()\n",
    "                    result_df[rcol] = None\n",
    "                    result_df[dcol] = None\n",
    "                    start_batch = 0\n",
    "                else:\n",
    "                    # Find where to resume - look for first row with None embeddings\n",
    "                    processed_mask = (result_df[rcol].notna()) | (result_df[dcol].notna())\n",
    "                    num_processed = processed_mask.sum()\n",
    "                    \n",
    "                    if num_processed == len(result_df):\n",
    "                        print(\"All embeddings already extracted!\")\n",
    "                        return result_df\n",
    "                    \n",
    "                    # Calculate which batch to start from\n",
    "                    start_batch = (num_processed // batch_size)\n",
    "                    print(f\"Resuming from batch {start_batch + 1} (processed {num_processed}/{len(result_df)} images)\")\n",
    "                    \n",
    "            except Exception as e:\n",
    "                print(f\"Error loading intermediate file: {e}\")\n",
    "                print(\"Starting fresh...\")\n",
    "                result_df = df.copy()\n",
    "                rcol = f'raddino_embedding_r{radius}'\n",
    "                dcol = f'dinov3_embedding_r{radius}'\n",
    "                result_df[rcol] = None\n",
    "                result_df[dcol] = None\n",
    "                start_batch = 0\n",
    "        else:\n",
    "            # Start fresh\n",
    "            result_df = df.copy()\n",
    "            rcol = f'raddino_embedding_r{radius}'\n",
    "            dcol = f'dinov3_embedding_r{radius}'\n",
    "            result_df[rcol] = None\n",
    "            result_df[dcol] = None\n",
    "            start_batch = 0\n",
    "\n",
    "        idxs = result_df.index.tolist()\n",
    "        total_batches = len(range(0, len(idxs), batch_size))\n",
    "        \n",
    "        # Skip already processed batches\n",
    "        batch_count = start_batch\n",
    "        start_idx = start_batch * batch_size\n",
    "        \n",
    "        for start in tqdm(range(start_idx, len(idxs), batch_size), \n",
    "                         desc=f\"Processing {dataset_name}\", \n",
    "                         initial=start_batch, total=total_batches):\n",
    "            batch_start_time = time.time()\n",
    "            end = min(start + batch_size, len(idxs))\n",
    "            batch_idx = idxs[start:end]\n",
    "\n",
    "            # Check if this batch is already processed (additional safety check)\n",
    "            batch_processed = True\n",
    "            for i in batch_idx:\n",
    "                if pd.isna(result_df.at[i, rcol]) and pd.isna(result_df.at[i, dcol]):\n",
    "                    batch_processed = False\n",
    "                    break\n",
    "            \n",
    "            if batch_processed:\n",
    "                print(f\"Batch {batch_count + 1} already processed, skipping...\")\n",
    "                batch_count += 1\n",
    "                continue\n",
    "\n",
    "            # Load & process images\n",
    "            load_start_time = time.time()\n",
    "            imgs = []\n",
    "            for i in batch_idx:\n",
    "                row = result_df.loc[i]\n",
    "                try:\n",
    "                    add_noise = (row['noise'] == 1)\n",
    "                    im = self.process_single_image(row['ImagePath'], add_noise=add_noise, radius=radius)\n",
    "                except Exception as e:\n",
    "                    print(f\"Error processing {row['ImagePath']}: {e}\")\n",
    "                    im = None\n",
    "                imgs.append(im)\n",
    "            load_time = time.time() - load_start_time\n",
    "\n",
    "            valid_mask = [im is not None for im in imgs]\n",
    "            valid_imgs = [im for im, ok in zip(imgs, valid_mask) if ok]\n",
    "            if len(valid_imgs) == 0:\n",
    "                for i, ok in zip(batch_idx, valid_mask):\n",
    "                    if not ok:\n",
    "                        result_df.at[i, rcol] = None\n",
    "                        result_df.at[i, dcol] = None\n",
    "                batch_count += 1\n",
    "                continue\n",
    "\n",
    "            # Extract embeddings (use safety pre-sync)\n",
    "            if torch.cuda.is_available():\n",
    "                torch.cuda.empty_cache()\n",
    "                torch.cuda.synchronize()\n",
    "\n",
    "            embed_start_time = time.time()\n",
    "            r_embs = self.embedding_extractor.extract_raddino_batch(valid_imgs)\n",
    "            d_embs = self.embedding_extractor.extract_dinov3_batch(valid_imgs)\n",
    "            embed_time = time.time() - embed_start_time\n",
    "\n",
    "            # Store back\n",
    "            store_start_time = time.time()\n",
    "            valid_iter = iter(range(len(valid_imgs)))\n",
    "            for i, ok in zip(batch_idx, valid_mask):\n",
    "                if ok:\n",
    "                    j = next(valid_iter)\n",
    "                    result_df.at[i, rcol] = r_embs[j].tolist() if (r_embs is not None and len(r_embs) > j) else None\n",
    "                    result_df.at[i, dcol] = d_embs[j].tolist() if (d_embs is not None and len(d_embs) > j) else None\n",
    "                else:\n",
    "                    result_df.at[i, rcol] = None\n",
    "                    result_df.at[i, dcol] = None\n",
    "            store_time = time.time() - store_start_time\n",
    "\n",
    "            # Cleanup between batches\n",
    "            if torch.cuda.is_available():\n",
    "                torch.cuda.empty_cache()\n",
    "            gc.collect()\n",
    "\n",
    "            batch_count += 1\n",
    "            batch_total_time = time.time() - batch_start_time\n",
    "\n",
    "            # Intermediate saves\n",
    "            if save_intermediate and (batch_count % intermediate_save_frequency == 0 or batch_count == total_batches):\n",
    "                result_df.to_parquet(intermediate_path, index=False)\n",
    "                print(f\"Saved intermediate results to {intermediate_path}\")\n",
    "\n",
    "            if batch_count % 10 == 0 or batch_count == total_batches:\n",
    "                print(f\"\\nBatch {batch_count}/{total_batches}: \"\n",
    "                      f\"Load={load_time:.2f}s, Embed={embed_time:.2f}s, Store={store_time:.2f}s, \"\n",
    "                      f\"Total={batch_total_time:.2f}s, Images/sec={len(valid_imgs)/batch_total_time:.2f}\")\n",
    "                if batch_count < total_batches:\n",
    "                    avg_batch_time = batch_total_time\n",
    "                    remaining_batches = total_batches - batch_count\n",
    "                    est_min = remaining_batches * avg_batch_time / 60\n",
    "                    print(f\"Estimated remaining time: {est_min:.1f} minutes\")\n",
    "\n",
    "        return result_df\n",
    "\n",
    "    def save_parquet_files(self, df, dataset_name, radius, output_dir=\"output\"):\n",
    "        os.makedirs(output_dir, exist_ok=True)\n",
    "\n",
    "        base_cols = [c for c in ['AccessionNumber_anon', 'ImagePath', 'ViewPosition', 'CLAHE', 'Cardiomegaly', 'noise'] if c in df.columns]\n",
    "\n",
    "        r_df = df[base_cols + [f'raddino_embedding_r{radius}']].copy()\n",
    "        d_df = df[base_cols + [f'dinov3_embedding_r{radius}']].copy()\n",
    "\n",
    "        r_path = f\"{output_dir}/raddino-{dataset_name}-r{radius}.parquet\"\n",
    "        d_path = f\"{output_dir}/dinov3-{dataset_name}-r{radius}.parquet\"\n",
    "\n",
    "        r_df.to_parquet(r_path, index=False)\n",
    "        d_df.to_parquet(d_path, index=False)\n",
    "\n",
    "        print(f\"Saved: {r_path}\")\n",
    "        print(f\"Saved: {d_path}\")\n",
    "        return r_path, d_path\n",
    "\n",
    "    def run_single_radius(self, train_csv_path, test_csv_path, radius, output_dir=\"output\", batch_size=32):\n",
    "        print(\"=\" * 60)\n",
    "        print(f\"PROCESSING CIRCLE RADIUS: {radius} (using mode ±20 color range)\")\n",
    "        print(\"=\" * 60)\n",
    "\n",
    "        self.output_dir = output_dir\n",
    "        tracker = ProgressTracker(output_dir)\n",
    "\n",
    "        train_df, test_df = self.load_datasets(train_csv_path, test_csv_path)\n",
    "\n",
    "        train_task = f\"train_r{radius}\"\n",
    "        test_task  = f\"test_r{radius}\"\n",
    "\n",
    "        # Train\n",
    "        if not tracker.is_task_completed(train_task):\n",
    "            print(f\"\\nProcessing train dataset for radius {radius}...\")\n",
    "            tracker.set_current_task(train_task)\n",
    "            train_result = self.extract_embeddings_for_dataset_batched(\n",
    "                train_df, \"train\", radius, batch_size=batch_size,\n",
    "                save_intermediate=True, intermediate_save_frequency=50\n",
    "            )\n",
    "            self.save_parquet_files(train_result, \"train\", radius, output_dir)\n",
    "            tracker.mark_task_completed(train_task)\n",
    "            del train_result\n",
    "            gc.collect()\n",
    "            if torch.cuda.is_available():\n",
    "                torch.cuda.empty_cache()\n",
    "        else:\n",
    "            print(f\"Train dataset for radius {radius} already completed. Skipping...\")\n",
    "\n",
    "        # Test\n",
    "        if not tracker.is_task_completed(test_task):\n",
    "            print(f\"\\nProcessing test dataset for radius {radius}...\")\n",
    "            tracker.set_current_task(test_task)\n",
    "            test_result = self.extract_embeddings_for_dataset_batched(\n",
    "                test_df, \"test\", radius, batch_size=batch_size,\n",
    "                save_intermediate=True, intermediate_save_frequency=50\n",
    "            )\n",
    "            self.save_parquet_files(test_result, \"test\", radius, output_dir)\n",
    "            tracker.mark_task_completed(test_task)\n",
    "            del test_result\n",
    "            gc.collect()\n",
    "            if torch.cuda.is_available():\n",
    "                torch.cuda.empty_cache()\n",
    "        else:\n",
    "            print(f\"Test dataset for radius {radius} already completed. Skipping...\")\n",
    "\n",
    "        print(f\"\\nCompleted processing for radius {radius}\")\n",
    "        return True\n",
    "\n",
    "    def run_complete_pipeline(self, train_csv_path, test_csv_path, radii=[1, 2], output_dir=\"output\", batch_size=32):\n",
    "        print(f\"Starting complete pipeline for radii: {radii}\")\n",
    "        print(\"Using RadDiNo and DINOv3 models for medical imaging\")\n",
    "        print(\"Noise colors selected from mode ±20 range\")\n",
    "        for radius in radii:\n",
    "            try:\n",
    "                self.run_single_radius(train_csv_path, test_csv_path, radius, output_dir, batch_size)\n",
    "                print(f\"Successfully completed radius {radius}\")\n",
    "            except Exception as e:\n",
    "                print(f\"Error processing radius {radius}: {e}\")\n",
    "                continue\n",
    "        print(f\"\\nComplete pipeline finished for all radii: {radii}\")\n",
    "\n"
   ]
  },
  {
   "cell_type": "code",
   "execution_count": 3,
   "id": "1a303c3a-ba6b-4896-bf39-0b0c8ddfa5c8",
   "metadata": {
    "scrolled": true
   },
   "outputs": [
    {
     "name": "stdout",
     "output_type": "stream",
     "text": [
      "Using device: cuda\n",
      "Loading RadDiNo model...\n"
     ]
    },
    {
     "name": "stderr",
     "output_type": "stream",
     "text": [
      "Fetching 1 files: 100%|██████████| 1/1 [00:00<00:00, 11650.84it/s]\n",
      "Using a slow image processor as `use_fast` is unset and a slow processor was saved with this model. `use_fast=True` will be the default behavior in v4.52, even if the model was saved with a slow processor. This will result in minor differences in outputs. You'll still be able to use a slow processor with `use_fast=False`.\n"
     ]
    },
    {
     "name": "stdout",
     "output_type": "stream",
     "text": [
      "RadDiNo model loaded successfully\n",
      "Loading DINOv3 model...\n"
     ]
    },
    {
     "name": "stderr",
     "output_type": "stream",
     "text": [
      "Fetching 1 files: 100%|██████████| 1/1 [00:00<00:00, 2519.10it/s]\n",
      "Loading checkpoint shards: 100%|██████████| 6/6 [00:00<00:00, 10.21it/s]\n"
     ]
    },
    {
     "name": "stdout",
     "output_type": "stream",
     "text": [
      "DINOv3 model loaded successfully\n",
      "============================================================\n",
      "PROCESSING CIRCLE RADIUS: 1 (using mode ±20 color range)\n",
      "============================================================\n",
      "Loading datasets...\n",
      "Train dataset shape: (109824, 6)\n",
      "Test dataset shape: (27456, 6)\n",
      "\n",
      "Processing train dataset for radius 1...\n",
      "\n",
      "Extracting embeddings for train (radius=1) in batches of 12...\n",
      "Found intermediate file: /home/rmuthy2/Circle/intermediate_saves/train_r1_intermediate.parquet\n",
      "Loaded intermediate results with 109824 rows\n",
      "Resuming from batch 8351 (processed 100200/109824 images)\n"
     ]
    },
    {
     "name": "stderr",
     "output_type": "stream",
     "text": [
      "Processing train:  91%|█████████▏| 8360/9152 [00:26<33:52,  2.57s/it]"
     ]
    },
    {
     "name": "stdout",
     "output_type": "stream",
     "text": [
      "\n",
      "Batch 8360/9152: Load=1.61s, Embed=0.77s, Store=0.00s, Total=2.52s, Images/sec=4.76\n",
      "Estimated remaining time: 33.3 minutes\n"
     ]
    },
    {
     "name": "stderr",
     "output_type": "stream",
     "text": [
      "Processing train:  91%|█████████▏| 8370/9152 [00:52<33:31,  2.57s/it]"
     ]
    },
    {
     "name": "stdout",
     "output_type": "stream",
     "text": [
      "\n",
      "Batch 8370/9152: Load=1.52s, Embed=0.78s, Store=0.00s, Total=2.46s, Images/sec=4.89\n",
      "Estimated remaining time: 32.0 minutes\n"
     ]
    },
    {
     "name": "stderr",
     "output_type": "stream",
     "text": [
      "Processing train:  92%|█████████▏| 8380/9152 [01:18<33:22,  2.59s/it]"
     ]
    },
    {
     "name": "stdout",
     "output_type": "stream",
     "text": [
      "\n",
      "Batch 8380/9152: Load=1.63s, Embed=0.79s, Store=0.00s, Total=2.61s, Images/sec=4.59\n",
      "Estimated remaining time: 33.6 minutes\n"
     ]
    },
    {
     "name": "stderr",
     "output_type": "stream",
     "text": [
      "Processing train:  92%|█████████▏| 8390/9152 [01:44<33:40,  2.65s/it]"
     ]
    },
    {
     "name": "stdout",
     "output_type": "stream",
     "text": [
      "\n",
      "Batch 8390/9152: Load=1.66s, Embed=0.78s, Store=0.00s, Total=2.59s, Images/sec=4.63\n",
      "Estimated remaining time: 32.9 minutes\n"
     ]
    },
    {
     "name": "stderr",
     "output_type": "stream",
     "text": [
      "Processing train:  92%|█████████▏| 8400/9152 [02:32<1:50:31,  8.82s/it]"
     ]
    },
    {
     "name": "stdout",
     "output_type": "stream",
     "text": [
      "Saved intermediate results to /home/rmuthy2/Circle/intermediate_saves/train_r1_intermediate.parquet\n",
      "\n",
      "Batch 8400/9152: Load=1.71s, Embed=0.80s, Store=0.00s, Total=2.68s, Images/sec=4.48\n",
      "Estimated remaining time: 33.6 minutes\n"
     ]
    },
    {
     "name": "stderr",
     "output_type": "stream",
     "text": [
      "Processing train:  92%|█████████▏| 8410/9152 [02:58<34:27,  2.79s/it]  "
     ]
    },
    {
     "name": "stdout",
     "output_type": "stream",
     "text": [
      "\n",
      "Batch 8410/9152: Load=1.65s, Embed=0.79s, Store=0.00s, Total=2.62s, Images/sec=4.58\n",
      "Estimated remaining time: 32.4 minutes\n"
     ]
    },
    {
     "name": "stderr",
     "output_type": "stream",
     "text": [
      "Processing train:  92%|█████████▏| 8420/9152 [03:25<33:34,  2.75s/it]"
     ]
    },
    {
     "name": "stdout",
     "output_type": "stream",
     "text": [
      "\n",
      "Batch 8420/9152: Load=1.81s, Embed=0.80s, Store=0.00s, Total=2.77s, Images/sec=4.33\n",
      "Estimated remaining time: 33.8 minutes\n"
     ]
    },
    {
     "name": "stderr",
     "output_type": "stream",
     "text": [
      "Processing train:  92%|█████████▏| 8430/9152 [03:52<32:12,  2.68s/it]"
     ]
    },
    {
     "name": "stdout",
     "output_type": "stream",
     "text": [
      "\n",
      "Batch 8430/9152: Load=1.69s, Embed=0.79s, Store=0.00s, Total=2.65s, Images/sec=4.52\n",
      "Estimated remaining time: 31.9 minutes\n"
     ]
    },
    {
     "name": "stderr",
     "output_type": "stream",
     "text": [
      "Processing train:  92%|█████████▏| 8440/9152 [04:19<31:42,  2.67s/it]"
     ]
    },
    {
     "name": "stdout",
     "output_type": "stream",
     "text": [
      "\n",
      "Batch 8440/9152: Load=1.71s, Embed=0.79s, Store=0.00s, Total=2.67s, Images/sec=4.50\n",
      "Estimated remaining time: 31.6 minutes\n"
     ]
    },
    {
     "name": "stderr",
     "output_type": "stream",
     "text": [
      "Processing train:  92%|█████████▏| 8450/9152 [05:07<1:45:39,  9.03s/it]"
     ]
    },
    {
     "name": "stdout",
     "output_type": "stream",
     "text": [
      "Saved intermediate results to /home/rmuthy2/Circle/intermediate_saves/train_r1_intermediate.parquet\n",
      "\n",
      "Batch 8450/9152: Load=1.60s, Embed=0.81s, Store=0.00s, Total=2.58s, Images/sec=4.66\n",
      "Estimated remaining time: 30.1 minutes\n"
     ]
    },
    {
     "name": "stderr",
     "output_type": "stream",
     "text": [
      "Processing train:  92%|█████████▏| 8460/9152 [05:34<32:20,  2.80s/it]  "
     ]
    },
    {
     "name": "stdout",
     "output_type": "stream",
     "text": [
      "\n",
      "Batch 8460/9152: Load=1.56s, Embed=0.80s, Store=0.00s, Total=2.53s, Images/sec=4.75\n",
      "Estimated remaining time: 29.1 minutes\n"
     ]
    },
    {
     "name": "stderr",
     "output_type": "stream",
     "text": [
      "Processing train:  93%|█████████▎| 8470/9152 [06:01<31:12,  2.75s/it]"
     ]
    },
    {
     "name": "stdout",
     "output_type": "stream",
     "text": [
      "\n",
      "Batch 8470/9152: Load=1.79s, Embed=0.81s, Store=0.00s, Total=2.77s, Images/sec=4.33\n",
      "Estimated remaining time: 31.5 minutes\n"
     ]
    },
    {
     "name": "stderr",
     "output_type": "stream",
     "text": [
      "Processing train:  93%|█████████▎| 8480/9152 [06:28<30:07,  2.69s/it]"
     ]
    },
    {
     "name": "stdout",
     "output_type": "stream",
     "text": [
      "\n",
      "Batch 8480/9152: Load=1.65s, Embed=0.81s, Store=0.00s, Total=2.63s, Images/sec=4.57\n",
      "Estimated remaining time: 29.4 minutes\n"
     ]
    },
    {
     "name": "stderr",
     "output_type": "stream",
     "text": [
      "Processing train:  93%|█████████▎| 8490/9152 [06:55<30:18,  2.75s/it]"
     ]
    },
    {
     "name": "stdout",
     "output_type": "stream",
     "text": [
      "\n",
      "Batch 8490/9152: Load=1.79s, Embed=0.85s, Store=0.00s, Total=2.81s, Images/sec=4.26\n",
      "Estimated remaining time: 31.0 minutes\n"
     ]
    },
    {
     "name": "stderr",
     "output_type": "stream",
     "text": [
      "Processing train:  93%|█████████▎| 8500/9152 [07:43<1:38:53,  9.10s/it]"
     ]
    },
    {
     "name": "stdout",
     "output_type": "stream",
     "text": [
      "Saved intermediate results to /home/rmuthy2/Circle/intermediate_saves/train_r1_intermediate.parquet\n",
      "\n",
      "Batch 8500/9152: Load=1.72s, Embed=0.79s, Store=0.00s, Total=2.68s, Images/sec=4.49\n",
      "Estimated remaining time: 29.1 minutes\n"
     ]
    },
    {
     "name": "stderr",
     "output_type": "stream",
     "text": [
      "Processing train:  93%|█████████▎| 8510/9152 [08:10<30:20,  2.84s/it]  "
     ]
    },
    {
     "name": "stdout",
     "output_type": "stream",
     "text": [
      "\n",
      "Batch 8510/9152: Load=1.62s, Embed=0.81s, Store=0.00s, Total=2.61s, Images/sec=4.61\n",
      "Estimated remaining time: 27.9 minutes\n"
     ]
    },
    {
     "name": "stderr",
     "output_type": "stream",
     "text": [
      "Processing train:  93%|█████████▎| 8520/9152 [08:37<28:31,  2.71s/it]"
     ]
    },
    {
     "name": "stdout",
     "output_type": "stream",
     "text": [
      "\n",
      "Batch 8520/9152: Load=1.65s, Embed=0.80s, Store=0.00s, Total=2.63s, Images/sec=4.57\n",
      "Estimated remaining time: 27.7 minutes\n"
     ]
    },
    {
     "name": "stderr",
     "output_type": "stream",
     "text": [
      "Processing train:  93%|█████████▎| 8530/9152 [09:10<31:02,  3.00s/it]"
     ]
    },
    {
     "name": "stdout",
     "output_type": "stream",
     "text": [
      "\n",
      "Batch 8530/9152: Load=1.64s, Embed=0.78s, Store=0.00s, Total=2.61s, Images/sec=4.60\n",
      "Estimated remaining time: 27.0 minutes\n"
     ]
    },
    {
     "name": "stderr",
     "output_type": "stream",
     "text": [
      "Processing train:  93%|█████████▎| 8540/9152 [09:35<26:27,  2.59s/it]"
     ]
    },
    {
     "name": "stdout",
     "output_type": "stream",
     "text": [
      "\n",
      "Batch 8540/9152: Load=1.63s, Embed=0.76s, Store=0.00s, Total=2.64s, Images/sec=4.55\n",
      "Estimated remaining time: 26.9 minutes\n"
     ]
    },
    {
     "name": "stderr",
     "output_type": "stream",
     "text": [
      "Processing train:  93%|█████████▎| 8550/9152 [10:23<1:30:55,  9.06s/it]"
     ]
    },
    {
     "name": "stdout",
     "output_type": "stream",
     "text": [
      "Saved intermediate results to /home/rmuthy2/Circle/intermediate_saves/train_r1_intermediate.parquet\n",
      "\n",
      "Batch 8550/9152: Load=1.60s, Embed=0.82s, Store=0.00s, Total=2.63s, Images/sec=4.57\n",
      "Estimated remaining time: 26.4 minutes\n"
     ]
    },
    {
     "name": "stderr",
     "output_type": "stream",
     "text": [
      "Processing train:  94%|█████████▎| 8560/9152 [10:49<27:12,  2.76s/it]  "
     ]
    },
    {
     "name": "stdout",
     "output_type": "stream",
     "text": [
      "\n",
      "Batch 8560/9152: Load=1.58s, Embed=0.78s, Store=0.00s, Total=2.55s, Images/sec=4.71\n",
      "Estimated remaining time: 25.2 minutes\n"
     ]
    },
    {
     "name": "stderr",
     "output_type": "stream",
     "text": [
      "Processing train:  94%|█████████▎| 8570/9152 [11:14<24:57,  2.57s/it]"
     ]
    },
    {
     "name": "stdout",
     "output_type": "stream",
     "text": [
      "\n",
      "Batch 8570/9152: Load=1.60s, Embed=0.78s, Store=0.00s, Total=2.56s, Images/sec=4.68\n",
      "Estimated remaining time: 24.9 minutes\n"
     ]
    },
    {
     "name": "stderr",
     "output_type": "stream",
     "text": [
      "Processing train:  94%|█████████▍| 8580/9152 [11:46<34:49,  3.65s/it]"
     ]
    },
    {
     "name": "stdout",
     "output_type": "stream",
     "text": [
      "\n",
      "Batch 8580/9152: Load=2.12s, Embed=1.37s, Store=0.00s, Total=4.02s, Images/sec=2.99\n",
      "Estimated remaining time: 38.3 minutes\n"
     ]
    },
    {
     "name": "stderr",
     "output_type": "stream",
     "text": [
      "Processing train:  94%|█████████▍| 8590/9152 [12:13<24:49,  2.65s/it]"
     ]
    },
    {
     "name": "stdout",
     "output_type": "stream",
     "text": [
      "\n",
      "Batch 8590/9152: Load=1.64s, Embed=0.78s, Store=0.00s, Total=2.63s, Images/sec=4.56\n",
      "Estimated remaining time: 24.7 minutes\n"
     ]
    },
    {
     "name": "stderr",
     "output_type": "stream",
     "text": [
      "Processing train:  94%|█████████▍| 8600/9152 [13:02<1:27:09,  9.47s/it]"
     ]
    },
    {
     "name": "stdout",
     "output_type": "stream",
     "text": [
      "Saved intermediate results to /home/rmuthy2/Circle/intermediate_saves/train_r1_intermediate.parquet\n",
      "\n",
      "Batch 8600/9152: Load=1.61s, Embed=0.78s, Store=0.00s, Total=2.65s, Images/sec=4.52\n",
      "Estimated remaining time: 24.4 minutes\n"
     ]
    },
    {
     "name": "stderr",
     "output_type": "stream",
     "text": [
      "Processing train:  94%|█████████▍| 8610/9152 [13:28<25:33,  2.83s/it]  "
     ]
    },
    {
     "name": "stdout",
     "output_type": "stream",
     "text": [
      "\n",
      "Batch 8610/9152: Load=1.68s, Embed=0.78s, Store=0.00s, Total=2.66s, Images/sec=4.51\n",
      "Estimated remaining time: 24.1 minutes\n"
     ]
    },
    {
     "name": "stderr",
     "output_type": "stream",
     "text": [
      "Processing train:  94%|█████████▍| 8620/9152 [13:54<22:35,  2.55s/it]"
     ]
    },
    {
     "name": "stdout",
     "output_type": "stream",
     "text": [
      "\n",
      "Batch 8620/9152: Load=1.60s, Embed=0.78s, Store=0.00s, Total=2.58s, Images/sec=4.65\n",
      "Estimated remaining time: 22.9 minutes\n"
     ]
    },
    {
     "name": "stderr",
     "output_type": "stream",
     "text": [
      "Processing train:  94%|█████████▍| 8630/9152 [14:19<22:36,  2.60s/it]"
     ]
    },
    {
     "name": "stdout",
     "output_type": "stream",
     "text": [
      "\n",
      "Batch 8630/9152: Load=1.59s, Embed=0.80s, Store=0.00s, Total=2.60s, Images/sec=4.62\n",
      "Estimated remaining time: 22.6 minutes\n"
     ]
    },
    {
     "name": "stderr",
     "output_type": "stream",
     "text": [
      "Processing train:  94%|█████████▍| 8640/9152 [14:45<22:19,  2.62s/it]"
     ]
    },
    {
     "name": "stdout",
     "output_type": "stream",
     "text": [
      "\n",
      "Batch 8640/9152: Load=1.61s, Embed=0.78s, Store=0.00s, Total=2.61s, Images/sec=4.59\n",
      "Estimated remaining time: 22.3 minutes\n"
     ]
    },
    {
     "name": "stderr",
     "output_type": "stream",
     "text": [
      "Processing train:  95%|█████████▍| 8650/9152 [15:34<1:18:49,  9.42s/it]"
     ]
    },
    {
     "name": "stdout",
     "output_type": "stream",
     "text": [
      "Saved intermediate results to /home/rmuthy2/Circle/intermediate_saves/train_r1_intermediate.parquet\n",
      "\n",
      "Batch 8650/9152: Load=1.57s, Embed=0.77s, Store=0.00s, Total=2.55s, Images/sec=4.70\n",
      "Estimated remaining time: 21.4 minutes\n"
     ]
    },
    {
     "name": "stderr",
     "output_type": "stream",
     "text": [
      "Processing train:  95%|█████████▍| 8660/9152 [16:00<23:01,  2.81s/it]  "
     ]
    },
    {
     "name": "stdout",
     "output_type": "stream",
     "text": [
      "\n",
      "Batch 8660/9152: Load=1.71s, Embed=0.79s, Store=0.00s, Total=2.71s, Images/sec=4.43\n",
      "Estimated remaining time: 22.2 minutes\n"
     ]
    },
    {
     "name": "stderr",
     "output_type": "stream",
     "text": [
      "Processing train:  95%|█████████▍| 8670/9152 [16:28<22:10,  2.76s/it]"
     ]
    },
    {
     "name": "stdout",
     "output_type": "stream",
     "text": [
      "\n",
      "Batch 8670/9152: Load=1.61s, Embed=0.78s, Store=0.00s, Total=2.63s, Images/sec=4.56\n",
      "Estimated remaining time: 21.1 minutes\n"
     ]
    },
    {
     "name": "stderr",
     "output_type": "stream",
     "text": [
      "Processing train:  95%|█████████▍| 8680/9152 [16:55<21:51,  2.78s/it]"
     ]
    },
    {
     "name": "stdout",
     "output_type": "stream",
     "text": [
      "\n",
      "Batch 8680/9152: Load=1.75s, Embed=0.78s, Store=0.00s, Total=2.83s, Images/sec=4.24\n",
      "Estimated remaining time: 22.2 minutes\n"
     ]
    },
    {
     "name": "stderr",
     "output_type": "stream",
     "text": [
      "Processing train:  95%|█████████▍| 8690/9152 [17:22<21:07,  2.74s/it]"
     ]
    },
    {
     "name": "stdout",
     "output_type": "stream",
     "text": [
      "\n",
      "Batch 8690/9152: Load=1.74s, Embed=0.80s, Store=0.00s, Total=2.78s, Images/sec=4.32\n",
      "Estimated remaining time: 21.4 minutes\n"
     ]
    },
    {
     "name": "stderr",
     "output_type": "stream",
     "text": [
      "Processing train:  95%|█████████▌| 8700/9152 [18:13<1:13:51,  9.80s/it]"
     ]
    },
    {
     "name": "stdout",
     "output_type": "stream",
     "text": [
      "Saved intermediate results to /home/rmuthy2/Circle/intermediate_saves/train_r1_intermediate.parquet\n",
      "\n",
      "Batch 8700/9152: Load=1.75s, Embed=0.78s, Store=0.00s, Total=2.75s, Images/sec=4.36\n",
      "Estimated remaining time: 20.8 minutes\n"
     ]
    },
    {
     "name": "stderr",
     "output_type": "stream",
     "text": [
      "Processing train:  95%|█████████▌| 8710/9152 [18:41<21:38,  2.94s/it]  "
     ]
    },
    {
     "name": "stdout",
     "output_type": "stream",
     "text": [
      "\n",
      "Batch 8710/9152: Load=1.71s, Embed=0.79s, Store=0.00s, Total=2.73s, Images/sec=4.40\n",
      "Estimated remaining time: 20.1 minutes\n"
     ]
    },
    {
     "name": "stderr",
     "output_type": "stream",
     "text": [
      "Processing train:  95%|█████████▌| 8720/9152 [19:09<20:20,  2.82s/it]"
     ]
    },
    {
     "name": "stdout",
     "output_type": "stream",
     "text": [
      "\n",
      "Batch 8720/9152: Load=1.80s, Embed=0.80s, Store=0.00s, Total=2.84s, Images/sec=4.22\n",
      "Estimated remaining time: 20.5 minutes\n"
     ]
    },
    {
     "name": "stderr",
     "output_type": "stream",
     "text": [
      "Processing train:  95%|█████████▌| 8730/9152 [19:36<19:48,  2.82s/it]"
     ]
    },
    {
     "name": "stdout",
     "output_type": "stream",
     "text": [
      "\n",
      "Batch 8730/9152: Load=1.63s, Embed=0.78s, Store=0.00s, Total=2.74s, Images/sec=4.39\n",
      "Estimated remaining time: 19.2 minutes\n"
     ]
    },
    {
     "name": "stderr",
     "output_type": "stream",
     "text": [
      "Processing train:  95%|█████████▌| 8740/9152 [20:05<19:15,  2.80s/it]"
     ]
    },
    {
     "name": "stdout",
     "output_type": "stream",
     "text": [
      "\n",
      "Batch 8740/9152: Load=1.64s, Embed=0.80s, Store=0.00s, Total=2.74s, Images/sec=4.38\n",
      "Estimated remaining time: 18.8 minutes\n"
     ]
    },
    {
     "name": "stderr",
     "output_type": "stream",
     "text": [
      "Processing train:  96%|█████████▌| 8750/9152 [20:53<1:02:32,  9.33s/it]"
     ]
    },
    {
     "name": "stdout",
     "output_type": "stream",
     "text": [
      "Saved intermediate results to /home/rmuthy2/Circle/intermediate_saves/train_r1_intermediate.parquet\n",
      "\n",
      "Batch 8750/9152: Load=1.57s, Embed=0.77s, Store=0.00s, Total=2.65s, Images/sec=4.52\n",
      "Estimated remaining time: 17.8 minutes\n"
     ]
    },
    {
     "name": "stderr",
     "output_type": "stream",
     "text": [
      "Processing train:  96%|█████████▌| 8760/9152 [21:20<18:26,  2.82s/it]  "
     ]
    },
    {
     "name": "stdout",
     "output_type": "stream",
     "text": [
      "\n",
      "Batch 8760/9152: Load=1.55s, Embed=0.82s, Store=0.00s, Total=2.61s, Images/sec=4.60\n",
      "Estimated remaining time: 17.0 minutes\n"
     ]
    },
    {
     "name": "stderr",
     "output_type": "stream",
     "text": [
      "Processing train:  96%|█████████▌| 8770/9152 [21:46<16:55,  2.66s/it]"
     ]
    },
    {
     "name": "stdout",
     "output_type": "stream",
     "text": [
      "\n",
      "Batch 8770/9152: Load=1.63s, Embed=0.78s, Store=0.00s, Total=2.64s, Images/sec=4.54\n",
      "Estimated remaining time: 16.8 minutes\n"
     ]
    },
    {
     "name": "stderr",
     "output_type": "stream",
     "text": [
      "Processing train:  96%|█████████▌| 8780/9152 [22:13<16:20,  2.64s/it]"
     ]
    },
    {
     "name": "stdout",
     "output_type": "stream",
     "text": [
      "\n",
      "Batch 8780/9152: Load=1.59s, Embed=0.77s, Store=0.00s, Total=2.59s, Images/sec=4.63\n",
      "Estimated remaining time: 16.1 minutes\n"
     ]
    },
    {
     "name": "stderr",
     "output_type": "stream",
     "text": [
      "Processing train:  96%|█████████▌| 8790/9152 [22:40<16:17,  2.70s/it]"
     ]
    },
    {
     "name": "stdout",
     "output_type": "stream",
     "text": [
      "\n",
      "Batch 8790/9152: Load=1.55s, Embed=0.81s, Store=0.00s, Total=2.68s, Images/sec=4.48\n",
      "Estimated remaining time: 16.2 minutes\n"
     ]
    },
    {
     "name": "stderr",
     "output_type": "stream",
     "text": [
      "Processing train:  96%|█████████▌| 8800/9152 [23:29<55:17,  9.43s/it]"
     ]
    },
    {
     "name": "stdout",
     "output_type": "stream",
     "text": [
      "Saved intermediate results to /home/rmuthy2/Circle/intermediate_saves/train_r1_intermediate.parquet\n",
      "\n",
      "Batch 8800/9152: Load=1.54s, Embed=0.82s, Store=0.00s, Total=2.72s, Images/sec=4.41\n",
      "Estimated remaining time: 16.0 minutes\n"
     ]
    },
    {
     "name": "stderr",
     "output_type": "stream",
     "text": [
      "Processing train:  96%|█████████▋| 8810/9152 [23:57<16:09,  2.83s/it]"
     ]
    },
    {
     "name": "stdout",
     "output_type": "stream",
     "text": [
      "\n",
      "Batch 8810/9152: Load=1.49s, Embed=0.81s, Store=0.00s, Total=2.54s, Images/sec=4.73\n",
      "Estimated remaining time: 14.5 minutes\n"
     ]
    },
    {
     "name": "stderr",
     "output_type": "stream",
     "text": [
      "Processing train:  96%|█████████▋| 8820/9152 [24:23<14:20,  2.59s/it]"
     ]
    },
    {
     "name": "stdout",
     "output_type": "stream",
     "text": [
      "\n",
      "Batch 8820/9152: Load=1.62s, Embed=0.77s, Store=0.00s, Total=2.63s, Images/sec=4.56\n",
      "Estimated remaining time: 14.6 minutes\n"
     ]
    },
    {
     "name": "stderr",
     "output_type": "stream",
     "text": [
      "Processing train:  96%|█████████▋| 8830/9152 [24:49<14:13,  2.65s/it]"
     ]
    },
    {
     "name": "stdout",
     "output_type": "stream",
     "text": [
      "\n",
      "Batch 8830/9152: Load=1.59s, Embed=0.78s, Store=0.00s, Total=2.63s, Images/sec=4.57\n",
      "Estimated remaining time: 14.1 minutes\n"
     ]
    },
    {
     "name": "stderr",
     "output_type": "stream",
     "text": [
      "Processing train:  97%|█████████▋| 8840/9152 [25:16<13:59,  2.69s/it]"
     ]
    },
    {
     "name": "stdout",
     "output_type": "stream",
     "text": [
      "\n",
      "Batch 8840/9152: Load=1.71s, Embed=0.78s, Store=0.00s, Total=2.74s, Images/sec=4.37\n",
      "Estimated remaining time: 14.3 minutes\n"
     ]
    },
    {
     "name": "stderr",
     "output_type": "stream",
     "text": [
      "Processing train:  97%|█████████▋| 8850/9152 [26:07<50:21, 10.00s/it]"
     ]
    },
    {
     "name": "stdout",
     "output_type": "stream",
     "text": [
      "Saved intermediate results to /home/rmuthy2/Circle/intermediate_saves/train_r1_intermediate.parquet\n",
      "\n",
      "Batch 8850/9152: Load=1.65s, Embed=0.78s, Store=0.00s, Total=2.69s, Images/sec=4.46\n",
      "Estimated remaining time: 13.5 minutes\n"
     ]
    },
    {
     "name": "stderr",
     "output_type": "stream",
     "text": [
      "Processing train:  97%|█████████▋| 8860/9152 [26:33<13:55,  2.86s/it]"
     ]
    },
    {
     "name": "stdout",
     "output_type": "stream",
     "text": [
      "\n",
      "Batch 8860/9152: Load=1.58s, Embed=0.77s, Store=0.00s, Total=2.61s, Images/sec=4.60\n",
      "Estimated remaining time: 12.7 minutes\n"
     ]
    },
    {
     "name": "stderr",
     "output_type": "stream",
     "text": [
      "Processing train:  97%|█████████▋| 8870/9152 [26:59<12:16,  2.61s/it]"
     ]
    },
    {
     "name": "stdout",
     "output_type": "stream",
     "text": [
      "\n",
      "Batch 8870/9152: Load=1.55s, Embed=0.78s, Store=0.00s, Total=2.58s, Images/sec=4.65\n",
      "Estimated remaining time: 12.1 minutes\n"
     ]
    },
    {
     "name": "stderr",
     "output_type": "stream",
     "text": [
      "Processing train:  97%|█████████▋| 8880/9152 [27:26<12:08,  2.68s/it]"
     ]
    },
    {
     "name": "stdout",
     "output_type": "stream",
     "text": [
      "\n",
      "Batch 8880/9152: Load=1.67s, Embed=0.82s, Store=0.00s, Total=2.76s, Images/sec=4.35\n",
      "Estimated remaining time: 12.5 minutes\n"
     ]
    },
    {
     "name": "stderr",
     "output_type": "stream",
     "text": [
      "Processing train:  97%|█████████▋| 8890/9152 [27:54<12:03,  2.76s/it]"
     ]
    },
    {
     "name": "stdout",
     "output_type": "stream",
     "text": [
      "\n",
      "Batch 8890/9152: Load=1.62s, Embed=0.81s, Store=0.00s, Total=2.82s, Images/sec=4.26\n",
      "Estimated remaining time: 12.3 minutes\n"
     ]
    },
    {
     "name": "stderr",
     "output_type": "stream",
     "text": [
      "Processing train:  97%|█████████▋| 8900/9152 [28:45<41:53,  9.97s/it]"
     ]
    },
    {
     "name": "stdout",
     "output_type": "stream",
     "text": [
      "Saved intermediate results to /home/rmuthy2/Circle/intermediate_saves/train_r1_intermediate.parquet\n",
      "\n",
      "Batch 8900/9152: Load=1.62s, Embed=0.84s, Store=0.00s, Total=2.72s, Images/sec=4.41\n",
      "Estimated remaining time: 11.4 minutes\n"
     ]
    },
    {
     "name": "stderr",
     "output_type": "stream",
     "text": [
      "Processing train:  97%|█████████▋| 8910/9152 [29:13<12:00,  2.98s/it]"
     ]
    },
    {
     "name": "stdout",
     "output_type": "stream",
     "text": [
      "\n",
      "Batch 8910/9152: Load=1.77s, Embed=0.80s, Store=0.00s, Total=2.87s, Images/sec=4.18\n",
      "Estimated remaining time: 11.6 minutes\n"
     ]
    },
    {
     "name": "stderr",
     "output_type": "stream",
     "text": [
      "Processing train:  97%|█████████▋| 8920/9152 [29:41<10:47,  2.79s/it]"
     ]
    },
    {
     "name": "stdout",
     "output_type": "stream",
     "text": [
      "\n",
      "Batch 8920/9152: Load=1.74s, Embed=0.78s, Store=0.00s, Total=2.78s, Images/sec=4.32\n",
      "Estimated remaining time: 10.7 minutes\n"
     ]
    },
    {
     "name": "stderr",
     "output_type": "stream",
     "text": [
      "Processing train:  98%|█████████▊| 8930/9152 [30:08<10:16,  2.78s/it]"
     ]
    },
    {
     "name": "stdout",
     "output_type": "stream",
     "text": [
      "\n",
      "Batch 8930/9152: Load=1.70s, Embed=0.78s, Store=0.00s, Total=2.75s, Images/sec=4.37\n",
      "Estimated remaining time: 10.2 minutes\n"
     ]
    },
    {
     "name": "stderr",
     "output_type": "stream",
     "text": [
      "Processing train:  98%|█████████▊| 8940/9152 [30:36<09:50,  2.78s/it]"
     ]
    },
    {
     "name": "stdout",
     "output_type": "stream",
     "text": [
      "\n",
      "Batch 8940/9152: Load=1.82s, Embed=0.79s, Store=0.00s, Total=2.86s, Images/sec=4.20\n",
      "Estimated remaining time: 10.1 minutes\n"
     ]
    },
    {
     "name": "stderr",
     "output_type": "stream",
     "text": [
      "Processing train:  98%|█████████▊| 8950/9152 [31:26<31:18,  9.30s/it]"
     ]
    },
    {
     "name": "stdout",
     "output_type": "stream",
     "text": [
      "Saved intermediate results to /home/rmuthy2/Circle/intermediate_saves/train_r1_intermediate.parquet\n",
      "\n",
      "Batch 8950/9152: Load=1.67s, Embed=0.80s, Store=0.00s, Total=2.75s, Images/sec=4.37\n",
      "Estimated remaining time: 9.2 minutes\n"
     ]
    },
    {
     "name": "stderr",
     "output_type": "stream",
     "text": [
      "Processing train:  98%|█████████▊| 8960/9152 [31:54<09:41,  3.03s/it]"
     ]
    },
    {
     "name": "stdout",
     "output_type": "stream",
     "text": [
      "\n",
      "Batch 8960/9152: Load=1.71s, Embed=0.79s, Store=0.00s, Total=2.77s, Images/sec=4.33\n",
      "Estimated remaining time: 8.9 minutes\n"
     ]
    },
    {
     "name": "stderr",
     "output_type": "stream",
     "text": [
      "Processing train:  98%|█████████▊| 8970/9152 [32:22<08:29,  2.80s/it]"
     ]
    },
    {
     "name": "stdout",
     "output_type": "stream",
     "text": [
      "\n",
      "Batch 8970/9152: Load=1.72s, Embed=0.79s, Store=0.00s, Total=2.78s, Images/sec=4.32\n",
      "Estimated remaining time: 8.4 minutes\n"
     ]
    },
    {
     "name": "stderr",
     "output_type": "stream",
     "text": [
      "Processing train:  98%|█████████▊| 8980/9152 [32:49<07:38,  2.67s/it]"
     ]
    },
    {
     "name": "stdout",
     "output_type": "stream",
     "text": [
      "\n",
      "Batch 8980/9152: Load=1.60s, Embed=0.77s, Store=0.00s, Total=2.64s, Images/sec=4.54\n",
      "Estimated remaining time: 7.6 minutes\n"
     ]
    },
    {
     "name": "stderr",
     "output_type": "stream",
     "text": [
      "Processing train:  98%|█████████▊| 8990/9152 [33:15<07:06,  2.63s/it]"
     ]
    },
    {
     "name": "stdout",
     "output_type": "stream",
     "text": [
      "\n",
      "Batch 8990/9152: Load=1.68s, Embed=0.79s, Store=0.00s, Total=2.74s, Images/sec=4.38\n",
      "Estimated remaining time: 7.4 minutes\n"
     ]
    },
    {
     "name": "stderr",
     "output_type": "stream",
     "text": [
      "Processing train:  98%|█████████▊| 9000/9152 [34:05<24:33,  9.69s/it]"
     ]
    },
    {
     "name": "stdout",
     "output_type": "stream",
     "text": [
      "Saved intermediate results to /home/rmuthy2/Circle/intermediate_saves/train_r1_intermediate.parquet\n",
      "\n",
      "Batch 9000/9152: Load=1.64s, Embed=0.79s, Store=0.00s, Total=2.70s, Images/sec=4.45\n",
      "Estimated remaining time: 6.8 minutes\n"
     ]
    },
    {
     "name": "stderr",
     "output_type": "stream",
     "text": [
      "Processing train:  98%|█████████▊| 9010/9152 [34:32<06:51,  2.90s/it]"
     ]
    },
    {
     "name": "stdout",
     "output_type": "stream",
     "text": [
      "\n",
      "Batch 9010/9152: Load=1.69s, Embed=0.79s, Store=0.00s, Total=2.78s, Images/sec=4.32\n",
      "Estimated remaining time: 6.6 minutes\n"
     ]
    },
    {
     "name": "stderr",
     "output_type": "stream",
     "text": [
      "Processing train:  99%|█████████▊| 9020/9152 [34:59<05:48,  2.64s/it]"
     ]
    },
    {
     "name": "stdout",
     "output_type": "stream",
     "text": [
      "\n",
      "Batch 9020/9152: Load=1.52s, Embed=0.78s, Store=0.00s, Total=2.58s, Images/sec=4.64\n",
      "Estimated remaining time: 5.7 minutes\n"
     ]
    },
    {
     "name": "stderr",
     "output_type": "stream",
     "text": [
      "Processing train:  99%|█████████▊| 9030/9152 [35:25<05:15,  2.59s/it]"
     ]
    },
    {
     "name": "stdout",
     "output_type": "stream",
     "text": [
      "\n",
      "Batch 9030/9152: Load=1.44s, Embed=0.78s, Store=0.00s, Total=2.50s, Images/sec=4.80\n",
      "Estimated remaining time: 5.1 minutes\n"
     ]
    },
    {
     "name": "stderr",
     "output_type": "stream",
     "text": [
      "Processing train:  99%|█████████▉| 9040/9152 [35:52<05:01,  2.69s/it]"
     ]
    },
    {
     "name": "stdout",
     "output_type": "stream",
     "text": [
      "\n",
      "Batch 9040/9152: Load=1.67s, Embed=0.77s, Store=0.00s, Total=2.73s, Images/sec=4.39\n",
      "Estimated remaining time: 5.1 minutes\n"
     ]
    },
    {
     "name": "stderr",
     "output_type": "stream",
     "text": [
      "Processing train:  99%|█████████▉| 9050/9152 [36:43<16:53,  9.93s/it]"
     ]
    },
    {
     "name": "stdout",
     "output_type": "stream",
     "text": [
      "Saved intermediate results to /home/rmuthy2/Circle/intermediate_saves/train_r1_intermediate.parquet\n",
      "\n",
      "Batch 9050/9152: Load=1.60s, Embed=0.77s, Store=0.00s, Total=2.66s, Images/sec=4.50\n",
      "Estimated remaining time: 4.5 minutes\n"
     ]
    },
    {
     "name": "stderr",
     "output_type": "stream",
     "text": [
      "Processing train:  99%|█████████▉| 9060/9152 [37:10<04:19,  2.82s/it]"
     ]
    },
    {
     "name": "stdout",
     "output_type": "stream",
     "text": [
      "\n",
      "Batch 9060/9152: Load=1.54s, Embed=0.77s, Store=0.00s, Total=2.60s, Images/sec=4.61\n",
      "Estimated remaining time: 4.0 minutes\n"
     ]
    },
    {
     "name": "stderr",
     "output_type": "stream",
     "text": [
      "Processing train:  99%|█████████▉| 9070/9152 [37:36<03:37,  2.65s/it]"
     ]
    },
    {
     "name": "stdout",
     "output_type": "stream",
     "text": [
      "\n",
      "Batch 9070/9152: Load=1.56s, Embed=0.79s, Store=0.00s, Total=2.63s, Images/sec=4.55\n",
      "Estimated remaining time: 3.6 minutes\n"
     ]
    },
    {
     "name": "stderr",
     "output_type": "stream",
     "text": [
      "Processing train:  99%|█████████▉| 9080/9152 [38:04<03:16,  2.72s/it]"
     ]
    },
    {
     "name": "stdout",
     "output_type": "stream",
     "text": [
      "\n",
      "Batch 9080/9152: Load=1.56s, Embed=0.79s, Store=0.00s, Total=2.68s, Images/sec=4.48\n",
      "Estimated remaining time: 3.2 minutes\n"
     ]
    },
    {
     "name": "stderr",
     "output_type": "stream",
     "text": [
      "Processing train:  99%|█████████▉| 9090/9152 [38:30<02:45,  2.66s/it]"
     ]
    },
    {
     "name": "stdout",
     "output_type": "stream",
     "text": [
      "\n",
      "Batch 9090/9152: Load=1.61s, Embed=0.78s, Store=0.00s, Total=2.68s, Images/sec=4.47\n",
      "Estimated remaining time: 2.8 minutes\n"
     ]
    },
    {
     "name": "stderr",
     "output_type": "stream",
     "text": [
      "Processing train:  99%|█████████▉| 9100/9152 [39:22<08:41, 10.02s/it]"
     ]
    },
    {
     "name": "stdout",
     "output_type": "stream",
     "text": [
      "Saved intermediate results to /home/rmuthy2/Circle/intermediate_saves/train_r1_intermediate.parquet\n",
      "\n",
      "Batch 9100/9152: Load=1.64s, Embed=0.82s, Store=0.00s, Total=2.76s, Images/sec=4.34\n",
      "Estimated remaining time: 2.4 minutes\n"
     ]
    },
    {
     "name": "stderr",
     "output_type": "stream",
     "text": [
      "Processing train: 100%|█████████▉| 9110/9152 [39:49<02:00,  2.87s/it]"
     ]
    },
    {
     "name": "stdout",
     "output_type": "stream",
     "text": [
      "\n",
      "Batch 9110/9152: Load=1.52s, Embed=0.79s, Store=0.00s, Total=2.61s, Images/sec=4.59\n",
      "Estimated remaining time: 1.8 minutes\n"
     ]
    },
    {
     "name": "stderr",
     "output_type": "stream",
     "text": [
      "Processing train: 100%|█████████▉| 9120/9152 [40:16<01:27,  2.74s/it]"
     ]
    },
    {
     "name": "stdout",
     "output_type": "stream",
     "text": [
      "\n",
      "Batch 9120/9152: Load=1.77s, Embed=0.78s, Store=0.00s, Total=2.84s, Images/sec=4.22\n",
      "Estimated remaining time: 1.5 minutes\n"
     ]
    },
    {
     "name": "stderr",
     "output_type": "stream",
     "text": [
      "Processing train: 100%|█████████▉| 9130/9152 [40:44<01:02,  2.82s/it]"
     ]
    },
    {
     "name": "stdout",
     "output_type": "stream",
     "text": [
      "\n",
      "Batch 9130/9152: Load=1.75s, Embed=0.79s, Store=0.00s, Total=2.85s, Images/sec=4.22\n",
      "Estimated remaining time: 1.0 minutes\n"
     ]
    },
    {
     "name": "stderr",
     "output_type": "stream",
     "text": [
      "Processing train: 100%|█████████▉| 9140/9152 [41:11<00:32,  2.73s/it]"
     ]
    },
    {
     "name": "stdout",
     "output_type": "stream",
     "text": [
      "\n",
      "Batch 9140/9152: Load=1.62s, Embed=0.78s, Store=0.00s, Total=2.73s, Images/sec=4.39\n",
      "Estimated remaining time: 0.5 minutes\n"
     ]
    },
    {
     "name": "stderr",
     "output_type": "stream",
     "text": [
      "Processing train: 100%|█████████▉| 9150/9152 [42:05<00:21, 10.71s/it]"
     ]
    },
    {
     "name": "stdout",
     "output_type": "stream",
     "text": [
      "Saved intermediate results to /home/rmuthy2/Circle/intermediate_saves/train_r1_intermediate.parquet\n",
      "\n",
      "Batch 9150/9152: Load=1.63s, Embed=0.77s, Store=0.00s, Total=2.72s, Images/sec=4.41\n",
      "Estimated remaining time: 0.1 minutes\n"
     ]
    },
    {
     "name": "stderr",
     "output_type": "stream",
     "text": [
      "Processing train: 100%|██████████| 9152/9152 [42:37<00:00,  3.19s/it]"
     ]
    },
    {
     "name": "stdout",
     "output_type": "stream",
     "text": [
      "Saved intermediate results to /home/rmuthy2/Circle/intermediate_saves/train_r1_intermediate.parquet\n",
      "\n",
      "Batch 9152/9152: Load=1.62s, Embed=0.83s, Store=0.00s, Total=2.76s, Images/sec=4.34\n"
     ]
    },
    {
     "name": "stderr",
     "output_type": "stream",
     "text": [
      "\n"
     ]
    },
    {
     "name": "stdout",
     "output_type": "stream",
     "text": [
      "Saved: /home/rmuthy2/Circle/EmbeddingsOut/raddino-train-r1.parquet\n",
      "Saved: /home/rmuthy2/Circle/EmbeddingsOut/dinov3-train-r1.parquet\n",
      "\n",
      "Processing test dataset for radius 1...\n",
      "\n",
      "Extracting embeddings for test (radius=1) in batches of 12...\n"
     ]
    },
    {
     "name": "stderr",
     "output_type": "stream",
     "text": [
      "Processing test:   0%|          | 10/2288 [00:30<2:07:12,  3.35s/it]"
     ]
    },
    {
     "name": "stdout",
     "output_type": "stream",
     "text": [
      "\n",
      "Batch 10/2288: Load=4.01s, Embed=0.79s, Store=0.00s, Total=4.94s, Images/sec=2.43\n",
      "Estimated remaining time: 187.7 minutes\n"
     ]
    },
    {
     "name": "stderr",
     "output_type": "stream",
     "text": [
      "Processing test:   1%|          | 20/2288 [00:57<1:41:22,  2.68s/it]"
     ]
    },
    {
     "name": "stdout",
     "output_type": "stream",
     "text": [
      "\n",
      "Batch 20/2288: Load=1.78s, Embed=0.79s, Store=0.00s, Total=2.71s, Images/sec=4.43\n",
      "Estimated remaining time: 102.4 minutes\n"
     ]
    },
    {
     "name": "stderr",
     "output_type": "stream",
     "text": [
      "Processing test:   1%|▏         | 30/2288 [01:23<1:39:23,  2.64s/it]"
     ]
    },
    {
     "name": "stdout",
     "output_type": "stream",
     "text": [
      "\n",
      "Batch 30/2288: Load=1.72s, Embed=0.78s, Store=0.00s, Total=2.64s, Images/sec=4.54\n",
      "Estimated remaining time: 99.5 minutes\n"
     ]
    },
    {
     "name": "stderr",
     "output_type": "stream",
     "text": [
      "Processing test:   2%|▏         | 40/2288 [01:50<1:38:04,  2.62s/it]"
     ]
    },
    {
     "name": "stdout",
     "output_type": "stream",
     "text": [
      "\n",
      "Batch 40/2288: Load=1.66s, Embed=0.77s, Store=0.00s, Total=2.59s, Images/sec=4.64\n",
      "Estimated remaining time: 96.9 minutes\n"
     ]
    },
    {
     "name": "stderr",
     "output_type": "stream",
     "text": [
      "Processing test:   2%|▏         | 50/2288 [02:16<1:42:13,  2.74s/it]"
     ]
    },
    {
     "name": "stdout",
     "output_type": "stream",
     "text": [
      "Saved intermediate results to /home/rmuthy2/Circle/intermediate_saves/test_r1_intermediate.parquet\n",
      "\n",
      "Batch 50/2288: Load=1.73s, Embed=0.77s, Store=0.00s, Total=2.66s, Images/sec=4.51\n",
      "Estimated remaining time: 99.2 minutes\n"
     ]
    },
    {
     "name": "stderr",
     "output_type": "stream",
     "text": [
      "Processing test:   3%|▎         | 60/2288 [02:42<1:36:02,  2.59s/it]"
     ]
    },
    {
     "name": "stdout",
     "output_type": "stream",
     "text": [
      "\n",
      "Batch 60/2288: Load=1.49s, Embed=0.78s, Store=0.00s, Total=2.43s, Images/sec=4.94\n",
      "Estimated remaining time: 90.2 minutes\n"
     ]
    },
    {
     "name": "stderr",
     "output_type": "stream",
     "text": [
      "Processing test:   3%|▎         | 70/2288 [03:09<1:38:39,  2.67s/it]"
     ]
    },
    {
     "name": "stdout",
     "output_type": "stream",
     "text": [
      "\n",
      "Batch 70/2288: Load=1.88s, Embed=0.78s, Store=0.00s, Total=2.83s, Images/sec=4.25\n",
      "Estimated remaining time: 104.5 minutes\n"
     ]
    },
    {
     "name": "stderr",
     "output_type": "stream",
     "text": [
      "Processing test:   3%|▎         | 80/2288 [03:36<1:38:29,  2.68s/it]"
     ]
    },
    {
     "name": "stdout",
     "output_type": "stream",
     "text": [
      "\n",
      "Batch 80/2288: Load=1.75s, Embed=0.78s, Store=0.00s, Total=2.70s, Images/sec=4.44\n",
      "Estimated remaining time: 99.4 minutes\n"
     ]
    },
    {
     "name": "stderr",
     "output_type": "stream",
     "text": [
      "Processing test:   4%|▍         | 90/2288 [04:02<1:35:51,  2.62s/it]"
     ]
    },
    {
     "name": "stdout",
     "output_type": "stream",
     "text": [
      "\n",
      "Batch 90/2288: Load=1.66s, Embed=0.77s, Store=0.00s, Total=2.59s, Images/sec=4.63\n",
      "Estimated remaining time: 94.9 minutes\n"
     ]
    },
    {
     "name": "stderr",
     "output_type": "stream",
     "text": [
      "Processing test:   4%|▍         | 100/2288 [04:29<1:40:24,  2.75s/it]"
     ]
    },
    {
     "name": "stdout",
     "output_type": "stream",
     "text": [
      "Saved intermediate results to /home/rmuthy2/Circle/intermediate_saves/test_r1_intermediate.parquet\n",
      "\n",
      "Batch 100/2288: Load=1.72s, Embed=0.78s, Store=0.00s, Total=2.67s, Images/sec=4.49\n",
      "Estimated remaining time: 97.5 minutes\n"
     ]
    },
    {
     "name": "stderr",
     "output_type": "stream",
     "text": [
      "Processing test:   5%|▍         | 110/2288 [04:55<1:35:51,  2.64s/it]"
     ]
    },
    {
     "name": "stdout",
     "output_type": "stream",
     "text": [
      "\n",
      "Batch 110/2288: Load=1.74s, Embed=0.77s, Store=0.00s, Total=2.69s, Images/sec=4.45\n",
      "Estimated remaining time: 97.8 minutes\n"
     ]
    },
    {
     "name": "stderr",
     "output_type": "stream",
     "text": [
      "Processing test:   5%|▌         | 120/2288 [05:21<1:33:52,  2.60s/it]"
     ]
    },
    {
     "name": "stdout",
     "output_type": "stream",
     "text": [
      "\n",
      "Batch 120/2288: Load=1.66s, Embed=0.77s, Store=0.00s, Total=2.61s, Images/sec=4.59\n",
      "Estimated remaining time: 94.5 minutes\n"
     ]
    },
    {
     "name": "stderr",
     "output_type": "stream",
     "text": [
      "Processing test:   6%|▌         | 130/2288 [05:47<1:33:33,  2.60s/it]"
     ]
    },
    {
     "name": "stdout",
     "output_type": "stream",
     "text": [
      "\n",
      "Batch 130/2288: Load=1.64s, Embed=0.78s, Store=0.00s, Total=2.59s, Images/sec=4.64\n",
      "Estimated remaining time: 93.1 minutes\n"
     ]
    },
    {
     "name": "stderr",
     "output_type": "stream",
     "text": [
      "Processing test:   6%|▌         | 140/2288 [06:14<1:36:13,  2.69s/it]"
     ]
    },
    {
     "name": "stdout",
     "output_type": "stream",
     "text": [
      "\n",
      "Batch 140/2288: Load=1.86s, Embed=0.78s, Store=0.00s, Total=2.81s, Images/sec=4.27\n",
      "Estimated remaining time: 100.7 minutes\n"
     ]
    },
    {
     "name": "stderr",
     "output_type": "stream",
     "text": [
      "Processing test:   7%|▋         | 150/2288 [06:41<1:46:39,  2.99s/it]"
     ]
    },
    {
     "name": "stdout",
     "output_type": "stream",
     "text": [
      "Saved intermediate results to /home/rmuthy2/Circle/intermediate_saves/test_r1_intermediate.parquet\n",
      "\n",
      "Batch 150/2288: Load=1.73s, Embed=0.77s, Store=0.00s, Total=2.68s, Images/sec=4.48\n",
      "Estimated remaining time: 95.5 minutes\n"
     ]
    },
    {
     "name": "stderr",
     "output_type": "stream",
     "text": [
      "Processing test:   7%|▋         | 160/2288 [07:08<1:33:37,  2.64s/it]"
     ]
    },
    {
     "name": "stdout",
     "output_type": "stream",
     "text": [
      "\n",
      "Batch 160/2288: Load=1.70s, Embed=0.78s, Store=0.00s, Total=2.67s, Images/sec=4.50\n",
      "Estimated remaining time: 94.5 minutes\n"
     ]
    },
    {
     "name": "stderr",
     "output_type": "stream",
     "text": [
      "Processing test:   7%|▋         | 170/2288 [07:35<1:35:13,  2.70s/it]"
     ]
    },
    {
     "name": "stdout",
     "output_type": "stream",
     "text": [
      "\n",
      "Batch 170/2288: Load=1.70s, Embed=0.76s, Store=0.00s, Total=2.65s, Images/sec=4.53\n",
      "Estimated remaining time: 93.5 minutes\n"
     ]
    },
    {
     "name": "stderr",
     "output_type": "stream",
     "text": [
      "Processing test:   8%|▊         | 180/2288 [08:01<1:32:43,  2.64s/it]"
     ]
    },
    {
     "name": "stdout",
     "output_type": "stream",
     "text": [
      "\n",
      "Batch 180/2288: Load=1.64s, Embed=0.77s, Store=0.00s, Total=2.59s, Images/sec=4.62\n",
      "Estimated remaining time: 91.2 minutes\n"
     ]
    },
    {
     "name": "stderr",
     "output_type": "stream",
     "text": [
      "Processing test:   8%|▊         | 190/2288 [08:27<1:31:10,  2.61s/it]"
     ]
    },
    {
     "name": "stdout",
     "output_type": "stream",
     "text": [
      "\n",
      "Batch 190/2288: Load=1.62s, Embed=0.77s, Store=0.00s, Total=2.58s, Images/sec=4.65\n",
      "Estimated remaining time: 90.3 minutes\n"
     ]
    },
    {
     "name": "stderr",
     "output_type": "stream",
     "text": [
      "Processing test:   9%|▊         | 200/2288 [08:54<1:40:01,  2.87s/it]"
     ]
    },
    {
     "name": "stdout",
     "output_type": "stream",
     "text": [
      "Saved intermediate results to /home/rmuthy2/Circle/intermediate_saves/test_r1_intermediate.parquet\n",
      "\n",
      "Batch 200/2288: Load=1.68s, Embed=0.80s, Store=0.00s, Total=2.66s, Images/sec=4.51\n",
      "Estimated remaining time: 92.7 minutes\n"
     ]
    },
    {
     "name": "stderr",
     "output_type": "stream",
     "text": [
      "Processing test:   9%|▉         | 210/2288 [09:21<1:33:35,  2.70s/it]"
     ]
    },
    {
     "name": "stdout",
     "output_type": "stream",
     "text": [
      "\n",
      "Batch 210/2288: Load=1.73s, Embed=0.79s, Store=0.00s, Total=2.72s, Images/sec=4.41\n",
      "Estimated remaining time: 94.3 minutes\n"
     ]
    },
    {
     "name": "stderr",
     "output_type": "stream",
     "text": [
      "Processing test:  10%|▉         | 220/2288 [09:48<1:34:33,  2.74s/it]"
     ]
    },
    {
     "name": "stdout",
     "output_type": "stream",
     "text": [
      "\n",
      "Batch 220/2288: Load=1.78s, Embed=0.78s, Store=0.00s, Total=2.75s, Images/sec=4.36\n",
      "Estimated remaining time: 94.9 minutes\n"
     ]
    },
    {
     "name": "stderr",
     "output_type": "stream",
     "text": [
      "Processing test:  10%|█         | 230/2288 [10:17<1:35:30,  2.78s/it]"
     ]
    },
    {
     "name": "stdout",
     "output_type": "stream",
     "text": [
      "\n",
      "Batch 230/2288: Load=1.74s, Embed=0.78s, Store=0.00s, Total=2.73s, Images/sec=4.40\n",
      "Estimated remaining time: 93.5 minutes\n"
     ]
    },
    {
     "name": "stderr",
     "output_type": "stream",
     "text": [
      "Processing test:  10%|█         | 240/2288 [10:43<1:30:31,  2.65s/it]"
     ]
    },
    {
     "name": "stdout",
     "output_type": "stream",
     "text": [
      "\n",
      "Batch 240/2288: Load=1.73s, Embed=0.77s, Store=0.00s, Total=2.72s, Images/sec=4.42\n",
      "Estimated remaining time: 92.7 minutes\n"
     ]
    },
    {
     "name": "stderr",
     "output_type": "stream",
     "text": [
      "Processing test:  11%|█         | 250/2288 [11:11<1:42:52,  3.03s/it]"
     ]
    },
    {
     "name": "stdout",
     "output_type": "stream",
     "text": [
      "Saved intermediate results to /home/rmuthy2/Circle/intermediate_saves/test_r1_intermediate.parquet\n",
      "\n",
      "Batch 250/2288: Load=1.75s, Embed=0.80s, Store=0.00s, Total=2.80s, Images/sec=4.28\n",
      "Estimated remaining time: 95.2 minutes\n"
     ]
    },
    {
     "name": "stderr",
     "output_type": "stream",
     "text": [
      "Processing test:  11%|█▏        | 260/2288 [11:38<1:31:28,  2.71s/it]"
     ]
    },
    {
     "name": "stdout",
     "output_type": "stream",
     "text": [
      "\n",
      "Batch 260/2288: Load=1.78s, Embed=0.77s, Store=0.00s, Total=2.76s, Images/sec=4.34\n",
      "Estimated remaining time: 93.4 minutes\n"
     ]
    },
    {
     "name": "stderr",
     "output_type": "stream",
     "text": [
      "Processing test:  12%|█▏        | 270/2288 [12:05<1:30:55,  2.70s/it]"
     ]
    },
    {
     "name": "stdout",
     "output_type": "stream",
     "text": [
      "\n",
      "Batch 270/2288: Load=1.73s, Embed=0.79s, Store=0.00s, Total=2.73s, Images/sec=4.40\n",
      "Estimated remaining time: 91.7 minutes\n"
     ]
    },
    {
     "name": "stderr",
     "output_type": "stream",
     "text": [
      "Processing test:  12%|█▏        | 280/2288 [12:31<1:29:20,  2.67s/it]"
     ]
    },
    {
     "name": "stdout",
     "output_type": "stream",
     "text": [
      "\n",
      "Batch 280/2288: Load=1.66s, Embed=0.77s, Store=0.00s, Total=2.67s, Images/sec=4.50\n",
      "Estimated remaining time: 89.3 minutes\n"
     ]
    },
    {
     "name": "stderr",
     "output_type": "stream",
     "text": [
      "Processing test:  13%|█▎        | 290/2288 [12:58<1:29:07,  2.68s/it]"
     ]
    },
    {
     "name": "stdout",
     "output_type": "stream",
     "text": [
      "\n",
      "Batch 290/2288: Load=1.73s, Embed=0.78s, Store=0.00s, Total=2.72s, Images/sec=4.41\n",
      "Estimated remaining time: 90.6 minutes\n"
     ]
    },
    {
     "name": "stderr",
     "output_type": "stream",
     "text": [
      "Processing test:  13%|█▎        | 300/2288 [13:26<1:42:18,  3.09s/it]"
     ]
    },
    {
     "name": "stdout",
     "output_type": "stream",
     "text": [
      "Saved intermediate results to /home/rmuthy2/Circle/intermediate_saves/test_r1_intermediate.parquet\n",
      "\n",
      "Batch 300/2288: Load=1.76s, Embed=0.78s, Store=0.00s, Total=2.76s, Images/sec=4.35\n",
      "Estimated remaining time: 91.3 minutes\n"
     ]
    },
    {
     "name": "stderr",
     "output_type": "stream",
     "text": [
      "Processing test:  14%|█▎        | 310/2288 [13:53<1:29:16,  2.71s/it]"
     ]
    },
    {
     "name": "stdout",
     "output_type": "stream",
     "text": [
      "\n",
      "Batch 310/2288: Load=1.79s, Embed=0.77s, Store=0.00s, Total=2.77s, Images/sec=4.33\n",
      "Estimated remaining time: 91.3 minutes\n"
     ]
    },
    {
     "name": "stderr",
     "output_type": "stream",
     "text": [
      "Processing test:  14%|█▍        | 320/2288 [14:21<1:30:09,  2.75s/it]"
     ]
    },
    {
     "name": "stdout",
     "output_type": "stream",
     "text": [
      "\n",
      "Batch 320/2288: Load=1.77s, Embed=0.78s, Store=0.00s, Total=2.77s, Images/sec=4.33\n",
      "Estimated remaining time: 90.9 minutes\n"
     ]
    },
    {
     "name": "stderr",
     "output_type": "stream",
     "text": [
      "Processing test:  14%|█▍        | 330/2288 [14:48<1:31:27,  2.80s/it]"
     ]
    },
    {
     "name": "stdout",
     "output_type": "stream",
     "text": [
      "\n",
      "Batch 330/2288: Load=1.78s, Embed=0.80s, Store=0.00s, Total=2.81s, Images/sec=4.27\n",
      "Estimated remaining time: 91.7 minutes\n"
     ]
    },
    {
     "name": "stderr",
     "output_type": "stream",
     "text": [
      "Processing test:  15%|█▍        | 340/2288 [15:15<1:27:49,  2.70s/it]"
     ]
    },
    {
     "name": "stdout",
     "output_type": "stream",
     "text": [
      "\n",
      "Batch 340/2288: Load=1.77s, Embed=0.77s, Store=0.00s, Total=2.76s, Images/sec=4.35\n",
      "Estimated remaining time: 89.6 minutes\n"
     ]
    },
    {
     "name": "stderr",
     "output_type": "stream",
     "text": [
      "Processing test:  15%|█▌        | 350/2288 [15:44<1:39:35,  3.08s/it]"
     ]
    },
    {
     "name": "stdout",
     "output_type": "stream",
     "text": [
      "Saved intermediate results to /home/rmuthy2/Circle/intermediate_saves/test_r1_intermediate.parquet\n",
      "\n",
      "Batch 350/2288: Load=1.66s, Embed=0.77s, Store=0.00s, Total=2.66s, Images/sec=4.52\n",
      "Estimated remaining time: 85.8 minutes\n"
     ]
    },
    {
     "name": "stderr",
     "output_type": "stream",
     "text": [
      "Processing test:  16%|█▌        | 360/2288 [16:11<1:27:31,  2.72s/it]"
     ]
    },
    {
     "name": "stdout",
     "output_type": "stream",
     "text": [
      "\n",
      "Batch 360/2288: Load=1.71s, Embed=0.77s, Store=0.00s, Total=2.70s, Images/sec=4.44\n",
      "Estimated remaining time: 86.9 minutes\n"
     ]
    },
    {
     "name": "stderr",
     "output_type": "stream",
     "text": [
      "Processing test:  16%|█▌        | 370/2288 [16:38<1:26:15,  2.70s/it]"
     ]
    },
    {
     "name": "stdout",
     "output_type": "stream",
     "text": [
      "\n",
      "Batch 370/2288: Load=1.69s, Embed=0.78s, Store=0.00s, Total=2.70s, Images/sec=4.44\n",
      "Estimated remaining time: 86.4 minutes\n"
     ]
    },
    {
     "name": "stderr",
     "output_type": "stream",
     "text": [
      "Processing test:  17%|█▋        | 380/2288 [17:06<1:27:58,  2.77s/it]"
     ]
    },
    {
     "name": "stdout",
     "output_type": "stream",
     "text": [
      "\n",
      "Batch 380/2288: Load=1.73s, Embed=0.78s, Store=0.00s, Total=2.74s, Images/sec=4.39\n",
      "Estimated remaining time: 87.0 minutes\n"
     ]
    },
    {
     "name": "stderr",
     "output_type": "stream",
     "text": [
      "Processing test:  17%|█▋        | 390/2288 [17:33<1:24:54,  2.68s/it]"
     ]
    },
    {
     "name": "stdout",
     "output_type": "stream",
     "text": [
      "\n",
      "Batch 390/2288: Load=1.62s, Embed=0.77s, Store=0.00s, Total=2.63s, Images/sec=4.56\n",
      "Estimated remaining time: 83.2 minutes\n"
     ]
    },
    {
     "name": "stderr",
     "output_type": "stream",
     "text": [
      "Processing test:  17%|█▋        | 400/2288 [18:02<1:40:48,  3.20s/it]"
     ]
    },
    {
     "name": "stdout",
     "output_type": "stream",
     "text": [
      "Saved intermediate results to /home/rmuthy2/Circle/intermediate_saves/test_r1_intermediate.parquet\n",
      "\n",
      "Batch 400/2288: Load=1.75s, Embed=0.82s, Store=0.00s, Total=2.82s, Images/sec=4.26\n",
      "Estimated remaining time: 88.6 minutes\n"
     ]
    },
    {
     "name": "stderr",
     "output_type": "stream",
     "text": [
      "Processing test:  18%|█▊        | 410/2288 [18:29<1:25:15,  2.72s/it]"
     ]
    },
    {
     "name": "stdout",
     "output_type": "stream",
     "text": [
      "\n",
      "Batch 410/2288: Load=1.69s, Embed=0.77s, Store=0.00s, Total=2.70s, Images/sec=4.44\n",
      "Estimated remaining time: 84.5 minutes\n"
     ]
    },
    {
     "name": "stderr",
     "output_type": "stream",
     "text": [
      "Processing test:  18%|█▊        | 420/2288 [18:56<1:24:41,  2.72s/it]"
     ]
    },
    {
     "name": "stdout",
     "output_type": "stream",
     "text": [
      "\n",
      "Batch 420/2288: Load=1.64s, Embed=0.78s, Store=0.00s, Total=2.66s, Images/sec=4.50\n",
      "Estimated remaining time: 83.0 minutes\n"
     ]
    },
    {
     "name": "stderr",
     "output_type": "stream",
     "text": [
      "Processing test:  19%|█▉        | 430/2288 [19:23<1:24:56,  2.74s/it]"
     ]
    },
    {
     "name": "stdout",
     "output_type": "stream",
     "text": [
      "\n",
      "Batch 430/2288: Load=1.67s, Embed=0.79s, Store=0.00s, Total=2.70s, Images/sec=4.44\n",
      "Estimated remaining time: 83.7 minutes\n"
     ]
    },
    {
     "name": "stderr",
     "output_type": "stream",
     "text": [
      "Processing test:  19%|█▉        | 440/2288 [19:51<1:26:14,  2.80s/it]"
     ]
    },
    {
     "name": "stdout",
     "output_type": "stream",
     "text": [
      "\n",
      "Batch 440/2288: Load=1.90s, Embed=0.79s, Store=0.00s, Total=2.92s, Images/sec=4.11\n",
      "Estimated remaining time: 90.0 minutes\n"
     ]
    },
    {
     "name": "stderr",
     "output_type": "stream",
     "text": [
      "Processing test:  20%|█▉        | 450/2288 [20:21<1:47:14,  3.50s/it]"
     ]
    },
    {
     "name": "stdout",
     "output_type": "stream",
     "text": [
      "Saved intermediate results to /home/rmuthy2/Circle/intermediate_saves/test_r1_intermediate.parquet\n",
      "\n",
      "Batch 450/2288: Load=2.50s, Embed=0.78s, Store=0.00s, Total=3.53s, Images/sec=3.40\n",
      "Estimated remaining time: 108.0 minutes\n"
     ]
    },
    {
     "name": "stderr",
     "output_type": "stream",
     "text": [
      "Processing test:  20%|██        | 460/2288 [20:48<1:23:55,  2.75s/it]"
     ]
    },
    {
     "name": "stdout",
     "output_type": "stream",
     "text": [
      "\n",
      "Batch 460/2288: Load=1.68s, Embed=0.80s, Store=0.00s, Total=2.75s, Images/sec=4.37\n",
      "Estimated remaining time: 83.7 minutes\n"
     ]
    },
    {
     "name": "stderr",
     "output_type": "stream",
     "text": [
      "Processing test:  21%|██        | 470/2288 [21:16<1:24:59,  2.81s/it]"
     ]
    },
    {
     "name": "stdout",
     "output_type": "stream",
     "text": [
      "\n",
      "Batch 470/2288: Load=1.86s, Embed=0.79s, Store=0.00s, Total=2.93s, Images/sec=4.09\n",
      "Estimated remaining time: 88.8 minutes\n"
     ]
    },
    {
     "name": "stderr",
     "output_type": "stream",
     "text": [
      "Processing test:  21%|██        | 480/2288 [21:43<1:21:44,  2.71s/it]"
     ]
    },
    {
     "name": "stdout",
     "output_type": "stream",
     "text": [
      "\n",
      "Batch 480/2288: Load=1.60s, Embed=0.80s, Store=0.00s, Total=2.65s, Images/sec=4.53\n",
      "Estimated remaining time: 79.8 minutes\n"
     ]
    },
    {
     "name": "stderr",
     "output_type": "stream",
     "text": [
      "Processing test:  21%|██▏       | 490/2288 [22:11<1:22:37,  2.76s/it]"
     ]
    },
    {
     "name": "stdout",
     "output_type": "stream",
     "text": [
      "\n",
      "Batch 490/2288: Load=1.65s, Embed=0.79s, Store=0.00s, Total=2.69s, Images/sec=4.47\n",
      "Estimated remaining time: 80.5 minutes\n"
     ]
    },
    {
     "name": "stderr",
     "output_type": "stream",
     "text": [
      "Processing test:  22%|██▏       | 500/2288 [22:40<1:39:34,  3.34s/it]"
     ]
    },
    {
     "name": "stdout",
     "output_type": "stream",
     "text": [
      "Saved intermediate results to /home/rmuthy2/Circle/intermediate_saves/test_r1_intermediate.parquet\n",
      "\n",
      "Batch 500/2288: Load=1.73s, Embed=0.77s, Store=0.00s, Total=2.75s, Images/sec=4.36\n",
      "Estimated remaining time: 82.0 minutes\n"
     ]
    },
    {
     "name": "stderr",
     "output_type": "stream",
     "text": [
      "Processing test:  22%|██▏       | 510/2288 [23:08<1:22:53,  2.80s/it]"
     ]
    },
    {
     "name": "stdout",
     "output_type": "stream",
     "text": [
      "\n",
      "Batch 510/2288: Load=1.72s, Embed=0.79s, Store=0.00s, Total=2.78s, Images/sec=4.32\n",
      "Estimated remaining time: 82.2 minutes\n"
     ]
    },
    {
     "name": "stderr",
     "output_type": "stream",
     "text": [
      "Processing test:  23%|██▎       | 520/2288 [23:36<1:22:16,  2.79s/it]"
     ]
    },
    {
     "name": "stdout",
     "output_type": "stream",
     "text": [
      "\n",
      "Batch 520/2288: Load=1.75s, Embed=0.79s, Store=0.00s, Total=2.80s, Images/sec=4.29\n",
      "Estimated remaining time: 82.5 minutes\n"
     ]
    },
    {
     "name": "stderr",
     "output_type": "stream",
     "text": [
      "Processing test:  23%|██▎       | 530/2288 [24:05<1:19:34,  2.72s/it]"
     ]
    },
    {
     "name": "stdout",
     "output_type": "stream",
     "text": [
      "\n",
      "Batch 530/2288: Load=1.63s, Embed=0.79s, Store=0.00s, Total=2.69s, Images/sec=4.47\n",
      "Estimated remaining time: 78.7 minutes\n"
     ]
    },
    {
     "name": "stderr",
     "output_type": "stream",
     "text": [
      "Processing test:  24%|██▎       | 540/2288 [24:32<1:18:13,  2.68s/it]"
     ]
    },
    {
     "name": "stdout",
     "output_type": "stream",
     "text": [
      "\n",
      "Batch 540/2288: Load=1.54s, Embed=0.79s, Store=0.00s, Total=2.64s, Images/sec=4.55\n",
      "Estimated remaining time: 76.8 minutes\n"
     ]
    },
    {
     "name": "stderr",
     "output_type": "stream",
     "text": [
      "Processing test:  24%|██▍       | 550/2288 [25:02<1:39:22,  3.43s/it]"
     ]
    },
    {
     "name": "stdout",
     "output_type": "stream",
     "text": [
      "Saved intermediate results to /home/rmuthy2/Circle/intermediate_saves/test_r1_intermediate.parquet\n",
      "\n",
      "Batch 550/2288: Load=1.81s, Embed=0.81s, Store=0.00s, Total=2.89s, Images/sec=4.16\n",
      "Estimated remaining time: 83.6 minutes\n"
     ]
    },
    {
     "name": "stderr",
     "output_type": "stream",
     "text": [
      "Processing test:  24%|██▍       | 560/2288 [25:29<1:18:29,  2.73s/it]"
     ]
    },
    {
     "name": "stdout",
     "output_type": "stream",
     "text": [
      "\n",
      "Batch 560/2288: Load=1.55s, Embed=0.78s, Store=0.00s, Total=2.59s, Images/sec=4.63\n",
      "Estimated remaining time: 74.6 minutes\n"
     ]
    },
    {
     "name": "stderr",
     "output_type": "stream",
     "text": [
      "Processing test:  25%|██▍       | 570/2288 [25:57<1:17:43,  2.71s/it]"
     ]
    },
    {
     "name": "stdout",
     "output_type": "stream",
     "text": [
      "\n",
      "Batch 570/2288: Load=1.61s, Embed=0.80s, Store=0.00s, Total=2.68s, Images/sec=4.48\n",
      "Estimated remaining time: 76.6 minutes\n"
     ]
    },
    {
     "name": "stderr",
     "output_type": "stream",
     "text": [
      "Processing test:  25%|██▌       | 580/2288 [26:25<1:18:43,  2.77s/it]"
     ]
    },
    {
     "name": "stdout",
     "output_type": "stream",
     "text": [
      "\n",
      "Batch 580/2288: Load=1.67s, Embed=0.79s, Store=0.00s, Total=2.74s, Images/sec=4.38\n",
      "Estimated remaining time: 78.1 minutes\n"
     ]
    },
    {
     "name": "stderr",
     "output_type": "stream",
     "text": [
      "Processing test:  26%|██▌       | 590/2288 [26:52<1:19:14,  2.80s/it]"
     ]
    },
    {
     "name": "stdout",
     "output_type": "stream",
     "text": [
      "\n",
      "Batch 590/2288: Load=1.66s, Embed=0.79s, Store=0.00s, Total=2.87s, Images/sec=4.18\n",
      "Estimated remaining time: 81.3 minutes\n"
     ]
    },
    {
     "name": "stderr",
     "output_type": "stream",
     "text": [
      "Processing test:  26%|██▌       | 600/2288 [27:24<1:38:54,  3.52s/it]"
     ]
    },
    {
     "name": "stdout",
     "output_type": "stream",
     "text": [
      "Saved intermediate results to /home/rmuthy2/Circle/intermediate_saves/test_r1_intermediate.parquet\n",
      "\n",
      "Batch 600/2288: Load=1.66s, Embed=0.80s, Store=0.00s, Total=2.74s, Images/sec=4.38\n",
      "Estimated remaining time: 77.0 minutes\n"
     ]
    },
    {
     "name": "stderr",
     "output_type": "stream",
     "text": [
      "Processing test:  27%|██▋       | 610/2288 [27:52<1:18:28,  2.81s/it]"
     ]
    },
    {
     "name": "stdout",
     "output_type": "stream",
     "text": [
      "\n",
      "Batch 610/2288: Load=1.71s, Embed=0.79s, Store=0.00s, Total=2.77s, Images/sec=4.33\n",
      "Estimated remaining time: 77.6 minutes\n"
     ]
    },
    {
     "name": "stderr",
     "output_type": "stream",
     "text": [
      "Processing test:  27%|██▋       | 620/2288 [28:19<1:17:25,  2.78s/it]"
     ]
    },
    {
     "name": "stdout",
     "output_type": "stream",
     "text": [
      "\n",
      "Batch 620/2288: Load=1.76s, Embed=0.78s, Store=0.00s, Total=2.88s, Images/sec=4.17\n",
      "Estimated remaining time: 80.0 minutes\n"
     ]
    },
    {
     "name": "stderr",
     "output_type": "stream",
     "text": [
      "Processing test:  28%|██▊       | 630/2288 [28:46<1:15:22,  2.73s/it]"
     ]
    },
    {
     "name": "stdout",
     "output_type": "stream",
     "text": [
      "\n",
      "Batch 630/2288: Load=1.66s, Embed=0.78s, Store=0.00s, Total=2.72s, Images/sec=4.41\n",
      "Estimated remaining time: 75.1 minutes\n"
     ]
    },
    {
     "name": "stderr",
     "output_type": "stream",
     "text": [
      "Processing test:  28%|██▊       | 640/2288 [29:14<1:15:45,  2.76s/it]"
     ]
    },
    {
     "name": "stdout",
     "output_type": "stream",
     "text": [
      "\n",
      "Batch 640/2288: Load=1.73s, Embed=0.77s, Store=0.00s, Total=2.79s, Images/sec=4.31\n",
      "Estimated remaining time: 76.5 minutes\n"
     ]
    },
    {
     "name": "stderr",
     "output_type": "stream",
     "text": [
      "Processing test:  28%|██▊       | 650/2288 [29:44<1:36:10,  3.52s/it]"
     ]
    },
    {
     "name": "stdout",
     "output_type": "stream",
     "text": [
      "Saved intermediate results to /home/rmuthy2/Circle/intermediate_saves/test_r1_intermediate.parquet\n",
      "\n",
      "Batch 650/2288: Load=1.79s, Embed=0.78s, Store=0.00s, Total=2.89s, Images/sec=4.16\n",
      "Estimated remaining time: 78.8 minutes\n"
     ]
    },
    {
     "name": "stderr",
     "output_type": "stream",
     "text": [
      "Processing test:  29%|██▉       | 660/2288 [30:12<1:17:39,  2.86s/it]"
     ]
    },
    {
     "name": "stdout",
     "output_type": "stream",
     "text": [
      "\n",
      "Batch 660/2288: Load=1.68s, Embed=0.81s, Store=0.00s, Total=2.82s, Images/sec=4.26\n",
      "Estimated remaining time: 76.4 minutes\n"
     ]
    },
    {
     "name": "stderr",
     "output_type": "stream",
     "text": [
      "Processing test:  29%|██▉       | 670/2288 [30:42<1:15:56,  2.82s/it]"
     ]
    },
    {
     "name": "stdout",
     "output_type": "stream",
     "text": [
      "\n",
      "Batch 670/2288: Load=1.70s, Embed=0.81s, Store=0.00s, Total=2.80s, Images/sec=4.29\n",
      "Estimated remaining time: 75.4 minutes\n"
     ]
    },
    {
     "name": "stderr",
     "output_type": "stream",
     "text": [
      "Processing test:  30%|██▉       | 680/2288 [31:10<1:15:27,  2.82s/it]"
     ]
    },
    {
     "name": "stdout",
     "output_type": "stream",
     "text": [
      "\n",
      "Batch 680/2288: Load=1.71s, Embed=0.79s, Store=0.00s, Total=2.79s, Images/sec=4.30\n",
      "Estimated remaining time: 74.8 minutes\n"
     ]
    },
    {
     "name": "stderr",
     "output_type": "stream",
     "text": [
      "Processing test:  30%|███       | 690/2288 [31:37<1:13:53,  2.77s/it]"
     ]
    },
    {
     "name": "stdout",
     "output_type": "stream",
     "text": [
      "\n",
      "Batch 690/2288: Load=1.60s, Embed=0.80s, Store=0.00s, Total=2.69s, Images/sec=4.46\n",
      "Estimated remaining time: 71.6 minutes\n"
     ]
    },
    {
     "name": "stderr",
     "output_type": "stream",
     "text": [
      "Processing test:  31%|███       | 700/2288 [32:08<1:33:18,  3.53s/it]"
     ]
    },
    {
     "name": "stdout",
     "output_type": "stream",
     "text": [
      "Saved intermediate results to /home/rmuthy2/Circle/intermediate_saves/test_r1_intermediate.parquet\n",
      "\n",
      "Batch 700/2288: Load=1.62s, Embed=0.77s, Store=0.00s, Total=2.68s, Images/sec=4.47\n",
      "Estimated remaining time: 71.0 minutes\n"
     ]
    },
    {
     "name": "stderr",
     "output_type": "stream",
     "text": [
      "Processing test:  31%|███       | 710/2288 [32:35<1:13:33,  2.80s/it]"
     ]
    },
    {
     "name": "stdout",
     "output_type": "stream",
     "text": [
      "\n",
      "Batch 710/2288: Load=1.65s, Embed=0.78s, Store=0.00s, Total=2.73s, Images/sec=4.40\n",
      "Estimated remaining time: 71.8 minutes\n"
     ]
    },
    {
     "name": "stderr",
     "output_type": "stream",
     "text": [
      "Processing test:  31%|███▏      | 720/2288 [33:04<1:15:23,  2.88s/it]"
     ]
    },
    {
     "name": "stdout",
     "output_type": "stream",
     "text": [
      "\n",
      "Batch 720/2288: Load=1.56s, Embed=0.77s, Store=0.00s, Total=2.80s, Images/sec=4.29\n",
      "Estimated remaining time: 73.1 minutes\n"
     ]
    },
    {
     "name": "stderr",
     "output_type": "stream",
     "text": [
      "Processing test:  32%|███▏      | 730/2288 [33:33<1:14:58,  2.89s/it]"
     ]
    },
    {
     "name": "stdout",
     "output_type": "stream",
     "text": [
      "\n",
      "Batch 730/2288: Load=1.64s, Embed=0.78s, Store=0.00s, Total=2.88s, Images/sec=4.16\n",
      "Estimated remaining time: 74.9 minutes\n"
     ]
    },
    {
     "name": "stderr",
     "output_type": "stream",
     "text": [
      "Processing test:  32%|███▏      | 740/2288 [34:01<1:12:06,  2.79s/it]"
     ]
    },
    {
     "name": "stdout",
     "output_type": "stream",
     "text": [
      "\n",
      "Batch 740/2288: Load=1.67s, Embed=0.81s, Store=0.00s, Total=2.83s, Images/sec=4.25\n",
      "Estimated remaining time: 72.9 minutes\n"
     ]
    },
    {
     "name": "stderr",
     "output_type": "stream",
     "text": [
      "Processing test:  33%|███▎      | 750/2288 [34:32<1:32:59,  3.63s/it]"
     ]
    },
    {
     "name": "stdout",
     "output_type": "stream",
     "text": [
      "Saved intermediate results to /home/rmuthy2/Circle/intermediate_saves/test_r1_intermediate.parquet\n",
      "\n",
      "Batch 750/2288: Load=1.65s, Embed=0.77s, Store=0.00s, Total=2.76s, Images/sec=4.34\n",
      "Estimated remaining time: 70.9 minutes\n"
     ]
    },
    {
     "name": "stderr",
     "output_type": "stream",
     "text": [
      "Processing test:  33%|███▎      | 760/2288 [35:00<1:12:49,  2.86s/it]"
     ]
    },
    {
     "name": "stdout",
     "output_type": "stream",
     "text": [
      "\n",
      "Batch 760/2288: Load=1.61s, Embed=0.81s, Store=0.00s, Total=2.76s, Images/sec=4.34\n",
      "Estimated remaining time: 70.4 minutes\n"
     ]
    },
    {
     "name": "stderr",
     "output_type": "stream",
     "text": [
      "Processing test:  34%|███▎      | 770/2288 [35:28<1:09:10,  2.73s/it]"
     ]
    },
    {
     "name": "stdout",
     "output_type": "stream",
     "text": [
      "\n",
      "Batch 770/2288: Load=1.54s, Embed=0.77s, Store=0.00s, Total=2.67s, Images/sec=4.50\n",
      "Estimated remaining time: 67.4 minutes\n"
     ]
    },
    {
     "name": "stderr",
     "output_type": "stream",
     "text": [
      "Processing test:  34%|███▍      | 780/2288 [35:56<1:09:36,  2.77s/it]"
     ]
    },
    {
     "name": "stdout",
     "output_type": "stream",
     "text": [
      "\n",
      "Batch 780/2288: Load=1.66s, Embed=0.79s, Store=0.00s, Total=2.80s, Images/sec=4.29\n",
      "Estimated remaining time: 70.3 minutes\n"
     ]
    },
    {
     "name": "stderr",
     "output_type": "stream",
     "text": [
      "Processing test:  35%|███▍      | 790/2288 [36:25<1:12:09,  2.89s/it]"
     ]
    },
    {
     "name": "stdout",
     "output_type": "stream",
     "text": [
      "\n",
      "Batch 790/2288: Load=1.73s, Embed=0.81s, Store=0.00s, Total=2.92s, Images/sec=4.10\n",
      "Estimated remaining time: 73.0 minutes\n"
     ]
    },
    {
     "name": "stderr",
     "output_type": "stream",
     "text": [
      "Processing test:  35%|███▍      | 800/2288 [36:56<1:33:49,  3.78s/it]"
     ]
    },
    {
     "name": "stdout",
     "output_type": "stream",
     "text": [
      "Saved intermediate results to /home/rmuthy2/Circle/intermediate_saves/test_r1_intermediate.parquet\n",
      "\n",
      "Batch 800/2288: Load=1.65s, Embed=0.81s, Store=0.00s, Total=2.85s, Images/sec=4.21\n",
      "Estimated remaining time: 70.7 minutes\n"
     ]
    },
    {
     "name": "stderr",
     "output_type": "stream",
     "text": [
      "Processing test:  35%|███▌      | 810/2288 [37:25<1:12:50,  2.96s/it]"
     ]
    },
    {
     "name": "stdout",
     "output_type": "stream",
     "text": [
      "\n",
      "Batch 810/2288: Load=1.61s, Embed=0.82s, Store=0.00s, Total=2.77s, Images/sec=4.33\n",
      "Estimated remaining time: 68.2 minutes\n"
     ]
    },
    {
     "name": "stderr",
     "output_type": "stream",
     "text": [
      "Processing test:  36%|███▌      | 820/2288 [37:53<1:10:00,  2.86s/it]"
     ]
    },
    {
     "name": "stdout",
     "output_type": "stream",
     "text": [
      "\n",
      "Batch 820/2288: Load=1.80s, Embed=0.79s, Store=0.00s, Total=2.92s, Images/sec=4.11\n",
      "Estimated remaining time: 71.4 minutes\n"
     ]
    },
    {
     "name": "stderr",
     "output_type": "stream",
     "text": [
      "Processing test:  36%|███▋      | 830/2288 [38:22<1:08:22,  2.81s/it]"
     ]
    },
    {
     "name": "stdout",
     "output_type": "stream",
     "text": [
      "\n",
      "Batch 830/2288: Load=1.66s, Embed=0.78s, Store=0.00s, Total=2.82s, Images/sec=4.26\n",
      "Estimated remaining time: 68.5 minutes\n"
     ]
    },
    {
     "name": "stderr",
     "output_type": "stream",
     "text": [
      "Processing test:  37%|███▋      | 840/2288 [38:50<1:08:49,  2.85s/it]"
     ]
    },
    {
     "name": "stdout",
     "output_type": "stream",
     "text": [
      "\n",
      "Batch 840/2288: Load=1.71s, Embed=0.79s, Store=0.00s, Total=2.89s, Images/sec=4.15\n",
      "Estimated remaining time: 69.9 minutes\n"
     ]
    },
    {
     "name": "stderr",
     "output_type": "stream",
     "text": [
      "Processing test:  37%|███▋      | 850/2288 [39:22<1:32:40,  3.87s/it]"
     ]
    },
    {
     "name": "stdout",
     "output_type": "stream",
     "text": [
      "Saved intermediate results to /home/rmuthy2/Circle/intermediate_saves/test_r1_intermediate.parquet\n",
      "\n",
      "Batch 850/2288: Load=1.77s, Embed=0.80s, Store=0.00s, Total=2.90s, Images/sec=4.14\n",
      "Estimated remaining time: 69.4 minutes\n"
     ]
    },
    {
     "name": "stderr",
     "output_type": "stream",
     "text": [
      "Processing test:  38%|███▊      | 860/2288 [39:51<1:08:05,  2.86s/it]"
     ]
    },
    {
     "name": "stdout",
     "output_type": "stream",
     "text": [
      "\n",
      "Batch 860/2288: Load=1.58s, Embed=0.77s, Store=0.00s, Total=2.69s, Images/sec=4.46\n",
      "Estimated remaining time: 64.0 minutes\n"
     ]
    },
    {
     "name": "stderr",
     "output_type": "stream",
     "text": [
      "Processing test:  38%|███▊      | 870/2288 [40:19<1:06:48,  2.83s/it]"
     ]
    },
    {
     "name": "stdout",
     "output_type": "stream",
     "text": [
      "\n",
      "Batch 870/2288: Load=1.68s, Embed=0.79s, Store=0.00s, Total=2.80s, Images/sec=4.29\n",
      "Estimated remaining time: 66.2 minutes\n"
     ]
    },
    {
     "name": "stderr",
     "output_type": "stream",
     "text": [
      "Processing test:  38%|███▊      | 880/2288 [40:50<1:15:37,  3.22s/it]"
     ]
    },
    {
     "name": "stdout",
     "output_type": "stream",
     "text": [
      "\n",
      "Batch 880/2288: Load=2.00s, Embed=0.79s, Store=0.00s, Total=3.13s, Images/sec=3.84\n",
      "Estimated remaining time: 73.4 minutes\n"
     ]
    },
    {
     "name": "stderr",
     "output_type": "stream",
     "text": [
      "Processing test:  39%|███▉      | 890/2288 [41:18<1:06:41,  2.86s/it]"
     ]
    },
    {
     "name": "stdout",
     "output_type": "stream",
     "text": [
      "\n",
      "Batch 890/2288: Load=1.64s, Embed=0.78s, Store=0.00s, Total=2.77s, Images/sec=4.33\n",
      "Estimated remaining time: 64.5 minutes\n"
     ]
    },
    {
     "name": "stderr",
     "output_type": "stream",
     "text": [
      "Processing test:  39%|███▉      | 900/2288 [41:50<1:29:17,  3.86s/it]"
     ]
    },
    {
     "name": "stdout",
     "output_type": "stream",
     "text": [
      "Saved intermediate results to /home/rmuthy2/Circle/intermediate_saves/test_r1_intermediate.parquet\n",
      "\n",
      "Batch 900/2288: Load=1.74s, Embed=0.81s, Store=0.00s, Total=2.89s, Images/sec=4.15\n",
      "Estimated remaining time: 66.8 minutes\n"
     ]
    },
    {
     "name": "stderr",
     "output_type": "stream",
     "text": [
      "Processing test:  40%|███▉      | 910/2288 [42:20<1:08:11,  2.97s/it]"
     ]
    },
    {
     "name": "stdout",
     "output_type": "stream",
     "text": [
      "\n",
      "Batch 910/2288: Load=1.58s, Embed=0.79s, Store=0.00s, Total=2.74s, Images/sec=4.37\n",
      "Estimated remaining time: 63.0 minutes\n"
     ]
    },
    {
     "name": "stderr",
     "output_type": "stream",
     "text": [
      "Processing test:  40%|████      | 920/2288 [42:48<1:02:26,  2.74s/it]"
     ]
    },
    {
     "name": "stdout",
     "output_type": "stream",
     "text": [
      "\n",
      "Batch 920/2288: Load=1.62s, Embed=0.78s, Store=0.00s, Total=2.78s, Images/sec=4.32\n",
      "Estimated remaining time: 63.4 minutes\n"
     ]
    },
    {
     "name": "stderr",
     "output_type": "stream",
     "text": [
      "Processing test:  41%|████      | 930/2288 [43:17<1:07:24,  2.98s/it]"
     ]
    },
    {
     "name": "stdout",
     "output_type": "stream",
     "text": [
      "\n",
      "Batch 930/2288: Load=1.71s, Embed=0.78s, Store=0.00s, Total=2.98s, Images/sec=4.03\n",
      "Estimated remaining time: 67.4 minutes\n"
     ]
    },
    {
     "name": "stderr",
     "output_type": "stream",
     "text": [
      "Processing test:  41%|████      | 940/2288 [43:47<1:06:07,  2.94s/it]"
     ]
    },
    {
     "name": "stdout",
     "output_type": "stream",
     "text": [
      "\n",
      "Batch 940/2288: Load=1.57s, Embed=0.79s, Store=0.00s, Total=2.75s, Images/sec=4.36\n",
      "Estimated remaining time: 61.8 minutes\n"
     ]
    },
    {
     "name": "stderr",
     "output_type": "stream",
     "text": [
      "Processing test:  42%|████▏     | 950/2288 [44:19<1:26:09,  3.86s/it]"
     ]
    },
    {
     "name": "stdout",
     "output_type": "stream",
     "text": [
      "Saved intermediate results to /home/rmuthy2/Circle/intermediate_saves/test_r1_intermediate.parquet\n",
      "\n",
      "Batch 950/2288: Load=1.62s, Embed=0.79s, Store=0.00s, Total=2.89s, Images/sec=4.15\n",
      "Estimated remaining time: 64.5 minutes\n"
     ]
    },
    {
     "name": "stderr",
     "output_type": "stream",
     "text": [
      "Processing test:  42%|████▏     | 960/2288 [44:47<1:04:17,  2.90s/it]"
     ]
    },
    {
     "name": "stdout",
     "output_type": "stream",
     "text": [
      "\n",
      "Batch 960/2288: Load=1.64s, Embed=0.78s, Store=0.00s, Total=2.92s, Images/sec=4.11\n",
      "Estimated remaining time: 64.6 minutes\n"
     ]
    },
    {
     "name": "stderr",
     "output_type": "stream",
     "text": [
      "Processing test:  42%|████▏     | 970/2288 [45:17<1:07:27,  3.07s/it]"
     ]
    },
    {
     "name": "stdout",
     "output_type": "stream",
     "text": [
      "\n",
      "Batch 970/2288: Load=1.70s, Embed=0.81s, Store=0.00s, Total=2.90s, Images/sec=4.13\n",
      "Estimated remaining time: 63.8 minutes\n"
     ]
    },
    {
     "name": "stderr",
     "output_type": "stream",
     "text": [
      "Processing test:  43%|████▎     | 980/2288 [45:47<1:04:21,  2.95s/it]"
     ]
    },
    {
     "name": "stdout",
     "output_type": "stream",
     "text": [
      "\n",
      "Batch 980/2288: Load=1.73s, Embed=0.80s, Store=0.00s, Total=3.00s, Images/sec=4.00\n",
      "Estimated remaining time: 65.4 minutes\n"
     ]
    },
    {
     "name": "stderr",
     "output_type": "stream",
     "text": [
      "Processing test:  43%|████▎     | 990/2288 [46:16<1:04:20,  2.97s/it]"
     ]
    },
    {
     "name": "stdout",
     "output_type": "stream",
     "text": [
      "\n",
      "Batch 990/2288: Load=1.77s, Embed=0.80s, Store=0.00s, Total=3.01s, Images/sec=3.98\n",
      "Estimated remaining time: 65.2 minutes\n"
     ]
    },
    {
     "name": "stderr",
     "output_type": "stream",
     "text": [
      "Processing test:  44%|████▎     | 1000/2288 [46:48<1:25:57,  4.00s/it]"
     ]
    },
    {
     "name": "stdout",
     "output_type": "stream",
     "text": [
      "Saved intermediate results to /home/rmuthy2/Circle/intermediate_saves/test_r1_intermediate.parquet\n",
      "\n",
      "Batch 1000/2288: Load=1.67s, Embed=0.80s, Store=0.00s, Total=2.98s, Images/sec=4.03\n",
      "Estimated remaining time: 63.9 minutes\n"
     ]
    },
    {
     "name": "stderr",
     "output_type": "stream",
     "text": [
      "Processing test:  44%|████▍     | 1010/2288 [47:17<1:03:31,  2.98s/it]"
     ]
    },
    {
     "name": "stdout",
     "output_type": "stream",
     "text": [
      "\n",
      "Batch 1010/2288: Load=1.77s, Embed=0.80s, Store=0.00s, Total=3.06s, Images/sec=3.92\n",
      "Estimated remaining time: 65.2 minutes\n"
     ]
    },
    {
     "name": "stderr",
     "output_type": "stream",
     "text": [
      "Processing test:  45%|████▍     | 1020/2288 [47:47<1:02:23,  2.95s/it]"
     ]
    },
    {
     "name": "stdout",
     "output_type": "stream",
     "text": [
      "\n",
      "Batch 1020/2288: Load=1.73s, Embed=0.81s, Store=0.00s, Total=2.93s, Images/sec=4.10\n",
      "Estimated remaining time: 61.8 minutes\n"
     ]
    },
    {
     "name": "stderr",
     "output_type": "stream",
     "text": [
      "Processing test:  45%|████▌     | 1030/2288 [48:16<1:02:01,  2.96s/it]"
     ]
    },
    {
     "name": "stdout",
     "output_type": "stream",
     "text": [
      "\n",
      "Batch 1030/2288: Load=1.76s, Embed=0.80s, Store=0.00s, Total=3.05s, Images/sec=3.94\n",
      "Estimated remaining time: 63.9 minutes\n"
     ]
    },
    {
     "name": "stderr",
     "output_type": "stream",
     "text": [
      "Processing test:  45%|████▌     | 1040/2288 [48:45<57:52,  2.78s/it]  "
     ]
    },
    {
     "name": "stdout",
     "output_type": "stream",
     "text": [
      "\n",
      "Batch 1040/2288: Load=1.51s, Embed=0.77s, Store=0.00s, Total=2.64s, Images/sec=4.55\n",
      "Estimated remaining time: 54.8 minutes\n"
     ]
    },
    {
     "name": "stderr",
     "output_type": "stream",
     "text": [
      "Processing test:  46%|████▌     | 1050/2288 [49:17<1:22:25,  3.99s/it]"
     ]
    },
    {
     "name": "stdout",
     "output_type": "stream",
     "text": [
      "Saved intermediate results to /home/rmuthy2/Circle/intermediate_saves/test_r1_intermediate.parquet\n",
      "\n",
      "Batch 1050/2288: Load=1.60s, Embed=0.79s, Store=0.00s, Total=2.82s, Images/sec=4.25\n",
      "Estimated remaining time: 58.3 minutes\n"
     ]
    },
    {
     "name": "stderr",
     "output_type": "stream",
     "text": [
      "Processing test:  46%|████▋     | 1060/2288 [49:45<57:46,  2.82s/it]  "
     ]
    },
    {
     "name": "stdout",
     "output_type": "stream",
     "text": [
      "\n",
      "Batch 1060/2288: Load=1.68s, Embed=0.80s, Store=0.00s, Total=2.93s, Images/sec=4.10\n",
      "Estimated remaining time: 59.9 minutes\n"
     ]
    },
    {
     "name": "stderr",
     "output_type": "stream",
     "text": [
      "Processing test:  47%|████▋     | 1070/2288 [50:12<56:09,  2.77s/it]"
     ]
    },
    {
     "name": "stdout",
     "output_type": "stream",
     "text": [
      "\n",
      "Batch 1070/2288: Load=1.57s, Embed=0.77s, Store=0.00s, Total=2.78s, Images/sec=4.32\n",
      "Estimated remaining time: 56.4 minutes\n"
     ]
    },
    {
     "name": "stderr",
     "output_type": "stream",
     "text": [
      "Processing test:  47%|████▋     | 1080/2288 [50:40<57:30,  2.86s/it]"
     ]
    },
    {
     "name": "stdout",
     "output_type": "stream",
     "text": [
      "\n",
      "Batch 1080/2288: Load=1.64s, Embed=0.78s, Store=0.00s, Total=2.88s, Images/sec=4.17\n",
      "Estimated remaining time: 57.9 minutes\n"
     ]
    },
    {
     "name": "stderr",
     "output_type": "stream",
     "text": [
      "Processing test:  48%|████▊     | 1090/2288 [51:08<55:50,  2.80s/it]"
     ]
    },
    {
     "name": "stdout",
     "output_type": "stream",
     "text": [
      "\n",
      "Batch 1090/2288: Load=1.58s, Embed=0.79s, Store=0.00s, Total=2.85s, Images/sec=4.21\n",
      "Estimated remaining time: 56.9 minutes\n"
     ]
    },
    {
     "name": "stderr",
     "output_type": "stream",
     "text": [
      "Processing test:  48%|████▊     | 1100/2288 [51:41<1:21:13,  4.10s/it]"
     ]
    },
    {
     "name": "stdout",
     "output_type": "stream",
     "text": [
      "Saved intermediate results to /home/rmuthy2/Circle/intermediate_saves/test_r1_intermediate.parquet\n",
      "\n",
      "Batch 1100/2288: Load=1.61s, Embed=0.78s, Store=0.00s, Total=2.78s, Images/sec=4.32\n",
      "Estimated remaining time: 55.0 minutes\n"
     ]
    },
    {
     "name": "stderr",
     "output_type": "stream",
     "text": [
      "Processing test:  49%|████▊     | 1110/2288 [52:09<56:40,  2.89s/it]  "
     ]
    },
    {
     "name": "stdout",
     "output_type": "stream",
     "text": [
      "\n",
      "Batch 1110/2288: Load=1.73s, Embed=0.79s, Store=0.00s, Total=2.92s, Images/sec=4.12\n",
      "Estimated remaining time: 57.2 minutes\n"
     ]
    },
    {
     "name": "stderr",
     "output_type": "stream",
     "text": [
      "Processing test:  49%|████▉     | 1120/2288 [52:37<54:14,  2.79s/it]"
     ]
    },
    {
     "name": "stdout",
     "output_type": "stream",
     "text": [
      "\n",
      "Batch 1120/2288: Load=1.53s, Embed=0.79s, Store=0.00s, Total=2.71s, Images/sec=4.42\n",
      "Estimated remaining time: 52.8 minutes\n"
     ]
    },
    {
     "name": "stderr",
     "output_type": "stream",
     "text": [
      "Processing test:  49%|████▉     | 1130/2288 [53:05<54:54,  2.85s/it]"
     ]
    },
    {
     "name": "stdout",
     "output_type": "stream",
     "text": [
      "\n",
      "Batch 1130/2288: Load=1.56s, Embed=0.78s, Store=0.00s, Total=2.73s, Images/sec=4.39\n",
      "Estimated remaining time: 52.7 minutes\n"
     ]
    },
    {
     "name": "stderr",
     "output_type": "stream",
     "text": [
      "Processing test:  50%|████▉     | 1140/2288 [53:33<53:59,  2.82s/it]"
     ]
    },
    {
     "name": "stdout",
     "output_type": "stream",
     "text": [
      "\n",
      "Batch 1140/2288: Load=1.60s, Embed=0.80s, Store=0.00s, Total=2.87s, Images/sec=4.18\n",
      "Estimated remaining time: 55.0 minutes\n"
     ]
    },
    {
     "name": "stderr",
     "output_type": "stream",
     "text": [
      "Processing test:  50%|█████     | 1150/2288 [54:07<1:20:12,  4.23s/it]"
     ]
    },
    {
     "name": "stdout",
     "output_type": "stream",
     "text": [
      "Saved intermediate results to /home/rmuthy2/Circle/intermediate_saves/test_r1_intermediate.parquet\n",
      "\n",
      "Batch 1150/2288: Load=1.64s, Embed=0.83s, Store=0.00s, Total=2.87s, Images/sec=4.19\n",
      "Estimated remaining time: 54.4 minutes\n"
     ]
    },
    {
     "name": "stderr",
     "output_type": "stream",
     "text": [
      "Processing test:  51%|█████     | 1160/2288 [54:35<54:15,  2.89s/it]  "
     ]
    },
    {
     "name": "stdout",
     "output_type": "stream",
     "text": [
      "\n",
      "Batch 1160/2288: Load=1.61s, Embed=0.77s, Store=0.00s, Total=2.77s, Images/sec=4.33\n",
      "Estimated remaining time: 52.1 minutes\n"
     ]
    },
    {
     "name": "stderr",
     "output_type": "stream",
     "text": [
      "Processing test:  51%|█████     | 1170/2288 [55:05<54:14,  2.91s/it]  "
     ]
    },
    {
     "name": "stdout",
     "output_type": "stream",
     "text": [
      "\n",
      "Batch 1170/2288: Load=1.79s, Embed=0.79s, Store=0.00s, Total=2.98s, Images/sec=4.03\n",
      "Estimated remaining time: 55.5 minutes\n"
     ]
    },
    {
     "name": "stderr",
     "output_type": "stream",
     "text": [
      "Processing test:  52%|█████▏    | 1180/2288 [55:34<54:26,  2.95s/it]"
     ]
    },
    {
     "name": "stdout",
     "output_type": "stream",
     "text": [
      "\n",
      "Batch 1180/2288: Load=1.76s, Embed=0.81s, Store=0.00s, Total=3.14s, Images/sec=3.82\n",
      "Estimated remaining time: 58.1 minutes\n"
     ]
    },
    {
     "name": "stderr",
     "output_type": "stream",
     "text": [
      "Processing test:  52%|█████▏    | 1190/2288 [56:03<52:36,  2.87s/it]"
     ]
    },
    {
     "name": "stdout",
     "output_type": "stream",
     "text": [
      "\n",
      "Batch 1190/2288: Load=1.64s, Embed=0.82s, Store=0.00s, Total=2.90s, Images/sec=4.13\n",
      "Estimated remaining time: 53.2 minutes\n"
     ]
    },
    {
     "name": "stderr",
     "output_type": "stream",
     "text": [
      "Processing test:  54%|█████▍    | 1230/2288 [58:06<51:30,  2.92s/it]"
     ]
    },
    {
     "name": "stdout",
     "output_type": "stream",
     "text": [
      "\n",
      "Batch 1230/2288: Load=1.56s, Embed=0.79s, Store=0.00s, Total=2.92s, Images/sec=4.11\n",
      "Estimated remaining time: 51.5 minutes\n"
     ]
    },
    {
     "name": "stderr",
     "output_type": "stream",
     "text": [
      "Processing test:  54%|█████▍    | 1240/2288 [58:37<53:07,  3.04s/it]"
     ]
    },
    {
     "name": "stdout",
     "output_type": "stream",
     "text": [
      "\n",
      "Batch 1240/2288: Load=1.63s, Embed=0.79s, Store=0.00s, Total=3.07s, Images/sec=3.90\n",
      "Estimated remaining time: 53.7 minutes\n"
     ]
    },
    {
     "name": "stderr",
     "output_type": "stream",
     "text": [
      "Processing test:  55%|█████▍    | 1250/2288 [59:12<1:16:39,  4.43s/it]"
     ]
    },
    {
     "name": "stdout",
     "output_type": "stream",
     "text": [
      "Saved intermediate results to /home/rmuthy2/Circle/intermediate_saves/test_r1_intermediate.parquet\n",
      "\n",
      "Batch 1250/2288: Load=1.57s, Embed=0.79s, Store=0.00s, Total=3.09s, Images/sec=3.89\n",
      "Estimated remaining time: 53.4 minutes\n"
     ]
    },
    {
     "name": "stderr",
     "output_type": "stream",
     "text": [
      "Processing test:  55%|█████▌    | 1260/2288 [59:41<51:52,  3.03s/it]  "
     ]
    },
    {
     "name": "stdout",
     "output_type": "stream",
     "text": [
      "\n",
      "Batch 1260/2288: Load=1.79s, Embed=0.80s, Store=0.00s, Total=3.16s, Images/sec=3.80\n",
      "Estimated remaining time: 54.2 minutes\n"
     ]
    },
    {
     "name": "stderr",
     "output_type": "stream",
     "text": [
      "Processing test:  56%|█████▌    | 1270/2288 [1:00:12<51:24,  3.03s/it]"
     ]
    },
    {
     "name": "stdout",
     "output_type": "stream",
     "text": [
      "\n",
      "Batch 1270/2288: Load=1.50s, Embed=0.79s, Store=0.00s, Total=2.73s, Images/sec=4.39\n",
      "Estimated remaining time: 46.4 minutes\n"
     ]
    },
    {
     "name": "stderr",
     "output_type": "stream",
     "text": [
      "Processing test:  56%|█████▌    | 1280/2288 [1:00:41<50:03,  2.98s/it]"
     ]
    },
    {
     "name": "stdout",
     "output_type": "stream",
     "text": [
      "\n",
      "Batch 1280/2288: Load=1.76s, Embed=0.80s, Store=0.00s, Total=3.07s, Images/sec=3.91\n",
      "Estimated remaining time: 51.6 minutes\n"
     ]
    },
    {
     "name": "stderr",
     "output_type": "stream",
     "text": [
      "Processing test:  56%|█████▋    | 1290/2288 [1:01:12<50:31,  3.04s/it]"
     ]
    },
    {
     "name": "stdout",
     "output_type": "stream",
     "text": [
      "\n",
      "Batch 1290/2288: Load=1.66s, Embed=0.79s, Store=0.00s, Total=3.03s, Images/sec=3.96\n",
      "Estimated remaining time: 50.4 minutes\n"
     ]
    },
    {
     "name": "stderr",
     "output_type": "stream",
     "text": [
      "Processing test:  57%|█████▋    | 1300/2288 [1:01:49<1:15:00,  4.56s/it]"
     ]
    },
    {
     "name": "stdout",
     "output_type": "stream",
     "text": [
      "Saved intermediate results to /home/rmuthy2/Circle/intermediate_saves/test_r1_intermediate.parquet\n",
      "\n",
      "Batch 1300/2288: Load=1.69s, Embed=0.79s, Store=0.00s, Total=3.06s, Images/sec=3.92\n",
      "Estimated remaining time: 50.5 minutes\n"
     ]
    },
    {
     "name": "stderr",
     "output_type": "stream",
     "text": [
      "Processing test:  57%|█████▋    | 1310/2288 [1:02:20<52:15,  3.21s/it]  "
     ]
    },
    {
     "name": "stdout",
     "output_type": "stream",
     "text": [
      "\n",
      "Batch 1310/2288: Load=1.62s, Embed=0.79s, Store=0.00s, Total=3.47s, Images/sec=3.46\n",
      "Estimated remaining time: 56.6 minutes\n"
     ]
    },
    {
     "name": "stderr",
     "output_type": "stream",
     "text": [
      "Processing test:  58%|█████▊    | 1320/2288 [1:02:49<47:07,  2.92s/it]"
     ]
    },
    {
     "name": "stdout",
     "output_type": "stream",
     "text": [
      "\n",
      "Batch 1320/2288: Load=1.58s, Embed=0.78s, Store=0.00s, Total=2.86s, Images/sec=4.20\n",
      "Estimated remaining time: 46.1 minutes\n"
     ]
    },
    {
     "name": "stderr",
     "output_type": "stream",
     "text": [
      "Processing test:  58%|█████▊    | 1330/2288 [1:03:18<47:09,  2.95s/it]"
     ]
    },
    {
     "name": "stdout",
     "output_type": "stream",
     "text": [
      "\n",
      "Batch 1330/2288: Load=1.60s, Embed=0.80s, Store=0.00s, Total=2.84s, Images/sec=4.22\n",
      "Estimated remaining time: 45.3 minutes\n"
     ]
    },
    {
     "name": "stderr",
     "output_type": "stream",
     "text": [
      "Processing test:  59%|█████▊    | 1340/2288 [1:03:49<46:26,  2.94s/it]"
     ]
    },
    {
     "name": "stdout",
     "output_type": "stream",
     "text": [
      "\n",
      "Batch 1340/2288: Load=1.60s, Embed=0.79s, Store=0.00s, Total=2.88s, Images/sec=4.16\n",
      "Estimated remaining time: 45.6 minutes\n"
     ]
    },
    {
     "name": "stderr",
     "output_type": "stream",
     "text": [
      "Processing test:  59%|█████▉    | 1350/2288 [1:04:23<1:11:06,  4.55s/it]"
     ]
    },
    {
     "name": "stdout",
     "output_type": "stream",
     "text": [
      "Saved intermediate results to /home/rmuthy2/Circle/intermediate_saves/test_r1_intermediate.parquet\n",
      "\n",
      "Batch 1350/2288: Load=1.63s, Embed=0.78s, Store=0.00s, Total=3.40s, Images/sec=3.53\n",
      "Estimated remaining time: 53.1 minutes\n"
     ]
    },
    {
     "name": "stderr",
     "output_type": "stream",
     "text": [
      "Processing test:  59%|█████▉    | 1360/2288 [1:04:53<45:51,  2.96s/it]  "
     ]
    },
    {
     "name": "stdout",
     "output_type": "stream",
     "text": [
      "\n",
      "Batch 1360/2288: Load=1.60s, Embed=0.78s, Store=0.00s, Total=2.97s, Images/sec=4.04\n",
      "Estimated remaining time: 45.9 minutes\n"
     ]
    },
    {
     "name": "stderr",
     "output_type": "stream",
     "text": [
      "Processing test:  60%|█████▉    | 1370/2288 [1:05:22<45:45,  2.99s/it]"
     ]
    },
    {
     "name": "stdout",
     "output_type": "stream",
     "text": [
      "\n",
      "Batch 1370/2288: Load=1.59s, Embed=0.78s, Store=0.00s, Total=2.97s, Images/sec=4.04\n",
      "Estimated remaining time: 45.5 minutes\n"
     ]
    },
    {
     "name": "stderr",
     "output_type": "stream",
     "text": [
      "Processing test:  60%|██████    | 1380/2288 [1:05:52<44:46,  2.96s/it]"
     ]
    },
    {
     "name": "stdout",
     "output_type": "stream",
     "text": [
      "\n",
      "Batch 1380/2288: Load=1.70s, Embed=0.78s, Store=0.00s, Total=2.92s, Images/sec=4.11\n",
      "Estimated remaining time: 44.2 minutes\n"
     ]
    },
    {
     "name": "stderr",
     "output_type": "stream",
     "text": [
      "Processing test:  61%|██████    | 1390/2288 [1:06:23<45:29,  3.04s/it]"
     ]
    },
    {
     "name": "stdout",
     "output_type": "stream",
     "text": [
      "\n",
      "Batch 1390/2288: Load=1.55s, Embed=0.79s, Store=0.00s, Total=2.88s, Images/sec=4.16\n",
      "Estimated remaining time: 43.1 minutes\n"
     ]
    },
    {
     "name": "stderr",
     "output_type": "stream",
     "text": [
      "Processing test:  61%|██████    | 1400/2288 [1:06:59<1:10:56,  4.79s/it]"
     ]
    },
    {
     "name": "stdout",
     "output_type": "stream",
     "text": [
      "Saved intermediate results to /home/rmuthy2/Circle/intermediate_saves/test_r1_intermediate.parquet\n",
      "\n",
      "Batch 1400/2288: Load=1.61s, Embed=0.79s, Store=0.00s, Total=3.80s, Images/sec=3.15\n",
      "Estimated remaining time: 56.3 minutes\n"
     ]
    },
    {
     "name": "stderr",
     "output_type": "stream",
     "text": [
      "Processing test:  62%|██████▏   | 1410/2288 [1:07:28<43:31,  2.97s/it]  "
     ]
    },
    {
     "name": "stdout",
     "output_type": "stream",
     "text": [
      "\n",
      "Batch 1410/2288: Load=1.63s, Embed=0.78s, Store=0.00s, Total=3.10s, Images/sec=3.87\n",
      "Estimated remaining time: 45.4 minutes\n"
     ]
    },
    {
     "name": "stderr",
     "output_type": "stream",
     "text": [
      "Processing test:  62%|██████▏   | 1420/2288 [1:07:57<40:52,  2.83s/it]"
     ]
    },
    {
     "name": "stdout",
     "output_type": "stream",
     "text": [
      "\n",
      "Batch 1420/2288: Load=1.61s, Embed=0.79s, Store=0.00s, Total=2.85s, Images/sec=4.21\n",
      "Estimated remaining time: 41.2 minutes\n"
     ]
    },
    {
     "name": "stderr",
     "output_type": "stream",
     "text": [
      "Processing test:  62%|██████▎   | 1430/2288 [1:08:25<40:04,  2.80s/it]"
     ]
    },
    {
     "name": "stdout",
     "output_type": "stream",
     "text": [
      "\n",
      "Batch 1430/2288: Load=1.40s, Embed=0.77s, Store=0.00s, Total=2.66s, Images/sec=4.50\n",
      "Estimated remaining time: 38.1 minutes\n"
     ]
    },
    {
     "name": "stderr",
     "output_type": "stream",
     "text": [
      "Processing test:  63%|██████▎   | 1440/2288 [1:08:53<40:39,  2.88s/it]"
     ]
    },
    {
     "name": "stdout",
     "output_type": "stream",
     "text": [
      "\n",
      "Batch 1440/2288: Load=1.60s, Embed=0.79s, Store=0.00s, Total=3.01s, Images/sec=3.99\n",
      "Estimated remaining time: 42.5 minutes\n"
     ]
    },
    {
     "name": "stderr",
     "output_type": "stream",
     "text": [
      "Processing test:  63%|██████▎   | 1450/2288 [1:09:27<1:01:05,  4.37s/it]"
     ]
    },
    {
     "name": "stdout",
     "output_type": "stream",
     "text": [
      "Saved intermediate results to /home/rmuthy2/Circle/intermediate_saves/test_r1_intermediate.parquet\n",
      "\n",
      "Batch 1450/2288: Load=1.51s, Embed=0.77s, Store=0.00s, Total=2.73s, Images/sec=4.39\n",
      "Estimated remaining time: 38.2 minutes\n"
     ]
    },
    {
     "name": "stderr",
     "output_type": "stream",
     "text": [
      "Processing test:  64%|██████▍   | 1460/2288 [1:09:56<40:42,  2.95s/it]  "
     ]
    },
    {
     "name": "stdout",
     "output_type": "stream",
     "text": [
      "\n",
      "Batch 1460/2288: Load=1.63s, Embed=0.77s, Store=0.00s, Total=2.95s, Images/sec=4.07\n",
      "Estimated remaining time: 40.7 minutes\n"
     ]
    },
    {
     "name": "stderr",
     "output_type": "stream",
     "text": [
      "Processing test:  64%|██████▍   | 1470/2288 [1:10:27<42:37,  3.13s/it]"
     ]
    },
    {
     "name": "stdout",
     "output_type": "stream",
     "text": [
      "\n",
      "Batch 1470/2288: Load=1.55s, Embed=0.78s, Store=0.00s, Total=3.13s, Images/sec=3.83\n",
      "Estimated remaining time: 42.7 minutes\n"
     ]
    },
    {
     "name": "stderr",
     "output_type": "stream",
     "text": [
      "Processing test:  65%|██████▍   | 1480/2288 [1:10:58<40:15,  2.99s/it]"
     ]
    },
    {
     "name": "stdout",
     "output_type": "stream",
     "text": [
      "\n",
      "Batch 1480/2288: Load=1.65s, Embed=0.78s, Store=0.00s, Total=2.94s, Images/sec=4.09\n",
      "Estimated remaining time: 39.6 minutes\n"
     ]
    },
    {
     "name": "stderr",
     "output_type": "stream",
     "text": [
      "Processing test:  65%|██████▌   | 1490/2288 [1:11:28<39:45,  2.99s/it]"
     ]
    },
    {
     "name": "stdout",
     "output_type": "stream",
     "text": [
      "\n",
      "Batch 1490/2288: Load=1.61s, Embed=0.77s, Store=0.00s, Total=2.98s, Images/sec=4.02\n",
      "Estimated remaining time: 39.7 minutes\n"
     ]
    },
    {
     "name": "stderr",
     "output_type": "stream",
     "text": [
      "Processing test:  66%|██████▌   | 1500/2288 [1:12:04<1:04:40,  4.92s/it]"
     ]
    },
    {
     "name": "stdout",
     "output_type": "stream",
     "text": [
      "Saved intermediate results to /home/rmuthy2/Circle/intermediate_saves/test_r1_intermediate.parquet\n",
      "\n",
      "Batch 1500/2288: Load=1.69s, Embed=0.78s, Store=0.00s, Total=3.26s, Images/sec=3.68\n",
      "Estimated remaining time: 42.8 minutes\n"
     ]
    },
    {
     "name": "stderr",
     "output_type": "stream",
     "text": [
      "Processing test:  66%|██████▌   | 1510/2288 [1:12:33<38:08,  2.94s/it]  "
     ]
    },
    {
     "name": "stdout",
     "output_type": "stream",
     "text": [
      "\n",
      "Batch 1510/2288: Load=1.58s, Embed=0.79s, Store=0.00s, Total=2.94s, Images/sec=4.09\n",
      "Estimated remaining time: 38.1 minutes\n"
     ]
    },
    {
     "name": "stderr",
     "output_type": "stream",
     "text": [
      "Processing test:  66%|██████▋   | 1520/2288 [1:13:02<37:13,  2.91s/it]"
     ]
    },
    {
     "name": "stdout",
     "output_type": "stream",
     "text": [
      "\n",
      "Batch 1520/2288: Load=1.61s, Embed=0.78s, Store=0.00s, Total=2.86s, Images/sec=4.20\n",
      "Estimated remaining time: 36.5 minutes\n"
     ]
    },
    {
     "name": "stderr",
     "output_type": "stream",
     "text": [
      "Processing test:  67%|██████▋   | 1530/2288 [1:13:31<36:16,  2.87s/it]"
     ]
    },
    {
     "name": "stdout",
     "output_type": "stream",
     "text": [
      "\n",
      "Batch 1530/2288: Load=1.55s, Embed=0.78s, Store=0.00s, Total=2.80s, Images/sec=4.29\n",
      "Estimated remaining time: 35.3 minutes\n"
     ]
    },
    {
     "name": "stderr",
     "output_type": "stream",
     "text": [
      "Processing test:  67%|██████▋   | 1540/2288 [1:14:00<36:29,  2.93s/it]"
     ]
    },
    {
     "name": "stdout",
     "output_type": "stream",
     "text": [
      "\n",
      "Batch 1540/2288: Load=1.69s, Embed=0.77s, Store=0.00s, Total=2.94s, Images/sec=4.09\n",
      "Estimated remaining time: 36.6 minutes\n"
     ]
    },
    {
     "name": "stderr",
     "output_type": "stream",
     "text": [
      "Processing test:  68%|██████▊   | 1550/2288 [1:14:35<56:21,  4.58s/it]"
     ]
    },
    {
     "name": "stdout",
     "output_type": "stream",
     "text": [
      "Saved intermediate results to /home/rmuthy2/Circle/intermediate_saves/test_r1_intermediate.parquet\n",
      "\n",
      "Batch 1550/2288: Load=1.56s, Embed=0.77s, Store=0.00s, Total=2.81s, Images/sec=4.26\n",
      "Estimated remaining time: 34.6 minutes\n"
     ]
    },
    {
     "name": "stderr",
     "output_type": "stream",
     "text": [
      "Processing test:  68%|██████▊   | 1560/2288 [1:15:03<35:27,  2.92s/it]"
     ]
    },
    {
     "name": "stdout",
     "output_type": "stream",
     "text": [
      "\n",
      "Batch 1560/2288: Load=1.54s, Embed=0.79s, Store=0.00s, Total=2.81s, Images/sec=4.27\n",
      "Estimated remaining time: 34.1 minutes\n"
     ]
    },
    {
     "name": "stderr",
     "output_type": "stream",
     "text": [
      "Processing test:  69%|██████▊   | 1570/2288 [1:15:36<37:57,  3.17s/it]"
     ]
    },
    {
     "name": "stdout",
     "output_type": "stream",
     "text": [
      "\n",
      "Batch 1570/2288: Load=1.51s, Embed=0.78s, Store=0.00s, Total=2.92s, Images/sec=4.11\n",
      "Estimated remaining time: 34.9 minutes\n"
     ]
    },
    {
     "name": "stderr",
     "output_type": "stream",
     "text": [
      "Processing test:  69%|██████▉   | 1580/2288 [1:16:06<35:24,  3.00s/it]"
     ]
    },
    {
     "name": "stdout",
     "output_type": "stream",
     "text": [
      "\n",
      "Batch 1580/2288: Load=1.59s, Embed=0.79s, Store=0.00s, Total=2.91s, Images/sec=4.12\n",
      "Estimated remaining time: 34.4 minutes\n"
     ]
    },
    {
     "name": "stderr",
     "output_type": "stream",
     "text": [
      "Processing test:  69%|██████▉   | 1590/2288 [1:16:37<34:20,  2.95s/it]"
     ]
    },
    {
     "name": "stdout",
     "output_type": "stream",
     "text": [
      "\n",
      "Batch 1590/2288: Load=1.43s, Embed=0.77s, Store=0.00s, Total=2.81s, Images/sec=4.27\n",
      "Estimated remaining time: 32.7 minutes\n"
     ]
    },
    {
     "name": "stderr",
     "output_type": "stream",
     "text": [
      "Processing test:  70%|██████▉   | 1600/2288 [1:17:12<53:56,  4.70s/it]"
     ]
    },
    {
     "name": "stdout",
     "output_type": "stream",
     "text": [
      "Saved intermediate results to /home/rmuthy2/Circle/intermediate_saves/test_r1_intermediate.parquet\n",
      "\n",
      "Batch 1600/2288: Load=1.54s, Embed=0.79s, Store=0.00s, Total=2.96s, Images/sec=4.05\n",
      "Estimated remaining time: 34.0 minutes\n"
     ]
    },
    {
     "name": "stderr",
     "output_type": "stream",
     "text": [
      "Processing test:  70%|███████   | 1610/2288 [1:17:42<36:39,  3.24s/it]"
     ]
    },
    {
     "name": "stdout",
     "output_type": "stream",
     "text": [
      "\n",
      "Batch 1610/2288: Load=1.71s, Embed=0.79s, Store=0.00s, Total=3.27s, Images/sec=3.67\n",
      "Estimated remaining time: 37.0 minutes\n"
     ]
    },
    {
     "name": "stderr",
     "output_type": "stream",
     "text": [
      "Processing test:  71%|███████   | 1620/2288 [1:18:14<34:01,  3.06s/it]"
     ]
    },
    {
     "name": "stdout",
     "output_type": "stream",
     "text": [
      "\n",
      "Batch 1620/2288: Load=1.66s, Embed=0.81s, Store=0.00s, Total=3.14s, Images/sec=3.82\n",
      "Estimated remaining time: 34.9 minutes\n"
     ]
    },
    {
     "name": "stderr",
     "output_type": "stream",
     "text": [
      "Processing test:  71%|███████   | 1630/2288 [1:18:44<33:15,  3.03s/it]"
     ]
    },
    {
     "name": "stdout",
     "output_type": "stream",
     "text": [
      "\n",
      "Batch 1630/2288: Load=1.73s, Embed=0.79s, Store=0.00s, Total=3.13s, Images/sec=3.83\n",
      "Estimated remaining time: 34.4 minutes\n"
     ]
    },
    {
     "name": "stderr",
     "output_type": "stream",
     "text": [
      "Processing test:  72%|███████▏  | 1640/2288 [1:19:14<32:03,  2.97s/it]"
     ]
    },
    {
     "name": "stdout",
     "output_type": "stream",
     "text": [
      "\n",
      "Batch 1640/2288: Load=1.73s, Embed=0.78s, Store=0.00s, Total=2.99s, Images/sec=4.01\n",
      "Estimated remaining time: 32.3 minutes\n"
     ]
    },
    {
     "name": "stderr",
     "output_type": "stream",
     "text": [
      "Processing test:  72%|███████▏  | 1650/2288 [1:19:50<51:49,  4.87s/it]"
     ]
    },
    {
     "name": "stdout",
     "output_type": "stream",
     "text": [
      "Saved intermediate results to /home/rmuthy2/Circle/intermediate_saves/test_r1_intermediate.parquet\n",
      "\n",
      "Batch 1650/2288: Load=1.68s, Embed=0.80s, Store=0.00s, Total=3.17s, Images/sec=3.78\n",
      "Estimated remaining time: 33.7 minutes\n"
     ]
    },
    {
     "name": "stderr",
     "output_type": "stream",
     "text": [
      "Processing test:  73%|███████▎  | 1660/2288 [1:20:19<31:30,  3.01s/it]"
     ]
    },
    {
     "name": "stdout",
     "output_type": "stream",
     "text": [
      "\n",
      "Batch 1660/2288: Load=1.64s, Embed=0.78s, Store=0.00s, Total=2.96s, Images/sec=4.05\n",
      "Estimated remaining time: 31.0 minutes\n"
     ]
    },
    {
     "name": "stderr",
     "output_type": "stream",
     "text": [
      "Processing test:  73%|███████▎  | 1670/2288 [1:20:49<31:01,  3.01s/it]"
     ]
    },
    {
     "name": "stdout",
     "output_type": "stream",
     "text": [
      "\n",
      "Batch 1670/2288: Load=1.68s, Embed=0.81s, Store=0.00s, Total=3.10s, Images/sec=3.87\n",
      "Estimated remaining time: 32.0 minutes\n"
     ]
    },
    {
     "name": "stderr",
     "output_type": "stream",
     "text": [
      "Processing test:  73%|███████▎  | 1680/2288 [1:21:19<30:50,  3.04s/it]"
     ]
    },
    {
     "name": "stdout",
     "output_type": "stream",
     "text": [
      "\n",
      "Batch 1680/2288: Load=1.74s, Embed=0.78s, Store=0.00s, Total=3.34s, Images/sec=3.60\n",
      "Estimated remaining time: 33.8 minutes\n"
     ]
    },
    {
     "name": "stderr",
     "output_type": "stream",
     "text": [
      "Processing test:  74%|███████▍  | 1690/2288 [1:21:48<29:10,  2.93s/it]"
     ]
    },
    {
     "name": "stdout",
     "output_type": "stream",
     "text": [
      "\n",
      "Batch 1690/2288: Load=1.57s, Embed=0.79s, Store=0.00s, Total=2.86s, Images/sec=4.19\n",
      "Estimated remaining time: 28.5 minutes\n"
     ]
    },
    {
     "name": "stderr",
     "output_type": "stream",
     "text": [
      "Processing test:  74%|███████▍  | 1700/2288 [1:22:24<47:04,  4.80s/it]"
     ]
    },
    {
     "name": "stdout",
     "output_type": "stream",
     "text": [
      "Saved intermediate results to /home/rmuthy2/Circle/intermediate_saves/test_r1_intermediate.parquet\n",
      "\n",
      "Batch 1700/2288: Load=1.64s, Embed=0.80s, Store=0.00s, Total=2.97s, Images/sec=4.04\n",
      "Estimated remaining time: 29.1 minutes\n"
     ]
    },
    {
     "name": "stderr",
     "output_type": "stream",
     "text": [
      "Processing test:  75%|███████▍  | 1710/2288 [1:22:54<28:43,  2.98s/it]"
     ]
    },
    {
     "name": "stdout",
     "output_type": "stream",
     "text": [
      "\n",
      "Batch 1710/2288: Load=1.58s, Embed=0.77s, Store=0.00s, Total=2.85s, Images/sec=4.21\n",
      "Estimated remaining time: 27.5 minutes\n"
     ]
    },
    {
     "name": "stderr",
     "output_type": "stream",
     "text": [
      "Processing test:  75%|███████▌  | 1720/2288 [1:23:23<28:07,  2.97s/it]"
     ]
    },
    {
     "name": "stdout",
     "output_type": "stream",
     "text": [
      "\n",
      "Batch 1720/2288: Load=1.61s, Embed=0.79s, Store=0.00s, Total=3.03s, Images/sec=3.96\n",
      "Estimated remaining time: 28.7 minutes\n"
     ]
    },
    {
     "name": "stderr",
     "output_type": "stream",
     "text": [
      "Processing test:  76%|███████▌  | 1730/2288 [1:23:53<27:41,  2.98s/it]"
     ]
    },
    {
     "name": "stdout",
     "output_type": "stream",
     "text": [
      "\n",
      "Batch 1730/2288: Load=1.65s, Embed=0.78s, Store=0.00s, Total=3.04s, Images/sec=3.95\n",
      "Estimated remaining time: 28.3 minutes\n"
     ]
    },
    {
     "name": "stderr",
     "output_type": "stream",
     "text": [
      "Processing test:  76%|███████▌  | 1740/2288 [1:24:24<27:40,  3.03s/it]"
     ]
    },
    {
     "name": "stdout",
     "output_type": "stream",
     "text": [
      "\n",
      "Batch 1740/2288: Load=1.66s, Embed=0.78s, Store=0.00s, Total=2.94s, Images/sec=4.08\n",
      "Estimated remaining time: 26.9 minutes\n"
     ]
    },
    {
     "name": "stderr",
     "output_type": "stream",
     "text": [
      "Processing test:  76%|███████▋  | 1750/2288 [1:25:00<44:24,  4.95s/it]"
     ]
    },
    {
     "name": "stdout",
     "output_type": "stream",
     "text": [
      "Saved intermediate results to /home/rmuthy2/Circle/intermediate_saves/test_r1_intermediate.parquet\n",
      "\n",
      "Batch 1750/2288: Load=1.81s, Embed=0.78s, Store=0.00s, Total=3.13s, Images/sec=3.83\n",
      "Estimated remaining time: 28.1 minutes\n"
     ]
    },
    {
     "name": "stderr",
     "output_type": "stream",
     "text": [
      "Processing test:  77%|███████▋  | 1760/2288 [1:25:31<27:17,  3.10s/it]"
     ]
    },
    {
     "name": "stdout",
     "output_type": "stream",
     "text": [
      "\n",
      "Batch 1760/2288: Load=1.74s, Embed=0.79s, Store=0.02s, Total=3.07s, Images/sec=3.91\n",
      "Estimated remaining time: 27.0 minutes\n"
     ]
    },
    {
     "name": "stderr",
     "output_type": "stream",
     "text": [
      "Processing test:  77%|███████▋  | 1770/2288 [1:26:01<26:24,  3.06s/it]"
     ]
    },
    {
     "name": "stdout",
     "output_type": "stream",
     "text": [
      "\n",
      "Batch 1770/2288: Load=1.65s, Embed=0.79s, Store=0.00s, Total=3.17s, Images/sec=3.78\n",
      "Estimated remaining time: 27.4 minutes\n"
     ]
    },
    {
     "name": "stderr",
     "output_type": "stream",
     "text": [
      "Processing test:  78%|███████▊  | 1780/2288 [1:26:32<25:43,  3.04s/it]"
     ]
    },
    {
     "name": "stdout",
     "output_type": "stream",
     "text": [
      "\n",
      "Batch 1780/2288: Load=1.62s, Embed=0.83s, Store=0.00s, Total=3.02s, Images/sec=3.97\n",
      "Estimated remaining time: 25.6 minutes\n"
     ]
    },
    {
     "name": "stderr",
     "output_type": "stream",
     "text": [
      "Processing test:  78%|███████▊  | 1790/2288 [1:27:03<25:23,  3.06s/it]"
     ]
    },
    {
     "name": "stdout",
     "output_type": "stream",
     "text": [
      "\n",
      "Batch 1790/2288: Load=1.61s, Embed=0.81s, Store=0.00s, Total=2.98s, Images/sec=4.03\n",
      "Estimated remaining time: 24.7 minutes\n"
     ]
    },
    {
     "name": "stderr",
     "output_type": "stream",
     "text": [
      "Processing test:  79%|███████▊  | 1800/2288 [1:27:40<40:39,  5.00s/it]"
     ]
    },
    {
     "name": "stdout",
     "output_type": "stream",
     "text": [
      "Saved intermediate results to /home/rmuthy2/Circle/intermediate_saves/test_r1_intermediate.parquet\n",
      "\n",
      "Batch 1800/2288: Load=1.47s, Embed=0.79s, Store=0.00s, Total=2.78s, Images/sec=4.31\n",
      "Estimated remaining time: 22.6 minutes\n"
     ]
    },
    {
     "name": "stderr",
     "output_type": "stream",
     "text": [
      "Processing test:  79%|███████▉  | 1810/2288 [1:28:11<23:51,  3.00s/it]"
     ]
    },
    {
     "name": "stdout",
     "output_type": "stream",
     "text": [
      "\n",
      "Batch 1810/2288: Load=1.58s, Embed=0.79s, Store=0.00s, Total=2.87s, Images/sec=4.18\n",
      "Estimated remaining time: 22.9 minutes\n"
     ]
    },
    {
     "name": "stderr",
     "output_type": "stream",
     "text": [
      "Processing test:  80%|███████▉  | 1820/2288 [1:28:40<22:45,  2.92s/it]"
     ]
    },
    {
     "name": "stdout",
     "output_type": "stream",
     "text": [
      "\n",
      "Batch 1820/2288: Load=1.60s, Embed=0.79s, Store=0.00s, Total=2.91s, Images/sec=4.12\n",
      "Estimated remaining time: 22.7 minutes\n"
     ]
    },
    {
     "name": "stderr",
     "output_type": "stream",
     "text": [
      "Processing test:  80%|███████▉  | 1830/2288 [1:29:09<22:27,  2.94s/it]"
     ]
    },
    {
     "name": "stdout",
     "output_type": "stream",
     "text": [
      "\n",
      "Batch 1830/2288: Load=1.52s, Embed=0.77s, Store=0.00s, Total=2.82s, Images/sec=4.26\n",
      "Estimated remaining time: 21.5 minutes\n"
     ]
    },
    {
     "name": "stderr",
     "output_type": "stream",
     "text": [
      "Processing test:  80%|████████  | 1840/2288 [1:29:38<21:31,  2.88s/it]"
     ]
    },
    {
     "name": "stdout",
     "output_type": "stream",
     "text": [
      "\n",
      "Batch 1840/2288: Load=1.52s, Embed=0.77s, Store=0.00s, Total=2.83s, Images/sec=4.24\n",
      "Estimated remaining time: 21.2 minutes\n"
     ]
    },
    {
     "name": "stderr",
     "output_type": "stream",
     "text": [
      "Processing test:  81%|████████  | 1850/2288 [1:30:14<36:00,  4.93s/it]"
     ]
    },
    {
     "name": "stdout",
     "output_type": "stream",
     "text": [
      "Saved intermediate results to /home/rmuthy2/Circle/intermediate_saves/test_r1_intermediate.parquet\n",
      "\n",
      "Batch 1850/2288: Load=1.51s, Embed=0.79s, Store=0.00s, Total=2.91s, Images/sec=4.13\n",
      "Estimated remaining time: 21.2 minutes\n"
     ]
    },
    {
     "name": "stderr",
     "output_type": "stream",
     "text": [
      "Processing test:  81%|████████▏ | 1860/2288 [1:30:44<21:44,  3.05s/it]"
     ]
    },
    {
     "name": "stdout",
     "output_type": "stream",
     "text": [
      "\n",
      "Batch 1860/2288: Load=1.57s, Embed=0.77s, Store=0.00s, Total=2.92s, Images/sec=4.11\n",
      "Estimated remaining time: 20.8 minutes\n"
     ]
    },
    {
     "name": "stderr",
     "output_type": "stream",
     "text": [
      "Processing test:  82%|████████▏ | 1870/2288 [1:31:13<20:32,  2.95s/it]"
     ]
    },
    {
     "name": "stdout",
     "output_type": "stream",
     "text": [
      "\n",
      "Batch 1870/2288: Load=1.62s, Embed=0.78s, Store=0.00s, Total=2.95s, Images/sec=4.07\n",
      "Estimated remaining time: 20.5 minutes\n"
     ]
    },
    {
     "name": "stderr",
     "output_type": "stream",
     "text": [
      "Processing test:  82%|████████▏ | 1880/2288 [1:31:43<19:54,  2.93s/it]"
     ]
    },
    {
     "name": "stdout",
     "output_type": "stream",
     "text": [
      "\n",
      "Batch 1880/2288: Load=1.63s, Embed=0.77s, Store=0.00s, Total=2.95s, Images/sec=4.06\n",
      "Estimated remaining time: 20.1 minutes\n"
     ]
    },
    {
     "name": "stderr",
     "output_type": "stream",
     "text": [
      "Processing test:  83%|████████▎ | 1890/2288 [1:32:12<19:16,  2.91s/it]"
     ]
    },
    {
     "name": "stdout",
     "output_type": "stream",
     "text": [
      "\n",
      "Batch 1890/2288: Load=1.51s, Embed=0.77s, Store=0.00s, Total=2.82s, Images/sec=4.26\n",
      "Estimated remaining time: 18.7 minutes\n"
     ]
    },
    {
     "name": "stderr",
     "output_type": "stream",
     "text": [
      "Processing test:  83%|████████▎ | 1900/2288 [1:32:49<32:05,  4.96s/it]"
     ]
    },
    {
     "name": "stdout",
     "output_type": "stream",
     "text": [
      "Saved intermediate results to /home/rmuthy2/Circle/intermediate_saves/test_r1_intermediate.parquet\n",
      "\n",
      "Batch 1900/2288: Load=1.50s, Embed=0.80s, Store=0.00s, Total=2.89s, Images/sec=4.16\n",
      "Estimated remaining time: 18.7 minutes\n"
     ]
    },
    {
     "name": "stderr",
     "output_type": "stream",
     "text": [
      "Processing test:  83%|████████▎ | 1910/2288 [1:33:23<20:31,  3.26s/it]"
     ]
    },
    {
     "name": "stdout",
     "output_type": "stream",
     "text": [
      "\n",
      "Batch 1910/2288: Load=1.59s, Embed=0.78s, Store=0.00s, Total=3.04s, Images/sec=3.95\n",
      "Estimated remaining time: 19.2 minutes\n"
     ]
    },
    {
     "name": "stderr",
     "output_type": "stream",
     "text": [
      "Processing test:  84%|████████▍ | 1920/2288 [1:33:54<19:10,  3.13s/it]"
     ]
    },
    {
     "name": "stdout",
     "output_type": "stream",
     "text": [
      "\n",
      "Batch 1920/2288: Load=1.62s, Embed=0.79s, Store=0.00s, Total=3.18s, Images/sec=3.77\n",
      "Estimated remaining time: 19.5 minutes\n"
     ]
    },
    {
     "name": "stderr",
     "output_type": "stream",
     "text": [
      "Processing test:  84%|████████▍ | 1930/2288 [1:34:26<18:47,  3.15s/it]"
     ]
    },
    {
     "name": "stdout",
     "output_type": "stream",
     "text": [
      "\n",
      "Batch 1930/2288: Load=1.52s, Embed=0.81s, Store=0.00s, Total=3.15s, Images/sec=3.81\n",
      "Estimated remaining time: 18.8 minutes\n"
     ]
    },
    {
     "name": "stderr",
     "output_type": "stream",
     "text": [
      "Processing test:  85%|████████▍ | 1940/2288 [1:34:57<17:52,  3.08s/it]"
     ]
    },
    {
     "name": "stdout",
     "output_type": "stream",
     "text": [
      "\n",
      "Batch 1940/2288: Load=1.59s, Embed=0.77s, Store=0.00s, Total=3.08s, Images/sec=3.90\n",
      "Estimated remaining time: 17.8 minutes\n"
     ]
    },
    {
     "name": "stderr",
     "output_type": "stream",
     "text": [
      "Processing test:  85%|████████▌ | 1950/2288 [1:35:38<30:49,  5.47s/it]"
     ]
    },
    {
     "name": "stdout",
     "output_type": "stream",
     "text": [
      "Saved intermediate results to /home/rmuthy2/Circle/intermediate_saves/test_r1_intermediate.parquet\n",
      "\n",
      "Batch 1950/2288: Load=1.65s, Embed=0.80s, Store=0.00s, Total=3.30s, Images/sec=3.64\n",
      "Estimated remaining time: 18.6 minutes\n"
     ]
    },
    {
     "name": "stderr",
     "output_type": "stream",
     "text": [
      "Processing test:  86%|████████▌ | 1960/2288 [1:36:11<18:11,  3.33s/it]"
     ]
    },
    {
     "name": "stdout",
     "output_type": "stream",
     "text": [
      "\n",
      "Batch 1960/2288: Load=1.85s, Embed=0.78s, Store=0.00s, Total=3.21s, Images/sec=3.74\n",
      "Estimated remaining time: 17.5 minutes\n"
     ]
    },
    {
     "name": "stderr",
     "output_type": "stream",
     "text": [
      "Processing test:  86%|████████▌ | 1970/2288 [1:36:44<16:54,  3.19s/it]"
     ]
    },
    {
     "name": "stdout",
     "output_type": "stream",
     "text": [
      "\n",
      "Batch 1970/2288: Load=1.63s, Embed=0.79s, Store=0.00s, Total=3.13s, Images/sec=3.83\n",
      "Estimated remaining time: 16.6 minutes\n"
     ]
    },
    {
     "name": "stderr",
     "output_type": "stream",
     "text": [
      "Processing test:  87%|████████▋ | 1980/2288 [1:37:16<16:27,  3.21s/it]"
     ]
    },
    {
     "name": "stdout",
     "output_type": "stream",
     "text": [
      "\n",
      "Batch 1980/2288: Load=1.84s, Embed=0.82s, Store=0.00s, Total=3.27s, Images/sec=3.67\n",
      "Estimated remaining time: 16.8 minutes\n"
     ]
    },
    {
     "name": "stderr",
     "output_type": "stream",
     "text": [
      "Processing test:  87%|████████▋ | 1990/2288 [1:37:46<14:59,  3.02s/it]"
     ]
    },
    {
     "name": "stdout",
     "output_type": "stream",
     "text": [
      "\n",
      "Batch 1990/2288: Load=1.57s, Embed=0.80s, Store=0.00s, Total=3.00s, Images/sec=4.00\n",
      "Estimated remaining time: 14.9 minutes\n"
     ]
    },
    {
     "name": "stderr",
     "output_type": "stream",
     "text": [
      "Processing test:  87%|████████▋ | 2000/2288 [1:38:25<25:26,  5.30s/it]"
     ]
    },
    {
     "name": "stdout",
     "output_type": "stream",
     "text": [
      "Saved intermediate results to /home/rmuthy2/Circle/intermediate_saves/test_r1_intermediate.parquet\n",
      "\n",
      "Batch 2000/2288: Load=1.64s, Embed=0.78s, Store=0.00s, Total=3.13s, Images/sec=3.84\n",
      "Estimated remaining time: 15.0 minutes\n"
     ]
    },
    {
     "name": "stderr",
     "output_type": "stream",
     "text": [
      "Processing test:  88%|████████▊ | 2010/2288 [1:38:54<13:57,  3.01s/it]"
     ]
    },
    {
     "name": "stdout",
     "output_type": "stream",
     "text": [
      "\n",
      "Batch 2010/2288: Load=1.53s, Embed=0.79s, Store=0.00s, Total=2.93s, Images/sec=4.09\n",
      "Estimated remaining time: 13.6 minutes\n"
     ]
    },
    {
     "name": "stderr",
     "output_type": "stream",
     "text": [
      "Processing test:  88%|████████▊ | 2020/2288 [1:39:25<13:24,  3.00s/it]"
     ]
    },
    {
     "name": "stdout",
     "output_type": "stream",
     "text": [
      "\n",
      "Batch 2020/2288: Load=1.60s, Embed=0.79s, Store=0.00s, Total=2.98s, Images/sec=4.02\n",
      "Estimated remaining time: 13.3 minutes\n"
     ]
    },
    {
     "name": "stderr",
     "output_type": "stream",
     "text": [
      "Processing test:  89%|████████▊ | 2030/2288 [1:39:55<13:00,  3.03s/it]"
     ]
    },
    {
     "name": "stdout",
     "output_type": "stream",
     "text": [
      "\n",
      "Batch 2030/2288: Load=1.46s, Embed=0.79s, Store=0.00s, Total=3.12s, Images/sec=3.85\n",
      "Estimated remaining time: 13.4 minutes\n"
     ]
    },
    {
     "name": "stderr",
     "output_type": "stream",
     "text": [
      "Processing test:  89%|████████▉ | 2040/2288 [1:40:26<12:55,  3.13s/it]"
     ]
    },
    {
     "name": "stdout",
     "output_type": "stream",
     "text": [
      "\n",
      "Batch 2040/2288: Load=1.62s, Embed=0.76s, Store=0.00s, Total=2.96s, Images/sec=4.05\n",
      "Estimated remaining time: 12.2 minutes\n"
     ]
    },
    {
     "name": "stderr",
     "output_type": "stream",
     "text": [
      "Processing test:  90%|████████▉ | 2050/2288 [1:41:04<21:07,  5.32s/it]"
     ]
    },
    {
     "name": "stdout",
     "output_type": "stream",
     "text": [
      "Saved intermediate results to /home/rmuthy2/Circle/intermediate_saves/test_r1_intermediate.parquet\n",
      "\n",
      "Batch 2050/2288: Load=1.56s, Embed=0.77s, Store=0.00s, Total=3.09s, Images/sec=3.89\n",
      "Estimated remaining time: 12.2 minutes\n"
     ]
    },
    {
     "name": "stderr",
     "output_type": "stream",
     "text": [
      "Processing test:  90%|█████████ | 2060/2288 [1:41:34<11:45,  3.09s/it]"
     ]
    },
    {
     "name": "stdout",
     "output_type": "stream",
     "text": [
      "\n",
      "Batch 2060/2288: Load=1.59s, Embed=0.77s, Store=0.00s, Total=3.09s, Images/sec=3.88\n",
      "Estimated remaining time: 11.8 minutes\n"
     ]
    },
    {
     "name": "stderr",
     "output_type": "stream",
     "text": [
      "Processing test:  90%|█████████ | 2070/2288 [1:42:04<10:47,  2.97s/it]"
     ]
    },
    {
     "name": "stdout",
     "output_type": "stream",
     "text": [
      "\n",
      "Batch 2070/2288: Load=1.55s, Embed=0.77s, Store=0.00s, Total=2.98s, Images/sec=4.03\n",
      "Estimated remaining time: 10.8 minutes\n"
     ]
    },
    {
     "name": "stderr",
     "output_type": "stream",
     "text": [
      "Processing test:  91%|█████████ | 2080/2288 [1:42:35<10:34,  3.05s/it]"
     ]
    },
    {
     "name": "stdout",
     "output_type": "stream",
     "text": [
      "\n",
      "Batch 2080/2288: Load=1.66s, Embed=0.78s, Store=0.00s, Total=3.02s, Images/sec=3.97\n",
      "Estimated remaining time: 10.5 minutes\n"
     ]
    },
    {
     "name": "stderr",
     "output_type": "stream",
     "text": [
      "Processing test:  91%|█████████▏| 2090/2288 [1:43:05<10:09,  3.08s/it]"
     ]
    },
    {
     "name": "stdout",
     "output_type": "stream",
     "text": [
      "\n",
      "Batch 2090/2288: Load=1.65s, Embed=0.77s, Store=0.00s, Total=3.10s, Images/sec=3.87\n",
      "Estimated remaining time: 10.2 minutes\n"
     ]
    },
    {
     "name": "stderr",
     "output_type": "stream",
     "text": [
      "Processing test:  92%|█████████▏| 2100/2288 [1:43:43<16:33,  5.28s/it]"
     ]
    },
    {
     "name": "stdout",
     "output_type": "stream",
     "text": [
      "Saved intermediate results to /home/rmuthy2/Circle/intermediate_saves/test_r1_intermediate.parquet\n",
      "\n",
      "Batch 2100/2288: Load=1.53s, Embed=0.81s, Store=0.00s, Total=3.04s, Images/sec=3.95\n",
      "Estimated remaining time: 9.5 minutes\n"
     ]
    },
    {
     "name": "stderr",
     "output_type": "stream",
     "text": [
      "Processing test:  92%|█████████▏| 2110/2288 [1:44:13<09:16,  3.12s/it]"
     ]
    },
    {
     "name": "stdout",
     "output_type": "stream",
     "text": [
      "\n",
      "Batch 2110/2288: Load=1.71s, Embed=0.78s, Store=0.00s, Total=3.06s, Images/sec=3.92\n",
      "Estimated remaining time: 9.1 minutes\n"
     ]
    },
    {
     "name": "stderr",
     "output_type": "stream",
     "text": [
      "Processing test:  93%|█████████▎| 2120/2288 [1:44:43<08:16,  2.96s/it]"
     ]
    },
    {
     "name": "stdout",
     "output_type": "stream",
     "text": [
      "\n",
      "Batch 2120/2288: Load=1.53s, Embed=0.78s, Store=0.00s, Total=2.90s, Images/sec=4.14\n",
      "Estimated remaining time: 8.1 minutes\n"
     ]
    },
    {
     "name": "stderr",
     "output_type": "stream",
     "text": [
      "Processing test:  93%|█████████▎| 2130/2288 [1:45:13<07:57,  3.02s/it]"
     ]
    },
    {
     "name": "stdout",
     "output_type": "stream",
     "text": [
      "\n",
      "Batch 2130/2288: Load=1.63s, Embed=0.77s, Store=0.00s, Total=2.99s, Images/sec=4.02\n",
      "Estimated remaining time: 7.9 minutes\n"
     ]
    },
    {
     "name": "stderr",
     "output_type": "stream",
     "text": [
      "Processing test:  94%|█████████▎| 2140/2288 [1:45:43<07:22,  2.99s/it]"
     ]
    },
    {
     "name": "stdout",
     "output_type": "stream",
     "text": [
      "\n",
      "Batch 2140/2288: Load=1.49s, Embed=0.80s, Store=0.00s, Total=2.88s, Images/sec=4.16\n",
      "Estimated remaining time: 7.1 minutes\n"
     ]
    },
    {
     "name": "stderr",
     "output_type": "stream",
     "text": [
      "Processing test:  94%|█████████▍| 2150/2288 [1:46:21<12:08,  5.28s/it]"
     ]
    },
    {
     "name": "stdout",
     "output_type": "stream",
     "text": [
      "Saved intermediate results to /home/rmuthy2/Circle/intermediate_saves/test_r1_intermediate.parquet\n",
      "\n",
      "Batch 2150/2288: Load=1.59s, Embed=0.77s, Store=0.00s, Total=2.96s, Images/sec=4.06\n",
      "Estimated remaining time: 6.8 minutes\n"
     ]
    },
    {
     "name": "stderr",
     "output_type": "stream",
     "text": [
      "Processing test:  94%|█████████▍| 2160/2288 [1:46:51<06:44,  3.16s/it]"
     ]
    },
    {
     "name": "stdout",
     "output_type": "stream",
     "text": [
      "\n",
      "Batch 2160/2288: Load=1.73s, Embed=0.80s, Store=0.00s, Total=3.12s, Images/sec=3.85\n",
      "Estimated remaining time: 6.7 minutes\n"
     ]
    },
    {
     "name": "stderr",
     "output_type": "stream",
     "text": [
      "Processing test:  95%|█████████▍| 2170/2288 [1:47:23<06:10,  3.14s/it]"
     ]
    },
    {
     "name": "stdout",
     "output_type": "stream",
     "text": [
      "\n",
      "Batch 2170/2288: Load=1.60s, Embed=0.77s, Store=0.00s, Total=2.99s, Images/sec=4.01\n",
      "Estimated remaining time: 5.9 minutes\n"
     ]
    },
    {
     "name": "stderr",
     "output_type": "stream",
     "text": [
      "Processing test:  95%|█████████▌| 2180/2288 [1:47:54<05:43,  3.18s/it]"
     ]
    },
    {
     "name": "stdout",
     "output_type": "stream",
     "text": [
      "\n",
      "Batch 2180/2288: Load=1.68s, Embed=0.79s, Store=0.00s, Total=3.27s, Images/sec=3.67\n",
      "Estimated remaining time: 5.9 minutes\n"
     ]
    },
    {
     "name": "stderr",
     "output_type": "stream",
     "text": [
      "Processing test:  96%|█████████▌| 2190/2288 [1:48:26<05:04,  3.11s/it]"
     ]
    },
    {
     "name": "stdout",
     "output_type": "stream",
     "text": [
      "\n",
      "Batch 2190/2288: Load=1.71s, Embed=0.77s, Store=0.00s, Total=3.08s, Images/sec=3.89\n",
      "Estimated remaining time: 5.0 minutes\n"
     ]
    },
    {
     "name": "stderr",
     "output_type": "stream",
     "text": [
      "Processing test:  96%|█████████▌| 2200/2288 [1:49:05<08:03,  5.50s/it]"
     ]
    },
    {
     "name": "stdout",
     "output_type": "stream",
     "text": [
      "Saved intermediate results to /home/rmuthy2/Circle/intermediate_saves/test_r1_intermediate.parquet\n",
      "\n",
      "Batch 2200/2288: Load=1.65s, Embed=0.79s, Store=0.00s, Total=3.05s, Images/sec=3.94\n",
      "Estimated remaining time: 4.5 minutes\n"
     ]
    },
    {
     "name": "stderr",
     "output_type": "stream",
     "text": [
      "Processing test:  97%|█████████▋| 2210/2288 [1:49:37<04:04,  3.13s/it]"
     ]
    },
    {
     "name": "stdout",
     "output_type": "stream",
     "text": [
      "\n",
      "Batch 2210/2288: Load=1.63s, Embed=0.77s, Store=0.00s, Total=3.00s, Images/sec=4.00\n",
      "Estimated remaining time: 3.9 minutes\n"
     ]
    },
    {
     "name": "stderr",
     "output_type": "stream",
     "text": [
      "Processing test:  97%|█████████▋| 2220/2288 [1:50:08<03:34,  3.15s/it]"
     ]
    },
    {
     "name": "stdout",
     "output_type": "stream",
     "text": [
      "\n",
      "Batch 2220/2288: Load=1.72s, Embed=0.77s, Store=0.00s, Total=3.11s, Images/sec=3.86\n",
      "Estimated remaining time: 3.5 minutes\n"
     ]
    },
    {
     "name": "stderr",
     "output_type": "stream",
     "text": [
      "Processing test:  97%|█████████▋| 2230/2288 [1:50:40<03:05,  3.19s/it]"
     ]
    },
    {
     "name": "stdout",
     "output_type": "stream",
     "text": [
      "\n",
      "Batch 2230/2288: Load=1.75s, Embed=0.79s, Store=0.00s, Total=3.23s, Images/sec=3.72\n",
      "Estimated remaining time: 3.1 minutes\n"
     ]
    },
    {
     "name": "stderr",
     "output_type": "stream",
     "text": [
      "Processing test:  98%|█████████▊| 2240/2288 [1:51:11<02:30,  3.14s/it]"
     ]
    },
    {
     "name": "stdout",
     "output_type": "stream",
     "text": [
      "\n",
      "Batch 2240/2288: Load=1.68s, Embed=0.78s, Store=0.00s, Total=3.14s, Images/sec=3.82\n",
      "Estimated remaining time: 2.5 minutes\n"
     ]
    },
    {
     "name": "stderr",
     "output_type": "stream",
     "text": [
      "Processing test:  98%|█████████▊| 2250/2288 [1:51:51<03:36,  5.70s/it]"
     ]
    },
    {
     "name": "stdout",
     "output_type": "stream",
     "text": [
      "Saved intermediate results to /home/rmuthy2/Circle/intermediate_saves/test_r1_intermediate.parquet\n",
      "\n",
      "Batch 2250/2288: Load=1.68s, Embed=0.79s, Store=0.00s, Total=3.16s, Images/sec=3.79\n",
      "Estimated remaining time: 2.0 minutes\n"
     ]
    },
    {
     "name": "stderr",
     "output_type": "stream",
     "text": [
      "Processing test:  99%|█████████▉| 2260/2288 [1:52:23<01:32,  3.30s/it]"
     ]
    },
    {
     "name": "stdout",
     "output_type": "stream",
     "text": [
      "\n",
      "Batch 2260/2288: Load=1.74s, Embed=0.78s, Store=0.00s, Total=3.14s, Images/sec=3.82\n",
      "Estimated remaining time: 1.5 minutes\n"
     ]
    },
    {
     "name": "stderr",
     "output_type": "stream",
     "text": [
      "Processing test:  99%|█████████▉| 2270/2288 [1:52:56<00:58,  3.23s/it]"
     ]
    },
    {
     "name": "stdout",
     "output_type": "stream",
     "text": [
      "\n",
      "Batch 2270/2288: Load=1.71s, Embed=0.78s, Store=0.00s, Total=3.14s, Images/sec=3.82\n",
      "Estimated remaining time: 0.9 minutes\n"
     ]
    },
    {
     "name": "stderr",
     "output_type": "stream",
     "text": [
      "Processing test: 100%|█████████▉| 2280/2288 [1:53:28<00:25,  3.18s/it]"
     ]
    },
    {
     "name": "stdout",
     "output_type": "stream",
     "text": [
      "\n",
      "Batch 2280/2288: Load=1.76s, Embed=0.78s, Store=0.00s, Total=3.21s, Images/sec=3.73\n",
      "Estimated remaining time: 0.4 minutes\n"
     ]
    },
    {
     "name": "stderr",
     "output_type": "stream",
     "text": [
      "Processing test: 100%|██████████| 2288/2288 [1:54:02<00:00,  2.99s/it]"
     ]
    },
    {
     "name": "stdout",
     "output_type": "stream",
     "text": [
      "Saved intermediate results to /home/rmuthy2/Circle/intermediate_saves/test_r1_intermediate.parquet\n",
      "\n",
      "Batch 2288/2288: Load=1.82s, Embed=0.79s, Store=0.00s, Total=3.41s, Images/sec=3.52\n"
     ]
    },
    {
     "name": "stderr",
     "output_type": "stream",
     "text": [
      "\n"
     ]
    },
    {
     "name": "stdout",
     "output_type": "stream",
     "text": [
      "Saved: /home/rmuthy2/Circle/EmbeddingsOut/raddino-test-r1.parquet\n",
      "Saved: /home/rmuthy2/Circle/EmbeddingsOut/dinov3-test-r1.parquet\n",
      "\n",
      "Completed processing for radius 1\n"
     ]
    }
   ],
   "source": [
    "import os\n",
    "os.environ[\"CUDA_VISIBLE_DEVICES\"] = \"2\"\n",
    "os.environ[\"PYTORCH_CUDA_ALLOC_CONF\"] = \"expandable_segments:True\"\n",
    "if __name__ == \"__main__\":\n",
    "    # Optionally pin a GPU:\n",
    "    # os.environ[\"CUDA_VISIBLE_DEVICES\"] = \"0\"\n",
    "\n",
    "    pipeline = ImagePipeline(root_path=\"/home/rmuthy2/central_data/datasets/internal/EmoryCXRv2/ORIGINAL_PNG\")\n",
    "    pipeline.run_single_radius(\n",
    "        train_csv_path=\"/home/rmuthy2/Circle/train_dataset.csv\",\n",
    "        test_csv_path=\"/home/rmuthy2/Circle/test_dataset.csv\",\n",
    "        radius=1,\n",
    "        output_dir=\"/home/rmuthy2/Circle/EmbeddingsOut\",\n",
    "        batch_size=12  # lower if you still hit memory hiccups\n",
    "    )"
   ]
  },
  {
   "cell_type": "code",
   "execution_count": 3,
   "id": "a0dafbdb-ad27-4c3d-b0a6-3a37c842eae1",
   "metadata": {},
   "outputs": [],
   "source": [
    "import pandas as pd\n",
    "import numpy as np\n",
    "from sklearn.linear_model import LogisticRegression\n",
    "from sklearn.metrics import (\n",
    "    roc_auc_score, roc_curve,\n",
    "    precision_recall_curve, f1_score, classification_report\n",
    ")\n",
    "from sklearn.preprocessing import StandardScaler\n",
    "import matplotlib.pyplot as plt\n",
    "\n",
    "class LinearProbingAnalyzer:\n",
    "    \"\"\"\n",
    "    Simple linear probing analysis for image embeddings using logistic regression\n",
    "    Specialized for circle patterns with radius parameter\n",
    "    \"\"\"\n",
    "    \n",
    "    def __init__(self):\n",
    "        self.results = {}\n",
    "        \n",
    "    def load_and_extract_embeddings(self, parquet_path, embedding_col):\n",
    "        \"\"\"Load parquet and extract embeddings and labels\"\"\"\n",
    "        df = pd.read_parquet(parquet_path)\n",
    "        \n",
    "        # Filter valid embeddings\n",
    "        valid_mask = df[embedding_col].notna()\n",
    "        df_valid = df[valid_mask].copy()\n",
    "        \n",
    "        # Extract embeddings\n",
    "        embeddings, labels = [], []\n",
    "        for _, row in df_valid.iterrows():\n",
    "            emb = row[embedding_col]\n",
    "            if isinstance(emb, str):\n",
    "                import ast\n",
    "                emb = ast.literal_eval(emb)\n",
    "            if isinstance(emb, list):\n",
    "                emb = np.array(emb)\n",
    "            embeddings.append(emb)\n",
    "            labels.append(row['noise'])\n",
    "        \n",
    "        X = np.vstack(embeddings)\n",
    "        y = np.array(labels).astype(int)  # ensure 0/1\n",
    "        return X, y\n",
    "    \n",
    "    def _best_f1_threshold(self, y_true, y_proba):\n",
    "        \"\"\"Find the probability threshold that maximizes F1.\"\"\"\n",
    "        precisions, recalls, thresholds = precision_recall_curve(y_true, y_proba)\n",
    "        if len(thresholds) == 0:\n",
    "            return 0.5, 0.0\n",
    "        f1s = (2 * precisions[1:] * recalls[1:]) / (precisions[1:] + recalls[1:] + 1e-12)\n",
    "        idx = int(np.argmax(f1s))\n",
    "        return float(thresholds[idx]), float(f1s[idx])\n",
    "    \n",
    "    def _print_classification_report(self, y_true, y_pred, model_name, use_thr):\n",
    "        print(f\"\\n--- {model_name.upper()} CLASSIFICATION REPORT @ THR={use_thr:.3f} ---\")\n",
    "        print(classification_report(y_true, y_pred, digits=4))\n",
    "    \n",
    "    def train_and_evaluate(self, model_name, X_train, y_train, X_test, y_test, threshold='auto'):\n",
    "        \"\"\"\n",
    "        Train logistic regression and evaluate.\n",
    "        threshold: 'auto' to maximize F1 on test set, or a float in [0,1].\n",
    "        \"\"\"\n",
    "        print(f\"Training {model_name.upper()}...\")\n",
    "        \n",
    "        # Standardize features\n",
    "        scaler = StandardScaler()\n",
    "        X_train_scaled = scaler.fit_transform(X_train)\n",
    "        X_test_scaled = scaler.transform(X_test)\n",
    "        \n",
    "        # Train model\n",
    "        model = LogisticRegression(random_state=42, max_iter=1000)\n",
    "        model.fit(X_train_scaled, y_train)\n",
    "        \n",
    "        # Prob predictions\n",
    "        y_test_proba = model.predict_proba(X_test_scaled)[:, 1]\n",
    "        \n",
    "        # AUC + ROC\n",
    "        auc_score = roc_auc_score(y_test, y_test_proba)\n",
    "        fpr, tpr, _ = roc_curve(y_test, y_test_proba)\n",
    "        \n",
    "        # Threshold & F1\n",
    "        if threshold == 'auto':\n",
    "            use_thr, best_f1 = self._best_f1_threshold(y_test, y_test_proba)\n",
    "            y_pred = (y_test_proba >= use_thr).astype(int)\n",
    "            f1 = f1_score(y_test, y_pred)\n",
    "        else:\n",
    "            use_thr = float(threshold)\n",
    "            y_pred = (y_test_proba >= use_thr).astype(int)\n",
    "            f1 = f1_score(y_test, y_pred)\n",
    "        \n",
    "        print(f\"{model_name.upper()} Test AUC: {auc_score:.4f} | F1@{use_thr:.3f}: {f1:.4f}\")\n",
    "        self._print_classification_report(y_test, y_pred, model_name, use_thr)\n",
    "        \n",
    "        self.results[model_name] = {\n",
    "            'auc': auc_score,\n",
    "            'f1': f1,\n",
    "            'threshold': use_thr,\n",
    "            'fpr': fpr,\n",
    "            'tpr': tpr\n",
    "        }\n",
    "        return auc_score, f1, use_thr\n",
    "    \n",
    "    def plot_roc_curves(self, save_path=None, radius=1):\n",
    "        \"\"\"Plot ROC curves for both models\"\"\"\n",
    "        plt.figure(figsize=(8, 6))\n",
    "        colors = {'raddino': '#2E86C1', 'dinov3': '#E74C3C'}\n",
    "        \n",
    "        for model_name in ['raddino', 'dinov3']:\n",
    "            if model_name in self.results:\n",
    "                r = self.results[model_name]\n",
    "                label = (f'{model_name.upper()} '\n",
    "                         f'(AUC={r[\"auc\"]:.3f}, F1@{r[\"threshold\"]:.2f}={r[\"f1\"]:.3f})')\n",
    "                plt.plot(r['fpr'], r['tpr'], color=colors[model_name], linewidth=2.5, label=label)\n",
    "        \n",
    "        plt.plot([0, 1], [0, 1], 'k--', alpha=0.5, linewidth=1)\n",
    "        plt.xlabel('False Positive Rate', fontsize=12)\n",
    "        plt.ylabel('True Positive Rate', fontsize=12)\n",
    "        plt.title(f'ROC Curves - Noise Classification (Circle r={radius})', fontsize=14, fontweight='bold')\n",
    "        plt.legend(fontsize=10)\n",
    "        plt.grid(True, alpha=0.3)\n",
    "        \n",
    "        if save_path:\n",
    "            plt.savefig(save_path, dpi=300, bbox_inches='tight')\n",
    "            print(f\"Plot saved to: {save_path}\")\n",
    "        plt.show()\n",
    "    \n",
    "    def run_analysis(self, raddino_train_path, raddino_test_path, \n",
    "                     dinov3_train_path, dinov3_test_path, radius=1, threshold='auto'):\n",
    "        \"\"\"Run complete analysis for circle patterns\"\"\"\n",
    "        print(\"=\"*50)\n",
    "        print(f\"LINEAR PROBING ANALYSIS - CIRCLE PATTERN (r={radius})\")\n",
    "        print(\"=\"*50)\n",
    "        \n",
    "        # Column names for circle embeddings\n",
    "        raddino_col = f'raddino_embedding_r{radius}'\n",
    "        dinov3_col = f'dinov3_embedding_r{radius}'\n",
    "        print(f\"Using embeddings: {raddino_col}, {dinov3_col}\")\n",
    "        \n",
    "        # Load data\n",
    "        print(\"Loading RadDiNo data...\")\n",
    "        X_train_rad, y_train_rad = self.load_and_extract_embeddings(raddino_train_path, raddino_col)\n",
    "        X_test_rad, y_test_rad = self.load_and_extract_embeddings(raddino_test_path, raddino_col)\n",
    "        print(f\"RadDiNo - Train: {X_train_rad.shape}, Test: {X_test_rad.shape}\")\n",
    "        \n",
    "        print(\"Loading DINOv3 data...\")\n",
    "        X_train_dino, y_train_dino = self.load_and_extract_embeddings(dinov3_train_path, dinov3_col)\n",
    "        X_test_dino, y_test_dino = self.load_and_extract_embeddings(dinov3_test_path, dinov3_col)\n",
    "        print(f\"DINOv3 - Train: {X_train_dino.shape}, Test: {X_test_dino.shape}\")\n",
    "        \n",
    "        # Train & eval\n",
    "        rad_auc, rad_f1, rad_thr = self.train_and_evaluate('raddino', X_train_rad, y_train_rad, X_test_rad, y_test_rad, threshold=threshold)\n",
    "        dino_auc, dino_f1, dino_thr = self.train_and_evaluate('dinov3', X_train_dino, y_train_dino, X_test_dino, y_test_dino, threshold=threshold)\n",
    "        \n",
    "        # Plot\n",
    "        plot_filename = f'roc_curves_circle_r{radius}.png'\n",
    "        self.plot_roc_curves(plot_filename, radius)\n",
    "        \n",
    "        # Summary\n",
    "        print(\"\\n\" + \"=\"*50)\n",
    "        print(\"RESULTS SUMMARY\")\n",
    "        print(\"=\"*50)\n",
    "        print(f\"Pattern Type: Circle\")\n",
    "        print(f\"Radius:       {radius}\")\n",
    "        print(f\"RadDiNo -> AUC: {rad_auc:.4f} | F1@{rad_thr:.3f}: {rad_f1:.4f}\")\n",
    "        print(f\"DINOv3  -> AUC: {dino_auc:.4f} | F1@{dino_thr:.3f}: {dino_f1:.4f}\")\n",
    "        print(f\"AUC Δ: {abs(rad_auc - dino_auc):.4f} | F1 Δ: {abs(rad_f1 - dino_f1):.4f}\")\n",
    "        \n",
    "        return self.results\n"
   ]
  },
  {
   "cell_type": "code",
   "execution_count": 4,
   "id": "a6ad50ce-37cf-4a51-b759-78eadfb97d1e",
   "metadata": {},
   "outputs": [
    {
     "name": "stdout",
     "output_type": "stream",
     "text": [
      "==================================================\n",
      "LINEAR PROBING ANALYSIS - CIRCLE PATTERN (r=1)\n",
      "==================================================\n",
      "Using embeddings: raddino_embedding_r1, dinov3_embedding_r1\n",
      "Loading RadDiNo data...\n",
      "RadDiNo - Train: (109824, 768), Test: (27456, 768)\n",
      "Loading DINOv3 data...\n",
      "DINOv3 - Train: (109824, 4096), Test: (27456, 4096)\n",
      "Training RADDINO...\n",
      "RADDINO Test AUC: 0.5112 | F1@0.285: 0.6667\n",
      "\n",
      "--- RADDINO CLASSIFICATION REPORT @ THR=0.285 ---\n",
      "              precision    recall  f1-score   support\n",
      "\n",
      "           0     0.0000    0.0000    0.0000     13728\n",
      "           1     0.5000    1.0000    0.6667     13728\n",
      "\n",
      "    accuracy                         0.5000     27456\n",
      "   macro avg     0.2500    0.5000    0.3333     27456\n",
      "weighted avg     0.2500    0.5000    0.3333     27456\n",
      "\n",
      "Training DINOV3...\n"
     ]
    },
    {
     "name": "stderr",
     "output_type": "stream",
     "text": [
      "/mnt/NAS3/homes/rmuthy2/myenv/lib/python3.10/site-packages/sklearn/metrics/_classification.py:1731: UndefinedMetricWarning: Precision is ill-defined and being set to 0.0 in labels with no predicted samples. Use `zero_division` parameter to control this behavior.\n",
      "  _warn_prf(average, modifier, f\"{metric.capitalize()} is\", result.shape[0])\n",
      "/mnt/NAS3/homes/rmuthy2/myenv/lib/python3.10/site-packages/sklearn/metrics/_classification.py:1731: UndefinedMetricWarning: Precision is ill-defined and being set to 0.0 in labels with no predicted samples. Use `zero_division` parameter to control this behavior.\n",
      "  _warn_prf(average, modifier, f\"{metric.capitalize()} is\", result.shape[0])\n",
      "/mnt/NAS3/homes/rmuthy2/myenv/lib/python3.10/site-packages/sklearn/metrics/_classification.py:1731: UndefinedMetricWarning: Precision is ill-defined and being set to 0.0 in labels with no predicted samples. Use `zero_division` parameter to control this behavior.\n",
      "  _warn_prf(average, modifier, f\"{metric.capitalize()} is\", result.shape[0])\n"
     ]
    },
    {
     "name": "stdout",
     "output_type": "stream",
     "text": [
      "DINOV3 Test AUC: 0.5479 | F1@0.005: 0.6667\n",
      "\n",
      "--- DINOV3 CLASSIFICATION REPORT @ THR=0.005 ---\n",
      "              precision    recall  f1-score   support\n",
      "\n",
      "           0     0.0000    0.0000    0.0000     13728\n",
      "           1     0.5000    1.0000    0.6667     13728\n",
      "\n",
      "    accuracy                         0.5000     27456\n",
      "   macro avg     0.2500    0.5000    0.3333     27456\n",
      "weighted avg     0.2500    0.5000    0.3333     27456\n",
      "\n"
     ]
    },
    {
     "name": "stderr",
     "output_type": "stream",
     "text": [
      "/mnt/NAS3/homes/rmuthy2/myenv/lib/python3.10/site-packages/sklearn/metrics/_classification.py:1731: UndefinedMetricWarning: Precision is ill-defined and being set to 0.0 in labels with no predicted samples. Use `zero_division` parameter to control this behavior.\n",
      "  _warn_prf(average, modifier, f\"{metric.capitalize()} is\", result.shape[0])\n",
      "/mnt/NAS3/homes/rmuthy2/myenv/lib/python3.10/site-packages/sklearn/metrics/_classification.py:1731: UndefinedMetricWarning: Precision is ill-defined and being set to 0.0 in labels with no predicted samples. Use `zero_division` parameter to control this behavior.\n",
      "  _warn_prf(average, modifier, f\"{metric.capitalize()} is\", result.shape[0])\n",
      "/mnt/NAS3/homes/rmuthy2/myenv/lib/python3.10/site-packages/sklearn/metrics/_classification.py:1731: UndefinedMetricWarning: Precision is ill-defined and being set to 0.0 in labels with no predicted samples. Use `zero_division` parameter to control this behavior.\n",
      "  _warn_prf(average, modifier, f\"{metric.capitalize()} is\", result.shape[0])\n"
     ]
    },
    {
     "name": "stdout",
     "output_type": "stream",
     "text": [
      "Plot saved to: roc_curves_circle_r1.png\n"
     ]
    },
    {
     "data": {
      "image/png": "[encoded data removed]",
      "text/plain": [
       "<Figure size 800x600 with 1 Axes>"
      ]
     },
     "metadata": {},
     "output_type": "display_data"
    },
    {
     "name": "stdout",
     "output_type": "stream",
     "text": [
      "\n",
      "==================================================\n",
      "RESULTS SUMMARY\n",
      "==================================================\n",
      "Pattern Type: Circle\n",
      "Radius:       1\n",
      "RadDiNo -> AUC: 0.5112 | F1@0.285: 0.6667\n",
      "DINOv3  -> AUC: 0.5479 | F1@0.005: 0.6667\n",
      "AUC Δ: 0.0367 | F1 Δ: 0.0000\n"
     ]
    }
   ],
   "source": [
    "# Example usage for both patterns:\n",
    "if __name__ == \"__main__\":\n",
    "    analyzer = LinearProbingAnalyzer()\n",
    "\n",
    "    results_circles = analyzer.run_analysis(\n",
    "        '/home/rmuthy2/Circle/EmbeddingsOut/raddino-train-r1.parquet',\n",
    "        '/home/rmuthy2/Circle/EmbeddingsOut/raddino-test-r1.parquet',\n",
    "        '/home/rmuthy2/Circle/EmbeddingsOut/dinov3-train-r1.parquet', \n",
    "        '/home/rmuthy2/Circle/EmbeddingsOut/dinov3-test-r1.parquet',\n",
    "         radius=1\n",
    "    )"
   ]
  },
  {
   "cell_type": "code",
   "execution_count": null,
   "id": "4ebc6eef-3076-46f0-bd7e-393e9ff7c7bc",
   "metadata": {},
   "outputs": [],
   "source": []
  }
 ],
 "metadata": {
  "kernelspec": {
   "display_name": "ImageAnalysis",
   "language": "python",
   "name": "myenv"
  },
  "language_info": {
   "codemirror_mode": {
    "name": "ipython",
    "version": 3
   },
   "file_extension": ".py",
   "mimetype": "text/x-python",
   "name": "python",
   "nbconvert_exporter": "python",
   "pygments_lexer": "ipython3",
   "version": "3.10.10"
  }
 },
 "nbformat": 4,
 "nbformat_minor": 5
}
