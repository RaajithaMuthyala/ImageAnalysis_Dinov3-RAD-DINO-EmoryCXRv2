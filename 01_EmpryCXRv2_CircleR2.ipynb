{
 "cells": [
  {
   "cell_type": "code",
   "execution_count": 1,
   "id": "4c3266f0-a763-4782-9587-72370c6f7f75",
   "metadata": {},
   "outputs": [
    {
     "name": "stdout",
     "output_type": "stream",
     "text": [
      "1\n",
      "NVIDIA L40S\n",
      "CUDA available: True\n",
      "Number of visible GPUs: 1\n",
      "Device 0: NVIDIA L40S\n"
     ]
    }
   ],
   "source": [
    "import os\n",
    "os.environ[\"CUDA_VISIBLE_DEVICES\"] = \"3\"\n",
    "\n",
    "import torch\n",
    "print(torch.cuda.device_count())   # should be 1 now\n",
    "print(torch.cuda.get_device_name(0))  # GPU 8 will appear as cuda:0\n",
    "\n",
    "import torch\n",
    "\n",
    "print(f\"CUDA available: {torch.cuda.is_available()}\")\n",
    "print(f\"Number of visible GPUs: {torch.cuda.device_count()}\")\n",
    "\n",
    "for i in range(torch.cuda.device_count()):\n",
    "    print(f\"Device {i}: {torch.cuda.get_device_name(i)}\")\n",
    "\n"
   ]
  },
  {
   "cell_type": "code",
   "execution_count": 2,
   "id": "cbafc912-a9d2-4555-aeb6-80009f309a8a",
   "metadata": {},
   "outputs": [
    {
     "name": "stderr",
     "output_type": "stream",
     "text": [
      "/mnt/NAS3/homes/rmuthy2/myenv/lib/python3.10/site-packages/tqdm/auto.py:21: TqdmWarning: IProgress not found. Please update jupyter and ipywidgets. See https://ipywidgets.readthedocs.io/en/stable/user_install.html\n",
      "  from .autonotebook import tqdm as notebook_tqdm\n"
     ]
    }
   ],
   "source": [
    "# === Imports & runtime knobs ===================================================\n",
    "import os\n",
    "os.environ.setdefault(\"PYTORCH_CUDA_ALLOC_CONF\", \"expandable_segments:True\")\n",
    "\n",
    "import cv2\n",
    "import numpy as np\n",
    "import random\n",
    "import torch\n",
    "import gc\n",
    "import pandas as pd\n",
    "from tqdm import tqdm\n",
    "from transformers import AutoImageProcessor, AutoModel\n",
    "from PIL import Image\n",
    "import json\n",
    "import time\n",
    "from datetime import datetime\n",
    "\n",
    "# cuDNN stability (helps avoid CUDNN_STATUS_EXECUTION_FAILED on some GPUs)\n",
    "torch.backends.cudnn.benchmark = False\n",
    "torch.backends.cudnn.deterministic = True\n",
    "torch.set_float32_matmul_precision(\"high\")  # inference-only; avoids AMP surprises\n",
    "\n",
    "# === Image preprocessing =======================================================\n",
    "class ImagePreprocessor:\n",
    "    def __init__(self, square_size=3052, target_size=(1024, 1024)):\n",
    "        self.square_size = square_size\n",
    "        self.target_size = target_size\n",
    "\n",
    "    def analyze_image_color_distribution(self, image):\n",
    "        \"\"\"\n",
    "        Analyze grayscale histogram on the original image.\n",
    "        Pick mode in [21..234]; fallback sensibly; return ±20 absolute range.\n",
    "        \"\"\"\n",
    "        if len(image.shape) == 3:\n",
    "            gray = cv2.cvtColor(image, cv2.COLOR_BGR2GRAY)\n",
    "        else:\n",
    "            gray = image\n",
    "\n",
    "        hist = cv2.calcHist([gray], [0], None, [256], [0, 256]).flatten()\n",
    "\n",
    "        hist_for_peaks = hist.copy()\n",
    "        hist_for_peaks[:21] = 0\n",
    "        hist_for_peaks[235:] = 0\n",
    "\n",
    "        if np.sum(hist_for_peaks) > 0:\n",
    "            mode_value = int(np.argmax(hist_for_peaks))\n",
    "        else:\n",
    "            hist_fallback = hist.copy()\n",
    "            hist_fallback[0] = 0\n",
    "            hist_fallback[255] = 0\n",
    "            mode_value = int(np.argmax(hist_fallback)) if np.sum(hist_fallback) > 0 else 128\n",
    "\n",
    "        if mode_value <= 20 or mode_value >= 235:\n",
    "            hist_copy = hist.copy()\n",
    "            hist_copy[mode_value] = 0\n",
    "            hist_copy[:21] = 0\n",
    "            hist_copy[235:] = 0\n",
    "            mode_value = int(np.argmax(hist_copy)) if np.sum(hist_copy) > 0 else 128\n",
    "\n",
    "        min_noise_color = max(0, mode_value - 20)\n",
    "        max_noise_color = min(255, mode_value + 20)\n",
    "        return mode_value, (min_noise_color, max_noise_color), hist\n",
    "\n",
    "    def pad_to_square_and_resize(self, image_path, analyze_colors=True):\n",
    "        \"\"\"\n",
    "        Load image, run color analysis on original, pad to square with black,\n",
    "        resize to 1024x1024.\n",
    "        \"\"\"\n",
    "        image = cv2.imread(image_path)\n",
    "        if image is None:\n",
    "            raise ValueError(f\"Cannot load image: {image_path}\")\n",
    "\n",
    "        color_analysis = None\n",
    "        if analyze_colors:\n",
    "            mode_value, noise_range, hist = self.analyze_image_color_distribution(image)\n",
    "            color_analysis = {'mode_value': mode_value, 'noise_range': noise_range, 'histogram': hist}\n",
    "\n",
    "        h, w = image.shape[:2]\n",
    "        max_dim = max(h, w, self.square_size)\n",
    "\n",
    "        pad_h = max_dim - h\n",
    "        pad_w = max_dim - w\n",
    "        top = pad_h // 2\n",
    "        bottom = pad_h - top\n",
    "        left = pad_w // 2\n",
    "        right = pad_w - left\n",
    "\n",
    "        if len(image.shape) == 3:\n",
    "            padded = cv2.copyMakeBorder(image, top, bottom, left, right, cv2.BORDER_CONSTANT, value=[0, 0, 0])\n",
    "        else:\n",
    "            padded = cv2.copyMakeBorder(image, top, bottom, left, right, cv2.BORDER_CONSTANT, value=0)\n",
    "\n",
    "        resized = cv2.resize(padded, self.target_size, interpolation=cv2.INTER_LANCZOS4)\n",
    "        return resized, color_analysis\n",
    "\n",
    "# === Noise injection (no visualization) =======================================\n",
    "class NoiseInjector:\n",
    "    def __init__(self):\n",
    "        pass\n",
    "\n",
    "    def create_circle_mask(self, radius):\n",
    "        size = 2 * radius + 1\n",
    "        y, x = np.ogrid[:size, :size]\n",
    "        center = radius\n",
    "        return (x - center) ** 2 + (y - center) ** 2 <= radius ** 2\n",
    "\n",
    "    def add_adaptive_circle_noise(self, image, color_analysis, radius=1, num_circles=1):\n",
    "        \"\"\"\n",
    "        Draw circular dots in center 70% region; intensity sampled from mode ±20 absolute.\n",
    "        \"\"\"\n",
    "        if color_analysis is None:\n",
    "            return self.add_circle_noise(image, radius, num_circles)\n",
    "\n",
    "        image_with_noise = image.copy()\n",
    "        h, w = image.shape[:2]\n",
    "\n",
    "        margin_x, margin_y = int(0.15 * w), int(0.15 * h)\n",
    "        x_min, y_min = margin_x + radius, margin_y + radius\n",
    "        x_max, y_max = w - margin_x - radius - 1, h - margin_y - radius - 1\n",
    "\n",
    "        min_color, max_color = color_analysis['noise_range']\n",
    "        mode_value = color_analysis['mode_value']\n",
    "        if (max_color - min_color) < 5:\n",
    "            min_color = max(0, mode_value - 20)\n",
    "            max_color = min(255, mode_value + 20)\n",
    "\n",
    "        circle_mask = self.create_circle_mask(radius)\n",
    "\n",
    "        for _ in range(num_circles):\n",
    "            x = random.randint(x_min, x_max)\n",
    "            y = random.randint(y_min, y_max)\n",
    "            noise_color = random.randint(min_color, max_color)\n",
    "\n",
    "            y_start, y_end = max(0, y - radius), min(h, y + radius + 1)\n",
    "            x_start, x_end = max(0, x - radius), min(w, x + radius + 1)\n",
    "\n",
    "            region_h, region_w = y_end - y_start, x_end - x_start\n",
    "            mask_y_start = max(0, radius - (y - y_start))\n",
    "            mask_x_start = max(0, radius - (x - x_start))\n",
    "            current_mask = circle_mask[mask_y_start:mask_y_start + region_h, mask_x_start:mask_x_start + region_w]\n",
    "\n",
    "            # Works for both grayscale and 3-channel (sets all channels same intensity)\n",
    "            image_with_noise[y_start:y_end, x_start:x_end][current_mask] = noise_color\n",
    "\n",
    "        return image_with_noise\n",
    "\n",
    "    # Backward-compat shim (old code called ..._with_marker)\n",
    "    def add_adaptive_circle_noise_with_marker(self, image, color_analysis, radius=1, num_circles=1, add_boundary=False):\n",
    "        return self.add_adaptive_circle_noise(image, color_analysis, radius=radius, num_circles=num_circles)\n",
    "\n",
    "    def add_circle_noise(self, image, radius=1, num_circles=1):\n",
    "        image_with_noise = image.copy()\n",
    "        h, w = image.shape[:2]\n",
    "        margin_x, margin_y = int(0.15 * w), int(0.15 * h)\n",
    "        x_min, y_min = margin_x + radius, margin_y + radius\n",
    "        x_max, y_max = w - margin_x - radius - 1, h - margin_y - radius - 1\n",
    "        circle_mask = self.create_circle_mask(radius)\n",
    "\n",
    "        for _ in range(num_circles):\n",
    "            x = random.randint(x_min, x_max)\n",
    "            y = random.randint(y_min, y_max)\n",
    "\n",
    "            y_start, y_end = max(0, y - radius), min(h, y + radius + 1)\n",
    "            x_start, x_end = max(0, x - radius), min(w, x + radius + 1)\n",
    "\n",
    "            region_h, region_w = y_end - y_start, x_end - x_start\n",
    "            mask_y_start = max(0, radius - (y - y_start))\n",
    "            mask_x_start = max(0, radius - (x - x_start))\n",
    "            current_mask = circle_mask[mask_y_start:mask_y_start + region_h, mask_x_start:mask_x_start + region_w]\n",
    "\n",
    "            image_with_noise[y_start:y_end, x_start:x_end][current_mask] = 255\n",
    "        return image_with_noise\n",
    "\n",
    "# === Embedding extraction (robust forward) ====================================\n",
    "class EmbeddingExtractor:\n",
    "    def __init__(self):\n",
    "        self.device = torch.device('cuda' if torch.cuda.is_available() else 'cpu')\n",
    "        print(f\"Using device: {self.device}\")\n",
    "\n",
    "        if torch.cuda.is_available():\n",
    "            torch.cuda.empty_cache()\n",
    "\n",
    "        self.load_raddino_model()\n",
    "\n",
    "        if torch.cuda.is_available():\n",
    "            torch.cuda.empty_cache()\n",
    "\n",
    "        self.load_dinov3_model()\n",
    "\n",
    "    def load_raddino_model(self):\n",
    "        try:\n",
    "            print(\"Loading RadDiNo model...\")\n",
    "            self.raddino_processor = AutoImageProcessor.from_pretrained(\"microsoft/rad-dino\")\n",
    "            self.raddino_model = AutoModel.from_pretrained(\"microsoft/rad-dino\").to(self.device)\n",
    "            self.raddino_model.eval()\n",
    "            print(\"RadDiNo model loaded successfully\")\n",
    "        except Exception as e:\n",
    "            print(f\"Error loading RadDiNo model: {e}\")\n",
    "            self.raddino_model = None\n",
    "            self.raddino_processor = None\n",
    "\n",
    "    def load_dinov3_model(self):\n",
    "        try:\n",
    "            print(\"Loading DINOv3 model...\")\n",
    "            self.dinov3_processor = AutoImageProcessor.from_pretrained(\"facebook/dinov3-vit7b16-pretrain-lvd1689m\")\n",
    "            self.dinov3_model = AutoModel.from_pretrained(\"facebook/dinov3-vit7b16-pretrain-lvd1689m\").to(self.device)\n",
    "            self.dinov3_model.eval()\n",
    "            print(\"DINOv3 model loaded successfully\")\n",
    "        except Exception as e:\n",
    "            print(f\"Error loading DINOv3 model: {e}\")\n",
    "            self.dinov3_model = None\n",
    "            self.dinov3_processor = None\n",
    "\n",
    "    def _to_pil(self, image):\n",
    "        if image.ndim == 3:\n",
    "            return Image.fromarray(cv2.cvtColor(image, cv2.COLOR_BGR2RGB))\n",
    "        else:\n",
    "            return Image.fromarray(image).convert(\"RGB\")\n",
    "\n",
    "    def _safe_forward(self, model, processor, pil_list, device):\n",
    "        \"\"\"\n",
    "        Try GPU+cuDNN; on cuDNN failure retry with cuDNN disabled; then CPU fallback (batch only).\n",
    "        \"\"\"\n",
    "        def _run(_device, disable_cudnn=False):\n",
    "            prev = torch.backends.cudnn.enabled\n",
    "            if disable_cudnn:\n",
    "                torch.backends.cudnn.enabled = False\n",
    "            try:\n",
    "                with torch.no_grad():\n",
    "                    inputs = processor(pil_list, return_tensors=\"pt\").to(_device)\n",
    "                    outputs = model(**inputs)\n",
    "                return outputs\n",
    "            finally:\n",
    "                if disable_cudnn:\n",
    "                    torch.backends.cudnn.enabled = prev\n",
    "\n",
    "        # Normal path\n",
    "        try:\n",
    "            if torch.cuda.is_available():\n",
    "                torch.cuda.synchronize()\n",
    "            return _run(device, disable_cudnn=False)\n",
    "        except RuntimeError as e:\n",
    "            if \"CUDNN_STATUS_EXECUTION_FAILED\" not in str(e):\n",
    "                raise\n",
    "            if torch.cuda.is_available():\n",
    "                torch.cuda.empty_cache()\n",
    "            # Retry on GPU with cuDNN disabled\n",
    "            try:\n",
    "                return _run(device, disable_cudnn=True)\n",
    "            except RuntimeError:\n",
    "                # CPU fallback for this batch\n",
    "                if torch.cuda.is_available():\n",
    "                    torch.cuda.empty_cache()\n",
    "                cpu_device = torch.device(\"cpu\")\n",
    "                model_cpu = model.to(cpu_device)\n",
    "                try:\n",
    "                    return _run(cpu_device, disable_cudnn=True)\n",
    "                finally:\n",
    "                    model_cpu.to(device)\n",
    "\n",
    "    def extract_raddino_batch(self, images):\n",
    "        if self.raddino_model is None:\n",
    "            return None\n",
    "        pil_list = [self._to_pil(im) for im in images]\n",
    "        outputs = self._safe_forward(self.raddino_model, self.raddino_processor, pil_list, self.device)\n",
    "        if hasattr(outputs, \"pooler_output\") and outputs.pooler_output is not None:\n",
    "            embs = outputs.pooler_output\n",
    "        else:\n",
    "            embs = outputs.last_hidden_state.mean(dim=1)\n",
    "        return embs.detach().cpu().numpy()\n",
    "\n",
    "    def extract_dinov3_batch(self, images):\n",
    "        if self.dinov3_model is None:\n",
    "            return None\n",
    "        pil_list = [self._to_pil(im) for im in images]\n",
    "        outputs = self._safe_forward(self.dinov3_model, self.dinov3_processor, pil_list, self.device)\n",
    "        if hasattr(outputs, \"pooler_output\") and outputs.pooler_output is not None:\n",
    "            embs = outputs.pooler_output\n",
    "        else:\n",
    "            embs = outputs.last_hidden_state.mean(dim=1)\n",
    "        return embs.detach().cpu().numpy()\n",
    "\n",
    "# === Progress tracking =========================================================\n",
    "class ProgressTracker:\n",
    "    def __init__(self, output_dir):\n",
    "        self.output_dir = output_dir\n",
    "        self.progress_file = os.path.join(output_dir, \"progress.json\")\n",
    "        self.load_progress()\n",
    "\n",
    "    def load_progress(self):\n",
    "        if os.path.exists(self.progress_file):\n",
    "            with open(self.progress_file, 'r') as f:\n",
    "                self.progress = json.load(f)\n",
    "        else:\n",
    "            self.progress = {\"completed_tasks\": [], \"current_task\": None, \"last_updated\": None}\n",
    "\n",
    "    def save_progress(self):\n",
    "        self.progress[\"last_updated\"] = datetime.now().isoformat()\n",
    "        os.makedirs(self.output_dir, exist_ok=True)\n",
    "        with open(self.progress_file, 'w') as f:\n",
    "            json.dump(self.progress, f, indent=2)\n",
    "\n",
    "    def is_task_completed(self, task_id):\n",
    "        return task_id in self.progress[\"completed_tasks\"]\n",
    "\n",
    "    def mark_task_completed(self, task_id):\n",
    "        if task_id not in self.progress[\"completed_tasks\"]:\n",
    "            self.progress[\"completed_tasks\"].append(task_id)\n",
    "        self.save_progress()\n",
    "\n",
    "    def set_current_task(self, task_id):\n",
    "        self.progress[\"current_task\"] = task_id\n",
    "        self.save_progress()\n",
    "\n",
    "# === Full pipeline =============================================================\n",
    "class ImagePipeline:\n",
    "    \"\"\"\n",
    "    Pipeline: load CSVs -> pad/resize -> (optional) adaptive circle noise using mode ±20 ->\n",
    "    extract embeddings (RadDiNO + DINOv3) -> save Parquet.\n",
    "    \"\"\"\n",
    "    def __init__(self, root_path):\n",
    "        self.root_path = root_path\n",
    "        self.preprocessor = ImagePreprocessor()\n",
    "        self.noise_injector = NoiseInjector()\n",
    "        self.embedding_extractor = EmbeddingExtractor()\n",
    "\n",
    "    def load_datasets(self, train_csv_path, test_csv_path):\n",
    "        print(\"Loading datasets...\")\n",
    "        self.train_df = pd.read_csv(train_csv_path)\n",
    "        self.test_df = pd.read_csv(test_csv_path)\n",
    "\n",
    "        print(f\"Train dataset shape: {self.train_df.shape}\")\n",
    "        print(f\"Test dataset shape: {self.test_df.shape}\")\n",
    "\n",
    "        required_cols = ['ImagePath', 'noise']\n",
    "        for df_name, df in [('train', self.train_df), ('test', self.test_df)]:\n",
    "            missing_cols = [col for col in required_cols if col not in df.columns]\n",
    "            if missing_cols:\n",
    "                raise ValueError(f\"Missing columns in {df_name} dataset: {missing_cols}\")\n",
    "        return self.train_df, self.test_df\n",
    "\n",
    "    def process_single_image(self, image_path, add_noise=False, radius=1):\n",
    "        full_image_path = image_path if os.path.isabs(image_path) else os.path.join(self.root_path, image_path)\n",
    "        if not os.path.exists(full_image_path):\n",
    "            raise FileNotFoundError(f\"Image not found: {full_image_path}\")\n",
    "\n",
    "        processed_image, color_analysis = self.preprocessor.pad_to_square_and_resize(\n",
    "            full_image_path, analyze_colors=True\n",
    "        )\n",
    "\n",
    "        if add_noise:\n",
    "            # Use adaptive circle noise (no visualization)\n",
    "            processed_image = self.noise_injector.add_adaptive_circle_noise(\n",
    "                processed_image, color_analysis, radius=radius, num_circles=1\n",
    "            )\n",
    "\n",
    "        return processed_image\n",
    "\n",
    "    def extract_embeddings_for_dataset_batched(\n",
    "        self, df, dataset_name, radius, batch_size=32,\n",
    "        save_intermediate=True, intermediate_save_frequency=100,\n",
    "        resume_from_intermediate=True\n",
    "    ):\n",
    "        print(f\"\\nExtracting embeddings for {dataset_name} (radius={radius}) in batches of {batch_size}...\")\n",
    "        \n",
    "        # Set up intermediate file path\n",
    "        if save_intermediate:\n",
    "            intermediate_dir = os.path.join(os.path.dirname(self.output_dir), \"intermediate_saves\")\n",
    "            os.makedirs(intermediate_dir, exist_ok=True)\n",
    "            intermediate_path = os.path.join(intermediate_dir, f\"{dataset_name}_r{radius}_intermediate.parquet\")\n",
    "        \n",
    "        # Check if we should resume from intermediate file\n",
    "        if resume_from_intermediate and save_intermediate and os.path.exists(intermediate_path):\n",
    "            print(f\"Found intermediate file: {intermediate_path}\")\n",
    "            try:\n",
    "                result_df = pd.read_parquet(intermediate_path)\n",
    "                print(f\"Loaded intermediate results with {len(result_df)} rows\")\n",
    "                \n",
    "                # Verify the intermediate file has the expected structure\n",
    "                rcol = f'raddino_embedding_r{radius}'\n",
    "                dcol = f'dinov3_embedding_r{radius}'\n",
    "                \n",
    "                if rcol not in result_df.columns or dcol not in result_df.columns:\n",
    "                    print(\"Intermediate file missing embedding columns, starting fresh...\")\n",
    "                    result_df = df.copy()\n",
    "                    result_df[rcol] = None\n",
    "                    result_df[dcol] = None\n",
    "                    start_batch = 0\n",
    "                else:\n",
    "                    # Find where to resume - look for first row with None embeddings\n",
    "                    processed_mask = (result_df[rcol].notna()) | (result_df[dcol].notna())\n",
    "                    num_processed = processed_mask.sum()\n",
    "                    \n",
    "                    if num_processed == len(result_df):\n",
    "                        print(\"All embeddings already extracted!\")\n",
    "                        return result_df\n",
    "                    \n",
    "                    # Calculate which batch to start from\n",
    "                    start_batch = (num_processed // batch_size)\n",
    "                    print(f\"Resuming from batch {start_batch + 1} (processed {num_processed}/{len(result_df)} images)\")\n",
    "                    \n",
    "            except Exception as e:\n",
    "                print(f\"Error loading intermediate file: {e}\")\n",
    "                print(\"Starting fresh...\")\n",
    "                result_df = df.copy()\n",
    "                rcol = f'raddino_embedding_r{radius}'\n",
    "                dcol = f'dinov3_embedding_r{radius}'\n",
    "                result_df[rcol] = None\n",
    "                result_df[dcol] = None\n",
    "                start_batch = 0\n",
    "        else:\n",
    "            # Start fresh\n",
    "            result_df = df.copy()\n",
    "            rcol = f'raddino_embedding_r{radius}'\n",
    "            dcol = f'dinov3_embedding_r{radius}'\n",
    "            result_df[rcol] = None\n",
    "            result_df[dcol] = None\n",
    "            start_batch = 0\n",
    "\n",
    "        idxs = result_df.index.tolist()\n",
    "        total_batches = len(range(0, len(idxs), batch_size))\n",
    "        \n",
    "        # Skip already processed batches\n",
    "        batch_count = start_batch\n",
    "        start_idx = start_batch * batch_size\n",
    "        \n",
    "        for start in tqdm(range(start_idx, len(idxs), batch_size), \n",
    "                         desc=f\"Processing {dataset_name}\", \n",
    "                         initial=start_batch, total=total_batches):\n",
    "            batch_start_time = time.time()\n",
    "            end = min(start + batch_size, len(idxs))\n",
    "            batch_idx = idxs[start:end]\n",
    "\n",
    "            # Check if this batch is already processed (additional safety check)\n",
    "            batch_processed = True\n",
    "            for i in batch_idx:\n",
    "                if pd.isna(result_df.at[i, rcol]) and pd.isna(result_df.at[i, dcol]):\n",
    "                    batch_processed = False\n",
    "                    break\n",
    "            \n",
    "            if batch_processed:\n",
    "                print(f\"Batch {batch_count + 1} already processed, skipping...\")\n",
    "                batch_count += 1\n",
    "                continue\n",
    "\n",
    "            # Load & process images\n",
    "            load_start_time = time.time()\n",
    "            imgs = []\n",
    "            for i in batch_idx:\n",
    "                row = result_df.loc[i]\n",
    "                try:\n",
    "                    add_noise = (row['noise'] == 1)\n",
    "                    im = self.process_single_image(row['ImagePath'], add_noise=add_noise, radius=radius)\n",
    "                except Exception as e:\n",
    "                    print(f\"Error processing {row['ImagePath']}: {e}\")\n",
    "                    im = None\n",
    "                imgs.append(im)\n",
    "            load_time = time.time() - load_start_time\n",
    "\n",
    "            valid_mask = [im is not None for im in imgs]\n",
    "            valid_imgs = [im for im, ok in zip(imgs, valid_mask) if ok]\n",
    "            if len(valid_imgs) == 0:\n",
    "                for i, ok in zip(batch_idx, valid_mask):\n",
    "                    if not ok:\n",
    "                        result_df.at[i, rcol] = None\n",
    "                        result_df.at[i, dcol] = None\n",
    "                batch_count += 1\n",
    "                continue\n",
    "\n",
    "            # Extract embeddings (use safety pre-sync)\n",
    "            if torch.cuda.is_available():\n",
    "                torch.cuda.empty_cache()\n",
    "                torch.cuda.synchronize()\n",
    "\n",
    "            embed_start_time = time.time()\n",
    "            r_embs = self.embedding_extractor.extract_raddino_batch(valid_imgs)\n",
    "            d_embs = self.embedding_extractor.extract_dinov3_batch(valid_imgs)\n",
    "            embed_time = time.time() - embed_start_time\n",
    "\n",
    "            # Store back\n",
    "            store_start_time = time.time()\n",
    "            valid_iter = iter(range(len(valid_imgs)))\n",
    "            for i, ok in zip(batch_idx, valid_mask):\n",
    "                if ok:\n",
    "                    j = next(valid_iter)\n",
    "                    result_df.at[i, rcol] = r_embs[j].tolist() if (r_embs is not None and len(r_embs) > j) else None\n",
    "                    result_df.at[i, dcol] = d_embs[j].tolist() if (d_embs is not None and len(d_embs) > j) else None\n",
    "                else:\n",
    "                    result_df.at[i, rcol] = None\n",
    "                    result_df.at[i, dcol] = None\n",
    "            store_time = time.time() - store_start_time\n",
    "\n",
    "            # Cleanup between batches\n",
    "            if torch.cuda.is_available():\n",
    "                torch.cuda.empty_cache()\n",
    "            gc.collect()\n",
    "\n",
    "            batch_count += 1\n",
    "            batch_total_time = time.time() - batch_start_time\n",
    "\n",
    "            # Intermediate saves\n",
    "            if save_intermediate and (batch_count % intermediate_save_frequency == 0 or batch_count == total_batches):\n",
    "                result_df.to_parquet(intermediate_path, index=False)\n",
    "                print(f\"Saved intermediate results to {intermediate_path}\")\n",
    "\n",
    "            if batch_count % 10 == 0 or batch_count == total_batches:\n",
    "                print(f\"\\nBatch {batch_count}/{total_batches}: \"\n",
    "                      f\"Load={load_time:.2f}s, Embed={embed_time:.2f}s, Store={store_time:.2f}s, \"\n",
    "                      f\"Total={batch_total_time:.2f}s, Images/sec={len(valid_imgs)/batch_total_time:.2f}\")\n",
    "                if batch_count < total_batches:\n",
    "                    avg_batch_time = batch_total_time\n",
    "                    remaining_batches = total_batches - batch_count\n",
    "                    est_min = remaining_batches * avg_batch_time / 60\n",
    "                    print(f\"Estimated remaining time: {est_min:.1f} minutes\")\n",
    "\n",
    "        return result_df\n",
    "\n",
    "    def save_parquet_files(self, df, dataset_name, radius, output_dir=\"output\"):\n",
    "        os.makedirs(output_dir, exist_ok=True)\n",
    "\n",
    "        base_cols = [c for c in ['AccessionNumber_anon', 'ImagePath', 'ViewPosition', 'CLAHE', 'Cardiomegaly', 'noise'] if c in df.columns]\n",
    "\n",
    "        r_df = df[base_cols + [f'raddino_embedding_r{radius}']].copy()\n",
    "        d_df = df[base_cols + [f'dinov3_embedding_r{radius}']].copy()\n",
    "\n",
    "        r_path = f\"{output_dir}/raddino-{dataset_name}-r{radius}.parquet\"\n",
    "        d_path = f\"{output_dir}/dinov3-{dataset_name}-r{radius}.parquet\"\n",
    "\n",
    "        r_df.to_parquet(r_path, index=False)\n",
    "        d_df.to_parquet(d_path, index=False)\n",
    "\n",
    "        print(f\"Saved: {r_path}\")\n",
    "        print(f\"Saved: {d_path}\")\n",
    "        return r_path, d_path\n",
    "\n",
    "    def run_single_radius(self, train_csv_path, test_csv_path, radius, output_dir=\"output\", batch_size=32):\n",
    "        print(\"=\" * 60)\n",
    "        print(f\"PROCESSING CIRCLE RADIUS: {radius} (using mode ±20 color range)\")\n",
    "        print(\"=\" * 60)\n",
    "\n",
    "        self.output_dir = output_dir\n",
    "        tracker = ProgressTracker(output_dir)\n",
    "\n",
    "        train_df, test_df = self.load_datasets(train_csv_path, test_csv_path)\n",
    "\n",
    "        train_task = f\"train_r{radius}\"\n",
    "        test_task  = f\"test_r{radius}\"\n",
    "\n",
    "        # Train\n",
    "        if not tracker.is_task_completed(train_task):\n",
    "            print(f\"\\nProcessing train dataset for radius {radius}...\")\n",
    "            tracker.set_current_task(train_task)\n",
    "            train_result = self.extract_embeddings_for_dataset_batched(\n",
    "                train_df, \"train\", radius, batch_size=batch_size,\n",
    "                save_intermediate=True, intermediate_save_frequency=50\n",
    "            )\n",
    "            self.save_parquet_files(train_result, \"train\", radius, output_dir)\n",
    "            tracker.mark_task_completed(train_task)\n",
    "            del train_result\n",
    "            gc.collect()\n",
    "            if torch.cuda.is_available():\n",
    "                torch.cuda.empty_cache()\n",
    "        else:\n",
    "            print(f\"Train dataset for radius {radius} already completed. Skipping...\")\n",
    "\n",
    "        # Test\n",
    "        if not tracker.is_task_completed(test_task):\n",
    "            print(f\"\\nProcessing test dataset for radius {radius}...\")\n",
    "            tracker.set_current_task(test_task)\n",
    "            test_result = self.extract_embeddings_for_dataset_batched(\n",
    "                test_df, \"test\", radius, batch_size=batch_size,\n",
    "                save_intermediate=True, intermediate_save_frequency=50\n",
    "            )\n",
    "            self.save_parquet_files(test_result, \"test\", radius, output_dir)\n",
    "            tracker.mark_task_completed(test_task)\n",
    "            del test_result\n",
    "            gc.collect()\n",
    "            if torch.cuda.is_available():\n",
    "                torch.cuda.empty_cache()\n",
    "        else:\n",
    "            print(f\"Test dataset for radius {radius} already completed. Skipping...\")\n",
    "\n",
    "        print(f\"\\nCompleted processing for radius {radius}\")\n",
    "        return True\n",
    "\n",
    "    def run_complete_pipeline(self, train_csv_path, test_csv_path, radii=[1, 2], output_dir=\"output\", batch_size=32):\n",
    "        print(f\"Starting complete pipeline for radii: {radii}\")\n",
    "        print(\"Using RadDiNo and DINOv3 models for medical imaging\")\n",
    "        print(\"Noise colors selected from mode ±20 range\")\n",
    "        for radius in radii:\n",
    "            try:\n",
    "                self.run_single_radius(train_csv_path, test_csv_path, radius, output_dir, batch_size)\n",
    "                print(f\"Successfully completed radius {radius}\")\n",
    "            except Exception as e:\n",
    "                print(f\"Error processing radius {radius}: {e}\")\n",
    "                continue\n",
    "        print(f\"\\nComplete pipeline finished for all radii: {radii}\")\n",
    "\n"
   ]
  },
  {
   "cell_type": "code",
   "execution_count": 3,
   "id": "df6f38f5-4c42-4783-a7f8-e22455c26010",
   "metadata": {
    "scrolled": true
   },
   "outputs": [
    {
     "name": "stdout",
     "output_type": "stream",
     "text": [
      "Using device: cuda\n",
      "Loading RadDiNo model...\n"
     ]
    },
    {
     "name": "stderr",
     "output_type": "stream",
     "text": [
      "Fetching 1 files: 100%|██████████| 1/1 [00:00<00:00, 22075.28it/s]\n",
      "Using a slow image processor as `use_fast` is unset and a slow processor was saved with this model. `use_fast=True` will be the default behavior in v4.52, even if the model was saved with a slow processor. This will result in minor differences in outputs. You'll still be able to use a slow processor with `use_fast=False`.\n"
     ]
    },
    {
     "name": "stdout",
     "output_type": "stream",
     "text": [
      "RadDiNo model loaded successfully\n",
      "Loading DINOv3 model...\n"
     ]
    },
    {
     "name": "stderr",
     "output_type": "stream",
     "text": [
      "Fetching 1 files: 100%|██████████| 1/1 [00:00<00:00, 23831.27it/s]\n",
      "Loading checkpoint shards: 100%|██████████| 6/6 [00:00<00:00, 118.99it/s]\n"
     ]
    },
    {
     "name": "stdout",
     "output_type": "stream",
     "text": [
      "DINOv3 model loaded successfully\n",
      "============================================================\n",
      "PROCESSING CIRCLE RADIUS: 2 (using mode ±20 color range)\n",
      "============================================================\n",
      "Loading datasets...\n",
      "Train dataset shape: (109824, 6)\n",
      "Test dataset shape: (27456, 6)\n",
      "\n",
      "Processing train dataset for radius 2...\n",
      "\n",
      "Extracting embeddings for train (radius=2) in batches of 12...\n",
      "Found intermediate file: /home/rmuthy2/Circle/intermediate_saves/train_r2_intermediate.parquet\n",
      "Loaded intermediate results with 109824 rows\n",
      "Resuming from batch 8401 (processed 100800/109824 images)\n"
     ]
    },
    {
     "name": "stderr",
     "output_type": "stream",
     "text": [
      "Processing train:  92%|█████████▏| 8410/9152 [00:26<31:48,  2.57s/it]"
     ]
    },
    {
     "name": "stdout",
     "output_type": "stream",
     "text": [
      "\n",
      "Batch 8410/9152: Load=1.64s, Embed=0.79s, Store=0.00s, Total=2.61s, Images/sec=4.60\n",
      "Estimated remaining time: 32.2 minutes\n"
     ]
    },
    {
     "name": "stderr",
     "output_type": "stream",
     "text": [
      "Processing train:  92%|█████████▏| 8420/9152 [00:52<32:19,  2.65s/it]"
     ]
    },
    {
     "name": "stdout",
     "output_type": "stream",
     "text": [
      "\n",
      "Batch 8420/9152: Load=1.74s, Embed=0.79s, Store=0.00s, Total=2.70s, Images/sec=4.45\n",
      "Estimated remaining time: 32.9 minutes\n"
     ]
    },
    {
     "name": "stderr",
     "output_type": "stream",
     "text": [
      "Processing train:  92%|█████████▏| 8430/9152 [01:18<31:51,  2.65s/it]"
     ]
    },
    {
     "name": "stdout",
     "output_type": "stream",
     "text": [
      "\n",
      "Batch 8430/9152: Load=1.72s, Embed=0.79s, Store=0.00s, Total=2.67s, Images/sec=4.50\n",
      "Estimated remaining time: 32.1 minutes\n"
     ]
    },
    {
     "name": "stderr",
     "output_type": "stream",
     "text": [
      "Processing train:  92%|█████████▏| 8440/9152 [01:45<32:40,  2.75s/it]"
     ]
    },
    {
     "name": "stdout",
     "output_type": "stream",
     "text": [
      "\n",
      "Batch 8440/9152: Load=1.68s, Embed=0.78s, Store=0.00s, Total=2.61s, Images/sec=4.60\n",
      "Estimated remaining time: 30.9 minutes\n"
     ]
    },
    {
     "name": "stderr",
     "output_type": "stream",
     "text": [
      "Processing train:  92%|█████████▏| 8450/9152 [02:34<1:50:27,  9.44s/it]"
     ]
    },
    {
     "name": "stdout",
     "output_type": "stream",
     "text": [
      "Saved intermediate results to /home/rmuthy2/Circle/intermediate_saves/train_r2_intermediate.parquet\n",
      "\n",
      "Batch 8450/9152: Load=1.52s, Embed=0.78s, Store=0.00s, Total=2.46s, Images/sec=4.88\n",
      "Estimated remaining time: 28.8 minutes\n"
     ]
    },
    {
     "name": "stderr",
     "output_type": "stream",
     "text": [
      "Processing train:  92%|█████████▏| 8460/9152 [03:00<32:20,  2.80s/it]  "
     ]
    },
    {
     "name": "stdout",
     "output_type": "stream",
     "text": [
      "\n",
      "Batch 8460/9152: Load=1.55s, Embed=0.80s, Store=0.00s, Total=2.52s, Images/sec=4.76\n",
      "Estimated remaining time: 29.1 minutes\n"
     ]
    },
    {
     "name": "stderr",
     "output_type": "stream",
     "text": [
      "Processing train:  93%|█████████▎| 8470/9152 [03:26<30:03,  2.64s/it]"
     ]
    },
    {
     "name": "stdout",
     "output_type": "stream",
     "text": [
      "\n",
      "Batch 8470/9152: Load=1.69s, Embed=0.84s, Store=0.00s, Total=2.69s, Images/sec=4.46\n",
      "Estimated remaining time: 30.6 minutes\n"
     ]
    },
    {
     "name": "stderr",
     "output_type": "stream",
     "text": [
      "Processing train:  93%|█████████▎| 8480/9152 [03:53<29:48,  2.66s/it]"
     ]
    },
    {
     "name": "stdout",
     "output_type": "stream",
     "text": [
      "\n",
      "Batch 8480/9152: Load=1.67s, Embed=0.79s, Store=0.00s, Total=2.65s, Images/sec=4.53\n",
      "Estimated remaining time: 29.7 minutes\n"
     ]
    },
    {
     "name": "stderr",
     "output_type": "stream",
     "text": [
      "Processing train:  93%|█████████▎| 8490/9152 [04:20<30:32,  2.77s/it]"
     ]
    },
    {
     "name": "stdout",
     "output_type": "stream",
     "text": [
      "\n",
      "Batch 8490/9152: Load=1.69s, Embed=0.81s, Store=0.00s, Total=2.66s, Images/sec=4.51\n",
      "Estimated remaining time: 29.3 minutes\n"
     ]
    },
    {
     "name": "stderr",
     "output_type": "stream",
     "text": [
      "Processing train:  93%|█████████▎| 8500/9152 [05:09<1:40:17,  9.23s/it]"
     ]
    },
    {
     "name": "stdout",
     "output_type": "stream",
     "text": [
      "Saved intermediate results to /home/rmuthy2/Circle/intermediate_saves/train_r2_intermediate.parquet\n",
      "\n",
      "Batch 8500/9152: Load=1.66s, Embed=0.80s, Store=0.00s, Total=2.64s, Images/sec=4.55\n",
      "Estimated remaining time: 28.6 minutes\n"
     ]
    },
    {
     "name": "stderr",
     "output_type": "stream",
     "text": [
      "Processing train:  93%|█████████▎| 8510/9152 [05:35<29:55,  2.80s/it]  "
     ]
    },
    {
     "name": "stdout",
     "output_type": "stream",
     "text": [
      "\n",
      "Batch 8510/9152: Load=1.62s, Embed=0.79s, Store=0.00s, Total=2.58s, Images/sec=4.65\n",
      "Estimated remaining time: 27.6 minutes\n"
     ]
    },
    {
     "name": "stderr",
     "output_type": "stream",
     "text": [
      "Processing train:  93%|█████████▎| 8520/9152 [06:01<27:43,  2.63s/it]"
     ]
    },
    {
     "name": "stdout",
     "output_type": "stream",
     "text": [
      "\n",
      "Batch 8520/9152: Load=1.53s, Embed=0.84s, Store=0.00s, Total=2.54s, Images/sec=4.73\n",
      "Estimated remaining time: 26.7 minutes\n"
     ]
    },
    {
     "name": "stderr",
     "output_type": "stream",
     "text": [
      "Processing train:  93%|█████████▎| 8530/9152 [06:28<27:12,  2.63s/it]"
     ]
    },
    {
     "name": "stdout",
     "output_type": "stream",
     "text": [
      "\n",
      "Batch 8530/9152: Load=1.59s, Embed=0.85s, Store=0.00s, Total=2.61s, Images/sec=4.60\n",
      "Estimated remaining time: 27.1 minutes\n"
     ]
    },
    {
     "name": "stderr",
     "output_type": "stream",
     "text": [
      "Processing train:  93%|█████████▎| 8540/9152 [06:54<27:40,  2.71s/it]"
     ]
    },
    {
     "name": "stdout",
     "output_type": "stream",
     "text": [
      "\n",
      "Batch 8540/9152: Load=1.60s, Embed=0.85s, Store=0.00s, Total=2.66s, Images/sec=4.51\n",
      "Estimated remaining time: 27.1 minutes\n"
     ]
    },
    {
     "name": "stderr",
     "output_type": "stream",
     "text": [
      "Processing train:  93%|█████████▎| 8550/9152 [07:43<1:33:43,  9.34s/it]"
     ]
    },
    {
     "name": "stdout",
     "output_type": "stream",
     "text": [
      "Saved intermediate results to /home/rmuthy2/Circle/intermediate_saves/train_r2_intermediate.parquet\n",
      "\n",
      "Batch 8550/9152: Load=1.74s, Embed=0.80s, Store=0.00s, Total=2.77s, Images/sec=4.33\n",
      "Estimated remaining time: 27.8 minutes\n"
     ]
    },
    {
     "name": "stderr",
     "output_type": "stream",
     "text": [
      "Processing train:  94%|█████████▎| 8560/9152 [08:19<34:15,  3.47s/it]  "
     ]
    },
    {
     "name": "stdout",
     "output_type": "stream",
     "text": [
      "\n",
      "Batch 8560/9152: Load=1.73s, Embed=0.85s, Store=0.00s, Total=2.80s, Images/sec=4.28\n",
      "Estimated remaining time: 27.7 minutes\n"
     ]
    },
    {
     "name": "stderr",
     "output_type": "stream",
     "text": [
      "Processing train:  94%|█████████▎| 8570/9152 [08:47<27:17,  2.81s/it]"
     ]
    },
    {
     "name": "stdout",
     "output_type": "stream",
     "text": [
      "\n",
      "Batch 8570/9152: Load=1.74s, Embed=0.81s, Store=0.00s, Total=2.74s, Images/sec=4.38\n",
      "Estimated remaining time: 26.6 minutes\n"
     ]
    },
    {
     "name": "stderr",
     "output_type": "stream",
     "text": [
      "Processing train:  94%|█████████▍| 8580/9152 [09:16<27:52,  2.92s/it]"
     ]
    },
    {
     "name": "stdout",
     "output_type": "stream",
     "text": [
      "\n",
      "Batch 8580/9152: Load=1.88s, Embed=0.83s, Store=0.00s, Total=3.04s, Images/sec=3.95\n",
      "Estimated remaining time: 29.0 minutes\n"
     ]
    },
    {
     "name": "stderr",
     "output_type": "stream",
     "text": [
      "Processing train:  94%|█████████▍| 8590/9152 [09:45<26:35,  2.84s/it]"
     ]
    },
    {
     "name": "stdout",
     "output_type": "stream",
     "text": [
      "\n",
      "Batch 8590/9152: Load=1.75s, Embed=0.80s, Store=0.00s, Total=2.76s, Images/sec=4.35\n",
      "Estimated remaining time: 25.8 minutes\n"
     ]
    },
    {
     "name": "stderr",
     "output_type": "stream",
     "text": [
      "Processing train:  94%|█████████▍| 8600/9152 [10:35<1:29:25,  9.72s/it]"
     ]
    },
    {
     "name": "stdout",
     "output_type": "stream",
     "text": [
      "Saved intermediate results to /home/rmuthy2/Circle/intermediate_saves/train_r2_intermediate.parquet\n",
      "\n",
      "Batch 8600/9152: Load=1.73s, Embed=0.80s, Store=0.00s, Total=2.74s, Images/sec=4.38\n",
      "Estimated remaining time: 25.2 minutes\n"
     ]
    },
    {
     "name": "stderr",
     "output_type": "stream",
     "text": [
      "Processing train:  94%|█████████▍| 8610/9152 [11:09<29:15,  3.24s/it]  "
     ]
    },
    {
     "name": "stdout",
     "output_type": "stream",
     "text": [
      "\n",
      "Batch 8610/9152: Load=1.81s, Embed=0.81s, Store=0.00s, Total=2.82s, Images/sec=4.25\n",
      "Estimated remaining time: 25.5 minutes\n"
     ]
    },
    {
     "name": "stderr",
     "output_type": "stream",
     "text": [
      "Processing train:  94%|█████████▍| 8620/9152 [11:36<24:41,  2.78s/it]"
     ]
    },
    {
     "name": "stdout",
     "output_type": "stream",
     "text": [
      "\n",
      "Batch 8620/9152: Load=1.69s, Embed=0.84s, Store=0.00s, Total=2.84s, Images/sec=4.23\n",
      "Estimated remaining time: 25.2 minutes\n"
     ]
    },
    {
     "name": "stderr",
     "output_type": "stream",
     "text": [
      "Processing train:  94%|█████████▍| 8630/9152 [12:04<25:52,  2.97s/it]"
     ]
    },
    {
     "name": "stdout",
     "output_type": "stream",
     "text": [
      "\n",
      "Batch 8630/9152: Load=2.59s, Embed=0.81s, Store=0.00s, Total=3.60s, Images/sec=3.34\n",
      "Estimated remaining time: 31.3 minutes\n"
     ]
    },
    {
     "name": "stderr",
     "output_type": "stream",
     "text": [
      "Processing train:  94%|█████████▍| 8640/9152 [12:35<27:46,  3.26s/it]"
     ]
    },
    {
     "name": "stdout",
     "output_type": "stream",
     "text": [
      "\n",
      "Batch 8640/9152: Load=1.71s, Embed=0.83s, Store=0.00s, Total=2.87s, Images/sec=4.18\n",
      "Estimated remaining time: 24.5 minutes\n"
     ]
    },
    {
     "name": "stderr",
     "output_type": "stream",
     "text": [
      "Processing train:  95%|█████████▍| 8650/9152 [13:26<1:21:09,  9.70s/it]"
     ]
    },
    {
     "name": "stdout",
     "output_type": "stream",
     "text": [
      "Saved intermediate results to /home/rmuthy2/Circle/intermediate_saves/train_r2_intermediate.parquet\n",
      "\n",
      "Batch 8650/9152: Load=1.69s, Embed=0.80s, Store=0.00s, Total=2.86s, Images/sec=4.20\n",
      "Estimated remaining time: 23.9 minutes\n"
     ]
    },
    {
     "name": "stderr",
     "output_type": "stream",
     "text": [
      "Processing train:  95%|█████████▍| 8660/9152 [13:54<24:21,  2.97s/it]  "
     ]
    },
    {
     "name": "stdout",
     "output_type": "stream",
     "text": [
      "\n",
      "Batch 8660/9152: Load=1.70s, Embed=0.81s, Store=0.00s, Total=2.73s, Images/sec=4.40\n",
      "Estimated remaining time: 22.4 minutes\n"
     ]
    },
    {
     "name": "stderr",
     "output_type": "stream",
     "text": [
      "Processing train:  95%|█████████▍| 8670/9152 [14:22<21:40,  2.70s/it]"
     ]
    },
    {
     "name": "stdout",
     "output_type": "stream",
     "text": [
      "\n",
      "Batch 8670/9152: Load=1.58s, Embed=0.80s, Store=0.00s, Total=2.58s, Images/sec=4.65\n",
      "Estimated remaining time: 20.7 minutes\n"
     ]
    },
    {
     "name": "stderr",
     "output_type": "stream",
     "text": [
      "Processing train:  95%|█████████▍| 8680/9152 [14:50<22:53,  2.91s/it]"
     ]
    },
    {
     "name": "stdout",
     "output_type": "stream",
     "text": [
      "\n",
      "Batch 8680/9152: Load=1.77s, Embed=0.82s, Store=0.00s, Total=3.02s, Images/sec=3.97\n",
      "Estimated remaining time: 23.8 minutes\n"
     ]
    },
    {
     "name": "stderr",
     "output_type": "stream",
     "text": [
      "Processing train:  95%|█████████▍| 8690/9152 [15:17<20:52,  2.71s/it]"
     ]
    },
    {
     "name": "stdout",
     "output_type": "stream",
     "text": [
      "\n",
      "Batch 8690/9152: Load=1.64s, Embed=0.79s, Store=0.00s, Total=2.70s, Images/sec=4.45\n",
      "Estimated remaining time: 20.8 minutes\n"
     ]
    },
    {
     "name": "stderr",
     "output_type": "stream",
     "text": [
      "Processing train:  95%|█████████▌| 8700/9152 [16:07<1:09:55,  9.28s/it]"
     ]
    },
    {
     "name": "stdout",
     "output_type": "stream",
     "text": [
      "Saved intermediate results to /home/rmuthy2/Circle/intermediate_saves/train_r2_intermediate.parquet\n",
      "\n",
      "Batch 8700/9152: Load=1.64s, Embed=0.80s, Store=0.00s, Total=2.70s, Images/sec=4.44\n",
      "Estimated remaining time: 20.4 minutes\n"
     ]
    },
    {
     "name": "stderr",
     "output_type": "stream",
     "text": [
      "Processing train:  95%|█████████▌| 8710/9152 [16:34<21:56,  2.98s/it]  "
     ]
    },
    {
     "name": "stdout",
     "output_type": "stream",
     "text": [
      "\n",
      "Batch 8710/9152: Load=1.66s, Embed=0.81s, Store=0.00s, Total=2.81s, Images/sec=4.27\n",
      "Estimated remaining time: 20.7 minutes\n"
     ]
    },
    {
     "name": "stderr",
     "output_type": "stream",
     "text": [
      "Processing train:  95%|█████████▌| 8720/9152 [17:03<20:29,  2.85s/it]"
     ]
    },
    {
     "name": "stdout",
     "output_type": "stream",
     "text": [
      "\n",
      "Batch 8720/9152: Load=1.73s, Embed=0.90s, Store=0.00s, Total=2.93s, Images/sec=4.09\n",
      "Estimated remaining time: 21.1 minutes\n"
     ]
    },
    {
     "name": "stderr",
     "output_type": "stream",
     "text": [
      "Processing train:  95%|█████████▌| 8730/9152 [17:32<20:07,  2.86s/it]"
     ]
    },
    {
     "name": "stdout",
     "output_type": "stream",
     "text": [
      "\n",
      "Batch 8730/9152: Load=1.59s, Embed=0.80s, Store=0.00s, Total=2.65s, Images/sec=4.52\n",
      "Estimated remaining time: 18.7 minutes\n"
     ]
    },
    {
     "name": "stderr",
     "output_type": "stream",
     "text": [
      "Processing train:  95%|█████████▌| 8740/9152 [18:00<19:21,  2.82s/it]"
     ]
    },
    {
     "name": "stdout",
     "output_type": "stream",
     "text": [
      "\n",
      "Batch 8740/9152: Load=1.65s, Embed=0.79s, Store=0.00s, Total=2.72s, Images/sec=4.41\n",
      "Estimated remaining time: 18.7 minutes\n"
     ]
    },
    {
     "name": "stderr",
     "output_type": "stream",
     "text": [
      "Processing train:  96%|█████████▌| 8750/9152 [18:52<1:05:56,  9.84s/it]"
     ]
    },
    {
     "name": "stdout",
     "output_type": "stream",
     "text": [
      "Saved intermediate results to /home/rmuthy2/Circle/intermediate_saves/train_r2_intermediate.parquet\n",
      "\n",
      "Batch 8750/9152: Load=1.74s, Embed=0.80s, Store=0.00s, Total=2.76s, Images/sec=4.35\n",
      "Estimated remaining time: 18.5 minutes\n"
     ]
    },
    {
     "name": "stderr",
     "output_type": "stream",
     "text": [
      "Processing train:  96%|█████████▌| 8760/9152 [19:20<20:02,  3.07s/it]  "
     ]
    },
    {
     "name": "stdout",
     "output_type": "stream",
     "text": [
      "\n",
      "Batch 8760/9152: Load=1.77s, Embed=0.86s, Store=0.00s, Total=2.87s, Images/sec=4.18\n",
      "Estimated remaining time: 18.8 minutes\n"
     ]
    },
    {
     "name": "stderr",
     "output_type": "stream",
     "text": [
      "Processing train:  96%|█████████▌| 8770/9152 [19:49<18:22,  2.89s/it]"
     ]
    },
    {
     "name": "stdout",
     "output_type": "stream",
     "text": [
      "\n",
      "Batch 8770/9152: Load=1.93s, Embed=0.80s, Store=0.00s, Total=2.95s, Images/sec=4.06\n",
      "Estimated remaining time: 18.8 minutes\n"
     ]
    },
    {
     "name": "stderr",
     "output_type": "stream",
     "text": [
      "Processing train:  96%|█████████▌| 8780/9152 [20:19<17:55,  2.89s/it]"
     ]
    },
    {
     "name": "stdout",
     "output_type": "stream",
     "text": [
      "\n",
      "Batch 8780/9152: Load=1.72s, Embed=0.81s, Store=0.00s, Total=2.76s, Images/sec=4.34\n",
      "Estimated remaining time: 17.1 minutes\n"
     ]
    },
    {
     "name": "stderr",
     "output_type": "stream",
     "text": [
      "Processing train:  96%|█████████▌| 8790/9152 [20:47<17:09,  2.84s/it]"
     ]
    },
    {
     "name": "stdout",
     "output_type": "stream",
     "text": [
      "\n",
      "Batch 8790/9152: Load=1.74s, Embed=0.81s, Store=0.00s, Total=2.80s, Images/sec=4.28\n",
      "Estimated remaining time: 16.9 minutes\n"
     ]
    },
    {
     "name": "stderr",
     "output_type": "stream",
     "text": [
      "Processing train:  96%|█████████▌| 8800/9152 [21:40<59:05, 10.07s/it]"
     ]
    },
    {
     "name": "stdout",
     "output_type": "stream",
     "text": [
      "Saved intermediate results to /home/rmuthy2/Circle/intermediate_saves/train_r2_intermediate.parquet\n",
      "\n",
      "Batch 8800/9152: Load=1.78s, Embed=0.81s, Store=0.00s, Total=2.84s, Images/sec=4.23\n",
      "Estimated remaining time: 16.6 minutes\n"
     ]
    },
    {
     "name": "stderr",
     "output_type": "stream",
     "text": [
      "Processing train:  96%|█████████▋| 8810/9152 [22:10<18:01,  3.16s/it]"
     ]
    },
    {
     "name": "stdout",
     "output_type": "stream",
     "text": [
      "\n",
      "Batch 8810/9152: Load=1.73s, Embed=0.87s, Store=0.00s, Total=2.83s, Images/sec=4.25\n",
      "Estimated remaining time: 16.1 minutes\n"
     ]
    },
    {
     "name": "stderr",
     "output_type": "stream",
     "text": [
      "Processing train:  96%|█████████▋| 8820/9152 [22:38<16:11,  2.93s/it]"
     ]
    },
    {
     "name": "stdout",
     "output_type": "stream",
     "text": [
      "\n",
      "Batch 8820/9152: Load=2.34s, Embed=0.87s, Store=0.00s, Total=3.46s, Images/sec=3.47\n",
      "Estimated remaining time: 19.1 minutes\n"
     ]
    },
    {
     "name": "stderr",
     "output_type": "stream",
     "text": [
      "Processing train:  96%|█████████▋| 8830/9152 [23:05<14:42,  2.74s/it]"
     ]
    },
    {
     "name": "stdout",
     "output_type": "stream",
     "text": [
      "\n",
      "Batch 8830/9152: Load=1.65s, Embed=0.86s, Store=0.00s, Total=2.83s, Images/sec=4.24\n",
      "Estimated remaining time: 15.2 minutes\n"
     ]
    },
    {
     "name": "stderr",
     "output_type": "stream",
     "text": [
      "Processing train:  97%|█████████▋| 8840/9152 [23:32<14:28,  2.78s/it]"
     ]
    },
    {
     "name": "stdout",
     "output_type": "stream",
     "text": [
      "\n",
      "Batch 8840/9152: Load=1.66s, Embed=0.85s, Store=0.00s, Total=2.83s, Images/sec=4.24\n",
      "Estimated remaining time: 14.7 minutes\n"
     ]
    },
    {
     "name": "stderr",
     "output_type": "stream",
     "text": [
      "Processing train:  97%|█████████▋| 8850/9152 [24:23<49:23,  9.81s/it]"
     ]
    },
    {
     "name": "stdout",
     "output_type": "stream",
     "text": [
      "Saved intermediate results to /home/rmuthy2/Circle/intermediate_saves/train_r2_intermediate.parquet\n",
      "\n",
      "Batch 8850/9152: Load=1.68s, Embed=0.86s, Store=0.00s, Total=2.83s, Images/sec=4.24\n",
      "Estimated remaining time: 14.2 minutes\n"
     ]
    },
    {
     "name": "stderr",
     "output_type": "stream",
     "text": [
      "Processing train:  97%|█████████▋| 8860/9152 [24:50<14:06,  2.90s/it]"
     ]
    },
    {
     "name": "stdout",
     "output_type": "stream",
     "text": [
      "\n",
      "Batch 8860/9152: Load=1.64s, Embed=0.82s, Store=0.00s, Total=2.70s, Images/sec=4.44\n",
      "Estimated remaining time: 13.1 minutes\n"
     ]
    },
    {
     "name": "stderr",
     "output_type": "stream",
     "text": [
      "Processing train:  97%|█████████▋| 8870/9152 [25:20<14:54,  3.17s/it]"
     ]
    },
    {
     "name": "stdout",
     "output_type": "stream",
     "text": [
      "\n",
      "Batch 8870/9152: Load=1.68s, Embed=0.79s, Store=0.00s, Total=2.71s, Images/sec=4.42\n",
      "Estimated remaining time: 12.8 minutes\n"
     ]
    },
    {
     "name": "stderr",
     "output_type": "stream",
     "text": [
      "Processing train:  97%|█████████▋| 8880/9152 [25:47<12:21,  2.73s/it]"
     ]
    },
    {
     "name": "stdout",
     "output_type": "stream",
     "text": [
      "\n",
      "Batch 8880/9152: Load=1.71s, Embed=0.79s, Store=0.00s, Total=2.75s, Images/sec=4.36\n",
      "Estimated remaining time: 12.5 minutes\n"
     ]
    },
    {
     "name": "stderr",
     "output_type": "stream",
     "text": [
      "Processing train:  97%|█████████▋| 8890/9152 [26:14<11:51,  2.71s/it]"
     ]
    },
    {
     "name": "stdout",
     "output_type": "stream",
     "text": [
      "\n",
      "Batch 8890/9152: Load=1.65s, Embed=0.80s, Store=0.00s, Total=2.70s, Images/sec=4.45\n",
      "Estimated remaining time: 11.8 minutes\n"
     ]
    },
    {
     "name": "stderr",
     "output_type": "stream",
     "text": [
      "Processing train:  97%|█████████▋| 8900/9152 [27:05<40:56,  9.75s/it]"
     ]
    },
    {
     "name": "stdout",
     "output_type": "stream",
     "text": [
      "Saved intermediate results to /home/rmuthy2/Circle/intermediate_saves/train_r2_intermediate.parquet\n",
      "\n",
      "Batch 8900/9152: Load=1.58s, Embed=0.81s, Store=0.00s, Total=2.64s, Images/sec=4.54\n",
      "Estimated remaining time: 11.1 minutes\n"
     ]
    },
    {
     "name": "stderr",
     "output_type": "stream",
     "text": [
      "Processing train:  97%|█████████▋| 8910/9152 [27:32<11:52,  2.95s/it]"
     ]
    },
    {
     "name": "stdout",
     "output_type": "stream",
     "text": [
      "\n",
      "Batch 8910/9152: Load=1.70s, Embed=0.79s, Store=0.00s, Total=2.74s, Images/sec=4.39\n",
      "Estimated remaining time: 11.0 minutes\n"
     ]
    },
    {
     "name": "stderr",
     "output_type": "stream",
     "text": [
      "Processing train:  97%|█████████▋| 8920/9152 [28:00<11:07,  2.88s/it]"
     ]
    },
    {
     "name": "stdout",
     "output_type": "stream",
     "text": [
      "\n",
      "Batch 8920/9152: Load=1.61s, Embed=0.78s, Store=0.00s, Total=2.65s, Images/sec=4.53\n",
      "Estimated remaining time: 10.2 minutes\n"
     ]
    },
    {
     "name": "stderr",
     "output_type": "stream",
     "text": [
      "Processing train:  98%|█████████▊| 8930/9152 [28:28<10:12,  2.76s/it]"
     ]
    },
    {
     "name": "stdout",
     "output_type": "stream",
     "text": [
      "\n",
      "Batch 8930/9152: Load=1.65s, Embed=0.78s, Store=0.00s, Total=2.69s, Images/sec=4.47\n",
      "Estimated remaining time: 9.9 minutes\n"
     ]
    },
    {
     "name": "stderr",
     "output_type": "stream",
     "text": [
      "Processing train:  98%|█████████▊| 8940/9152 [28:56<09:42,  2.75s/it]"
     ]
    },
    {
     "name": "stdout",
     "output_type": "stream",
     "text": [
      "\n",
      "Batch 8940/9152: Load=1.68s, Embed=0.79s, Store=0.00s, Total=2.76s, Images/sec=4.35\n",
      "Estimated remaining time: 9.7 minutes\n"
     ]
    },
    {
     "name": "stderr",
     "output_type": "stream",
     "text": [
      "Processing train:  98%|█████████▊| 8950/9152 [29:46<31:35,  9.38s/it]"
     ]
    },
    {
     "name": "stdout",
     "output_type": "stream",
     "text": [
      "Saved intermediate results to /home/rmuthy2/Circle/intermediate_saves/train_r2_intermediate.parquet\n",
      "\n",
      "Batch 8950/9152: Load=1.62s, Embed=0.78s, Store=0.00s, Total=2.68s, Images/sec=4.48\n",
      "Estimated remaining time: 9.0 minutes\n"
     ]
    },
    {
     "name": "stderr",
     "output_type": "stream",
     "text": [
      "Processing train:  98%|█████████▊| 8960/9152 [30:14<09:31,  2.98s/it]"
     ]
    },
    {
     "name": "stdout",
     "output_type": "stream",
     "text": [
      "\n",
      "Batch 8960/9152: Load=1.69s, Embed=0.79s, Store=0.00s, Total=2.75s, Images/sec=4.36\n",
      "Estimated remaining time: 8.8 minutes\n"
     ]
    },
    {
     "name": "stderr",
     "output_type": "stream",
     "text": [
      "Processing train:  98%|█████████▊| 8970/9152 [30:42<08:25,  2.78s/it]"
     ]
    },
    {
     "name": "stdout",
     "output_type": "stream",
     "text": [
      "\n",
      "Batch 8970/9152: Load=1.69s, Embed=0.80s, Store=0.00s, Total=2.78s, Images/sec=4.32\n",
      "Estimated remaining time: 8.4 minutes\n"
     ]
    },
    {
     "name": "stderr",
     "output_type": "stream",
     "text": [
      "Processing train:  98%|█████████▊| 8980/9152 [31:09<07:47,  2.72s/it]"
     ]
    },
    {
     "name": "stdout",
     "output_type": "stream",
     "text": [
      "\n",
      "Batch 8980/9152: Load=1.67s, Embed=0.80s, Store=0.00s, Total=2.74s, Images/sec=4.38\n",
      "Estimated remaining time: 7.9 minutes\n"
     ]
    },
    {
     "name": "stderr",
     "output_type": "stream",
     "text": [
      "Processing train:  98%|█████████▊| 8990/9152 [31:37<07:35,  2.81s/it]"
     ]
    },
    {
     "name": "stdout",
     "output_type": "stream",
     "text": [
      "\n",
      "Batch 8990/9152: Load=1.76s, Embed=0.80s, Store=0.00s, Total=2.97s, Images/sec=4.04\n",
      "Estimated remaining time: 8.0 minutes\n"
     ]
    },
    {
     "name": "stderr",
     "output_type": "stream",
     "text": [
      "Processing train:  98%|█████████▊| 9000/9152 [32:31<25:29, 10.06s/it]"
     ]
    },
    {
     "name": "stdout",
     "output_type": "stream",
     "text": [
      "Saved intermediate results to /home/rmuthy2/Circle/intermediate_saves/train_r2_intermediate.parquet\n",
      "\n",
      "Batch 9000/9152: Load=1.70s, Embed=0.80s, Store=0.00s, Total=2.84s, Images/sec=4.23\n",
      "Estimated remaining time: 7.2 minutes\n"
     ]
    },
    {
     "name": "stderr",
     "output_type": "stream",
     "text": [
      "Processing train:  98%|█████████▊| 9010/9152 [32:59<07:03,  2.98s/it]"
     ]
    },
    {
     "name": "stdout",
     "output_type": "stream",
     "text": [
      "\n",
      "Batch 9010/9152: Load=1.74s, Embed=0.79s, Store=0.00s, Total=2.82s, Images/sec=4.25\n",
      "Estimated remaining time: 6.7 minutes\n"
     ]
    },
    {
     "name": "stderr",
     "output_type": "stream",
     "text": [
      "Processing train:  99%|█████████▊| 9020/9152 [33:28<06:13,  2.83s/it]"
     ]
    },
    {
     "name": "stdout",
     "output_type": "stream",
     "text": [
      "\n",
      "Batch 9020/9152: Load=1.59s, Embed=0.79s, Store=0.00s, Total=2.78s, Images/sec=4.32\n",
      "Estimated remaining time: 6.1 minutes\n"
     ]
    },
    {
     "name": "stderr",
     "output_type": "stream",
     "text": [
      "Processing train:  99%|█████████▊| 9030/9152 [33:55<05:31,  2.72s/it]"
     ]
    },
    {
     "name": "stdout",
     "output_type": "stream",
     "text": [
      "\n",
      "Batch 9030/9152: Load=1.51s, Embed=0.79s, Store=0.00s, Total=2.60s, Images/sec=4.61\n",
      "Estimated remaining time: 5.3 minutes\n"
     ]
    },
    {
     "name": "stderr",
     "output_type": "stream",
     "text": [
      "Processing train:  99%|█████████▉| 9040/9152 [34:24<05:22,  2.88s/it]"
     ]
    },
    {
     "name": "stdout",
     "output_type": "stream",
     "text": [
      "\n",
      "Batch 9040/9152: Load=1.83s, Embed=0.81s, Store=0.00s, Total=2.92s, Images/sec=4.12\n",
      "Estimated remaining time: 5.4 minutes\n"
     ]
    },
    {
     "name": "stderr",
     "output_type": "stream",
     "text": [
      "Processing train:  99%|█████████▉| 9050/9152 [35:20<18:46, 11.04s/it]"
     ]
    },
    {
     "name": "stdout",
     "output_type": "stream",
     "text": [
      "Saved intermediate results to /home/rmuthy2/Circle/intermediate_saves/train_r2_intermediate.parquet\n",
      "\n",
      "Batch 9050/9152: Load=1.93s, Embed=0.83s, Store=0.00s, Total=3.36s, Images/sec=3.57\n",
      "Estimated remaining time: 5.7 minutes\n"
     ]
    },
    {
     "name": "stderr",
     "output_type": "stream",
     "text": [
      "Processing train:  99%|█████████▉| 9060/9152 [35:53<05:54,  3.85s/it]"
     ]
    },
    {
     "name": "stdout",
     "output_type": "stream",
     "text": [
      "\n",
      "Batch 9060/9152: Load=3.28s, Embed=0.82s, Store=0.00s, Total=4.48s, Images/sec=2.68\n",
      "Estimated remaining time: 6.9 minutes\n"
     ]
    },
    {
     "name": "stderr",
     "output_type": "stream",
     "text": [
      "Processing train:  99%|█████████▉| 9070/9152 [36:23<04:05,  3.00s/it]"
     ]
    },
    {
     "name": "stdout",
     "output_type": "stream",
     "text": [
      "\n",
      "Batch 9070/9152: Load=1.83s, Embed=0.80s, Store=0.00s, Total=2.97s, Images/sec=4.04\n",
      "Estimated remaining time: 4.1 minutes\n"
     ]
    },
    {
     "name": "stderr",
     "output_type": "stream",
     "text": [
      "Processing train:  99%|█████████▉| 9080/9152 [36:53<03:35,  2.99s/it]"
     ]
    },
    {
     "name": "stdout",
     "output_type": "stream",
     "text": [
      "\n",
      "Batch 9080/9152: Load=1.85s, Embed=0.80s, Store=0.00s, Total=2.96s, Images/sec=4.05\n",
      "Estimated remaining time: 3.6 minutes\n"
     ]
    },
    {
     "name": "stderr",
     "output_type": "stream",
     "text": [
      "Processing train:  99%|█████████▉| 9090/9152 [37:23<03:01,  2.93s/it]"
     ]
    },
    {
     "name": "stdout",
     "output_type": "stream",
     "text": [
      "\n",
      "Batch 9090/9152: Load=1.82s, Embed=0.80s, Store=0.00s, Total=2.91s, Images/sec=4.13\n",
      "Estimated remaining time: 3.0 minutes\n"
     ]
    },
    {
     "name": "stderr",
     "output_type": "stream",
     "text": [
      "Processing train:  99%|█████████▉| 9100/9152 [38:17<09:04, 10.47s/it]"
     ]
    },
    {
     "name": "stdout",
     "output_type": "stream",
     "text": [
      "Saved intermediate results to /home/rmuthy2/Circle/intermediate_saves/train_r2_intermediate.parquet\n",
      "\n",
      "Batch 9100/9152: Load=1.82s, Embed=0.82s, Store=0.00s, Total=2.99s, Images/sec=4.01\n",
      "Estimated remaining time: 2.6 minutes\n"
     ]
    },
    {
     "name": "stderr",
     "output_type": "stream",
     "text": [
      "Processing train: 100%|█████████▉| 9110/9152 [38:48<02:14,  3.21s/it]"
     ]
    },
    {
     "name": "stdout",
     "output_type": "stream",
     "text": [
      "\n",
      "Batch 9110/9152: Load=1.64s, Embed=0.81s, Store=0.00s, Total=2.77s, Images/sec=4.33\n",
      "Estimated remaining time: 1.9 minutes\n"
     ]
    },
    {
     "name": "stderr",
     "output_type": "stream",
     "text": [
      "Processing train: 100%|█████████▉| 9120/9152 [39:18<01:33,  2.92s/it]"
     ]
    },
    {
     "name": "stdout",
     "output_type": "stream",
     "text": [
      "\n",
      "Batch 9120/9152: Load=1.77s, Embed=0.83s, Store=0.00s, Total=2.93s, Images/sec=4.10\n",
      "Estimated remaining time: 1.6 minutes\n"
     ]
    },
    {
     "name": "stderr",
     "output_type": "stream",
     "text": [
      "Processing train: 100%|█████████▉| 9130/9152 [39:47<01:04,  2.95s/it]"
     ]
    },
    {
     "name": "stdout",
     "output_type": "stream",
     "text": [
      "\n",
      "Batch 9130/9152: Load=1.68s, Embed=0.80s, Store=0.00s, Total=2.93s, Images/sec=4.10\n",
      "Estimated remaining time: 1.1 minutes\n"
     ]
    },
    {
     "name": "stderr",
     "output_type": "stream",
     "text": [
      "Processing train: 100%|█████████▉| 9140/9152 [40:16<00:34,  2.91s/it]"
     ]
    },
    {
     "name": "stdout",
     "output_type": "stream",
     "text": [
      "\n",
      "Batch 9140/9152: Load=1.62s, Embed=0.82s, Store=0.00s, Total=2.89s, Images/sec=4.15\n",
      "Estimated remaining time: 0.6 minutes\n"
     ]
    },
    {
     "name": "stderr",
     "output_type": "stream",
     "text": [
      "Processing train: 100%|█████████▉| 9150/9152 [41:12<00:21, 10.71s/it]"
     ]
    },
    {
     "name": "stdout",
     "output_type": "stream",
     "text": [
      "Saved intermediate results to /home/rmuthy2/Circle/intermediate_saves/train_r2_intermediate.parquet\n",
      "\n",
      "Batch 9150/9152: Load=1.71s, Embed=0.79s, Store=0.00s, Total=2.84s, Images/sec=4.23\n",
      "Estimated remaining time: 0.1 minutes\n"
     ]
    },
    {
     "name": "stderr",
     "output_type": "stream",
     "text": [
      "Processing train: 100%|██████████| 9152/9152 [41:45<00:00,  3.33s/it]"
     ]
    },
    {
     "name": "stdout",
     "output_type": "stream",
     "text": [
      "Saved intermediate results to /home/rmuthy2/Circle/intermediate_saves/train_r2_intermediate.parquet\n",
      "\n",
      "Batch 9152/9152: Load=1.66s, Embed=0.80s, Store=0.00s, Total=2.86s, Images/sec=4.20\n"
     ]
    },
    {
     "name": "stderr",
     "output_type": "stream",
     "text": [
      "\n"
     ]
    },
    {
     "name": "stdout",
     "output_type": "stream",
     "text": [
      "Saved: /home/rmuthy2/Circle/EmbeddingsOut/raddino-train-r2.parquet\n",
      "Saved: /home/rmuthy2/Circle/EmbeddingsOut/dinov3-train-r2.parquet\n",
      "\n",
      "Processing test dataset for radius 2...\n",
      "\n",
      "Extracting embeddings for test (radius=2) in batches of 12...\n"
     ]
    },
    {
     "name": "stderr",
     "output_type": "stream",
     "text": [
      "Processing test:   0%|          | 10/2288 [00:31<2:03:06,  3.24s/it]"
     ]
    },
    {
     "name": "stdout",
     "output_type": "stream",
     "text": [
      "\n",
      "Batch 10/2288: Load=3.46s, Embed=0.85s, Store=0.00s, Total=4.48s, Images/sec=2.68\n",
      "Estimated remaining time: 170.1 minutes\n"
     ]
    },
    {
     "name": "stderr",
     "output_type": "stream",
     "text": [
      "Processing test:   1%|          | 20/2288 [00:58<1:43:15,  2.73s/it]"
     ]
    },
    {
     "name": "stdout",
     "output_type": "stream",
     "text": [
      "\n",
      "Batch 20/2288: Load=1.73s, Embed=0.82s, Store=0.00s, Total=2.76s, Images/sec=4.35\n",
      "Estimated remaining time: 104.3 minutes\n"
     ]
    },
    {
     "name": "stderr",
     "output_type": "stream",
     "text": [
      "Processing test:   1%|▏         | 30/2288 [01:24<1:39:45,  2.65s/it]"
     ]
    },
    {
     "name": "stdout",
     "output_type": "stream",
     "text": [
      "\n",
      "Batch 30/2288: Load=1.63s, Embed=0.80s, Store=0.00s, Total=2.63s, Images/sec=4.57\n",
      "Estimated remaining time: 98.9 minutes\n"
     ]
    },
    {
     "name": "stderr",
     "output_type": "stream",
     "text": [
      "Processing test:   2%|▏         | 40/2288 [01:51<1:39:14,  2.65s/it]"
     ]
    },
    {
     "name": "stdout",
     "output_type": "stream",
     "text": [
      "\n",
      "Batch 40/2288: Load=1.63s, Embed=0.79s, Store=0.00s, Total=2.62s, Images/sec=4.57\n",
      "Estimated remaining time: 98.3 minutes\n"
     ]
    },
    {
     "name": "stderr",
     "output_type": "stream",
     "text": [
      "Processing test:   2%|▏         | 50/2288 [02:18<1:42:25,  2.75s/it]"
     ]
    },
    {
     "name": "stdout",
     "output_type": "stream",
     "text": [
      "Saved intermediate results to /home/rmuthy2/Circle/intermediate_saves/test_r2_intermediate.parquet\n",
      "\n",
      "Batch 50/2288: Load=1.60s, Embed=0.80s, Store=0.00s, Total=2.61s, Images/sec=4.60\n",
      "Estimated remaining time: 97.4 minutes\n"
     ]
    },
    {
     "name": "stderr",
     "output_type": "stream",
     "text": [
      "Processing test:   3%|▎         | 60/2288 [02:44<1:36:34,  2.60s/it]"
     ]
    },
    {
     "name": "stdout",
     "output_type": "stream",
     "text": [
      "\n",
      "Batch 60/2288: Load=1.45s, Embed=0.82s, Store=0.00s, Total=2.47s, Images/sec=4.85\n",
      "Estimated remaining time: 91.8 minutes\n"
     ]
    },
    {
     "name": "stderr",
     "output_type": "stream",
     "text": [
      "Processing test:   3%|▎         | 70/2288 [03:11<1:39:22,  2.69s/it]"
     ]
    },
    {
     "name": "stdout",
     "output_type": "stream",
     "text": [
      "\n",
      "Batch 70/2288: Load=1.73s, Embed=0.84s, Store=0.00s, Total=2.76s, Images/sec=4.36\n",
      "Estimated remaining time: 101.8 minutes\n"
     ]
    },
    {
     "name": "stderr",
     "output_type": "stream",
     "text": [
      "Processing test:   3%|▎         | 80/2288 [03:37<1:37:38,  2.65s/it]"
     ]
    },
    {
     "name": "stdout",
     "output_type": "stream",
     "text": [
      "\n",
      "Batch 80/2288: Load=1.69s, Embed=0.79s, Store=0.00s, Total=2.66s, Images/sec=4.51\n",
      "Estimated remaining time: 98.0 minutes\n"
     ]
    },
    {
     "name": "stderr",
     "output_type": "stream",
     "text": [
      "Processing test:   4%|▍         | 90/2288 [04:03<1:36:26,  2.63s/it]"
     ]
    },
    {
     "name": "stdout",
     "output_type": "stream",
     "text": [
      "\n",
      "Batch 90/2288: Load=1.67s, Embed=0.80s, Store=0.00s, Total=2.68s, Images/sec=4.48\n",
      "Estimated remaining time: 98.2 minutes\n"
     ]
    },
    {
     "name": "stderr",
     "output_type": "stream",
     "text": [
      "Processing test:   4%|▍         | 100/2288 [04:30<1:40:53,  2.77s/it]"
     ]
    },
    {
     "name": "stdout",
     "output_type": "stream",
     "text": [
      "Saved intermediate results to /home/rmuthy2/Circle/intermediate_saves/test_r2_intermediate.parquet\n",
      "\n",
      "Batch 100/2288: Load=1.69s, Embed=0.80s, Store=0.00s, Total=2.68s, Images/sec=4.48\n",
      "Estimated remaining time: 97.8 minutes\n"
     ]
    },
    {
     "name": "stderr",
     "output_type": "stream",
     "text": [
      "Processing test:   5%|▍         | 110/2288 [04:57<1:38:26,  2.71s/it]"
     ]
    },
    {
     "name": "stdout",
     "output_type": "stream",
     "text": [
      "\n",
      "Batch 110/2288: Load=1.67s, Embed=0.82s, Store=0.00s, Total=2.79s, Images/sec=4.30\n",
      "Estimated remaining time: 101.3 minutes\n"
     ]
    },
    {
     "name": "stderr",
     "output_type": "stream",
     "text": [
      "Processing test:   5%|▌         | 120/2288 [05:23<1:34:39,  2.62s/it]"
     ]
    },
    {
     "name": "stdout",
     "output_type": "stream",
     "text": [
      "\n",
      "Batch 120/2288: Load=1.61s, Embed=0.80s, Store=0.00s, Total=2.62s, Images/sec=4.59\n",
      "Estimated remaining time: 94.5 minutes\n"
     ]
    },
    {
     "name": "stderr",
     "output_type": "stream",
     "text": [
      "Processing test:   6%|▌         | 130/2288 [05:49<1:33:34,  2.60s/it]"
     ]
    },
    {
     "name": "stdout",
     "output_type": "stream",
     "text": [
      "\n",
      "Batch 130/2288: Load=1.62s, Embed=0.78s, Store=0.00s, Total=2.60s, Images/sec=4.61\n",
      "Estimated remaining time: 93.6 minutes\n"
     ]
    },
    {
     "name": "stderr",
     "output_type": "stream",
     "text": [
      "Processing test:   6%|▌         | 140/2288 [06:16<1:35:43,  2.67s/it]"
     ]
    },
    {
     "name": "stdout",
     "output_type": "stream",
     "text": [
      "\n",
      "Batch 140/2288: Load=1.80s, Embed=0.84s, Store=0.00s, Total=2.92s, Images/sec=4.11\n",
      "Estimated remaining time: 104.5 minutes\n"
     ]
    },
    {
     "name": "stderr",
     "output_type": "stream",
     "text": [
      "Processing test:   7%|▋         | 150/2288 [06:43<1:43:36,  2.91s/it]"
     ]
    },
    {
     "name": "stdout",
     "output_type": "stream",
     "text": [
      "Saved intermediate results to /home/rmuthy2/Circle/intermediate_saves/test_r2_intermediate.parquet\n",
      "\n",
      "Batch 150/2288: Load=1.65s, Embed=0.79s, Store=0.00s, Total=2.73s, Images/sec=4.39\n",
      "Estimated remaining time: 97.5 minutes\n"
     ]
    },
    {
     "name": "stderr",
     "output_type": "stream",
     "text": [
      "Processing test:   7%|▋         | 160/2288 [07:10<1:35:17,  2.69s/it]"
     ]
    },
    {
     "name": "stdout",
     "output_type": "stream",
     "text": [
      "\n",
      "Batch 160/2288: Load=1.60s, Embed=0.80s, Store=0.01s, Total=2.70s, Images/sec=4.45\n",
      "Estimated remaining time: 95.6 minutes\n"
     ]
    },
    {
     "name": "stderr",
     "output_type": "stream",
     "text": [
      "Processing test:   7%|▋         | 170/2288 [07:37<1:37:12,  2.75s/it]"
     ]
    },
    {
     "name": "stdout",
     "output_type": "stream",
     "text": [
      "\n",
      "Batch 170/2288: Load=1.63s, Embed=0.80s, Store=0.00s, Total=2.71s, Images/sec=4.42\n",
      "Estimated remaining time: 95.8 minutes\n"
     ]
    },
    {
     "name": "stderr",
     "output_type": "stream",
     "text": [
      "Processing test:   8%|▊         | 180/2288 [08:04<1:35:00,  2.70s/it]"
     ]
    },
    {
     "name": "stdout",
     "output_type": "stream",
     "text": [
      "\n",
      "Batch 180/2288: Load=1.62s, Embed=0.80s, Store=0.00s, Total=2.71s, Images/sec=4.43\n",
      "Estimated remaining time: 95.1 minutes\n"
     ]
    },
    {
     "name": "stderr",
     "output_type": "stream",
     "text": [
      "Processing test:   8%|▊         | 190/2288 [08:30<1:29:26,  2.56s/it]"
     ]
    },
    {
     "name": "stdout",
     "output_type": "stream",
     "text": [
      "\n",
      "Batch 190/2288: Load=1.55s, Embed=0.82s, Store=0.00s, Total=2.56s, Images/sec=4.69\n",
      "Estimated remaining time: 89.5 minutes\n"
     ]
    },
    {
     "name": "stderr",
     "output_type": "stream",
     "text": [
      "Processing test:   9%|▊         | 200/2288 [08:57<1:38:06,  2.82s/it]"
     ]
    },
    {
     "name": "stdout",
     "output_type": "stream",
     "text": [
      "Saved intermediate results to /home/rmuthy2/Circle/intermediate_saves/test_r2_intermediate.parquet\n",
      "\n",
      "Batch 200/2288: Load=1.59s, Embed=0.78s, Store=0.00s, Total=2.56s, Images/sec=4.68\n",
      "Estimated remaining time: 89.2 minutes\n"
     ]
    },
    {
     "name": "stderr",
     "output_type": "stream",
     "text": [
      "Processing test:   9%|▉         | 210/2288 [09:23<1:30:41,  2.62s/it]"
     ]
    },
    {
     "name": "stdout",
     "output_type": "stream",
     "text": [
      "\n",
      "Batch 210/2288: Load=1.55s, Embed=0.79s, Store=0.00s, Total=2.53s, Images/sec=4.74\n",
      "Estimated remaining time: 87.7 minutes\n"
     ]
    },
    {
     "name": "stderr",
     "output_type": "stream",
     "text": [
      "Processing test:  10%|▉         | 220/2288 [09:50<1:32:40,  2.69s/it]"
     ]
    },
    {
     "name": "stdout",
     "output_type": "stream",
     "text": [
      "\n",
      "Batch 220/2288: Load=1.75s, Embed=0.82s, Store=0.00s, Total=2.77s, Images/sec=4.33\n",
      "Estimated remaining time: 95.5 minutes\n"
     ]
    },
    {
     "name": "stderr",
     "output_type": "stream",
     "text": [
      "Processing test:  10%|█         | 230/2288 [10:17<1:36:03,  2.80s/it]"
     ]
    },
    {
     "name": "stdout",
     "output_type": "stream",
     "text": [
      "\n",
      "Batch 230/2288: Load=1.76s, Embed=0.81s, Store=0.00s, Total=2.93s, Images/sec=4.10\n",
      "Estimated remaining time: 100.5 minutes\n"
     ]
    },
    {
     "name": "stderr",
     "output_type": "stream",
     "text": [
      "Processing test:  10%|█         | 240/2288 [10:45<1:35:17,  2.79s/it]"
     ]
    },
    {
     "name": "stdout",
     "output_type": "stream",
     "text": [
      "\n",
      "Batch 240/2288: Load=1.71s, Embed=0.86s, Store=0.00s, Total=2.90s, Images/sec=4.14\n",
      "Estimated remaining time: 99.0 minutes\n"
     ]
    },
    {
     "name": "stderr",
     "output_type": "stream",
     "text": [
      "Processing test:  11%|█         | 250/2288 [11:13<1:42:31,  3.02s/it]"
     ]
    },
    {
     "name": "stdout",
     "output_type": "stream",
     "text": [
      "Saved intermediate results to /home/rmuthy2/Circle/intermediate_saves/test_r2_intermediate.parquet\n",
      "\n",
      "Batch 250/2288: Load=1.64s, Embed=0.79s, Store=0.00s, Total=2.66s, Images/sec=4.52\n",
      "Estimated remaining time: 90.2 minutes\n"
     ]
    },
    {
     "name": "stderr",
     "output_type": "stream",
     "text": [
      "Processing test:  11%|█▏        | 260/2288 [11:40<1:31:28,  2.71s/it]"
     ]
    },
    {
     "name": "stdout",
     "output_type": "stream",
     "text": [
      "\n",
      "Batch 260/2288: Load=1.68s, Embed=0.80s, Store=0.00s, Total=2.75s, Images/sec=4.36\n",
      "Estimated remaining time: 93.1 minutes\n"
     ]
    },
    {
     "name": "stderr",
     "output_type": "stream",
     "text": [
      "Processing test:  12%|█▏        | 270/2288 [12:07<1:30:15,  2.68s/it]"
     ]
    },
    {
     "name": "stdout",
     "output_type": "stream",
     "text": [
      "\n",
      "Batch 270/2288: Load=1.67s, Embed=0.80s, Store=0.00s, Total=2.68s, Images/sec=4.47\n",
      "Estimated remaining time: 90.3 minutes\n"
     ]
    },
    {
     "name": "stderr",
     "output_type": "stream",
     "text": [
      "Processing test:  12%|█▏        | 280/2288 [12:34<1:29:01,  2.66s/it]"
     ]
    },
    {
     "name": "stdout",
     "output_type": "stream",
     "text": [
      "\n",
      "Batch 280/2288: Load=1.61s, Embed=0.81s, Store=0.00s, Total=2.64s, Images/sec=4.55\n",
      "Estimated remaining time: 88.2 minutes\n"
     ]
    },
    {
     "name": "stderr",
     "output_type": "stream",
     "text": [
      "Processing test:  13%|█▎        | 290/2288 [13:00<1:28:26,  2.66s/it]"
     ]
    },
    {
     "name": "stdout",
     "output_type": "stream",
     "text": [
      "\n",
      "Batch 290/2288: Load=1.61s, Embed=0.81s, Store=0.00s, Total=2.65s, Images/sec=4.52\n",
      "Estimated remaining time: 88.4 minutes\n"
     ]
    },
    {
     "name": "stderr",
     "output_type": "stream",
     "text": [
      "Processing test:  13%|█▎        | 300/2288 [13:27<1:38:53,  2.98s/it]"
     ]
    },
    {
     "name": "stdout",
     "output_type": "stream",
     "text": [
      "Saved intermediate results to /home/rmuthy2/Circle/intermediate_saves/test_r2_intermediate.parquet\n",
      "\n",
      "Batch 300/2288: Load=1.63s, Embed=0.81s, Store=0.00s, Total=2.66s, Images/sec=4.50\n",
      "Estimated remaining time: 88.3 minutes\n"
     ]
    },
    {
     "name": "stderr",
     "output_type": "stream",
     "text": [
      "Processing test:  14%|█▎        | 310/2288 [13:54<1:28:15,  2.68s/it]"
     ]
    },
    {
     "name": "stdout",
     "output_type": "stream",
     "text": [
      "\n",
      "Batch 310/2288: Load=1.72s, Embed=0.81s, Store=0.00s, Total=2.75s, Images/sec=4.36\n",
      "Estimated remaining time: 90.7 minutes\n"
     ]
    },
    {
     "name": "stderr",
     "output_type": "stream",
     "text": [
      "Processing test:  14%|█▍        | 320/2288 [14:21<1:30:05,  2.75s/it]"
     ]
    },
    {
     "name": "stdout",
     "output_type": "stream",
     "text": [
      "\n",
      "Batch 320/2288: Load=1.78s, Embed=0.79s, Store=0.00s, Total=2.79s, Images/sec=4.30\n",
      "Estimated remaining time: 91.5 minutes\n"
     ]
    },
    {
     "name": "stderr",
     "output_type": "stream",
     "text": [
      "Processing test:  14%|█▍        | 330/2288 [14:49<1:31:32,  2.81s/it]"
     ]
    },
    {
     "name": "stdout",
     "output_type": "stream",
     "text": [
      "\n",
      "Batch 330/2288: Load=1.75s, Embed=0.80s, Store=0.00s, Total=2.81s, Images/sec=4.27\n",
      "Estimated remaining time: 91.7 minutes\n"
     ]
    },
    {
     "name": "stderr",
     "output_type": "stream",
     "text": [
      "Processing test:  15%|█▍        | 340/2288 [15:17<1:31:26,  2.82s/it]"
     ]
    },
    {
     "name": "stdout",
     "output_type": "stream",
     "text": [
      "\n",
      "Batch 340/2288: Load=1.70s, Embed=0.80s, Store=0.00s, Total=2.86s, Images/sec=4.20\n",
      "Estimated remaining time: 92.8 minutes\n"
     ]
    },
    {
     "name": "stderr",
     "output_type": "stream",
     "text": [
      "Processing test:  15%|█▌        | 350/2288 [15:46<1:44:58,  3.25s/it]"
     ]
    },
    {
     "name": "stdout",
     "output_type": "stream",
     "text": [
      "Saved intermediate results to /home/rmuthy2/Circle/intermediate_saves/test_r2_intermediate.parquet\n",
      "\n",
      "Batch 350/2288: Load=1.62s, Embed=0.80s, Store=0.00s, Total=2.84s, Images/sec=4.23\n",
      "Estimated remaining time: 91.7 minutes\n"
     ]
    },
    {
     "name": "stderr",
     "output_type": "stream",
     "text": [
      "Processing test:  16%|█▌        | 360/2288 [16:13<1:25:43,  2.67s/it]"
     ]
    },
    {
     "name": "stdout",
     "output_type": "stream",
     "text": [
      "\n",
      "Batch 360/2288: Load=1.60s, Embed=0.80s, Store=0.00s, Total=2.66s, Images/sec=4.50\n",
      "Estimated remaining time: 85.6 minutes\n"
     ]
    },
    {
     "name": "stderr",
     "output_type": "stream",
     "text": [
      "Processing test:  16%|█▌        | 370/2288 [16:39<1:24:30,  2.64s/it]"
     ]
    },
    {
     "name": "stdout",
     "output_type": "stream",
     "text": [
      "\n",
      "Batch 370/2288: Load=1.60s, Embed=0.79s, Store=0.00s, Total=2.64s, Images/sec=4.55\n",
      "Estimated remaining time: 84.2 minutes\n"
     ]
    },
    {
     "name": "stderr",
     "output_type": "stream",
     "text": [
      "Processing test:  17%|█▋        | 380/2288 [17:07<1:27:04,  2.74s/it]"
     ]
    },
    {
     "name": "stdout",
     "output_type": "stream",
     "text": [
      "\n",
      "Batch 380/2288: Load=1.64s, Embed=0.79s, Store=0.00s, Total=2.68s, Images/sec=4.49\n",
      "Estimated remaining time: 85.1 minutes\n"
     ]
    },
    {
     "name": "stderr",
     "output_type": "stream",
     "text": [
      "Processing test:  17%|█▋        | 390/2288 [17:33<1:24:45,  2.68s/it]"
     ]
    },
    {
     "name": "stdout",
     "output_type": "stream",
     "text": [
      "\n",
      "Batch 390/2288: Load=1.60s, Embed=0.79s, Store=0.00s, Total=2.63s, Images/sec=4.56\n",
      "Estimated remaining time: 83.3 minutes\n"
     ]
    },
    {
     "name": "stderr",
     "output_type": "stream",
     "text": [
      "Processing test:  17%|█▋        | 400/2288 [18:02<1:40:30,  3.19s/it]"
     ]
    },
    {
     "name": "stdout",
     "output_type": "stream",
     "text": [
      "Saved intermediate results to /home/rmuthy2/Circle/intermediate_saves/test_r2_intermediate.parquet\n",
      "\n",
      "Batch 400/2288: Load=1.64s, Embed=0.83s, Store=0.00s, Total=2.71s, Images/sec=4.42\n",
      "Estimated remaining time: 85.4 minutes\n"
     ]
    },
    {
     "name": "stderr",
     "output_type": "stream",
     "text": [
      "Processing test:  18%|█▊        | 410/2288 [18:30<1:27:18,  2.79s/it]"
     ]
    },
    {
     "name": "stdout",
     "output_type": "stream",
     "text": [
      "\n",
      "Batch 410/2288: Load=1.66s, Embed=0.80s, Store=0.00s, Total=2.87s, Images/sec=4.18\n",
      "Estimated remaining time: 89.8 minutes\n"
     ]
    },
    {
     "name": "stderr",
     "output_type": "stream",
     "text": [
      "Processing test:  18%|█▊        | 420/2288 [18:57<1:24:37,  2.72s/it]"
     ]
    },
    {
     "name": "stdout",
     "output_type": "stream",
     "text": [
      "\n",
      "Batch 420/2288: Load=1.57s, Embed=0.78s, Store=0.00s, Total=2.62s, Images/sec=4.59\n",
      "Estimated remaining time: 81.4 minutes\n"
     ]
    },
    {
     "name": "stderr",
     "output_type": "stream",
     "text": [
      "Processing test:  19%|█▉        | 430/2288 [19:24<1:24:55,  2.74s/it]"
     ]
    },
    {
     "name": "stdout",
     "output_type": "stream",
     "text": [
      "\n",
      "Batch 430/2288: Load=1.66s, Embed=0.82s, Store=0.00s, Total=2.72s, Images/sec=4.42\n",
      "Estimated remaining time: 84.2 minutes\n"
     ]
    },
    {
     "name": "stderr",
     "output_type": "stream",
     "text": [
      "Processing test:  19%|█▉        | 440/2288 [19:51<1:27:03,  2.83s/it]"
     ]
    },
    {
     "name": "stdout",
     "output_type": "stream",
     "text": [
      "\n",
      "Batch 440/2288: Load=1.88s, Embed=0.80s, Store=0.00s, Total=3.02s, Images/sec=3.97\n",
      "Estimated remaining time: 93.1 minutes\n"
     ]
    },
    {
     "name": "stderr",
     "output_type": "stream",
     "text": [
      "Processing test:  20%|█▉        | 450/2288 [20:21<1:47:45,  3.52s/it]"
     ]
    },
    {
     "name": "stdout",
     "output_type": "stream",
     "text": [
      "Saved intermediate results to /home/rmuthy2/Circle/intermediate_saves/test_r2_intermediate.parquet\n",
      "\n",
      "Batch 450/2288: Load=2.54s, Embed=0.80s, Store=0.00s, Total=3.59s, Images/sec=3.34\n",
      "Estimated remaining time: 109.9 minutes\n"
     ]
    },
    {
     "name": "stderr",
     "output_type": "stream",
     "text": [
      "Processing test:  20%|██        | 460/2288 [20:48<1:22:49,  2.72s/it]"
     ]
    },
    {
     "name": "stdout",
     "output_type": "stream",
     "text": [
      "\n",
      "Batch 460/2288: Load=1.63s, Embed=0.79s, Store=0.00s, Total=2.66s, Images/sec=4.51\n",
      "Estimated remaining time: 81.1 minutes\n"
     ]
    },
    {
     "name": "stderr",
     "output_type": "stream",
     "text": [
      "Processing test:  21%|██        | 470/2288 [21:16<1:25:30,  2.82s/it]"
     ]
    },
    {
     "name": "stdout",
     "output_type": "stream",
     "text": [
      "\n",
      "Batch 470/2288: Load=1.84s, Embed=0.82s, Store=0.00s, Total=3.00s, Images/sec=4.00\n",
      "Estimated remaining time: 90.9 minutes\n"
     ]
    },
    {
     "name": "stderr",
     "output_type": "stream",
     "text": [
      "Processing test:  21%|██        | 480/2288 [21:43<1:21:17,  2.70s/it]"
     ]
    },
    {
     "name": "stdout",
     "output_type": "stream",
     "text": [
      "\n",
      "Batch 480/2288: Load=1.59s, Embed=0.80s, Store=0.00s, Total=2.64s, Images/sec=4.55\n",
      "Estimated remaining time: 79.5 minutes\n"
     ]
    },
    {
     "name": "stderr",
     "output_type": "stream",
     "text": [
      "Processing test:  21%|██▏       | 490/2288 [22:11<1:23:18,  2.78s/it]"
     ]
    },
    {
     "name": "stdout",
     "output_type": "stream",
     "text": [
      "\n",
      "Batch 490/2288: Load=1.74s, Embed=0.81s, Store=0.00s, Total=2.90s, Images/sec=4.14\n",
      "Estimated remaining time: 86.8 minutes\n"
     ]
    },
    {
     "name": "stderr",
     "output_type": "stream",
     "text": [
      "Processing test:  22%|██▏       | 500/2288 [22:41<1:40:05,  3.36s/it]"
     ]
    },
    {
     "name": "stdout",
     "output_type": "stream",
     "text": [
      "Saved intermediate results to /home/rmuthy2/Circle/intermediate_saves/test_r2_intermediate.parquet\n",
      "\n",
      "Batch 500/2288: Load=1.65s, Embed=0.79s, Store=0.00s, Total=2.71s, Images/sec=4.42\n",
      "Estimated remaining time: 80.9 minutes\n"
     ]
    },
    {
     "name": "stderr",
     "output_type": "stream",
     "text": [
      "Processing test:  22%|██▏       | 510/2288 [23:09<1:23:20,  2.81s/it]"
     ]
    },
    {
     "name": "stdout",
     "output_type": "stream",
     "text": [
      "\n",
      "Batch 510/2288: Load=1.69s, Embed=0.82s, Store=0.00s, Total=2.82s, Images/sec=4.26\n",
      "Estimated remaining time: 83.4 minutes\n"
     ]
    },
    {
     "name": "stderr",
     "output_type": "stream",
     "text": [
      "Processing test:  23%|██▎       | 520/2288 [23:37<1:21:56,  2.78s/it]"
     ]
    },
    {
     "name": "stdout",
     "output_type": "stream",
     "text": [
      "\n",
      "Batch 520/2288: Load=1.71s, Embed=0.81s, Store=0.00s, Total=2.77s, Images/sec=4.33\n",
      "Estimated remaining time: 81.6 minutes\n"
     ]
    },
    {
     "name": "stderr",
     "output_type": "stream",
     "text": [
      "Processing test:  23%|██▎       | 530/2288 [24:06<1:19:28,  2.71s/it]"
     ]
    },
    {
     "name": "stdout",
     "output_type": "stream",
     "text": [
      "\n",
      "Batch 530/2288: Load=1.57s, Embed=0.79s, Store=0.00s, Total=2.63s, Images/sec=4.57\n",
      "Estimated remaining time: 77.0 minutes\n"
     ]
    },
    {
     "name": "stderr",
     "output_type": "stream",
     "text": [
      "Processing test:  24%|██▎       | 540/2288 [24:33<1:17:58,  2.68s/it]"
     ]
    },
    {
     "name": "stdout",
     "output_type": "stream",
     "text": [
      "\n",
      "Batch 540/2288: Load=1.50s, Embed=0.79s, Store=0.00s, Total=2.58s, Images/sec=4.65\n",
      "Estimated remaining time: 75.2 minutes\n"
     ]
    },
    {
     "name": "stderr",
     "output_type": "stream",
     "text": [
      "Processing test:  24%|██▍       | 550/2288 [25:02<1:39:55,  3.45s/it]"
     ]
    },
    {
     "name": "stdout",
     "output_type": "stream",
     "text": [
      "Saved intermediate results to /home/rmuthy2/Circle/intermediate_saves/test_r2_intermediate.parquet\n",
      "\n",
      "Batch 550/2288: Load=1.79s, Embed=0.81s, Store=0.00s, Total=2.91s, Images/sec=4.12\n",
      "Estimated remaining time: 84.4 minutes\n"
     ]
    },
    {
     "name": "stderr",
     "output_type": "stream",
     "text": [
      "Processing test:  24%|██▍       | 560/2288 [25:30<1:18:42,  2.73s/it]"
     ]
    },
    {
     "name": "stdout",
     "output_type": "stream",
     "text": [
      "\n",
      "Batch 560/2288: Load=1.50s, Embed=0.80s, Store=0.00s, Total=2.57s, Images/sec=4.67\n",
      "Estimated remaining time: 74.0 minutes\n"
     ]
    },
    {
     "name": "stderr",
     "output_type": "stream",
     "text": [
      "Processing test:  25%|██▍       | 570/2288 [25:57<1:17:14,  2.70s/it]"
     ]
    },
    {
     "name": "stdout",
     "output_type": "stream",
     "text": [
      "\n",
      "Batch 570/2288: Load=1.55s, Embed=0.82s, Store=0.00s, Total=2.64s, Images/sec=4.55\n",
      "Estimated remaining time: 75.6 minutes\n"
     ]
    },
    {
     "name": "stderr",
     "output_type": "stream",
     "text": [
      "Processing test:  25%|██▌       | 580/2288 [26:25<1:18:32,  2.76s/it]"
     ]
    },
    {
     "name": "stdout",
     "output_type": "stream",
     "text": [
      "\n",
      "Batch 580/2288: Load=1.60s, Embed=0.79s, Store=0.00s, Total=2.67s, Images/sec=4.50\n",
      "Estimated remaining time: 75.9 minutes\n"
     ]
    },
    {
     "name": "stderr",
     "output_type": "stream",
     "text": [
      "Processing test:  26%|██▌       | 590/2288 [26:52<1:18:19,  2.77s/it]"
     ]
    },
    {
     "name": "stdout",
     "output_type": "stream",
     "text": [
      "\n",
      "Batch 590/2288: Load=1.70s, Embed=0.79s, Store=0.00s, Total=2.79s, Images/sec=4.31\n",
      "Estimated remaining time: 78.9 minutes\n"
     ]
    },
    {
     "name": "stderr",
     "output_type": "stream",
     "text": [
      "Processing test:  26%|██▌       | 600/2288 [27:24<1:40:05,  3.56s/it]"
     ]
    },
    {
     "name": "stdout",
     "output_type": "stream",
     "text": [
      "Saved intermediate results to /home/rmuthy2/Circle/intermediate_saves/test_r2_intermediate.parquet\n",
      "\n",
      "Batch 600/2288: Load=1.65s, Embed=0.80s, Store=0.00s, Total=2.80s, Images/sec=4.29\n",
      "Estimated remaining time: 78.8 minutes\n"
     ]
    },
    {
     "name": "stderr",
     "output_type": "stream",
     "text": [
      "Processing test:  27%|██▋       | 610/2288 [27:53<1:19:35,  2.85s/it]"
     ]
    },
    {
     "name": "stdout",
     "output_type": "stream",
     "text": [
      "\n",
      "Batch 610/2288: Load=1.66s, Embed=0.81s, Store=0.00s, Total=2.90s, Images/sec=4.13\n",
      "Estimated remaining time: 81.2 minutes\n"
     ]
    },
    {
     "name": "stderr",
     "output_type": "stream",
     "text": [
      "Processing test:  27%|██▋       | 620/2288 [28:20<1:17:53,  2.80s/it]"
     ]
    },
    {
     "name": "stdout",
     "output_type": "stream",
     "text": [
      "\n",
      "Batch 620/2288: Load=1.66s, Embed=0.81s, Store=0.00s, Total=2.93s, Images/sec=4.10\n",
      "Estimated remaining time: 81.5 minutes\n"
     ]
    },
    {
     "name": "stderr",
     "output_type": "stream",
     "text": [
      "Processing test:  28%|██▊       | 630/2288 [28:47<1:14:42,  2.70s/it]"
     ]
    },
    {
     "name": "stdout",
     "output_type": "stream",
     "text": [
      "\n",
      "Batch 630/2288: Load=1.57s, Embed=0.80s, Store=0.00s, Total=2.66s, Images/sec=4.52\n",
      "Estimated remaining time: 73.4 minutes\n"
     ]
    },
    {
     "name": "stderr",
     "output_type": "stream",
     "text": [
      "Processing test:  28%|██▊       | 640/2288 [29:15<1:15:53,  2.76s/it]"
     ]
    },
    {
     "name": "stdout",
     "output_type": "stream",
     "text": [
      "\n",
      "Batch 640/2288: Load=1.69s, Embed=0.80s, Store=0.00s, Total=2.88s, Images/sec=4.17\n",
      "Estimated remaining time: 79.0 minutes\n"
     ]
    },
    {
     "name": "stderr",
     "output_type": "stream",
     "text": [
      "Processing test:  28%|██▊       | 650/2288 [29:44<1:35:12,  3.49s/it]"
     ]
    },
    {
     "name": "stdout",
     "output_type": "stream",
     "text": [
      "Saved intermediate results to /home/rmuthy2/Circle/intermediate_saves/test_r2_intermediate.parquet\n",
      "\n",
      "Batch 650/2288: Load=1.67s, Embed=0.80s, Store=0.00s, Total=2.77s, Images/sec=4.33\n",
      "Estimated remaining time: 75.6 minutes\n"
     ]
    },
    {
     "name": "stderr",
     "output_type": "stream",
     "text": [
      "Processing test:  29%|██▉       | 660/2288 [30:13<1:18:11,  2.88s/it]"
     ]
    },
    {
     "name": "stdout",
     "output_type": "stream",
     "text": [
      "\n",
      "Batch 660/2288: Load=1.71s, Embed=0.80s, Store=0.00s, Total=2.91s, Images/sec=4.12\n",
      "Estimated remaining time: 79.0 minutes\n"
     ]
    },
    {
     "name": "stderr",
     "output_type": "stream",
     "text": [
      "Processing test:  29%|██▉       | 670/2288 [30:42<1:16:01,  2.82s/it]"
     ]
    },
    {
     "name": "stdout",
     "output_type": "stream",
     "text": [
      "\n",
      "Batch 670/2288: Load=1.68s, Embed=0.79s, Store=0.00s, Total=2.80s, Images/sec=4.29\n",
      "Estimated remaining time: 75.5 minutes\n"
     ]
    },
    {
     "name": "stderr",
     "output_type": "stream",
     "text": [
      "Processing test:  30%|██▉       | 680/2288 [31:11<1:20:16,  3.00s/it]"
     ]
    },
    {
     "name": "stdout",
     "output_type": "stream",
     "text": [
      "\n",
      "Batch 680/2288: Load=1.70s, Embed=0.85s, Store=0.00s, Total=2.94s, Images/sec=4.09\n",
      "Estimated remaining time: 78.7 minutes\n"
     ]
    },
    {
     "name": "stderr",
     "output_type": "stream",
     "text": [
      "Processing test:  30%|███       | 690/2288 [31:39<1:13:49,  2.77s/it]"
     ]
    },
    {
     "name": "stdout",
     "output_type": "stream",
     "text": [
      "\n",
      "Batch 690/2288: Load=1.53s, Embed=0.80s, Store=0.00s, Total=2.67s, Images/sec=4.49\n",
      "Estimated remaining time: 71.2 minutes\n"
     ]
    },
    {
     "name": "stderr",
     "output_type": "stream",
     "text": [
      "Processing test:  31%|███       | 700/2288 [32:09<1:34:23,  3.57s/it]"
     ]
    },
    {
     "name": "stdout",
     "output_type": "stream",
     "text": [
      "Saved intermediate results to /home/rmuthy2/Circle/intermediate_saves/test_r2_intermediate.parquet\n",
      "\n",
      "Batch 700/2288: Load=1.67s, Embed=0.82s, Store=0.00s, Total=2.82s, Images/sec=4.25\n",
      "Estimated remaining time: 74.6 minutes\n"
     ]
    },
    {
     "name": "stderr",
     "output_type": "stream",
     "text": [
      "Processing test:  31%|███       | 710/2288 [32:36<1:12:11,  2.74s/it]"
     ]
    },
    {
     "name": "stdout",
     "output_type": "stream",
     "text": [
      "\n",
      "Batch 710/2288: Load=1.60s, Embed=0.79s, Store=0.00s, Total=2.72s, Images/sec=4.42\n",
      "Estimated remaining time: 71.4 minutes\n"
     ]
    },
    {
     "name": "stderr",
     "output_type": "stream",
     "text": [
      "Processing test:  31%|███▏      | 720/2288 [33:04<1:13:25,  2.81s/it]"
     ]
    },
    {
     "name": "stdout",
     "output_type": "stream",
     "text": [
      "\n",
      "Batch 720/2288: Load=1.60s, Embed=0.80s, Store=0.00s, Total=2.75s, Images/sec=4.37\n",
      "Estimated remaining time: 71.8 minutes\n"
     ]
    },
    {
     "name": "stderr",
     "output_type": "stream",
     "text": [
      "Processing test:  32%|███▏      | 730/2288 [33:33<1:14:40,  2.88s/it]"
     ]
    },
    {
     "name": "stdout",
     "output_type": "stream",
     "text": [
      "\n",
      "Batch 730/2288: Load=1.73s, Embed=0.79s, Store=0.00s, Total=2.88s, Images/sec=4.16\n",
      "Estimated remaining time: 74.8 minutes\n"
     ]
    },
    {
     "name": "stderr",
     "output_type": "stream",
     "text": [
      "Processing test:  32%|███▏      | 740/2288 [34:01<1:12:49,  2.82s/it]"
     ]
    },
    {
     "name": "stdout",
     "output_type": "stream",
     "text": [
      "\n",
      "Batch 740/2288: Load=1.67s, Embed=0.80s, Store=0.00s, Total=2.81s, Images/sec=4.27\n",
      "Estimated remaining time: 72.5 minutes\n"
     ]
    },
    {
     "name": "stderr",
     "output_type": "stream",
     "text": [
      "Processing test:  33%|███▎      | 750/2288 [34:32<1:34:34,  3.69s/it]"
     ]
    },
    {
     "name": "stdout",
     "output_type": "stream",
     "text": [
      "Saved intermediate results to /home/rmuthy2/Circle/intermediate_saves/test_r2_intermediate.parquet\n",
      "\n",
      "Batch 750/2288: Load=1.64s, Embed=0.79s, Store=0.00s, Total=2.85s, Images/sec=4.21\n",
      "Estimated remaining time: 73.1 minutes\n"
     ]
    },
    {
     "name": "stderr",
     "output_type": "stream",
     "text": [
      "Processing test:  33%|███▎      | 760/2288 [35:00<1:12:33,  2.85s/it]"
     ]
    },
    {
     "name": "stdout",
     "output_type": "stream",
     "text": [
      "\n",
      "Batch 760/2288: Load=1.66s, Embed=0.81s, Store=0.00s, Total=2.79s, Images/sec=4.30\n",
      "Estimated remaining time: 71.1 minutes\n"
     ]
    },
    {
     "name": "stderr",
     "output_type": "stream",
     "text": [
      "Processing test:  34%|███▎      | 770/2288 [35:28<1:09:50,  2.76s/it]"
     ]
    },
    {
     "name": "stdout",
     "output_type": "stream",
     "text": [
      "\n",
      "Batch 770/2288: Load=1.57s, Embed=0.78s, Store=0.00s, Total=2.71s, Images/sec=4.43\n",
      "Estimated remaining time: 68.6 minutes\n"
     ]
    },
    {
     "name": "stderr",
     "output_type": "stream",
     "text": [
      "Processing test:  34%|███▍      | 780/2288 [35:56<1:10:00,  2.79s/it]"
     ]
    },
    {
     "name": "stdout",
     "output_type": "stream",
     "text": [
      "\n",
      "Batch 780/2288: Load=1.68s, Embed=0.81s, Store=0.00s, Total=2.90s, Images/sec=4.14\n",
      "Estimated remaining time: 72.8 minutes\n"
     ]
    },
    {
     "name": "stderr",
     "output_type": "stream",
     "text": [
      "Processing test:  35%|███▍      | 790/2288 [36:25<1:11:45,  2.87s/it]"
     ]
    },
    {
     "name": "stdout",
     "output_type": "stream",
     "text": [
      "\n",
      "Batch 790/2288: Load=1.73s, Embed=0.82s, Store=0.00s, Total=2.87s, Images/sec=4.18\n",
      "Estimated remaining time: 71.6 minutes\n"
     ]
    },
    {
     "name": "stderr",
     "output_type": "stream",
     "text": [
      "Processing test:  35%|███▍      | 800/2288 [36:56<1:33:09,  3.76s/it]"
     ]
    },
    {
     "name": "stdout",
     "output_type": "stream",
     "text": [
      "Saved intermediate results to /home/rmuthy2/Circle/intermediate_saves/test_r2_intermediate.parquet\n",
      "\n",
      "Batch 800/2288: Load=1.60s, Embed=0.81s, Store=0.00s, Total=2.73s, Images/sec=4.39\n",
      "Estimated remaining time: 67.7 minutes\n"
     ]
    },
    {
     "name": "stderr",
     "output_type": "stream",
     "text": [
      "Processing test:  35%|███▌      | 810/2288 [37:25<1:12:45,  2.95s/it]"
     ]
    },
    {
     "name": "stdout",
     "output_type": "stream",
     "text": [
      "\n",
      "Batch 810/2288: Load=1.69s, Embed=0.79s, Store=0.00s, Total=2.89s, Images/sec=4.15\n",
      "Estimated remaining time: 71.3 minutes\n"
     ]
    },
    {
     "name": "stderr",
     "output_type": "stream",
     "text": [
      "Processing test:  36%|███▌      | 820/2288 [37:54<1:10:39,  2.89s/it]"
     ]
    },
    {
     "name": "stdout",
     "output_type": "stream",
     "text": [
      "\n",
      "Batch 820/2288: Load=1.80s, Embed=0.81s, Store=0.00s, Total=2.97s, Images/sec=4.04\n",
      "Estimated remaining time: 72.7 minutes\n"
     ]
    },
    {
     "name": "stderr",
     "output_type": "stream",
     "text": [
      "Processing test:  36%|███▋      | 830/2288 [38:22<1:08:18,  2.81s/it]"
     ]
    },
    {
     "name": "stdout",
     "output_type": "stream",
     "text": [
      "\n",
      "Batch 830/2288: Load=1.63s, Embed=0.80s, Store=0.00s, Total=2.76s, Images/sec=4.35\n",
      "Estimated remaining time: 67.0 minutes\n"
     ]
    },
    {
     "name": "stderr",
     "output_type": "stream",
     "text": [
      "Processing test:  37%|███▋      | 840/2288 [38:51<1:08:24,  2.83s/it]"
     ]
    },
    {
     "name": "stdout",
     "output_type": "stream",
     "text": [
      "\n",
      "Batch 840/2288: Load=1.67s, Embed=0.81s, Store=0.00s, Total=2.87s, Images/sec=4.18\n",
      "Estimated remaining time: 69.2 minutes\n"
     ]
    },
    {
     "name": "stderr",
     "output_type": "stream",
     "text": [
      "Processing test:  37%|███▋      | 850/2288 [39:23<1:33:26,  3.90s/it]"
     ]
    },
    {
     "name": "stdout",
     "output_type": "stream",
     "text": [
      "Saved intermediate results to /home/rmuthy2/Circle/intermediate_saves/test_r2_intermediate.parquet\n",
      "\n",
      "Batch 850/2288: Load=1.76s, Embed=0.80s, Store=0.00s, Total=2.94s, Images/sec=4.08\n",
      "Estimated remaining time: 70.5 minutes\n"
     ]
    },
    {
     "name": "stderr",
     "output_type": "stream",
     "text": [
      "Processing test:  38%|███▊      | 860/2288 [39:51<1:07:38,  2.84s/it]"
     ]
    },
    {
     "name": "stdout",
     "output_type": "stream",
     "text": [
      "\n",
      "Batch 860/2288: Load=1.56s, Embed=0.78s, Store=0.00s, Total=2.67s, Images/sec=4.49\n",
      "Estimated remaining time: 63.6 minutes\n"
     ]
    },
    {
     "name": "stderr",
     "output_type": "stream",
     "text": [
      "Processing test:  38%|███▊      | 870/2288 [40:20<1:07:19,  2.85s/it]"
     ]
    },
    {
     "name": "stdout",
     "output_type": "stream",
     "text": [
      "\n",
      "Batch 870/2288: Load=1.64s, Embed=0.81s, Store=0.00s, Total=2.82s, Images/sec=4.25\n",
      "Estimated remaining time: 66.7 minutes\n"
     ]
    },
    {
     "name": "stderr",
     "output_type": "stream",
     "text": [
      "Processing test:  38%|███▊      | 880/2288 [40:50<1:15:41,  3.23s/it]"
     ]
    },
    {
     "name": "stdout",
     "output_type": "stream",
     "text": [
      "\n",
      "Batch 880/2288: Load=1.94s, Embed=0.81s, Store=0.00s, Total=3.08s, Images/sec=3.89\n",
      "Estimated remaining time: 72.3 minutes\n"
     ]
    },
    {
     "name": "stderr",
     "output_type": "stream",
     "text": [
      "Processing test:  39%|███▉      | 890/2288 [41:19<1:06:49,  2.87s/it]"
     ]
    },
    {
     "name": "stdout",
     "output_type": "stream",
     "text": [
      "\n",
      "Batch 890/2288: Load=1.72s, Embed=0.80s, Store=0.00s, Total=2.86s, Images/sec=4.19\n",
      "Estimated remaining time: 66.7 minutes\n"
     ]
    },
    {
     "name": "stderr",
     "output_type": "stream",
     "text": [
      "Processing test:  39%|███▉      | 900/2288 [41:51<1:30:15,  3.90s/it]"
     ]
    },
    {
     "name": "stdout",
     "output_type": "stream",
     "text": [
      "Saved intermediate results to /home/rmuthy2/Circle/intermediate_saves/test_r2_intermediate.parquet\n",
      "\n",
      "Batch 900/2288: Load=1.74s, Embed=0.81s, Store=0.00s, Total=2.93s, Images/sec=4.10\n",
      "Estimated remaining time: 67.7 minutes\n"
     ]
    },
    {
     "name": "stderr",
     "output_type": "stream",
     "text": [
      "Processing test:  40%|███▉      | 910/2288 [42:19<1:05:43,  2.86s/it]"
     ]
    },
    {
     "name": "stdout",
     "output_type": "stream",
     "text": [
      "\n",
      "Batch 910/2288: Load=1.70s, Embed=0.78s, Store=0.00s, Total=2.98s, Images/sec=4.03\n",
      "Estimated remaining time: 68.4 minutes\n"
     ]
    },
    {
     "name": "stderr",
     "output_type": "stream",
     "text": [
      "Processing test:  40%|████      | 920/2288 [42:46<1:02:12,  2.73s/it]"
     ]
    },
    {
     "name": "stdout",
     "output_type": "stream",
     "text": [
      "\n",
      "Batch 920/2288: Load=1.58s, Embed=0.79s, Store=0.00s, Total=2.74s, Images/sec=4.38\n",
      "Estimated remaining time: 62.5 minutes\n"
     ]
    },
    {
     "name": "stderr",
     "output_type": "stream",
     "text": [
      "Processing test:  41%|████      | 930/2288 [43:14<1:04:13,  2.84s/it]"
     ]
    },
    {
     "name": "stdout",
     "output_type": "stream",
     "text": [
      "\n",
      "Batch 930/2288: Load=1.65s, Embed=0.79s, Store=0.00s, Total=2.85s, Images/sec=4.21\n",
      "Estimated remaining time: 64.5 minutes\n"
     ]
    },
    {
     "name": "stderr",
     "output_type": "stream",
     "text": [
      "Processing test:  41%|████      | 940/2288 [43:42<1:02:17,  2.77s/it]"
     ]
    },
    {
     "name": "stdout",
     "output_type": "stream",
     "text": [
      "\n",
      "Batch 940/2288: Load=1.59s, Embed=0.79s, Store=0.00s, Total=2.73s, Images/sec=4.40\n",
      "Estimated remaining time: 61.3 minutes\n"
     ]
    },
    {
     "name": "stderr",
     "output_type": "stream",
     "text": [
      "Processing test:  42%|████▏     | 950/2288 [44:14<1:25:54,  3.85s/it]"
     ]
    },
    {
     "name": "stdout",
     "output_type": "stream",
     "text": [
      "Saved intermediate results to /home/rmuthy2/Circle/intermediate_saves/test_r2_intermediate.parquet\n",
      "\n",
      "Batch 950/2288: Load=1.61s, Embed=0.79s, Store=0.00s, Total=2.74s, Images/sec=4.38\n",
      "Estimated remaining time: 61.1 minutes\n"
     ]
    },
    {
     "name": "stderr",
     "output_type": "stream",
     "text": [
      "Processing test:  42%|████▏     | 960/2288 [44:42<1:03:09,  2.85s/it]"
     ]
    },
    {
     "name": "stdout",
     "output_type": "stream",
     "text": [
      "\n",
      "Batch 960/2288: Load=1.65s, Embed=0.79s, Store=0.00s, Total=2.80s, Images/sec=4.29\n",
      "Estimated remaining time: 61.9 minutes\n"
     ]
    },
    {
     "name": "stderr",
     "output_type": "stream",
     "text": [
      "Processing test:  42%|████▏     | 970/2288 [45:10<1:01:25,  2.80s/it]"
     ]
    },
    {
     "name": "stdout",
     "output_type": "stream",
     "text": [
      "\n",
      "Batch 970/2288: Load=1.60s, Embed=0.79s, Store=0.00s, Total=2.74s, Images/sec=4.37\n",
      "Estimated remaining time: 60.3 minutes\n"
     ]
    },
    {
     "name": "stderr",
     "output_type": "stream",
     "text": [
      "Processing test:  43%|████▎     | 980/2288 [45:39<1:02:39,  2.87s/it]"
     ]
    },
    {
     "name": "stdout",
     "output_type": "stream",
     "text": [
      "\n",
      "Batch 980/2288: Load=1.78s, Embed=0.80s, Store=0.00s, Total=2.98s, Images/sec=4.03\n",
      "Estimated remaining time: 64.9 minutes\n"
     ]
    },
    {
     "name": "stderr",
     "output_type": "stream",
     "text": [
      "Processing test:  43%|████▎     | 990/2288 [46:07<1:01:26,  2.84s/it]"
     ]
    },
    {
     "name": "stdout",
     "output_type": "stream",
     "text": [
      "\n",
      "Batch 990/2288: Load=1.64s, Embed=0.81s, Store=0.00s, Total=2.81s, Images/sec=4.27\n",
      "Estimated remaining time: 60.8 minutes\n"
     ]
    },
    {
     "name": "stderr",
     "output_type": "stream",
     "text": [
      "Processing test:  44%|████▎     | 1000/2288 [46:39<1:22:49,  3.86s/it]"
     ]
    },
    {
     "name": "stdout",
     "output_type": "stream",
     "text": [
      "Saved intermediate results to /home/rmuthy2/Circle/intermediate_saves/test_r2_intermediate.parquet\n",
      "\n",
      "Batch 1000/2288: Load=1.61s, Embed=0.80s, Store=0.00s, Total=2.82s, Images/sec=4.26\n",
      "Estimated remaining time: 60.5 minutes\n"
     ]
    },
    {
     "name": "stderr",
     "output_type": "stream",
     "text": [
      "Processing test:  44%|████▍     | 1010/2288 [47:07<1:00:54,  2.86s/it]"
     ]
    },
    {
     "name": "stdout",
     "output_type": "stream",
     "text": [
      "\n",
      "Batch 1010/2288: Load=1.71s, Embed=0.79s, Store=0.00s, Total=2.87s, Images/sec=4.18\n",
      "Estimated remaining time: 61.1 minutes\n"
     ]
    },
    {
     "name": "stderr",
     "output_type": "stream",
     "text": [
      "Processing test:  45%|████▍     | 1020/2288 [47:35<58:41,  2.78s/it]  "
     ]
    },
    {
     "name": "stdout",
     "output_type": "stream",
     "text": [
      "\n",
      "Batch 1020/2288: Load=1.59s, Embed=0.79s, Store=0.00s, Total=2.73s, Images/sec=4.39\n",
      "Estimated remaining time: 57.8 minutes\n"
     ]
    },
    {
     "name": "stderr",
     "output_type": "stream",
     "text": [
      "Processing test:  45%|████▌     | 1030/2288 [48:04<1:00:43,  2.90s/it]"
     ]
    },
    {
     "name": "stdout",
     "output_type": "stream",
     "text": [
      "\n",
      "Batch 1030/2288: Load=1.65s, Embed=0.81s, Store=0.00s, Total=2.95s, Images/sec=4.07\n",
      "Estimated remaining time: 61.8 minutes\n"
     ]
    },
    {
     "name": "stderr",
     "output_type": "stream",
     "text": [
      "Processing test:  45%|████▌     | 1040/2288 [48:33<59:42,  2.87s/it]  "
     ]
    },
    {
     "name": "stdout",
     "output_type": "stream",
     "text": [
      "\n",
      "Batch 1040/2288: Load=1.61s, Embed=0.81s, Store=0.00s, Total=2.78s, Images/sec=4.31\n",
      "Estimated remaining time: 57.9 minutes\n"
     ]
    },
    {
     "name": "stderr",
     "output_type": "stream",
     "text": [
      "Processing test:  46%|████▌     | 1050/2288 [49:07<1:25:09,  4.13s/it]"
     ]
    },
    {
     "name": "stdout",
     "output_type": "stream",
     "text": [
      "Saved intermediate results to /home/rmuthy2/Circle/intermediate_saves/test_r2_intermediate.parquet\n",
      "\n",
      "Batch 1050/2288: Load=1.79s, Embed=0.83s, Store=0.00s, Total=2.98s, Images/sec=4.02\n",
      "Estimated remaining time: 61.5 minutes\n"
     ]
    },
    {
     "name": "stderr",
     "output_type": "stream",
     "text": [
      "Processing test:  46%|████▋     | 1060/2288 [49:37<1:02:27,  3.05s/it]"
     ]
    },
    {
     "name": "stdout",
     "output_type": "stream",
     "text": [
      "\n",
      "Batch 1060/2288: Load=1.86s, Embed=0.82s, Store=0.00s, Total=3.07s, Images/sec=3.90\n",
      "Estimated remaining time: 62.9 minutes\n"
     ]
    },
    {
     "name": "stderr",
     "output_type": "stream",
     "text": [
      "Processing test:  47%|████▋     | 1070/2288 [50:06<58:51,  2.90s/it]  "
     ]
    },
    {
     "name": "stdout",
     "output_type": "stream",
     "text": [
      "\n",
      "Batch 1070/2288: Load=1.71s, Embed=0.81s, Store=0.00s, Total=2.90s, Images/sec=4.14\n",
      "Estimated remaining time: 58.8 minutes\n"
     ]
    },
    {
     "name": "stderr",
     "output_type": "stream",
     "text": [
      "Processing test:  47%|████▋     | 1080/2288 [50:36<1:00:26,  3.00s/it]"
     ]
    },
    {
     "name": "stdout",
     "output_type": "stream",
     "text": [
      "\n",
      "Batch 1080/2288: Load=1.81s, Embed=0.81s, Store=0.00s, Total=3.01s, Images/sec=3.99\n",
      "Estimated remaining time: 60.6 minutes\n"
     ]
    },
    {
     "name": "stderr",
     "output_type": "stream",
     "text": [
      "Processing test:  48%|████▊     | 1090/2288 [51:05<58:54,  2.95s/it]  "
     ]
    },
    {
     "name": "stdout",
     "output_type": "stream",
     "text": [
      "\n",
      "Batch 1090/2288: Load=1.67s, Embed=0.79s, Store=0.00s, Total=2.93s, Images/sec=4.10\n",
      "Estimated remaining time: 58.4 minutes\n"
     ]
    },
    {
     "name": "stderr",
     "output_type": "stream",
     "text": [
      "Processing test:  48%|████▊     | 1100/2288 [51:39<1:21:42,  4.13s/it]"
     ]
    },
    {
     "name": "stdout",
     "output_type": "stream",
     "text": [
      "Saved intermediate results to /home/rmuthy2/Circle/intermediate_saves/test_r2_intermediate.parquet\n",
      "\n",
      "Batch 1100/2288: Load=1.64s, Embed=0.78s, Store=0.00s, Total=2.86s, Images/sec=4.20\n",
      "Estimated remaining time: 56.6 minutes\n"
     ]
    },
    {
     "name": "stderr",
     "output_type": "stream",
     "text": [
      "Processing test:  49%|████▊     | 1110/2288 [52:08<57:27,  2.93s/it]  "
     ]
    },
    {
     "name": "stdout",
     "output_type": "stream",
     "text": [
      "\n",
      "Batch 1110/2288: Load=1.79s, Embed=0.79s, Store=0.00s, Total=2.97s, Images/sec=4.04\n",
      "Estimated remaining time: 58.2 minutes\n"
     ]
    },
    {
     "name": "stderr",
     "output_type": "stream",
     "text": [
      "Processing test:  49%|████▉     | 1120/2288 [52:37<55:32,  2.85s/it]"
     ]
    },
    {
     "name": "stdout",
     "output_type": "stream",
     "text": [
      "\n",
      "Batch 1120/2288: Load=1.64s, Embed=0.81s, Store=0.00s, Total=2.83s, Images/sec=4.24\n",
      "Estimated remaining time: 55.1 minutes\n"
     ]
    },
    {
     "name": "stderr",
     "output_type": "stream",
     "text": [
      "Processing test:  49%|████▉     | 1130/2288 [53:05<54:33,  2.83s/it]"
     ]
    },
    {
     "name": "stdout",
     "output_type": "stream",
     "text": [
      "\n",
      "Batch 1130/2288: Load=1.62s, Embed=0.80s, Store=0.00s, Total=2.82s, Images/sec=4.26\n",
      "Estimated remaining time: 54.4 minutes\n"
     ]
    },
    {
     "name": "stderr",
     "output_type": "stream",
     "text": [
      "Processing test:  50%|████▉     | 1140/2288 [53:34<54:28,  2.85s/it]"
     ]
    },
    {
     "name": "stdout",
     "output_type": "stream",
     "text": [
      "\n",
      "Batch 1140/2288: Load=1.70s, Embed=0.81s, Store=0.00s, Total=2.96s, Images/sec=4.06\n",
      "Estimated remaining time: 56.6 minutes\n"
     ]
    },
    {
     "name": "stderr",
     "output_type": "stream",
     "text": [
      "Processing test:  50%|█████     | 1150/2288 [54:07<1:20:23,  4.24s/it]"
     ]
    },
    {
     "name": "stdout",
     "output_type": "stream",
     "text": [
      "Saved intermediate results to /home/rmuthy2/Circle/intermediate_saves/test_r2_intermediate.parquet\n",
      "\n",
      "Batch 1150/2288: Load=1.66s, Embed=0.82s, Store=0.00s, Total=2.90s, Images/sec=4.14\n",
      "Estimated remaining time: 55.0 minutes\n"
     ]
    },
    {
     "name": "stderr",
     "output_type": "stream",
     "text": [
      "Processing test:  51%|█████     | 1160/2288 [54:36<55:58,  2.98s/it]  "
     ]
    },
    {
     "name": "stdout",
     "output_type": "stream",
     "text": [
      "\n",
      "Batch 1160/2288: Load=1.62s, Embed=0.78s, Store=0.00s, Total=2.94s, Images/sec=4.09\n",
      "Estimated remaining time: 55.2 minutes\n"
     ]
    },
    {
     "name": "stderr",
     "output_type": "stream",
     "text": [
      "Processing test:  51%|█████     | 1170/2288 [55:06<54:37,  2.93s/it]"
     ]
    },
    {
     "name": "stdout",
     "output_type": "stream",
     "text": [
      "\n",
      "Batch 1170/2288: Load=1.77s, Embed=0.82s, Store=0.00s, Total=3.00s, Images/sec=4.00\n",
      "Estimated remaining time: 56.0 minutes\n"
     ]
    },
    {
     "name": "stderr",
     "output_type": "stream",
     "text": [
      "Processing test:  52%|█████▏    | 1180/2288 [55:35<53:40,  2.91s/it]"
     ]
    },
    {
     "name": "stdout",
     "output_type": "stream",
     "text": [
      "\n",
      "Batch 1180/2288: Load=1.70s, Embed=0.80s, Store=0.00s, Total=3.04s, Images/sec=3.94\n",
      "Estimated remaining time: 56.2 minutes\n"
     ]
    },
    {
     "name": "stderr",
     "output_type": "stream",
     "text": [
      "Processing test:  52%|█████▏    | 1190/2288 [56:03<52:04,  2.85s/it]"
     ]
    },
    {
     "name": "stdout",
     "output_type": "stream",
     "text": [
      "\n",
      "Batch 1190/2288: Load=1.56s, Embed=0.81s, Store=0.00s, Total=2.76s, Images/sec=4.34\n",
      "Estimated remaining time: 50.6 minutes\n"
     ]
    },
    {
     "name": "stderr",
     "output_type": "stream",
     "text": [
      "Processing test:  54%|█████▍    | 1230/2288 [58:04<55:41,  3.16s/it]"
     ]
    },
    {
     "name": "stdout",
     "output_type": "stream",
     "text": [
      "\n",
      "Batch 1230/2288: Load=2.66s, Embed=0.79s, Store=0.00s, Total=3.87s, Images/sec=3.10\n",
      "Estimated remaining time: 68.3 minutes\n"
     ]
    },
    {
     "name": "stderr",
     "output_type": "stream",
     "text": [
      "Processing test:  54%|█████▍    | 1240/2288 [58:33<50:28,  2.89s/it]"
     ]
    },
    {
     "name": "stdout",
     "output_type": "stream",
     "text": [
      "\n",
      "Batch 1240/2288: Load=1.70s, Embed=0.79s, Store=0.00s, Total=2.94s, Images/sec=4.08\n",
      "Estimated remaining time: 51.3 minutes\n"
     ]
    },
    {
     "name": "stderr",
     "output_type": "stream",
     "text": [
      "Processing test:  55%|█████▍    | 1250/2288 [59:06<1:12:47,  4.21s/it]"
     ]
    },
    {
     "name": "stdout",
     "output_type": "stream",
     "text": [
      "Saved intermediate results to /home/rmuthy2/Circle/intermediate_saves/test_r2_intermediate.parquet\n",
      "\n",
      "Batch 1250/2288: Load=1.63s, Embed=0.79s, Store=0.00s, Total=2.85s, Images/sec=4.21\n",
      "Estimated remaining time: 49.3 minutes\n"
     ]
    },
    {
     "name": "stderr",
     "output_type": "stream",
     "text": [
      "Processing test:  55%|█████▌    | 1260/2288 [59:35<51:10,  2.99s/it]  "
     ]
    },
    {
     "name": "stdout",
     "output_type": "stream",
     "text": [
      "\n",
      "Batch 1260/2288: Load=1.74s, Embed=0.79s, Store=0.00s, Total=3.10s, Images/sec=3.88\n",
      "Estimated remaining time: 53.1 minutes\n"
     ]
    },
    {
     "name": "stderr",
     "output_type": "stream",
     "text": [
      "Processing test:  56%|█████▌    | 1270/2288 [1:00:04<49:13,  2.90s/it]"
     ]
    },
    {
     "name": "stdout",
     "output_type": "stream",
     "text": [
      "\n",
      "Batch 1270/2288: Load=1.54s, Embed=0.79s, Store=0.00s, Total=2.95s, Images/sec=4.06\n",
      "Estimated remaining time: 50.1 minutes\n"
     ]
    },
    {
     "name": "stderr",
     "output_type": "stream",
     "text": [
      "Processing test:  56%|█████▌    | 1280/2288 [1:00:33<48:31,  2.89s/it]"
     ]
    },
    {
     "name": "stdout",
     "output_type": "stream",
     "text": [
      "\n",
      "Batch 1280/2288: Load=1.69s, Embed=0.80s, Store=0.00s, Total=2.93s, Images/sec=4.10\n",
      "Estimated remaining time: 49.2 minutes\n"
     ]
    },
    {
     "name": "stderr",
     "output_type": "stream",
     "text": [
      "Processing test:  56%|█████▋    | 1290/2288 [1:01:02<47:40,  2.87s/it]"
     ]
    },
    {
     "name": "stdout",
     "output_type": "stream",
     "text": [
      "\n",
      "Batch 1290/2288: Load=1.59s, Embed=0.79s, Store=0.00s, Total=2.82s, Images/sec=4.26\n",
      "Estimated remaining time: 46.9 minutes\n"
     ]
    },
    {
     "name": "stderr",
     "output_type": "stream",
     "text": [
      "Processing test:  57%|█████▋    | 1300/2288 [1:01:36<1:15:44,  4.60s/it]"
     ]
    },
    {
     "name": "stdout",
     "output_type": "stream",
     "text": [
      "Saved intermediate results to /home/rmuthy2/Circle/intermediate_saves/test_r2_intermediate.parquet\n",
      "\n",
      "Batch 1300/2288: Load=2.57s, Embed=0.80s, Store=0.00s, Total=3.78s, Images/sec=3.17\n",
      "Estimated remaining time: 62.3 minutes\n"
     ]
    },
    {
     "name": "stderr",
     "output_type": "stream",
     "text": [
      "Processing test:  57%|█████▋    | 1310/2288 [1:02:06<48:00,  2.95s/it]  "
     ]
    },
    {
     "name": "stdout",
     "output_type": "stream",
     "text": [
      "\n",
      "Batch 1310/2288: Load=1.67s, Embed=0.79s, Store=0.00s, Total=2.87s, Images/sec=4.18\n",
      "Estimated remaining time: 46.8 minutes\n"
     ]
    },
    {
     "name": "stderr",
     "output_type": "stream",
     "text": [
      "Processing test:  58%|█████▊    | 1320/2288 [1:02:35<46:37,  2.89s/it]"
     ]
    },
    {
     "name": "stdout",
     "output_type": "stream",
     "text": [
      "\n",
      "Batch 1320/2288: Load=1.65s, Embed=0.79s, Store=0.00s, Total=2.86s, Images/sec=4.20\n",
      "Estimated remaining time: 46.1 minutes\n"
     ]
    },
    {
     "name": "stderr",
     "output_type": "stream",
     "text": [
      "Processing test:  58%|█████▊    | 1330/2288 [1:03:04<46:11,  2.89s/it]"
     ]
    },
    {
     "name": "stdout",
     "output_type": "stream",
     "text": [
      "\n",
      "Batch 1330/2288: Load=1.67s, Embed=0.79s, Store=0.00s, Total=2.90s, Images/sec=4.14\n",
      "Estimated remaining time: 46.3 minutes\n"
     ]
    },
    {
     "name": "stderr",
     "output_type": "stream",
     "text": [
      "Processing test:  59%|█████▊    | 1340/2288 [1:03:33<45:31,  2.88s/it]"
     ]
    },
    {
     "name": "stdout",
     "output_type": "stream",
     "text": [
      "\n",
      "Batch 1340/2288: Load=1.68s, Embed=0.80s, Store=0.00s, Total=2.91s, Images/sec=4.13\n",
      "Estimated remaining time: 46.0 minutes\n"
     ]
    },
    {
     "name": "stderr",
     "output_type": "stream",
     "text": [
      "Processing test:  59%|█████▉    | 1350/2288 [1:04:06<1:08:13,  4.36s/it]"
     ]
    },
    {
     "name": "stdout",
     "output_type": "stream",
     "text": [
      "Saved intermediate results to /home/rmuthy2/Circle/intermediate_saves/test_r2_intermediate.parquet\n",
      "\n",
      "Batch 1350/2288: Load=1.68s, Embed=0.80s, Store=0.00s, Total=2.92s, Images/sec=4.11\n",
      "Estimated remaining time: 45.7 minutes\n"
     ]
    },
    {
     "name": "stderr",
     "output_type": "stream",
     "text": [
      "Processing test:  59%|█████▉    | 1360/2288 [1:04:36<45:46,  2.96s/it]  "
     ]
    },
    {
     "name": "stdout",
     "output_type": "stream",
     "text": [
      "\n",
      "Batch 1360/2288: Load=1.62s, Embed=0.80s, Store=0.00s, Total=2.85s, Images/sec=4.22\n",
      "Estimated remaining time: 44.0 minutes\n"
     ]
    },
    {
     "name": "stderr",
     "output_type": "stream",
     "text": [
      "Processing test:  60%|█████▉    | 1370/2288 [1:05:06<48:50,  3.19s/it]"
     ]
    },
    {
     "name": "stdout",
     "output_type": "stream",
     "text": [
      "\n",
      "Batch 1370/2288: Load=1.71s, Embed=0.80s, Store=0.00s, Total=3.03s, Images/sec=3.96\n",
      "Estimated remaining time: 46.4 minutes\n"
     ]
    },
    {
     "name": "stderr",
     "output_type": "stream",
     "text": [
      "Processing test:  60%|██████    | 1380/2288 [1:05:36<45:29,  3.01s/it]"
     ]
    },
    {
     "name": "stdout",
     "output_type": "stream",
     "text": [
      "\n",
      "Batch 1380/2288: Load=1.77s, Embed=0.80s, Store=0.00s, Total=3.07s, Images/sec=3.90\n",
      "Estimated remaining time: 46.5 minutes\n"
     ]
    },
    {
     "name": "stderr",
     "output_type": "stream",
     "text": [
      "Processing test:  61%|██████    | 1390/2288 [1:06:05<43:26,  2.90s/it]"
     ]
    },
    {
     "name": "stdout",
     "output_type": "stream",
     "text": [
      "\n",
      "Batch 1390/2288: Load=1.57s, Embed=0.79s, Store=0.00s, Total=2.81s, Images/sec=4.28\n",
      "Estimated remaining time: 42.0 minutes\n"
     ]
    },
    {
     "name": "stderr",
     "output_type": "stream",
     "text": [
      "Processing test:  61%|██████    | 1400/2288 [1:06:39<1:07:02,  4.53s/it]"
     ]
    },
    {
     "name": "stdout",
     "output_type": "stream",
     "text": [
      "Saved intermediate results to /home/rmuthy2/Circle/intermediate_saves/test_r2_intermediate.parquet\n",
      "\n",
      "Batch 1400/2288: Load=1.72s, Embed=0.78s, Store=0.00s, Total=2.98s, Images/sec=4.02\n",
      "Estimated remaining time: 44.2 minutes\n"
     ]
    },
    {
     "name": "stderr",
     "output_type": "stream",
     "text": [
      "Processing test:  62%|██████▏   | 1410/2288 [1:07:08<43:07,  2.95s/it]  "
     ]
    },
    {
     "name": "stdout",
     "output_type": "stream",
     "text": [
      "\n",
      "Batch 1410/2288: Load=1.66s, Embed=0.77s, Store=0.00s, Total=2.93s, Images/sec=4.10\n",
      "Estimated remaining time: 42.8 minutes\n"
     ]
    },
    {
     "name": "stderr",
     "output_type": "stream",
     "text": [
      "Processing test:  62%|██████▏   | 1420/2288 [1:07:38<42:00,  2.90s/it]"
     ]
    },
    {
     "name": "stdout",
     "output_type": "stream",
     "text": [
      "\n",
      "Batch 1420/2288: Load=1.77s, Embed=0.78s, Store=0.00s, Total=3.03s, Images/sec=3.96\n",
      "Estimated remaining time: 43.8 minutes\n"
     ]
    },
    {
     "name": "stderr",
     "output_type": "stream",
     "text": [
      "Processing test:  62%|██████▎   | 1430/2288 [1:08:07<41:58,  2.93s/it]"
     ]
    },
    {
     "name": "stdout",
     "output_type": "stream",
     "text": [
      "\n",
      "Batch 1430/2288: Load=1.43s, Embed=0.79s, Store=0.00s, Total=2.79s, Images/sec=4.30\n",
      "Estimated remaining time: 39.9 minutes\n"
     ]
    },
    {
     "name": "stderr",
     "output_type": "stream",
     "text": [
      "Processing test:  63%|██████▎   | 1440/2288 [1:08:38<42:51,  3.03s/it]"
     ]
    },
    {
     "name": "stdout",
     "output_type": "stream",
     "text": [
      "\n",
      "Batch 1440/2288: Load=1.65s, Embed=0.78s, Store=0.00s, Total=2.87s, Images/sec=4.18\n",
      "Estimated remaining time: 40.6 minutes\n"
     ]
    },
    {
     "name": "stderr",
     "output_type": "stream",
     "text": [
      "Processing test:  63%|██████▎   | 1450/2288 [1:09:12<1:02:42,  4.49s/it]"
     ]
    },
    {
     "name": "stdout",
     "output_type": "stream",
     "text": [
      "Saved intermediate results to /home/rmuthy2/Circle/intermediate_saves/test_r2_intermediate.parquet\n",
      "\n",
      "Batch 1450/2288: Load=1.64s, Embed=0.78s, Store=0.00s, Total=2.88s, Images/sec=4.17\n",
      "Estimated remaining time: 40.2 minutes\n"
     ]
    },
    {
     "name": "stderr",
     "output_type": "stream",
     "text": [
      "Processing test:  64%|██████▍   | 1460/2288 [1:09:41<40:28,  2.93s/it]  "
     ]
    },
    {
     "name": "stdout",
     "output_type": "stream",
     "text": [
      "\n",
      "Batch 1460/2288: Load=1.69s, Embed=0.78s, Store=0.00s, Total=2.91s, Images/sec=4.12\n",
      "Estimated remaining time: 40.2 minutes\n"
     ]
    },
    {
     "name": "stderr",
     "output_type": "stream",
     "text": [
      "Processing test:  64%|██████▍   | 1470/2288 [1:10:11<39:51,  2.92s/it]"
     ]
    },
    {
     "name": "stdout",
     "output_type": "stream",
     "text": [
      "\n",
      "Batch 1470/2288: Load=1.59s, Embed=0.78s, Store=0.00s, Total=2.83s, Images/sec=4.24\n",
      "Estimated remaining time: 38.6 minutes\n"
     ]
    },
    {
     "name": "stderr",
     "output_type": "stream",
     "text": [
      "Processing test:  65%|██████▍   | 1480/2288 [1:10:40<39:49,  2.96s/it]"
     ]
    },
    {
     "name": "stdout",
     "output_type": "stream",
     "text": [
      "\n",
      "Batch 1480/2288: Load=1.67s, Embed=0.79s, Store=0.00s, Total=2.95s, Images/sec=4.07\n",
      "Estimated remaining time: 39.7 minutes\n"
     ]
    },
    {
     "name": "stderr",
     "output_type": "stream",
     "text": [
      "Processing test:  65%|██████▌   | 1490/2288 [1:11:10<39:17,  2.95s/it]"
     ]
    },
    {
     "name": "stdout",
     "output_type": "stream",
     "text": [
      "\n",
      "Batch 1490/2288: Load=1.69s, Embed=0.80s, Store=0.00s, Total=2.99s, Images/sec=4.01\n",
      "Estimated remaining time: 39.8 minutes\n"
     ]
    },
    {
     "name": "stderr",
     "output_type": "stream",
     "text": [
      "Processing test:  66%|██████▌   | 1500/2288 [1:11:44<1:00:32,  4.61s/it]"
     ]
    },
    {
     "name": "stdout",
     "output_type": "stream",
     "text": [
      "Saved intermediate results to /home/rmuthy2/Circle/intermediate_saves/test_r2_intermediate.parquet\n",
      "\n",
      "Batch 1500/2288: Load=1.76s, Embed=0.79s, Store=0.00s, Total=3.01s, Images/sec=3.99\n",
      "Estimated remaining time: 39.5 minutes\n"
     ]
    },
    {
     "name": "stderr",
     "output_type": "stream",
     "text": [
      "Processing test:  66%|██████▌   | 1510/2288 [1:12:15<40:26,  3.12s/it]  "
     ]
    },
    {
     "name": "stdout",
     "output_type": "stream",
     "text": [
      "\n",
      "Batch 1510/2288: Load=1.66s, Embed=0.79s, Store=0.00s, Total=2.92s, Images/sec=4.11\n",
      "Estimated remaining time: 37.8 minutes\n"
     ]
    },
    {
     "name": "stderr",
     "output_type": "stream",
     "text": [
      "Processing test:  66%|██████▋   | 1520/2288 [1:12:45<37:51,  2.96s/it]"
     ]
    },
    {
     "name": "stdout",
     "output_type": "stream",
     "text": [
      "\n",
      "Batch 1520/2288: Load=1.76s, Embed=0.79s, Store=0.00s, Total=3.02s, Images/sec=3.98\n",
      "Estimated remaining time: 38.6 minutes\n"
     ]
    },
    {
     "name": "stderr",
     "output_type": "stream",
     "text": [
      "Processing test:  67%|██████▋   | 1530/2288 [1:13:15<36:57,  2.93s/it]"
     ]
    },
    {
     "name": "stdout",
     "output_type": "stream",
     "text": [
      "\n",
      "Batch 1530/2288: Load=1.58s, Embed=0.79s, Store=0.00s, Total=2.84s, Images/sec=4.22\n",
      "Estimated remaining time: 35.9 minutes\n"
     ]
    },
    {
     "name": "stderr",
     "output_type": "stream",
     "text": [
      "Processing test:  67%|██████▋   | 1540/2288 [1:13:44<37:47,  3.03s/it]"
     ]
    },
    {
     "name": "stdout",
     "output_type": "stream",
     "text": [
      "\n",
      "Batch 1540/2288: Load=1.79s, Embed=0.79s, Store=0.00s, Total=3.10s, Images/sec=3.87\n",
      "Estimated remaining time: 38.7 minutes\n"
     ]
    },
    {
     "name": "stderr",
     "output_type": "stream",
     "text": [
      "Processing test:  68%|██████▊   | 1550/2288 [1:14:20<57:23,  4.67s/it]"
     ]
    },
    {
     "name": "stdout",
     "output_type": "stream",
     "text": [
      "Saved intermediate results to /home/rmuthy2/Circle/intermediate_saves/test_r2_intermediate.parquet\n",
      "\n",
      "Batch 1550/2288: Load=1.65s, Embed=0.79s, Store=0.00s, Total=2.90s, Images/sec=4.13\n",
      "Estimated remaining time: 35.7 minutes\n"
     ]
    },
    {
     "name": "stderr",
     "output_type": "stream",
     "text": [
      "Processing test:  68%|██████▊   | 1560/2288 [1:14:50<36:04,  2.97s/it]"
     ]
    },
    {
     "name": "stdout",
     "output_type": "stream",
     "text": [
      "\n",
      "Batch 1560/2288: Load=1.54s, Embed=0.80s, Store=0.00s, Total=2.81s, Images/sec=4.26\n",
      "Estimated remaining time: 34.1 minutes\n"
     ]
    },
    {
     "name": "stderr",
     "output_type": "stream",
     "text": [
      "Processing test:  69%|██████▊   | 1570/2288 [1:15:19<35:01,  2.93s/it]"
     ]
    },
    {
     "name": "stdout",
     "output_type": "stream",
     "text": [
      "\n",
      "Batch 1570/2288: Load=1.60s, Embed=0.79s, Store=0.00s, Total=2.86s, Images/sec=4.20\n",
      "Estimated remaining time: 34.2 minutes\n"
     ]
    },
    {
     "name": "stderr",
     "output_type": "stream",
     "text": [
      "Processing test:  69%|██████▉   | 1580/2288 [1:15:50<35:50,  3.04s/it]"
     ]
    },
    {
     "name": "stdout",
     "output_type": "stream",
     "text": [
      "\n",
      "Batch 1580/2288: Load=1.66s, Embed=0.79s, Store=0.00s, Total=2.99s, Images/sec=4.01\n",
      "Estimated remaining time: 35.3 minutes\n"
     ]
    },
    {
     "name": "stderr",
     "output_type": "stream",
     "text": [
      "Processing test:  69%|██████▉   | 1590/2288 [1:16:20<36:06,  3.10s/it]"
     ]
    },
    {
     "name": "stdout",
     "output_type": "stream",
     "text": [
      "\n",
      "Batch 1590/2288: Load=1.47s, Embed=0.79s, Store=0.00s, Total=2.75s, Images/sec=4.36\n",
      "Estimated remaining time: 32.0 minutes\n"
     ]
    },
    {
     "name": "stderr",
     "output_type": "stream",
     "text": [
      "Processing test:  70%|██████▉   | 1600/2288 [1:16:57<55:00,  4.80s/it]"
     ]
    },
    {
     "name": "stdout",
     "output_type": "stream",
     "text": [
      "Saved intermediate results to /home/rmuthy2/Circle/intermediate_saves/test_r2_intermediate.parquet\n",
      "\n",
      "Batch 1600/2288: Load=1.63s, Embed=0.81s, Store=0.00s, Total=2.95s, Images/sec=4.07\n",
      "Estimated remaining time: 33.8 minutes\n"
     ]
    },
    {
     "name": "stderr",
     "output_type": "stream",
     "text": [
      "Processing test:  70%|███████   | 1610/2288 [1:17:27<34:05,  3.02s/it]"
     ]
    },
    {
     "name": "stdout",
     "output_type": "stream",
     "text": [
      "\n",
      "Batch 1610/2288: Load=1.68s, Embed=0.79s, Store=0.00s, Total=3.01s, Images/sec=3.99\n",
      "Estimated remaining time: 34.0 minutes\n"
     ]
    },
    {
     "name": "stderr",
     "output_type": "stream",
     "text": [
      "Processing test:  71%|███████   | 1620/2288 [1:17:57<33:39,  3.02s/it]"
     ]
    },
    {
     "name": "stdout",
     "output_type": "stream",
     "text": [
      "\n",
      "Batch 1620/2288: Load=1.72s, Embed=0.82s, Store=0.00s, Total=3.03s, Images/sec=3.96\n",
      "Estimated remaining time: 33.7 minutes\n"
     ]
    },
    {
     "name": "stderr",
     "output_type": "stream",
     "text": [
      "Processing test:  71%|███████   | 1630/2288 [1:18:27<33:03,  3.01s/it]"
     ]
    },
    {
     "name": "stdout",
     "output_type": "stream",
     "text": [
      "\n",
      "Batch 1630/2288: Load=1.74s, Embed=0.81s, Store=0.00s, Total=3.03s, Images/sec=3.96\n",
      "Estimated remaining time: 33.3 minutes\n"
     ]
    },
    {
     "name": "stderr",
     "output_type": "stream",
     "text": [
      "Processing test:  72%|███████▏  | 1640/2288 [1:18:58<33:28,  3.10s/it]"
     ]
    },
    {
     "name": "stdout",
     "output_type": "stream",
     "text": [
      "\n",
      "Batch 1640/2288: Load=1.94s, Embed=0.82s, Store=0.00s, Total=3.32s, Images/sec=3.61\n",
      "Estimated remaining time: 35.9 minutes\n"
     ]
    },
    {
     "name": "stderr",
     "output_type": "stream",
     "text": [
      "Processing test:  72%|███████▏  | 1650/2288 [1:19:35<53:55,  5.07s/it]"
     ]
    },
    {
     "name": "stdout",
     "output_type": "stream",
     "text": [
      "Saved intermediate results to /home/rmuthy2/Circle/intermediate_saves/test_r2_intermediate.parquet\n",
      "\n",
      "Batch 1650/2288: Load=1.88s, Embed=0.82s, Store=0.00s, Total=3.44s, Images/sec=3.48\n",
      "Estimated remaining time: 36.6 minutes\n"
     ]
    },
    {
     "name": "stderr",
     "output_type": "stream",
     "text": [
      "Processing test:  73%|███████▎  | 1660/2288 [1:20:06<33:12,  3.17s/it]"
     ]
    },
    {
     "name": "stdout",
     "output_type": "stream",
     "text": [
      "\n",
      "Batch 1660/2288: Load=1.74s, Embed=0.80s, Store=0.00s, Total=3.03s, Images/sec=3.96\n",
      "Estimated remaining time: 31.7 minutes\n"
     ]
    },
    {
     "name": "stderr",
     "output_type": "stream",
     "text": [
      "Processing test:  73%|███████▎  | 1670/2288 [1:20:37<32:27,  3.15s/it]"
     ]
    },
    {
     "name": "stdout",
     "output_type": "stream",
     "text": [
      "\n",
      "Batch 1670/2288: Load=1.87s, Embed=0.82s, Store=0.00s, Total=3.27s, Images/sec=3.67\n",
      "Estimated remaining time: 33.7 minutes\n"
     ]
    },
    {
     "name": "stderr",
     "output_type": "stream",
     "text": [
      "Processing test:  73%|███████▎  | 1680/2288 [1:21:08<31:26,  3.10s/it]"
     ]
    },
    {
     "name": "stdout",
     "output_type": "stream",
     "text": [
      "\n",
      "Batch 1680/2288: Load=1.76s, Embed=0.80s, Store=0.00s, Total=3.31s, Images/sec=3.62\n",
      "Estimated remaining time: 33.6 minutes\n"
     ]
    },
    {
     "name": "stderr",
     "output_type": "stream",
     "text": [
      "Processing test:  74%|███████▍  | 1690/2288 [1:21:38<29:46,  2.99s/it]"
     ]
    },
    {
     "name": "stdout",
     "output_type": "stream",
     "text": [
      "\n",
      "Batch 1690/2288: Load=1.68s, Embed=0.80s, Store=0.00s, Total=2.99s, Images/sec=4.01\n",
      "Estimated remaining time: 29.8 minutes\n"
     ]
    },
    {
     "name": "stderr",
     "output_type": "stream",
     "text": [
      "Processing test:  74%|███████▍  | 1700/2288 [1:22:14<47:30,  4.85s/it]"
     ]
    },
    {
     "name": "stdout",
     "output_type": "stream",
     "text": [
      "Saved intermediate results to /home/rmuthy2/Circle/intermediate_saves/test_r2_intermediate.parquet\n",
      "\n",
      "Batch 1700/2288: Load=1.73s, Embed=0.81s, Store=0.00s, Total=3.04s, Images/sec=3.95\n",
      "Estimated remaining time: 29.8 minutes\n"
     ]
    },
    {
     "name": "stderr",
     "output_type": "stream",
     "text": [
      "Processing test:  75%|███████▍  | 1710/2288 [1:22:44<30:05,  3.12s/it]"
     ]
    },
    {
     "name": "stdout",
     "output_type": "stream",
     "text": [
      "\n",
      "Batch 1710/2288: Load=1.67s, Embed=0.81s, Store=0.00s, Total=3.08s, Images/sec=3.90\n",
      "Estimated remaining time: 29.7 minutes\n"
     ]
    },
    {
     "name": "stderr",
     "output_type": "stream",
     "text": [
      "Processing test:  75%|███████▌  | 1720/2288 [1:23:15<29:11,  3.08s/it]"
     ]
    },
    {
     "name": "stdout",
     "output_type": "stream",
     "text": [
      "\n",
      "Batch 1720/2288: Load=1.67s, Embed=0.79s, Store=0.00s, Total=2.97s, Images/sec=4.04\n",
      "Estimated remaining time: 28.1 minutes\n"
     ]
    },
    {
     "name": "stderr",
     "output_type": "stream",
     "text": [
      "Processing test:  76%|███████▌  | 1730/2288 [1:23:46<29:33,  3.18s/it]"
     ]
    },
    {
     "name": "stdout",
     "output_type": "stream",
     "text": [
      "\n",
      "Batch 1730/2288: Load=1.73s, Embed=0.80s, Store=0.00s, Total=3.28s, Images/sec=3.65\n",
      "Estimated remaining time: 30.5 minutes\n"
     ]
    },
    {
     "name": "stderr",
     "output_type": "stream",
     "text": [
      "Processing test:  76%|███████▌  | 1740/2288 [1:24:17<27:41,  3.03s/it]"
     ]
    },
    {
     "name": "stdout",
     "output_type": "stream",
     "text": [
      "\n",
      "Batch 1740/2288: Load=1.64s, Embed=0.79s, Store=0.00s, Total=2.98s, Images/sec=4.03\n",
      "Estimated remaining time: 27.2 minutes\n"
     ]
    },
    {
     "name": "stderr",
     "output_type": "stream",
     "text": [
      "Processing test:  76%|███████▋  | 1750/2288 [1:24:53<43:30,  4.85s/it]"
     ]
    },
    {
     "name": "stdout",
     "output_type": "stream",
     "text": [
      "Saved intermediate results to /home/rmuthy2/Circle/intermediate_saves/test_r2_intermediate.parquet\n",
      "\n",
      "Batch 1750/2288: Load=1.66s, Embed=0.79s, Store=0.00s, Total=2.98s, Images/sec=4.03\n",
      "Estimated remaining time: 26.7 minutes\n"
     ]
    },
    {
     "name": "stderr",
     "output_type": "stream",
     "text": [
      "Processing test:  77%|███████▋  | 1760/2288 [1:25:23<26:22,  3.00s/it]"
     ]
    },
    {
     "name": "stdout",
     "output_type": "stream",
     "text": [
      "\n",
      "Batch 1760/2288: Load=1.63s, Embed=0.79s, Store=0.00s, Total=2.94s, Images/sec=4.08\n",
      "Estimated remaining time: 25.9 minutes\n"
     ]
    },
    {
     "name": "stderr",
     "output_type": "stream",
     "text": [
      "Processing test:  77%|███████▋  | 1770/2288 [1:25:53<25:36,  2.97s/it]"
     ]
    },
    {
     "name": "stdout",
     "output_type": "stream",
     "text": [
      "\n",
      "Batch 1770/2288: Load=1.58s, Embed=0.80s, Store=0.00s, Total=2.90s, Images/sec=4.13\n",
      "Estimated remaining time: 25.1 minutes\n"
     ]
    },
    {
     "name": "stderr",
     "output_type": "stream",
     "text": [
      "Processing test:  78%|███████▊  | 1780/2288 [1:26:23<25:31,  3.02s/it]"
     ]
    },
    {
     "name": "stdout",
     "output_type": "stream",
     "text": [
      "\n",
      "Batch 1780/2288: Load=1.65s, Embed=0.79s, Store=0.00s, Total=3.02s, Images/sec=3.97\n",
      "Estimated remaining time: 25.6 minutes\n"
     ]
    },
    {
     "name": "stderr",
     "output_type": "stream",
     "text": [
      "Processing test:  78%|███████▊  | 1790/2288 [1:26:53<25:04,  3.02s/it]"
     ]
    },
    {
     "name": "stdout",
     "output_type": "stream",
     "text": [
      "\n",
      "Batch 1790/2288: Load=1.52s, Embed=0.78s, Store=0.00s, Total=2.93s, Images/sec=4.09\n",
      "Estimated remaining time: 24.3 minutes\n"
     ]
    },
    {
     "name": "stderr",
     "output_type": "stream",
     "text": [
      "Processing test:  79%|███████▊  | 1800/2288 [1:27:30<39:52,  4.90s/it]"
     ]
    },
    {
     "name": "stdout",
     "output_type": "stream",
     "text": [
      "Saved intermediate results to /home/rmuthy2/Circle/intermediate_saves/test_r2_intermediate.parquet\n",
      "\n",
      "Batch 1800/2288: Load=1.55s, Embed=0.78s, Store=0.00s, Total=2.88s, Images/sec=4.17\n",
      "Estimated remaining time: 23.4 minutes\n"
     ]
    },
    {
     "name": "stderr",
     "output_type": "stream",
     "text": [
      "Processing test:  79%|███████▉  | 1810/2288 [1:28:00<24:53,  3.12s/it]"
     ]
    },
    {
     "name": "stdout",
     "output_type": "stream",
     "text": [
      "\n",
      "Batch 1810/2288: Load=1.58s, Embed=0.78s, Store=0.00s, Total=3.12s, Images/sec=3.85\n",
      "Estimated remaining time: 24.8 minutes\n"
     ]
    },
    {
     "name": "stderr",
     "output_type": "stream",
     "text": [
      "Processing test:  80%|███████▉  | 1820/2288 [1:28:30<24:15,  3.11s/it]"
     ]
    },
    {
     "name": "stdout",
     "output_type": "stream",
     "text": [
      "\n",
      "Batch 1820/2288: Load=1.73s, Embed=0.78s, Store=0.00s, Total=3.22s, Images/sec=3.73\n",
      "Estimated remaining time: 25.1 minutes\n"
     ]
    },
    {
     "name": "stderr",
     "output_type": "stream",
     "text": [
      "Processing test:  80%|███████▉  | 1830/2288 [1:29:01<23:03,  3.02s/it]"
     ]
    },
    {
     "name": "stdout",
     "output_type": "stream",
     "text": [
      "\n",
      "Batch 1830/2288: Load=1.59s, Embed=0.81s, Store=0.00s, Total=2.93s, Images/sec=4.09\n",
      "Estimated remaining time: 22.4 minutes\n"
     ]
    },
    {
     "name": "stderr",
     "output_type": "stream",
     "text": [
      "Processing test:  80%|████████  | 1840/2288 [1:29:31<22:18,  2.99s/it]"
     ]
    },
    {
     "name": "stdout",
     "output_type": "stream",
     "text": [
      "\n",
      "Batch 1840/2288: Load=1.55s, Embed=0.78s, Store=0.00s, Total=2.86s, Images/sec=4.20\n",
      "Estimated remaining time: 21.3 minutes\n"
     ]
    },
    {
     "name": "stderr",
     "output_type": "stream",
     "text": [
      "Processing test:  81%|████████  | 1850/2288 [1:30:08<37:02,  5.07s/it]"
     ]
    },
    {
     "name": "stdout",
     "output_type": "stream",
     "text": [
      "Saved intermediate results to /home/rmuthy2/Circle/intermediate_saves/test_r2_intermediate.parquet\n",
      "\n",
      "Batch 1850/2288: Load=1.54s, Embed=0.79s, Store=0.00s, Total=3.14s, Images/sec=3.82\n",
      "Estimated remaining time: 22.9 minutes\n"
     ]
    },
    {
     "name": "stderr",
     "output_type": "stream",
     "text": [
      "Processing test:  81%|████████▏ | 1860/2288 [1:30:39<21:56,  3.08s/it]"
     ]
    },
    {
     "name": "stdout",
     "output_type": "stream",
     "text": [
      "\n",
      "Batch 1860/2288: Load=1.58s, Embed=0.80s, Store=0.00s, Total=2.94s, Images/sec=4.08\n",
      "Estimated remaining time: 21.0 minutes\n"
     ]
    },
    {
     "name": "stderr",
     "output_type": "stream",
     "text": [
      "Processing test:  82%|████████▏ | 1870/2288 [1:31:09<20:52,  3.00s/it]"
     ]
    },
    {
     "name": "stdout",
     "output_type": "stream",
     "text": [
      "\n",
      "Batch 1870/2288: Load=1.62s, Embed=0.78s, Store=0.00s, Total=2.93s, Images/sec=4.09\n",
      "Estimated remaining time: 20.4 minutes\n"
     ]
    },
    {
     "name": "stderr",
     "output_type": "stream",
     "text": [
      "Processing test:  82%|████████▏ | 1880/2288 [1:31:38<20:17,  2.98s/it]"
     ]
    },
    {
     "name": "stdout",
     "output_type": "stream",
     "text": [
      "\n",
      "Batch 1880/2288: Load=1.70s, Embed=0.79s, Store=0.00s, Total=3.05s, Images/sec=3.94\n",
      "Estimated remaining time: 20.7 minutes\n"
     ]
    },
    {
     "name": "stderr",
     "output_type": "stream",
     "text": [
      "Processing test:  83%|████████▎ | 1890/2288 [1:32:08<19:26,  2.93s/it]"
     ]
    },
    {
     "name": "stdout",
     "output_type": "stream",
     "text": [
      "\n",
      "Batch 1890/2288: Load=1.57s, Embed=0.79s, Store=0.00s, Total=2.90s, Images/sec=4.14\n",
      "Estimated remaining time: 19.2 minutes\n"
     ]
    },
    {
     "name": "stderr",
     "output_type": "stream",
     "text": [
      "Processing test:  83%|████████▎ | 1900/2288 [1:32:45<32:59,  5.10s/it]"
     ]
    },
    {
     "name": "stdout",
     "output_type": "stream",
     "text": [
      "Saved intermediate results to /home/rmuthy2/Circle/intermediate_saves/test_r2_intermediate.parquet\n",
      "\n",
      "Batch 1900/2288: Load=1.52s, Embed=0.80s, Store=0.00s, Total=3.13s, Images/sec=3.83\n",
      "Estimated remaining time: 20.2 minutes\n"
     ]
    },
    {
     "name": "stderr",
     "output_type": "stream",
     "text": [
      "Processing test:  83%|████████▎ | 1910/2288 [1:33:16<19:23,  3.08s/it]"
     ]
    },
    {
     "name": "stdout",
     "output_type": "stream",
     "text": [
      "\n",
      "Batch 1910/2288: Load=1.72s, Embed=0.79s, Store=0.00s, Total=3.08s, Images/sec=3.90\n",
      "Estimated remaining time: 19.4 minutes\n"
     ]
    },
    {
     "name": "stderr",
     "output_type": "stream",
     "text": [
      "Processing test:  84%|████████▍ | 1920/2288 [1:33:46<18:19,  2.99s/it]"
     ]
    },
    {
     "name": "stdout",
     "output_type": "stream",
     "text": [
      "\n",
      "Batch 1920/2288: Load=1.65s, Embed=0.78s, Store=0.00s, Total=3.03s, Images/sec=3.96\n",
      "Estimated remaining time: 18.6 minutes\n"
     ]
    },
    {
     "name": "stderr",
     "output_type": "stream",
     "text": [
      "Processing test:  84%|████████▍ | 1930/2288 [1:34:15<17:32,  2.94s/it]"
     ]
    },
    {
     "name": "stdout",
     "output_type": "stream",
     "text": [
      "\n",
      "Batch 1930/2288: Load=1.55s, Embed=0.80s, Store=0.00s, Total=2.90s, Images/sec=4.13\n",
      "Estimated remaining time: 17.3 minutes\n"
     ]
    },
    {
     "name": "stderr",
     "output_type": "stream",
     "text": [
      "Processing test:  85%|████████▍ | 1940/2288 [1:34:46<17:21,  2.99s/it]"
     ]
    },
    {
     "name": "stdout",
     "output_type": "stream",
     "text": [
      "\n",
      "Batch 1940/2288: Load=1.66s, Embed=0.80s, Store=0.00s, Total=3.01s, Images/sec=3.99\n",
      "Estimated remaining time: 17.5 minutes\n"
     ]
    },
    {
     "name": "stderr",
     "output_type": "stream",
     "text": [
      "Processing test:  85%|████████▌ | 1950/2288 [1:35:23<29:34,  5.25s/it]"
     ]
    },
    {
     "name": "stdout",
     "output_type": "stream",
     "text": [
      "Saved intermediate results to /home/rmuthy2/Circle/intermediate_saves/test_r2_intermediate.parquet\n",
      "\n",
      "Batch 1950/2288: Load=1.61s, Embed=0.82s, Store=0.00s, Total=3.05s, Images/sec=3.93\n",
      "Estimated remaining time: 17.2 minutes\n"
     ]
    },
    {
     "name": "stderr",
     "output_type": "stream",
     "text": [
      "Processing test:  86%|████████▌ | 1960/2288 [1:35:54<17:08,  3.14s/it]"
     ]
    },
    {
     "name": "stdout",
     "output_type": "stream",
     "text": [
      "\n",
      "Batch 1960/2288: Load=1.75s, Embed=0.80s, Store=0.00s, Total=3.12s, Images/sec=3.85\n",
      "Estimated remaining time: 17.0 minutes\n"
     ]
    },
    {
     "name": "stderr",
     "output_type": "stream",
     "text": [
      "Processing test:  86%|████████▌ | 1970/2288 [1:36:24<16:04,  3.03s/it]"
     ]
    },
    {
     "name": "stdout",
     "output_type": "stream",
     "text": [
      "\n",
      "Batch 1970/2288: Load=1.57s, Embed=0.81s, Store=0.00s, Total=2.95s, Images/sec=4.07\n",
      "Estimated remaining time: 15.6 minutes\n"
     ]
    },
    {
     "name": "stderr",
     "output_type": "stream",
     "text": [
      "Processing test:  87%|████████▋ | 1980/2288 [1:36:55<15:48,  3.08s/it]"
     ]
    },
    {
     "name": "stdout",
     "output_type": "stream",
     "text": [
      "\n",
      "Batch 1980/2288: Load=1.76s, Embed=0.80s, Store=0.00s, Total=3.12s, Images/sec=3.85\n",
      "Estimated remaining time: 16.0 minutes\n"
     ]
    },
    {
     "name": "stderr",
     "output_type": "stream",
     "text": [
      "Processing test:  87%|████████▋ | 1990/2288 [1:37:26<15:27,  3.11s/it]"
     ]
    },
    {
     "name": "stdout",
     "output_type": "stream",
     "text": [
      "\n",
      "Batch 1990/2288: Load=1.70s, Embed=0.80s, Store=0.00s, Total=3.06s, Images/sec=3.92\n",
      "Estimated remaining time: 15.2 minutes\n"
     ]
    },
    {
     "name": "stderr",
     "output_type": "stream",
     "text": [
      "Processing test:  87%|████████▋ | 2000/2288 [1:38:05<26:06,  5.44s/it]"
     ]
    },
    {
     "name": "stdout",
     "output_type": "stream",
     "text": [
      "Saved intermediate results to /home/rmuthy2/Circle/intermediate_saves/test_r2_intermediate.parquet\n",
      "\n",
      "Batch 2000/2288: Load=1.67s, Embed=0.79s, Store=0.00s, Total=3.06s, Images/sec=3.93\n",
      "Estimated remaining time: 14.7 minutes\n"
     ]
    },
    {
     "name": "stderr",
     "output_type": "stream",
     "text": [
      "Processing test:  88%|████████▊ | 2010/2288 [1:38:37<14:41,  3.17s/it]"
     ]
    },
    {
     "name": "stdout",
     "output_type": "stream",
     "text": [
      "\n",
      "Batch 2010/2288: Load=1.64s, Embed=0.81s, Store=0.00s, Total=3.04s, Images/sec=3.95\n",
      "Estimated remaining time: 14.1 minutes\n"
     ]
    },
    {
     "name": "stderr",
     "output_type": "stream",
     "text": [
      "Processing test:  88%|████████▊ | 2020/2288 [1:39:08<13:41,  3.06s/it]"
     ]
    },
    {
     "name": "stdout",
     "output_type": "stream",
     "text": [
      "\n",
      "Batch 2020/2288: Load=1.63s, Embed=0.80s, Store=0.00s, Total=3.02s, Images/sec=3.97\n",
      "Estimated remaining time: 13.5 minutes\n"
     ]
    },
    {
     "name": "stderr",
     "output_type": "stream",
     "text": [
      "Processing test:  89%|████████▊ | 2030/2288 [1:39:39<12:55,  3.01s/it]"
     ]
    },
    {
     "name": "stdout",
     "output_type": "stream",
     "text": [
      "\n",
      "Batch 2030/2288: Load=1.51s, Embed=0.81s, Store=0.00s, Total=2.93s, Images/sec=4.10\n",
      "Estimated remaining time: 12.6 minutes\n"
     ]
    },
    {
     "name": "stderr",
     "output_type": "stream",
     "text": [
      "Processing test:  89%|████████▉ | 2040/2288 [1:40:10<13:03,  3.16s/it]"
     ]
    },
    {
     "name": "stdout",
     "output_type": "stream",
     "text": [
      "\n",
      "Batch 2040/2288: Load=1.68s, Embed=0.79s, Store=0.00s, Total=3.13s, Images/sec=3.83\n",
      "Estimated remaining time: 12.9 minutes\n"
     ]
    },
    {
     "name": "stderr",
     "output_type": "stream",
     "text": [
      "Processing test:  90%|████████▉ | 2050/2288 [1:40:49<21:08,  5.33s/it]"
     ]
    },
    {
     "name": "stdout",
     "output_type": "stream",
     "text": [
      "Saved intermediate results to /home/rmuthy2/Circle/intermediate_saves/test_r2_intermediate.parquet\n",
      "\n",
      "Batch 2050/2288: Load=1.67s, Embed=0.79s, Store=0.00s, Total=3.07s, Images/sec=3.91\n",
      "Estimated remaining time: 12.2 minutes\n"
     ]
    },
    {
     "name": "stderr",
     "output_type": "stream",
     "text": [
      "Processing test:  90%|█████████ | 2060/2288 [1:41:21<12:08,  3.20s/it]"
     ]
    },
    {
     "name": "stdout",
     "output_type": "stream",
     "text": [
      "\n",
      "Batch 2060/2288: Load=1.74s, Embed=0.79s, Store=0.00s, Total=3.14s, Images/sec=3.82\n",
      "Estimated remaining time: 11.9 minutes\n"
     ]
    },
    {
     "name": "stderr",
     "output_type": "stream",
     "text": [
      "Processing test:  90%|█████████ | 2070/2288 [1:41:51<11:13,  3.09s/it]"
     ]
    },
    {
     "name": "stdout",
     "output_type": "stream",
     "text": [
      "\n",
      "Batch 2070/2288: Load=1.68s, Embed=0.78s, Store=0.00s, Total=3.08s, Images/sec=3.89\n",
      "Estimated remaining time: 11.2 minutes\n"
     ]
    },
    {
     "name": "stderr",
     "output_type": "stream",
     "text": [
      "Processing test:  91%|█████████ | 2080/2288 [1:42:22<10:43,  3.09s/it]"
     ]
    },
    {
     "name": "stdout",
     "output_type": "stream",
     "text": [
      "\n",
      "Batch 2080/2288: Load=1.68s, Embed=0.78s, Store=0.00s, Total=3.10s, Images/sec=3.88\n",
      "Estimated remaining time: 10.7 minutes\n"
     ]
    },
    {
     "name": "stderr",
     "output_type": "stream",
     "text": [
      "Processing test:  91%|█████████▏| 2090/2288 [1:42:53<10:22,  3.14s/it]"
     ]
    },
    {
     "name": "stdout",
     "output_type": "stream",
     "text": [
      "\n",
      "Batch 2090/2288: Load=1.73s, Embed=0.79s, Store=0.00s, Total=3.19s, Images/sec=3.76\n",
      "Estimated remaining time: 10.5 minutes\n"
     ]
    },
    {
     "name": "stderr",
     "output_type": "stream",
     "text": [
      "Processing test:  92%|█████████▏| 2100/2288 [1:43:32<17:01,  5.43s/it]"
     ]
    },
    {
     "name": "stdout",
     "output_type": "stream",
     "text": [
      "Saved intermediate results to /home/rmuthy2/Circle/intermediate_saves/test_r2_intermediate.parquet\n",
      "\n",
      "Batch 2100/2288: Load=1.60s, Embed=0.79s, Store=0.00s, Total=3.08s, Images/sec=3.90\n",
      "Estimated remaining time: 9.6 minutes\n"
     ]
    },
    {
     "name": "stderr",
     "output_type": "stream",
     "text": [
      "Processing test:  92%|█████████▏| 2110/2288 [1:44:05<09:46,  3.29s/it]"
     ]
    },
    {
     "name": "stdout",
     "output_type": "stream",
     "text": [
      "\n",
      "Batch 2110/2288: Load=1.83s, Embed=0.83s, Store=0.00s, Total=3.31s, Images/sec=3.63\n",
      "Estimated remaining time: 9.8 minutes\n"
     ]
    },
    {
     "name": "stderr",
     "output_type": "stream",
     "text": [
      "Processing test:  93%|█████████▎| 2120/2288 [1:44:36<09:04,  3.24s/it]"
     ]
    },
    {
     "name": "stdout",
     "output_type": "stream",
     "text": [
      "\n",
      "Batch 2120/2288: Load=1.73s, Embed=0.79s, Store=0.00s, Total=3.17s, Images/sec=3.78\n",
      "Estimated remaining time: 8.9 minutes\n"
     ]
    },
    {
     "name": "stderr",
     "output_type": "stream",
     "text": [
      "Processing test:  93%|█████████▎| 2130/2288 [1:45:09<08:31,  3.24s/it]"
     ]
    },
    {
     "name": "stdout",
     "output_type": "stream",
     "text": [
      "\n",
      "Batch 2130/2288: Load=1.75s, Embed=0.81s, Store=0.00s, Total=3.21s, Images/sec=3.74\n",
      "Estimated remaining time: 8.5 minutes\n"
     ]
    },
    {
     "name": "stderr",
     "output_type": "stream",
     "text": [
      "Processing test:  94%|█████████▎| 2140/2288 [1:45:41<07:37,  3.09s/it]"
     ]
    },
    {
     "name": "stdout",
     "output_type": "stream",
     "text": [
      "\n",
      "Batch 2140/2288: Load=1.54s, Embed=0.81s, Store=0.00s, Total=3.02s, Images/sec=3.97\n",
      "Estimated remaining time: 7.5 minutes\n"
     ]
    },
    {
     "name": "stderr",
     "output_type": "stream",
     "text": [
      "Processing test:  94%|█████████▍| 2150/2288 [1:46:20<12:31,  5.45s/it]"
     ]
    },
    {
     "name": "stdout",
     "output_type": "stream",
     "text": [
      "Saved intermediate results to /home/rmuthy2/Circle/intermediate_saves/test_r2_intermediate.parquet\n",
      "\n",
      "Batch 2150/2288: Load=1.64s, Embed=0.79s, Store=0.00s, Total=3.09s, Images/sec=3.89\n",
      "Estimated remaining time: 7.1 minutes\n"
     ]
    },
    {
     "name": "stderr",
     "output_type": "stream",
     "text": [
      "Processing test:  94%|█████████▍| 2160/2288 [1:46:52<06:53,  3.23s/it]"
     ]
    },
    {
     "name": "stdout",
     "output_type": "stream",
     "text": [
      "\n",
      "Batch 2160/2288: Load=1.75s, Embed=0.81s, Store=0.00s, Total=3.22s, Images/sec=3.72\n",
      "Estimated remaining time: 6.9 minutes\n"
     ]
    },
    {
     "name": "stderr",
     "output_type": "stream",
     "text": [
      "Processing test:  95%|█████████▍| 2170/2288 [1:47:24<06:16,  3.19s/it]"
     ]
    },
    {
     "name": "stdout",
     "output_type": "stream",
     "text": [
      "\n",
      "Batch 2170/2288: Load=1.61s, Embed=0.79s, Store=0.00s, Total=3.14s, Images/sec=3.83\n",
      "Estimated remaining time: 6.2 minutes\n"
     ]
    },
    {
     "name": "stderr",
     "output_type": "stream",
     "text": [
      "Processing test:  95%|█████████▌| 2180/2288 [1:47:56<06:07,  3.40s/it]"
     ]
    },
    {
     "name": "stdout",
     "output_type": "stream",
     "text": [
      "\n",
      "Batch 2180/2288: Load=1.64s, Embed=0.79s, Store=0.00s, Total=3.38s, Images/sec=3.55\n",
      "Estimated remaining time: 6.1 minutes\n"
     ]
    },
    {
     "name": "stderr",
     "output_type": "stream",
     "text": [
      "Processing test:  96%|█████████▌| 2190/2288 [1:48:28<05:09,  3.16s/it]"
     ]
    },
    {
     "name": "stdout",
     "output_type": "stream",
     "text": [
      "\n",
      "Batch 2190/2288: Load=1.57s, Embed=0.79s, Store=0.00s, Total=3.12s, Images/sec=3.84\n",
      "Estimated remaining time: 5.1 minutes\n"
     ]
    },
    {
     "name": "stderr",
     "output_type": "stream",
     "text": [
      "Processing test:  96%|█████████▌| 2200/2288 [1:49:07<08:08,  5.55s/it]"
     ]
    },
    {
     "name": "stdout",
     "output_type": "stream",
     "text": [
      "Saved intermediate results to /home/rmuthy2/Circle/intermediate_saves/test_r2_intermediate.parquet\n",
      "\n",
      "Batch 2200/2288: Load=1.63s, Embed=0.79s, Store=0.00s, Total=3.15s, Images/sec=3.81\n",
      "Estimated remaining time: 4.6 minutes\n"
     ]
    },
    {
     "name": "stderr",
     "output_type": "stream",
     "text": [
      "Processing test:  97%|█████████▋| 2210/2288 [1:49:39<04:08,  3.19s/it]"
     ]
    },
    {
     "name": "stdout",
     "output_type": "stream",
     "text": [
      "\n",
      "Batch 2210/2288: Load=1.52s, Embed=0.80s, Store=0.00s, Total=3.08s, Images/sec=3.90\n",
      "Estimated remaining time: 4.0 minutes\n"
     ]
    },
    {
     "name": "stderr",
     "output_type": "stream",
     "text": [
      "Processing test:  97%|█████████▋| 2220/2288 [1:50:11<03:36,  3.18s/it]"
     ]
    },
    {
     "name": "stdout",
     "output_type": "stream",
     "text": [
      "\n",
      "Batch 2220/2288: Load=1.59s, Embed=0.80s, Store=0.00s, Total=3.20s, Images/sec=3.75\n",
      "Estimated remaining time: 3.6 minutes\n"
     ]
    },
    {
     "name": "stderr",
     "output_type": "stream",
     "text": [
      "Processing test:  97%|█████████▋| 2230/2288 [1:50:42<03:06,  3.21s/it]"
     ]
    },
    {
     "name": "stdout",
     "output_type": "stream",
     "text": [
      "\n",
      "Batch 2230/2288: Load=1.64s, Embed=0.79s, Store=0.00s, Total=3.26s, Images/sec=3.69\n",
      "Estimated remaining time: 3.1 minutes\n"
     ]
    },
    {
     "name": "stderr",
     "output_type": "stream",
     "text": [
      "Processing test:  98%|█████████▊| 2240/2288 [1:51:14<02:34,  3.21s/it]"
     ]
    },
    {
     "name": "stdout",
     "output_type": "stream",
     "text": [
      "\n",
      "Batch 2240/2288: Load=1.61s, Embed=0.81s, Store=0.00s, Total=3.21s, Images/sec=3.74\n",
      "Estimated remaining time: 2.6 minutes\n"
     ]
    },
    {
     "name": "stderr",
     "output_type": "stream",
     "text": [
      "Processing test:  98%|█████████▊| 2250/2288 [1:51:54<03:34,  5.64s/it]"
     ]
    },
    {
     "name": "stdout",
     "output_type": "stream",
     "text": [
      "Saved intermediate results to /home/rmuthy2/Circle/intermediate_saves/test_r2_intermediate.parquet\n",
      "\n",
      "Batch 2250/2288: Load=1.58s, Embed=0.80s, Store=0.00s, Total=3.12s, Images/sec=3.84\n",
      "Estimated remaining time: 2.0 minutes\n"
     ]
    },
    {
     "name": "stderr",
     "output_type": "stream",
     "text": [
      "Processing test:  99%|█████████▉| 2260/2288 [1:52:26<01:31,  3.27s/it]"
     ]
    },
    {
     "name": "stdout",
     "output_type": "stream",
     "text": [
      "\n",
      "Batch 2260/2288: Load=1.64s, Embed=0.81s, Store=0.00s, Total=3.20s, Images/sec=3.74\n",
      "Estimated remaining time: 1.5 minutes\n"
     ]
    },
    {
     "name": "stderr",
     "output_type": "stream",
     "text": [
      "Processing test:  99%|█████████▉| 2270/2288 [1:52:58<00:58,  3.23s/it]"
     ]
    },
    {
     "name": "stdout",
     "output_type": "stream",
     "text": [
      "\n",
      "Batch 2270/2288: Load=1.62s, Embed=0.78s, Store=0.00s, Total=3.24s, Images/sec=3.71\n",
      "Estimated remaining time: 1.0 minutes\n"
     ]
    },
    {
     "name": "stderr",
     "output_type": "stream",
     "text": [
      "Processing test: 100%|█████████▉| 2280/2288 [1:53:31<00:25,  3.24s/it]"
     ]
    },
    {
     "name": "stdout",
     "output_type": "stream",
     "text": [
      "\n",
      "Batch 2280/2288: Load=1.62s, Embed=0.80s, Store=0.00s, Total=3.25s, Images/sec=3.70\n",
      "Estimated remaining time: 0.4 minutes\n"
     ]
    },
    {
     "name": "stderr",
     "output_type": "stream",
     "text": [
      "Processing test: 100%|██████████| 2288/2288 [1:54:05<00:00,  2.99s/it]"
     ]
    },
    {
     "name": "stdout",
     "output_type": "stream",
     "text": [
      "Saved intermediate results to /home/rmuthy2/Circle/intermediate_saves/test_r2_intermediate.parquet\n",
      "\n",
      "Batch 2288/2288: Load=1.73s, Embed=0.81s, Store=0.00s, Total=3.31s, Images/sec=3.63\n"
     ]
    },
    {
     "name": "stderr",
     "output_type": "stream",
     "text": [
      "\n"
     ]
    },
    {
     "name": "stdout",
     "output_type": "stream",
     "text": [
      "Saved: /home/rmuthy2/Circle/EmbeddingsOut/raddino-test-r2.parquet\n",
      "Saved: /home/rmuthy2/Circle/EmbeddingsOut/dinov3-test-r2.parquet\n",
      "\n",
      "Completed processing for radius 2\n"
     ]
    }
   ],
   "source": [
    "import os\n",
    "os.environ[\"CUDA_VISIBLE_DEVICES\"] = \"3\"\n",
    "os.environ[\"PYTORCH_CUDA_ALLOC_CONF\"] = \"expandable_segments:True\"\n",
    "if __name__ == \"__main__\":\n",
    "    # Optionally pin a GPU:\n",
    "    # os.environ[\"CUDA_VISIBLE_DEVICES\"] = \"0\"\n",
    "\n",
    "    pipeline = ImagePipeline(root_path=\"/home/rmuthy2/central_data/datasets/internal/EmoryCXRv2/ORIGINAL_PNG\")\n",
    "    pipeline.run_single_radius(\n",
    "        train_csv_path=\"/home/rmuthy2/Circle/train_dataset.csv\",\n",
    "        test_csv_path=\"/home/rmuthy2/Circle/test_dataset.csv\",\n",
    "        radius=2,\n",
    "        output_dir=\"/home/rmuthy2/Circle/EmbeddingsOut\",\n",
    "        batch_size=12  # lower if you still hit memory hiccups\n",
    "    )"
   ]
  },
  {
   "cell_type": "code",
   "execution_count": 1,
   "id": "6212fbe5-6241-40a3-9628-e30ae55d8085",
   "metadata": {},
   "outputs": [],
   "source": [
    "import pandas as pd\n",
    "import numpy as np\n",
    "from sklearn.linear_model import LogisticRegression\n",
    "from sklearn.metrics import (\n",
    "    roc_auc_score, roc_curve,\n",
    "    precision_recall_curve, f1_score, classification_report\n",
    ")\n",
    "from sklearn.preprocessing import StandardScaler\n",
    "import matplotlib.pyplot as plt\n",
    "\n",
    "class LinearProbingAnalyzer:\n",
    "    \"\"\"\n",
    "    Simple linear probing analysis for image embeddings using logistic regression\n",
    "    Specialized for circle patterns with radius parameter\n",
    "    \"\"\"\n",
    "    \n",
    "    def __init__(self):\n",
    "        self.results = {}\n",
    "        \n",
    "    def load_and_extract_embeddings(self, parquet_path, embedding_col):\n",
    "        \"\"\"Load parquet and extract embeddings and labels\"\"\"\n",
    "        df = pd.read_parquet(parquet_path)\n",
    "        \n",
    "        # Filter valid embeddings\n",
    "        valid_mask = df[embedding_col].notna()\n",
    "        df_valid = df[valid_mask].copy()\n",
    "        \n",
    "        # Extract embeddings\n",
    "        embeddings, labels = [], []\n",
    "        for _, row in df_valid.iterrows():\n",
    "            emb = row[embedding_col]\n",
    "            if isinstance(emb, str):\n",
    "                import ast\n",
    "                emb = ast.literal_eval(emb)\n",
    "            if isinstance(emb, list):\n",
    "                emb = np.array(emb)\n",
    "            embeddings.append(emb)\n",
    "            labels.append(row['noise'])\n",
    "        \n",
    "        X = np.vstack(embeddings)\n",
    "        y = np.array(labels).astype(int)  # ensure 0/1\n",
    "        return X, y\n",
    "    \n",
    "    def _best_f1_threshold(self, y_true, y_proba):\n",
    "        \"\"\"Find the probability threshold that maximizes F1.\"\"\"\n",
    "        precisions, recalls, thresholds = precision_recall_curve(y_true, y_proba)\n",
    "        if len(thresholds) == 0:\n",
    "            return 0.5, 0.0\n",
    "        f1s = (2 * precisions[1:] * recalls[1:]) / (precisions[1:] + recalls[1:] + 1e-12)\n",
    "        idx = int(np.argmax(f1s))\n",
    "        return float(thresholds[idx]), float(f1s[idx])\n",
    "    \n",
    "    def _print_classification_report(self, y_true, y_pred, model_name, use_thr):\n",
    "        print(f\"\\n--- {model_name.upper()} CLASSIFICATION REPORT @ THR={use_thr:.3f} ---\")\n",
    "        print(classification_report(y_true, y_pred, digits=4))\n",
    "    \n",
    "    def train_and_evaluate(self, model_name, X_train, y_train, X_test, y_test, threshold='auto'):\n",
    "        \"\"\"\n",
    "        Train logistic regression and evaluate.\n",
    "        threshold: 'auto' to maximize F1 on test set, or a float in [0,1].\n",
    "        \"\"\"\n",
    "        print(f\"Training {model_name.upper()}...\")\n",
    "        \n",
    "        # Standardize features\n",
    "        scaler = StandardScaler()\n",
    "        X_train_scaled = scaler.fit_transform(X_train)\n",
    "        X_test_scaled = scaler.transform(X_test)\n",
    "        \n",
    "        # Train model\n",
    "        model = LogisticRegression(random_state=42, max_iter=1000)\n",
    "        model.fit(X_train_scaled, y_train)\n",
    "        \n",
    "        # Prob predictions\n",
    "        y_test_proba = model.predict_proba(X_test_scaled)[:, 1]\n",
    "        \n",
    "        # AUC + ROC\n",
    "        auc_score = roc_auc_score(y_test, y_test_proba)\n",
    "        fpr, tpr, _ = roc_curve(y_test, y_test_proba)\n",
    "        \n",
    "        # Threshold & F1\n",
    "        if threshold == 'auto':\n",
    "            use_thr, best_f1 = self._best_f1_threshold(y_test, y_test_proba)\n",
    "            y_pred = (y_test_proba >= use_thr).astype(int)\n",
    "            f1 = f1_score(y_test, y_pred)\n",
    "        else:\n",
    "            use_thr = float(threshold)\n",
    "            y_pred = (y_test_proba >= use_thr).astype(int)\n",
    "            f1 = f1_score(y_test, y_pred)\n",
    "        \n",
    "        print(f\"{model_name.upper()} Test AUC: {auc_score:.4f} | F1@{use_thr:.3f}: {f1:.4f}\")\n",
    "        self._print_classification_report(y_test, y_pred, model_name, use_thr)\n",
    "        \n",
    "        self.results[model_name] = {\n",
    "            'auc': auc_score,\n",
    "            'f1': f1,\n",
    "            'threshold': use_thr,\n",
    "            'fpr': fpr,\n",
    "            'tpr': tpr\n",
    "        }\n",
    "        return auc_score, f1, use_thr\n",
    "    \n",
    "    def plot_roc_curves(self, save_path=None, radius=1):\n",
    "        \"\"\"Plot ROC curves for both models\"\"\"\n",
    "        plt.figure(figsize=(8, 6))\n",
    "        colors = {'raddino': '#2E86C1', 'dinov3': '#E74C3C'}\n",
    "        \n",
    "        for model_name in ['raddino', 'dinov3']:\n",
    "            if model_name in self.results:\n",
    "                r = self.results[model_name]\n",
    "                label = (f'{model_name.upper()} '\n",
    "                         f'(AUC={r[\"auc\"]:.3f}, F1@{r[\"threshold\"]:.2f}={r[\"f1\"]:.3f})')\n",
    "                plt.plot(r['fpr'], r['tpr'], color=colors[model_name], linewidth=2.5, label=label)\n",
    "        \n",
    "        plt.plot([0, 1], [0, 1], 'k--', alpha=0.5, linewidth=1)\n",
    "        plt.xlabel('False Positive Rate', fontsize=12)\n",
    "        plt.ylabel('True Positive Rate', fontsize=12)\n",
    "        plt.title(f'ROC Curves - Noise Classification (Circle r={radius})', fontsize=14, fontweight='bold')\n",
    "        plt.legend(fontsize=10)\n",
    "        plt.grid(True, alpha=0.3)\n",
    "        \n",
    "        if save_path:\n",
    "            plt.savefig(save_path, dpi=300, bbox_inches='tight')\n",
    "            print(f\"Plot saved to: {save_path}\")\n",
    "        plt.show()\n",
    "    \n",
    "    def run_analysis(self, raddino_train_path, raddino_test_path, \n",
    "                     dinov3_train_path, dinov3_test_path, radius=1, threshold='auto'):\n",
    "        \"\"\"Run complete analysis for circle patterns\"\"\"\n",
    "        print(\"=\"*50)\n",
    "        print(f\"LINEAR PROBING ANALYSIS - CIRCLE PATTERN (r={radius})\")\n",
    "        print(\"=\"*50)\n",
    "        \n",
    "        # Column names for circle embeddings\n",
    "        raddino_col = f'raddino_embedding_r{radius}'\n",
    "        dinov3_col = f'dinov3_embedding_r{radius}'\n",
    "        print(f\"Using embeddings: {raddino_col}, {dinov3_col}\")\n",
    "        \n",
    "        # Load data\n",
    "        print(\"Loading RadDiNo data...\")\n",
    "        X_train_rad, y_train_rad = self.load_and_extract_embeddings(raddino_train_path, raddino_col)\n",
    "        X_test_rad, y_test_rad = self.load_and_extract_embeddings(raddino_test_path, raddino_col)\n",
    "        print(f\"RadDiNo - Train: {X_train_rad.shape}, Test: {X_test_rad.shape}\")\n",
    "        \n",
    "        print(\"Loading DINOv3 data...\")\n",
    "        X_train_dino, y_train_dino = self.load_and_extract_embeddings(dinov3_train_path, dinov3_col)\n",
    "        X_test_dino, y_test_dino = self.load_and_extract_embeddings(dinov3_test_path, dinov3_col)\n",
    "        print(f\"DINOv3 - Train: {X_train_dino.shape}, Test: {X_test_dino.shape}\")\n",
    "        \n",
    "        # Train & eval\n",
    "        rad_auc, rad_f1, rad_thr = self.train_and_evaluate('raddino', X_train_rad, y_train_rad, X_test_rad, y_test_rad, threshold=threshold)\n",
    "        dino_auc, dino_f1, dino_thr = self.train_and_evaluate('dinov3', X_train_dino, y_train_dino, X_test_dino, y_test_dino, threshold=threshold)\n",
    "        \n",
    "        # Plot\n",
    "        plot_filename = f'roc_curves_circle_r{radius}.png'\n",
    "        self.plot_roc_curves(plot_filename, radius)\n",
    "        \n",
    "        # Summary\n",
    "        print(\"\\n\" + \"=\"*50)\n",
    "        print(\"RESULTS SUMMARY\")\n",
    "        print(\"=\"*50)\n",
    "        print(f\"Pattern Type: Circle\")\n",
    "        print(f\"Radius:       {radius}\")\n",
    "        print(f\"RadDiNo -> AUC: {rad_auc:.4f} | F1@{rad_thr:.3f}: {rad_f1:.4f}\")\n",
    "        print(f\"DINOv3  -> AUC: {dino_auc:.4f} | F1@{dino_thr:.3f}: {dino_f1:.4f}\")\n",
    "        print(f\"AUC Δ: {abs(rad_auc - dino_auc):.4f} | F1 Δ: {abs(rad_f1 - dino_f1):.4f}\")\n",
    "        \n",
    "        return self.results\n"
   ]
  },
  {
   "cell_type": "code",
   "execution_count": 2,
   "id": "c1b29715-dd0d-46eb-b752-6dd872324a08",
   "metadata": {},
   "outputs": [
    {
     "name": "stdout",
     "output_type": "stream",
     "text": [
      "==================================================\n",
      "LINEAR PROBING ANALYSIS - CIRCLE PATTERN (r=2)\n",
      "==================================================\n",
      "Using embeddings: raddino_embedding_r2, dinov3_embedding_r2\n",
      "Loading RadDiNo data...\n",
      "RadDiNo - Train: (109824, 768), Test: (27456, 768)\n",
      "Loading DINOv3 data...\n",
      "DINOv3 - Train: (109824, 4096), Test: (27456, 4096)\n",
      "Training RADDINO...\n",
      "RADDINO Test AUC: 0.5401 | F1@0.212: 0.6667\n",
      "\n",
      "--- RADDINO CLASSIFICATION REPORT @ THR=0.212 ---\n",
      "              precision    recall  f1-score   support\n",
      "\n",
      "           0     0.0000    0.0000    0.0000     13728\n",
      "           1     0.5000    1.0000    0.6667     13728\n",
      "\n",
      "    accuracy                         0.5000     27456\n",
      "   macro avg     0.2500    0.5000    0.3333     27456\n",
      "weighted avg     0.2500    0.5000    0.3333     27456\n",
      "\n",
      "Training DINOV3...\n"
     ]
    },
    {
     "name": "stderr",
     "output_type": "stream",
     "text": [
      "/mnt/NAS3/homes/rmuthy2/myenv/lib/python3.10/site-packages/sklearn/metrics/_classification.py:1731: UndefinedMetricWarning: Precision is ill-defined and being set to 0.0 in labels with no predicted samples. Use `zero_division` parameter to control this behavior.\n",
      "  _warn_prf(average, modifier, f\"{metric.capitalize()} is\", result.shape[0])\n",
      "/mnt/NAS3/homes/rmuthy2/myenv/lib/python3.10/site-packages/sklearn/metrics/_classification.py:1731: UndefinedMetricWarning: Precision is ill-defined and being set to 0.0 in labels with no predicted samples. Use `zero_division` parameter to control this behavior.\n",
      "  _warn_prf(average, modifier, f\"{metric.capitalize()} is\", result.shape[0])\n",
      "/mnt/NAS3/homes/rmuthy2/myenv/lib/python3.10/site-packages/sklearn/metrics/_classification.py:1731: UndefinedMetricWarning: Precision is ill-defined and being set to 0.0 in labels with no predicted samples. Use `zero_division` parameter to control this behavior.\n",
      "  _warn_prf(average, modifier, f\"{metric.capitalize()} is\", result.shape[0])\n"
     ]
    },
    {
     "name": "stdout",
     "output_type": "stream",
     "text": [
      "DINOV3 Test AUC: 0.6599 | F1@0.003: 0.6666\n",
      "\n",
      "--- DINOV3 CLASSIFICATION REPORT @ THR=0.003 ---\n",
      "              precision    recall  f1-score   support\n",
      "\n",
      "           0     0.0000    0.0000    0.0000     13728\n",
      "           1     0.5000    0.9999    0.6666     13728\n",
      "\n",
      "    accuracy                         0.5000     27456\n",
      "   macro avg     0.2500    0.5000    0.3333     27456\n",
      "weighted avg     0.2500    0.5000    0.3333     27456\n",
      "\n",
      "Plot saved to: roc_curves_circle_r2.png\n"
     ]
    },
    {
     "data": {
      "image/png": "[encoded data removed]",
      "text/plain": [
       "<Figure size 800x600 with 1 Axes>"
      ]
     },
     "metadata": {},
     "output_type": "display_data"
    },
    {
     "name": "stdout",
     "output_type": "stream",
     "text": [
      "\n",
      "==================================================\n",
      "RESULTS SUMMARY\n",
      "==================================================\n",
      "Pattern Type: Circle\n",
      "Radius:       2\n",
      "RadDiNo -> AUC: 0.5401 | F1@0.212: 0.6667\n",
      "DINOv3  -> AUC: 0.6599 | F1@0.003: 0.6666\n",
      "AUC Δ: 0.1198 | F1 Δ: 0.0000\n"
     ]
    }
   ],
   "source": [
    "# Example usage for both patterns:\n",
    "if __name__ == \"__main__\":\n",
    "    analyzer = LinearProbingAnalyzer()\n",
    "\n",
    "    results_circles = analyzer.run_analysis(\n",
    "        '/home/rmuthy2/Circle/EmbeddingsOut/raddino-train-r2.parquet',\n",
    "        '/home/rmuthy2/Circle/EmbeddingsOut/raddino-test-r2.parquet',\n",
    "        '/home/rmuthy2/Circle/EmbeddingsOut/dinov3-train-r2.parquet', \n",
    "        '/home/rmuthy2/Circle/EmbeddingsOut/dinov3-test-r2.parquet',\n",
    "         radius=2\n",
    "    )"
   ]
  },
  {
   "cell_type": "code",
   "execution_count": null,
   "id": "0747246e-8be7-43ee-9eba-8aa00f3bdbc0",
   "metadata": {},
   "outputs": [],
   "source": []
  }
 ],
 "metadata": {
  "kernelspec": {
   "display_name": "ImageAnalysis",
   "language": "python",
   "name": "myenv"
  },
  "language_info": {
   "codemirror_mode": {
    "name": "ipython",
    "version": 3
   },
   "file_extension": ".py",
   "mimetype": "text/x-python",
   "name": "python",
   "nbconvert_exporter": "python",
   "pygments_lexer": "ipython3",
   "version": "3.10.10"
  }
 },
 "nbformat": 4,
 "nbformat_minor": 5
}
