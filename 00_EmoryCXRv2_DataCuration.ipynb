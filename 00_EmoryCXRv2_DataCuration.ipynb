{
 "cells": [
  {
   "cell_type": "code",
   "execution_count": 1,
   "id": "de59fede-d36e-42cb-8d89-81f63d87a6d3",
   "metadata": {},
   "outputs": [],
   "source": [
    "import pandas as pd"
   ]
  },
  {
   "cell_type": "code",
   "execution_count": 2,
   "id": "607e22b8-8bce-4396-be82-37cee660a220",
   "metadata": {},
   "outputs": [],
   "source": [
    "df = pd.read_csv(\"/home/rmuthy2/central_data/datasets/internal/EmoryCXRv2/TABLES/EmoryCXR_v2_Metadata_08152025.csv\")"
   ]
  },
  {
   "cell_type": "code",
   "execution_count": 3,
   "id": "4133b8cc-11de-4dff-8b54-09b61878b182",
   "metadata": {},
   "outputs": [
    {
     "data": {
      "text/plain": [
       "(2430209, 18)"
      ]
     },
     "execution_count": 3,
     "metadata": {},
     "output_type": "execute_result"
    }
   ],
   "source": [
    "df.shape"
   ]
  },
  {
   "cell_type": "code",
   "execution_count": 4,
   "id": "3fc78aab-15ac-4c0c-8830-7e976865524a",
   "metadata": {},
   "outputs": [
    {
     "data": {
      "text/html": [
       "<div>\n",
       "<style scoped>\n",
       "    .dataframe tbody tr th:only-of-type {\n",
       "        vertical-align: middle;\n",
       "    }\n",
       "\n",
       "    .dataframe tbody tr th {\n",
       "        vertical-align: top;\n",
       "    }\n",
       "\n",
       "    .dataframe thead th {\n",
       "        text-align: right;\n",
       "    }\n",
       "</style>\n",
       "<table border=\"1\" class=\"dataframe\">\n",
       "  <thead>\n",
       "    <tr style=\"text-align: right;\">\n",
       "      <th></th>\n",
       "      <th>empi_anon</th>\n",
       "      <th>AccessionNumber_anon</th>\n",
       "      <th>StudyDate_anon</th>\n",
       "      <th>StudyDescription</th>\n",
       "      <th>SeriesDescription</th>\n",
       "      <th>Sex</th>\n",
       "      <th>Age</th>\n",
       "      <th>BMI</th>\n",
       "      <th>ImagePath</th>\n",
       "      <th>Race</th>\n",
       "      <th>Ethnicity</th>\n",
       "      <th>ViewPosition</th>\n",
       "      <th>ImageType</th>\n",
       "      <th>InstitutionName_anon</th>\n",
       "      <th>CLAHE</th>\n",
       "      <th>Frontal</th>\n",
       "      <th>DuplicateNumber</th>\n",
       "      <th>SOP</th>\n",
       "    </tr>\n",
       "  </thead>\n",
       "  <tbody>\n",
       "    <tr>\n",
       "      <th>0</th>\n",
       "      <td>84269073</td>\n",
       "      <td>3739633430788944</td>\n",
       "      <td>2009-06-19</td>\n",
       "      <td>XR Chest 2 Views PA + Lat Stnd Protocol</td>\n",
       "      <td>XR Chest 2 Views PA + Lateral</td>\n",
       "      <td>F</td>\n",
       "      <td>62.0</td>\n",
       "      <td>NaN</td>\n",
       "      <td>84269073/3739633430788944/1.2.826.0.1.3680043....</td>\n",
       "      <td>White</td>\n",
       "      <td>Unknown</td>\n",
       "      <td>PA</td>\n",
       "      <td>ORIGINAL PRIMARY</td>\n",
       "      <td>waaoikoaxq</td>\n",
       "      <td>0.0</td>\n",
       "      <td>1</td>\n",
       "      <td>0.0</td>\n",
       "      <td>1.2.826.0.1.3680043.8.498.11539031758371223425...</td>\n",
       "    </tr>\n",
       "    <tr>\n",
       "      <th>1</th>\n",
       "      <td>84269073</td>\n",
       "      <td>3739633430788944</td>\n",
       "      <td>2009-06-19</td>\n",
       "      <td>XR Chest 2 Views PA + Lat Stnd Protocol</td>\n",
       "      <td>XR Chest 2 Views PA + Lateral</td>\n",
       "      <td>F</td>\n",
       "      <td>62.0</td>\n",
       "      <td>NaN</td>\n",
       "      <td>84269073/3739633430788944/1.2.826.0.1.3680043....</td>\n",
       "      <td>White</td>\n",
       "      <td>Unknown</td>\n",
       "      <td>Lateral</td>\n",
       "      <td>ORIGINAL PRIMARY</td>\n",
       "      <td>waaoikoaxq</td>\n",
       "      <td>0.0</td>\n",
       "      <td>0</td>\n",
       "      <td>0.0</td>\n",
       "      <td>1.2.826.0.1.3680043.8.498.75909224393525203125...</td>\n",
       "    </tr>\n",
       "    <tr>\n",
       "      <th>2</th>\n",
       "      <td>84269073</td>\n",
       "      <td>3739633430788944</td>\n",
       "      <td>2009-06-19</td>\n",
       "      <td>XR Chest 2 Views PA + Lat Stnd Protocol</td>\n",
       "      <td>XR Chest 2 Views PA + Lateral</td>\n",
       "      <td>F</td>\n",
       "      <td>62.0</td>\n",
       "      <td>NaN</td>\n",
       "      <td>84269073/3739633430788944/1.2.826.0.1.3680043....</td>\n",
       "      <td>White</td>\n",
       "      <td>Unknown</td>\n",
       "      <td>PA</td>\n",
       "      <td>ORIGINAL PRIMARY</td>\n",
       "      <td>waaoikoaxq</td>\n",
       "      <td>1.0</td>\n",
       "      <td>1</td>\n",
       "      <td>0.0</td>\n",
       "      <td>1.2.826.0.1.3680043.8.498.83012792870623702441...</td>\n",
       "    </tr>\n",
       "    <tr>\n",
       "      <th>3</th>\n",
       "      <td>84269073</td>\n",
       "      <td>3739633430788944</td>\n",
       "      <td>2009-06-19</td>\n",
       "      <td>XR Chest 2 Views PA + Lat Stnd Protocol</td>\n",
       "      <td>XR Chest 2 Views PA + Lateral</td>\n",
       "      <td>F</td>\n",
       "      <td>62.0</td>\n",
       "      <td>NaN</td>\n",
       "      <td>84269073/3739633430788944/1.2.826.0.1.3680043....</td>\n",
       "      <td>White</td>\n",
       "      <td>Unknown</td>\n",
       "      <td>Lateral</td>\n",
       "      <td>ORIGINAL PRIMARY</td>\n",
       "      <td>waaoikoaxq</td>\n",
       "      <td>0.0</td>\n",
       "      <td>0</td>\n",
       "      <td>0.0</td>\n",
       "      <td>1.2.826.0.1.3680043.8.498.10019530719819746433...</td>\n",
       "    </tr>\n",
       "    <tr>\n",
       "      <th>4</th>\n",
       "      <td>84269073</td>\n",
       "      <td>3739633430788944</td>\n",
       "      <td>2009-06-19</td>\n",
       "      <td>XR Chest 2 Views PA + Lat Stnd Protocol</td>\n",
       "      <td>XR Chest 2 Views PA + Lateral</td>\n",
       "      <td>F</td>\n",
       "      <td>62.0</td>\n",
       "      <td>NaN</td>\n",
       "      <td>84269073/3739633430788944/1.2.826.0.1.3680043....</td>\n",
       "      <td>White</td>\n",
       "      <td>Unknown</td>\n",
       "      <td>Lateral</td>\n",
       "      <td>ORIGINAL PRIMARY</td>\n",
       "      <td>waaoikoaxq</td>\n",
       "      <td>1.0</td>\n",
       "      <td>0</td>\n",
       "      <td>0.0</td>\n",
       "      <td>1.2.826.0.1.3680043.8.498.99536058454842266521...</td>\n",
       "    </tr>\n",
       "  </tbody>\n",
       "</table>\n",
       "</div>"
      ],
      "text/plain": [
       "   empi_anon  AccessionNumber_anon StudyDate_anon  \\\n",
       "0   84269073      3739633430788944     2009-06-19   \n",
       "1   84269073      3739633430788944     2009-06-19   \n",
       "2   84269073      3739633430788944     2009-06-19   \n",
       "3   84269073      3739633430788944     2009-06-19   \n",
       "4   84269073      3739633430788944     2009-06-19   \n",
       "\n",
       "                          StudyDescription              SeriesDescription Sex  \\\n",
       "0  XR Chest 2 Views PA + Lat Stnd Protocol  XR Chest 2 Views PA + Lateral   F   \n",
       "1  XR Chest 2 Views PA + Lat Stnd Protocol  XR Chest 2 Views PA + Lateral   F   \n",
       "2  XR Chest 2 Views PA + Lat Stnd Protocol  XR Chest 2 Views PA + Lateral   F   \n",
       "3  XR Chest 2 Views PA + Lat Stnd Protocol  XR Chest 2 Views PA + Lateral   F   \n",
       "4  XR Chest 2 Views PA + Lat Stnd Protocol  XR Chest 2 Views PA + Lateral   F   \n",
       "\n",
       "    Age  BMI                                          ImagePath   Race  \\\n",
       "0  62.0  NaN  84269073/3739633430788944/1.2.826.0.1.3680043....  White   \n",
       "1  62.0  NaN  84269073/3739633430788944/1.2.826.0.1.3680043....  White   \n",
       "2  62.0  NaN  84269073/3739633430788944/1.2.826.0.1.3680043....  White   \n",
       "3  62.0  NaN  84269073/3739633430788944/1.2.826.0.1.3680043....  White   \n",
       "4  62.0  NaN  84269073/3739633430788944/1.2.826.0.1.3680043....  White   \n",
       "\n",
       "  Ethnicity ViewPosition         ImageType InstitutionName_anon  CLAHE  \\\n",
       "0   Unknown           PA  ORIGINAL PRIMARY           waaoikoaxq    0.0   \n",
       "1   Unknown      Lateral  ORIGINAL PRIMARY           waaoikoaxq    0.0   \n",
       "2   Unknown           PA  ORIGINAL PRIMARY           waaoikoaxq    1.0   \n",
       "3   Unknown      Lateral  ORIGINAL PRIMARY           waaoikoaxq    0.0   \n",
       "4   Unknown      Lateral  ORIGINAL PRIMARY           waaoikoaxq    1.0   \n",
       "\n",
       "   Frontal  DuplicateNumber                                                SOP  \n",
       "0        1              0.0  1.2.826.0.1.3680043.8.498.11539031758371223425...  \n",
       "1        0              0.0  1.2.826.0.1.3680043.8.498.75909224393525203125...  \n",
       "2        1              0.0  1.2.826.0.1.3680043.8.498.83012792870623702441...  \n",
       "3        0              0.0  1.2.826.0.1.3680043.8.498.10019530719819746433...  \n",
       "4        0              0.0  1.2.826.0.1.3680043.8.498.99536058454842266521...  "
      ]
     },
     "execution_count": 4,
     "metadata": {},
     "output_type": "execute_result"
    }
   ],
   "source": [
    "df.head()"
   ]
  },
  {
   "cell_type": "code",
   "execution_count": 5,
   "id": "5c4d111a-84ca-4ddc-8954-fac68789307d",
   "metadata": {},
   "outputs": [
    {
     "data": {
      "text/plain": [
       "ViewPosition\n",
       "AP         1265273\n",
       "PA          614155\n",
       "Lateral     538831\n",
       "Other           80\n",
       "Name: count, dtype: int64"
      ]
     },
     "execution_count": 5,
     "metadata": {},
     "output_type": "execute_result"
    }
   ],
   "source": [
    "df[\"ViewPosition\"].value_counts()"
   ]
  },
  {
   "cell_type": "code",
   "execution_count": 6,
   "id": "e2f785a2-4cd4-49ad-abf7-037bd51dbfa6",
   "metadata": {},
   "outputs": [],
   "source": [
    "findingsdf = pd.read_csv(\"/home/rmuthy2/central_data/datasets/internal/EmoryCXRv2/TABLES/EmoryCXR_v2_FindingLabel_10162024.csv\")"
   ]
  },
  {
   "cell_type": "code",
   "execution_count": 7,
   "id": "99736a80-8273-4450-8b69-d3cb8d1c5b92",
   "metadata": {},
   "outputs": [
    {
     "data": {
      "text/html": [
       "<div>\n",
       "<style scoped>\n",
       "    .dataframe tbody tr th:only-of-type {\n",
       "        vertical-align: middle;\n",
       "    }\n",
       "\n",
       "    .dataframe tbody tr th {\n",
       "        vertical-align: top;\n",
       "    }\n",
       "\n",
       "    .dataframe thead th {\n",
       "        text-align: right;\n",
       "    }\n",
       "</style>\n",
       "<table border=\"1\" class=\"dataframe\">\n",
       "  <thead>\n",
       "    <tr style=\"text-align: right;\">\n",
       "      <th></th>\n",
       "      <th>AccessionNumber_anon</th>\n",
       "      <th>No Finding</th>\n",
       "      <th>Enlarged Cardiomediastinum</th>\n",
       "      <th>Cardiomegaly</th>\n",
       "      <th>Lung Lesion</th>\n",
       "      <th>Lung Opacity</th>\n",
       "      <th>Edema</th>\n",
       "      <th>Consolidation</th>\n",
       "      <th>Pneumonia</th>\n",
       "      <th>Atelectasis</th>\n",
       "      <th>Pneumothorax</th>\n",
       "      <th>Pleural Effusion</th>\n",
       "      <th>Pleural Other</th>\n",
       "      <th>Fracture</th>\n",
       "      <th>Support Devices</th>\n",
       "    </tr>\n",
       "  </thead>\n",
       "  <tbody>\n",
       "    <tr>\n",
       "      <th>0</th>\n",
       "      <td>3739633430788944</td>\n",
       "      <td>NaN</td>\n",
       "      <td>NaN</td>\n",
       "      <td>NaN</td>\n",
       "      <td>0.0</td>\n",
       "      <td>1.0</td>\n",
       "      <td>NaN</td>\n",
       "      <td>NaN</td>\n",
       "      <td>NaN</td>\n",
       "      <td>NaN</td>\n",
       "      <td>NaN</td>\n",
       "      <td>NaN</td>\n",
       "      <td>1.0</td>\n",
       "      <td>NaN</td>\n",
       "      <td>NaN</td>\n",
       "    </tr>\n",
       "    <tr>\n",
       "      <th>1</th>\n",
       "      <td>3002096846959729</td>\n",
       "      <td>1.0</td>\n",
       "      <td>NaN</td>\n",
       "      <td>NaN</td>\n",
       "      <td>NaN</td>\n",
       "      <td>NaN</td>\n",
       "      <td>NaN</td>\n",
       "      <td>NaN</td>\n",
       "      <td>NaN</td>\n",
       "      <td>NaN</td>\n",
       "      <td>NaN</td>\n",
       "      <td>NaN</td>\n",
       "      <td>NaN</td>\n",
       "      <td>NaN</td>\n",
       "      <td>NaN</td>\n",
       "    </tr>\n",
       "    <tr>\n",
       "      <th>2</th>\n",
       "      <td>3881172571748277</td>\n",
       "      <td>1.0</td>\n",
       "      <td>NaN</td>\n",
       "      <td>NaN</td>\n",
       "      <td>NaN</td>\n",
       "      <td>NaN</td>\n",
       "      <td>NaN</td>\n",
       "      <td>NaN</td>\n",
       "      <td>0.0</td>\n",
       "      <td>NaN</td>\n",
       "      <td>NaN</td>\n",
       "      <td>NaN</td>\n",
       "      <td>NaN</td>\n",
       "      <td>NaN</td>\n",
       "      <td>NaN</td>\n",
       "    </tr>\n",
       "    <tr>\n",
       "      <th>3</th>\n",
       "      <td>1335965105872601</td>\n",
       "      <td>1.0</td>\n",
       "      <td>NaN</td>\n",
       "      <td>NaN</td>\n",
       "      <td>NaN</td>\n",
       "      <td>NaN</td>\n",
       "      <td>NaN</td>\n",
       "      <td>NaN</td>\n",
       "      <td>NaN</td>\n",
       "      <td>NaN</td>\n",
       "      <td>NaN</td>\n",
       "      <td>NaN</td>\n",
       "      <td>NaN</td>\n",
       "      <td>NaN</td>\n",
       "      <td>NaN</td>\n",
       "    </tr>\n",
       "    <tr>\n",
       "      <th>4</th>\n",
       "      <td>7913541839793330</td>\n",
       "      <td>1.0</td>\n",
       "      <td>NaN</td>\n",
       "      <td>NaN</td>\n",
       "      <td>NaN</td>\n",
       "      <td>NaN</td>\n",
       "      <td>NaN</td>\n",
       "      <td>NaN</td>\n",
       "      <td>NaN</td>\n",
       "      <td>NaN</td>\n",
       "      <td>NaN</td>\n",
       "      <td>NaN</td>\n",
       "      <td>NaN</td>\n",
       "      <td>NaN</td>\n",
       "      <td>NaN</td>\n",
       "    </tr>\n",
       "  </tbody>\n",
       "</table>\n",
       "</div>"
      ],
      "text/plain": [
       "   AccessionNumber_anon  No Finding  Enlarged Cardiomediastinum  Cardiomegaly  \\\n",
       "0      3739633430788944         NaN                         NaN           NaN   \n",
       "1      3002096846959729         1.0                         NaN           NaN   \n",
       "2      3881172571748277         1.0                         NaN           NaN   \n",
       "3      1335965105872601         1.0                         NaN           NaN   \n",
       "4      7913541839793330         1.0                         NaN           NaN   \n",
       "\n",
       "   Lung Lesion  Lung Opacity  Edema  Consolidation  Pneumonia  Atelectasis  \\\n",
       "0          0.0           1.0    NaN            NaN        NaN          NaN   \n",
       "1          NaN           NaN    NaN            NaN        NaN          NaN   \n",
       "2          NaN           NaN    NaN            NaN        0.0          NaN   \n",
       "3          NaN           NaN    NaN            NaN        NaN          NaN   \n",
       "4          NaN           NaN    NaN            NaN        NaN          NaN   \n",
       "\n",
       "   Pneumothorax  Pleural Effusion  Pleural Other  Fracture  Support Devices  \n",
       "0           NaN               NaN            1.0       NaN              NaN  \n",
       "1           NaN               NaN            NaN       NaN              NaN  \n",
       "2           NaN               NaN            NaN       NaN              NaN  \n",
       "3           NaN               NaN            NaN       NaN              NaN  \n",
       "4           NaN               NaN            NaN       NaN              NaN  "
      ]
     },
     "execution_count": 7,
     "metadata": {},
     "output_type": "execute_result"
    }
   ],
   "source": [
    "findingsdf.head()"
   ]
  },
  {
   "cell_type": "code",
   "execution_count": 8,
   "id": "2f31aabe-53fb-4df4-a98c-9c42ce5f42fe",
   "metadata": {},
   "outputs": [
    {
     "data": {
      "text/plain": [
       "Cardiomegaly\n",
       " 1.0    121985\n",
       " 0.0     27489\n",
       "-1.0     17070\n",
       "Name: count, dtype: int64"
      ]
     },
     "execution_count": 8,
     "metadata": {},
     "output_type": "execute_result"
    }
   ],
   "source": [
    "findingsdf[\"Cardiomegaly\"].value_counts()"
   ]
  },
  {
   "cell_type": "code",
   "execution_count": 10,
   "id": "52fcebc5-2ffd-41ed-b84d-1d6ce808ce1d",
   "metadata": {},
   "outputs": [],
   "source": [
    "subset = df[['AccessionNumber_anon', 'ImagePath', 'ViewPosition', 'CLAHE']][(df['ViewPosition'] == 'AP') & (df['CLAHE'] == 0)]"
   ]
  },
  {
   "cell_type": "code",
   "execution_count": 13,
   "id": "a4ab06b0-f178-4c5f-a7ad-81462578c605",
   "metadata": {},
   "outputs": [],
   "source": [
    "subset.to_csv(\"/home/rmuthy2/400K_Cardiomegaly/AP_View.csv\", index = False)"
   ]
  },
  {
   "cell_type": "code",
   "execution_count": 14,
   "id": "fe9a3c5b-5952-4003-bec9-bf5c40ac050a",
   "metadata": {},
   "outputs": [],
   "source": [
    "paview = pd.read_csv(\"/home/rmuthy2/400K_Cardiomegaly/AP_View.csv\")"
   ]
  },
  {
   "cell_type": "code",
   "execution_count": 18,
   "id": "4c5b8672-2c0e-4c70-a9df-f2a359bd3eb2",
   "metadata": {},
   "outputs": [
    {
     "data": {
      "text/html": [
       "<div>\n",
       "<style scoped>\n",
       "    .dataframe tbody tr th:only-of-type {\n",
       "        vertical-align: middle;\n",
       "    }\n",
       "\n",
       "    .dataframe tbody tr th {\n",
       "        vertical-align: top;\n",
       "    }\n",
       "\n",
       "    .dataframe thead th {\n",
       "        text-align: right;\n",
       "    }\n",
       "</style>\n",
       "<table border=\"1\" class=\"dataframe\">\n",
       "  <thead>\n",
       "    <tr style=\"text-align: right;\">\n",
       "      <th></th>\n",
       "      <th>AccessionNumber_anon</th>\n",
       "      <th>ImagePath</th>\n",
       "      <th>ViewPosition</th>\n",
       "      <th>CLAHE</th>\n",
       "    </tr>\n",
       "  </thead>\n",
       "  <tbody>\n",
       "    <tr>\n",
       "      <th>0</th>\n",
       "      <td>5087455716158305</td>\n",
       "      <td>70431912/5087455716158305/1.2.826.0.1.3680043....</td>\n",
       "      <td>AP</td>\n",
       "      <td>0.0</td>\n",
       "    </tr>\n",
       "    <tr>\n",
       "      <th>1</th>\n",
       "      <td>7986046456459857</td>\n",
       "      <td>36789298/7986046456459857/1.2.826.0.1.3680043....</td>\n",
       "      <td>AP</td>\n",
       "      <td>0.0</td>\n",
       "    </tr>\n",
       "    <tr>\n",
       "      <th>2</th>\n",
       "      <td>7024586630643845</td>\n",
       "      <td>79739681/7024586630643845/1.2.826.0.1.3680043....</td>\n",
       "      <td>AP</td>\n",
       "      <td>0.0</td>\n",
       "    </tr>\n",
       "    <tr>\n",
       "      <th>3</th>\n",
       "      <td>2700155238352052</td>\n",
       "      <td>96057055/2700155238352052/1.2.826.0.1.3680043....</td>\n",
       "      <td>AP</td>\n",
       "      <td>0.0</td>\n",
       "    </tr>\n",
       "    <tr>\n",
       "      <th>4</th>\n",
       "      <td>4117940329339341</td>\n",
       "      <td>61993762/4117940329339341/1.2.826.0.1.3680043....</td>\n",
       "      <td>AP</td>\n",
       "      <td>0.0</td>\n",
       "    </tr>\n",
       "  </tbody>\n",
       "</table>\n",
       "</div>"
      ],
      "text/plain": [
       "   AccessionNumber_anon                                          ImagePath  \\\n",
       "0      5087455716158305  70431912/5087455716158305/1.2.826.0.1.3680043....   \n",
       "1      7986046456459857  36789298/7986046456459857/1.2.826.0.1.3680043....   \n",
       "2      7024586630643845  79739681/7024586630643845/1.2.826.0.1.3680043....   \n",
       "3      2700155238352052  96057055/2700155238352052/1.2.826.0.1.3680043....   \n",
       "4      4117940329339341  61993762/4117940329339341/1.2.826.0.1.3680043....   \n",
       "\n",
       "  ViewPosition  CLAHE  \n",
       "0           AP    0.0  \n",
       "1           AP    0.0  \n",
       "2           AP    0.0  \n",
       "3           AP    0.0  \n",
       "4           AP    0.0  "
      ]
     },
     "execution_count": 18,
     "metadata": {},
     "output_type": "execute_result"
    }
   ],
   "source": [
    "paview.head()"
   ]
  },
  {
   "cell_type": "code",
   "execution_count": 19,
   "id": "3c3599da-4f8a-4299-845c-55e44f65859a",
   "metadata": {},
   "outputs": [
    {
     "data": {
      "text/plain": [
       "(654822, 4)"
      ]
     },
     "execution_count": 19,
     "metadata": {},
     "output_type": "execute_result"
    }
   ],
   "source": [
    "paview.shape"
   ]
  },
  {
   "cell_type": "code",
   "execution_count": 20,
   "id": "9d264562-5b41-41c0-ad74-d5a2f4600007",
   "metadata": {},
   "outputs": [],
   "source": [
    "cardiomegaly_only = findingsdf[['AccessionNumber_anon', 'Cardiomegaly']] \n",
    "merged = paview.merge(cardiomegaly_only, on='AccessionNumber_anon')\n"
   ]
  },
  {
   "cell_type": "code",
   "execution_count": 21,
   "id": "75bb9534-9d51-4bb9-9612-6e43d5204dc9",
   "metadata": {},
   "outputs": [],
   "source": [
    "merged.to_csv(\"/home/rmuthy2/400K_Cardiomegaly/AP_Cardiomegaly.csv\", index = False)"
   ]
  },
  {
   "cell_type": "code",
   "execution_count": 22,
   "id": "601430fb-ebc7-460e-b668-93b30d29c79c",
   "metadata": {},
   "outputs": [],
   "source": [
    "new_df = pd.read_csv(\"/home/rmuthy2/400K_Cardiomegaly/AP_Cardiomegaly.csv\")"
   ]
  },
  {
   "cell_type": "code",
   "execution_count": 23,
   "id": "80603e19-8f81-4778-a417-b9a901833c9b",
   "metadata": {},
   "outputs": [
    {
     "data": {
      "text/html": [
       "<div>\n",
       "<style scoped>\n",
       "    .dataframe tbody tr th:only-of-type {\n",
       "        vertical-align: middle;\n",
       "    }\n",
       "\n",
       "    .dataframe tbody tr th {\n",
       "        vertical-align: top;\n",
       "    }\n",
       "\n",
       "    .dataframe thead th {\n",
       "        text-align: right;\n",
       "    }\n",
       "</style>\n",
       "<table border=\"1\" class=\"dataframe\">\n",
       "  <thead>\n",
       "    <tr style=\"text-align: right;\">\n",
       "      <th></th>\n",
       "      <th>AccessionNumber_anon</th>\n",
       "      <th>ImagePath</th>\n",
       "      <th>ViewPosition</th>\n",
       "      <th>CLAHE</th>\n",
       "      <th>Cardiomegaly</th>\n",
       "    </tr>\n",
       "  </thead>\n",
       "  <tbody>\n",
       "    <tr>\n",
       "      <th>0</th>\n",
       "      <td>5087455716158305</td>\n",
       "      <td>70431912/5087455716158305/1.2.826.0.1.3680043....</td>\n",
       "      <td>AP</td>\n",
       "      <td>0.0</td>\n",
       "      <td>NaN</td>\n",
       "    </tr>\n",
       "    <tr>\n",
       "      <th>1</th>\n",
       "      <td>7986046456459857</td>\n",
       "      <td>36789298/7986046456459857/1.2.826.0.1.3680043....</td>\n",
       "      <td>AP</td>\n",
       "      <td>0.0</td>\n",
       "      <td>NaN</td>\n",
       "    </tr>\n",
       "    <tr>\n",
       "      <th>2</th>\n",
       "      <td>7024586630643845</td>\n",
       "      <td>79739681/7024586630643845/1.2.826.0.1.3680043....</td>\n",
       "      <td>AP</td>\n",
       "      <td>0.0</td>\n",
       "      <td>NaN</td>\n",
       "    </tr>\n",
       "    <tr>\n",
       "      <th>3</th>\n",
       "      <td>2700155238352052</td>\n",
       "      <td>96057055/2700155238352052/1.2.826.0.1.3680043....</td>\n",
       "      <td>AP</td>\n",
       "      <td>0.0</td>\n",
       "      <td>NaN</td>\n",
       "    </tr>\n",
       "    <tr>\n",
       "      <th>4</th>\n",
       "      <td>4117940329339341</td>\n",
       "      <td>61993762/4117940329339341/1.2.826.0.1.3680043....</td>\n",
       "      <td>AP</td>\n",
       "      <td>0.0</td>\n",
       "      <td>NaN</td>\n",
       "    </tr>\n",
       "  </tbody>\n",
       "</table>\n",
       "</div>"
      ],
      "text/plain": [
       "   AccessionNumber_anon                                          ImagePath  \\\n",
       "0      5087455716158305  70431912/5087455716158305/1.2.826.0.1.3680043....   \n",
       "1      7986046456459857  36789298/7986046456459857/1.2.826.0.1.3680043....   \n",
       "2      7024586630643845  79739681/7024586630643845/1.2.826.0.1.3680043....   \n",
       "3      2700155238352052  96057055/2700155238352052/1.2.826.0.1.3680043....   \n",
       "4      4117940329339341  61993762/4117940329339341/1.2.826.0.1.3680043....   \n",
       "\n",
       "  ViewPosition  CLAHE  Cardiomegaly  \n",
       "0           AP    0.0           NaN  \n",
       "1           AP    0.0           NaN  \n",
       "2           AP    0.0           NaN  \n",
       "3           AP    0.0           NaN  \n",
       "4           AP    0.0           NaN  "
      ]
     },
     "execution_count": 23,
     "metadata": {},
     "output_type": "execute_result"
    }
   ],
   "source": [
    "new_df.head()"
   ]
  },
  {
   "cell_type": "code",
   "execution_count": 24,
   "id": "f542f255-dc84-4e1e-82fa-94b3448122e8",
   "metadata": {},
   "outputs": [
    {
     "data": {
      "text/plain": [
       "(654841, 5)"
      ]
     },
     "execution_count": 24,
     "metadata": {},
     "output_type": "execute_result"
    }
   ],
   "source": [
    "new_df.shape"
   ]
  },
  {
   "cell_type": "code",
   "execution_count": 25,
   "id": "19e2cb79-a296-4673-b237-f2c1873f0408",
   "metadata": {},
   "outputs": [
    {
     "data": {
      "text/plain": [
       "0         0.0\n",
       "1         0.0\n",
       "2         0.0\n",
       "3         0.0\n",
       "4         0.0\n",
       "         ... \n",
       "654836    0.0\n",
       "654837    0.0\n",
       "654838    0.0\n",
       "654839    0.0\n",
       "654840    0.0\n",
       "Name: Cardiomegaly, Length: 654841, dtype: float64"
      ]
     },
     "execution_count": 25,
     "metadata": {},
     "output_type": "execute_result"
    }
   ],
   "source": [
    "new_df[\"Cardiomegaly\"].fillna(0)"
   ]
  },
  {
   "cell_type": "code",
   "execution_count": 26,
   "id": "b5366ab3-01e5-4d3a-9859-870ccbf37f72",
   "metadata": {},
   "outputs": [
    {
     "data": {
      "text/plain": [
       "Cardiomegaly\n",
       " 1.0    68640\n",
       "-1.0    14075\n",
       " 0.0    12684\n",
       "Name: count, dtype: int64"
      ]
     },
     "execution_count": 26,
     "metadata": {},
     "output_type": "execute_result"
    }
   ],
   "source": [
    "new_df[\"Cardiomegaly\"].value_counts()"
   ]
  },
  {
   "cell_type": "code",
   "execution_count": 28,
   "id": "2eb2b578-2c9b-4aaf-a0f7-790ef6d3d4c2",
   "metadata": {},
   "outputs": [],
   "source": [
    "new_df = new_df.fillna(0)"
   ]
  },
  {
   "cell_type": "code",
   "execution_count": 29,
   "id": "02ae7d36-7826-41f9-b75a-2384304eea81",
   "metadata": {},
   "outputs": [
    {
     "data": {
      "text/html": [
       "<div>\n",
       "<style scoped>\n",
       "    .dataframe tbody tr th:only-of-type {\n",
       "        vertical-align: middle;\n",
       "    }\n",
       "\n",
       "    .dataframe tbody tr th {\n",
       "        vertical-align: top;\n",
       "    }\n",
       "\n",
       "    .dataframe thead th {\n",
       "        text-align: right;\n",
       "    }\n",
       "</style>\n",
       "<table border=\"1\" class=\"dataframe\">\n",
       "  <thead>\n",
       "    <tr style=\"text-align: right;\">\n",
       "      <th></th>\n",
       "      <th>AccessionNumber_anon</th>\n",
       "      <th>ImagePath</th>\n",
       "      <th>ViewPosition</th>\n",
       "      <th>CLAHE</th>\n",
       "      <th>Cardiomegaly</th>\n",
       "    </tr>\n",
       "  </thead>\n",
       "  <tbody>\n",
       "    <tr>\n",
       "      <th>0</th>\n",
       "      <td>5087455716158305</td>\n",
       "      <td>70431912/5087455716158305/1.2.826.0.1.3680043....</td>\n",
       "      <td>AP</td>\n",
       "      <td>0.0</td>\n",
       "      <td>0.0</td>\n",
       "    </tr>\n",
       "    <tr>\n",
       "      <th>1</th>\n",
       "      <td>7986046456459857</td>\n",
       "      <td>36789298/7986046456459857/1.2.826.0.1.3680043....</td>\n",
       "      <td>AP</td>\n",
       "      <td>0.0</td>\n",
       "      <td>0.0</td>\n",
       "    </tr>\n",
       "    <tr>\n",
       "      <th>2</th>\n",
       "      <td>7024586630643845</td>\n",
       "      <td>79739681/7024586630643845/1.2.826.0.1.3680043....</td>\n",
       "      <td>AP</td>\n",
       "      <td>0.0</td>\n",
       "      <td>0.0</td>\n",
       "    </tr>\n",
       "    <tr>\n",
       "      <th>3</th>\n",
       "      <td>2700155238352052</td>\n",
       "      <td>96057055/2700155238352052/1.2.826.0.1.3680043....</td>\n",
       "      <td>AP</td>\n",
       "      <td>0.0</td>\n",
       "      <td>0.0</td>\n",
       "    </tr>\n",
       "    <tr>\n",
       "      <th>4</th>\n",
       "      <td>4117940329339341</td>\n",
       "      <td>61993762/4117940329339341/1.2.826.0.1.3680043....</td>\n",
       "      <td>AP</td>\n",
       "      <td>0.0</td>\n",
       "      <td>0.0</td>\n",
       "    </tr>\n",
       "  </tbody>\n",
       "</table>\n",
       "</div>"
      ],
      "text/plain": [
       "   AccessionNumber_anon                                          ImagePath  \\\n",
       "0      5087455716158305  70431912/5087455716158305/1.2.826.0.1.3680043....   \n",
       "1      7986046456459857  36789298/7986046456459857/1.2.826.0.1.3680043....   \n",
       "2      7024586630643845  79739681/7024586630643845/1.2.826.0.1.3680043....   \n",
       "3      2700155238352052  96057055/2700155238352052/1.2.826.0.1.3680043....   \n",
       "4      4117940329339341  61993762/4117940329339341/1.2.826.0.1.3680043....   \n",
       "\n",
       "  ViewPosition  CLAHE  Cardiomegaly  \n",
       "0           AP    0.0           0.0  \n",
       "1           AP    0.0           0.0  \n",
       "2           AP    0.0           0.0  \n",
       "3           AP    0.0           0.0  \n",
       "4           AP    0.0           0.0  "
      ]
     },
     "execution_count": 29,
     "metadata": {},
     "output_type": "execute_result"
    }
   ],
   "source": [
    "new_df.head()"
   ]
  },
  {
   "cell_type": "code",
   "execution_count": 30,
   "id": "12fe803c-f164-4f7c-9f2b-4b8154615d33",
   "metadata": {},
   "outputs": [
    {
     "data": {
      "text/plain": [
       "Cardiomegaly\n",
       " 0.0    572126\n",
       " 1.0     68640\n",
       "-1.0     14075\n",
       "Name: count, dtype: int64"
      ]
     },
     "execution_count": 30,
     "metadata": {},
     "output_type": "execute_result"
    }
   ],
   "source": [
    "new_df[\"Cardiomegaly\"].value_counts()"
   ]
  },
  {
   "cell_type": "code",
   "execution_count": 31,
   "id": "321bc52f-7f2d-4894-a2cb-315aa7bd470b",
   "metadata": {},
   "outputs": [
    {
     "name": "stdout",
     "output_type": "stream",
     "text": [
      "Positive cases: 68640\n",
      "Negative cases: 68640\n",
      "Total balanced dataset: 137280\n"
     ]
    }
   ],
   "source": [
    "# Create balanced dataset with equal Cardiomegaly cases\n",
    "positive_cases = new_df[new_df['Cardiomegaly'] == 1]\n",
    "negative_cases = new_df[new_df['Cardiomegaly'].isin([0, -1])]\n",
    "\n",
    "# Sample same number of negative cases as positive cases\n",
    "n_positive = len(positive_cases)\n",
    "negative_sampled = negative_cases.sample(n=n_positive, random_state=42)\n",
    "\n",
    "# Combine both\n",
    "balanced_df = pd.concat([positive_cases, negative_sampled], ignore_index=True)\n",
    "\n",
    "# Shuffle the final dataset\n",
    "balanced_df = balanced_df.sample(frac=1, random_state=42).reset_index(drop=True)\n",
    "\n",
    "print(f\"Positive cases: {n_positive}\")\n",
    "print(f\"Negative cases: {len(negative_sampled)}\")\n",
    "print(f\"Total balanced dataset: {len(balanced_df)}\")\n"
   ]
  },
  {
   "cell_type": "code",
   "execution_count": 32,
   "id": "b3af41d5-5be4-4a53-b3dc-e5e28aa93f10",
   "metadata": {},
   "outputs": [],
   "source": [
    "# Save balanced dataset\n",
    "balanced_df.to_csv('CardiomegalyCohort-Balanced.csv', index=False)"
   ]
  },
  {
   "cell_type": "code",
   "execution_count": null,
   "id": "6ef6c73e-dc24-41cb-a992-90c2377242f7",
   "metadata": {},
   "outputs": [],
   "source": []
  },
  {
   "cell_type": "code",
   "execution_count": null,
   "id": "c1440cbc-df4b-42b3-9758-c8476b8cf3d7",
   "metadata": {},
   "outputs": [],
   "source": []
  }
 ],
 "metadata": {
  "kernelspec": {
   "display_name": "ImageAnalysis",
   "language": "python",
   "name": "myenv"
  },
  "language_info": {
   "codemirror_mode": {
    "name": "ipython",
    "version": 3
   },
   "file_extension": ".py",
   "mimetype": "text/x-python",
   "name": "python",
   "nbconvert_exporter": "python",
   "pygments_lexer": "ipython3",
   "version": "3.10.10"
  }
 },
 "nbformat": 4,
 "nbformat_minor": 5
}
