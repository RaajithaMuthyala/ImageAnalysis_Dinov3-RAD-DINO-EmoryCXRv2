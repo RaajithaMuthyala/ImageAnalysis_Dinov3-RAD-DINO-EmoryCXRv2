{
 "cells": [
  {
   "cell_type": "code",
   "execution_count": 1,
   "id": "395f5d0f-96ef-4cf7-8d1c-cec2c248b14b",
   "metadata": {},
   "outputs": [
    {
     "name": "stdout",
     "output_type": "stream",
     "text": [
      "1\n",
      "NVIDIA L40S\n",
      "CUDA available: True\n",
      "Number of visible GPUs: 1\n",
      "Device 0: NVIDIA L40S\n"
     ]
    }
   ],
   "source": [
    "import os\n",
    "os.environ[\"CUDA_VISIBLE_DEVICES\"] = \"7\"\n",
    "\n",
    "import torch\n",
    "print(torch.cuda.device_count())   # should be 1 now\n",
    "print(torch.cuda.get_device_name(0))  # GPU 8 will appear as cuda:0\n",
    "\n",
    "\n",
    "import torch\n",
    "\n",
    "print(f\"CUDA available: {torch.cuda.is_available()}\")\n",
    "print(f\"Number of visible GPUs: {torch.cuda.device_count()}\")\n",
    "\n",
    "for i in range(torch.cuda.device_count()):\n",
    "    print(f\"Device {i}: {torch.cuda.get_device_name(i)}\")\n"
   ]
  },
  {
   "cell_type": "code",
   "execution_count": 2,
   "id": "be5370ed-be20-4b9d-9aa7-6708bf0224f7",
   "metadata": {},
   "outputs": [
    {
     "name": "stderr",
     "output_type": "stream",
     "text": [
      "/mnt/NAS3/homes/rmuthy2/myenv/lib/python3.10/site-packages/tqdm/auto.py:21: TqdmWarning: IProgress not found. Please update jupyter and ipywidgets. See https://ipywidgets.readthedocs.io/en/stable/user_install.html\n",
      "  from .autonotebook import tqdm as notebook_tqdm\n"
     ]
    }
   ],
   "source": [
    "import cv2\n",
    "import numpy as np\n",
    "import random\n",
    "import torch\n",
    "import gc\n",
    "import os\n",
    "import pandas as pd\n",
    "from tqdm import tqdm\n",
    "from transformers import AutoImageProcessor, AutoModel\n",
    "from PIL import Image\n",
    "import json\n",
    "import time\n",
    "from datetime import datetime\n",
    "from scipy import stats\n",
    "\n",
    "class ImagePreprocessor:\n",
    "    \n",
    "    def __init__(self, square_size=3052, target_size=(1024, 1024)):\n",
    "        self.square_size = square_size\n",
    "        self.target_size = target_size\n",
    "    \n",
    "    def analyze_image_color_distribution(self, image):\n",
    "        \"\"\"\n",
    "        Analyze color distribution of the original image and find the mode\n",
    "        Returns the mode value and the noise color range (±20%)\n",
    "        \"\"\"\n",
    "        # Convert to grayscale if colored image for analysis\n",
    "        if len(image.shape) == 3:\n",
    "            gray = cv2.cvtColor(image, cv2.COLOR_BGR2GRAY)\n",
    "        else:\n",
    "            gray = image\n",
    "        \n",
    "        # Calculate histogram\n",
    "        hist = cv2.calcHist([gray], [0], None, [256], [0, 256])\n",
    "        hist = hist.flatten()  # Convert to 1D array for easier processing\n",
    "        \n",
    "        # Find mode in the valid range (20-235) - CORRECTED RANGE\n",
    "        # Create a copy of histogram for finding peaks\n",
    "        hist_for_peaks = hist.copy()\n",
    "        \n",
    "        # Zero out values outside our desired range (20-235)\n",
    "        hist_for_peaks[:21] = 0   # Remove values <= 20\n",
    "        hist_for_peaks[235:] = 0  # Remove values >= 235\n",
    "        \n",
    "        # Find the mode (highest peak) in the valid range\n",
    "        if np.sum(hist_for_peaks) > 0:\n",
    "            mode_value = np.argmax(hist_for_peaks)\n",
    "        else:\n",
    "            # If no pixels in 20-235 range, find next best option\n",
    "            # Look for highest peak outside extreme values (0, 255)\n",
    "            hist_fallback = hist.copy()\n",
    "            hist_fallback[0] = 0\n",
    "            hist_fallback[255] = 0\n",
    "            \n",
    "            if np.sum(hist_fallback) > 0:\n",
    "                mode_value = np.argmax(hist_fallback)\n",
    "            else:\n",
    "                # Final fallback\n",
    "                mode_value = 128\n",
    "        \n",
    "        # Additional check: if mode is still outside 20-235, find next peak\n",
    "        if mode_value <= 20 or mode_value >= 235:\n",
    "            # Find multiple peaks and select the best one in range\n",
    "            hist_copy = hist.copy()\n",
    "            hist_copy[mode_value] = 0  # Remove current peak\n",
    "            \n",
    "            # Look for next highest peak in valid range\n",
    "            hist_copy[:21] = 0   # Remove <= 20\n",
    "            hist_copy[235:] = 0  # Remove >= 235\n",
    "            \n",
    "            if np.sum(hist_copy) > 0:\n",
    "                next_mode = np.argmax(hist_copy)\n",
    "                mode_value = next_mode\n",
    "            else:\n",
    "                mode_value = 128\n",
    "        \n",
    "        # Calculate ±20% range, ensuring it stays within [0, 255]\n",
    "        range_offset = max(int(mode_value * 0.2), 15)  # Minimum range of 15\n",
    "        min_noise_color = max(0, mode_value - range_offset)\n",
    "        max_noise_color = min(255, mode_value + range_offset)\n",
    "        \n",
    "        # Ensure minimum range width of 30 pixels\n",
    "        if max_noise_color - min_noise_color < 30:\n",
    "            center = (min_noise_color + max_noise_color) // 2\n",
    "            min_noise_color = max(0, center - 15)\n",
    "            max_noise_color = min(255, center + 15)\n",
    "        \n",
    "        return mode_value, (min_noise_color, max_noise_color), hist\n",
    "    \n",
    "    def pad_to_square_and_resize(self, image_path, analyze_colors=True):\n",
    "        \"\"\"\n",
    "        Load image, analyze color distribution, then pad and resize\n",
    "        Returns processed image and color analysis results\n",
    "        \"\"\"\n",
    "        # Load image\n",
    "        image = cv2.imread(image_path)\n",
    "        if image is None:\n",
    "            raise ValueError(f\"Cannot load image: {image_path}\")\n",
    "        \n",
    "        # Analyze original image color distribution BEFORE padding\n",
    "        color_analysis = None\n",
    "        if analyze_colors:\n",
    "            mode_value, noise_range, hist = self.analyze_image_color_distribution(image)\n",
    "            color_analysis = {\n",
    "                'mode_value': mode_value,\n",
    "                'noise_range': noise_range,\n",
    "                'histogram': hist\n",
    "            }\n",
    "        \n",
    "        h, w = image.shape[:2]\n",
    "        \n",
    "        # Determine the size of square needed (larger of image dimensions or default square_size)\n",
    "        max_dim = max(h, w, self.square_size)\n",
    "        \n",
    "        # Step 1: Pad to square with black padding (using the larger dimension)\n",
    "        pad_h = max_dim - h\n",
    "        pad_w = max_dim - w\n",
    "        \n",
    "        top = pad_h // 2\n",
    "        bottom = pad_h - top\n",
    "        left = pad_w // 2\n",
    "        right = pad_w - left\n",
    "        \n",
    "        # Black padding\n",
    "        if len(image.shape) == 3:\n",
    "            padded = cv2.copyMakeBorder(image, top, bottom, left, right, \n",
    "                                      cv2.BORDER_CONSTANT, value=[0, 0, 0])\n",
    "        else:\n",
    "            padded = cv2.copyMakeBorder(image, top, bottom, left, right, \n",
    "                                      cv2.BORDER_CONSTANT, value=0)\n",
    "        \n",
    "        # Step 2: Resize to target size (1024x1024)\n",
    "        resized = cv2.resize(padded, self.target_size, interpolation=cv2.INTER_LANCZOS4)\n",
    "        \n",
    "        return resized, color_analysis\n",
    "\n",
    "class NoiseInjector:\n",
    "    \n",
    "    def __init__(self):\n",
    "        pass\n",
    "    \n",
    "    def generate_varied_noise_colors(self, color_analysis, dot_size, include_black=True):\n",
    "        \"\"\"\n",
    "        Generate a varied range of colors for the noise dot including black\n",
    "        Returns a dot_size x dot_size array of different colors\n",
    "        \"\"\"\n",
    "        if color_analysis is None:\n",
    "            # Fallback to random colors including black\n",
    "            colors = np.random.randint(0, 256, size=(dot_size, dot_size), dtype=np.uint8)\n",
    "            if include_black:\n",
    "                # Ensure some pixels are black\n",
    "                num_black = max(1, (dot_size * dot_size) // 4)  # 25% black pixels\n",
    "                black_positions = np.random.choice(dot_size * dot_size, num_black, replace=False)\n",
    "                colors_flat = colors.flatten()\n",
    "                colors_flat[black_positions] = 0\n",
    "                colors = colors_flat.reshape(dot_size, dot_size)\n",
    "            return colors\n",
    "        \n",
    "        # Get noise color range from analysis\n",
    "        min_color, max_color = color_analysis['noise_range']\n",
    "        mode_value = color_analysis['mode_value']\n",
    "        \n",
    "        # Create varied colors within the range\n",
    "        colors = np.zeros((dot_size, dot_size), dtype=np.uint8)\n",
    "        \n",
    "        # Fill with random colors from the noise range\n",
    "        for i in range(dot_size):\n",
    "            for j in range(dot_size):\n",
    "                colors[i, j] = random.randint(min_color, max_color)\n",
    "        \n",
    "        # Add some black pixels for variety if requested\n",
    "        if include_black:\n",
    "            # Add 20-30% black pixels randomly\n",
    "            num_black = random.randint(\n",
    "                max(1, (dot_size * dot_size) // 5),  # At least 20%\n",
    "                max(1, (dot_size * dot_size) // 3)   # At most 33%\n",
    "            )\n",
    "            \n",
    "            # Randomly select positions for black pixels\n",
    "            total_pixels = dot_size * dot_size\n",
    "            black_positions = random.sample(range(total_pixels), num_black)\n",
    "            \n",
    "            for pos in black_positions:\n",
    "                i, j = divmod(pos, dot_size)\n",
    "                colors[i, j] = 0  # Black\n",
    "        \n",
    "        # Optionally add a few very bright or very dark pixels for more contrast\n",
    "        num_extreme = max(1, (dot_size * dot_size) // 8)  # 12.5% extreme colors\n",
    "        extreme_positions = random.sample(range(dot_size * dot_size), num_extreme)\n",
    "        \n",
    "        for pos in extreme_positions:\n",
    "            i, j = divmod(pos, dot_size)\n",
    "            # 50% chance of very bright or very dark\n",
    "            if random.random() < 0.5:\n",
    "                colors[i, j] = random.randint(200, 255)  # Bright\n",
    "            else:\n",
    "                colors[i, j] = random.randint(0, 50)     # Dark\n",
    "        \n",
    "        return colors\n",
    "    \n",
    "    def add_adaptive_dot_noise(self, image, color_analysis, dot_size=2, num_dots=1, include_black=True):\n",
    "        \"\"\"\n",
    "        Add noise dots using varied colors from the adaptive range\n",
    "        Returns the image with noise and the actual noise colors used\n",
    "        \"\"\"\n",
    "        image_with_noise = image.copy()\n",
    "        h, w = image.shape[:2]\n",
    "        \n",
    "        # Conservative approach: use center 70% region for dot placement\n",
    "        margin_x, margin_y = int(0.15 * w), int(0.15 * h)\n",
    "        x_min, y_min = margin_x, margin_y\n",
    "        x_max, y_max = w - margin_x - dot_size, h - margin_y - dot_size\n",
    "        \n",
    "        all_noise_colors = []\n",
    "        \n",
    "        for _ in range(num_dots):\n",
    "            # Random position within anatomical region\n",
    "            x = random.randint(x_min, x_max)\n",
    "            y = random.randint(y_min, y_max)\n",
    "            \n",
    "            # Generate varied noise colors for this dot\n",
    "            noise_colors = self.generate_varied_noise_colors(color_analysis, dot_size, include_black)\n",
    "            all_noise_colors.append(noise_colors)\n",
    "            \n",
    "            # Add the varied color noise dot\n",
    "            if len(image.shape) == 3:\n",
    "                # For colored images, use the noise colors in all channels\n",
    "                for i in range(dot_size):\n",
    "                    for j in range(dot_size):\n",
    "                        color_val = noise_colors[i, j]\n",
    "                        image_with_noise[y+i:y+i+1, x+j:x+j+1] = [color_val, color_val, color_val]\n",
    "            else:\n",
    "                # For grayscale images, directly apply the noise pattern\n",
    "                image_with_noise[y:y+dot_size, x:x+dot_size] = noise_colors\n",
    "        \n",
    "        return image_with_noise, all_noise_colors\n",
    "\n",
    "class EmbeddingExtractor:\n",
    "    \n",
    "    def __init__(self):\n",
    "        self.device = torch.device('cuda' if torch.cuda.is_available() else 'cpu')\n",
    "        print(f\"Using device: {self.device}\")\n",
    "        \n",
    "        # Clear GPU memory before loading models\n",
    "        if torch.cuda.is_available():\n",
    "            torch.cuda.empty_cache()\n",
    "        \n",
    "        # Load models with memory management\n",
    "        self.load_raddino_model()\n",
    "        \n",
    "        # Clear memory before loading second model\n",
    "        if torch.cuda.is_available():\n",
    "            torch.cuda.empty_cache()\n",
    "            \n",
    "        self.load_dinov3_model()\n",
    "        \n",
    "    def load_raddino_model(self):\n",
    "        \"\"\"Load RadDiNo model from HuggingFace\"\"\"\n",
    "        try:\n",
    "            print(\"Loading RadDiNo model...\")\n",
    "            self.raddino_processor = AutoImageProcessor.from_pretrained(\"microsoft/rad-dino\")\n",
    "            self.raddino_model = AutoModel.from_pretrained(\"microsoft/rad-dino\").to(self.device)\n",
    "            self.raddino_model.eval()\n",
    "            print(\"RadDiNo model loaded successfully\")\n",
    "        except Exception as e:\n",
    "            print(f\"Error loading RadDiNo model: {e}\")\n",
    "            self.raddino_model = None\n",
    "            self.raddino_processor = None\n",
    "    \n",
    "    def load_dinov3_model(self):\n",
    "        try:\n",
    "            print(\"Loading DINOv3 model...\")\n",
    "            self.dinov3_processor = AutoImageProcessor.from_pretrained(\"facebook/dinov3-vit7b16-pretrain-lvd1689m\")\n",
    "            self.dinov3_model = AutoModel.from_pretrained(\"facebook/dinov3-vit7b16-pretrain-lvd1689m\").to(self.device)\n",
    "            self.dinov3_model.eval()\n",
    "            print(\"DINOv3 model loaded successfully\")\n",
    "        except Exception as e:\n",
    "            print(f\"Error loading DINOv3 model: {e}\")\n",
    "            self.dinov3_model = None\n",
    "            self.dinov3_processor = None\n",
    "            \n",
    "    def _to_pil(self, image):\n",
    "        # numpy BGR/RGB or grayscale -> PIL RGB\n",
    "        if image.ndim == 3:\n",
    "            # OpenCV read path leads to BGR; convert to RGB\n",
    "            return Image.fromarray(cv2.cvtColor(image, cv2.COLOR_BGR2RGB))\n",
    "        else:\n",
    "            # grayscale\n",
    "            return Image.fromarray(image).convert(\"RGB\")\n",
    "            \n",
    "    def extract_raddino_batch(self, images):\n",
    "        \"\"\"images: list of numpy arrays (H,W[,3])\"\"\"\n",
    "        if self.raddino_model is None:\n",
    "            return None\n",
    "        \n",
    "        pil_list = [self._to_pil(im) for im in images]\n",
    "        with torch.no_grad():\n",
    "            inputs = self.raddino_processor(pil_list, return_tensors=\"pt\").to(self.device)\n",
    "            outputs = self.raddino_model(**inputs)\n",
    "            if hasattr(outputs, \"pooler_output\") and outputs.pooler_output is not None:\n",
    "                embs = outputs.pooler_output\n",
    "            else:\n",
    "                # (B, T, D) -> mean over tokens\n",
    "                embs = outputs.last_hidden_state.mean(dim=1)\n",
    "            return embs.detach().cpu().numpy()\n",
    "    \n",
    "    def extract_dinov3_batch(self, images):\n",
    "        if self.dinov3_model is None:\n",
    "            return None\n",
    "            \n",
    "        pil_list = [self._to_pil(im) for im in images]\n",
    "        with torch.no_grad():\n",
    "            inputs = self.dinov3_processor(pil_list, return_tensors=\"pt\").to(self.device)\n",
    "            outputs = self.dinov3_model(**inputs)\n",
    "            if hasattr(outputs, \"pooler_output\") and outputs.pooler_output is not None:\n",
    "                embs = outputs.pooler_output\n",
    "            else:\n",
    "                embs = outputs.last_hidden_state.mean(dim=1)\n",
    "            return embs.detach().cpu().numpy()\n",
    "\n",
    "class ProgressTracker:\n",
    "    \"\"\"Track progress and enable resuming from checkpoints\"\"\"\n",
    "    \n",
    "    def __init__(self, output_dir):\n",
    "        self.output_dir = output_dir\n",
    "        self.progress_file = os.path.join(output_dir, \"progress.json\")\n",
    "        self.load_progress()\n",
    "    \n",
    "    def load_progress(self):\n",
    "        \"\"\"Load existing progress if available\"\"\"\n",
    "        if os.path.exists(self.progress_file):\n",
    "            with open(self.progress_file, 'r') as f:\n",
    "                self.progress = json.load(f)\n",
    "        else:\n",
    "            self.progress = {\n",
    "                \"completed_tasks\": [],\n",
    "                \"current_task\": None,\n",
    "                \"last_updated\": None\n",
    "            }\n",
    "    \n",
    "    def save_progress(self):\n",
    "        \"\"\"Save current progress\"\"\"\n",
    "        self.progress[\"last_updated\"] = datetime.now().isoformat()\n",
    "        os.makedirs(self.output_dir, exist_ok=True)\n",
    "        with open(self.progress_file, 'w') as f:\n",
    "            json.dump(self.progress, f, indent=2)\n",
    "    \n",
    "    def is_task_completed(self, task_id):\n",
    "        \"\"\"Check if a task is already completed\"\"\"\n",
    "        return task_id in self.progress[\"completed_tasks\"]\n",
    "    \n",
    "    def mark_task_completed(self, task_id):\n",
    "        \"\"\"Mark a task as completed\"\"\"\n",
    "        if task_id not in self.progress[\"completed_tasks\"]:\n",
    "            self.progress[\"completed_tasks\"].append(task_id)\n",
    "        self.save_progress()\n",
    "    \n",
    "    def set_current_task(self, task_id):\n",
    "        \"\"\"Set the current task being processed\"\"\"\n",
    "        self.progress[\"current_task\"] = task_id\n",
    "        self.save_progress()\n",
    "\n",
    "class ImagePipeline:\n",
    "    \"\"\"Complete pipeline for image processing and embedding extraction with adaptive noise\"\"\"\n",
    "    \n",
    "    def __init__(self, root_path):\n",
    "        self.root_path = root_path\n",
    "        self.preprocessor = ImagePreprocessor()\n",
    "        self.noise_injector = NoiseInjector()\n",
    "        self.embedding_extractor = EmbeddingExtractor()\n",
    "    \n",
    "    def load_datasets(self, train_csv_path, test_csv_path):\n",
    "        \"\"\"Load train and test CSV files\"\"\"\n",
    "        print(\"Loading datasets...\")\n",
    "        self.train_df = pd.read_csv(train_csv_path)\n",
    "        self.test_df = pd.read_csv(test_csv_path)\n",
    "        \n",
    "        print(f\"Train dataset shape: {self.train_df.shape}\")\n",
    "        print(f\"Test dataset shape: {self.test_df.shape}\")\n",
    "        \n",
    "        # Validate required columns\n",
    "        required_cols = ['ImagePath', 'noise']\n",
    "        for df_name, df in [('train', self.train_df), ('test', self.test_df)]:\n",
    "            missing_cols = [col for col in required_cols if col not in df.columns]\n",
    "            if missing_cols:\n",
    "                raise ValueError(f\"Missing columns in {df_name} dataset: {missing_cols}\")\n",
    "        \n",
    "        return self.train_df, self.test_df\n",
    "    \n",
    "    def process_single_image(self, image_path, add_noise=False, dot_size=2):\n",
    "        \"\"\"Process single image: analyze colors, resize and optionally add adaptive noise\"\"\"\n",
    "        # Accept absolute or relative paths\n",
    "        full_image_path = image_path if os.path.isabs(image_path) else os.path.join(self.root_path, image_path)\n",
    "        \n",
    "        if not os.path.exists(full_image_path):\n",
    "            raise FileNotFoundError(f\"Image not found: {full_image_path}\")\n",
    "        \n",
    "        # Step 1: Analyze colors, pad to 3052x3052 and resize to 1024x1024\n",
    "        processed_image, color_analysis = self.preprocessor.pad_to_square_and_resize(\n",
    "            full_image_path, analyze_colors=True\n",
    "        )\n",
    "        \n",
    "        # Step 2: Add adaptive noise if required\n",
    "        if add_noise and color_analysis is not None:\n",
    "            processed_image, noise_colors = self.noise_injector.add_adaptive_dot_noise(\n",
    "                processed_image, color_analysis, dot_size=dot_size, num_dots=1, include_black=True\n",
    "            )\n",
    "        elif add_noise:\n",
    "            # Fallback to white noise if color analysis failed\n",
    "            if len(processed_image.shape) == 3:\n",
    "                processed_image[100:100+dot_size, 100:100+dot_size] = [255, 255, 255]\n",
    "            else:\n",
    "                processed_image[100:100+dot_size, 100:100+dot_size] = 255\n",
    "        \n",
    "        return processed_image\n",
    "\n",
    "    def extract_embeddings_for_dataset_batched(self, df, dataset_name, dot_size, batch_size=32, \n",
    "                                             save_intermediate=True, intermediate_save_frequency=100):\n",
    "        \"\"\"Extract embeddings for entire dataset using batched processing with intermediate saves\"\"\"\n",
    "        print(f\"\\nExtracting embeddings for {dataset_name} (dot={dot_size}) in batches of {batch_size}...\")\n",
    "        result_df = df.copy()\n",
    "        rcol = f'raddino_embedding_dot{dot_size}'\n",
    "        dcol = f'dinov3_embedding_dot{dot_size}'\n",
    "        result_df[rcol] = None\n",
    "        result_df[dcol] = None\n",
    "        \n",
    "        idxs = result_df.index.tolist()\n",
    "        total_batches = len(range(0, len(idxs), batch_size))\n",
    "        \n",
    "        # Setup intermediate save path\n",
    "        if save_intermediate:\n",
    "            intermediate_dir = os.path.join(os.path.dirname(self.output_dir), \"intermediate_saves\")\n",
    "            os.makedirs(intermediate_dir, exist_ok=True)\n",
    "            intermediate_path = os.path.join(intermediate_dir, f\"{dataset_name}_dot{dot_size}_intermediate.parquet\")\n",
    "        \n",
    "        batch_count = 0\n",
    "        for start in tqdm(range(0, len(idxs), batch_size), desc=f\"Processing {dataset_name}\"):\n",
    "            batch_start_time = time.time()\n",
    "            end = min(start + batch_size, len(idxs))\n",
    "            batch_idx = idxs[start:end]\n",
    "            \n",
    "            # Load and process images\n",
    "            load_start_time = time.time()\n",
    "            imgs = []\n",
    "            for i in batch_idx:\n",
    "                row = result_df.loc[i]\n",
    "                try:\n",
    "                    add_noise = (row['noise'] == 1)\n",
    "                    im = self.process_single_image(row['ImagePath'], add_noise=add_noise, dot_size=dot_size)\n",
    "                except Exception as e:\n",
    "                    print(f\"Error processing {row['ImagePath']}: {e}\")\n",
    "                    im = None\n",
    "                imgs.append(im)\n",
    "            load_time = time.time() - load_start_time\n",
    "            \n",
    "            valid_mask = [im is not None for im in imgs]\n",
    "            valid_imgs = [im for im, ok in zip(imgs, valid_mask) if ok]\n",
    "            if len(valid_imgs) == 0:\n",
    "                for i, ok in zip(batch_idx, valid_mask):\n",
    "                    if not ok:\n",
    "                        result_df.at[i, rcol] = None\n",
    "                        result_df.at[i, dcol] = None\n",
    "                continue\n",
    "            \n",
    "            # Extract embeddings in batch\n",
    "            embed_start_time = time.time()\n",
    "            r_embs = self.embedding_extractor.extract_raddino_batch(valid_imgs)\n",
    "            d_embs = self.embedding_extractor.extract_dinov3_batch(valid_imgs)\n",
    "            embed_time = time.time() - embed_start_time\n",
    "            \n",
    "            # Store results back to dataframe\n",
    "            store_start_time = time.time()\n",
    "            valid_iter = iter(range(len(valid_imgs)))\n",
    "            for i, ok in zip(batch_idx, valid_mask):\n",
    "                if ok:\n",
    "                    j = next(valid_iter)\n",
    "                    if r_embs is not None and len(r_embs) > j:\n",
    "                        result_df.at[i, rcol] = r_embs[j].tolist()\n",
    "                    else:\n",
    "                        result_df.at[i, rcol] = None\n",
    "                        \n",
    "                    if d_embs is not None and len(d_embs) > j:\n",
    "                        result_df.at[i, dcol] = d_embs[j].tolist()\n",
    "                    else:\n",
    "                        result_df.at[i, dcol] = None\n",
    "                else:\n",
    "                    result_df.at[i, rcol] = None\n",
    "                    result_df.at[i, dcol] = None\n",
    "            store_time = time.time() - store_start_time\n",
    "            \n",
    "            # Memory cleanup\n",
    "            if torch.cuda.is_available():\n",
    "                torch.cuda.empty_cache()\n",
    "            gc.collect()\n",
    "            \n",
    "            batch_count += 1\n",
    "            batch_total_time = time.time() - batch_start_time\n",
    "            \n",
    "            # Save intermediate results periodically\n",
    "            if save_intermediate and (batch_count % intermediate_save_frequency == 0 or batch_count == total_batches):\n",
    "                result_df.to_parquet(intermediate_path, index=False)\n",
    "            \n",
    "            # Print timing every 10 batches\n",
    "            if batch_count % 10 == 0 or batch_count == total_batches:\n",
    "                print(f\"\\nBatch {batch_count}/{total_batches}: \"\n",
    "                      f\"Load={load_time:.2f}s, \"\n",
    "                      f\"Embed={embed_time:.2f}s, \"\n",
    "                      f\"Store={store_time:.2f}s, \"\n",
    "                      f\"Total={batch_total_time:.2f}s, \"\n",
    "                      f\"Images/sec={len(valid_imgs)/batch_total_time:.2f}\")\n",
    "                \n",
    "                # Estimate remaining time\n",
    "                if batch_count < total_batches:\n",
    "                    avg_batch_time = batch_total_time\n",
    "                    remaining_batches = total_batches - batch_count\n",
    "                    estimated_remaining_time = remaining_batches * avg_batch_time / 60  # in minutes\n",
    "                    print(f\"Estimated remaining time: {estimated_remaining_time:.1f} minutes\")\n",
    "        \n",
    "        return result_df\n",
    "        \n",
    "    def save_parquet_files(self, df, dataset_name, dot_size, output_dir=\"output\"):\n",
    "        \"\"\"Save separate parquet files for RadDiNo and DINOv3 embeddings\"\"\"\n",
    "        os.makedirs(output_dir, exist_ok=True)\n",
    "        \n",
    "        # Create separate dataframes for each model\n",
    "        raddino_df = df[['AccessionNumber_anon', 'ImagePath', 'ViewPosition', 'CLAHE', 'Cardiomegaly', 'noise', f'raddino_embedding_dot{dot_size}']].copy()\n",
    "        dinov3_df = df[['AccessionNumber_anon', 'ImagePath', 'ViewPosition', 'CLAHE', 'Cardiomegaly', 'noise', f'dinov3_embedding_dot{dot_size}']].copy()\n",
    "        \n",
    "        # Save parquet files\n",
    "        raddino_filename = f\"{output_dir}/raddino-{dataset_name}-dot{dot_size}.parquet\"\n",
    "        dinov3_filename = f\"{output_dir}/dinov3-{dataset_name}-dot{dot_size}.parquet\"\n",
    "        \n",
    "        raddino_df.to_parquet(raddino_filename, index=False)\n",
    "        dinov3_df.to_parquet(dinov3_filename, index=False)\n",
    "        \n",
    "        print(f\"Saved: {raddino_filename}\")\n",
    "        print(f\"Saved: {dinov3_filename}\")\n",
    "        \n",
    "        return raddino_filename, dinov3_filename\n",
    "    \n",
    "    def run_single_dot_size(self, train_csv_path, test_csv_path, dot_size, output_dir=\"output\", batch_size=32):\n",
    "        \"\"\"Run pipeline for a single dot size - allows for individual execution\"\"\"\n",
    "        print(f\"=\" * 60)\n",
    "        print(f\"PROCESSING DOT SIZE: {dot_size}x{dot_size}\")\n",
    "        print(f\"=\" * 60)\n",
    "        \n",
    "        # Initialize progress tracker\n",
    "        self.output_dir = output_dir\n",
    "        tracker = ProgressTracker(output_dir)\n",
    "        \n",
    "        # Load datasets\n",
    "        train_df, test_df = self.load_datasets(train_csv_path, test_csv_path)\n",
    "        \n",
    "        # Define task IDs\n",
    "        train_task = f\"train_dot{dot_size}\"\n",
    "        test_task = f\"test_dot{dot_size}\"\n",
    "        \n",
    "        # Process train dataset\n",
    "        if not tracker.is_task_completed(train_task):\n",
    "            print(f\"\\nProcessing train dataset for dot size {dot_size}...\")\n",
    "            tracker.set_current_task(train_task)\n",
    "            \n",
    "            train_result = self.extract_embeddings_for_dataset_batched(\n",
    "                train_df, \"train\", dot_size, batch_size=batch_size,\n",
    "                save_intermediate=True, intermediate_save_frequency=50\n",
    "            )\n",
    "            \n",
    "            self.save_parquet_files(train_result, \"train\", dot_size, output_dir)\n",
    "            tracker.mark_task_completed(train_task)\n",
    "            \n",
    "            del train_result\n",
    "            gc.collect()\n",
    "            if torch.cuda.is_available():\n",
    "                torch.cuda.empty_cache()\n",
    "        else:\n",
    "            print(f\"Train dataset for dot size {dot_size} already completed. Skipping...\")\n",
    "        \n",
    "        # Process test dataset\n",
    "        if not tracker.is_task_completed(test_task):\n",
    "            print(f\"\\nProcessing test dataset for dot size {dot_size}...\")\n",
    "            tracker.set_current_task(test_task)\n",
    "            \n",
    "            test_result = self.extract_embeddings_for_dataset_batched(\n",
    "                test_df, \"test\", dot_size, batch_size=batch_size,\n",
    "                save_intermediate=True, intermediate_save_frequency=50\n",
    "            )\n",
    "            \n",
    "            self.save_parquet_files(test_result, \"test\", dot_size, output_dir)\n",
    "            tracker.mark_task_completed(test_task)\n",
    "            \n",
    "            del test_result\n",
    "            gc.collect()\n",
    "            if torch.cuda.is_available():\n",
    "                torch.cuda.empty_cache()\n",
    "        else:\n",
    "            print(f\"Test dataset for dot size {dot_size} already completed. Skipping...\")\n",
    "        \n",
    "        print(f\"\\nCompleted processing for dot size {dot_size}\")\n",
    "        return True\n"
   ]
  },
  {
   "cell_type": "code",
   "execution_count": 3,
   "id": "8832151a-c734-4ebe-bda9-360fef6e7542",
   "metadata": {
    "scrolled": true
   },
   "outputs": [
    {
     "name": "stdout",
     "output_type": "stream",
     "text": [
      "Using device: cuda\n",
      "Loading RadDiNo model...\n"
     ]
    },
    {
     "name": "stderr",
     "output_type": "stream",
     "text": [
      "Fetching 1 files: 100%|██████████| 1/1 [00:00<00:00, 9754.20it/s]\n",
      "Using a slow image processor as `use_fast` is unset and a slow processor was saved with this model. `use_fast=True` will be the default behavior in v4.52, even if the model was saved with a slow processor. This will result in minor differences in outputs. You'll still be able to use a slow processor with `use_fast=False`.\n"
     ]
    },
    {
     "name": "stdout",
     "output_type": "stream",
     "text": [
      "RadDiNo model loaded successfully\n",
      "Loading DINOv3 model...\n"
     ]
    },
    {
     "name": "stderr",
     "output_type": "stream",
     "text": [
      "Fetching 1 files: 100%|██████████| 1/1 [00:00<00:00, 15650.39it/s]\n",
      "Loading checkpoint shards: 100%|██████████| 6/6 [00:00<00:00, 109.66it/s]\n"
     ]
    },
    {
     "name": "stdout",
     "output_type": "stream",
     "text": [
      "DINOv3 model loaded successfully\n",
      "============================================================\n",
      "PROCESSING DOT SIZE: 8x8\n",
      "============================================================\n",
      "Loading datasets...\n",
      "Train dataset shape: (109824, 6)\n",
      "Test dataset shape: (27456, 6)\n",
      "\n",
      "Processing train dataset for dot size 8...\n",
      "\n",
      "Extracting embeddings for train (dot=8) in batches of 12...\n"
     ]
    },
    {
     "name": "stderr",
     "output_type": "stream",
     "text": [
      "Processing train:   0%|          | 10/9152 [00:33<8:28:53,  3.34s/it]"
     ]
    },
    {
     "name": "stdout",
     "output_type": "stream",
     "text": [
      "\n",
      "Batch 10/9152: Load=1.63s, Embed=1.56s, Store=0.00s, Total=3.43s, Images/sec=3.49\n",
      "Estimated remaining time: 523.3 minutes\n"
     ]
    },
    {
     "name": "stderr",
     "output_type": "stream",
     "text": [
      "Processing train:   0%|          | 20/9152 [01:08<8:35:25,  3.39s/it]"
     ]
    },
    {
     "name": "stdout",
     "output_type": "stream",
     "text": [
      "\n",
      "Batch 20/9152: Load=1.62s, Embed=1.56s, Store=0.00s, Total=3.33s, Images/sec=3.60\n",
      "Estimated remaining time: 506.9 minutes\n"
     ]
    },
    {
     "name": "stderr",
     "output_type": "stream",
     "text": [
      "Processing train:   0%|          | 30/9152 [01:41<8:24:48,  3.32s/it]"
     ]
    },
    {
     "name": "stdout",
     "output_type": "stream",
     "text": [
      "\n",
      "Batch 30/9152: Load=1.64s, Embed=1.58s, Store=0.00s, Total=3.37s, Images/sec=3.56\n",
      "Estimated remaining time: 512.5 minutes\n"
     ]
    },
    {
     "name": "stderr",
     "output_type": "stream",
     "text": [
      "Processing train:   0%|          | 40/9152 [02:15<8:44:04,  3.45s/it]"
     ]
    },
    {
     "name": "stdout",
     "output_type": "stream",
     "text": [
      "\n",
      "Batch 40/9152: Load=1.58s, Embed=1.60s, Store=0.00s, Total=3.37s, Images/sec=3.56\n",
      "Estimated remaining time: 511.9 minutes\n"
     ]
    },
    {
     "name": "stderr",
     "output_type": "stream",
     "text": [
      "Processing train:   1%|          | 50/9152 [02:50<9:07:52,  3.61s/it]"
     ]
    },
    {
     "name": "stdout",
     "output_type": "stream",
     "text": [
      "\n",
      "Batch 50/9152: Load=1.67s, Embed=1.71s, Store=0.00s, Total=3.58s, Images/sec=3.35\n",
      "Estimated remaining time: 543.7 minutes\n"
     ]
    },
    {
     "name": "stderr",
     "output_type": "stream",
     "text": [
      "Processing train:   1%|          | 60/9152 [03:24<8:35:23,  3.40s/it]"
     ]
    },
    {
     "name": "stdout",
     "output_type": "stream",
     "text": [
      "\n",
      "Batch 60/9152: Load=1.58s, Embed=1.60s, Store=0.00s, Total=3.34s, Images/sec=3.60\n",
      "Estimated remaining time: 505.4 minutes\n"
     ]
    },
    {
     "name": "stderr",
     "output_type": "stream",
     "text": [
      "Processing train:   1%|          | 70/9152 [03:58<8:37:58,  3.42s/it]"
     ]
    },
    {
     "name": "stdout",
     "output_type": "stream",
     "text": [
      "\n",
      "Batch 70/9152: Load=1.68s, Embed=1.62s, Store=0.00s, Total=3.52s, Images/sec=3.41\n",
      "Estimated remaining time: 532.7 minutes\n"
     ]
    },
    {
     "name": "stderr",
     "output_type": "stream",
     "text": [
      "Processing train:   1%|          | 80/9152 [04:36<9:06:10,  3.61s/it]"
     ]
    },
    {
     "name": "stdout",
     "output_type": "stream",
     "text": [
      "\n",
      "Batch 80/9152: Load=1.67s, Embed=1.71s, Store=0.00s, Total=3.55s, Images/sec=3.38\n",
      "Estimated remaining time: 537.3 minutes\n"
     ]
    },
    {
     "name": "stderr",
     "output_type": "stream",
     "text": [
      "Processing train:   1%|          | 90/9152 [05:12<8:56:23,  3.55s/it]"
     ]
    },
    {
     "name": "stdout",
     "output_type": "stream",
     "text": [
      "\n",
      "Batch 90/9152: Load=1.69s, Embed=1.63s, Store=0.00s, Total=3.48s, Images/sec=3.44\n",
      "Estimated remaining time: 526.1 minutes\n"
     ]
    },
    {
     "name": "stderr",
     "output_type": "stream",
     "text": [
      "Processing train:   1%|          | 100/9152 [05:47<9:10:59,  3.65s/it]"
     ]
    },
    {
     "name": "stdout",
     "output_type": "stream",
     "text": [
      "\n",
      "Batch 100/9152: Load=1.77s, Embed=1.61s, Store=0.00s, Total=3.57s, Images/sec=3.36\n",
      "Estimated remaining time: 538.9 minutes\n"
     ]
    },
    {
     "name": "stderr",
     "output_type": "stream",
     "text": [
      "Processing train:   1%|          | 110/9152 [06:23<9:10:27,  3.65s/it]"
     ]
    },
    {
     "name": "stdout",
     "output_type": "stream",
     "text": [
      "\n",
      "Batch 110/9152: Load=1.82s, Embed=1.60s, Store=0.00s, Total=3.58s, Images/sec=3.35\n",
      "Estimated remaining time: 540.2 minutes\n"
     ]
    },
    {
     "name": "stderr",
     "output_type": "stream",
     "text": [
      "Processing train:   1%|▏         | 120/9152 [06:59<8:59:55,  3.59s/it]"
     ]
    },
    {
     "name": "stdout",
     "output_type": "stream",
     "text": [
      "\n",
      "Batch 120/9152: Load=1.64s, Embed=1.61s, Store=0.00s, Total=3.42s, Images/sec=3.50\n",
      "Estimated remaining time: 515.5 minutes\n"
     ]
    },
    {
     "name": "stderr",
     "output_type": "stream",
     "text": [
      "Processing train:   1%|▏         | 130/9152 [07:36<9:07:21,  3.64s/it]"
     ]
    },
    {
     "name": "stdout",
     "output_type": "stream",
     "text": [
      "\n",
      "Batch 130/9152: Load=1.77s, Embed=1.62s, Store=0.00s, Total=3.56s, Images/sec=3.37\n",
      "Estimated remaining time: 535.5 minutes\n"
     ]
    },
    {
     "name": "stderr",
     "output_type": "stream",
     "text": [
      "Processing train:   2%|▏         | 140/9152 [08:12<9:10:49,  3.67s/it]"
     ]
    },
    {
     "name": "stdout",
     "output_type": "stream",
     "text": [
      "\n",
      "Batch 140/9152: Load=1.90s, Embed=1.71s, Store=0.00s, Total=3.79s, Images/sec=3.17\n",
      "Estimated remaining time: 568.5 minutes\n"
     ]
    },
    {
     "name": "stderr",
     "output_type": "stream",
     "text": [
      "Processing train:   2%|▏         | 150/9152 [08:50<9:46:58,  3.91s/it]"
     ]
    },
    {
     "name": "stdout",
     "output_type": "stream",
     "text": [
      "\n",
      "Batch 150/9152: Load=1.88s, Embed=1.60s, Store=0.00s, Total=3.65s, Images/sec=3.28\n",
      "Estimated remaining time: 548.1 minutes\n"
     ]
    },
    {
     "name": "stderr",
     "output_type": "stream",
     "text": [
      "Processing train:   2%|▏         | 160/9152 [09:32<9:59:15,  4.00s/it] "
     ]
    },
    {
     "name": "stdout",
     "output_type": "stream",
     "text": [
      "\n",
      "Batch 160/9152: Load=1.75s, Embed=1.60s, Store=0.00s, Total=3.54s, Images/sec=3.39\n",
      "Estimated remaining time: 529.8 minutes\n"
     ]
    },
    {
     "name": "stderr",
     "output_type": "stream",
     "text": [
      "Processing train:   2%|▏         | 170/9152 [10:08<9:24:10,  3.77s/it]"
     ]
    },
    {
     "name": "stdout",
     "output_type": "stream",
     "text": [
      "\n",
      "Batch 170/9152: Load=1.79s, Embed=2.05s, Store=0.00s, Total=4.13s, Images/sec=2.91\n",
      "Estimated remaining time: 617.7 minutes\n"
     ]
    },
    {
     "name": "stderr",
     "output_type": "stream",
     "text": [
      "Processing train:   2%|▏         | 180/9152 [10:45<9:12:52,  3.70s/it]"
     ]
    },
    {
     "name": "stdout",
     "output_type": "stream",
     "text": [
      "\n",
      "Batch 180/9152: Load=1.86s, Embed=1.63s, Store=0.00s, Total=3.79s, Images/sec=3.16\n",
      "Estimated remaining time: 567.4 minutes\n"
     ]
    },
    {
     "name": "stderr",
     "output_type": "stream",
     "text": [
      "Processing train:   2%|▏         | 190/9152 [11:24<9:16:56,  3.73s/it]"
     ]
    },
    {
     "name": "stdout",
     "output_type": "stream",
     "text": [
      "\n",
      "Batch 190/9152: Load=1.91s, Embed=1.60s, Store=0.00s, Total=3.74s, Images/sec=3.21\n",
      "Estimated remaining time: 558.1 minutes\n"
     ]
    },
    {
     "name": "stderr",
     "output_type": "stream",
     "text": [
      "Processing train:   2%|▏         | 200/9152 [12:04<10:47:15,  4.34s/it]"
     ]
    },
    {
     "name": "stdout",
     "output_type": "stream",
     "text": [
      "\n",
      "Batch 200/9152: Load=1.86s, Embed=1.63s, Store=0.00s, Total=3.76s, Images/sec=3.19\n",
      "Estimated remaining time: 560.4 minutes\n"
     ]
    },
    {
     "name": "stderr",
     "output_type": "stream",
     "text": [
      "Processing train:   2%|▏         | 210/9152 [12:40<8:57:29,  3.61s/it] "
     ]
    },
    {
     "name": "stdout",
     "output_type": "stream",
     "text": [
      "\n",
      "Batch 210/9152: Load=1.76s, Embed=1.60s, Store=0.00s, Total=3.60s, Images/sec=3.34\n",
      "Estimated remaining time: 536.1 minutes\n"
     ]
    },
    {
     "name": "stderr",
     "output_type": "stream",
     "text": [
      "Processing train:   2%|▏         | 220/9152 [13:16<9:03:46,  3.65s/it]"
     ]
    },
    {
     "name": "stdout",
     "output_type": "stream",
     "text": [
      "\n",
      "Batch 220/9152: Load=1.74s, Embed=1.61s, Store=0.00s, Total=3.72s, Images/sec=3.22\n",
      "Estimated remaining time: 554.5 minutes\n"
     ]
    },
    {
     "name": "stderr",
     "output_type": "stream",
     "text": [
      "Processing train:   3%|▎         | 230/9152 [13:52<8:53:26,  3.59s/it]"
     ]
    },
    {
     "name": "stdout",
     "output_type": "stream",
     "text": [
      "\n",
      "Batch 230/9152: Load=1.77s, Embed=1.61s, Store=0.00s, Total=3.59s, Images/sec=3.35\n",
      "Estimated remaining time: 533.4 minutes\n"
     ]
    },
    {
     "name": "stderr",
     "output_type": "stream",
     "text": [
      "Processing train:   3%|▎         | 240/9152 [14:29<8:54:15,  3.60s/it]"
     ]
    },
    {
     "name": "stdout",
     "output_type": "stream",
     "text": [
      "\n",
      "Batch 240/9152: Load=1.70s, Embed=1.60s, Store=0.00s, Total=3.52s, Images/sec=3.41\n",
      "Estimated remaining time: 523.2 minutes\n"
     ]
    },
    {
     "name": "stderr",
     "output_type": "stream",
     "text": [
      "Processing train:   3%|▎         | 250/9152 [15:09<10:34:20,  4.28s/it]"
     ]
    },
    {
     "name": "stdout",
     "output_type": "stream",
     "text": [
      "\n",
      "Batch 250/9152: Load=1.72s, Embed=1.59s, Store=0.00s, Total=3.53s, Images/sec=3.40\n",
      "Estimated remaining time: 524.3 minutes\n"
     ]
    },
    {
     "name": "stderr",
     "output_type": "stream",
     "text": [
      "Processing train:   3%|▎         | 260/9152 [15:44<8:49:54,  3.58s/it] "
     ]
    },
    {
     "name": "stdout",
     "output_type": "stream",
     "text": [
      "\n",
      "Batch 260/9152: Load=1.66s, Embed=1.61s, Store=0.00s, Total=3.59s, Images/sec=3.34\n",
      "Estimated remaining time: 532.2 minutes\n"
     ]
    },
    {
     "name": "stderr",
     "output_type": "stream",
     "text": [
      "Processing train:   3%|▎         | 270/9152 [16:19<8:33:47,  3.47s/it]"
     ]
    },
    {
     "name": "stdout",
     "output_type": "stream",
     "text": [
      "\n",
      "Batch 270/9152: Load=1.71s, Embed=1.62s, Store=0.00s, Total=3.53s, Images/sec=3.40\n",
      "Estimated remaining time: 522.1 minutes\n"
     ]
    },
    {
     "name": "stderr",
     "output_type": "stream",
     "text": [
      "Processing train:   3%|▎         | 280/9152 [16:54<8:28:09,  3.44s/it]"
     ]
    },
    {
     "name": "stdout",
     "output_type": "stream",
     "text": [
      "\n",
      "Batch 280/9152: Load=1.56s, Embed=1.58s, Store=0.00s, Total=3.33s, Images/sec=3.60\n",
      "Estimated remaining time: 492.9 minutes\n"
     ]
    },
    {
     "name": "stderr",
     "output_type": "stream",
     "text": [
      "Processing train:   3%|▎         | 290/9152 [17:29<8:43:59,  3.55s/it]"
     ]
    },
    {
     "name": "stdout",
     "output_type": "stream",
     "text": [
      "\n",
      "Batch 290/9152: Load=1.66s, Embed=1.61s, Store=0.00s, Total=3.52s, Images/sec=3.41\n",
      "Estimated remaining time: 520.1 minutes\n"
     ]
    },
    {
     "name": "stderr",
     "output_type": "stream",
     "text": [
      "Processing train:   3%|▎         | 300/9152 [18:06<10:00:49,  4.07s/it]"
     ]
    },
    {
     "name": "stdout",
     "output_type": "stream",
     "text": [
      "\n",
      "Batch 300/9152: Load=1.68s, Embed=1.61s, Store=0.00s, Total=3.56s, Images/sec=3.37\n",
      "Estimated remaining time: 525.7 minutes\n"
     ]
    },
    {
     "name": "stderr",
     "output_type": "stream",
     "text": [
      "Processing train:   3%|▎         | 310/9152 [18:41<8:38:14,  3.52s/it] "
     ]
    },
    {
     "name": "stdout",
     "output_type": "stream",
     "text": [
      "\n",
      "Batch 310/9152: Load=1.60s, Embed=1.57s, Store=0.00s, Total=3.42s, Images/sec=3.51\n",
      "Estimated remaining time: 504.4 minutes\n"
     ]
    },
    {
     "name": "stderr",
     "output_type": "stream",
     "text": [
      "Processing train:   3%|▎         | 320/9152 [19:16<8:40:13,  3.53s/it]"
     ]
    },
    {
     "name": "stdout",
     "output_type": "stream",
     "text": [
      "\n",
      "Batch 320/9152: Load=1.64s, Embed=1.59s, Store=0.00s, Total=3.52s, Images/sec=3.41\n",
      "Estimated remaining time: 518.7 minutes\n"
     ]
    },
    {
     "name": "stderr",
     "output_type": "stream",
     "text": [
      "Processing train:   4%|▎         | 330/9152 [19:51<8:25:41,  3.44s/it]"
     ]
    },
    {
     "name": "stdout",
     "output_type": "stream",
     "text": [
      "\n",
      "Batch 330/9152: Load=1.61s, Embed=1.63s, Store=0.00s, Total=3.56s, Images/sec=3.37\n",
      "Estimated remaining time: 523.6 minutes\n"
     ]
    },
    {
     "name": "stderr",
     "output_type": "stream",
     "text": [
      "Processing train:   4%|▎         | 340/9152 [20:26<8:31:13,  3.48s/it]"
     ]
    },
    {
     "name": "stdout",
     "output_type": "stream",
     "text": [
      "\n",
      "Batch 340/9152: Load=1.68s, Embed=1.64s, Store=0.00s, Total=3.63s, Images/sec=3.31\n",
      "Estimated remaining time: 532.4 minutes\n"
     ]
    },
    {
     "name": "stderr",
     "output_type": "stream",
     "text": [
      "Processing train:   4%|▍         | 350/9152 [21:03<10:24:00,  4.25s/it]"
     ]
    },
    {
     "name": "stdout",
     "output_type": "stream",
     "text": [
      "\n",
      "Batch 350/9152: Load=1.68s, Embed=1.59s, Store=0.00s, Total=3.57s, Images/sec=3.36\n",
      "Estimated remaining time: 524.4 minutes\n"
     ]
    },
    {
     "name": "stderr",
     "output_type": "stream",
     "text": [
      "Processing train:   4%|▍         | 360/9152 [21:38<8:32:54,  3.50s/it] "
     ]
    },
    {
     "name": "stdout",
     "output_type": "stream",
     "text": [
      "\n",
      "Batch 360/9152: Load=1.55s, Embed=1.61s, Store=0.00s, Total=3.51s, Images/sec=3.42\n",
      "Estimated remaining time: 514.0 minutes\n"
     ]
    },
    {
     "name": "stderr",
     "output_type": "stream",
     "text": [
      "Processing train:   4%|▍         | 370/9152 [22:13<8:24:51,  3.45s/it]"
     ]
    },
    {
     "name": "stdout",
     "output_type": "stream",
     "text": [
      "\n",
      "Batch 370/9152: Load=1.56s, Embed=1.59s, Store=0.00s, Total=3.41s, Images/sec=3.52\n",
      "Estimated remaining time: 499.1 minutes\n"
     ]
    },
    {
     "name": "stderr",
     "output_type": "stream",
     "text": [
      "Processing train:   4%|▍         | 380/9152 [22:49<8:38:41,  3.55s/it]"
     ]
    },
    {
     "name": "stdout",
     "output_type": "stream",
     "text": [
      "\n",
      "Batch 380/9152: Load=1.58s, Embed=1.62s, Store=0.00s, Total=3.58s, Images/sec=3.35\n",
      "Estimated remaining time: 523.2 minutes\n"
     ]
    },
    {
     "name": "stderr",
     "output_type": "stream",
     "text": [
      "Processing train:   4%|▍         | 390/9152 [23:25<8:25:43,  3.46s/it]"
     ]
    },
    {
     "name": "stdout",
     "output_type": "stream",
     "text": [
      "\n",
      "Batch 390/9152: Load=1.62s, Embed=1.58s, Store=0.00s, Total=3.46s, Images/sec=3.47\n",
      "Estimated remaining time: 505.0 minutes\n"
     ]
    },
    {
     "name": "stderr",
     "output_type": "stream",
     "text": [
      "Processing train:   4%|▍         | 400/9152 [24:01<9:59:34,  4.11s/it]"
     ]
    },
    {
     "name": "stdout",
     "output_type": "stream",
     "text": [
      "\n",
      "Batch 400/9152: Load=1.73s, Embed=1.67s, Store=0.00s, Total=3.75s, Images/sec=3.20\n",
      "Estimated remaining time: 546.3 minutes\n"
     ]
    },
    {
     "name": "stderr",
     "output_type": "stream",
     "text": [
      "Processing train:   4%|▍         | 410/9152 [24:37<8:43:55,  3.60s/it]"
     ]
    },
    {
     "name": "stdout",
     "output_type": "stream",
     "text": [
      "\n",
      "Batch 410/9152: Load=1.59s, Embed=1.61s, Store=0.00s, Total=3.51s, Images/sec=3.42\n",
      "Estimated remaining time: 511.0 minutes\n"
     ]
    },
    {
     "name": "stderr",
     "output_type": "stream",
     "text": [
      "Processing train:   5%|▍         | 420/9152 [25:12<8:23:07,  3.46s/it]"
     ]
    },
    {
     "name": "stdout",
     "output_type": "stream",
     "text": [
      "\n",
      "Batch 420/9152: Load=1.60s, Embed=1.60s, Store=0.00s, Total=3.45s, Images/sec=3.48\n",
      "Estimated remaining time: 502.4 minutes\n"
     ]
    },
    {
     "name": "stderr",
     "output_type": "stream",
     "text": [
      "Processing train:   5%|▍         | 430/9152 [25:47<8:27:00,  3.49s/it]"
     ]
    },
    {
     "name": "stdout",
     "output_type": "stream",
     "text": [
      "\n",
      "Batch 430/9152: Load=1.63s, Embed=1.62s, Store=0.00s, Total=3.50s, Images/sec=3.43\n",
      "Estimated remaining time: 509.1 minutes\n"
     ]
    },
    {
     "name": "stderr",
     "output_type": "stream",
     "text": [
      "Processing train:   5%|▍         | 440/9152 [26:22<8:26:34,  3.49s/it]"
     ]
    },
    {
     "name": "stdout",
     "output_type": "stream",
     "text": [
      "\n",
      "Batch 440/9152: Load=1.67s, Embed=1.59s, Store=0.00s, Total=3.51s, Images/sec=3.42\n",
      "Estimated remaining time: 509.4 minutes\n"
     ]
    },
    {
     "name": "stderr",
     "output_type": "stream",
     "text": [
      "Processing train:   5%|▍         | 450/9152 [26:59<9:42:43,  4.02s/it]"
     ]
    },
    {
     "name": "stdout",
     "output_type": "stream",
     "text": [
      "\n",
      "Batch 450/9152: Load=1.50s, Embed=1.59s, Store=0.00s, Total=3.35s, Images/sec=3.58\n",
      "Estimated remaining time: 486.2 minutes\n"
     ]
    },
    {
     "name": "stderr",
     "output_type": "stream",
     "text": [
      "Processing train:   5%|▌         | 460/9152 [27:34<8:38:02,  3.58s/it]"
     ]
    },
    {
     "name": "stdout",
     "output_type": "stream",
     "text": [
      "\n",
      "Batch 460/9152: Load=1.59s, Embed=1.70s, Store=0.00s, Total=3.63s, Images/sec=3.30\n",
      "Estimated remaining time: 526.5 minutes\n"
     ]
    },
    {
     "name": "stderr",
     "output_type": "stream",
     "text": [
      "Processing train:   5%|▌         | 470/9152 [28:09<8:13:01,  3.41s/it]"
     ]
    },
    {
     "name": "stdout",
     "output_type": "stream",
     "text": [
      "\n",
      "Batch 470/9152: Load=1.48s, Embed=1.59s, Store=0.00s, Total=3.32s, Images/sec=3.61\n",
      "Estimated remaining time: 480.3 minutes\n"
     ]
    },
    {
     "name": "stderr",
     "output_type": "stream",
     "text": [
      "Processing train:   5%|▌         | 480/9152 [28:43<8:18:40,  3.45s/it]"
     ]
    },
    {
     "name": "stdout",
     "output_type": "stream",
     "text": [
      "\n",
      "Batch 480/9152: Load=1.52s, Embed=1.61s, Store=0.00s, Total=3.38s, Images/sec=3.55\n",
      "Estimated remaining time: 487.9 minutes\n"
     ]
    },
    {
     "name": "stderr",
     "output_type": "stream",
     "text": [
      "Processing train:   5%|▌         | 490/9152 [29:18<8:24:42,  3.50s/it]"
     ]
    },
    {
     "name": "stdout",
     "output_type": "stream",
     "text": [
      "\n",
      "Batch 490/9152: Load=1.66s, Embed=1.62s, Store=0.00s, Total=3.55s, Images/sec=3.38\n",
      "Estimated remaining time: 512.6 minutes\n"
     ]
    },
    {
     "name": "stderr",
     "output_type": "stream",
     "text": [
      "Processing train:   5%|▌         | 500/9152 [29:55<9:54:43,  4.12s/it]"
     ]
    },
    {
     "name": "stdout",
     "output_type": "stream",
     "text": [
      "\n",
      "Batch 500/9152: Load=1.61s, Embed=1.62s, Store=0.00s, Total=3.48s, Images/sec=3.45\n",
      "Estimated remaining time: 502.1 minutes\n"
     ]
    },
    {
     "name": "stderr",
     "output_type": "stream",
     "text": [
      "Processing train:   6%|▌         | 510/9152 [30:30<8:33:28,  3.56s/it]"
     ]
    },
    {
     "name": "stdout",
     "output_type": "stream",
     "text": [
      "\n",
      "Batch 510/9152: Load=1.63s, Embed=1.60s, Store=0.00s, Total=3.49s, Images/sec=3.44\n",
      "Estimated remaining time: 502.8 minutes\n"
     ]
    },
    {
     "name": "stderr",
     "output_type": "stream",
     "text": [
      "Processing train:   6%|▌         | 520/9152 [31:06<8:34:23,  3.58s/it]"
     ]
    },
    {
     "name": "stdout",
     "output_type": "stream",
     "text": [
      "\n",
      "Batch 520/9152: Load=1.52s, Embed=1.61s, Store=0.00s, Total=3.52s, Images/sec=3.41\n",
      "Estimated remaining time: 505.8 minutes\n"
     ]
    },
    {
     "name": "stderr",
     "output_type": "stream",
     "text": [
      "Processing train:   6%|▌         | 530/9152 [31:42<8:34:28,  3.58s/it]"
     ]
    },
    {
     "name": "stdout",
     "output_type": "stream",
     "text": [
      "\n",
      "Batch 530/9152: Load=1.50s, Embed=1.60s, Store=0.00s, Total=3.44s, Images/sec=3.49\n",
      "Estimated remaining time: 494.7 minutes\n"
     ]
    },
    {
     "name": "stderr",
     "output_type": "stream",
     "text": [
      "Processing train:   6%|▌         | 540/9152 [32:18<8:35:27,  3.59s/it]"
     ]
    },
    {
     "name": "stdout",
     "output_type": "stream",
     "text": [
      "\n",
      "Batch 540/9152: Load=1.65s, Embed=1.60s, Store=0.00s, Total=3.56s, Images/sec=3.37\n",
      "Estimated remaining time: 511.1 minutes\n"
     ]
    },
    {
     "name": "stderr",
     "output_type": "stream",
     "text": [
      "Processing train:   6%|▌         | 550/9152 [32:56<10:02:18,  4.20s/it]"
     ]
    },
    {
     "name": "stdout",
     "output_type": "stream",
     "text": [
      "\n",
      "Batch 550/9152: Load=1.55s, Embed=1.59s, Store=0.00s, Total=3.51s, Images/sec=3.42\n",
      "Estimated remaining time: 503.5 minutes\n"
     ]
    },
    {
     "name": "stderr",
     "output_type": "stream",
     "text": [
      "Processing train:   6%|▌         | 560/9152 [33:31<8:30:25,  3.56s/it] "
     ]
    },
    {
     "name": "stdout",
     "output_type": "stream",
     "text": [
      "\n",
      "Batch 560/9152: Load=1.59s, Embed=1.61s, Store=0.00s, Total=3.52s, Images/sec=3.41\n",
      "Estimated remaining time: 504.5 minutes\n"
     ]
    },
    {
     "name": "stderr",
     "output_type": "stream",
     "text": [
      "Processing train:   6%|▌         | 570/9152 [34:07<8:24:01,  3.52s/it]"
     ]
    },
    {
     "name": "stdout",
     "output_type": "stream",
     "text": [
      "\n",
      "Batch 570/9152: Load=1.52s, Embed=1.61s, Store=0.00s, Total=3.46s, Images/sec=3.47\n",
      "Estimated remaining time: 494.4 minutes\n"
     ]
    },
    {
     "name": "stderr",
     "output_type": "stream",
     "text": [
      "Processing train:   6%|▋         | 580/9152 [34:43<8:31:19,  3.58s/it]"
     ]
    },
    {
     "name": "stdout",
     "output_type": "stream",
     "text": [
      "\n",
      "Batch 580/9152: Load=1.53s, Embed=1.61s, Store=0.00s, Total=3.51s, Images/sec=3.42\n",
      "Estimated remaining time: 501.9 minutes\n"
     ]
    },
    {
     "name": "stderr",
     "output_type": "stream",
     "text": [
      "Processing train:   6%|▋         | 590/9152 [35:20<8:35:07,  3.61s/it]"
     ]
    },
    {
     "name": "stdout",
     "output_type": "stream",
     "text": [
      "\n",
      "Batch 590/9152: Load=1.57s, Embed=1.61s, Store=0.00s, Total=3.55s, Images/sec=3.38\n",
      "Estimated remaining time: 507.0 minutes\n"
     ]
    },
    {
     "name": "stderr",
     "output_type": "stream",
     "text": [
      "Processing train:   7%|▋         | 600/9152 [35:58<10:28:17,  4.41s/it]"
     ]
    },
    {
     "name": "stdout",
     "output_type": "stream",
     "text": [
      "\n",
      "Batch 600/9152: Load=1.56s, Embed=1.61s, Store=0.00s, Total=3.52s, Images/sec=3.41\n",
      "Estimated remaining time: 502.0 minutes\n"
     ]
    },
    {
     "name": "stderr",
     "output_type": "stream",
     "text": [
      "Processing train:   7%|▋         | 610/9152 [36:34<8:32:25,  3.60s/it] "
     ]
    },
    {
     "name": "stdout",
     "output_type": "stream",
     "text": [
      "\n",
      "Batch 610/9152: Load=1.63s, Embed=1.69s, Store=0.00s, Total=3.64s, Images/sec=3.29\n",
      "Estimated remaining time: 518.7 minutes\n"
     ]
    },
    {
     "name": "stderr",
     "output_type": "stream",
     "text": [
      "Processing train:   7%|▋         | 620/9152 [37:13<8:58:39,  3.79s/it]"
     ]
    },
    {
     "name": "stdout",
     "output_type": "stream",
     "text": [
      "\n",
      "Batch 620/9152: Load=1.68s, Embed=1.68s, Store=0.00s, Total=3.74s, Images/sec=3.21\n",
      "Estimated remaining time: 531.5 minutes\n"
     ]
    },
    {
     "name": "stderr",
     "output_type": "stream",
     "text": [
      "Processing train:   7%|▋         | 630/9152 [37:50<8:44:34,  3.69s/it]"
     ]
    },
    {
     "name": "stdout",
     "output_type": "stream",
     "text": [
      "\n",
      "Batch 630/9152: Load=1.73s, Embed=1.67s, Store=0.00s, Total=3.77s, Images/sec=3.18\n",
      "Estimated remaining time: 536.0 minutes\n"
     ]
    },
    {
     "name": "stderr",
     "output_type": "stream",
     "text": [
      "Processing train:   7%|▋         | 640/9152 [38:29<9:49:22,  4.15s/it]"
     ]
    },
    {
     "name": "stdout",
     "output_type": "stream",
     "text": [
      "\n",
      "Batch 640/9152: Load=2.66s, Embed=1.73s, Store=0.00s, Total=4.81s, Images/sec=2.49\n",
      "Estimated remaining time: 682.3 minutes\n"
     ]
    },
    {
     "name": "stderr",
     "output_type": "stream",
     "text": [
      "Processing train:   7%|▋         | 650/9152 [39:10<10:31:31,  4.46s/it]"
     ]
    },
    {
     "name": "stdout",
     "output_type": "stream",
     "text": [
      "\n",
      "Batch 650/9152: Load=1.68s, Embed=1.60s, Store=0.00s, Total=3.60s, Images/sec=3.33\n",
      "Estimated remaining time: 510.0 minutes\n"
     ]
    },
    {
     "name": "stderr",
     "output_type": "stream",
     "text": [
      "Processing train:   7%|▋         | 660/9152 [39:48<9:11:50,  3.90s/it] "
     ]
    },
    {
     "name": "stdout",
     "output_type": "stream",
     "text": [
      "\n",
      "Batch 660/9152: Load=1.88s, Embed=1.61s, Store=0.00s, Total=3.89s, Images/sec=3.08\n",
      "Estimated remaining time: 550.9 minutes\n"
     ]
    },
    {
     "name": "stderr",
     "output_type": "stream",
     "text": [
      "Processing train:   7%|▋         | 670/9152 [40:26<8:58:15,  3.81s/it]"
     ]
    },
    {
     "name": "stdout",
     "output_type": "stream",
     "text": [
      "\n",
      "Batch 670/9152: Load=1.97s, Embed=1.62s, Store=0.00s, Total=3.88s, Images/sec=3.09\n",
      "Estimated remaining time: 548.2 minutes\n"
     ]
    },
    {
     "name": "stderr",
     "output_type": "stream",
     "text": [
      "Processing train:   7%|▋         | 680/9152 [41:05<9:01:32,  3.84s/it]"
     ]
    },
    {
     "name": "stdout",
     "output_type": "stream",
     "text": [
      "\n",
      "Batch 680/9152: Load=1.89s, Embed=1.63s, Store=0.00s, Total=3.83s, Images/sec=3.14\n",
      "Estimated remaining time: 540.3 minutes\n"
     ]
    },
    {
     "name": "stderr",
     "output_type": "stream",
     "text": [
      "Processing train:   8%|▊         | 690/9152 [41:42<8:44:51,  3.72s/it]"
     ]
    },
    {
     "name": "stdout",
     "output_type": "stream",
     "text": [
      "\n",
      "Batch 690/9152: Load=1.80s, Embed=1.61s, Store=0.00s, Total=3.73s, Images/sec=3.22\n",
      "Estimated remaining time: 525.7 minutes\n"
     ]
    },
    {
     "name": "stderr",
     "output_type": "stream",
     "text": [
      "Processing train:   8%|▊         | 700/9152 [42:25<12:25:30,  5.29s/it]"
     ]
    },
    {
     "name": "stdout",
     "output_type": "stream",
     "text": [
      "\n",
      "Batch 700/9152: Load=1.58s, Embed=1.61s, Store=0.00s, Total=3.48s, Images/sec=3.44\n",
      "Estimated remaining time: 490.7 minutes\n"
     ]
    },
    {
     "name": "stderr",
     "output_type": "stream",
     "text": [
      "Processing train:   8%|▊         | 710/9152 [43:02<8:27:11,  3.60s/it] "
     ]
    },
    {
     "name": "stdout",
     "output_type": "stream",
     "text": [
      "\n",
      "Batch 710/9152: Load=1.66s, Embed=1.62s, Store=0.00s, Total=3.57s, Images/sec=3.36\n",
      "Estimated remaining time: 502.3 minutes\n"
     ]
    },
    {
     "name": "stderr",
     "output_type": "stream",
     "text": [
      "Processing train:   8%|▊         | 720/9152 [43:37<8:15:35,  3.53s/it]"
     ]
    },
    {
     "name": "stdout",
     "output_type": "stream",
     "text": [
      "\n",
      "Batch 720/9152: Load=1.53s, Embed=1.60s, Store=0.00s, Total=3.43s, Images/sec=3.50\n",
      "Estimated remaining time: 482.4 minutes\n"
     ]
    },
    {
     "name": "stderr",
     "output_type": "stream",
     "text": [
      "Processing train:   8%|▊         | 730/9152 [44:12<8:14:11,  3.52s/it]"
     ]
    },
    {
     "name": "stdout",
     "output_type": "stream",
     "text": [
      "\n",
      "Batch 730/9152: Load=1.60s, Embed=1.62s, Store=0.00s, Total=3.51s, Images/sec=3.42\n",
      "Estimated remaining time: 493.2 minutes\n"
     ]
    },
    {
     "name": "stderr",
     "output_type": "stream",
     "text": [
      "Processing train:   8%|▊         | 740/9152 [44:48<8:21:29,  3.58s/it]"
     ]
    },
    {
     "name": "stdout",
     "output_type": "stream",
     "text": [
      "\n",
      "Batch 740/9152: Load=1.65s, Embed=1.59s, Store=0.00s, Total=3.64s, Images/sec=3.30\n",
      "Estimated remaining time: 509.9 minutes\n"
     ]
    },
    {
     "name": "stderr",
     "output_type": "stream",
     "text": [
      "Processing train:   8%|▊         | 750/9152 [45:28<11:37:51,  4.98s/it]"
     ]
    },
    {
     "name": "stdout",
     "output_type": "stream",
     "text": [
      "\n",
      "Batch 750/9152: Load=1.51s, Embed=1.60s, Store=0.00s, Total=3.47s, Images/sec=3.46\n",
      "Estimated remaining time: 485.3 minutes\n"
     ]
    },
    {
     "name": "stderr",
     "output_type": "stream",
     "text": [
      "Processing train:   8%|▊         | 760/9152 [46:04<8:19:10,  3.57s/it] "
     ]
    },
    {
     "name": "stdout",
     "output_type": "stream",
     "text": [
      "\n",
      "Batch 760/9152: Load=1.59s, Embed=1.60s, Store=0.00s, Total=3.49s, Images/sec=3.44\n",
      "Estimated remaining time: 487.7 minutes\n"
     ]
    },
    {
     "name": "stderr",
     "output_type": "stream",
     "text": [
      "Processing train:   8%|▊         | 770/9152 [46:39<8:07:15,  3.49s/it]"
     ]
    },
    {
     "name": "stdout",
     "output_type": "stream",
     "text": [
      "\n",
      "Batch 770/9152: Load=1.56s, Embed=1.60s, Store=0.00s, Total=3.47s, Images/sec=3.46\n",
      "Estimated remaining time: 484.6 minutes\n"
     ]
    },
    {
     "name": "stderr",
     "output_type": "stream",
     "text": [
      "Processing train:   9%|▊         | 780/9152 [47:16<8:23:05,  3.61s/it]"
     ]
    },
    {
     "name": "stdout",
     "output_type": "stream",
     "text": [
      "\n",
      "Batch 780/9152: Load=1.67s, Embed=1.60s, Store=0.00s, Total=3.58s, Images/sec=3.35\n",
      "Estimated remaining time: 499.2 minutes\n"
     ]
    },
    {
     "name": "stderr",
     "output_type": "stream",
     "text": [
      "Processing train:   9%|▊         | 790/9152 [47:51<8:26:23,  3.63s/it]"
     ]
    },
    {
     "name": "stdout",
     "output_type": "stream",
     "text": [
      "\n",
      "Batch 790/9152: Load=1.66s, Embed=1.61s, Store=0.00s, Total=3.67s, Images/sec=3.27\n",
      "Estimated remaining time: 511.8 minutes\n"
     ]
    },
    {
     "name": "stderr",
     "output_type": "stream",
     "text": [
      "Processing train:   9%|▊         | 800/9152 [48:33<11:20:01,  4.89s/it]"
     ]
    },
    {
     "name": "stdout",
     "output_type": "stream",
     "text": [
      "\n",
      "Batch 800/9152: Load=1.64s, Embed=1.71s, Store=0.00s, Total=4.00s, Images/sec=3.00\n",
      "Estimated remaining time: 556.6 minutes\n"
     ]
    },
    {
     "name": "stderr",
     "output_type": "stream",
     "text": [
      "Processing train:   9%|▉         | 810/9152 [49:10<8:56:42,  3.86s/it] "
     ]
    },
    {
     "name": "stdout",
     "output_type": "stream",
     "text": [
      "\n",
      "Batch 810/9152: Load=1.73s, Embed=1.70s, Store=0.00s, Total=4.15s, Images/sec=2.89\n",
      "Estimated remaining time: 577.2 minutes\n"
     ]
    },
    {
     "name": "stderr",
     "output_type": "stream",
     "text": [
      "Processing train:   9%|▉         | 820/9152 [49:48<8:23:35,  3.63s/it]"
     ]
    },
    {
     "name": "stdout",
     "output_type": "stream",
     "text": [
      "\n",
      "Batch 820/9152: Load=1.59s, Embed=1.61s, Store=0.00s, Total=3.59s, Images/sec=3.34\n",
      "Estimated remaining time: 498.3 minutes\n"
     ]
    },
    {
     "name": "stderr",
     "output_type": "stream",
     "text": [
      "Processing train:   9%|▉         | 830/9152 [50:26<8:40:50,  3.76s/it]"
     ]
    },
    {
     "name": "stdout",
     "output_type": "stream",
     "text": [
      "\n",
      "Batch 830/9152: Load=1.62s, Embed=1.62s, Store=0.00s, Total=3.62s, Images/sec=3.32\n",
      "Estimated remaining time: 501.8 minutes\n"
     ]
    },
    {
     "name": "stderr",
     "output_type": "stream",
     "text": [
      "Processing train:   9%|▉         | 840/9152 [51:03<8:32:51,  3.70s/it]"
     ]
    },
    {
     "name": "stdout",
     "output_type": "stream",
     "text": [
      "\n",
      "Batch 840/9152: Load=1.56s, Embed=1.59s, Store=0.00s, Total=3.55s, Images/sec=3.38\n",
      "Estimated remaining time: 491.1 minutes\n"
     ]
    },
    {
     "name": "stderr",
     "output_type": "stream",
     "text": [
      "Processing train:   9%|▉         | 850/9152 [51:44<11:13:21,  4.87s/it]"
     ]
    },
    {
     "name": "stdout",
     "output_type": "stream",
     "text": [
      "\n",
      "Batch 850/9152: Load=1.59s, Embed=1.71s, Store=0.00s, Total=3.92s, Images/sec=3.06\n",
      "Estimated remaining time: 541.9 minutes\n"
     ]
    },
    {
     "name": "stderr",
     "output_type": "stream",
     "text": [
      "Processing train:   9%|▉         | 860/9152 [52:20<8:43:29,  3.79s/it] "
     ]
    },
    {
     "name": "stdout",
     "output_type": "stream",
     "text": [
      "\n",
      "Batch 860/9152: Load=1.58s, Embed=1.69s, Store=0.00s, Total=4.02s, Images/sec=2.99\n",
      "Estimated remaining time: 555.0 minutes\n"
     ]
    },
    {
     "name": "stderr",
     "output_type": "stream",
     "text": [
      "Processing train:  10%|▉         | 870/9152 [52:57<8:22:51,  3.64s/it]"
     ]
    },
    {
     "name": "stdout",
     "output_type": "stream",
     "text": [
      "\n",
      "Batch 870/9152: Load=1.75s, Embed=1.61s, Store=0.00s, Total=3.70s, Images/sec=3.24\n",
      "Estimated remaining time: 511.3 minutes\n"
     ]
    },
    {
     "name": "stderr",
     "output_type": "stream",
     "text": [
      "Processing train:  10%|▉         | 880/9152 [53:34<8:32:32,  3.72s/it]"
     ]
    },
    {
     "name": "stdout",
     "output_type": "stream",
     "text": [
      "\n",
      "Batch 880/9152: Load=1.75s, Embed=1.61s, Store=0.00s, Total=3.71s, Images/sec=3.23\n",
      "Estimated remaining time: 511.7 minutes\n"
     ]
    },
    {
     "name": "stderr",
     "output_type": "stream",
     "text": [
      "Processing train:  10%|▉         | 890/9152 [54:10<8:15:09,  3.60s/it]"
     ]
    },
    {
     "name": "stdout",
     "output_type": "stream",
     "text": [
      "\n",
      "Batch 890/9152: Load=1.56s, Embed=1.63s, Store=0.00s, Total=3.58s, Images/sec=3.35\n",
      "Estimated remaining time: 492.8 minutes\n"
     ]
    },
    {
     "name": "stderr",
     "output_type": "stream",
     "text": [
      "Processing train:  10%|▉         | 900/9152 [54:50<10:37:17,  4.63s/it]"
     ]
    },
    {
     "name": "stdout",
     "output_type": "stream",
     "text": [
      "\n",
      "Batch 900/9152: Load=1.60s, Embed=1.63s, Store=0.00s, Total=3.56s, Images/sec=3.37\n",
      "Estimated remaining time: 489.4 minutes\n"
     ]
    },
    {
     "name": "stderr",
     "output_type": "stream",
     "text": [
      "Processing train:  10%|▉         | 910/9152 [55:29<8:47:21,  3.84s/it] "
     ]
    },
    {
     "name": "stdout",
     "output_type": "stream",
     "text": [
      "\n",
      "Batch 910/9152: Load=1.85s, Embed=1.60s, Store=0.00s, Total=3.79s, Images/sec=3.17\n",
      "Estimated remaining time: 520.5 minutes\n"
     ]
    },
    {
     "name": "stderr",
     "output_type": "stream",
     "text": [
      "Processing train:  10%|█         | 920/9152 [56:06<8:37:23,  3.77s/it]"
     ]
    },
    {
     "name": "stdout",
     "output_type": "stream",
     "text": [
      "\n",
      "Batch 920/9152: Load=1.58s, Embed=1.62s, Store=0.00s, Total=3.64s, Images/sec=3.29\n",
      "Estimated remaining time: 499.8 minutes\n"
     ]
    },
    {
     "name": "stderr",
     "output_type": "stream",
     "text": [
      "Processing train:  10%|█         | 930/9152 [56:42<8:15:26,  3.62s/it]"
     ]
    },
    {
     "name": "stdout",
     "output_type": "stream",
     "text": [
      "\n",
      "Batch 930/9152: Load=1.63s, Embed=1.60s, Store=0.00s, Total=3.58s, Images/sec=3.35\n",
      "Estimated remaining time: 490.8 minutes\n"
     ]
    },
    {
     "name": "stderr",
     "output_type": "stream",
     "text": [
      "Processing train:  10%|█         | 940/9152 [57:19<8:32:27,  3.74s/it]"
     ]
    },
    {
     "name": "stdout",
     "output_type": "stream",
     "text": [
      "\n",
      "Batch 940/9152: Load=1.53s, Embed=1.71s, Store=0.00s, Total=3.75s, Images/sec=3.20\n",
      "Estimated remaining time: 513.5 minutes\n"
     ]
    },
    {
     "name": "stderr",
     "output_type": "stream",
     "text": [
      "Processing train:  10%|█         | 950/9152 [58:02<11:08:41,  4.89s/it]"
     ]
    },
    {
     "name": "stdout",
     "output_type": "stream",
     "text": [
      "\n",
      "Batch 950/9152: Load=1.58s, Embed=1.60s, Store=0.00s, Total=3.63s, Images/sec=3.31\n",
      "Estimated remaining time: 496.2 minutes\n"
     ]
    },
    {
     "name": "stderr",
     "output_type": "stream",
     "text": [
      "Processing train:  10%|█         | 960/9152 [58:38<8:28:42,  3.73s/it] "
     ]
    },
    {
     "name": "stdout",
     "output_type": "stream",
     "text": [
      "\n",
      "Batch 960/9152: Load=1.68s, Embed=1.61s, Store=0.00s, Total=3.82s, Images/sec=3.14\n",
      "Estimated remaining time: 521.2 minutes\n"
     ]
    },
    {
     "name": "stderr",
     "output_type": "stream",
     "text": [
      "Processing train:  11%|█         | 970/9152 [59:14<8:12:42,  3.61s/it]"
     ]
    },
    {
     "name": "stdout",
     "output_type": "stream",
     "text": [
      "\n",
      "Batch 970/9152: Load=1.58s, Embed=1.63s, Store=0.00s, Total=3.65s, Images/sec=3.29\n",
      "Estimated remaining time: 498.1 minutes\n"
     ]
    },
    {
     "name": "stderr",
     "output_type": "stream",
     "text": [
      "Processing train:  11%|█         | 980/9152 [59:50<8:06:36,  3.57s/it]"
     ]
    },
    {
     "name": "stdout",
     "output_type": "stream",
     "text": [
      "\n",
      "Batch 980/9152: Load=1.54s, Embed=1.59s, Store=0.00s, Total=3.48s, Images/sec=3.45\n",
      "Estimated remaining time: 473.7 minutes\n"
     ]
    },
    {
     "name": "stderr",
     "output_type": "stream",
     "text": [
      "Processing train:  11%|█         | 990/9152 [1:00:27<8:08:51,  3.59s/it]"
     ]
    },
    {
     "name": "stdout",
     "output_type": "stream",
     "text": [
      "\n",
      "Batch 990/9152: Load=1.62s, Embed=1.60s, Store=0.00s, Total=3.57s, Images/sec=3.36\n",
      "Estimated remaining time: 485.2 minutes\n"
     ]
    },
    {
     "name": "stderr",
     "output_type": "stream",
     "text": [
      "Processing train:  11%|█         | 1000/9152 [1:01:07<11:15:41,  4.97s/it]"
     ]
    },
    {
     "name": "stdout",
     "output_type": "stream",
     "text": [
      "\n",
      "Batch 1000/9152: Load=1.68s, Embed=1.67s, Store=0.01s, Total=3.99s, Images/sec=3.01\n",
      "Estimated remaining time: 542.3 minutes\n"
     ]
    },
    {
     "name": "stderr",
     "output_type": "stream",
     "text": [
      "Processing train:  11%|█         | 1010/9152 [1:01:43<8:17:06,  3.66s/it] "
     ]
    },
    {
     "name": "stdout",
     "output_type": "stream",
     "text": [
      "\n",
      "Batch 1010/9152: Load=1.64s, Embed=1.59s, Store=0.00s, Total=3.77s, Images/sec=3.18\n",
      "Estimated remaining time: 511.8 minutes\n"
     ]
    },
    {
     "name": "stderr",
     "output_type": "stream",
     "text": [
      "Processing train:  11%|█         | 1020/9152 [1:02:19<8:06:37,  3.59s/it]"
     ]
    },
    {
     "name": "stdout",
     "output_type": "stream",
     "text": [
      "\n",
      "Batch 1020/9152: Load=1.59s, Embed=1.61s, Store=0.00s, Total=3.57s, Images/sec=3.36\n",
      "Estimated remaining time: 484.4 minutes\n"
     ]
    },
    {
     "name": "stderr",
     "output_type": "stream",
     "text": [
      "Processing train:  11%|█▏        | 1030/9152 [1:02:54<8:01:22,  3.56s/it]"
     ]
    },
    {
     "name": "stdout",
     "output_type": "stream",
     "text": [
      "\n",
      "Batch 1030/9152: Load=1.55s, Embed=1.61s, Store=0.00s, Total=3.53s, Images/sec=3.39\n",
      "Estimated remaining time: 478.5 minutes\n"
     ]
    },
    {
     "name": "stderr",
     "output_type": "stream",
     "text": [
      "Processing train:  11%|█▏        | 1040/9152 [1:03:30<8:02:46,  3.57s/it]"
     ]
    },
    {
     "name": "stdout",
     "output_type": "stream",
     "text": [
      "\n",
      "Batch 1040/9152: Load=1.62s, Embed=1.59s, Store=0.00s, Total=3.62s, Images/sec=3.31\n",
      "Estimated remaining time: 489.7 minutes\n"
     ]
    },
    {
     "name": "stderr",
     "output_type": "stream",
     "text": [
      "Processing train:  11%|█▏        | 1050/9152 [1:04:11<11:07:11,  4.94s/it]"
     ]
    },
    {
     "name": "stdout",
     "output_type": "stream",
     "text": [
      "\n",
      "Batch 1050/9152: Load=1.56s, Embed=1.60s, Store=0.00s, Total=3.52s, Images/sec=3.41\n",
      "Estimated remaining time: 475.9 minutes\n"
     ]
    },
    {
     "name": "stderr",
     "output_type": "stream",
     "text": [
      "Processing train:  12%|█▏        | 1060/9152 [1:04:46<8:00:29,  3.56s/it] "
     ]
    },
    {
     "name": "stdout",
     "output_type": "stream",
     "text": [
      "\n",
      "Batch 1060/9152: Load=1.60s, Embed=1.59s, Store=0.00s, Total=3.56s, Images/sec=3.37\n",
      "Estimated remaining time: 479.7 minutes\n"
     ]
    },
    {
     "name": "stderr",
     "output_type": "stream",
     "text": [
      "Processing train:  12%|█▏        | 1070/9152 [1:05:22<7:58:23,  3.55s/it]"
     ]
    },
    {
     "name": "stdout",
     "output_type": "stream",
     "text": [
      "\n",
      "Batch 1070/9152: Load=1.52s, Embed=1.61s, Store=0.00s, Total=3.49s, Images/sec=3.44\n",
      "Estimated remaining time: 470.4 minutes\n"
     ]
    },
    {
     "name": "stderr",
     "output_type": "stream",
     "text": [
      "Processing train:  12%|█▏        | 1080/9152 [1:05:57<7:57:02,  3.55s/it]"
     ]
    },
    {
     "name": "stdout",
     "output_type": "stream",
     "text": [
      "\n",
      "Batch 1080/9152: Load=1.63s, Embed=1.59s, Store=0.00s, Total=3.59s, Images/sec=3.34\n",
      "Estimated remaining time: 482.8 minutes\n"
     ]
    },
    {
     "name": "stderr",
     "output_type": "stream",
     "text": [
      "Processing train:  12%|█▏        | 1090/9152 [1:06:33<8:02:27,  3.59s/it]"
     ]
    },
    {
     "name": "stdout",
     "output_type": "stream",
     "text": [
      "\n",
      "Batch 1090/9152: Load=1.49s, Embed=1.58s, Store=0.00s, Total=3.50s, Images/sec=3.42\n",
      "Estimated remaining time: 470.9 minutes\n"
     ]
    },
    {
     "name": "stderr",
     "output_type": "stream",
     "text": [
      "Processing train:  12%|█▏        | 1100/9152 [1:07:13<11:07:52,  4.98s/it]"
     ]
    },
    {
     "name": "stdout",
     "output_type": "stream",
     "text": [
      "\n",
      "Batch 1100/9152: Load=1.49s, Embed=1.61s, Store=0.00s, Total=3.49s, Images/sec=3.44\n",
      "Estimated remaining time: 467.9 minutes\n"
     ]
    },
    {
     "name": "stderr",
     "output_type": "stream",
     "text": [
      "Processing train:  12%|█▏        | 1110/9152 [1:07:49<8:00:12,  3.58s/it] "
     ]
    },
    {
     "name": "stdout",
     "output_type": "stream",
     "text": [
      "\n",
      "Batch 1110/9152: Load=1.53s, Embed=1.60s, Store=0.00s, Total=3.51s, Images/sec=3.42\n",
      "Estimated remaining time: 470.1 minutes\n"
     ]
    },
    {
     "name": "stderr",
     "output_type": "stream",
     "text": [
      "Processing train:  12%|█▏        | 1120/9152 [1:08:25<7:58:15,  3.57s/it]"
     ]
    },
    {
     "name": "stdout",
     "output_type": "stream",
     "text": [
      "\n",
      "Batch 1120/9152: Load=1.54s, Embed=1.60s, Store=0.00s, Total=3.52s, Images/sec=3.41\n",
      "Estimated remaining time: 470.8 minutes\n"
     ]
    },
    {
     "name": "stderr",
     "output_type": "stream",
     "text": [
      "Processing train:  12%|█▏        | 1130/9152 [1:09:00<7:50:27,  3.52s/it]"
     ]
    },
    {
     "name": "stdout",
     "output_type": "stream",
     "text": [
      "\n",
      "Batch 1130/9152: Load=1.48s, Embed=1.58s, Store=0.00s, Total=3.45s, Images/sec=3.48\n",
      "Estimated remaining time: 461.7 minutes\n"
     ]
    },
    {
     "name": "stderr",
     "output_type": "stream",
     "text": [
      "Processing train:  12%|█▏        | 1140/9152 [1:09:36<7:56:59,  3.57s/it]"
     ]
    },
    {
     "name": "stdout",
     "output_type": "stream",
     "text": [
      "\n",
      "Batch 1140/9152: Load=1.59s, Embed=1.61s, Store=0.00s, Total=3.58s, Images/sec=3.35\n",
      "Estimated remaining time: 478.0 minutes\n"
     ]
    },
    {
     "name": "stderr",
     "output_type": "stream",
     "text": [
      "Processing train:  13%|█▎        | 1150/9152 [1:10:16<10:58:30,  4.94s/it]"
     ]
    },
    {
     "name": "stdout",
     "output_type": "stream",
     "text": [
      "\n",
      "Batch 1150/9152: Load=1.64s, Embed=1.61s, Store=0.00s, Total=3.63s, Images/sec=3.31\n",
      "Estimated remaining time: 484.2 minutes\n"
     ]
    },
    {
     "name": "stderr",
     "output_type": "stream",
     "text": [
      "Processing train:  13%|█▎        | 1160/9152 [1:10:52<8:05:45,  3.65s/it] "
     ]
    },
    {
     "name": "stdout",
     "output_type": "stream",
     "text": [
      "\n",
      "Batch 1160/9152: Load=1.60s, Embed=1.61s, Store=0.00s, Total=3.66s, Images/sec=3.28\n",
      "Estimated remaining time: 486.9 minutes\n"
     ]
    },
    {
     "name": "stderr",
     "output_type": "stream",
     "text": [
      "Processing train:  13%|█▎        | 1170/9152 [1:11:28<8:15:41,  3.73s/it]"
     ]
    },
    {
     "name": "stdout",
     "output_type": "stream",
     "text": [
      "\n",
      "Batch 1170/9152: Load=1.54s, Embed=1.67s, Store=0.00s, Total=3.82s, Images/sec=3.14\n",
      "Estimated remaining time: 507.8 minutes\n"
     ]
    },
    {
     "name": "stderr",
     "output_type": "stream",
     "text": [
      "Processing train:  13%|█▎        | 1180/9152 [1:12:04<7:58:17,  3.60s/it]"
     ]
    },
    {
     "name": "stdout",
     "output_type": "stream",
     "text": [
      "\n",
      "Batch 1180/9152: Load=1.59s, Embed=1.62s, Store=0.00s, Total=3.62s, Images/sec=3.32\n",
      "Estimated remaining time: 480.6 minutes\n"
     ]
    },
    {
     "name": "stderr",
     "output_type": "stream",
     "text": [
      "Processing train:  13%|█▎        | 1190/9152 [1:12:40<7:52:31,  3.56s/it]"
     ]
    },
    {
     "name": "stdout",
     "output_type": "stream",
     "text": [
      "\n",
      "Batch 1190/9152: Load=1.54s, Embed=1.60s, Store=0.00s, Total=3.56s, Images/sec=3.37\n",
      "Estimated remaining time: 473.0 minutes\n"
     ]
    },
    {
     "name": "stderr",
     "output_type": "stream",
     "text": [
      "Processing train:  13%|█▎        | 1200/9152 [1:13:22<11:31:43,  5.22s/it]"
     ]
    },
    {
     "name": "stdout",
     "output_type": "stream",
     "text": [
      "\n",
      "Batch 1200/9152: Load=1.64s, Embed=1.63s, Store=0.00s, Total=3.87s, Images/sec=3.10\n",
      "Estimated remaining time: 512.4 minutes\n"
     ]
    },
    {
     "name": "stderr",
     "output_type": "stream",
     "text": [
      "Processing train:  13%|█▎        | 1210/9152 [1:14:00<8:34:00,  3.88s/it] "
     ]
    },
    {
     "name": "stdout",
     "output_type": "stream",
     "text": [
      "\n",
      "Batch 1210/9152: Load=1.63s, Embed=1.59s, Store=0.00s, Total=3.87s, Images/sec=3.10\n",
      "Estimated remaining time: 512.1 minutes\n"
     ]
    },
    {
     "name": "stderr",
     "output_type": "stream",
     "text": [
      "Processing train:  13%|█▎        | 1220/9152 [1:14:38<8:25:59,  3.83s/it]"
     ]
    },
    {
     "name": "stdout",
     "output_type": "stream",
     "text": [
      "\n",
      "Batch 1220/9152: Load=1.60s, Embed=1.59s, Store=0.00s, Total=3.77s, Images/sec=3.18\n",
      "Estimated remaining time: 498.5 minutes\n"
     ]
    },
    {
     "name": "stderr",
     "output_type": "stream",
     "text": [
      "Processing train:  13%|█▎        | 1230/9152 [1:15:17<8:10:09,  3.71s/it]"
     ]
    },
    {
     "name": "stdout",
     "output_type": "stream",
     "text": [
      "\n",
      "Batch 1230/9152: Load=1.48s, Embed=1.60s, Store=0.00s, Total=3.49s, Images/sec=3.43\n",
      "Estimated remaining time: 461.3 minutes\n"
     ]
    },
    {
     "name": "stderr",
     "output_type": "stream",
     "text": [
      "Processing train:  14%|█▎        | 1240/9152 [1:15:55<8:14:10,  3.75s/it]"
     ]
    },
    {
     "name": "stdout",
     "output_type": "stream",
     "text": [
      "\n",
      "Batch 1240/9152: Load=1.55s, Embed=1.60s, Store=0.00s, Total=3.62s, Images/sec=3.32\n",
      "Estimated remaining time: 477.2 minutes\n"
     ]
    },
    {
     "name": "stderr",
     "output_type": "stream",
     "text": [
      "Processing train:  14%|█▎        | 1250/9152 [1:16:37<11:25:26,  5.20s/it]"
     ]
    },
    {
     "name": "stdout",
     "output_type": "stream",
     "text": [
      "\n",
      "Batch 1250/9152: Load=1.84s, Embed=1.62s, Store=0.00s, Total=3.91s, Images/sec=3.07\n",
      "Estimated remaining time: 515.5 minutes\n"
     ]
    },
    {
     "name": "stderr",
     "output_type": "stream",
     "text": [
      "Processing train:  14%|█▍        | 1260/9152 [1:17:14<8:07:46,  3.71s/it] "
     ]
    },
    {
     "name": "stdout",
     "output_type": "stream",
     "text": [
      "\n",
      "Batch 1260/9152: Load=1.61s, Embed=1.63s, Store=0.00s, Total=3.70s, Images/sec=3.24\n",
      "Estimated remaining time: 487.1 minutes\n"
     ]
    },
    {
     "name": "stderr",
     "output_type": "stream",
     "text": [
      "Processing train:  14%|█▍        | 1270/9152 [1:17:51<8:10:52,  3.74s/it]"
     ]
    },
    {
     "name": "stdout",
     "output_type": "stream",
     "text": [
      "\n",
      "Batch 1270/9152: Load=1.58s, Embed=1.72s, Store=0.00s, Total=3.77s, Images/sec=3.18\n",
      "Estimated remaining time: 495.0 minutes\n"
     ]
    },
    {
     "name": "stderr",
     "output_type": "stream",
     "text": [
      "Processing train:  14%|█▍        | 1280/9152 [1:18:28<8:16:51,  3.79s/it]"
     ]
    },
    {
     "name": "stdout",
     "output_type": "stream",
     "text": [
      "\n",
      "Batch 1280/9152: Load=1.57s, Embed=1.78s, Store=0.00s, Total=3.82s, Images/sec=3.14\n",
      "Estimated remaining time: 501.3 minutes\n"
     ]
    },
    {
     "name": "stderr",
     "output_type": "stream",
     "text": [
      "Processing train:  14%|█▍        | 1290/9152 [1:19:08<8:58:59,  4.11s/it]"
     ]
    },
    {
     "name": "stdout",
     "output_type": "stream",
     "text": [
      "\n",
      "Batch 1290/9152: Load=2.54s, Embed=1.62s, Store=0.00s, Total=4.69s, Images/sec=2.56\n",
      "Estimated remaining time: 614.4 minutes\n"
     ]
    },
    {
     "name": "stderr",
     "output_type": "stream",
     "text": [
      "Processing train:  14%|█▍        | 1300/9152 [1:19:53<12:23:03,  5.68s/it]"
     ]
    },
    {
     "name": "stdout",
     "output_type": "stream",
     "text": [
      "\n",
      "Batch 1300/9152: Load=2.31s, Embed=1.69s, Store=0.00s, Total=4.56s, Images/sec=2.63\n",
      "Estimated remaining time: 597.3 minutes\n"
     ]
    },
    {
     "name": "stderr",
     "output_type": "stream",
     "text": [
      "Processing train:  14%|█▍        | 1310/9152 [1:20:32<8:31:41,  3.92s/it] "
     ]
    },
    {
     "name": "stdout",
     "output_type": "stream",
     "text": [
      "\n",
      "Batch 1310/9152: Load=1.49s, Embed=1.60s, Store=0.00s, Total=3.56s, Images/sec=3.37\n",
      "Estimated remaining time: 465.0 minutes\n"
     ]
    },
    {
     "name": "stderr",
     "output_type": "stream",
     "text": [
      "Processing train:  14%|█▍        | 1320/9152 [1:21:12<8:47:07,  4.04s/it]"
     ]
    },
    {
     "name": "stdout",
     "output_type": "stream",
     "text": [
      "\n",
      "Batch 1320/9152: Load=1.67s, Embed=1.78s, Store=0.00s, Total=3.96s, Images/sec=3.03\n",
      "Estimated remaining time: 517.4 minutes\n"
     ]
    },
    {
     "name": "stderr",
     "output_type": "stream",
     "text": [
      "Processing train:  15%|█▍        | 1330/9152 [1:21:52<8:36:40,  3.96s/it]"
     ]
    },
    {
     "name": "stdout",
     "output_type": "stream",
     "text": [
      "\n",
      "Batch 1330/9152: Load=1.66s, Embed=1.73s, Store=0.00s, Total=3.93s, Images/sec=3.05\n",
      "Estimated remaining time: 512.2 minutes\n"
     ]
    },
    {
     "name": "stderr",
     "output_type": "stream",
     "text": [
      "Processing train:  15%|█▍        | 1340/9152 [1:22:32<8:56:33,  4.12s/it]"
     ]
    },
    {
     "name": "stdout",
     "output_type": "stream",
     "text": [
      "\n",
      "Batch 1340/9152: Load=1.66s, Embed=1.72s, Store=0.00s, Total=4.18s, Images/sec=2.87\n",
      "Estimated remaining time: 544.4 minutes\n"
     ]
    },
    {
     "name": "stderr",
     "output_type": "stream",
     "text": [
      "Processing train:  15%|█▍        | 1350/9152 [1:23:16<11:42:42,  5.40s/it]"
     ]
    },
    {
     "name": "stdout",
     "output_type": "stream",
     "text": [
      "\n",
      "Batch 1350/9152: Load=1.63s, Embed=1.61s, Store=0.00s, Total=3.74s, Images/sec=3.21\n",
      "Estimated remaining time: 486.6 minutes\n"
     ]
    },
    {
     "name": "stderr",
     "output_type": "stream",
     "text": [
      "Processing train:  15%|█▍        | 1360/9152 [1:23:56<8:30:02,  3.93s/it] "
     ]
    },
    {
     "name": "stdout",
     "output_type": "stream",
     "text": [
      "\n",
      "Batch 1360/9152: Load=1.56s, Embed=1.59s, Store=0.00s, Total=3.95s, Images/sec=3.04\n",
      "Estimated remaining time: 512.9 minutes\n"
     ]
    },
    {
     "name": "stderr",
     "output_type": "stream",
     "text": [
      "Processing train:  15%|█▍        | 1370/9152 [1:24:34<8:07:53,  3.76s/it]"
     ]
    },
    {
     "name": "stdout",
     "output_type": "stream",
     "text": [
      "\n",
      "Batch 1370/9152: Load=1.52s, Embed=1.59s, Store=0.00s, Total=3.67s, Images/sec=3.27\n",
      "Estimated remaining time: 476.2 minutes\n"
     ]
    },
    {
     "name": "stderr",
     "output_type": "stream",
     "text": [
      "Processing train:  15%|█▌        | 1380/9152 [1:25:13<8:08:21,  3.77s/it]"
     ]
    },
    {
     "name": "stdout",
     "output_type": "stream",
     "text": [
      "\n",
      "Batch 1380/9152: Load=1.49s, Embed=1.61s, Store=0.00s, Total=3.66s, Images/sec=3.28\n",
      "Estimated remaining time: 474.5 minutes\n"
     ]
    },
    {
     "name": "stderr",
     "output_type": "stream",
     "text": [
      "Processing train:  15%|█▌        | 1390/9152 [1:25:51<8:07:09,  3.77s/it]"
     ]
    },
    {
     "name": "stdout",
     "output_type": "stream",
     "text": [
      "\n",
      "Batch 1390/9152: Load=1.62s, Embed=1.61s, Store=0.00s, Total=3.87s, Images/sec=3.10\n",
      "Estimated remaining time: 500.1 minutes\n"
     ]
    },
    {
     "name": "stderr",
     "output_type": "stream",
     "text": [
      "Processing train:  15%|█▌        | 1400/9152 [1:26:41<15:10:13,  7.05s/it]"
     ]
    },
    {
     "name": "stdout",
     "output_type": "stream",
     "text": [
      "\n",
      "Batch 1400/9152: Load=1.65s, Embed=1.63s, Store=0.00s, Total=4.20s, Images/sec=2.86\n",
      "Estimated remaining time: 542.0 minutes\n"
     ]
    },
    {
     "name": "stderr",
     "output_type": "stream",
     "text": [
      "Processing train:  15%|█▌        | 1410/9152 [1:27:21<8:38:30,  4.02s/it] "
     ]
    },
    {
     "name": "stdout",
     "output_type": "stream",
     "text": [
      "\n",
      "Batch 1410/9152: Load=1.49s, Embed=1.60s, Store=0.00s, Total=3.83s, Images/sec=3.13\n",
      "Estimated remaining time: 494.2 minutes\n"
     ]
    },
    {
     "name": "stderr",
     "output_type": "stream",
     "text": [
      "Processing train:  16%|█▌        | 1420/9152 [1:28:00<8:31:32,  3.97s/it]"
     ]
    },
    {
     "name": "stdout",
     "output_type": "stream",
     "text": [
      "\n",
      "Batch 1420/9152: Load=1.57s, Embed=1.60s, Store=0.00s, Total=4.21s, Images/sec=2.85\n",
      "Estimated remaining time: 542.0 minutes\n"
     ]
    },
    {
     "name": "stderr",
     "output_type": "stream",
     "text": [
      "Processing train:  16%|█▌        | 1430/9152 [1:28:39<8:28:58,  3.95s/it]"
     ]
    },
    {
     "name": "stdout",
     "output_type": "stream",
     "text": [
      "\n",
      "Batch 1430/9152: Load=1.57s, Embed=1.59s, Store=0.00s, Total=4.04s, Images/sec=2.97\n",
      "Estimated remaining time: 519.5 minutes\n"
     ]
    },
    {
     "name": "stderr",
     "output_type": "stream",
     "text": [
      "Processing train:  16%|█▌        | 1440/9152 [1:29:18<8:33:43,  4.00s/it]"
     ]
    },
    {
     "name": "stdout",
     "output_type": "stream",
     "text": [
      "\n",
      "Batch 1440/9152: Load=1.61s, Embed=1.59s, Store=0.00s, Total=3.93s, Images/sec=3.05\n",
      "Estimated remaining time: 505.7 minutes\n"
     ]
    },
    {
     "name": "stderr",
     "output_type": "stream",
     "text": [
      "Processing train:  16%|█▌        | 1450/9152 [1:30:05<12:54:46,  6.04s/it]"
     ]
    },
    {
     "name": "stdout",
     "output_type": "stream",
     "text": [
      "\n",
      "Batch 1450/9152: Load=1.63s, Embed=1.59s, Store=0.00s, Total=3.84s, Images/sec=3.13\n",
      "Estimated remaining time: 492.6 minutes\n"
     ]
    },
    {
     "name": "stderr",
     "output_type": "stream",
     "text": [
      "Processing train:  16%|█▌        | 1460/9152 [1:30:45<8:27:04,  3.96s/it] "
     ]
    },
    {
     "name": "stdout",
     "output_type": "stream",
     "text": [
      "\n",
      "Batch 1460/9152: Load=1.63s, Embed=1.58s, Store=0.00s, Total=3.90s, Images/sec=3.08\n",
      "Estimated remaining time: 500.2 minutes\n"
     ]
    },
    {
     "name": "stderr",
     "output_type": "stream",
     "text": [
      "Processing train:  16%|█▌        | 1470/9152 [1:31:23<8:05:22,  3.79s/it]"
     ]
    },
    {
     "name": "stdout",
     "output_type": "stream",
     "text": [
      "\n",
      "Batch 1470/9152: Load=1.51s, Embed=1.57s, Store=0.00s, Total=3.56s, Images/sec=3.37\n",
      "Estimated remaining time: 456.1 minutes\n"
     ]
    },
    {
     "name": "stderr",
     "output_type": "stream",
     "text": [
      "Processing train:  16%|█▌        | 1480/9152 [1:32:02<8:18:26,  3.90s/it]"
     ]
    },
    {
     "name": "stdout",
     "output_type": "stream",
     "text": [
      "\n",
      "Batch 1480/9152: Load=1.66s, Embed=1.62s, Store=0.00s, Total=3.91s, Images/sec=3.07\n",
      "Estimated remaining time: 500.5 minutes\n"
     ]
    },
    {
     "name": "stderr",
     "output_type": "stream",
     "text": [
      "Processing train:  16%|█▋        | 1490/9152 [1:32:41<8:19:16,  3.91s/it]"
     ]
    },
    {
     "name": "stdout",
     "output_type": "stream",
     "text": [
      "\n",
      "Batch 1490/9152: Load=1.60s, Embed=1.60s, Store=0.00s, Total=3.84s, Images/sec=3.12\n",
      "Estimated remaining time: 490.5 minutes\n"
     ]
    },
    {
     "name": "stderr",
     "output_type": "stream",
     "text": [
      "Processing train:  17%|█▋        | 1530/9152 [1:35:25<8:08:49,  3.85s/it]"
     ]
    },
    {
     "name": "stdout",
     "output_type": "stream",
     "text": [
      "\n",
      "Batch 1530/9152: Load=1.55s, Embed=1.59s, Store=0.00s, Total=3.67s, Images/sec=3.27\n",
      "Estimated remaining time: 466.0 minutes\n"
     ]
    },
    {
     "name": "stderr",
     "output_type": "stream",
     "text": [
      "Processing train:  17%|█▋        | 1540/9152 [1:36:04<8:30:30,  4.02s/it]"
     ]
    },
    {
     "name": "stdout",
     "output_type": "stream",
     "text": [
      "\n",
      "Batch 1540/9152: Load=1.61s, Embed=1.70s, Store=0.00s, Total=4.18s, Images/sec=2.87\n",
      "Estimated remaining time: 530.6 minutes\n"
     ]
    },
    {
     "name": "stderr",
     "output_type": "stream",
     "text": [
      "Processing train:  17%|█▋        | 1550/9152 [1:36:51<12:12:40,  5.78s/it]"
     ]
    },
    {
     "name": "stdout",
     "output_type": "stream",
     "text": [
      "\n",
      "Batch 1550/9152: Load=1.59s, Embed=1.62s, Store=0.00s, Total=3.79s, Images/sec=3.16\n",
      "Estimated remaining time: 480.5 minutes\n"
     ]
    },
    {
     "name": "stderr",
     "output_type": "stream",
     "text": [
      "Processing train:  17%|█▋        | 1560/9152 [1:37:31<8:39:40,  4.11s/it] "
     ]
    },
    {
     "name": "stdout",
     "output_type": "stream",
     "text": [
      "\n",
      "Batch 1560/9152: Load=1.68s, Embed=1.60s, Store=0.00s, Total=3.84s, Images/sec=3.12\n",
      "Estimated remaining time: 486.0 minutes\n"
     ]
    },
    {
     "name": "stderr",
     "output_type": "stream",
     "text": [
      "Processing train:  17%|█▋        | 1570/9152 [1:38:10<8:15:50,  3.92s/it]"
     ]
    },
    {
     "name": "stdout",
     "output_type": "stream",
     "text": [
      "\n",
      "Batch 1570/9152: Load=1.60s, Embed=1.61s, Store=0.00s, Total=3.92s, Images/sec=3.06\n",
      "Estimated remaining time: 495.7 minutes\n"
     ]
    },
    {
     "name": "stderr",
     "output_type": "stream",
     "text": [
      "Processing train:  17%|█▋        | 1580/9152 [1:38:51<8:23:56,  3.99s/it]"
     ]
    },
    {
     "name": "stdout",
     "output_type": "stream",
     "text": [
      "\n",
      "Batch 1580/9152: Load=1.55s, Embed=1.63s, Store=0.00s, Total=3.84s, Images/sec=3.12\n",
      "Estimated remaining time: 485.2 minutes\n"
     ]
    },
    {
     "name": "stderr",
     "output_type": "stream",
     "text": [
      "Processing train:  17%|█▋        | 1590/9152 [1:39:30<8:08:14,  3.87s/it]"
     ]
    },
    {
     "name": "stdout",
     "output_type": "stream",
     "text": [
      "\n",
      "Batch 1590/9152: Load=1.67s, Embed=1.60s, Store=0.00s, Total=3.86s, Images/sec=3.11\n",
      "Estimated remaining time: 487.1 minutes\n"
     ]
    },
    {
     "name": "stderr",
     "output_type": "stream",
     "text": [
      "Processing train:  17%|█▋        | 1600/9152 [1:40:17<12:44:12,  6.07s/it]"
     ]
    },
    {
     "name": "stdout",
     "output_type": "stream",
     "text": [
      "\n",
      "Batch 1600/9152: Load=1.61s, Embed=1.62s, Store=0.00s, Total=4.15s, Images/sec=2.89\n",
      "Estimated remaining time: 522.5 minutes\n"
     ]
    },
    {
     "name": "stderr",
     "output_type": "stream",
     "text": [
      "Processing train:  18%|█▊        | 1610/9152 [1:40:56<8:16:40,  3.95s/it] "
     ]
    },
    {
     "name": "stdout",
     "output_type": "stream",
     "text": [
      "\n",
      "Batch 1610/9152: Load=1.62s, Embed=1.61s, Store=0.00s, Total=3.83s, Images/sec=3.13\n",
      "Estimated remaining time: 481.3 minutes\n"
     ]
    },
    {
     "name": "stderr",
     "output_type": "stream",
     "text": [
      "Processing train:  18%|█▊        | 1620/9152 [1:41:35<8:09:06,  3.90s/it]"
     ]
    },
    {
     "name": "stdout",
     "output_type": "stream",
     "text": [
      "\n",
      "Batch 1620/9152: Load=1.60s, Embed=1.61s, Store=0.00s, Total=4.04s, Images/sec=2.97\n",
      "Estimated remaining time: 507.4 minutes\n"
     ]
    },
    {
     "name": "stderr",
     "output_type": "stream",
     "text": [
      "Processing train:  18%|█▊        | 1630/9152 [1:42:13<7:59:11,  3.82s/it]"
     ]
    },
    {
     "name": "stdout",
     "output_type": "stream",
     "text": [
      "\n",
      "Batch 1630/9152: Load=1.44s, Embed=1.67s, Store=0.00s, Total=3.66s, Images/sec=3.28\n",
      "Estimated remaining time: 459.2 minutes\n"
     ]
    },
    {
     "name": "stderr",
     "output_type": "stream",
     "text": [
      "Processing train:  18%|█▊        | 1640/9152 [1:42:52<7:55:55,  3.80s/it]"
     ]
    },
    {
     "name": "stdout",
     "output_type": "stream",
     "text": [
      "\n",
      "Batch 1640/9152: Load=1.54s, Embed=1.67s, Store=0.00s, Total=3.74s, Images/sec=3.21\n",
      "Estimated remaining time: 467.7 minutes\n"
     ]
    },
    {
     "name": "stderr",
     "output_type": "stream",
     "text": [
      "Processing train:  18%|█▊        | 1650/9152 [1:43:38<12:35:09,  6.04s/it]"
     ]
    },
    {
     "name": "stdout",
     "output_type": "stream",
     "text": [
      "\n",
      "Batch 1650/9152: Load=1.65s, Embed=1.59s, Store=0.00s, Total=4.04s, Images/sec=2.97\n",
      "Estimated remaining time: 504.9 minutes\n"
     ]
    },
    {
     "name": "stderr",
     "output_type": "stream",
     "text": [
      "Processing train:  18%|█▊        | 1660/9152 [1:44:17<8:13:08,  3.95s/it] "
     ]
    },
    {
     "name": "stdout",
     "output_type": "stream",
     "text": [
      "\n",
      "Batch 1660/9152: Load=1.70s, Embed=1.65s, Store=0.00s, Total=3.91s, Images/sec=3.07\n",
      "Estimated remaining time: 487.7 minutes\n"
     ]
    },
    {
     "name": "stderr",
     "output_type": "stream",
     "text": [
      "Processing train:  18%|█▊        | 1670/9152 [1:44:55<7:58:45,  3.84s/it]"
     ]
    },
    {
     "name": "stdout",
     "output_type": "stream",
     "text": [
      "\n",
      "Batch 1670/9152: Load=1.66s, Embed=1.59s, Store=0.00s, Total=3.83s, Images/sec=3.13\n",
      "Estimated remaining time: 478.0 minutes\n"
     ]
    },
    {
     "name": "stderr",
     "output_type": "stream",
     "text": [
      "Processing train:  18%|█▊        | 1680/9152 [1:45:34<7:58:40,  3.84s/it]"
     ]
    },
    {
     "name": "stdout",
     "output_type": "stream",
     "text": [
      "\n",
      "Batch 1680/9152: Load=1.69s, Embed=1.63s, Store=0.00s, Total=3.86s, Images/sec=3.11\n",
      "Estimated remaining time: 480.9 minutes\n"
     ]
    },
    {
     "name": "stderr",
     "output_type": "stream",
     "text": [
      "Processing train:  18%|█▊        | 1690/9152 [1:46:13<8:13:17,  3.97s/it]"
     ]
    },
    {
     "name": "stdout",
     "output_type": "stream",
     "text": [
      "\n",
      "Batch 1690/9152: Load=1.63s, Embed=1.59s, Store=0.00s, Total=4.25s, Images/sec=2.83\n",
      "Estimated remaining time: 528.0 minutes\n"
     ]
    },
    {
     "name": "stderr",
     "output_type": "stream",
     "text": [
      "Processing train:  19%|█▊        | 1700/9152 [1:46:58<12:10:44,  5.88s/it]"
     ]
    },
    {
     "name": "stdout",
     "output_type": "stream",
     "text": [
      "\n",
      "Batch 1700/9152: Load=1.63s, Embed=1.60s, Store=0.00s, Total=4.11s, Images/sec=2.92\n",
      "Estimated remaining time: 510.8 minutes\n"
     ]
    },
    {
     "name": "stderr",
     "output_type": "stream",
     "text": [
      "Processing train:  19%|█▊        | 1710/9152 [1:47:36<8:10:35,  3.96s/it] "
     ]
    },
    {
     "name": "stdout",
     "output_type": "stream",
     "text": [
      "\n",
      "Batch 1710/9152: Load=1.76s, Embed=1.63s, Store=0.00s, Total=3.91s, Images/sec=3.07\n",
      "Estimated remaining time: 484.6 minutes\n"
     ]
    },
    {
     "name": "stderr",
     "output_type": "stream",
     "text": [
      "Processing train:  19%|█▉        | 1720/9152 [1:48:14<7:41:04,  3.72s/it]"
     ]
    },
    {
     "name": "stdout",
     "output_type": "stream",
     "text": [
      "\n",
      "Batch 1720/9152: Load=1.51s, Embed=1.59s, Store=0.00s, Total=3.60s, Images/sec=3.34\n",
      "Estimated remaining time: 445.4 minutes\n"
     ]
    },
    {
     "name": "stderr",
     "output_type": "stream",
     "text": [
      "Processing train:  19%|█▉        | 1730/9152 [1:48:53<7:58:21,  3.87s/it]"
     ]
    },
    {
     "name": "stdout",
     "output_type": "stream",
     "text": [
      "\n",
      "Batch 1730/9152: Load=1.64s, Embed=1.60s, Store=0.00s, Total=3.77s, Images/sec=3.18\n",
      "Estimated remaining time: 466.1 minutes\n"
     ]
    },
    {
     "name": "stderr",
     "output_type": "stream",
     "text": [
      "Processing train:  19%|█▉        | 1740/9152 [1:49:31<7:50:04,  3.81s/it]"
     ]
    },
    {
     "name": "stdout",
     "output_type": "stream",
     "text": [
      "\n",
      "Batch 1740/9152: Load=1.66s, Embed=1.58s, Store=0.00s, Total=3.76s, Images/sec=3.19\n",
      "Estimated remaining time: 464.9 minutes\n"
     ]
    },
    {
     "name": "stderr",
     "output_type": "stream",
     "text": [
      "Processing train:  19%|█▉        | 1750/9152 [1:50:15<11:47:28,  5.73s/it]"
     ]
    },
    {
     "name": "stdout",
     "output_type": "stream",
     "text": [
      "\n",
      "Batch 1750/9152: Load=1.48s, Embed=1.59s, Store=0.00s, Total=3.59s, Images/sec=3.35\n",
      "Estimated remaining time: 442.6 minutes\n"
     ]
    },
    {
     "name": "stderr",
     "output_type": "stream",
     "text": [
      "Processing train:  19%|█▉        | 1760/9152 [1:50:54<7:56:09,  3.86s/it] "
     ]
    },
    {
     "name": "stdout",
     "output_type": "stream",
     "text": [
      "\n",
      "Batch 1760/9152: Load=1.56s, Embed=1.59s, Store=0.00s, Total=3.95s, Images/sec=3.04\n",
      "Estimated remaining time: 486.4 minutes\n"
     ]
    },
    {
     "name": "stderr",
     "output_type": "stream",
     "text": [
      "Processing train:  19%|█▉        | 1770/9152 [1:51:32<7:44:57,  3.78s/it]"
     ]
    },
    {
     "name": "stdout",
     "output_type": "stream",
     "text": [
      "\n",
      "Batch 1770/9152: Load=1.51s, Embed=1.59s, Store=0.00s, Total=3.63s, Images/sec=3.30\n",
      "Estimated remaining time: 446.9 minutes\n"
     ]
    },
    {
     "name": "stderr",
     "output_type": "stream",
     "text": [
      "Processing train:  19%|█▉        | 1780/9152 [1:52:09<7:37:41,  3.73s/it]"
     ]
    },
    {
     "name": "stdout",
     "output_type": "stream",
     "text": [
      "\n",
      "Batch 1780/9152: Load=1.67s, Embed=1.60s, Store=0.00s, Total=3.78s, Images/sec=3.17\n",
      "Estimated remaining time: 464.5 minutes\n"
     ]
    },
    {
     "name": "stderr",
     "output_type": "stream",
     "text": [
      "Processing train:  20%|█▉        | 1790/9152 [1:52:47<7:43:28,  3.78s/it]"
     ]
    },
    {
     "name": "stdout",
     "output_type": "stream",
     "text": [
      "\n",
      "Batch 1790/9152: Load=1.58s, Embed=1.59s, Store=0.00s, Total=3.76s, Images/sec=3.19\n",
      "Estimated remaining time: 461.7 minutes\n"
     ]
    },
    {
     "name": "stderr",
     "output_type": "stream",
     "text": [
      "Processing train:  20%|█▉        | 1800/9152 [1:53:32<11:57:17,  5.85s/it]"
     ]
    },
    {
     "name": "stdout",
     "output_type": "stream",
     "text": [
      "\n",
      "Batch 1800/9152: Load=1.60s, Embed=1.60s, Store=0.00s, Total=3.72s, Images/sec=3.22\n",
      "Estimated remaining time: 456.1 minutes\n"
     ]
    },
    {
     "name": "stderr",
     "output_type": "stream",
     "text": [
      "Processing train:  20%|█▉        | 1810/9152 [1:54:11<8:13:10,  4.03s/it] "
     ]
    },
    {
     "name": "stdout",
     "output_type": "stream",
     "text": [
      "\n",
      "Batch 1810/9152: Load=1.62s, Embed=1.59s, Store=0.00s, Total=3.76s, Images/sec=3.19\n",
      "Estimated remaining time: 460.1 minutes\n"
     ]
    },
    {
     "name": "stderr",
     "output_type": "stream",
     "text": [
      "Processing train:  20%|█▉        | 1820/9152 [1:54:50<7:42:50,  3.79s/it]"
     ]
    },
    {
     "name": "stdout",
     "output_type": "stream",
     "text": [
      "\n",
      "Batch 1820/9152: Load=1.67s, Embed=1.58s, Store=0.00s, Total=3.80s, Images/sec=3.16\n",
      "Estimated remaining time: 464.8 minutes\n"
     ]
    },
    {
     "name": "stderr",
     "output_type": "stream",
     "text": [
      "Processing train:  20%|█▉        | 1830/9152 [1:55:30<8:01:16,  3.94s/it]"
     ]
    },
    {
     "name": "stdout",
     "output_type": "stream",
     "text": [
      "\n",
      "Batch 1830/9152: Load=1.72s, Embed=1.60s, Store=0.00s, Total=3.88s, Images/sec=3.10\n",
      "Estimated remaining time: 473.0 minutes\n"
     ]
    },
    {
     "name": "stderr",
     "output_type": "stream",
     "text": [
      "Processing train:  20%|██        | 1840/9152 [1:56:10<7:57:40,  3.92s/it]"
     ]
    },
    {
     "name": "stdout",
     "output_type": "stream",
     "text": [
      "\n",
      "Batch 1840/9152: Load=1.64s, Embed=1.63s, Store=0.00s, Total=3.81s, Images/sec=3.15\n",
      "Estimated remaining time: 464.1 minutes\n"
     ]
    },
    {
     "name": "stderr",
     "output_type": "stream",
     "text": [
      "Processing train:  20%|██        | 1850/9152 [1:56:56<12:28:14,  6.15s/it]"
     ]
    },
    {
     "name": "stdout",
     "output_type": "stream",
     "text": [
      "\n",
      "Batch 1850/9152: Load=1.55s, Embed=1.62s, Store=0.00s, Total=3.81s, Images/sec=3.15\n",
      "Estimated remaining time: 463.4 minutes\n"
     ]
    },
    {
     "name": "stderr",
     "output_type": "stream",
     "text": [
      "Processing train:  20%|██        | 1860/9152 [1:57:36<8:09:57,  4.03s/it] "
     ]
    },
    {
     "name": "stdout",
     "output_type": "stream",
     "text": [
      "\n",
      "Batch 1860/9152: Load=1.62s, Embed=1.59s, Store=0.00s, Total=3.77s, Images/sec=3.18\n",
      "Estimated remaining time: 458.3 minutes\n"
     ]
    },
    {
     "name": "stderr",
     "output_type": "stream",
     "text": [
      "Processing train:  20%|██        | 1870/9152 [1:58:16<7:54:18,  3.91s/it]"
     ]
    },
    {
     "name": "stdout",
     "output_type": "stream",
     "text": [
      "\n",
      "Batch 1870/9152: Load=1.74s, Embed=1.62s, Store=0.00s, Total=3.92s, Images/sec=3.06\n",
      "Estimated remaining time: 475.6 minutes\n"
     ]
    },
    {
     "name": "stderr",
     "output_type": "stream",
     "text": [
      "Processing train:  21%|██        | 1880/9152 [1:58:55<7:57:20,  3.94s/it]"
     ]
    },
    {
     "name": "stdout",
     "output_type": "stream",
     "text": [
      "\n",
      "Batch 1880/9152: Load=1.99s, Embed=1.61s, Store=0.00s, Total=4.13s, Images/sec=2.90\n",
      "Estimated remaining time: 501.0 minutes\n"
     ]
    },
    {
     "name": "stderr",
     "output_type": "stream",
     "text": [
      "Processing train:  21%|██        | 1890/9152 [1:59:34<7:59:44,  3.96s/it]"
     ]
    },
    {
     "name": "stdout",
     "output_type": "stream",
     "text": [
      "\n",
      "Batch 1890/9152: Load=1.72s, Embed=1.60s, Store=0.00s, Total=3.87s, Images/sec=3.10\n",
      "Estimated remaining time: 468.2 minutes\n"
     ]
    },
    {
     "name": "stderr",
     "output_type": "stream",
     "text": [
      "Processing train:  21%|██        | 1900/9152 [2:00:21<12:31:47,  6.22s/it]"
     ]
    },
    {
     "name": "stdout",
     "output_type": "stream",
     "text": [
      "\n",
      "Batch 1900/9152: Load=1.73s, Embed=1.60s, Store=0.00s, Total=3.88s, Images/sec=3.10\n",
      "Estimated remaining time: 468.4 minutes\n"
     ]
    },
    {
     "name": "stderr",
     "output_type": "stream",
     "text": [
      "Processing train:  21%|██        | 1910/9152 [2:01:01<8:01:17,  3.99s/it] "
     ]
    },
    {
     "name": "stdout",
     "output_type": "stream",
     "text": [
      "\n",
      "Batch 1910/9152: Load=1.59s, Embed=1.59s, Store=0.00s, Total=3.77s, Images/sec=3.19\n",
      "Estimated remaining time: 454.7 minutes\n"
     ]
    },
    {
     "name": "stderr",
     "output_type": "stream",
     "text": [
      "Processing train:  21%|██        | 1920/9152 [2:01:40<7:47:56,  3.88s/it]"
     ]
    },
    {
     "name": "stdout",
     "output_type": "stream",
     "text": [
      "\n",
      "Batch 1920/9152: Load=1.55s, Embed=1.59s, Store=0.00s, Total=3.81s, Images/sec=3.15\n",
      "Estimated remaining time: 459.6 minutes\n"
     ]
    },
    {
     "name": "stderr",
     "output_type": "stream",
     "text": [
      "Processing train:  21%|██        | 1930/9152 [2:02:19<7:57:59,  3.97s/it]"
     ]
    },
    {
     "name": "stdout",
     "output_type": "stream",
     "text": [
      "\n",
      "Batch 1930/9152: Load=1.53s, Embed=1.58s, Store=0.00s, Total=3.67s, Images/sec=3.27\n",
      "Estimated remaining time: 441.8 minutes\n"
     ]
    },
    {
     "name": "stderr",
     "output_type": "stream",
     "text": [
      "Processing train:  21%|██        | 1940/9152 [2:02:58<7:53:21,  3.94s/it]"
     ]
    },
    {
     "name": "stdout",
     "output_type": "stream",
     "text": [
      "\n",
      "Batch 1940/9152: Load=1.62s, Embed=1.58s, Store=0.00s, Total=3.93s, Images/sec=3.05\n",
      "Estimated remaining time: 472.2 minutes\n"
     ]
    },
    {
     "name": "stderr",
     "output_type": "stream",
     "text": [
      "Processing train:  21%|██▏       | 1950/9152 [2:03:45<12:04:10,  6.03s/it]"
     ]
    },
    {
     "name": "stdout",
     "output_type": "stream",
     "text": [
      "\n",
      "Batch 1950/9152: Load=1.59s, Embed=1.58s, Store=0.00s, Total=3.73s, Images/sec=3.22\n",
      "Estimated remaining time: 447.5 minutes\n"
     ]
    },
    {
     "name": "stderr",
     "output_type": "stream",
     "text": [
      "Processing train:  21%|██▏       | 1960/9152 [2:04:23<7:48:08,  3.91s/it] "
     ]
    },
    {
     "name": "stdout",
     "output_type": "stream",
     "text": [
      "\n",
      "Batch 1960/9152: Load=1.61s, Embed=1.59s, Store=0.00s, Total=3.76s, Images/sec=3.19\n",
      "Estimated remaining time: 450.9 minutes\n"
     ]
    },
    {
     "name": "stderr",
     "output_type": "stream",
     "text": [
      "Processing train:  22%|██▏       | 1970/9152 [2:05:03<7:50:19,  3.93s/it]"
     ]
    },
    {
     "name": "stdout",
     "output_type": "stream",
     "text": [
      "\n",
      "Batch 1970/9152: Load=1.66s, Embed=1.60s, Store=0.00s, Total=3.81s, Images/sec=3.15\n",
      "Estimated remaining time: 456.6 minutes\n"
     ]
    },
    {
     "name": "stderr",
     "output_type": "stream",
     "text": [
      "Processing train:  22%|██▏       | 1980/9152 [2:05:43<8:06:03,  4.07s/it]"
     ]
    },
    {
     "name": "stdout",
     "output_type": "stream",
     "text": [
      "\n",
      "Batch 1980/9152: Load=1.58s, Embed=1.59s, Store=0.00s, Total=4.04s, Images/sec=2.97\n",
      "Estimated remaining time: 482.9 minutes\n"
     ]
    },
    {
     "name": "stderr",
     "output_type": "stream",
     "text": [
      "Processing train:  22%|██▏       | 1990/9152 [2:06:23<7:48:49,  3.93s/it]"
     ]
    },
    {
     "name": "stdout",
     "output_type": "stream",
     "text": [
      "\n",
      "Batch 1990/9152: Load=1.70s, Embed=1.58s, Store=0.00s, Total=3.89s, Images/sec=3.09\n",
      "Estimated remaining time: 463.9 minutes\n"
     ]
    },
    {
     "name": "stderr",
     "output_type": "stream",
     "text": [
      "Processing train:  22%|██▏       | 2000/9152 [2:07:12<13:16:20,  6.68s/it]"
     ]
    },
    {
     "name": "stdout",
     "output_type": "stream",
     "text": [
      "\n",
      "Batch 2000/9152: Load=2.13s, Embed=1.59s, Store=0.00s, Total=4.30s, Images/sec=2.79\n",
      "Estimated remaining time: 513.1 minutes\n"
     ]
    },
    {
     "name": "stderr",
     "output_type": "stream",
     "text": [
      "Processing train:  22%|██▏       | 2010/9152 [2:07:53<8:17:43,  4.18s/it] "
     ]
    },
    {
     "name": "stdout",
     "output_type": "stream",
     "text": [
      "\n",
      "Batch 2010/9152: Load=1.67s, Embed=1.59s, Store=0.00s, Total=3.92s, Images/sec=3.06\n",
      "Estimated remaining time: 466.9 minutes\n"
     ]
    },
    {
     "name": "stderr",
     "output_type": "stream",
     "text": [
      "Processing train:  22%|██▏       | 2020/9152 [2:08:33<7:55:13,  4.00s/it]"
     ]
    },
    {
     "name": "stdout",
     "output_type": "stream",
     "text": [
      "\n",
      "Batch 2020/9152: Load=1.58s, Embed=1.66s, Store=0.00s, Total=3.84s, Images/sec=3.12\n",
      "Estimated remaining time: 457.0 minutes\n"
     ]
    },
    {
     "name": "stderr",
     "output_type": "stream",
     "text": [
      "Processing train:  22%|██▏       | 2030/9152 [2:09:15<8:18:09,  4.20s/it]"
     ]
    },
    {
     "name": "stdout",
     "output_type": "stream",
     "text": [
      "\n",
      "Batch 2030/9152: Load=1.76s, Embed=1.67s, Store=0.00s, Total=4.15s, Images/sec=2.89\n",
      "Estimated remaining time: 492.6 minutes\n"
     ]
    },
    {
     "name": "stderr",
     "output_type": "stream",
     "text": [
      "Processing train:  22%|██▏       | 2040/9152 [2:09:56<8:07:17,  4.11s/it]"
     ]
    },
    {
     "name": "stdout",
     "output_type": "stream",
     "text": [
      "\n",
      "Batch 2040/9152: Load=1.70s, Embed=1.66s, Store=0.00s, Total=3.96s, Images/sec=3.03\n",
      "Estimated remaining time: 469.9 minutes\n"
     ]
    },
    {
     "name": "stderr",
     "output_type": "stream",
     "text": [
      "Processing train:  22%|██▏       | 2050/9152 [2:10:59<21:55:03, 11.11s/it]"
     ]
    },
    {
     "name": "stdout",
     "output_type": "stream",
     "text": [
      "\n",
      "Batch 2050/9152: Load=1.65s, Embed=1.66s, Store=0.00s, Total=4.08s, Images/sec=2.94\n",
      "Estimated remaining time: 482.5 minutes\n"
     ]
    },
    {
     "name": "stderr",
     "output_type": "stream",
     "text": [
      "Processing train:  23%|██▎       | 2060/9152 [2:11:52<10:19:07,  5.24s/it]"
     ]
    },
    {
     "name": "stdout",
     "output_type": "stream",
     "text": [
      "\n",
      "Batch 2060/9152: Load=1.53s, Embed=2.92s, Store=0.00s, Total=5.03s, Images/sec=2.39\n",
      "Estimated remaining time: 594.4 minutes\n"
     ]
    },
    {
     "name": "stderr",
     "output_type": "stream",
     "text": [
      "Processing train:  23%|██▎       | 2070/9152 [2:12:41<9:02:42,  4.60s/it] "
     ]
    },
    {
     "name": "stdout",
     "output_type": "stream",
     "text": [
      "\n",
      "Batch 2070/9152: Load=1.56s, Embed=1.63s, Store=0.00s, Total=3.76s, Images/sec=3.19\n",
      "Estimated remaining time: 444.2 minutes\n"
     ]
    },
    {
     "name": "stderr",
     "output_type": "stream",
     "text": [
      "Processing train:  23%|██▎       | 2080/9152 [2:13:21<7:52:57,  4.01s/it]"
     ]
    },
    {
     "name": "stdout",
     "output_type": "stream",
     "text": [
      "\n",
      "Batch 2080/9152: Load=1.60s, Embed=1.64s, Store=0.00s, Total=4.00s, Images/sec=3.00\n",
      "Estimated remaining time: 471.5 minutes\n"
     ]
    },
    {
     "name": "stderr",
     "output_type": "stream",
     "text": [
      "Processing train:  23%|██▎       | 2090/9152 [2:14:02<8:16:48,  4.22s/it]"
     ]
    },
    {
     "name": "stdout",
     "output_type": "stream",
     "text": [
      "\n",
      "Batch 2090/9152: Load=1.68s, Embed=1.63s, Store=0.00s, Total=4.33s, Images/sec=2.77\n",
      "Estimated remaining time: 509.3 minutes\n"
     ]
    },
    {
     "name": "stderr",
     "output_type": "stream",
     "text": [
      "Processing train:  23%|██▎       | 2100/9152 [2:14:49<12:16:42,  6.27s/it]"
     ]
    },
    {
     "name": "stdout",
     "output_type": "stream",
     "text": [
      "\n",
      "Batch 2100/9152: Load=1.64s, Embed=1.58s, Store=0.00s, Total=3.82s, Images/sec=3.14\n",
      "Estimated remaining time: 448.6 minutes\n"
     ]
    },
    {
     "name": "stderr",
     "output_type": "stream",
     "text": [
      "Processing train:  23%|██▎       | 2110/9152 [2:15:39<7:54:06,  4.04s/it] "
     ]
    },
    {
     "name": "stdout",
     "output_type": "stream",
     "text": [
      "\n",
      "Batch 2110/9152: Load=1.47s, Embed=1.59s, Store=0.00s, Total=3.84s, Images/sec=3.13\n",
      "Estimated remaining time: 450.6 minutes\n"
     ]
    },
    {
     "name": "stderr",
     "output_type": "stream",
     "text": [
      "Processing train:  23%|██▎       | 2120/9152 [2:16:18<7:36:27,  3.89s/it]"
     ]
    },
    {
     "name": "stdout",
     "output_type": "stream",
     "text": [
      "\n",
      "Batch 2120/9152: Load=1.55s, Embed=1.60s, Store=0.00s, Total=3.76s, Images/sec=3.19\n",
      "Estimated remaining time: 441.2 minutes\n"
     ]
    },
    {
     "name": "stderr",
     "output_type": "stream",
     "text": [
      "Processing train:  23%|██▎       | 2130/9152 [2:17:00<8:02:05,  4.12s/it]"
     ]
    },
    {
     "name": "stdout",
     "output_type": "stream",
     "text": [
      "\n",
      "Batch 2130/9152: Load=1.56s, Embed=1.60s, Store=0.00s, Total=3.96s, Images/sec=3.03\n",
      "Estimated remaining time: 463.6 minutes\n"
     ]
    },
    {
     "name": "stderr",
     "output_type": "stream",
     "text": [
      "Processing train:  23%|██▎       | 2140/9152 [2:17:42<7:55:38,  4.07s/it]"
     ]
    },
    {
     "name": "stdout",
     "output_type": "stream",
     "text": [
      "\n",
      "Batch 2140/9152: Load=1.62s, Embed=1.59s, Store=0.00s, Total=3.91s, Images/sec=3.07\n",
      "Estimated remaining time: 456.9 minutes\n"
     ]
    },
    {
     "name": "stderr",
     "output_type": "stream",
     "text": [
      "Processing train:  23%|██▎       | 2150/9152 [2:18:32<13:15:32,  6.82s/it]"
     ]
    },
    {
     "name": "stdout",
     "output_type": "stream",
     "text": [
      "\n",
      "Batch 2150/9152: Load=1.65s, Embed=1.63s, Store=0.00s, Total=4.52s, Images/sec=2.66\n",
      "Estimated remaining time: 527.1 minutes\n"
     ]
    },
    {
     "name": "stderr",
     "output_type": "stream",
     "text": [
      "Processing train:  24%|██▎       | 2160/9152 [2:19:19<8:19:26,  4.29s/it] "
     ]
    },
    {
     "name": "stdout",
     "output_type": "stream",
     "text": [
      "\n",
      "Batch 2160/9152: Load=1.55s, Embed=1.59s, Store=0.00s, Total=3.76s, Images/sec=3.19\n",
      "Estimated remaining time: 438.3 minutes\n"
     ]
    },
    {
     "name": "stderr",
     "output_type": "stream",
     "text": [
      "Processing train:  24%|██▎       | 2170/9152 [2:19:58<7:34:39,  3.91s/it]"
     ]
    },
    {
     "name": "stdout",
     "output_type": "stream",
     "text": [
      "\n",
      "Batch 2170/9152: Load=1.56s, Embed=1.63s, Store=0.00s, Total=3.80s, Images/sec=3.16\n",
      "Estimated remaining time: 442.5 minutes\n"
     ]
    },
    {
     "name": "stderr",
     "output_type": "stream",
     "text": [
      "Processing train:  24%|██▍       | 2180/9152 [2:20:37<7:29:58,  3.87s/it]"
     ]
    },
    {
     "name": "stdout",
     "output_type": "stream",
     "text": [
      "\n",
      "Batch 2180/9152: Load=1.61s, Embed=1.59s, Store=0.00s, Total=3.80s, Images/sec=3.16\n",
      "Estimated remaining time: 441.5 minutes\n"
     ]
    },
    {
     "name": "stderr",
     "output_type": "stream",
     "text": [
      "Processing train:  24%|██▍       | 2190/9152 [2:21:16<7:31:38,  3.89s/it]"
     ]
    },
    {
     "name": "stdout",
     "output_type": "stream",
     "text": [
      "\n",
      "Batch 2190/9152: Load=1.63s, Embed=1.60s, Store=0.00s, Total=4.10s, Images/sec=2.93\n",
      "Estimated remaining time: 475.6 minutes\n"
     ]
    },
    {
     "name": "stderr",
     "output_type": "stream",
     "text": [
      "Processing train:  24%|██▍       | 2200/9152 [2:22:03<12:19:28,  6.38s/it]"
     ]
    },
    {
     "name": "stdout",
     "output_type": "stream",
     "text": [
      "\n",
      "Batch 2200/9152: Load=1.54s, Embed=1.68s, Store=0.00s, Total=3.86s, Images/sec=3.11\n",
      "Estimated remaining time: 447.1 minutes\n"
     ]
    },
    {
     "name": "stderr",
     "output_type": "stream",
     "text": [
      "Processing train:  24%|██▍       | 2210/9152 [2:22:46<8:46:51,  4.55s/it] "
     ]
    },
    {
     "name": "stdout",
     "output_type": "stream",
     "text": [
      "\n",
      "Batch 2210/9152: Load=1.54s, Embed=1.60s, Store=0.00s, Total=4.42s, Images/sec=2.72\n",
      "Estimated remaining time: 511.0 minutes\n"
     ]
    },
    {
     "name": "stderr",
     "output_type": "stream",
     "text": [
      "Processing train:  24%|██▍       | 2220/9152 [2:23:27<8:06:08,  4.21s/it]"
     ]
    },
    {
     "name": "stdout",
     "output_type": "stream",
     "text": [
      "\n",
      "Batch 2220/9152: Load=1.58s, Embed=1.58s, Store=0.00s, Total=4.51s, Images/sec=2.66\n",
      "Estimated remaining time: 520.8 minutes\n"
     ]
    },
    {
     "name": "stderr",
     "output_type": "stream",
     "text": [
      "Processing train:  24%|██▍       | 2230/9152 [2:24:13<9:53:26,  5.14s/it]"
     ]
    },
    {
     "name": "stdout",
     "output_type": "stream",
     "text": [
      "\n",
      "Batch 2230/9152: Load=2.91s, Embed=1.59s, Store=0.00s, Total=5.66s, Images/sec=2.12\n",
      "Estimated remaining time: 652.9 minutes\n"
     ]
    },
    {
     "name": "stderr",
     "output_type": "stream",
     "text": [
      "Processing train:  24%|██▍       | 2240/9152 [2:25:06<10:26:09,  5.44s/it]"
     ]
    },
    {
     "name": "stdout",
     "output_type": "stream",
     "text": [
      "\n",
      "Batch 2240/9152: Load=1.91s, Embed=1.62s, Store=0.00s, Total=5.03s, Images/sec=2.39\n",
      "Estimated remaining time: 579.0 minutes\n"
     ]
    },
    {
     "name": "stderr",
     "output_type": "stream",
     "text": [
      "Processing train:  25%|██▍       | 2250/9152 [2:26:06<14:57:45,  7.80s/it]"
     ]
    },
    {
     "name": "stdout",
     "output_type": "stream",
     "text": [
      "\n",
      "Batch 2250/9152: Load=2.61s, Embed=1.67s, Store=0.00s, Total=5.04s, Images/sec=2.38\n",
      "Estimated remaining time: 580.0 minutes\n"
     ]
    },
    {
     "name": "stderr",
     "output_type": "stream",
     "text": [
      "Processing train:  25%|██▍       | 2260/9152 [2:26:56<9:57:16,  5.20s/it] "
     ]
    },
    {
     "name": "stdout",
     "output_type": "stream",
     "text": [
      "\n",
      "Batch 2260/9152: Load=2.97s, Embed=1.69s, Store=0.00s, Total=5.49s, Images/sec=2.18\n",
      "Estimated remaining time: 631.2 minutes\n"
     ]
    },
    {
     "name": "stderr",
     "output_type": "stream",
     "text": [
      "Processing train:  25%|██▍       | 2270/9152 [2:27:43<7:59:20,  4.18s/it] "
     ]
    },
    {
     "name": "stdout",
     "output_type": "stream",
     "text": [
      "\n",
      "Batch 2270/9152: Load=1.52s, Embed=1.57s, Store=0.00s, Total=3.73s, Images/sec=3.22\n",
      "Estimated remaining time: 427.3 minutes\n"
     ]
    },
    {
     "name": "stderr",
     "output_type": "stream",
     "text": [
      "Processing train:  25%|██▍       | 2280/9152 [2:28:23<7:48:48,  4.09s/it]"
     ]
    },
    {
     "name": "stdout",
     "output_type": "stream",
     "text": [
      "\n",
      "Batch 2280/9152: Load=1.68s, Embed=1.61s, Store=0.00s, Total=4.28s, Images/sec=2.80\n",
      "Estimated remaining time: 490.2 minutes\n"
     ]
    },
    {
     "name": "stderr",
     "output_type": "stream",
     "text": [
      "Processing train:  25%|██▌       | 2290/9152 [2:29:03<7:34:10,  3.97s/it]"
     ]
    },
    {
     "name": "stdout",
     "output_type": "stream",
     "text": [
      "\n",
      "Batch 2290/9152: Load=1.59s, Embed=1.60s, Store=0.00s, Total=3.86s, Images/sec=3.11\n",
      "Estimated remaining time: 441.4 minutes\n"
     ]
    },
    {
     "name": "stderr",
     "output_type": "stream",
     "text": [
      "Processing train:  25%|██▌       | 2300/9152 [2:30:02<18:34:15,  9.76s/it]"
     ]
    },
    {
     "name": "stdout",
     "output_type": "stream",
     "text": [
      "\n",
      "Batch 2300/9152: Load=1.70s, Embed=1.62s, Store=0.00s, Total=4.58s, Images/sec=2.62\n",
      "Estimated remaining time: 523.4 minutes\n"
     ]
    },
    {
     "name": "stderr",
     "output_type": "stream",
     "text": [
      "Processing train:  25%|██▌       | 2310/9152 [2:30:43<8:07:00,  4.27s/it] "
     ]
    },
    {
     "name": "stdout",
     "output_type": "stream",
     "text": [
      "\n",
      "Batch 2310/9152: Load=1.65s, Embed=1.63s, Store=0.00s, Total=4.42s, Images/sec=2.71\n",
      "Estimated remaining time: 504.2 minutes\n"
     ]
    },
    {
     "name": "stderr",
     "output_type": "stream",
     "text": [
      "Processing train:  25%|██▌       | 2320/9152 [2:31:23<7:26:20,  3.92s/it]"
     ]
    },
    {
     "name": "stdout",
     "output_type": "stream",
     "text": [
      "\n",
      "Batch 2320/9152: Load=1.60s, Embed=1.59s, Store=0.00s, Total=3.81s, Images/sec=3.15\n",
      "Estimated remaining time: 434.4 minutes\n"
     ]
    },
    {
     "name": "stderr",
     "output_type": "stream",
     "text": [
      "Processing train:  25%|██▌       | 2330/9152 [2:32:03<7:29:52,  3.96s/it]"
     ]
    },
    {
     "name": "stdout",
     "output_type": "stream",
     "text": [
      "\n",
      "Batch 2330/9152: Load=1.64s, Embed=1.59s, Store=0.00s, Total=3.97s, Images/sec=3.02\n",
      "Estimated remaining time: 451.4 minutes\n"
     ]
    },
    {
     "name": "stderr",
     "output_type": "stream",
     "text": [
      "Processing train:  26%|██▌       | 2340/9152 [2:32:43<7:43:34,  4.08s/it]"
     ]
    },
    {
     "name": "stdout",
     "output_type": "stream",
     "text": [
      "\n",
      "Batch 2340/9152: Load=1.71s, Embed=1.58s, Store=0.00s, Total=3.98s, Images/sec=3.02\n",
      "Estimated remaining time: 451.7 minutes\n"
     ]
    },
    {
     "name": "stderr",
     "output_type": "stream",
     "text": [
      "Processing train:  26%|██▌       | 2350/9152 [2:33:33<13:29:52,  7.14s/it]"
     ]
    },
    {
     "name": "stdout",
     "output_type": "stream",
     "text": [
      "\n",
      "Batch 2350/9152: Load=1.61s, Embed=1.61s, Store=0.00s, Total=4.31s, Images/sec=2.79\n",
      "Estimated remaining time: 488.2 minutes\n"
     ]
    },
    {
     "name": "stderr",
     "output_type": "stream",
     "text": [
      "Processing train:  26%|██▌       | 2360/9152 [2:34:13<7:46:29,  4.12s/it] "
     ]
    },
    {
     "name": "stdout",
     "output_type": "stream",
     "text": [
      "\n",
      "Batch 2360/9152: Load=1.66s, Embed=1.60s, Store=0.00s, Total=3.91s, Images/sec=3.07\n",
      "Estimated remaining time: 442.1 minutes\n"
     ]
    },
    {
     "name": "stderr",
     "output_type": "stream",
     "text": [
      "Processing train:  26%|██▌       | 2370/9152 [2:34:58<8:26:05,  4.48s/it]"
     ]
    },
    {
     "name": "stdout",
     "output_type": "stream",
     "text": [
      "\n",
      "Batch 2370/9152: Load=1.56s, Embed=1.59s, Store=0.00s, Total=4.95s, Images/sec=2.42\n",
      "Estimated remaining time: 559.5 minutes\n"
     ]
    },
    {
     "name": "stderr",
     "output_type": "stream",
     "text": [
      "Processing train:  26%|██▌       | 2380/9152 [2:35:40<7:51:04,  4.17s/it]"
     ]
    },
    {
     "name": "stdout",
     "output_type": "stream",
     "text": [
      "\n",
      "Batch 2380/9152: Load=1.79s, Embed=1.58s, Store=0.00s, Total=4.08s, Images/sec=2.94\n",
      "Estimated remaining time: 460.7 minutes\n"
     ]
    },
    {
     "name": "stderr",
     "output_type": "stream",
     "text": [
      "Processing train:  26%|██▌       | 2390/9152 [2:36:22<8:06:56,  4.32s/it]"
     ]
    },
    {
     "name": "stdout",
     "output_type": "stream",
     "text": [
      "\n",
      "Batch 2390/9152: Load=1.75s, Embed=1.61s, Store=0.00s, Total=4.25s, Images/sec=2.83\n",
      "Estimated remaining time: 478.5 minutes\n"
     ]
    },
    {
     "name": "stderr",
     "output_type": "stream",
     "text": [
      "Processing train:  26%|██▌       | 2400/9152 [2:37:12<12:58:02,  6.91s/it]"
     ]
    },
    {
     "name": "stdout",
     "output_type": "stream",
     "text": [
      "\n",
      "Batch 2400/9152: Load=1.62s, Embed=1.60s, Store=0.00s, Total=4.05s, Images/sec=2.97\n",
      "Estimated remaining time: 455.3 minutes\n"
     ]
    },
    {
     "name": "stderr",
     "output_type": "stream",
     "text": [
      "Processing train:  26%|██▋       | 2410/9152 [2:37:52<7:51:10,  4.19s/it] "
     ]
    },
    {
     "name": "stdout",
     "output_type": "stream",
     "text": [
      "\n",
      "Batch 2410/9152: Load=1.57s, Embed=1.60s, Store=0.00s, Total=4.50s, Images/sec=2.67\n",
      "Estimated remaining time: 505.7 minutes\n"
     ]
    },
    {
     "name": "stderr",
     "output_type": "stream",
     "text": [
      "Processing train:  26%|██▋       | 2420/9152 [2:38:33<7:47:36,  4.17s/it]"
     ]
    },
    {
     "name": "stdout",
     "output_type": "stream",
     "text": [
      "\n",
      "Batch 2420/9152: Load=1.69s, Embed=1.59s, Store=0.00s, Total=4.01s, Images/sec=2.99\n",
      "Estimated remaining time: 450.4 minutes\n"
     ]
    },
    {
     "name": "stderr",
     "output_type": "stream",
     "text": [
      "Processing train:  27%|██▋       | 2430/9152 [2:39:12<7:17:00,  3.90s/it]"
     ]
    },
    {
     "name": "stdout",
     "output_type": "stream",
     "text": [
      "\n",
      "Batch 2430/9152: Load=1.48s, Embed=1.59s, Store=0.00s, Total=3.70s, Images/sec=3.24\n",
      "Estimated remaining time: 415.0 minutes\n"
     ]
    },
    {
     "name": "stderr",
     "output_type": "stream",
     "text": [
      "Processing train:  27%|██▋       | 2440/9152 [2:39:53<7:56:22,  4.26s/it]"
     ]
    },
    {
     "name": "stdout",
     "output_type": "stream",
     "text": [
      "\n",
      "Batch 2440/9152: Load=1.66s, Embed=2.02s, Store=0.00s, Total=4.97s, Images/sec=2.42\n",
      "Estimated remaining time: 555.4 minutes\n"
     ]
    },
    {
     "name": "stderr",
     "output_type": "stream",
     "text": [
      "Processing train:  27%|██▋       | 2450/9152 [2:40:51<15:30:22,  8.33s/it]"
     ]
    },
    {
     "name": "stdout",
     "output_type": "stream",
     "text": [
      "\n",
      "Batch 2450/9152: Load=1.62s, Embed=3.19s, Store=0.00s, Total=5.48s, Images/sec=2.19\n",
      "Estimated remaining time: 612.3 minutes\n"
     ]
    },
    {
     "name": "stderr",
     "output_type": "stream",
     "text": [
      "Processing train:  27%|██▋       | 2460/9152 [2:41:32<7:53:57,  4.25s/it] "
     ]
    },
    {
     "name": "stdout",
     "output_type": "stream",
     "text": [
      "\n",
      "Batch 2460/9152: Load=1.52s, Embed=1.95s, Store=0.00s, Total=4.22s, Images/sec=2.84\n",
      "Estimated remaining time: 471.2 minutes\n"
     ]
    },
    {
     "name": "stderr",
     "output_type": "stream",
     "text": [
      "Processing train:  27%|██▋       | 2470/9152 [2:42:30<14:09:45,  7.63s/it]"
     ]
    },
    {
     "name": "stdout",
     "output_type": "stream",
     "text": [
      "\n",
      "Batch 2470/9152: Load=9.84s, Embed=2.20s, Store=0.00s, Total=13.37s, Images/sec=0.90\n",
      "Estimated remaining time: 1488.7 minutes\n"
     ]
    },
    {
     "name": "stderr",
     "output_type": "stream",
     "text": [
      "Processing train:  27%|██▋       | 2480/9152 [2:43:24<8:00:21,  4.32s/it] "
     ]
    },
    {
     "name": "stdout",
     "output_type": "stream",
     "text": [
      "\n",
      "Batch 2480/9152: Load=1.65s, Embed=1.59s, Store=0.00s, Total=3.95s, Images/sec=3.04\n",
      "Estimated remaining time: 439.1 minutes\n"
     ]
    },
    {
     "name": "stderr",
     "output_type": "stream",
     "text": [
      "Processing train:  27%|██▋       | 2490/9152 [2:44:40<21:52:15, 11.82s/it]"
     ]
    },
    {
     "name": "stdout",
     "output_type": "stream",
     "text": [
      "\n",
      "Batch 2490/9152: Load=21.19s, Embed=2.88s, Store=0.00s, Total=26.22s, Images/sec=0.46\n",
      "Estimated remaining time: 2911.8 minutes\n"
     ]
    },
    {
     "name": "stderr",
     "output_type": "stream",
     "text": [
      "Processing train:  27%|██▋       | 2500/9152 [2:45:44<14:07:26,  7.64s/it]"
     ]
    },
    {
     "name": "stdout",
     "output_type": "stream",
     "text": [
      "\n",
      "Batch 2500/9152: Load=1.57s, Embed=1.64s, Store=0.00s, Total=3.88s, Images/sec=3.10\n",
      "Estimated remaining time: 429.8 minutes\n"
     ]
    },
    {
     "name": "stderr",
     "output_type": "stream",
     "text": [
      "Processing train:  27%|██▋       | 2510/9152 [2:46:34<9:37:18,  5.22s/it] "
     ]
    },
    {
     "name": "stdout",
     "output_type": "stream",
     "text": [
      "\n",
      "Batch 2510/9152: Load=2.95s, Embed=1.65s, Store=0.00s, Total=5.36s, Images/sec=2.24\n",
      "Estimated remaining time: 593.6 minutes\n"
     ]
    },
    {
     "name": "stderr",
     "output_type": "stream",
     "text": [
      "Processing train:  28%|██▊       | 2520/9152 [2:47:32<8:51:18,  4.81s/it] "
     ]
    },
    {
     "name": "stdout",
     "output_type": "stream",
     "text": [
      "\n",
      "Batch 2520/9152: Load=1.92s, Embed=1.60s, Store=0.00s, Total=4.58s, Images/sec=2.62\n",
      "Estimated remaining time: 506.2 minutes\n"
     ]
    },
    {
     "name": "stderr",
     "output_type": "stream",
     "text": [
      "Processing train:  28%|██▊       | 2530/9152 [2:48:14<7:35:19,  4.13s/it]"
     ]
    },
    {
     "name": "stdout",
     "output_type": "stream",
     "text": [
      "\n",
      "Batch 2530/9152: Load=1.63s, Embed=1.57s, Store=0.00s, Total=3.86s, Images/sec=3.11\n",
      "Estimated remaining time: 426.1 minutes\n"
     ]
    },
    {
     "name": "stderr",
     "output_type": "stream",
     "text": [
      "Processing train:  28%|██▊       | 2540/9152 [2:48:55<7:21:54,  4.01s/it]"
     ]
    },
    {
     "name": "stdout",
     "output_type": "stream",
     "text": [
      "\n",
      "Batch 2540/9152: Load=1.58s, Embed=1.58s, Store=0.00s, Total=3.92s, Images/sec=3.06\n",
      "Estimated remaining time: 431.8 minutes\n"
     ]
    },
    {
     "name": "stderr",
     "output_type": "stream",
     "text": [
      "Processing train:  28%|██▊       | 2550/9152 [2:49:45<12:55:43,  7.05s/it]"
     ]
    },
    {
     "name": "stdout",
     "output_type": "stream",
     "text": [
      "\n",
      "Batch 2550/9152: Load=1.69s, Embed=1.61s, Store=0.00s, Total=4.05s, Images/sec=2.96\n",
      "Estimated remaining time: 446.1 minutes\n"
     ]
    },
    {
     "name": "stderr",
     "output_type": "stream",
     "text": [
      "Processing train:  28%|██▊       | 2560/9152 [2:50:25<7:22:04,  4.02s/it] "
     ]
    },
    {
     "name": "stdout",
     "output_type": "stream",
     "text": [
      "\n",
      "Batch 2560/9152: Load=1.64s, Embed=1.59s, Store=0.00s, Total=3.96s, Images/sec=3.03\n",
      "Estimated remaining time: 435.3 minutes\n"
     ]
    },
    {
     "name": "stderr",
     "output_type": "stream",
     "text": [
      "Processing train:  28%|██▊       | 2570/9152 [2:51:05<7:11:51,  3.94s/it]"
     ]
    },
    {
     "name": "stdout",
     "output_type": "stream",
     "text": [
      "\n",
      "Batch 2570/9152: Load=1.59s, Embed=1.59s, Store=0.00s, Total=3.98s, Images/sec=3.01\n",
      "Estimated remaining time: 436.9 minutes\n"
     ]
    },
    {
     "name": "stderr",
     "output_type": "stream",
     "text": [
      "Processing train:  28%|██▊       | 2580/9152 [2:51:44<7:05:58,  3.89s/it]"
     ]
    },
    {
     "name": "stdout",
     "output_type": "stream",
     "text": [
      "\n",
      "Batch 2580/9152: Load=1.54s, Embed=1.60s, Store=0.00s, Total=3.81s, Images/sec=3.15\n",
      "Estimated remaining time: 417.8 minutes\n"
     ]
    },
    {
     "name": "stderr",
     "output_type": "stream",
     "text": [
      "Processing train:  28%|██▊       | 2590/9152 [2:52:26<7:55:50,  4.35s/it]"
     ]
    },
    {
     "name": "stdout",
     "output_type": "stream",
     "text": [
      "\n",
      "Batch 2590/9152: Load=1.71s, Embed=1.63s, Store=0.00s, Total=4.50s, Images/sec=2.67\n",
      "Estimated remaining time: 491.7 minutes\n"
     ]
    },
    {
     "name": "stderr",
     "output_type": "stream",
     "text": [
      "Processing train:  28%|██▊       | 2600/9152 [2:53:22<13:57:04,  7.67s/it]"
     ]
    },
    {
     "name": "stdout",
     "output_type": "stream",
     "text": [
      "\n",
      "Batch 2600/9152: Load=1.61s, Embed=1.60s, Store=0.00s, Total=4.08s, Images/sec=2.94\n",
      "Estimated remaining time: 445.8 minutes\n"
     ]
    },
    {
     "name": "stderr",
     "output_type": "stream",
     "text": [
      "Processing train:  29%|██▊       | 2610/9152 [2:54:04<7:43:39,  4.25s/it] "
     ]
    },
    {
     "name": "stdout",
     "output_type": "stream",
     "text": [
      "\n",
      "Batch 2610/9152: Load=1.72s, Embed=1.66s, Store=0.00s, Total=4.16s, Images/sec=2.88\n",
      "Estimated remaining time: 453.8 minutes\n"
     ]
    },
    {
     "name": "stderr",
     "output_type": "stream",
     "text": [
      "Processing train:  29%|██▊       | 2620/9152 [2:54:46<7:31:01,  4.14s/it]"
     ]
    },
    {
     "name": "stdout",
     "output_type": "stream",
     "text": [
      "\n",
      "Batch 2620/9152: Load=1.57s, Embed=1.62s, Store=0.00s, Total=4.02s, Images/sec=2.99\n",
      "Estimated remaining time: 437.1 minutes\n"
     ]
    },
    {
     "name": "stderr",
     "output_type": "stream",
     "text": [
      "Processing train:  29%|██▊       | 2630/9152 [2:55:30<8:34:41,  4.73s/it]"
     ]
    },
    {
     "name": "stdout",
     "output_type": "stream",
     "text": [
      "\n",
      "Batch 2630/9152: Load=2.82s, Embed=1.67s, Store=0.00s, Total=5.38s, Images/sec=2.23\n",
      "Estimated remaining time: 584.3 minutes\n"
     ]
    },
    {
     "name": "stderr",
     "output_type": "stream",
     "text": [
      "Processing train:  29%|██▉       | 2640/9152 [2:56:20<9:11:23,  5.08s/it]"
     ]
    },
    {
     "name": "stdout",
     "output_type": "stream",
     "text": [
      "\n",
      "Batch 2640/9152: Load=2.84s, Embed=1.67s, Store=0.00s, Total=5.26s, Images/sec=2.28\n",
      "Estimated remaining time: 571.2 minutes\n"
     ]
    },
    {
     "name": "stderr",
     "output_type": "stream",
     "text": [
      "Processing train:  29%|██▉       | 2650/9152 [2:57:19<14:30:48,  8.04s/it]"
     ]
    },
    {
     "name": "stdout",
     "output_type": "stream",
     "text": [
      "\n",
      "Batch 2650/9152: Load=2.68s, Embed=1.65s, Store=0.00s, Total=5.04s, Images/sec=2.38\n",
      "Estimated remaining time: 545.6 minutes\n"
     ]
    },
    {
     "name": "stderr",
     "output_type": "stream",
     "text": [
      "Processing train:  29%|██▉       | 2660/9152 [2:58:12<10:29:16,  5.82s/it]"
     ]
    },
    {
     "name": "stdout",
     "output_type": "stream",
     "text": [
      "\n",
      "Batch 2660/9152: Load=4.29s, Embed=2.11s, Store=0.00s, Total=7.29s, Images/sec=1.65\n",
      "Estimated remaining time: 789.0 minutes\n"
     ]
    },
    {
     "name": "stderr",
     "output_type": "stream",
     "text": [
      "Processing train:  29%|██▉       | 2670/9152 [2:59:10<8:15:29,  4.59s/it] "
     ]
    },
    {
     "name": "stdout",
     "output_type": "stream",
     "text": [
      "\n",
      "Batch 2670/9152: Load=1.75s, Embed=1.60s, Store=0.00s, Total=4.09s, Images/sec=2.93\n",
      "Estimated remaining time: 442.0 minutes\n"
     ]
    },
    {
     "name": "stderr",
     "output_type": "stream",
     "text": [
      "Processing train:  29%|██▉       | 2680/9152 [2:59:54<7:56:43,  4.42s/it]"
     ]
    },
    {
     "name": "stdout",
     "output_type": "stream",
     "text": [
      "\n",
      "Batch 2680/9152: Load=1.70s, Embed=1.60s, Store=0.00s, Total=4.27s, Images/sec=2.81\n",
      "Estimated remaining time: 460.9 minutes\n"
     ]
    },
    {
     "name": "stderr",
     "output_type": "stream",
     "text": [
      "Processing train:  29%|██▉       | 2690/9152 [3:00:39<8:19:12,  4.64s/it]"
     ]
    },
    {
     "name": "stdout",
     "output_type": "stream",
     "text": [
      "\n",
      "Batch 2690/9152: Load=2.63s, Embed=1.68s, Store=0.00s, Total=5.13s, Images/sec=2.34\n",
      "Estimated remaining time: 552.3 minutes\n"
     ]
    },
    {
     "name": "stderr",
     "output_type": "stream",
     "text": [
      "Processing train:  30%|██▉       | 2700/9152 [3:01:45<15:34:46,  8.69s/it]"
     ]
    },
    {
     "name": "stdout",
     "output_type": "stream",
     "text": [
      "\n",
      "Batch 2700/9152: Load=2.94s, Embed=1.68s, Store=0.00s, Total=5.50s, Images/sec=2.18\n",
      "Estimated remaining time: 591.1 minutes\n"
     ]
    },
    {
     "name": "stderr",
     "output_type": "stream",
     "text": [
      "Processing train:  30%|██▉       | 2710/9152 [3:02:41<8:11:20,  4.58s/it] "
     ]
    },
    {
     "name": "stdout",
     "output_type": "stream",
     "text": [
      "\n",
      "Batch 2710/9152: Load=1.70s, Embed=1.64s, Store=0.00s, Total=4.20s, Images/sec=2.86\n",
      "Estimated remaining time: 451.0 minutes\n"
     ]
    },
    {
     "name": "stderr",
     "output_type": "stream",
     "text": [
      "Processing train:  30%|██▉       | 2720/9152 [3:03:32<10:43:57,  6.01s/it]"
     ]
    },
    {
     "name": "stdout",
     "output_type": "stream",
     "text": [
      "\n",
      "Batch 2720/9152: Load=5.26s, Embed=2.00s, Store=0.00s, Total=8.24s, Images/sec=1.46\n",
      "Estimated remaining time: 883.7 minutes\n"
     ]
    },
    {
     "name": "stderr",
     "output_type": "stream",
     "text": [
      "Processing train:  30%|██▉       | 2730/9152 [3:04:32<8:33:28,  4.80s/it] "
     ]
    },
    {
     "name": "stdout",
     "output_type": "stream",
     "text": [
      "\n",
      "Batch 2730/9152: Load=1.78s, Embed=1.59s, Store=0.00s, Total=4.26s, Images/sec=2.82\n",
      "Estimated remaining time: 456.0 minutes\n"
     ]
    },
    {
     "name": "stderr",
     "output_type": "stream",
     "text": [
      "Processing train:  30%|██▉       | 2740/9152 [3:05:15<7:53:59,  4.44s/it]"
     ]
    },
    {
     "name": "stdout",
     "output_type": "stream",
     "text": [
      "\n",
      "Batch 2740/9152: Load=1.93s, Embed=1.62s, Store=0.00s, Total=4.51s, Images/sec=2.66\n",
      "Estimated remaining time: 481.9 minutes\n"
     ]
    },
    {
     "name": "stderr",
     "output_type": "stream",
     "text": [
      "Processing train:  30%|███       | 2750/9152 [3:06:12<13:52:26,  7.80s/it]"
     ]
    },
    {
     "name": "stdout",
     "output_type": "stream",
     "text": [
      "\n",
      "Batch 2750/9152: Load=2.17s, Embed=1.64s, Store=0.00s, Total=4.66s, Images/sec=2.57\n",
      "Estimated remaining time: 497.3 minutes\n"
     ]
    },
    {
     "name": "stderr",
     "output_type": "stream",
     "text": [
      "Processing train:  30%|███       | 2760/9152 [3:07:34<10:08:39,  5.71s/it]"
     ]
    },
    {
     "name": "stdout",
     "output_type": "stream",
     "text": [
      "\n",
      "Batch 2760/9152: Load=1.57s, Embed=1.59s, Store=0.00s, Total=4.01s, Images/sec=2.99\n",
      "Estimated remaining time: 427.4 minutes\n"
     ]
    },
    {
     "name": "stderr",
     "output_type": "stream",
     "text": [
      "Processing train:  30%|███       | 2770/9152 [3:08:19<7:43:03,  4.35s/it] "
     ]
    },
    {
     "name": "stdout",
     "output_type": "stream",
     "text": [
      "\n",
      "Batch 2770/9152: Load=1.72s, Embed=2.16s, Store=0.00s, Total=4.73s, Images/sec=2.54\n",
      "Estimated remaining time: 502.6 minutes\n"
     ]
    },
    {
     "name": "stderr",
     "output_type": "stream",
     "text": [
      "Processing train:  30%|███       | 2780/9152 [3:09:13<11:13:16,  6.34s/it]"
     ]
    },
    {
     "name": "stdout",
     "output_type": "stream",
     "text": [
      "\n",
      "Batch 2780/9152: Load=1.60s, Embed=1.64s, Store=0.00s, Total=4.08s, Images/sec=2.94\n",
      "Estimated remaining time: 433.2 minutes\n"
     ]
    },
    {
     "name": "stderr",
     "output_type": "stream",
     "text": [
      "Processing train:  30%|███       | 2790/9152 [3:10:05<7:58:30,  4.51s/it] "
     ]
    },
    {
     "name": "stdout",
     "output_type": "stream",
     "text": [
      "\n",
      "Batch 2790/9152: Load=1.72s, Embed=1.58s, Store=0.00s, Total=4.15s, Images/sec=2.89\n",
      "Estimated remaining time: 439.6 minutes\n"
     ]
    },
    {
     "name": "stderr",
     "output_type": "stream",
     "text": [
      "Processing train:  31%|███       | 2800/9152 [3:11:40<20:58:55, 11.89s/it]"
     ]
    },
    {
     "name": "stdout",
     "output_type": "stream",
     "text": [
      "\n",
      "Batch 2800/9152: Load=6.62s, Embed=1.56s, Store=0.00s, Total=9.10s, Images/sec=1.32\n",
      "Estimated remaining time: 963.2 minutes\n"
     ]
    },
    {
     "name": "stderr",
     "output_type": "stream",
     "text": [
      "Processing train:  31%|███       | 2810/9152 [3:12:26<8:57:28,  5.08s/it] "
     ]
    },
    {
     "name": "stdout",
     "output_type": "stream",
     "text": [
      "\n",
      "Batch 2810/9152: Load=3.41s, Embed=1.58s, Store=0.00s, Total=5.88s, Images/sec=2.04\n",
      "Estimated remaining time: 621.4 minutes\n"
     ]
    },
    {
     "name": "stderr",
     "output_type": "stream",
     "text": [
      "Processing train:  31%|███       | 2820/9152 [3:13:15<8:28:43,  4.82s/it] "
     ]
    },
    {
     "name": "stdout",
     "output_type": "stream",
     "text": [
      "\n",
      "Batch 2820/9152: Load=1.72s, Embed=1.59s, Store=0.00s, Total=4.27s, Images/sec=2.81\n",
      "Estimated remaining time: 450.5 minutes\n"
     ]
    },
    {
     "name": "stderr",
     "output_type": "stream",
     "text": [
      "Processing train:  31%|███       | 2830/9152 [3:13:59<8:02:41,  4.58s/it]"
     ]
    },
    {
     "name": "stdout",
     "output_type": "stream",
     "text": [
      "\n",
      "Batch 2830/9152: Load=2.73s, Embed=1.69s, Store=0.00s, Total=5.28s, Images/sec=2.27\n",
      "Estimated remaining time: 555.9 minutes\n"
     ]
    },
    {
     "name": "stderr",
     "output_type": "stream",
     "text": [
      "Processing train:  31%|███       | 2840/9152 [3:14:43<7:35:19,  4.33s/it]"
     ]
    },
    {
     "name": "stdout",
     "output_type": "stream",
     "text": [
      "\n",
      "Batch 2840/9152: Load=1.76s, Embed=1.68s, Store=0.00s, Total=4.34s, Images/sec=2.77\n",
      "Estimated remaining time: 456.2 minutes\n"
     ]
    },
    {
     "name": "stderr",
     "output_type": "stream",
     "text": [
      "Processing train:  31%|███       | 2850/9152 [3:15:42<14:11:38,  8.11s/it]"
     ]
    },
    {
     "name": "stdout",
     "output_type": "stream",
     "text": [
      "\n",
      "Batch 2850/9152: Load=1.72s, Embed=1.67s, Store=0.00s, Total=4.40s, Images/sec=2.73\n",
      "Estimated remaining time: 462.1 minutes\n"
     ]
    },
    {
     "name": "stderr",
     "output_type": "stream",
     "text": [
      "Processing train:  31%|███▏      | 2860/9152 [3:16:27<8:00:18,  4.58s/it] "
     ]
    },
    {
     "name": "stdout",
     "output_type": "stream",
     "text": [
      "\n",
      "Batch 2860/9152: Load=1.85s, Embed=1.62s, Store=0.00s, Total=4.43s, Images/sec=2.71\n",
      "Estimated remaining time: 464.2 minutes\n"
     ]
    },
    {
     "name": "stderr",
     "output_type": "stream",
     "text": [
      "Processing train:  31%|███▏      | 2870/9152 [3:17:15<8:45:38,  5.02s/it]"
     ]
    },
    {
     "name": "stdout",
     "output_type": "stream",
     "text": [
      "\n",
      "Batch 2870/9152: Load=2.62s, Embed=1.66s, Store=0.00s, Total=5.26s, Images/sec=2.28\n",
      "Estimated remaining time: 550.5 minutes\n"
     ]
    },
    {
     "name": "stderr",
     "output_type": "stream",
     "text": [
      "Processing train:  31%|███▏      | 2880/9152 [3:18:06<8:49:34,  5.07s/it]"
     ]
    },
    {
     "name": "stdout",
     "output_type": "stream",
     "text": [
      "\n",
      "Batch 2880/9152: Load=2.53s, Embed=1.65s, Store=0.00s, Total=5.04s, Images/sec=2.38\n",
      "Estimated remaining time: 526.7 minutes\n"
     ]
    },
    {
     "name": "stderr",
     "output_type": "stream",
     "text": [
      "Processing train:  32%|███▏      | 2890/9152 [3:18:54<9:12:48,  5.30s/it]"
     ]
    },
    {
     "name": "stdout",
     "output_type": "stream",
     "text": [
      "\n",
      "Batch 2890/9152: Load=2.94s, Embed=1.69s, Store=0.00s, Total=5.75s, Images/sec=2.09\n",
      "Estimated remaining time: 600.0 minutes\n"
     ]
    },
    {
     "name": "stderr",
     "output_type": "stream",
     "text": [
      "Processing train:  32%|███▏      | 2900/9152 [3:19:59<15:05:55,  8.69s/it]"
     ]
    },
    {
     "name": "stdout",
     "output_type": "stream",
     "text": [
      "\n",
      "Batch 2900/9152: Load=1.69s, Embed=1.63s, Store=0.00s, Total=4.37s, Images/sec=2.75\n",
      "Estimated remaining time: 455.0 minutes\n"
     ]
    },
    {
     "name": "stderr",
     "output_type": "stream",
     "text": [
      "Processing train:  32%|███▏      | 2910/9152 [3:20:43<7:45:49,  4.48s/it] "
     ]
    },
    {
     "name": "stdout",
     "output_type": "stream",
     "text": [
      "\n",
      "Batch 2910/9152: Load=1.81s, Embed=1.60s, Store=0.00s, Total=4.49s, Images/sec=2.68\n",
      "Estimated remaining time: 466.6 minutes\n"
     ]
    },
    {
     "name": "stderr",
     "output_type": "stream",
     "text": [
      "Processing train:  32%|███▏      | 2920/9152 [3:21:29<8:19:17,  4.81s/it]"
     ]
    },
    {
     "name": "stdout",
     "output_type": "stream",
     "text": [
      "\n",
      "Batch 2920/9152: Load=2.56s, Embed=1.70s, Store=0.02s, Total=5.32s, Images/sec=2.26\n",
      "Estimated remaining time: 552.1 minutes\n"
     ]
    },
    {
     "name": "stderr",
     "output_type": "stream",
     "text": [
      "Processing train:  32%|███▏      | 2930/9152 [3:22:18<8:57:20,  5.18s/it]"
     ]
    },
    {
     "name": "stdout",
     "output_type": "stream",
     "text": [
      "\n",
      "Batch 2930/9152: Load=2.58s, Embed=1.67s, Store=0.02s, Total=5.77s, Images/sec=2.08\n",
      "Estimated remaining time: 598.5 minutes\n"
     ]
    },
    {
     "name": "stderr",
     "output_type": "stream",
     "text": [
      "Processing train:  32%|███▏      | 2940/9152 [3:23:03<7:23:20,  4.28s/it]"
     ]
    },
    {
     "name": "stdout",
     "output_type": "stream",
     "text": [
      "\n",
      "Batch 2940/9152: Load=1.67s, Embed=1.57s, Store=0.00s, Total=4.30s, Images/sec=2.79\n",
      "Estimated remaining time: 445.0 minutes\n"
     ]
    },
    {
     "name": "stderr",
     "output_type": "stream",
     "text": [
      "Processing train:  32%|███▏      | 2950/9152 [3:23:57<13:33:43,  7.87s/it]"
     ]
    },
    {
     "name": "stdout",
     "output_type": "stream",
     "text": [
      "\n",
      "Batch 2950/9152: Load=1.65s, Embed=1.59s, Store=0.00s, Total=4.14s, Images/sec=2.90\n",
      "Estimated remaining time: 428.1 minutes\n"
     ]
    },
    {
     "name": "stderr",
     "output_type": "stream",
     "text": [
      "Processing train:  32%|███▏      | 2960/9152 [3:24:39<7:21:07,  4.27s/it] "
     ]
    },
    {
     "name": "stdout",
     "output_type": "stream",
     "text": [
      "\n",
      "Batch 2960/9152: Load=1.67s, Embed=1.58s, Store=0.00s, Total=4.13s, Images/sec=2.90\n",
      "Estimated remaining time: 426.4 minutes\n"
     ]
    },
    {
     "name": "stderr",
     "output_type": "stream",
     "text": [
      "Processing train:  32%|███▏      | 2970/9152 [3:25:22<7:32:28,  4.39s/it]"
     ]
    },
    {
     "name": "stdout",
     "output_type": "stream",
     "text": [
      "\n",
      "Batch 2970/9152: Load=1.78s, Embed=1.60s, Store=0.00s, Total=4.44s, Images/sec=2.70\n",
      "Estimated remaining time: 457.8 minutes\n"
     ]
    },
    {
     "name": "stderr",
     "output_type": "stream",
     "text": [
      "Processing train:  33%|███▎      | 2980/9152 [3:26:04<7:09:51,  4.18s/it]"
     ]
    },
    {
     "name": "stdout",
     "output_type": "stream",
     "text": [
      "\n",
      "Batch 2980/9152: Load=1.61s, Embed=1.60s, Store=0.00s, Total=4.11s, Images/sec=2.92\n",
      "Estimated remaining time: 422.7 minutes\n"
     ]
    },
    {
     "name": "stderr",
     "output_type": "stream",
     "text": [
      "Processing train:  33%|███▎      | 2990/9152 [3:26:46<7:11:53,  4.21s/it]"
     ]
    },
    {
     "name": "stdout",
     "output_type": "stream",
     "text": [
      "\n",
      "Batch 2990/9152: Load=1.53s, Embed=1.59s, Store=0.00s, Total=4.22s, Images/sec=2.85\n",
      "Estimated remaining time: 433.1 minutes\n"
     ]
    },
    {
     "name": "stderr",
     "output_type": "stream",
     "text": [
      "Processing train:  33%|███▎      | 3000/9152 [3:27:41<13:39:16,  7.99s/it]"
     ]
    },
    {
     "name": "stdout",
     "output_type": "stream",
     "text": [
      "\n",
      "Batch 3000/9152: Load=1.51s, Embed=1.71s, Store=0.00s, Total=4.40s, Images/sec=2.73\n",
      "Estimated remaining time: 451.1 minutes\n"
     ]
    },
    {
     "name": "stderr",
     "output_type": "stream",
     "text": [
      "Processing train:  33%|███▎      | 3010/9152 [3:28:22<7:16:47,  4.27s/it] "
     ]
    },
    {
     "name": "stdout",
     "output_type": "stream",
     "text": [
      "\n",
      "Batch 3010/9152: Load=1.66s, Embed=1.57s, Store=0.00s, Total=4.24s, Images/sec=2.83\n",
      "Estimated remaining time: 434.1 minutes\n"
     ]
    },
    {
     "name": "stderr",
     "output_type": "stream",
     "text": [
      "Processing train:  33%|███▎      | 3020/9152 [3:29:06<7:28:59,  4.39s/it]"
     ]
    },
    {
     "name": "stdout",
     "output_type": "stream",
     "text": [
      "\n",
      "Batch 3020/9152: Load=1.69s, Embed=1.73s, Store=0.00s, Total=4.59s, Images/sec=2.62\n",
      "Estimated remaining time: 468.6 minutes\n"
     ]
    },
    {
     "name": "stderr",
     "output_type": "stream",
     "text": [
      "Processing train:  33%|███▎      | 3030/9152 [3:29:51<7:26:55,  4.38s/it]"
     ]
    },
    {
     "name": "stdout",
     "output_type": "stream",
     "text": [
      "\n",
      "Batch 3030/9152: Load=1.52s, Embed=1.88s, Store=0.00s, Total=4.30s, Images/sec=2.79\n",
      "Estimated remaining time: 438.8 minutes\n"
     ]
    },
    {
     "name": "stderr",
     "output_type": "stream",
     "text": [
      "Processing train:  33%|███▎      | 3040/9152 [3:30:36<7:27:43,  4.40s/it]"
     ]
    },
    {
     "name": "stdout",
     "output_type": "stream",
     "text": [
      "\n",
      "Batch 3040/9152: Load=1.64s, Embed=1.64s, Store=0.00s, Total=4.34s, Images/sec=2.77\n",
      "Estimated remaining time: 441.7 minutes\n"
     ]
    },
    {
     "name": "stderr",
     "output_type": "stream",
     "text": [
      "Processing train:  33%|███▎      | 3050/9152 [3:31:40<14:49:12,  8.74s/it]"
     ]
    },
    {
     "name": "stdout",
     "output_type": "stream",
     "text": [
      "\n",
      "Batch 3050/9152: Load=1.60s, Embed=2.47s, Store=0.00s, Total=4.85s, Images/sec=2.47\n",
      "Estimated remaining time: 493.4 minutes\n"
     ]
    },
    {
     "name": "stderr",
     "output_type": "stream",
     "text": [
      "Processing train:  33%|███▎      | 3060/9152 [3:32:22<7:04:14,  4.18s/it] "
     ]
    },
    {
     "name": "stdout",
     "output_type": "stream",
     "text": [
      "\n",
      "Batch 3060/9152: Load=1.46s, Embed=1.67s, Store=0.00s, Total=3.92s, Images/sec=3.06\n",
      "Estimated remaining time: 397.6 minutes\n"
     ]
    },
    {
     "name": "stderr",
     "output_type": "stream",
     "text": [
      "Processing train:  34%|███▎      | 3070/9152 [3:33:04<7:07:15,  4.21s/it]"
     ]
    },
    {
     "name": "stdout",
     "output_type": "stream",
     "text": [
      "\n",
      "Batch 3070/9152: Load=1.59s, Embed=1.65s, Store=0.00s, Total=4.09s, Images/sec=2.93\n",
      "Estimated remaining time: 414.9 minutes\n"
     ]
    },
    {
     "name": "stderr",
     "output_type": "stream",
     "text": [
      "Processing train:  34%|███▎      | 3080/9152 [3:33:46<6:59:28,  4.15s/it]"
     ]
    },
    {
     "name": "stdout",
     "output_type": "stream",
     "text": [
      "\n",
      "Batch 3080/9152: Load=1.68s, Embed=1.60s, Store=0.00s, Total=4.09s, Images/sec=2.93\n",
      "Estimated remaining time: 414.2 minutes\n"
     ]
    },
    {
     "name": "stderr",
     "output_type": "stream",
     "text": [
      "Processing train:  34%|███▍      | 3090/9152 [3:34:26<6:40:35,  3.96s/it]"
     ]
    },
    {
     "name": "stdout",
     "output_type": "stream",
     "text": [
      "\n",
      "Batch 3090/9152: Load=1.53s, Embed=1.57s, Store=0.00s, Total=3.90s, Images/sec=3.07\n",
      "Estimated remaining time: 394.3 minutes\n"
     ]
    },
    {
     "name": "stderr",
     "output_type": "stream",
     "text": [
      "Processing train:  34%|███▍      | 3100/9152 [3:35:19<13:17:34,  7.91s/it]"
     ]
    },
    {
     "name": "stdout",
     "output_type": "stream",
     "text": [
      "\n",
      "Batch 3100/9152: Load=1.69s, Embed=1.63s, Store=0.00s, Total=4.14s, Images/sec=2.90\n",
      "Estimated remaining time: 417.5 minutes\n"
     ]
    },
    {
     "name": "stderr",
     "output_type": "stream",
     "text": [
      "Processing train:  34%|███▍      | 3110/9152 [3:36:00<6:56:01,  4.13s/it] "
     ]
    },
    {
     "name": "stdout",
     "output_type": "stream",
     "text": [
      "\n",
      "Batch 3110/9152: Load=1.50s, Embed=1.60s, Store=0.00s, Total=3.90s, Images/sec=3.08\n",
      "Estimated remaining time: 392.7 minutes\n"
     ]
    },
    {
     "name": "stderr",
     "output_type": "stream",
     "text": [
      "Processing train:  34%|███▍      | 3120/9152 [3:36:40<6:40:33,  3.98s/it]"
     ]
    },
    {
     "name": "stdout",
     "output_type": "stream",
     "text": [
      "\n",
      "Batch 3120/9152: Load=1.68s, Embed=1.59s, Store=0.00s, Total=4.05s, Images/sec=2.96\n",
      "Estimated remaining time: 407.5 minutes\n"
     ]
    },
    {
     "name": "stderr",
     "output_type": "stream",
     "text": [
      "Processing train:  34%|███▍      | 3130/9152 [3:37:20<6:37:36,  3.96s/it]"
     ]
    },
    {
     "name": "stdout",
     "output_type": "stream",
     "text": [
      "\n",
      "Batch 3130/9152: Load=1.52s, Embed=1.58s, Store=0.00s, Total=3.94s, Images/sec=3.05\n",
      "Estimated remaining time: 395.2 minutes\n"
     ]
    },
    {
     "name": "stderr",
     "output_type": "stream",
     "text": [
      "Processing train:  34%|███▍      | 3140/9152 [3:38:00<6:36:15,  3.95s/it]"
     ]
    },
    {
     "name": "stdout",
     "output_type": "stream",
     "text": [
      "\n",
      "Batch 3140/9152: Load=1.50s, Embed=1.58s, Store=0.00s, Total=3.89s, Images/sec=3.09\n",
      "Estimated remaining time: 389.4 minutes\n"
     ]
    },
    {
     "name": "stderr",
     "output_type": "stream",
     "text": [
      "Processing train:  34%|███▍      | 3150/9152 [3:38:53<13:07:06,  7.87s/it]"
     ]
    },
    {
     "name": "stdout",
     "output_type": "stream",
     "text": [
      "\n",
      "Batch 3150/9152: Load=1.64s, Embed=1.58s, Store=0.00s, Total=4.00s, Images/sec=3.00\n",
      "Estimated remaining time: 400.2 minutes\n"
     ]
    },
    {
     "name": "stderr",
     "output_type": "stream",
     "text": [
      "Processing train:  35%|███▍      | 3160/9152 [3:39:34<6:55:40,  4.16s/it] "
     ]
    },
    {
     "name": "stdout",
     "output_type": "stream",
     "text": [
      "\n",
      "Batch 3160/9152: Load=1.64s, Embed=1.61s, Store=0.00s, Total=4.17s, Images/sec=2.88\n",
      "Estimated remaining time: 416.2 minutes\n"
     ]
    },
    {
     "name": "stderr",
     "output_type": "stream",
     "text": [
      "Processing train:  35%|███▍      | 3170/9152 [3:40:15<6:36:58,  3.98s/it]"
     ]
    },
    {
     "name": "stdout",
     "output_type": "stream",
     "text": [
      "\n",
      "Batch 3170/9152: Load=1.55s, Embed=1.61s, Store=0.00s, Total=3.94s, Images/sec=3.04\n",
      "Estimated remaining time: 393.0 minutes\n"
     ]
    },
    {
     "name": "stderr",
     "output_type": "stream",
     "text": [
      "Processing train:  35%|███▍      | 3180/9152 [3:40:55<6:53:12,  4.15s/it]"
     ]
    },
    {
     "name": "stdout",
     "output_type": "stream",
     "text": [
      "\n",
      "Batch 3180/9152: Load=1.89s, Embed=1.66s, Store=0.00s, Total=4.46s, Images/sec=2.69\n",
      "Estimated remaining time: 444.0 minutes\n"
     ]
    },
    {
     "name": "stderr",
     "output_type": "stream",
     "text": [
      "Processing train:  35%|███▍      | 3190/9152 [3:41:43<7:48:01,  4.71s/it]"
     ]
    },
    {
     "name": "stdout",
     "output_type": "stream",
     "text": [
      "\n",
      "Batch 3190/9152: Load=2.15s, Embed=1.62s, Store=0.00s, Total=4.56s, Images/sec=2.63\n",
      "Estimated remaining time: 453.5 minutes\n"
     ]
    },
    {
     "name": "stderr",
     "output_type": "stream",
     "text": [
      "Processing train:  35%|███▍      | 3200/9152 [3:42:39<13:46:13,  8.33s/it]"
     ]
    },
    {
     "name": "stdout",
     "output_type": "stream",
     "text": [
      "\n",
      "Batch 3200/9152: Load=2.13s, Embed=1.63s, Store=0.00s, Total=4.66s, Images/sec=2.57\n",
      "Estimated remaining time: 462.5 minutes\n"
     ]
    },
    {
     "name": "stderr",
     "output_type": "stream",
     "text": [
      "Processing train:  35%|███▌      | 3210/9152 [3:43:30<8:27:13,  5.12s/it] "
     ]
    },
    {
     "name": "stdout",
     "output_type": "stream",
     "text": [
      "\n",
      "Batch 3210/9152: Load=2.74s, Embed=1.64s, Store=0.00s, Total=5.21s, Images/sec=2.30\n",
      "Estimated remaining time: 515.7 minutes\n"
     ]
    },
    {
     "name": "stderr",
     "output_type": "stream",
     "text": [
      "Processing train:  35%|███▌      | 3220/9152 [3:44:21<8:14:24,  5.00s/it]"
     ]
    },
    {
     "name": "stdout",
     "output_type": "stream",
     "text": [
      "\n",
      "Batch 3220/9152: Load=2.41s, Embed=1.66s, Store=0.00s, Total=4.89s, Images/sec=2.45\n",
      "Estimated remaining time: 483.3 minutes\n"
     ]
    },
    {
     "name": "stderr",
     "output_type": "stream",
     "text": [
      "Processing train:  35%|███▌      | 3230/9152 [3:45:08<7:43:46,  4.70s/it]"
     ]
    },
    {
     "name": "stdout",
     "output_type": "stream",
     "text": [
      "\n",
      "Batch 3230/9152: Load=2.29s, Embed=1.61s, Store=0.00s, Total=4.73s, Images/sec=2.54\n",
      "Estimated remaining time: 466.4 minutes\n"
     ]
    },
    {
     "name": "stderr",
     "output_type": "stream",
     "text": [
      "Processing train:  35%|███▌      | 3240/9152 [3:45:59<8:15:20,  5.03s/it]"
     ]
    },
    {
     "name": "stdout",
     "output_type": "stream",
     "text": [
      "\n",
      "Batch 3240/9152: Load=2.58s, Embed=1.65s, Store=0.00s, Total=5.04s, Images/sec=2.38\n",
      "Estimated remaining time: 496.1 minutes\n"
     ]
    },
    {
     "name": "stderr",
     "output_type": "stream",
     "text": [
      "Processing train:  36%|███▌      | 3250/9152 [3:47:04<14:59:35,  9.15s/it]"
     ]
    },
    {
     "name": "stdout",
     "output_type": "stream",
     "text": [
      "\n",
      "Batch 3250/9152: Load=2.58s, Embed=1.66s, Store=0.00s, Total=5.21s, Images/sec=2.31\n",
      "Estimated remaining time: 512.1 minutes\n"
     ]
    },
    {
     "name": "stderr",
     "output_type": "stream",
     "text": [
      "Processing train:  36%|███▌      | 3260/9152 [3:47:55<8:26:04,  5.15s/it] "
     ]
    },
    {
     "name": "stdout",
     "output_type": "stream",
     "text": [
      "\n",
      "Batch 3260/9152: Load=2.39s, Embed=1.66s, Store=0.00s, Total=4.86s, Images/sec=2.47\n",
      "Estimated remaining time: 477.7 minutes\n"
     ]
    },
    {
     "name": "stderr",
     "output_type": "stream",
     "text": [
      "Processing train:  36%|███▌      | 3270/9152 [3:48:43<7:48:13,  4.78s/it]"
     ]
    },
    {
     "name": "stdout",
     "output_type": "stream",
     "text": [
      "\n",
      "Batch 3270/9152: Load=2.51s, Embed=1.71s, Store=0.00s, Total=5.02s, Images/sec=2.39\n",
      "Estimated remaining time: 492.4 minutes\n"
     ]
    },
    {
     "name": "stderr",
     "output_type": "stream",
     "text": [
      "Processing train:  36%|███▌      | 3280/9152 [3:49:35<8:29:13,  5.20s/it]"
     ]
    },
    {
     "name": "stdout",
     "output_type": "stream",
     "text": [
      "\n",
      "Batch 3280/9152: Load=2.83s, Embed=1.66s, Store=0.00s, Total=5.47s, Images/sec=2.19\n",
      "Estimated remaining time: 535.1 minutes\n"
     ]
    },
    {
     "name": "stderr",
     "output_type": "stream",
     "text": [
      "Processing train:  36%|███▌      | 3290/9152 [3:50:27<8:24:07,  5.16s/it]"
     ]
    },
    {
     "name": "stdout",
     "output_type": "stream",
     "text": [
      "\n",
      "Batch 3290/9152: Load=2.68s, Embed=1.66s, Store=0.00s, Total=5.21s, Images/sec=2.30\n",
      "Estimated remaining time: 509.0 minutes\n"
     ]
    },
    {
     "name": "stderr",
     "output_type": "stream",
     "text": [
      "Processing train:  36%|███▌      | 3300/9152 [3:51:23<13:20:26,  8.21s/it]"
     ]
    },
    {
     "name": "stdout",
     "output_type": "stream",
     "text": [
      "\n",
      "Batch 3300/9152: Load=1.62s, Embed=1.57s, Store=0.00s, Total=4.06s, Images/sec=2.95\n",
      "Estimated remaining time: 396.1 minutes\n"
     ]
    },
    {
     "name": "stderr",
     "output_type": "stream",
     "text": [
      "Processing train:  36%|███▌      | 3310/9152 [3:52:06<7:01:26,  4.33s/it] "
     ]
    },
    {
     "name": "stdout",
     "output_type": "stream",
     "text": [
      "\n",
      "Batch 3310/9152: Load=1.68s, Embed=1.64s, Store=0.00s, Total=4.23s, Images/sec=2.84\n",
      "Estimated remaining time: 411.7 minutes\n"
     ]
    },
    {
     "name": "stderr",
     "output_type": "stream",
     "text": [
      "Processing train:  36%|███▋      | 3320/9152 [3:52:46<6:31:22,  4.03s/it]"
     ]
    },
    {
     "name": "stdout",
     "output_type": "stream",
     "text": [
      "\n",
      "Batch 3320/9152: Load=1.64s, Embed=1.58s, Store=0.00s, Total=4.04s, Images/sec=2.97\n",
      "Estimated remaining time: 392.6 minutes\n"
     ]
    },
    {
     "name": "stderr",
     "output_type": "stream",
     "text": [
      "Processing train:  36%|███▋      | 3330/9152 [3:53:26<6:28:07,  4.00s/it]"
     ]
    },
    {
     "name": "stdout",
     "output_type": "stream",
     "text": [
      "\n",
      "Batch 3330/9152: Load=1.52s, Embed=1.59s, Store=0.00s, Total=3.94s, Images/sec=3.04\n",
      "Estimated remaining time: 382.5 minutes\n"
     ]
    },
    {
     "name": "stderr",
     "output_type": "stream",
     "text": [
      "Processing train:  36%|███▋      | 3340/9152 [3:54:06<6:36:28,  4.09s/it]"
     ]
    },
    {
     "name": "stdout",
     "output_type": "stream",
     "text": [
      "\n",
      "Batch 3340/9152: Load=1.69s, Embed=1.59s, Store=0.00s, Total=4.15s, Images/sec=2.89\n",
      "Estimated remaining time: 401.9 minutes\n"
     ]
    },
    {
     "name": "stderr",
     "output_type": "stream",
     "text": [
      "Processing train:  37%|███▋      | 3350/9152 [3:55:02<13:34:09,  8.42s/it]"
     ]
    },
    {
     "name": "stdout",
     "output_type": "stream",
     "text": [
      "\n",
      "Batch 3350/9152: Load=1.52s, Embed=1.61s, Store=0.00s, Total=4.55s, Images/sec=2.64\n",
      "Estimated remaining time: 439.7 minutes\n"
     ]
    },
    {
     "name": "stderr",
     "output_type": "stream",
     "text": [
      "Processing train:  37%|███▋      | 3360/9152 [3:55:43<6:42:52,  4.17s/it] "
     ]
    },
    {
     "name": "stdout",
     "output_type": "stream",
     "text": [
      "\n",
      "Batch 3360/9152: Load=1.52s, Embed=1.61s, Store=0.00s, Total=3.97s, Images/sec=3.02\n",
      "Estimated remaining time: 383.3 minutes\n"
     ]
    },
    {
     "name": "stderr",
     "output_type": "stream",
     "text": [
      "Processing train:  37%|███▋      | 3370/9152 [3:56:24<6:38:59,  4.14s/it]"
     ]
    },
    {
     "name": "stdout",
     "output_type": "stream",
     "text": [
      "\n",
      "Batch 3370/9152: Load=1.51s, Embed=1.61s, Store=0.00s, Total=4.05s, Images/sec=2.96\n",
      "Estimated remaining time: 390.1 minutes\n"
     ]
    },
    {
     "name": "stderr",
     "output_type": "stream",
     "text": [
      "Processing train:  37%|███▋      | 3380/9152 [3:57:05<6:26:07,  4.01s/it]"
     ]
    },
    {
     "name": "stdout",
     "output_type": "stream",
     "text": [
      "\n",
      "Batch 3380/9152: Load=1.51s, Embed=1.60s, Store=0.00s, Total=3.97s, Images/sec=3.02\n",
      "Estimated remaining time: 381.7 minutes\n"
     ]
    },
    {
     "name": "stderr",
     "output_type": "stream",
     "text": [
      "Processing train:  37%|███▋      | 3390/9152 [3:57:45<6:27:52,  4.04s/it]"
     ]
    },
    {
     "name": "stdout",
     "output_type": "stream",
     "text": [
      "\n",
      "Batch 3390/9152: Load=1.55s, Embed=1.61s, Store=0.00s, Total=4.00s, Images/sec=3.00\n",
      "Estimated remaining time: 384.5 minutes\n"
     ]
    },
    {
     "name": "stderr",
     "output_type": "stream",
     "text": [
      "Processing train:  37%|███▋      | 3400/9152 [3:58:39<12:45:39,  7.99s/it]"
     ]
    },
    {
     "name": "stdout",
     "output_type": "stream",
     "text": [
      "\n",
      "Batch 3400/9152: Load=1.50s, Embed=1.58s, Store=0.00s, Total=3.94s, Images/sec=3.04\n",
      "Estimated remaining time: 378.0 minutes\n"
     ]
    },
    {
     "name": "stderr",
     "output_type": "stream",
     "text": [
      "Processing train:  37%|███▋      | 3410/9152 [3:59:20<6:41:57,  4.20s/it] "
     ]
    },
    {
     "name": "stdout",
     "output_type": "stream",
     "text": [
      "\n",
      "Batch 3410/9152: Load=1.57s, Embed=1.59s, Store=0.00s, Total=4.03s, Images/sec=2.98\n",
      "Estimated remaining time: 385.4 minutes\n"
     ]
    },
    {
     "name": "stderr",
     "output_type": "stream",
     "text": [
      "Processing train:  37%|███▋      | 3420/9152 [4:00:01<6:36:43,  4.15s/it]"
     ]
    },
    {
     "name": "stdout",
     "output_type": "stream",
     "text": [
      "\n",
      "Batch 3420/9152: Load=1.71s, Embed=1.61s, Store=0.00s, Total=4.18s, Images/sec=2.87\n",
      "Estimated remaining time: 399.0 minutes\n"
     ]
    },
    {
     "name": "stderr",
     "output_type": "stream",
     "text": [
      "Processing train:  37%|███▋      | 3430/9152 [4:00:43<6:46:17,  4.26s/it]"
     ]
    },
    {
     "name": "stdout",
     "output_type": "stream",
     "text": [
      "\n",
      "Batch 3430/9152: Load=1.67s, Embed=1.61s, Store=0.00s, Total=4.28s, Images/sec=2.80\n",
      "Estimated remaining time: 408.4 minutes\n"
     ]
    },
    {
     "name": "stderr",
     "output_type": "stream",
     "text": [
      "Processing train:  38%|███▊      | 3440/9152 [4:01:24<6:31:19,  4.11s/it]"
     ]
    },
    {
     "name": "stdout",
     "output_type": "stream",
     "text": [
      "\n",
      "Batch 3440/9152: Load=1.56s, Embed=1.62s, Store=0.00s, Total=4.10s, Images/sec=2.92\n",
      "Estimated remaining time: 390.6 minutes\n"
     ]
    },
    {
     "name": "stderr",
     "output_type": "stream",
     "text": [
      "Processing train:  38%|███▊      | 3450/9152 [4:02:25<14:32:06,  9.18s/it]"
     ]
    },
    {
     "name": "stdout",
     "output_type": "stream",
     "text": [
      "\n",
      "Batch 3450/9152: Load=1.65s, Embed=2.82s, Store=0.00s, Total=5.33s, Images/sec=2.25\n",
      "Estimated remaining time: 506.2 minutes\n"
     ]
    },
    {
     "name": "stderr",
     "output_type": "stream",
     "text": [
      "Processing train:  38%|███▊      | 3460/9152 [4:03:07<6:42:25,  4.24s/it] "
     ]
    },
    {
     "name": "stdout",
     "output_type": "stream",
     "text": [
      "\n",
      "Batch 3460/9152: Load=1.64s, Embed=1.64s, Store=0.00s, Total=4.15s, Images/sec=2.89\n",
      "Estimated remaining time: 393.7 minutes\n"
     ]
    },
    {
     "name": "stderr",
     "output_type": "stream",
     "text": [
      "Processing train:  38%|███▊      | 3470/9152 [4:03:48<6:29:35,  4.11s/it]"
     ]
    },
    {
     "name": "stdout",
     "output_type": "stream",
     "text": [
      "\n",
      "Batch 3470/9152: Load=1.55s, Embed=1.65s, Store=0.00s, Total=4.07s, Images/sec=2.95\n",
      "Estimated remaining time: 385.2 minutes\n"
     ]
    },
    {
     "name": "stderr",
     "output_type": "stream",
     "text": [
      "Processing train:  38%|███▊      | 3480/9152 [4:04:31<6:36:41,  4.20s/it]"
     ]
    },
    {
     "name": "stdout",
     "output_type": "stream",
     "text": [
      "\n",
      "Batch 3480/9152: Load=1.63s, Embed=1.60s, Store=0.00s, Total=4.12s, Images/sec=2.92\n",
      "Estimated remaining time: 389.1 minutes\n"
     ]
    },
    {
     "name": "stderr",
     "output_type": "stream",
     "text": [
      "Processing train:  38%|███▊      | 3490/9152 [4:05:13<6:36:55,  4.21s/it]"
     ]
    },
    {
     "name": "stdout",
     "output_type": "stream",
     "text": [
      "\n",
      "Batch 3490/9152: Load=1.59s, Embed=1.61s, Store=0.00s, Total=4.06s, Images/sec=2.95\n",
      "Estimated remaining time: 383.5 minutes\n"
     ]
    },
    {
     "name": "stderr",
     "output_type": "stream",
     "text": [
      "Processing train:  38%|███▊      | 3500/9152 [4:06:09<13:04:17,  8.33s/it]"
     ]
    },
    {
     "name": "stdout",
     "output_type": "stream",
     "text": [
      "\n",
      "Batch 3500/9152: Load=1.66s, Embed=1.59s, Store=0.00s, Total=4.11s, Images/sec=2.92\n",
      "Estimated remaining time: 387.1 minutes\n"
     ]
    },
    {
     "name": "stderr",
     "output_type": "stream",
     "text": [
      "Processing train:  38%|███▊      | 3510/9152 [4:06:51<6:39:27,  4.25s/it] "
     ]
    },
    {
     "name": "stdout",
     "output_type": "stream",
     "text": [
      "\n",
      "Batch 3510/9152: Load=1.68s, Embed=1.62s, Store=0.00s, Total=4.16s, Images/sec=2.89\n",
      "Estimated remaining time: 390.8 minutes\n"
     ]
    },
    {
     "name": "stderr",
     "output_type": "stream",
     "text": [
      "Processing train:  38%|███▊      | 3520/9152 [4:07:34<6:51:10,  4.38s/it]"
     ]
    },
    {
     "name": "stdout",
     "output_type": "stream",
     "text": [
      "\n",
      "Batch 3520/9152: Load=1.73s, Embed=1.68s, Store=0.00s, Total=4.72s, Images/sec=2.54\n",
      "Estimated remaining time: 443.2 minutes\n"
     ]
    },
    {
     "name": "stderr",
     "output_type": "stream",
     "text": [
      "Processing train:  39%|███▊      | 3530/9152 [4:08:19<7:09:59,  4.59s/it]"
     ]
    },
    {
     "name": "stdout",
     "output_type": "stream",
     "text": [
      "\n",
      "Batch 3530/9152: Load=1.79s, Embed=1.70s, Store=0.00s, Total=4.57s, Images/sec=2.63\n",
      "Estimated remaining time: 428.0 minutes\n"
     ]
    },
    {
     "name": "stderr",
     "output_type": "stream",
     "text": [
      "Processing train:  39%|███▊      | 3540/9152 [4:09:05<7:10:45,  4.61s/it]"
     ]
    },
    {
     "name": "stdout",
     "output_type": "stream",
     "text": [
      "\n",
      "Batch 3540/9152: Load=1.62s, Embed=1.60s, Store=0.00s, Total=4.09s, Images/sec=2.94\n",
      "Estimated remaining time: 382.2 minutes\n"
     ]
    },
    {
     "name": "stderr",
     "output_type": "stream",
     "text": [
      "Processing train:  39%|███▉      | 3550/9152 [4:10:02<13:01:07,  8.37s/it]"
     ]
    },
    {
     "name": "stdout",
     "output_type": "stream",
     "text": [
      "\n",
      "Batch 3550/9152: Load=1.53s, Embed=1.64s, Store=0.00s, Total=4.05s, Images/sec=2.96\n",
      "Estimated remaining time: 378.2 minutes\n"
     ]
    },
    {
     "name": "stderr",
     "output_type": "stream",
     "text": [
      "Processing train:  39%|███▉      | 3560/9152 [4:10:48<7:27:55,  4.81s/it] "
     ]
    },
    {
     "name": "stdout",
     "output_type": "stream",
     "text": [
      "\n",
      "Batch 3560/9152: Load=2.11s, Embed=1.65s, Store=0.00s, Total=4.67s, Images/sec=2.57\n",
      "Estimated remaining time: 434.8 minutes\n"
     ]
    },
    {
     "name": "stderr",
     "output_type": "stream",
     "text": [
      "Processing train:  39%|███▉      | 3570/9152 [4:11:33<7:29:02,  4.83s/it]"
     ]
    },
    {
     "name": "stdout",
     "output_type": "stream",
     "text": [
      "\n",
      "Batch 3570/9152: Load=2.50s, Embed=1.65s, Store=0.00s, Total=5.11s, Images/sec=2.35\n",
      "Estimated remaining time: 475.0 minutes\n"
     ]
    },
    {
     "name": "stderr",
     "output_type": "stream",
     "text": [
      "Processing train:  39%|███▉      | 3580/9152 [4:12:21<7:23:50,  4.78s/it]"
     ]
    },
    {
     "name": "stdout",
     "output_type": "stream",
     "text": [
      "\n",
      "Batch 3580/9152: Load=2.47s, Embed=1.67s, Store=0.00s, Total=5.21s, Images/sec=2.30\n",
      "Estimated remaining time: 484.2 minutes\n"
     ]
    },
    {
     "name": "stderr",
     "output_type": "stream",
     "text": [
      "Processing train:  39%|███▉      | 3590/9152 [4:13:09<7:12:35,  4.67s/it]"
     ]
    },
    {
     "name": "stdout",
     "output_type": "stream",
     "text": [
      "\n",
      "Batch 3590/9152: Load=2.09s, Embed=1.64s, Store=0.00s, Total=4.72s, Images/sec=2.54\n",
      "Estimated remaining time: 437.5 minutes\n"
     ]
    },
    {
     "name": "stderr",
     "output_type": "stream",
     "text": [
      "Processing train:  39%|███▉      | 3600/9152 [4:14:08<13:43:45,  8.90s/it]"
     ]
    },
    {
     "name": "stdout",
     "output_type": "stream",
     "text": [
      "\n",
      "Batch 3600/9152: Load=2.17s, Embed=1.68s, Store=0.00s, Total=4.76s, Images/sec=2.52\n",
      "Estimated remaining time: 440.7 minutes\n"
     ]
    },
    {
     "name": "stderr",
     "output_type": "stream",
     "text": [
      "Processing train:  39%|███▉      | 3610/9152 [4:14:57<7:56:11,  5.16s/it] "
     ]
    },
    {
     "name": "stdout",
     "output_type": "stream",
     "text": [
      "\n",
      "Batch 3610/9152: Load=2.48s, Embed=1.71s, Store=0.00s, Total=5.11s, Images/sec=2.35\n",
      "Estimated remaining time: 472.3 minutes\n"
     ]
    },
    {
     "name": "stderr",
     "output_type": "stream",
     "text": [
      "Processing train:  40%|███▉      | 3620/9152 [4:15:47<7:22:06,  4.80s/it]"
     ]
    },
    {
     "name": "stdout",
     "output_type": "stream",
     "text": [
      "\n",
      "Batch 3620/9152: Load=1.77s, Embed=1.61s, Store=0.00s, Total=4.35s, Images/sec=2.76\n",
      "Estimated remaining time: 400.9 minutes\n"
     ]
    },
    {
     "name": "stderr",
     "output_type": "stream",
     "text": [
      "Processing train:  40%|███▉      | 3630/9152 [4:16:34<7:09:44,  4.67s/it]"
     ]
    },
    {
     "name": "stdout",
     "output_type": "stream",
     "text": [
      "\n",
      "Batch 3630/9152: Load=2.03s, Embed=1.60s, Store=0.00s, Total=4.84s, Images/sec=2.48\n",
      "Estimated remaining time: 445.0 minutes\n"
     ]
    },
    {
     "name": "stderr",
     "output_type": "stream",
     "text": [
      "Processing train:  40%|███▉      | 3640/9152 [4:17:16<6:26:04,  4.20s/it]"
     ]
    },
    {
     "name": "stdout",
     "output_type": "stream",
     "text": [
      "\n",
      "Batch 3640/9152: Load=1.58s, Embed=1.59s, Store=0.00s, Total=4.18s, Images/sec=2.87\n",
      "Estimated remaining time: 384.1 minutes\n"
     ]
    },
    {
     "name": "stderr",
     "output_type": "stream",
     "text": [
      "Processing train:  40%|███▉      | 3650/9152 [4:18:12<12:51:56,  8.42s/it]"
     ]
    },
    {
     "name": "stdout",
     "output_type": "stream",
     "text": [
      "\n",
      "Batch 3650/9152: Load=1.64s, Embed=1.60s, Store=0.00s, Total=4.19s, Images/sec=2.87\n",
      "Estimated remaining time: 383.8 minutes\n"
     ]
    },
    {
     "name": "stderr",
     "output_type": "stream",
     "text": [
      "Processing train:  40%|███▉      | 3660/9152 [4:18:54<6:41:29,  4.39s/it] "
     ]
    },
    {
     "name": "stdout",
     "output_type": "stream",
     "text": [
      "\n",
      "Batch 3660/9152: Load=1.65s, Embed=1.59s, Store=0.00s, Total=4.21s, Images/sec=2.85\n",
      "Estimated remaining time: 384.9 minutes\n"
     ]
    },
    {
     "name": "stderr",
     "output_type": "stream",
     "text": [
      "Processing train:  40%|████      | 3670/9152 [4:19:37<6:31:49,  4.29s/it]"
     ]
    },
    {
     "name": "stdout",
     "output_type": "stream",
     "text": [
      "\n",
      "Batch 3670/9152: Load=1.59s, Embed=1.68s, Store=0.00s, Total=4.36s, Images/sec=2.75\n",
      "Estimated remaining time: 398.2 minutes\n"
     ]
    },
    {
     "name": "stderr",
     "output_type": "stream",
     "text": [
      "Processing train:  40%|████      | 3680/9152 [4:20:20<6:35:54,  4.34s/it]"
     ]
    },
    {
     "name": "stdout",
     "output_type": "stream",
     "text": [
      "\n",
      "Batch 3680/9152: Load=1.48s, Embed=1.65s, Store=0.00s, Total=4.36s, Images/sec=2.76\n",
      "Estimated remaining time: 397.2 minutes\n"
     ]
    },
    {
     "name": "stderr",
     "output_type": "stream",
     "text": [
      "Processing train:  40%|████      | 3690/9152 [4:21:03<6:31:37,  4.30s/it]"
     ]
    },
    {
     "name": "stdout",
     "output_type": "stream",
     "text": [
      "\n",
      "Batch 3690/9152: Load=1.53s, Embed=1.60s, Store=0.00s, Total=4.37s, Images/sec=2.74\n",
      "Estimated remaining time: 398.2 minutes\n"
     ]
    },
    {
     "name": "stderr",
     "output_type": "stream",
     "text": [
      "Processing train:  40%|████      | 3700/9152 [4:22:01<13:11:04,  8.71s/it]"
     ]
    },
    {
     "name": "stdout",
     "output_type": "stream",
     "text": [
      "\n",
      "Batch 3700/9152: Load=1.61s, Embed=1.62s, Store=0.00s, Total=4.21s, Images/sec=2.85\n",
      "Estimated remaining time: 382.4 minutes\n"
     ]
    },
    {
     "name": "stderr",
     "output_type": "stream",
     "text": [
      "Processing train:  41%|████      | 3710/9152 [4:22:44<6:53:52,  4.56s/it] "
     ]
    },
    {
     "name": "stdout",
     "output_type": "stream",
     "text": [
      "\n",
      "Batch 3710/9152: Load=1.68s, Embed=1.59s, Store=0.00s, Total=4.29s, Images/sec=2.80\n",
      "Estimated remaining time: 388.9 minutes\n"
     ]
    },
    {
     "name": "stderr",
     "output_type": "stream",
     "text": [
      "Processing train:  41%|████      | 3720/9152 [4:23:30<6:57:37,  4.61s/it]"
     ]
    },
    {
     "name": "stdout",
     "output_type": "stream",
     "text": [
      "\n",
      "Batch 3720/9152: Load=1.58s, Embed=2.17s, Store=0.00s, Total=4.71s, Images/sec=2.55\n",
      "Estimated remaining time: 426.2 minutes\n"
     ]
    },
    {
     "name": "stderr",
     "output_type": "stream",
     "text": [
      "Processing train:  41%|████      | 3730/9152 [4:24:17<7:05:51,  4.71s/it]"
     ]
    },
    {
     "name": "stdout",
     "output_type": "stream",
     "text": [
      "\n",
      "Batch 3730/9152: Load=2.33s, Embed=1.85s, Store=0.00s, Total=5.13s, Images/sec=2.34\n",
      "Estimated remaining time: 463.2 minutes\n"
     ]
    },
    {
     "name": "stderr",
     "output_type": "stream",
     "text": [
      "Processing train:  41%|████      | 3740/9152 [4:25:13<7:32:54,  5.02s/it] "
     ]
    },
    {
     "name": "stdout",
     "output_type": "stream",
     "text": [
      "\n",
      "Batch 3740/9152: Load=1.79s, Embed=1.56s, Store=0.00s, Total=4.54s, Images/sec=2.64\n",
      "Estimated remaining time: 409.7 minutes\n"
     ]
    },
    {
     "name": "stderr",
     "output_type": "stream",
     "text": [
      "Processing train:  41%|████      | 3750/9152 [4:26:11<13:14:47,  8.83s/it]"
     ]
    },
    {
     "name": "stdout",
     "output_type": "stream",
     "text": [
      "\n",
      "Batch 3750/9152: Load=1.64s, Embed=1.59s, Store=0.00s, Total=4.26s, Images/sec=2.82\n",
      "Estimated remaining time: 383.5 minutes\n"
     ]
    },
    {
     "name": "stderr",
     "output_type": "stream",
     "text": [
      "Processing train:  41%|████      | 3760/9152 [4:26:55<6:41:49,  4.47s/it] "
     ]
    },
    {
     "name": "stdout",
     "output_type": "stream",
     "text": [
      "\n",
      "Batch 3760/9152: Load=1.59s, Embed=1.59s, Store=0.00s, Total=4.20s, Images/sec=2.86\n",
      "Estimated remaining time: 377.1 minutes\n"
     ]
    },
    {
     "name": "stderr",
     "output_type": "stream",
     "text": [
      "Processing train:  41%|████      | 3770/9152 [4:27:42<7:02:21,  4.71s/it]"
     ]
    },
    {
     "name": "stdout",
     "output_type": "stream",
     "text": [
      "\n",
      "Batch 3770/9152: Load=1.88s, Embed=1.57s, Store=0.00s, Total=4.48s, Images/sec=2.68\n",
      "Estimated remaining time: 402.3 minutes\n"
     ]
    },
    {
     "name": "stderr",
     "output_type": "stream",
     "text": [
      "Processing train:  41%|████▏     | 3780/9152 [4:28:27<6:43:32,  4.51s/it]"
     ]
    },
    {
     "name": "stdout",
     "output_type": "stream",
     "text": [
      "\n",
      "Batch 3780/9152: Load=1.84s, Embed=1.59s, Store=0.00s, Total=4.37s, Images/sec=2.75\n",
      "Estimated remaining time: 391.0 minutes\n"
     ]
    },
    {
     "name": "stderr",
     "output_type": "stream",
     "text": [
      "Processing train:  41%|████▏     | 3790/9152 [4:29:10<6:21:55,  4.27s/it]"
     ]
    },
    {
     "name": "stdout",
     "output_type": "stream",
     "text": [
      "\n",
      "Batch 3790/9152: Load=1.60s, Embed=1.64s, Store=0.00s, Total=4.18s, Images/sec=2.87\n",
      "Estimated remaining time: 373.6 minutes\n"
     ]
    },
    {
     "name": "stderr",
     "output_type": "stream",
     "text": [
      "Processing train:  42%|████▏     | 3800/9152 [4:30:08<13:06:31,  8.82s/it]"
     ]
    },
    {
     "name": "stdout",
     "output_type": "stream",
     "text": [
      "\n",
      "Batch 3800/9152: Load=1.63s, Embed=1.64s, Store=0.00s, Total=4.21s, Images/sec=2.85\n",
      "Estimated remaining time: 375.7 minutes\n"
     ]
    },
    {
     "name": "stderr",
     "output_type": "stream",
     "text": [
      "Processing train:  42%|████▏     | 3810/9152 [4:30:59<9:33:14,  6.44s/it] "
     ]
    },
    {
     "name": "stdout",
     "output_type": "stream",
     "text": [
      "\n",
      "Batch 3810/9152: Load=7.20s, Embed=1.61s, Store=0.00s, Total=9.78s, Images/sec=1.23\n",
      "Estimated remaining time: 870.7 minutes\n"
     ]
    },
    {
     "name": "stderr",
     "output_type": "stream",
     "text": [
      "Processing train:  42%|████▏     | 3820/9152 [4:32:22<10:14:37,  6.92s/it]"
     ]
    },
    {
     "name": "stdout",
     "output_type": "stream",
     "text": [
      "\n",
      "Batch 3820/9152: Load=2.72s, Embed=1.64s, Store=0.00s, Total=5.30s, Images/sec=2.27\n",
      "Estimated remaining time: 470.7 minutes\n"
     ]
    },
    {
     "name": "stderr",
     "output_type": "stream",
     "text": [
      "Processing train:  42%|████▏     | 3830/9152 [4:33:22<9:48:01,  6.63s/it] "
     ]
    },
    {
     "name": "stdout",
     "output_type": "stream",
     "text": [
      "\n",
      "Batch 3830/9152: Load=5.22s, Embed=1.63s, Store=0.00s, Total=8.18s, Images/sec=1.47\n",
      "Estimated remaining time: 725.5 minutes\n"
     ]
    },
    {
     "name": "stderr",
     "output_type": "stream",
     "text": [
      "Processing train:  42%|████▏     | 3840/9152 [4:34:21<6:58:08,  4.72s/it] "
     ]
    },
    {
     "name": "stdout",
     "output_type": "stream",
     "text": [
      "\n",
      "Batch 3840/9152: Load=1.94s, Embed=1.59s, Store=0.00s, Total=4.46s, Images/sec=2.69\n",
      "Estimated remaining time: 394.9 minutes\n"
     ]
    },
    {
     "name": "stderr",
     "output_type": "stream",
     "text": [
      "Processing train:  42%|████▏     | 3850/9152 [4:35:27<15:02:52, 10.22s/it]"
     ]
    },
    {
     "name": "stdout",
     "output_type": "stream",
     "text": [
      "\n",
      "Batch 3850/9152: Load=2.75s, Embed=1.93s, Store=0.00s, Total=5.66s, Images/sec=2.12\n",
      "Estimated remaining time: 500.5 minutes\n"
     ]
    },
    {
     "name": "stderr",
     "output_type": "stream",
     "text": [
      "Processing train:  42%|████▏     | 3860/9152 [4:36:21<8:19:51,  5.67s/it] "
     ]
    },
    {
     "name": "stdout",
     "output_type": "stream",
     "text": [
      "\n",
      "Batch 3860/9152: Load=2.67s, Embed=1.92s, Store=0.00s, Total=5.52s, Images/sec=2.17\n",
      "Estimated remaining time: 487.1 minutes\n"
     ]
    },
    {
     "name": "stderr",
     "output_type": "stream",
     "text": [
      "Processing train:  42%|████▏     | 3870/9152 [4:37:05<6:17:36,  4.29s/it]"
     ]
    },
    {
     "name": "stdout",
     "output_type": "stream",
     "text": [
      "\n",
      "Batch 3870/9152: Load=1.52s, Embed=1.57s, Store=0.00s, Total=4.15s, Images/sec=2.89\n",
      "Estimated remaining time: 365.2 minutes\n"
     ]
    },
    {
     "name": "stderr",
     "output_type": "stream",
     "text": [
      "Processing train:  42%|████▏     | 3880/9152 [4:37:48<6:19:57,  4.32s/it]"
     ]
    },
    {
     "name": "stdout",
     "output_type": "stream",
     "text": [
      "\n",
      "Batch 3880/9152: Load=1.68s, Embed=1.58s, Store=0.00s, Total=4.35s, Images/sec=2.76\n",
      "Estimated remaining time: 382.4 minutes\n"
     ]
    },
    {
     "name": "stderr",
     "output_type": "stream",
     "text": [
      "Processing train:  43%|████▎     | 3890/9152 [4:38:30<6:08:56,  4.21s/it]"
     ]
    },
    {
     "name": "stdout",
     "output_type": "stream",
     "text": [
      "\n",
      "Batch 3890/9152: Load=1.71s, Embed=1.60s, Store=0.00s, Total=4.23s, Images/sec=2.84\n",
      "Estimated remaining time: 370.9 minutes\n"
     ]
    },
    {
     "name": "stderr",
     "output_type": "stream",
     "text": [
      "Processing train:  43%|████▎     | 3900/9152 [4:39:29<12:54:49,  8.85s/it]"
     ]
    },
    {
     "name": "stdout",
     "output_type": "stream",
     "text": [
      "\n",
      "Batch 3900/9152: Load=1.68s, Embed=1.61s, Store=0.00s, Total=4.22s, Images/sec=2.84\n",
      "Estimated remaining time: 369.7 minutes\n"
     ]
    },
    {
     "name": "stderr",
     "output_type": "stream",
     "text": [
      "Processing train:  43%|████▎     | 3910/9152 [4:40:11<6:22:36,  4.38s/it] "
     ]
    },
    {
     "name": "stdout",
     "output_type": "stream",
     "text": [
      "\n",
      "Batch 3910/9152: Load=1.67s, Embed=1.61s, Store=0.00s, Total=4.22s, Images/sec=2.84\n",
      "Estimated remaining time: 369.0 minutes\n"
     ]
    },
    {
     "name": "stderr",
     "output_type": "stream",
     "text": [
      "Processing train:  43%|████▎     | 3920/9152 [4:40:54<6:06:34,  4.20s/it]"
     ]
    },
    {
     "name": "stdout",
     "output_type": "stream",
     "text": [
      "\n",
      "Batch 3920/9152: Load=1.56s, Embed=1.58s, Store=0.00s, Total=4.14s, Images/sec=2.90\n",
      "Estimated remaining time: 360.7 minutes\n"
     ]
    },
    {
     "name": "stderr",
     "output_type": "stream",
     "text": [
      "Processing train:  43%|████▎     | 3930/9152 [4:41:37<6:08:23,  4.23s/it]"
     ]
    },
    {
     "name": "stdout",
     "output_type": "stream",
     "text": [
      "\n",
      "Batch 3930/9152: Load=1.64s, Embed=1.59s, Store=0.00s, Total=4.16s, Images/sec=2.89\n",
      "Estimated remaining time: 361.7 minutes\n"
     ]
    },
    {
     "name": "stderr",
     "output_type": "stream",
     "text": [
      "Processing train:  43%|████▎     | 3940/9152 [4:42:19<6:10:23,  4.26s/it]"
     ]
    },
    {
     "name": "stdout",
     "output_type": "stream",
     "text": [
      "\n",
      "Batch 3940/9152: Load=1.49s, Embed=1.61s, Store=0.00s, Total=4.05s, Images/sec=2.96\n",
      "Estimated remaining time: 351.6 minutes\n"
     ]
    },
    {
     "name": "stderr",
     "output_type": "stream",
     "text": [
      "Processing train:  43%|████▎     | 3950/9152 [4:43:18<12:59:03,  8.99s/it]"
     ]
    },
    {
     "name": "stdout",
     "output_type": "stream",
     "text": [
      "\n",
      "Batch 3950/9152: Load=1.71s, Embed=1.59s, Store=0.00s, Total=4.29s, Images/sec=2.80\n",
      "Estimated remaining time: 371.6 minutes\n"
     ]
    },
    {
     "name": "stderr",
     "output_type": "stream",
     "text": [
      "Processing train:  43%|████▎     | 3960/9152 [4:44:01<6:23:07,  4.43s/it] "
     ]
    },
    {
     "name": "stdout",
     "output_type": "stream",
     "text": [
      "\n",
      "Batch 3960/9152: Load=1.59s, Embed=1.60s, Store=0.00s, Total=4.35s, Images/sec=2.76\n",
      "Estimated remaining time: 376.7 minutes\n"
     ]
    },
    {
     "name": "stderr",
     "output_type": "stream",
     "text": [
      "Processing train:  43%|████▎     | 3970/9152 [4:44:45<6:15:51,  4.35s/it]"
     ]
    },
    {
     "name": "stdout",
     "output_type": "stream",
     "text": [
      "\n",
      "Batch 3970/9152: Load=1.70s, Embed=1.60s, Store=0.00s, Total=4.27s, Images/sec=2.81\n",
      "Estimated remaining time: 368.5 minutes\n"
     ]
    },
    {
     "name": "stderr",
     "output_type": "stream",
     "text": [
      "Processing train:  43%|████▎     | 3980/9152 [4:45:29<6:18:48,  4.39s/it]"
     ]
    },
    {
     "name": "stdout",
     "output_type": "stream",
     "text": [
      "\n",
      "Batch 3980/9152: Load=1.65s, Embed=1.68s, Store=0.00s, Total=4.30s, Images/sec=2.79\n",
      "Estimated remaining time: 370.7 minutes\n"
     ]
    },
    {
     "name": "stderr",
     "output_type": "stream",
     "text": [
      "Processing train:  44%|████▎     | 3990/9152 [4:46:13<6:27:52,  4.51s/it]"
     ]
    },
    {
     "name": "stdout",
     "output_type": "stream",
     "text": [
      "\n",
      "Batch 3990/9152: Load=1.94s, Embed=1.62s, Store=0.00s, Total=4.92s, Images/sec=2.44\n",
      "Estimated remaining time: 423.4 minutes\n"
     ]
    },
    {
     "name": "stderr",
     "output_type": "stream",
     "text": [
      "Processing train:  44%|████▎     | 4000/9152 [4:47:12<12:59:25,  9.08s/it]"
     ]
    },
    {
     "name": "stdout",
     "output_type": "stream",
     "text": [
      "\n",
      "Batch 4000/9152: Load=1.75s, Embed=1.60s, Store=0.00s, Total=4.34s, Images/sec=2.77\n",
      "Estimated remaining time: 372.3 minutes\n"
     ]
    },
    {
     "name": "stderr",
     "output_type": "stream",
     "text": [
      "Processing train:  44%|████▍     | 4010/9152 [4:47:55<6:24:52,  4.49s/it] "
     ]
    },
    {
     "name": "stdout",
     "output_type": "stream",
     "text": [
      "\n",
      "Batch 4010/9152: Load=1.80s, Embed=1.76s, Store=0.00s, Total=4.52s, Images/sec=2.65\n",
      "Estimated remaining time: 387.7 minutes\n"
     ]
    },
    {
     "name": "stderr",
     "output_type": "stream",
     "text": [
      "Processing train:  44%|████▍     | 4020/9152 [4:48:38<6:00:21,  4.21s/it]"
     ]
    },
    {
     "name": "stdout",
     "output_type": "stream",
     "text": [
      "\n",
      "Batch 4020/9152: Load=1.48s, Embed=1.59s, Store=0.00s, Total=4.05s, Images/sec=2.96\n",
      "Estimated remaining time: 346.8 minutes\n"
     ]
    },
    {
     "name": "stderr",
     "output_type": "stream",
     "text": [
      "Processing train:  44%|████▍     | 4030/9152 [4:49:21<6:06:50,  4.30s/it]"
     ]
    },
    {
     "name": "stdout",
     "output_type": "stream",
     "text": [
      "\n",
      "Batch 4030/9152: Load=1.70s, Embed=1.89s, Store=0.00s, Total=4.61s, Images/sec=2.60\n",
      "Estimated remaining time: 393.6 minutes\n"
     ]
    },
    {
     "name": "stderr",
     "output_type": "stream",
     "text": [
      "Processing train:  44%|████▍     | 4040/9152 [4:50:05<6:23:47,  4.50s/it]"
     ]
    },
    {
     "name": "stdout",
     "output_type": "stream",
     "text": [
      "\n",
      "Batch 4040/9152: Load=2.23s, Embed=1.61s, Store=0.00s, Total=4.91s, Images/sec=2.45\n",
      "Estimated remaining time: 418.0 minutes\n"
     ]
    },
    {
     "name": "stderr",
     "output_type": "stream",
     "text": [
      "Processing train:  44%|████▍     | 4050/9152 [4:51:04<13:08:22,  9.27s/it]"
     ]
    },
    {
     "name": "stdout",
     "output_type": "stream",
     "text": [
      "\n",
      "Batch 4050/9152: Load=1.68s, Embed=1.59s, Store=0.00s, Total=4.25s, Images/sec=2.83\n",
      "Estimated remaining time: 361.2 minutes\n"
     ]
    },
    {
     "name": "stderr",
     "output_type": "stream",
     "text": [
      "Processing train:  44%|████▍     | 4060/9152 [4:51:48<6:25:30,  4.54s/it] "
     ]
    },
    {
     "name": "stdout",
     "output_type": "stream",
     "text": [
      "\n",
      "Batch 4060/9152: Load=1.54s, Embed=1.61s, Store=0.00s, Total=4.12s, Images/sec=2.92\n",
      "Estimated remaining time: 349.4 minutes\n"
     ]
    },
    {
     "name": "stderr",
     "output_type": "stream",
     "text": [
      "Processing train:  44%|████▍     | 4070/9152 [4:52:31<6:01:12,  4.26s/it]"
     ]
    },
    {
     "name": "stdout",
     "output_type": "stream",
     "text": [
      "\n",
      "Batch 4070/9152: Load=1.62s, Embed=1.66s, Store=0.00s, Total=4.25s, Images/sec=2.82\n",
      "Estimated remaining time: 360.0 minutes\n"
     ]
    },
    {
     "name": "stderr",
     "output_type": "stream",
     "text": [
      "Processing train:  45%|████▍     | 4080/9152 [4:53:18<7:08:08,  5.06s/it]"
     ]
    },
    {
     "name": "stdout",
     "output_type": "stream",
     "text": [
      "\n",
      "Batch 4080/9152: Load=2.73s, Embed=2.19s, Store=0.00s, Total=6.02s, Images/sec=1.99\n",
      "Estimated remaining time: 509.1 minutes\n"
     ]
    },
    {
     "name": "stderr",
     "output_type": "stream",
     "text": [
      "Processing train:  45%|████▍     | 4090/9152 [4:54:03<6:10:25,  4.39s/it]"
     ]
    },
    {
     "name": "stdout",
     "output_type": "stream",
     "text": [
      "\n",
      "Batch 4090/9152: Load=1.66s, Embed=1.80s, Store=0.00s, Total=4.46s, Images/sec=2.69\n",
      "Estimated remaining time: 376.0 minutes\n"
     ]
    },
    {
     "name": "stderr",
     "output_type": "stream",
     "text": [
      "Processing train:  45%|████▍     | 4100/9152 [4:55:03<13:14:00,  9.43s/it]"
     ]
    },
    {
     "name": "stdout",
     "output_type": "stream",
     "text": [
      "\n",
      "Batch 4100/9152: Load=1.54s, Embed=1.69s, Store=0.00s, Total=4.51s, Images/sec=2.66\n",
      "Estimated remaining time: 379.8 minutes\n"
     ]
    },
    {
     "name": "stderr",
     "output_type": "stream",
     "text": [
      "Processing train:  45%|████▍     | 4110/9152 [4:55:48<6:17:47,  4.50s/it] "
     ]
    },
    {
     "name": "stdout",
     "output_type": "stream",
     "text": [
      "\n",
      "Batch 4110/9152: Load=1.44s, Embed=1.66s, Store=0.00s, Total=4.32s, Images/sec=2.78\n",
      "Estimated remaining time: 362.7 minutes\n"
     ]
    },
    {
     "name": "stderr",
     "output_type": "stream",
     "text": [
      "Processing train:  45%|████▌     | 4120/9152 [4:56:33<6:17:36,  4.50s/it]"
     ]
    },
    {
     "name": "stdout",
     "output_type": "stream",
     "text": [
      "\n",
      "Batch 4120/9152: Load=1.66s, Embed=1.60s, Store=0.00s, Total=4.32s, Images/sec=2.78\n",
      "Estimated remaining time: 362.7 minutes\n"
     ]
    },
    {
     "name": "stderr",
     "output_type": "stream",
     "text": [
      "Processing train:  45%|████▌     | 4130/9152 [4:57:18<6:07:26,  4.39s/it]"
     ]
    },
    {
     "name": "stdout",
     "output_type": "stream",
     "text": [
      "\n",
      "Batch 4130/9152: Load=1.70s, Embed=1.60s, Store=0.00s, Total=4.33s, Images/sec=2.77\n",
      "Estimated remaining time: 362.8 minutes\n"
     ]
    },
    {
     "name": "stderr",
     "output_type": "stream",
     "text": [
      "Processing train:  45%|████▌     | 4140/9152 [4:58:04<7:04:38,  5.08s/it]"
     ]
    },
    {
     "name": "stdout",
     "output_type": "stream",
     "text": [
      "\n",
      "Batch 4140/9152: Load=2.77s, Embed=1.72s, Store=0.00s, Total=5.60s, Images/sec=2.14\n",
      "Estimated remaining time: 467.9 minutes\n"
     ]
    },
    {
     "name": "stderr",
     "output_type": "stream",
     "text": [
      "Processing train:  45%|████▌     | 4150/9152 [4:59:36<18:28:11, 13.29s/it]"
     ]
    },
    {
     "name": "stdout",
     "output_type": "stream",
     "text": [
      "\n",
      "Batch 4150/9152: Load=6.98s, Embed=2.22s, Store=0.00s, Total=10.21s, Images/sec=1.18\n",
      "Estimated remaining time: 850.8 minutes\n"
     ]
    },
    {
     "name": "stderr",
     "output_type": "stream",
     "text": [
      "Processing train:  45%|████▌     | 4160/9152 [5:00:20<6:32:58,  4.72s/it] "
     ]
    },
    {
     "name": "stdout",
     "output_type": "stream",
     "text": [
      "\n",
      "Batch 4160/9152: Load=1.74s, Embed=1.57s, Store=0.00s, Total=4.30s, Images/sec=2.79\n",
      "Estimated remaining time: 358.0 minutes\n"
     ]
    },
    {
     "name": "stderr",
     "output_type": "stream",
     "text": [
      "Processing train:  46%|████▌     | 4170/9152 [5:01:04<5:57:16,  4.30s/it]"
     ]
    },
    {
     "name": "stdout",
     "output_type": "stream",
     "text": [
      "\n",
      "Batch 4170/9152: Load=1.62s, Embed=1.58s, Store=0.00s, Total=4.20s, Images/sec=2.86\n",
      "Estimated remaining time: 348.5 minutes\n"
     ]
    },
    {
     "name": "stderr",
     "output_type": "stream",
     "text": [
      "Processing train:  46%|████▌     | 4180/9152 [5:02:09<10:56:11,  7.92s/it]"
     ]
    },
    {
     "name": "stdout",
     "output_type": "stream",
     "text": [
      "\n",
      "Batch 4180/9152: Load=2.85s, Embed=1.77s, Store=0.00s, Total=5.64s, Images/sec=2.13\n",
      "Estimated remaining time: 467.4 minutes\n"
     ]
    },
    {
     "name": "stderr",
     "output_type": "stream",
     "text": [
      "Processing train:  46%|████▌     | 4190/9152 [5:03:09<7:56:12,  5.76s/it] "
     ]
    },
    {
     "name": "stdout",
     "output_type": "stream",
     "text": [
      "\n",
      "Batch 4190/9152: Load=2.82s, Embed=1.70s, Store=0.00s, Total=5.54s, Images/sec=2.16\n",
      "Estimated remaining time: 458.4 minutes\n"
     ]
    },
    {
     "name": "stderr",
     "output_type": "stream",
     "text": [
      "Processing train:  46%|████▌     | 4200/9152 [5:04:15<12:58:07,  9.43s/it]"
     ]
    },
    {
     "name": "stdout",
     "output_type": "stream",
     "text": [
      "\n",
      "Batch 4200/9152: Load=1.70s, Embed=1.60s, Store=0.00s, Total=4.31s, Images/sec=2.79\n",
      "Estimated remaining time: 355.6 minutes\n"
     ]
    },
    {
     "name": "stderr",
     "output_type": "stream",
     "text": [
      "Processing train:  46%|████▌     | 4210/9152 [5:05:07<7:11:05,  5.23s/it] "
     ]
    },
    {
     "name": "stdout",
     "output_type": "stream",
     "text": [
      "\n",
      "Batch 4210/9152: Load=2.40s, Embed=1.66s, Store=0.00s, Total=5.08s, Images/sec=2.36\n",
      "Estimated remaining time: 418.7 minutes\n"
     ]
    },
    {
     "name": "stderr",
     "output_type": "stream",
     "text": [
      "Processing train:  46%|████▌     | 4220/9152 [5:06:36<17:49:58, 13.02s/it]"
     ]
    },
    {
     "name": "stdout",
     "output_type": "stream",
     "text": [
      "\n",
      "Batch 4220/9152: Load=18.50s, Embed=3.48s, Store=0.00s, Total=22.99s, Images/sec=0.52\n",
      "Estimated remaining time: 1889.9 minutes\n"
     ]
    },
    {
     "name": "stderr",
     "output_type": "stream",
     "text": [
      "Processing train:  46%|████▌     | 4230/9152 [5:07:20<6:25:55,  4.70s/it] "
     ]
    },
    {
     "name": "stdout",
     "output_type": "stream",
     "text": [
      "\n",
      "Batch 4230/9152: Load=1.73s, Embed=1.60s, Store=0.00s, Total=4.44s, Images/sec=2.71\n",
      "Estimated remaining time: 363.8 minutes\n"
     ]
    },
    {
     "name": "stderr",
     "output_type": "stream",
     "text": [
      "Processing train:  46%|████▋     | 4240/9152 [5:08:15<7:09:13,  5.24s/it]"
     ]
    },
    {
     "name": "stdout",
     "output_type": "stream",
     "text": [
      "\n",
      "Batch 4240/9152: Load=1.73s, Embed=1.63s, Store=0.00s, Total=4.37s, Images/sec=2.74\n",
      "Estimated remaining time: 357.9 minutes\n"
     ]
    },
    {
     "name": "stderr",
     "output_type": "stream",
     "text": [
      "Processing train:  46%|████▋     | 4250/9152 [5:09:17<12:52:48,  9.46s/it]"
     ]
    },
    {
     "name": "stdout",
     "output_type": "stream",
     "text": [
      "\n",
      "Batch 4250/9152: Load=1.84s, Embed=1.59s, Store=0.00s, Total=4.50s, Images/sec=2.67\n",
      "Estimated remaining time: 367.3 minutes\n"
     ]
    },
    {
     "name": "stderr",
     "output_type": "stream",
     "text": [
      "Processing train:  47%|████▋     | 4260/9152 [5:10:11<6:26:14,  4.74s/it] "
     ]
    },
    {
     "name": "stdout",
     "output_type": "stream",
     "text": [
      "\n",
      "Batch 4260/9152: Load=1.72s, Embed=1.62s, Store=0.00s, Total=4.38s, Images/sec=2.74\n",
      "Estimated remaining time: 357.4 minutes\n"
     ]
    },
    {
     "name": "stderr",
     "output_type": "stream",
     "text": [
      "Processing train:  47%|████▋     | 4270/9152 [5:10:53<5:42:28,  4.21s/it]"
     ]
    },
    {
     "name": "stdout",
     "output_type": "stream",
     "text": [
      "\n",
      "Batch 4270/9152: Load=1.49s, Embed=1.63s, Store=0.00s, Total=4.14s, Images/sec=2.90\n",
      "Estimated remaining time: 336.9 minutes\n"
     ]
    },
    {
     "name": "stderr",
     "output_type": "stream",
     "text": [
      "Processing train:  47%|████▋     | 4280/9152 [5:11:36<5:41:18,  4.20s/it]"
     ]
    },
    {
     "name": "stdout",
     "output_type": "stream",
     "text": [
      "\n",
      "Batch 4280/9152: Load=1.50s, Embed=1.58s, Store=0.00s, Total=4.08s, Images/sec=2.94\n",
      "Estimated remaining time: 331.7 minutes\n"
     ]
    },
    {
     "name": "stderr",
     "output_type": "stream",
     "text": [
      "Processing train:  47%|████▋     | 4290/9152 [5:12:19<5:51:17,  4.34s/it]"
     ]
    },
    {
     "name": "stdout",
     "output_type": "stream",
     "text": [
      "\n",
      "Batch 4290/9152: Load=1.58s, Embed=1.57s, Store=0.00s, Total=4.26s, Images/sec=2.82\n",
      "Estimated remaining time: 345.0 minutes\n"
     ]
    },
    {
     "name": "stderr",
     "output_type": "stream",
     "text": [
      "Processing train:  47%|████▋     | 4300/9152 [5:13:19<12:29:56,  9.27s/it]"
     ]
    },
    {
     "name": "stdout",
     "output_type": "stream",
     "text": [
      "\n",
      "Batch 4300/9152: Load=1.62s, Embed=1.66s, Store=0.00s, Total=4.41s, Images/sec=2.72\n",
      "Estimated remaining time: 356.7 minutes\n"
     ]
    },
    {
     "name": "stderr",
     "output_type": "stream",
     "text": [
      "Processing train:  47%|████▋     | 4310/9152 [5:14:01<5:57:45,  4.43s/it] "
     ]
    },
    {
     "name": "stdout",
     "output_type": "stream",
     "text": [
      "\n",
      "Batch 4310/9152: Load=1.68s, Embed=1.64s, Store=0.00s, Total=4.34s, Images/sec=2.76\n",
      "Estimated remaining time: 350.4 minutes\n"
     ]
    },
    {
     "name": "stderr",
     "output_type": "stream",
     "text": [
      "Processing train:  47%|████▋     | 4320/9152 [5:14:47<6:13:42,  4.64s/it]"
     ]
    },
    {
     "name": "stdout",
     "output_type": "stream",
     "text": [
      "\n",
      "Batch 4320/9152: Load=1.67s, Embed=1.84s, Store=0.00s, Total=4.58s, Images/sec=2.62\n",
      "Estimated remaining time: 368.5 minutes\n"
     ]
    },
    {
     "name": "stderr",
     "output_type": "stream",
     "text": [
      "Processing train:  47%|████▋     | 4330/9152 [5:15:33<6:05:50,  4.55s/it]"
     ]
    },
    {
     "name": "stdout",
     "output_type": "stream",
     "text": [
      "\n",
      "Batch 4330/9152: Load=1.65s, Embed=2.17s, Store=0.00s, Total=4.92s, Images/sec=2.44\n",
      "Estimated remaining time: 395.4 minutes\n"
     ]
    },
    {
     "name": "stderr",
     "output_type": "stream",
     "text": [
      "Processing train:  47%|████▋     | 4340/9152 [5:16:28<7:28:53,  5.60s/it]"
     ]
    },
    {
     "name": "stdout",
     "output_type": "stream",
     "text": [
      "\n",
      "Batch 4340/9152: Load=1.67s, Embed=2.40s, Store=0.00s, Total=5.32s, Images/sec=2.26\n",
      "Estimated remaining time: 426.3 minutes\n"
     ]
    },
    {
     "name": "stderr",
     "output_type": "stream",
     "text": [
      "Processing train:  48%|████▊     | 4350/9152 [5:17:33<12:59:51,  9.74s/it]"
     ]
    },
    {
     "name": "stdout",
     "output_type": "stream",
     "text": [
      "\n",
      "Batch 4350/9152: Load=1.69s, Embed=1.59s, Store=0.00s, Total=4.33s, Images/sec=2.77\n",
      "Estimated remaining time: 346.2 minutes\n"
     ]
    },
    {
     "name": "stderr",
     "output_type": "stream",
     "text": [
      "Processing train:  48%|████▊     | 4360/9152 [5:18:16<5:57:04,  4.47s/it] "
     ]
    },
    {
     "name": "stdout",
     "output_type": "stream",
     "text": [
      "\n",
      "Batch 4360/9152: Load=1.62s, Embed=1.66s, Store=0.00s, Total=4.31s, Images/sec=2.78\n",
      "Estimated remaining time: 344.6 minutes\n"
     ]
    },
    {
     "name": "stderr",
     "output_type": "stream",
     "text": [
      "Processing train:  48%|████▊     | 4370/9152 [5:19:00<5:43:47,  4.31s/it]"
     ]
    },
    {
     "name": "stdout",
     "output_type": "stream",
     "text": [
      "\n",
      "Batch 4370/9152: Load=1.55s, Embed=1.67s, Store=0.00s, Total=4.28s, Images/sec=2.81\n",
      "Estimated remaining time: 340.8 minutes\n"
     ]
    },
    {
     "name": "stderr",
     "output_type": "stream",
     "text": [
      "Processing train:  48%|████▊     | 4380/9152 [5:19:43<5:44:36,  4.33s/it]"
     ]
    },
    {
     "name": "stdout",
     "output_type": "stream",
     "text": [
      "\n",
      "Batch 4380/9152: Load=1.57s, Embed=1.69s, Store=0.00s, Total=4.29s, Images/sec=2.80\n",
      "Estimated remaining time: 341.2 minutes\n"
     ]
    },
    {
     "name": "stderr",
     "output_type": "stream",
     "text": [
      "Processing train:  48%|████▊     | 4390/9152 [5:20:26<5:41:11,  4.30s/it]"
     ]
    },
    {
     "name": "stdout",
     "output_type": "stream",
     "text": [
      "\n",
      "Batch 4390/9152: Load=1.54s, Embed=1.65s, Store=0.00s, Total=4.35s, Images/sec=2.76\n",
      "Estimated remaining time: 345.4 minutes\n"
     ]
    },
    {
     "name": "stderr",
     "output_type": "stream",
     "text": [
      "Processing train:  48%|████▊     | 4400/9152 [5:21:30<12:38:17,  9.57s/it]"
     ]
    },
    {
     "name": "stdout",
     "output_type": "stream",
     "text": [
      "\n",
      "Batch 4400/9152: Load=1.61s, Embed=1.64s, Store=0.00s, Total=4.29s, Images/sec=2.80\n",
      "Estimated remaining time: 339.5 minutes\n"
     ]
    },
    {
     "name": "stderr",
     "output_type": "stream",
     "text": [
      "Processing train:  48%|████▊     | 4410/9152 [5:22:19<7:02:32,  5.35s/it] "
     ]
    },
    {
     "name": "stdout",
     "output_type": "stream",
     "text": [
      "\n",
      "Batch 4410/9152: Load=2.56s, Embed=1.67s, Store=0.00s, Total=5.27s, Images/sec=2.28\n",
      "Estimated remaining time: 416.9 minutes\n"
     ]
    },
    {
     "name": "stderr",
     "output_type": "stream",
     "text": [
      "Processing train:  48%|████▊     | 4420/9152 [5:23:09<6:36:48,  5.03s/it]"
     ]
    },
    {
     "name": "stdout",
     "output_type": "stream",
     "text": [
      "\n",
      "Batch 4420/9152: Load=2.32s, Embed=1.62s, Store=0.00s, Total=5.03s, Images/sec=2.39\n",
      "Estimated remaining time: 396.5 minutes\n"
     ]
    },
    {
     "name": "stderr",
     "output_type": "stream",
     "text": [
      "Processing train:  48%|████▊     | 4430/9152 [5:24:03<6:57:49,  5.31s/it]"
     ]
    },
    {
     "name": "stdout",
     "output_type": "stream",
     "text": [
      "\n",
      "Batch 4430/9152: Load=2.69s, Embed=1.65s, Store=0.00s, Total=5.43s, Images/sec=2.21\n",
      "Estimated remaining time: 427.7 minutes\n"
     ]
    },
    {
     "name": "stderr",
     "output_type": "stream",
     "text": [
      "Processing train:  49%|████▊     | 4440/9152 [5:24:56<7:01:19,  5.37s/it]"
     ]
    },
    {
     "name": "stdout",
     "output_type": "stream",
     "text": [
      "\n",
      "Batch 4440/9152: Load=2.48s, Embed=1.66s, Store=0.00s, Total=5.29s, Images/sec=2.27\n",
      "Estimated remaining time: 415.8 minutes\n"
     ]
    },
    {
     "name": "stderr",
     "output_type": "stream",
     "text": [
      "Processing train:  49%|████▊     | 4450/9152 [5:26:10<14:14:45, 10.91s/it]"
     ]
    },
    {
     "name": "stdout",
     "output_type": "stream",
     "text": [
      "\n",
      "Batch 4450/9152: Load=2.37s, Embed=1.69s, Store=0.00s, Total=5.10s, Images/sec=2.35\n",
      "Estimated remaining time: 399.5 minutes\n"
     ]
    },
    {
     "name": "stderr",
     "output_type": "stream",
     "text": [
      "Processing train:  49%|████▊     | 4460/9152 [5:27:04<7:08:03,  5.47s/it] "
     ]
    },
    {
     "name": "stdout",
     "output_type": "stream",
     "text": [
      "\n",
      "Batch 4460/9152: Load=2.51s, Embed=1.68s, Store=0.00s, Total=5.23s, Images/sec=2.29\n",
      "Estimated remaining time: 409.3 minutes\n"
     ]
    },
    {
     "name": "stderr",
     "output_type": "stream",
     "text": [
      "Processing train:  49%|████▉     | 4470/9152 [5:27:54<5:54:47,  4.55s/it]"
     ]
    },
    {
     "name": "stdout",
     "output_type": "stream",
     "text": [
      "\n",
      "Batch 4470/9152: Load=1.70s, Embed=1.58s, Store=0.00s, Total=4.32s, Images/sec=2.78\n",
      "Estimated remaining time: 337.1 minutes\n"
     ]
    },
    {
     "name": "stderr",
     "output_type": "stream",
     "text": [
      "Processing train:  49%|████▉     | 4480/9152 [5:28:38<5:38:10,  4.34s/it]"
     ]
    },
    {
     "name": "stdout",
     "output_type": "stream",
     "text": [
      "\n",
      "Batch 4480/9152: Load=1.62s, Embed=1.60s, Store=0.00s, Total=4.28s, Images/sec=2.80\n",
      "Estimated remaining time: 333.5 minutes\n"
     ]
    },
    {
     "name": "stderr",
     "output_type": "stream",
     "text": [
      "Processing train:  49%|████▉     | 4490/9152 [5:29:21<5:35:32,  4.32s/it]"
     ]
    },
    {
     "name": "stdout",
     "output_type": "stream",
     "text": [
      "\n",
      "Batch 4490/9152: Load=1.72s, Embed=1.63s, Store=0.00s, Total=4.40s, Images/sec=2.73\n",
      "Estimated remaining time: 341.9 minutes\n"
     ]
    },
    {
     "name": "stderr",
     "output_type": "stream",
     "text": [
      "Processing train:  49%|████▉     | 4500/9152 [5:30:23<12:18:37,  9.53s/it]"
     ]
    },
    {
     "name": "stdout",
     "output_type": "stream",
     "text": [
      "\n",
      "Batch 4500/9152: Load=1.52s, Embed=1.61s, Store=0.00s, Total=4.24s, Images/sec=2.83\n",
      "Estimated remaining time: 329.1 minutes\n"
     ]
    },
    {
     "name": "stderr",
     "output_type": "stream",
     "text": [
      "Processing train:  49%|████▉     | 4510/9152 [5:31:08<6:27:25,  5.01s/it] "
     ]
    },
    {
     "name": "stdout",
     "output_type": "stream",
     "text": [
      "\n",
      "Batch 4510/9152: Load=2.58s, Embed=1.67s, Store=0.00s, Total=5.31s, Images/sec=2.26\n",
      "Estimated remaining time: 410.9 minutes\n"
     ]
    },
    {
     "name": "stderr",
     "output_type": "stream",
     "text": [
      "Processing train:  49%|████▉     | 4520/9152 [5:31:52<5:34:39,  4.33s/it]"
     ]
    },
    {
     "name": "stdout",
     "output_type": "stream",
     "text": [
      "\n",
      "Batch 4520/9152: Load=1.50s, Embed=1.72s, Store=0.00s, Total=4.29s, Images/sec=2.80\n",
      "Estimated remaining time: 331.1 minutes\n"
     ]
    },
    {
     "name": "stderr",
     "output_type": "stream",
     "text": [
      "Processing train:  49%|████▉     | 4530/9152 [5:32:36<5:33:09,  4.32s/it]"
     ]
    },
    {
     "name": "stdout",
     "output_type": "stream",
     "text": [
      "\n",
      "Batch 4530/9152: Load=1.64s, Embed=1.68s, Store=0.00s, Total=4.38s, Images/sec=2.74\n",
      "Estimated remaining time: 337.8 minutes\n"
     ]
    },
    {
     "name": "stderr",
     "output_type": "stream",
     "text": [
      "Processing train:  50%|████▉     | 4540/9152 [5:33:18<5:26:54,  4.25s/it]"
     ]
    },
    {
     "name": "stdout",
     "output_type": "stream",
     "text": [
      "\n",
      "Batch 4540/9152: Load=1.56s, Embed=1.62s, Store=0.00s, Total=4.28s, Images/sec=2.80\n",
      "Estimated remaining time: 329.3 minutes\n"
     ]
    },
    {
     "name": "stderr",
     "output_type": "stream",
     "text": [
      "Processing train:  50%|████▉     | 4550/9152 [5:34:19<12:13:59,  9.57s/it]"
     ]
    },
    {
     "name": "stdout",
     "output_type": "stream",
     "text": [
      "\n",
      "Batch 4550/9152: Load=1.50s, Embed=1.60s, Store=0.00s, Total=4.16s, Images/sec=2.89\n",
      "Estimated remaining time: 318.8 minutes\n"
     ]
    },
    {
     "name": "stderr",
     "output_type": "stream",
     "text": [
      "Processing train:  50%|████▉     | 4560/9152 [5:35:02<5:45:57,  4.52s/it] "
     ]
    },
    {
     "name": "stdout",
     "output_type": "stream",
     "text": [
      "\n",
      "Batch 4560/9152: Load=1.46s, Embed=1.66s, Store=0.00s, Total=4.19s, Images/sec=2.87\n",
      "Estimated remaining time: 320.4 minutes\n"
     ]
    },
    {
     "name": "stderr",
     "output_type": "stream",
     "text": [
      "Processing train:  50%|████▉     | 4570/9152 [5:35:46<5:30:32,  4.33s/it]"
     ]
    },
    {
     "name": "stdout",
     "output_type": "stream",
     "text": [
      "\n",
      "Batch 4570/9152: Load=1.65s, Embed=1.65s, Store=0.00s, Total=4.38s, Images/sec=2.74\n",
      "Estimated remaining time: 334.3 minutes\n"
     ]
    },
    {
     "name": "stderr",
     "output_type": "stream",
     "text": [
      "Processing train:  50%|█████     | 4580/9152 [5:36:28<5:22:25,  4.23s/it]"
     ]
    },
    {
     "name": "stdout",
     "output_type": "stream",
     "text": [
      "\n",
      "Batch 4580/9152: Load=1.36s, Embed=1.65s, Store=0.00s, Total=4.10s, Images/sec=2.93\n",
      "Estimated remaining time: 312.3 minutes\n"
     ]
    },
    {
     "name": "stderr",
     "output_type": "stream",
     "text": [
      "Processing train:  50%|█████     | 4590/9152 [5:37:12<5:31:12,  4.36s/it]"
     ]
    },
    {
     "name": "stdout",
     "output_type": "stream",
     "text": [
      "\n",
      "Batch 4590/9152: Load=1.67s, Embed=1.64s, Store=0.00s, Total=4.38s, Images/sec=2.74\n",
      "Estimated remaining time: 333.1 minutes\n"
     ]
    },
    {
     "name": "stderr",
     "output_type": "stream",
     "text": [
      "Processing train:  50%|█████     | 4600/9152 [5:38:20<13:33:55, 10.73s/it]"
     ]
    },
    {
     "name": "stdout",
     "output_type": "stream",
     "text": [
      "\n",
      "Batch 4600/9152: Load=1.65s, Embed=2.70s, Store=0.00s, Total=5.48s, Images/sec=2.19\n",
      "Estimated remaining time: 416.1 minutes\n"
     ]
    },
    {
     "name": "stderr",
     "output_type": "stream",
     "text": [
      "Processing train:  50%|█████     | 4610/9152 [5:39:02<5:35:20,  4.43s/it] "
     ]
    },
    {
     "name": "stdout",
     "output_type": "stream",
     "text": [
      "\n",
      "Batch 4610/9152: Load=1.58s, Embed=1.60s, Store=0.00s, Total=4.25s, Images/sec=2.82\n",
      "Estimated remaining time: 321.8 minutes\n"
     ]
    },
    {
     "name": "stderr",
     "output_type": "stream",
     "text": [
      "Processing train:  50%|█████     | 4620/9152 [5:39:45<5:26:11,  4.32s/it]"
     ]
    },
    {
     "name": "stdout",
     "output_type": "stream",
     "text": [
      "\n",
      "Batch 4620/9152: Load=1.58s, Embed=1.63s, Store=0.00s, Total=4.29s, Images/sec=2.80\n",
      "Estimated remaining time: 324.2 minutes\n"
     ]
    },
    {
     "name": "stderr",
     "output_type": "stream",
     "text": [
      "Processing train:  51%|█████     | 4630/9152 [5:40:29<5:29:39,  4.37s/it]"
     ]
    },
    {
     "name": "stdout",
     "output_type": "stream",
     "text": [
      "\n",
      "Batch 4630/9152: Load=1.66s, Embed=1.59s, Store=0.00s, Total=4.33s, Images/sec=2.77\n",
      "Estimated remaining time: 326.7 minutes\n"
     ]
    },
    {
     "name": "stderr",
     "output_type": "stream",
     "text": [
      "Processing train:  51%|█████     | 4640/9152 [5:41:12<5:24:11,  4.31s/it]"
     ]
    },
    {
     "name": "stdout",
     "output_type": "stream",
     "text": [
      "\n",
      "Batch 4640/9152: Load=1.58s, Embed=1.61s, Store=0.00s, Total=4.28s, Images/sec=2.80\n",
      "Estimated remaining time: 321.8 minutes\n"
     ]
    },
    {
     "name": "stderr",
     "output_type": "stream",
     "text": [
      "Processing train:  51%|█████     | 4650/9152 [5:42:13<12:10:32,  9.74s/it]"
     ]
    },
    {
     "name": "stdout",
     "output_type": "stream",
     "text": [
      "\n",
      "Batch 4650/9152: Load=1.53s, Embed=1.69s, Store=0.00s, Total=4.32s, Images/sec=2.78\n",
      "Estimated remaining time: 324.3 minutes\n"
     ]
    },
    {
     "name": "stderr",
     "output_type": "stream",
     "text": [
      "Processing train:  51%|█████     | 4660/9152 [5:42:59<5:38:02,  4.52s/it] "
     ]
    },
    {
     "name": "stdout",
     "output_type": "stream",
     "text": [
      "\n",
      "Batch 4660/9152: Load=1.61s, Embed=1.62s, Store=0.00s, Total=4.31s, Images/sec=2.78\n",
      "Estimated remaining time: 323.0 minutes\n"
     ]
    },
    {
     "name": "stderr",
     "output_type": "stream",
     "text": [
      "Processing train:  51%|█████     | 4670/9152 [5:43:44<5:56:09,  4.77s/it]"
     ]
    },
    {
     "name": "stdout",
     "output_type": "stream",
     "text": [
      "\n",
      "Batch 4670/9152: Load=2.15s, Embed=1.64s, Store=0.00s, Total=4.99s, Images/sec=2.40\n",
      "Estimated remaining time: 373.0 minutes\n"
     ]
    },
    {
     "name": "stderr",
     "output_type": "stream",
     "text": [
      "Processing train:  51%|█████     | 4680/9152 [5:44:31<5:34:52,  4.49s/it]"
     ]
    },
    {
     "name": "stdout",
     "output_type": "stream",
     "text": [
      "\n",
      "Batch 4680/9152: Load=1.56s, Embed=1.66s, Store=0.00s, Total=4.42s, Images/sec=2.71\n",
      "Estimated remaining time: 329.4 minutes\n"
     ]
    },
    {
     "name": "stderr",
     "output_type": "stream",
     "text": [
      "Processing train:  51%|█████     | 4690/9152 [5:45:19<6:13:41,  5.02s/it]"
     ]
    },
    {
     "name": "stdout",
     "output_type": "stream",
     "text": [
      "\n",
      "Batch 4690/9152: Load=2.40s, Embed=1.67s, Store=0.00s, Total=5.16s, Images/sec=2.32\n",
      "Estimated remaining time: 384.1 minutes\n"
     ]
    },
    {
     "name": "stderr",
     "output_type": "stream",
     "text": [
      "Processing train:  51%|█████▏    | 4700/9152 [5:46:26<12:53:18, 10.42s/it]"
     ]
    },
    {
     "name": "stdout",
     "output_type": "stream",
     "text": [
      "\n",
      "Batch 4700/9152: Load=1.80s, Embed=1.66s, Store=0.00s, Total=4.61s, Images/sec=2.60\n",
      "Estimated remaining time: 341.8 minutes\n"
     ]
    },
    {
     "name": "stderr",
     "output_type": "stream",
     "text": [
      "Processing train:  51%|█████▏    | 4710/9152 [5:47:13<6:11:30,  5.02s/it] "
     ]
    },
    {
     "name": "stdout",
     "output_type": "stream",
     "text": [
      "\n",
      "Batch 4710/9152: Load=2.40s, Embed=1.64s, Store=0.00s, Total=5.14s, Images/sec=2.33\n",
      "Estimated remaining time: 380.5 minutes\n"
     ]
    },
    {
     "name": "stderr",
     "output_type": "stream",
     "text": [
      "Processing train:  52%|█████▏    | 4720/9152 [5:48:03<6:14:26,  5.07s/it]"
     ]
    },
    {
     "name": "stdout",
     "output_type": "stream",
     "text": [
      "\n",
      "Batch 4720/9152: Load=2.23s, Embed=1.66s, Store=0.00s, Total=4.99s, Images/sec=2.40\n",
      "Estimated remaining time: 368.9 minutes\n"
     ]
    },
    {
     "name": "stderr",
     "output_type": "stream",
     "text": [
      "Processing train:  52%|█████▏    | 4730/9152 [5:48:57<6:39:28,  5.42s/it]"
     ]
    },
    {
     "name": "stdout",
     "output_type": "stream",
     "text": [
      "\n",
      "Batch 4730/9152: Load=2.62s, Embed=1.67s, Store=0.00s, Total=5.38s, Images/sec=2.23\n",
      "Estimated remaining time: 396.8 minutes\n"
     ]
    },
    {
     "name": "stderr",
     "output_type": "stream",
     "text": [
      "Processing train:  52%|█████▏    | 4740/9152 [5:49:52<6:36:01,  5.39s/it]"
     ]
    },
    {
     "name": "stdout",
     "output_type": "stream",
     "text": [
      "\n",
      "Batch 4740/9152: Load=2.57s, Embed=1.71s, Store=0.00s, Total=5.39s, Images/sec=2.23\n",
      "Estimated remaining time: 396.3 minutes\n"
     ]
    },
    {
     "name": "stderr",
     "output_type": "stream",
     "text": [
      "Processing train:  52%|█████▏    | 4750/9152 [5:51:04<13:14:51, 10.83s/it]"
     ]
    },
    {
     "name": "stdout",
     "output_type": "stream",
     "text": [
      "\n",
      "Batch 4750/9152: Load=1.95s, Embed=1.65s, Store=0.00s, Total=4.70s, Images/sec=2.55\n",
      "Estimated remaining time: 344.8 minutes\n"
     ]
    },
    {
     "name": "stderr",
     "output_type": "stream",
     "text": [
      "Processing train:  52%|█████▏    | 4760/9152 [5:51:49<5:30:19,  4.51s/it] "
     ]
    },
    {
     "name": "stdout",
     "output_type": "stream",
     "text": [
      "\n",
      "Batch 4760/9152: Load=1.53s, Embed=1.60s, Store=0.00s, Total=4.25s, Images/sec=2.82\n",
      "Estimated remaining time: 311.4 minutes\n"
     ]
    },
    {
     "name": "stderr",
     "output_type": "stream",
     "text": [
      "Processing train:  52%|█████▏    | 4770/9152 [5:52:32<5:14:33,  4.31s/it]"
     ]
    },
    {
     "name": "stdout",
     "output_type": "stream",
     "text": [
      "\n",
      "Batch 4770/9152: Load=1.55s, Embed=1.57s, Store=0.00s, Total=4.21s, Images/sec=2.85\n",
      "Estimated remaining time: 307.8 minutes\n"
     ]
    },
    {
     "name": "stderr",
     "output_type": "stream",
     "text": [
      "Processing train:  52%|█████▏    | 4800/9152 [5:55:03<12:06:10, 10.01s/it]"
     ]
    },
    {
     "name": "stdout",
     "output_type": "stream",
     "text": [
      "\n",
      "Batch 4800/9152: Load=1.63s, Embed=1.67s, Store=0.00s, Total=4.41s, Images/sec=2.72\n",
      "Estimated remaining time: 320.1 minutes\n"
     ]
    },
    {
     "name": "stderr",
     "output_type": "stream",
     "text": [
      "Processing train:  53%|█████▎    | 4810/9152 [5:55:47<5:29:17,  4.55s/it] "
     ]
    },
    {
     "name": "stdout",
     "output_type": "stream",
     "text": [
      "\n",
      "Batch 4810/9152: Load=1.61s, Embed=1.59s, Store=0.00s, Total=4.37s, Images/sec=2.75\n",
      "Estimated remaining time: 316.1 minutes\n"
     ]
    },
    {
     "name": "stderr",
     "output_type": "stream",
     "text": [
      "Processing train:  53%|█████▎    | 4820/9152 [5:56:31<5:19:20,  4.42s/it]"
     ]
    },
    {
     "name": "stdout",
     "output_type": "stream",
     "text": [
      "\n",
      "Batch 4820/9152: Load=1.63s, Embed=1.66s, Store=0.00s, Total=4.50s, Images/sec=2.67\n",
      "Estimated remaining time: 325.0 minutes\n"
     ]
    },
    {
     "name": "stderr",
     "output_type": "stream",
     "text": [
      "Processing train:  53%|█████▎    | 4830/9152 [5:57:15<5:13:30,  4.35s/it]"
     ]
    },
    {
     "name": "stdout",
     "output_type": "stream",
     "text": [
      "\n",
      "Batch 4830/9152: Load=1.53s, Embed=1.65s, Store=0.00s, Total=4.29s, Images/sec=2.80\n",
      "Estimated remaining time: 309.1 minutes\n"
     ]
    },
    {
     "name": "stderr",
     "output_type": "stream",
     "text": [
      "Processing train:  53%|█████▎    | 4840/9152 [5:57:59<5:16:49,  4.41s/it]"
     ]
    },
    {
     "name": "stdout",
     "output_type": "stream",
     "text": [
      "\n",
      "Batch 4840/9152: Load=1.56s, Embed=1.66s, Store=0.00s, Total=4.40s, Images/sec=2.73\n",
      "Estimated remaining time: 316.0 minutes\n"
     ]
    },
    {
     "name": "stderr",
     "output_type": "stream",
     "text": [
      "Processing train:  53%|█████▎    | 4850/9152 [5:59:02<12:20:17, 10.32s/it]"
     ]
    },
    {
     "name": "stdout",
     "output_type": "stream",
     "text": [
      "\n",
      "Batch 4850/9152: Load=1.70s, Embed=1.60s, Store=0.00s, Total=4.42s, Images/sec=2.71\n",
      "Estimated remaining time: 317.2 minutes\n"
     ]
    },
    {
     "name": "stderr",
     "output_type": "stream",
     "text": [
      "Processing train:  53%|█████▎    | 4880/9152 [6:01:19<5:07:42,  4.32s/it] "
     ]
    },
    {
     "name": "stdout",
     "output_type": "stream",
     "text": [
      "\n",
      "Batch 4880/9152: Load=1.61s, Embed=1.60s, Store=0.00s, Total=4.38s, Images/sec=2.74\n",
      "Estimated remaining time: 311.7 minutes\n"
     ]
    },
    {
     "name": "stderr",
     "output_type": "stream",
     "text": [
      "Processing train:  53%|█████▎    | 4890/9152 [6:02:03<5:10:18,  4.37s/it]"
     ]
    },
    {
     "name": "stdout",
     "output_type": "stream",
     "text": [
      "\n",
      "Batch 4890/9152: Load=1.65s, Embed=1.60s, Store=0.00s, Total=4.40s, Images/sec=2.73\n",
      "Estimated remaining time: 312.6 minutes\n"
     ]
    },
    {
     "name": "stderr",
     "output_type": "stream",
     "text": [
      "Processing train:  54%|█████▎    | 4900/9152 [6:03:06<11:51:06, 10.03s/it]"
     ]
    },
    {
     "name": "stdout",
     "output_type": "stream",
     "text": [
      "\n",
      "Batch 4900/9152: Load=1.68s, Embed=1.60s, Store=0.00s, Total=4.41s, Images/sec=2.72\n",
      "Estimated remaining time: 312.3 minutes\n"
     ]
    },
    {
     "name": "stderr",
     "output_type": "stream",
     "text": [
      "Processing train:  54%|█████▎    | 4910/9152 [6:03:50<5:22:58,  4.57s/it] "
     ]
    },
    {
     "name": "stdout",
     "output_type": "stream",
     "text": [
      "\n",
      "Batch 4910/9152: Load=1.68s, Embed=1.59s, Store=0.00s, Total=4.46s, Images/sec=2.69\n",
      "Estimated remaining time: 315.6 minutes\n"
     ]
    },
    {
     "name": "stderr",
     "output_type": "stream",
     "text": [
      "Processing train:  54%|█████▍    | 4920/9152 [6:04:41<6:15:48,  5.33s/it]"
     ]
    },
    {
     "name": "stdout",
     "output_type": "stream",
     "text": [
      "\n",
      "Batch 4920/9152: Load=2.91s, Embed=1.68s, Store=0.00s, Total=5.72s, Images/sec=2.10\n",
      "Estimated remaining time: 403.7 minutes\n"
     ]
    },
    {
     "name": "stderr",
     "output_type": "stream",
     "text": [
      "Processing train:  54%|█████▍    | 4930/9152 [6:05:35<6:20:13,  5.40s/it]"
     ]
    },
    {
     "name": "stdout",
     "output_type": "stream",
     "text": [
      "\n",
      "Batch 4930/9152: Load=2.61s, Embed=1.66s, Store=0.00s, Total=5.47s, Images/sec=2.20\n",
      "Estimated remaining time: 384.6 minutes\n"
     ]
    },
    {
     "name": "stderr",
     "output_type": "stream",
     "text": [
      "Processing train:  54%|█████▍    | 4940/9152 [6:06:29<6:19:02,  5.40s/it]"
     ]
    },
    {
     "name": "stdout",
     "output_type": "stream",
     "text": [
      "\n",
      "Batch 4940/9152: Load=2.53s, Embed=1.66s, Store=0.00s, Total=5.35s, Images/sec=2.24\n",
      "Estimated remaining time: 375.7 minutes\n"
     ]
    },
    {
     "name": "stderr",
     "output_type": "stream",
     "text": [
      "Processing train:  54%|█████▍    | 4950/9152 [6:07:35<11:51:20, 10.16s/it]"
     ]
    },
    {
     "name": "stdout",
     "output_type": "stream",
     "text": [
      "\n",
      "Batch 4950/9152: Load=1.59s, Embed=1.60s, Store=0.00s, Total=4.35s, Images/sec=2.76\n",
      "Estimated remaining time: 304.6 minutes\n"
     ]
    },
    {
     "name": "stderr",
     "output_type": "stream",
     "text": [
      "Processing train:  54%|█████▍    | 4960/9152 [6:08:19<5:13:15,  4.48s/it] "
     ]
    },
    {
     "name": "stdout",
     "output_type": "stream",
     "text": [
      "\n",
      "Batch 4960/9152: Load=1.57s, Embed=1.58s, Store=0.00s, Total=4.29s, Images/sec=2.80\n",
      "Estimated remaining time: 299.5 minutes\n"
     ]
    },
    {
     "name": "stderr",
     "output_type": "stream",
     "text": [
      "Processing train:  54%|█████▍    | 4970/9152 [6:09:02<5:02:03,  4.33s/it]"
     ]
    },
    {
     "name": "stdout",
     "output_type": "stream",
     "text": [
      "\n",
      "Batch 4970/9152: Load=1.49s, Embed=1.57s, Store=0.00s, Total=4.27s, Images/sec=2.81\n",
      "Estimated remaining time: 297.8 minutes\n"
     ]
    },
    {
     "name": "stderr",
     "output_type": "stream",
     "text": [
      "Processing train:  54%|█████▍    | 4980/9152 [6:09:45<4:58:49,  4.30s/it]"
     ]
    },
    {
     "name": "stdout",
     "output_type": "stream",
     "text": [
      "\n",
      "Batch 4980/9152: Load=1.64s, Embed=1.57s, Store=0.00s, Total=4.36s, Images/sec=2.75\n",
      "Estimated remaining time: 302.9 minutes\n"
     ]
    },
    {
     "name": "stderr",
     "output_type": "stream",
     "text": [
      "Processing train:  55%|█████▍    | 4990/9152 [6:10:29<5:04:18,  4.39s/it]"
     ]
    },
    {
     "name": "stdout",
     "output_type": "stream",
     "text": [
      "\n",
      "Batch 4990/9152: Load=1.45s, Embed=1.66s, Store=0.00s, Total=4.31s, Images/sec=2.79\n",
      "Estimated remaining time: 298.9 minutes\n"
     ]
    },
    {
     "name": "stderr",
     "output_type": "stream",
     "text": [
      "Processing train:  55%|█████▍    | 5000/9152 [6:11:34<11:53:40, 10.31s/it]"
     ]
    },
    {
     "name": "stdout",
     "output_type": "stream",
     "text": [
      "\n",
      "Batch 5000/9152: Load=1.63s, Embed=1.87s, Store=0.00s, Total=4.66s, Images/sec=2.58\n",
      "Estimated remaining time: 322.1 minutes\n"
     ]
    },
    {
     "name": "stderr",
     "output_type": "stream",
     "text": [
      "Processing train:  55%|█████▍    | 5010/9152 [6:12:18<5:18:37,  4.62s/it] "
     ]
    },
    {
     "name": "stdout",
     "output_type": "stream",
     "text": [
      "\n",
      "Batch 5010/9152: Load=1.65s, Embed=1.64s, Store=0.00s, Total=4.45s, Images/sec=2.70\n",
      "Estimated remaining time: 307.3 minutes\n"
     ]
    },
    {
     "name": "stderr",
     "output_type": "stream",
     "text": [
      "Processing train:  55%|█████▍    | 5020/9152 [6:13:04<5:17:12,  4.61s/it]"
     ]
    },
    {
     "name": "stdout",
     "output_type": "stream",
     "text": [
      "\n",
      "Batch 5020/9152: Load=1.68s, Embed=1.69s, Store=0.00s, Total=4.63s, Images/sec=2.59\n",
      "Estimated remaining time: 319.0 minutes\n"
     ]
    },
    {
     "name": "stderr",
     "output_type": "stream",
     "text": [
      "Processing train:  55%|█████▍    | 5030/9152 [6:13:51<5:27:53,  4.77s/it]"
     ]
    },
    {
     "name": "stdout",
     "output_type": "stream",
     "text": [
      "\n",
      "Batch 5030/9152: Load=1.62s, Embed=1.63s, Store=0.00s, Total=4.63s, Images/sec=2.59\n",
      "Estimated remaining time: 318.4 minutes\n"
     ]
    },
    {
     "name": "stderr",
     "output_type": "stream",
     "text": [
      "Processing train:  55%|█████▌    | 5040/9152 [6:14:40<5:46:51,  5.06s/it]"
     ]
    },
    {
     "name": "stdout",
     "output_type": "stream",
     "text": [
      "\n",
      "Batch 5040/9152: Load=2.49s, Embed=1.66s, Store=0.00s, Total=5.33s, Images/sec=2.25\n",
      "Estimated remaining time: 365.2 minutes\n"
     ]
    },
    {
     "name": "stderr",
     "output_type": "stream",
     "text": [
      "Processing train:  55%|█████▌    | 5050/9152 [6:15:51<12:38:27, 11.09s/it]"
     ]
    },
    {
     "name": "stdout",
     "output_type": "stream",
     "text": [
      "\n",
      "Batch 5050/9152: Load=2.61s, Embed=1.63s, Store=0.00s, Total=5.50s, Images/sec=2.18\n",
      "Estimated remaining time: 375.7 minutes\n"
     ]
    },
    {
     "name": "stderr",
     "output_type": "stream",
     "text": [
      "Processing train:  55%|█████▌    | 5060/9152 [6:16:46<6:21:06,  5.59s/it] "
     ]
    },
    {
     "name": "stdout",
     "output_type": "stream",
     "text": [
      "\n",
      "Batch 5060/9152: Load=2.48s, Embed=1.64s, Store=0.00s, Total=5.32s, Images/sec=2.26\n",
      "Estimated remaining time: 362.6 minutes\n"
     ]
    },
    {
     "name": "stderr",
     "output_type": "stream",
     "text": [
      "Processing train:  55%|█████▌    | 5070/9152 [6:17:41<6:26:08,  5.68s/it]"
     ]
    },
    {
     "name": "stdout",
     "output_type": "stream",
     "text": [
      "\n",
      "Batch 5070/9152: Load=2.85s, Embed=1.65s, Store=0.00s, Total=5.81s, Images/sec=2.07\n",
      "Estimated remaining time: 395.2 minutes\n"
     ]
    },
    {
     "name": "stderr",
     "output_type": "stream",
     "text": [
      "Processing train:  56%|█████▌    | 5080/9152 [6:18:32<5:18:40,  4.70s/it]"
     ]
    },
    {
     "name": "stdout",
     "output_type": "stream",
     "text": [
      "\n",
      "Batch 5080/9152: Load=1.61s, Embed=1.61s, Store=0.00s, Total=4.42s, Images/sec=2.71\n",
      "Estimated remaining time: 300.0 minutes\n"
     ]
    },
    {
     "name": "stderr",
     "output_type": "stream",
     "text": [
      "Processing train:  56%|█████▌    | 5090/9152 [6:19:22<5:46:50,  5.12s/it]"
     ]
    },
    {
     "name": "stdout",
     "output_type": "stream",
     "text": [
      "\n",
      "Batch 5090/9152: Load=1.75s, Embed=1.60s, Store=0.00s, Total=4.54s, Images/sec=2.65\n",
      "Estimated remaining time: 307.0 minutes\n"
     ]
    },
    {
     "name": "stderr",
     "output_type": "stream",
     "text": [
      "Processing train:  56%|█████▌    | 5100/9152 [6:20:29<12:00:49, 10.67s/it]"
     ]
    },
    {
     "name": "stdout",
     "output_type": "stream",
     "text": [
      "\n",
      "Batch 5100/9152: Load=1.82s, Embed=1.60s, Store=0.00s, Total=4.64s, Images/sec=2.59\n",
      "Estimated remaining time: 313.2 minutes\n"
     ]
    },
    {
     "name": "stderr",
     "output_type": "stream",
     "text": [
      "Processing train:  56%|█████▌    | 5110/9152 [6:21:20<6:01:16,  5.36s/it] "
     ]
    },
    {
     "name": "stdout",
     "output_type": "stream",
     "text": [
      "\n",
      "Batch 5110/9152: Load=2.23s, Embed=1.66s, Store=0.00s, Total=5.12s, Images/sec=2.35\n",
      "Estimated remaining time: 344.7 minutes\n"
     ]
    },
    {
     "name": "stderr",
     "output_type": "stream",
     "text": [
      "Processing train:  56%|█████▌    | 5120/9152 [6:22:12<5:45:55,  5.15s/it]"
     ]
    },
    {
     "name": "stdout",
     "output_type": "stream",
     "text": [
      "\n",
      "Batch 5120/9152: Load=1.77s, Embed=1.60s, Store=0.00s, Total=5.11s, Images/sec=2.35\n",
      "Estimated remaining time: 343.3 minutes\n"
     ]
    },
    {
     "name": "stderr",
     "output_type": "stream",
     "text": [
      "Processing train:  56%|█████▌    | 5130/9152 [6:23:06<5:57:23,  5.33s/it]"
     ]
    },
    {
     "name": "stdout",
     "output_type": "stream",
     "text": [
      "\n",
      "Batch 5130/9152: Load=2.40s, Embed=1.66s, Store=0.00s, Total=5.30s, Images/sec=2.26\n",
      "Estimated remaining time: 355.5 minutes\n"
     ]
    },
    {
     "name": "stderr",
     "output_type": "stream",
     "text": [
      "Processing train:  56%|█████▌    | 5140/9152 [6:24:01<6:08:09,  5.51s/it]"
     ]
    },
    {
     "name": "stdout",
     "output_type": "stream",
     "text": [
      "\n",
      "Batch 5140/9152: Load=2.53s, Embed=1.68s, Store=0.00s, Total=5.46s, Images/sec=2.20\n",
      "Estimated remaining time: 365.3 minutes\n"
     ]
    },
    {
     "name": "stderr",
     "output_type": "stream",
     "text": [
      "Processing train:  56%|█████▋    | 5150/9152 [6:25:14<12:32:12, 11.28s/it]"
     ]
    },
    {
     "name": "stdout",
     "output_type": "stream",
     "text": [
      "\n",
      "Batch 5150/9152: Load=2.58s, Embed=1.66s, Store=0.00s, Total=5.50s, Images/sec=2.18\n",
      "Estimated remaining time: 366.6 minutes\n"
     ]
    },
    {
     "name": "stderr",
     "output_type": "stream",
     "text": [
      "Processing train:  56%|█████▋    | 5160/9152 [6:26:09<6:15:25,  5.64s/it] "
     ]
    },
    {
     "name": "stdout",
     "output_type": "stream",
     "text": [
      "\n",
      "Batch 5160/9152: Load=2.59s, Embed=1.65s, Store=0.00s, Total=5.48s, Images/sec=2.19\n",
      "Estimated remaining time: 364.7 minutes\n"
     ]
    },
    {
     "name": "stderr",
     "output_type": "stream",
     "text": [
      "Processing train:  56%|█████▋    | 5170/9152 [6:27:02<5:53:17,  5.32s/it]"
     ]
    },
    {
     "name": "stdout",
     "output_type": "stream",
     "text": [
      "\n",
      "Batch 5170/9152: Load=2.36s, Embed=1.67s, Store=0.00s, Total=5.32s, Images/sec=2.26\n",
      "Estimated remaining time: 352.9 minutes\n"
     ]
    },
    {
     "name": "stderr",
     "output_type": "stream",
     "text": [
      "Processing train:  57%|█████▋    | 5180/9152 [6:27:55<5:49:27,  5.28s/it]"
     ]
    },
    {
     "name": "stdout",
     "output_type": "stream",
     "text": [
      "\n",
      "Batch 5180/9152: Load=2.47s, Embed=1.68s, Store=0.00s, Total=5.43s, Images/sec=2.21\n",
      "Estimated remaining time: 359.2 minutes\n"
     ]
    },
    {
     "name": "stderr",
     "output_type": "stream",
     "text": [
      "Processing train:  57%|█████▋    | 5190/9152 [6:28:51<6:07:19,  5.56s/it]"
     ]
    },
    {
     "name": "stdout",
     "output_type": "stream",
     "text": [
      "\n",
      "Batch 5190/9152: Load=2.61s, Embed=1.67s, Store=0.00s, Total=5.54s, Images/sec=2.17\n",
      "Estimated remaining time: 365.7 minutes\n"
     ]
    },
    {
     "name": "stderr",
     "output_type": "stream",
     "text": [
      "Processing train:  57%|█████▋    | 5200/9152 [6:29:58<11:38:47, 10.61s/it]"
     ]
    },
    {
     "name": "stdout",
     "output_type": "stream",
     "text": [
      "\n",
      "Batch 5200/9152: Load=1.63s, Embed=1.62s, Store=0.00s, Total=4.57s, Images/sec=2.63\n",
      "Estimated remaining time: 301.0 minutes\n"
     ]
    },
    {
     "name": "stderr",
     "output_type": "stream",
     "text": [
      "Processing train:  57%|█████▋    | 5210/9152 [6:30:43<5:05:06,  4.64s/it] "
     ]
    },
    {
     "name": "stdout",
     "output_type": "stream",
     "text": [
      "\n",
      "Batch 5210/9152: Load=1.49s, Embed=1.58s, Store=0.00s, Total=4.38s, Images/sec=2.74\n",
      "Estimated remaining time: 288.0 minutes\n"
     ]
    },
    {
     "name": "stderr",
     "output_type": "stream",
     "text": [
      "Processing train:  57%|█████▋    | 5220/9152 [6:31:29<5:00:39,  4.59s/it]"
     ]
    },
    {
     "name": "stdout",
     "output_type": "stream",
     "text": [
      "\n",
      "Batch 5220/9152: Load=1.59s, Embed=1.70s, Store=0.00s, Total=4.55s, Images/sec=2.64\n",
      "Estimated remaining time: 298.1 minutes\n"
     ]
    },
    {
     "name": "stderr",
     "output_type": "stream",
     "text": [
      "Processing train:  57%|█████▋    | 5230/9152 [6:32:17<5:25:08,  4.97s/it]"
     ]
    },
    {
     "name": "stdout",
     "output_type": "stream",
     "text": [
      "\n",
      "Batch 5230/9152: Load=2.22s, Embed=1.70s, Store=0.00s, Total=5.38s, Images/sec=2.23\n",
      "Estimated remaining time: 351.7 minutes\n"
     ]
    },
    {
     "name": "stderr",
     "output_type": "stream",
     "text": [
      "Processing train:  57%|█████▋    | 5240/9152 [6:33:05<5:00:19,  4.61s/it]"
     ]
    },
    {
     "name": "stdout",
     "output_type": "stream",
     "text": [
      "\n",
      "Batch 5240/9152: Load=1.59s, Embed=1.69s, Store=0.00s, Total=4.55s, Images/sec=2.64\n",
      "Estimated remaining time: 296.7 minutes\n"
     ]
    },
    {
     "name": "stderr",
     "output_type": "stream",
     "text": [
      "Processing train:  57%|█████▋    | 5250/9152 [6:34:09<11:18:57, 10.44s/it]"
     ]
    },
    {
     "name": "stdout",
     "output_type": "stream",
     "text": [
      "\n",
      "Batch 5250/9152: Load=1.61s, Embed=1.59s, Store=0.00s, Total=4.47s, Images/sec=2.69\n",
      "Estimated remaining time: 290.5 minutes\n"
     ]
    },
    {
     "name": "stderr",
     "output_type": "stream",
     "text": [
      "Processing train:  57%|█████▋    | 5260/9152 [6:34:55<5:09:33,  4.77s/it] "
     ]
    },
    {
     "name": "stdout",
     "output_type": "stream",
     "text": [
      "\n",
      "Batch 5260/9152: Load=1.77s, Embed=1.59s, Store=0.00s, Total=4.74s, Images/sec=2.53\n",
      "Estimated remaining time: 307.7 minutes\n"
     ]
    },
    {
     "name": "stderr",
     "output_type": "stream",
     "text": [
      "Processing train:  58%|█████▊    | 5270/9152 [6:35:39<4:47:08,  4.44s/it]"
     ]
    },
    {
     "name": "stdout",
     "output_type": "stream",
     "text": [
      "\n",
      "Batch 5270/9152: Load=1.61s, Embed=1.57s, Store=0.00s, Total=4.46s, Images/sec=2.69\n",
      "Estimated remaining time: 288.8 minutes\n"
     ]
    },
    {
     "name": "stderr",
     "output_type": "stream",
     "text": [
      "Processing train:  58%|█████▊    | 5280/9152 [6:36:24<4:51:40,  4.52s/it]"
     ]
    },
    {
     "name": "stdout",
     "output_type": "stream",
     "text": [
      "\n",
      "Batch 5280/9152: Load=1.52s, Embed=1.58s, Store=0.00s, Total=4.46s, Images/sec=2.69\n",
      "Estimated remaining time: 288.1 minutes\n"
     ]
    },
    {
     "name": "stderr",
     "output_type": "stream",
     "text": [
      "Processing train:  58%|█████▊    | 5290/9152 [6:37:09<4:43:55,  4.41s/it]"
     ]
    },
    {
     "name": "stdout",
     "output_type": "stream",
     "text": [
      "\n",
      "Batch 5290/9152: Load=1.48s, Embed=1.62s, Store=0.00s, Total=4.36s, Images/sec=2.75\n",
      "Estimated remaining time: 280.6 minutes\n"
     ]
    },
    {
     "name": "stderr",
     "output_type": "stream",
     "text": [
      "Processing train:  58%|█████▊    | 5300/9152 [6:38:14<11:24:09, 10.66s/it]"
     ]
    },
    {
     "name": "stdout",
     "output_type": "stream",
     "text": [
      "\n",
      "Batch 5300/9152: Load=1.64s, Embed=1.58s, Store=0.00s, Total=4.48s, Images/sec=2.68\n",
      "Estimated remaining time: 287.8 minutes\n"
     ]
    },
    {
     "name": "stderr",
     "output_type": "stream",
     "text": [
      "Processing train:  58%|█████▊    | 5310/9152 [6:38:59<4:55:48,  4.62s/it] "
     ]
    },
    {
     "name": "stdout",
     "output_type": "stream",
     "text": [
      "\n",
      "Batch 5310/9152: Load=1.67s, Embed=1.57s, Store=0.00s, Total=4.49s, Images/sec=2.67\n",
      "Estimated remaining time: 287.7 minutes\n"
     ]
    },
    {
     "name": "stderr",
     "output_type": "stream",
     "text": [
      "Processing train:  58%|█████▊    | 5320/9152 [6:39:44<4:47:24,  4.50s/it]"
     ]
    },
    {
     "name": "stdout",
     "output_type": "stream",
     "text": [
      "\n",
      "Batch 5320/9152: Load=1.59s, Embed=1.59s, Store=0.00s, Total=4.49s, Images/sec=2.67\n",
      "Estimated remaining time: 286.7 minutes\n"
     ]
    },
    {
     "name": "stderr",
     "output_type": "stream",
     "text": [
      "Processing train:  58%|█████▊    | 5330/9152 [6:40:29<4:41:34,  4.42s/it]"
     ]
    },
    {
     "name": "stdout",
     "output_type": "stream",
     "text": [
      "\n",
      "Batch 5330/9152: Load=1.55s, Embed=1.58s, Store=0.00s, Total=4.39s, Images/sec=2.73\n",
      "Estimated remaining time: 279.7 minutes\n"
     ]
    },
    {
     "name": "stderr",
     "output_type": "stream",
     "text": [
      "Processing train:  58%|█████▊    | 5340/9152 [6:41:13<4:44:04,  4.47s/it]"
     ]
    },
    {
     "name": "stdout",
     "output_type": "stream",
     "text": [
      "\n",
      "Batch 5340/9152: Load=1.59s, Embed=1.59s, Store=0.00s, Total=4.44s, Images/sec=2.70\n",
      "Estimated remaining time: 282.0 minutes\n"
     ]
    },
    {
     "name": "stderr",
     "output_type": "stream",
     "text": [
      "Processing train:  58%|█████▊    | 5350/9152 [6:42:19<11:14:04, 10.64s/it]"
     ]
    },
    {
     "name": "stdout",
     "output_type": "stream",
     "text": [
      "\n",
      "Batch 5350/9152: Load=1.58s, Embed=1.58s, Store=0.00s, Total=4.45s, Images/sec=2.70\n",
      "Estimated remaining time: 281.8 minutes\n"
     ]
    },
    {
     "name": "stderr",
     "output_type": "stream",
     "text": [
      "Processing train:  59%|█████▊    | 5360/9152 [6:43:04<4:55:24,  4.67s/it] "
     ]
    },
    {
     "name": "stdout",
     "output_type": "stream",
     "text": [
      "\n",
      "Batch 5360/9152: Load=1.56s, Embed=1.60s, Store=0.00s, Total=4.61s, Images/sec=2.60\n",
      "Estimated remaining time: 291.3 minutes\n"
     ]
    },
    {
     "name": "stderr",
     "output_type": "stream",
     "text": [
      "Processing train:  59%|█████▊    | 5370/9152 [6:43:49<4:41:11,  4.46s/it]"
     ]
    },
    {
     "name": "stdout",
     "output_type": "stream",
     "text": [
      "\n",
      "Batch 5370/9152: Load=1.51s, Embed=1.58s, Store=0.00s, Total=4.33s, Images/sec=2.77\n",
      "Estimated remaining time: 272.7 minutes\n"
     ]
    },
    {
     "name": "stderr",
     "output_type": "stream",
     "text": [
      "Processing train:  59%|█████▉    | 5380/9152 [6:44:34<4:44:01,  4.52s/it]"
     ]
    },
    {
     "name": "stdout",
     "output_type": "stream",
     "text": [
      "\n",
      "Batch 5380/9152: Load=1.57s, Embed=1.59s, Store=0.00s, Total=4.49s, Images/sec=2.67\n",
      "Estimated remaining time: 282.2 minutes\n"
     ]
    },
    {
     "name": "stderr",
     "output_type": "stream",
     "text": [
      "Processing train:  59%|█████▉    | 5390/9152 [6:45:19<4:39:10,  4.45s/it]"
     ]
    },
    {
     "name": "stdout",
     "output_type": "stream",
     "text": [
      "\n",
      "Batch 5390/9152: Load=1.77s, Embed=1.59s, Store=0.00s, Total=4.59s, Images/sec=2.61\n",
      "Estimated remaining time: 287.9 minutes\n"
     ]
    },
    {
     "name": "stderr",
     "output_type": "stream",
     "text": [
      "Processing train:  59%|█████▉    | 5400/9152 [6:46:25<11:09:35, 10.71s/it]"
     ]
    },
    {
     "name": "stdout",
     "output_type": "stream",
     "text": [
      "\n",
      "Batch 5400/9152: Load=1.55s, Embed=1.60s, Store=0.00s, Total=4.39s, Images/sec=2.73\n",
      "Estimated remaining time: 274.8 minutes\n"
     ]
    },
    {
     "name": "stderr",
     "output_type": "stream",
     "text": [
      "Processing train:  59%|█████▉    | 5410/9152 [6:47:09<4:48:29,  4.63s/it] "
     ]
    },
    {
     "name": "stdout",
     "output_type": "stream",
     "text": [
      "\n",
      "Batch 5410/9152: Load=1.57s, Embed=1.60s, Store=0.00s, Total=4.42s, Images/sec=2.71\n",
      "Estimated remaining time: 275.8 minutes\n"
     ]
    },
    {
     "name": "stderr",
     "output_type": "stream",
     "text": [
      "Processing train:  59%|█████▉    | 5420/9152 [6:47:53<4:35:56,  4.44s/it]"
     ]
    },
    {
     "name": "stdout",
     "output_type": "stream",
     "text": [
      "\n",
      "Batch 5420/9152: Load=1.56s, Embed=1.59s, Store=0.00s, Total=4.41s, Images/sec=2.72\n",
      "Estimated remaining time: 274.6 minutes\n"
     ]
    },
    {
     "name": "stderr",
     "output_type": "stream",
     "text": [
      "Processing train:  59%|█████▉    | 5430/9152 [6:48:38<4:34:29,  4.42s/it]"
     ]
    },
    {
     "name": "stdout",
     "output_type": "stream",
     "text": [
      "\n",
      "Batch 5430/9152: Load=1.53s, Embed=1.59s, Store=0.00s, Total=4.45s, Images/sec=2.70\n",
      "Estimated remaining time: 276.1 minutes\n"
     ]
    },
    {
     "name": "stderr",
     "output_type": "stream",
     "text": [
      "Processing train:  59%|█████▉    | 5440/9152 [6:49:23<4:42:59,  4.57s/it]"
     ]
    },
    {
     "name": "stdout",
     "output_type": "stream",
     "text": [
      "\n",
      "Batch 5440/9152: Load=1.69s, Embed=1.59s, Store=0.00s, Total=4.68s, Images/sec=2.57\n",
      "Estimated remaining time: 289.3 minutes\n"
     ]
    },
    {
     "name": "stderr",
     "output_type": "stream",
     "text": [
      "Processing train:  60%|█████▉    | 5450/9152 [6:50:29<11:10:14, 10.86s/it]"
     ]
    },
    {
     "name": "stdout",
     "output_type": "stream",
     "text": [
      "\n",
      "Batch 5450/9152: Load=1.68s, Embed=1.58s, Store=0.00s, Total=4.51s, Images/sec=2.66\n",
      "Estimated remaining time: 278.0 minutes\n"
     ]
    },
    {
     "name": "stderr",
     "output_type": "stream",
     "text": [
      "Processing train:  60%|█████▉    | 5460/9152 [6:51:15<4:46:22,  4.65s/it] "
     ]
    },
    {
     "name": "stdout",
     "output_type": "stream",
     "text": [
      "\n",
      "Batch 5460/9152: Load=1.61s, Embed=1.57s, Store=0.00s, Total=4.44s, Images/sec=2.70\n",
      "Estimated remaining time: 273.2 minutes\n"
     ]
    },
    {
     "name": "stderr",
     "output_type": "stream",
     "text": [
      "Processing train:  60%|█████▉    | 5470/9152 [6:52:02<4:57:38,  4.85s/it]"
     ]
    },
    {
     "name": "stdout",
     "output_type": "stream",
     "text": [
      "\n",
      "Batch 5470/9152: Load=1.64s, Embed=1.61s, Store=0.00s, Total=4.97s, Images/sec=2.41\n",
      "Estimated remaining time: 305.2 minutes\n"
     ]
    },
    {
     "name": "stderr",
     "output_type": "stream",
     "text": [
      "Processing train:  60%|█████▉    | 5480/9152 [6:52:47<4:35:29,  4.50s/it]"
     ]
    },
    {
     "name": "stdout",
     "output_type": "stream",
     "text": [
      "\n",
      "Batch 5480/9152: Load=1.61s, Embed=1.58s, Store=0.00s, Total=4.46s, Images/sec=2.69\n",
      "Estimated remaining time: 273.2 minutes\n"
     ]
    },
    {
     "name": "stderr",
     "output_type": "stream",
     "text": [
      "Processing train:  60%|█████▉    | 5490/9152 [6:53:32<4:36:55,  4.54s/it]"
     ]
    },
    {
     "name": "stdout",
     "output_type": "stream",
     "text": [
      "\n",
      "Batch 5490/9152: Load=1.47s, Embed=1.60s, Store=0.00s, Total=4.51s, Images/sec=2.66\n",
      "Estimated remaining time: 275.5 minutes\n"
     ]
    },
    {
     "name": "stderr",
     "output_type": "stream",
     "text": [
      "Processing train:  60%|██████    | 5500/9152 [6:54:41<11:31:52, 11.37s/it]"
     ]
    },
    {
     "name": "stdout",
     "output_type": "stream",
     "text": [
      "\n",
      "Batch 5500/9152: Load=1.58s, Embed=1.58s, Store=0.00s, Total=4.42s, Images/sec=2.71\n",
      "Estimated remaining time: 269.2 minutes\n"
     ]
    },
    {
     "name": "stderr",
     "output_type": "stream",
     "text": [
      "Processing train:  60%|██████    | 5510/9152 [6:55:26<4:42:02,  4.65s/it] "
     ]
    },
    {
     "name": "stdout",
     "output_type": "stream",
     "text": [
      "\n",
      "Batch 5510/9152: Load=1.55s, Embed=1.58s, Store=0.00s, Total=4.40s, Images/sec=2.73\n",
      "Estimated remaining time: 266.9 minutes\n"
     ]
    },
    {
     "name": "stderr",
     "output_type": "stream",
     "text": [
      "Processing train:  60%|██████    | 5520/9152 [6:56:10<4:29:23,  4.45s/it]"
     ]
    },
    {
     "name": "stdout",
     "output_type": "stream",
     "text": [
      "\n",
      "Batch 5520/9152: Load=1.60s, Embed=1.58s, Store=0.00s, Total=4.44s, Images/sec=2.70\n",
      "Estimated remaining time: 268.9 minutes\n"
     ]
    },
    {
     "name": "stderr",
     "output_type": "stream",
     "text": [
      "Processing train:  60%|██████    | 5530/9152 [6:56:56<4:35:39,  4.57s/it]"
     ]
    },
    {
     "name": "stdout",
     "output_type": "stream",
     "text": [
      "\n",
      "Batch 5530/9152: Load=1.70s, Embed=1.58s, Store=0.00s, Total=4.59s, Images/sec=2.62\n",
      "Estimated remaining time: 277.0 minutes\n"
     ]
    },
    {
     "name": "stderr",
     "output_type": "stream",
     "text": [
      "Processing train:  61%|██████    | 5540/9152 [6:57:40<4:31:39,  4.51s/it]"
     ]
    },
    {
     "name": "stdout",
     "output_type": "stream",
     "text": [
      "\n",
      "Batch 5540/9152: Load=1.59s, Embed=1.61s, Store=0.00s, Total=4.60s, Images/sec=2.61\n",
      "Estimated remaining time: 276.6 minutes\n"
     ]
    },
    {
     "name": "stderr",
     "output_type": "stream",
     "text": [
      "Processing train:  61%|██████    | 5550/9152 [6:58:49<11:09:39, 11.15s/it]"
     ]
    },
    {
     "name": "stdout",
     "output_type": "stream",
     "text": [
      "\n",
      "Batch 5550/9152: Load=1.50s, Embed=1.60s, Store=0.00s, Total=4.40s, Images/sec=2.73\n",
      "Estimated remaining time: 264.0 minutes\n"
     ]
    },
    {
     "name": "stderr",
     "output_type": "stream",
     "text": [
      "Processing train:  61%|██████    | 5560/9152 [6:59:36<4:45:54,  4.78s/it] "
     ]
    },
    {
     "name": "stdout",
     "output_type": "stream",
     "text": [
      "\n",
      "Batch 5560/9152: Load=1.62s, Embed=1.58s, Store=0.00s, Total=4.64s, Images/sec=2.59\n",
      "Estimated remaining time: 277.8 minutes\n"
     ]
    },
    {
     "name": "stderr",
     "output_type": "stream",
     "text": [
      "Processing train:  61%|██████    | 5570/9152 [7:00:22<4:35:22,  4.61s/it]"
     ]
    },
    {
     "name": "stdout",
     "output_type": "stream",
     "text": [
      "\n",
      "Batch 5570/9152: Load=1.67s, Embed=1.57s, Store=0.00s, Total=4.53s, Images/sec=2.65\n",
      "Estimated remaining time: 270.6 minutes\n"
     ]
    },
    {
     "name": "stderr",
     "output_type": "stream",
     "text": [
      "Processing train:  61%|██████    | 5580/9152 [7:01:11<5:06:23,  5.15s/it]"
     ]
    },
    {
     "name": "stdout",
     "output_type": "stream",
     "text": [
      "\n",
      "Batch 5580/9152: Load=1.64s, Embed=1.58s, Store=0.00s, Total=5.31s, Images/sec=2.26\n",
      "Estimated remaining time: 316.4 minutes\n"
     ]
    },
    {
     "name": "stderr",
     "output_type": "stream",
     "text": [
      "Processing train:  61%|██████    | 5590/9152 [7:01:57<4:35:59,  4.65s/it]"
     ]
    },
    {
     "name": "stdout",
     "output_type": "stream",
     "text": [
      "\n",
      "Batch 5590/9152: Load=1.78s, Embed=1.59s, Store=0.00s, Total=4.73s, Images/sec=2.54\n",
      "Estimated remaining time: 280.6 minutes\n"
     ]
    },
    {
     "name": "stderr",
     "output_type": "stream",
     "text": [
      "Processing train:  61%|██████    | 5600/9152 [7:03:06<11:18:25, 11.46s/it]"
     ]
    },
    {
     "name": "stdout",
     "output_type": "stream",
     "text": [
      "\n",
      "Batch 5600/9152: Load=1.66s, Embed=1.62s, Store=0.00s, Total=4.66s, Images/sec=2.58\n",
      "Estimated remaining time: 275.8 minutes\n"
     ]
    },
    {
     "name": "stderr",
     "output_type": "stream",
     "text": [
      "Processing train:  61%|██████▏   | 5610/9152 [7:03:53<4:42:28,  4.79s/it] "
     ]
    },
    {
     "name": "stdout",
     "output_type": "stream",
     "text": [
      "\n",
      "Batch 5610/9152: Load=1.51s, Embed=1.59s, Store=0.00s, Total=4.56s, Images/sec=2.63\n",
      "Estimated remaining time: 269.3 minutes\n"
     ]
    },
    {
     "name": "stderr",
     "output_type": "stream",
     "text": [
      "Processing train:  61%|██████▏   | 5620/9152 [7:04:40<4:37:36,  4.72s/it]"
     ]
    },
    {
     "name": "stdout",
     "output_type": "stream",
     "text": [
      "\n",
      "Batch 5620/9152: Load=1.57s, Embed=1.60s, Store=0.00s, Total=4.60s, Images/sec=2.61\n",
      "Estimated remaining time: 270.6 minutes\n"
     ]
    },
    {
     "name": "stderr",
     "output_type": "stream",
     "text": [
      "Processing train:  62%|██████▏   | 5630/9152 [7:05:26<4:26:49,  4.55s/it]"
     ]
    },
    {
     "name": "stdout",
     "output_type": "stream",
     "text": [
      "\n",
      "Batch 5630/9152: Load=1.47s, Embed=1.60s, Store=0.00s, Total=4.44s, Images/sec=2.71\n",
      "Estimated remaining time: 260.4 minutes\n"
     ]
    },
    {
     "name": "stderr",
     "output_type": "stream",
     "text": [
      "Processing train:  62%|██████▏   | 5640/9152 [7:06:12<4:27:42,  4.57s/it]"
     ]
    },
    {
     "name": "stdout",
     "output_type": "stream",
     "text": [
      "\n",
      "Batch 5640/9152: Load=1.41s, Embed=1.57s, Store=0.00s, Total=4.40s, Images/sec=2.73\n",
      "Estimated remaining time: 257.7 minutes\n"
     ]
    },
    {
     "name": "stderr",
     "output_type": "stream",
     "text": [
      "Processing train:  62%|██████▏   | 5650/9152 [7:07:21<11:18:25, 11.62s/it]"
     ]
    },
    {
     "name": "stdout",
     "output_type": "stream",
     "text": [
      "\n",
      "Batch 5650/9152: Load=1.52s, Embed=1.59s, Store=0.00s, Total=4.48s, Images/sec=2.68\n",
      "Estimated remaining time: 261.4 minutes\n"
     ]
    },
    {
     "name": "stderr",
     "output_type": "stream",
     "text": [
      "Processing train:  62%|██████▏   | 5660/9152 [7:08:08<4:37:55,  4.78s/it] "
     ]
    },
    {
     "name": "stdout",
     "output_type": "stream",
     "text": [
      "\n",
      "Batch 5660/9152: Load=1.60s, Embed=1.58s, Store=0.00s, Total=4.53s, Images/sec=2.65\n",
      "Estimated remaining time: 263.9 minutes\n"
     ]
    },
    {
     "name": "stderr",
     "output_type": "stream",
     "text": [
      "Processing train:  62%|██████▏   | 5670/9152 [7:08:54<4:29:28,  4.64s/it]"
     ]
    },
    {
     "name": "stdout",
     "output_type": "stream",
     "text": [
      "\n",
      "Batch 5670/9152: Load=1.61s, Embed=1.63s, Store=0.00s, Total=4.64s, Images/sec=2.58\n",
      "Estimated remaining time: 269.4 minutes\n"
     ]
    },
    {
     "name": "stderr",
     "output_type": "stream",
     "text": [
      "Processing train:  62%|██████▏   | 5680/9152 [7:09:40<4:26:48,  4.61s/it]"
     ]
    },
    {
     "name": "stdout",
     "output_type": "stream",
     "text": [
      "\n",
      "Batch 5680/9152: Load=1.63s, Embed=1.66s, Store=0.00s, Total=4.64s, Images/sec=2.59\n",
      "Estimated remaining time: 268.3 minutes\n"
     ]
    },
    {
     "name": "stderr",
     "output_type": "stream",
     "text": [
      "Processing train:  62%|██████▏   | 5690/9152 [7:10:26<4:20:16,  4.51s/it]"
     ]
    },
    {
     "name": "stdout",
     "output_type": "stream",
     "text": [
      "\n",
      "Batch 5690/9152: Load=1.46s, Embed=1.64s, Store=0.00s, Total=4.40s, Images/sec=2.73\n",
      "Estimated remaining time: 253.9 minutes\n"
     ]
    },
    {
     "name": "stderr",
     "output_type": "stream",
     "text": [
      "Processing train:  62%|██████▏   | 5700/9152 [7:11:35<11:00:00, 11.47s/it]"
     ]
    },
    {
     "name": "stdout",
     "output_type": "stream",
     "text": [
      "\n",
      "Batch 5700/9152: Load=1.67s, Embed=1.65s, Store=0.00s, Total=4.63s, Images/sec=2.59\n",
      "Estimated remaining time: 266.4 minutes\n"
     ]
    },
    {
     "name": "stderr",
     "output_type": "stream",
     "text": [
      "Processing train:  62%|██████▏   | 5710/9152 [7:12:21<4:34:43,  4.79s/it] "
     ]
    },
    {
     "name": "stdout",
     "output_type": "stream",
     "text": [
      "\n",
      "Batch 5710/9152: Load=1.58s, Embed=1.62s, Store=0.00s, Total=4.54s, Images/sec=2.64\n",
      "Estimated remaining time: 260.3 minutes\n"
     ]
    },
    {
     "name": "stderr",
     "output_type": "stream",
     "text": [
      "Processing train:  62%|██████▎   | 5720/9152 [7:13:05<4:14:16,  4.45s/it]"
     ]
    },
    {
     "name": "stdout",
     "output_type": "stream",
     "text": [
      "\n",
      "Batch 5720/9152: Load=1.45s, Embed=1.57s, Store=0.00s, Total=4.32s, Images/sec=2.78\n",
      "Estimated remaining time: 247.1 minutes\n"
     ]
    },
    {
     "name": "stderr",
     "output_type": "stream",
     "text": [
      "Processing train:  63%|██████▎   | 5730/9152 [7:13:51<4:24:22,  4.64s/it]"
     ]
    },
    {
     "name": "stdout",
     "output_type": "stream",
     "text": [
      "\n",
      "Batch 5730/9152: Load=1.64s, Embed=1.65s, Store=0.00s, Total=4.67s, Images/sec=2.57\n",
      "Estimated remaining time: 266.1 minutes\n"
     ]
    },
    {
     "name": "stderr",
     "output_type": "stream",
     "text": [
      "Processing train:  63%|██████▎   | 5740/9152 [7:14:37<4:20:28,  4.58s/it]"
     ]
    },
    {
     "name": "stdout",
     "output_type": "stream",
     "text": [
      "\n",
      "Batch 5740/9152: Load=1.62s, Embed=1.61s, Store=0.00s, Total=4.60s, Images/sec=2.61\n",
      "Estimated remaining time: 261.6 minutes\n"
     ]
    },
    {
     "name": "stderr",
     "output_type": "stream",
     "text": [
      "Processing train:  63%|██████▎   | 5750/9152 [7:15:46<10:52:53, 11.51s/it]"
     ]
    },
    {
     "name": "stdout",
     "output_type": "stream",
     "text": [
      "\n",
      "Batch 5750/9152: Load=1.62s, Embed=1.67s, Store=0.00s, Total=4.59s, Images/sec=2.62\n",
      "Estimated remaining time: 260.0 minutes\n"
     ]
    },
    {
     "name": "stderr",
     "output_type": "stream",
     "text": [
      "Processing train:  63%|██████▎   | 5760/9152 [7:16:31<4:28:08,  4.74s/it] "
     ]
    },
    {
     "name": "stdout",
     "output_type": "stream",
     "text": [
      "\n",
      "Batch 5760/9152: Load=1.56s, Embed=1.58s, Store=0.00s, Total=4.51s, Images/sec=2.66\n",
      "Estimated remaining time: 255.0 minutes\n"
     ]
    },
    {
     "name": "stderr",
     "output_type": "stream",
     "text": [
      "Processing train:  63%|██████▎   | 5770/9152 [7:17:17<4:17:51,  4.57s/it]"
     ]
    },
    {
     "name": "stdout",
     "output_type": "stream",
     "text": [
      "\n",
      "Batch 5770/9152: Load=1.53s, Embed=1.59s, Store=0.00s, Total=4.46s, Images/sec=2.69\n",
      "Estimated remaining time: 251.4 minutes\n"
     ]
    },
    {
     "name": "stderr",
     "output_type": "stream",
     "text": [
      "Processing train:  63%|██████▎   | 5780/9152 [7:18:05<4:27:38,  4.76s/it]"
     ]
    },
    {
     "name": "stdout",
     "output_type": "stream",
     "text": [
      "\n",
      "Batch 5780/9152: Load=1.59s, Embed=1.64s, Store=0.00s, Total=4.53s, Images/sec=2.65\n",
      "Estimated remaining time: 254.8 minutes\n"
     ]
    },
    {
     "name": "stderr",
     "output_type": "stream",
     "text": [
      "Processing train:  63%|██████▎   | 5790/9152 [7:18:55<4:48:52,  5.16s/it]"
     ]
    },
    {
     "name": "stdout",
     "output_type": "stream",
     "text": [
      "\n",
      "Batch 5790/9152: Load=2.43s, Embed=1.64s, Store=0.00s, Total=5.40s, Images/sec=2.22\n",
      "Estimated remaining time: 302.7 minutes\n"
     ]
    },
    {
     "name": "stderr",
     "output_type": "stream",
     "text": [
      "Processing train:  63%|██████▎   | 5800/9152 [7:20:10<11:28:12, 12.32s/it]"
     ]
    },
    {
     "name": "stdout",
     "output_type": "stream",
     "text": [
      "\n",
      "Batch 5800/9152: Load=2.21s, Embed=1.64s, Store=0.00s, Total=5.25s, Images/sec=2.28\n",
      "Estimated remaining time: 293.5 minutes\n"
     ]
    },
    {
     "name": "stderr",
     "output_type": "stream",
     "text": [
      "Processing train:  63%|██████▎   | 5810/9152 [7:21:04<5:25:43,  5.85s/it] "
     ]
    },
    {
     "name": "stdout",
     "output_type": "stream",
     "text": [
      "\n",
      "Batch 5810/9152: Load=2.65s, Embed=1.64s, Store=0.00s, Total=5.78s, Images/sec=2.08\n",
      "Estimated remaining time: 322.0 minutes\n"
     ]
    },
    {
     "name": "stderr",
     "output_type": "stream",
     "text": [
      "Processing train:  64%|██████▎   | 5820/9152 [7:21:58<5:03:49,  5.47s/it]"
     ]
    },
    {
     "name": "stdout",
     "output_type": "stream",
     "text": [
      "\n",
      "Batch 5820/9152: Load=2.74s, Embed=1.69s, Store=0.00s, Total=5.74s, Images/sec=2.09\n",
      "Estimated remaining time: 318.7 minutes\n"
     ]
    },
    {
     "name": "stderr",
     "output_type": "stream",
     "text": [
      "Processing train:  64%|██████▎   | 5830/9152 [7:22:48<4:38:14,  5.03s/it]"
     ]
    },
    {
     "name": "stdout",
     "output_type": "stream",
     "text": [
      "\n",
      "Batch 5830/9152: Load=2.21s, Embed=1.63s, Store=0.00s, Total=5.22s, Images/sec=2.30\n",
      "Estimated remaining time: 288.8 minutes\n"
     ]
    },
    {
     "name": "stderr",
     "output_type": "stream",
     "text": [
      "Processing train:  64%|██████▍   | 5840/9152 [7:23:37<4:23:37,  4.78s/it]"
     ]
    },
    {
     "name": "stdout",
     "output_type": "stream",
     "text": [
      "\n",
      "Batch 5840/9152: Load=1.62s, Embed=1.64s, Store=0.00s, Total=4.62s, Images/sec=2.60\n",
      "Estimated remaining time: 255.2 minutes\n"
     ]
    },
    {
     "name": "stderr",
     "output_type": "stream",
     "text": [
      "Processing train:  64%|██████▍   | 5850/9152 [7:24:46<10:25:55, 11.37s/it]"
     ]
    },
    {
     "name": "stdout",
     "output_type": "stream",
     "text": [
      "\n",
      "Batch 5850/9152: Load=1.77s, Embed=1.63s, Store=0.00s, Total=4.73s, Images/sec=2.54\n",
      "Estimated remaining time: 260.4 minutes\n"
     ]
    },
    {
     "name": "stderr",
     "output_type": "stream",
     "text": [
      "Processing train:  64%|██████▍   | 5860/9152 [7:25:42<5:15:20,  5.75s/it] "
     ]
    },
    {
     "name": "stdout",
     "output_type": "stream",
     "text": [
      "\n",
      "Batch 5860/9152: Load=2.34s, Embed=1.68s, Store=0.00s, Total=5.50s, Images/sec=2.18\n",
      "Estimated remaining time: 301.9 minutes\n"
     ]
    },
    {
     "name": "stderr",
     "output_type": "stream",
     "text": [
      "Processing train:  64%|██████▍   | 5870/9152 [7:26:29<4:17:25,  4.71s/it]"
     ]
    },
    {
     "name": "stdout",
     "output_type": "stream",
     "text": [
      "\n",
      "Batch 5870/9152: Load=1.63s, Embed=1.60s, Store=0.00s, Total=4.73s, Images/sec=2.54\n",
      "Estimated remaining time: 258.5 minutes\n"
     ]
    },
    {
     "name": "stderr",
     "output_type": "stream",
     "text": [
      "Processing train:  64%|██████▍   | 5880/9152 [7:27:15<4:08:49,  4.56s/it]"
     ]
    },
    {
     "name": "stdout",
     "output_type": "stream",
     "text": [
      "\n",
      "Batch 5880/9152: Load=1.61s, Embed=1.60s, Store=0.00s, Total=4.54s, Images/sec=2.65\n",
      "Estimated remaining time: 247.3 minutes\n"
     ]
    },
    {
     "name": "stderr",
     "output_type": "stream",
     "text": [
      "Processing train:  64%|██████▍   | 5890/9152 [7:28:01<4:09:55,  4.60s/it]"
     ]
    },
    {
     "name": "stdout",
     "output_type": "stream",
     "text": [
      "\n",
      "Batch 5890/9152: Load=1.60s, Embed=1.60s, Store=0.00s, Total=4.64s, Images/sec=2.59\n",
      "Estimated remaining time: 252.2 minutes\n"
     ]
    },
    {
     "name": "stderr",
     "output_type": "stream",
     "text": [
      "Processing train:  64%|██████▍   | 5900/9152 [7:29:11<10:47:54, 11.95s/it]"
     ]
    },
    {
     "name": "stdout",
     "output_type": "stream",
     "text": [
      "\n",
      "Batch 5900/9152: Load=1.58s, Embed=1.59s, Store=0.00s, Total=4.49s, Images/sec=2.67\n",
      "Estimated remaining time: 243.2 minutes\n"
     ]
    },
    {
     "name": "stderr",
     "output_type": "stream",
     "text": [
      "Processing train:  65%|██████▍   | 5910/9152 [7:29:58<4:18:56,  4.79s/it] "
     ]
    },
    {
     "name": "stdout",
     "output_type": "stream",
     "text": [
      "\n",
      "Batch 5910/9152: Load=1.60s, Embed=1.62s, Store=0.00s, Total=4.57s, Images/sec=2.63\n",
      "Estimated remaining time: 246.7 minutes\n"
     ]
    },
    {
     "name": "stderr",
     "output_type": "stream",
     "text": [
      "Processing train:  65%|██████▍   | 5920/9152 [7:30:43<4:08:07,  4.61s/it]"
     ]
    },
    {
     "name": "stdout",
     "output_type": "stream",
     "text": [
      "\n",
      "Batch 5920/9152: Load=1.62s, Embed=1.60s, Store=0.00s, Total=4.67s, Images/sec=2.57\n",
      "Estimated remaining time: 251.6 minutes\n"
     ]
    },
    {
     "name": "stderr",
     "output_type": "stream",
     "text": [
      "Processing train:  65%|██████▍   | 5930/9152 [7:31:30<4:09:42,  4.65s/it]"
     ]
    },
    {
     "name": "stdout",
     "output_type": "stream",
     "text": [
      "\n",
      "Batch 5930/9152: Load=1.64s, Embed=1.61s, Store=0.00s, Total=4.59s, Images/sec=2.61\n",
      "Estimated remaining time: 246.6 minutes\n"
     ]
    },
    {
     "name": "stderr",
     "output_type": "stream",
     "text": [
      "Processing train:  65%|██████▍   | 5940/9152 [7:32:16<4:04:59,  4.58s/it]"
     ]
    },
    {
     "name": "stdout",
     "output_type": "stream",
     "text": [
      "\n",
      "Batch 5940/9152: Load=1.53s, Embed=1.59s, Store=0.00s, Total=4.53s, Images/sec=2.65\n",
      "Estimated remaining time: 242.5 minutes\n"
     ]
    },
    {
     "name": "stderr",
     "output_type": "stream",
     "text": [
      "Processing train:  65%|██████▌   | 5950/9152 [7:33:25<10:30:11, 11.81s/it]"
     ]
    },
    {
     "name": "stdout",
     "output_type": "stream",
     "text": [
      "\n",
      "Batch 5950/9152: Load=1.57s, Embed=1.59s, Store=0.00s, Total=4.48s, Images/sec=2.68\n",
      "Estimated remaining time: 239.2 minutes\n"
     ]
    },
    {
     "name": "stderr",
     "output_type": "stream",
     "text": [
      "Processing train:  65%|██████▌   | 5960/9152 [7:34:11<4:10:34,  4.71s/it] "
     ]
    },
    {
     "name": "stdout",
     "output_type": "stream",
     "text": [
      "\n",
      "Batch 5960/9152: Load=1.54s, Embed=1.57s, Store=0.00s, Total=4.46s, Images/sec=2.69\n",
      "Estimated remaining time: 237.0 minutes\n"
     ]
    },
    {
     "name": "stderr",
     "output_type": "stream",
     "text": [
      "Processing train:  65%|██████▌   | 5970/9152 [7:34:57<4:10:09,  4.72s/it]"
     ]
    },
    {
     "name": "stdout",
     "output_type": "stream",
     "text": [
      "\n",
      "Batch 5970/9152: Load=1.67s, Embed=1.83s, Store=0.00s, Total=5.01s, Images/sec=2.39\n",
      "Estimated remaining time: 265.7 minutes\n"
     ]
    },
    {
     "name": "stderr",
     "output_type": "stream",
     "text": [
      "Processing train:  65%|██████▌   | 5980/9152 [7:35:44<4:05:21,  4.64s/it]"
     ]
    },
    {
     "name": "stdout",
     "output_type": "stream",
     "text": [
      "\n",
      "Batch 5980/9152: Load=1.64s, Embed=1.59s, Store=0.00s, Total=4.58s, Images/sec=2.62\n",
      "Estimated remaining time: 241.9 minutes\n"
     ]
    },
    {
     "name": "stderr",
     "output_type": "stream",
     "text": [
      "Processing train:  65%|██████▌   | 5990/9152 [7:36:31<4:08:19,  4.71s/it]"
     ]
    },
    {
     "name": "stdout",
     "output_type": "stream",
     "text": [
      "\n",
      "Batch 5990/9152: Load=1.62s, Embed=1.64s, Store=0.00s, Total=4.72s, Images/sec=2.54\n",
      "Estimated remaining time: 248.9 minutes\n"
     ]
    },
    {
     "name": "stderr",
     "output_type": "stream",
     "text": [
      "Processing train:  66%|██████▌   | 6000/9152 [7:37:43<10:50:54, 12.39s/it]"
     ]
    },
    {
     "name": "stdout",
     "output_type": "stream",
     "text": [
      "\n",
      "Batch 6000/9152: Load=1.51s, Embed=1.69s, Store=0.00s, Total=4.58s, Images/sec=2.62\n",
      "Estimated remaining time: 240.4 minutes\n"
     ]
    },
    {
     "name": "stderr",
     "output_type": "stream",
     "text": [
      "Processing train:  66%|██████▌   | 6010/9152 [7:38:31<4:08:56,  4.75s/it] "
     ]
    },
    {
     "name": "stdout",
     "output_type": "stream",
     "text": [
      "\n",
      "Batch 6010/9152: Load=1.45s, Embed=1.60s, Store=0.00s, Total=4.39s, Images/sec=2.73\n",
      "Estimated remaining time: 230.0 minutes\n"
     ]
    },
    {
     "name": "stderr",
     "output_type": "stream",
     "text": [
      "Processing train:  66%|██████▌   | 6020/9152 [7:39:17<4:02:26,  4.64s/it]"
     ]
    },
    {
     "name": "stdout",
     "output_type": "stream",
     "text": [
      "\n",
      "Batch 6020/9152: Load=1.56s, Embed=1.64s, Store=0.00s, Total=4.60s, Images/sec=2.61\n",
      "Estimated remaining time: 239.9 minutes\n"
     ]
    },
    {
     "name": "stderr",
     "output_type": "stream",
     "text": [
      "Processing train:  66%|██████▌   | 6030/9152 [7:40:04<4:00:36,  4.62s/it]"
     ]
    },
    {
     "name": "stdout",
     "output_type": "stream",
     "text": [
      "\n",
      "Batch 6030/9152: Load=1.63s, Embed=1.66s, Store=0.00s, Total=4.65s, Images/sec=2.58\n",
      "Estimated remaining time: 241.9 minutes\n"
     ]
    },
    {
     "name": "stderr",
     "output_type": "stream",
     "text": [
      "Processing train:  66%|██████▌   | 6040/9152 [7:40:51<4:04:40,  4.72s/it]"
     ]
    },
    {
     "name": "stdout",
     "output_type": "stream",
     "text": [
      "\n",
      "Batch 6040/9152: Load=1.64s, Embed=1.66s, Store=0.00s, Total=4.79s, Images/sec=2.50\n",
      "Estimated remaining time: 248.5 minutes\n"
     ]
    },
    {
     "name": "stderr",
     "output_type": "stream",
     "text": [
      "Processing train:  66%|██████▌   | 6050/9152 [7:42:02<10:16:22, 11.92s/it]"
     ]
    },
    {
     "name": "stdout",
     "output_type": "stream",
     "text": [
      "\n",
      "Batch 6050/9152: Load=1.63s, Embed=1.58s, Store=0.00s, Total=4.63s, Images/sec=2.59\n",
      "Estimated remaining time: 239.4 minutes\n"
     ]
    },
    {
     "name": "stderr",
     "output_type": "stream",
     "text": [
      "Processing train:  66%|██████▌   | 6060/9152 [7:42:48<4:07:23,  4.80s/it] "
     ]
    },
    {
     "name": "stdout",
     "output_type": "stream",
     "text": [
      "\n",
      "Batch 6060/9152: Load=1.65s, Embed=1.57s, Store=0.00s, Total=4.63s, Images/sec=2.59\n",
      "Estimated remaining time: 238.5 minutes\n"
     ]
    },
    {
     "name": "stderr",
     "output_type": "stream",
     "text": [
      "Processing train:  66%|██████▋   | 6070/9152 [7:43:33<3:54:00,  4.56s/it]"
     ]
    },
    {
     "name": "stdout",
     "output_type": "stream",
     "text": [
      "\n",
      "Batch 6070/9152: Load=1.58s, Embed=1.58s, Store=0.00s, Total=4.52s, Images/sec=2.65\n",
      "Estimated remaining time: 232.4 minutes\n"
     ]
    },
    {
     "name": "stderr",
     "output_type": "stream",
     "text": [
      "Processing train:  66%|██████▋   | 6080/9152 [7:44:19<3:51:44,  4.53s/it]"
     ]
    },
    {
     "name": "stdout",
     "output_type": "stream",
     "text": [
      "\n",
      "Batch 6080/9152: Load=1.47s, Embed=1.59s, Store=0.00s, Total=4.43s, Images/sec=2.71\n",
      "Estimated remaining time: 227.0 minutes\n"
     ]
    },
    {
     "name": "stderr",
     "output_type": "stream",
     "text": [
      "Processing train:  67%|██████▋   | 6090/9152 [7:45:07<4:17:31,  5.05s/it]"
     ]
    },
    {
     "name": "stdout",
     "output_type": "stream",
     "text": [
      "\n",
      "Batch 6090/9152: Load=1.64s, Embed=1.59s, Store=0.00s, Total=5.31s, Images/sec=2.26\n",
      "Estimated remaining time: 271.2 minutes\n"
     ]
    },
    {
     "name": "stderr",
     "output_type": "stream",
     "text": [
      "Processing train:  67%|██████▋   | 6100/9152 [7:46:17<10:00:36, 11.81s/it]"
     ]
    },
    {
     "name": "stdout",
     "output_type": "stream",
     "text": [
      "\n",
      "Batch 6100/9152: Load=1.53s, Embed=1.58s, Store=0.00s, Total=4.51s, Images/sec=2.66\n",
      "Estimated remaining time: 229.5 minutes\n"
     ]
    },
    {
     "name": "stderr",
     "output_type": "stream",
     "text": [
      "Processing train:  67%|██████▋   | 6110/9152 [7:47:03<4:01:57,  4.77s/it] "
     ]
    },
    {
     "name": "stdout",
     "output_type": "stream",
     "text": [
      "\n",
      "Batch 6110/9152: Load=1.51s, Embed=1.59s, Store=0.00s, Total=4.50s, Images/sec=2.67\n",
      "Estimated remaining time: 228.2 minutes\n"
     ]
    },
    {
     "name": "stderr",
     "output_type": "stream",
     "text": [
      "Processing train:  67%|██████▋   | 6120/9152 [7:47:49<3:53:38,  4.62s/it]"
     ]
    },
    {
     "name": "stdout",
     "output_type": "stream",
     "text": [
      "\n",
      "Batch 6120/9152: Load=1.58s, Embed=1.61s, Store=0.00s, Total=4.59s, Images/sec=2.61\n",
      "Estimated remaining time: 232.0 minutes\n"
     ]
    },
    {
     "name": "stderr",
     "output_type": "stream",
     "text": [
      "Processing train:  67%|██████▋   | 6130/9152 [7:48:35<3:53:35,  4.64s/it]"
     ]
    },
    {
     "name": "stdout",
     "output_type": "stream",
     "text": [
      "\n",
      "Batch 6130/9152: Load=1.59s, Embed=1.58s, Store=0.00s, Total=4.68s, Images/sec=2.56\n",
      "Estimated remaining time: 235.9 minutes\n"
     ]
    },
    {
     "name": "stderr",
     "output_type": "stream",
     "text": [
      "Processing train:  67%|██████▋   | 6140/9152 [7:49:22<3:55:04,  4.68s/it]"
     ]
    },
    {
     "name": "stdout",
     "output_type": "stream",
     "text": [
      "\n",
      "Batch 6140/9152: Load=1.68s, Embed=1.60s, Store=0.00s, Total=4.79s, Images/sec=2.51\n",
      "Estimated remaining time: 240.3 minutes\n"
     ]
    },
    {
     "name": "stderr",
     "output_type": "stream",
     "text": [
      "Processing train:  67%|██████▋   | 6150/9152 [7:50:34<10:17:46, 12.35s/it]"
     ]
    },
    {
     "name": "stdout",
     "output_type": "stream",
     "text": [
      "\n",
      "Batch 6150/9152: Load=1.63s, Embed=1.59s, Store=0.00s, Total=4.68s, Images/sec=2.57\n",
      "Estimated remaining time: 234.1 minutes\n"
     ]
    },
    {
     "name": "stderr",
     "output_type": "stream",
     "text": [
      "Processing train:  67%|██████▋   | 6160/9152 [7:51:22<4:16:19,  5.14s/it] "
     ]
    },
    {
     "name": "stdout",
     "output_type": "stream",
     "text": [
      "\n",
      "Batch 6160/9152: Load=1.67s, Embed=1.59s, Store=0.00s, Total=5.28s, Images/sec=2.27\n",
      "Estimated remaining time: 263.1 minutes\n"
     ]
    },
    {
     "name": "stderr",
     "output_type": "stream",
     "text": [
      "Processing train:  67%|██████▋   | 6170/9152 [7:52:11<3:57:09,  4.77s/it]"
     ]
    },
    {
     "name": "stdout",
     "output_type": "stream",
     "text": [
      "\n",
      "Batch 6170/9152: Load=1.65s, Embed=1.57s, Store=0.00s, Total=4.68s, Images/sec=2.57\n",
      "Estimated remaining time: 232.4 minutes\n"
     ]
    },
    {
     "name": "stderr",
     "output_type": "stream",
     "text": [
      "Processing train:  68%|██████▊   | 6180/9152 [7:52:58<3:51:31,  4.67s/it]"
     ]
    },
    {
     "name": "stdout",
     "output_type": "stream",
     "text": [
      "\n",
      "Batch 6180/9152: Load=1.54s, Embed=1.60s, Store=0.00s, Total=4.65s, Images/sec=2.58\n",
      "Estimated remaining time: 230.3 minutes\n"
     ]
    },
    {
     "name": "stderr",
     "output_type": "stream",
     "text": [
      "Processing train:  68%|██████▊   | 6190/9152 [7:53:45<3:52:17,  4.71s/it]"
     ]
    },
    {
     "name": "stdout",
     "output_type": "stream",
     "text": [
      "\n",
      "Batch 6190/9152: Load=1.55s, Embed=1.59s, Store=0.00s, Total=4.78s, Images/sec=2.51\n",
      "Estimated remaining time: 235.9 minutes\n"
     ]
    },
    {
     "name": "stderr",
     "output_type": "stream",
     "text": [
      "Processing train:  68%|██████▊   | 6200/9152 [7:54:57<10:00:08, 12.20s/it]"
     ]
    },
    {
     "name": "stdout",
     "output_type": "stream",
     "text": [
      "\n",
      "Batch 6200/9152: Load=1.52s, Embed=1.58s, Store=0.00s, Total=4.67s, Images/sec=2.57\n",
      "Estimated remaining time: 229.7 minutes\n"
     ]
    },
    {
     "name": "stderr",
     "output_type": "stream",
     "text": [
      "Processing train:  68%|██████▊   | 6210/9152 [7:55:47<4:18:23,  5.27s/it] "
     ]
    },
    {
     "name": "stdout",
     "output_type": "stream",
     "text": [
      "\n",
      "Batch 6210/9152: Load=1.72s, Embed=1.87s, Store=0.00s, Total=5.18s, Images/sec=2.32\n",
      "Estimated remaining time: 254.1 minutes\n"
     ]
    },
    {
     "name": "stderr",
     "output_type": "stream",
     "text": [
      "Processing train:  68%|██████▊   | 6220/9152 [7:56:33<3:49:00,  4.69s/it]"
     ]
    },
    {
     "name": "stdout",
     "output_type": "stream",
     "text": [
      "\n",
      "Batch 6220/9152: Load=1.64s, Embed=1.60s, Store=0.00s, Total=4.71s, Images/sec=2.55\n",
      "Estimated remaining time: 230.0 minutes\n"
     ]
    },
    {
     "name": "stderr",
     "output_type": "stream",
     "text": [
      "Processing train:  68%|██████▊   | 6230/9152 [7:57:24<4:22:39,  5.39s/it]"
     ]
    },
    {
     "name": "stdout",
     "output_type": "stream",
     "text": [
      "\n",
      "Batch 6230/9152: Load=1.58s, Embed=1.59s, Store=0.00s, Total=4.66s, Images/sec=2.58\n",
      "Estimated remaining time: 226.8 minutes\n"
     ]
    },
    {
     "name": "stderr",
     "output_type": "stream",
     "text": [
      "Processing train:  68%|██████▊   | 6240/9152 [7:58:11<3:48:49,  4.71s/it]"
     ]
    },
    {
     "name": "stdout",
     "output_type": "stream",
     "text": [
      "\n",
      "Batch 6240/9152: Load=1.60s, Embed=1.59s, Store=0.00s, Total=4.77s, Images/sec=2.52\n",
      "Estimated remaining time: 231.3 minutes\n"
     ]
    },
    {
     "name": "stderr",
     "output_type": "stream",
     "text": [
      "Processing train:  68%|██████▊   | 6250/9152 [7:59:24<9:59:06, 12.39s/it]"
     ]
    },
    {
     "name": "stdout",
     "output_type": "stream",
     "text": [
      "\n",
      "Batch 6250/9152: Load=1.60s, Embed=1.60s, Store=0.00s, Total=4.68s, Images/sec=2.56\n",
      "Estimated remaining time: 226.6 minutes\n"
     ]
    },
    {
     "name": "stderr",
     "output_type": "stream",
     "text": [
      "Processing train:  68%|██████▊   | 6260/9152 [8:00:12<3:59:11,  4.96s/it]"
     ]
    },
    {
     "name": "stdout",
     "output_type": "stream",
     "text": [
      "\n",
      "Batch 6260/9152: Load=1.51s, Embed=1.58s, Store=0.00s, Total=4.69s, Images/sec=2.56\n",
      "Estimated remaining time: 226.0 minutes\n"
     ]
    },
    {
     "name": "stderr",
     "output_type": "stream",
     "text": [
      "Processing train:  69%|██████▊   | 6270/9152 [8:00:59<3:44:58,  4.68s/it]"
     ]
    },
    {
     "name": "stdout",
     "output_type": "stream",
     "text": [
      "\n",
      "Batch 6270/9152: Load=1.57s, Embed=1.59s, Store=0.00s, Total=4.69s, Images/sec=2.56\n",
      "Estimated remaining time: 225.4 minutes\n"
     ]
    },
    {
     "name": "stderr",
     "output_type": "stream",
     "text": [
      "Processing train:  69%|██████▊   | 6280/9152 [8:01:48<4:11:52,  5.26s/it]"
     ]
    },
    {
     "name": "stdout",
     "output_type": "stream",
     "text": [
      "\n",
      "Batch 6280/9152: Load=2.64s, Embed=1.66s, Store=0.00s, Total=5.81s, Images/sec=2.07\n",
      "Estimated remaining time: 278.0 minutes\n"
     ]
    },
    {
     "name": "stderr",
     "output_type": "stream",
     "text": [
      "Processing train:  69%|██████▊   | 6290/9152 [8:02:39<3:54:53,  4.92s/it]"
     ]
    },
    {
     "name": "stdout",
     "output_type": "stream",
     "text": [
      "\n",
      "Batch 6290/9152: Load=1.63s, Embed=1.68s, Store=0.00s, Total=4.72s, Images/sec=2.54\n",
      "Estimated remaining time: 224.9 minutes\n"
     ]
    },
    {
     "name": "stderr",
     "output_type": "stream",
     "text": [
      "Processing train:  69%|██████▉   | 6300/9152 [8:03:53<9:58:07, 12.58s/it]"
     ]
    },
    {
     "name": "stdout",
     "output_type": "stream",
     "text": [
      "\n",
      "Batch 6300/9152: Load=1.67s, Embed=1.65s, Store=0.00s, Total=4.74s, Images/sec=2.53\n",
      "Estimated remaining time: 225.1 minutes\n"
     ]
    },
    {
     "name": "stderr",
     "output_type": "stream",
     "text": [
      "Processing train:  69%|██████▉   | 6310/9152 [8:04:47<4:33:17,  5.77s/it]"
     ]
    },
    {
     "name": "stdout",
     "output_type": "stream",
     "text": [
      "\n",
      "Batch 6310/9152: Load=2.28s, Embed=1.65s, Store=0.00s, Total=5.41s, Images/sec=2.22\n",
      "Estimated remaining time: 256.4 minutes\n"
     ]
    },
    {
     "name": "stderr",
     "output_type": "stream",
     "text": [
      "Processing train:  69%|██████▉   | 6320/9152 [8:05:46<4:36:21,  5.86s/it]"
     ]
    },
    {
     "name": "stdout",
     "output_type": "stream",
     "text": [
      "\n",
      "Batch 6320/9152: Load=2.57s, Embed=1.66s, Store=0.00s, Total=5.82s, Images/sec=2.06\n",
      "Estimated remaining time: 274.7 minutes\n"
     ]
    },
    {
     "name": "stderr",
     "output_type": "stream",
     "text": [
      "Processing train:  69%|██████▉   | 6330/9152 [8:06:40<4:14:58,  5.42s/it]"
     ]
    },
    {
     "name": "stdout",
     "output_type": "stream",
     "text": [
      "\n",
      "Batch 6330/9152: Load=2.19s, Embed=1.62s, Store=0.00s, Total=5.54s, Images/sec=2.17\n",
      "Estimated remaining time: 260.3 minutes\n"
     ]
    },
    {
     "name": "stderr",
     "output_type": "stream",
     "text": [
      "Processing train:  69%|██████▉   | 6340/9152 [8:07:32<4:13:14,  5.40s/it]"
     ]
    },
    {
     "name": "stdout",
     "output_type": "stream",
     "text": [
      "\n",
      "Batch 6340/9152: Load=2.34s, Embed=1.65s, Store=0.00s, Total=5.47s, Images/sec=2.20\n",
      "Estimated remaining time: 256.1 minutes\n"
     ]
    },
    {
     "name": "stderr",
     "output_type": "stream",
     "text": [
      "Processing train:  69%|██████▉   | 6350/9152 [8:08:51<10:07:04, 13.00s/it]"
     ]
    },
    {
     "name": "stdout",
     "output_type": "stream",
     "text": [
      "\n",
      "Batch 6350/9152: Load=2.26s, Embed=1.64s, Store=0.00s, Total=5.39s, Images/sec=2.23\n",
      "Estimated remaining time: 251.7 minutes\n"
     ]
    },
    {
     "name": "stderr",
     "output_type": "stream",
     "text": [
      "Processing train:  69%|██████▉   | 6360/9152 [8:09:46<4:28:42,  5.77s/it] "
     ]
    },
    {
     "name": "stdout",
     "output_type": "stream",
     "text": [
      "\n",
      "Batch 6360/9152: Load=2.35s, Embed=1.67s, Store=0.00s, Total=5.63s, Images/sec=2.13\n",
      "Estimated remaining time: 262.2 minutes\n"
     ]
    },
    {
     "name": "stderr",
     "output_type": "stream",
     "text": [
      "Processing train:  70%|██████▉   | 6370/9152 [8:10:40<4:01:07,  5.20s/it]"
     ]
    },
    {
     "name": "stdout",
     "output_type": "stream",
     "text": [
      "\n",
      "Batch 6370/9152: Load=2.02s, Embed=1.63s, Store=0.00s, Total=5.17s, Images/sec=2.32\n",
      "Estimated remaining time: 239.8 minutes\n"
     ]
    },
    {
     "name": "stderr",
     "output_type": "stream",
     "text": [
      "Processing train:  70%|██████▉   | 6380/9152 [8:11:30<3:43:55,  4.85s/it]"
     ]
    },
    {
     "name": "stdout",
     "output_type": "stream",
     "text": [
      "\n",
      "Batch 6380/9152: Load=1.64s, Embed=1.58s, Store=0.00s, Total=4.65s, Images/sec=2.58\n",
      "Estimated remaining time: 214.9 minutes\n"
     ]
    },
    {
     "name": "stderr",
     "output_type": "stream",
     "text": [
      "Processing train:  70%|██████▉   | 6390/9152 [8:12:18<3:40:05,  4.78s/it]"
     ]
    },
    {
     "name": "stdout",
     "output_type": "stream",
     "text": [
      "\n",
      "Batch 6390/9152: Load=1.71s, Embed=1.58s, Store=0.00s, Total=4.92s, Images/sec=2.44\n",
      "Estimated remaining time: 226.3 minutes\n"
     ]
    },
    {
     "name": "stderr",
     "output_type": "stream",
     "text": [
      "Processing train:  70%|██████▉   | 6400/9152 [8:13:30<9:27:59, 12.38s/it]"
     ]
    },
    {
     "name": "stdout",
     "output_type": "stream",
     "text": [
      "\n",
      "Batch 6400/9152: Load=1.62s, Embed=1.58s, Store=0.00s, Total=4.64s, Images/sec=2.59\n",
      "Estimated remaining time: 212.8 minutes\n"
     ]
    },
    {
     "name": "stderr",
     "output_type": "stream",
     "text": [
      "Processing train:  70%|███████   | 6410/9152 [8:14:17<3:44:45,  4.92s/it]"
     ]
    },
    {
     "name": "stdout",
     "output_type": "stream",
     "text": [
      "\n",
      "Batch 6410/9152: Load=1.74s, Embed=1.59s, Store=0.00s, Total=4.76s, Images/sec=2.52\n",
      "Estimated remaining time: 217.7 minutes\n"
     ]
    },
    {
     "name": "stderr",
     "output_type": "stream",
     "text": [
      "Processing train:  70%|███████   | 6420/9152 [8:15:06<3:36:58,  4.77s/it]"
     ]
    },
    {
     "name": "stdout",
     "output_type": "stream",
     "text": [
      "\n",
      "Batch 6420/9152: Load=1.73s, Embed=1.60s, Store=0.00s, Total=4.76s, Images/sec=2.52\n",
      "Estimated remaining time: 216.7 minutes\n"
     ]
    },
    {
     "name": "stderr",
     "output_type": "stream",
     "text": [
      "Processing train:  70%|███████   | 6430/9152 [8:15:53<3:39:29,  4.84s/it]"
     ]
    },
    {
     "name": "stdout",
     "output_type": "stream",
     "text": [
      "\n",
      "Batch 6430/9152: Load=1.80s, Embed=1.65s, Store=0.00s, Total=4.93s, Images/sec=2.43\n",
      "Estimated remaining time: 223.7 minutes\n"
     ]
    },
    {
     "name": "stderr",
     "output_type": "stream",
     "text": [
      "Processing train:  70%|███████   | 6440/9152 [8:16:42<3:40:40,  4.88s/it]"
     ]
    },
    {
     "name": "stdout",
     "output_type": "stream",
     "text": [
      "\n",
      "Batch 6440/9152: Load=1.71s, Embed=1.60s, Store=0.00s, Total=4.91s, Images/sec=2.44\n",
      "Estimated remaining time: 222.0 minutes\n"
     ]
    },
    {
     "name": "stderr",
     "output_type": "stream",
     "text": [
      "Processing train:  71%|███████   | 6480/9152 [8:20:18<3:28:51,  4.69s/it]"
     ]
    },
    {
     "name": "stdout",
     "output_type": "stream",
     "text": [
      "\n",
      "Batch 6480/9152: Load=1.60s, Embed=1.58s, Store=0.00s, Total=4.61s, Images/sec=2.60\n",
      "Estimated remaining time: 205.4 minutes\n"
     ]
    },
    {
     "name": "stderr",
     "output_type": "stream",
     "text": [
      "Processing train:  71%|███████   | 6490/9152 [8:21:05<3:32:55,  4.80s/it]"
     ]
    },
    {
     "name": "stdout",
     "output_type": "stream",
     "text": [
      "\n",
      "Batch 6490/9152: Load=1.69s, Embed=1.60s, Store=0.00s, Total=4.87s, Images/sec=2.46\n",
      "Estimated remaining time: 216.3 minutes\n"
     ]
    },
    {
     "name": "stderr",
     "output_type": "stream",
     "text": [
      "Processing train:  71%|███████   | 6500/9152 [8:22:18<9:13:41, 12.53s/it]"
     ]
    },
    {
     "name": "stdout",
     "output_type": "stream",
     "text": [
      "\n",
      "Batch 6500/9152: Load=1.63s, Embed=1.60s, Store=0.00s, Total=4.68s, Images/sec=2.56\n",
      "Estimated remaining time: 207.0 minutes\n"
     ]
    },
    {
     "name": "stderr",
     "output_type": "stream",
     "text": [
      "Processing train:  71%|███████   | 6510/9152 [8:23:05<3:33:39,  4.85s/it]"
     ]
    },
    {
     "name": "stdout",
     "output_type": "stream",
     "text": [
      "\n",
      "Batch 6510/9152: Load=1.57s, Embed=1.60s, Store=0.00s, Total=4.64s, Images/sec=2.59\n",
      "Estimated remaining time: 204.3 minutes\n"
     ]
    },
    {
     "name": "stderr",
     "output_type": "stream",
     "text": [
      "Processing train:  71%|███████   | 6520/9152 [8:23:53<3:30:38,  4.80s/it]"
     ]
    },
    {
     "name": "stdout",
     "output_type": "stream",
     "text": [
      "\n",
      "Batch 6520/9152: Load=1.64s, Embed=1.59s, Store=0.00s, Total=4.88s, Images/sec=2.46\n",
      "Estimated remaining time: 213.9 minutes\n"
     ]
    },
    {
     "name": "stderr",
     "output_type": "stream",
     "text": [
      "Processing train:  71%|███████▏  | 6530/9152 [8:24:41<3:27:25,  4.75s/it]"
     ]
    },
    {
     "name": "stdout",
     "output_type": "stream",
     "text": [
      "\n",
      "Batch 6530/9152: Load=1.56s, Embed=1.68s, Store=0.00s, Total=4.88s, Images/sec=2.46\n",
      "Estimated remaining time: 213.1 minutes\n"
     ]
    },
    {
     "name": "stderr",
     "output_type": "stream",
     "text": [
      "Processing train:  71%|███████▏  | 6540/9152 [8:25:28<3:25:25,  4.72s/it]"
     ]
    },
    {
     "name": "stdout",
     "output_type": "stream",
     "text": [
      "\n",
      "Batch 6540/9152: Load=1.64s, Embed=1.62s, Store=0.00s, Total=4.72s, Images/sec=2.54\n",
      "Estimated remaining time: 205.4 minutes\n"
     ]
    },
    {
     "name": "stderr",
     "output_type": "stream",
     "text": [
      "Processing train:  72%|███████▏  | 6550/9152 [8:26:42<9:12:14, 12.73s/it]"
     ]
    },
    {
     "name": "stdout",
     "output_type": "stream",
     "text": [
      "\n",
      "Batch 6550/9152: Load=1.38s, Embed=1.62s, Store=0.00s, Total=4.56s, Images/sec=2.63\n",
      "Estimated remaining time: 197.8 minutes\n"
     ]
    },
    {
     "name": "stderr",
     "output_type": "stream",
     "text": [
      "Processing train:  72%|███████▏  | 6560/9152 [8:27:30<3:37:32,  5.04s/it]"
     ]
    },
    {
     "name": "stdout",
     "output_type": "stream",
     "text": [
      "\n",
      "Batch 6560/9152: Load=1.58s, Embed=1.61s, Store=0.00s, Total=4.81s, Images/sec=2.49\n",
      "Estimated remaining time: 207.9 minutes\n"
     ]
    },
    {
     "name": "stderr",
     "output_type": "stream",
     "text": [
      "Processing train:  72%|███████▏  | 6570/9152 [8:28:18<3:30:57,  4.90s/it]"
     ]
    },
    {
     "name": "stdout",
     "output_type": "stream",
     "text": [
      "\n",
      "Batch 6570/9152: Load=1.56s, Embed=1.60s, Store=0.00s, Total=5.30s, Images/sec=2.26\n",
      "Estimated remaining time: 228.0 minutes\n"
     ]
    },
    {
     "name": "stderr",
     "output_type": "stream",
     "text": [
      "Processing train:  72%|███████▏  | 6580/9152 [8:29:07<3:22:09,  4.72s/it]"
     ]
    },
    {
     "name": "stdout",
     "output_type": "stream",
     "text": [
      "\n",
      "Batch 6580/9152: Load=1.64s, Embed=1.57s, Store=0.00s, Total=4.69s, Images/sec=2.56\n",
      "Estimated remaining time: 201.0 minutes\n"
     ]
    },
    {
     "name": "stderr",
     "output_type": "stream",
     "text": [
      "Processing train:  72%|███████▏  | 6590/9152 [8:29:53<3:22:12,  4.74s/it]"
     ]
    },
    {
     "name": "stdout",
     "output_type": "stream",
     "text": [
      "\n",
      "Batch 6590/9152: Load=1.64s, Embed=1.61s, Store=0.00s, Total=4.72s, Images/sec=2.54\n",
      "Estimated remaining time: 201.7 minutes\n"
     ]
    },
    {
     "name": "stderr",
     "output_type": "stream",
     "text": [
      "Processing train:  72%|███████▏  | 6600/9152 [8:31:08<9:14:40, 13.04s/it]"
     ]
    },
    {
     "name": "stdout",
     "output_type": "stream",
     "text": [
      "\n",
      "Batch 6600/9152: Load=1.93s, Embed=1.65s, Store=0.00s, Total=5.10s, Images/sec=2.35\n",
      "Estimated remaining time: 217.1 minutes\n"
     ]
    },
    {
     "name": "stderr",
     "output_type": "stream",
     "text": [
      "Processing train:  72%|███████▏  | 6610/9152 [8:31:56<3:35:06,  5.08s/it]"
     ]
    },
    {
     "name": "stdout",
     "output_type": "stream",
     "text": [
      "\n",
      "Batch 6610/9152: Load=1.67s, Embed=1.57s, Store=0.00s, Total=4.88s, Images/sec=2.46\n",
      "Estimated remaining time: 206.9 minutes\n"
     ]
    },
    {
     "name": "stderr",
     "output_type": "stream",
     "text": [
      "Processing train:  72%|███████▏  | 6620/9152 [8:32:44<3:19:38,  4.73s/it]"
     ]
    },
    {
     "name": "stdout",
     "output_type": "stream",
     "text": [
      "\n",
      "Batch 6620/9152: Load=1.61s, Embed=1.60s, Store=0.00s, Total=4.80s, Images/sec=2.50\n",
      "Estimated remaining time: 202.5 minutes\n"
     ]
    },
    {
     "name": "stderr",
     "output_type": "stream",
     "text": [
      "Processing train:  72%|███████▏  | 6630/9152 [8:33:32<3:24:09,  4.86s/it]"
     ]
    },
    {
     "name": "stdout",
     "output_type": "stream",
     "text": [
      "\n",
      "Batch 6630/9152: Load=1.50s, Embed=1.64s, Store=0.00s, Total=4.62s, Images/sec=2.60\n",
      "Estimated remaining time: 194.2 minutes\n"
     ]
    },
    {
     "name": "stderr",
     "output_type": "stream",
     "text": [
      "Processing train:  73%|███████▎  | 6640/9152 [8:34:20<3:18:48,  4.75s/it]"
     ]
    },
    {
     "name": "stdout",
     "output_type": "stream",
     "text": [
      "\n",
      "Batch 6640/9152: Load=1.71s, Embed=1.59s, Store=0.00s, Total=4.76s, Images/sec=2.52\n",
      "Estimated remaining time: 199.2 minutes\n"
     ]
    },
    {
     "name": "stderr",
     "output_type": "stream",
     "text": [
      "Processing train:  73%|███████▎  | 6650/9152 [8:35:35<9:11:26, 13.22s/it]"
     ]
    },
    {
     "name": "stdout",
     "output_type": "stream",
     "text": [
      "\n",
      "Batch 6650/9152: Load=1.53s, Embed=1.65s, Store=0.00s, Total=4.65s, Images/sec=2.58\n",
      "Estimated remaining time: 193.9 minutes\n"
     ]
    },
    {
     "name": "stderr",
     "output_type": "stream",
     "text": [
      "Processing train:  73%|███████▎  | 6660/9152 [8:36:25<3:30:01,  5.06s/it]"
     ]
    },
    {
     "name": "stdout",
     "output_type": "stream",
     "text": [
      "\n",
      "Batch 6660/9152: Load=1.58s, Embed=1.61s, Store=0.00s, Total=4.72s, Images/sec=2.54\n",
      "Estimated remaining time: 195.9 minutes\n"
     ]
    },
    {
     "name": "stderr",
     "output_type": "stream",
     "text": [
      "Processing train:  73%|███████▎  | 6670/9152 [8:37:13<3:18:55,  4.81s/it]"
     ]
    },
    {
     "name": "stdout",
     "output_type": "stream",
     "text": [
      "\n",
      "Batch 6670/9152: Load=1.63s, Embed=1.66s, Store=0.00s, Total=4.77s, Images/sec=2.51\n",
      "Estimated remaining time: 197.4 minutes\n"
     ]
    },
    {
     "name": "stderr",
     "output_type": "stream",
     "text": [
      "Processing train:  73%|███████▎  | 6680/9152 [8:38:01<3:19:59,  4.85s/it]"
     ]
    },
    {
     "name": "stdout",
     "output_type": "stream",
     "text": [
      "\n",
      "Batch 6680/9152: Load=1.66s, Embed=1.67s, Store=0.00s, Total=4.80s, Images/sec=2.50\n",
      "Estimated remaining time: 197.8 minutes\n"
     ]
    },
    {
     "name": "stderr",
     "output_type": "stream",
     "text": [
      "Processing train:  73%|███████▎  | 6690/9152 [8:38:49<3:15:14,  4.76s/it]"
     ]
    },
    {
     "name": "stdout",
     "output_type": "stream",
     "text": [
      "\n",
      "Batch 6690/9152: Load=1.54s, Embed=1.60s, Store=0.00s, Total=4.62s, Images/sec=2.60\n",
      "Estimated remaining time: 189.4 minutes\n"
     ]
    },
    {
     "name": "stderr",
     "output_type": "stream",
     "text": [
      "Processing train:  73%|███████▎  | 6700/9152 [8:40:05<8:54:35, 13.08s/it]"
     ]
    },
    {
     "name": "stdout",
     "output_type": "stream",
     "text": [
      "\n",
      "Batch 6700/9152: Load=1.51s, Embed=1.67s, Store=0.00s, Total=4.79s, Images/sec=2.50\n",
      "Estimated remaining time: 195.8 minutes\n"
     ]
    },
    {
     "name": "stderr",
     "output_type": "stream",
     "text": [
      "Processing train:  73%|███████▎  | 6710/9152 [8:40:53<3:22:13,  4.97s/it]"
     ]
    },
    {
     "name": "stdout",
     "output_type": "stream",
     "text": [
      "\n",
      "Batch 6710/9152: Load=1.56s, Embed=1.62s, Store=0.00s, Total=4.69s, Images/sec=2.56\n",
      "Estimated remaining time: 191.0 minutes\n"
     ]
    },
    {
     "name": "stderr",
     "output_type": "stream",
     "text": [
      "Processing train:  73%|███████▎  | 6720/9152 [8:41:40<3:11:25,  4.72s/it]"
     ]
    },
    {
     "name": "stdout",
     "output_type": "stream",
     "text": [
      "\n",
      "Batch 6720/9152: Load=1.67s, Embed=1.62s, Store=0.00s, Total=4.78s, Images/sec=2.51\n",
      "Estimated remaining time: 193.9 minutes\n"
     ]
    },
    {
     "name": "stderr",
     "output_type": "stream",
     "text": [
      "Processing train:  74%|███████▎  | 6730/9152 [8:42:27<3:12:13,  4.76s/it]"
     ]
    },
    {
     "name": "stdout",
     "output_type": "stream",
     "text": [
      "\n",
      "Batch 6730/9152: Load=1.49s, Embed=1.58s, Store=0.00s, Total=4.62s, Images/sec=2.60\n",
      "Estimated remaining time: 186.6 minutes\n"
     ]
    },
    {
     "name": "stderr",
     "output_type": "stream",
     "text": [
      "Processing train:  74%|███████▎  | 6740/9152 [8:43:15<3:10:20,  4.73s/it]"
     ]
    },
    {
     "name": "stdout",
     "output_type": "stream",
     "text": [
      "\n",
      "Batch 6740/9152: Load=1.58s, Embed=1.59s, Store=0.00s, Total=4.78s, Images/sec=2.51\n",
      "Estimated remaining time: 192.3 minutes\n"
     ]
    },
    {
     "name": "stderr",
     "output_type": "stream",
     "text": [
      "Processing train:  74%|███████▍  | 6750/9152 [8:44:32<8:55:46, 13.38s/it]"
     ]
    },
    {
     "name": "stdout",
     "output_type": "stream",
     "text": [
      "\n",
      "Batch 6750/9152: Load=1.71s, Embed=1.69s, Store=0.00s, Total=5.10s, Images/sec=2.35\n",
      "Estimated remaining time: 204.0 minutes\n"
     ]
    },
    {
     "name": "stderr",
     "output_type": "stream",
     "text": [
      "Processing train:  74%|███████▍  | 6760/9152 [8:45:20<3:19:59,  5.02s/it]"
     ]
    },
    {
     "name": "stdout",
     "output_type": "stream",
     "text": [
      "\n",
      "Batch 6760/9152: Load=1.59s, Embed=1.60s, Store=0.00s, Total=4.71s, Images/sec=2.55\n",
      "Estimated remaining time: 187.9 minutes\n"
     ]
    },
    {
     "name": "stderr",
     "output_type": "stream",
     "text": [
      "Processing train:  74%|███████▍  | 6770/9152 [8:46:08<3:08:48,  4.76s/it]"
     ]
    },
    {
     "name": "stdout",
     "output_type": "stream",
     "text": [
      "\n",
      "Batch 6770/9152: Load=1.62s, Embed=1.66s, Store=0.00s, Total=4.79s, Images/sec=2.50\n",
      "Estimated remaining time: 190.2 minutes\n"
     ]
    },
    {
     "name": "stderr",
     "output_type": "stream",
     "text": [
      "Processing train:  74%|███████▍  | 6780/9152 [8:46:56<3:09:30,  4.79s/it]"
     ]
    },
    {
     "name": "stdout",
     "output_type": "stream",
     "text": [
      "\n",
      "Batch 6780/9152: Load=1.56s, Embed=1.67s, Store=0.00s, Total=4.90s, Images/sec=2.45\n",
      "Estimated remaining time: 193.7 minutes\n"
     ]
    },
    {
     "name": "stderr",
     "output_type": "stream",
     "text": [
      "Processing train:  74%|███████▍  | 6790/9152 [8:47:43<3:07:33,  4.76s/it]"
     ]
    },
    {
     "name": "stdout",
     "output_type": "stream",
     "text": [
      "\n",
      "Batch 6790/9152: Load=1.66s, Embed=1.68s, Store=0.00s, Total=4.85s, Images/sec=2.48\n",
      "Estimated remaining time: 190.7 minutes\n"
     ]
    },
    {
     "name": "stderr",
     "output_type": "stream",
     "text": [
      "Processing train:  74%|███████▍  | 6800/9152 [8:49:01<8:52:44, 13.59s/it]"
     ]
    },
    {
     "name": "stdout",
     "output_type": "stream",
     "text": [
      "\n",
      "Batch 6800/9152: Load=1.67s, Embed=1.62s, Store=0.00s, Total=4.92s, Images/sec=2.44\n",
      "Estimated remaining time: 192.8 minutes\n"
     ]
    },
    {
     "name": "stderr",
     "output_type": "stream",
     "text": [
      "Processing train:  74%|███████▍  | 6810/9152 [8:49:48<3:13:41,  4.96s/it]"
     ]
    },
    {
     "name": "stdout",
     "output_type": "stream",
     "text": [
      "\n",
      "Batch 6810/9152: Load=1.60s, Embed=1.56s, Store=0.00s, Total=4.74s, Images/sec=2.53\n",
      "Estimated remaining time: 184.8 minutes\n"
     ]
    },
    {
     "name": "stderr",
     "output_type": "stream",
     "text": [
      "Processing train:  75%|███████▍  | 6820/9152 [8:50:36<3:09:04,  4.86s/it]"
     ]
    },
    {
     "name": "stdout",
     "output_type": "stream",
     "text": [
      "\n",
      "Batch 6820/9152: Load=1.76s, Embed=1.58s, Store=0.00s, Total=4.84s, Images/sec=2.48\n",
      "Estimated remaining time: 188.2 minutes\n"
     ]
    },
    {
     "name": "stderr",
     "output_type": "stream",
     "text": [
      "Processing train:  75%|███████▍  | 6830/9152 [8:51:24<3:05:27,  4.79s/it]"
     ]
    },
    {
     "name": "stdout",
     "output_type": "stream",
     "text": [
      "\n",
      "Batch 6830/9152: Load=1.68s, Embed=1.58s, Store=0.00s, Total=4.77s, Images/sec=2.51\n",
      "Estimated remaining time: 184.7 minutes\n"
     ]
    },
    {
     "name": "stderr",
     "output_type": "stream",
     "text": [
      "Processing train:  75%|███████▍  | 6840/9152 [8:52:13<3:06:25,  4.84s/it]"
     ]
    },
    {
     "name": "stdout",
     "output_type": "stream",
     "text": [
      "\n",
      "Batch 6840/9152: Load=1.78s, Embed=1.59s, Store=0.00s, Total=4.90s, Images/sec=2.45\n",
      "Estimated remaining time: 188.8 minutes\n"
     ]
    },
    {
     "name": "stderr",
     "output_type": "stream",
     "text": [
      "Processing train:  75%|███████▍  | 6850/9152 [8:53:30<8:40:58, 13.58s/it]"
     ]
    },
    {
     "name": "stdout",
     "output_type": "stream",
     "text": [
      "\n",
      "Batch 6850/9152: Load=1.66s, Embed=1.59s, Store=0.00s, Total=4.78s, Images/sec=2.51\n",
      "Estimated remaining time: 183.2 minutes\n"
     ]
    },
    {
     "name": "stderr",
     "output_type": "stream",
     "text": [
      "Processing train:  75%|███████▍  | 6860/9152 [8:54:24<3:19:53,  5.23s/it]"
     ]
    },
    {
     "name": "stdout",
     "output_type": "stream",
     "text": [
      "\n",
      "Batch 6860/9152: Load=1.68s, Embed=1.57s, Store=0.00s, Total=4.77s, Images/sec=2.52\n",
      "Estimated remaining time: 182.1 minutes\n"
     ]
    },
    {
     "name": "stderr",
     "output_type": "stream",
     "text": [
      "Processing train:  75%|███████▌  | 6870/9152 [8:55:12<3:02:19,  4.79s/it]"
     ]
    },
    {
     "name": "stdout",
     "output_type": "stream",
     "text": [
      "\n",
      "Batch 6870/9152: Load=1.70s, Embed=1.57s, Store=0.00s, Total=4.80s, Images/sec=2.50\n",
      "Estimated remaining time: 182.7 minutes\n"
     ]
    },
    {
     "name": "stderr",
     "output_type": "stream",
     "text": [
      "Processing train:  75%|███████▌  | 6880/9152 [8:56:01<3:03:03,  4.83s/it]"
     ]
    },
    {
     "name": "stdout",
     "output_type": "stream",
     "text": [
      "\n",
      "Batch 6880/9152: Load=1.65s, Embed=1.59s, Store=0.00s, Total=4.78s, Images/sec=2.51\n",
      "Estimated remaining time: 180.8 minutes\n"
     ]
    },
    {
     "name": "stderr",
     "output_type": "stream",
     "text": [
      "Processing train:  75%|███████▌  | 6890/9152 [8:56:50<3:03:33,  4.87s/it]"
     ]
    },
    {
     "name": "stdout",
     "output_type": "stream",
     "text": [
      "\n",
      "Batch 6890/9152: Load=1.65s, Embed=1.58s, Store=0.00s, Total=4.75s, Images/sec=2.53\n",
      "Estimated remaining time: 178.9 minutes\n"
     ]
    },
    {
     "name": "stderr",
     "output_type": "stream",
     "text": [
      "Processing train:  75%|███████▌  | 6900/9152 [8:58:07<8:21:03, 13.35s/it]"
     ]
    },
    {
     "name": "stdout",
     "output_type": "stream",
     "text": [
      "\n",
      "Batch 6900/9152: Load=1.71s, Embed=1.60s, Store=0.00s, Total=4.96s, Images/sec=2.42\n",
      "Estimated remaining time: 186.0 minutes\n"
     ]
    },
    {
     "name": "stderr",
     "output_type": "stream",
     "text": [
      "Processing train:  76%|███████▌  | 6910/9152 [8:58:58<3:15:04,  5.22s/it]"
     ]
    },
    {
     "name": "stdout",
     "output_type": "stream",
     "text": [
      "\n",
      "Batch 6910/9152: Load=1.73s, Embed=1.58s, Store=0.00s, Total=4.95s, Images/sec=2.42\n",
      "Estimated remaining time: 185.1 minutes\n"
     ]
    },
    {
     "name": "stderr",
     "output_type": "stream",
     "text": [
      "Processing train:  76%|███████▌  | 6920/9152 [8:59:47<3:00:37,  4.86s/it]"
     ]
    },
    {
     "name": "stdout",
     "output_type": "stream",
     "text": [
      "\n",
      "Batch 6920/9152: Load=1.66s, Embed=1.57s, Store=0.00s, Total=4.76s, Images/sec=2.52\n",
      "Estimated remaining time: 177.0 minutes\n"
     ]
    },
    {
     "name": "stderr",
     "output_type": "stream",
     "text": [
      "Processing train:  76%|███████▌  | 6930/9152 [9:00:35<2:57:08,  4.78s/it]"
     ]
    },
    {
     "name": "stdout",
     "output_type": "stream",
     "text": [
      "\n",
      "Batch 6930/9152: Load=1.70s, Embed=1.57s, Store=0.00s, Total=4.80s, Images/sec=2.50\n",
      "Estimated remaining time: 177.8 minutes\n"
     ]
    },
    {
     "name": "stderr",
     "output_type": "stream",
     "text": [
      "Processing train:  76%|███████▌  | 6940/9152 [9:01:23<2:59:25,  4.87s/it]"
     ]
    },
    {
     "name": "stdout",
     "output_type": "stream",
     "text": [
      "\n",
      "Batch 6940/9152: Load=1.68s, Embed=1.60s, Store=0.00s, Total=4.88s, Images/sec=2.46\n",
      "Estimated remaining time: 179.8 minutes\n"
     ]
    },
    {
     "name": "stderr",
     "output_type": "stream",
     "text": [
      "Processing train:  76%|███████▌  | 6950/9152 [9:02:41<8:14:06, 13.46s/it]"
     ]
    },
    {
     "name": "stdout",
     "output_type": "stream",
     "text": [
      "\n",
      "Batch 6950/9152: Load=1.66s, Embed=1.60s, Store=0.00s, Total=4.80s, Images/sec=2.50\n",
      "Estimated remaining time: 176.1 minutes\n"
     ]
    },
    {
     "name": "stderr",
     "output_type": "stream",
     "text": [
      "Processing train:  76%|███████▌  | 6960/9152 [9:03:32<3:11:10,  5.23s/it]"
     ]
    },
    {
     "name": "stdout",
     "output_type": "stream",
     "text": [
      "\n",
      "Batch 6960/9152: Load=1.72s, Embed=1.58s, Store=0.00s, Total=4.97s, Images/sec=2.42\n",
      "Estimated remaining time: 181.5 minutes\n"
     ]
    },
    {
     "name": "stderr",
     "output_type": "stream",
     "text": [
      "Processing train:  76%|███████▌  | 6970/9152 [9:04:22<2:59:02,  4.92s/it]"
     ]
    },
    {
     "name": "stdout",
     "output_type": "stream",
     "text": [
      "\n",
      "Batch 6970/9152: Load=1.69s, Embed=1.59s, Store=0.00s, Total=4.84s, Images/sec=2.48\n",
      "Estimated remaining time: 176.0 minutes\n"
     ]
    },
    {
     "name": "stderr",
     "output_type": "stream",
     "text": [
      "Processing train:  76%|███████▋  | 6980/9152 [9:05:11<3:01:18,  5.01s/it]"
     ]
    },
    {
     "name": "stdout",
     "output_type": "stream",
     "text": [
      "\n",
      "Batch 6980/9152: Load=1.78s, Embed=1.57s, Store=0.00s, Total=5.11s, Images/sec=2.35\n",
      "Estimated remaining time: 184.8 minutes\n"
     ]
    },
    {
     "name": "stderr",
     "output_type": "stream",
     "text": [
      "Processing train:  76%|███████▋  | 6990/9152 [9:06:00<2:52:45,  4.79s/it]"
     ]
    },
    {
     "name": "stdout",
     "output_type": "stream",
     "text": [
      "\n",
      "Batch 6990/9152: Load=1.54s, Embed=1.58s, Store=0.00s, Total=4.69s, Images/sec=2.56\n",
      "Estimated remaining time: 168.9 minutes\n"
     ]
    },
    {
     "name": "stderr",
     "output_type": "stream",
     "text": [
      "Processing train:  76%|███████▋  | 7000/9152 [9:07:17<7:59:25, 13.37s/it]"
     ]
    },
    {
     "name": "stdout",
     "output_type": "stream",
     "text": [
      "\n",
      "Batch 7000/9152: Load=1.78s, Embed=1.57s, Store=0.00s, Total=4.89s, Images/sec=2.45\n",
      "Estimated remaining time: 175.6 minutes\n"
     ]
    },
    {
     "name": "stderr",
     "output_type": "stream",
     "text": [
      "Processing train:  77%|███████▋  | 7010/9152 [9:08:06<3:06:59,  5.24s/it]"
     ]
    },
    {
     "name": "stdout",
     "output_type": "stream",
     "text": [
      "\n",
      "Batch 7010/9152: Load=1.70s, Embed=1.58s, Store=0.00s, Total=4.96s, Images/sec=2.42\n",
      "Estimated remaining time: 177.1 minutes\n"
     ]
    },
    {
     "name": "stderr",
     "output_type": "stream",
     "text": [
      "Processing train:  77%|███████▋  | 7020/9152 [9:08:56<2:54:25,  4.91s/it]"
     ]
    },
    {
     "name": "stdout",
     "output_type": "stream",
     "text": [
      "\n",
      "Batch 7020/9152: Load=1.63s, Embed=1.57s, Store=0.00s, Total=4.87s, Images/sec=2.47\n",
      "Estimated remaining time: 172.9 minutes\n"
     ]
    },
    {
     "name": "stderr",
     "output_type": "stream",
     "text": [
      "Processing train:  77%|███████▋  | 7030/9152 [9:09:44<2:53:16,  4.90s/it]"
     ]
    },
    {
     "name": "stdout",
     "output_type": "stream",
     "text": [
      "\n",
      "Batch 7030/9152: Load=1.69s, Embed=1.58s, Store=0.00s, Total=4.93s, Images/sec=2.43\n",
      "Estimated remaining time: 174.5 minutes\n"
     ]
    },
    {
     "name": "stderr",
     "output_type": "stream",
     "text": [
      "Processing train:  77%|███████▋  | 7040/9152 [9:10:33<2:51:55,  4.88s/it]"
     ]
    },
    {
     "name": "stdout",
     "output_type": "stream",
     "text": [
      "\n",
      "Batch 7040/9152: Load=1.67s, Embed=1.62s, Store=0.00s, Total=4.84s, Images/sec=2.48\n",
      "Estimated remaining time: 170.5 minutes\n"
     ]
    },
    {
     "name": "stderr",
     "output_type": "stream",
     "text": [
      "Processing train:  77%|███████▋  | 7050/9152 [9:11:52<8:05:00, 13.84s/it]"
     ]
    },
    {
     "name": "stdout",
     "output_type": "stream",
     "text": [
      "\n",
      "Batch 7050/9152: Load=1.74s, Embed=1.57s, Store=0.00s, Total=4.93s, Images/sec=2.43\n",
      "Estimated remaining time: 172.7 minutes\n"
     ]
    },
    {
     "name": "stderr",
     "output_type": "stream",
     "text": [
      "Processing train:  77%|███████▋  | 7060/9152 [9:12:43<3:04:09,  5.28s/it]"
     ]
    },
    {
     "name": "stdout",
     "output_type": "stream",
     "text": [
      "\n",
      "Batch 7060/9152: Load=1.69s, Embed=1.67s, Store=0.00s, Total=5.09s, Images/sec=2.36\n",
      "Estimated remaining time: 177.3 minutes\n"
     ]
    },
    {
     "name": "stderr",
     "output_type": "stream",
     "text": [
      "Processing train:  77%|███████▋  | 7070/9152 [9:13:33<2:53:17,  4.99s/it]"
     ]
    },
    {
     "name": "stdout",
     "output_type": "stream",
     "text": [
      "\n",
      "Batch 7070/9152: Load=1.84s, Embed=1.58s, Store=0.00s, Total=5.00s, Images/sec=2.40\n",
      "Estimated remaining time: 173.5 minutes\n"
     ]
    },
    {
     "name": "stderr",
     "output_type": "stream",
     "text": [
      "Processing train:  77%|███████▋  | 7080/9152 [9:14:22<2:48:46,  4.89s/it]"
     ]
    },
    {
     "name": "stdout",
     "output_type": "stream",
     "text": [
      "\n",
      "Batch 7080/9152: Load=1.76s, Embed=1.61s, Store=0.00s, Total=4.93s, Images/sec=2.43\n",
      "Estimated remaining time: 170.4 minutes\n"
     ]
    },
    {
     "name": "stderr",
     "output_type": "stream",
     "text": [
      "Processing train:  77%|███████▋  | 7090/9152 [9:15:11<2:49:13,  4.92s/it]"
     ]
    },
    {
     "name": "stdout",
     "output_type": "stream",
     "text": [
      "\n",
      "Batch 7090/9152: Load=1.73s, Embed=1.66s, Store=0.00s, Total=5.02s, Images/sec=2.39\n",
      "Estimated remaining time: 172.6 minutes\n"
     ]
    },
    {
     "name": "stderr",
     "output_type": "stream",
     "text": [
      "Processing train:  78%|███████▊  | 7100/9152 [9:16:31<7:48:08, 13.69s/it]"
     ]
    },
    {
     "name": "stdout",
     "output_type": "stream",
     "text": [
      "\n",
      "Batch 7100/9152: Load=1.67s, Embed=1.69s, Store=0.00s, Total=4.92s, Images/sec=2.44\n",
      "Estimated remaining time: 168.3 minutes\n"
     ]
    },
    {
     "name": "stderr",
     "output_type": "stream",
     "text": [
      "Processing train:  78%|███████▊  | 7110/9152 [9:17:24<3:00:48,  5.31s/it]"
     ]
    },
    {
     "name": "stdout",
     "output_type": "stream",
     "text": [
      "\n",
      "Batch 7110/9152: Load=1.61s, Embed=1.60s, Store=0.00s, Total=4.84s, Images/sec=2.48\n",
      "Estimated remaining time: 164.8 minutes\n"
     ]
    },
    {
     "name": "stderr",
     "output_type": "stream",
     "text": [
      "Processing train:  78%|███████▊  | 7120/9152 [9:18:15<2:51:18,  5.06s/it]"
     ]
    },
    {
     "name": "stdout",
     "output_type": "stream",
     "text": [
      "\n",
      "Batch 7120/9152: Load=1.62s, Embed=1.59s, Store=0.00s, Total=4.81s, Images/sec=2.50\n",
      "Estimated remaining time: 162.8 minutes\n"
     ]
    },
    {
     "name": "stderr",
     "output_type": "stream",
     "text": [
      "Processing train:  78%|███████▊  | 7130/9152 [9:19:09<3:12:12,  5.70s/it]"
     ]
    },
    {
     "name": "stdout",
     "output_type": "stream",
     "text": [
      "\n",
      "Batch 7130/9152: Load=1.91s, Embed=1.63s, Store=0.00s, Total=5.91s, Images/sec=2.03\n",
      "Estimated remaining time: 199.0 minutes\n"
     ]
    },
    {
     "name": "stderr",
     "output_type": "stream",
     "text": [
      "Processing train:  78%|███████▊  | 7140/9152 [9:20:07<3:12:04,  5.73s/it]"
     ]
    },
    {
     "name": "stdout",
     "output_type": "stream",
     "text": [
      "\n",
      "Batch 7140/9152: Load=1.75s, Embed=1.61s, Store=0.00s, Total=5.50s, Images/sec=2.18\n",
      "Estimated remaining time: 184.4 minutes\n"
     ]
    },
    {
     "name": "stderr",
     "output_type": "stream",
     "text": [
      "Processing train:  78%|███████▊  | 7150/9152 [9:21:36<8:22:45, 15.07s/it]"
     ]
    },
    {
     "name": "stdout",
     "output_type": "stream",
     "text": [
      "\n",
      "Batch 7150/9152: Load=1.83s, Embed=1.61s, Store=0.00s, Total=5.22s, Images/sec=2.30\n",
      "Estimated remaining time: 174.0 minutes\n"
     ]
    },
    {
     "name": "stderr",
     "output_type": "stream",
     "text": [
      "Processing train:  78%|███████▊  | 7160/9152 [9:22:32<3:13:27,  5.83s/it]"
     ]
    },
    {
     "name": "stdout",
     "output_type": "stream",
     "text": [
      "\n",
      "Batch 7160/9152: Load=2.06s, Embed=1.65s, Store=0.00s, Total=5.54s, Images/sec=2.17\n",
      "Estimated remaining time: 183.9 minutes\n"
     ]
    },
    {
     "name": "stderr",
     "output_type": "stream",
     "text": [
      "Processing train:  78%|███████▊  | 7170/9152 [9:23:27<3:05:52,  5.63s/it]"
     ]
    },
    {
     "name": "stdout",
     "output_type": "stream",
     "text": [
      "\n",
      "Batch 7170/9152: Load=2.07s, Embed=2.02s, Store=0.00s, Total=5.95s, Images/sec=2.02\n",
      "Estimated remaining time: 196.5 minutes\n"
     ]
    },
    {
     "name": "stderr",
     "output_type": "stream",
     "text": [
      "Processing train:  78%|███████▊  | 7180/9152 [9:24:19<2:47:25,  5.09s/it]"
     ]
    },
    {
     "name": "stdout",
     "output_type": "stream",
     "text": [
      "\n",
      "Batch 7180/9152: Load=1.48s, Embed=1.57s, Store=0.00s, Total=4.94s, Images/sec=2.43\n",
      "Estimated remaining time: 162.4 minutes\n"
     ]
    },
    {
     "name": "stderr",
     "output_type": "stream",
     "text": [
      "Processing train:  79%|███████▊  | 7190/9152 [9:25:11<2:45:31,  5.06s/it]"
     ]
    },
    {
     "name": "stdout",
     "output_type": "stream",
     "text": [
      "\n",
      "Batch 7190/9152: Load=1.57s, Embed=1.57s, Store=0.00s, Total=4.95s, Images/sec=2.43\n",
      "Estimated remaining time: 161.7 minutes\n"
     ]
    },
    {
     "name": "stderr",
     "output_type": "stream",
     "text": [
      "Processing train:  79%|███████▊  | 7200/9152 [9:26:32<7:34:53, 13.98s/it]"
     ]
    },
    {
     "name": "stdout",
     "output_type": "stream",
     "text": [
      "\n",
      "Batch 7200/9152: Load=1.58s, Embed=1.57s, Store=0.00s, Total=5.09s, Images/sec=2.36\n",
      "Estimated remaining time: 165.7 minutes\n"
     ]
    },
    {
     "name": "stderr",
     "output_type": "stream",
     "text": [
      "Processing train:  79%|███████▉  | 7210/9152 [9:27:25<3:00:15,  5.57s/it]"
     ]
    },
    {
     "name": "stdout",
     "output_type": "stream",
     "text": [
      "\n",
      "Batch 7210/9152: Load=1.59s, Embed=1.89s, Store=0.00s, Total=5.34s, Images/sec=2.25\n",
      "Estimated remaining time: 172.9 minutes\n"
     ]
    },
    {
     "name": "stderr",
     "output_type": "stream",
     "text": [
      "Processing train:  79%|███████▉  | 7220/9152 [9:28:18<2:49:40,  5.27s/it]"
     ]
    },
    {
     "name": "stdout",
     "output_type": "stream",
     "text": [
      "\n",
      "Batch 7220/9152: Load=1.60s, Embed=1.58s, Store=0.00s, Total=5.02s, Images/sec=2.39\n",
      "Estimated remaining time: 161.6 minutes\n"
     ]
    },
    {
     "name": "stderr",
     "output_type": "stream",
     "text": [
      "Processing train:  79%|███████▉  | 7230/9152 [9:29:17<2:59:50,  5.61s/it]"
     ]
    },
    {
     "name": "stdout",
     "output_type": "stream",
     "text": [
      "\n",
      "Batch 7230/9152: Load=1.64s, Embed=1.78s, Store=0.00s, Total=5.23s, Images/sec=2.30\n",
      "Estimated remaining time: 167.4 minutes\n"
     ]
    },
    {
     "name": "stderr",
     "output_type": "stream",
     "text": [
      "Processing train:  79%|███████▉  | 7240/9152 [9:30:09<2:46:44,  5.23s/it]"
     ]
    },
    {
     "name": "stdout",
     "output_type": "stream",
     "text": [
      "\n",
      "Batch 7240/9152: Load=1.71s, Embed=1.64s, Store=0.02s, Total=5.25s, Images/sec=2.29\n",
      "Estimated remaining time: 167.3 minutes\n"
     ]
    },
    {
     "name": "stderr",
     "output_type": "stream",
     "text": [
      "Processing train:  79%|███████▉  | 7250/9152 [9:31:32<7:37:41, 14.44s/it]"
     ]
    },
    {
     "name": "stdout",
     "output_type": "stream",
     "text": [
      "\n",
      "Batch 7250/9152: Load=1.54s, Embed=1.75s, Store=0.00s, Total=5.05s, Images/sec=2.38\n",
      "Estimated remaining time: 160.1 minutes\n"
     ]
    },
    {
     "name": "stderr",
     "output_type": "stream",
     "text": [
      "Processing train:  79%|███████▉  | 7260/9152 [9:32:25<2:53:36,  5.51s/it]"
     ]
    },
    {
     "name": "stdout",
     "output_type": "stream",
     "text": [
      "\n",
      "Batch 7260/9152: Load=1.60s, Embed=1.64s, Store=0.01s, Total=5.05s, Images/sec=2.38\n",
      "Estimated remaining time: 159.1 minutes\n"
     ]
    },
    {
     "name": "stderr",
     "output_type": "stream",
     "text": [
      "Processing train:  79%|███████▉  | 7270/9152 [9:33:19<2:43:47,  5.22s/it]"
     ]
    },
    {
     "name": "stdout",
     "output_type": "stream",
     "text": [
      "\n",
      "Batch 7270/9152: Load=1.83s, Embed=1.64s, Store=0.00s, Total=5.12s, Images/sec=2.34\n",
      "Estimated remaining time: 160.6 minutes\n"
     ]
    },
    {
     "name": "stderr",
     "output_type": "stream",
     "text": [
      "Processing train:  80%|███████▉  | 7280/9152 [9:34:11<2:43:24,  5.24s/it]"
     ]
    },
    {
     "name": "stdout",
     "output_type": "stream",
     "text": [
      "\n",
      "Batch 7280/9152: Load=1.76s, Embed=1.86s, Store=0.00s, Total=5.36s, Images/sec=2.24\n",
      "Estimated remaining time: 167.2 minutes\n"
     ]
    },
    {
     "name": "stderr",
     "output_type": "stream",
     "text": [
      "Processing train:  80%|███████▉  | 7290/9152 [9:35:05<2:52:03,  5.54s/it]"
     ]
    },
    {
     "name": "stdout",
     "output_type": "stream",
     "text": [
      "\n",
      "Batch 7290/9152: Load=1.70s, Embed=1.62s, Store=0.00s, Total=5.07s, Images/sec=2.37\n",
      "Estimated remaining time: 157.4 minutes\n"
     ]
    },
    {
     "name": "stderr",
     "output_type": "stream",
     "text": [
      "Processing train:  80%|███████▉  | 7300/9152 [9:36:29<7:08:41, 13.89s/it]"
     ]
    },
    {
     "name": "stdout",
     "output_type": "stream",
     "text": [
      "\n",
      "Batch 7300/9152: Load=1.77s, Embed=1.66s, Store=0.00s, Total=5.21s, Images/sec=2.30\n",
      "Estimated remaining time: 160.7 minutes\n"
     ]
    },
    {
     "name": "stderr",
     "output_type": "stream",
     "text": [
      "Processing train:  80%|███████▉  | 7310/9152 [9:37:23<2:48:27,  5.49s/it]"
     ]
    },
    {
     "name": "stdout",
     "output_type": "stream",
     "text": [
      "\n",
      "Batch 7310/9152: Load=1.68s, Embed=1.65s, Store=0.00s, Total=5.18s, Images/sec=2.32\n",
      "Estimated remaining time: 158.9 minutes\n"
     ]
    },
    {
     "name": "stderr",
     "output_type": "stream",
     "text": [
      "Processing train:  80%|███████▉  | 7320/9152 [9:38:15<2:38:43,  5.20s/it]"
     ]
    },
    {
     "name": "stdout",
     "output_type": "stream",
     "text": [
      "\n",
      "Batch 7320/9152: Load=1.77s, Embed=1.59s, Store=0.00s, Total=5.28s, Images/sec=2.27\n",
      "Estimated remaining time: 161.3 minutes\n"
     ]
    },
    {
     "name": "stderr",
     "output_type": "stream",
     "text": [
      "Processing train:  80%|████████  | 7330/9152 [9:39:05<2:31:14,  4.98s/it]"
     ]
    },
    {
     "name": "stdout",
     "output_type": "stream",
     "text": [
      "\n",
      "Batch 7330/9152: Load=1.72s, Embed=1.65s, Store=0.00s, Total=5.01s, Images/sec=2.39\n",
      "Estimated remaining time: 152.2 minutes\n"
     ]
    },
    {
     "name": "stderr",
     "output_type": "stream",
     "text": [
      "Processing train:  80%|████████  | 7340/9152 [9:39:56<2:31:53,  5.03s/it]"
     ]
    },
    {
     "name": "stdout",
     "output_type": "stream",
     "text": [
      "\n",
      "Batch 7340/9152: Load=1.64s, Embed=1.70s, Store=0.00s, Total=4.97s, Images/sec=2.42\n",
      "Estimated remaining time: 150.0 minutes\n"
     ]
    },
    {
     "name": "stderr",
     "output_type": "stream",
     "text": [
      "Processing train:  80%|████████  | 7350/9152 [9:41:27<7:14:00, 14.45s/it]"
     ]
    },
    {
     "name": "stdout",
     "output_type": "stream",
     "text": [
      "\n",
      "Batch 7350/9152: Load=1.79s, Embed=1.68s, Store=0.00s, Total=5.12s, Images/sec=2.34\n",
      "Estimated remaining time: 153.9 minutes\n"
     ]
    },
    {
     "name": "stderr",
     "output_type": "stream",
     "text": [
      "Processing train:  80%|████████  | 7360/9152 [9:42:19<2:45:22,  5.54s/it]"
     ]
    },
    {
     "name": "stdout",
     "output_type": "stream",
     "text": [
      "\n",
      "Batch 7360/9152: Load=1.85s, Embed=1.59s, Store=0.00s, Total=5.25s, Images/sec=2.28\n",
      "Estimated remaining time: 156.9 minutes\n"
     ]
    },
    {
     "name": "stderr",
     "output_type": "stream",
     "text": [
      "Processing train:  81%|████████  | 7370/9152 [9:43:11<2:35:26,  5.23s/it]"
     ]
    },
    {
     "name": "stdout",
     "output_type": "stream",
     "text": [
      "\n",
      "Batch 7370/9152: Load=1.95s, Embed=1.59s, Store=0.00s, Total=5.28s, Images/sec=2.27\n",
      "Estimated remaining time: 156.7 minutes\n"
     ]
    },
    {
     "name": "stderr",
     "output_type": "stream",
     "text": [
      "Processing train:  81%|████████  | 7380/9152 [9:44:02<2:32:39,  5.17s/it]"
     ]
    },
    {
     "name": "stdout",
     "output_type": "stream",
     "text": [
      "\n",
      "Batch 7380/9152: Load=2.00s, Embed=1.62s, Store=0.00s, Total=5.31s, Images/sec=2.26\n",
      "Estimated remaining time: 156.8 minutes\n"
     ]
    },
    {
     "name": "stderr",
     "output_type": "stream",
     "text": [
      "Processing train:  81%|████████  | 7390/9152 [9:44:53<2:30:17,  5.12s/it]"
     ]
    },
    {
     "name": "stdout",
     "output_type": "stream",
     "text": [
      "\n",
      "Batch 7390/9152: Load=1.69s, Embed=1.60s, Store=0.00s, Total=5.04s, Images/sec=2.38\n",
      "Estimated remaining time: 148.1 minutes\n"
     ]
    },
    {
     "name": "stderr",
     "output_type": "stream",
     "text": [
      "Processing train:  81%|████████  | 7400/9152 [9:46:14<6:39:39, 13.69s/it]"
     ]
    },
    {
     "name": "stdout",
     "output_type": "stream",
     "text": [
      "\n",
      "Batch 7400/9152: Load=1.60s, Embed=1.60s, Store=0.00s, Total=4.82s, Images/sec=2.49\n",
      "Estimated remaining time: 140.8 minutes\n"
     ]
    },
    {
     "name": "stderr",
     "output_type": "stream",
     "text": [
      "Processing train:  81%|████████  | 7410/9152 [9:47:06<2:40:44,  5.54s/it]"
     ]
    },
    {
     "name": "stdout",
     "output_type": "stream",
     "text": [
      "\n",
      "Batch 7410/9152: Load=1.98s, Embed=1.59s, Store=0.00s, Total=5.33s, Images/sec=2.25\n",
      "Estimated remaining time: 154.8 minutes\n"
     ]
    },
    {
     "name": "stderr",
     "output_type": "stream",
     "text": [
      "Processing train:  81%|████████  | 7420/9152 [9:47:58<2:31:22,  5.24s/it]"
     ]
    },
    {
     "name": "stdout",
     "output_type": "stream",
     "text": [
      "\n",
      "Batch 7420/9152: Load=1.82s, Embed=1.68s, Store=0.00s, Total=5.31s, Images/sec=2.26\n",
      "Estimated remaining time: 153.3 minutes\n"
     ]
    },
    {
     "name": "stderr",
     "output_type": "stream",
     "text": [
      "Processing train:  81%|████████  | 7430/9152 [9:48:48<2:24:39,  5.04s/it]"
     ]
    },
    {
     "name": "stdout",
     "output_type": "stream",
     "text": [
      "\n",
      "Batch 7430/9152: Load=1.81s, Embed=1.58s, Store=0.00s, Total=5.05s, Images/sec=2.38\n",
      "Estimated remaining time: 145.0 minutes\n"
     ]
    },
    {
     "name": "stderr",
     "output_type": "stream",
     "text": [
      "Processing train:  81%|████████▏ | 7440/9152 [9:49:39<2:27:29,  5.17s/it]"
     ]
    },
    {
     "name": "stdout",
     "output_type": "stream",
     "text": [
      "\n",
      "Batch 7440/9152: Load=1.71s, Embed=1.57s, Store=0.00s, Total=5.23s, Images/sec=2.30\n",
      "Estimated remaining time: 149.1 minutes\n"
     ]
    },
    {
     "name": "stderr",
     "output_type": "stream",
     "text": [
      "Processing train:  81%|████████▏ | 7450/9152 [9:51:01<6:49:20, 14.43s/it]"
     ]
    },
    {
     "name": "stdout",
     "output_type": "stream",
     "text": [
      "\n",
      "Batch 7450/9152: Load=1.68s, Embed=1.57s, Store=0.00s, Total=4.98s, Images/sec=2.41\n",
      "Estimated remaining time: 141.3 minutes\n"
     ]
    },
    {
     "name": "stderr",
     "output_type": "stream",
     "text": [
      "Processing train:  82%|████████▏ | 7460/9152 [9:51:54<2:38:40,  5.63s/it]"
     ]
    },
    {
     "name": "stdout",
     "output_type": "stream",
     "text": [
      "\n",
      "Batch 7460/9152: Load=1.72s, Embed=1.59s, Store=0.00s, Total=5.22s, Images/sec=2.30\n",
      "Estimated remaining time: 147.1 minutes\n"
     ]
    },
    {
     "name": "stderr",
     "output_type": "stream",
     "text": [
      "Processing train:  82%|████████▏ | 7470/9152 [9:52:44<2:21:15,  5.04s/it]"
     ]
    },
    {
     "name": "stdout",
     "output_type": "stream",
     "text": [
      "\n",
      "Batch 7470/9152: Load=1.71s, Embed=1.58s, Store=0.00s, Total=5.00s, Images/sec=2.40\n",
      "Estimated remaining time: 140.2 minutes\n"
     ]
    },
    {
     "name": "stderr",
     "output_type": "stream",
     "text": [
      "Processing train:  82%|████████▏ | 7480/9152 [9:53:34<2:19:00,  4.99s/it]"
     ]
    },
    {
     "name": "stdout",
     "output_type": "stream",
     "text": [
      "\n",
      "Batch 7480/9152: Load=1.82s, Embed=1.57s, Store=0.00s, Total=5.06s, Images/sec=2.37\n",
      "Estimated remaining time: 140.9 minutes\n"
     ]
    },
    {
     "name": "stderr",
     "output_type": "stream",
     "text": [
      "Processing train:  82%|████████▏ | 7490/9152 [9:54:24<2:16:46,  4.94s/it]"
     ]
    },
    {
     "name": "stdout",
     "output_type": "stream",
     "text": [
      "\n",
      "Batch 7490/9152: Load=1.66s, Embed=1.57s, Store=0.00s, Total=4.87s, Images/sec=2.46\n",
      "Estimated remaining time: 135.0 minutes\n"
     ]
    },
    {
     "name": "stderr",
     "output_type": "stream",
     "text": [
      "Processing train:  82%|████████▏ | 7500/9152 [9:55:46<6:36:11, 14.39s/it]"
     ]
    },
    {
     "name": "stdout",
     "output_type": "stream",
     "text": [
      "\n",
      "Batch 7500/9152: Load=1.60s, Embed=1.57s, Store=0.00s, Total=5.13s, Images/sec=2.34\n",
      "Estimated remaining time: 141.3 minutes\n"
     ]
    },
    {
     "name": "stderr",
     "output_type": "stream",
     "text": [
      "Processing train:  82%|████████▏ | 7510/9152 [9:56:40<2:30:08,  5.49s/it]"
     ]
    },
    {
     "name": "stdout",
     "output_type": "stream",
     "text": [
      "\n",
      "Batch 7510/9152: Load=1.65s, Embed=1.60s, Store=0.00s, Total=5.02s, Images/sec=2.39\n",
      "Estimated remaining time: 137.4 minutes\n"
     ]
    },
    {
     "name": "stderr",
     "output_type": "stream",
     "text": [
      "Processing train:  82%|████████▏ | 7520/9152 [9:57:32<2:20:57,  5.18s/it]"
     ]
    },
    {
     "name": "stdout",
     "output_type": "stream",
     "text": [
      "\n",
      "Batch 7520/9152: Load=1.63s, Embed=1.59s, Store=0.00s, Total=4.93s, Images/sec=2.43\n",
      "Estimated remaining time: 134.2 minutes\n"
     ]
    },
    {
     "name": "stderr",
     "output_type": "stream",
     "text": [
      "Processing train:  82%|████████▏ | 7530/9152 [9:58:23<2:19:01,  5.14s/it]"
     ]
    },
    {
     "name": "stdout",
     "output_type": "stream",
     "text": [
      "\n",
      "Batch 7530/9152: Load=1.67s, Embed=1.63s, Store=0.00s, Total=5.10s, Images/sec=2.35\n",
      "Estimated remaining time: 137.9 minutes\n"
     ]
    },
    {
     "name": "stderr",
     "output_type": "stream",
     "text": [
      "Processing train:  82%|████████▏ | 7540/9152 [9:59:15<2:19:05,  5.18s/it]"
     ]
    },
    {
     "name": "stdout",
     "output_type": "stream",
     "text": [
      "\n",
      "Batch 7540/9152: Load=1.75s, Embed=1.64s, Store=0.00s, Total=5.35s, Images/sec=2.24\n",
      "Estimated remaining time: 143.8 minutes\n"
     ]
    },
    {
     "name": "stderr",
     "output_type": "stream",
     "text": [
      "Processing train:  82%|████████▏ | 7550/9152 [10:00:39<6:31:41, 14.67s/it]"
     ]
    },
    {
     "name": "stdout",
     "output_type": "stream",
     "text": [
      "\n",
      "Batch 7550/9152: Load=1.53s, Embed=1.67s, Store=0.00s, Total=5.06s, Images/sec=2.37\n",
      "Estimated remaining time: 135.0 minutes\n"
     ]
    },
    {
     "name": "stderr",
     "output_type": "stream",
     "text": [
      "Processing train:  83%|████████▎ | 7560/9152 [10:01:31<2:23:11,  5.40s/it]"
     ]
    },
    {
     "name": "stdout",
     "output_type": "stream",
     "text": [
      "\n",
      "Batch 7560/9152: Load=1.62s, Embed=1.66s, Store=0.00s, Total=5.07s, Images/sec=2.37\n",
      "Estimated remaining time: 134.5 minutes\n"
     ]
    },
    {
     "name": "stderr",
     "output_type": "stream",
     "text": [
      "Processing train:  83%|████████▎ | 7570/9152 [10:02:22<2:18:14,  5.24s/it]"
     ]
    },
    {
     "name": "stdout",
     "output_type": "stream",
     "text": [
      "\n",
      "Batch 7570/9152: Load=1.59s, Embed=1.66s, Store=0.00s, Total=5.23s, Images/sec=2.29\n",
      "Estimated remaining time: 138.0 minutes\n"
     ]
    },
    {
     "name": "stderr",
     "output_type": "stream",
     "text": [
      "Processing train:  83%|████████▎ | 7580/9152 [10:03:15<2:16:35,  5.21s/it]"
     ]
    },
    {
     "name": "stdout",
     "output_type": "stream",
     "text": [
      "\n",
      "Batch 7580/9152: Load=1.69s, Embed=1.68s, Store=0.00s, Total=5.14s, Images/sec=2.34\n",
      "Estimated remaining time: 134.6 minutes\n"
     ]
    },
    {
     "name": "stderr",
     "output_type": "stream",
     "text": [
      "Processing train:  83%|████████▎ | 7590/9152 [10:04:05<2:10:53,  5.03s/it]"
     ]
    },
    {
     "name": "stdout",
     "output_type": "stream",
     "text": [
      "\n",
      "Batch 7590/9152: Load=1.59s, Embed=1.60s, Store=0.00s, Total=5.03s, Images/sec=2.38\n",
      "Estimated remaining time: 131.0 minutes\n"
     ]
    },
    {
     "name": "stderr",
     "output_type": "stream",
     "text": [
      "Processing train:  83%|████████▎ | 7600/9152 [10:05:28<6:17:17, 14.59s/it]"
     ]
    },
    {
     "name": "stdout",
     "output_type": "stream",
     "text": [
      "\n",
      "Batch 7600/9152: Load=1.65s, Embed=1.58s, Store=0.00s, Total=5.06s, Images/sec=2.37\n",
      "Estimated remaining time: 131.0 minutes\n"
     ]
    },
    {
     "name": "stderr",
     "output_type": "stream",
     "text": [
      "Processing train:  83%|████████▎ | 7610/9152 [10:06:21<2:19:24,  5.42s/it]"
     ]
    },
    {
     "name": "stdout",
     "output_type": "stream",
     "text": [
      "\n",
      "Batch 7610/9152: Load=1.76s, Embed=1.63s, Store=0.00s, Total=5.07s, Images/sec=2.37\n",
      "Estimated remaining time: 130.3 minutes\n"
     ]
    },
    {
     "name": "stderr",
     "output_type": "stream",
     "text": [
      "Processing train:  83%|████████▎ | 7620/9152 [10:07:12<2:11:14,  5.14s/it]"
     ]
    },
    {
     "name": "stdout",
     "output_type": "stream",
     "text": [
      "\n",
      "Batch 7620/9152: Load=1.73s, Embed=1.67s, Store=0.00s, Total=5.26s, Images/sec=2.28\n",
      "Estimated remaining time: 134.2 minutes\n"
     ]
    },
    {
     "name": "stderr",
     "output_type": "stream",
     "text": [
      "Processing train:  83%|████████▎ | 7630/9152 [10:08:04<2:12:00,  5.20s/it]"
     ]
    },
    {
     "name": "stdout",
     "output_type": "stream",
     "text": [
      "\n",
      "Batch 7630/9152: Load=1.62s, Embed=1.65s, Store=0.00s, Total=5.23s, Images/sec=2.30\n",
      "Estimated remaining time: 132.5 minutes\n"
     ]
    },
    {
     "name": "stderr",
     "output_type": "stream",
     "text": [
      "Processing train:  83%|████████▎ | 7640/9152 [10:08:55<2:09:41,  5.15s/it]"
     ]
    },
    {
     "name": "stdout",
     "output_type": "stream",
     "text": [
      "\n",
      "Batch 7640/9152: Load=1.65s, Embed=1.67s, Store=0.00s, Total=5.15s, Images/sec=2.33\n",
      "Estimated remaining time: 129.7 minutes\n"
     ]
    },
    {
     "name": "stderr",
     "output_type": "stream",
     "text": [
      "Processing train:  84%|████████▎ | 7650/9152 [10:10:19<6:12:01, 14.86s/it]"
     ]
    },
    {
     "name": "stdout",
     "output_type": "stream",
     "text": [
      "\n",
      "Batch 7650/9152: Load=1.71s, Embed=1.62s, Store=0.00s, Total=5.33s, Images/sec=2.25\n",
      "Estimated remaining time: 133.3 minutes\n"
     ]
    },
    {
     "name": "stderr",
     "output_type": "stream",
     "text": [
      "Processing train:  84%|████████▎ | 7660/9152 [10:11:13<2:13:43,  5.38s/it]"
     ]
    },
    {
     "name": "stdout",
     "output_type": "stream",
     "text": [
      "\n",
      "Batch 7660/9152: Load=1.74s, Embed=1.64s, Store=0.00s, Total=5.06s, Images/sec=2.37\n",
      "Estimated remaining time: 125.7 minutes\n"
     ]
    },
    {
     "name": "stderr",
     "output_type": "stream",
     "text": [
      "Processing train:  84%|████████▍ | 7670/9152 [10:12:03<2:03:50,  5.01s/it]"
     ]
    },
    {
     "name": "stdout",
     "output_type": "stream",
     "text": [
      "\n",
      "Batch 7670/9152: Load=1.68s, Embed=1.58s, Store=0.00s, Total=4.92s, Images/sec=2.44\n",
      "Estimated remaining time: 121.6 minutes\n"
     ]
    },
    {
     "name": "stderr",
     "output_type": "stream",
     "text": [
      "Processing train:  84%|████████▍ | 7680/9152 [10:12:54<2:03:23,  5.03s/it]"
     ]
    },
    {
     "name": "stdout",
     "output_type": "stream",
     "text": [
      "\n",
      "Batch 7680/9152: Load=1.55s, Embed=1.58s, Store=0.00s, Total=4.99s, Images/sec=2.41\n",
      "Estimated remaining time: 122.3 minutes\n"
     ]
    },
    {
     "name": "stderr",
     "output_type": "stream",
     "text": [
      "Processing train:  84%|████████▍ | 7690/9152 [10:13:45<2:04:30,  5.11s/it]"
     ]
    },
    {
     "name": "stdout",
     "output_type": "stream",
     "text": [
      "\n",
      "Batch 7690/9152: Load=1.73s, Embed=1.59s, Store=0.00s, Total=5.15s, Images/sec=2.33\n",
      "Estimated remaining time: 125.4 minutes\n"
     ]
    },
    {
     "name": "stderr",
     "output_type": "stream",
     "text": [
      "Processing train:  84%|████████▍ | 7700/9152 [10:15:45<7:33:20, 18.73s/it]"
     ]
    },
    {
     "name": "stdout",
     "output_type": "stream",
     "text": [
      "\n",
      "Batch 7700/9152: Load=1.73s, Embed=1.59s, Store=0.00s, Total=5.09s, Images/sec=2.36\n",
      "Estimated remaining time: 123.2 minutes\n"
     ]
    },
    {
     "name": "stderr",
     "output_type": "stream",
     "text": [
      "Processing train:  84%|████████▍ | 7710/9152 [10:16:45<2:22:31,  5.93s/it]"
     ]
    },
    {
     "name": "stdout",
     "output_type": "stream",
     "text": [
      "\n",
      "Batch 7710/9152: Load=1.63s, Embed=1.63s, Store=0.00s, Total=5.15s, Images/sec=2.33\n",
      "Estimated remaining time: 123.7 minutes\n"
     ]
    },
    {
     "name": "stderr",
     "output_type": "stream",
     "text": [
      "Processing train:  84%|████████▍ | 7720/9152 [10:17:39<2:12:53,  5.57s/it]"
     ]
    },
    {
     "name": "stdout",
     "output_type": "stream",
     "text": [
      "\n",
      "Batch 7720/9152: Load=2.13s, Embed=1.64s, Store=0.00s, Total=5.66s, Images/sec=2.12\n",
      "Estimated remaining time: 135.1 minutes\n"
     ]
    },
    {
     "name": "stderr",
     "output_type": "stream",
     "text": [
      "Processing train:  84%|████████▍ | 7730/9152 [10:18:39<2:26:24,  6.18s/it]"
     ]
    },
    {
     "name": "stdout",
     "output_type": "stream",
     "text": [
      "\n",
      "Batch 7730/9152: Load=2.61s, Embed=1.64s, Store=0.00s, Total=6.58s, Images/sec=1.82\n",
      "Estimated remaining time: 156.0 minutes\n"
     ]
    },
    {
     "name": "stderr",
     "output_type": "stream",
     "text": [
      "Processing train:  85%|████████▍ | 7740/9152 [10:19:42<2:26:21,  6.22s/it]"
     ]
    },
    {
     "name": "stdout",
     "output_type": "stream",
     "text": [
      "\n",
      "Batch 7740/9152: Load=2.53s, Embed=1.63s, Store=0.00s, Total=6.20s, Images/sec=1.93\n",
      "Estimated remaining time: 146.0 minutes\n"
     ]
    },
    {
     "name": "stderr",
     "output_type": "stream",
     "text": [
      "Processing train:  85%|████████▍ | 7750/9152 [10:21:19<6:35:54, 16.94s/it]"
     ]
    },
    {
     "name": "stdout",
     "output_type": "stream",
     "text": [
      "\n",
      "Batch 7750/9152: Load=2.67s, Embed=1.68s, Store=0.00s, Total=7.77s, Images/sec=1.54\n",
      "Estimated remaining time: 181.6 minutes\n"
     ]
    },
    {
     "name": "stderr",
     "output_type": "stream",
     "text": [
      "Processing train:  85%|████████▍ | 7760/9152 [10:22:20<2:23:41,  6.19s/it]"
     ]
    },
    {
     "name": "stdout",
     "output_type": "stream",
     "text": [
      "\n",
      "Batch 7760/9152: Load=2.41s, Embed=1.59s, Store=0.00s, Total=5.71s, Images/sec=2.10\n",
      "Estimated remaining time: 132.5 minutes\n"
     ]
    },
    {
     "name": "stderr",
     "output_type": "stream",
     "text": [
      "Processing train:  85%|████████▍ | 7770/9152 [10:23:22<2:21:30,  6.14s/it]"
     ]
    },
    {
     "name": "stdout",
     "output_type": "stream",
     "text": [
      "\n",
      "Batch 7770/9152: Load=2.40s, Embed=1.62s, Store=0.00s, Total=5.87s, Images/sec=2.05\n",
      "Estimated remaining time: 135.1 minutes\n"
     ]
    },
    {
     "name": "stderr",
     "output_type": "stream",
     "text": [
      "Processing train:  85%|████████▌ | 7780/9152 [10:24:13<1:56:46,  5.11s/it]"
     ]
    },
    {
     "name": "stdout",
     "output_type": "stream",
     "text": [
      "\n",
      "Batch 7780/9152: Load=1.59s, Embed=1.63s, Store=0.00s, Total=5.00s, Images/sec=2.40\n",
      "Estimated remaining time: 114.3 minutes\n"
     ]
    },
    {
     "name": "stderr",
     "output_type": "stream",
     "text": [
      "Processing train:  85%|████████▌ | 7790/9152 [10:25:03<1:51:06,  4.89s/it]"
     ]
    },
    {
     "name": "stdout",
     "output_type": "stream",
     "text": [
      "\n",
      "Batch 7790/9152: Load=1.60s, Embed=1.58s, Store=0.00s, Total=4.90s, Images/sec=2.45\n",
      "Estimated remaining time: 111.2 minutes\n"
     ]
    },
    {
     "name": "stderr",
     "output_type": "stream",
     "text": [
      "Processing train:  85%|████████▌ | 7800/9152 [10:26:25<5:26:59, 14.51s/it]"
     ]
    },
    {
     "name": "stdout",
     "output_type": "stream",
     "text": [
      "\n",
      "Batch 7800/9152: Load=1.58s, Embed=1.57s, Store=0.00s, Total=5.08s, Images/sec=2.36\n",
      "Estimated remaining time: 114.4 minutes\n"
     ]
    },
    {
     "name": "stderr",
     "output_type": "stream",
     "text": [
      "Processing train:  85%|████████▌ | 7810/9152 [10:27:15<1:55:51,  5.18s/it]"
     ]
    },
    {
     "name": "stdout",
     "output_type": "stream",
     "text": [
      "\n",
      "Batch 7810/9152: Load=1.54s, Embed=1.58s, Store=0.00s, Total=4.83s, Images/sec=2.48\n",
      "Estimated remaining time: 108.1 minutes\n"
     ]
    },
    {
     "name": "stderr",
     "output_type": "stream",
     "text": [
      "Processing train:  85%|████████▌ | 7820/9152 [10:28:04<1:49:39,  4.94s/it]"
     ]
    },
    {
     "name": "stdout",
     "output_type": "stream",
     "text": [
      "\n",
      "Batch 7820/9152: Load=1.57s, Embed=1.56s, Store=0.00s, Total=4.94s, Images/sec=2.43\n",
      "Estimated remaining time: 109.7 minutes\n"
     ]
    },
    {
     "name": "stderr",
     "output_type": "stream",
     "text": [
      "Processing train:  86%|████████▌ | 7830/9152 [10:28:54<1:49:40,  4.98s/it]"
     ]
    },
    {
     "name": "stdout",
     "output_type": "stream",
     "text": [
      "\n",
      "Batch 7830/9152: Load=1.64s, Embed=1.58s, Store=0.00s, Total=4.95s, Images/sec=2.43\n",
      "Estimated remaining time: 109.0 minutes\n"
     ]
    },
    {
     "name": "stderr",
     "output_type": "stream",
     "text": [
      "Processing train:  86%|████████▌ | 7840/9152 [10:29:44<1:50:19,  5.05s/it]"
     ]
    },
    {
     "name": "stdout",
     "output_type": "stream",
     "text": [
      "\n",
      "Batch 7840/9152: Load=1.69s, Embed=1.58s, Store=0.00s, Total=5.15s, Images/sec=2.33\n",
      "Estimated remaining time: 112.5 minutes\n"
     ]
    },
    {
     "name": "stderr",
     "output_type": "stream",
     "text": [
      "Processing train:  86%|████████▌ | 7850/9152 [10:31:06<5:17:37, 14.64s/it]"
     ]
    },
    {
     "name": "stdout",
     "output_type": "stream",
     "text": [
      "\n",
      "Batch 7850/9152: Load=1.68s, Embed=1.59s, Store=0.00s, Total=5.00s, Images/sec=2.40\n",
      "Estimated remaining time: 108.4 minutes\n"
     ]
    },
    {
     "name": "stderr",
     "output_type": "stream",
     "text": [
      "Processing train:  86%|████████▌ | 7860/9152 [10:31:57<1:53:27,  5.27s/it]"
     ]
    },
    {
     "name": "stdout",
     "output_type": "stream",
     "text": [
      "\n",
      "Batch 7860/9152: Load=1.63s, Embed=1.57s, Store=0.00s, Total=4.99s, Images/sec=2.40\n",
      "Estimated remaining time: 107.5 minutes\n"
     ]
    },
    {
     "name": "stderr",
     "output_type": "stream",
     "text": [
      "Processing train:  86%|████████▌ | 7870/9152 [10:32:49<1:53:11,  5.30s/it]"
     ]
    },
    {
     "name": "stdout",
     "output_type": "stream",
     "text": [
      "\n",
      "Batch 7870/9152: Load=1.63s, Embed=1.67s, Store=0.00s, Total=5.45s, Images/sec=2.20\n",
      "Estimated remaining time: 116.4 minutes\n"
     ]
    },
    {
     "name": "stderr",
     "output_type": "stream",
     "text": [
      "Processing train:  86%|████████▌ | 7880/9152 [10:33:39<1:46:55,  5.04s/it]"
     ]
    },
    {
     "name": "stdout",
     "output_type": "stream",
     "text": [
      "\n",
      "Batch 7880/9152: Load=1.69s, Embed=1.65s, Store=0.00s, Total=5.12s, Images/sec=2.34\n",
      "Estimated remaining time: 108.6 minutes\n"
     ]
    },
    {
     "name": "stderr",
     "output_type": "stream",
     "text": [
      "Processing train:  86%|████████▌ | 7890/9152 [10:34:30<1:45:40,  5.02s/it]"
     ]
    },
    {
     "name": "stdout",
     "output_type": "stream",
     "text": [
      "\n",
      "Batch 7890/9152: Load=1.67s, Embed=1.66s, Store=0.00s, Total=5.05s, Images/sec=2.38\n",
      "Estimated remaining time: 106.1 minutes\n"
     ]
    },
    {
     "name": "stderr",
     "output_type": "stream",
     "text": [
      "Processing train:  86%|████████▋ | 7900/9152 [10:35:54<5:14:54, 15.09s/it]"
     ]
    },
    {
     "name": "stdout",
     "output_type": "stream",
     "text": [
      "\n",
      "Batch 7900/9152: Load=1.62s, Embed=1.65s, Store=0.00s, Total=5.40s, Images/sec=2.22\n",
      "Estimated remaining time: 112.7 minutes\n"
     ]
    },
    {
     "name": "stderr",
     "output_type": "stream",
     "text": [
      "Processing train:  86%|████████▋ | 7910/9152 [10:36:46<1:49:31,  5.29s/it]"
     ]
    },
    {
     "name": "stdout",
     "output_type": "stream",
     "text": [
      "\n",
      "Batch 7910/9152: Load=1.56s, Embed=1.64s, Store=0.00s, Total=4.96s, Images/sec=2.42\n",
      "Estimated remaining time: 102.6 minutes\n"
     ]
    },
    {
     "name": "stderr",
     "output_type": "stream",
     "text": [
      "Processing train:  87%|████████▋ | 7920/9152 [10:37:37<1:43:35,  5.05s/it]"
     ]
    },
    {
     "name": "stdout",
     "output_type": "stream",
     "text": [
      "\n",
      "Batch 7920/9152: Load=1.67s, Embed=1.65s, Store=0.00s, Total=5.06s, Images/sec=2.37\n",
      "Estimated remaining time: 103.8 minutes\n"
     ]
    },
    {
     "name": "stderr",
     "output_type": "stream",
     "text": [
      "Processing train:  87%|████████▋ | 7930/9152 [10:38:31<1:48:23,  5.32s/it]"
     ]
    },
    {
     "name": "stdout",
     "output_type": "stream",
     "text": [
      "\n",
      "Batch 7930/9152: Load=1.60s, Embed=1.65s, Store=0.00s, Total=5.09s, Images/sec=2.36\n",
      "Estimated remaining time: 103.6 minutes\n"
     ]
    },
    {
     "name": "stderr",
     "output_type": "stream",
     "text": [
      "Processing train:  87%|████████▋ | 7940/9152 [10:39:22<1:42:51,  5.09s/it]"
     ]
    },
    {
     "name": "stdout",
     "output_type": "stream",
     "text": [
      "\n",
      "Batch 7940/9152: Load=1.63s, Embed=1.67s, Store=0.00s, Total=5.07s, Images/sec=2.37\n",
      "Estimated remaining time: 102.5 minutes\n"
     ]
    },
    {
     "name": "stderr",
     "output_type": "stream",
     "text": [
      "Processing train:  87%|████████▋ | 7950/9152 [10:40:45<4:50:20, 14.49s/it]"
     ]
    },
    {
     "name": "stdout",
     "output_type": "stream",
     "text": [
      "\n",
      "Batch 7950/9152: Load=1.59s, Embed=1.60s, Store=0.00s, Total=5.13s, Images/sec=2.34\n",
      "Estimated remaining time: 102.7 minutes\n"
     ]
    },
    {
     "name": "stderr",
     "output_type": "stream",
     "text": [
      "Processing train:  87%|████████▋ | 7960/9152 [10:41:37<1:45:28,  5.31s/it]"
     ]
    },
    {
     "name": "stdout",
     "output_type": "stream",
     "text": [
      "\n",
      "Batch 7960/9152: Load=1.51s, Embed=1.57s, Store=0.00s, Total=4.95s, Images/sec=2.42\n",
      "Estimated remaining time: 98.4 minutes\n"
     ]
    },
    {
     "name": "stderr",
     "output_type": "stream",
     "text": [
      "Processing train:  87%|████████▋ | 7970/9152 [10:42:27<1:39:27,  5.05s/it]"
     ]
    },
    {
     "name": "stdout",
     "output_type": "stream",
     "text": [
      "\n",
      "Batch 7970/9152: Load=1.60s, Embed=1.58s, Store=0.00s, Total=5.12s, Images/sec=2.34\n",
      "Estimated remaining time: 100.9 minutes\n"
     ]
    },
    {
     "name": "stderr",
     "output_type": "stream",
     "text": [
      "Processing train:  87%|████████▋ | 7980/9152 [10:43:18<1:42:04,  5.23s/it]"
     ]
    },
    {
     "name": "stdout",
     "output_type": "stream",
     "text": [
      "\n",
      "Batch 7980/9152: Load=1.56s, Embed=1.57s, Store=0.00s, Total=5.34s, Images/sec=2.25\n",
      "Estimated remaining time: 104.2 minutes\n"
     ]
    },
    {
     "name": "stderr",
     "output_type": "stream",
     "text": [
      "Processing train:  87%|████████▋ | 7990/9152 [10:44:09<1:37:53,  5.05s/it]"
     ]
    },
    {
     "name": "stdout",
     "output_type": "stream",
     "text": [
      "\n",
      "Batch 7990/9152: Load=1.68s, Embed=1.59s, Store=0.00s, Total=5.12s, Images/sec=2.34\n",
      "Estimated remaining time: 99.2 minutes\n"
     ]
    },
    {
     "name": "stderr",
     "output_type": "stream",
     "text": [
      "Processing train:  87%|████████▋ | 8000/9152 [10:45:31<4:38:44, 14.52s/it]"
     ]
    },
    {
     "name": "stdout",
     "output_type": "stream",
     "text": [
      "\n",
      "Batch 8000/9152: Load=1.71s, Embed=1.62s, Store=0.00s, Total=5.09s, Images/sec=2.36\n",
      "Estimated remaining time: 97.7 minutes\n"
     ]
    },
    {
     "name": "stderr",
     "output_type": "stream",
     "text": [
      "Processing train:  88%|████████▊ | 8010/9152 [10:46:23<1:41:54,  5.35s/it]"
     ]
    },
    {
     "name": "stdout",
     "output_type": "stream",
     "text": [
      "\n",
      "Batch 8010/9152: Load=1.61s, Embed=1.58s, Store=0.00s, Total=4.99s, Images/sec=2.41\n",
      "Estimated remaining time: 94.9 minutes\n"
     ]
    },
    {
     "name": "stderr",
     "output_type": "stream",
     "text": [
      "Processing train:  88%|████████▊ | 8020/9152 [10:47:13<1:34:39,  5.02s/it]"
     ]
    },
    {
     "name": "stdout",
     "output_type": "stream",
     "text": [
      "\n",
      "Batch 8020/9152: Load=1.54s, Embed=1.59s, Store=0.00s, Total=4.98s, Images/sec=2.41\n",
      "Estimated remaining time: 93.9 minutes\n"
     ]
    },
    {
     "name": "stderr",
     "output_type": "stream",
     "text": [
      "Processing train:  88%|████████▊ | 8030/9152 [10:48:04<1:37:08,  5.19s/it]"
     ]
    },
    {
     "name": "stdout",
     "output_type": "stream",
     "text": [
      "\n",
      "Batch 8030/9152: Load=1.61s, Embed=1.65s, Store=0.00s, Total=5.32s, Images/sec=2.26\n",
      "Estimated remaining time: 99.5 minutes\n"
     ]
    },
    {
     "name": "stderr",
     "output_type": "stream",
     "text": [
      "Processing train:  88%|████████▊ | 8040/9152 [10:48:56<1:35:46,  5.17s/it]"
     ]
    },
    {
     "name": "stdout",
     "output_type": "stream",
     "text": [
      "\n",
      "Batch 8040/9152: Load=1.60s, Embed=1.69s, Store=0.00s, Total=5.15s, Images/sec=2.33\n",
      "Estimated remaining time: 95.4 minutes\n"
     ]
    },
    {
     "name": "stderr",
     "output_type": "stream",
     "text": [
      "Processing train:  88%|████████▊ | 8050/9152 [10:50:20<4:34:16, 14.93s/it]"
     ]
    },
    {
     "name": "stdout",
     "output_type": "stream",
     "text": [
      "\n",
      "Batch 8050/9152: Load=1.64s, Embed=1.66s, Store=0.00s, Total=5.16s, Images/sec=2.33\n",
      "Estimated remaining time: 94.8 minutes\n"
     ]
    },
    {
     "name": "stderr",
     "output_type": "stream",
     "text": [
      "Processing train:  88%|████████▊ | 8060/9152 [10:51:12<1:39:23,  5.46s/it]"
     ]
    },
    {
     "name": "stdout",
     "output_type": "stream",
     "text": [
      "\n",
      "Batch 8060/9152: Load=1.55s, Embed=1.63s, Store=0.00s, Total=5.12s, Images/sec=2.34\n",
      "Estimated remaining time: 93.2 minutes\n"
     ]
    },
    {
     "name": "stderr",
     "output_type": "stream",
     "text": [
      "Processing train:  88%|████████▊ | 8070/9152 [10:52:03<1:32:08,  5.11s/it]"
     ]
    },
    {
     "name": "stdout",
     "output_type": "stream",
     "text": [
      "\n",
      "Batch 8070/9152: Load=1.58s, Embed=1.67s, Store=0.00s, Total=5.16s, Images/sec=2.32\n",
      "Estimated remaining time: 93.1 minutes\n"
     ]
    },
    {
     "name": "stderr",
     "output_type": "stream",
     "text": [
      "Processing train:  88%|████████▊ | 8080/9152 [10:52:53<1:30:00,  5.04s/it]"
     ]
    },
    {
     "name": "stdout",
     "output_type": "stream",
     "text": [
      "\n",
      "Batch 8080/9152: Load=1.51s, Embed=1.65s, Store=0.00s, Total=5.09s, Images/sec=2.36\n",
      "Estimated remaining time: 91.0 minutes\n"
     ]
    },
    {
     "name": "stderr",
     "output_type": "stream",
     "text": [
      "Processing train:  88%|████████▊ | 8090/9152 [10:53:45<1:32:48,  5.24s/it]"
     ]
    },
    {
     "name": "stdout",
     "output_type": "stream",
     "text": [
      "\n",
      "Batch 8090/9152: Load=1.61s, Embed=1.59s, Store=0.00s, Total=5.16s, Images/sec=2.33\n",
      "Estimated remaining time: 91.3 minutes\n"
     ]
    },
    {
     "name": "stderr",
     "output_type": "stream",
     "text": [
      "Processing train:  89%|████████▊ | 8100/9152 [10:55:12<4:36:22, 15.76s/it]"
     ]
    },
    {
     "name": "stdout",
     "output_type": "stream",
     "text": [
      "\n",
      "Batch 8100/9152: Load=1.55s, Embed=1.57s, Store=0.00s, Total=4.90s, Images/sec=2.45\n",
      "Estimated remaining time: 85.9 minutes\n"
     ]
    },
    {
     "name": "stderr",
     "output_type": "stream",
     "text": [
      "Processing train:  89%|████████▊ | 8110/9152 [10:56:08<1:36:49,  5.58s/it]"
     ]
    },
    {
     "name": "stdout",
     "output_type": "stream",
     "text": [
      "\n",
      "Batch 8110/9152: Load=1.70s, Embed=1.58s, Store=0.00s, Total=5.11s, Images/sec=2.35\n",
      "Estimated remaining time: 88.7 minutes\n"
     ]
    },
    {
     "name": "stderr",
     "output_type": "stream",
     "text": [
      "Processing train:  89%|████████▊ | 8120/9152 [10:56:57<1:26:18,  5.02s/it]"
     ]
    },
    {
     "name": "stdout",
     "output_type": "stream",
     "text": [
      "\n",
      "Batch 8120/9152: Load=1.41s, Embed=1.56s, Store=0.00s, Total=4.98s, Images/sec=2.41\n",
      "Estimated remaining time: 85.6 minutes\n"
     ]
    },
    {
     "name": "stderr",
     "output_type": "stream",
     "text": [
      "Processing train:  89%|████████▉ | 8130/9152 [10:57:48<1:25:43,  5.03s/it]"
     ]
    },
    {
     "name": "stdout",
     "output_type": "stream",
     "text": [
      "\n",
      "Batch 8130/9152: Load=1.53s, Embed=1.58s, Store=0.00s, Total=4.90s, Images/sec=2.45\n",
      "Estimated remaining time: 83.5 minutes\n"
     ]
    },
    {
     "name": "stderr",
     "output_type": "stream",
     "text": [
      "Processing train:  89%|████████▉ | 8140/9152 [10:58:39<1:25:34,  5.07s/it]"
     ]
    },
    {
     "name": "stdout",
     "output_type": "stream",
     "text": [
      "\n",
      "Batch 8140/9152: Load=1.65s, Embed=1.59s, Store=0.00s, Total=5.05s, Images/sec=2.38\n",
      "Estimated remaining time: 85.2 minutes\n"
     ]
    },
    {
     "name": "stderr",
     "output_type": "stream",
     "text": [
      "Processing train:  89%|████████▉ | 8150/9152 [11:00:02<4:11:35, 15.07s/it]"
     ]
    },
    {
     "name": "stdout",
     "output_type": "stream",
     "text": [
      "\n",
      "Batch 8150/9152: Load=1.61s, Embed=1.59s, Store=0.00s, Total=5.02s, Images/sec=2.39\n",
      "Estimated remaining time: 83.9 minutes\n"
     ]
    },
    {
     "name": "stderr",
     "output_type": "stream",
     "text": [
      "Processing train:  89%|████████▉ | 8160/9152 [11:00:56<1:32:08,  5.57s/it]"
     ]
    },
    {
     "name": "stdout",
     "output_type": "stream",
     "text": [
      "\n",
      "Batch 8160/9152: Load=1.66s, Embed=1.57s, Store=0.00s, Total=5.27s, Images/sec=2.28\n",
      "Estimated remaining time: 87.1 minutes\n"
     ]
    },
    {
     "name": "stderr",
     "output_type": "stream",
     "text": [
      "Processing train:  89%|████████▉ | 8170/9152 [11:01:47<1:23:49,  5.12s/it]"
     ]
    },
    {
     "name": "stdout",
     "output_type": "stream",
     "text": [
      "\n",
      "Batch 8170/9152: Load=1.56s, Embed=1.57s, Store=0.00s, Total=4.99s, Images/sec=2.41\n",
      "Estimated remaining time: 81.6 minutes\n"
     ]
    },
    {
     "name": "stderr",
     "output_type": "stream",
     "text": [
      "Processing train:  89%|████████▉ | 8180/9152 [11:02:38<1:23:32,  5.16s/it]"
     ]
    },
    {
     "name": "stdout",
     "output_type": "stream",
     "text": [
      "\n",
      "Batch 8180/9152: Load=1.60s, Embed=1.59s, Store=0.00s, Total=5.30s, Images/sec=2.26\n",
      "Estimated remaining time: 85.8 minutes\n"
     ]
    },
    {
     "name": "stderr",
     "output_type": "stream",
     "text": [
      "Processing train:  89%|████████▉ | 8190/9152 [11:03:29<1:24:52,  5.29s/it]"
     ]
    },
    {
     "name": "stdout",
     "output_type": "stream",
     "text": [
      "\n",
      "Batch 8190/9152: Load=1.62s, Embed=1.58s, Store=0.00s, Total=5.37s, Images/sec=2.23\n",
      "Estimated remaining time: 86.1 minutes\n"
     ]
    },
    {
     "name": "stderr",
     "output_type": "stream",
     "text": [
      "Processing train:  90%|████████▉ | 8200/9152 [11:04:55<4:04:04, 15.38s/it]"
     ]
    },
    {
     "name": "stdout",
     "output_type": "stream",
     "text": [
      "\n",
      "Batch 8200/9152: Load=1.63s, Embed=1.60s, Store=0.00s, Total=5.04s, Images/sec=2.38\n",
      "Estimated remaining time: 79.9 minutes\n"
     ]
    },
    {
     "name": "stderr",
     "output_type": "stream",
     "text": [
      "Processing train:  90%|████████▉ | 8210/9152 [11:05:48<1:25:04,  5.42s/it]"
     ]
    },
    {
     "name": "stdout",
     "output_type": "stream",
     "text": [
      "\n",
      "Batch 8210/9152: Load=1.48s, Embed=1.58s, Store=0.00s, Total=5.04s, Images/sec=2.38\n",
      "Estimated remaining time: 79.1 minutes\n"
     ]
    },
    {
     "name": "stderr",
     "output_type": "stream",
     "text": [
      "Processing train:  90%|████████▉ | 8220/9152 [11:06:38<1:18:45,  5.07s/it]"
     ]
    },
    {
     "name": "stdout",
     "output_type": "stream",
     "text": [
      "\n",
      "Batch 8220/9152: Load=1.60s, Embed=1.57s, Store=0.00s, Total=5.15s, Images/sec=2.33\n",
      "Estimated remaining time: 79.9 minutes\n"
     ]
    },
    {
     "name": "stderr",
     "output_type": "stream",
     "text": [
      "Processing train:  90%|████████▉ | 8230/9152 [11:07:29<1:16:35,  4.98s/it]"
     ]
    },
    {
     "name": "stdout",
     "output_type": "stream",
     "text": [
      "\n",
      "Batch 8230/9152: Load=1.57s, Embed=1.58s, Store=0.00s, Total=4.96s, Images/sec=2.42\n",
      "Estimated remaining time: 76.3 minutes\n"
     ]
    },
    {
     "name": "stderr",
     "output_type": "stream",
     "text": [
      "Processing train:  90%|█████████ | 8240/9152 [11:08:20<1:17:33,  5.10s/it]"
     ]
    },
    {
     "name": "stdout",
     "output_type": "stream",
     "text": [
      "\n",
      "Batch 8240/9152: Load=1.52s, Embed=1.57s, Store=0.00s, Total=5.32s, Images/sec=2.26\n",
      "Estimated remaining time: 80.8 minutes\n"
     ]
    },
    {
     "name": "stderr",
     "output_type": "stream",
     "text": [
      "Processing train:  90%|█████████ | 8250/9152 [11:09:46<3:50:08, 15.31s/it]"
     ]
    },
    {
     "name": "stdout",
     "output_type": "stream",
     "text": [
      "\n",
      "Batch 8250/9152: Load=1.62s, Embed=1.59s, Store=0.00s, Total=5.04s, Images/sec=2.38\n",
      "Estimated remaining time: 75.7 minutes\n"
     ]
    },
    {
     "name": "stderr",
     "output_type": "stream",
     "text": [
      "Processing train:  90%|█████████ | 8260/9152 [11:10:42<1:25:29,  5.75s/it]"
     ]
    },
    {
     "name": "stdout",
     "output_type": "stream",
     "text": [
      "\n",
      "Batch 8260/9152: Load=1.59s, Embed=1.61s, Store=0.00s, Total=5.42s, Images/sec=2.21\n",
      "Estimated remaining time: 80.6 minutes\n"
     ]
    },
    {
     "name": "stderr",
     "output_type": "stream",
     "text": [
      "Processing train:  90%|█████████ | 8270/9152 [11:11:35<1:18:22,  5.33s/it]"
     ]
    },
    {
     "name": "stdout",
     "output_type": "stream",
     "text": [
      "\n",
      "Batch 8270/9152: Load=1.78s, Embed=1.58s, Store=0.02s, Total=5.32s, Images/sec=2.26\n",
      "Estimated remaining time: 78.1 minutes\n"
     ]
    },
    {
     "name": "stderr",
     "output_type": "stream",
     "text": [
      "Processing train:  90%|█████████ | 8280/9152 [11:12:26<1:16:08,  5.24s/it]"
     ]
    },
    {
     "name": "stdout",
     "output_type": "stream",
     "text": [
      "\n",
      "Batch 8280/9152: Load=1.84s, Embed=1.59s, Store=0.00s, Total=5.29s, Images/sec=2.27\n",
      "Estimated remaining time: 76.9 minutes\n"
     ]
    },
    {
     "name": "stderr",
     "output_type": "stream",
     "text": [
      "Processing train:  91%|█████████ | 8290/9152 [11:13:20<1:19:31,  5.54s/it]"
     ]
    },
    {
     "name": "stdout",
     "output_type": "stream",
     "text": [
      "\n",
      "Batch 8290/9152: Load=1.75s, Embed=1.57s, Store=0.10s, Total=5.72s, Images/sec=2.10\n",
      "Estimated remaining time: 82.2 minutes\n"
     ]
    },
    {
     "name": "stderr",
     "output_type": "stream",
     "text": [
      "Processing train:  91%|█████████ | 8300/9152 [11:14:46<3:36:06, 15.22s/it]"
     ]
    },
    {
     "name": "stdout",
     "output_type": "stream",
     "text": [
      "\n",
      "Batch 8300/9152: Load=1.65s, Embed=1.57s, Store=0.00s, Total=5.16s, Images/sec=2.33\n",
      "Estimated remaining time: 73.2 minutes\n"
     ]
    },
    {
     "name": "stderr",
     "output_type": "stream",
     "text": [
      "Processing train:  91%|█████████ | 8310/9152 [11:15:38<1:16:16,  5.44s/it]"
     ]
    },
    {
     "name": "stdout",
     "output_type": "stream",
     "text": [
      "\n",
      "Batch 8310/9152: Load=1.64s, Embed=1.60s, Store=0.00s, Total=5.07s, Images/sec=2.37\n",
      "Estimated remaining time: 71.1 minutes\n"
     ]
    },
    {
     "name": "stderr",
     "output_type": "stream",
     "text": [
      "Processing train:  91%|█████████ | 8320/9152 [11:16:31<1:12:19,  5.22s/it]"
     ]
    },
    {
     "name": "stdout",
     "output_type": "stream",
     "text": [
      "\n",
      "Batch 8320/9152: Load=1.61s, Embed=1.60s, Store=0.00s, Total=5.21s, Images/sec=2.30\n",
      "Estimated remaining time: 72.2 minutes\n"
     ]
    },
    {
     "name": "stderr",
     "output_type": "stream",
     "text": [
      "Processing train:  91%|█████████ | 8330/9152 [11:17:23<1:10:22,  5.14s/it]"
     ]
    },
    {
     "name": "stdout",
     "output_type": "stream",
     "text": [
      "\n",
      "Batch 8330/9152: Load=1.70s, Embed=1.60s, Store=0.00s, Total=5.14s, Images/sec=2.33\n",
      "Estimated remaining time: 70.5 minutes\n"
     ]
    },
    {
     "name": "stderr",
     "output_type": "stream",
     "text": [
      "Processing train:  91%|█████████ | 8340/9152 [11:18:17<1:11:28,  5.28s/it]"
     ]
    },
    {
     "name": "stdout",
     "output_type": "stream",
     "text": [
      "\n",
      "Batch 8340/9152: Load=1.72s, Embed=1.58s, Store=0.00s, Total=5.24s, Images/sec=2.29\n",
      "Estimated remaining time: 70.9 minutes\n"
     ]
    },
    {
     "name": "stderr",
     "output_type": "stream",
     "text": [
      "Processing train:  91%|█████████ | 8350/9152 [11:19:46<3:35:09, 16.10s/it]"
     ]
    },
    {
     "name": "stdout",
     "output_type": "stream",
     "text": [
      "\n",
      "Batch 8350/9152: Load=1.59s, Embed=1.58s, Store=0.00s, Total=5.18s, Images/sec=2.32\n",
      "Estimated remaining time: 69.3 minutes\n"
     ]
    },
    {
     "name": "stderr",
     "output_type": "stream",
     "text": [
      "Processing train:  91%|█████████▏| 8360/9152 [11:20:41<1:13:27,  5.56s/it]"
     ]
    },
    {
     "name": "stdout",
     "output_type": "stream",
     "text": [
      "\n",
      "Batch 8360/9152: Load=1.67s, Embed=1.64s, Store=0.00s, Total=5.13s, Images/sec=2.34\n",
      "Estimated remaining time: 67.7 minutes\n"
     ]
    },
    {
     "name": "stderr",
     "output_type": "stream",
     "text": [
      "Processing train:  91%|█████████▏| 8370/9152 [11:21:33<1:07:22,  5.17s/it]"
     ]
    },
    {
     "name": "stdout",
     "output_type": "stream",
     "text": [
      "\n",
      "Batch 8370/9152: Load=1.58s, Embed=1.60s, Store=0.00s, Total=5.05s, Images/sec=2.38\n",
      "Estimated remaining time: 65.8 minutes\n"
     ]
    },
    {
     "name": "stderr",
     "output_type": "stream",
     "text": [
      "Processing train:  92%|█████████▏| 8380/9152 [11:22:24<1:05:52,  5.12s/it]"
     ]
    },
    {
     "name": "stdout",
     "output_type": "stream",
     "text": [
      "\n",
      "Batch 8380/9152: Load=1.61s, Embed=1.59s, Store=0.00s, Total=5.13s, Images/sec=2.34\n",
      "Estimated remaining time: 66.0 minutes\n"
     ]
    },
    {
     "name": "stderr",
     "output_type": "stream",
     "text": [
      "Processing train:  92%|█████████▏| 8390/9152 [11:23:17<1:07:22,  5.30s/it]"
     ]
    },
    {
     "name": "stdout",
     "output_type": "stream",
     "text": [
      "\n",
      "Batch 8390/9152: Load=1.63s, Embed=1.59s, Store=0.00s, Total=5.49s, Images/sec=2.19\n",
      "Estimated remaining time: 69.7 minutes\n"
     ]
    },
    {
     "name": "stderr",
     "output_type": "stream",
     "text": [
      "Processing train:  92%|█████████▏| 8400/9152 [11:24:43<3:15:51, 15.63s/it]"
     ]
    },
    {
     "name": "stdout",
     "output_type": "stream",
     "text": [
      "\n",
      "Batch 8400/9152: Load=1.69s, Embed=1.59s, Store=0.00s, Total=5.21s, Images/sec=2.31\n",
      "Estimated remaining time: 65.2 minutes\n"
     ]
    },
    {
     "name": "stderr",
     "output_type": "stream",
     "text": [
      "Processing train:  92%|█████████▏| 8410/9152 [11:25:35<1:07:19,  5.44s/it]"
     ]
    },
    {
     "name": "stdout",
     "output_type": "stream",
     "text": [
      "\n",
      "Batch 8410/9152: Load=1.65s, Embed=1.59s, Store=0.00s, Total=5.17s, Images/sec=2.32\n",
      "Estimated remaining time: 63.9 minutes\n"
     ]
    },
    {
     "name": "stderr",
     "output_type": "stream",
     "text": [
      "Processing train:  92%|█████████▏| 8420/9152 [11:26:27<1:03:48,  5.23s/it]"
     ]
    },
    {
     "name": "stdout",
     "output_type": "stream",
     "text": [
      "\n",
      "Batch 8420/9152: Load=1.76s, Embed=1.59s, Store=0.00s, Total=5.29s, Images/sec=2.27\n",
      "Estimated remaining time: 64.6 minutes\n"
     ]
    },
    {
     "name": "stderr",
     "output_type": "stream",
     "text": [
      "Processing train:  92%|█████████▏| 8430/9152 [11:27:20<1:02:15,  5.17s/it]"
     ]
    },
    {
     "name": "stdout",
     "output_type": "stream",
     "text": [
      "\n",
      "Batch 8430/9152: Load=1.70s, Embed=1.59s, Store=0.00s, Total=5.14s, Images/sec=2.34\n",
      "Estimated remaining time: 61.8 minutes\n"
     ]
    },
    {
     "name": "stderr",
     "output_type": "stream",
     "text": [
      "Processing train:  92%|█████████▏| 8440/9152 [11:28:12<1:04:00,  5.39s/it]"
     ]
    },
    {
     "name": "stdout",
     "output_type": "stream",
     "text": [
      "\n",
      "Batch 8440/9152: Load=1.74s, Embed=1.67s, Store=0.00s, Total=5.37s, Images/sec=2.23\n",
      "Estimated remaining time: 63.7 minutes\n"
     ]
    },
    {
     "name": "stderr",
     "output_type": "stream",
     "text": [
      "Processing train:  92%|█████████▏| 8450/9152 [11:29:38<3:00:13, 15.40s/it]"
     ]
    },
    {
     "name": "stdout",
     "output_type": "stream",
     "text": [
      "\n",
      "Batch 8450/9152: Load=1.66s, Embed=1.59s, Store=0.00s, Total=5.14s, Images/sec=2.34\n",
      "Estimated remaining time: 60.1 minutes\n"
     ]
    },
    {
     "name": "stderr",
     "output_type": "stream",
     "text": [
      "Processing train:  92%|█████████▏| 8460/9152 [11:30:32<1:03:00,  5.46s/it]"
     ]
    },
    {
     "name": "stdout",
     "output_type": "stream",
     "text": [
      "\n",
      "Batch 8460/9152: Load=1.55s, Embed=1.56s, Store=0.00s, Total=5.01s, Images/sec=2.40\n",
      "Estimated remaining time: 57.8 minutes\n"
     ]
    },
    {
     "name": "stderr",
     "output_type": "stream",
     "text": [
      "Processing train:  93%|█████████▎| 8470/9152 [11:31:24<58:45,  5.17s/it]  "
     ]
    },
    {
     "name": "stdout",
     "output_type": "stream",
     "text": [
      "\n",
      "Batch 8470/9152: Load=1.70s, Embed=1.59s, Store=0.00s, Total=5.15s, Images/sec=2.33\n",
      "Estimated remaining time: 58.5 minutes\n"
     ]
    },
    {
     "name": "stderr",
     "output_type": "stream",
     "text": [
      "Processing train:  93%|█████████▎| 8480/9152 [11:32:15<57:28,  5.13s/it]"
     ]
    },
    {
     "name": "stdout",
     "output_type": "stream",
     "text": [
      "\n",
      "Batch 8480/9152: Load=1.68s, Embed=1.59s, Store=0.00s, Total=5.12s, Images/sec=2.34\n",
      "Estimated remaining time: 57.4 minutes\n"
     ]
    },
    {
     "name": "stderr",
     "output_type": "stream",
     "text": [
      "Processing train:  93%|█████████▎| 8490/9152 [11:33:08<57:21,  5.20s/it]"
     ]
    },
    {
     "name": "stdout",
     "output_type": "stream",
     "text": [
      "\n",
      "Batch 8490/9152: Load=1.67s, Embed=1.61s, Store=0.00s, Total=5.11s, Images/sec=2.35\n",
      "Estimated remaining time: 56.4 minutes\n"
     ]
    },
    {
     "name": "stderr",
     "output_type": "stream",
     "text": [
      "Processing train:  93%|█████████▎| 8500/9152 [11:34:33<2:45:58, 15.27s/it]"
     ]
    },
    {
     "name": "stdout",
     "output_type": "stream",
     "text": [
      "\n",
      "Batch 8500/9152: Load=1.72s, Embed=1.58s, Store=0.00s, Total=5.27s, Images/sec=2.28\n",
      "Estimated remaining time: 57.2 minutes\n"
     ]
    },
    {
     "name": "stderr",
     "output_type": "stream",
     "text": [
      "Processing train:  93%|█████████▎| 8510/9152 [11:35:25<58:03,  5.43s/it]  "
     ]
    },
    {
     "name": "stdout",
     "output_type": "stream",
     "text": [
      "\n",
      "Batch 8510/9152: Load=1.64s, Embed=1.59s, Store=0.00s, Total=5.13s, Images/sec=2.34\n",
      "Estimated remaining time: 54.9 minutes\n"
     ]
    },
    {
     "name": "stderr",
     "output_type": "stream",
     "text": [
      "Processing train:  93%|█████████▎| 8520/9152 [11:36:17<54:04,  5.13s/it]"
     ]
    },
    {
     "name": "stdout",
     "output_type": "stream",
     "text": [
      "\n",
      "Batch 8520/9152: Load=1.58s, Embed=1.59s, Store=0.00s, Total=5.02s, Images/sec=2.39\n",
      "Estimated remaining time: 52.9 minutes\n"
     ]
    },
    {
     "name": "stderr",
     "output_type": "stream",
     "text": [
      "Processing train:  93%|█████████▎| 8530/9152 [11:37:09<53:13,  5.13s/it]"
     ]
    },
    {
     "name": "stdout",
     "output_type": "stream",
     "text": [
      "\n",
      "Batch 8530/9152: Load=1.67s, Embed=1.59s, Store=0.00s, Total=5.12s, Images/sec=2.34\n",
      "Estimated remaining time: 53.1 minutes\n"
     ]
    },
    {
     "name": "stderr",
     "output_type": "stream",
     "text": [
      "Processing train:  93%|█████████▎| 8540/9152 [11:38:00<52:02,  5.10s/it]"
     ]
    },
    {
     "name": "stdout",
     "output_type": "stream",
     "text": [
      "\n",
      "Batch 8540/9152: Load=1.67s, Embed=1.60s, Store=0.00s, Total=5.11s, Images/sec=2.35\n",
      "Estimated remaining time: 52.2 minutes\n"
     ]
    },
    {
     "name": "stderr",
     "output_type": "stream",
     "text": [
      "Processing train:  93%|█████████▎| 8550/9152 [11:39:29<2:46:23, 16.58s/it]"
     ]
    },
    {
     "name": "stdout",
     "output_type": "stream",
     "text": [
      "\n",
      "Batch 8550/9152: Load=1.77s, Embed=1.59s, Store=0.00s, Total=5.27s, Images/sec=2.28\n",
      "Estimated remaining time: 52.9 minutes\n"
     ]
    },
    {
     "name": "stderr",
     "output_type": "stream",
     "text": [
      "Processing train:  94%|█████████▎| 8560/9152 [11:40:24<54:26,  5.52s/it]  "
     ]
    },
    {
     "name": "stdout",
     "output_type": "stream",
     "text": [
      "\n",
      "Batch 8560/9152: Load=1.59s, Embed=1.58s, Store=0.00s, Total=5.05s, Images/sec=2.38\n",
      "Estimated remaining time: 49.8 minutes\n"
     ]
    },
    {
     "name": "stderr",
     "output_type": "stream",
     "text": [
      "Processing train:  94%|█████████▎| 8570/9152 [11:41:15<50:15,  5.18s/it]"
     ]
    },
    {
     "name": "stdout",
     "output_type": "stream",
     "text": [
      "\n",
      "Batch 8570/9152: Load=1.66s, Embed=1.58s, Store=0.00s, Total=5.21s, Images/sec=2.30\n",
      "Estimated remaining time: 50.6 minutes\n"
     ]
    },
    {
     "name": "stderr",
     "output_type": "stream",
     "text": [
      "Processing train:  94%|█████████▍| 8580/9152 [11:42:09<51:06,  5.36s/it]"
     ]
    },
    {
     "name": "stdout",
     "output_type": "stream",
     "text": [
      "\n",
      "Batch 8580/9152: Load=1.70s, Embed=1.60s, Store=0.00s, Total=5.17s, Images/sec=2.32\n",
      "Estimated remaining time: 49.3 minutes\n"
     ]
    },
    {
     "name": "stderr",
     "output_type": "stream",
     "text": [
      "Processing train:  94%|█████████▍| 8590/9152 [11:43:00<48:04,  5.13s/it]"
     ]
    },
    {
     "name": "stdout",
     "output_type": "stream",
     "text": [
      "\n",
      "Batch 8590/9152: Load=1.68s, Embed=1.58s, Store=0.00s, Total=5.13s, Images/sec=2.34\n",
      "Estimated remaining time: 48.0 minutes\n"
     ]
    },
    {
     "name": "stderr",
     "output_type": "stream",
     "text": [
      "Processing train:  94%|█████████▍| 8600/9152 [11:44:28<2:25:46, 15.85s/it]"
     ]
    },
    {
     "name": "stdout",
     "output_type": "stream",
     "text": [
      "\n",
      "Batch 8600/9152: Load=1.71s, Embed=1.58s, Store=0.00s, Total=5.21s, Images/sec=2.30\n",
      "Estimated remaining time: 47.9 minutes\n"
     ]
    },
    {
     "name": "stderr",
     "output_type": "stream",
     "text": [
      "Processing train:  94%|█████████▍| 8610/9152 [11:45:21<49:52,  5.52s/it]  "
     ]
    },
    {
     "name": "stdout",
     "output_type": "stream",
     "text": [
      "\n",
      "Batch 8610/9152: Load=1.72s, Embed=1.60s, Store=0.00s, Total=5.19s, Images/sec=2.31\n",
      "Estimated remaining time: 46.8 minutes\n"
     ]
    },
    {
     "name": "stderr",
     "output_type": "stream",
     "text": [
      "Processing train:  94%|█████████▍| 8620/9152 [11:46:14<48:05,  5.42s/it]"
     ]
    },
    {
     "name": "stdout",
     "output_type": "stream",
     "text": [
      "\n",
      "Batch 8620/9152: Load=1.75s, Embed=1.59s, Store=0.00s, Total=5.23s, Images/sec=2.29\n",
      "Estimated remaining time: 46.4 minutes\n"
     ]
    },
    {
     "name": "stderr",
     "output_type": "stream",
     "text": [
      "Processing train:  94%|█████████▍| 8630/9152 [11:47:09<47:01,  5.40s/it]"
     ]
    },
    {
     "name": "stdout",
     "output_type": "stream",
     "text": [
      "\n",
      "Batch 8630/9152: Load=1.59s, Embed=1.68s, Store=0.00s, Total=5.18s, Images/sec=2.32\n",
      "Estimated remaining time: 45.1 minutes\n"
     ]
    },
    {
     "name": "stderr",
     "output_type": "stream",
     "text": [
      "Processing train:  94%|█████████▍| 8640/9152 [11:48:02<44:18,  5.19s/it]"
     ]
    },
    {
     "name": "stdout",
     "output_type": "stream",
     "text": [
      "\n",
      "Batch 8640/9152: Load=1.69s, Embed=1.60s, Store=0.00s, Total=5.18s, Images/sec=2.32\n",
      "Estimated remaining time: 44.2 minutes\n"
     ]
    },
    {
     "name": "stderr",
     "output_type": "stream",
     "text": [
      "Processing train:  95%|█████████▍| 8650/9152 [11:49:31<2:09:25, 15.47s/it]"
     ]
    },
    {
     "name": "stdout",
     "output_type": "stream",
     "text": [
      "\n",
      "Batch 8650/9152: Load=1.63s, Embed=1.68s, Store=0.00s, Total=5.19s, Images/sec=2.31\n",
      "Estimated remaining time: 43.4 minutes\n"
     ]
    },
    {
     "name": "stderr",
     "output_type": "stream",
     "text": [
      "Processing train:  95%|█████████▍| 8660/9152 [11:50:28<47:34,  5.80s/it]  "
     ]
    },
    {
     "name": "stdout",
     "output_type": "stream",
     "text": [
      "\n",
      "Batch 8660/9152: Load=1.73s, Embed=1.59s, Store=0.00s, Total=5.31s, Images/sec=2.26\n",
      "Estimated remaining time: 43.6 minutes\n"
     ]
    },
    {
     "name": "stderr",
     "output_type": "stream",
     "text": [
      "Processing train:  95%|█████████▍| 8670/9152 [11:51:22<43:15,  5.39s/it]"
     ]
    },
    {
     "name": "stdout",
     "output_type": "stream",
     "text": [
      "\n",
      "Batch 8670/9152: Load=1.72s, Embed=1.62s, Store=0.00s, Total=5.34s, Images/sec=2.25\n",
      "Estimated remaining time: 42.9 minutes\n"
     ]
    },
    {
     "name": "stderr",
     "output_type": "stream",
     "text": [
      "Processing train:  95%|█████████▍| 8680/9152 [11:52:18<43:15,  5.50s/it]"
     ]
    },
    {
     "name": "stdout",
     "output_type": "stream",
     "text": [
      "\n",
      "Batch 8680/9152: Load=1.72s, Embed=1.58s, Store=0.00s, Total=5.19s, Images/sec=2.31\n",
      "Estimated remaining time: 40.8 minutes\n"
     ]
    },
    {
     "name": "stderr",
     "output_type": "stream",
     "text": [
      "Processing train:  95%|█████████▍| 8690/9152 [11:53:13<41:46,  5.43s/it]"
     ]
    },
    {
     "name": "stdout",
     "output_type": "stream",
     "text": [
      "\n",
      "Batch 8690/9152: Load=1.74s, Embed=1.59s, Store=0.00s, Total=5.26s, Images/sec=2.28\n",
      "Estimated remaining time: 40.5 minutes\n"
     ]
    },
    {
     "name": "stderr",
     "output_type": "stream",
     "text": [
      "Processing train:  95%|█████████▌| 8700/9152 [11:54:39<1:56:09, 15.42s/it]"
     ]
    },
    {
     "name": "stdout",
     "output_type": "stream",
     "text": [
      "\n",
      "Batch 8700/9152: Load=1.64s, Embed=1.58s, Store=0.00s, Total=5.17s, Images/sec=2.32\n",
      "Estimated remaining time: 38.9 minutes\n"
     ]
    },
    {
     "name": "stderr",
     "output_type": "stream",
     "text": [
      "Processing train:  95%|█████████▌| 8710/9152 [11:55:32<40:16,  5.47s/it]  "
     ]
    },
    {
     "name": "stdout",
     "output_type": "stream",
     "text": [
      "\n",
      "Batch 8710/9152: Load=1.69s, Embed=1.58s, Store=0.00s, Total=5.17s, Images/sec=2.32\n",
      "Estimated remaining time: 38.1 minutes\n"
     ]
    },
    {
     "name": "stderr",
     "output_type": "stream",
     "text": [
      "Processing train:  95%|█████████▌| 8720/9152 [11:56:24<37:48,  5.25s/it]"
     ]
    },
    {
     "name": "stdout",
     "output_type": "stream",
     "text": [
      "\n",
      "Batch 8720/9152: Load=1.70s, Embed=1.59s, Store=0.00s, Total=5.29s, Images/sec=2.27\n",
      "Estimated remaining time: 38.1 minutes\n"
     ]
    },
    {
     "name": "stderr",
     "output_type": "stream",
     "text": [
      "Processing train:  95%|█████████▌| 8730/9152 [11:57:16<36:36,  5.21s/it]"
     ]
    },
    {
     "name": "stdout",
     "output_type": "stream",
     "text": [
      "\n",
      "Batch 8730/9152: Load=1.59s, Embed=1.60s, Store=0.00s, Total=5.10s, Images/sec=2.35\n",
      "Estimated remaining time: 35.9 minutes\n"
     ]
    },
    {
     "name": "stderr",
     "output_type": "stream",
     "text": [
      "Processing train:  95%|█████████▌| 8740/9152 [11:58:08<35:46,  5.21s/it]"
     ]
    },
    {
     "name": "stdout",
     "output_type": "stream",
     "text": [
      "\n",
      "Batch 8740/9152: Load=1.59s, Embed=1.58s, Store=0.00s, Total=5.19s, Images/sec=2.31\n",
      "Estimated remaining time: 35.6 minutes\n"
     ]
    },
    {
     "name": "stderr",
     "output_type": "stream",
     "text": [
      "Processing train:  96%|█████████▌| 8750/9152 [11:59:36<1:47:26, 16.04s/it]"
     ]
    },
    {
     "name": "stdout",
     "output_type": "stream",
     "text": [
      "\n",
      "Batch 8750/9152: Load=1.63s, Embed=1.61s, Store=0.00s, Total=5.21s, Images/sec=2.30\n",
      "Estimated remaining time: 34.9 minutes\n"
     ]
    },
    {
     "name": "stderr",
     "output_type": "stream",
     "text": [
      "Processing train:  96%|█████████▌| 8760/9152 [12:00:31<36:16,  5.55s/it]  "
     ]
    },
    {
     "name": "stdout",
     "output_type": "stream",
     "text": [
      "\n",
      "Batch 8760/9152: Load=1.69s, Embed=1.59s, Store=0.00s, Total=5.16s, Images/sec=2.33\n",
      "Estimated remaining time: 33.7 minutes\n"
     ]
    },
    {
     "name": "stderr",
     "output_type": "stream",
     "text": [
      "Processing train:  96%|█████████▌| 8770/9152 [12:01:23<32:53,  5.17s/it]"
     ]
    },
    {
     "name": "stdout",
     "output_type": "stream",
     "text": [
      "\n",
      "Batch 8770/9152: Load=1.70s, Embed=1.57s, Store=0.00s, Total=5.19s, Images/sec=2.31\n",
      "Estimated remaining time: 33.1 minutes\n"
     ]
    },
    {
     "name": "stderr",
     "output_type": "stream",
     "text": [
      "Processing train:  96%|█████████▌| 8780/9152 [12:02:15<32:16,  5.21s/it]"
     ]
    },
    {
     "name": "stdout",
     "output_type": "stream",
     "text": [
      "\n",
      "Batch 8780/9152: Load=1.65s, Embed=1.58s, Store=0.00s, Total=5.18s, Images/sec=2.32\n",
      "Estimated remaining time: 32.1 minutes\n"
     ]
    },
    {
     "name": "stderr",
     "output_type": "stream",
     "text": [
      "Processing train:  96%|█████████▌| 8790/9152 [12:03:06<31:07,  5.16s/it]"
     ]
    },
    {
     "name": "stdout",
     "output_type": "stream",
     "text": [
      "\n",
      "Batch 8790/9152: Load=1.69s, Embed=1.57s, Store=0.00s, Total=5.16s, Images/sec=2.33\n",
      "Estimated remaining time: 31.1 minutes\n"
     ]
    },
    {
     "name": "stderr",
     "output_type": "stream",
     "text": [
      "Processing train:  96%|█████████▌| 8800/9152 [12:04:34<1:33:16, 15.90s/it]"
     ]
    },
    {
     "name": "stdout",
     "output_type": "stream",
     "text": [
      "\n",
      "Batch 8800/9152: Load=2.25s, Embed=1.59s, Store=0.00s, Total=5.74s, Images/sec=2.09\n",
      "Estimated remaining time: 33.7 minutes\n"
     ]
    },
    {
     "name": "stderr",
     "output_type": "stream",
     "text": [
      "Processing train:  96%|█████████▋| 8810/9152 [12:05:28<31:42,  5.56s/it]  "
     ]
    },
    {
     "name": "stdout",
     "output_type": "stream",
     "text": [
      "\n",
      "Batch 8810/9152: Load=1.60s, Embed=1.60s, Store=0.00s, Total=5.17s, Images/sec=2.32\n",
      "Estimated remaining time: 29.5 minutes\n"
     ]
    },
    {
     "name": "stderr",
     "output_type": "stream",
     "text": [
      "Processing train:  96%|█████████▋| 8820/9152 [12:06:22<31:17,  5.65s/it]"
     ]
    },
    {
     "name": "stdout",
     "output_type": "stream",
     "text": [
      "\n",
      "Batch 8820/9152: Load=3.28s, Embed=1.58s, Store=0.00s, Total=6.82s, Images/sec=1.76\n",
      "Estimated remaining time: 37.8 minutes\n"
     ]
    },
    {
     "name": "stderr",
     "output_type": "stream",
     "text": [
      "Processing train:  96%|█████████▋| 8830/9152 [12:07:15<28:34,  5.33s/it]"
     ]
    },
    {
     "name": "stdout",
     "output_type": "stream",
     "text": [
      "\n",
      "Batch 8830/9152: Load=1.71s, Embed=1.60s, Store=0.00s, Total=5.21s, Images/sec=2.30\n",
      "Estimated remaining time: 28.0 minutes\n"
     ]
    },
    {
     "name": "stderr",
     "output_type": "stream",
     "text": [
      "Processing train:  97%|█████████▋| 8840/9152 [12:08:08<27:25,  5.27s/it]"
     ]
    },
    {
     "name": "stdout",
     "output_type": "stream",
     "text": [
      "\n",
      "Batch 8840/9152: Load=1.74s, Embed=1.58s, Store=0.00s, Total=5.25s, Images/sec=2.29\n",
      "Estimated remaining time: 27.3 minutes\n"
     ]
    },
    {
     "name": "stderr",
     "output_type": "stream",
     "text": [
      "Processing train:  97%|█████████▋| 8850/9152 [12:09:35<1:19:13, 15.74s/it]"
     ]
    },
    {
     "name": "stdout",
     "output_type": "stream",
     "text": [
      "\n",
      "Batch 8850/9152: Load=1.74s, Embed=1.63s, Store=0.00s, Total=5.30s, Images/sec=2.26\n",
      "Estimated remaining time: 26.7 minutes\n"
     ]
    },
    {
     "name": "stderr",
     "output_type": "stream",
     "text": [
      "Processing train:  97%|█████████▋| 8860/9152 [12:10:32<27:28,  5.64s/it]  "
     ]
    },
    {
     "name": "stdout",
     "output_type": "stream",
     "text": [
      "\n",
      "Batch 8860/9152: Load=1.70s, Embed=1.64s, Store=0.00s, Total=5.27s, Images/sec=2.28\n",
      "Estimated remaining time: 25.6 minutes\n"
     ]
    },
    {
     "name": "stderr",
     "output_type": "stream",
     "text": [
      "Processing train:  97%|█████████▋| 8870/9152 [12:11:25<24:58,  5.31s/it]"
     ]
    },
    {
     "name": "stdout",
     "output_type": "stream",
     "text": [
      "\n",
      "Batch 8870/9152: Load=1.67s, Embed=1.67s, Store=0.00s, Total=5.33s, Images/sec=2.25\n",
      "Estimated remaining time: 25.1 minutes\n"
     ]
    },
    {
     "name": "stderr",
     "output_type": "stream",
     "text": [
      "Processing train:  97%|█████████▋| 8880/9152 [12:12:18<24:11,  5.34s/it]"
     ]
    },
    {
     "name": "stdout",
     "output_type": "stream",
     "text": [
      "\n",
      "Batch 8880/9152: Load=1.76s, Embed=1.70s, Store=0.00s, Total=5.39s, Images/sec=2.23\n",
      "Estimated remaining time: 24.4 minutes\n"
     ]
    },
    {
     "name": "stderr",
     "output_type": "stream",
     "text": [
      "Processing train:  97%|█████████▋| 8890/9152 [12:13:11<23:21,  5.35s/it]"
     ]
    },
    {
     "name": "stdout",
     "output_type": "stream",
     "text": [
      "\n",
      "Batch 8890/9152: Load=1.76s, Embed=1.58s, Store=0.00s, Total=5.40s, Images/sec=2.22\n",
      "Estimated remaining time: 23.6 minutes\n"
     ]
    },
    {
     "name": "stderr",
     "output_type": "stream",
     "text": [
      "Processing train:  97%|█████████▋| 8900/9152 [12:14:49<1:12:39, 17.30s/it]"
     ]
    },
    {
     "name": "stdout",
     "output_type": "stream",
     "text": [
      "\n",
      "Batch 8900/9152: Load=2.61s, Embed=1.64s, Store=0.00s, Total=6.31s, Images/sec=1.90\n",
      "Estimated remaining time: 26.5 minutes\n"
     ]
    },
    {
     "name": "stderr",
     "output_type": "stream",
     "text": [
      "Processing train:  97%|█████████▋| 8910/9152 [12:15:45<24:29,  6.07s/it]  "
     ]
    },
    {
     "name": "stdout",
     "output_type": "stream",
     "text": [
      "\n",
      "Batch 8910/9152: Load=2.70s, Embed=1.66s, Store=0.00s, Total=6.38s, Images/sec=1.88\n",
      "Estimated remaining time: 25.7 minutes\n"
     ]
    },
    {
     "name": "stderr",
     "output_type": "stream",
     "text": [
      "Processing train:  97%|█████████▋| 8920/9152 [12:16:46<23:49,  6.16s/it]"
     ]
    },
    {
     "name": "stdout",
     "output_type": "stream",
     "text": [
      "\n",
      "Batch 8920/9152: Load=2.58s, Embed=1.65s, Store=0.00s, Total=6.25s, Images/sec=1.92\n",
      "Estimated remaining time: 24.1 minutes\n"
     ]
    },
    {
     "name": "stderr",
     "output_type": "stream",
     "text": [
      "Processing train:  98%|█████████▊| 8930/9152 [12:17:48<22:48,  6.16s/it]"
     ]
    },
    {
     "name": "stdout",
     "output_type": "stream",
     "text": [
      "\n",
      "Batch 8930/9152: Load=2.48s, Embed=1.66s, Store=0.00s, Total=6.08s, Images/sec=1.97\n",
      "Estimated remaining time: 22.5 minutes\n"
     ]
    },
    {
     "name": "stderr",
     "output_type": "stream",
     "text": [
      "Processing train:  98%|█████████▊| 8940/9152 [12:18:48<20:39,  5.84s/it]"
     ]
    },
    {
     "name": "stdout",
     "output_type": "stream",
     "text": [
      "\n",
      "Batch 8940/9152: Load=2.73s, Embed=1.65s, Store=0.00s, Total=6.33s, Images/sec=1.90\n",
      "Estimated remaining time: 22.4 minutes\n"
     ]
    },
    {
     "name": "stderr",
     "output_type": "stream",
     "text": [
      "Processing train:  98%|█████████▊| 8950/9152 [12:20:23<55:36, 16.52s/it]"
     ]
    },
    {
     "name": "stdout",
     "output_type": "stream",
     "text": [
      "\n",
      "Batch 8950/9152: Load=2.29s, Embed=1.65s, Store=0.00s, Total=5.99s, Images/sec=2.00\n",
      "Estimated remaining time: 20.2 minutes\n"
     ]
    },
    {
     "name": "stderr",
     "output_type": "stream",
     "text": [
      "Processing train:  98%|█████████▊| 8960/9152 [12:21:25<20:43,  6.48s/it]"
     ]
    },
    {
     "name": "stdout",
     "output_type": "stream",
     "text": [
      "\n",
      "Batch 8960/9152: Load=2.70s, Embed=1.64s, Store=0.00s, Total=6.34s, Images/sec=1.89\n",
      "Estimated remaining time: 20.3 minutes\n"
     ]
    },
    {
     "name": "stderr",
     "output_type": "stream",
     "text": [
      "Processing train:  98%|█████████▊| 8970/9152 [12:22:25<16:53,  5.57s/it]"
     ]
    },
    {
     "name": "stdout",
     "output_type": "stream",
     "text": [
      "\n",
      "Batch 8970/9152: Load=1.58s, Embed=1.59s, Store=0.00s, Total=5.16s, Images/sec=2.33\n",
      "Estimated remaining time: 15.6 minutes\n"
     ]
    },
    {
     "name": "stderr",
     "output_type": "stream",
     "text": [
      "Processing train:  98%|█████████▊| 8980/9152 [12:23:27<17:59,  6.28s/it]"
     ]
    },
    {
     "name": "stdout",
     "output_type": "stream",
     "text": [
      "\n",
      "Batch 8980/9152: Load=2.72s, Embed=1.66s, Store=0.00s, Total=6.45s, Images/sec=1.86\n",
      "Estimated remaining time: 18.5 minutes\n"
     ]
    },
    {
     "name": "stderr",
     "output_type": "stream",
     "text": [
      "Processing train:  98%|█████████▊| 8990/9152 [12:24:30<16:48,  6.23s/it]"
     ]
    },
    {
     "name": "stdout",
     "output_type": "stream",
     "text": [
      "\n",
      "Batch 8990/9152: Load=2.74s, Embed=1.59s, Store=0.00s, Total=6.29s, Images/sec=1.91\n",
      "Estimated remaining time: 17.0 minutes\n"
     ]
    },
    {
     "name": "stderr",
     "output_type": "stream",
     "text": [
      "Processing train:  98%|█████████▊| 9000/9152 [12:26:01<40:27, 15.97s/it]"
     ]
    },
    {
     "name": "stdout",
     "output_type": "stream",
     "text": [
      "\n",
      "Batch 9000/9152: Load=2.25s, Embed=1.61s, Store=0.00s, Total=5.83s, Images/sec=2.06\n",
      "Estimated remaining time: 14.8 minutes\n"
     ]
    },
    {
     "name": "stderr",
     "output_type": "stream",
     "text": [
      "Processing train:  98%|█████████▊| 9010/9152 [12:26:55<12:51,  5.43s/it]"
     ]
    },
    {
     "name": "stdout",
     "output_type": "stream",
     "text": [
      "\n",
      "Batch 9010/9152: Load=1.58s, Embed=1.57s, Store=0.00s, Total=5.08s, Images/sec=2.36\n",
      "Estimated remaining time: 12.0 minutes\n"
     ]
    },
    {
     "name": "stderr",
     "output_type": "stream",
     "text": [
      "Processing train:  99%|█████████▊| 9020/9152 [12:27:47<11:48,  5.37s/it]"
     ]
    },
    {
     "name": "stdout",
     "output_type": "stream",
     "text": [
      "\n",
      "Batch 9020/9152: Load=1.54s, Embed=1.58s, Store=0.06s, Total=5.32s, Images/sec=2.26\n",
      "Estimated remaining time: 11.7 minutes\n"
     ]
    },
    {
     "name": "stderr",
     "output_type": "stream",
     "text": [
      "Processing train:  99%|█████████▊| 9030/9152 [12:28:41<10:52,  5.35s/it]"
     ]
    },
    {
     "name": "stdout",
     "output_type": "stream",
     "text": [
      "\n",
      "Batch 9030/9152: Load=1.51s, Embed=1.58s, Store=0.01s, Total=5.24s, Images/sec=2.29\n",
      "Estimated remaining time: 10.7 minutes\n"
     ]
    },
    {
     "name": "stderr",
     "output_type": "stream",
     "text": [
      "Processing train:  99%|█████████▉| 9040/9152 [12:29:33<09:39,  5.18s/it]"
     ]
    },
    {
     "name": "stdout",
     "output_type": "stream",
     "text": [
      "\n",
      "Batch 9040/9152: Load=1.69s, Embed=1.57s, Store=0.00s, Total=5.22s, Images/sec=2.30\n",
      "Estimated remaining time: 9.7 minutes\n"
     ]
    },
    {
     "name": "stderr",
     "output_type": "stream",
     "text": [
      "Processing train:  99%|█████████▉| 9050/9152 [12:31:01<26:33, 15.62s/it]"
     ]
    },
    {
     "name": "stdout",
     "output_type": "stream",
     "text": [
      "\n",
      "Batch 9050/9152: Load=1.61s, Embed=1.60s, Store=0.00s, Total=5.31s, Images/sec=2.26\n",
      "Estimated remaining time: 9.0 minutes\n"
     ]
    },
    {
     "name": "stderr",
     "output_type": "stream",
     "text": [
      "Processing train:  99%|█████████▉| 9060/9152 [12:31:54<08:23,  5.47s/it]"
     ]
    },
    {
     "name": "stdout",
     "output_type": "stream",
     "text": [
      "\n",
      "Batch 9060/9152: Load=1.63s, Embed=1.57s, Store=0.00s, Total=5.17s, Images/sec=2.32\n",
      "Estimated remaining time: 7.9 minutes\n"
     ]
    },
    {
     "name": "stderr",
     "output_type": "stream",
     "text": [
      "Processing train:  99%|█████████▉| 9070/9152 [12:32:46<07:02,  5.16s/it]"
     ]
    },
    {
     "name": "stdout",
     "output_type": "stream",
     "text": [
      "\n",
      "Batch 9070/9152: Load=1.55s, Embed=1.59s, Store=0.00s, Total=5.10s, Images/sec=2.35\n",
      "Estimated remaining time: 7.0 minutes\n"
     ]
    },
    {
     "name": "stderr",
     "output_type": "stream",
     "text": [
      "Processing train:  99%|█████████▉| 9080/9152 [12:33:38<06:16,  5.23s/it]"
     ]
    },
    {
     "name": "stdout",
     "output_type": "stream",
     "text": [
      "\n",
      "Batch 9080/9152: Load=1.65s, Embed=1.59s, Store=0.00s, Total=5.27s, Images/sec=2.28\n",
      "Estimated remaining time: 6.3 minutes\n"
     ]
    },
    {
     "name": "stderr",
     "output_type": "stream",
     "text": [
      "Processing train:  99%|█████████▉| 9090/9152 [12:34:30<05:18,  5.13s/it]"
     ]
    },
    {
     "name": "stdout",
     "output_type": "stream",
     "text": [
      "\n",
      "Batch 9090/9152: Load=1.55s, Embed=1.57s, Store=0.00s, Total=5.09s, Images/sec=2.36\n",
      "Estimated remaining time: 5.3 minutes\n"
     ]
    },
    {
     "name": "stderr",
     "output_type": "stream",
     "text": [
      "Processing train:  99%|█████████▉| 9100/9152 [12:35:56<13:33, 15.65s/it]"
     ]
    },
    {
     "name": "stdout",
     "output_type": "stream",
     "text": [
      "\n",
      "Batch 9100/9152: Load=1.62s, Embed=1.59s, Store=0.00s, Total=6.08s, Images/sec=1.97\n",
      "Estimated remaining time: 5.3 minutes\n"
     ]
    },
    {
     "name": "stderr",
     "output_type": "stream",
     "text": [
      "Processing train: 100%|█████████▉| 9110/9152 [12:36:48<03:48,  5.44s/it]"
     ]
    },
    {
     "name": "stdout",
     "output_type": "stream",
     "text": [
      "\n",
      "Batch 9110/9152: Load=1.52s, Embed=1.58s, Store=0.00s, Total=5.10s, Images/sec=2.35\n",
      "Estimated remaining time: 3.6 minutes\n"
     ]
    },
    {
     "name": "stderr",
     "output_type": "stream",
     "text": [
      "Processing train: 100%|█████████▉| 9120/9152 [12:38:19<05:29, 10.30s/it]"
     ]
    },
    {
     "name": "stdout",
     "output_type": "stream",
     "text": [
      "\n",
      "Batch 9120/9152: Load=2.41s, Embed=1.63s, Store=0.00s, Total=6.00s, Images/sec=2.00\n",
      "Estimated remaining time: 3.2 minutes\n"
     ]
    },
    {
     "name": "stderr",
     "output_type": "stream",
     "text": [
      "Processing train: 100%|█████████▉| 9130/9152 [12:39:11<01:58,  5.38s/it]"
     ]
    },
    {
     "name": "stdout",
     "output_type": "stream",
     "text": [
      "\n",
      "Batch 9130/9152: Load=1.59s, Embed=1.57s, Store=0.00s, Total=5.26s, Images/sec=2.28\n",
      "Estimated remaining time: 1.9 minutes\n"
     ]
    },
    {
     "name": "stderr",
     "output_type": "stream",
     "text": [
      "Processing train: 100%|█████████▉| 9140/9152 [12:40:03<01:01,  5.16s/it]"
     ]
    },
    {
     "name": "stdout",
     "output_type": "stream",
     "text": [
      "\n",
      "Batch 9140/9152: Load=1.52s, Embed=1.59s, Store=0.00s, Total=5.08s, Images/sec=2.36\n",
      "Estimated remaining time: 1.0 minutes\n"
     ]
    },
    {
     "name": "stderr",
     "output_type": "stream",
     "text": [
      "Processing train: 100%|█████████▉| 9150/9152 [12:41:32<00:32, 16.26s/it]"
     ]
    },
    {
     "name": "stdout",
     "output_type": "stream",
     "text": [
      "\n",
      "Batch 9150/9152: Load=2.11s, Embed=1.61s, Store=0.00s, Total=5.71s, Images/sec=2.10\n",
      "Estimated remaining time: 0.2 minutes\n"
     ]
    },
    {
     "name": "stderr",
     "output_type": "stream",
     "text": [
      "Processing train: 100%|██████████| 9152/9152 [12:42:21<00:00,  5.00s/it]"
     ]
    },
    {
     "name": "stdout",
     "output_type": "stream",
     "text": [
      "\n",
      "Batch 9152/9152: Load=2.46s, Embed=1.62s, Store=0.00s, Total=6.28s, Images/sec=1.91\n"
     ]
    },
    {
     "name": "stderr",
     "output_type": "stream",
     "text": [
      "\n"
     ]
    },
    {
     "name": "stdout",
     "output_type": "stream",
     "text": [
      "Saved: /home/rmuthy2/diffpixeldots/TestEmbeddingsOutput/raddino-train-dot8.parquet\n",
      "Saved: /home/rmuthy2/diffpixeldots/TestEmbeddingsOutput/dinov3-train-dot8.parquet\n",
      "\n",
      "Processing test dataset for dot size 8...\n",
      "\n",
      "Extracting embeddings for test (dot=8) in batches of 12...\n"
     ]
    },
    {
     "name": "stderr",
     "output_type": "stream",
     "text": [
      "Processing test:   0%|          | 10/2288 [00:33<2:12:08,  3.48s/it]"
     ]
    },
    {
     "name": "stdout",
     "output_type": "stream",
     "text": [
      "\n",
      "Batch 10/2288: Load=1.83s, Embed=1.59s, Store=0.00s, Total=3.57s, Images/sec=3.37\n",
      "Estimated remaining time: 135.4 minutes\n"
     ]
    },
    {
     "name": "stderr",
     "output_type": "stream",
     "text": [
      "Processing test:   1%|          | 20/2288 [01:06<2:05:21,  3.32s/it]"
     ]
    },
    {
     "name": "stdout",
     "output_type": "stream",
     "text": [
      "\n",
      "Batch 20/2288: Load=1.60s, Embed=1.58s, Store=0.00s, Total=3.33s, Images/sec=3.60\n",
      "Estimated remaining time: 126.0 minutes\n"
     ]
    },
    {
     "name": "stderr",
     "output_type": "stream",
     "text": [
      "Processing test:   1%|▏         | 30/2288 [01:39<2:04:24,  3.31s/it]"
     ]
    },
    {
     "name": "stdout",
     "output_type": "stream",
     "text": [
      "\n",
      "Batch 30/2288: Load=1.61s, Embed=1.57s, Store=0.00s, Total=3.34s, Images/sec=3.60\n",
      "Estimated remaining time: 125.6 minutes\n"
     ]
    },
    {
     "name": "stderr",
     "output_type": "stream",
     "text": [
      "Processing test:   2%|▏         | 40/2288 [02:12<2:03:27,  3.30s/it]"
     ]
    },
    {
     "name": "stdout",
     "output_type": "stream",
     "text": [
      "\n",
      "Batch 40/2288: Load=1.56s, Embed=1.56s, Store=0.00s, Total=3.28s, Images/sec=3.66\n",
      "Estimated remaining time: 122.9 minutes\n"
     ]
    },
    {
     "name": "stderr",
     "output_type": "stream",
     "text": [
      "Processing test:   2%|▏         | 50/2288 [02:47<2:13:17,  3.57s/it]"
     ]
    },
    {
     "name": "stdout",
     "output_type": "stream",
     "text": [
      "\n",
      "Batch 50/2288: Load=1.62s, Embed=1.58s, Store=0.00s, Total=3.36s, Images/sec=3.57\n",
      "Estimated remaining time: 125.2 minutes\n"
     ]
    },
    {
     "name": "stderr",
     "output_type": "stream",
     "text": [
      "Processing test:   3%|▎         | 60/2288 [03:20<2:04:24,  3.35s/it]"
     ]
    },
    {
     "name": "stdout",
     "output_type": "stream",
     "text": [
      "\n",
      "Batch 60/2288: Load=1.43s, Embed=1.56s, Store=0.00s, Total=3.14s, Images/sec=3.82\n",
      "Estimated remaining time: 116.6 minutes\n"
     ]
    },
    {
     "name": "stderr",
     "output_type": "stream",
     "text": [
      "Processing test:   3%|▎         | 70/2288 [03:54<2:03:22,  3.34s/it]"
     ]
    },
    {
     "name": "stdout",
     "output_type": "stream",
     "text": [
      "\n",
      "Batch 70/2288: Load=1.65s, Embed=1.59s, Store=0.00s, Total=3.40s, Images/sec=3.52\n",
      "Estimated remaining time: 125.9 minutes\n"
     ]
    },
    {
     "name": "stderr",
     "output_type": "stream",
     "text": [
      "Processing test:   3%|▎         | 80/2288 [04:27<2:02:02,  3.32s/it]"
     ]
    },
    {
     "name": "stdout",
     "output_type": "stream",
     "text": [
      "\n",
      "Batch 80/2288: Load=1.58s, Embed=1.57s, Store=0.00s, Total=3.32s, Images/sec=3.62\n",
      "Estimated remaining time: 122.0 minutes\n"
     ]
    },
    {
     "name": "stderr",
     "output_type": "stream",
     "text": [
      "Processing test:   4%|▍         | 90/2288 [05:01<2:02:19,  3.34s/it]"
     ]
    },
    {
     "name": "stdout",
     "output_type": "stream",
     "text": [
      "\n",
      "Batch 90/2288: Load=1.61s, Embed=1.56s, Store=0.00s, Total=3.33s, Images/sec=3.60\n",
      "Estimated remaining time: 122.1 minutes\n"
     ]
    },
    {
     "name": "stderr",
     "output_type": "stream",
     "text": [
      "Processing test:   4%|▍         | 100/2288 [05:34<2:06:15,  3.46s/it]"
     ]
    },
    {
     "name": "stdout",
     "output_type": "stream",
     "text": [
      "\n",
      "Batch 100/2288: Load=1.62s, Embed=1.59s, Store=0.00s, Total=3.39s, Images/sec=3.54\n",
      "Estimated remaining time: 123.5 minutes\n"
     ]
    },
    {
     "name": "stderr",
     "output_type": "stream",
     "text": [
      "Processing test:   5%|▍         | 110/2288 [06:07<2:01:22,  3.34s/it]"
     ]
    },
    {
     "name": "stdout",
     "output_type": "stream",
     "text": [
      "\n",
      "Batch 110/2288: Load=1.66s, Embed=1.58s, Store=0.00s, Total=3.41s, Images/sec=3.52\n",
      "Estimated remaining time: 123.7 minutes\n"
     ]
    },
    {
     "name": "stderr",
     "output_type": "stream",
     "text": [
      "Processing test:   5%|▌         | 120/2288 [06:41<1:59:52,  3.32s/it]"
     ]
    },
    {
     "name": "stdout",
     "output_type": "stream",
     "text": [
      "\n",
      "Batch 120/2288: Load=1.54s, Embed=1.59s, Store=0.00s, Total=3.31s, Images/sec=3.62\n",
      "Estimated remaining time: 119.7 minutes\n"
     ]
    },
    {
     "name": "stderr",
     "output_type": "stream",
     "text": [
      "Processing test:   6%|▌         | 130/2288 [07:14<1:58:57,  3.31s/it]"
     ]
    },
    {
     "name": "stdout",
     "output_type": "stream",
     "text": [
      "\n",
      "Batch 130/2288: Load=1.59s, Embed=1.57s, Store=0.00s, Total=3.33s, Images/sec=3.60\n",
      "Estimated remaining time: 119.9 minutes\n"
     ]
    },
    {
     "name": "stderr",
     "output_type": "stream",
     "text": [
      "Processing test:   6%|▌         | 140/2288 [07:47<2:00:01,  3.35s/it]"
     ]
    },
    {
     "name": "stdout",
     "output_type": "stream",
     "text": [
      "\n",
      "Batch 140/2288: Load=1.71s, Embed=1.59s, Store=0.00s, Total=3.47s, Images/sec=3.46\n",
      "Estimated remaining time: 124.0 minutes\n"
     ]
    },
    {
     "name": "stderr",
     "output_type": "stream",
     "text": [
      "Processing test:   7%|▋         | 150/2288 [08:21<2:06:04,  3.54s/it]"
     ]
    },
    {
     "name": "stdout",
     "output_type": "stream",
     "text": [
      "\n",
      "Batch 150/2288: Load=1.68s, Embed=1.56s, Store=0.00s, Total=3.41s, Images/sec=3.52\n",
      "Estimated remaining time: 121.5 minutes\n"
     ]
    },
    {
     "name": "stderr",
     "output_type": "stream",
     "text": [
      "Processing test:   7%|▋         | 160/2288 [08:54<1:58:26,  3.34s/it]"
     ]
    },
    {
     "name": "stdout",
     "output_type": "stream",
     "text": [
      "\n",
      "Batch 160/2288: Load=1.62s, Embed=1.59s, Store=0.00s, Total=3.39s, Images/sec=3.54\n",
      "Estimated remaining time: 120.2 minutes\n"
     ]
    },
    {
     "name": "stderr",
     "output_type": "stream",
     "text": [
      "Processing test:   7%|▋         | 170/2288 [09:28<1:59:17,  3.38s/it]"
     ]
    },
    {
     "name": "stdout",
     "output_type": "stream",
     "text": [
      "\n",
      "Batch 170/2288: Load=1.61s, Embed=1.55s, Store=0.00s, Total=3.35s, Images/sec=3.58\n",
      "Estimated remaining time: 118.2 minutes\n"
     ]
    },
    {
     "name": "stderr",
     "output_type": "stream",
     "text": [
      "Processing test:   8%|▊         | 180/2288 [10:01<1:57:48,  3.35s/it]"
     ]
    },
    {
     "name": "stdout",
     "output_type": "stream",
     "text": [
      "\n",
      "Batch 180/2288: Load=1.56s, Embed=1.58s, Store=0.00s, Total=3.31s, Images/sec=3.62\n",
      "Estimated remaining time: 116.4 minutes\n"
     ]
    },
    {
     "name": "stderr",
     "output_type": "stream",
     "text": [
      "Processing test:   8%|▊         | 190/2288 [10:35<1:56:18,  3.33s/it]"
     ]
    },
    {
     "name": "stdout",
     "output_type": "stream",
     "text": [
      "\n",
      "Batch 190/2288: Load=1.57s, Embed=1.57s, Store=0.00s, Total=3.32s, Images/sec=3.61\n",
      "Estimated remaining time: 116.2 minutes\n"
     ]
    },
    {
     "name": "stderr",
     "output_type": "stream",
     "text": [
      "Processing test:   9%|▊         | 200/2288 [11:09<2:04:07,  3.57s/it]"
     ]
    },
    {
     "name": "stdout",
     "output_type": "stream",
     "text": [
      "\n",
      "Batch 200/2288: Load=1.56s, Embed=1.56s, Store=0.00s, Total=3.31s, Images/sec=3.63\n",
      "Estimated remaining time: 115.1 minutes\n"
     ]
    },
    {
     "name": "stderr",
     "output_type": "stream",
     "text": [
      "Processing test:   9%|▉         | 210/2288 [11:43<1:57:29,  3.39s/it]"
     ]
    },
    {
     "name": "stdout",
     "output_type": "stream",
     "text": [
      "\n",
      "Batch 210/2288: Load=1.59s, Embed=1.59s, Store=0.00s, Total=3.38s, Images/sec=3.55\n",
      "Estimated remaining time: 117.1 minutes\n"
     ]
    },
    {
     "name": "stderr",
     "output_type": "stream",
     "text": [
      "Processing test:  10%|▉         | 220/2288 [12:17<1:57:59,  3.42s/it]"
     ]
    },
    {
     "name": "stdout",
     "output_type": "stream",
     "text": [
      "\n",
      "Batch 220/2288: Load=1.65s, Embed=1.57s, Store=0.00s, Total=3.42s, Images/sec=3.51\n",
      "Estimated remaining time: 117.8 minutes\n"
     ]
    },
    {
     "name": "stderr",
     "output_type": "stream",
     "text": [
      "Processing test:  10%|█         | 230/2288 [12:50<1:55:54,  3.38s/it]"
     ]
    },
    {
     "name": "stdout",
     "output_type": "stream",
     "text": [
      "\n",
      "Batch 230/2288: Load=1.55s, Embed=1.59s, Store=0.00s, Total=3.34s, Images/sec=3.60\n",
      "Estimated remaining time: 114.4 minutes\n"
     ]
    },
    {
     "name": "stderr",
     "output_type": "stream",
     "text": [
      "Processing test:  10%|█         | 240/2288 [13:24<1:54:26,  3.35s/it]"
     ]
    },
    {
     "name": "stdout",
     "output_type": "stream",
     "text": [
      "\n",
      "Batch 240/2288: Load=1.64s, Embed=1.57s, Store=0.00s, Total=3.42s, Images/sec=3.51\n",
      "Estimated remaining time: 116.6 minutes\n"
     ]
    },
    {
     "name": "stderr",
     "output_type": "stream",
     "text": [
      "Processing test:  11%|█         | 250/2288 [13:58<2:04:48,  3.67s/it]"
     ]
    },
    {
     "name": "stdout",
     "output_type": "stream",
     "text": [
      "\n",
      "Batch 250/2288: Load=1.61s, Embed=1.57s, Store=0.00s, Total=3.38s, Images/sec=3.55\n",
      "Estimated remaining time: 114.8 minutes\n"
     ]
    },
    {
     "name": "stderr",
     "output_type": "stream",
     "text": [
      "Processing test:  11%|█▏        | 260/2288 [14:32<1:54:55,  3.40s/it]"
     ]
    },
    {
     "name": "stdout",
     "output_type": "stream",
     "text": [
      "\n",
      "Batch 260/2288: Load=1.68s, Embed=1.57s, Store=0.00s, Total=3.46s, Images/sec=3.47\n",
      "Estimated remaining time: 116.9 minutes\n"
     ]
    },
    {
     "name": "stderr",
     "output_type": "stream",
     "text": [
      "Processing test:  12%|█▏        | 270/2288 [15:06<1:53:39,  3.38s/it]"
     ]
    },
    {
     "name": "stdout",
     "output_type": "stream",
     "text": [
      "\n",
      "Batch 270/2288: Load=1.60s, Embed=1.56s, Store=0.00s, Total=3.37s, Images/sec=3.56\n",
      "Estimated remaining time: 113.5 minutes\n"
     ]
    },
    {
     "name": "stderr",
     "output_type": "stream",
     "text": [
      "Processing test:  12%|█▏        | 280/2288 [15:40<1:53:21,  3.39s/it]"
     ]
    },
    {
     "name": "stdout",
     "output_type": "stream",
     "text": [
      "\n",
      "Batch 280/2288: Load=1.57s, Embed=1.59s, Store=0.00s, Total=3.38s, Images/sec=3.56\n",
      "Estimated remaining time: 113.0 minutes\n"
     ]
    },
    {
     "name": "stderr",
     "output_type": "stream",
     "text": [
      "Processing test:  13%|█▎        | 290/2288 [16:13<1:52:31,  3.38s/it]"
     ]
    },
    {
     "name": "stdout",
     "output_type": "stream",
     "text": [
      "\n",
      "Batch 290/2288: Load=1.60s, Embed=1.57s, Store=0.00s, Total=3.40s, Images/sec=3.53\n",
      "Estimated remaining time: 113.2 minutes\n"
     ]
    },
    {
     "name": "stderr",
     "output_type": "stream",
     "text": [
      "Processing test:  13%|█▎        | 300/2288 [16:48<2:03:14,  3.72s/it]"
     ]
    },
    {
     "name": "stdout",
     "output_type": "stream",
     "text": [
      "\n",
      "Batch 300/2288: Load=1.55s, Embed=1.57s, Store=0.00s, Total=3.33s, Images/sec=3.60\n",
      "Estimated remaining time: 110.5 minutes\n"
     ]
    },
    {
     "name": "stderr",
     "output_type": "stream",
     "text": [
      "Processing test:  14%|█▎        | 310/2288 [17:22<1:52:39,  3.42s/it]"
     ]
    },
    {
     "name": "stdout",
     "output_type": "stream",
     "text": [
      "\n",
      "Batch 310/2288: Load=1.67s, Embed=1.57s, Store=0.00s, Total=3.45s, Images/sec=3.48\n",
      "Estimated remaining time: 113.8 minutes\n"
     ]
    },
    {
     "name": "stderr",
     "output_type": "stream",
     "text": [
      "Processing test:  14%|█▍        | 320/2288 [17:56<1:54:50,  3.50s/it]"
     ]
    },
    {
     "name": "stdout",
     "output_type": "stream",
     "text": [
      "\n",
      "Batch 320/2288: Load=1.61s, Embed=1.59s, Store=0.00s, Total=3.51s, Images/sec=3.42\n",
      "Estimated remaining time: 115.0 minutes\n"
     ]
    },
    {
     "name": "stderr",
     "output_type": "stream",
     "text": [
      "Processing test:  14%|█▍        | 330/2288 [18:31<1:51:49,  3.43s/it]"
     ]
    },
    {
     "name": "stdout",
     "output_type": "stream",
     "text": [
      "\n",
      "Batch 330/2288: Load=1.65s, Embed=1.60s, Store=0.00s, Total=3.48s, Images/sec=3.45\n",
      "Estimated remaining time: 113.6 minutes\n"
     ]
    },
    {
     "name": "stderr",
     "output_type": "stream",
     "text": [
      "Processing test:  15%|█▍        | 340/2288 [19:05<1:52:11,  3.46s/it]"
     ]
    },
    {
     "name": "stdout",
     "output_type": "stream",
     "text": [
      "\n",
      "Batch 340/2288: Load=1.72s, Embed=1.56s, Store=0.00s, Total=3.64s, Images/sec=3.30\n",
      "Estimated remaining time: 118.1 minutes\n"
     ]
    },
    {
     "name": "stderr",
     "output_type": "stream",
     "text": [
      "Processing test:  15%|█▌        | 350/2288 [19:40<2:02:55,  3.81s/it]"
     ]
    },
    {
     "name": "stdout",
     "output_type": "stream",
     "text": [
      "\n",
      "Batch 350/2288: Load=1.50s, Embed=1.56s, Store=0.00s, Total=3.29s, Images/sec=3.65\n",
      "Estimated remaining time: 106.3 minutes\n"
     ]
    },
    {
     "name": "stderr",
     "output_type": "stream",
     "text": [
      "Processing test:  16%|█▌        | 360/2288 [20:14<1:49:44,  3.42s/it]"
     ]
    },
    {
     "name": "stdout",
     "output_type": "stream",
     "text": [
      "\n",
      "Batch 360/2288: Load=1.60s, Embed=1.57s, Store=0.00s, Total=3.39s, Images/sec=3.54\n",
      "Estimated remaining time: 109.1 minutes\n"
     ]
    },
    {
     "name": "stderr",
     "output_type": "stream",
     "text": [
      "Processing test:  16%|█▌        | 370/2288 [20:48<1:48:45,  3.40s/it]"
     ]
    },
    {
     "name": "stdout",
     "output_type": "stream",
     "text": [
      "\n",
      "Batch 370/2288: Load=1.61s, Embed=1.58s, Store=0.00s, Total=3.42s, Images/sec=3.51\n",
      "Estimated remaining time: 109.2 minutes\n"
     ]
    },
    {
     "name": "stderr",
     "output_type": "stream",
     "text": [
      "Processing test:  17%|█▋        | 380/2288 [21:23<1:48:31,  3.41s/it]"
     ]
    },
    {
     "name": "stdout",
     "output_type": "stream",
     "text": [
      "\n",
      "Batch 380/2288: Load=1.62s, Embed=1.57s, Store=0.00s, Total=3.42s, Images/sec=3.51\n",
      "Estimated remaining time: 108.9 minutes\n"
     ]
    },
    {
     "name": "stderr",
     "output_type": "stream",
     "text": [
      "Processing test:  17%|█▋        | 390/2288 [21:57<1:47:21,  3.39s/it]"
     ]
    },
    {
     "name": "stdout",
     "output_type": "stream",
     "text": [
      "\n",
      "Batch 390/2288: Load=1.55s, Embed=1.57s, Store=0.00s, Total=3.35s, Images/sec=3.58\n",
      "Estimated remaining time: 106.1 minutes\n"
     ]
    },
    {
     "name": "stderr",
     "output_type": "stream",
     "text": [
      "Processing test:  17%|█▋        | 400/2288 [22:32<2:02:31,  3.89s/it]"
     ]
    },
    {
     "name": "stdout",
     "output_type": "stream",
     "text": [
      "\n",
      "Batch 400/2288: Load=1.61s, Embed=1.58s, Store=0.00s, Total=3.42s, Images/sec=3.51\n",
      "Estimated remaining time: 107.5 minutes\n"
     ]
    },
    {
     "name": "stderr",
     "output_type": "stream",
     "text": [
      "Processing test:  18%|█▊        | 410/2288 [23:06<1:46:53,  3.42s/it]"
     ]
    },
    {
     "name": "stdout",
     "output_type": "stream",
     "text": [
      "\n",
      "Batch 410/2288: Load=1.58s, Embed=1.60s, Store=0.00s, Total=3.42s, Images/sec=3.51\n",
      "Estimated remaining time: 107.1 minutes\n"
     ]
    },
    {
     "name": "stderr",
     "output_type": "stream",
     "text": [
      "Processing test:  18%|█▊        | 420/2288 [23:40<1:45:46,  3.40s/it]"
     ]
    },
    {
     "name": "stdout",
     "output_type": "stream",
     "text": [
      "\n",
      "Batch 420/2288: Load=1.58s, Embed=1.60s, Store=0.00s, Total=3.42s, Images/sec=3.51\n",
      "Estimated remaining time: 106.5 minutes\n"
     ]
    },
    {
     "name": "stderr",
     "output_type": "stream",
     "text": [
      "Processing test:  19%|█▉        | 430/2288 [24:15<1:46:19,  3.43s/it]"
     ]
    },
    {
     "name": "stdout",
     "output_type": "stream",
     "text": [
      "\n",
      "Batch 430/2288: Load=1.54s, Embed=1.60s, Store=0.00s, Total=3.39s, Images/sec=3.54\n",
      "Estimated remaining time: 104.9 minutes\n"
     ]
    },
    {
     "name": "stderr",
     "output_type": "stream",
     "text": [
      "Processing test:  19%|█▉        | 440/2288 [24:49<1:46:04,  3.44s/it]"
     ]
    },
    {
     "name": "stdout",
     "output_type": "stream",
     "text": [
      "\n",
      "Batch 440/2288: Load=1.70s, Embed=1.54s, Store=0.00s, Total=3.50s, Images/sec=3.42\n",
      "Estimated remaining time: 107.9 minutes\n"
     ]
    },
    {
     "name": "stderr",
     "output_type": "stream",
     "text": [
      "Processing test:  20%|█▉        | 450/2288 [25:25<2:00:59,  3.95s/it]"
     ]
    },
    {
     "name": "stdout",
     "output_type": "stream",
     "text": [
      "\n",
      "Batch 450/2288: Load=1.54s, Embed=1.57s, Store=0.00s, Total=3.37s, Images/sec=3.56\n",
      "Estimated remaining time: 103.2 minutes\n"
     ]
    },
    {
     "name": "stderr",
     "output_type": "stream",
     "text": [
      "Processing test:  20%|██        | 460/2288 [25:58<1:43:40,  3.40s/it]"
     ]
    },
    {
     "name": "stdout",
     "output_type": "stream",
     "text": [
      "\n",
      "Batch 460/2288: Load=1.52s, Embed=1.59s, Store=0.00s, Total=3.36s, Images/sec=3.57\n",
      "Estimated remaining time: 102.4 minutes\n"
     ]
    },
    {
     "name": "stderr",
     "output_type": "stream",
     "text": [
      "Processing test:  21%|██        | 470/2288 [26:33<1:44:00,  3.43s/it]"
     ]
    },
    {
     "name": "stdout",
     "output_type": "stream",
     "text": [
      "\n",
      "Batch 470/2288: Load=1.68s, Embed=1.57s, Store=0.00s, Total=3.50s, Images/sec=3.43\n",
      "Estimated remaining time: 106.1 minutes\n"
     ]
    },
    {
     "name": "stderr",
     "output_type": "stream",
     "text": [
      "Processing test:  21%|██        | 480/2288 [27:07<1:42:20,  3.40s/it]"
     ]
    },
    {
     "name": "stdout",
     "output_type": "stream",
     "text": [
      "\n",
      "Batch 480/2288: Load=1.52s, Embed=1.57s, Store=0.00s, Total=3.36s, Images/sec=3.57\n",
      "Estimated remaining time: 101.2 minutes\n"
     ]
    },
    {
     "name": "stderr",
     "output_type": "stream",
     "text": [
      "Processing test:  21%|██▏       | 490/2288 [27:41<1:41:46,  3.40s/it]"
     ]
    },
    {
     "name": "stdout",
     "output_type": "stream",
     "text": [
      "\n",
      "Batch 490/2288: Load=1.56s, Embed=1.59s, Store=0.00s, Total=3.40s, Images/sec=3.53\n",
      "Estimated remaining time: 101.9 minutes\n"
     ]
    },
    {
     "name": "stderr",
     "output_type": "stream",
     "text": [
      "Processing test:  22%|██▏       | 500/2288 [28:17<1:59:37,  4.01s/it]"
     ]
    },
    {
     "name": "stdout",
     "output_type": "stream",
     "text": [
      "\n",
      "Batch 500/2288: Load=1.63s, Embed=1.60s, Store=0.00s, Total=3.48s, Images/sec=3.45\n",
      "Estimated remaining time: 103.7 minutes\n"
     ]
    },
    {
     "name": "stderr",
     "output_type": "stream",
     "text": [
      "Processing test:  22%|██▏       | 510/2288 [28:52<1:42:37,  3.46s/it]"
     ]
    },
    {
     "name": "stdout",
     "output_type": "stream",
     "text": [
      "\n",
      "Batch 510/2288: Load=1.58s, Embed=1.58s, Store=0.00s, Total=3.42s, Images/sec=3.51\n",
      "Estimated remaining time: 101.5 minutes\n"
     ]
    },
    {
     "name": "stderr",
     "output_type": "stream",
     "text": [
      "Processing test:  23%|██▎       | 520/2288 [29:26<1:40:20,  3.41s/it]"
     ]
    },
    {
     "name": "stdout",
     "output_type": "stream",
     "text": [
      "\n",
      "Batch 520/2288: Load=1.59s, Embed=1.54s, Store=0.00s, Total=3.40s, Images/sec=3.53\n",
      "Estimated remaining time: 100.1 minutes\n"
     ]
    },
    {
     "name": "stderr",
     "output_type": "stream",
     "text": [
      "Processing test:  23%|██▎       | 530/2288 [30:00<1:39:43,  3.40s/it]"
     ]
    },
    {
     "name": "stdout",
     "output_type": "stream",
     "text": [
      "\n",
      "Batch 530/2288: Load=1.57s, Embed=1.57s, Store=0.00s, Total=3.41s, Images/sec=3.51\n",
      "Estimated remaining time: 100.1 minutes\n"
     ]
    },
    {
     "name": "stderr",
     "output_type": "stream",
     "text": [
      "Processing test:  24%|██▎       | 540/2288 [30:34<1:39:15,  3.41s/it]"
     ]
    },
    {
     "name": "stdout",
     "output_type": "stream",
     "text": [
      "\n",
      "Batch 540/2288: Load=1.49s, Embed=1.62s, Store=0.00s, Total=3.37s, Images/sec=3.56\n",
      "Estimated remaining time: 98.2 minutes\n"
     ]
    },
    {
     "name": "stderr",
     "output_type": "stream",
     "text": [
      "Processing test:  24%|██▍       | 550/2288 [31:10<1:57:27,  4.06s/it]"
     ]
    },
    {
     "name": "stdout",
     "output_type": "stream",
     "text": [
      "\n",
      "Batch 550/2288: Load=1.59s, Embed=1.60s, Store=0.00s, Total=3.47s, Images/sec=3.46\n",
      "Estimated remaining time: 100.5 minutes\n"
     ]
    },
    {
     "name": "stderr",
     "output_type": "stream",
     "text": [
      "Processing test:  24%|██▍       | 560/2288 [31:45<1:39:49,  3.47s/it]"
     ]
    },
    {
     "name": "stdout",
     "output_type": "stream",
     "text": [
      "\n",
      "Batch 560/2288: Load=1.53s, Embed=1.60s, Store=0.00s, Total=3.42s, Images/sec=3.51\n",
      "Estimated remaining time: 98.4 minutes\n"
     ]
    },
    {
     "name": "stderr",
     "output_type": "stream",
     "text": [
      "Processing test:  25%|██▍       | 570/2288 [32:19<1:38:07,  3.43s/it]"
     ]
    },
    {
     "name": "stdout",
     "output_type": "stream",
     "text": [
      "\n",
      "Batch 570/2288: Load=1.46s, Embed=1.58s, Store=0.00s, Total=3.31s, Images/sec=3.62\n",
      "Estimated remaining time: 94.9 minutes\n"
     ]
    },
    {
     "name": "stderr",
     "output_type": "stream",
     "text": [
      "Processing test:  25%|██▌       | 580/2288 [32:54<1:38:51,  3.47s/it]"
     ]
    },
    {
     "name": "stdout",
     "output_type": "stream",
     "text": [
      "\n",
      "Batch 580/2288: Load=1.68s, Embed=1.59s, Store=0.00s, Total=3.56s, Images/sec=3.37\n",
      "Estimated remaining time: 101.3 minutes\n"
     ]
    },
    {
     "name": "stderr",
     "output_type": "stream",
     "text": [
      "Processing test:  26%|██▌       | 590/2288 [33:28<1:37:56,  3.46s/it]"
     ]
    },
    {
     "name": "stdout",
     "output_type": "stream",
     "text": [
      "\n",
      "Batch 590/2288: Load=1.62s, Embed=1.60s, Store=0.00s, Total=3.52s, Images/sec=3.41\n",
      "Estimated remaining time: 99.5 minutes\n"
     ]
    },
    {
     "name": "stderr",
     "output_type": "stream",
     "text": [
      "Processing test:  26%|██▌       | 600/2288 [34:05<1:57:09,  4.16s/it]"
     ]
    },
    {
     "name": "stdout",
     "output_type": "stream",
     "text": [
      "\n",
      "Batch 600/2288: Load=1.55s, Embed=1.60s, Store=0.00s, Total=3.42s, Images/sec=3.50\n",
      "Estimated remaining time: 96.3 minutes\n"
     ]
    },
    {
     "name": "stderr",
     "output_type": "stream",
     "text": [
      "Processing test:  27%|██▋       | 610/2288 [34:40<1:38:21,  3.52s/it]"
     ]
    },
    {
     "name": "stdout",
     "output_type": "stream",
     "text": [
      "\n",
      "Batch 610/2288: Load=1.63s, Embed=1.58s, Store=0.00s, Total=3.48s, Images/sec=3.44\n",
      "Estimated remaining time: 97.5 minutes\n"
     ]
    },
    {
     "name": "stderr",
     "output_type": "stream",
     "text": [
      "Processing test:  27%|██▋       | 620/2288 [35:14<1:35:38,  3.44s/it]"
     ]
    },
    {
     "name": "stdout",
     "output_type": "stream",
     "text": [
      "\n",
      "Batch 620/2288: Load=1.61s, Embed=1.60s, Store=0.00s, Total=3.51s, Images/sec=3.42\n",
      "Estimated remaining time: 97.5 minutes\n"
     ]
    },
    {
     "name": "stderr",
     "output_type": "stream",
     "text": [
      "Processing test:  28%|██▊       | 630/2288 [35:49<1:34:18,  3.41s/it]"
     ]
    },
    {
     "name": "stdout",
     "output_type": "stream",
     "text": [
      "\n",
      "Batch 630/2288: Load=1.50s, Embed=1.57s, Store=0.00s, Total=3.37s, Images/sec=3.56\n",
      "Estimated remaining time: 93.1 minutes\n"
     ]
    },
    {
     "name": "stderr",
     "output_type": "stream",
     "text": [
      "Processing test:  28%|██▊       | 640/2288 [36:23<1:35:19,  3.47s/it]"
     ]
    },
    {
     "name": "stdout",
     "output_type": "stream",
     "text": [
      "\n",
      "Batch 640/2288: Load=1.66s, Embed=1.59s, Store=0.00s, Total=3.55s, Images/sec=3.38\n",
      "Estimated remaining time: 97.4 minutes\n"
     ]
    },
    {
     "name": "stderr",
     "output_type": "stream",
     "text": [
      "Processing test:  28%|██▊       | 650/2288 [37:01<1:56:23,  4.26s/it]"
     ]
    },
    {
     "name": "stdout",
     "output_type": "stream",
     "text": [
      "\n",
      "Batch 650/2288: Load=1.63s, Embed=1.59s, Store=0.00s, Total=3.52s, Images/sec=3.41\n",
      "Estimated remaining time: 96.0 minutes\n"
     ]
    },
    {
     "name": "stderr",
     "output_type": "stream",
     "text": [
      "Processing test:  29%|██▉       | 660/2288 [37:36<1:34:41,  3.49s/it]"
     ]
    },
    {
     "name": "stdout",
     "output_type": "stream",
     "text": [
      "\n",
      "Batch 660/2288: Load=1.64s, Embed=1.57s, Store=0.00s, Total=3.52s, Images/sec=3.41\n",
      "Estimated remaining time: 95.4 minutes\n"
     ]
    },
    {
     "name": "stderr",
     "output_type": "stream",
     "text": [
      "Processing test:  29%|██▉       | 670/2288 [38:10<1:32:31,  3.43s/it]"
     ]
    },
    {
     "name": "stdout",
     "output_type": "stream",
     "text": [
      "\n",
      "Batch 670/2288: Load=1.55s, Embed=1.59s, Store=0.00s, Total=3.45s, Images/sec=3.48\n",
      "Estimated remaining time: 93.0 minutes\n"
     ]
    },
    {
     "name": "stderr",
     "output_type": "stream",
     "text": [
      "Processing test:  30%|██▉       | 680/2288 [38:45<1:33:50,  3.50s/it]"
     ]
    },
    {
     "name": "stdout",
     "output_type": "stream",
     "text": [
      "\n",
      "Batch 680/2288: Load=1.62s, Embed=1.61s, Store=0.00s, Total=3.53s, Images/sec=3.40\n",
      "Estimated remaining time: 94.7 minutes\n"
     ]
    },
    {
     "name": "stderr",
     "output_type": "stream",
     "text": [
      "Processing test:  30%|███       | 690/2288 [39:19<1:31:35,  3.44s/it]"
     ]
    },
    {
     "name": "stdout",
     "output_type": "stream",
     "text": [
      "\n",
      "Batch 690/2288: Load=1.53s, Embed=1.58s, Store=0.00s, Total=3.41s, Images/sec=3.52\n",
      "Estimated remaining time: 90.9 minutes\n"
     ]
    },
    {
     "name": "stderr",
     "output_type": "stream",
     "text": [
      "Processing test:  31%|███       | 700/2288 [39:57<1:54:16,  4.32s/it]"
     ]
    },
    {
     "name": "stdout",
     "output_type": "stream",
     "text": [
      "\n",
      "Batch 700/2288: Load=1.59s, Embed=1.57s, Store=0.00s, Total=3.47s, Images/sec=3.46\n",
      "Estimated remaining time: 91.8 minutes\n"
     ]
    },
    {
     "name": "stderr",
     "output_type": "stream",
     "text": [
      "Processing test:  31%|███       | 710/2288 [40:31<1:31:48,  3.49s/it]"
     ]
    },
    {
     "name": "stdout",
     "output_type": "stream",
     "text": [
      "\n",
      "Batch 710/2288: Load=1.55s, Embed=1.59s, Store=0.00s, Total=3.45s, Images/sec=3.47\n",
      "Estimated remaining time: 90.9 minutes\n"
     ]
    },
    {
     "name": "stderr",
     "output_type": "stream",
     "text": [
      "Processing test:  31%|███▏      | 720/2288 [41:06<1:31:31,  3.50s/it]"
     ]
    },
    {
     "name": "stdout",
     "output_type": "stream",
     "text": [
      "\n",
      "Batch 720/2288: Load=1.55s, Embed=1.59s, Store=0.00s, Total=3.44s, Images/sec=3.49\n",
      "Estimated remaining time: 89.8 minutes\n"
     ]
    },
    {
     "name": "stderr",
     "output_type": "stream",
     "text": [
      "Processing test:  32%|███▏      | 730/2288 [41:43<1:35:04,  3.66s/it]"
     ]
    },
    {
     "name": "stdout",
     "output_type": "stream",
     "text": [
      "\n",
      "Batch 730/2288: Load=1.78s, Embed=1.62s, Store=0.00s, Total=3.71s, Images/sec=3.23\n",
      "Estimated remaining time: 96.3 minutes\n"
     ]
    },
    {
     "name": "stderr",
     "output_type": "stream",
     "text": [
      "Processing test:  32%|███▏      | 740/2288 [42:19<1:34:13,  3.65s/it]"
     ]
    },
    {
     "name": "stdout",
     "output_type": "stream",
     "text": [
      "\n",
      "Batch 740/2288: Load=1.76s, Embed=1.61s, Store=0.00s, Total=3.69s, Images/sec=3.25\n",
      "Estimated remaining time: 95.2 minutes\n"
     ]
    },
    {
     "name": "stderr",
     "output_type": "stream",
     "text": [
      "Processing test:  33%|███▎      | 750/2288 [42:58<1:55:20,  4.50s/it]"
     ]
    },
    {
     "name": "stdout",
     "output_type": "stream",
     "text": [
      "\n",
      "Batch 750/2288: Load=1.73s, Embed=1.59s, Store=0.00s, Total=3.64s, Images/sec=3.29\n",
      "Estimated remaining time: 93.4 minutes\n"
     ]
    },
    {
     "name": "stderr",
     "output_type": "stream",
     "text": [
      "Processing test:  33%|███▎      | 760/2288 [43:35<1:34:35,  3.71s/it]"
     ]
    },
    {
     "name": "stdout",
     "output_type": "stream",
     "text": [
      "\n",
      "Batch 760/2288: Load=1.80s, Embed=1.57s, Store=0.00s, Total=3.70s, Images/sec=3.25\n",
      "Estimated remaining time: 94.1 minutes\n"
     ]
    },
    {
     "name": "stderr",
     "output_type": "stream",
     "text": [
      "Processing test:  34%|███▎      | 770/2288 [44:11<1:30:25,  3.57s/it]"
     ]
    },
    {
     "name": "stdout",
     "output_type": "stream",
     "text": [
      "\n",
      "Batch 770/2288: Load=1.66s, Embed=1.58s, Store=0.00s, Total=3.57s, Images/sec=3.36\n",
      "Estimated remaining time: 90.3 minutes\n"
     ]
    },
    {
     "name": "stderr",
     "output_type": "stream",
     "text": [
      "Processing test:  34%|███▍      | 780/2288 [44:48<1:30:10,  3.59s/it]"
     ]
    },
    {
     "name": "stdout",
     "output_type": "stream",
     "text": [
      "\n",
      "Batch 780/2288: Load=1.70s, Embed=1.54s, Store=0.00s, Total=3.55s, Images/sec=3.38\n",
      "Estimated remaining time: 89.3 minutes\n"
     ]
    },
    {
     "name": "stderr",
     "output_type": "stream",
     "text": [
      "Processing test:  35%|███▍      | 790/2288 [45:24<1:30:30,  3.63s/it]"
     ]
    },
    {
     "name": "stdout",
     "output_type": "stream",
     "text": [
      "\n",
      "Batch 790/2288: Load=1.67s, Embed=1.60s, Store=0.00s, Total=3.60s, Images/sec=3.33\n",
      "Estimated remaining time: 89.9 minutes\n"
     ]
    },
    {
     "name": "stderr",
     "output_type": "stream",
     "text": [
      "Processing test:  35%|███▍      | 800/2288 [46:04<1:55:27,  4.66s/it]"
     ]
    },
    {
     "name": "stdout",
     "output_type": "stream",
     "text": [
      "\n",
      "Batch 800/2288: Load=1.75s, Embed=1.58s, Store=0.00s, Total=3.67s, Images/sec=3.27\n",
      "Estimated remaining time: 91.0 minutes\n"
     ]
    },
    {
     "name": "stderr",
     "output_type": "stream",
     "text": [
      "Processing test:  35%|███▌      | 810/2288 [46:40<1:31:17,  3.71s/it]"
     ]
    },
    {
     "name": "stdout",
     "output_type": "stream",
     "text": [
      "\n",
      "Batch 810/2288: Load=1.81s, Embed=1.61s, Store=0.00s, Total=3.75s, Images/sec=3.20\n",
      "Estimated remaining time: 92.3 minutes\n"
     ]
    },
    {
     "name": "stderr",
     "output_type": "stream",
     "text": [
      "Processing test:  36%|███▌      | 820/2288 [47:16<1:28:48,  3.63s/it]"
     ]
    },
    {
     "name": "stdout",
     "output_type": "stream",
     "text": [
      "\n",
      "Batch 820/2288: Load=1.69s, Embed=1.61s, Store=0.00s, Total=3.63s, Images/sec=3.31\n",
      "Estimated remaining time: 88.8 minutes\n"
     ]
    },
    {
     "name": "stderr",
     "output_type": "stream",
     "text": [
      "Processing test:  36%|███▋      | 830/2288 [47:54<1:31:09,  3.75s/it]"
     ]
    },
    {
     "name": "stdout",
     "output_type": "stream",
     "text": [
      "\n",
      "Batch 830/2288: Load=1.64s, Embed=1.58s, Store=0.00s, Total=3.77s, Images/sec=3.19\n",
      "Estimated remaining time: 91.5 minutes\n"
     ]
    },
    {
     "name": "stderr",
     "output_type": "stream",
     "text": [
      "Processing test:  37%|███▋      | 840/2288 [48:31<1:29:05,  3.69s/it]"
     ]
    },
    {
     "name": "stdout",
     "output_type": "stream",
     "text": [
      "\n",
      "Batch 840/2288: Load=1.64s, Embed=1.54s, Store=0.00s, Total=3.67s, Images/sec=3.27\n",
      "Estimated remaining time: 88.7 minutes\n"
     ]
    },
    {
     "name": "stderr",
     "output_type": "stream",
     "text": [
      "Processing test:  37%|███▋      | 850/2288 [49:11<1:53:12,  4.72s/it]"
     ]
    },
    {
     "name": "stdout",
     "output_type": "stream",
     "text": [
      "\n",
      "Batch 850/2288: Load=1.65s, Embed=1.56s, Store=0.00s, Total=3.71s, Images/sec=3.24\n",
      "Estimated remaining time: 88.8 minutes\n"
     ]
    },
    {
     "name": "stderr",
     "output_type": "stream",
     "text": [
      "Processing test:  38%|███▊      | 860/2288 [49:48<1:26:14,  3.62s/it]"
     ]
    },
    {
     "name": "stdout",
     "output_type": "stream",
     "text": [
      "\n",
      "Batch 860/2288: Load=1.55s, Embed=1.56s, Store=0.00s, Total=3.49s, Images/sec=3.44\n",
      "Estimated remaining time: 82.9 minutes\n"
     ]
    },
    {
     "name": "stderr",
     "output_type": "stream",
     "text": [
      "Processing test:  38%|███▊      | 870/2288 [50:23<1:23:12,  3.52s/it]"
     ]
    },
    {
     "name": "stdout",
     "output_type": "stream",
     "text": [
      "\n",
      "Batch 870/2288: Load=1.53s, Embed=1.61s, Store=0.00s, Total=3.52s, Images/sec=3.41\n",
      "Estimated remaining time: 83.1 minutes\n"
     ]
    },
    {
     "name": "stderr",
     "output_type": "stream",
     "text": [
      "Processing test:  38%|███▊      | 880/2288 [51:00<1:26:51,  3.70s/it]"
     ]
    },
    {
     "name": "stdout",
     "output_type": "stream",
     "text": [
      "\n",
      "Batch 880/2288: Load=1.70s, Embed=1.57s, Store=0.00s, Total=3.76s, Images/sec=3.19\n",
      "Estimated remaining time: 88.2 minutes\n"
     ]
    },
    {
     "name": "stderr",
     "output_type": "stream",
     "text": [
      "Processing test:  39%|███▉      | 890/2288 [51:35<1:22:32,  3.54s/it]"
     ]
    },
    {
     "name": "stdout",
     "output_type": "stream",
     "text": [
      "\n",
      "Batch 890/2288: Load=1.62s, Embed=1.57s, Store=0.00s, Total=3.57s, Images/sec=3.36\n",
      "Estimated remaining time: 83.1 minutes\n"
     ]
    },
    {
     "name": "stderr",
     "output_type": "stream",
     "text": [
      "Processing test:  39%|███▉      | 900/2288 [52:14<1:46:09,  4.59s/it]"
     ]
    },
    {
     "name": "stdout",
     "output_type": "stream",
     "text": [
      "\n",
      "Batch 900/2288: Load=1.60s, Embed=1.56s, Store=0.00s, Total=3.54s, Images/sec=3.39\n",
      "Estimated remaining time: 81.8 minutes\n"
     ]
    },
    {
     "name": "stderr",
     "output_type": "stream",
     "text": [
      "Processing test:  40%|███▉      | 910/2288 [52:51<1:26:26,  3.76s/it]"
     ]
    },
    {
     "name": "stdout",
     "output_type": "stream",
     "text": [
      "\n",
      "Batch 910/2288: Load=1.83s, Embed=1.60s, Store=0.00s, Total=3.81s, Images/sec=3.15\n",
      "Estimated remaining time: 87.5 minutes\n"
     ]
    },
    {
     "name": "stderr",
     "output_type": "stream",
     "text": [
      "Processing test:  40%|████      | 920/2288 [53:28<1:25:19,  3.74s/it]"
     ]
    },
    {
     "name": "stdout",
     "output_type": "stream",
     "text": [
      "\n",
      "Batch 920/2288: Load=1.68s, Embed=1.62s, Store=0.00s, Total=3.75s, Images/sec=3.20\n",
      "Estimated remaining time: 85.4 minutes\n"
     ]
    },
    {
     "name": "stderr",
     "output_type": "stream",
     "text": [
      "Processing test:  41%|████      | 930/2288 [54:06<1:24:48,  3.75s/it]"
     ]
    },
    {
     "name": "stdout",
     "output_type": "stream",
     "text": [
      "\n",
      "Batch 930/2288: Load=1.75s, Embed=1.61s, Store=0.00s, Total=3.75s, Images/sec=3.20\n",
      "Estimated remaining time: 84.9 minutes\n"
     ]
    },
    {
     "name": "stderr",
     "output_type": "stream",
     "text": [
      "Processing test:  41%|████      | 940/2288 [54:43<1:23:48,  3.73s/it]"
     ]
    },
    {
     "name": "stdout",
     "output_type": "stream",
     "text": [
      "\n",
      "Batch 940/2288: Load=1.67s, Embed=1.61s, Store=0.00s, Total=3.68s, Images/sec=3.26\n",
      "Estimated remaining time: 82.7 minutes\n"
     ]
    },
    {
     "name": "stderr",
     "output_type": "stream",
     "text": [
      "Processing test:  42%|████▏     | 950/2288 [55:24<1:48:27,  4.86s/it]"
     ]
    },
    {
     "name": "stdout",
     "output_type": "stream",
     "text": [
      "\n",
      "Batch 950/2288: Load=1.74s, Embed=1.63s, Store=0.00s, Total=3.77s, Images/sec=3.18\n",
      "Estimated remaining time: 84.1 minutes\n"
     ]
    },
    {
     "name": "stderr",
     "output_type": "stream",
     "text": [
      "Processing test:  42%|████▏     | 960/2288 [56:01<1:23:35,  3.78s/it]"
     ]
    },
    {
     "name": "stdout",
     "output_type": "stream",
     "text": [
      "\n",
      "Batch 960/2288: Load=1.77s, Embed=1.55s, Store=0.00s, Total=3.72s, Images/sec=3.23\n",
      "Estimated remaining time: 82.3 minutes\n"
     ]
    },
    {
     "name": "stderr",
     "output_type": "stream",
     "text": [
      "Processing test:  42%|████▏     | 970/2288 [56:39<1:22:22,  3.75s/it]"
     ]
    },
    {
     "name": "stdout",
     "output_type": "stream",
     "text": [
      "\n",
      "Batch 970/2288: Load=1.64s, Embed=1.59s, Store=0.00s, Total=3.64s, Images/sec=3.29\n",
      "Estimated remaining time: 80.0 minutes\n"
     ]
    },
    {
     "name": "stderr",
     "output_type": "stream",
     "text": [
      "Processing test:  43%|████▎     | 980/2288 [57:16<1:21:25,  3.73s/it]"
     ]
    },
    {
     "name": "stdout",
     "output_type": "stream",
     "text": [
      "\n",
      "Batch 980/2288: Load=1.68s, Embed=1.58s, Store=0.00s, Total=3.67s, Images/sec=3.27\n",
      "Estimated remaining time: 79.9 minutes\n"
     ]
    },
    {
     "name": "stderr",
     "output_type": "stream",
     "text": [
      "Processing test:  43%|████▎     | 990/2288 [57:53<1:21:17,  3.76s/it]"
     ]
    },
    {
     "name": "stdout",
     "output_type": "stream",
     "text": [
      "\n",
      "Batch 990/2288: Load=1.75s, Embed=1.63s, Store=0.00s, Total=3.94s, Images/sec=3.05\n",
      "Estimated remaining time: 85.2 minutes\n"
     ]
    },
    {
     "name": "stderr",
     "output_type": "stream",
     "text": [
      "Processing test:  44%|████▎     | 1000/2288 [58:34<1:46:15,  4.95s/it]"
     ]
    },
    {
     "name": "stdout",
     "output_type": "stream",
     "text": [
      "\n",
      "Batch 1000/2288: Load=1.66s, Embed=1.58s, Store=0.00s, Total=3.77s, Images/sec=3.18\n",
      "Estimated remaining time: 81.0 minutes\n"
     ]
    },
    {
     "name": "stderr",
     "output_type": "stream",
     "text": [
      "Processing test:  44%|████▍     | 1010/2288 [59:11<1:17:32,  3.64s/it]"
     ]
    },
    {
     "name": "stdout",
     "output_type": "stream",
     "text": [
      "\n",
      "Batch 1010/2288: Load=1.60s, Embed=1.54s, Store=0.00s, Total=3.55s, Images/sec=3.38\n",
      "Estimated remaining time: 75.5 minutes\n"
     ]
    },
    {
     "name": "stderr",
     "output_type": "stream",
     "text": [
      "Processing test:  45%|████▍     | 1020/2288 [59:47<1:15:43,  3.58s/it]"
     ]
    },
    {
     "name": "stdout",
     "output_type": "stream",
     "text": [
      "\n",
      "Batch 1020/2288: Load=1.54s, Embed=1.61s, Store=0.00s, Total=3.56s, Images/sec=3.37\n",
      "Estimated remaining time: 75.1 minutes\n"
     ]
    },
    {
     "name": "stderr",
     "output_type": "stream",
     "text": [
      "Processing test:  45%|████▌     | 1030/2288 [1:00:23<1:17:13,  3.68s/it]"
     ]
    },
    {
     "name": "stdout",
     "output_type": "stream",
     "text": [
      "\n",
      "Batch 1030/2288: Load=1.74s, Embed=1.61s, Store=0.00s, Total=3.81s, Images/sec=3.15\n",
      "Estimated remaining time: 79.8 minutes\n"
     ]
    },
    {
     "name": "stderr",
     "output_type": "stream",
     "text": [
      "Processing test:  45%|████▌     | 1040/2288 [1:01:00<1:18:30,  3.77s/it]"
     ]
    },
    {
     "name": "stdout",
     "output_type": "stream",
     "text": [
      "\n",
      "Batch 1040/2288: Load=1.55s, Embed=1.55s, Store=0.00s, Total=3.66s, Images/sec=3.28\n",
      "Estimated remaining time: 76.1 minutes\n"
     ]
    },
    {
     "name": "stderr",
     "output_type": "stream",
     "text": [
      "Processing test:  46%|████▌     | 1050/2288 [1:01:42<1:43:24,  5.01s/it]"
     ]
    },
    {
     "name": "stdout",
     "output_type": "stream",
     "text": [
      "\n",
      "Batch 1050/2288: Load=1.57s, Embed=1.59s, Store=0.00s, Total=3.90s, Images/sec=3.08\n",
      "Estimated remaining time: 80.5 minutes\n"
     ]
    },
    {
     "name": "stderr",
     "output_type": "stream",
     "text": [
      "Processing test:  46%|████▋     | 1060/2288 [1:02:20<1:17:04,  3.77s/it]"
     ]
    },
    {
     "name": "stdout",
     "output_type": "stream",
     "text": [
      "\n",
      "Batch 1060/2288: Load=1.64s, Embed=1.57s, Store=0.00s, Total=3.79s, Images/sec=3.17\n",
      "Estimated remaining time: 77.5 minutes\n"
     ]
    },
    {
     "name": "stderr",
     "output_type": "stream",
     "text": [
      "Processing test:  47%|████▋     | 1070/2288 [1:02:56<1:13:59,  3.64s/it]"
     ]
    },
    {
     "name": "stdout",
     "output_type": "stream",
     "text": [
      "\n",
      "Batch 1070/2288: Load=1.62s, Embed=1.56s, Store=0.00s, Total=3.63s, Images/sec=3.30\n",
      "Estimated remaining time: 73.7 minutes\n"
     ]
    },
    {
     "name": "stderr",
     "output_type": "stream",
     "text": [
      "Processing test:  47%|████▋     | 1080/2288 [1:03:33<1:13:51,  3.67s/it]"
     ]
    },
    {
     "name": "stdout",
     "output_type": "stream",
     "text": [
      "\n",
      "Batch 1080/2288: Load=1.59s, Embed=1.59s, Store=0.00s, Total=3.64s, Images/sec=3.30\n",
      "Estimated remaining time: 73.2 minutes\n"
     ]
    },
    {
     "name": "stderr",
     "output_type": "stream",
     "text": [
      "Processing test:  48%|████▊     | 1090/2288 [1:04:09<1:12:39,  3.64s/it]"
     ]
    },
    {
     "name": "stdout",
     "output_type": "stream",
     "text": [
      "\n",
      "Batch 1090/2288: Load=1.60s, Embed=1.55s, Store=0.00s, Total=3.64s, Images/sec=3.30\n",
      "Estimated remaining time: 72.6 minutes\n"
     ]
    },
    {
     "name": "stderr",
     "output_type": "stream",
     "text": [
      "Processing test:  48%|████▊     | 1100/2288 [1:04:50<1:37:05,  4.90s/it]"
     ]
    },
    {
     "name": "stdout",
     "output_type": "stream",
     "text": [
      "\n",
      "Batch 1100/2288: Load=1.63s, Embed=1.56s, Store=0.00s, Total=3.66s, Images/sec=3.28\n",
      "Estimated remaining time: 72.5 minutes\n"
     ]
    },
    {
     "name": "stderr",
     "output_type": "stream",
     "text": [
      "Processing test:  49%|████▊     | 1110/2288 [1:05:26<1:13:07,  3.72s/it]"
     ]
    },
    {
     "name": "stdout",
     "output_type": "stream",
     "text": [
      "\n",
      "Batch 1110/2288: Load=1.78s, Embed=1.57s, Store=0.00s, Total=3.81s, Images/sec=3.15\n",
      "Estimated remaining time: 74.8 minutes\n"
     ]
    },
    {
     "name": "stderr",
     "output_type": "stream",
     "text": [
      "Processing test:  49%|████▉     | 1120/2288 [1:06:03<1:12:57,  3.75s/it]"
     ]
    },
    {
     "name": "stdout",
     "output_type": "stream",
     "text": [
      "\n",
      "Batch 1120/2288: Load=1.58s, Embed=1.58s, Store=0.00s, Total=3.77s, Images/sec=3.18\n",
      "Estimated remaining time: 73.4 minutes\n"
     ]
    },
    {
     "name": "stderr",
     "output_type": "stream",
     "text": [
      "Processing test:  49%|████▉     | 1130/2288 [1:06:41<1:11:46,  3.72s/it]"
     ]
    },
    {
     "name": "stdout",
     "output_type": "stream",
     "text": [
      "\n",
      "Batch 1130/2288: Load=1.61s, Embed=1.59s, Store=0.00s, Total=3.66s, Images/sec=3.28\n",
      "Estimated remaining time: 70.6 minutes\n"
     ]
    },
    {
     "name": "stderr",
     "output_type": "stream",
     "text": [
      "Processing test:  50%|████▉     | 1140/2288 [1:07:18<1:11:22,  3.73s/it]"
     ]
    },
    {
     "name": "stdout",
     "output_type": "stream",
     "text": [
      "\n",
      "Batch 1140/2288: Load=1.73s, Embed=1.58s, Store=0.00s, Total=3.77s, Images/sec=3.19\n",
      "Estimated remaining time: 72.1 minutes\n"
     ]
    },
    {
     "name": "stderr",
     "output_type": "stream",
     "text": [
      "Processing test:  50%|█████     | 1150/2288 [1:08:00<1:38:16,  5.18s/it]"
     ]
    },
    {
     "name": "stdout",
     "output_type": "stream",
     "text": [
      "\n",
      "Batch 1150/2288: Load=1.66s, Embed=1.60s, Store=0.00s, Total=3.70s, Images/sec=3.24\n",
      "Estimated remaining time: 70.2 minutes\n"
     ]
    },
    {
     "name": "stderr",
     "output_type": "stream",
     "text": [
      "Processing test:  51%|█████     | 1160/2288 [1:08:38<1:12:04,  3.83s/it]"
     ]
    },
    {
     "name": "stdout",
     "output_type": "stream",
     "text": [
      "\n",
      "Batch 1160/2288: Load=1.71s, Embed=1.59s, Store=0.00s, Total=3.76s, Images/sec=3.19\n",
      "Estimated remaining time: 70.7 minutes\n"
     ]
    },
    {
     "name": "stderr",
     "output_type": "stream",
     "text": [
      "Processing test:  51%|█████     | 1170/2288 [1:09:16<1:10:36,  3.79s/it]"
     ]
    },
    {
     "name": "stdout",
     "output_type": "stream",
     "text": [
      "\n",
      "Batch 1170/2288: Load=1.75s, Embed=1.62s, Store=0.00s, Total=3.84s, Images/sec=3.12\n",
      "Estimated remaining time: 71.6 minutes\n"
     ]
    },
    {
     "name": "stderr",
     "output_type": "stream",
     "text": [
      "Processing test:  52%|█████▏    | 1180/2288 [1:09:54<1:10:31,  3.82s/it]"
     ]
    },
    {
     "name": "stdout",
     "output_type": "stream",
     "text": [
      "\n",
      "Batch 1180/2288: Load=1.87s, Embed=1.59s, Store=0.00s, Total=3.90s, Images/sec=3.07\n",
      "Estimated remaining time: 72.1 minutes\n"
     ]
    },
    {
     "name": "stderr",
     "output_type": "stream",
     "text": [
      "Processing test:  52%|█████▏    | 1190/2288 [1:10:31<1:08:49,  3.76s/it]"
     ]
    },
    {
     "name": "stdout",
     "output_type": "stream",
     "text": [
      "\n",
      "Batch 1190/2288: Load=1.78s, Embed=1.60s, Store=0.00s, Total=3.81s, Images/sec=3.15\n",
      "Estimated remaining time: 69.8 minutes\n"
     ]
    },
    {
     "name": "stderr",
     "output_type": "stream",
     "text": [
      "Processing test:  52%|█████▏    | 1200/2288 [1:11:14<1:35:28,  5.26s/it]"
     ]
    },
    {
     "name": "stdout",
     "output_type": "stream",
     "text": [
      "\n",
      "Batch 1200/2288: Load=1.75s, Embed=1.63s, Store=0.00s, Total=3.91s, Images/sec=3.07\n",
      "Estimated remaining time: 71.0 minutes\n"
     ]
    },
    {
     "name": "stderr",
     "output_type": "stream",
     "text": [
      "Processing test:  53%|█████▎    | 1210/2288 [1:11:51<1:07:35,  3.76s/it]"
     ]
    },
    {
     "name": "stdout",
     "output_type": "stream",
     "text": [
      "\n",
      "Batch 1210/2288: Load=1.52s, Embed=1.58s, Store=0.00s, Total=3.54s, Images/sec=3.39\n",
      "Estimated remaining time: 63.6 minutes\n"
     ]
    },
    {
     "name": "stderr",
     "output_type": "stream",
     "text": [
      "Processing test:  53%|█████▎    | 1220/2288 [1:12:28<1:06:14,  3.72s/it]"
     ]
    },
    {
     "name": "stdout",
     "output_type": "stream",
     "text": [
      "\n",
      "Batch 1220/2288: Load=1.75s, Embed=1.55s, Store=0.00s, Total=3.74s, Images/sec=3.21\n",
      "Estimated remaining time: 66.5 minutes\n"
     ]
    },
    {
     "name": "stderr",
     "output_type": "stream",
     "text": [
      "Processing test:  54%|█████▍    | 1230/2288 [1:13:06<1:06:22,  3.76s/it]"
     ]
    },
    {
     "name": "stdout",
     "output_type": "stream",
     "text": [
      "\n",
      "Batch 1230/2288: Load=1.75s, Embed=1.61s, Store=0.00s, Total=3.80s, Images/sec=3.16\n",
      "Estimated remaining time: 66.9 minutes\n"
     ]
    },
    {
     "name": "stderr",
     "output_type": "stream",
     "text": [
      "Processing test:  54%|█████▍    | 1240/2288 [1:13:43<1:05:42,  3.76s/it]"
     ]
    },
    {
     "name": "stdout",
     "output_type": "stream",
     "text": [
      "\n",
      "Batch 1240/2288: Load=1.81s, Embed=1.59s, Store=0.00s, Total=3.85s, Images/sec=3.12\n",
      "Estimated remaining time: 67.3 minutes\n"
     ]
    },
    {
     "name": "stderr",
     "output_type": "stream",
     "text": [
      "Processing test:  55%|█████▍    | 1250/2288 [1:14:26<1:30:11,  5.21s/it]"
     ]
    },
    {
     "name": "stdout",
     "output_type": "stream",
     "text": [
      "\n",
      "Batch 1250/2288: Load=1.60s, Embed=1.62s, Store=0.00s, Total=3.74s, Images/sec=3.21\n",
      "Estimated remaining time: 64.8 minutes\n"
     ]
    },
    {
     "name": "stderr",
     "output_type": "stream",
     "text": [
      "Processing test:  55%|█████▌    | 1260/2288 [1:15:03<1:04:26,  3.76s/it]"
     ]
    },
    {
     "name": "stdout",
     "output_type": "stream",
     "text": [
      "\n",
      "Batch 1260/2288: Load=1.72s, Embed=1.59s, Store=0.00s, Total=3.75s, Images/sec=3.20\n",
      "Estimated remaining time: 64.2 minutes\n"
     ]
    },
    {
     "name": "stderr",
     "output_type": "stream",
     "text": [
      "Processing test:  56%|█████▌    | 1270/2288 [1:15:40<1:02:46,  3.70s/it]"
     ]
    },
    {
     "name": "stdout",
     "output_type": "stream",
     "text": [
      "\n",
      "Batch 1270/2288: Load=1.59s, Embed=1.65s, Store=0.00s, Total=3.68s, Images/sec=3.26\n",
      "Estimated remaining time: 62.5 minutes\n"
     ]
    },
    {
     "name": "stderr",
     "output_type": "stream",
     "text": [
      "Processing test:  56%|█████▌    | 1280/2288 [1:16:17<1:02:31,  3.72s/it]"
     ]
    },
    {
     "name": "stdout",
     "output_type": "stream",
     "text": [
      "\n",
      "Batch 1280/2288: Load=1.68s, Embed=1.59s, Store=0.00s, Total=3.71s, Images/sec=3.24\n",
      "Estimated remaining time: 62.3 minutes\n"
     ]
    },
    {
     "name": "stderr",
     "output_type": "stream",
     "text": [
      "Processing test:  56%|█████▋    | 1290/2288 [1:16:55<1:02:30,  3.76s/it]"
     ]
    },
    {
     "name": "stdout",
     "output_type": "stream",
     "text": [
      "\n",
      "Batch 1290/2288: Load=1.67s, Embed=1.59s, Store=0.00s, Total=3.78s, Images/sec=3.17\n",
      "Estimated remaining time: 62.9 minutes\n"
     ]
    },
    {
     "name": "stderr",
     "output_type": "stream",
     "text": [
      "Processing test:  57%|█████▋    | 1300/2288 [1:17:38<1:27:39,  5.32s/it]"
     ]
    },
    {
     "name": "stdout",
     "output_type": "stream",
     "text": [
      "\n",
      "Batch 1300/2288: Load=1.76s, Embed=1.58s, Store=0.00s, Total=3.79s, Images/sec=3.17\n",
      "Estimated remaining time: 62.4 minutes\n"
     ]
    },
    {
     "name": "stderr",
     "output_type": "stream",
     "text": [
      "Processing test:  57%|█████▋    | 1310/2288 [1:18:15<1:01:30,  3.77s/it]"
     ]
    },
    {
     "name": "stdout",
     "output_type": "stream",
     "text": [
      "\n",
      "Batch 1310/2288: Load=1.69s, Embed=1.60s, Store=0.00s, Total=3.73s, Images/sec=3.22\n",
      "Estimated remaining time: 60.7 minutes\n"
     ]
    },
    {
     "name": "stderr",
     "output_type": "stream",
     "text": [
      "Processing test:  58%|█████▊    | 1320/2288 [1:18:51<59:48,  3.71s/it]  "
     ]
    },
    {
     "name": "stdout",
     "output_type": "stream",
     "text": [
      "\n",
      "Batch 1320/2288: Load=1.68s, Embed=1.60s, Store=0.00s, Total=3.75s, Images/sec=3.20\n",
      "Estimated remaining time: 60.5 minutes\n"
     ]
    },
    {
     "name": "stderr",
     "output_type": "stream",
     "text": [
      "Processing test:  58%|█████▊    | 1330/2288 [1:19:29<1:00:25,  3.78s/it]"
     ]
    },
    {
     "name": "stdout",
     "output_type": "stream",
     "text": [
      "\n",
      "Batch 1330/2288: Load=1.81s, Embed=1.64s, Store=0.00s, Total=3.90s, Images/sec=3.08\n",
      "Estimated remaining time: 62.3 minutes\n"
     ]
    },
    {
     "name": "stderr",
     "output_type": "stream",
     "text": [
      "Processing test:  59%|█████▊    | 1340/2288 [1:20:06<59:16,  3.75s/it]  "
     ]
    },
    {
     "name": "stdout",
     "output_type": "stream",
     "text": [
      "\n",
      "Batch 1340/2288: Load=1.62s, Embed=1.55s, Store=0.00s, Total=3.70s, Images/sec=3.25\n",
      "Estimated remaining time: 58.4 minutes\n"
     ]
    },
    {
     "name": "stderr",
     "output_type": "stream",
     "text": [
      "Processing test:  59%|█████▉    | 1350/2288 [1:20:49<1:24:42,  5.42s/it]"
     ]
    },
    {
     "name": "stdout",
     "output_type": "stream",
     "text": [
      "\n",
      "Batch 1350/2288: Load=1.75s, Embed=1.59s, Store=0.00s, Total=3.79s, Images/sec=3.17\n",
      "Estimated remaining time: 59.2 minutes\n"
     ]
    },
    {
     "name": "stderr",
     "output_type": "stream",
     "text": [
      "Processing test:  59%|█████▉    | 1360/2288 [1:21:26<57:29,  3.72s/it]  "
     ]
    },
    {
     "name": "stdout",
     "output_type": "stream",
     "text": [
      "\n",
      "Batch 1360/2288: Load=1.60s, Embed=1.59s, Store=0.00s, Total=3.64s, Images/sec=3.30\n",
      "Estimated remaining time: 56.3 minutes\n"
     ]
    },
    {
     "name": "stderr",
     "output_type": "stream",
     "text": [
      "Processing test:  60%|█████▉    | 1370/2288 [1:22:04<57:46,  3.78s/it]"
     ]
    },
    {
     "name": "stdout",
     "output_type": "stream",
     "text": [
      "\n",
      "Batch 1370/2288: Load=1.81s, Embed=1.58s, Store=0.00s, Total=3.84s, Images/sec=3.12\n",
      "Estimated remaining time: 58.8 minutes\n"
     ]
    },
    {
     "name": "stderr",
     "output_type": "stream",
     "text": [
      "Processing test:  60%|██████    | 1380/2288 [1:22:41<57:42,  3.81s/it]"
     ]
    },
    {
     "name": "stdout",
     "output_type": "stream",
     "text": [
      "\n",
      "Batch 1380/2288: Load=1.84s, Embed=1.57s, Store=0.00s, Total=3.86s, Images/sec=3.11\n",
      "Estimated remaining time: 58.5 minutes\n"
     ]
    },
    {
     "name": "stderr",
     "output_type": "stream",
     "text": [
      "Processing test:  61%|██████    | 1390/2288 [1:23:19<56:36,  3.78s/it]"
     ]
    },
    {
     "name": "stdout",
     "output_type": "stream",
     "text": [
      "\n",
      "Batch 1390/2288: Load=1.75s, Embed=1.61s, Store=0.00s, Total=3.93s, Images/sec=3.05\n",
      "Estimated remaining time: 58.8 minutes\n"
     ]
    },
    {
     "name": "stderr",
     "output_type": "stream",
     "text": [
      "Processing test:  61%|██████    | 1400/2288 [1:24:02<1:22:25,  5.57s/it]"
     ]
    },
    {
     "name": "stdout",
     "output_type": "stream",
     "text": [
      "\n",
      "Batch 1400/2288: Load=1.82s, Embed=1.55s, Store=0.00s, Total=3.84s, Images/sec=3.13\n",
      "Estimated remaining time: 56.8 minutes\n"
     ]
    },
    {
     "name": "stderr",
     "output_type": "stream",
     "text": [
      "Processing test:  62%|██████▏   | 1410/2288 [1:24:40<55:39,  3.80s/it]  "
     ]
    },
    {
     "name": "stdout",
     "output_type": "stream",
     "text": [
      "\n",
      "Batch 1410/2288: Load=1.72s, Embed=1.55s, Store=0.00s, Total=3.74s, Images/sec=3.21\n",
      "Estimated remaining time: 54.8 minutes\n"
     ]
    },
    {
     "name": "stderr",
     "output_type": "stream",
     "text": [
      "Processing test:  62%|██████▏   | 1420/2288 [1:25:17<54:04,  3.74s/it]"
     ]
    },
    {
     "name": "stdout",
     "output_type": "stream",
     "text": [
      "\n",
      "Batch 1420/2288: Load=1.81s, Embed=1.60s, Store=0.00s, Total=3.90s, Images/sec=3.08\n",
      "Estimated remaining time: 56.3 minutes\n"
     ]
    },
    {
     "name": "stderr",
     "output_type": "stream",
     "text": [
      "Processing test:  62%|██████▎   | 1430/2288 [1:25:54<53:15,  3.72s/it]"
     ]
    },
    {
     "name": "stdout",
     "output_type": "stream",
     "text": [
      "\n",
      "Batch 1430/2288: Load=1.47s, Embed=1.59s, Store=0.00s, Total=3.52s, Images/sec=3.41\n",
      "Estimated remaining time: 50.3 minutes\n"
     ]
    },
    {
     "name": "stderr",
     "output_type": "stream",
     "text": [
      "Processing test:  63%|██████▎   | 1440/2288 [1:26:32<52:49,  3.74s/it]"
     ]
    },
    {
     "name": "stdout",
     "output_type": "stream",
     "text": [
      "\n",
      "Batch 1440/2288: Load=1.76s, Embed=1.58s, Store=0.00s, Total=3.81s, Images/sec=3.15\n",
      "Estimated remaining time: 53.8 minutes\n"
     ]
    },
    {
     "name": "stderr",
     "output_type": "stream",
     "text": [
      "Processing test:  63%|██████▎   | 1450/2288 [1:27:15<1:15:33,  5.41s/it]"
     ]
    },
    {
     "name": "stdout",
     "output_type": "stream",
     "text": [
      "\n",
      "Batch 1450/2288: Load=1.64s, Embed=1.63s, Store=0.00s, Total=3.73s, Images/sec=3.22\n",
      "Estimated remaining time: 52.1 minutes\n"
     ]
    },
    {
     "name": "stderr",
     "output_type": "stream",
     "text": [
      "Processing test:  64%|██████▍   | 1460/2288 [1:27:53<53:10,  3.85s/it]  "
     ]
    },
    {
     "name": "stdout",
     "output_type": "stream",
     "text": [
      "\n",
      "Batch 1460/2288: Load=1.76s, Embed=1.60s, Store=0.00s, Total=3.94s, Images/sec=3.05\n",
      "Estimated remaining time: 54.3 minutes\n"
     ]
    },
    {
     "name": "stderr",
     "output_type": "stream",
     "text": [
      "Processing test:  64%|██████▍   | 1470/2288 [1:28:31<52:17,  3.84s/it]"
     ]
    },
    {
     "name": "stdout",
     "output_type": "stream",
     "text": [
      "\n",
      "Batch 1470/2288: Load=1.70s, Embed=1.56s, Store=0.00s, Total=3.97s, Images/sec=3.02\n",
      "Estimated remaining time: 54.1 minutes\n"
     ]
    },
    {
     "name": "stderr",
     "output_type": "stream",
     "text": [
      "Processing test:  65%|██████▍   | 1480/2288 [1:29:09<50:44,  3.77s/it]"
     ]
    },
    {
     "name": "stdout",
     "output_type": "stream",
     "text": [
      "\n",
      "Batch 1480/2288: Load=1.72s, Embed=1.56s, Store=0.00s, Total=3.75s, Images/sec=3.20\n",
      "Estimated remaining time: 50.5 minutes\n"
     ]
    },
    {
     "name": "stderr",
     "output_type": "stream",
     "text": [
      "Processing test:  65%|██████▌   | 1490/2288 [1:29:47<50:58,  3.83s/it]"
     ]
    },
    {
     "name": "stdout",
     "output_type": "stream",
     "text": [
      "\n",
      "Batch 1490/2288: Load=1.75s, Embed=1.59s, Store=0.00s, Total=3.89s, Images/sec=3.08\n",
      "Estimated remaining time: 51.8 minutes\n"
     ]
    },
    {
     "name": "stderr",
     "output_type": "stream",
     "text": [
      "Processing test:  66%|██████▌   | 1500/2288 [1:30:31<1:13:40,  5.61s/it]"
     ]
    },
    {
     "name": "stdout",
     "output_type": "stream",
     "text": [
      "\n",
      "Batch 1500/2288: Load=1.68s, Embed=1.59s, Store=0.00s, Total=3.74s, Images/sec=3.21\n",
      "Estimated remaining time: 49.1 minutes\n"
     ]
    },
    {
     "name": "stderr",
     "output_type": "stream",
     "text": [
      "Processing test:  66%|██████▌   | 1510/2288 [1:31:09<49:16,  3.80s/it]  "
     ]
    },
    {
     "name": "stdout",
     "output_type": "stream",
     "text": [
      "\n",
      "Batch 1510/2288: Load=1.73s, Embed=1.59s, Store=0.00s, Total=3.80s, Images/sec=3.15\n",
      "Estimated remaining time: 49.3 minutes\n"
     ]
    },
    {
     "name": "stderr",
     "output_type": "stream",
     "text": [
      "Processing test:  66%|██████▋   | 1520/2288 [1:31:47<48:32,  3.79s/it]"
     ]
    },
    {
     "name": "stdout",
     "output_type": "stream",
     "text": [
      "\n",
      "Batch 1520/2288: Load=1.68s, Embed=1.60s, Store=0.00s, Total=3.76s, Images/sec=3.19\n",
      "Estimated remaining time: 48.2 minutes\n"
     ]
    },
    {
     "name": "stderr",
     "output_type": "stream",
     "text": [
      "Processing test:  67%|██████▋   | 1530/2288 [1:32:24<46:42,  3.70s/it]"
     ]
    },
    {
     "name": "stdout",
     "output_type": "stream",
     "text": [
      "\n",
      "Batch 1530/2288: Load=1.62s, Embed=1.55s, Store=0.00s, Total=3.65s, Images/sec=3.28\n",
      "Estimated remaining time: 46.2 minutes\n"
     ]
    },
    {
     "name": "stderr",
     "output_type": "stream",
     "text": [
      "Processing test:  67%|██████▋   | 1540/2288 [1:33:01<47:33,  3.82s/it]"
     ]
    },
    {
     "name": "stdout",
     "output_type": "stream",
     "text": [
      "\n",
      "Batch 1540/2288: Load=1.79s, Embed=1.55s, Store=0.00s, Total=3.83s, Images/sec=3.14\n",
      "Estimated remaining time: 47.7 minutes\n"
     ]
    },
    {
     "name": "stderr",
     "output_type": "stream",
     "text": [
      "Processing test:  68%|██████▊   | 1550/2288 [1:33:45<1:08:48,  5.59s/it]"
     ]
    },
    {
     "name": "stdout",
     "output_type": "stream",
     "text": [
      "\n",
      "Batch 1550/2288: Load=1.66s, Embed=1.56s, Store=0.00s, Total=3.84s, Images/sec=3.12\n",
      "Estimated remaining time: 47.3 minutes\n"
     ]
    },
    {
     "name": "stderr",
     "output_type": "stream",
     "text": [
      "Processing test:  68%|██████▊   | 1560/2288 [1:34:22<46:07,  3.80s/it]  "
     ]
    },
    {
     "name": "stdout",
     "output_type": "stream",
     "text": [
      "\n",
      "Batch 1560/2288: Load=1.58s, Embed=1.55s, Store=0.00s, Total=3.65s, Images/sec=3.29\n",
      "Estimated remaining time: 44.3 minutes\n"
     ]
    },
    {
     "name": "stderr",
     "output_type": "stream",
     "text": [
      "Processing test:  69%|██████▊   | 1570/2288 [1:35:03<47:44,  3.99s/it]"
     ]
    },
    {
     "name": "stdout",
     "output_type": "stream",
     "text": [
      "\n",
      "Batch 1570/2288: Load=1.59s, Embed=1.60s, Store=0.00s, Total=3.91s, Images/sec=3.07\n",
      "Estimated remaining time: 46.7 minutes\n"
     ]
    },
    {
     "name": "stderr",
     "output_type": "stream",
     "text": [
      "Processing test:  69%|██████▉   | 1580/2288 [1:35:42<46:16,  3.92s/it]"
     ]
    },
    {
     "name": "stdout",
     "output_type": "stream",
     "text": [
      "\n",
      "Batch 1580/2288: Load=1.61s, Embed=1.57s, Store=0.00s, Total=3.90s, Images/sec=3.08\n",
      "Estimated remaining time: 46.0 minutes\n"
     ]
    },
    {
     "name": "stderr",
     "output_type": "stream",
     "text": [
      "Processing test:  69%|██████▉   | 1590/2288 [1:36:20<43:47,  3.76s/it]"
     ]
    },
    {
     "name": "stdout",
     "output_type": "stream",
     "text": [
      "\n",
      "Batch 1590/2288: Load=1.45s, Embed=1.56s, Store=0.00s, Total=3.68s, Images/sec=3.27\n",
      "Estimated remaining time: 42.8 minutes\n"
     ]
    },
    {
     "name": "stderr",
     "output_type": "stream",
     "text": [
      "Processing test:  70%|██████▉   | 1600/2288 [1:37:05<1:05:59,  5.75s/it]"
     ]
    },
    {
     "name": "stdout",
     "output_type": "stream",
     "text": [
      "\n",
      "Batch 1600/2288: Load=1.58s, Embed=1.56s, Store=0.00s, Total=3.75s, Images/sec=3.20\n",
      "Estimated remaining time: 43.0 minutes\n"
     ]
    },
    {
     "name": "stderr",
     "output_type": "stream",
     "text": [
      "Processing test:  70%|███████   | 1610/2288 [1:37:44<44:36,  3.95s/it]  "
     ]
    },
    {
     "name": "stdout",
     "output_type": "stream",
     "text": [
      "\n",
      "Batch 1610/2288: Load=1.78s, Embed=1.60s, Store=0.00s, Total=3.90s, Images/sec=3.07\n",
      "Estimated remaining time: 44.1 minutes\n"
     ]
    },
    {
     "name": "stderr",
     "output_type": "stream",
     "text": [
      "Processing test:  71%|███████   | 1620/2288 [1:38:22<42:47,  3.84s/it]"
     ]
    },
    {
     "name": "stdout",
     "output_type": "stream",
     "text": [
      "\n",
      "Batch 1620/2288: Load=1.72s, Embed=1.59s, Store=0.00s, Total=3.89s, Images/sec=3.08\n",
      "Estimated remaining time: 43.3 minutes\n"
     ]
    },
    {
     "name": "stderr",
     "output_type": "stream",
     "text": [
      "Processing test:  71%|███████   | 1630/2288 [1:39:01<42:54,  3.91s/it]"
     ]
    },
    {
     "name": "stdout",
     "output_type": "stream",
     "text": [
      "\n",
      "Batch 1630/2288: Load=1.86s, Embed=1.60s, Store=0.00s, Total=3.99s, Images/sec=3.01\n",
      "Estimated remaining time: 43.8 minutes\n"
     ]
    },
    {
     "name": "stderr",
     "output_type": "stream",
     "text": [
      "Processing test:  72%|███████▏  | 1640/2288 [1:39:40<41:41,  3.86s/it]"
     ]
    },
    {
     "name": "stdout",
     "output_type": "stream",
     "text": [
      "\n",
      "Batch 1640/2288: Load=1.83s, Embed=1.59s, Store=0.00s, Total=3.96s, Images/sec=3.03\n",
      "Estimated remaining time: 42.7 minutes\n"
     ]
    },
    {
     "name": "stderr",
     "output_type": "stream",
     "text": [
      "Processing test:  72%|███████▏  | 1650/2288 [1:40:25<1:03:16,  5.95s/it]"
     ]
    },
    {
     "name": "stdout",
     "output_type": "stream",
     "text": [
      "\n",
      "Batch 1650/2288: Load=1.74s, Embed=1.60s, Store=0.00s, Total=3.89s, Images/sec=3.09\n",
      "Estimated remaining time: 41.3 minutes\n"
     ]
    },
    {
     "name": "stderr",
     "output_type": "stream",
     "text": [
      "Processing test:  73%|███████▎  | 1660/2288 [1:41:04<41:10,  3.93s/it]  "
     ]
    },
    {
     "name": "stdout",
     "output_type": "stream",
     "text": [
      "\n",
      "Batch 1660/2288: Load=1.74s, Embed=1.58s, Store=0.00s, Total=3.90s, Images/sec=3.08\n",
      "Estimated remaining time: 40.8 minutes\n"
     ]
    },
    {
     "name": "stderr",
     "output_type": "stream",
     "text": [
      "Processing test:  73%|███████▎  | 1670/2288 [1:41:42<39:31,  3.84s/it]"
     ]
    },
    {
     "name": "stdout",
     "output_type": "stream",
     "text": [
      "\n",
      "Batch 1670/2288: Load=1.69s, Embed=1.60s, Store=0.00s, Total=3.83s, Images/sec=3.13\n",
      "Estimated remaining time: 39.5 minutes\n"
     ]
    },
    {
     "name": "stderr",
     "output_type": "stream",
     "text": [
      "Processing test:  73%|███████▎  | 1680/2288 [1:42:20<39:08,  3.86s/it]"
     ]
    },
    {
     "name": "stdout",
     "output_type": "stream",
     "text": [
      "\n",
      "Batch 1680/2288: Load=1.92s, Embed=1.61s, Store=0.00s, Total=4.04s, Images/sec=2.97\n",
      "Estimated remaining time: 40.9 minutes\n"
     ]
    },
    {
     "name": "stderr",
     "output_type": "stream",
     "text": [
      "Processing test:  74%|███████▍  | 1690/2288 [1:42:59<38:38,  3.88s/it]"
     ]
    },
    {
     "name": "stdout",
     "output_type": "stream",
     "text": [
      "\n",
      "Batch 1690/2288: Load=1.75s, Embed=1.61s, Store=0.00s, Total=3.88s, Images/sec=3.09\n",
      "Estimated remaining time: 38.7 minutes\n"
     ]
    },
    {
     "name": "stderr",
     "output_type": "stream",
     "text": [
      "Processing test:  74%|███████▍  | 1700/2288 [1:43:44<57:42,  5.89s/it]"
     ]
    },
    {
     "name": "stdout",
     "output_type": "stream",
     "text": [
      "\n",
      "Batch 1700/2288: Load=1.69s, Embed=1.57s, Store=0.00s, Total=3.78s, Images/sec=3.17\n",
      "Estimated remaining time: 37.1 minutes\n"
     ]
    },
    {
     "name": "stderr",
     "output_type": "stream",
     "text": [
      "Processing test:  75%|███████▍  | 1710/2288 [1:44:22<37:17,  3.87s/it]"
     ]
    },
    {
     "name": "stdout",
     "output_type": "stream",
     "text": [
      "\n",
      "Batch 1710/2288: Load=1.67s, Embed=1.57s, Store=0.00s, Total=3.76s, Images/sec=3.19\n",
      "Estimated remaining time: 36.2 minutes\n"
     ]
    },
    {
     "name": "stderr",
     "output_type": "stream",
     "text": [
      "Processing test:  75%|███████▌  | 1720/2288 [1:45:00<36:32,  3.86s/it]"
     ]
    },
    {
     "name": "stdout",
     "output_type": "stream",
     "text": [
      "\n",
      "Batch 1720/2288: Load=1.77s, Embed=1.56s, Store=0.00s, Total=3.86s, Images/sec=3.11\n",
      "Estimated remaining time: 36.5 minutes\n"
     ]
    },
    {
     "name": "stderr",
     "output_type": "stream",
     "text": [
      "Processing test:  76%|███████▌  | 1730/2288 [1:45:39<35:39,  3.84s/it]"
     ]
    },
    {
     "name": "stdout",
     "output_type": "stream",
     "text": [
      "\n",
      "Batch 1730/2288: Load=1.69s, Embed=1.58s, Store=0.00s, Total=3.79s, Images/sec=3.16\n",
      "Estimated remaining time: 35.3 minutes\n"
     ]
    },
    {
     "name": "stderr",
     "output_type": "stream",
     "text": [
      "Processing test:  76%|███████▌  | 1740/2288 [1:46:18<35:22,  3.87s/it]"
     ]
    },
    {
     "name": "stdout",
     "output_type": "stream",
     "text": [
      "\n",
      "Batch 1740/2288: Load=1.64s, Embed=1.59s, Store=0.00s, Total=3.76s, Images/sec=3.19\n",
      "Estimated remaining time: 34.3 minutes\n"
     ]
    },
    {
     "name": "stderr",
     "output_type": "stream",
     "text": [
      "Processing test:  76%|███████▋  | 1750/2288 [1:47:03<53:46,  6.00s/it]"
     ]
    },
    {
     "name": "stdout",
     "output_type": "stream",
     "text": [
      "\n",
      "Batch 1750/2288: Load=1.79s, Embed=1.59s, Store=0.00s, Total=3.91s, Images/sec=3.07\n",
      "Estimated remaining time: 35.1 minutes\n"
     ]
    },
    {
     "name": "stderr",
     "output_type": "stream",
     "text": [
      "Processing test:  77%|███████▋  | 1760/2288 [1:47:41<34:16,  3.89s/it]"
     ]
    },
    {
     "name": "stdout",
     "output_type": "stream",
     "text": [
      "\n",
      "Batch 1760/2288: Load=1.62s, Embed=1.59s, Store=0.00s, Total=3.78s, Images/sec=3.18\n",
      "Estimated remaining time: 33.2 minutes\n"
     ]
    },
    {
     "name": "stderr",
     "output_type": "stream",
     "text": [
      "Processing test:  77%|███████▋  | 1770/2288 [1:48:21<35:22,  4.10s/it]"
     ]
    },
    {
     "name": "stdout",
     "output_type": "stream",
     "text": [
      "\n",
      "Batch 1770/2288: Load=1.62s, Embed=1.58s, Store=0.00s, Total=4.41s, Images/sec=2.72\n",
      "Estimated remaining time: 38.0 minutes\n"
     ]
    },
    {
     "name": "stderr",
     "output_type": "stream",
     "text": [
      "Processing test:  78%|███████▊  | 1780/2288 [1:48:59<31:47,  3.75s/it]"
     ]
    },
    {
     "name": "stdout",
     "output_type": "stream",
     "text": [
      "\n",
      "Batch 1780/2288: Load=1.56s, Embed=1.56s, Store=0.00s, Total=3.72s, Images/sec=3.23\n",
      "Estimated remaining time: 31.5 minutes\n"
     ]
    },
    {
     "name": "stderr",
     "output_type": "stream",
     "text": [
      "Processing test:  78%|███████▊  | 1790/2288 [1:49:38<31:27,  3.79s/it]"
     ]
    },
    {
     "name": "stdout",
     "output_type": "stream",
     "text": [
      "\n",
      "Batch 1790/2288: Load=1.58s, Embed=1.59s, Store=0.00s, Total=3.80s, Images/sec=3.16\n",
      "Estimated remaining time: 31.5 minutes\n"
     ]
    },
    {
     "name": "stderr",
     "output_type": "stream",
     "text": [
      "Processing test:  79%|███████▊  | 1800/2288 [1:50:23<48:25,  5.95s/it]"
     ]
    },
    {
     "name": "stdout",
     "output_type": "stream",
     "text": [
      "\n",
      "Batch 1800/2288: Load=1.41s, Embed=1.57s, Store=0.00s, Total=3.70s, Images/sec=3.24\n",
      "Estimated remaining time: 30.1 minutes\n"
     ]
    },
    {
     "name": "stderr",
     "output_type": "stream",
     "text": [
      "Processing test:  79%|███████▉  | 1810/2288 [1:51:01<30:38,  3.85s/it]"
     ]
    },
    {
     "name": "stdout",
     "output_type": "stream",
     "text": [
      "\n",
      "Batch 1810/2288: Load=1.58s, Embed=1.59s, Store=0.00s, Total=3.79s, Images/sec=3.17\n",
      "Estimated remaining time: 30.2 minutes\n"
     ]
    },
    {
     "name": "stderr",
     "output_type": "stream",
     "text": [
      "Processing test:  80%|███████▉  | 1820/2288 [1:51:39<29:38,  3.80s/it]"
     ]
    },
    {
     "name": "stdout",
     "output_type": "stream",
     "text": [
      "\n",
      "Batch 1820/2288: Load=1.60s, Embed=1.61s, Store=0.00s, Total=3.84s, Images/sec=3.13\n",
      "Estimated remaining time: 29.9 minutes\n"
     ]
    },
    {
     "name": "stderr",
     "output_type": "stream",
     "text": [
      "Processing test:  80%|███████▉  | 1830/2288 [1:52:18<30:35,  4.01s/it]"
     ]
    },
    {
     "name": "stdout",
     "output_type": "stream",
     "text": [
      "\n",
      "Batch 1830/2288: Load=1.51s, Embed=1.59s, Store=0.00s, Total=3.90s, Images/sec=3.08\n",
      "Estimated remaining time: 29.7 minutes\n"
     ]
    },
    {
     "name": "stderr",
     "output_type": "stream",
     "text": [
      "Processing test:  80%|████████  | 1840/2288 [1:52:57<28:55,  3.87s/it]"
     ]
    },
    {
     "name": "stdout",
     "output_type": "stream",
     "text": [
      "\n",
      "Batch 1840/2288: Load=1.71s, Embed=1.57s, Store=0.00s, Total=3.88s, Images/sec=3.09\n",
      "Estimated remaining time: 29.0 minutes\n"
     ]
    },
    {
     "name": "stderr",
     "output_type": "stream",
     "text": [
      "Processing test:  81%|████████  | 1850/2288 [1:53:44<45:08,  6.18s/it]"
     ]
    },
    {
     "name": "stdout",
     "output_type": "stream",
     "text": [
      "\n",
      "Batch 1850/2288: Load=1.60s, Embed=1.60s, Store=0.00s, Total=3.91s, Images/sec=3.07\n",
      "Estimated remaining time: 28.5 minutes\n"
     ]
    },
    {
     "name": "stderr",
     "output_type": "stream",
     "text": [
      "Processing test:  81%|████████▏ | 1860/2288 [1:54:23<28:51,  4.05s/it]"
     ]
    },
    {
     "name": "stdout",
     "output_type": "stream",
     "text": [
      "\n",
      "Batch 1860/2288: Load=1.75s, Embed=1.61s, Store=0.00s, Total=4.11s, Images/sec=2.92\n",
      "Estimated remaining time: 29.3 minutes\n"
     ]
    },
    {
     "name": "stderr",
     "output_type": "stream",
     "text": [
      "Processing test:  82%|████████▏ | 1870/2288 [1:55:02<27:35,  3.96s/it]"
     ]
    },
    {
     "name": "stdout",
     "output_type": "stream",
     "text": [
      "\n",
      "Batch 1870/2288: Load=1.57s, Embed=1.60s, Store=0.00s, Total=3.95s, Images/sec=3.04\n",
      "Estimated remaining time: 27.5 minutes\n"
     ]
    },
    {
     "name": "stderr",
     "output_type": "stream",
     "text": [
      "Processing test:  82%|████████▏ | 1880/2288 [1:55:41<26:32,  3.90s/it]"
     ]
    },
    {
     "name": "stdout",
     "output_type": "stream",
     "text": [
      "\n",
      "Batch 1880/2288: Load=1.72s, Embed=1.60s, Store=0.00s, Total=4.14s, Images/sec=2.90\n",
      "Estimated remaining time: 28.2 minutes\n"
     ]
    },
    {
     "name": "stderr",
     "output_type": "stream",
     "text": [
      "Processing test:  83%|████████▎ | 1890/2288 [1:56:20<25:22,  3.82s/it]"
     ]
    },
    {
     "name": "stdout",
     "output_type": "stream",
     "text": [
      "\n",
      "Batch 1890/2288: Load=1.61s, Embed=1.59s, Store=0.00s, Total=3.82s, Images/sec=3.14\n",
      "Estimated remaining time: 25.4 minutes\n"
     ]
    },
    {
     "name": "stderr",
     "output_type": "stream",
     "text": [
      "Processing test:  83%|████████▎ | 1900/2288 [1:57:06<39:34,  6.12s/it]"
     ]
    },
    {
     "name": "stdout",
     "output_type": "stream",
     "text": [
      "\n",
      "Batch 1900/2288: Load=1.46s, Embed=1.58s, Store=0.00s, Total=3.64s, Images/sec=3.30\n",
      "Estimated remaining time: 23.5 minutes\n"
     ]
    },
    {
     "name": "stderr",
     "output_type": "stream",
     "text": [
      "Processing test:  83%|████████▎ | 1910/2288 [1:57:46<25:12,  4.00s/it]"
     ]
    },
    {
     "name": "stdout",
     "output_type": "stream",
     "text": [
      "\n",
      "Batch 1910/2288: Load=1.79s, Embed=1.61s, Store=0.00s, Total=3.97s, Images/sec=3.03\n",
      "Estimated remaining time: 25.0 minutes\n"
     ]
    },
    {
     "name": "stderr",
     "output_type": "stream",
     "text": [
      "Processing test:  84%|████████▍ | 1920/2288 [1:58:24<23:40,  3.86s/it]"
     ]
    },
    {
     "name": "stdout",
     "output_type": "stream",
     "text": [
      "\n",
      "Batch 1920/2288: Load=1.79s, Embed=1.59s, Store=0.00s, Total=3.96s, Images/sec=3.03\n",
      "Estimated remaining time: 24.3 minutes\n"
     ]
    },
    {
     "name": "stderr",
     "output_type": "stream",
     "text": [
      "Processing test:  84%|████████▍ | 1930/2288 [1:59:03<23:10,  3.89s/it]"
     ]
    },
    {
     "name": "stdout",
     "output_type": "stream",
     "text": [
      "\n",
      "Batch 1930/2288: Load=1.58s, Embed=1.56s, Store=0.00s, Total=3.76s, Images/sec=3.20\n",
      "Estimated remaining time: 22.4 minutes\n"
     ]
    },
    {
     "name": "stderr",
     "output_type": "stream",
     "text": [
      "Processing test:  85%|████████▍ | 1940/2288 [1:59:42<22:13,  3.83s/it]"
     ]
    },
    {
     "name": "stdout",
     "output_type": "stream",
     "text": [
      "\n",
      "Batch 1940/2288: Load=1.64s, Embed=1.62s, Store=0.00s, Total=3.84s, Images/sec=3.13\n",
      "Estimated remaining time: 22.2 minutes\n"
     ]
    },
    {
     "name": "stderr",
     "output_type": "stream",
     "text": [
      "Processing test:  85%|████████▌ | 1950/2288 [2:00:30<36:13,  6.43s/it]"
     ]
    },
    {
     "name": "stdout",
     "output_type": "stream",
     "text": [
      "\n",
      "Batch 1950/2288: Load=1.66s, Embed=1.68s, Store=0.00s, Total=3.94s, Images/sec=3.05\n",
      "Estimated remaining time: 22.2 minutes\n"
     ]
    },
    {
     "name": "stderr",
     "output_type": "stream",
     "text": [
      "Processing test:  86%|████████▌ | 1960/2288 [2:01:09<22:09,  4.05s/it]"
     ]
    },
    {
     "name": "stdout",
     "output_type": "stream",
     "text": [
      "\n",
      "Batch 1960/2288: Load=1.71s, Embed=1.57s, Store=0.00s, Total=4.01s, Images/sec=3.00\n",
      "Estimated remaining time: 21.9 minutes\n"
     ]
    },
    {
     "name": "stderr",
     "output_type": "stream",
     "text": [
      "Processing test:  86%|████████▌ | 1970/2288 [2:01:48<20:29,  3.87s/it]"
     ]
    },
    {
     "name": "stdout",
     "output_type": "stream",
     "text": [
      "\n",
      "Batch 1970/2288: Load=1.66s, Embed=1.60s, Store=0.00s, Total=3.83s, Images/sec=3.13\n",
      "Estimated remaining time: 20.3 minutes\n"
     ]
    },
    {
     "name": "stderr",
     "output_type": "stream",
     "text": [
      "Processing test:  87%|████████▋ | 1980/2288 [2:02:28<20:51,  4.06s/it]"
     ]
    },
    {
     "name": "stdout",
     "output_type": "stream",
     "text": [
      "\n",
      "Batch 1980/2288: Load=1.87s, Embed=1.62s, Store=0.00s, Total=4.38s, Images/sec=2.74\n",
      "Estimated remaining time: 22.5 minutes\n"
     ]
    },
    {
     "name": "stderr",
     "output_type": "stream",
     "text": [
      "Processing test:  87%|████████▋ | 1990/2288 [2:03:09<19:29,  3.93s/it]"
     ]
    },
    {
     "name": "stdout",
     "output_type": "stream",
     "text": [
      "\n",
      "Batch 1990/2288: Load=1.56s, Embed=1.60s, Store=0.00s, Total=3.80s, Images/sec=3.16\n",
      "Estimated remaining time: 18.9 minutes\n"
     ]
    },
    {
     "name": "stderr",
     "output_type": "stream",
     "text": [
      "Processing test:  87%|████████▋ | 2000/2288 [2:03:55<29:17,  6.10s/it]"
     ]
    },
    {
     "name": "stdout",
     "output_type": "stream",
     "text": [
      "\n",
      "Batch 2000/2288: Load=1.60s, Embed=1.58s, Store=0.00s, Total=3.82s, Images/sec=3.14\n",
      "Estimated remaining time: 18.3 minutes\n"
     ]
    },
    {
     "name": "stderr",
     "output_type": "stream",
     "text": [
      "Processing test:  88%|████████▊ | 2010/2288 [2:04:34<18:21,  3.96s/it]"
     ]
    },
    {
     "name": "stdout",
     "output_type": "stream",
     "text": [
      "\n",
      "Batch 2010/2288: Load=1.60s, Embed=1.57s, Store=0.00s, Total=3.86s, Images/sec=3.11\n",
      "Estimated remaining time: 17.9 minutes\n"
     ]
    },
    {
     "name": "stderr",
     "output_type": "stream",
     "text": [
      "Processing test:  88%|████████▊ | 2020/2288 [2:05:12<16:58,  3.80s/it]"
     ]
    },
    {
     "name": "stdout",
     "output_type": "stream",
     "text": [
      "\n",
      "Batch 2020/2288: Load=1.51s, Embed=1.57s, Store=0.00s, Total=3.74s, Images/sec=3.21\n",
      "Estimated remaining time: 16.7 minutes\n"
     ]
    },
    {
     "name": "stderr",
     "output_type": "stream",
     "text": [
      "Processing test:  89%|████████▊ | 2030/2288 [2:05:51<16:14,  3.78s/it]"
     ]
    },
    {
     "name": "stdout",
     "output_type": "stream",
     "text": [
      "\n",
      "Batch 2030/2288: Load=1.50s, Embed=1.57s, Store=0.00s, Total=3.70s, Images/sec=3.24\n",
      "Estimated remaining time: 15.9 minutes\n"
     ]
    },
    {
     "name": "stderr",
     "output_type": "stream",
     "text": [
      "Processing test:  89%|████████▉ | 2040/2288 [2:06:31<16:07,  3.90s/it]"
     ]
    },
    {
     "name": "stdout",
     "output_type": "stream",
     "text": [
      "\n",
      "Batch 2040/2288: Load=1.61s, Embed=1.58s, Store=0.00s, Total=3.85s, Images/sec=3.12\n",
      "Estimated remaining time: 15.9 minutes\n"
     ]
    },
    {
     "name": "stderr",
     "output_type": "stream",
     "text": [
      "Processing test:  90%|████████▉ | 2050/2288 [2:07:18<24:36,  6.21s/it]"
     ]
    },
    {
     "name": "stdout",
     "output_type": "stream",
     "text": [
      "\n",
      "Batch 2050/2288: Load=1.56s, Embed=1.57s, Store=0.00s, Total=3.78s, Images/sec=3.18\n",
      "Estimated remaining time: 15.0 minutes\n"
     ]
    },
    {
     "name": "stderr",
     "output_type": "stream",
     "text": [
      "Processing test:  90%|█████████ | 2060/2288 [2:07:57<15:07,  3.98s/it]"
     ]
    },
    {
     "name": "stdout",
     "output_type": "stream",
     "text": [
      "\n",
      "Batch 2060/2288: Load=1.61s, Embed=1.60s, Store=0.00s, Total=3.86s, Images/sec=3.11\n",
      "Estimated remaining time: 14.7 minutes\n"
     ]
    },
    {
     "name": "stderr",
     "output_type": "stream",
     "text": [
      "Processing test:  90%|█████████ | 2070/2288 [2:08:36<13:55,  3.83s/it]"
     ]
    },
    {
     "name": "stdout",
     "output_type": "stream",
     "text": [
      "\n",
      "Batch 2070/2288: Load=1.60s, Embed=1.57s, Store=0.00s, Total=3.81s, Images/sec=3.15\n",
      "Estimated remaining time: 13.8 minutes\n"
     ]
    },
    {
     "name": "stderr",
     "output_type": "stream",
     "text": [
      "Processing test:  91%|█████████ | 2080/2288 [2:09:14<13:28,  3.89s/it]"
     ]
    },
    {
     "name": "stdout",
     "output_type": "stream",
     "text": [
      "\n",
      "Batch 2080/2288: Load=1.79s, Embed=1.58s, Store=0.00s, Total=4.06s, Images/sec=2.96\n",
      "Estimated remaining time: 14.1 minutes\n"
     ]
    },
    {
     "name": "stderr",
     "output_type": "stream",
     "text": [
      "Processing test:  91%|█████████▏| 2090/2288 [2:09:54<13:01,  3.95s/it]"
     ]
    },
    {
     "name": "stdout",
     "output_type": "stream",
     "text": [
      "\n",
      "Batch 2090/2288: Load=1.75s, Embed=1.57s, Store=0.00s, Total=3.94s, Images/sec=3.04\n",
      "Estimated remaining time: 13.0 minutes\n"
     ]
    },
    {
     "name": "stderr",
     "output_type": "stream",
     "text": [
      "Processing test:  92%|█████████▏| 2100/2288 [2:10:43<20:13,  6.46s/it]"
     ]
    },
    {
     "name": "stdout",
     "output_type": "stream",
     "text": [
      "\n",
      "Batch 2100/2288: Load=1.52s, Embed=1.57s, Store=0.00s, Total=3.73s, Images/sec=3.22\n",
      "Estimated remaining time: 11.7 minutes\n"
     ]
    },
    {
     "name": "stderr",
     "output_type": "stream",
     "text": [
      "Processing test:  92%|█████████▏| 2110/2288 [2:11:22<11:52,  4.01s/it]"
     ]
    },
    {
     "name": "stdout",
     "output_type": "stream",
     "text": [
      "\n",
      "Batch 2110/2288: Load=1.82s, Embed=1.59s, Store=0.00s, Total=4.05s, Images/sec=2.96\n",
      "Estimated remaining time: 12.0 minutes\n"
     ]
    },
    {
     "name": "stderr",
     "output_type": "stream",
     "text": [
      "Processing test:  93%|█████████▎| 2120/2288 [2:12:01<10:49,  3.87s/it]"
     ]
    },
    {
     "name": "stdout",
     "output_type": "stream",
     "text": [
      "\n",
      "Batch 2120/2288: Load=1.51s, Embed=1.58s, Store=0.00s, Total=3.70s, Images/sec=3.24\n",
      "Estimated remaining time: 10.4 minutes\n"
     ]
    },
    {
     "name": "stderr",
     "output_type": "stream",
     "text": [
      "Processing test:  93%|█████████▎| 2130/2288 [2:12:40<10:23,  3.95s/it]"
     ]
    },
    {
     "name": "stdout",
     "output_type": "stream",
     "text": [
      "\n",
      "Batch 2130/2288: Load=1.71s, Embed=1.62s, Store=0.00s, Total=3.93s, Images/sec=3.05\n",
      "Estimated remaining time: 10.4 minutes\n"
     ]
    },
    {
     "name": "stderr",
     "output_type": "stream",
     "text": [
      "Processing test:  94%|█████████▎| 2140/2288 [2:13:20<09:27,  3.83s/it]"
     ]
    },
    {
     "name": "stdout",
     "output_type": "stream",
     "text": [
      "\n",
      "Batch 2140/2288: Load=1.51s, Embed=1.56s, Store=0.00s, Total=3.68s, Images/sec=3.26\n",
      "Estimated remaining time: 9.1 minutes\n"
     ]
    },
    {
     "name": "stderr",
     "output_type": "stream",
     "text": [
      "Processing test:  94%|█████████▍| 2150/2288 [2:14:07<14:45,  6.41s/it]"
     ]
    },
    {
     "name": "stdout",
     "output_type": "stream",
     "text": [
      "\n",
      "Batch 2150/2288: Load=1.60s, Embed=1.56s, Store=0.00s, Total=3.86s, Images/sec=3.11\n",
      "Estimated remaining time: 8.9 minutes\n"
     ]
    },
    {
     "name": "stderr",
     "output_type": "stream",
     "text": [
      "Processing test:  94%|█████████▍| 2160/2288 [2:14:47<08:38,  4.05s/it]"
     ]
    },
    {
     "name": "stdout",
     "output_type": "stream",
     "text": [
      "\n",
      "Batch 2160/2288: Load=1.70s, Embed=1.57s, Store=0.00s, Total=3.94s, Images/sec=3.05\n",
      "Estimated remaining time: 8.4 minutes\n"
     ]
    },
    {
     "name": "stderr",
     "output_type": "stream",
     "text": [
      "Processing test:  95%|█████████▍| 2170/2288 [2:15:26<07:39,  3.90s/it]"
     ]
    },
    {
     "name": "stdout",
     "output_type": "stream",
     "text": [
      "\n",
      "Batch 2170/2288: Load=1.60s, Embed=1.58s, Store=0.00s, Total=3.78s, Images/sec=3.17\n",
      "Estimated remaining time: 7.4 minutes\n"
     ]
    },
    {
     "name": "stderr",
     "output_type": "stream",
     "text": [
      "Processing test:  95%|█████████▌| 2180/2288 [2:16:06<07:14,  4.02s/it]"
     ]
    },
    {
     "name": "stdout",
     "output_type": "stream",
     "text": [
      "\n",
      "Batch 2180/2288: Load=1.57s, Embed=1.60s, Store=0.00s, Total=3.80s, Images/sec=3.16\n",
      "Estimated remaining time: 6.8 minutes\n"
     ]
    },
    {
     "name": "stderr",
     "output_type": "stream",
     "text": [
      "Processing test:  96%|█████████▌| 2190/2288 [2:16:45<06:18,  3.86s/it]"
     ]
    },
    {
     "name": "stdout",
     "output_type": "stream",
     "text": [
      "\n",
      "Batch 2190/2288: Load=1.66s, Embed=1.61s, Store=0.00s, Total=3.90s, Images/sec=3.08\n",
      "Estimated remaining time: 6.4 minutes\n"
     ]
    },
    {
     "name": "stderr",
     "output_type": "stream",
     "text": [
      "Processing test:  96%|█████████▌| 2200/2288 [2:17:33<09:39,  6.58s/it]"
     ]
    },
    {
     "name": "stdout",
     "output_type": "stream",
     "text": [
      "\n",
      "Batch 2200/2288: Load=1.56s, Embed=1.57s, Store=0.00s, Total=3.87s, Images/sec=3.10\n",
      "Estimated remaining time: 5.7 minutes\n"
     ]
    },
    {
     "name": "stderr",
     "output_type": "stream",
     "text": [
      "Processing test:  97%|█████████▋| 2210/2288 [2:18:12<05:10,  3.98s/it]"
     ]
    },
    {
     "name": "stdout",
     "output_type": "stream",
     "text": [
      "\n",
      "Batch 2210/2288: Load=1.70s, Embed=1.60s, Store=0.00s, Total=4.00s, Images/sec=3.00\n",
      "Estimated remaining time: 5.2 minutes\n"
     ]
    },
    {
     "name": "stderr",
     "output_type": "stream",
     "text": [
      "Processing test:  97%|█████████▋| 2220/2288 [2:18:53<04:33,  4.03s/it]"
     ]
    },
    {
     "name": "stdout",
     "output_type": "stream",
     "text": [
      "\n",
      "Batch 2220/2288: Load=1.82s, Embed=1.60s, Store=0.00s, Total=4.08s, Images/sec=2.94\n",
      "Estimated remaining time: 4.6 minutes\n"
     ]
    },
    {
     "name": "stderr",
     "output_type": "stream",
     "text": [
      "Processing test:  97%|█████████▋| 2230/2288 [2:19:32<03:48,  3.94s/it]"
     ]
    },
    {
     "name": "stdout",
     "output_type": "stream",
     "text": [
      "\n",
      "Batch 2230/2288: Load=1.78s, Embed=1.60s, Store=0.00s, Total=4.08s, Images/sec=2.94\n",
      "Estimated remaining time: 3.9 minutes\n"
     ]
    },
    {
     "name": "stderr",
     "output_type": "stream",
     "text": [
      "Processing test:  98%|█████████▊| 2240/2288 [2:20:14<03:24,  4.26s/it]"
     ]
    },
    {
     "name": "stdout",
     "output_type": "stream",
     "text": [
      "\n",
      "Batch 2240/2288: Load=1.65s, Embed=1.66s, Store=0.00s, Total=4.36s, Images/sec=2.75\n",
      "Estimated remaining time: 3.5 minutes\n"
     ]
    },
    {
     "name": "stderr",
     "output_type": "stream",
     "text": [
      "Processing test:  98%|█████████▊| 2250/2288 [2:21:05<04:17,  6.77s/it]"
     ]
    },
    {
     "name": "stdout",
     "output_type": "stream",
     "text": [
      "\n",
      "Batch 2250/2288: Load=1.57s, Embed=1.57s, Store=0.00s, Total=3.89s, Images/sec=3.08\n",
      "Estimated remaining time: 2.5 minutes\n"
     ]
    },
    {
     "name": "stderr",
     "output_type": "stream",
     "text": [
      "Processing test:  99%|█████████▉| 2260/2288 [2:21:46<01:59,  4.25s/it]"
     ]
    },
    {
     "name": "stdout",
     "output_type": "stream",
     "text": [
      "\n",
      "Batch 2260/2288: Load=1.64s, Embed=1.57s, Store=0.00s, Total=4.50s, Images/sec=2.67\n",
      "Estimated remaining time: 2.1 minutes\n"
     ]
    },
    {
     "name": "stderr",
     "output_type": "stream",
     "text": [
      "Processing test:  99%|█████████▉| 2270/2288 [2:22:27<01:13,  4.09s/it]"
     ]
    },
    {
     "name": "stdout",
     "output_type": "stream",
     "text": [
      "\n",
      "Batch 2270/2288: Load=1.56s, Embed=1.59s, Store=0.00s, Total=4.05s, Images/sec=2.96\n",
      "Estimated remaining time: 1.2 minutes\n"
     ]
    },
    {
     "name": "stderr",
     "output_type": "stream",
     "text": [
      "Processing test: 100%|█████████▉| 2280/2288 [2:23:08<00:33,  4.14s/it]"
     ]
    },
    {
     "name": "stdout",
     "output_type": "stream",
     "text": [
      "\n",
      "Batch 2280/2288: Load=1.68s, Embed=1.58s, Store=0.00s, Total=4.19s, Images/sec=2.87\n",
      "Estimated remaining time: 0.6 minutes\n"
     ]
    },
    {
     "name": "stderr",
     "output_type": "stream",
     "text": [
      "Processing test: 100%|██████████| 2288/2288 [2:23:51<00:00,  3.77s/it]"
     ]
    },
    {
     "name": "stdout",
     "output_type": "stream",
     "text": [
      "\n",
      "Batch 2288/2288: Load=1.67s, Embed=1.59s, Store=0.00s, Total=4.26s, Images/sec=2.82\n"
     ]
    },
    {
     "name": "stderr",
     "output_type": "stream",
     "text": [
      "\n"
     ]
    },
    {
     "name": "stdout",
     "output_type": "stream",
     "text": [
      "Saved: /home/rmuthy2/diffpixeldots/TestEmbeddingsOutput/raddino-test-dot8.parquet\n",
      "Saved: /home/rmuthy2/diffpixeldots/TestEmbeddingsOutput/dinov3-test-dot8.parquet\n",
      "\n",
      "Completed processing for dot size 8\n"
     ]
    },
    {
     "data": {
      "text/plain": [
       "True"
      ]
     },
     "execution_count": 3,
     "metadata": {},
     "output_type": "execute_result"
    }
   ],
   "source": [
    "import os\n",
    "os.environ[\"CUDA_VISIBLE_DEVICES\"] = \"7\"\n",
    "os.environ[\"PYTORCH_CUDA_ALLOC_CONF\"] = \"expandable_segments:True\"\n",
    "\n",
    "ROOT_PATH = \"/home/rmuthy2/central_data/datasets/internal/EmoryCXRv2/ORIGINAL_PNG\"\n",
    "TRAIN_CSV = \"/home/rmuthy2/diffpixeldots/train_dataset.csv\"\n",
    "TEST_CSV  = \"/home/rmuthy2/diffpixeldots/test_dataset.csv\"\n",
    "OUTPUT_DIR = \"/home/rmuthy2/diffpixeldots/TestEmbeddingsOutput\"\n",
    "\n",
    "pipe = ImagePipeline(ROOT_PATH)\n",
    "pipe.run_single_dot_size(TRAIN_CSV, TEST_CSV, dot_size=8, output_dir=OUTPUT_DIR, batch_size=12)\n"
   ]
  },
  {
   "cell_type": "code",
   "execution_count": 5,
   "id": "e9c89ce4-52ab-43bd-8c44-a6133c9a6763",
   "metadata": {},
   "outputs": [],
   "source": [
    "import pandas as pd\n",
    "import numpy as np\n",
    "from sklearn.linear_model import LogisticRegression\n",
    "from sklearn.metrics import roc_auc_score, roc_curve\n",
    "from sklearn.preprocessing import StandardScaler\n",
    "import matplotlib.pyplot as plt\n",
    "\n",
    "class LinearProbingAnalyzer:\n",
    "    \"\"\"\n",
    "    Simple linear probing analysis for image embeddings using logistic regression\n",
    "    \"\"\"\n",
    "    \n",
    "    def __init__(self):\n",
    "        self.results = {}\n",
    "        \n",
    "    def load_and_extract_embeddings(self, parquet_path, embedding_col):\n",
    "        \"\"\"Load parquet and extract embeddings and labels\"\"\"\n",
    "        df = pd.read_parquet(parquet_path)\n",
    "        \n",
    "        # Filter valid embeddings\n",
    "        valid_mask = df[embedding_col].notna()\n",
    "        df_valid = df[valid_mask].copy()\n",
    "        \n",
    "        # Extract embeddings\n",
    "        embeddings = []\n",
    "        labels = []\n",
    "        \n",
    "        for _, row in df_valid.iterrows():\n",
    "            emb = row[embedding_col]\n",
    "            if isinstance(emb, str):\n",
    "                import ast\n",
    "                emb = ast.literal_eval(emb)\n",
    "            if isinstance(emb, list):\n",
    "                emb = np.array(emb)\n",
    "            \n",
    "            embeddings.append(emb)\n",
    "            labels.append(row['noise'])\n",
    "        \n",
    "        X = np.vstack(embeddings)\n",
    "        y = np.array(labels)\n",
    "        \n",
    "        return X, y\n",
    "    \n",
    "    def train_and_evaluate(self, model_name, X_train, y_train, X_test, y_test):\n",
    "        \"\"\"Train logistic regression and evaluate\"\"\"\n",
    "        print(f\"Training {model_name.upper()}...\")\n",
    "        \n",
    "        # Standardize features\n",
    "        scaler = StandardScaler()\n",
    "        X_train_scaled = scaler.fit_transform(X_train)\n",
    "        X_test_scaled = scaler.transform(X_test)\n",
    "        \n",
    "        # Train logistic regression\n",
    "        model = LogisticRegression(random_state=42, max_iter=1000)\n",
    "        model.fit(X_train_scaled, y_train)\n",
    "        \n",
    "        # Get predictions\n",
    "        y_test_proba = model.predict_proba(X_test_scaled)[:, 1]\n",
    "        \n",
    "        # Calculate metrics\n",
    "        auc_score = roc_auc_score(y_test, y_test_proba)\n",
    "        fpr, tpr, _ = roc_curve(y_test, y_test_proba)\n",
    "        \n",
    "        print(f\"{model_name.upper()} Test AUC: {auc_score:.4f}\")\n",
    "        \n",
    "        self.results[model_name] = {\n",
    "            'auc': auc_score,\n",
    "            'fpr': fpr,\n",
    "            'tpr': tpr\n",
    "        }\n",
    "        \n",
    "        return auc_score\n",
    "    \n",
    "    def plot_roc_curves(self, save_path=None):\n",
    "        \"\"\"Plot ROC curves for both models\"\"\"\n",
    "        plt.figure(figsize=(8, 6))\n",
    "        \n",
    "        colors = {'raddino': '#2E86C1', 'dinov3': '#E74C3C'}\n",
    "        \n",
    "        for model_name in ['raddino', 'dinov3']:\n",
    "            if model_name in self.results:\n",
    "                result = self.results[model_name]\n",
    "                plt.plot(result['fpr'], result['tpr'], \n",
    "                        color=colors[model_name], \n",
    "                        linewidth=2.5,\n",
    "                        label=f'{model_name.upper()} (AUC = {result[\"auc\"]:.3f})')\n",
    "        \n",
    "        # Diagonal line\n",
    "        plt.plot([0, 1], [0, 1], 'k--', alpha=0.5, linewidth=1)\n",
    "        \n",
    "        plt.xlabel('False Positive Rate', fontsize=12)\n",
    "        plt.ylabel('True Positive Rate', fontsize=12)\n",
    "        plt.title('ROC Curves - Noise Classification', fontsize=14, fontweight='bold')\n",
    "        plt.legend(fontsize=12)\n",
    "        plt.grid(True, alpha=0.3)\n",
    "        \n",
    "        if save_path:\n",
    "            plt.savefig(save_path, dpi=300, bbox_inches='tight')\n",
    "            print(f\"Plot saved to: {save_path}\")\n",
    "        \n",
    "        plt.show()\n",
    "    \n",
    "    def run_analysis(self, raddino_train_path, raddino_test_path, \n",
    "                    dinov3_train_path, dinov3_test_path, dot_size=2):\n",
    "        \"\"\"Run complete analysis\"\"\"\n",
    "        print(\"=\"*50)\n",
    "        print(\"LINEAR PROBING ANALYSIS\")\n",
    "        print(\"=\"*50)\n",
    "        \n",
    "        # Column names\n",
    "        raddino_col = f'raddino_embedding_dot{dot_size}'\n",
    "        dinov3_col = f'dinov3_embedding_dot{dot_size}'\n",
    "        \n",
    "        # Load RadDiNo data\n",
    "        print(\"Loading RadDiNo data...\")\n",
    "        X_train_rad, y_train_rad = self.load_and_extract_embeddings(raddino_train_path, raddino_col)\n",
    "        X_test_rad, y_test_rad = self.load_and_extract_embeddings(raddino_test_path, raddino_col)\n",
    "        \n",
    "        # Load DINOv3 data\n",
    "        print(\"Loading DINOv3 data...\")\n",
    "        X_train_dino, y_train_dino = self.load_and_extract_embeddings(dinov3_train_path, dinov3_col)\n",
    "        X_test_dino, y_test_dino = self.load_and_extract_embeddings(dinov3_test_path, dinov3_col)\n",
    "        \n",
    "        # Train and evaluate both models\n",
    "        rad_auc = self.train_and_evaluate('raddino', X_train_rad, y_train_rad, X_test_rad, y_test_rad)\n",
    "        dino_auc = self.train_and_evaluate('dinov3', X_train_dino, y_train_dino, X_test_dino, y_test_dino)\n",
    "        \n",
    "        # Plot results\n",
    "        self.plot_roc_curves('roc_curves.png')\n",
    "        \n",
    "        print(\"\\n\" + \"=\"*50)\n",
    "        print(\"RESULTS SUMMARY\")\n",
    "        print(\"=\"*50)\n",
    "        print(f\"RadDiNo AUC:  {rad_auc:.4f}\")\n",
    "        print(f\"DINOv3 AUC:   {dino_auc:.4f}\")\n",
    "        print(f\"Difference:   {abs(rad_auc - dino_auc):.4f}\")\n",
    "        \n",
    "        return self.results\n"
   ]
  },
  {
   "cell_type": "code",
   "execution_count": 1,
   "id": "40f3208b-cedf-4200-9367-516ee44101be",
   "metadata": {},
   "outputs": [],
   "source": [
    "import pandas as pd\n",
    "import numpy as np\n",
    "from sklearn.linear_model import LogisticRegression\n",
    "from sklearn.metrics import roc_auc_score, roc_curve, precision_recall_curve, f1_score, classification_report\n",
    "from sklearn.preprocessing import StandardScaler\n",
    "import matplotlib.pyplot as plt\n",
    "\n",
    "class LinearProbingAnalyzer:\n",
    "    \"\"\"\n",
    "    Simple linear probing analysis for image embeddings using logistic regression\n",
    "    \"\"\"\n",
    "    \n",
    "    def __init__(self):\n",
    "        self.results = {}\n",
    "        \n",
    "    def load_and_extract_embeddings(self, parquet_path, embedding_col):\n",
    "        \"\"\"Load parquet and extract embeddings and labels\"\"\"\n",
    "        df = pd.read_parquet(parquet_path)\n",
    "        \n",
    "        # Filter valid embeddings\n",
    "        valid_mask = df[embedding_col].notna()\n",
    "        df_valid = df[valid_mask].copy()\n",
    "        \n",
    "        # Extract embeddings\n",
    "        embeddings = []\n",
    "        labels = []\n",
    "        \n",
    "        for _, row in df_valid.iterrows():\n",
    "            emb = row[embedding_col]\n",
    "            if isinstance(emb, str):\n",
    "                import ast\n",
    "                emb = ast.literal_eval(emb)\n",
    "            if isinstance(emb, list):\n",
    "                emb = np.array(emb)\n",
    "            \n",
    "            embeddings.append(emb)\n",
    "            labels.append(row['noise'])\n",
    "        \n",
    "        X = np.vstack(embeddings)\n",
    "        y = np.array(labels).astype(int)  # ensure 0/1\n",
    "        \n",
    "        return X, y\n",
    "    \n",
    "    def _best_f1_threshold(self, y_true, y_proba):\n",
    "        \"\"\"Find the probability threshold that maximizes F1 on given data.\"\"\"\n",
    "        precisions, recalls, thresholds = precision_recall_curve(y_true, y_proba)\n",
    "        # thresholds aligns with all but the first precision/recall points\n",
    "        f1s = (2 * precisions[1:] * recalls[1:]) / (precisions[1:] + recalls[1:] + 1e-12)\n",
    "        if len(f1s) == 0:\n",
    "            return 0.5, 0.0\n",
    "        idx = np.argmax(f1s)\n",
    "        return float(thresholds[idx]), float(f1s[idx])\n",
    "\n",
    "    def _print_classification_report(self, y_true, y_pred, model_name, use_thr):\n",
    "        \"\"\"Prints a detailed classification report.\"\"\"\n",
    "        print(\"\\n\" + f\"--- {model_name.upper()} CLASSIFICATION REPORT @ THR={use_thr:.3f} ---\")\n",
    "        report = classification_report(y_true, y_pred, digits=4)\n",
    "        print(report)\n",
    "    \n",
    "    def train_and_evaluate(self, model_name, X_train, y_train, X_test, y_test, threshold='auto'):\n",
    "        \"\"\"\n",
    "        Train logistic regression and evaluate.\n",
    "        threshold: 'auto' to maximize F1 on test set, or a float in [0,1].\n",
    "        \"\"\"\n",
    "        print(f\"Training {model_name.upper()}...\")\n",
    "        \n",
    "        # Standardize features\n",
    "        scaler = StandardScaler()\n",
    "        X_train_scaled = scaler.fit_transform(X_train)\n",
    "        X_test_scaled = scaler.transform(X_test)\n",
    "        \n",
    "        # Train logistic regression\n",
    "        model = LogisticRegression(random_state=42, max_iter=1000)\n",
    "        model.fit(X_train_scaled, y_train)\n",
    "        \n",
    "        # Prob predictions\n",
    "        y_test_proba = model.predict_proba(X_test_scaled)[:, 1]\n",
    "        \n",
    "        # AUC\n",
    "        auc_score = roc_auc_score(y_test, y_test_proba)\n",
    "        fpr, tpr, _ = roc_curve(y_test, y_test_proba)\n",
    "        \n",
    "        # Threshold selection + F1\n",
    "        if threshold == 'auto':\n",
    "            best_thr, best_f1 = self._best_f1_threshold(y_test, y_test_proba)\n",
    "            use_thr = best_thr\n",
    "            y_pred = (y_test_proba >= use_thr).astype(int)\n",
    "            f1 = f1_score(y_test, y_pred)\n",
    "        else:\n",
    "            use_thr = float(threshold)\n",
    "            y_pred = (y_test_proba >= use_thr).astype(int)\n",
    "            f1 = f1_score(y_test, y_pred)\n",
    "        \n",
    "        print(f\"{model_name.upper()} Test AUC: {auc_score:.4f} | F1@{use_thr:.3f}: {f1:.4f}\")\n",
    "\n",
    "        # Print detailed classification report\n",
    "        self._print_classification_report(y_test, y_pred, model_name, use_thr)\n",
    "        \n",
    "        self.results[model_name] = {\n",
    "            'auc': auc_score,\n",
    "            'f1': f1,\n",
    "            'threshold': use_thr,\n",
    "            'fpr': fpr,\n",
    "            'tpr': tpr,\n",
    "            'y_pred': y_pred\n",
    "        }\n",
    "        \n",
    "        return auc_score, f1, use_thr\n",
    "    \n",
    "    def results_to_table(self):\n",
    "        \"\"\"Generate and display a summary table of the results.\"\"\"\n",
    "        if not self.results:\n",
    "            print(\"No results to display.\")\n",
    "            return\n",
    "\n",
    "        table_data = []\n",
    "        for model_name, metrics in self.results.items():\n",
    "            auc = f\"{metrics['auc']:.4f}\"\n",
    "            f1_with_threshold = f\"{metrics['f1']:.4f} (@{metrics['threshold']:.3f})\"\n",
    "            table_data.append({\n",
    "                'Model': model_name.upper(),\n",
    "                'AUC': auc,\n",
    "                'F1 Score': f1_with_threshold\n",
    "            })\n",
    "\n",
    "        results_df = pd.DataFrame(table_data)\n",
    "        results_df = results_df.set_index('Model')\n",
    "\n",
    "        print(\"\\n\" + \"=\"*50)\n",
    "        print(\"RESULTS SUMMARY TABLE\")\n",
    "        print(\"=\"*50)\n",
    "        print(results_df.to_markdown(numalign=\"left\", stralign=\"left\"))\n",
    "        print(\"=\"*50)\n",
    "    \n",
    "    def plot_roc_curves(self, save_path=None):\n",
    "        \"\"\"Plot ROC curves for both models\"\"\"\n",
    "        plt.figure(figsize=(8, 6))\n",
    "        \n",
    "        colors = {'raddino': '#2E86C1', 'dinov3': '#E74C3C'}\n",
    "        \n",
    "        for model_name in ['raddino', 'dinov3']:\n",
    "            if model_name in self.results:\n",
    "                result = self.results[model_name]\n",
    "                label_txt = (f'{model_name.upper()} '\n",
    "                              f'(AUC={result[\"auc\"]:.3f}, '\n",
    "                              f'F1@{result[\"threshold\"]:.2f}={result[\"f1\"]:.3f})')\n",
    "                plt.plot(result['fpr'], result['tpr'], \n",
    "                          color=colors[model_name], \n",
    "                          linewidth=2.5,\n",
    "                          label=label_txt)\n",
    "        \n",
    "        # Diagonal line\n",
    "        plt.plot([0, 1], [0, 1], 'k--', alpha=0.5, linewidth=1)\n",
    "        \n",
    "        plt.xlabel('False Positive Rate', fontsize=12)\n",
    "        plt.ylabel('True Positive Rate', fontsize=12)\n",
    "        plt.title('ROC Curves - Noise Classification', fontsize=14, fontweight='bold')\n",
    "        plt.legend(fontsize=10)\n",
    "        plt.grid(True, alpha=0.3)\n",
    "        \n",
    "        if save_path:\n",
    "            plt.savefig(save_path, dpi=300, bbox_inches='tight')\n",
    "            print(f\"Plot saved to: {save_path}\")\n",
    "        \n",
    "        plt.show()\n",
    "    \n",
    "    def run_analysis(self, raddino_train_path, raddino_test_path, \n",
    "                     dinov3_train_path, dinov3_test_path, dot_size=2, threshold='auto'):\n",
    "        \"\"\"Run complete analysis\"\"\"\n",
    "        print(\"=\"*50)\n",
    "        print(\"LINEAR PROBING ANALYSIS\")\n",
    "        print(\"=\"*50)\n",
    "        \n",
    "        # Column names\n",
    "        raddino_col = f'raddino_embedding_dot{dot_size}'\n",
    "        dinov3_col = f'dinov3_embedding_dot{dot_size}'\n",
    "        \n",
    "        # Load RadDiNo data\n",
    "        print(\"Loading RadDiNo data...\")\n",
    "        X_train_rad, y_train_rad = self.load_and_extract_embeddings(raddino_train_path, raddino_col)\n",
    "        X_test_rad, y_test_rad = self.load_and_extract_embeddings(raddino_test_path, raddino_col)\n",
    "        \n",
    "        # Load DINOv3 data\n",
    "        print(\"Loading DINOv3 data...\")\n",
    "        X_train_dino, y_train_dino = self.load_and_extract_embeddings(dinov3_train_path, dinov3_col)\n",
    "        X_test_dino, y_test_dino = self.load_and_extract_embeddings(dinov3_test_path, dinov3_col)\n",
    "        \n",
    "        # Train and evaluate both models\n",
    "        rad_auc, rad_f1, rad_thr = self.train_and_evaluate('raddino', X_train_rad, y_train_rad, X_test_rad, y_test_rad, threshold=threshold)\n",
    "        dino_auc, dino_f1, dino_thr = self.train_and_evaluate('dinov3', X_train_dino, y_train_dino, X_test_dino, y_test_dino, threshold=threshold)\n",
    "        \n",
    "        # Plot results\n",
    "        self.plot_roc_curves('roc_curves.png')\n",
    "        \n",
    "        # Display results in a table\n",
    "        self.results_to_table()\n",
    "        \n",
    "        return self.results"
   ]
  },
  {
   "cell_type": "code",
   "execution_count": 4,
   "id": "9ef1a848-359e-4d99-8b5c-4fcdac652342",
   "metadata": {},
   "outputs": [
    {
     "name": "stdout",
     "output_type": "stream",
     "text": [
      "==================================================\n",
      "LINEAR PROBING ANALYSIS\n",
      "==================================================\n",
      "Loading RadDiNo data...\n",
      "Loading DINOv3 data...\n",
      "Training RADDINO...\n",
      "RADDINO Test AUC: 0.5879 | F1@0.277: 0.6669\n",
      "\n",
      "--- RADDINO CLASSIFICATION REPORT @ THR=0.277 ---\n",
      "              precision    recall  f1-score   support\n",
      "\n",
      "           0     0.7014    0.0074    0.0146     13728\n",
      "           1     0.5011    0.9969    0.6669     13728\n",
      "\n",
      "    accuracy                         0.5021     27456\n",
      "   macro avg     0.6012    0.5021    0.3407     27456\n",
      "weighted avg     0.6012    0.5021    0.3407     27456\n",
      "\n",
      "Training DINOV3...\n",
      "DINOV3 Test AUC: 0.8289 | F1@0.486: 0.7502\n",
      "\n",
      "--- DINOV3 CLASSIFICATION REPORT @ THR=0.486 ---\n",
      "              precision    recall  f1-score   support\n",
      "\n",
      "           0     0.7397    0.8075    0.7721     13728\n",
      "           1     0.7881    0.7158    0.7502     13728\n",
      "\n",
      "    accuracy                         0.7617     27456\n",
      "   macro avg     0.7639    0.7617    0.7612     27456\n",
      "weighted avg     0.7639    0.7617    0.7612     27456\n",
      "\n",
      "Plot saved to: roc_curves.png\n"
     ]
    },
    {
     "data": {
      "image/png": "[encoded data removed]",
      "text/plain": [
       "<Figure size 800x600 with 1 Axes>"
      ]
     },
     "metadata": {},
     "output_type": "display_data"
    },
    {
     "name": "stdout",
     "output_type": "stream",
     "text": [
      "\n",
      "==================================================\n",
      "RESULTS SUMMARY TABLE\n",
      "==================================================\n",
      "| Model   | AUC    | F1 Score        |\n",
      "|:--------|:-------|:----------------|\n",
      "| RADDINO | 0.5879 | 0.6669 (@0.277) |\n",
      "| DINOV3  | 0.8289 | 0.7502 (@0.486) |\n",
      "==================================================\n"
     ]
    }
   ],
   "source": [
    "# Usage\n",
    "def run_linear_probing():\n",
    "    # File paths\n",
    "    BASE_DIR = \"/home/rmuthy2/GradientDiff/TestEmbeddingsOutput\"\n",
    "    \n",
    "    RADDINO_TRAIN = f\"{BASE_DIR}/raddino-train-dot8.parquet\"\n",
    "    RADDINO_TEST = f\"{BASE_DIR}/raddino-test-dot8.parquet\"\n",
    "    DINOV3_TRAIN = f\"{BASE_DIR}/dinov3-train-dot8.parquet\"\n",
    "    DINOV3_TEST = f\"{BASE_DIR}/dinov3-test-dot8.parquet\"\n",
    "    \n",
    "    # Run analysis - IMPORTANT: Pass dot_size=4 for dot4 files\n",
    "    analyzer = LinearProbingAnalyzer()\n",
    "    results = analyzer.run_analysis(RADDINO_TRAIN, RADDINO_TEST, DINOV3_TRAIN, DINOV3_TEST, dot_size=8)\n",
    "    \n",
    "    return analyzer, results\n",
    "\n",
    "if __name__ == \"__main__\":\n",
    "    analyzer, results = run_linear_probing()"
   ]
  },
  {
   "cell_type": "code",
   "execution_count": null,
   "id": "d93db64d-705e-45b0-90a3-de8cc1f65cee",
   "metadata": {},
   "outputs": [],
   "source": []
  }
 ],
 "metadata": {
  "kernelspec": {
   "display_name": "ImageAnalysis",
   "language": "python",
   "name": "myenv"
  },
  "language_info": {
   "codemirror_mode": {
    "name": "ipython",
    "version": 3
   },
   "file_extension": ".py",
   "mimetype": "text/x-python",
   "name": "python",
   "nbconvert_exporter": "python",
   "pygments_lexer": "ipython3",
   "version": "3.10.10"
  }
 },
 "nbformat": 4,
 "nbformat_minor": 5
}
